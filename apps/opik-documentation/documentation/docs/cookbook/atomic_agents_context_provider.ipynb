{
 "cells": [
  {
   "cell_type": "markdown",
   "metadata": {},
   "source": [
    "# Atomic Agents + Opik – Context-Provider Demo\n",
    "\n",
    "\n",
    "\n",
    "This tutorial demonstrates how to use `OpikContextProvider` to inject current trace\n",
    "\n",
    "information into agent prompts for better observability and debugging.\n",
    "\n",
    "\n",
    "\n",
    "**Key Concepts:**\n",
    "\n",
    "* Context providers inject trace metadata into system prompts\n",
    "\n",
    "* This allows agents to reference their execution context\n",
    "\n",
    "* Useful for multi-agent workflows and debugging\n",
    "\n",
    "\n",
    "**Simple Workflow:**\n",
    "\n",
    "1. `MainAgent` – processes user requests and may call a specialist\n",
    "\n",
    "2. `SpecialistAgent` – handles specific domain questions\n",
    "\n",
    "3. Both agents can access the current trace ID through their context provider"
   ]
  },
  {
   "cell_type": "markdown",
   "metadata": {},
   "source": [
    "## Installation\n",
    "\n",
    "```bash\n",
    "\n",
    "pip install \"opik[atomic_agents]\" atomic-agents instructor\n",
    "\n",
    "```"
   ]
  },
  {
   "cell_type": "code",
   "execution_count": 66,
   "metadata": {},
   "outputs": [],
   "source": [
    "from typing import Optional\n",
    "\n",
    "from pydantic import Field\n",
    "from instructor.client import Instructor\n",
    "\n",
    "from atomic_agents.agents.base_agent import (\n",
    "    BaseAgent as BaseChatAgent,\n",
    "    BaseAgentConfig as BaseChatAgentConfig,\n",
    ")\n",
    "from atomic_agents.lib.base.base_io_schema import BaseIOSchema\n",
    "\n",
    "from opik.integrations.atomic_agents import track_atomic_agents, OpikContextProvider\n",
    "from opik import context_storage\n",
    "\n"
   ]
  },
  {
   "cell_type": "markdown",
   "metadata": {},
   "source": [
    "And now, to activate tracing with an one-liner, we execute"
   ]
  },
  {
   "cell_type": "code",
   "execution_count": 67,
   "metadata": {},
   "outputs": [],
   "source": [
    "track_atomic_agents(project_name=\"context-provider-demo\")"
   ]
  },
  {
   "cell_type": "markdown",
   "metadata": {},
   "source": [
    "## Defining an Atomic Agent"
   ]
  },
  {
   "cell_type": "markdown",
   "metadata": {},
   "source": [
    "We first start by defining the input and output schemas of an agent, as illustrated in:"
   ]
  },
  {
   "cell_type": "code",
   "execution_count": 68,
   "metadata": {},
   "outputs": [],
   "source": [
    "class UserQuery(BaseIOSchema):\n",
    "    \"\"\"User question schema\"\"\"\n",
    "    message: str = Field(..., description=\"User question or request\")\n",
    "\n",
    "\n",
    "class AgentResponse(BaseIOSchema):\n",
    "    \"\"\"Agent response schema\"\"\"\n",
    "    message: str = Field(..., description=\"Agent response\")\n",
    "    trace_context: Optional[str] = Field(None, description=\"Current trace context for debugging\")\n",
    "\n"
   ]
  },
  {
   "cell_type": "markdown",
   "metadata": {},
   "source": [
    "and then we can create a minimal agent simply via:"
   ]
  },
  {
   "cell_type": "code",
   "execution_count": 69,
   "metadata": {},
   "outputs": [],
   "source": [
    "from atomic_agents.agents.base_agent import BaseAgentConfig\n",
    "\n",
    "\n",
    "class MainAgent(BaseChatAgent):\n",
    "    \"\"\"Main agent\"\"\"\n",
    "    \n",
    "    input_schema = UserQuery\n",
    "    output_schema = AgentResponse\n",
    "\n",
    "dummy_instructor_client = Instructor(\n",
    "    client=None,\n",
    "    create=lambda **kwargs: UserQuery(chat_message=\"Echo: Hello Atomic Agents!\"),\n",
    ")\n",
    "\n",
    "agent = MainAgent(\n",
    "    config=BaseChatAgentConfig(model=\"gpt-3.5-turbo\", client=dummy_instructor_client),\n",
    ")"
   ]
  },
  {
   "cell_type": "markdown",
   "metadata": {},
   "source": [
    "We then switch our attention to demonstrating what is the information that the context provider injects to the system prompt."
   ]
  },
  {
   "cell_type": "code",
   "execution_count": null,
   "metadata": {},
   "outputs": [
    {
     "name": "stdout",
     "output_type": "stream",
     "text": [
      "=== OpikContextProvider Demonstration ===\n",
      "\n",
      "1. Basic Context Provider:\n",
      "   Without trace_id: ''\n",
      "\n",
      "   With trace_id: \n",
      "'[Opik Trace Info]\n",
      "trace_id: trace-12345\n",
      "project:  demo-project'\n",
      "\n",
      "2. Context Provider with Metadata:\n",
      "   Full context:\n",
      "[Opik Trace Info]\n",
      "trace_id: 6vsfr1sf1r490\n",
      "project:  demo-project\n",
      "agent_role: specialist\n",
      "workflow_type: delegation\n",
      "user_id: user-123\n",
      "\n",
      "3. System Prompt Injection Example:\n",
      "   When an agent uses this context provider, this information\n",
      "   gets automatically injected into the system prompt:\n",
      "   ```\n",
      "   [Opik Trace Info]\n",
      "trace_id: 6vsfr1sf1r490\n",
      "project:  demo-project\n",
      "agent_role: specialist\n",
      "workflow_type: delegation\n",
      "user_id: user-123\n",
      "   ```\n"
     ]
    }
   ],
   "source": [
    "def demonstrate_context_provider():\n",
    "    \"\"\"Demonstrate context provider functionality with mock trace data\"\"\"\n",
    "    \n",
    "    print(\"=== OpikContextProvider Demonstration ===\\n\")\n",
    "    \n",
    "    print(\"1. Basic Context Provider:\")\n",
    "    basic_provider = OpikContextProvider(project_name=\"demo-project\")\n",
    "    print(f\"   Without trace_id: '{basic_provider.get_info()}'\\n\")\n",
    "    \n",
    "    basic_provider.set_trace_id(\"trace-12345\")\n",
    "    print(f\"   With trace_id: \\n'{basic_provider.get_info()}'\")\n",
    "    \n",
    "    print(\"\\n2. Context Provider with Metadata:\")\n",
    "    advanced_provider = OpikContextProvider(\n",
    "        project_name=\"demo-project\",\n",
    "        trace_id=\"6vsfr1sf1r490\",\n",
    "        include_metadata=True,\n",
    "        metadata={\n",
    "            \"agent_role\": \"specialist\",\n",
    "            \"workflow_type\": \"delegation\",\n",
    "            \"user_id\": \"user-123\"\n",
    "        }\n",
    "    )\n",
    "    print(f\"   Full context:\\n{advanced_provider.get_info()}\")\n",
    "    \n",
    "    print(\"\\n3. System Prompt Injection Example:\")\n",
    "    print(\"   When an agent uses this context provider, this information\")\n",
    "    print(\"   gets automatically injected into the system prompt:\")\n",
    "    print(\"   ```\")\n",
    "    print(f\"   {advanced_provider.get_info()}\")\n",
    "    print(\"   ```\")\n",
    "\n",
    "    return basic_provider, advanced_provider\n",
    "\n",
    "_, advanced_provider = demonstrate_context_provider()"
   ]
  },
  {
   "cell_type": "markdown",
   "metadata": {},
   "source": [
    "Finally, as per the Atomic Agents API, we may enable a context provider in the following way:"
   ]
  },
  {
   "cell_type": "code",
   "execution_count": null,
   "metadata": {},
   "outputs": [
    {
     "ename": "NameError",
     "evalue": "name 'context_provider' is not defined",
     "output_type": "error",
     "traceback": [
      "\u001b[0;31m---------------------------------------------------------------------------\u001b[0m",
      "\u001b[0;31mNameError\u001b[0m                                 Traceback (most recent call last)",
      "Cell \u001b[0;32mIn[71], line 1\u001b[0m\n\u001b[0;32m----> 1\u001b[0m agent\u001b[38;5;241m.\u001b[39mregister_context_provider(\u001b[38;5;124m\"\u001b[39m\u001b[38;5;124mopik_context\u001b[39m\u001b[38;5;124m\"\u001b[39m, \u001b[43mcontext_provider\u001b[49m)\n",
      "\u001b[0;31mNameError\u001b[0m: name 'context_provider' is not defined"
     ]
    }
   ],
   "source": [
    "\n",
    "agent.register_context_provider(\"opik_context\", advanced_provider)"
   ]
  }
 ],
 "metadata": {
  "kernelspec": {
   "display_name": ".venv",
   "language": "python",
   "name": "python3"
  },
  "language_info": {
   "codemirror_mode": {
    "name": "ipython",
    "version": 3
   },
   "file_extension": ".py",
   "mimetype": "text/x-python",
   "name": "python",
   "nbconvert_exporter": "python",
   "pygments_lexer": "ipython3",
   "version": "3.10.12"
  }
 },
 "nbformat": 4,
 "nbformat_minor": 2
}
