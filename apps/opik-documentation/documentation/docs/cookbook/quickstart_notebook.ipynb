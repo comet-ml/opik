{
 "cells": [
  {
   "cell_type": "markdown",
   "metadata": {},
   "source": [
    "# Quickstart notebook - Summarization task\n",
    "\n",
    "In this notebook, we will look at how you can use Opik to track your LLM calls, chains and agents. We will introduce the concept of tracing and how to automate the evaluation of your LLM workflows.\n",
    "\n",
    "We will be using a technique called Chain of Density Summarization to summarize Arxiv papers. You can learn more about this technique in the [From Sparse to Dense: GPT-4 Summarization with Chain of Density Prompting](https://arxiv.org/abs/2309.04269) paper."
   ]
  },
  {
   "cell_type": "markdown",
   "metadata": {},
   "source": [
    "## Getting started\n",
    "\n",
    "We will first install the required dependencies and configure both Opik and OpenAI."
   ]
  },
  {
   "cell_type": "code",
   "execution_count": 1,
   "metadata": {},
   "outputs": [
    {
     "name": "stdout",
     "output_type": "stream",
     "text": [
      "Requirement already satisfied: opik in /opt/homebrew/Caskroom/miniconda/base/envs/py312_llm_eval/lib/python3.12/site-packages (1.1.10)\n",
      "Requirement already satisfied: openai in /opt/homebrew/Caskroom/miniconda/base/envs/py312_llm_eval/lib/python3.12/site-packages (1.54.4)\n",
      "Collecting openai\n",
      "  Downloading openai-1.55.0-py3-none-any.whl.metadata (24 kB)\n",
      "Requirement already satisfied: requests in /opt/homebrew/Caskroom/miniconda/base/envs/py312_llm_eval/lib/python3.12/site-packages (2.32.3)\n",
      "Requirement already satisfied: PyPDF2 in /opt/homebrew/Caskroom/miniconda/base/envs/py312_llm_eval/lib/python3.12/site-packages (3.0.1)\n",
      "Requirement already satisfied: click in /opt/homebrew/Caskroom/miniconda/base/envs/py312_llm_eval/lib/python3.12/site-packages (from opik) (8.1.7)\n",
      "Requirement already satisfied: httpx<1.0.0 in /opt/homebrew/Caskroom/miniconda/base/envs/py312_llm_eval/lib/python3.12/site-packages (from opik) (0.27.2)\n",
      "Requirement already satisfied: levenshtein~=0.25.1 in /opt/homebrew/Caskroom/miniconda/base/envs/py312_llm_eval/lib/python3.12/site-packages (from opik) (0.25.1)\n",
      "Requirement already satisfied: litellm in /opt/homebrew/Caskroom/miniconda/base/envs/py312_llm_eval/lib/python3.12/site-packages (from opik) (1.51.2)\n",
      "Requirement already satisfied: pydantic-settings<3.0.0,>=2.0.0 in /opt/homebrew/Caskroom/miniconda/base/envs/py312_llm_eval/lib/python3.12/site-packages (from opik) (2.4.0)\n",
      "Requirement already satisfied: pydantic<3.0.0,>=2.0.0 in /opt/homebrew/Caskroom/miniconda/base/envs/py312_llm_eval/lib/python3.12/site-packages (from opik) (2.8.2)\n",
      "Requirement already satisfied: pytest in /opt/homebrew/Caskroom/miniconda/base/envs/py312_llm_eval/lib/python3.12/site-packages (from opik) (8.3.2)\n",
      "Requirement already satisfied: rich in /opt/homebrew/Caskroom/miniconda/base/envs/py312_llm_eval/lib/python3.12/site-packages (from opik) (13.7.1)\n",
      "Requirement already satisfied: tqdm in /opt/homebrew/Caskroom/miniconda/base/envs/py312_llm_eval/lib/python3.12/site-packages (from opik) (4.66.5)\n",
      "Requirement already satisfied: uuid7<1.0.0 in /opt/homebrew/Caskroom/miniconda/base/envs/py312_llm_eval/lib/python3.12/site-packages (from opik) (0.1.0)\n",
      "Requirement already satisfied: anyio<5,>=3.5.0 in /opt/homebrew/Caskroom/miniconda/base/envs/py312_llm_eval/lib/python3.12/site-packages (from openai) (4.4.0)\n",
      "Requirement already satisfied: distro<2,>=1.7.0 in /opt/homebrew/Caskroom/miniconda/base/envs/py312_llm_eval/lib/python3.12/site-packages (from openai) (1.9.0)\n",
      "Requirement already satisfied: jiter<1,>=0.4.0 in /opt/homebrew/Caskroom/miniconda/base/envs/py312_llm_eval/lib/python3.12/site-packages (from openai) (0.5.0)\n",
      "Requirement already satisfied: sniffio in /opt/homebrew/Caskroom/miniconda/base/envs/py312_llm_eval/lib/python3.12/site-packages (from openai) (1.3.1)\n",
      "Requirement already satisfied: typing-extensions<5,>=4.11 in /opt/homebrew/Caskroom/miniconda/base/envs/py312_llm_eval/lib/python3.12/site-packages (from openai) (4.12.2)\n",
      "Requirement already satisfied: charset-normalizer<4,>=2 in /opt/homebrew/Caskroom/miniconda/base/envs/py312_llm_eval/lib/python3.12/site-packages (from requests) (3.3.2)\n",
      "Requirement already satisfied: idna<4,>=2.5 in /opt/homebrew/Caskroom/miniconda/base/envs/py312_llm_eval/lib/python3.12/site-packages (from requests) (3.7)\n",
      "Requirement already satisfied: urllib3<3,>=1.21.1 in /opt/homebrew/Caskroom/miniconda/base/envs/py312_llm_eval/lib/python3.12/site-packages (from requests) (2.2.3)\n",
      "Requirement already satisfied: certifi>=2017.4.17 in /opt/homebrew/Caskroom/miniconda/base/envs/py312_llm_eval/lib/python3.12/site-packages (from requests) (2024.7.4)\n",
      "Requirement already satisfied: httpcore==1.* in /opt/homebrew/Caskroom/miniconda/base/envs/py312_llm_eval/lib/python3.12/site-packages (from httpx<1.0.0->opik) (1.0.5)\n",
      "Requirement already satisfied: h11<0.15,>=0.13 in /opt/homebrew/Caskroom/miniconda/base/envs/py312_llm_eval/lib/python3.12/site-packages (from httpcore==1.*->httpx<1.0.0->opik) (0.14.0)\n",
      "Requirement already satisfied: rapidfuzz<4.0.0,>=3.8.0 in /opt/homebrew/Caskroom/miniconda/base/envs/py312_llm_eval/lib/python3.12/site-packages (from levenshtein~=0.25.1->opik) (3.9.6)\n",
      "Requirement already satisfied: annotated-types>=0.4.0 in /opt/homebrew/Caskroom/miniconda/base/envs/py312_llm_eval/lib/python3.12/site-packages (from pydantic<3.0.0,>=2.0.0->opik) (0.7.0)\n",
      "Requirement already satisfied: pydantic-core==2.20.1 in /opt/homebrew/Caskroom/miniconda/base/envs/py312_llm_eval/lib/python3.12/site-packages (from pydantic<3.0.0,>=2.0.0->opik) (2.20.1)\n",
      "Requirement already satisfied: python-dotenv>=0.21.0 in /opt/homebrew/Caskroom/miniconda/base/envs/py312_llm_eval/lib/python3.12/site-packages (from pydantic-settings<3.0.0,>=2.0.0->opik) (1.0.1)\n",
      "Requirement already satisfied: aiohttp in /opt/homebrew/Caskroom/miniconda/base/envs/py312_llm_eval/lib/python3.12/site-packages (from litellm->opik) (3.10.10)\n",
      "Requirement already satisfied: importlib-metadata>=6.8.0 in /opt/homebrew/Caskroom/miniconda/base/envs/py312_llm_eval/lib/python3.12/site-packages (from litellm->opik) (8.2.0)\n",
      "Requirement already satisfied: jinja2<4.0.0,>=3.1.2 in /opt/homebrew/Caskroom/miniconda/base/envs/py312_llm_eval/lib/python3.12/site-packages (from litellm->opik) (3.1.4)\n",
      "Requirement already satisfied: jsonschema<5.0.0,>=4.22.0 in /opt/homebrew/Caskroom/miniconda/base/envs/py312_llm_eval/lib/python3.12/site-packages (from litellm->opik) (4.23.0)\n",
      "Requirement already satisfied: tiktoken>=0.7.0 in /opt/homebrew/Caskroom/miniconda/base/envs/py312_llm_eval/lib/python3.12/site-packages (from litellm->opik) (0.7.0)\n",
      "Requirement already satisfied: tokenizers in /opt/homebrew/Caskroom/miniconda/base/envs/py312_llm_eval/lib/python3.12/site-packages (from litellm->opik) (0.19.1)\n",
      "Requirement already satisfied: iniconfig in /opt/homebrew/Caskroom/miniconda/base/envs/py312_llm_eval/lib/python3.12/site-packages (from pytest->opik) (2.0.0)\n",
      "Requirement already satisfied: packaging in /opt/homebrew/Caskroom/miniconda/base/envs/py312_llm_eval/lib/python3.12/site-packages (from pytest->opik) (24.1)\n",
      "Requirement already satisfied: pluggy<2,>=1.5 in /opt/homebrew/Caskroom/miniconda/base/envs/py312_llm_eval/lib/python3.12/site-packages (from pytest->opik) (1.5.0)\n",
      "Requirement already satisfied: markdown-it-py>=2.2.0 in /opt/homebrew/Caskroom/miniconda/base/envs/py312_llm_eval/lib/python3.12/site-packages (from rich->opik) (3.0.0)\n",
      "Requirement already satisfied: pygments<3.0.0,>=2.13.0 in /opt/homebrew/Caskroom/miniconda/base/envs/py312_llm_eval/lib/python3.12/site-packages (from rich->opik) (2.18.0)\n",
      "Requirement already satisfied: zipp>=0.5 in /opt/homebrew/Caskroom/miniconda/base/envs/py312_llm_eval/lib/python3.12/site-packages (from importlib-metadata>=6.8.0->litellm->opik) (3.19.2)\n",
      "Requirement already satisfied: MarkupSafe>=2.0 in /opt/homebrew/Caskroom/miniconda/base/envs/py312_llm_eval/lib/python3.12/site-packages (from jinja2<4.0.0,>=3.1.2->litellm->opik) (2.1.5)\n",
      "Requirement already satisfied: attrs>=22.2.0 in /opt/homebrew/Caskroom/miniconda/base/envs/py312_llm_eval/lib/python3.12/site-packages (from jsonschema<5.0.0,>=4.22.0->litellm->opik) (24.2.0)\n",
      "Requirement already satisfied: jsonschema-specifications>=2023.03.6 in /opt/homebrew/Caskroom/miniconda/base/envs/py312_llm_eval/lib/python3.12/site-packages (from jsonschema<5.0.0,>=4.22.0->litellm->opik) (2023.12.1)\n",
      "Requirement already satisfied: referencing>=0.28.4 in /opt/homebrew/Caskroom/miniconda/base/envs/py312_llm_eval/lib/python3.12/site-packages (from jsonschema<5.0.0,>=4.22.0->litellm->opik) (0.35.1)\n",
      "Requirement already satisfied: rpds-py>=0.7.1 in /opt/homebrew/Caskroom/miniconda/base/envs/py312_llm_eval/lib/python3.12/site-packages (from jsonschema<5.0.0,>=4.22.0->litellm->opik) (0.20.0)\n",
      "Requirement already satisfied: mdurl~=0.1 in /opt/homebrew/Caskroom/miniconda/base/envs/py312_llm_eval/lib/python3.12/site-packages (from markdown-it-py>=2.2.0->rich->opik) (0.1.2)\n",
      "Requirement already satisfied: regex>=2022.1.18 in /opt/homebrew/Caskroom/miniconda/base/envs/py312_llm_eval/lib/python3.12/site-packages (from tiktoken>=0.7.0->litellm->opik) (2024.7.24)\n",
      "Requirement already satisfied: aiohappyeyeballs>=2.3.0 in /opt/homebrew/Caskroom/miniconda/base/envs/py312_llm_eval/lib/python3.12/site-packages (from aiohttp->litellm->opik) (2.3.5)\n",
      "Requirement already satisfied: aiosignal>=1.1.2 in /opt/homebrew/Caskroom/miniconda/base/envs/py312_llm_eval/lib/python3.12/site-packages (from aiohttp->litellm->opik) (1.3.1)\n",
      "Requirement already satisfied: frozenlist>=1.1.1 in /opt/homebrew/Caskroom/miniconda/base/envs/py312_llm_eval/lib/python3.12/site-packages (from aiohttp->litellm->opik) (1.4.1)\n",
      "Requirement already satisfied: multidict<7.0,>=4.5 in /opt/homebrew/Caskroom/miniconda/base/envs/py312_llm_eval/lib/python3.12/site-packages (from aiohttp->litellm->opik) (6.0.5)\n",
      "Requirement already satisfied: yarl<2.0,>=1.12.0 in /opt/homebrew/Caskroom/miniconda/base/envs/py312_llm_eval/lib/python3.12/site-packages (from aiohttp->litellm->opik) (1.17.1)\n",
      "Requirement already satisfied: huggingface-hub<1.0,>=0.16.4 in /opt/homebrew/Caskroom/miniconda/base/envs/py312_llm_eval/lib/python3.12/site-packages (from tokenizers->litellm->opik) (0.26.2)\n",
      "Requirement already satisfied: filelock in /opt/homebrew/Caskroom/miniconda/base/envs/py312_llm_eval/lib/python3.12/site-packages (from huggingface-hub<1.0,>=0.16.4->tokenizers->litellm->opik) (3.15.4)\n",
      "Requirement already satisfied: fsspec>=2023.5.0 in /opt/homebrew/Caskroom/miniconda/base/envs/py312_llm_eval/lib/python3.12/site-packages (from huggingface-hub<1.0,>=0.16.4->tokenizers->litellm->opik) (2024.10.0)\n",
      "Requirement already satisfied: pyyaml>=5.1 in /opt/homebrew/Caskroom/miniconda/base/envs/py312_llm_eval/lib/python3.12/site-packages (from huggingface-hub<1.0,>=0.16.4->tokenizers->litellm->opik) (6.0.2)\n",
      "Requirement already satisfied: propcache>=0.2.0 in /opt/homebrew/Caskroom/miniconda/base/envs/py312_llm_eval/lib/python3.12/site-packages (from yarl<2.0,>=1.12.0->aiohttp->litellm->opik) (0.2.0)\n",
      "Downloading openai-1.55.0-py3-none-any.whl (389 kB)\n",
      "Installing collected packages: openai\n",
      "  Attempting uninstall: openai\n",
      "    Found existing installation: openai 1.54.4\n",
      "    Uninstalling openai-1.54.4:\n",
      "      Successfully uninstalled openai-1.54.4\n",
      "\u001b[31mERROR: pip's dependency resolver does not currently take into account all the packages that are installed. This behaviour is the source of the following dependency conflicts.\n",
      "predibase 2024.9.3 requires urllib3==1.26.12, but you have urllib3 2.2.3 which is incompatible.\u001b[0m\u001b[31m\n",
      "\u001b[0mSuccessfully installed openai-1.55.0\n",
      "\n",
      "\u001b[1m[\u001b[0m\u001b[34;49mnotice\u001b[0m\u001b[1;39;49m]\u001b[0m\u001b[39;49m A new release of pip is available: \u001b[0m\u001b[31;49m24.2\u001b[0m\u001b[39;49m -> \u001b[0m\u001b[32;49m24.3.1\u001b[0m\n",
      "\u001b[1m[\u001b[0m\u001b[34;49mnotice\u001b[0m\u001b[1;39;49m]\u001b[0m\u001b[39;49m To update, run: \u001b[0m\u001b[32;49mpip install --upgrade pip\u001b[0m\n",
      "Note: you may need to restart the kernel to use updated packages.\n"
     ]
    }
   ],
   "source": [
    "%pip install -U opik openai requests PyPDF2 --quiet"
   ]
  },
  {
   "cell_type": "markdown",
   "metadata": {},
   "source": [
    "\n",
    "[Comet](https://www.comet.com/site?from=llm&utm_source=opik&utm_medium=colab&utm_content=langchain&utm_campaign=opik) provides a hosted version of the Opik platform, [simply create an account](https://www.comet.com/signup?from=llm&utm_source=opik&utm_medium=colab&utm_content=langchain&utm_campaign=opik) and grab you API Key.\n",
    "\n",
    "> You can also run the Opik platform locally, see the [installation guide](https://www.comet.com/docs/opik/self-host/overview/?from=llm&utm_source=opik&utm_medium=colab&utm_content=langchain&utm_campaign=opik) for more information."
   ]
  },
  {
   "cell_type": "code",
   "execution_count": 2,
   "metadata": {},
   "outputs": [
    {
     "name": "stderr",
     "output_type": "stream",
     "text": [
      "OPIK: Opik is already configured. You can check the settings by viewing the config file at /Users/jacquesverre/.opik.config\n"
     ]
    }
   ],
   "source": [
    "import opik\n",
    "import os\n",
    "\n",
    "# Configure Opik\n",
    "opik.configure()"
   ]
  },
  {
   "cell_type": "markdown",
   "metadata": {},
   "source": [
    "## Implementing Chain of Density Summarization\n",
    "\n",
    "The idea behind this approach is to first generate a sparse candidate summary and then iteratively refine it with missing information without making it longer. We will start by defining two prompts:\n",
    "\n",
    "1. Iteration summary prompt: This prompt is used to generate and refine a candidate summary.\n",
    "2. Final summary prompt: This prompt is used to generate the final summary from the sparse set of candidate summaries."
   ]
  },
  {
   "cell_type": "code",
   "execution_count": 3,
   "metadata": {},
   "outputs": [],
   "source": [
    "import opik\n",
    "\n",
    "ITERATION_SUMMARY_PROMPT = opik.Prompt(\n",
    "    name=\"Iteration Summary Prompt\",\n",
    "    prompt=\"\"\"\n",
    "Document: {document}\n",
    "Current summary: {current_summary}\n",
    "Instruction to focus on: {instruction}\n",
    "\n",
    "Generate a concise, entity-dense, and highly technical summary from the provided Document that specifically addresses the given Instruction.\n",
    "\n",
    "Guidelines:\n",
    "- Make every word count: If there is a current summary re-write it to improve flow, density and conciseness.\n",
    "- Remove uninformative phrases like \"the article discusses\".\n",
    "- The summary should become highly dense and concise yet self-contained, e.g. , easily understood without the Document.\n",
    "- Make sure that the summary specifically addresses the given Instruction\n",
    "\"\"\".rstrip().lstrip(),\n",
    ")\n",
    "\n",
    "FINAL_SUMMARY_PROMPT = opik.Prompt(\n",
    "    name=\"Final Summary Prompt\",\n",
    "    prompt=\"\"\"\n",
    "Given this summary: {current_summary}\n",
    "And this instruction to focus on: {instruction}\n",
    "Create an extremely dense, final summary that captures all key technical information in the most concise form possible, while specifically addressing the given instruction.\n",
    "\"\"\".rstrip().lstrip(),\n",
    ")"
   ]
  },
  {
   "cell_type": "markdown",
   "metadata": {},
   "source": [
    "We can now define the summarization chain by combining the two prompts. In order to track the LLM calls, we will use Opik's integration with OpenAI through the `track_openai` function and we will add the `@opik.track` decorator to each function so we can track the full chain and not just individual LLM calls:"
   ]
  },
  {
   "cell_type": "code",
   "execution_count": 4,
   "metadata": {},
   "outputs": [],
   "source": [
    "from opik.integrations.openai import track_openai\n",
    "from openai import OpenAI\n",
    "import opik\n",
    "\n",
    "# Use a dedicated quickstart endpoint, replace with your own OpenAI API Key in your own code\n",
    "openai_client = track_openai(\n",
    "    OpenAI(\n",
    "        base_url=\"https://odbrly0rrk.execute-api.us-east-1.amazonaws.com/Prod/\",\n",
    "        api_key=\"Opik-Quickstart\",\n",
    "    )\n",
    ")\n",
    "\n",
    "\n",
    "@opik.track\n",
    "def summarize_current_summary(\n",
    "    document: str,\n",
    "    instruction: str,\n",
    "    current_summary: str,\n",
    "    model: str = \"gpt-4o-mini\",\n",
    "):\n",
    "    prompt = ITERATION_SUMMARY_PROMPT.format(\n",
    "        document=document, current_summary=current_summary, instruction=instruction\n",
    "    )\n",
    "\n",
    "    response = openai_client.chat.completions.create(\n",
    "        model=model, max_tokens=4096, messages=[{\"role\": \"user\", \"content\": prompt}]\n",
    "    )\n",
    "\n",
    "    return response.choices[0].message.content\n",
    "\n",
    "\n",
    "@opik.track\n",
    "def iterative_density_summarization(\n",
    "    document: str,\n",
    "    instruction: str,\n",
    "    density_iterations: int,\n",
    "    model: str = \"gpt-4o-mini\",\n",
    "):\n",
    "    summary = \"\"\n",
    "    for iteration in range(1, density_iterations + 1):\n",
    "        summary = summarize_current_summary(document, instruction, summary, model)\n",
    "    return summary\n",
    "\n",
    "\n",
    "@opik.track\n",
    "def final_summary(instruction: str, current_summary: str, model: str = \"gpt-4o-mini\"):\n",
    "    prompt = FINAL_SUMMARY_PROMPT.format(\n",
    "        current_summary=current_summary, instruction=instruction\n",
    "    )\n",
    "\n",
    "    return (\n",
    "        openai_client.chat.completions.create(\n",
    "            model=model, max_tokens=4096, messages=[{\"role\": \"user\", \"content\": prompt}]\n",
    "        )\n",
    "        .choices[0]\n",
    "        .message.content\n",
    "    )\n",
    "\n",
    "\n",
    "@opik.track\n",
    "def chain_of_density_summarization(\n",
    "    document: str,\n",
    "    instruction: str,\n",
    "    model: str = \"gpt-4o-mini\",\n",
    "    density_iterations: int = 2,\n",
    "):\n",
    "    summary = iterative_density_summarization(\n",
    "        document, instruction, density_iterations, model\n",
    "    )\n",
    "    final_summary_text = final_summary(instruction, summary, model)\n",
    "\n",
    "    return final_summary_text"
   ]
  },
  {
   "cell_type": "markdown",
   "metadata": {},
   "source": [
    "Let's call the summarization chain with a sample document:"
   ]
  },
  {
   "cell_type": "code",
   "execution_count": 5,
   "metadata": {},
   "outputs": [
    {
     "name": "stderr",
     "output_type": "stream",
     "text": [
      "OPIK: Started logging traces to the \"Default Project\" project at https://www.comet.com/opik/jacques-comet/redirect/projects?name=Default%20Project.\n"
     ]
    },
    {
     "name": "stdout",
     "output_type": "stream",
     "text": [
      "Please provide the current summary and the specific instruction you would like\n",
      "me to focus on for the final summary.\n"
     ]
    }
   ],
   "source": [
    "import textwrap\n",
    "\n",
    "os.environ[\"OPIK_PROJECT_NAME\"] = \"Chain of Density Summarization\"\n",
    "\n",
    "document = \"\"\"\n",
    "Artificial intelligence (AI) is transforming industries, revolutionizing healthcare, finance, education, and even creative fields. AI systems\n",
    "today are capable of performing tasks that previously required human intelligence, such as language processing, visual perception, and\n",
    "decision-making. In healthcare, AI assists in diagnosing diseases, predicting patient outcomes, and even developing personalized treatment plans.\n",
    "In finance, it helps in fraud detection, algorithmic trading, and risk management. Education systems leverage AI for personalized learning, adaptive\n",
    "testing, and educational content generation. Despite these advancements, ethical concerns such as data privacy, bias, and the impact of AI on employment\n",
    "remain. The future of AI holds immense potential, but also significant challenges.\n",
    "\"\"\"\n",
    "\n",
    "instruction = \"Summarize the main contributions of AI to different industries, and highlight both its potential and associated challenges.\"\n",
    "\n",
    "summary = chain_of_density_summarization(document, instruction)\n",
    "\n",
    "print(\"\\n\".join(textwrap.wrap(summary, width=80)))"
   ]
  },
  {
   "cell_type": "markdown",
   "metadata": {},
   "source": [
    "Thanks to the `@opik.track` decorator and Opik's integration with OpenAI, we can now track the entire chain and all the LLM calls in the Opik UI:\n",
    "\n",
    "![Trace UI](https://raw.githubusercontent.com/comet-ml/opik/main/apps/opik-documentation/documentation/static/img/cookbook/chain_density_trace_cookbook.png)"
   ]
  },
  {
   "cell_type": "markdown",
   "metadata": {},
   "source": [
    "## Automatting the evaluation process\n",
    "\n",
    "### Defining a dataset\n",
    "Now that we have a working chain, we can automate the evaluation process. We will start by defining a dataset of documents and instructions:"
   ]
  },
  {
   "cell_type": "code",
   "execution_count": 6,
   "metadata": {},
   "outputs": [],
   "source": [
    "import opik\n",
    "\n",
    "dataset_items = [\n",
    "    {\n",
    "        \"pdf_url\": \"https://arxiv.org/pdf/2301.00234\",\n",
    "        \"title\": \"A Survey on In-context Learning\",\n",
    "        \"instruction\": \"Summarize the key findings on the impact of prompt engineering in in-context learning.\",\n",
    "    },\n",
    "    {\n",
    "        \"pdf_url\": \"https://arxiv.org/pdf/2301.03728\",\n",
    "        \"title\": \"Scaling Laws for Generative Mixed-Modal Language Models\",\n",
    "        \"instruction\": \"How do scaling laws apply to generative mixed-modal models according to the paper?\",\n",
    "    },\n",
    "    {\n",
    "        \"pdf_url\": \"https://arxiv.org/pdf/2308.10792\",\n",
    "        \"title\": \"Instruction Tuning for Large Language Models: A Survey\",\n",
    "        \"instruction\": \"What are the major challenges in instruction tuning for large language models identified in the paper?\",\n",
    "    },\n",
    "    {\n",
    "        \"pdf_url\": \"https://arxiv.org/pdf/2302.08575\",\n",
    "        \"title\": \"Foundation Models in Natural Language Processing: A Survey\",\n",
    "        \"instruction\": \"Explain the role of foundation models in the current natural language processing landscape.\",\n",
    "    },\n",
    "    {\n",
    "        \"pdf_url\": \"https://arxiv.org/pdf/2306.13398\",\n",
    "        \"title\": \"Large-scale Multi-Modal Pre-trained Models: A Comprehensive Survey\",\n",
    "        \"instruction\": \"What are the cutting edge techniques used in multi-modal pre-training models?\",\n",
    "    },\n",
    "    {\n",
    "        \"pdf_url\": \"https://arxiv.org/pdf/2103.07492\",\n",
    "        \"title\": \"Continual Learning in Neural Networks: An Empirical Evaluation\",\n",
    "        \"instruction\": \"What are the main challenges of continual learning for neural networks according to the paper?\",\n",
    "    },\n",
    "    {\n",
    "        \"pdf_url\": \"https://arxiv.org/pdf/2304.00685v2\",\n",
    "        \"title\": \"Vision-Language Models for Vision Tasks: A Survey\",\n",
    "        \"instruction\": \"What are the most widely used vision-language models?\",\n",
    "    },\n",
    "    {\n",
    "        \"pdf_url\": \"https://arxiv.org/pdf/2303.08774\",\n",
    "        \"title\": \"GPT-4 Technical Report\",\n",
    "        \"instruction\": \"What are the main differences between GPT-4 and GPT-3.5?\",\n",
    "    },\n",
    "    {\n",
    "        \"pdf_url\": \"https://arxiv.org/pdf/2406.04744\",\n",
    "        \"title\": \"CRAG -- Comprehensive RAG Benchmark\",\n",
    "        \"instruction\": \"What was the approach to experimenting with different data mixtures?\",\n",
    "    },\n",
    "]\n",
    "\n",
    "client = opik.Opik()\n",
    "DATASET_NAME = \"arXiv Papers\"\n",
    "dataset = client.get_or_create_dataset(name=DATASET_NAME)\n",
    "dataset.insert(dataset_items)"
   ]
  },
  {
   "cell_type": "markdown",
   "metadata": {},
   "source": [
    "*Note:* Opik automatically deduplicates dataset items to make it easier to iterate on your dataset.\n",
    "\n",
    "### Defining the evaluation metrics\n",
    "\n",
    "Opik includes a [library of evaluation metrics](https://www.comet.com/docs/opik/evaluation/metrics/overview) that you can use to evaluate your chains. For this particular example, we will be using a custom metric that evaluates the relevance, conciseness and technical accuracy of each summary"
   ]
  },
  {
   "cell_type": "code",
   "execution_count": 20,
   "metadata": {},
   "outputs": [],
   "source": [
    "from opik.evaluation.metrics import base_metric, score_result\n",
    "import json\n",
    "\n",
    "# We will define the response format so the output has the correct schema. You can also use structured outputs with Pydantic models for this.\n",
    "json_schema = {\n",
    "    \"type\": \"json_schema\",\n",
    "    \"json_schema\": {\n",
    "        \"name\": \"summary_evaluation_schema\",\n",
    "        \"schema\": {\n",
    "            \"type\": \"object\",\n",
    "            \"properties\": {\n",
    "                \"relevance\": {\n",
    "                    \"type\": \"object\",\n",
    "                    \"properties\": {\n",
    "                        \"score\": {\n",
    "                            \"type\": \"integer\",\n",
    "                            \"minimum\": 1,\n",
    "                            \"maximum\": 5,\n",
    "                            \"description\": \"Score between 1-5 for how well the summary addresses the instruction\",\n",
    "                        },\n",
    "                        \"explanation\": {\n",
    "                            \"type\": \"string\",\n",
    "                            \"description\": \"Brief explanation of the relevance score\",\n",
    "                        },\n",
    "                    },\n",
    "                    \"required\": [\"score\", \"explanation\"],\n",
    "                },\n",
    "                \"conciseness\": {\n",
    "                    \"type\": \"object\",\n",
    "                    \"properties\": {\n",
    "                        \"score\": {\n",
    "                            \"type\": \"integer\",\n",
    "                            \"minimum\": 1,\n",
    "                            \"maximum\": 5,\n",
    "                            \"description\": \"Score between 1-5 for how concise the summary is while retaining key information\",\n",
    "                        },\n",
    "                        \"explanation\": {\n",
    "                            \"type\": \"string\",\n",
    "                            \"description\": \"Brief explanation of the conciseness score\",\n",
    "                        },\n",
    "                    },\n",
    "                    \"required\": [\"score\", \"explanation\"],\n",
    "                },\n",
    "                \"technical_accuracy\": {\n",
    "                    \"type\": \"object\",\n",
    "                    \"properties\": {\n",
    "                        \"score\": {\n",
    "                            \"type\": \"integer\",\n",
    "                            \"minimum\": 1,\n",
    "                            \"maximum\": 5,\n",
    "                            \"description\": \"Score between 1-5 for how accurately the summary conveys technical details\",\n",
    "                        },\n",
    "                        \"explanation\": {\n",
    "                            \"type\": \"string\",\n",
    "                            \"description\": \"Brief explanation of the technical accuracy score\",\n",
    "                        },\n",
    "                    },\n",
    "                    \"required\": [\"score\", \"explanation\"],\n",
    "                },\n",
    "            },\n",
    "            \"required\": [\"relevance\", \"conciseness\", \"technical_accuracy\"],\n",
    "            \"additionalProperties\": False,\n",
    "        },\n",
    "    },\n",
    "}\n",
    "\n",
    "\n",
    "# Custom Metric: One template/prompt to extract 4 scores/results\n",
    "class EvaluateSummary(base_metric.BaseMetric):\n",
    "    # Constructor\n",
    "    def __init__(self, name: str):\n",
    "        self.name = name\n",
    "\n",
    "    def score(\n",
    "        self, summary: str, instruction: str, model: str = \"gpt-4o-mini\", **kwargs\n",
    "    ):\n",
    "        prompt = f\"\"\"\n",
    "            Summary: {summary}\n",
    "            Instruction: {instruction}\n",
    "\n",
    "            Evaluate the summary based on the following criteria:\n",
    "            1. Relevance (1-5): How well does the summary address the given instruction?\n",
    "            2. Conciseness (1-5): How concise is the summary while retaining key information?\n",
    "            3. Technical Accuracy (1-5): How accurately does the summary convey technical details?\n",
    "\n",
    "            Your response MUST be in the following JSON format:\n",
    "            {{\n",
    "                \"relevance\": {{\n",
    "                    \"score\": <int>,\n",
    "                    \"explanation\": \"<string>\"\n",
    "                }},\n",
    "            \"conciseness\": {{\n",
    "                \"score\": <int>,\n",
    "                \"explanation\": \"<string>\"\n",
    "                }},\n",
    "            \"technical_accuracy\": {{\n",
    "                \"score\": <int>,\n",
    "                \"explanation\": \"<string>\"\n",
    "                }}\n",
    "            }}\n",
    "\n",
    "            Ensure that the scores are integers between 1 and 5, and that the explanations are concise.\n",
    "        \"\"\"\n",
    "\n",
    "        response = openai_client.chat.completions.create(\n",
    "            model=model,\n",
    "            max_tokens=1000,\n",
    "            messages=[{\"role\": \"user\", \"content\": prompt}],\n",
    "            response_format=json_schema,\n",
    "        )\n",
    "\n",
    "        eval_dict = json.loads(response.choices[0].message.content)\n",
    "\n",
    "        return [\n",
    "            score_result.ScoreResult(\n",
    "                name=\"summary_relevance\",\n",
    "                value=eval_dict[\"relevance\"][\"score\"],\n",
    "                reason=eval_dict[\"relevance\"][\"explanation\"],\n",
    "            ),\n",
    "            score_result.ScoreResult(\n",
    "                name=\"summary_conciseness\",\n",
    "                value=eval_dict[\"conciseness\"][\"score\"],\n",
    "                reason=eval_dict[\"conciseness\"][\"explanation\"],\n",
    "            ),\n",
    "            score_result.ScoreResult(\n",
    "                name=\"summary_technical_accuracy\",\n",
    "                value=eval_dict[\"technical_accuracy\"][\"score\"],\n",
    "                reason=eval_dict[\"technical_accuracy\"][\"explanation\"],\n",
    "            ),\n",
    "            score_result.ScoreResult(\n",
    "                name=\"summary_average_score\",\n",
    "                value=round(sum(eval_dict[k][\"score\"] for k in eval_dict) / 3, 2),\n",
    "                reason=\"The average of the 3 summary evaluation metrics\",\n",
    "            ),\n",
    "        ]"
   ]
  },
  {
   "cell_type": "markdown",
   "metadata": {},
   "source": [
    "### Create the task we want to evaluate\n",
    "\n",
    "We can now create the task we want to evaluate. In this case, we will have the dataset item as an input and return a dictionary containing the summary and the instruction so that we can use this in the evaluation metrics:"
   ]
  },
  {
   "cell_type": "code",
   "execution_count": 21,
   "metadata": {},
   "outputs": [],
   "source": [
    "import requests\n",
    "import io\n",
    "from PyPDF2 import PdfReader\n",
    "from typing import Dict\n",
    "\n",
    "\n",
    "# Load and extract text from PDFs\n",
    "@opik.track\n",
    "def load_pdf(pdf_url: str) -> str:\n",
    "    # Download the PDF\n",
    "    response = requests.get(pdf_url)\n",
    "    pdf_file = io.BytesIO(response.content)\n",
    "\n",
    "    # Read the PDF\n",
    "    pdf_reader = PdfReader(pdf_file)\n",
    "\n",
    "    # Extract text from all pages\n",
    "    text = \"\"\n",
    "    for page in pdf_reader.pages:\n",
    "        text += page.extract_text()\n",
    "\n",
    "    # Truncate the text to 100000 characters as this is the maximum supported by OpenAI\n",
    "    text = text[:100000]\n",
    "    return text\n",
    "\n",
    "\n",
    "def evaluation_task(x: Dict):\n",
    "    text = load_pdf(x[\"pdf_url\"])\n",
    "    instruction = x[\"instruction\"]\n",
    "    model = MODEL\n",
    "    density_iterations = DENSITY_ITERATIONS\n",
    "\n",
    "    result = chain_of_density_summarization(\n",
    "        document=text,\n",
    "        instruction=instruction,\n",
    "        model=model,\n",
    "        density_iterations=density_iterations,\n",
    "    )\n",
    "\n",
    "    return {\"summary\": result}"
   ]
  },
  {
   "cell_type": "markdown",
   "metadata": {},
   "source": [
    "### Run the automated evaluation"
   ]
  },
  {
   "cell_type": "markdown",
   "metadata": {},
   "source": [
    "We can now use the `evaluate` method to evaluate the summaries in our dataset:"
   ]
  },
  {
   "cell_type": "code",
   "execution_count": 22,
   "metadata": {},
   "outputs": [
    {
     "name": "stderr",
     "output_type": "stream",
     "text": [
      "Evaluation: 100%|██████████| 18/18 [00:25<00:00,  1.44s/it]\n"
     ]
    },
    {
     "data": {
      "text/html": [
       "<pre style=\"white-space:pre;overflow-x:auto;line-height:normal;font-family:Menlo,'DejaVu Sans Mono',consolas,'Courier New',monospace\">╭─ arXiv Papers (18 samples) ──────────────╮\n",
       "│                                          │\n",
       "│ <span style=\"font-weight: bold\">Total time:       </span> 00:00:26              │\n",
       "│ <span style=\"font-weight: bold\">Number of samples:</span> 18                    │\n",
       "│                                          │\n",
       "│ <span style=\"color: #008000; text-decoration-color: #008000; font-weight: bold\">summary_relevance: 1.1111 (avg)</span>          │\n",
       "│ <span style=\"color: #008000; text-decoration-color: #008000; font-weight: bold\">summary_conciseness: 3.0000 (avg)</span>        │\n",
       "│ <span style=\"color: #008000; text-decoration-color: #008000; font-weight: bold\">summary_technical_accuracy: 1.0000 (avg)</span> │\n",
       "│ <span style=\"color: #008000; text-decoration-color: #008000; font-weight: bold\">summary_average_score: 1.7028 (avg)</span>      │\n",
       "│                                          │\n",
       "╰──────────────────────────────────────────╯\n",
       "</pre>\n"
      ],
      "text/plain": [
       "╭─ arXiv Papers (18 samples) ──────────────╮\n",
       "│                                          │\n",
       "│ \u001b[1mTotal time:       \u001b[0m 00:00:26              │\n",
       "│ \u001b[1mNumber of samples:\u001b[0m 18                    │\n",
       "│                                          │\n",
       "│ \u001b[1;32msummary_relevance: 1.1111 (avg)\u001b[0m          │\n",
       "│ \u001b[1;32msummary_conciseness: 3.0000 (avg)\u001b[0m        │\n",
       "│ \u001b[1;32msummary_technical_accuracy: 1.0000 (avg)\u001b[0m │\n",
       "│ \u001b[1;32msummary_average_score: 1.7028 (avg)\u001b[0m      │\n",
       "│                                          │\n",
       "╰──────────────────────────────────────────╯\n"
      ]
     },
     "metadata": {},
     "output_type": "display_data"
    },
    {
     "data": {
      "text/html": [
       "<pre style=\"white-space:pre;overflow-x:auto;line-height:normal;font-family:Menlo,'DejaVu Sans Mono',consolas,'Courier New',monospace\">Uploading results to Opik <span style=\"color: #808000; text-decoration-color: #808000\">...</span> \n",
       "</pre>\n"
      ],
      "text/plain": [
       "Uploading results to Opik \u001b[33m...\u001b[0m \n"
      ]
     },
     "metadata": {},
     "output_type": "display_data"
    },
    {
     "data": {
      "text/html": [
       "<pre style=\"white-space:pre;overflow-x:auto;line-height:normal;font-family:Menlo,'DejaVu Sans Mono',consolas,'Courier New',monospace\">View the results <a href=\"https://www.comet.com/opik/jacques-comet/experiments/0192ba83-4a5c-779b-bf51-48562b767f33/compare?experiments=%5B%2206740816-d7fa-7051-8000-806a033848a8%22%5D\" target=\"_blank\">in your Opik dashboard</a>.\n",
       "</pre>\n"
      ],
      "text/plain": [
       "View the results \u001b]8;id=136665;https://www.comet.com/opik/jacques-comet/experiments/0192ba83-4a5c-779b-bf51-48562b767f33/compare?experiments=%5B%2206740816-d7fa-7051-8000-806a033848a8%22%5D\u001b\\in your Opik dashboard\u001b]8;;\u001b\\.\n"
      ]
     },
     "metadata": {},
     "output_type": "display_data"
    }
   ],
   "source": [
    "from opik.evaluation import evaluate\n",
    "\n",
    "os.environ[\"OPIK_PROJECT_NAME\"] = \"summary-evaluation-prompts\"\n",
    "\n",
    "MODEL = \"gpt-4o-mini\"\n",
    "DENSITY_ITERATIONS = 2\n",
    "\n",
    "experiment_config = {\n",
    "    \"iteration_summary_prompt\": ITERATION_SUMMARY_PROMPT,\n",
    "    \"final_summary_prompt\": FINAL_SUMMARY_PROMPT,\n",
    "    \"model\": MODEL,\n",
    "    \"density_iterations\": DENSITY_ITERATIONS,\n",
    "}\n",
    "\n",
    "res = evaluate(\n",
    "    dataset=dataset,\n",
    "    experiment_config=experiment_config,\n",
    "    task=evaluation_task,\n",
    "    scoring_metrics=[EvaluateSummary(name=\"summary-metrics\")],\n",
    "    prompt=ITERATION_SUMMARY_PROMPT,\n",
    ")"
   ]
  },
  {
   "cell_type": "markdown",
   "metadata": {},
   "source": [
    "The experiment results are now available in the Opik UI:\n",
    "\n",
    "![Trace UI](https://raw.githubusercontent.com/comet-ml/opik/main/apps/opik-documentation/documentation/static/img/cookbook/chain_density_experiment_cookbook.png)\n"
   ]
  },
  {
   "cell_type": "markdown",
   "metadata": {},
   "source": [
    "## Comparing prompt templates\n",
    "\n",
    "We will update the iteration summary prompt and evaluate its impact on the evaluation metrics."
   ]
  },
  {
   "cell_type": "code",
   "execution_count": 23,
   "metadata": {},
   "outputs": [],
   "source": [
    "import opik\n",
    "\n",
    "ITERATION_SUMMARY_PROMPT = opik.Prompt(\n",
    "    name=\"Iteration Summary Prompt\",\n",
    "    prompt=\"\"\"Document: {document}\n",
    "Current summary: {current_summary}\n",
    "Instruction to focus on: {instruction}\n",
    "\n",
    "Generate a concise, entity-dense, and highly technical summary from the provided Document that specifically addresses the given Instruction.\n",
    "\n",
    "Guidelines:\n",
    "1. **Maximize Clarity and Density**: Revise the current summary to enhance flow, density, and conciseness.\n",
    "2. **Eliminate Redundant Language**: Avoid uninformative phrases such as \"the article discusses.\"\n",
    "3. **Ensure Self-Containment**: The summary should be dense and concise, easily understandable without referring back to the document.\n",
    "4. **Align with Instruction**: Make sure the summary specifically addresses the given instruction.\n",
    "\n",
    "\"\"\".rstrip().lstrip(),\n",
    ")"
   ]
  },
  {
   "cell_type": "code",
   "execution_count": 24,
   "metadata": {},
   "outputs": [
    {
     "name": "stderr",
     "output_type": "stream",
     "text": [
      "Evaluation: 100%|██████████| 18/18 [00:24<00:00,  1.37s/it]\n"
     ]
    },
    {
     "data": {
      "text/html": [
       "<pre style=\"white-space:pre;overflow-x:auto;line-height:normal;font-family:Menlo,'DejaVu Sans Mono',consolas,'Courier New',monospace\">╭─ arXiv Papers (18 samples) ──────────────╮\n",
       "│                                          │\n",
       "│ <span style=\"font-weight: bold\">Total time:       </span> 00:00:25              │\n",
       "│ <span style=\"font-weight: bold\">Number of samples:</span> 18                    │\n",
       "│                                          │\n",
       "│ <span style=\"color: #008000; text-decoration-color: #008000; font-weight: bold\">summary_relevance: 1.0000 (avg)</span>          │\n",
       "│ <span style=\"color: #008000; text-decoration-color: #008000; font-weight: bold\">summary_conciseness: 2.8333 (avg)</span>        │\n",
       "│ <span style=\"color: #008000; text-decoration-color: #008000; font-weight: bold\">summary_technical_accuracy: 1.0000 (avg)</span> │\n",
       "│ <span style=\"color: #008000; text-decoration-color: #008000; font-weight: bold\">summary_average_score: 1.6094 (avg)</span>      │\n",
       "│                                          │\n",
       "╰──────────────────────────────────────────╯\n",
       "</pre>\n"
      ],
      "text/plain": [
       "╭─ arXiv Papers (18 samples) ──────────────╮\n",
       "│                                          │\n",
       "│ \u001b[1mTotal time:       \u001b[0m 00:00:25              │\n",
       "│ \u001b[1mNumber of samples:\u001b[0m 18                    │\n",
       "│                                          │\n",
       "│ \u001b[1;32msummary_relevance: 1.0000 (avg)\u001b[0m          │\n",
       "│ \u001b[1;32msummary_conciseness: 2.8333 (avg)\u001b[0m        │\n",
       "│ \u001b[1;32msummary_technical_accuracy: 1.0000 (avg)\u001b[0m │\n",
       "│ \u001b[1;32msummary_average_score: 1.6094 (avg)\u001b[0m      │\n",
       "│                                          │\n",
       "╰──────────────────────────────────────────╯\n"
      ]
     },
     "metadata": {},
     "output_type": "display_data"
    },
    {
     "data": {
      "text/html": [
       "<pre style=\"white-space:pre;overflow-x:auto;line-height:normal;font-family:Menlo,'DejaVu Sans Mono',consolas,'Courier New',monospace\">Uploading results to Opik <span style=\"color: #808000; text-decoration-color: #808000\">...</span> \n",
       "</pre>\n"
      ],
      "text/plain": [
       "Uploading results to Opik \u001b[33m...\u001b[0m \n"
      ]
     },
     "metadata": {},
     "output_type": "display_data"
    },
    {
     "data": {
      "text/html": [
       "<pre style=\"white-space:pre;overflow-x:auto;line-height:normal;font-family:Menlo,'DejaVu Sans Mono',consolas,'Courier New',monospace\">View the results <a href=\"https://www.comet.com/opik/jacques-comet/experiments/0192ba83-4a5c-779b-bf51-48562b767f33/compare?experiments=%5B%2206740853-e93a-7fea-8000-c9487836fcbc%22%5D\" target=\"_blank\">in your Opik dashboard</a>.\n",
       "</pre>\n"
      ],
      "text/plain": [
       "View the results \u001b]8;id=766195;https://www.comet.com/opik/jacques-comet/experiments/0192ba83-4a5c-779b-bf51-48562b767f33/compare?experiments=%5B%2206740853-e93a-7fea-8000-c9487836fcbc%22%5D\u001b\\in your Opik dashboard\u001b]8;;\u001b\\.\n"
      ]
     },
     "metadata": {},
     "output_type": "display_data"
    }
   ],
   "source": [
    "from opik.evaluation import evaluate\n",
    "\n",
    "os.environ[\"OPIK_PROJECT_NAME\"] = \"summary-evaluation-prompts\"\n",
    "\n",
    "MODEL = \"gpt-4o-mini\"\n",
    "DENSITY_ITERATIONS = 2\n",
    "\n",
    "experiment_config = {\n",
    "    \"iteration_summary_prompt\": ITERATION_SUMMARY_PROMPT,\n",
    "    \"final_summary_prompt\": FINAL_SUMMARY_PROMPT,\n",
    "    \"model\": MODEL,\n",
    "    \"density_iterations\": DENSITY_ITERATIONS,\n",
    "}\n",
    "\n",
    "res = evaluate(\n",
    "    dataset=dataset,\n",
    "    experiment_config=experiment_config,\n",
    "    task=evaluation_task,\n",
    "    scoring_metrics=[EvaluateSummary(name=\"summary-metrics\")],\n",
    "    prompt=ITERATION_SUMMARY_PROMPT,\n",
    ")"
   ]
  },
  {
   "cell_type": "markdown",
   "metadata": {},
   "source": [
    "You can now compare the results between the two experiments in the Opik UI:\n",
    "\n",
    "![Trace UI](https://raw.githubusercontent.com/comet-ml/opik/main/apps/opik-documentation/documentation/static/img/cookbook/chain_density_trace_comparison_cookbook.png)"
   ]
  }
 ],
 "metadata": {
  "kernelspec": {
   "display_name": "Python 3 (ipykernel)",
   "language": "python",
   "name": "python3"
  },
  "language_info": {
   "codemirror_mode": {
    "name": "ipython",
    "version": 3
   },
   "file_extension": ".py",
   "mimetype": "text/x-python",
   "name": "python",
   "nbconvert_exporter": "python",
   "pygments_lexer": "ipython3",
   "version": "3.12.4"
  }
 },
 "nbformat": 4,
 "nbformat_minor": 4
}
