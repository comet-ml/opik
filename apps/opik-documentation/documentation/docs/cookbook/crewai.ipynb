{
 "cells": [
  {
   "metadata": {},
   "cell_type": "markdown",
   "source": [
    "---\n",
    "description: Cookbook that showcases Opik's integration with the CrewAI\n",
    "---\n",
    "\n",
    "# Using Opik with CrewAI\n",
    "\n",
    "This notebook showcases how to use Opik with CrewAI. [CrewAI](https://github.com/crewAIInc/crewAI) is a cutting-edge framework for orchestrating autonomous AI agents.\n",
    "> CrewAI enables you to create AI teams where each agent has specific roles, tools, and goals, working together to accomplish complex tasks.\n",
    "\n",
    "> Think of it as assembling your dream team - each member (agent) brings unique skills and expertise, collaborating seamlessly to achieve your objectives.\n",
    "\n",
    "For this guide we will use CrewAI's quickstart example."
   ]
  },
  {
   "cell_type": "markdown",
   "metadata": {},
   "source": [
    "## Creating an account on Comet.com\n",
    "\n",
    "[Comet](https://www.comet.com/site?from=llm&utm_source=opik&utm_medium=colab&utm_content=llamaindex&utm_campaign=opik) provides a hosted version of the Opik platform, [simply create an account](https://www.comet.com/signup?from=llm&=opik&utm_medium=colab&utm_content=llamaindex&utm_campaign=opik) and grab you API Key.\n",
    "\n",
    "> You can also run the Opik platform locally, see the [installation guide](https://www.comet.com/docs/opik/self-host/overview/?from=llm&utm_source=opik&utm_medium=colab&utm_content=llamaindex&utm_campaign=opik) for more information."
   ]
  },
  {
   "cell_type": "code",
   "execution_count": null,
   "metadata": {},
   "outputs": [],
   "source": "%pip install crewai crewai-tools opik --upgrade"
  },
  {
   "metadata": {},
   "cell_type": "code",
   "outputs": [],
   "execution_count": null,
   "source": [
    "import opik\n",
    "\n",
    "opik.configure(use_local=False)"
   ]
  },
  {
   "cell_type": "markdown",
   "metadata": {},
   "source": [
    "## Preparing our environment\n",
    "\n",
    "First, we set up our API keys for our LLM-provider as environment variables:"
   ]
  },
  {
   "cell_type": "code",
   "metadata": {
    "ExecuteTime": {
     "end_time": "2025-01-13T19:11:05.552689Z",
     "start_time": "2025-01-13T19:11:01.455161Z"
    }
   },
   "source": [
    "import os\n",
    "import getpass\n",
    "\n",
    "if \"OPENAI_API_KEY\" not in os.environ:\n",
    "    os.environ[\"OPENAI_API_KEY\"] = getpass.getpass(\"Enter your OpenAI API key: \")"
   ],
   "outputs": [],
   "execution_count": 1
  },
  {
   "metadata": {},
   "cell_type": "markdown",
   "source": "## Using CrewAI"
  },
  {
   "metadata": {},
   "cell_type": "markdown",
   "source": "Before we create `crew` object and run it we should create two files: `agents.yaml` and `tasks.yaml`"
  },
  {
   "metadata": {},
   "cell_type": "code",
   "outputs": [],
   "execution_count": null,
   "source": [
    "# Ensure the directory exists\n",
    "directory = \"config\"\n",
    "os.makedirs(directory, exist_ok=True)"
   ]
  },
  {
   "metadata": {},
   "cell_type": "code",
   "outputs": [],
   "execution_count": null,
   "source": [
    "import os\n",
    "import yaml\n",
    "\n",
    "# Define the content\n",
    "content = {\n",
    "    \"researcher\": {\n",
    "        \"role\": \"{topic} Senior Data Researcher\",\n",
    "        \"goal\": \"Uncover cutting-edge developments in {topic}\",\n",
    "        \"backstory\": (\n",
    "            \"You're a seasoned researcher with a knack for uncovering the latest \"\n",
    "            \"developments in {topic}. Known for your ability to find the most relevant \"\n",
    "            \"information and present it in a clear and concise manner.\"\n",
    "        ),\n",
    "    },\n",
    "    \"reporting_analyst\": {\n",
    "        \"role\": \"{topic} Reporting Analyst\",\n",
    "        \"goal\": \"Create detailed reports based on {topic} data analysis and research findings\",\n",
    "        \"backstory\": (\n",
    "            \"You're a meticulous analyst with a keen eye for detail. You're known for \"\n",
    "            \"your ability to turn complex data into clear and concise reports, making \"\n",
    "            \"it easy for others to understand and act on the information you provide.\"\n",
    "        ),\n",
    "    },\n",
    "}\n",
    "\n",
    "file_path = os.path.join(directory, \"agents.yaml\")\n",
    "\n",
    "with open(file_path, \"w\") as file:\n",
    "    yaml.dump(content, file, default_flow_style=False)\n"
   ]
  },
  {
   "metadata": {},
   "cell_type": "code",
   "outputs": [],
   "execution_count": null,
   "source": [
    "content = {\n",
    "    \"research_task\": {\n",
    "        \"description\": (\n",
    "            \"Conduct a thorough research about {topic} \"\n",
    "            \"Make sure you find any interesting and relevant information given \"\n",
    "            \"the current year is 2024.\"\n",
    "        ),\n",
    "        \"expected_output\": \"A list with 5 bullet points of the most relevant information about {topic}\",\n",
    "        \"agent\": \"researcher\",\n",
    "    },\n",
    "    \"reporting_task\": {\n",
    "        \"description\": (\n",
    "            \"Review the context you got and expand each topic into a full section for a report. \"\n",
    "            \"Make sure the report is detailed and contains any and all relevant information.\"\n",
    "        ),\n",
    "        \"expected_output\": (\n",
    "            \"A fully fledge reports with the mains topics, each with a full section of information. \"\n",
    "            \"Formatted as markdown without '```'\"\n",
    "        ),\n",
    "        \"agent\": \"reporting_analyst\",\n",
    "        \"output_file\": \"report.md\",\n",
    "    },\n",
    "}\n",
    "\n",
    "file_path = os.path.join(directory, \"tasks.yaml\")\n",
    "\n",
    "with open(file_path, \"w\") as file:\n",
    "    yaml.dump(content, file, default_flow_style=False)\n"
   ]
  },
  {
   "cell_type": "markdown",
   "metadata": {},
   "source": "The next step is to create our `crew` object:"
  },
  {
   "cell_type": "code",
   "metadata": {
    "ExecuteTime": {
     "end_time": "2025-01-13T19:11:11.283068Z",
     "start_time": "2025-01-13T19:11:08.076085Z"
    }
   },
   "source": [
    "from crewai import Agent, Crew, Process, Task\n",
    "from crewai.project import CrewBase, agent, crew, task\n",
    "\n",
    "\n",
    "@CrewBase\n",
    "class LatestAiDevelopmentCrew:\n",
    "    \"\"\"LatestAiDevelopment crew\"\"\"\n",
    "\n",
    "    @agent\n",
    "    def researcher(self) -> Agent:\n",
    "        return Agent(\n",
    "            config=self.agents_config['researcher'],\n",
    "            verbose=True,\n",
    "        )\n",
    "\n",
    "    @agent\n",
    "    def reporting_analyst(self) -> Agent:\n",
    "        return Agent(\n",
    "            config=self.agents_config['reporting_analyst'],\n",
    "            verbose=True\n",
    "        )\n",
    "\n",
    "    @task\n",
    "    def research_task(self) -> Task:\n",
    "        return Task(\n",
    "            config=self.tasks_config['research_task'],\n",
    "        )\n",
    "\n",
    "    @task\n",
    "    def reporting_task(self) -> Task:\n",
    "        return Task(\n",
    "            config=self.tasks_config['reporting_task'],\n",
    "            output_file='output/report.md'  # This is the file that will contain the final report.\n",
    "        )\n",
    "\n",
    "    @crew\n",
    "    def crew(self) -> Crew:\n",
    "        \"\"\"Creates the LatestAiDevelopment crew\"\"\"\n",
    "        return Crew(\n",
    "            agents=self.agents,  # Automatically created by the @agent decorator\n",
    "            tasks=self.tasks,  # Automatically created by the @task decorator\n",
    "            process=Process.sequential,\n",
    "            verbose=True,\n",
    "        )\n"
   ],
   "outputs": [
    {
     "name": "stderr",
     "output_type": "stream",
     "text": [
      "C:\\Users\\alexanderb\\PycharmProjects\\opik\\.venv3.10\\lib\\site-packages\\pydantic\\_internal\\_config.py:345: UserWarning: Valid config keys have changed in V2:\n",
      "* 'fields' has been removed\n",
      "  warnings.warn(message, UserWarning)\n"
     ]
    },
    {
     "ename": "OSError",
     "evalue": "source code not available",
     "output_type": "error",
     "traceback": [
      "\u001B[1;31m---------------------------------------------------------------------------\u001B[0m",
      "\u001B[1;31mOSError\u001B[0m                                   Traceback (most recent call last)",
      "Cell \u001B[1;32mIn[2], line 6\u001B[0m\n\u001B[0;32m      1\u001B[0m \u001B[38;5;28;01mfrom\u001B[39;00m \u001B[38;5;21;01mcrewai\u001B[39;00m \u001B[38;5;28;01mimport\u001B[39;00m Agent, Crew, Process, Task\n\u001B[0;32m      2\u001B[0m \u001B[38;5;28;01mfrom\u001B[39;00m \u001B[38;5;21;01mcrewai\u001B[39;00m\u001B[38;5;21;01m.\u001B[39;00m\u001B[38;5;21;01mproject\u001B[39;00m \u001B[38;5;28;01mimport\u001B[39;00m CrewBase, agent, crew, task\n\u001B[0;32m      5\u001B[0m \u001B[38;5;129;43m@CrewBase\u001B[39;49m\n\u001B[1;32m----> 6\u001B[0m \u001B[38;5;28;43;01mclass\u001B[39;49;00m\u001B[43m \u001B[49m\u001B[38;5;21;43;01mLatestAiDevelopmentCrew\u001B[39;49;00m\u001B[43m:\u001B[49m\n\u001B[0;32m      7\u001B[0m \u001B[38;5;250;43m    \u001B[39;49m\u001B[38;5;124;43;03m\"\"\"LatestAiDevelopment crew\"\"\"\u001B[39;49;00m\n\u001B[0;32m      9\u001B[0m \u001B[43m    \u001B[49m\u001B[38;5;129;43m@agent\u001B[39;49m\n\u001B[0;32m     10\u001B[0m \u001B[43m    \u001B[49m\u001B[38;5;28;43;01mdef\u001B[39;49;00m\u001B[43m \u001B[49m\u001B[38;5;21;43mresearcher\u001B[39;49m\u001B[43m(\u001B[49m\u001B[38;5;28;43mself\u001B[39;49m\u001B[43m)\u001B[49m\u001B[43m \u001B[49m\u001B[38;5;241;43m-\u001B[39;49m\u001B[38;5;241;43m>\u001B[39;49m\u001B[43m \u001B[49m\u001B[43mAgent\u001B[49m\u001B[43m:\u001B[49m\n",
      "File \u001B[1;32m~\\PycharmProjects\\opik\\.venv3.10\\lib\\site-packages\\crewai\\project\\crew_base.py:14\u001B[0m, in \u001B[0;36mCrewBase\u001B[1;34m(cls)\u001B[0m\n\u001B[0;32m     13\u001B[0m \u001B[38;5;28;01mdef\u001B[39;00m \u001B[38;5;21mCrewBase\u001B[39m(\u001B[38;5;28mcls\u001B[39m: T) \u001B[38;5;241m-\u001B[39m\u001B[38;5;241m>\u001B[39m T:\n\u001B[1;32m---> 14\u001B[0m     \u001B[38;5;28;01mclass\u001B[39;00m \u001B[38;5;21;01mWrappedClass\u001B[39;00m(\u001B[38;5;28mcls\u001B[39m):  \u001B[38;5;66;03m# type: ignore\u001B[39;00m\n\u001B[0;32m     15\u001B[0m         is_crew_class: \u001B[38;5;28mbool\u001B[39m \u001B[38;5;241m=\u001B[39m \u001B[38;5;28;01mTrue\u001B[39;00m  \u001B[38;5;66;03m# type: ignore\u001B[39;00m\n\u001B[0;32m     17\u001B[0m         \u001B[38;5;66;03m# Get the directory of the class being decorated\u001B[39;00m\n",
      "File \u001B[1;32m~\\PycharmProjects\\opik\\.venv3.10\\lib\\site-packages\\crewai\\project\\crew_base.py:18\u001B[0m, in \u001B[0;36mCrewBase.<locals>.WrappedClass\u001B[1;34m()\u001B[0m\n\u001B[0;32m     15\u001B[0m is_crew_class: \u001B[38;5;28mbool\u001B[39m \u001B[38;5;241m=\u001B[39m \u001B[38;5;28;01mTrue\u001B[39;00m  \u001B[38;5;66;03m# type: ignore\u001B[39;00m\n\u001B[0;32m     17\u001B[0m \u001B[38;5;66;03m# Get the directory of the class being decorated\u001B[39;00m\n\u001B[1;32m---> 18\u001B[0m base_directory \u001B[38;5;241m=\u001B[39m Path(\u001B[43minspect\u001B[49m\u001B[38;5;241;43m.\u001B[39;49m\u001B[43mgetfile\u001B[49m\u001B[43m(\u001B[49m\u001B[38;5;28;43mcls\u001B[39;49m\u001B[43m)\u001B[49m)\u001B[38;5;241m.\u001B[39mparent\n\u001B[0;32m     20\u001B[0m original_agents_config_path \u001B[38;5;241m=\u001B[39m \u001B[38;5;28mgetattr\u001B[39m(\n\u001B[0;32m     21\u001B[0m     \u001B[38;5;28mcls\u001B[39m, \u001B[38;5;124m\"\u001B[39m\u001B[38;5;124magents_config\u001B[39m\u001B[38;5;124m\"\u001B[39m, \u001B[38;5;124m\"\u001B[39m\u001B[38;5;124mconfig/agents.yaml\u001B[39m\u001B[38;5;124m\"\u001B[39m\n\u001B[0;32m     22\u001B[0m )\n\u001B[0;32m     23\u001B[0m original_tasks_config_path \u001B[38;5;241m=\u001B[39m \u001B[38;5;28mgetattr\u001B[39m(\u001B[38;5;28mcls\u001B[39m, \u001B[38;5;124m\"\u001B[39m\u001B[38;5;124mtasks_config\u001B[39m\u001B[38;5;124m\"\u001B[39m, \u001B[38;5;124m\"\u001B[39m\u001B[38;5;124mconfig/tasks.yaml\u001B[39m\u001B[38;5;124m\"\u001B[39m)\n",
      "File \u001B[1;32m~\\AppData\\Local\\Programs\\Python\\Python310\\lib\\inspect.py:785\u001B[0m, in \u001B[0;36mgetfile\u001B[1;34m(object)\u001B[0m\n\u001B[0;32m    783\u001B[0m             \u001B[38;5;28;01mreturn\u001B[39;00m module\u001B[38;5;241m.\u001B[39m\u001B[38;5;18m__file__\u001B[39m\n\u001B[0;32m    784\u001B[0m         \u001B[38;5;28;01mif\u001B[39;00m \u001B[38;5;28mobject\u001B[39m\u001B[38;5;241m.\u001B[39m\u001B[38;5;18m__module__\u001B[39m \u001B[38;5;241m==\u001B[39m \u001B[38;5;124m'\u001B[39m\u001B[38;5;124m__main__\u001B[39m\u001B[38;5;124m'\u001B[39m:\n\u001B[1;32m--> 785\u001B[0m             \u001B[38;5;28;01mraise\u001B[39;00m \u001B[38;5;167;01mOSError\u001B[39;00m(\u001B[38;5;124m'\u001B[39m\u001B[38;5;124msource code not available\u001B[39m\u001B[38;5;124m'\u001B[39m)\n\u001B[0;32m    786\u001B[0m     \u001B[38;5;28;01mraise\u001B[39;00m \u001B[38;5;167;01mTypeError\u001B[39;00m(\u001B[38;5;124m'\u001B[39m\u001B[38;5;132;01m{!r}\u001B[39;00m\u001B[38;5;124m is a built-in class\u001B[39m\u001B[38;5;124m'\u001B[39m\u001B[38;5;241m.\u001B[39mformat(\u001B[38;5;28mobject\u001B[39m))\n\u001B[0;32m    787\u001B[0m \u001B[38;5;28;01mif\u001B[39;00m ismethod(\u001B[38;5;28mobject\u001B[39m):\n",
      "\u001B[1;31mOSError\u001B[0m: source code not available"
     ]
    }
   ],
   "execution_count": 2
  },
  {
   "cell_type": "markdown",
   "metadata": {},
   "source": "Now we can import Opik's tracker and run our crew:"
  },
  {
   "cell_type": "code",
   "execution_count": null,
   "metadata": {},
   "outputs": [],
   "source": [
    "from opik.integrations.crewai import track_crewai\n",
    "\n",
    "track_crewai(project_name=\"crewai-integration-demo\")\n",
    "\n",
    "inputs = {\n",
    "    'topic': 'AI Agents'\n",
    "}\n",
    "my_crew = LatestAiDevelopmentCrew()\n",
    "my_crew = my_crew.crew()\n",
    "result = my_crew.kickoff(inputs=inputs)\n",
    "\n",
    "print(result)"
   ]
  },
  {
   "cell_type": "markdown",
   "metadata": {},
   "source": [
    "You can now go to the Opik app to see the trace:\n",
    "\n",
    "![LlamaIndex trace in Opik](https://raw.githubusercontent.com/comet-ml/opik/main/apps/opik-documentation/documentation/static/img/cookbook/llamaIndex_cookbook.png)"
   ]
  },
  {
   "cell_type": "markdown",
   "metadata": {},
   "source": []
  }
 ],
 "metadata": {
  "kernelspec": {
   "display_name": "py312_llm_eval",
   "language": "python",
   "name": "python3"
  },
  "language_info": {
   "codemirror_mode": {
    "name": "ipython",
    "version": 3
   },
   "file_extension": ".py",
   "mimetype": "text/x-python",
   "name": "python",
   "nbconvert_exporter": "python",
   "pygments_lexer": "ipython3",
   "version": "3.12.4"
  }
 },
 "nbformat": 4,
 "nbformat_minor": 2
}
