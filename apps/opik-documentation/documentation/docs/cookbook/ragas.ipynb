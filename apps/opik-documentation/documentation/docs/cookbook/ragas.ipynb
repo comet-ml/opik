{
 "cells": [
  {
   "cell_type": "markdown",
   "metadata": {},
   "source": [
    "---\n",
    "description: Cookbook that showcases Opik's integration with the Ragas Python SDK\n",
    "---\n",
    "\n",
    "# Using Ragas to evaluate RAG pipelines\n",
    "\n",
    "In this notebook, we will showcase how to use Opik with Ragas for monitoring and evaluation of RAG (Retrieval-Augmented Generation) pipelines.\n",
    "\n",
    "There are two main ways to use Opik with Ragas:\n",
    "\n",
    "1. Using Ragas metrics to score traces\n",
    "2. Using the Ragas `evaluate` function to score a dataset"
   ]
  },
  {
   "cell_type": "markdown",
   "metadata": {},
   "source": [
    "## Creating an account on Comet.com\n",
    "\n",
    "[Comet](https://www.comet.com/site?from=llm&utm_source=opik&utm_medium=colab&utm_content=ragas&utm_campaign=opik) provides a hosted version of the Opik platform, [simply create an account](https://www.comet.com/signup?from=llm&utm_source=opik&utm_medium=colab&utm_content=ragas&utm_campaign=opik) and grab you API Key.\n",
    "\n",
    "> You can also run the Opik platform locally, see the [installation guide](https://www.comet.com/docs/opik/self-host/overview/?from=llm&utm_source=opik&utm_medium=colab&utm_content=ragas&utm_campaign=opik) for more information."
   ]
  },
  {
   "cell_type": "code",
   "execution_count": 1,
   "metadata": {},
   "outputs": [
    {
     "name": "stdout",
     "output_type": "stream",
     "text": [
      "Note: you may need to restart the kernel to use updated packages.\n"
     ]
    }
   ],
   "source": [
    "%pip install --quiet --upgrade opik ragas nltk"
   ]
  },
  {
   "cell_type": "code",
   "execution_count": 2,
   "metadata": {},
   "outputs": [
    {
     "name": "stderr",
     "output_type": "stream",
     "text": [
      "OPIK: Opik is already configured. You can check the settings by viewing the config file at /Users/jacquesverre/.opik.config\n"
     ]
    }
   ],
   "source": [
    "import opik\n",
    "\n",
    "opik.configure(use_local=False)"
   ]
  },
  {
   "cell_type": "markdown",
   "metadata": {},
   "source": [
    "## Preparing our environment\n",
    "\n",
    "First, we will configure the OpenAI API key."
   ]
  },
  {
   "cell_type": "code",
   "execution_count": 3,
   "metadata": {},
   "outputs": [],
   "source": [
    "import os\n",
    "import getpass\n",
    "\n",
    "if \"OPENAI_API_KEY\" not in os.environ:\n",
    "    os.environ[\"OPENAI_API_KEY\"] = getpass.getpass(\"Enter your OpenAI API key: \")"
   ]
  },
  {
   "cell_type": "markdown",
   "metadata": {},
   "source": [
    "## Integrating Opik with Ragas\n",
    "\n",
    "### Using Ragas metrics to score traces\n",
    "\n",
    "Ragas provides a set of metrics that can be used to evaluate the quality of a RAG pipeline, including but not limited to: `answer_relevancy`, `answer_similarity`, `answer_correctness`, `context_precision`, `context_recall`, `context_entity_recall`, `summarization_score`. You can find a full list of metrics in the [Ragas documentation](https://docs.ragas.io/en/latest/references/metrics.html#).\n",
    "\n",
    "These metrics can be computed on the fly and logged to traces or spans in Opik. For this example, we will start by creating a simple RAG pipeline and then scoring it using the `answer_relevancy` metric.\n",
    "\n",
    "#### Create the Ragas metric\n",
    "\n",
    "In order to use the Ragas metric without using the `evaluate` function, you need to initialize the metric with a `RunConfig` object and an LLM provider. For this example, we will use LangChain as the LLM provider with the Opik tracer enabled.\n",
    "\n",
    "We will first start by initializing the Ragas metric:"
   ]
  },
  {
   "cell_type": "code",
   "execution_count": 4,
   "metadata": {},
   "outputs": [],
   "source": [
    "# Import the metric\n",
    "from ragas.metrics import AnswerRelevancy\n",
    "\n",
    "# Import some additional dependencies\n",
    "from langchain_openai.chat_models import ChatOpenAI\n",
    "from langchain_openai.embeddings import OpenAIEmbeddings\n",
    "from ragas.llms import LangchainLLMWrapper\n",
    "from ragas.embeddings import LangchainEmbeddingsWrapper\n",
    "\n",
    "# Initialize the Ragas metric\n",
    "llm = LangchainLLMWrapper(ChatOpenAI())\n",
    "emb = LangchainEmbeddingsWrapper(OpenAIEmbeddings())\n",
    "\n",
    "answer_relevancy_metric = AnswerRelevancy(llm=llm, embeddings=emb)"
   ]
  },
  {
   "cell_type": "markdown",
   "metadata": {},
   "source": [
    "Once the metric is initialized, you can use it to score a sample question. Given that the metric scoring is done asynchronously, you need to use the `asyncio` library to run the scoring function."
   ]
  },
  {
   "cell_type": "code",
   "execution_count": 5,
   "metadata": {},
   "outputs": [],
   "source": [
    "# Run this cell first if you are running this in a Jupyter notebook\n",
    "import nest_asyncio\n",
    "\n",
    "nest_asyncio.apply()"
   ]
  },
  {
   "cell_type": "code",
   "execution_count": 6,
   "metadata": {},
   "outputs": [
    {
     "name": "stderr",
     "output_type": "stream",
     "text": [
      "OPIK: Started logging traces to the \"ragas-integration\" project at https://www.comet.com/opik/jacques-comet/redirect/projects?name=ragas-integration.\n"
     ]
    },
    {
     "name": "stdout",
     "output_type": "stream",
     "text": [
      "Answer Relevancy score: 0.9999999999999996\n"
     ]
    }
   ],
   "source": [
    "import asyncio\n",
    "from ragas.integrations.opik import OpikTracer\n",
    "from ragas.dataset_schema import SingleTurnSample\n",
    "import os\n",
    "\n",
    "os.environ[\"OPIK_PROJECT_NAME\"] = \"ragas-integration\"\n",
    "\n",
    "\n",
    "# Define the scoring function\n",
    "def compute_metric(metric, row):\n",
    "    row = SingleTurnSample(**row)\n",
    "\n",
    "    opik_tracer = OpikTracer(tags=[\"ragas\"])\n",
    "\n",
    "    async def get_score(opik_tracer, metric, row):\n",
    "        score = await metric.single_turn_ascore(row, callbacks=[opik_tracer])\n",
    "        return score\n",
    "\n",
    "    # Run the async function using the current event loop\n",
    "    loop = asyncio.get_event_loop()\n",
    "\n",
    "    result = loop.run_until_complete(get_score(opik_tracer, metric, row))\n",
    "    return result\n",
    "\n",
    "\n",
    "# Score a simple example\n",
    "row = {\n",
    "    \"user_input\": \"What is the capital of France?\",\n",
    "    \"response\": \"Paris\",\n",
    "    \"retrieved_contexts\": [\"Paris is the capital of France.\", \"Paris is in France.\"],\n",
    "}\n",
    "\n",
    "score = compute_metric(answer_relevancy_metric, row)\n",
    "print(\"Answer Relevancy score:\", score)"
   ]
  },
  {
   "cell_type": "markdown",
   "metadata": {},
   "source": [
    "If you now navigate to Opik, you will be able to see that a new trace has been created in the `Default Project` project.\n",
    "\n",
    "#### Score traces\n",
    "\n",
    "You can score traces by using the `update_current_trace` function.\n",
    "\n",
    "The advantage of this approach is that the scoring span is added to the trace allowing for a more fine-grained analysis of the RAG pipeline. It will however run the Ragas metric calculation synchronously and so might not be suitable for production use-cases."
   ]
  },
  {
   "cell_type": "code",
   "execution_count": 7,
   "metadata": {},
   "outputs": [
    {
     "name": "stderr",
     "output_type": "stream",
     "text": [
      "OPIK: Started logging traces to the \"ragas-integration\" project at https://www.comet.com/opik/jacques-comet/redirect/projects?name=ragas-integration.\n"
     ]
    },
    {
     "data": {
      "text/plain": [
       "'Paris'"
      ]
     },
     "execution_count": 7,
     "metadata": {},
     "output_type": "execute_result"
    }
   ],
   "source": [
    "from opik import track, opik_context\n",
    "\n",
    "\n",
    "@track\n",
    "def retrieve_contexts(question):\n",
    "    # Define the retrieval function, in this case we will hard code the contexts\n",
    "    return [\"Paris is the capital of France.\", \"Paris is in France.\"]\n",
    "\n",
    "\n",
    "@track\n",
    "def answer_question(question, contexts):\n",
    "    # Define the answer function, in this case we will hard code the answer\n",
    "    return \"Paris\"\n",
    "\n",
    "\n",
    "@track(name=\"Compute Ragas metric score\", capture_input=False)\n",
    "def compute_rag_score(answer_relevancy_metric, question, answer, contexts):\n",
    "    # Define the score function\n",
    "    row = {\"user_input\": question, \"response\": answer, \"retrieved_contexts\": contexts}\n",
    "    score = compute_metric(answer_relevancy_metric, row)\n",
    "    return score\n",
    "\n",
    "\n",
    "@track\n",
    "def rag_pipeline(question):\n",
    "    # Define the pipeline\n",
    "    contexts = retrieve_contexts(question)\n",
    "    answer = answer_question(question, contexts)\n",
    "\n",
    "    score = compute_rag_score(answer_relevancy_metric, question, answer, contexts)\n",
    "    opik_context.update_current_trace(\n",
    "        feedback_scores=[{\"name\": \"answer_relevancy\", \"value\": round(score, 4)}]\n",
    "    )\n",
    "\n",
    "    return answer\n",
    "\n",
    "\n",
    "rag_pipeline(\"What is the capital of France?\")"
   ]
  },
  {
   "cell_type": "markdown",
   "metadata": {},
   "source": [
    "#### Evaluating datasets using the Opik `evaluate` function\n",
    "\n",
    "You can use Ragas metrics with the Opik `evaluate` function. This will compute the metrics on all the rows of the dataset and return a summary of the results.\n",
    "\n",
    "As Ragas metrics are only async, we will need to create a wrapper to be able to use them with the Opik `evaluate` function."
   ]
  },
  {
   "cell_type": "code",
   "execution_count": 8,
   "metadata": {},
   "outputs": [
    {
     "name": "stderr",
     "output_type": "stream",
     "text": [
      "Evaluation: 100%|██████████| 3/3 [00:02<00:00,  1.17it/s]\n"
     ]
    },
    {
     "data": {
      "text/html": [
       "<pre style=\"white-space:pre;overflow-x:auto;line-height:normal;font-family:Menlo,'DejaVu Sans Mono',consolas,'Courier New',monospace\">╭─ ragas-demo-dataset (3 samples) ──────╮\n",
       "│                                       │\n",
       "│ <span style=\"font-weight: bold\">Total time:       </span> 00:00:02           │\n",
       "│ <span style=\"font-weight: bold\">Number of samples:</span> 3                  │\n",
       "│                                       │\n",
       "│ <span style=\"color: #008000; text-decoration-color: #008000; font-weight: bold\">answer_relevancy_metric: 1.0000 (avg)</span> │\n",
       "│                                       │\n",
       "╰───────────────────────────────────────╯\n",
       "</pre>\n"
      ],
      "text/plain": [
       "╭─ ragas-demo-dataset (3 samples) ──────╮\n",
       "│                                       │\n",
       "│ \u001b[1mTotal time:       \u001b[0m 00:00:02           │\n",
       "│ \u001b[1mNumber of samples:\u001b[0m 3                  │\n",
       "│                                       │\n",
       "│ \u001b[1;32manswer_relevancy_metric: 1.0000 (avg)\u001b[0m │\n",
       "│                                       │\n",
       "╰───────────────────────────────────────╯\n"
      ]
     },
     "metadata": {},
     "output_type": "display_data"
    },
    {
     "data": {
      "text/html": [
       "<pre style=\"white-space:pre;overflow-x:auto;line-height:normal;font-family:Menlo,'DejaVu Sans Mono',consolas,'Courier New',monospace\">Uploading results to Opik <span style=\"color: #808000; text-decoration-color: #808000\">...</span> \n",
       "</pre>\n"
      ],
      "text/plain": [
       "Uploading results to Opik \u001b[33m...\u001b[0m \n"
      ]
     },
     "metadata": {},
     "output_type": "display_data"
    },
    {
     "data": {
      "text/html": [
       "<pre style=\"white-space:pre;overflow-x:auto;line-height:normal;font-family:Menlo,'DejaVu Sans Mono',consolas,'Courier New',monospace\">View the results <a href=\"https://www.comet.com/opik/jacques-comet/experiments/01936935-83db-72a4-9f81-c1d07efdb433/compare?experiments=%5B%2201948016-66d7-73e7-82e1-fc6d9aae18f7%22%5D\" target=\"_blank\">in your Opik dashboard</a>.\n",
       "</pre>\n"
      ],
      "text/plain": [
       "View the results \u001b]8;id=566302;https://www.comet.com/opik/jacques-comet/experiments/01936935-83db-72a4-9f81-c1d07efdb433/compare?experiments=%5B%2201948016-66d7-73e7-82e1-fc6d9aae18f7%22%5D\u001b\\in your Opik dashboard\u001b]8;;\u001b\\.\n"
      ]
     },
     "metadata": {},
     "output_type": "display_data"
    },
    {
     "data": {
      "text/plain": [
       "EvaluationResult(experiment_id='01948016-66d7-73e7-82e1-fc6d9aae18f7', experiment_name='disastrous_horse_4635', test_results=[TestResult(test_case=TestCase(trace_id='01948016-689f-707c-9c99-7c56aca9b6dd', dataset_item_id='06745f1a-1e67-7d45-8000-730b2f4bfd7c', scoring_inputs={'reference': \"You're confusing a lot of things here. Company B LLC will have it's sales run under Company A LLC, and cease operating as a separate entity These two are contradicting each other. If B LLC ceases to exist - it is not going to have it's sales run under A LLC, since there will be no sales to run for a non-existent company. What happens is that you merge B LLC into A LLC, and then convert A LLC into S Corp. So you're cancelling the EIN for B LLC, you're cancelling the EIN for A LLC - because both entities cease to exist. You then create a EIN for A Corp, which is the converted A LLC, and you create a DBA where A Corp DBA B Shop. You then go to the bank and open the account for A Corp DBA B Shop with the EIN you just created for A Corp. Get a better accountant. Before you convert to S-Corp.\", 'question': '1 EIN doing business under multiple business names', 'answer': '\\nYes, it is possible to have one EIN doing business under multiple business names. This can be done by filing a \"Doing Business As\" (DBA) document with the local government and having the bank call the county seat to verify the DBA. The DBA form will need to be processed and recorded, and there may be a fee associated with this.', 'user_input': '1 EIN doing business under multiple business names', 'ground_truths': [\"You're confusing a lot of things here. Company B LLC will have it's sales run under Company A LLC, and cease operating as a separate entity These two are contradicting each other. If B LLC ceases to exist - it is not going to have it's sales run under A LLC, since there will be no sales to run for a non-existent company. What happens is that you merge B LLC into A LLC, and then convert A LLC into S Corp. So you're cancelling the EIN for B LLC, you're cancelling the EIN for A LLC - because both entities cease to exist. You then create a EIN for A Corp, which is the converted A LLC, and you create a DBA where A Corp DBA B Shop. You then go to the bank and open the account for A Corp DBA B Shop with the EIN you just created for A Corp. Get a better accountant. Before you convert to S-Corp.\"], 'contexts': ['You\\'re confusing a lot of things here. Company B LLC will have it\\'s sales run under Company A LLC, and cease operating as a separate entity These two are contradicting each other. If B LLC ceases to exist - it is not going to have it\\'s sales run under A LLC, since there will be no sales to run for a non-existent company. What happens is that you merge B LLC into A LLC, and then convert A LLC into S Corp. So you\\'re cancelling the EIN for B LLC, you\\'re cancelling the EIN for A LLC - because both entities cease to exist. You then create a EIN for A Corp, which is the converted A LLC, and you create a DBA where A Corp DBA B Shop. You then go to the bank and open the account for A Corp DBA B Shop with the EIN you just created for A Corp. Get a better accountant. Before you convert to S-Corp.You don\\'t need to notify the IRS of new members, the IRS doesn\\'t care (at this stage). What you do need, if you have a EIN for a single-member LLC, is to request a new EIN since your LLC is now a partnership (a different entity, from IRS perspective). From now on, you\\'ll need to file form 1065 with the IRS in case of business related income, on which you will declare the membership distribution interests on Schedules K-1 for each member.\"Depending on where you are, you may be able to get away with filing a \"\"Doing Business As\"\" document with your local government, and then having the bank call the county seat to verify this. There is generally a fee for processing/recording/filing the DBA form, of course. But it\\'s useful for more purposes than just this one. (I still need to file a DBA for my hobby work-for-pay, for exactly this reason.)\"'], 'retrieved_contexts': ['You\\'re confusing a lot of things here. Company B LLC will have it\\'s sales run under Company A LLC, and cease operating as a separate entity These two are contradicting each other. If B LLC ceases to exist - it is not going to have it\\'s sales run under A LLC, since there will be no sales to run for a non-existent company. What happens is that you merge B LLC into A LLC, and then convert A LLC into S Corp. So you\\'re cancelling the EIN for B LLC, you\\'re cancelling the EIN for A LLC - because both entities cease to exist. You then create a EIN for A Corp, which is the converted A LLC, and you create a DBA where A Corp DBA B Shop. You then go to the bank and open the account for A Corp DBA B Shop with the EIN you just created for A Corp. Get a better accountant. Before you convert to S-Corp.You don\\'t need to notify the IRS of new members, the IRS doesn\\'t care (at this stage). What you do need, if you have a EIN for a single-member LLC, is to request a new EIN since your LLC is now a partnership (a different entity, from IRS perspective). From now on, you\\'ll need to file form 1065 with the IRS in case of business related income, on which you will declare the membership distribution interests on Schedules K-1 for each member.\"Depending on where you are, you may be able to get away with filing a \"\"Doing Business As\"\" document with your local government, and then having the bank call the county seat to verify this. There is generally a fee for processing/recording/filing the DBA form, of course. But it\\'s useful for more purposes than just this one. (I still need to file a DBA for my hobby work-for-pay, for exactly this reason.)\"'], 'response': '\\nYes, it is possible to have one EIN doing business under multiple business names. This can be done by filing a \"Doing Business As\" (DBA) document with the local government and having the bank call the county seat to verify the DBA. The DBA form will need to be processed and recorded, and there may be a fee associated with this.'}, task_output={'user_input': '1 EIN doing business under multiple business names', 'response': '\\nYes, it is possible to have one EIN doing business under multiple business names. This can be done by filing a \"Doing Business As\" (DBA) document with the local government and having the bank call the county seat to verify the DBA. The DBA form will need to be processed and recorded, and there may be a fee associated with this.', 'retrieved_contexts': ['You\\'re confusing a lot of things here. Company B LLC will have it\\'s sales run under Company A LLC, and cease operating as a separate entity These two are contradicting each other. If B LLC ceases to exist - it is not going to have it\\'s sales run under A LLC, since there will be no sales to run for a non-existent company. What happens is that you merge B LLC into A LLC, and then convert A LLC into S Corp. So you\\'re cancelling the EIN for B LLC, you\\'re cancelling the EIN for A LLC - because both entities cease to exist. You then create a EIN for A Corp, which is the converted A LLC, and you create a DBA where A Corp DBA B Shop. You then go to the bank and open the account for A Corp DBA B Shop with the EIN you just created for A Corp. Get a better accountant. Before you convert to S-Corp.You don\\'t need to notify the IRS of new members, the IRS doesn\\'t care (at this stage). What you do need, if you have a EIN for a single-member LLC, is to request a new EIN since your LLC is now a partnership (a different entity, from IRS perspective). From now on, you\\'ll need to file form 1065 with the IRS in case of business related income, on which you will declare the membership distribution interests on Schedules K-1 for each member.\"Depending on where you are, you may be able to get away with filing a \"\"Doing Business As\"\" document with your local government, and then having the bank call the county seat to verify this. There is generally a fee for processing/recording/filing the DBA form, of course. But it\\'s useful for more purposes than just this one. (I still need to file a DBA for my hobby work-for-pay, for exactly this reason.)\"']}), score_results=[ScoreResult(name='answer_relevancy_metric', value=0.9999999999999996, reason=None, metadata=None, scoring_failed=False)]), TestResult(test_case=TestCase(trace_id='01948016-68a5-7ac2-938d-11f80d00fcf0', dataset_item_id='06745f1a-1e67-7579-8000-2a216721898a', scoring_inputs={'reference': \"Have the check reissued to the proper payee.Just have the associate sign the back and then deposit it.  It's called a third party cheque and is perfectly legal.  I wouldn't be surprised if it has a longer hold period and, as always, you don't get the money if the cheque doesn't clear. Now, you may have problems if it's a large amount or you're not very well known at the bank.  In that case you can have the associate go to the bank and endorse it in front of the teller with some ID.  You don't even technically have to be there.  Anybody can deposit money to your account if they have the account number. He could also just deposit it in his account and write a cheque to the business.\", 'question': 'How to deposit a cheque issued to an associate in my business into my business account?', 'answer': '\\nThe best way to deposit a cheque issued to an associate in your business into your business account is to open a business account with the bank. You will need a state-issued \"dba\" certificate from the county clerk\\'s office as well as an Employer ID Number (EIN) issued by the IRS. Once you have opened the business account, you can have the associate sign the back of the cheque and deposit it into the business account.', 'user_input': 'How to deposit a cheque issued to an associate in my business into my business account?', 'ground_truths': [\"Have the check reissued to the proper payee.Just have the associate sign the back and then deposit it.  It's called a third party cheque and is perfectly legal.  I wouldn't be surprised if it has a longer hold period and, as always, you don't get the money if the cheque doesn't clear. Now, you may have problems if it's a large amount or you're not very well known at the bank.  In that case you can have the associate go to the bank and endorse it in front of the teller with some ID.  You don't even technically have to be there.  Anybody can deposit money to your account if they have the account number. He could also just deposit it in his account and write a cheque to the business.\"], 'contexts': ['Just have the associate sign the back and then deposit it.  It\\'s called a third party cheque and is perfectly legal.  I wouldn\\'t be surprised if it has a longer hold period and, as always, you don\\'t get the money if the cheque doesn\\'t clear. Now, you may have problems if it\\'s a large amount or you\\'re not very well known at the bank.  In that case you can have the associate go to the bank and endorse it in front of the teller with some ID.  You don\\'t even technically have to be there.  Anybody can deposit money to your account if they have the account number. He could also just deposit it in his account and write a cheque to the business.\"I have checked with Bank of America, and they say the ONLY way to cash (or deposit, or otherwise get access to the funds represented by a check made out to my business) is to open a business account. They tell me this is a Federal regulation, and every bank will say the same thing.  To do this, I need a state-issued \"\"dba\"\" certificate (from the county clerk\\'s office) as well as an Employer ID Number (EIN) issued by the IRS. AND their CHEAPEST business banking account costs $15 / month. I think I can go to the bank that the check is drawn upon, and they will cash it, assuming I have documentation showing that I am the sole proprietor. But I\\'m not sure.... What a racket!!\"When a business asks me to make out a cheque to a person rather than the business name, I take that as a red flag. Frankly it usually means that the person doesn\\'t want the money going through their business account for some reason - probably tax evasion. I\\'m not saying you are doing that, but it is a frequent issue. If the company makes the cheque out to a person they may run the risk of being party to fraud. Worse still they only have your word for it that you actually own the company, and aren\\'t ripping off your employer by pocketing their payment. Even worse, when the company is audited and finds that cheque, the person who wrote it will have to justify and document why they made it out to you or risk being charged with embezzlement. It\\'s very much in their interests to make the cheque out to the company they did business with. Given that, you should really have an account in the name of your business. It\\'s going to make your life much simpler in the long run.'], 'retrieved_contexts': ['Just have the associate sign the back and then deposit it.  It\\'s called a third party cheque and is perfectly legal.  I wouldn\\'t be surprised if it has a longer hold period and, as always, you don\\'t get the money if the cheque doesn\\'t clear. Now, you may have problems if it\\'s a large amount or you\\'re not very well known at the bank.  In that case you can have the associate go to the bank and endorse it in front of the teller with some ID.  You don\\'t even technically have to be there.  Anybody can deposit money to your account if they have the account number. He could also just deposit it in his account and write a cheque to the business.\"I have checked with Bank of America, and they say the ONLY way to cash (or deposit, or otherwise get access to the funds represented by a check made out to my business) is to open a business account. They tell me this is a Federal regulation, and every bank will say the same thing.  To do this, I need a state-issued \"\"dba\"\" certificate (from the county clerk\\'s office) as well as an Employer ID Number (EIN) issued by the IRS. AND their CHEAPEST business banking account costs $15 / month. I think I can go to the bank that the check is drawn upon, and they will cash it, assuming I have documentation showing that I am the sole proprietor. But I\\'m not sure.... What a racket!!\"When a business asks me to make out a cheque to a person rather than the business name, I take that as a red flag. Frankly it usually means that the person doesn\\'t want the money going through their business account for some reason - probably tax evasion. I\\'m not saying you are doing that, but it is a frequent issue. If the company makes the cheque out to a person they may run the risk of being party to fraud. Worse still they only have your word for it that you actually own the company, and aren\\'t ripping off your employer by pocketing their payment. Even worse, when the company is audited and finds that cheque, the person who wrote it will have to justify and document why they made it out to you or risk being charged with embezzlement. It\\'s very much in their interests to make the cheque out to the company they did business with. Given that, you should really have an account in the name of your business. It\\'s going to make your life much simpler in the long run.'], 'response': '\\nThe best way to deposit a cheque issued to an associate in your business into your business account is to open a business account with the bank. You will need a state-issued \"dba\" certificate from the county clerk\\'s office as well as an Employer ID Number (EIN) issued by the IRS. Once you have opened the business account, you can have the associate sign the back of the cheque and deposit it into the business account.'}, task_output={'user_input': 'How to deposit a cheque issued to an associate in my business into my business account?', 'response': '\\nThe best way to deposit a cheque issued to an associate in your business into your business account is to open a business account with the bank. You will need a state-issued \"dba\" certificate from the county clerk\\'s office as well as an Employer ID Number (EIN) issued by the IRS. Once you have opened the business account, you can have the associate sign the back of the cheque and deposit it into the business account.', 'retrieved_contexts': ['Just have the associate sign the back and then deposit it.  It\\'s called a third party cheque and is perfectly legal.  I wouldn\\'t be surprised if it has a longer hold period and, as always, you don\\'t get the money if the cheque doesn\\'t clear. Now, you may have problems if it\\'s a large amount or you\\'re not very well known at the bank.  In that case you can have the associate go to the bank and endorse it in front of the teller with some ID.  You don\\'t even technically have to be there.  Anybody can deposit money to your account if they have the account number. He could also just deposit it in his account and write a cheque to the business.\"I have checked with Bank of America, and they say the ONLY way to cash (or deposit, or otherwise get access to the funds represented by a check made out to my business) is to open a business account. They tell me this is a Federal regulation, and every bank will say the same thing.  To do this, I need a state-issued \"\"dba\"\" certificate (from the county clerk\\'s office) as well as an Employer ID Number (EIN) issued by the IRS. AND their CHEAPEST business banking account costs $15 / month. I think I can go to the bank that the check is drawn upon, and they will cash it, assuming I have documentation showing that I am the sole proprietor. But I\\'m not sure.... What a racket!!\"When a business asks me to make out a cheque to a person rather than the business name, I take that as a red flag. Frankly it usually means that the person doesn\\'t want the money going through their business account for some reason - probably tax evasion. I\\'m not saying you are doing that, but it is a frequent issue. If the company makes the cheque out to a person they may run the risk of being party to fraud. Worse still they only have your word for it that you actually own the company, and aren\\'t ripping off your employer by pocketing their payment. Even worse, when the company is audited and finds that cheque, the person who wrote it will have to justify and document why they made it out to you or risk being charged with embezzlement. It\\'s very much in their interests to make the cheque out to the company they did business with. Given that, you should really have an account in the name of your business. It\\'s going to make your life much simpler in the long run.']}), score_results=[ScoreResult(name='answer_relevancy_metric', value=0.9999999999999996, reason=None, metadata=None, scoring_failed=False)]), TestResult(test_case=TestCase(trace_id='01948016-68a2-7b0b-a409-87baca086dd7', dataset_item_id='06745f1a-1e67-7a95-8000-13c09bccb2f4', scoring_inputs={'reference': \"Sure you can.  You can fill in whatever you want in the From section of a money order, so your business name and address would be fine. The price only includes the money order itself.  You can hand deliver it yourself if you want, but if you want to mail it, you'll have to provide an envelope and a stamp. Note that, since you won't have a bank record of this payment, you'll want to make sure you keep other records, such as the stub of the money order.  You should probably also ask the contractor to give you a receipt.\", 'question': 'Can I send a money order from USPS as a business?', 'answer': '\\nYes, you can send a money order from USPS as a business. You can fill in whatever you want in the From section of the money order, including your business name and address. The price only includes the money order itself, so you will need to provide an envelope and a stamp if you want to mail it. It is important to keep records of the payment, such as the stub of the money order, and to ask the contractor for a receipt.', 'user_input': 'Can I send a money order from USPS as a business?', 'ground_truths': [\"Sure you can.  You can fill in whatever you want in the From section of a money order, so your business name and address would be fine. The price only includes the money order itself.  You can hand deliver it yourself if you want, but if you want to mail it, you'll have to provide an envelope and a stamp. Note that, since you won't have a bank record of this payment, you'll want to make sure you keep other records, such as the stub of the money order.  You should probably also ask the contractor to give you a receipt.\"], 'contexts': ['Sure you can.  You can fill in whatever you want in the From section of a money order, so your business name and address would be fine. The price only includes the money order itself.  You can hand deliver it yourself if you want, but if you want to mail it, you\\'ll have to provide an envelope and a stamp. Note that, since you won\\'t have a bank record of this payment, you\\'ll want to make sure you keep other records, such as the stub of the money order.  You should probably also ask the contractor to give you a receipt.\"Lets say you owed me $123.00 an wanted to mail me a check. I would then take the check from my mailbox an either take it to my bank, or scan it and deposit it via their electronic interface. Prior to you mailing it you would have no idea which bank I would use, or what my account number is. In fact I could have multiple bank accounts, so I could decide which one to deposit it into depending on what I wanted to do with the money, or which bank paid the most interest, or by coin flip. Now once the check is deposited my bank would then \"\"stamp\"\" the check with their name, their routing number, the date, an my account number. Eventually an image of the canceled check would then end up back at your bank. Which they would either send to you, or make available to you via their banking website. You don\\'t mail it to my bank. You mail it to my home, or my business, or wherever I tell you to mail it. Some business give you the address of another location, where either a 3rd party processes all their checks, or a central location  where all the money for multiple branches are processed. If you do owe a company they will generally ask that in the memo section in the lower left corner that you include your customer number. This is to make sure that if they have multiple Juans the money is accounted correctly. In all my dealings will paying bills and mailing checks I have never been asked to send a check directly to the bank. If they want you to do exactly as you describe, they should provide you with a form or other instructions.\"\"I have checked with Bank of America, and they say the ONLY way to cash (or deposit, or otherwise get access to the funds represented by a check made out to my business) is to open a business account. They tell me this is a Federal regulation, and every bank will say the same thing.  To do this, I need a state-issued \"\"dba\"\" certificate (from the county clerk\\'s office) as well as an Employer ID Number (EIN) issued by the IRS. AND their CHEAPEST business banking account costs $15 / month. I think I can go to the bank that the check is drawn upon, and they will cash it, assuming I have documentation showing that I am the sole proprietor. But I\\'m not sure.... What a racket!!\"'], 'retrieved_contexts': ['Sure you can.  You can fill in whatever you want in the From section of a money order, so your business name and address would be fine. The price only includes the money order itself.  You can hand deliver it yourself if you want, but if you want to mail it, you\\'ll have to provide an envelope and a stamp. Note that, since you won\\'t have a bank record of this payment, you\\'ll want to make sure you keep other records, such as the stub of the money order.  You should probably also ask the contractor to give you a receipt.\"Lets say you owed me $123.00 an wanted to mail me a check. I would then take the check from my mailbox an either take it to my bank, or scan it and deposit it via their electronic interface. Prior to you mailing it you would have no idea which bank I would use, or what my account number is. In fact I could have multiple bank accounts, so I could decide which one to deposit it into depending on what I wanted to do with the money, or which bank paid the most interest, or by coin flip. Now once the check is deposited my bank would then \"\"stamp\"\" the check with their name, their routing number, the date, an my account number. Eventually an image of the canceled check would then end up back at your bank. Which they would either send to you, or make available to you via their banking website. You don\\'t mail it to my bank. You mail it to my home, or my business, or wherever I tell you to mail it. Some business give you the address of another location, where either a 3rd party processes all their checks, or a central location  where all the money for multiple branches are processed. If you do owe a company they will generally ask that in the memo section in the lower left corner that you include your customer number. This is to make sure that if they have multiple Juans the money is accounted correctly. In all my dealings will paying bills and mailing checks I have never been asked to send a check directly to the bank. If they want you to do exactly as you describe, they should provide you with a form or other instructions.\"\"I have checked with Bank of America, and they say the ONLY way to cash (or deposit, or otherwise get access to the funds represented by a check made out to my business) is to open a business account. They tell me this is a Federal regulation, and every bank will say the same thing.  To do this, I need a state-issued \"\"dba\"\" certificate (from the county clerk\\'s office) as well as an Employer ID Number (EIN) issued by the IRS. AND their CHEAPEST business banking account costs $15 / month. I think I can go to the bank that the check is drawn upon, and they will cash it, assuming I have documentation showing that I am the sole proprietor. But I\\'m not sure.... What a racket!!\"'], 'response': '\\nYes, you can send a money order from USPS as a business. You can fill in whatever you want in the From section of the money order, including your business name and address. The price only includes the money order itself, so you will need to provide an envelope and a stamp if you want to mail it. It is important to keep records of the payment, such as the stub of the money order, and to ask the contractor for a receipt.'}, task_output={'user_input': 'Can I send a money order from USPS as a business?', 'response': '\\nYes, you can send a money order from USPS as a business. You can fill in whatever you want in the From section of the money order, including your business name and address. The price only includes the money order itself, so you will need to provide an envelope and a stamp if you want to mail it. It is important to keep records of the payment, such as the stub of the money order, and to ask the contractor for a receipt.', 'retrieved_contexts': ['Sure you can.  You can fill in whatever you want in the From section of a money order, so your business name and address would be fine. The price only includes the money order itself.  You can hand deliver it yourself if you want, but if you want to mail it, you\\'ll have to provide an envelope and a stamp. Note that, since you won\\'t have a bank record of this payment, you\\'ll want to make sure you keep other records, such as the stub of the money order.  You should probably also ask the contractor to give you a receipt.\"Lets say you owed me $123.00 an wanted to mail me a check. I would then take the check from my mailbox an either take it to my bank, or scan it and deposit it via their electronic interface. Prior to you mailing it you would have no idea which bank I would use, or what my account number is. In fact I could have multiple bank accounts, so I could decide which one to deposit it into depending on what I wanted to do with the money, or which bank paid the most interest, or by coin flip. Now once the check is deposited my bank would then \"\"stamp\"\" the check with their name, their routing number, the date, an my account number. Eventually an image of the canceled check would then end up back at your bank. Which they would either send to you, or make available to you via their banking website. You don\\'t mail it to my bank. You mail it to my home, or my business, or wherever I tell you to mail it. Some business give you the address of another location, where either a 3rd party processes all their checks, or a central location  where all the money for multiple branches are processed. If you do owe a company they will generally ask that in the memo section in the lower left corner that you include your customer number. This is to make sure that if they have multiple Juans the money is accounted correctly. In all my dealings will paying bills and mailing checks I have never been asked to send a check directly to the bank. If they want you to do exactly as you describe, they should provide you with a form or other instructions.\"\"I have checked with Bank of America, and they say the ONLY way to cash (or deposit, or otherwise get access to the funds represented by a check made out to my business) is to open a business account. They tell me this is a Federal regulation, and every bank will say the same thing.  To do this, I need a state-issued \"\"dba\"\" certificate (from the county clerk\\'s office) as well as an Employer ID Number (EIN) issued by the IRS. AND their CHEAPEST business banking account costs $15 / month. I think I can go to the bank that the check is drawn upon, and they will cash it, assuming I have documentation showing that I am the sole proprietor. But I\\'m not sure.... What a racket!!\"']}), score_results=[ScoreResult(name='answer_relevancy_metric', value=0.9999999999999996, reason=None, metadata=None, scoring_failed=False)])])"
      ]
     },
     "execution_count": 8,
     "metadata": {},
     "output_type": "execute_result"
    }
   ],
   "source": [
    "from datasets import load_dataset\n",
    "from opik.evaluation.metrics import base_metric, score_result\n",
    "import opik\n",
    "\n",
    "\n",
    "opik_client = opik.Opik()\n",
    "\n",
    "# Create a small dataset\n",
    "fiqa_eval = load_dataset(\"explodinggradients/fiqa\", \"ragas_eval\")\n",
    "\n",
    "# Reformat the dataset to match the schema expected by the Ragas evaluate function\n",
    "hf_dataset = fiqa_eval[\"baseline\"].select(range(3))\n",
    "dataset_items = hf_dataset.map(\n",
    "    lambda x: {\n",
    "        \"user_input\": x[\"question\"],\n",
    "        \"reference\": x[\"ground_truths\"][0],\n",
    "        \"retrieved_contexts\": x[\"contexts\"],\n",
    "    }\n",
    ")\n",
    "dataset = opik_client.get_or_create_dataset(\"ragas-demo-dataset\")\n",
    "dataset.insert(dataset_items)\n",
    "\n",
    "\n",
    "# Create an evaluation task\n",
    "def evaluation_task(x):\n",
    "    return {\n",
    "        \"user_input\": x[\"question\"],\n",
    "        \"response\": x[\"answer\"],\n",
    "        \"retrieved_contexts\": x[\"contexts\"],\n",
    "    }\n",
    "\n",
    "\n",
    "# Create scoring metric wrapper\n",
    "class AnswerRelevancyWrapper(base_metric.BaseMetric):\n",
    "    def __init__(self, metric):\n",
    "        self.name = \"answer_relevancy_metric\"\n",
    "        self.metric = metric\n",
    "\n",
    "    async def get_score(self, row):\n",
    "        row = SingleTurnSample(**row)\n",
    "        score = await self.metric.single_turn_ascore(row)\n",
    "        return score\n",
    "\n",
    "    def score(self, user_input, response, **ignored_kwargs):\n",
    "        # Run the async function using the current event loop\n",
    "        loop = asyncio.get_event_loop()\n",
    "\n",
    "        result = loop.run_until_complete(self.get_score(row))\n",
    "\n",
    "        return score_result.ScoreResult(value=result, name=self.name)\n",
    "\n",
    "\n",
    "scoring_metric = AnswerRelevancyWrapper(answer_relevancy_metric)\n",
    "opik.evaluation.evaluate(\n",
    "    dataset,\n",
    "    evaluation_task,\n",
    "    scoring_metrics=[scoring_metric],\n",
    "    task_threads=1,\n",
    ")"
   ]
  },
  {
   "cell_type": "markdown",
   "metadata": {},
   "source": [
    "#### Evaluating datasets using the Ragas `evaluate` function\n",
    "\n",
    "If you looking at evaluating a dataset, you can use the Ragas `evaluate` function. When using this function, the Ragas library will compute the metrics on all the rows of the dataset and return a summary of the results.\n",
    "\n",
    "You can use the `OpikTracer` callback to log the results of the evaluation to the Opik platform:"
   ]
  },
  {
   "cell_type": "code",
   "execution_count": 9,
   "metadata": {},
   "outputs": [
    {
     "data": {
      "application/vnd.jupyter.widget-view+json": {
       "model_id": "4b0ea631a30246aa9025e93d5e083588",
       "version_major": 2,
       "version_minor": 0
      },
      "text/plain": [
       "Evaluating:   0%|          | 0/9 [00:00<?, ?it/s]"
      ]
     },
     "metadata": {},
     "output_type": "display_data"
    },
    {
     "name": "stderr",
     "output_type": "stream",
     "text": [
      "OPIK: Started logging traces to the \"ragas-integration\" project at https://www.comet.com/opik/jacques-comet/redirect/projects?name=ragas-integration.\n"
     ]
    },
    {
     "name": "stdout",
     "output_type": "stream",
     "text": [
      "{'context_precision': 1.0000, 'faithfulness': 0.8190, 'answer_relevancy': 0.9583}\n"
     ]
    }
   ],
   "source": [
    "from datasets import load_dataset\n",
    "from ragas.metrics import context_precision, answer_relevancy, faithfulness\n",
    "from ragas import evaluate\n",
    "\n",
    "fiqa_eval = load_dataset(\"explodinggradients/fiqa\", \"ragas_eval\")\n",
    "\n",
    "# Reformat the dataset to match the schema expected by the Ragas evaluate function\n",
    "dataset = fiqa_eval[\"baseline\"].select(range(3))\n",
    "\n",
    "dataset = dataset.map(\n",
    "    lambda x: {\n",
    "        \"user_input\": x[\"question\"],\n",
    "        \"reference\": x[\"ground_truths\"][0],\n",
    "        \"retrieved_contexts\": x[\"contexts\"],\n",
    "    }\n",
    ")\n",
    "\n",
    "opik_tracer_eval = OpikTracer(tags=[\"ragas_eval\"], metadata={\"evaluation_run\": True})\n",
    "\n",
    "result = evaluate(\n",
    "    dataset,\n",
    "    metrics=[context_precision, faithfulness, answer_relevancy],\n",
    "    callbacks=[opik_tracer_eval],\n",
    ")\n",
    "\n",
    "print(result)"
   ]
  },
  {
   "cell_type": "code",
   "execution_count": null,
   "metadata": {},
   "outputs": [],
   "source": []
  }
 ],
 "metadata": {
  "kernelspec": {
   "display_name": "py312_llm_eval",
   "language": "python",
   "name": "python3"
  },
  "language_info": {
   "codemirror_mode": {
    "name": "ipython",
    "version": 3
   },
   "file_extension": ".py",
   "mimetype": "text/x-python",
   "name": "python",
   "nbconvert_exporter": "python",
   "pygments_lexer": "ipython3",
   "version": "3.12.4"
  }
 },
 "nbformat": 4,
 "nbformat_minor": 2
}
