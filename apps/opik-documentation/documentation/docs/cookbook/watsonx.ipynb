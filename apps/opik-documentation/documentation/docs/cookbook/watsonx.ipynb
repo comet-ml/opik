{
 "cells": [
  {
   "cell_type": "markdown",
   "metadata": {},
   "source": [
    "---\n",
    "description: Cookbook that showcases Opik's integration with Watsonx through the LiteLLM Python SDK\n",
    "---\n",
    "\n",
    "# Using Opik with watsonx\n",
    "\n",
    "Opik integrates with watsonx to provide a simple way to log traces for all watsonx LLM calls. This works for all watsonx models."
   ]
  },
  {
   "cell_type": "markdown",
   "metadata": {},
   "source": [
    "## Creating an account on Comet.com\n",
    "\n",
    "[Comet](https://www.comet.com/site?from=llm&utm_source=opik&utm_medium=colab&utm_content=watsonx&utm_campaign=opik) provides a hosted version of the Opik platform, [simply create an account](https://www.comet.com/signup?from=llm&utm_source=opik&utm_medium=colab&utm_content=watsonx&utm_campaign=opik) and grab you API Key.\n",
    "\n",
    "> You can also run the Opik platform locally, see the [installation guide](https://www.comet.com/docs/opik/self-host/overview/?from=llm&utm_source=opik&utm_medium=colab&utm_content=watsonx&utm_campaign=opik) for more information."
   ]
  },
  {
   "cell_type": "code",
   "execution_count": null,
   "metadata": {},
   "outputs": [],
   "source": [
    "%pip install --upgrade opik litellm"
   ]
  },
  {
   "cell_type": "code",
   "execution_count": null,
   "metadata": {},
   "outputs": [],
   "source": [
    "import opik\n",
    "\n",
    "opik.configure(use_local=False)"
   ]
  },
  {
   "cell_type": "markdown",
   "metadata": {},
   "source": [
    "## Preparing our environment\n",
    "\n",
    "First, we will set up our watsonx API keys. You can learn more about how to find these in the [Opik watsonx integration guide](https://www.comet.com/docs/opik/tracing/integrations/watsonx#configuring-watsonx)."
   ]
  },
  {
   "cell_type": "code",
   "execution_count": null,
   "metadata": {},
   "outputs": [],
   "source": [
    "import os\n",
    "\n",
    "os.environ[\"WATSONX_URL\"] = \"\"  # (required) Base URL of your WatsonX instance\n",
    "# (required) either one of the following:\n",
    "os.environ[\"WATSONX_API_KEY\"] = \"\"  # IBM cloud API key\n",
    "os.environ[\"WATSONX_TOKEN\"] = \"\"  # IAM auth token\n",
    "# optional - can also be passed as params to completion() or embedding()\n",
    "# os.environ[\"WATSONX_PROJECT_ID\"] = \"\" # Project ID of your WatsonX instance\n",
    "# os.environ[\"WATSONX_DEPLOYMENT_SPACE_ID\"] = \"\" # ID of your deployment space to use deployed models"
   ]
  },
  {
   "cell_type": "markdown",
   "metadata": {},
   "source": [
    "## Configure LiteLLM\n",
    "\n",
    "Add the LiteLLM OpikTracker to log traces and steps to Opik:"
   ]
  },
  {
   "cell_type": "code",
   "execution_count": null,
   "metadata": {},
   "outputs": [],
   "source": [
    "import litellm\n",
    "import os\n",
    "from litellm.integrations.opik.opik import OpikLogger\n",
    "from opik import track\n",
    "from opik.opik_context import get_current_span_data\n",
    "\n",
    "os.environ[\"OPIK_PROJECT_NAME\"] = \"watsonx-integration-demo\"\n",
    "opik_logger = OpikLogger()\n",
    "litellm.callbacks = [opik_logger]"
   ]
  },
  {
   "cell_type": "markdown",
   "metadata": {},
   "source": [
    "## Logging traces\n",
    "\n",
    "Now each completion will logs a separate trace to LiteLLM:"
   ]
  },
  {
   "cell_type": "code",
   "execution_count": null,
   "metadata": {},
   "outputs": [],
   "source": [
    "# litellm.set_verbose=True\n",
    "prompt = \"\"\"\n",
    "Write a short two sentence story about Opik.\n",
    "\"\"\"\n",
    "\n",
    "response = litellm.completion(\n",
    "    model=\"watsonx/ibm/granite-13b-chat-v2\",\n",
    "    messages=[{\"role\": \"user\", \"content\": prompt}],\n",
    ")\n",
    "\n",
    "print(response.choices[0].message.content)"
   ]
  },
  {
   "cell_type": "markdown",
   "metadata": {},
   "source": [
    "The prompt and response messages are automatically logged to Opik and can be viewed in the UI.\n",
    "\n",
    "![watsonx Cookbook](https://raw.githubusercontent.com/comet-ml/opik/main/apps/opik-documentation/documentation/static/img/cookbook/watsonx_trace_cookbook.png)"
   ]
  },
  {
   "cell_type": "markdown",
   "metadata": {},
   "source": [
    "## Using it with the `track` decorator\n",
    "\n",
    "If you have multiple steps in your LLM pipeline, you can use the `track` decorator to log the traces for each step. If watsonx is called within one of these steps, the LLM call with be associated with that corresponding step:"
   ]
  },
  {
   "cell_type": "code",
   "execution_count": null,
   "metadata": {},
   "outputs": [],
   "source": [
    "@track\n",
    "def generate_story(prompt):\n",
    "    response = litellm.completion(\n",
    "        model=\"watsonx/ibm/granite-13b-chat-v2\",\n",
    "        messages=[{\"role\": \"user\", \"content\": prompt}],\n",
    "        metadata={\n",
    "            \"opik\": {\n",
    "                \"current_span_data\": get_current_span_data(),\n",
    "            },\n",
    "        },\n",
    "    )\n",
    "    return response.choices[0].message.content\n",
    "\n",
    "\n",
    "@track\n",
    "def generate_topic():\n",
    "    prompt = \"Generate a topic for a story about Opik.\"\n",
    "    response = litellm.completion(\n",
    "        model=\"watsonx/ibm/granite-13b-chat-v2\",\n",
    "        messages=[{\"role\": \"user\", \"content\": prompt}],\n",
    "        metadata={\n",
    "            \"opik\": {\n",
    "                \"current_span_data\": get_current_span_data(),\n",
    "            },\n",
    "        },\n",
    "    )\n",
    "    return response.choices[0].message.content\n",
    "\n",
    "\n",
    "@track\n",
    "def generate_opik_story():\n",
    "    topic = generate_topic()\n",
    "    story = generate_story(topic)\n",
    "    return story\n",
    "\n",
    "\n",
    "generate_opik_story()"
   ]
  },
  {
   "cell_type": "markdown",
   "metadata": {},
   "source": [
    "The trace can now be viewed in the UI:\n",
    "\n",
    "![watsonx Cookbook](https://raw.githubusercontent.com/comet-ml/opik/main/apps/opik-documentation/documentation/static/img/cookbook/watsonx_trace_decorator_cookbook.png)"
   ]
  }
 ],
 "metadata": {
  "kernelspec": {
   "display_name": "Python 3 (ipykernel)",
   "language": "python",
   "name": "python3"
  },
  "language_info": {
   "codemirror_mode": {
    "name": "ipython",
    "version": 3
   },
   "file_extension": ".py",
   "mimetype": "text/x-python",
   "name": "python",
   "nbconvert_exporter": "python",
   "pygments_lexer": "ipython3",
   "version": "3.11.3"
  }
 },
 "nbformat": 4,
 "nbformat_minor": 4
}
