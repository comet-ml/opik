{
 "cells": [
  {
   "cell_type": "markdown",
   "metadata": {},
   "source": [
    "# Atomic Agents × Opik – Quick-Start\n",
    "\n",
    "A minimal, self-contained example demonstrating how to trace Atomic-Agents workflows\n",
    "\n",
    "with Opik."
   ]
  },
  {
   "cell_type": "markdown",
   "metadata": {},
   "source": [
    "## What is Atomic Agents?\n",
    "\n",
    "**Atomic Agents** is a lightweight Python framework for building *agentic* applications – think of\n",
    "\n",
    "it as a minimal alternative to LangChain or LangGraph that focuses on composability and clear\n",
    "\n",
    "APIs.  An `Agent` encapsulates your business logic, while `Tool` objects expose\n",
    "\n",
    "re-usable functions your agents (or humans) can call."
   ]
  },
  {
   "cell_type": "markdown",
   "metadata": {},
   "source": [
    "## Installation\n",
    "\n",
    "Install the required libraries (choose a virtual-env of your preference):\n",
    "\n",
    "```bash\n",
    "\n",
    "pip install \"opik[atomic_agents]\" atomic-agents instructor\n",
    "\n",
    "```\n",
    "\n",
    "\n",
    "\n",
    "* `opik[atomic_agents]` – Opik Python SDK with the Atomic-Agents extra.\n",
    "\n",
    "* `atomic-agents` – the framework itself.\n",
    "\n",
    "* `instructor` – micro-library we use to stub a non-networking LLM client (feel free to replace)."
   ]
  },
  {
   "cell_type": "code",
   "execution_count": 1,
   "metadata": {},
   "outputs": [],
   "source": [
    "from pydantic import Field\n",
    "from instructor.client import Instructor\n",
    "\n",
    "# Atomic-Agents runtime\n",
    "from atomic_agents.agents.base_agent import (\n",
    "    BaseAgent as BaseChatAgent,\n",
    "    BaseAgentConfig as BaseChatAgentConfig,\n",
    ")\n",
    "\n",
    "# Opik integration helpers\n",
    "from opik.integrations.atomic_agents import track_atomic_agents, OpikContextProvider\n",
    "from opik import context_storage\n"
   ]
  },
  {
   "cell_type": "markdown",
   "metadata": {},
   "source": [
    "And now, with just a simple one-liner, all the `BaseAgent` interactions will be logged to Opik..."
   ]
  },
  {
   "cell_type": "code",
   "execution_count": 2,
   "metadata": {},
   "outputs": [],
   "source": [
    "track_atomic_agents(project_name=\"atomic-quickstart\")\n"
   ]
  },
  {
   "cell_type": "code",
   "execution_count": 3,
   "metadata": {},
   "outputs": [],
   "source": [
    "from atomic_agents.lib.base.base_io_schema import BaseIOSchema\n",
    "\n",
    "class ChatMessage(BaseIOSchema):\n",
    "    \"\"\"A simple chat message for input and output\"\"\"\n",
    "    chat_message: str = Field(..., description=\"User message\")\n",
    "\n",
    "\n",
    "class EchoAgent(BaseChatAgent):\n",
    "    \"\"\"Agent that echoes back the input message.\"\"\"\n",
    "\n",
    "    input_schema = ChatMessage\n",
    "    output_schema = ChatMessage\n",
    "\n"
   ]
  },
  {
   "cell_type": "code",
   "execution_count": 4,
   "metadata": {},
   "outputs": [
    {
     "name": "stderr",
     "output_type": "stream",
     "text": [
      "OPIK: ========================\n",
      "The API key must be specified to log data to https://www.comet.com/opik.\n",
      "You can use `opik configure` CLI command to configure your environment for logging.\n",
      "See the configuration details in the docs: https://www.comet.com/docs/opik/tracing/sdk_configuration.\n",
      "\n",
      "==============================\n",
      "\n",
      "OPIK: Started logging traces to the \"atomic-quickstart\" project at https://www.comet.com/opik/api/v1/session/redirect/projects/?trace_id=019828c1-77a8-7437-9508-7ac93f61c504&path=aHR0cHM6Ly93d3cuY29tZXQuY29tL29waWsvYXBpLw==.\n"
     ]
    },
    {
     "name": "stdout",
     "output_type": "stream",
     "text": [
      "\n",
      "Agent result: {\"chat_message\":\"Echo: Hello Atomic Agents!\"}\n"
     ]
    }
   ],
   "source": [
    "# Create dummy client that returns an echo response\n",
    "dummy_instructor_client = Instructor(\n",
    "    client=None, \n",
    "    create=lambda **kwargs: ChatMessage(chat_message=\"Echo: Hello Atomic Agents!\")\n",
    ")\n",
    "\n",
    "agent = EchoAgent(\n",
    "    config=BaseChatAgentConfig(model=\"gpt-3.5-turbo\", client=dummy_instructor_client)\n",
    ")\n",
    "\n",
    "result = agent.run(ChatMessage(chat_message=\"Hello Atomic Agents!\"))\n",
    "print(\"Agent result:\", result)\n"
   ]
  },
  {
   "cell_type": "code",
   "execution_count": null,
   "metadata": {},
   "outputs": [
    {
     "name": "stdout",
     "output_type": "stream",
     "text": [
      "No active trace found - this may mean tracing is not properly configured\n",
      "\n",
      "Provider renders:\n",
      " [Opik Trace Info]\n",
      "trace_id: <no-active-trace>\n",
      "project:  atomic-quickstart\n"
     ]
    },
    {
     "name": "stderr",
     "output_type": "stream",
     "text": [
      "OPIK: Failed to process CreateSpansBatchMessage. Error: headers: {'date': 'Sun, 20 Jul 2025 16:53:46 GMT', 'content-type': 'application/json', 'content-length': '51', 'connection': 'keep-alive', 'set-cookie': 'AWSALB=wFoVwB2GntoErCHBfPJnzpOrf1F8E1zmz5oGcRrFs4Sj/g2sP1I8le+qYlI5z+M7QUhEaVT+nDrmO0cj9hPygB7VNVB2E4uV0QASqSWJACiI/p/fvIXV+u8ZSRII; Expires=Sun, 27 Jul 2025 16:53:46 GMT; Path=/, AWSALBCORS=wFoVwB2GntoErCHBfPJnzpOrf1F8E1zmz5oGcRrFs4Sj/g2sP1I8le+qYlI5z+M7QUhEaVT+nDrmO0cj9hPygB7VNVB2E4uV0QASqSWJACiI/p/fvIXV+u8ZSRII; Expires=Sun, 27 Jul 2025 16:53:46 GMT; Path=/; SameSite=None; Secure', 'server': 'nginx'}, status_code: 401, body: {'code': 401, 'message': 'API key should be provided'}\n",
      "OPIK: Failed to process CreateTraceBatchMessage. Error: headers: {'date': 'Sun, 20 Jul 2025 16:53:46 GMT', 'content-type': 'application/json', 'content-length': '51', 'connection': 'keep-alive', 'set-cookie': 'AWSALB=tVFtAKolwZSSWsiw+U4ChGA+z1lIAtXECvbiv96tdbX1kXN+8xj+hQRoc6Zd0O0GALgB7tVa6SV9n913Lqx3Z+UnFDpeBkOfnQiYbBzKUDCxqMKbE0+MYGxigZ6h; Expires=Sun, 27 Jul 2025 16:53:46 GMT; Path=/, AWSALBCORS=tVFtAKolwZSSWsiw+U4ChGA+z1lIAtXECvbiv96tdbX1kXN+8xj+hQRoc6Zd0O0GALgB7tVa6SV9n913Lqx3Z+UnFDpeBkOfnQiYbBzKUDCxqMKbE0+MYGxigZ6h; Expires=Sun, 27 Jul 2025 16:53:46 GMT; Path=/; SameSite=None; Secure', 'server': 'nginx'}, status_code: 401, body: {'code': 401, 'message': 'API key should be provided'}\n"
     ]
    }
   ],
   "source": [
    "ctx = context_storage.get_current_context_instance()\n",
    "trace_data = ctx.get_trace_data()\n",
    "if trace_data and hasattr(trace_data, 'id'):\n",
    "    trace_id = trace_data.id\n",
    "    print(\"Opik trace_id:\", trace_id)\n",
    "    provider = OpikContextProvider(project_name=\"atomic-quickstart\", trace_id=trace_id)\n",
    "    print(\"\\nProvider renders:\\n\", provider.get_info())\n",
    "else:\n",
    "    print(\"No active trace found - this may mean tracing is not properly configured\")\n",
    "    provider = OpikContextProvider(project_name=\"atomic-quickstart\", trace_id=\"<no-active-trace>\")\n",
    "    print(\"\\nProvider renders:\\n\", provider.get_info())\n"
   ]
  },
  {
   "cell_type": "markdown",
   "metadata": {},
   "source": [
    "## Visualising your trace\n",
    "\n",
    "1. Export your Opik API key & workspace URL, e.g.\n",
    "\n",
    "   ```bash\n",
    "\n",
    "   export OPIK_API_KEY=\"...\"\n",
    "\n",
    "   export OPIK_BASE_URL=\"https://app.opik.ai\"\n",
    "\n",
    "   ```\n",
    "\n",
    "2. Run this script.  Head to *Traces → atomic-quickstart* and you’ll see the full hierarchy:\n",
    "\n",
    "   * root **Agent** span\n",
    "\n",
    "   * nested **LLM** span (BaseChatAgent `get_response`)\n",
    "\n",
    "   * any **Tool** spans you might call\n",
    "\n",
    "\n",
    "\n",
    "### Next steps\n",
    "\n",
    "* Add real `BaseTool` subclasses and watch them appear in the timeline.\n",
    "\n",
    "* Pass `metadata={...}` or `tags=[...]` into `track_atomic_agents` for richer filtering.\n",
    "\n",
    "* Use `OpikContextProvider` inside your prompts so downstream agents can reference the\n",
    "\n",
    "  current `trace_id` (see the other tutorial)."
   ]
  }
 ],
 "metadata": {
  "kernelspec": {
   "display_name": ".venv",
   "language": "python",
   "name": "python3"
  },
  "language_info": {
   "codemirror_mode": {
    "name": "ipython",
    "version": 3
   },
   "file_extension": ".py",
   "mimetype": "text/x-python",
   "name": "python",
   "nbconvert_exporter": "python",
   "pygments_lexer": "ipython3",
   "version": "3.10.12"
  }
 },
 "nbformat": 4,
 "nbformat_minor": 2
}
