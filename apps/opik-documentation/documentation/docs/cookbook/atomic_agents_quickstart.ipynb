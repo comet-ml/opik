{
 "cells": [
  {
   "cell_type": "code",
   "execution_count": 11,
   "id": "b7d510f2",
   "metadata": {},
   "outputs": [],
   "source": [
    "from __future__ import annotations\n",
    "\n",
    "from atomic_agents.agents.base_agent import BaseAgent as BaseChatAgent\n",
    "from atomic_agents.agents.base_agent import BaseAgentConfig as BaseChatAgentConfig\n",
    "from atomic_agents.lib.base.base_io_schema import BaseIOSchema\n",
    "\n",
    "from instructor.client import Instructor\n",
    "from opik.integrations.atomic_agents import OpikContextProvider, track_atomic_agents\n",
    "\n",
    "from pydantic import Field"
   ]
  },
  {
   "cell_type": "markdown",
   "id": "6dae026e",
   "metadata": {
    "cell_marker": "\"\"\""
   },
   "source": [
    "# Atomic Agents × Opik – Quick-Start \n",
    "\n",
    "Welcome!  This notebook-style script shows **step-by-step** how to instrument an\n",
    "Atomic Agents pipeline with Opik for full tracing and observability.\n",
    "\n",
    "@ **What you’ll learn**\n",
    "1. Install the required packages\n",
    "2. Enable automatic tracing in **one line**\n",
    "3. Build a tiny `EchoAgent` using **Atomic Agents**\n",
    "4. Inspect the trace in the Opik UI"
   ]
  },
  {
   "cell_type": "markdown",
   "id": "160a8c21",
   "metadata": {},
   "source": [
    "## 1. Installation\n",
    "```bash\n",
    "pip install \"opik[atomic_agents]\" atomic-agents instructor\n",
    "```\n",
    "\n",
    "### Set environment variables\n",
    "\n",
    "```bash\n",
    "export OPIK_API_KEY=\"<your-api-key>\"\n",
    "# Optional: point to self-hosted instance\n",
    "# export OPIK_BASE_URL=\"http://localhost:3000\"\n",
    "```"
   ]
  },
  {
   "cell_type": "code",
   "execution_count": 12,
   "id": "837b457b",
   "metadata": {
    "title": "Enable Opik auto-tracking once"
   },
   "outputs": [],
   "source": [
    "track_atomic_agents(project_name=\"atomic-quickstart\")"
   ]
  },
  {
   "cell_type": "code",
   "execution_count": 13,
   "id": "473ea3a5",
   "metadata": {
    "title": "Define simple echo agent"
   },
   "outputs": [],
   "source": [
    "class ChatMessage(BaseIOSchema):\n",
    "    \"\"\"A simple chat message for input and output\"\"\"\n",
    "\n",
    "    chat_message: str = Field(..., description=\"User message\")\n",
    "\n",
    "\n",
    "class EchoAgent(BaseChatAgent):\n",
    "    \"\"\"Agent that echoes back the input message.\"\"\"\n",
    "\n",
    "    input_schema = ChatMessage\n",
    "    output_schema = ChatMessage"
   ]
  },
  {
   "cell_type": "code",
   "execution_count": 14,
   "id": "6ca38274",
   "metadata": {
    "title": "Instantiate & run agent"
   },
   "outputs": [
    {
     "name": "stdout",
     "output_type": "stream",
     "text": [
      "Agent result: {\"chat_message\":\"Echo: Hello Atomic Agents!\"}\n"
     ]
    }
   ],
   "source": [
    "dummy_instructor_client = Instructor(\n",
    "    client=None,\n",
    "    create=lambda **kwargs: ChatMessage(chat_message=\"Echo: Hello Atomic Agents!\"),\n",
    ")\n",
    "\n",
    "agent = EchoAgent(\n",
    "    config=BaseChatAgentConfig(model=\"gpt-3.5-turbo\", client=dummy_instructor_client),\n",
    ")\n",
    "\n",
    "result = agent.run(ChatMessage(chat_message=\"Hello Atomic Agents!\"))\n",
    "print(\"Agent result:\", result)"
   ]
  },
  {
   "cell_type": "code",
   "execution_count": 15,
   "id": "1b7f70b4",
   "metadata": {
    "title": "Attach context provider (optional, demonstration only)"
   },
   "outputs": [
    {
     "name": "stdout",
     "output_type": "stream",
     "text": [
      "\n",
      "Provider renders:\n",
      " [Opik Trace Info]\n",
      "trace_id: <replace-with-id>\n",
      "project:  atomic-quickstart\n"
     ]
    }
   ],
   "source": [
    "provider = OpikContextProvider(\n",
    "    project_name=\"atomic-quickstart\", trace_id=\"<replace-with-id>\"\n",
    ")\n",
    "print(\"\\nProvider renders:\\n\", provider.get_info())"
   ]
  }
 ],
 "metadata": {
  "jupytext": {
   "cell_metadata_filter": "title,-all",
   "main_language": "python",
   "notebook_metadata_filter": "-all"
  },
  "kernelspec": {
   "display_name": ".venv",
   "language": "python",
   "name": "python3"
  },
  "language_info": {
   "codemirror_mode": {
    "name": "ipython",
    "version": 3
   },
   "file_extension": ".py",
   "mimetype": "text/x-python",
   "name": "python",
   "nbconvert_exporter": "python",
   "pygments_lexer": "ipython3",
   "version": "3.10.12"
  }
 },
 "nbformat": 4,
 "nbformat_minor": 5
}
