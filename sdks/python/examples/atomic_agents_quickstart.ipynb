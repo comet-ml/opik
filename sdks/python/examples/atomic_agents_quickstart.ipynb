{
 "cells": [
  {
   "cell_type": "code",
   "execution_count": null,
   "id": "b7d510f2",
   "metadata": {},
   "outputs": [],
   "source": [
    "from __future__ import annotations\n",
    "\n",
    "# Compatibility with latest Atomic Agents (>=1.1)\n",
    "from atomic_agents.agents.base_agent import BaseAgent as BaseChatAgent\n",
    "from atomic_agents.agents.base_agent import BaseAgentConfig as BaseChatAgentConfig\n",
    "from atomic_agents.lib.base.base_io_schema import BaseIOSchema\n",
    "\n",
    "# Minimal Instructor client (no actual LLM calls) to satisfy BaseAgentConfig\n",
    "from instructor.client import Instructor\n",
    "from opik.integrations.atomic_agents import OpikContextProvider, track_atomic_agents\n",
    "\n",
    "from pydantic import Field"
   ]
  },
  {
   "cell_type": "markdown",
   "id": "6dae026e",
   "metadata": {
    "cell_marker": "\"\"\""
   },
   "source": [
    "# Atomic Agents × Opik – Quick-Start 🚀\n",
    "\n",
    "Welcome!  This notebook-style script shows **step-by-step** how to instrument an\n",
    "Atomic Agents pipeline with Opik for full tracing and observability.\n",
    "\n",
    "👀 **What you’ll learn**\n",
    "1. Install the required packages\n",
    "2. Enable automatic tracing in **one line**\n",
    "3. Build a tiny `EchoAgent`\n",
    "4. Inspect the trace in the Opik UI\n",
    "\n",
    "> Run it interactively (VS Code / Jupyter) or as a plain `python` script – the\n",
    "> trace is created either way."
   ]
  },
  {
   "cell_type": "markdown",
   "id": "160a8c21",
   "metadata": {},
   "source": [
    "## 1. Installation\n",
    "```bash\n",
    "pip install \"opik[atomic_agents]\" atomic-agents instructor\n",
    "```\n",
    "\n",
    "### Set environment variables\n",
    "\n",
    "```bash\n",
    "export OPIK_API_KEY=\"<your-api-key>\"\n",
    "# Optional: point to self-hosted instance\n",
    "# export OPIK_BASE_URL=\"http://localhost:3000\"\n",
    "```"
   ]
  },
  {
   "cell_type": "code",
   "execution_count": null,
   "id": "837b457b",
   "metadata": {
    "title": "Enable Opik auto-tracking once"
   },
   "outputs": [],
   "source": [
    "track_atomic_agents(project_name=\"atomic-quickstart\")"
   ]
  },
  {
   "cell_type": "code",
   "execution_count": null,
   "id": "473ea3a5",
   "metadata": {
    "title": "Define simple echo agent"
   },
   "outputs": [],
   "source": [
    "class ChatMessage(BaseIOSchema):\n",
    "    \"\"\"A simple chat message for input and output\"\"\"\n",
    "\n",
    "    chat_message: str = Field(..., description=\"User message\")\n",
    "\n",
    "\n",
    "class EchoAgent(BaseChatAgent):\n",
    "    \"\"\"Agent that echoes back the input message.\"\"\"\n",
    "\n",
    "    input_schema = ChatMessage\n",
    "    output_schema = ChatMessage\n",
    "\n",
    "    # No need to override run() - BaseAgent handles the workflow\n",
    "    # The LLM client will be called automatically with the proper schemas"
   ]
  },
  {
   "cell_type": "code",
   "execution_count": null,
   "id": "6ca38274",
   "metadata": {
    "title": "Instantiate & run agent"
   },
   "outputs": [],
   "source": [
    "# Create dummy client that returns an echo response\n",
    "dummy_instructor_client = Instructor(\n",
    "    client=None,\n",
    "    create=lambda **kwargs: ChatMessage(chat_message=\"Echo: Hello Atomic Agents!\"),\n",
    ")\n",
    "\n",
    "agent = EchoAgent(\n",
    "    config=BaseChatAgentConfig(model=\"gpt-3.5-turbo\", client=dummy_instructor_client),\n",
    ")\n",
    "\n",
    "result = agent.run(ChatMessage(chat_message=\"Hello Atomic Agents!\"))\n",
    "print(\"Agent result:\", result)"
   ]
  },
  {
   "cell_type": "code",
   "execution_count": null,
   "id": "1b7f70b4",
   "metadata": {
    "title": "Attach context provider (optional, demonstration only)"
   },
   "outputs": [],
   "source": [
    "provider = OpikContextProvider(\n",
    "    project_name=\"atomic-quickstart\", trace_id=\"<replace-with-id>\"\n",
    ")\n",
    "print(\"\\nProvider renders:\\n\", provider.get_info())"
   ]
  }
 ],
 "metadata": {
  "jupytext": {
   "cell_metadata_filter": "title,-all",
   "main_language": "python",
   "notebook_metadata_filter": "-all"
  }
 },
 "nbformat": 4,
 "nbformat_minor": 5
}
