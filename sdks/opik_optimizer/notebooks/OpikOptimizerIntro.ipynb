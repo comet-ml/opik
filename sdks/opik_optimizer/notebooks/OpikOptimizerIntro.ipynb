{
 "cells": [
  {
   "cell_type": "markdown",
   "metadata": {
    "id": "NTaMBjChz7m5"
   },
   "source": [
    "# Introduction to Opik Agent Optimizers\n",
    "\n",
    "You will need:\n",
    "\n",
    "1. A Comet account, for seeing Opik visualizations (free!) - [comet.com](https://comet.com)\n",
    "2. An OpenAI account, for using an LLM\n",
    "[platform.openai.com/settings/organization/api-keys](https://platform.openai.com/settings/organization/api-keys)\n"
   ]
  },
  {
   "cell_type": "markdown",
   "metadata": {
    "id": "yM1lU0dBBnJs"
   },
   "source": [
    "## Setup\n",
    "\n",
    "This pip-install takes about a minute."
   ]
  },
  {
   "cell_type": "code",
   "execution_count": null,
   "metadata": {
    "id": "2Tx6HwuU1rB4"
   },
   "outputs": [],
   "source": [
    "%%capture\n",
    "%pip install opik-optimizer"
   ]
  },
  {
   "cell_type": "markdown",
   "metadata": {},
   "source": [
    "Let's make sure we have the correct version:"
   ]
  },
  {
   "cell_type": "code",
   "execution_count": 1,
   "metadata": {
    "id": "pVgkLU3v2KD8"
   },
   "outputs": [
    {
     "data": {
      "text/plain": [
       "'0.8.1'"
      ]
     },
     "execution_count": 1,
     "metadata": {},
     "output_type": "execute_result"
    }
   ],
   "source": [
    "import opik_optimizer\n",
    "opik_optimizer.__version__"
   ]
  },
  {
   "cell_type": "markdown",
   "metadata": {},
   "source": [
    "The version should be 0.7.3 or greater.\n",
    "\n",
    "[Comet](https://www.comet.com/site?from=llm&utm_source=opik) provides a hosted version of the Opik platform, [simply create an account](https://www.comet.com/signup?from=llm&utm_source=opik&utm_medium=colab&utm_content=langchain&utm_campaign=opik) and grab your API Key.\n",
    "\n",
    "> You can also run the Opik platform locally, see the [installation guide](https://www.comet.com/docs/opik/self-host/overview/?from=llm&utm_source=opik) for more information.\n",
    "\n",
    "Enter your Comet API key, followed by \"Y\" to use your own workspace:"
   ]
  },
  {
   "cell_type": "code",
   "execution_count": 2,
   "metadata": {
    "id": "H0DNm-un_0Np"
   },
   "outputs": [
    {
     "name": "stderr",
     "output_type": "stream",
     "text": [
      "OPIK: Opik is already configured. You can check the settings by viewing the config file at /Users/jacquesverre/.opik.config\n"
     ]
    }
   ],
   "source": [
    "import opik\n",
    "\n",
    "# Configure Opik\n",
    "opik.configure()"
   ]
  },
  {
   "cell_type": "markdown",
   "metadata": {},
   "source": [
    "For this example, we'll use OpenAI models, so we need to set our OpenAI API key:"
   ]
  },
  {
   "cell_type": "code",
   "execution_count": 3,
   "metadata": {
    "id": "vN72mHQy_7Ou"
   },
   "outputs": [],
   "source": [
    "import os\n",
    "import getpass\n",
    "if \"OPENAI_API_KEY\" not in os.environ:\n",
    "    os.environ[\"OPENAI_API_KEY\"] = getpass.getpass(\"Enter your OpenAI API key: \")"
   ]
  },
  {
   "cell_type": "markdown",
   "metadata": {},
   "source": [
    "To optimize any prompt, we'll need three basic things:\n",
    "\n",
    "1. A starting prompt\n",
    "2. A metric\n",
    "3. A dataset"
   ]
  },
  {
   "cell_type": "markdown",
   "metadata": {
    "id": "zVK_KLEXbyqu"
   },
   "source": [
    "## The Dataset\n",
    "\n",
    "In this experiment, we are going to use the **HotPotQA** dataset. This dataset was designed to be difficult for regular LLMs to handle. This dataset is called a \"**multi-hop**\" dataset because answering the questions involves multiple reasoning steps and multiple tool calls, where the LLM needs to infer relationships, combine information, or draw conclusions based on the combined context.\n",
    "\n",
    "Example:\n",
    "\n",
    "> \"What are the capitals of the states that border California?\"\n",
    "\n",
    "You'd need to find which states border California, and then lookup each state's capital.\n",
    "\n",
    "The dataset has about 113,000 such crowd-sourced questions that are constructed to require the introductory paragraphs of two Wikipedia articles to answer.\n",
    "\n",
    "**NOTE:** The name \"HotPot\" comes from the restaurant where the authors came up with the idea of the dataset."
   ]
  },
  {
   "cell_type": "code",
   "execution_count": 4,
   "metadata": {
    "id": "4gCj_2M3A37D"
   },
   "outputs": [],
   "source": [
    "import opik_optimizer\n",
    "\n",
    "opik_dataset = opik_optimizer.datasets.hotpot_300()"
   ]
  },
  {
   "cell_type": "markdown",
   "metadata": {
    "id": "YvqslJnA9RMQ"
   },
   "source": [
    "Let's take a look at some dataset items:"
   ]
  },
  {
   "cell_type": "code",
   "execution_count": 5,
   "metadata": {
    "id": "KGZoscWiBInJ"
   },
   "outputs": [
    {
     "data": {
      "text/plain": [
       "{'id': '0197044c-d782-7735-a8cf-bffd4d19838e',\n",
       " 'question': 'Are Smyrnium and Nymania both types of plant?',\n",
       " 'answer': 'yes'}"
      ]
     },
     "execution_count": 5,
     "metadata": {},
     "output_type": "execute_result"
    }
   ],
   "source": [
    "rows = opik_dataset.get_items()\n",
    "rows[0]"
   ]
  },
  {
   "cell_type": "markdown",
   "metadata": {},
   "source": [
    "We see that each item has a \"question\" and \"answer\". Some of the answers are short and direct, and some of them are more complicated:"
   ]
  },
  {
   "cell_type": "code",
   "execution_count": 6,
   "metadata": {
    "id": "8MQC4TllBKgT"
   },
   "outputs": [
    {
     "data": {
      "text/plain": [
       "{'id': '0197044c-d781-7eb0-a717-6fd6b1415476',\n",
       " 'question': 'That Darn Cat! and Never a Dull Moment were both produced by what studio?',\n",
       " 'answer': 'Walt Disney Productions'}"
      ]
     },
     "execution_count": 6,
     "metadata": {},
     "output_type": "execute_result"
    }
   ],
   "source": [
    "rows[1]"
   ]
  },
  {
   "cell_type": "markdown",
   "metadata": {
    "id": "feVF8adydeyH"
   },
   "source": [
    "## Opik Project\n",
    "\n",
    "All LLM traces in Opik are saved in a \"project\". We'll put them all in the following project name:"
   ]
  },
  {
   "cell_type": "code",
   "execution_count": 7,
   "metadata": {
    "id": "gTTZ5apsPgUg"
   },
   "outputs": [],
   "source": [
    "project_name = \"optimize-workshop-2025\""
   ]
  },
  {
   "cell_type": "markdown",
   "metadata": {
    "id": "VEEHnyrcdjVw"
   },
   "source": [
    "## The Metric\n",
    "\n",
    "Choosing a good metric for optimization is tricky. For these examples, we'll pick one that will allow us to show improvement, and also provide a gradient of scores. In general though, this metric isn't the best for optimization runs.\n",
    "\n",
    "We'll use \"Edit Distance\" AKA \"Levenshtein Distance\":"
   ]
  },
  {
   "cell_type": "code",
   "execution_count": null,
   "metadata": {
    "id": "T3BKOXxPOpkI"
   },
   "outputs": [],
   "source": [
    "from opik.evaluation.metrics import LevenshteinRatio\n",
    "\n",
    "metric = LevenshteinRatio(project_name=project_name)"
   ]
  },
  {
   "cell_type": "markdown",
   "metadata": {
    "id": "BF9czV9Ue02R"
   },
   "source": [
    "The metric takes two things: the `output` of the LLM and the `reference` (the truth):"
   ]
  },
  {
   "cell_type": "code",
   "execution_count": 9,
   "metadata": {
    "id": "_hMQuJsSexkD"
   },
   "outputs": [
    {
     "name": "stderr",
     "output_type": "stream",
     "text": [
      "OPIK: Started logging traces to the \"optimize-workshop-2025\" project at https://www.comet.com/opik/api/v1/session/redirect/projects/?trace_id=01974036-5759-7e53-a62e-4e0ba6d30a54&path=aHR0cHM6Ly93d3cuY29tZXQuY29tL29waWsvYXBpLw==.\n"
     ]
    },
    {
     "data": {
      "text/plain": [
       "ScoreResult(name='levenshtein_ratio_metric', value=1.0, reason=None, metadata=None, scoring_failed=False)"
      ]
     },
     "execution_count": 9,
     "metadata": {},
     "output_type": "execute_result"
    }
   ],
   "source": [
    "metric.score(\"Hello\", \"Hello\")"
   ]
  },
  {
   "cell_type": "code",
   "execution_count": 10,
   "metadata": {
    "id": "hNleaL5ZPLaA"
   },
   "outputs": [
    {
     "data": {
      "text/plain": [
       "ScoreResult(name='levenshtein_ratio_metric', value=0.9090909090909091, reason=None, metadata=None, scoring_failed=False)"
      ]
     },
     "execution_count": 10,
     "metadata": {},
     "output_type": "execute_result"
    }
   ],
   "source": [
    "metric.score(\"Hello!\", \"Hello\")"
   ]
  },
  {
   "cell_type": "markdown",
   "metadata": {
    "id": "2eI1S-Q_-SwO"
   },
   "source": [
    "The edit distance between \"Hello!\" and \"Hello\" is 1. Here is how the .91 is computed:"
   ]
  },
  {
   "cell_type": "code",
   "execution_count": 11,
   "metadata": {
    "id": "7YEltgab4jPs"
   },
   "outputs": [
    {
     "data": {
      "text/plain": [
       "0.9090909090909091"
      ]
     },
     "execution_count": 11,
     "metadata": {},
     "output_type": "execute_result"
    }
   ],
   "source": [
    "edit_distance = 1\n",
    "\n",
    "1 - edit_distance / (len(\"Hello1\") + len(\"Hello\"))\n"
   ]
  },
  {
   "cell_type": "markdown",
   "metadata": {
    "id": "p3gIizQt47AP"
   },
   "source": [
    "For more information see: [Levenshtein Distance](https://en.wikipedia.org/wiki/Levenshtein_distance)"
   ]
  },
  {
   "cell_type": "markdown",
   "metadata": {
    "id": "JarFSV9jb7jD"
   },
   "source": [
    "## Configuation\n",
    "\n",
    "To create the necessary configurations for using an Opik Agent Optimizer, you'll need two things:\n",
    "\n",
    "1. An initial prompt\n",
    "2. A metric\n",
    "\n",
    "We're going to start with a pretty bad prompt... so we can optimize it!"
   ]
  },
  {
   "cell_type": "code",
   "execution_count": 15,
   "metadata": {
    "id": "xxDUfpvgPct7"
   },
   "outputs": [],
   "source": [
    "from opik_optimizer import ChatPrompt\n",
    "\n",
    "initial_prompt = ChatPrompt(\n",
    "    messages=[\n",
    "        {\"role\": \"system\", \"content\": \"Provide an answer to the question\"},\n",
    "        {\"role\": \"user\", \"content\": \"{question}\"}\n",
    "    ]\n",
    ")"
   ]
  },
  {
   "cell_type": "markdown",
   "metadata": {
    "id": "Oia79J_e-vSY"
   },
   "source": [
    "And the metric:"
   ]
  },
  {
   "cell_type": "code",
   "execution_count": 16,
   "metadata": {
    "id": "ET_umnWdPmjm"
   },
   "outputs": [],
   "source": [
    "def levenshtein_ratio(dataset_item, llm_output):\n",
    "    metric = LevenshteinRatio()\n",
    "    return metric.score(reference=dataset_item['answer'], output=llm_output)"
   ]
  },
  {
   "cell_type": "markdown",
   "metadata": {
    "id": "2aDp9vjw5hIQ"
   },
   "source": [
    "As you can see the `MetricConfig` is composed of our chosen metric. In addition, we need to know what the inputs will be. The inputs here are actually the outputs from the LLM.\n",
    "\n",
    "We need two inputs for the metric:\n",
    "1. The output produced by the LLM (uses a special name)\n",
    "2. The correct answer (provided by the database item \"answer\")\n",
    "\n",
    "The `TaskConfig` defines how to process a prompt. We need the initial prompt, and the inputs and outputs of the dataset.\n",
    "\n",
    "In this case, we will use the chat_prompt format as our result."
   ]
  },
  {
   "cell_type": "markdown",
   "metadata": {
    "id": "VBNAMIglcVIo"
   },
   "source": [
    "## FewShotBayesianOptimizer\n",
    "\n",
    "The FewShotBayesianOptimizer name indicates two things:\n",
    "\n",
    "1. It will produce Chat Prompts, or FewShot examples as described in the slides.\n",
    "2. Secondly, it describes how it searches for the best set of these FewShot examples.\n",
    "\n",
    "To use this optimizer, we import it and create an instance, passing in the project name and model parameters:"
   ]
  },
  {
   "cell_type": "code",
   "execution_count": 17,
   "metadata": {
    "id": "EbaysjG1PRNd"
   },
   "outputs": [],
   "source": [
    "from opik_optimizer import (\n",
    "    FewShotBayesianOptimizer,\n",
    ")\n",
    "\n",
    "optimizer = FewShotBayesianOptimizer(\n",
    "    project_name=project_name,\n",
    "    model=\"openai/gpt-4o-mini\",\n",
    "    temperature=0.1,\n",
    "    max_tokens=5000,\n",
    ")"
   ]
  },
  {
   "cell_type": "markdown",
   "metadata": {
    "id": "zuZkkZqGWg4C"
   },
   "source": [
    "### Baseline\n",
    "\n",
    "Before we optimize this prompt (\"Provide an answer to the question\") let's see what the bare prompt does by itself on the dataset:"
   ]
  },
  {
   "cell_type": "code",
   "execution_count": 19,
   "metadata": {
    "id": "fYEhqP2WP0B_"
   },
   "outputs": [
    {
     "data": {
      "application/vnd.jupyter.widget-view+json": {
       "model_id": "5e5b922759b94edf9f0f644e81390367",
       "version_major": 2,
       "version_minor": 0
      },
      "text/plain": [
       "Evaluation:   0%|          | 0/100 [00:00<?, ?it/s]"
      ]
     },
     "metadata": {},
     "output_type": "display_data"
    },
    {
     "data": {
      "text/html": [
       "<pre style=\"white-space:pre;overflow-x:auto;line-height:normal;font-family:Menlo,'DejaVu Sans Mono',consolas,'Courier New',monospace\">╭─ hotpot_300 (100 samples) ─────────────╮\n",
       "│                                        │\n",
       "│ <span style=\"font-weight: bold\">Total time:       </span> 00:00:20            │\n",
       "│ <span style=\"font-weight: bold\">Number of samples:</span> 100                 │\n",
       "│                                        │\n",
       "│ <span style=\"color: #008000; text-decoration-color: #008000; font-weight: bold\">levenshtein_ratio_metric: 0.1475 (avg)</span> │\n",
       "│                                        │\n",
       "╰────────────────────────────────────────╯\n",
       "</pre>\n"
      ],
      "text/plain": [
       "╭─ hotpot_300 (100 samples) ─────────────╮\n",
       "│                                        │\n",
       "│ \u001b[1mTotal time:       \u001b[0m 00:00:20            │\n",
       "│ \u001b[1mNumber of samples:\u001b[0m 100                 │\n",
       "│                                        │\n",
       "│ \u001b[1;32mlevenshtein_ratio_metric: 0.1475 (avg)\u001b[0m │\n",
       "│                                        │\n",
       "╰────────────────────────────────────────╯\n"
      ]
     },
     "metadata": {},
     "output_type": "display_data"
    },
    {
     "data": {
      "text/html": [
       "<pre style=\"white-space:pre;overflow-x:auto;line-height:normal;font-family:Menlo,'DejaVu Sans Mono',consolas,'Courier New',monospace\">Uploading results to Opik <span style=\"color: #808000; text-decoration-color: #808000\">...</span> \n",
       "</pre>\n"
      ],
      "text/plain": [
       "Uploading results to Opik \u001b[33m...\u001b[0m \n"
      ]
     },
     "metadata": {},
     "output_type": "display_data"
    },
    {
     "data": {
      "text/html": [
       "<pre style=\"white-space:pre;overflow-x:auto;line-height:normal;font-family:Menlo,'DejaVu Sans Mono',consolas,'Courier New',monospace\">View the results <a href=\"https://www.comet.com/opik/api/v1/session/redirect/experiments/?experiment_id=01974038-a60a-72f8-ac8d-dd6a71c016e5&dataset_id=0197044c-d51d-7cff-96c5-38969b6ae708&path=aHR0cHM6Ly93d3cuY29tZXQuY29tL29waWsvYXBpLw==\" target=\"_blank\">in your Opik dashboard</a>.\n",
       "</pre>\n"
      ],
      "text/plain": [
       "View the results \u001b]8;id=877401;https://www.comet.com/opik/api/v1/session/redirect/experiments/?experiment_id=01974038-a60a-72f8-ac8d-dd6a71c016e5&dataset_id=0197044c-d51d-7cff-96c5-38969b6ae708&path=aHR0cHM6Ly93d3cuY29tZXQuY29tL29waWsvYXBpLw==\u001b\\in your Opik dashboard\u001b]8;;\u001b\\.\n"
      ]
     },
     "metadata": {},
     "output_type": "display_data"
    },
    {
     "data": {
      "text/plain": [
       "0.14753764250199775"
      ]
     },
     "execution_count": 19,
     "metadata": {},
     "output_type": "execute_result"
    }
   ],
   "source": [
    "score = optimizer.evaluate_prompt(\n",
    "    prompt=initial_prompt,\n",
    "    dataset=opik_dataset,\n",
    "    metric=levenshtein_ratio,\n",
    "    n_samples=100,\n",
    ")\n",
    "score"
   ]
  },
  {
   "cell_type": "markdown",
   "metadata": {
    "id": "UtFggdB67tmB"
   },
   "source": [
    "In my run, it scored about 16% correct. [I say \"percent correct\" but because we are using edit distance, that isn't quite accurate. But we can think of it this way.] Your result may be somewhat different but is probably between 10% and 20% correct.\n",
    "\n",
    "Ok, let's optimize that prompt!"
   ]
  },
  {
   "cell_type": "code",
   "execution_count": 20,
   "metadata": {
    "id": "3Q3ENgSARX2m"
   },
   "outputs": [
    {
     "data": {
      "text/html": [
       "<pre style=\"white-space:pre;overflow-x:auto;line-height:normal;font-family:Menlo,'DejaVu Sans Mono',consolas,'Courier New',monospace\">╭────────────────────────────────────────────────────────────────────╮\n",
       "│ <span style=\"color: #008000; text-decoration-color: #008000\">● </span>Running Opik Evaluation - <span style=\"color: #000080; text-decoration-color: #000080\">Few-Shot Bayesian Optimizer</span>            │\n",
       "╰────────────────────────────────────────────────────────────────────╯\n",
       "</pre>\n"
      ],
      "text/plain": [
       "╭────────────────────────────────────────────────────────────────────╮\n",
       "│ \u001b[32m● \u001b[0mRunning Opik Evaluation - \u001b[34mFew-Shot Bayesian Optimizer\u001b[0m            │\n",
       "╰────────────────────────────────────────────────────────────────────╯\n"
      ]
     },
     "metadata": {},
     "output_type": "display_data"
    },
    {
     "data": {
      "text/html": [
       "<pre style=\"white-space:pre;overflow-x:auto;line-height:normal;font-family:Menlo,'DejaVu Sans Mono',consolas,'Courier New',monospace\">\n",
       "\n",
       "</pre>\n"
      ],
      "text/plain": [
       "\n",
       "\n"
      ]
     },
     "metadata": {},
     "output_type": "display_data"
    },
    {
     "data": {
      "text/html": [
       "<pre style=\"white-space:pre;overflow-x:auto;line-height:normal;font-family:Menlo,'DejaVu Sans Mono',consolas,'Courier New',monospace\">&gt; Let's optimize the prompt:\n",
       "\n",
       "</pre>\n"
      ],
      "text/plain": [
       "> Let's optimize the prompt:\n",
       "\n"
      ]
     },
     "metadata": {},
     "output_type": "display_data"
    },
    {
     "data": {
      "text/html": [
       "<pre style=\"white-space:pre;overflow-x:auto;line-height:normal;font-family:Menlo,'DejaVu Sans Mono',consolas,'Courier New',monospace\"></pre>\n"
      ],
      "text/plain": []
     },
     "metadata": {},
     "output_type": "display_data"
    },
    {
     "data": {
      "text/html": [
       "<pre style=\"white-space:pre;overflow-x:auto;line-height:normal;font-family:Menlo,'DejaVu Sans Mono',consolas,'Courier New',monospace\"><span style=\"color: #7f7f7f; text-decoration-color: #7f7f7f\">╭─ system ───────────────────────────────────────────────────────────╮</span>\n",
       "</pre>\n"
      ],
      "text/plain": [
       "\u001b[2m╭─\u001b[0m\u001b[2m system \u001b[0m\u001b[2m──────────────────────────────────────────────────────────\u001b[0m\u001b[2m─╮\u001b[0m\n"
      ]
     },
     "metadata": {},
     "output_type": "display_data"
    },
    {
     "data": {
      "text/html": [
       "<pre style=\"white-space:pre;overflow-x:auto;line-height:normal;font-family:Menlo,'DejaVu Sans Mono',consolas,'Courier New',monospace\"><span style=\"color: #7f7f7f; text-decoration-color: #7f7f7f\">│</span>                                                                    <span style=\"color: #7f7f7f; text-decoration-color: #7f7f7f\">│</span>\n",
       "</pre>\n"
      ],
      "text/plain": [
       "\u001b[2m│\u001b[0m                                                                    \u001b[2m│\u001b[0m\n"
      ]
     },
     "metadata": {},
     "output_type": "display_data"
    },
    {
     "data": {
      "text/html": [
       "<pre style=\"white-space:pre;overflow-x:auto;line-height:normal;font-family:Menlo,'DejaVu Sans Mono',consolas,'Courier New',monospace\"><span style=\"color: #7f7f7f; text-decoration-color: #7f7f7f\">│</span>  Provide an answer to the question                                 <span style=\"color: #7f7f7f; text-decoration-color: #7f7f7f\">│</span>\n",
       "</pre>\n"
      ],
      "text/plain": [
       "\u001b[2m│\u001b[0m  Provide an answer to the question                                 \u001b[2m│\u001b[0m\n"
      ]
     },
     "metadata": {},
     "output_type": "display_data"
    },
    {
     "data": {
      "text/html": [
       "<pre style=\"white-space:pre;overflow-x:auto;line-height:normal;font-family:Menlo,'DejaVu Sans Mono',consolas,'Courier New',monospace\"><span style=\"color: #7f7f7f; text-decoration-color: #7f7f7f\">│</span>                                                                    <span style=\"color: #7f7f7f; text-decoration-color: #7f7f7f\">│</span>\n",
       "</pre>\n"
      ],
      "text/plain": [
       "\u001b[2m│\u001b[0m                                                                    \u001b[2m│\u001b[0m\n"
      ]
     },
     "metadata": {},
     "output_type": "display_data"
    },
    {
     "data": {
      "text/html": [
       "<pre style=\"white-space:pre;overflow-x:auto;line-height:normal;font-family:Menlo,'DejaVu Sans Mono',consolas,'Courier New',monospace\"><span style=\"color: #7f7f7f; text-decoration-color: #7f7f7f\">╰────────────────────────────────────────────────────────────────────╯</span>\n",
       "</pre>\n"
      ],
      "text/plain": [
       "\u001b[2m╰────────────────────────────────────────────────────────────────────╯\u001b[0m\n"
      ]
     },
     "metadata": {},
     "output_type": "display_data"
    },
    {
     "data": {
      "text/html": [
       "<pre style=\"white-space:pre;overflow-x:auto;line-height:normal;font-family:Menlo,'DejaVu Sans Mono',consolas,'Courier New',monospace\"></pre>\n"
      ],
      "text/plain": []
     },
     "metadata": {},
     "output_type": "display_data"
    },
    {
     "data": {
      "text/html": [
       "<pre style=\"white-space:pre;overflow-x:auto;line-height:normal;font-family:Menlo,'DejaVu Sans Mono',consolas,'Courier New',monospace\"><span style=\"color: #7f7f7f; text-decoration-color: #7f7f7f\">╭─ user ─────────────────────────────────────────────────────────────╮</span>\n",
       "</pre>\n"
      ],
      "text/plain": [
       "\u001b[2m╭─\u001b[0m\u001b[2m user \u001b[0m\u001b[2m────────────────────────────────────────────────────────────\u001b[0m\u001b[2m─╮\u001b[0m\n"
      ]
     },
     "metadata": {},
     "output_type": "display_data"
    },
    {
     "data": {
      "text/html": [
       "<pre style=\"white-space:pre;overflow-x:auto;line-height:normal;font-family:Menlo,'DejaVu Sans Mono',consolas,'Courier New',monospace\"><span style=\"color: #7f7f7f; text-decoration-color: #7f7f7f\">│</span>                                                                    <span style=\"color: #7f7f7f; text-decoration-color: #7f7f7f\">│</span>\n",
       "</pre>\n"
      ],
      "text/plain": [
       "\u001b[2m│\u001b[0m                                                                    \u001b[2m│\u001b[0m\n"
      ]
     },
     "metadata": {},
     "output_type": "display_data"
    },
    {
     "data": {
      "text/html": [
       "<pre style=\"white-space:pre;overflow-x:auto;line-height:normal;font-family:Menlo,'DejaVu Sans Mono',consolas,'Courier New',monospace\"><span style=\"color: #7f7f7f; text-decoration-color: #7f7f7f\">│</span>  {question}                                                        <span style=\"color: #7f7f7f; text-decoration-color: #7f7f7f\">│</span>\n",
       "</pre>\n"
      ],
      "text/plain": [
       "\u001b[2m│\u001b[0m  {question}                                                        \u001b[2m│\u001b[0m\n"
      ]
     },
     "metadata": {},
     "output_type": "display_data"
    },
    {
     "data": {
      "text/html": [
       "<pre style=\"white-space:pre;overflow-x:auto;line-height:normal;font-family:Menlo,'DejaVu Sans Mono',consolas,'Courier New',monospace\"><span style=\"color: #7f7f7f; text-decoration-color: #7f7f7f\">│</span>                                                                    <span style=\"color: #7f7f7f; text-decoration-color: #7f7f7f\">│</span>\n",
       "</pre>\n"
      ],
      "text/plain": [
       "\u001b[2m│\u001b[0m                                                                    \u001b[2m│\u001b[0m\n"
      ]
     },
     "metadata": {},
     "output_type": "display_data"
    },
    {
     "data": {
      "text/html": [
       "<pre style=\"white-space:pre;overflow-x:auto;line-height:normal;font-family:Menlo,'DejaVu Sans Mono',consolas,'Courier New',monospace\"><span style=\"color: #7f7f7f; text-decoration-color: #7f7f7f\">╰────────────────────────────────────────────────────────────────────╯</span>\n",
       "</pre>\n"
      ],
      "text/plain": [
       "\u001b[2m╰────────────────────────────────────────────────────────────────────╯\u001b[0m\n"
      ]
     },
     "metadata": {},
     "output_type": "display_data"
    },
    {
     "data": {
      "text/html": [
       "<pre style=\"white-space:pre;overflow-x:auto;line-height:normal;font-family:Menlo,'DejaVu Sans Mono',consolas,'Courier New',monospace\">\n",
       "Using FewShotBayesianOptimizer with the parameters: \n",
       "</pre>\n"
      ],
      "text/plain": [
       "\n",
       "Using FewShotBayesianOptimizer with the parameters: \n"
      ]
     },
     "metadata": {},
     "output_type": "display_data"
    },
    {
     "data": {
      "text/html": [
       "<pre style=\"white-space:pre;overflow-x:auto;line-height:normal;font-family:Menlo,'DejaVu Sans Mono',consolas,'Courier New',monospace\"><span style=\"color: #7f7f7f; text-decoration-color: #7f7f7f\">  - metric: </span><span style=\"color: #008080; text-decoration-color: #008080\">levenshtein_ratio</span>\n",
       "</pre>\n"
      ],
      "text/plain": [
       "\u001b[2m  - metric: \u001b[0m\u001b[36mlevenshtein_ratio\u001b[0m\n"
      ]
     },
     "metadata": {},
     "output_type": "display_data"
    },
    {
     "data": {
      "text/html": [
       "<pre style=\"white-space:pre;overflow-x:auto;line-height:normal;font-family:Menlo,'DejaVu Sans Mono',consolas,'Courier New',monospace\"><span style=\"color: #7f7f7f; text-decoration-color: #7f7f7f\">  - n_trials: </span><span style=\"color: #008080; text-decoration-color: #008080\">3</span>\n",
       "</pre>\n"
      ],
      "text/plain": [
       "\u001b[2m  - n_trials: \u001b[0m\u001b[36m3\u001b[0m\n"
      ]
     },
     "metadata": {},
     "output_type": "display_data"
    },
    {
     "data": {
      "text/html": [
       "<pre style=\"white-space:pre;overflow-x:auto;line-height:normal;font-family:Menlo,'DejaVu Sans Mono',consolas,'Courier New',monospace\"><span style=\"color: #7f7f7f; text-decoration-color: #7f7f7f\">  - n_samples: </span><span style=\"color: #008080; text-decoration-color: #008080\">50</span>\n",
       "</pre>\n"
      ],
      "text/plain": [
       "\u001b[2m  - n_samples: \u001b[0m\u001b[36m50\u001b[0m\n"
      ]
     },
     "metadata": {},
     "output_type": "display_data"
    },
    {
     "data": {
      "text/html": [
       "<pre style=\"white-space:pre;overflow-x:auto;line-height:normal;font-family:Menlo,'DejaVu Sans Mono',consolas,'Courier New',monospace\">\n",
       "\n",
       "</pre>\n"
      ],
      "text/plain": [
       "\n",
       "\n"
      ]
     },
     "metadata": {},
     "output_type": "display_data"
    },
    {
     "data": {
      "text/html": [
       "<pre style=\"white-space:pre;overflow-x:auto;line-height:normal;font-family:Menlo,'DejaVu Sans Mono',consolas,'Courier New',monospace\">&gt; First we will establish the baseline performance:\n",
       "</pre>\n"
      ],
      "text/plain": [
       "> First we will establish the baseline performance:\n"
      ]
     },
     "metadata": {},
     "output_type": "display_data"
    },
    {
     "data": {
      "text/html": [
       "<pre style=\"white-space:pre;overflow-x:auto;line-height:normal;font-family:Menlo,'DejaVu Sans Mono',consolas,'Courier New',monospace\"><span style=\"color: #008000; text-decoration-color: #008000\">  Baseline score was: 0.1326.</span>\n",
       "\n",
       "</pre>\n"
      ],
      "text/plain": [
       "\u001b[32m  Baseline score was: 0.1326.\u001b[0m\n",
       "\n"
      ]
     },
     "metadata": {},
     "output_type": "display_data"
    },
    {
     "data": {
      "text/html": [
       "<pre style=\"white-space:pre;overflow-x:auto;line-height:normal;font-family:Menlo,'DejaVu Sans Mono',consolas,'Courier New',monospace\">&gt; Let's add a placeholder for few-shot examples in the messages:\n",
       "</pre>\n"
      ],
      "text/plain": [
       "> Let's add a placeholder for few-shot examples in the messages:\n"
      ]
     },
     "metadata": {},
     "output_type": "display_data"
    },
    {
     "data": {
      "text/html": [
       "<pre style=\"white-space:pre;overflow-x:auto;line-height:normal;font-family:Menlo,'DejaVu Sans Mono',consolas,'Courier New',monospace\"><span style=\"color: #bfbf7f; text-decoration-color: #bfbf7f\">│    Created the prompt template:</span>\n",
       "<span style=\"color: #bfbf7f; text-decoration-color: #bfbf7f\">│</span>\n",
       "</pre>\n"
      ],
      "text/plain": [
       "\u001b[2;33m│    Created the prompt template:\u001b[0m\n",
       "\u001b[2;33m│\u001b[0m\n"
      ]
     },
     "metadata": {},
     "output_type": "display_data"
    },
    {
     "data": {
      "text/html": [
       "<pre style=\"white-space:pre;overflow-x:auto;line-height:normal;font-family:Menlo,'DejaVu Sans Mono',consolas,'Courier New',monospace\"></pre>\n"
      ],
      "text/plain": []
     },
     "metadata": {},
     "output_type": "display_data"
    },
    {
     "data": {
      "text/html": [
       "<pre style=\"white-space:pre;overflow-x:auto;line-height:normal;font-family:Menlo,'DejaVu Sans Mono',consolas,'Courier New',monospace\">│    <span style=\"color: #7f7f7f; text-decoration-color: #7f7f7f\">╭─ system ───────────────────────────────────────────────────────────╮</span>\n",
       "</pre>\n"
      ],
      "text/plain": [
       "│    \u001b[2m╭─\u001b[0m\u001b[2m system \u001b[0m\u001b[2m──────────────────────────────────────────────────────────\u001b[0m\u001b[2m─╮\u001b[0m\n"
      ]
     },
     "metadata": {},
     "output_type": "display_data"
    },
    {
     "data": {
      "text/html": [
       "<pre style=\"white-space:pre;overflow-x:auto;line-height:normal;font-family:Menlo,'DejaVu Sans Mono',consolas,'Courier New',monospace\">│    <span style=\"color: #7f7f7f; text-decoration-color: #7f7f7f\">│</span>                                                                    <span style=\"color: #7f7f7f; text-decoration-color: #7f7f7f\">│</span>\n",
       "</pre>\n"
      ],
      "text/plain": [
       "│    \u001b[2m│\u001b[0m                                                                    \u001b[2m│\u001b[0m\n"
      ]
     },
     "metadata": {},
     "output_type": "display_data"
    },
    {
     "data": {
      "text/html": [
       "<pre style=\"white-space:pre;overflow-x:auto;line-height:normal;font-family:Menlo,'DejaVu Sans Mono',consolas,'Courier New',monospace\">│    <span style=\"color: #7f7f7f; text-decoration-color: #7f7f7f\">│</span>  Provide an answer to the question                                 <span style=\"color: #7f7f7f; text-decoration-color: #7f7f7f\">│</span>\n",
       "</pre>\n"
      ],
      "text/plain": [
       "│    \u001b[2m│\u001b[0m  Provide an answer to the question                                 \u001b[2m│\u001b[0m\n"
      ]
     },
     "metadata": {},
     "output_type": "display_data"
    },
    {
     "data": {
      "text/html": [
       "<pre style=\"white-space:pre;overflow-x:auto;line-height:normal;font-family:Menlo,'DejaVu Sans Mono',consolas,'Courier New',monospace\">│    <span style=\"color: #7f7f7f; text-decoration-color: #7f7f7f\">│</span>                                                                    <span style=\"color: #7f7f7f; text-decoration-color: #7f7f7f\">│</span>\n",
       "</pre>\n"
      ],
      "text/plain": [
       "│    \u001b[2m│\u001b[0m                                                                    \u001b[2m│\u001b[0m\n"
      ]
     },
     "metadata": {},
     "output_type": "display_data"
    },
    {
     "data": {
      "text/html": [
       "<pre style=\"white-space:pre;overflow-x:auto;line-height:normal;font-family:Menlo,'DejaVu Sans Mono',consolas,'Courier New',monospace\">│    <span style=\"color: #7f7f7f; text-decoration-color: #7f7f7f\">│</span>  ### Few-Shot Examples                                             <span style=\"color: #7f7f7f; text-decoration-color: #7f7f7f\">│</span>\n",
       "</pre>\n"
      ],
      "text/plain": [
       "│    \u001b[2m│\u001b[0m  ### Few-Shot Examples                                             \u001b[2m│\u001b[0m\n"
      ]
     },
     "metadata": {},
     "output_type": "display_data"
    },
    {
     "data": {
      "text/html": [
       "<pre style=\"white-space:pre;overflow-x:auto;line-height:normal;font-family:Menlo,'DejaVu Sans Mono',consolas,'Courier New',monospace\">│    <span style=\"color: #7f7f7f; text-decoration-color: #7f7f7f\">│</span>  FEW_SHOT_EXAMPLE_PLACEHOLDER                                      <span style=\"color: #7f7f7f; text-decoration-color: #7f7f7f\">│</span>\n",
       "</pre>\n"
      ],
      "text/plain": [
       "│    \u001b[2m│\u001b[0m  FEW_SHOT_EXAMPLE_PLACEHOLDER                                      \u001b[2m│\u001b[0m\n"
      ]
     },
     "metadata": {},
     "output_type": "display_data"
    },
    {
     "data": {
      "text/html": [
       "<pre style=\"white-space:pre;overflow-x:auto;line-height:normal;font-family:Menlo,'DejaVu Sans Mono',consolas,'Courier New',monospace\">│    <span style=\"color: #7f7f7f; text-decoration-color: #7f7f7f\">│</span>                                                                    <span style=\"color: #7f7f7f; text-decoration-color: #7f7f7f\">│</span>\n",
       "</pre>\n"
      ],
      "text/plain": [
       "│    \u001b[2m│\u001b[0m                                                                    \u001b[2m│\u001b[0m\n"
      ]
     },
     "metadata": {},
     "output_type": "display_data"
    },
    {
     "data": {
      "text/html": [
       "<pre style=\"white-space:pre;overflow-x:auto;line-height:normal;font-family:Menlo,'DejaVu Sans Mono',consolas,'Courier New',monospace\">│    <span style=\"color: #7f7f7f; text-decoration-color: #7f7f7f\">╰────────────────────────────────────────────────────────────────────╯</span>\n",
       "</pre>\n"
      ],
      "text/plain": [
       "│    \u001b[2m╰────────────────────────────────────────────────────────────────────╯\u001b[0m\n"
      ]
     },
     "metadata": {},
     "output_type": "display_data"
    },
    {
     "data": {
      "text/html": [
       "<pre style=\"white-space:pre;overflow-x:auto;line-height:normal;font-family:Menlo,'DejaVu Sans Mono',consolas,'Courier New',monospace\"></pre>\n"
      ],
      "text/plain": []
     },
     "metadata": {},
     "output_type": "display_data"
    },
    {
     "data": {
      "text/html": [
       "<pre style=\"white-space:pre;overflow-x:auto;line-height:normal;font-family:Menlo,'DejaVu Sans Mono',consolas,'Courier New',monospace\">│    <span style=\"color: #7f7f7f; text-decoration-color: #7f7f7f\">╭─ user ─────────────────────────────────────────────────────────────╮</span>\n",
       "</pre>\n"
      ],
      "text/plain": [
       "│    \u001b[2m╭─\u001b[0m\u001b[2m user \u001b[0m\u001b[2m────────────────────────────────────────────────────────────\u001b[0m\u001b[2m─╮\u001b[0m\n"
      ]
     },
     "metadata": {},
     "output_type": "display_data"
    },
    {
     "data": {
      "text/html": [
       "<pre style=\"white-space:pre;overflow-x:auto;line-height:normal;font-family:Menlo,'DejaVu Sans Mono',consolas,'Courier New',monospace\">│    <span style=\"color: #7f7f7f; text-decoration-color: #7f7f7f\">│</span>                                                                    <span style=\"color: #7f7f7f; text-decoration-color: #7f7f7f\">│</span>\n",
       "</pre>\n"
      ],
      "text/plain": [
       "│    \u001b[2m│\u001b[0m                                                                    \u001b[2m│\u001b[0m\n"
      ]
     },
     "metadata": {},
     "output_type": "display_data"
    },
    {
     "data": {
      "text/html": [
       "<pre style=\"white-space:pre;overflow-x:auto;line-height:normal;font-family:Menlo,'DejaVu Sans Mono',consolas,'Courier New',monospace\">│    <span style=\"color: #7f7f7f; text-decoration-color: #7f7f7f\">│</span>  {question}                                                        <span style=\"color: #7f7f7f; text-decoration-color: #7f7f7f\">│</span>\n",
       "</pre>\n"
      ],
      "text/plain": [
       "│    \u001b[2m│\u001b[0m  {question}                                                        \u001b[2m│\u001b[0m\n"
      ]
     },
     "metadata": {},
     "output_type": "display_data"
    },
    {
     "data": {
      "text/html": [
       "<pre style=\"white-space:pre;overflow-x:auto;line-height:normal;font-family:Menlo,'DejaVu Sans Mono',consolas,'Courier New',monospace\">│    <span style=\"color: #7f7f7f; text-decoration-color: #7f7f7f\">│</span>                                                                    <span style=\"color: #7f7f7f; text-decoration-color: #7f7f7f\">│</span>\n",
       "</pre>\n"
      ],
      "text/plain": [
       "│    \u001b[2m│\u001b[0m                                                                    \u001b[2m│\u001b[0m\n"
      ]
     },
     "metadata": {},
     "output_type": "display_data"
    },
    {
     "data": {
      "text/html": [
       "<pre style=\"white-space:pre;overflow-x:auto;line-height:normal;font-family:Menlo,'DejaVu Sans Mono',consolas,'Courier New',monospace\">│    <span style=\"color: #7f7f7f; text-decoration-color: #7f7f7f\">╰────────────────────────────────────────────────────────────────────╯</span>\n",
       "</pre>\n"
      ],
      "text/plain": [
       "│    \u001b[2m╰────────────────────────────────────────────────────────────────────╯\u001b[0m\n"
      ]
     },
     "metadata": {},
     "output_type": "display_data"
    },
    {
     "data": {
      "text/html": [
       "<pre style=\"white-space:pre;overflow-x:auto;line-height:normal;font-family:Menlo,'DejaVu Sans Mono',consolas,'Courier New',monospace\">│\n",
       "│   With the FEW_SHOT_EXAMPLE_PLACEHOLDER following the format:\n",
       "</pre>\n"
      ],
      "text/plain": [
       "│\n",
       "│   With the FEW_SHOT_EXAMPLE_PLACEHOLDER following the format:\n"
      ]
     },
     "metadata": {},
     "output_type": "display_data"
    },
    {
     "data": {
      "text/html": [
       "<pre style=\"white-space:pre;overflow-x:auto;line-height:normal;font-family:Menlo,'DejaVu Sans Mono',consolas,'Courier New',monospace\"><span style=\"color: #7f7f7f; text-decoration-color: #7f7f7f\">╭────────────────────────────────────────────────────────────────────╮</span>\n",
       "<span style=\"color: #7f7f7f; text-decoration-color: #7f7f7f\">│</span> Question: {question}                                               <span style=\"color: #7f7f7f; text-decoration-color: #7f7f7f\">│</span>\n",
       "<span style=\"color: #7f7f7f; text-decoration-color: #7f7f7f\">│</span> Answer: {answer}                                                   <span style=\"color: #7f7f7f; text-decoration-color: #7f7f7f\">│</span>\n",
       "<span style=\"color: #7f7f7f; text-decoration-color: #7f7f7f\">╰────────────────────────────────────────────────────────────────────╯</span>\n",
       "</pre>\n"
      ],
      "text/plain": [
       "\u001b[2m╭────────────────────────────────────────────────────────────────────╮\u001b[0m\n",
       "\u001b[2m│\u001b[0m Question: {question}                                               \u001b[2m│\u001b[0m\n",
       "\u001b[2m│\u001b[0m Answer: {answer}                                                   \u001b[2m│\u001b[0m\n",
       "\u001b[2m╰────────────────────────────────────────────────────────────────────╯\u001b[0m\n"
      ]
     },
     "metadata": {},
     "output_type": "display_data"
    },
    {
     "data": {
      "text/html": [
       "<pre style=\"white-space:pre;overflow-x:auto;line-height:normal;font-family:Menlo,'DejaVu Sans Mono',consolas,'Courier New',monospace\">\n",
       "</pre>\n"
      ],
      "text/plain": [
       "\n"
      ]
     },
     "metadata": {},
     "output_type": "display_data"
    },
    {
     "data": {
      "text/html": [
       "<pre style=\"white-space:pre;overflow-x:auto;line-height:normal;font-family:Menlo,'DejaVu Sans Mono',consolas,'Courier New',monospace\">\n",
       "</pre>\n"
      ],
      "text/plain": [
       "\n"
      ]
     },
     "metadata": {},
     "output_type": "display_data"
    },
    {
     "data": {
      "text/html": [
       "<pre style=\"white-space:pre;overflow-x:auto;line-height:normal;font-family:Menlo,'DejaVu Sans Mono',consolas,'Courier New',monospace\">\n",
       "&gt; Starting the optimization run\n",
       "</pre>\n"
      ],
      "text/plain": [
       "\n",
       "> Starting the optimization run\n"
      ]
     },
     "metadata": {},
     "output_type": "display_data"
    },
    {
     "data": {
      "text/html": [
       "<pre style=\"white-space:pre;overflow-x:auto;line-height:normal;font-family:Menlo,'DejaVu Sans Mono',consolas,'Courier New',monospace\">│\n",
       "</pre>\n"
      ],
      "text/plain": [
       "│\n"
      ]
     },
     "metadata": {},
     "output_type": "display_data"
    },
    {
     "data": {
      "text/html": [
       "<pre style=\"white-space:pre;overflow-x:auto;line-height:normal;font-family:Menlo,'DejaVu Sans Mono',consolas,'Courier New',monospace\">│ - Starting optimization round 1 of 3\n",
       "</pre>\n"
      ],
      "text/plain": [
       "│ - Starting optimization round 1 of 3\n"
      ]
     },
     "metadata": {},
     "output_type": "display_data"
    },
    {
     "data": {
      "text/html": [
       "<pre style=\"white-space:pre;overflow-x:auto;line-height:normal;font-family:Menlo,'DejaVu Sans Mono',consolas,'Courier New',monospace\">│\n",
       "</pre>\n"
      ],
      "text/plain": [
       "│\n"
      ]
     },
     "metadata": {},
     "output_type": "display_data"
    },
    {
     "data": {
      "text/html": [
       "<pre style=\"white-space:pre;overflow-x:auto;line-height:normal;font-family:Menlo,'DejaVu Sans Mono',consolas,'Courier New',monospace\"></pre>\n"
      ],
      "text/plain": []
     },
     "metadata": {},
     "output_type": "display_data"
    },
    {
     "data": {
      "text/html": [
       "<pre style=\"white-space:pre;overflow-x:auto;line-height:normal;font-family:Menlo,'DejaVu Sans Mono',consolas,'Courier New',monospace\">│    <span style=\"color: #7f7f7f; text-decoration-color: #7f7f7f\">╭─ system ───────────────────────────────────────────────────────────╮</span>\n",
       "</pre>\n"
      ],
      "text/plain": [
       "│    \u001b[2m╭─\u001b[0m\u001b[2m system \u001b[0m\u001b[2m──────────────────────────────────────────────────────────\u001b[0m\u001b[2m─╮\u001b[0m\n"
      ]
     },
     "metadata": {},
     "output_type": "display_data"
    },
    {
     "data": {
      "text/html": [
       "<pre style=\"white-space:pre;overflow-x:auto;line-height:normal;font-family:Menlo,'DejaVu Sans Mono',consolas,'Courier New',monospace\">│    <span style=\"color: #7f7f7f; text-decoration-color: #7f7f7f\">│</span>                                                                    <span style=\"color: #7f7f7f; text-decoration-color: #7f7f7f\">│</span>\n",
       "</pre>\n"
      ],
      "text/plain": [
       "│    \u001b[2m│\u001b[0m                                                                    \u001b[2m│\u001b[0m\n"
      ]
     },
     "metadata": {},
     "output_type": "display_data"
    },
    {
     "data": {
      "text/html": [
       "<pre style=\"white-space:pre;overflow-x:auto;line-height:normal;font-family:Menlo,'DejaVu Sans Mono',consolas,'Courier New',monospace\">│    <span style=\"color: #7f7f7f; text-decoration-color: #7f7f7f\">│</span>  Provide an answer to the question                                 <span style=\"color: #7f7f7f; text-decoration-color: #7f7f7f\">│</span>\n",
       "</pre>\n"
      ],
      "text/plain": [
       "│    \u001b[2m│\u001b[0m  Provide an answer to the question                                 \u001b[2m│\u001b[0m\n"
      ]
     },
     "metadata": {},
     "output_type": "display_data"
    },
    {
     "data": {
      "text/html": [
       "<pre style=\"white-space:pre;overflow-x:auto;line-height:normal;font-family:Menlo,'DejaVu Sans Mono',consolas,'Courier New',monospace\">│    <span style=\"color: #7f7f7f; text-decoration-color: #7f7f7f\">│</span>                                                                    <span style=\"color: #7f7f7f; text-decoration-color: #7f7f7f\">│</span>\n",
       "</pre>\n"
      ],
      "text/plain": [
       "│    \u001b[2m│\u001b[0m                                                                    \u001b[2m│\u001b[0m\n"
      ]
     },
     "metadata": {},
     "output_type": "display_data"
    },
    {
     "data": {
      "text/html": [
       "<pre style=\"white-space:pre;overflow-x:auto;line-height:normal;font-family:Menlo,'DejaVu Sans Mono',consolas,'Courier New',monospace\">│    <span style=\"color: #7f7f7f; text-decoration-color: #7f7f7f\">│</span>  ### Few-Shot Examples                                             <span style=\"color: #7f7f7f; text-decoration-color: #7f7f7f\">│</span>\n",
       "</pre>\n"
      ],
      "text/plain": [
       "│    \u001b[2m│\u001b[0m  ### Few-Shot Examples                                             \u001b[2m│\u001b[0m\n"
      ]
     },
     "metadata": {},
     "output_type": "display_data"
    },
    {
     "data": {
      "text/html": [
       "<pre style=\"white-space:pre;overflow-x:auto;line-height:normal;font-family:Menlo,'DejaVu Sans Mono',consolas,'Courier New',monospace\">│    <span style=\"color: #7f7f7f; text-decoration-color: #7f7f7f\">│</span>  Question: What novel did an author who was featured in the        <span style=\"color: #7f7f7f; text-decoration-color: #7f7f7f\">│</span>\n",
       "</pre>\n"
      ],
      "text/plain": [
       "│    \u001b[2m│\u001b[0m  Question: What novel did an author who was featured in the        \u001b[2m│\u001b[0m\n"
      ]
     },
     "metadata": {},
     "output_type": "display_data"
    },
    {
     "data": {
      "text/html": [
       "<pre style=\"white-space:pre;overflow-x:auto;line-height:normal;font-family:Menlo,'DejaVu Sans Mono',consolas,'Courier New',monospace\">│    <span style=\"color: #7f7f7f; text-decoration-color: #7f7f7f\">│</span>  Voices of Ghana and later became a journalist write?              <span style=\"color: #7f7f7f; text-decoration-color: #7f7f7f\">│</span>\n",
       "</pre>\n"
      ],
      "text/plain": [
       "│    \u001b[2m│\u001b[0m  Voices of Ghana and later became a journalist write?              \u001b[2m│\u001b[0m\n"
      ]
     },
     "metadata": {},
     "output_type": "display_data"
    },
    {
     "data": {
      "text/html": [
       "<pre style=\"white-space:pre;overflow-x:auto;line-height:normal;font-family:Menlo,'DejaVu Sans Mono',consolas,'Courier New',monospace\">│    <span style=\"color: #7f7f7f; text-decoration-color: #7f7f7f\">│</span>  Answer: The Gab Boys                                              <span style=\"color: #7f7f7f; text-decoration-color: #7f7f7f\">│</span>\n",
       "</pre>\n"
      ],
      "text/plain": [
       "│    \u001b[2m│\u001b[0m  Answer: The Gab Boys                                              \u001b[2m│\u001b[0m\n"
      ]
     },
     "metadata": {},
     "output_type": "display_data"
    },
    {
     "data": {
      "text/html": [
       "<pre style=\"white-space:pre;overflow-x:auto;line-height:normal;font-family:Menlo,'DejaVu Sans Mono',consolas,'Courier New',monospace\">│    <span style=\"color: #7f7f7f; text-decoration-color: #7f7f7f\">│</span>                                                                    <span style=\"color: #7f7f7f; text-decoration-color: #7f7f7f\">│</span>\n",
       "</pre>\n"
      ],
      "text/plain": [
       "│    \u001b[2m│\u001b[0m                                                                    \u001b[2m│\u001b[0m\n"
      ]
     },
     "metadata": {},
     "output_type": "display_data"
    },
    {
     "data": {
      "text/html": [
       "<pre style=\"white-space:pre;overflow-x:auto;line-height:normal;font-family:Menlo,'DejaVu Sans Mono',consolas,'Courier New',monospace\">│    <span style=\"color: #7f7f7f; text-decoration-color: #7f7f7f\">│</span>  Question: What were the dates of the campaign that eventually     <span style=\"color: #7f7f7f; text-decoration-color: #7f7f7f\">│</span>\n",
       "</pre>\n"
      ],
      "text/plain": [
       "│    \u001b[2m│\u001b[0m  Question: What were the dates of the campaign that eventually     \u001b[2m│\u001b[0m\n"
      ]
     },
     "metadata": {},
     "output_type": "display_data"
    },
    {
     "data": {
      "text/html": [
       "<pre style=\"white-space:pre;overflow-x:auto;line-height:normal;font-family:Menlo,'DejaVu Sans Mono',consolas,'Courier New',monospace\">│    <span style=\"color: #7f7f7f; text-decoration-color: #7f7f7f\">│</span>  led to the Treaty of Roskilde?                                    <span style=\"color: #7f7f7f; text-decoration-color: #7f7f7f\">│</span>\n",
       "</pre>\n"
      ],
      "text/plain": [
       "│    \u001b[2m│\u001b[0m  led to the Treaty of Roskilde?                                    \u001b[2m│\u001b[0m\n"
      ]
     },
     "metadata": {},
     "output_type": "display_data"
    },
    {
     "data": {
      "text/html": [
       "<pre style=\"white-space:pre;overflow-x:auto;line-height:normal;font-family:Menlo,'DejaVu Sans Mono',consolas,'Courier New',monospace\">│    <span style=\"color: #7f7f7f; text-decoration-color: #7f7f7f\">│</span>  Answer: between 30 January and 8 February 1658                    <span style=\"color: #7f7f7f; text-decoration-color: #7f7f7f\">│</span>\n",
       "</pre>\n"
      ],
      "text/plain": [
       "│    \u001b[2m│\u001b[0m  Answer: between 30 January and 8 February 1658                    \u001b[2m│\u001b[0m\n"
      ]
     },
     "metadata": {},
     "output_type": "display_data"
    },
    {
     "data": {
      "text/html": [
       "<pre style=\"white-space:pre;overflow-x:auto;line-height:normal;font-family:Menlo,'DejaVu Sans Mono',consolas,'Courier New',monospace\">│    <span style=\"color: #7f7f7f; text-decoration-color: #7f7f7f\">│</span>                                                                    <span style=\"color: #7f7f7f; text-decoration-color: #7f7f7f\">│</span>\n",
       "</pre>\n"
      ],
      "text/plain": [
       "│    \u001b[2m│\u001b[0m                                                                    \u001b[2m│\u001b[0m\n"
      ]
     },
     "metadata": {},
     "output_type": "display_data"
    },
    {
     "data": {
      "text/html": [
       "<pre style=\"white-space:pre;overflow-x:auto;line-height:normal;font-family:Menlo,'DejaVu Sans Mono',consolas,'Courier New',monospace\">│    <span style=\"color: #7f7f7f; text-decoration-color: #7f7f7f\">│</span>  Question: Are Wanding Town and Jiujiang, Guangdong both frontier  <span style=\"color: #7f7f7f; text-decoration-color: #7f7f7f\">│</span>\n",
       "</pre>\n"
      ],
      "text/plain": [
       "│    \u001b[2m│\u001b[0m  Question: Are Wanding Town and Jiujiang, Guangdong both frontier  \u001b[2m│\u001b[0m\n"
      ]
     },
     "metadata": {},
     "output_type": "display_data"
    },
    {
     "data": {
      "text/html": [
       "<pre style=\"white-space:pre;overflow-x:auto;line-height:normal;font-family:Menlo,'DejaVu Sans Mono',consolas,'Courier New',monospace\">│    <span style=\"color: #7f7f7f; text-decoration-color: #7f7f7f\">│</span>  towns?                                                            <span style=\"color: #7f7f7f; text-decoration-color: #7f7f7f\">│</span>\n",
       "</pre>\n"
      ],
      "text/plain": [
       "│    \u001b[2m│\u001b[0m  towns?                                                            \u001b[2m│\u001b[0m\n"
      ]
     },
     "metadata": {},
     "output_type": "display_data"
    },
    {
     "data": {
      "text/html": [
       "<pre style=\"white-space:pre;overflow-x:auto;line-height:normal;font-family:Menlo,'DejaVu Sans Mono',consolas,'Courier New',monospace\">│    <span style=\"color: #7f7f7f; text-decoration-color: #7f7f7f\">│</span>  Answer: no                                                        <span style=\"color: #7f7f7f; text-decoration-color: #7f7f7f\">│</span>\n",
       "</pre>\n"
      ],
      "text/plain": [
       "│    \u001b[2m│\u001b[0m  Answer: no                                                        \u001b[2m│\u001b[0m\n"
      ]
     },
     "metadata": {},
     "output_type": "display_data"
    },
    {
     "data": {
      "text/html": [
       "<pre style=\"white-space:pre;overflow-x:auto;line-height:normal;font-family:Menlo,'DejaVu Sans Mono',consolas,'Courier New',monospace\">│    <span style=\"color: #7f7f7f; text-decoration-color: #7f7f7f\">│</span>                                                                    <span style=\"color: #7f7f7f; text-decoration-color: #7f7f7f\">│</span>\n",
       "</pre>\n"
      ],
      "text/plain": [
       "│    \u001b[2m│\u001b[0m                                                                    \u001b[2m│\u001b[0m\n"
      ]
     },
     "metadata": {},
     "output_type": "display_data"
    },
    {
     "data": {
      "text/html": [
       "<pre style=\"white-space:pre;overflow-x:auto;line-height:normal;font-family:Menlo,'DejaVu Sans Mono',consolas,'Courier New',monospace\">│    <span style=\"color: #7f7f7f; text-decoration-color: #7f7f7f\">│</span>  Question: The Knicks–Nuggets was the most penalized on-court      <span style=\"color: #7f7f7f; text-decoration-color: #7f7f7f\">│</span>\n",
       "</pre>\n"
      ],
      "text/plain": [
       "│    \u001b[2m│\u001b[0m  Question: The Knicks–Nuggets was the most penalized on-court      \u001b[2m│\u001b[0m\n"
      ]
     },
     "metadata": {},
     "output_type": "display_data"
    },
    {
     "data": {
      "text/html": [
       "<pre style=\"white-space:pre;overflow-x:auto;line-height:normal;font-family:Menlo,'DejaVu Sans Mono',consolas,'Courier New',monospace\">│    <span style=\"color: #7f7f7f; text-decoration-color: #7f7f7f\">│</span>  fight in the NBA since an altercation that occured in what city?  <span style=\"color: #7f7f7f; text-decoration-color: #7f7f7f\">│</span>\n",
       "</pre>\n"
      ],
      "text/plain": [
       "│    \u001b[2m│\u001b[0m  fight in the NBA since an altercation that occured in what city?  \u001b[2m│\u001b[0m\n"
      ]
     },
     "metadata": {},
     "output_type": "display_data"
    },
    {
     "data": {
      "text/html": [
       "<pre style=\"white-space:pre;overflow-x:auto;line-height:normal;font-family:Menlo,'DejaVu Sans Mono',consolas,'Courier New',monospace\">│    <span style=\"color: #7f7f7f; text-decoration-color: #7f7f7f\">│</span>  Answer: Auburn Hills                                              <span style=\"color: #7f7f7f; text-decoration-color: #7f7f7f\">│</span>\n",
       "</pre>\n"
      ],
      "text/plain": [
       "│    \u001b[2m│\u001b[0m  Answer: Auburn Hills                                              \u001b[2m│\u001b[0m\n"
      ]
     },
     "metadata": {},
     "output_type": "display_data"
    },
    {
     "data": {
      "text/html": [
       "<pre style=\"white-space:pre;overflow-x:auto;line-height:normal;font-family:Menlo,'DejaVu Sans Mono',consolas,'Courier New',monospace\">│    <span style=\"color: #7f7f7f; text-decoration-color: #7f7f7f\">│</span>                                                                    <span style=\"color: #7f7f7f; text-decoration-color: #7f7f7f\">│</span>\n",
       "</pre>\n"
      ],
      "text/plain": [
       "│    \u001b[2m│\u001b[0m                                                                    \u001b[2m│\u001b[0m\n"
      ]
     },
     "metadata": {},
     "output_type": "display_data"
    },
    {
     "data": {
      "text/html": [
       "<pre style=\"white-space:pre;overflow-x:auto;line-height:normal;font-family:Menlo,'DejaVu Sans Mono',consolas,'Courier New',monospace\">│    <span style=\"color: #7f7f7f; text-decoration-color: #7f7f7f\">╰────────────────────────────────────────────────────────────────────╯</span>\n",
       "</pre>\n"
      ],
      "text/plain": [
       "│    \u001b[2m╰────────────────────────────────────────────────────────────────────╯\u001b[0m\n"
      ]
     },
     "metadata": {},
     "output_type": "display_data"
    },
    {
     "data": {
      "text/html": [
       "<pre style=\"white-space:pre;overflow-x:auto;line-height:normal;font-family:Menlo,'DejaVu Sans Mono',consolas,'Courier New',monospace\"></pre>\n"
      ],
      "text/plain": []
     },
     "metadata": {},
     "output_type": "display_data"
    },
    {
     "data": {
      "text/html": [
       "<pre style=\"white-space:pre;overflow-x:auto;line-height:normal;font-family:Menlo,'DejaVu Sans Mono',consolas,'Courier New',monospace\">│    <span style=\"color: #7f7f7f; text-decoration-color: #7f7f7f\">╭─ user ─────────────────────────────────────────────────────────────╮</span>\n",
       "</pre>\n"
      ],
      "text/plain": [
       "│    \u001b[2m╭─\u001b[0m\u001b[2m user \u001b[0m\u001b[2m────────────────────────────────────────────────────────────\u001b[0m\u001b[2m─╮\u001b[0m\n"
      ]
     },
     "metadata": {},
     "output_type": "display_data"
    },
    {
     "data": {
      "text/html": [
       "<pre style=\"white-space:pre;overflow-x:auto;line-height:normal;font-family:Menlo,'DejaVu Sans Mono',consolas,'Courier New',monospace\">│    <span style=\"color: #7f7f7f; text-decoration-color: #7f7f7f\">│</span>                                                                    <span style=\"color: #7f7f7f; text-decoration-color: #7f7f7f\">│</span>\n",
       "</pre>\n"
      ],
      "text/plain": [
       "│    \u001b[2m│\u001b[0m                                                                    \u001b[2m│\u001b[0m\n"
      ]
     },
     "metadata": {},
     "output_type": "display_data"
    },
    {
     "data": {
      "text/html": [
       "<pre style=\"white-space:pre;overflow-x:auto;line-height:normal;font-family:Menlo,'DejaVu Sans Mono',consolas,'Courier New',monospace\">│    <span style=\"color: #7f7f7f; text-decoration-color: #7f7f7f\">│</span>  {question}                                                        <span style=\"color: #7f7f7f; text-decoration-color: #7f7f7f\">│</span>\n",
       "</pre>\n"
      ],
      "text/plain": [
       "│    \u001b[2m│\u001b[0m  {question}                                                        \u001b[2m│\u001b[0m\n"
      ]
     },
     "metadata": {},
     "output_type": "display_data"
    },
    {
     "data": {
      "text/html": [
       "<pre style=\"white-space:pre;overflow-x:auto;line-height:normal;font-family:Menlo,'DejaVu Sans Mono',consolas,'Courier New',monospace\">│    <span style=\"color: #7f7f7f; text-decoration-color: #7f7f7f\">│</span>                                                                    <span style=\"color: #7f7f7f; text-decoration-color: #7f7f7f\">│</span>\n",
       "</pre>\n"
      ],
      "text/plain": [
       "│    \u001b[2m│\u001b[0m                                                                    \u001b[2m│\u001b[0m\n"
      ]
     },
     "metadata": {},
     "output_type": "display_data"
    },
    {
     "data": {
      "text/html": [
       "<pre style=\"white-space:pre;overflow-x:auto;line-height:normal;font-family:Menlo,'DejaVu Sans Mono',consolas,'Courier New',monospace\">│    <span style=\"color: #7f7f7f; text-decoration-color: #7f7f7f\">╰────────────────────────────────────────────────────────────────────╯</span>\n",
       "</pre>\n"
      ],
      "text/plain": [
       "│    \u001b[2m╰────────────────────────────────────────────────────────────────────╯\u001b[0m\n"
      ]
     },
     "metadata": {},
     "output_type": "display_data"
    },
    {
     "data": {
      "text/html": [
       "<pre style=\"white-space:pre;overflow-x:auto;line-height:normal;font-family:Menlo,'DejaVu Sans Mono',consolas,'Courier New',monospace\">│\n",
       "</pre>\n"
      ],
      "text/plain": [
       "│\n"
      ]
     },
     "metadata": {},
     "output_type": "display_data"
    },
    {
     "data": {
      "text/html": [
       "<pre style=\"white-space:pre;overflow-x:auto;line-height:normal;font-family:Menlo,'DejaVu Sans Mono',consolas,'Courier New',monospace\"><span style=\"color: #008000; text-decoration-color: #008000\">│    Trial 1 - score was: 0.3669 (176.57%).</span>\n",
       "<span style=\"color: #008000; text-decoration-color: #008000\">│</span>\n",
       "</pre>\n"
      ],
      "text/plain": [
       "\u001b[32m│    Trial 1 - score was: 0.3669 (176.57%).\u001b[0m\n",
       "\u001b[32m│\u001b[0m\n"
      ]
     },
     "metadata": {},
     "output_type": "display_data"
    },
    {
     "data": {
      "text/html": [
       "<pre style=\"white-space:pre;overflow-x:auto;line-height:normal;font-family:Menlo,'DejaVu Sans Mono',consolas,'Courier New',monospace\">│ - Starting optimization round 2 of 3\n",
       "</pre>\n"
      ],
      "text/plain": [
       "│ - Starting optimization round 2 of 3\n"
      ]
     },
     "metadata": {},
     "output_type": "display_data"
    },
    {
     "data": {
      "text/html": [
       "<pre style=\"white-space:pre;overflow-x:auto;line-height:normal;font-family:Menlo,'DejaVu Sans Mono',consolas,'Courier New',monospace\">│\n",
       "</pre>\n"
      ],
      "text/plain": [
       "│\n"
      ]
     },
     "metadata": {},
     "output_type": "display_data"
    },
    {
     "data": {
      "text/html": [
       "<pre style=\"white-space:pre;overflow-x:auto;line-height:normal;font-family:Menlo,'DejaVu Sans Mono',consolas,'Courier New',monospace\"></pre>\n"
      ],
      "text/plain": []
     },
     "metadata": {},
     "output_type": "display_data"
    },
    {
     "data": {
      "text/html": [
       "<pre style=\"white-space:pre;overflow-x:auto;line-height:normal;font-family:Menlo,'DejaVu Sans Mono',consolas,'Courier New',monospace\">│    <span style=\"color: #7f7f7f; text-decoration-color: #7f7f7f\">╭─ system ───────────────────────────────────────────────────────────╮</span>\n",
       "</pre>\n"
      ],
      "text/plain": [
       "│    \u001b[2m╭─\u001b[0m\u001b[2m system \u001b[0m\u001b[2m──────────────────────────────────────────────────────────\u001b[0m\u001b[2m─╮\u001b[0m\n"
      ]
     },
     "metadata": {},
     "output_type": "display_data"
    },
    {
     "data": {
      "text/html": [
       "<pre style=\"white-space:pre;overflow-x:auto;line-height:normal;font-family:Menlo,'DejaVu Sans Mono',consolas,'Courier New',monospace\">│    <span style=\"color: #7f7f7f; text-decoration-color: #7f7f7f\">│</span>                                                                    <span style=\"color: #7f7f7f; text-decoration-color: #7f7f7f\">│</span>\n",
       "</pre>\n"
      ],
      "text/plain": [
       "│    \u001b[2m│\u001b[0m                                                                    \u001b[2m│\u001b[0m\n"
      ]
     },
     "metadata": {},
     "output_type": "display_data"
    },
    {
     "data": {
      "text/html": [
       "<pre style=\"white-space:pre;overflow-x:auto;line-height:normal;font-family:Menlo,'DejaVu Sans Mono',consolas,'Courier New',monospace\">│    <span style=\"color: #7f7f7f; text-decoration-color: #7f7f7f\">│</span>  Provide an answer to the question                                 <span style=\"color: #7f7f7f; text-decoration-color: #7f7f7f\">│</span>\n",
       "</pre>\n"
      ],
      "text/plain": [
       "│    \u001b[2m│\u001b[0m  Provide an answer to the question                                 \u001b[2m│\u001b[0m\n"
      ]
     },
     "metadata": {},
     "output_type": "display_data"
    },
    {
     "data": {
      "text/html": [
       "<pre style=\"white-space:pre;overflow-x:auto;line-height:normal;font-family:Menlo,'DejaVu Sans Mono',consolas,'Courier New',monospace\">│    <span style=\"color: #7f7f7f; text-decoration-color: #7f7f7f\">│</span>                                                                    <span style=\"color: #7f7f7f; text-decoration-color: #7f7f7f\">│</span>\n",
       "</pre>\n"
      ],
      "text/plain": [
       "│    \u001b[2m│\u001b[0m                                                                    \u001b[2m│\u001b[0m\n"
      ]
     },
     "metadata": {},
     "output_type": "display_data"
    },
    {
     "data": {
      "text/html": [
       "<pre style=\"white-space:pre;overflow-x:auto;line-height:normal;font-family:Menlo,'DejaVu Sans Mono',consolas,'Courier New',monospace\">│    <span style=\"color: #7f7f7f; text-decoration-color: #7f7f7f\">│</span>  ### Few-Shot Examples                                             <span style=\"color: #7f7f7f; text-decoration-color: #7f7f7f\">│</span>\n",
       "</pre>\n"
      ],
      "text/plain": [
       "│    \u001b[2m│\u001b[0m  ### Few-Shot Examples                                             \u001b[2m│\u001b[0m\n"
      ]
     },
     "metadata": {},
     "output_type": "display_data"
    },
    {
     "data": {
      "text/html": [
       "<pre style=\"white-space:pre;overflow-x:auto;line-height:normal;font-family:Menlo,'DejaVu Sans Mono',consolas,'Courier New',monospace\">│    <span style=\"color: #7f7f7f; text-decoration-color: #7f7f7f\">│</span>  Question: Which career do Jaoru Kuroki and Ilona Staller share?   <span style=\"color: #7f7f7f; text-decoration-color: #7f7f7f\">│</span>\n",
       "</pre>\n"
      ],
      "text/plain": [
       "│    \u001b[2m│\u001b[0m  Question: Which career do Jaoru Kuroki and Ilona Staller share?   \u001b[2m│\u001b[0m\n"
      ]
     },
     "metadata": {},
     "output_type": "display_data"
    },
    {
     "data": {
      "text/html": [
       "<pre style=\"white-space:pre;overflow-x:auto;line-height:normal;font-family:Menlo,'DejaVu Sans Mono',consolas,'Courier New',monospace\">│    <span style=\"color: #7f7f7f; text-decoration-color: #7f7f7f\">│</span>  Answer: adult video (AV) performer                                <span style=\"color: #7f7f7f; text-decoration-color: #7f7f7f\">│</span>\n",
       "</pre>\n"
      ],
      "text/plain": [
       "│    \u001b[2m│\u001b[0m  Answer: adult video (AV) performer                                \u001b[2m│\u001b[0m\n"
      ]
     },
     "metadata": {},
     "output_type": "display_data"
    },
    {
     "data": {
      "text/html": [
       "<pre style=\"white-space:pre;overflow-x:auto;line-height:normal;font-family:Menlo,'DejaVu Sans Mono',consolas,'Courier New',monospace\">│    <span style=\"color: #7f7f7f; text-decoration-color: #7f7f7f\">│</span>                                                                    <span style=\"color: #7f7f7f; text-decoration-color: #7f7f7f\">│</span>\n",
       "</pre>\n"
      ],
      "text/plain": [
       "│    \u001b[2m│\u001b[0m                                                                    \u001b[2m│\u001b[0m\n"
      ]
     },
     "metadata": {},
     "output_type": "display_data"
    },
    {
     "data": {
      "text/html": [
       "<pre style=\"white-space:pre;overflow-x:auto;line-height:normal;font-family:Menlo,'DejaVu Sans Mono',consolas,'Courier New',monospace\">│    <span style=\"color: #7f7f7f; text-decoration-color: #7f7f7f\">│</span>  Question: Ramfis Trujillo was a close friend of the racecar       <span style=\"color: #7f7f7f; text-decoration-color: #7f7f7f\">│</span>\n",
       "</pre>\n"
      ],
      "text/plain": [
       "│    \u001b[2m│\u001b[0m  Question: Ramfis Trujillo was a close friend of the racecar       \u001b[2m│\u001b[0m\n"
      ]
     },
     "metadata": {},
     "output_type": "display_data"
    },
    {
     "data": {
      "text/html": [
       "<pre style=\"white-space:pre;overflow-x:auto;line-height:normal;font-family:Menlo,'DejaVu Sans Mono',consolas,'Courier New',monospace\">│    <span style=\"color: #7f7f7f; text-decoration-color: #7f7f7f\">│</span>  driver and diplomat of what nationality?                          <span style=\"color: #7f7f7f; text-decoration-color: #7f7f7f\">│</span>\n",
       "</pre>\n"
      ],
      "text/plain": [
       "│    \u001b[2m│\u001b[0m  driver and diplomat of what nationality?                          \u001b[2m│\u001b[0m\n"
      ]
     },
     "metadata": {},
     "output_type": "display_data"
    },
    {
     "data": {
      "text/html": [
       "<pre style=\"white-space:pre;overflow-x:auto;line-height:normal;font-family:Menlo,'DejaVu Sans Mono',consolas,'Courier New',monospace\">│    <span style=\"color: #7f7f7f; text-decoration-color: #7f7f7f\">│</span>  Answer: Dominican                                                 <span style=\"color: #7f7f7f; text-decoration-color: #7f7f7f\">│</span>\n",
       "</pre>\n"
      ],
      "text/plain": [
       "│    \u001b[2m│\u001b[0m  Answer: Dominican                                                 \u001b[2m│\u001b[0m\n"
      ]
     },
     "metadata": {},
     "output_type": "display_data"
    },
    {
     "data": {
      "text/html": [
       "<pre style=\"white-space:pre;overflow-x:auto;line-height:normal;font-family:Menlo,'DejaVu Sans Mono',consolas,'Courier New',monospace\">│    <span style=\"color: #7f7f7f; text-decoration-color: #7f7f7f\">│</span>                                                                    <span style=\"color: #7f7f7f; text-decoration-color: #7f7f7f\">│</span>\n",
       "</pre>\n"
      ],
      "text/plain": [
       "│    \u001b[2m│\u001b[0m                                                                    \u001b[2m│\u001b[0m\n"
      ]
     },
     "metadata": {},
     "output_type": "display_data"
    },
    {
     "data": {
      "text/html": [
       "<pre style=\"white-space:pre;overflow-x:auto;line-height:normal;font-family:Menlo,'DejaVu Sans Mono',consolas,'Courier New',monospace\">│    <span style=\"color: #7f7f7f; text-decoration-color: #7f7f7f\">╰────────────────────────────────────────────────────────────────────╯</span>\n",
       "</pre>\n"
      ],
      "text/plain": [
       "│    \u001b[2m╰────────────────────────────────────────────────────────────────────╯\u001b[0m\n"
      ]
     },
     "metadata": {},
     "output_type": "display_data"
    },
    {
     "data": {
      "text/html": [
       "<pre style=\"white-space:pre;overflow-x:auto;line-height:normal;font-family:Menlo,'DejaVu Sans Mono',consolas,'Courier New',monospace\"></pre>\n"
      ],
      "text/plain": []
     },
     "metadata": {},
     "output_type": "display_data"
    },
    {
     "data": {
      "text/html": [
       "<pre style=\"white-space:pre;overflow-x:auto;line-height:normal;font-family:Menlo,'DejaVu Sans Mono',consolas,'Courier New',monospace\">│    <span style=\"color: #7f7f7f; text-decoration-color: #7f7f7f\">╭─ user ─────────────────────────────────────────────────────────────╮</span>\n",
       "</pre>\n"
      ],
      "text/plain": [
       "│    \u001b[2m╭─\u001b[0m\u001b[2m user \u001b[0m\u001b[2m────────────────────────────────────────────────────────────\u001b[0m\u001b[2m─╮\u001b[0m\n"
      ]
     },
     "metadata": {},
     "output_type": "display_data"
    },
    {
     "data": {
      "text/html": [
       "<pre style=\"white-space:pre;overflow-x:auto;line-height:normal;font-family:Menlo,'DejaVu Sans Mono',consolas,'Courier New',monospace\">│    <span style=\"color: #7f7f7f; text-decoration-color: #7f7f7f\">│</span>                                                                    <span style=\"color: #7f7f7f; text-decoration-color: #7f7f7f\">│</span>\n",
       "</pre>\n"
      ],
      "text/plain": [
       "│    \u001b[2m│\u001b[0m                                                                    \u001b[2m│\u001b[0m\n"
      ]
     },
     "metadata": {},
     "output_type": "display_data"
    },
    {
     "data": {
      "text/html": [
       "<pre style=\"white-space:pre;overflow-x:auto;line-height:normal;font-family:Menlo,'DejaVu Sans Mono',consolas,'Courier New',monospace\">│    <span style=\"color: #7f7f7f; text-decoration-color: #7f7f7f\">│</span>  {question}                                                        <span style=\"color: #7f7f7f; text-decoration-color: #7f7f7f\">│</span>\n",
       "</pre>\n"
      ],
      "text/plain": [
       "│    \u001b[2m│\u001b[0m  {question}                                                        \u001b[2m│\u001b[0m\n"
      ]
     },
     "metadata": {},
     "output_type": "display_data"
    },
    {
     "data": {
      "text/html": [
       "<pre style=\"white-space:pre;overflow-x:auto;line-height:normal;font-family:Menlo,'DejaVu Sans Mono',consolas,'Courier New',monospace\">│    <span style=\"color: #7f7f7f; text-decoration-color: #7f7f7f\">│</span>                                                                    <span style=\"color: #7f7f7f; text-decoration-color: #7f7f7f\">│</span>\n",
       "</pre>\n"
      ],
      "text/plain": [
       "│    \u001b[2m│\u001b[0m                                                                    \u001b[2m│\u001b[0m\n"
      ]
     },
     "metadata": {},
     "output_type": "display_data"
    },
    {
     "data": {
      "text/html": [
       "<pre style=\"white-space:pre;overflow-x:auto;line-height:normal;font-family:Menlo,'DejaVu Sans Mono',consolas,'Courier New',monospace\">│    <span style=\"color: #7f7f7f; text-decoration-color: #7f7f7f\">╰────────────────────────────────────────────────────────────────────╯</span>\n",
       "</pre>\n"
      ],
      "text/plain": [
       "│    \u001b[2m╰────────────────────────────────────────────────────────────────────╯\u001b[0m\n"
      ]
     },
     "metadata": {},
     "output_type": "display_data"
    },
    {
     "data": {
      "text/html": [
       "<pre style=\"white-space:pre;overflow-x:auto;line-height:normal;font-family:Menlo,'DejaVu Sans Mono',consolas,'Courier New',monospace\">│\n",
       "</pre>\n"
      ],
      "text/plain": [
       "│\n"
      ]
     },
     "metadata": {},
     "output_type": "display_data"
    },
    {
     "data": {
      "text/html": [
       "<pre style=\"white-space:pre;overflow-x:auto;line-height:normal;font-family:Menlo,'DejaVu Sans Mono',consolas,'Courier New',monospace\"><span style=\"color: #008000; text-decoration-color: #008000\">│    Trial 2 - score was: 0.2737 (106.31%).</span>\n",
       "<span style=\"color: #008000; text-decoration-color: #008000\">│</span>\n",
       "</pre>\n"
      ],
      "text/plain": [
       "\u001b[32m│    Trial 2 - score was: 0.2737 (106.31%).\u001b[0m\n",
       "\u001b[32m│\u001b[0m\n"
      ]
     },
     "metadata": {},
     "output_type": "display_data"
    },
    {
     "data": {
      "text/html": [
       "<pre style=\"white-space:pre;overflow-x:auto;line-height:normal;font-family:Menlo,'DejaVu Sans Mono',consolas,'Courier New',monospace\">│ - Starting optimization round 3 of 3\n",
       "</pre>\n"
      ],
      "text/plain": [
       "│ - Starting optimization round 3 of 3\n"
      ]
     },
     "metadata": {},
     "output_type": "display_data"
    },
    {
     "data": {
      "text/html": [
       "<pre style=\"white-space:pre;overflow-x:auto;line-height:normal;font-family:Menlo,'DejaVu Sans Mono',consolas,'Courier New',monospace\">│\n",
       "</pre>\n"
      ],
      "text/plain": [
       "│\n"
      ]
     },
     "metadata": {},
     "output_type": "display_data"
    },
    {
     "data": {
      "text/html": [
       "<pre style=\"white-space:pre;overflow-x:auto;line-height:normal;font-family:Menlo,'DejaVu Sans Mono',consolas,'Courier New',monospace\"></pre>\n"
      ],
      "text/plain": []
     },
     "metadata": {},
     "output_type": "display_data"
    },
    {
     "data": {
      "text/html": [
       "<pre style=\"white-space:pre;overflow-x:auto;line-height:normal;font-family:Menlo,'DejaVu Sans Mono',consolas,'Courier New',monospace\">│    <span style=\"color: #7f7f7f; text-decoration-color: #7f7f7f\">╭─ system ───────────────────────────────────────────────────────────╮</span>\n",
       "</pre>\n"
      ],
      "text/plain": [
       "│    \u001b[2m╭─\u001b[0m\u001b[2m system \u001b[0m\u001b[2m──────────────────────────────────────────────────────────\u001b[0m\u001b[2m─╮\u001b[0m\n"
      ]
     },
     "metadata": {},
     "output_type": "display_data"
    },
    {
     "data": {
      "text/html": [
       "<pre style=\"white-space:pre;overflow-x:auto;line-height:normal;font-family:Menlo,'DejaVu Sans Mono',consolas,'Courier New',monospace\">│    <span style=\"color: #7f7f7f; text-decoration-color: #7f7f7f\">│</span>                                                                    <span style=\"color: #7f7f7f; text-decoration-color: #7f7f7f\">│</span>\n",
       "</pre>\n"
      ],
      "text/plain": [
       "│    \u001b[2m│\u001b[0m                                                                    \u001b[2m│\u001b[0m\n"
      ]
     },
     "metadata": {},
     "output_type": "display_data"
    },
    {
     "data": {
      "text/html": [
       "<pre style=\"white-space:pre;overflow-x:auto;line-height:normal;font-family:Menlo,'DejaVu Sans Mono',consolas,'Courier New',monospace\">│    <span style=\"color: #7f7f7f; text-decoration-color: #7f7f7f\">│</span>  Provide an answer to the question                                 <span style=\"color: #7f7f7f; text-decoration-color: #7f7f7f\">│</span>\n",
       "</pre>\n"
      ],
      "text/plain": [
       "│    \u001b[2m│\u001b[0m  Provide an answer to the question                                 \u001b[2m│\u001b[0m\n"
      ]
     },
     "metadata": {},
     "output_type": "display_data"
    },
    {
     "data": {
      "text/html": [
       "<pre style=\"white-space:pre;overflow-x:auto;line-height:normal;font-family:Menlo,'DejaVu Sans Mono',consolas,'Courier New',monospace\">│    <span style=\"color: #7f7f7f; text-decoration-color: #7f7f7f\">│</span>                                                                    <span style=\"color: #7f7f7f; text-decoration-color: #7f7f7f\">│</span>\n",
       "</pre>\n"
      ],
      "text/plain": [
       "│    \u001b[2m│\u001b[0m                                                                    \u001b[2m│\u001b[0m\n"
      ]
     },
     "metadata": {},
     "output_type": "display_data"
    },
    {
     "data": {
      "text/html": [
       "<pre style=\"white-space:pre;overflow-x:auto;line-height:normal;font-family:Menlo,'DejaVu Sans Mono',consolas,'Courier New',monospace\">│    <span style=\"color: #7f7f7f; text-decoration-color: #7f7f7f\">│</span>  ### Few-Shot Examples                                             <span style=\"color: #7f7f7f; text-decoration-color: #7f7f7f\">│</span>\n",
       "</pre>\n"
      ],
      "text/plain": [
       "│    \u001b[2m│\u001b[0m  ### Few-Shot Examples                                             \u001b[2m│\u001b[0m\n"
      ]
     },
     "metadata": {},
     "output_type": "display_data"
    },
    {
     "data": {
      "text/html": [
       "<pre style=\"white-space:pre;overflow-x:auto;line-height:normal;font-family:Menlo,'DejaVu Sans Mono',consolas,'Courier New',monospace\">│    <span style=\"color: #7f7f7f; text-decoration-color: #7f7f7f\">│</span>  Question: The Police Integrity Commission is responsible for the  <span style=\"color: #7f7f7f; text-decoration-color: #7f7f7f\">│</span>\n",
       "</pre>\n"
      ],
      "text/plain": [
       "│    \u001b[2m│\u001b[0m  Question: The Police Integrity Commission is responsible for the  \u001b[2m│\u001b[0m\n"
      ]
     },
     "metadata": {},
     "output_type": "display_data"
    },
    {
     "data": {
      "text/html": [
       "<pre style=\"white-space:pre;overflow-x:auto;line-height:normal;font-family:Menlo,'DejaVu Sans Mono',consolas,'Courier New',monospace\">│    <span style=\"color: #7f7f7f; text-decoration-color: #7f7f7f\">│</span>  prevention, detection, and investigation of alleged serious       <span style=\"color: #7f7f7f; text-decoration-color: #7f7f7f\">│</span>\n",
       "</pre>\n"
      ],
      "text/plain": [
       "│    \u001b[2m│\u001b[0m  prevention, detection, and investigation of alleged serious       \u001b[2m│\u001b[0m\n"
      ]
     },
     "metadata": {},
     "output_type": "display_data"
    },
    {
     "data": {
      "text/html": [
       "<pre style=\"white-space:pre;overflow-x:auto;line-height:normal;font-family:Menlo,'DejaVu Sans Mono',consolas,'Courier New',monospace\">│    <span style=\"color: #7f7f7f; text-decoration-color: #7f7f7f\">│</span>  misconduct in what primary law enforcement agency of the state    <span style=\"color: #7f7f7f; text-decoration-color: #7f7f7f\">│</span>\n",
       "</pre>\n"
      ],
      "text/plain": [
       "│    \u001b[2m│\u001b[0m  misconduct in what primary law enforcement agency of the state    \u001b[2m│\u001b[0m\n"
      ]
     },
     "metadata": {},
     "output_type": "display_data"
    },
    {
     "data": {
      "text/html": [
       "<pre style=\"white-space:pre;overflow-x:auto;line-height:normal;font-family:Menlo,'DejaVu Sans Mono',consolas,'Courier New',monospace\">│    <span style=\"color: #7f7f7f; text-decoration-color: #7f7f7f\">│</span>  of New South Wales, Australia that is  Divided into seventy six   <span style=\"color: #7f7f7f; text-decoration-color: #7f7f7f\">│</span>\n",
       "</pre>\n"
      ],
      "text/plain": [
       "│    \u001b[2m│\u001b[0m  of New South Wales, Australia that is  Divided into seventy six   \u001b[2m│\u001b[0m\n"
      ]
     },
     "metadata": {},
     "output_type": "display_data"
    },
    {
     "data": {
      "text/html": [
       "<pre style=\"white-space:pre;overflow-x:auto;line-height:normal;font-family:Menlo,'DejaVu Sans Mono',consolas,'Courier New',monospace\">│    <span style=\"color: #7f7f7f; text-decoration-color: #7f7f7f\">│</span>  local area command                                                <span style=\"color: #7f7f7f; text-decoration-color: #7f7f7f\">│</span>\n",
       "</pre>\n"
      ],
      "text/plain": [
       "│    \u001b[2m│\u001b[0m  local area command                                                \u001b[2m│\u001b[0m\n"
      ]
     },
     "metadata": {},
     "output_type": "display_data"
    },
    {
     "data": {
      "text/html": [
       "<pre style=\"white-space:pre;overflow-x:auto;line-height:normal;font-family:Menlo,'DejaVu Sans Mono',consolas,'Courier New',monospace\">│    <span style=\"color: #7f7f7f; text-decoration-color: #7f7f7f\">│</span>  Answer: New South Wales Police Force                              <span style=\"color: #7f7f7f; text-decoration-color: #7f7f7f\">│</span>\n",
       "</pre>\n"
      ],
      "text/plain": [
       "│    \u001b[2m│\u001b[0m  Answer: New South Wales Police Force                              \u001b[2m│\u001b[0m\n"
      ]
     },
     "metadata": {},
     "output_type": "display_data"
    },
    {
     "data": {
      "text/html": [
       "<pre style=\"white-space:pre;overflow-x:auto;line-height:normal;font-family:Menlo,'DejaVu Sans Mono',consolas,'Courier New',monospace\">│    <span style=\"color: #7f7f7f; text-decoration-color: #7f7f7f\">│</span>                                                                    <span style=\"color: #7f7f7f; text-decoration-color: #7f7f7f\">│</span>\n",
       "</pre>\n"
      ],
      "text/plain": [
       "│    \u001b[2m│\u001b[0m                                                                    \u001b[2m│\u001b[0m\n"
      ]
     },
     "metadata": {},
     "output_type": "display_data"
    },
    {
     "data": {
      "text/html": [
       "<pre style=\"white-space:pre;overflow-x:auto;line-height:normal;font-family:Menlo,'DejaVu Sans Mono',consolas,'Courier New',monospace\">│    <span style=\"color: #7f7f7f; text-decoration-color: #7f7f7f\">│</span>  Question: What American singer born 1951 does Jim Rooney  have    <span style=\"color: #7f7f7f; text-decoration-color: #7f7f7f\">│</span>\n",
       "</pre>\n"
      ],
      "text/plain": [
       "│    \u001b[2m│\u001b[0m  Question: What American singer born 1951 does Jim Rooney  have    \u001b[2m│\u001b[0m\n"
      ]
     },
     "metadata": {},
     "output_type": "display_data"
    },
    {
     "data": {
      "text/html": [
       "<pre style=\"white-space:pre;overflow-x:auto;line-height:normal;font-family:Menlo,'DejaVu Sans Mono',consolas,'Courier New',monospace\">│    <span style=\"color: #7f7f7f; text-decoration-color: #7f7f7f\">│</span>  credits for?                                                      <span style=\"color: #7f7f7f; text-decoration-color: #7f7f7f\">│</span>\n",
       "</pre>\n"
      ],
      "text/plain": [
       "│    \u001b[2m│\u001b[0m  credits for?                                                      \u001b[2m│\u001b[0m\n"
      ]
     },
     "metadata": {},
     "output_type": "display_data"
    },
    {
     "data": {
      "text/html": [
       "<pre style=\"white-space:pre;overflow-x:auto;line-height:normal;font-family:Menlo,'DejaVu Sans Mono',consolas,'Courier New',monospace\">│    <span style=\"color: #7f7f7f; text-decoration-color: #7f7f7f\">│</span>  Answer: Iris Luella DeMent                                        <span style=\"color: #7f7f7f; text-decoration-color: #7f7f7f\">│</span>\n",
       "</pre>\n"
      ],
      "text/plain": [
       "│    \u001b[2m│\u001b[0m  Answer: Iris Luella DeMent                                        \u001b[2m│\u001b[0m\n"
      ]
     },
     "metadata": {},
     "output_type": "display_data"
    },
    {
     "data": {
      "text/html": [
       "<pre style=\"white-space:pre;overflow-x:auto;line-height:normal;font-family:Menlo,'DejaVu Sans Mono',consolas,'Courier New',monospace\">│    <span style=\"color: #7f7f7f; text-decoration-color: #7f7f7f\">│</span>                                                                    <span style=\"color: #7f7f7f; text-decoration-color: #7f7f7f\">│</span>\n",
       "</pre>\n"
      ],
      "text/plain": [
       "│    \u001b[2m│\u001b[0m                                                                    \u001b[2m│\u001b[0m\n"
      ]
     },
     "metadata": {},
     "output_type": "display_data"
    },
    {
     "data": {
      "text/html": [
       "<pre style=\"white-space:pre;overflow-x:auto;line-height:normal;font-family:Menlo,'DejaVu Sans Mono',consolas,'Courier New',monospace\">│    <span style=\"color: #7f7f7f; text-decoration-color: #7f7f7f\">│</span>  Question: What film was William Fichtner in that also had Heath   <span style=\"color: #7f7f7f; text-decoration-color: #7f7f7f\">│</span>\n",
       "</pre>\n"
      ],
      "text/plain": [
       "│    \u001b[2m│\u001b[0m  Question: What film was William Fichtner in that also had Heath   \u001b[2m│\u001b[0m\n"
      ]
     },
     "metadata": {},
     "output_type": "display_data"
    },
    {
     "data": {
      "text/html": [
       "<pre style=\"white-space:pre;overflow-x:auto;line-height:normal;font-family:Menlo,'DejaVu Sans Mono',consolas,'Courier New',monospace\">│    <span style=\"color: #7f7f7f; text-decoration-color: #7f7f7f\">│</span>  Ledger in it?                                                     <span style=\"color: #7f7f7f; text-decoration-color: #7f7f7f\">│</span>\n",
       "</pre>\n"
      ],
      "text/plain": [
       "│    \u001b[2m│\u001b[0m  Ledger in it?                                                     \u001b[2m│\u001b[0m\n"
      ]
     },
     "metadata": {},
     "output_type": "display_data"
    },
    {
     "data": {
      "text/html": [
       "<pre style=\"white-space:pre;overflow-x:auto;line-height:normal;font-family:Menlo,'DejaVu Sans Mono',consolas,'Courier New',monospace\">│    <span style=\"color: #7f7f7f; text-decoration-color: #7f7f7f\">│</span>  Answer: The Dark Knight                                           <span style=\"color: #7f7f7f; text-decoration-color: #7f7f7f\">│</span>\n",
       "</pre>\n"
      ],
      "text/plain": [
       "│    \u001b[2m│\u001b[0m  Answer: The Dark Knight                                           \u001b[2m│\u001b[0m\n"
      ]
     },
     "metadata": {},
     "output_type": "display_data"
    },
    {
     "data": {
      "text/html": [
       "<pre style=\"white-space:pre;overflow-x:auto;line-height:normal;font-family:Menlo,'DejaVu Sans Mono',consolas,'Courier New',monospace\">│    <span style=\"color: #7f7f7f; text-decoration-color: #7f7f7f\">│</span>                                                                    <span style=\"color: #7f7f7f; text-decoration-color: #7f7f7f\">│</span>\n",
       "</pre>\n"
      ],
      "text/plain": [
       "│    \u001b[2m│\u001b[0m                                                                    \u001b[2m│\u001b[0m\n"
      ]
     },
     "metadata": {},
     "output_type": "display_data"
    },
    {
     "data": {
      "text/html": [
       "<pre style=\"white-space:pre;overflow-x:auto;line-height:normal;font-family:Menlo,'DejaVu Sans Mono',consolas,'Courier New',monospace\">│    <span style=\"color: #7f7f7f; text-decoration-color: #7f7f7f\">│</span>  Question: How many residents were in the resort town in which     <span style=\"color: #7f7f7f; text-decoration-color: #7f7f7f\">│</span>\n",
       "</pre>\n"
      ],
      "text/plain": [
       "│    \u001b[2m│\u001b[0m  Question: How many residents were in the resort town in which     \u001b[2m│\u001b[0m\n"
      ]
     },
     "metadata": {},
     "output_type": "display_data"
    },
    {
     "data": {
      "text/html": [
       "<pre style=\"white-space:pre;overflow-x:auto;line-height:normal;font-family:Menlo,'DejaVu Sans Mono',consolas,'Courier New',monospace\">│    <span style=\"color: #7f7f7f; text-decoration-color: #7f7f7f\">│</span>  Nida Lighthouse was located?                                      <span style=\"color: #7f7f7f; text-decoration-color: #7f7f7f\">│</span>\n",
       "</pre>\n"
      ],
      "text/plain": [
       "│    \u001b[2m│\u001b[0m  Nida Lighthouse was located?                                      \u001b[2m│\u001b[0m\n"
      ]
     },
     "metadata": {},
     "output_type": "display_data"
    },
    {
     "data": {
      "text/html": [
       "<pre style=\"white-space:pre;overflow-x:auto;line-height:normal;font-family:Menlo,'DejaVu Sans Mono',consolas,'Courier New',monospace\">│    <span style=\"color: #7f7f7f; text-decoration-color: #7f7f7f\">│</span>  Answer: 1,650 residents                                           <span style=\"color: #7f7f7f; text-decoration-color: #7f7f7f\">│</span>\n",
       "</pre>\n"
      ],
      "text/plain": [
       "│    \u001b[2m│\u001b[0m  Answer: 1,650 residents                                           \u001b[2m│\u001b[0m\n"
      ]
     },
     "metadata": {},
     "output_type": "display_data"
    },
    {
     "data": {
      "text/html": [
       "<pre style=\"white-space:pre;overflow-x:auto;line-height:normal;font-family:Menlo,'DejaVu Sans Mono',consolas,'Courier New',monospace\">│    <span style=\"color: #7f7f7f; text-decoration-color: #7f7f7f\">│</span>                                                                    <span style=\"color: #7f7f7f; text-decoration-color: #7f7f7f\">│</span>\n",
       "</pre>\n"
      ],
      "text/plain": [
       "│    \u001b[2m│\u001b[0m                                                                    \u001b[2m│\u001b[0m\n"
      ]
     },
     "metadata": {},
     "output_type": "display_data"
    },
    {
     "data": {
      "text/html": [
       "<pre style=\"white-space:pre;overflow-x:auto;line-height:normal;font-family:Menlo,'DejaVu Sans Mono',consolas,'Courier New',monospace\">│    <span style=\"color: #7f7f7f; text-decoration-color: #7f7f7f\">╰────────────────────────────────────────────────────────────────────╯</span>\n",
       "</pre>\n"
      ],
      "text/plain": [
       "│    \u001b[2m╰────────────────────────────────────────────────────────────────────╯\u001b[0m\n"
      ]
     },
     "metadata": {},
     "output_type": "display_data"
    },
    {
     "data": {
      "text/html": [
       "<pre style=\"white-space:pre;overflow-x:auto;line-height:normal;font-family:Menlo,'DejaVu Sans Mono',consolas,'Courier New',monospace\"></pre>\n"
      ],
      "text/plain": []
     },
     "metadata": {},
     "output_type": "display_data"
    },
    {
     "data": {
      "text/html": [
       "<pre style=\"white-space:pre;overflow-x:auto;line-height:normal;font-family:Menlo,'DejaVu Sans Mono',consolas,'Courier New',monospace\">│    <span style=\"color: #7f7f7f; text-decoration-color: #7f7f7f\">╭─ user ─────────────────────────────────────────────────────────────╮</span>\n",
       "</pre>\n"
      ],
      "text/plain": [
       "│    \u001b[2m╭─\u001b[0m\u001b[2m user \u001b[0m\u001b[2m────────────────────────────────────────────────────────────\u001b[0m\u001b[2m─╮\u001b[0m\n"
      ]
     },
     "metadata": {},
     "output_type": "display_data"
    },
    {
     "data": {
      "text/html": [
       "<pre style=\"white-space:pre;overflow-x:auto;line-height:normal;font-family:Menlo,'DejaVu Sans Mono',consolas,'Courier New',monospace\">│    <span style=\"color: #7f7f7f; text-decoration-color: #7f7f7f\">│</span>                                                                    <span style=\"color: #7f7f7f; text-decoration-color: #7f7f7f\">│</span>\n",
       "</pre>\n"
      ],
      "text/plain": [
       "│    \u001b[2m│\u001b[0m                                                                    \u001b[2m│\u001b[0m\n"
      ]
     },
     "metadata": {},
     "output_type": "display_data"
    },
    {
     "data": {
      "text/html": [
       "<pre style=\"white-space:pre;overflow-x:auto;line-height:normal;font-family:Menlo,'DejaVu Sans Mono',consolas,'Courier New',monospace\">│    <span style=\"color: #7f7f7f; text-decoration-color: #7f7f7f\">│</span>  {question}                                                        <span style=\"color: #7f7f7f; text-decoration-color: #7f7f7f\">│</span>\n",
       "</pre>\n"
      ],
      "text/plain": [
       "│    \u001b[2m│\u001b[0m  {question}                                                        \u001b[2m│\u001b[0m\n"
      ]
     },
     "metadata": {},
     "output_type": "display_data"
    },
    {
     "data": {
      "text/html": [
       "<pre style=\"white-space:pre;overflow-x:auto;line-height:normal;font-family:Menlo,'DejaVu Sans Mono',consolas,'Courier New',monospace\">│    <span style=\"color: #7f7f7f; text-decoration-color: #7f7f7f\">│</span>                                                                    <span style=\"color: #7f7f7f; text-decoration-color: #7f7f7f\">│</span>\n",
       "</pre>\n"
      ],
      "text/plain": [
       "│    \u001b[2m│\u001b[0m                                                                    \u001b[2m│\u001b[0m\n"
      ]
     },
     "metadata": {},
     "output_type": "display_data"
    },
    {
     "data": {
      "text/html": [
       "<pre style=\"white-space:pre;overflow-x:auto;line-height:normal;font-family:Menlo,'DejaVu Sans Mono',consolas,'Courier New',monospace\">│    <span style=\"color: #7f7f7f; text-decoration-color: #7f7f7f\">╰────────────────────────────────────────────────────────────────────╯</span>\n",
       "</pre>\n"
      ],
      "text/plain": [
       "│    \u001b[2m╰────────────────────────────────────────────────────────────────────╯\u001b[0m\n"
      ]
     },
     "metadata": {},
     "output_type": "display_data"
    },
    {
     "data": {
      "text/html": [
       "<pre style=\"white-space:pre;overflow-x:auto;line-height:normal;font-family:Menlo,'DejaVu Sans Mono',consolas,'Courier New',monospace\">│\n",
       "</pre>\n"
      ],
      "text/plain": [
       "│\n"
      ]
     },
     "metadata": {},
     "output_type": "display_data"
    },
    {
     "data": {
      "text/html": [
       "<pre style=\"white-space:pre;overflow-x:auto;line-height:normal;font-family:Menlo,'DejaVu Sans Mono',consolas,'Courier New',monospace\"><span style=\"color: #008000; text-decoration-color: #008000\">│    Trial 3 - score was: 0.3346 (152.23%).</span>\n",
       "<span style=\"color: #008000; text-decoration-color: #008000\">│</span>\n",
       "</pre>\n"
      ],
      "text/plain": [
       "\u001b[32m│    Trial 3 - score was: 0.3346 (152.23%).\u001b[0m\n",
       "\u001b[32m│\u001b[0m\n"
      ]
     },
     "metadata": {},
     "output_type": "display_data"
    },
    {
     "data": {
      "text/html": [
       "<pre style=\"white-space:pre;overflow-x:auto;line-height:normal;font-family:Menlo,'DejaVu Sans Mono',consolas,'Courier New',monospace\">\n",
       "&gt; Optimization complete\n",
       "\n",
       "</pre>\n"
      ],
      "text/plain": [
       "\n",
       "> Optimization complete\n",
       "\n"
      ]
     },
     "metadata": {},
     "output_type": "display_data"
    },
    {
     "data": {
      "text/html": [
       "<pre style=\"white-space:pre;overflow-x:auto;line-height:normal;font-family:Menlo,'DejaVu Sans Mono',consolas,'Courier New',monospace\"><span style=\"color: #008000; text-decoration-color: #008000\">╭─ Optimization results ─────────────────────────────────────────────╮</span>\n",
       "<span style=\"color: #008000; text-decoration-color: #008000\">│</span>                                                                    <span style=\"color: #008000; text-decoration-color: #008000\">│</span>\n",
       "<span style=\"color: #008000; text-decoration-color: #008000\">│</span>  <span style=\"color: #008000; text-decoration-color: #008000; font-weight: bold\">Prompt was optimized and improved from 0.1326 to 0.3669 </span>          <span style=\"color: #008000; text-decoration-color: #008000\">│</span>\n",
       "<span style=\"color: #008000; text-decoration-color: #008000\">│</span>  <span style=\"color: #008000; text-decoration-color: #008000; font-weight: bold\">(176.57%)</span>                                                         <span style=\"color: #008000; text-decoration-color: #008000\">│</span>\n",
       "<span style=\"color: #008000; text-decoration-color: #008000\">│</span>                                                                    <span style=\"color: #008000; text-decoration-color: #008000\">│</span>\n",
       "<span style=\"color: #008000; text-decoration-color: #008000\">│</span>  Optimized prompt:                                                 <span style=\"color: #008000; text-decoration-color: #008000\">│</span>\n",
       "<span style=\"color: #008000; text-decoration-color: #008000\">│</span>  <span style=\"color: #7f7f7f; text-decoration-color: #7f7f7f\">╭─ system ─────────────────────────────────────────────────────╮</span>  <span style=\"color: #008000; text-decoration-color: #008000\">│</span>\n",
       "<span style=\"color: #008000; text-decoration-color: #008000\">│</span>  <span style=\"color: #7f7f7f; text-decoration-color: #7f7f7f\">│</span>                                                              <span style=\"color: #7f7f7f; text-decoration-color: #7f7f7f\">│</span>  <span style=\"color: #008000; text-decoration-color: #008000\">│</span>\n",
       "<span style=\"color: #008000; text-decoration-color: #008000\">│</span>  <span style=\"color: #7f7f7f; text-decoration-color: #7f7f7f\">│</span>  Provide an answer to the question                           <span style=\"color: #7f7f7f; text-decoration-color: #7f7f7f\">│</span>  <span style=\"color: #008000; text-decoration-color: #008000\">│</span>\n",
       "<span style=\"color: #008000; text-decoration-color: #008000\">│</span>  <span style=\"color: #7f7f7f; text-decoration-color: #7f7f7f\">│</span>                                                              <span style=\"color: #7f7f7f; text-decoration-color: #7f7f7f\">│</span>  <span style=\"color: #008000; text-decoration-color: #008000\">│</span>\n",
       "<span style=\"color: #008000; text-decoration-color: #008000\">│</span>  <span style=\"color: #7f7f7f; text-decoration-color: #7f7f7f\">│</span>  ### Few-Shot Examples                                       <span style=\"color: #7f7f7f; text-decoration-color: #7f7f7f\">│</span>  <span style=\"color: #008000; text-decoration-color: #008000\">│</span>\n",
       "<span style=\"color: #008000; text-decoration-color: #008000\">│</span>  <span style=\"color: #7f7f7f; text-decoration-color: #7f7f7f\">│</span>  Question: What novel did an author who was featured in the  <span style=\"color: #7f7f7f; text-decoration-color: #7f7f7f\">│</span>  <span style=\"color: #008000; text-decoration-color: #008000\">│</span>\n",
       "<span style=\"color: #008000; text-decoration-color: #008000\">│</span>  <span style=\"color: #7f7f7f; text-decoration-color: #7f7f7f\">│</span>  Voices of Ghana and later became a journalist write?        <span style=\"color: #7f7f7f; text-decoration-color: #7f7f7f\">│</span>  <span style=\"color: #008000; text-decoration-color: #008000\">│</span>\n",
       "<span style=\"color: #008000; text-decoration-color: #008000\">│</span>  <span style=\"color: #7f7f7f; text-decoration-color: #7f7f7f\">│</span>  Answer: The Gab Boys                                        <span style=\"color: #7f7f7f; text-decoration-color: #7f7f7f\">│</span>  <span style=\"color: #008000; text-decoration-color: #008000\">│</span>\n",
       "<span style=\"color: #008000; text-decoration-color: #008000\">│</span>  <span style=\"color: #7f7f7f; text-decoration-color: #7f7f7f\">│</span>                                                              <span style=\"color: #7f7f7f; text-decoration-color: #7f7f7f\">│</span>  <span style=\"color: #008000; text-decoration-color: #008000\">│</span>\n",
       "<span style=\"color: #008000; text-decoration-color: #008000\">│</span>  <span style=\"color: #7f7f7f; text-decoration-color: #7f7f7f\">│</span>  Question: What were the dates of the campaign that          <span style=\"color: #7f7f7f; text-decoration-color: #7f7f7f\">│</span>  <span style=\"color: #008000; text-decoration-color: #008000\">│</span>\n",
       "<span style=\"color: #008000; text-decoration-color: #008000\">│</span>  <span style=\"color: #7f7f7f; text-decoration-color: #7f7f7f\">│</span>  eventually led to the Treaty of Roskilde?                   <span style=\"color: #7f7f7f; text-decoration-color: #7f7f7f\">│</span>  <span style=\"color: #008000; text-decoration-color: #008000\">│</span>\n",
       "<span style=\"color: #008000; text-decoration-color: #008000\">│</span>  <span style=\"color: #7f7f7f; text-decoration-color: #7f7f7f\">│</span>  Answer: between 30 January and 8 February 1658              <span style=\"color: #7f7f7f; text-decoration-color: #7f7f7f\">│</span>  <span style=\"color: #008000; text-decoration-color: #008000\">│</span>\n",
       "<span style=\"color: #008000; text-decoration-color: #008000\">│</span>  <span style=\"color: #7f7f7f; text-decoration-color: #7f7f7f\">│</span>                                                              <span style=\"color: #7f7f7f; text-decoration-color: #7f7f7f\">│</span>  <span style=\"color: #008000; text-decoration-color: #008000\">│</span>\n",
       "<span style=\"color: #008000; text-decoration-color: #008000\">│</span>  <span style=\"color: #7f7f7f; text-decoration-color: #7f7f7f\">│</span>  Question: Are Wanding Town and Jiujiang, Guangdong both     <span style=\"color: #7f7f7f; text-decoration-color: #7f7f7f\">│</span>  <span style=\"color: #008000; text-decoration-color: #008000\">│</span>\n",
       "<span style=\"color: #008000; text-decoration-color: #008000\">│</span>  <span style=\"color: #7f7f7f; text-decoration-color: #7f7f7f\">│</span>  frontier towns?                                             <span style=\"color: #7f7f7f; text-decoration-color: #7f7f7f\">│</span>  <span style=\"color: #008000; text-decoration-color: #008000\">│</span>\n",
       "<span style=\"color: #008000; text-decoration-color: #008000\">│</span>  <span style=\"color: #7f7f7f; text-decoration-color: #7f7f7f\">│</span>  Answer: no                                                  <span style=\"color: #7f7f7f; text-decoration-color: #7f7f7f\">│</span>  <span style=\"color: #008000; text-decoration-color: #008000\">│</span>\n",
       "<span style=\"color: #008000; text-decoration-color: #008000\">│</span>  <span style=\"color: #7f7f7f; text-decoration-color: #7f7f7f\">│</span>                                                              <span style=\"color: #7f7f7f; text-decoration-color: #7f7f7f\">│</span>  <span style=\"color: #008000; text-decoration-color: #008000\">│</span>\n",
       "<span style=\"color: #008000; text-decoration-color: #008000\">│</span>  <span style=\"color: #7f7f7f; text-decoration-color: #7f7f7f\">│</span>  Question: The Knicks–Nuggets was the most penalized         <span style=\"color: #7f7f7f; text-decoration-color: #7f7f7f\">│</span>  <span style=\"color: #008000; text-decoration-color: #008000\">│</span>\n",
       "<span style=\"color: #008000; text-decoration-color: #008000\">│</span>  <span style=\"color: #7f7f7f; text-decoration-color: #7f7f7f\">│</span>  on-court fight in the NBA since an altercation that         <span style=\"color: #7f7f7f; text-decoration-color: #7f7f7f\">│</span>  <span style=\"color: #008000; text-decoration-color: #008000\">│</span>\n",
       "<span style=\"color: #008000; text-decoration-color: #008000\">│</span>  <span style=\"color: #7f7f7f; text-decoration-color: #7f7f7f\">│</span>  occured in what city?                                       <span style=\"color: #7f7f7f; text-decoration-color: #7f7f7f\">│</span>  <span style=\"color: #008000; text-decoration-color: #008000\">│</span>\n",
       "<span style=\"color: #008000; text-decoration-color: #008000\">│</span>  <span style=\"color: #7f7f7f; text-decoration-color: #7f7f7f\">│</span>  Answer: Auburn Hills                                        <span style=\"color: #7f7f7f; text-decoration-color: #7f7f7f\">│</span>  <span style=\"color: #008000; text-decoration-color: #008000\">│</span>\n",
       "<span style=\"color: #008000; text-decoration-color: #008000\">│</span>  <span style=\"color: #7f7f7f; text-decoration-color: #7f7f7f\">│</span>                                                              <span style=\"color: #7f7f7f; text-decoration-color: #7f7f7f\">│</span>  <span style=\"color: #008000; text-decoration-color: #008000\">│</span>\n",
       "<span style=\"color: #008000; text-decoration-color: #008000\">│</span>  <span style=\"color: #7f7f7f; text-decoration-color: #7f7f7f\">╰──────────────────────────────────────────────────────────────╯</span>  <span style=\"color: #008000; text-decoration-color: #008000\">│</span>\n",
       "<span style=\"color: #008000; text-decoration-color: #008000\">│</span>  <span style=\"color: #7f7f7f; text-decoration-color: #7f7f7f\">╭─ user ───────────────────────────────────────────────────────╮</span>  <span style=\"color: #008000; text-decoration-color: #008000\">│</span>\n",
       "<span style=\"color: #008000; text-decoration-color: #008000\">│</span>  <span style=\"color: #7f7f7f; text-decoration-color: #7f7f7f\">│</span>                                                              <span style=\"color: #7f7f7f; text-decoration-color: #7f7f7f\">│</span>  <span style=\"color: #008000; text-decoration-color: #008000\">│</span>\n",
       "<span style=\"color: #008000; text-decoration-color: #008000\">│</span>  <span style=\"color: #7f7f7f; text-decoration-color: #7f7f7f\">│</span>  {question}                                                  <span style=\"color: #7f7f7f; text-decoration-color: #7f7f7f\">│</span>  <span style=\"color: #008000; text-decoration-color: #008000\">│</span>\n",
       "<span style=\"color: #008000; text-decoration-color: #008000\">│</span>  <span style=\"color: #7f7f7f; text-decoration-color: #7f7f7f\">│</span>                                                              <span style=\"color: #7f7f7f; text-decoration-color: #7f7f7f\">│</span>  <span style=\"color: #008000; text-decoration-color: #008000\">│</span>\n",
       "<span style=\"color: #008000; text-decoration-color: #008000\">│</span>  <span style=\"color: #7f7f7f; text-decoration-color: #7f7f7f\">╰──────────────────────────────────────────────────────────────╯</span>  <span style=\"color: #008000; text-decoration-color: #008000\">│</span>\n",
       "<span style=\"color: #008000; text-decoration-color: #008000\">│</span>                                                                    <span style=\"color: #008000; text-decoration-color: #008000\">│</span>\n",
       "<span style=\"color: #008000; text-decoration-color: #008000\">╰────────────────────────────────────────────────────────────────────╯</span>\n",
       "</pre>\n"
      ],
      "text/plain": [
       "\u001b[32m╭─\u001b[0m\u001b[32m Optimization results \u001b[0m\u001b[32m────────────────────────────────────────────\u001b[0m\u001b[32m─╮\u001b[0m\n",
       "\u001b[32m│\u001b[0m                                                                    \u001b[32m│\u001b[0m\n",
       "\u001b[32m│\u001b[0m  \u001b[1;32mPrompt was optimized and improved from 0.1326 to 0.3669 \u001b[0m          \u001b[32m│\u001b[0m\n",
       "\u001b[32m│\u001b[0m  \u001b[1;32m(176.57%)\u001b[0m                                                         \u001b[32m│\u001b[0m\n",
       "\u001b[32m│\u001b[0m                                                                    \u001b[32m│\u001b[0m\n",
       "\u001b[32m│\u001b[0m  Optimized prompt:                                                 \u001b[32m│\u001b[0m\n",
       "\u001b[32m│\u001b[0m  \u001b[2m╭─\u001b[0m\u001b[2m system \u001b[0m\u001b[2m────────────────────────────────────────────────────\u001b[0m\u001b[2m─╮\u001b[0m  \u001b[32m│\u001b[0m\n",
       "\u001b[32m│\u001b[0m  \u001b[2m│\u001b[0m                                                              \u001b[2m│\u001b[0m  \u001b[32m│\u001b[0m\n",
       "\u001b[32m│\u001b[0m  \u001b[2m│\u001b[0m  Provide an answer to the question                           \u001b[2m│\u001b[0m  \u001b[32m│\u001b[0m\n",
       "\u001b[32m│\u001b[0m  \u001b[2m│\u001b[0m                                                              \u001b[2m│\u001b[0m  \u001b[32m│\u001b[0m\n",
       "\u001b[32m│\u001b[0m  \u001b[2m│\u001b[0m  ### Few-Shot Examples                                       \u001b[2m│\u001b[0m  \u001b[32m│\u001b[0m\n",
       "\u001b[32m│\u001b[0m  \u001b[2m│\u001b[0m  Question: What novel did an author who was featured in the  \u001b[2m│\u001b[0m  \u001b[32m│\u001b[0m\n",
       "\u001b[32m│\u001b[0m  \u001b[2m│\u001b[0m  Voices of Ghana and later became a journalist write?        \u001b[2m│\u001b[0m  \u001b[32m│\u001b[0m\n",
       "\u001b[32m│\u001b[0m  \u001b[2m│\u001b[0m  Answer: The Gab Boys                                        \u001b[2m│\u001b[0m  \u001b[32m│\u001b[0m\n",
       "\u001b[32m│\u001b[0m  \u001b[2m│\u001b[0m                                                              \u001b[2m│\u001b[0m  \u001b[32m│\u001b[0m\n",
       "\u001b[32m│\u001b[0m  \u001b[2m│\u001b[0m  Question: What were the dates of the campaign that          \u001b[2m│\u001b[0m  \u001b[32m│\u001b[0m\n",
       "\u001b[32m│\u001b[0m  \u001b[2m│\u001b[0m  eventually led to the Treaty of Roskilde?                   \u001b[2m│\u001b[0m  \u001b[32m│\u001b[0m\n",
       "\u001b[32m│\u001b[0m  \u001b[2m│\u001b[0m  Answer: between 30 January and 8 February 1658              \u001b[2m│\u001b[0m  \u001b[32m│\u001b[0m\n",
       "\u001b[32m│\u001b[0m  \u001b[2m│\u001b[0m                                                              \u001b[2m│\u001b[0m  \u001b[32m│\u001b[0m\n",
       "\u001b[32m│\u001b[0m  \u001b[2m│\u001b[0m  Question: Are Wanding Town and Jiujiang, Guangdong both     \u001b[2m│\u001b[0m  \u001b[32m│\u001b[0m\n",
       "\u001b[32m│\u001b[0m  \u001b[2m│\u001b[0m  frontier towns?                                             \u001b[2m│\u001b[0m  \u001b[32m│\u001b[0m\n",
       "\u001b[32m│\u001b[0m  \u001b[2m│\u001b[0m  Answer: no                                                  \u001b[2m│\u001b[0m  \u001b[32m│\u001b[0m\n",
       "\u001b[32m│\u001b[0m  \u001b[2m│\u001b[0m                                                              \u001b[2m│\u001b[0m  \u001b[32m│\u001b[0m\n",
       "\u001b[32m│\u001b[0m  \u001b[2m│\u001b[0m  Question: The Knicks–Nuggets was the most penalized         \u001b[2m│\u001b[0m  \u001b[32m│\u001b[0m\n",
       "\u001b[32m│\u001b[0m  \u001b[2m│\u001b[0m  on-court fight in the NBA since an altercation that         \u001b[2m│\u001b[0m  \u001b[32m│\u001b[0m\n",
       "\u001b[32m│\u001b[0m  \u001b[2m│\u001b[0m  occured in what city?                                       \u001b[2m│\u001b[0m  \u001b[32m│\u001b[0m\n",
       "\u001b[32m│\u001b[0m  \u001b[2m│\u001b[0m  Answer: Auburn Hills                                        \u001b[2m│\u001b[0m  \u001b[32m│\u001b[0m\n",
       "\u001b[32m│\u001b[0m  \u001b[2m│\u001b[0m                                                              \u001b[2m│\u001b[0m  \u001b[32m│\u001b[0m\n",
       "\u001b[32m│\u001b[0m  \u001b[2m╰──────────────────────────────────────────────────────────────╯\u001b[0m  \u001b[32m│\u001b[0m\n",
       "\u001b[32m│\u001b[0m  \u001b[2m╭─\u001b[0m\u001b[2m user \u001b[0m\u001b[2m──────────────────────────────────────────────────────\u001b[0m\u001b[2m─╮\u001b[0m  \u001b[32m│\u001b[0m\n",
       "\u001b[32m│\u001b[0m  \u001b[2m│\u001b[0m                                                              \u001b[2m│\u001b[0m  \u001b[32m│\u001b[0m\n",
       "\u001b[32m│\u001b[0m  \u001b[2m│\u001b[0m  {question}                                                  \u001b[2m│\u001b[0m  \u001b[32m│\u001b[0m\n",
       "\u001b[32m│\u001b[0m  \u001b[2m│\u001b[0m                                                              \u001b[2m│\u001b[0m  \u001b[32m│\u001b[0m\n",
       "\u001b[32m│\u001b[0m  \u001b[2m╰──────────────────────────────────────────────────────────────╯\u001b[0m  \u001b[32m│\u001b[0m\n",
       "\u001b[32m│\u001b[0m                                                                    \u001b[32m│\u001b[0m\n",
       "\u001b[32m╰────────────────────────────────────────────────────────────────────╯\u001b[0m\n"
      ]
     },
     "metadata": {},
     "output_type": "display_data"
    }
   ],
   "source": [
    "result = optimizer.optimize_prompt(\n",
    "    prompt=initial_prompt,\n",
    "    dataset=opik_dataset,\n",
    "    metric=levenshtein_ratio,\n",
    "    n_trials=3,\n",
    "    n_samples=50\n",
    ")"
   ]
  },
  {
   "cell_type": "code",
   "execution_count": 22,
   "metadata": {
    "id": "nJVmhi5Gcnkj"
   },
   "outputs": [
    {
     "data": {
      "text/html": [
       "<pre style=\"white-space:pre;overflow-x:auto;line-height:normal;font-family:Menlo,'DejaVu Sans Mono',consolas,'Courier New',monospace\"><span style=\"color: #808000; text-decoration-color: #808000\">╔═════════════════════════════════════════════ </span><span style=\"color: #808000; text-decoration-color: #808000; font-weight: bold\">Optimization Complete</span><span style=\"color: #808000; text-decoration-color: #808000\"> ═════════════════════════════════════════════╗</span>\n",
       "<span style=\"color: #808000; text-decoration-color: #808000\">║</span>                                                                                                                 <span style=\"color: #808000; text-decoration-color: #808000\">║</span>\n",
       "<span style=\"color: #808000; text-decoration-color: #808000\">║</span> <span style=\"color: #7f7f7f; text-decoration-color: #7f7f7f\">Optimizer:         </span><span style=\"font-weight: bold\">FewShotBayesianOptimizer</span>                                                                     <span style=\"color: #808000; text-decoration-color: #808000\">║</span>\n",
       "<span style=\"color: #808000; text-decoration-color: #808000\">║</span> <span style=\"color: #7f7f7f; text-decoration-color: #7f7f7f\">Model Used:        </span>openai/gpt-4o-mini (<span style=\"color: #7f7f7f; text-decoration-color: #7f7f7f\">Temp:</span> 0.1)                                                               <span style=\"color: #808000; text-decoration-color: #808000\">║</span>\n",
       "<span style=\"color: #808000; text-decoration-color: #808000\">║</span> <span style=\"color: #7f7f7f; text-decoration-color: #7f7f7f\">Metric Evaluated:  </span><span style=\"font-weight: bold\">levenshtein_ratio</span>                                                                            <span style=\"color: #808000; text-decoration-color: #808000\">║</span>\n",
       "<span style=\"color: #808000; text-decoration-color: #808000\">║</span> <span style=\"color: #7f7f7f; text-decoration-color: #7f7f7f\">Initial Score:     N/A</span>                                                                                          <span style=\"color: #808000; text-decoration-color: #808000\">║</span>\n",
       "<span style=\"color: #808000; text-decoration-color: #808000\">║</span> <span style=\"color: #7f7f7f; text-decoration-color: #7f7f7f\">Final Best Score:  </span><span style=\"color: #008080; text-decoration-color: #008080; font-weight: bold\">0.3669</span>                                                                                       <span style=\"color: #808000; text-decoration-color: #808000\">║</span>\n",
       "<span style=\"color: #808000; text-decoration-color: #808000\">║</span> <span style=\"color: #7f7f7f; text-decoration-color: #7f7f7f\">Total Improvement: N/A (no initial score)</span>                                                                       <span style=\"color: #808000; text-decoration-color: #808000\">║</span>\n",
       "<span style=\"color: #808000; text-decoration-color: #808000\">║</span> <span style=\"color: #7f7f7f; text-decoration-color: #7f7f7f\">Rounds Completed:  </span>0                                                                                            <span style=\"color: #808000; text-decoration-color: #808000\">║</span>\n",
       "<span style=\"color: #808000; text-decoration-color: #808000\">║</span> <span style=\"color: #7f7f7f; text-decoration-color: #7f7f7f\">Stopped Early:     </span>False                                                                                        <span style=\"color: #808000; text-decoration-color: #808000\">║</span>\n",
       "<span style=\"color: #808000; text-decoration-color: #808000\">║</span>                                                                                                                 <span style=\"color: #808000; text-decoration-color: #808000\">║</span>\n",
       "<span style=\"color: #808000; text-decoration-color: #808000\">║</span>                                                                                                                 <span style=\"color: #808000; text-decoration-color: #808000\">║</span>\n",
       "<span style=\"color: #808000; text-decoration-color: #808000\">║</span> <span style=\"color: #000080; text-decoration-color: #000080\">╭────────────────────────────────────────── </span><span style=\"color: #000080; text-decoration-color: #000080; font-weight: bold\">Final Optimized Prompt</span><span style=\"color: #000080; text-decoration-color: #000080\"> ───────────────────────────────────────────╮</span> <span style=\"color: #808000; text-decoration-color: #808000\">║</span>\n",
       "<span style=\"color: #808000; text-decoration-color: #808000\">║</span> <span style=\"color: #000080; text-decoration-color: #000080\">│</span>                                                                                                             <span style=\"color: #000080; text-decoration-color: #000080\">│</span> <span style=\"color: #808000; text-decoration-color: #808000\">║</span>\n",
       "<span style=\"color: #808000; text-decoration-color: #808000\">║</span> <span style=\"color: #000080; text-decoration-color: #000080\">│</span>  <span style=\"color: #7f7f7f; text-decoration-color: #7f7f7f\">Instruction:</span> <span style=\"font-style: italic\">[{'role': 'system', 'content': 'Provide an answer to the question\\n\\n### Few-Shot </span>            <span style=\"color: #000080; text-decoration-color: #000080\">│</span> <span style=\"color: #808000; text-decoration-color: #808000\">║</span>\n",
       "<span style=\"color: #808000; text-decoration-color: #808000\">║</span> <span style=\"color: #000080; text-decoration-color: #000080\">│</span>  <span style=\"font-style: italic\">Examples\\nQuestion: What novel did an author who was featured in the Voices of Ghana and later became a </span>   <span style=\"color: #000080; text-decoration-color: #000080\">│</span> <span style=\"color: #808000; text-decoration-color: #808000\">║</span>\n",
       "<span style=\"color: #808000; text-decoration-color: #808000\">║</span> <span style=\"color: #000080; text-decoration-color: #000080\">│</span>  <span style=\"font-style: italic\">journalist write?\\nAnswer: The Gab Boys\\n\\nQuestion: What were the dates of the campaign that eventually </span>  <span style=\"color: #000080; text-decoration-color: #000080\">│</span> <span style=\"color: #808000; text-decoration-color: #808000\">║</span>\n",
       "<span style=\"color: #808000; text-decoration-color: #808000\">║</span> <span style=\"color: #000080; text-decoration-color: #000080\">│</span>  <span style=\"font-style: italic\">led to the Treaty of Roskilde?\\nAnswer: between 30 January and 8 February 1658\\n\\nQuestion: Are Wanding </span>   <span style=\"color: #000080; text-decoration-color: #000080\">│</span> <span style=\"color: #808000; text-decoration-color: #808000\">║</span>\n",
       "<span style=\"color: #808000; text-decoration-color: #808000\">║</span> <span style=\"color: #000080; text-decoration-color: #000080\">│</span>  <span style=\"font-style: italic\">Town and Jiujiang, Guangdong both frontier towns?\\nAnswer: no\\n\\nQuestion: The Knicks–Nuggets was the </span>     <span style=\"color: #000080; text-decoration-color: #000080\">│</span> <span style=\"color: #808000; text-decoration-color: #808000\">║</span>\n",
       "<span style=\"color: #808000; text-decoration-color: #808000\">║</span> <span style=\"color: #000080; text-decoration-color: #000080\">│</span>  <span style=\"font-style: italic\">most penalized on-court fight in the NBA since an altercation that occured in what city?\\nAnswer: Auburn </span>  <span style=\"color: #000080; text-decoration-color: #000080\">│</span> <span style=\"color: #808000; text-decoration-color: #808000\">║</span>\n",
       "<span style=\"color: #808000; text-decoration-color: #808000\">║</span> <span style=\"color: #000080; text-decoration-color: #000080\">│</span>  <span style=\"font-style: italic\">Hills'}, {'role': 'user', 'content': '{question}'}]</span>                                                        <span style=\"color: #000080; text-decoration-color: #000080\">│</span> <span style=\"color: #808000; text-decoration-color: #808000\">║</span>\n",
       "<span style=\"color: #808000; text-decoration-color: #808000\">║</span> <span style=\"color: #000080; text-decoration-color: #000080\">│</span>  ---                                                                                                        <span style=\"color: #000080; text-decoration-color: #000080\">│</span> <span style=\"color: #808000; text-decoration-color: #808000\">║</span>\n",
       "<span style=\"color: #808000; text-decoration-color: #808000\">║</span> <span style=\"color: #000080; text-decoration-color: #000080\">│</span>  <span style=\"color: #800080; text-decoration-color: #800080; font-weight: bold\">System:</span> Provide an answer to the question                                                                  <span style=\"color: #000080; text-decoration-color: #000080\">│</span> <span style=\"color: #808000; text-decoration-color: #808000\">║</span>\n",
       "<span style=\"color: #808000; text-decoration-color: #808000\">║</span> <span style=\"color: #000080; text-decoration-color: #000080\">│</span>                                                                                                             <span style=\"color: #000080; text-decoration-color: #000080\">│</span> <span style=\"color: #808000; text-decoration-color: #808000\">║</span>\n",
       "<span style=\"color: #808000; text-decoration-color: #808000\">║</span> <span style=\"color: #000080; text-decoration-color: #000080\">│</span>  ### Few-Shot Examples                                                                                      <span style=\"color: #000080; text-decoration-color: #000080\">│</span> <span style=\"color: #808000; text-decoration-color: #808000\">║</span>\n",
       "<span style=\"color: #808000; text-decoration-color: #808000\">║</span> <span style=\"color: #000080; text-decoration-color: #000080\">│</span>  Question: What novel did an author who was featured in the Voices of Ghana and later became a journalist   <span style=\"color: #000080; text-decoration-color: #000080\">│</span> <span style=\"color: #808000; text-decoration-color: #808000\">║</span>\n",
       "<span style=\"color: #808000; text-decoration-color: #808000\">║</span> <span style=\"color: #000080; text-decoration-color: #000080\">│</span>  write?                                                                                                     <span style=\"color: #000080; text-decoration-color: #000080\">│</span> <span style=\"color: #808000; text-decoration-color: #808000\">║</span>\n",
       "<span style=\"color: #808000; text-decoration-color: #808000\">║</span> <span style=\"color: #000080; text-decoration-color: #000080\">│</span>  Answer: The Gab Boys                                                                                       <span style=\"color: #000080; text-decoration-color: #000080\">│</span> <span style=\"color: #808000; text-decoration-color: #808000\">║</span>\n",
       "<span style=\"color: #808000; text-decoration-color: #808000\">║</span> <span style=\"color: #000080; text-decoration-color: #000080\">│</span>                                                                                                             <span style=\"color: #000080; text-decoration-color: #000080\">│</span> <span style=\"color: #808000; text-decoration-color: #808000\">║</span>\n",
       "<span style=\"color: #808000; text-decoration-color: #808000\">║</span> <span style=\"color: #000080; text-decoration-color: #000080\">│</span>  Question: What were the dates of the campaign that eventually led to the Treaty of Roskilde?               <span style=\"color: #000080; text-decoration-color: #000080\">│</span> <span style=\"color: #808000; text-decoration-color: #808000\">║</span>\n",
       "<span style=\"color: #808000; text-decoration-color: #808000\">║</span> <span style=\"color: #000080; text-decoration-color: #000080\">│</span>  Answer: between 30 January and 8 February 1658                                                             <span style=\"color: #000080; text-decoration-color: #000080\">│</span> <span style=\"color: #808000; text-decoration-color: #808000\">║</span>\n",
       "<span style=\"color: #808000; text-decoration-color: #808000\">║</span> <span style=\"color: #000080; text-decoration-color: #000080\">│</span>                                                                                                             <span style=\"color: #000080; text-decoration-color: #000080\">│</span> <span style=\"color: #808000; text-decoration-color: #808000\">║</span>\n",
       "<span style=\"color: #808000; text-decoration-color: #808000\">║</span> <span style=\"color: #000080; text-decoration-color: #000080\">│</span>  Question: Are Wanding Town and Jiujiang, Guangdong both frontier towns?                                    <span style=\"color: #000080; text-decoration-color: #000080\">│</span> <span style=\"color: #808000; text-decoration-color: #808000\">║</span>\n",
       "<span style=\"color: #808000; text-decoration-color: #808000\">║</span> <span style=\"color: #000080; text-decoration-color: #000080\">│</span>  Answer: no                                                                                                 <span style=\"color: #000080; text-decoration-color: #000080\">│</span> <span style=\"color: #808000; text-decoration-color: #808000\">║</span>\n",
       "<span style=\"color: #808000; text-decoration-color: #808000\">║</span> <span style=\"color: #000080; text-decoration-color: #000080\">│</span>                                                                                                             <span style=\"color: #000080; text-decoration-color: #000080\">│</span> <span style=\"color: #808000; text-decoration-color: #808000\">║</span>\n",
       "<span style=\"color: #808000; text-decoration-color: #808000\">║</span> <span style=\"color: #000080; text-decoration-color: #000080\">│</span>  Question: The Knicks–Nuggets was the most penalized on-court fight in the NBA since an altercation that    <span style=\"color: #000080; text-decoration-color: #000080\">│</span> <span style=\"color: #808000; text-decoration-color: #808000\">║</span>\n",
       "<span style=\"color: #808000; text-decoration-color: #808000\">║</span> <span style=\"color: #000080; text-decoration-color: #000080\">│</span>  occured in what city?                                                                                      <span style=\"color: #000080; text-decoration-color: #000080\">│</span> <span style=\"color: #808000; text-decoration-color: #808000\">║</span>\n",
       "<span style=\"color: #808000; text-decoration-color: #808000\">║</span> <span style=\"color: #000080; text-decoration-color: #000080\">│</span>  Answer: Auburn Hills                                                                                       <span style=\"color: #000080; text-decoration-color: #000080\">│</span> <span style=\"color: #808000; text-decoration-color: #808000\">║</span>\n",
       "<span style=\"color: #808000; text-decoration-color: #808000\">║</span> <span style=\"color: #000080; text-decoration-color: #000080\">│</span>  ---                                                                                                        <span style=\"color: #000080; text-decoration-color: #000080\">│</span> <span style=\"color: #808000; text-decoration-color: #808000\">║</span>\n",
       "<span style=\"color: #808000; text-decoration-color: #808000\">║</span> <span style=\"color: #000080; text-decoration-color: #000080\">│</span>  <span style=\"color: #008000; text-decoration-color: #008000; font-weight: bold\">User:</span> {question}                                                                                           <span style=\"color: #000080; text-decoration-color: #000080\">│</span> <span style=\"color: #808000; text-decoration-color: #808000\">║</span>\n",
       "<span style=\"color: #808000; text-decoration-color: #808000\">║</span> <span style=\"color: #000080; text-decoration-color: #000080\">│</span>  ---                                                                                                        <span style=\"color: #000080; text-decoration-color: #000080\">│</span> <span style=\"color: #808000; text-decoration-color: #808000\">║</span>\n",
       "<span style=\"color: #808000; text-decoration-color: #808000\">║</span> <span style=\"color: #000080; text-decoration-color: #000080\">│</span>                                                                                                             <span style=\"color: #000080; text-decoration-color: #000080\">│</span> <span style=\"color: #808000; text-decoration-color: #808000\">║</span>\n",
       "<span style=\"color: #808000; text-decoration-color: #808000\">║</span> <span style=\"color: #000080; text-decoration-color: #000080\">╰─────────────────────────────────────────────────────────────────────────────────────────────────────────────╯</span> <span style=\"color: #808000; text-decoration-color: #808000\">║</span>\n",
       "<span style=\"color: #808000; text-decoration-color: #808000\">║</span>                                                                                                                 <span style=\"color: #808000; text-decoration-color: #808000\">║</span>\n",
       "<span style=\"color: #808000; text-decoration-color: #808000\">╚═════════════════════════════════════════════════════════════════════════════════════════════════════════════════╝</span>\n",
       "</pre>\n"
      ],
      "text/plain": [
       "\u001b[33m╔═\u001b[0m\u001b[33m════════════════════════════════════════════\u001b[0m\u001b[33m \u001b[0m\u001b[1;33mOptimization Complete\u001b[0m\u001b[33m \u001b[0m\u001b[33m════════════════════════════════════════════\u001b[0m\u001b[33m═╗\u001b[0m\n",
       "\u001b[33m║\u001b[0m                                                                                                                 \u001b[33m║\u001b[0m\n",
       "\u001b[33m║\u001b[0m \u001b[2mOptimizer:        \u001b[0m\u001b[2m \u001b[0m\u001b[1mFewShotBayesianOptimizer\u001b[0m                                                                     \u001b[33m║\u001b[0m\n",
       "\u001b[33m║\u001b[0m \u001b[2mModel Used:       \u001b[0m\u001b[2m \u001b[0mopenai/gpt-4o-mini (\u001b[2mTemp:\u001b[0m 0.1)                                                               \u001b[33m║\u001b[0m\n",
       "\u001b[33m║\u001b[0m \u001b[2mMetric Evaluated: \u001b[0m\u001b[2m \u001b[0m\u001b[1mlevenshtein_ratio\u001b[0m                                                                            \u001b[33m║\u001b[0m\n",
       "\u001b[33m║\u001b[0m \u001b[2mInitial Score:    \u001b[0m\u001b[2m \u001b[0m\u001b[2mN/A\u001b[0m                                                                                          \u001b[33m║\u001b[0m\n",
       "\u001b[33m║\u001b[0m \u001b[2mFinal Best Score: \u001b[0m\u001b[2m \u001b[0m\u001b[1;36m0.3669\u001b[0m                                                                                       \u001b[33m║\u001b[0m\n",
       "\u001b[33m║\u001b[0m \u001b[2mTotal Improvement:\u001b[0m\u001b[2m \u001b[0m\u001b[2mN/A (no initial score)\u001b[0m                                                                       \u001b[33m║\u001b[0m\n",
       "\u001b[33m║\u001b[0m \u001b[2mRounds Completed: \u001b[0m\u001b[2m \u001b[0m0                                                                                            \u001b[33m║\u001b[0m\n",
       "\u001b[33m║\u001b[0m \u001b[2mStopped Early:    \u001b[0m\u001b[2m \u001b[0mFalse                                                                                        \u001b[33m║\u001b[0m\n",
       "\u001b[33m║\u001b[0m                                                                                                                 \u001b[33m║\u001b[0m\n",
       "\u001b[33m║\u001b[0m                                                                                                                 \u001b[33m║\u001b[0m\n",
       "\u001b[33m║\u001b[0m \u001b[34m╭─\u001b[0m\u001b[34m─────────────────────────────────────────\u001b[0m\u001b[34m \u001b[0m\u001b[1;34mFinal Optimized Prompt\u001b[0m\u001b[34m \u001b[0m\u001b[34m──────────────────────────────────────────\u001b[0m\u001b[34m─╮\u001b[0m \u001b[33m║\u001b[0m\n",
       "\u001b[33m║\u001b[0m \u001b[34m│\u001b[0m                                                                                                             \u001b[34m│\u001b[0m \u001b[33m║\u001b[0m\n",
       "\u001b[33m║\u001b[0m \u001b[34m│\u001b[0m  \u001b[2mInstruction:\u001b[0m \u001b[3m[{'role': 'system', 'content': 'Provide an answer to the question\\n\\n### Few-Shot \u001b[0m            \u001b[34m│\u001b[0m \u001b[33m║\u001b[0m\n",
       "\u001b[33m║\u001b[0m \u001b[34m│\u001b[0m  \u001b[3mExamples\\nQuestion: What novel did an author who was featured in the Voices of Ghana and later became a \u001b[0m   \u001b[34m│\u001b[0m \u001b[33m║\u001b[0m\n",
       "\u001b[33m║\u001b[0m \u001b[34m│\u001b[0m  \u001b[3mjournalist write?\\nAnswer: The Gab Boys\\n\\nQuestion: What were the dates of the campaign that eventually \u001b[0m  \u001b[34m│\u001b[0m \u001b[33m║\u001b[0m\n",
       "\u001b[33m║\u001b[0m \u001b[34m│\u001b[0m  \u001b[3mled to the Treaty of Roskilde?\\nAnswer: between 30 January and 8 February 1658\\n\\nQuestion: Are Wanding \u001b[0m   \u001b[34m│\u001b[0m \u001b[33m║\u001b[0m\n",
       "\u001b[33m║\u001b[0m \u001b[34m│\u001b[0m  \u001b[3mTown and Jiujiang, Guangdong both frontier towns?\\nAnswer: no\\n\\nQuestion: The Knicks–Nuggets was the \u001b[0m     \u001b[34m│\u001b[0m \u001b[33m║\u001b[0m\n",
       "\u001b[33m║\u001b[0m \u001b[34m│\u001b[0m  \u001b[3mmost penalized on-court fight in the NBA since an altercation that occured in what city?\\nAnswer: Auburn \u001b[0m  \u001b[34m│\u001b[0m \u001b[33m║\u001b[0m\n",
       "\u001b[33m║\u001b[0m \u001b[34m│\u001b[0m  \u001b[3mHills'}, {'role': 'user', 'content': '{question}'}]\u001b[0m                                                        \u001b[34m│\u001b[0m \u001b[33m║\u001b[0m\n",
       "\u001b[33m║\u001b[0m \u001b[34m│\u001b[0m  ---                                                                                                        \u001b[34m│\u001b[0m \u001b[33m║\u001b[0m\n",
       "\u001b[33m║\u001b[0m \u001b[34m│\u001b[0m  \u001b[1;35mSystem:\u001b[0m Provide an answer to the question                                                                  \u001b[34m│\u001b[0m \u001b[33m║\u001b[0m\n",
       "\u001b[33m║\u001b[0m \u001b[34m│\u001b[0m                                                                                                             \u001b[34m│\u001b[0m \u001b[33m║\u001b[0m\n",
       "\u001b[33m║\u001b[0m \u001b[34m│\u001b[0m  ### Few-Shot Examples                                                                                      \u001b[34m│\u001b[0m \u001b[33m║\u001b[0m\n",
       "\u001b[33m║\u001b[0m \u001b[34m│\u001b[0m  Question: What novel did an author who was featured in the Voices of Ghana and later became a journalist   \u001b[34m│\u001b[0m \u001b[33m║\u001b[0m\n",
       "\u001b[33m║\u001b[0m \u001b[34m│\u001b[0m  write?                                                                                                     \u001b[34m│\u001b[0m \u001b[33m║\u001b[0m\n",
       "\u001b[33m║\u001b[0m \u001b[34m│\u001b[0m  Answer: The Gab Boys                                                                                       \u001b[34m│\u001b[0m \u001b[33m║\u001b[0m\n",
       "\u001b[33m║\u001b[0m \u001b[34m│\u001b[0m                                                                                                             \u001b[34m│\u001b[0m \u001b[33m║\u001b[0m\n",
       "\u001b[33m║\u001b[0m \u001b[34m│\u001b[0m  Question: What were the dates of the campaign that eventually led to the Treaty of Roskilde?               \u001b[34m│\u001b[0m \u001b[33m║\u001b[0m\n",
       "\u001b[33m║\u001b[0m \u001b[34m│\u001b[0m  Answer: between 30 January and 8 February 1658                                                             \u001b[34m│\u001b[0m \u001b[33m║\u001b[0m\n",
       "\u001b[33m║\u001b[0m \u001b[34m│\u001b[0m                                                                                                             \u001b[34m│\u001b[0m \u001b[33m║\u001b[0m\n",
       "\u001b[33m║\u001b[0m \u001b[34m│\u001b[0m  Question: Are Wanding Town and Jiujiang, Guangdong both frontier towns?                                    \u001b[34m│\u001b[0m \u001b[33m║\u001b[0m\n",
       "\u001b[33m║\u001b[0m \u001b[34m│\u001b[0m  Answer: no                                                                                                 \u001b[34m│\u001b[0m \u001b[33m║\u001b[0m\n",
       "\u001b[33m║\u001b[0m \u001b[34m│\u001b[0m                                                                                                             \u001b[34m│\u001b[0m \u001b[33m║\u001b[0m\n",
       "\u001b[33m║\u001b[0m \u001b[34m│\u001b[0m  Question: The Knicks–Nuggets was the most penalized on-court fight in the NBA since an altercation that    \u001b[34m│\u001b[0m \u001b[33m║\u001b[0m\n",
       "\u001b[33m║\u001b[0m \u001b[34m│\u001b[0m  occured in what city?                                                                                      \u001b[34m│\u001b[0m \u001b[33m║\u001b[0m\n",
       "\u001b[33m║\u001b[0m \u001b[34m│\u001b[0m  Answer: Auburn Hills                                                                                       \u001b[34m│\u001b[0m \u001b[33m║\u001b[0m\n",
       "\u001b[33m║\u001b[0m \u001b[34m│\u001b[0m  ---                                                                                                        \u001b[34m│\u001b[0m \u001b[33m║\u001b[0m\n",
       "\u001b[33m║\u001b[0m \u001b[34m│\u001b[0m  \u001b[1;32mUser:\u001b[0m {question}                                                                                           \u001b[34m│\u001b[0m \u001b[33m║\u001b[0m\n",
       "\u001b[33m║\u001b[0m \u001b[34m│\u001b[0m  ---                                                                                                        \u001b[34m│\u001b[0m \u001b[33m║\u001b[0m\n",
       "\u001b[33m║\u001b[0m \u001b[34m│\u001b[0m                                                                                                             \u001b[34m│\u001b[0m \u001b[33m║\u001b[0m\n",
       "\u001b[33m║\u001b[0m \u001b[34m╰─────────────────────────────────────────────────────────────────────────────────────────────────────────────╯\u001b[0m \u001b[33m║\u001b[0m\n",
       "\u001b[33m║\u001b[0m                                                                                                                 \u001b[33m║\u001b[0m\n",
       "\u001b[33m╚═════════════════════════════════════════════════════════════════════════════════════════════════════════════════╝\u001b[0m\n"
      ]
     },
     "metadata": {},
     "output_type": "display_data"
    }
   ],
   "source": [
    "result.display()"
   ]
  },
  {
   "cell_type": "markdown",
   "metadata": {
    "id": "1Zw5UhcCF3lm"
   },
   "source": [
    "Well done optimizer!\n",
    "\n",
    "The percentage correct went from about 15% to about 50% correct."
   ]
  },
  {
   "cell_type": "markdown",
   "metadata": {
    "id": "3_ppCUe6AGH8"
   },
   "source": [
    "What did we find? The result is a series of messages:"
   ]
  },
  {
   "cell_type": "code",
   "execution_count": 19,
   "metadata": {
    "id": "o1nDwurG_2qL"
   },
   "outputs": [
    {
     "data": {
      "text/plain": [
       "[{'role': 'system',\n",
       "  'content': 'Provide an answer to the question\\n\\nYou are an intelligent assistant that learns from few-shot examples provided earlier in the conversation. Whenever you respond, carefully follow the structure, tone, and format of previous assistant replies, using them as a guide'},\n",
       " {'role': 'user',\n",
       "  'content': '\\n{\\n  \"question\": \"What precious metal did both McIntyre Mines and the Kemess Mine dig for?\"\\n}\\n'},\n",
       " {'role': 'assistant', 'content': 'gold'},\n",
       " {'role': 'user',\n",
       "  'content': '\\n{\\n  \"question\": \"Which member of a collegiate athletic conference comprising sports teams from eight private institutions of higher education in the Northeastern United States played their home games at Robert K. Kraft Field at Lawrence A. Wien Stadium?\"\\n}\\n'},\n",
       " {'role': 'assistant', 'content': 'The 2011 Columbia Lions'},\n",
       " {'role': 'user',\n",
       "  'content': '\\n{\\n  \"question\": \"Which popular magazine was published first, Inside Sports or Men\\'s Fitness?\"\\n}\\n'},\n",
       " {'role': 'assistant', 'content': 'Inside Sports magazine'},\n",
       " {'role': 'user',\n",
       "  'content': '\\n{\\n  \"question\": \"Which band released \\\\\"Perfect Day,\\\\\" which appears on the 2011 American black comedy film directed by Seth Gordon? \"\\n}\\n'},\n",
       " {'role': 'assistant', 'content': 'The Constellations'},\n",
       " {'role': 'user', 'content': '{\"question\": \"{{question}}\"}'}]"
      ]
     },
     "execution_count": 19,
     "metadata": {},
     "output_type": "execute_result"
    }
   ],
   "source": [
    "result.details[\"chat_messages\"]"
   ]
  },
  {
   "cell_type": "markdown",
   "metadata": {},
   "source": [
    "## Opik Visualization UI\n",
    "\n",
    "When you create an Optimization Run, you'll see it in the Opik UI (either running locally or hosted).\n",
    "\n",
    "If you go to your `comet.com/opik/YOURID/optimizations` page, you'll see your run at the top of the list:\n",
    "\n",
    "<img src=\"https://raw.githubusercontent.com/comet-ml/opik/refs/heads/main/sdks/opik_optimizer/docs/images/optimizer-ui.png\" width=\"500px\">\n",
    "\n",
    "Along the top of the page you'll see a running history of the metric scores, with the latest dataset selected. \n",
    "\n",
    "If you click on your run, you'll see the set of trials that ran durring this optimization run. Running across the top of this page are the scores just for this trial. On the top right you'll see the best so far:\n",
    "\n",
    "<img src=\"https://raw.githubusercontent.com/comet-ml/opik/refs/heads/main/sdks/opik_optimizer/docs/images/optimize-trials.png\" width=\"500px\">\n",
    "\n",
    "If you click on a trial, you'll see the prompt for that trial:\n",
    "\n",
    "<img src=\"https://raw.githubusercontent.com/comet-ml/opik/refs/heads/main/sdks/opik_optimizer/docs/images/optimizer-prompt.png\" width=\"500px\">\n",
    "\n",
    "From the trial page you can also see the Trial items, and even dig down (mouse over the \"Evaluation task\" column on a row) to see the traces."
   ]
  },
  {
   "cell_type": "markdown",
   "metadata": {
    "id": "J7bVb_Pp9TUb"
   },
   "source": [
    "## Using Optimized Prompts\n",
    "\n",
    "How can we use the optimized results?\n"
   ]
  },
  {
   "cell_type": "markdown",
   "metadata": {
    "id": "6uWZEjWTFcpJ"
   },
   "source": [
    "Once we have the \"chat_messages\", we can do the following:"
   ]
  },
  {
   "cell_type": "code",
   "execution_count": 20,
   "metadata": {
    "id": "-wOD7oca9gjs"
   },
   "outputs": [],
   "source": [
    "from litellm.integrations.opik.opik import OpikLogger\n",
    "import litellm\n",
    "opik_logger = OpikLogger()\n",
    "litellm.callbacks = [opik_logger]\n",
    "\n",
    "def query(question, chat_messages):\n",
    "    messages = chat_messages[:-1] # Cut off the last one\n",
    "    # replace it with question in proper format:\n",
    "    messages.append({'role': 'user', 'content': '{\"question\": \"%s\"}\"}' % question})\n",
    "\n",
    "    response = litellm.completion(\n",
    "        model=\"gpt-4o-mini\",\n",
    "        temperature=0.1,\n",
    "        max_tokens=5000,\n",
    "        messages=messages,\n",
    "    )\n",
    "    return response.choices[0].message.content"
   ]
  },
  {
   "cell_type": "code",
   "execution_count": 21,
   "metadata": {
    "id": "2nu5Tqdl9wa8"
   },
   "outputs": [
    {
     "data": {
      "text/plain": [
       "'David Chalmers was born on April 20, 1966.'"
      ]
     },
     "execution_count": 21,
     "metadata": {},
     "output_type": "execute_result"
    }
   ],
   "source": [
    "query(\"When was David Chalmers born?\", result.details[\"chat_messages\"])"
   ]
  },
  {
   "cell_type": "code",
   "execution_count": 22,
   "metadata": {
    "id": "xI3mOXQ4_btf"
   },
   "outputs": [
    {
     "data": {
      "text/plain": [
       "'A baby elephant typically weighs more than an SUV.'"
      ]
     },
     "execution_count": 22,
     "metadata": {},
     "output_type": "execute_result"
    }
   ],
   "source": [
    "query(\"What weighs more: a baby elephant or an SUV?\", result.details[\"chat_messages\"])"
   ]
  },
  {
   "cell_type": "markdown",
   "metadata": {
    "id": "2x0JkiYhFsQq"
   },
   "source": [
    "If it says \"elephant\" that is not correct!\n",
    "\n",
    "We'll need to use an agent with tools to get a better answer."
   ]
  },
  {
   "cell_type": "markdown",
   "metadata": {
    "id": "uSDJ1bFx51kd"
   },
   "source": [
    "# Next Steps\n",
    "\n",
    "You can try out other optimizers. More details can be found in the [Opik Agent Optimizer documentation](https://www.comet.com/docs/opik/agent_optimization/overview)."
   ]
  }
 ],
 "metadata": {
  "colab": {
   "provenance": []
  },
  "kernelspec": {
   "display_name": "py312_llm_eval",
   "language": "python",
   "name": "python3"
  },
  "language_info": {
   "codemirror_mode": {
    "name": "ipython",
    "version": 3
   },
   "file_extension": ".py",
   "mimetype": "text/x-python",
   "name": "python",
   "nbconvert_exporter": "python",
   "pygments_lexer": "ipython3",
   "version": "3.12.4"
  }
 },
 "nbformat": 4,
 "nbformat_minor": 4
}
