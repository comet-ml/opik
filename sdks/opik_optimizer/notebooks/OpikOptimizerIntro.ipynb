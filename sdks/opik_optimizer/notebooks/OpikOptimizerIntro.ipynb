{
  "nbformat": 4,
  "nbformat_minor": 0,
  "metadata": {
    "colab": {
      "provenance": [],
      "machine_shape": "hm",
      "gpuType": "L4"
    },
    "kernelspec": {
      "name": "python3",
      "display_name": "Python 3"
    },
    "language_info": {
      "name": "python"
    },
    "accelerator": "GPU"
  },
  "cells": [
    {
      "cell_type": "markdown",
      "source": [
        "# Opik Optimizer (beta)\n",
        "\n",
        "Welcome to the Opik Opitimizer beta program! In this notebook we'll walk through a basic examples of a number of an optimizer algorithm.\n",
        "\n",
        "## Setup\n",
        "\n",
        "First, let's install the needed Python packages.\n",
        "\n",
        "We'll of course need `opik`:"
      ],
      "metadata": {
        "id": "LbN7qkaDs-gS"
      }
    },
    {
      "cell_type": "code",
      "execution_count": 1,
      "metadata": {
        "colab": {
          "base_uri": "https://localhost:8080/"
        },
        "id": "dHLhruvis8ti",
        "outputId": "1f442506-8ac8-44ce-febd-1f64c903af6b"
      },
      "outputs": [
        {
          "output_type": "stream",
          "name": "stdout",
          "text": [
            "\u001b[2K     \u001b[90m━━━━━━━━━━━━━━━━━━━━━━━━━━━━━━━━━━━━━━━\u001b[0m \u001b[32m149.7/149.7 kB\u001b[0m \u001b[31m7.6 MB/s\u001b[0m eta \u001b[36m0:00:00\u001b[0m\n",
            "\u001b[2K   \u001b[90m━━━━━━━━━━━━━━━━━━━━━━━━━━━━━━━━━━━━━━━━\u001b[0m \u001b[32m491.2/491.2 kB\u001b[0m \u001b[31m32.3 MB/s\u001b[0m eta \u001b[36m0:00:00\u001b[0m\n",
            "\u001b[2K   \u001b[90m━━━━━━━━━━━━━━━━━━━━━━━━━━━━━━━━━━━━━━━━\u001b[0m \u001b[32m68.8/68.8 kB\u001b[0m \u001b[31m7.9 MB/s\u001b[0m eta \u001b[36m0:00:00\u001b[0m\n",
            "\u001b[2K   \u001b[90m━━━━━━━━━━━━━━━━━━━━━━━━━━━━━━━━━━━━━━━━\u001b[0m \u001b[32m161.7/161.7 kB\u001b[0m \u001b[31m19.0 MB/s\u001b[0m eta \u001b[36m0:00:00\u001b[0m\n",
            "\u001b[2K   \u001b[90m━━━━━━━━━━━━━━━━━━━━━━━━━━━━━━━━━━━━━━━━\u001b[0m \u001b[32m44.4/44.4 kB\u001b[0m \u001b[31m4.3 MB/s\u001b[0m eta \u001b[36m0:00:00\u001b[0m\n",
            "\u001b[2K   \u001b[90m━━━━━━━━━━━━━━━━━━━━━━━━━━━━━━━━━━━━━━━━\u001b[0m \u001b[32m7.6/7.6 MB\u001b[0m \u001b[31m112.5 MB/s\u001b[0m eta \u001b[36m0:00:00\u001b[0m\n",
            "\u001b[2K   \u001b[90m━━━━━━━━━━━━━━━━━━━━━━━━━━━━━━━━━━━━━━━━\u001b[0m \u001b[32m3.1/3.1 MB\u001b[0m \u001b[31m113.1 MB/s\u001b[0m eta \u001b[36m0:00:00\u001b[0m\n",
            "\u001b[2K   \u001b[90m━━━━━━━━━━━━━━━━━━━━━━━━━━━━━━━━━━━━━━━━\u001b[0m \u001b[32m1.2/1.2 MB\u001b[0m \u001b[31m75.3 MB/s\u001b[0m eta \u001b[36m0:00:00\u001b[0m\n",
            "\u001b[2K   \u001b[90m━━━━━━━━━━━━━━━━━━━━━━━━━━━━━━━━━━━━━━━━\u001b[0m \u001b[32m65.6/65.6 kB\u001b[0m \u001b[31m7.6 MB/s\u001b[0m eta \u001b[36m0:00:00\u001b[0m\n",
            "\u001b[?25h"
          ]
        }
      ],
      "source": [
        "%pip install opik --quiet"
      ]
    },
    {
      "cell_type": "markdown",
      "source": [
        "Next, we'll install the beta version of the `opik-optimizer`:"
      ],
      "metadata": {
        "id": "L-n8gjG45B1c"
      }
    },
    {
      "cell_type": "code",
      "source": [
        "!pip install git+https://github.com/comet-ml/opik#subdirectory=sdks/opik_optimizer --upgrade --quiet > pip-install.log 2>&1"
      ],
      "metadata": {
        "id": "SkjxdMfdtB1w"
      },
      "execution_count": 4,
      "outputs": []
    },
    {
      "cell_type": "markdown",
      "source": [
        "[Comet](https://www.comet.com/site?from=llm&utm_source=opik) provides a hosted version of the Opik platform, [simply create an account](https://www.comet.com/signup?from=llm&utm_source=opik&utm_medium=colab&utm_content=langchain&utm_campaign=opik) and grab your API Key.\n",
        "\n",
        "> You can also run the Opik platform locally, see the [installation guide](https://www.comet.com/docs/opik/self-host/overview/?from=llm&utm_source=opik) for more information.\n",
        "\n",
        "You can use your own workspace."
      ],
      "metadata": {
        "id": "hNtXvK2Kt3GE"
      }
    },
    {
      "cell_type": "code",
      "source": [
        "import opik\n",
        "\n",
        "# Configure Opik\n",
        "opik.configure()"
      ],
      "metadata": {
        "colab": {
          "base_uri": "https://localhost:8080/"
        },
        "id": "8-mkTrf9vHXk",
        "outputId": "1577492b-f83d-4a53-a16a-943422386961"
      },
      "execution_count": 5,
      "outputs": [
        {
          "output_type": "stream",
          "name": "stderr",
          "text": [
            "OPIK: Your Opik API key is available in your account settings, can be found at https://www.comet.com/api/my/settings/ for Opik cloud\n"
          ]
        },
        {
          "name": "stdout",
          "output_type": "stream",
          "text": [
            "Please enter your Opik API key:··········\n",
            "Do you want to use \"dsblank\" workspace? (Y/n)y\n"
          ]
        },
        {
          "output_type": "stream",
          "name": "stderr",
          "text": [
            "OPIK: Configuration saved to file: /root/.opik.config\n"
          ]
        }
      ]
    },
    {
      "cell_type": "markdown",
      "source": [
        "For this example, we'll use OpenAI models, so we need to set our OpenAI API key:"
      ],
      "metadata": {
        "id": "kLSeOY24vWfS"
      }
    },
    {
      "cell_type": "code",
      "source": [
        "import os\n",
        "import getpass\n",
        "if \"OPENAI_API_KEY\" not in os.environ:\n",
        "    os.environ[\"OPENAI_API_KEY\"] = getpass.getpass(\"Enter your OpenAI API key: \")"
      ],
      "metadata": {
        "colab": {
          "base_uri": "https://localhost:8080/"
        },
        "id": "Pf2IJP2Z28P5",
        "outputId": "9f47af74-05ec-42f0-ae7b-996706cd9045"
      },
      "execution_count": 6,
      "outputs": [
        {
          "name": "stdout",
          "output_type": "stream",
          "text": [
            "Enter your OpenAI API key: ··········\n"
          ]
        }
      ]
    },
    {
      "cell_type": "markdown",
      "source": [
        "To optimize any prompt, we'll need:\n",
        "\n",
        "1. A starting prompt\n",
        "2. A metric\n",
        "3. A dataset\n",
        "\n",
        "For this initial test, we'll start with a portion of the HotpotQA dataset.\n",
        "\n",
        "HotpotQA is a question/answering dataset featuring natural questions, with correct answers. It was collected by a team of NLP researchers at Carnegie Mellon University, Stanford University, and Université de Montréal.\n",
        "\n",
        "Let's take a look at the demo dataset \"hotpot-300\".\n",
        "\n",
        "First, we get or create it. This will add it to our default Opik project:"
      ],
      "metadata": {
        "id": "NSj91yEMvqHi"
      }
    },
    {
      "cell_type": "code",
      "source": [
        "from opik_optimizer.demo import get_or_create_dataset\n",
        "from opik_optimizer.demo.cache import get_litellm_cache\n",
        "\n",
        "\n",
        "opik_dataset = get_or_create_dataset(\"hotpot-300\")\n",
        "get_litellm_cache(\"test\")"
      ],
      "metadata": {
        "id": "Rvg_dl5MwmwO"
      },
      "execution_count": 26,
      "outputs": []
    },
    {
      "cell_type": "markdown",
      "source": [
        "Let's look at a specific row from the dataset:"
      ],
      "metadata": {
        "id": "n8mwHiP_xfNi"
      }
    },
    {
      "cell_type": "code",
      "source": [
        "rows = opik_dataset.get_items()\n",
        "rows[0]"
      ],
      "metadata": {
        "colab": {
          "base_uri": "https://localhost:8080/"
        },
        "id": "v5la3y6Kw00C",
        "outputId": "6e62120a-4b25-47de-abfa-545fcb470656"
      },
      "execution_count": 8,
      "outputs": [
        {
          "output_type": "execute_result",
          "data": {
            "text/plain": [
              "{'id': '0195d400-517b-7f17-b746-ff3d084463ac',\n",
              " 'question': 'Were both drinks, the Smoking Bishop and the Mickey Slim, popular in different countries?',\n",
              " 'answer': 'yes'}"
            ]
          },
          "metadata": {},
          "execution_count": 8
        }
      ]
    },
    {
      "cell_type": "markdown",
      "source": [
        "We see that each item has a \"question\" and \"answer\". Some of the answers are short and direct, and some of them are more complicated:"
      ],
      "metadata": {
        "id": "dc7GqXTlxmnS"
      }
    },
    {
      "cell_type": "code",
      "source": [
        "rows[2]"
      ],
      "metadata": {
        "colab": {
          "base_uri": "https://localhost:8080/"
        },
        "id": "VOU4GVxkxF9D",
        "outputId": "8f1cfe2f-0681-4284-c783-bc0872a9b9f4"
      },
      "execution_count": 9,
      "outputs": [
        {
          "output_type": "execute_result",
          "data": {
            "text/plain": [
              "{'id': '0195d400-5179-7259-8104-1f0a55a13ac2',\n",
              " 'question': 'Woody Wuthrie wrote the song \"Do Re Mi\" which was about migrants and their experiences when they arrive in California and are greeted with severe storms that came in waves in what years?',\n",
              " 'answer': '1934, 1936, and 1939–1940'}"
            ]
          },
          "metadata": {},
          "execution_count": 9
        }
      ]
    },
    {
      "cell_type": "markdown",
      "source": [
        "As you can see, the answers can be a little messy. We'll need a good metric to able to determine whether a prompt is good or not. But let's start simple.\n",
        "\n",
        "We'll use the `LevenshteinRatio` metric from Opik.\n",
        "\n",
        "It works like this:"
      ],
      "metadata": {
        "id": "cA_73ohDx8zo"
      }
    },
    {
      "cell_type": "code",
      "source": [
        "from opik.evaluation.metrics import LevenshteinRatio\n",
        "\n",
        "metric = LevenshteinRatio()\n",
        "\n",
        "metric.score(\"Hello\", \"Hello\")"
      ],
      "metadata": {
        "colab": {
          "base_uri": "https://localhost:8080/"
        },
        "id": "JyN9fjDqysDl",
        "outputId": "2494f610-d9b9-4d2a-c297-672832be0042"
      },
      "execution_count": 10,
      "outputs": [
        {
          "output_type": "stream",
          "name": "stderr",
          "text": [
            "OPIK: Started logging traces to the \"Default Project\" project at https://www.comet.com/opik/api/v1/session/redirect/projects/?trace_id=01968c66-c5d3-7e85-b7d6-3911e2e60dc8&path=aHR0cHM6Ly93d3cuY29tZXQuY29tL29waWsvYXBpLw==.\n"
          ]
        },
        {
          "output_type": "execute_result",
          "data": {
            "text/plain": [
              "ScoreResult(name='levenshtein_ratio_metric', value=1.0, reason=None, metadata=None, scoring_failed=False)"
            ]
          },
          "metadata": {},
          "execution_count": 10
        }
      ]
    },
    {
      "cell_type": "markdown",
      "source": [
        "Here we can see that value is 1.0. That meens that there is no difference between \"Hello\" and \"Hello\". That is as close as you can get!\n",
        "\n",
        "As the difference between the two strings get further away, the value gets smaller, approaching 0.0:"
      ],
      "metadata": {
        "id": "F8Dhc8NXzark"
      }
    },
    {
      "cell_type": "code",
      "source": [
        "metric.score(\"Hello\", \"Hello!\")"
      ],
      "metadata": {
        "colab": {
          "base_uri": "https://localhost:8080/"
        },
        "id": "Ml39af7HzUsF",
        "outputId": "1516fd81-b3a8-456c-f8ac-d275ab0fa123"
      },
      "execution_count": 11,
      "outputs": [
        {
          "output_type": "execute_result",
          "data": {
            "text/plain": [
              "ScoreResult(name='levenshtein_ratio_metric', value=0.9090909090909091, reason=None, metadata=None, scoring_failed=False)"
            ]
          },
          "metadata": {},
          "execution_count": 11
        }
      ]
    },
    {
      "cell_type": "code",
      "source": [
        "metric.score(\"one\", \"six\")"
      ],
      "metadata": {
        "colab": {
          "base_uri": "https://localhost:8080/"
        },
        "id": "q1fbHU0qzy0H",
        "outputId": "143897ee-74e5-4627-be32-8c54e8fb8c6a"
      },
      "execution_count": 12,
      "outputs": [
        {
          "output_type": "execute_result",
          "data": {
            "text/plain": [
              "ScoreResult(name='levenshtein_ratio_metric', value=0.0, reason=None, metadata=None, scoring_failed=False)"
            ]
          },
          "metadata": {},
          "execution_count": 12
        }
      ]
    },
    {
      "cell_type": "markdown",
      "source": [
        "As you can see, slightly different have values close to 1, and no letters in common give a zero.\n",
        "\n",
        "To find out more about the metric, see [Levenshtein Distance](https://en.wikipedia.org/wiki/Levenshtein_distance)."
      ],
      "metadata": {
        "id": "85oysQAMPeCQ"
      }
    },
    {
      "cell_type": "markdown",
      "source": [
        "Ok, we have a dataset and a metric, now we are ready to construct an optimizer.\n",
        "\n",
        "We can use an OpenAI model name, or more generally, a LiteLLM model name. Just make sure you have your model API key set as we did above.\n",
        "\n",
        "We'll start with the `FewShotBayesianOptimizer`:"
      ],
      "metadata": {
        "id": "-I0Coxgt0QNd"
      }
    },
    {
      "cell_type": "code",
      "source": [
        "from opik_optimizer import (\n",
        "    FewShotBayesianOptimizer,\n",
        "    OptimizationConfig,\n",
        "    MetricConfig,\n",
        "    from_llm_response_text,\n",
        "    from_dataset_field,\n",
        "    PromptTaskConfig,\n",
        ")\n",
        "\n",
        "optimizer = FewShotBayesianOptimizer(\n",
        "    model=\"gpt-4o-mini\",\n",
        "    temperature=0.1,\n",
        "    max_tokens=5000,\n",
        ")"
      ],
      "metadata": {
        "id": "ixQUjZS5tPOU"
      },
      "execution_count": 21,
      "outputs": []
    },
    {
      "cell_type": "markdown",
      "source": [
        "Now, we need a prompt to optimize. Given the examples above, let's try something like:"
      ],
      "metadata": {
        "id": "fBdeiCOIQIf1"
      }
    },
    {
      "cell_type": "code",
      "source": [
        "initial_prompt = \"Provide an answer to the question\""
      ],
      "metadata": {
        "id": "uD7I2j-cQS0E"
      },
      "execution_count": 22,
      "outputs": []
    },
    {
      "cell_type": "code",
      "source": [
        "initial_prompt_no_examples = [\n",
        "    {\"role\": \"system\", \"content\": initial_prompt},\n",
        "    {\"role\": \"user\", \"content\": \"{{question}}\"},\n",
        "]"
      ],
      "metadata": {
        "id": "itjS_IndaM4R"
      },
      "execution_count": 23,
      "outputs": []
    },
    {
      "cell_type": "code",
      "source": [
        "optimization_config = OptimizationConfig(\n",
        "    dataset=opik_dataset,\n",
        "    objective=MetricConfig(\n",
        "        metric=LevenshteinRatio(),\n",
        "        inputs={\n",
        "            \"output\": from_llm_response_text(),\n",
        "            \"reference\": from_dataset_field(name=\"answer\"),\n",
        "        },\n",
        "    ),\n",
        "    task=PromptTaskConfig(\n",
        "        instruction_prompt=initial_prompt,\n",
        "        input_dataset_fields=[\"question\"],\n",
        "        output_dataset_field=\"answer\",\n",
        "        use_chat_prompt=True,\n",
        "    ),\n",
        ")"
      ],
      "metadata": {
        "id": "s-QEws-2aTNg"
      },
      "execution_count": 24,
      "outputs": []
    },
    {
      "cell_type": "code",
      "source": [
        "score = optimizer.evaluate_prompt(\n",
        "    dataset=opik_dataset,\n",
        "    metric_config=optimization_config.objective,\n",
        "    prompt=initial_prompt_no_examples,\n",
        ")\n",
        "score"
      ],
      "metadata": {
        "colab": {
          "base_uri": "https://localhost:8080/",
          "height": 1000
        },
        "id": "V8nqp8deQciO",
        "outputId": "58f5942a-b5c9-4288-9112-cae568eafbaa"
      },
      "execution_count": 27,
      "outputs": [
        {
          "output_type": "stream",
          "name": "stderr",
          "text": [
            "\n",
            "Evaluation:   0%|          | 0/300 [00:00<?, ?it/s]\u001b[A\n",
            "Evaluation:   0%|          | 1/300 [00:01<05:18,  1.07s/it]\u001b[A\n",
            "Evaluation:   1%|          | 2/300 [00:01<04:10,  1.19it/s]\u001b[A\n",
            "Evaluation:   1%|          | 3/300 [00:01<02:40,  1.85it/s]\u001b[A\n",
            "Evaluation:   1%|▏         | 4/300 [00:02<01:55,  2.57it/s]\u001b[A\n",
            "Evaluation:   2%|▏         | 5/300 [00:02<01:30,  3.27it/s]\u001b[A\n",
            "Evaluation:   2%|▏         | 7/300 [00:02<00:55,  5.30it/s]\u001b[A\n",
            "Evaluation:   3%|▎         | 8/300 [00:02<01:00,  4.79it/s]\u001b[A\n",
            "Evaluation:   3%|▎         | 9/300 [00:02<00:52,  5.56it/s]\u001b[A\n",
            "Evaluation:   3%|▎         | 10/300 [00:03<01:25,  3.40it/s]\u001b[A\n",
            "Evaluation:   4%|▎         | 11/300 [00:03<01:10,  4.07it/s]\u001b[A\n",
            "Evaluation:   4%|▍         | 13/300 [00:03<01:09,  4.11it/s]\u001b[A\n",
            "Evaluation:   5%|▌         | 16/300 [00:04<00:49,  5.70it/s]\u001b[A\n",
            "Evaluation:   6%|▌         | 17/300 [00:04<00:48,  5.88it/s]\u001b[A\n",
            "Evaluation:   6%|▌         | 18/300 [00:04<01:00,  4.64it/s]\u001b[A\n",
            "Evaluation:   6%|▋         | 19/300 [00:04<00:54,  5.17it/s]\u001b[A\n",
            "Evaluation:   7%|▋         | 20/300 [00:05<01:13,  3.79it/s]\u001b[A\n",
            "Evaluation:   7%|▋         | 21/300 [00:05<01:04,  4.32it/s]\u001b[A\n",
            "Evaluation:   8%|▊         | 24/300 [00:05<00:35,  7.78it/s]\u001b[A\n",
            "Evaluation:   9%|▊         | 26/300 [00:05<00:33,  8.11it/s]\u001b[A\n",
            "Evaluation:   9%|▉         | 28/300 [00:06<01:01,  4.46it/s]\u001b[A\n",
            "Evaluation:  10%|▉         | 29/300 [00:07<01:07,  4.01it/s]\u001b[A\n",
            "Evaluation:  11%|█         | 33/300 [00:07<00:35,  7.51it/s]\u001b[A\n",
            "Evaluation:  12%|█▏        | 35/300 [00:08<01:04,  4.13it/s]\u001b[A\n",
            "Evaluation:  12%|█▏        | 37/300 [00:08<00:50,  5.17it/s]\u001b[A\n",
            "Evaluation:  13%|█▎        | 39/300 [00:08<00:44,  5.83it/s]\u001b[A\n",
            "Evaluation:  14%|█▎        | 41/300 [00:08<00:43,  5.96it/s]\u001b[A\n",
            "Evaluation:  14%|█▍        | 43/300 [00:09<01:03,  4.02it/s]\u001b[A\n",
            "Evaluation:  15%|█▌        | 46/300 [00:10<00:44,  5.72it/s]\u001b[A\n",
            "Evaluation:  16%|█▌        | 48/300 [00:10<00:53,  4.72it/s]\u001b[A\n",
            "Evaluation:  16%|█▋        | 49/300 [00:10<00:51,  4.92it/s]\u001b[A\n",
            "Evaluation:  17%|█▋        | 50/300 [00:11<01:09,  3.59it/s]\u001b[A\n",
            "Evaluation:  18%|█▊        | 53/300 [00:11<00:47,  5.21it/s]\u001b[A\n",
            "Evaluation:  19%|█▊        | 56/300 [00:11<00:37,  6.49it/s]\u001b[A\n",
            "Evaluation:  19%|█▉        | 57/300 [00:12<00:40,  5.93it/s]\u001b[A\n",
            "Evaluation:  19%|█▉        | 58/300 [00:12<00:58,  4.12it/s]\u001b[A\n",
            "Evaluation:  21%|██        | 62/300 [00:13<00:37,  6.30it/s]\u001b[A\n",
            "Evaluation:  21%|██▏       | 64/300 [00:13<00:43,  5.40it/s]\u001b[A\n",
            "Evaluation:  22%|██▏       | 65/300 [00:14<00:52,  4.45it/s]\u001b[A\n",
            "Evaluation:  22%|██▏       | 67/300 [00:14<00:43,  5.32it/s]\u001b[A\n",
            "Evaluation:  23%|██▎       | 68/300 [00:14<00:45,  5.10it/s]\u001b[A\n",
            "Evaluation:  23%|██▎       | 69/300 [00:14<00:41,  5.52it/s]\u001b[A\n",
            "Evaluation:  23%|██▎       | 70/300 [00:14<00:38,  6.04it/s]\u001b[A\n",
            "Evaluation:  24%|██▎       | 71/300 [00:15<00:58,  3.91it/s]\u001b[A\n",
            "Evaluation:  24%|██▍       | 73/300 [00:15<00:42,  5.36it/s]\u001b[A\n",
            "Evaluation:  25%|██▍       | 74/300 [00:15<00:45,  5.01it/s]\u001b[A\n",
            "Evaluation:  25%|██▌       | 76/300 [00:15<00:36,  6.16it/s]\u001b[A\n",
            "Evaluation:  26%|██▌       | 78/300 [00:16<00:39,  5.66it/s]\u001b[A\n",
            "Evaluation:  26%|██▋       | 79/300 [00:16<00:38,  5.80it/s]\u001b[A\n",
            "Evaluation:  27%|██▋       | 80/300 [00:16<00:53,  4.12it/s]\u001b[A\n",
            "Evaluation:  27%|██▋       | 81/300 [00:17<00:51,  4.22it/s]\u001b[A\n",
            "Evaluation:  27%|██▋       | 82/300 [00:17<01:00,  3.61it/s]\u001b[A\n",
            "Evaluation:  28%|██▊       | 84/300 [00:17<00:49,  4.35it/s]\u001b[A\n",
            "Evaluation:  29%|██▊       | 86/300 [00:18<01:08,  3.12it/s]\u001b[A\n",
            "Evaluation:  29%|██▉       | 88/300 [00:19<00:55,  3.85it/s]\u001b[A\n",
            "Evaluation:  30%|███       | 90/300 [00:19<00:40,  5.12it/s]\u001b[A\n",
            "Evaluation:  31%|███       | 92/300 [00:20<00:54,  3.85it/s]\u001b[A\n",
            "Evaluation:  31%|███▏      | 94/300 [00:20<00:43,  4.75it/s]\u001b[A\n",
            "Evaluation:  32%|███▏      | 96/300 [00:20<00:38,  5.36it/s]\u001b[A\n",
            "Evaluation:  33%|███▎      | 98/300 [00:20<00:37,  5.41it/s]\u001b[A\n",
            "Evaluation:  33%|███▎      | 99/300 [00:21<00:55,  3.65it/s]\u001b[A\n",
            "Evaluation:  34%|███▎      | 101/300 [00:21<00:43,  4.60it/s]\u001b[A\n",
            "Evaluation:  34%|███▍      | 103/300 [00:21<00:33,  5.92it/s]\u001b[A\n",
            "Evaluation:  35%|███▍      | 104/300 [00:22<00:36,  5.32it/s]\u001b[A\n",
            "Evaluation:  35%|███▌      | 106/300 [00:22<00:32,  5.90it/s]\u001b[A\n",
            "Evaluation:  36%|███▌      | 107/300 [00:23<00:50,  3.80it/s]\u001b[A\n",
            "Evaluation:  36%|███▌      | 108/300 [00:23<00:55,  3.47it/s]\u001b[A\n",
            "Evaluation:  36%|███▋      | 109/300 [00:23<00:47,  4.02it/s]\u001b[A\n",
            "Evaluation:  37%|███▋      | 110/300 [00:23<00:46,  4.11it/s]\u001b[A\n",
            "Evaluation:  38%|███▊      | 113/300 [00:23<00:27,  6.77it/s]\u001b[A\n",
            "Evaluation:  38%|███▊      | 114/300 [00:24<00:40,  4.59it/s]\u001b[A\n",
            "Evaluation:  38%|███▊      | 115/300 [00:25<01:01,  3.02it/s]\u001b[A\n",
            "Evaluation:  39%|███▊      | 116/300 [00:25<00:54,  3.39it/s]\u001b[A\n",
            "Evaluation:  39%|███▉      | 117/300 [00:25<00:45,  4.01it/s]\u001b[A\n",
            "Evaluation:  39%|███▉      | 118/300 [00:25<00:41,  4.34it/s]\u001b[A\n",
            "Evaluation:  40%|███▉      | 119/300 [00:25<00:39,  4.53it/s]\u001b[A\n",
            "Evaluation:  40%|████      | 120/300 [00:26<00:40,  4.42it/s]\u001b[A\n",
            "Evaluation:  41%|████      | 122/300 [00:26<00:26,  6.78it/s]\u001b[A\n",
            "Evaluation:  41%|████      | 123/300 [00:26<00:28,  6.32it/s]\u001b[A\n",
            "Evaluation:  42%|████▏     | 125/300 [00:26<00:28,  6.04it/s]\u001b[A\n",
            "Evaluation:  42%|████▏     | 126/300 [00:27<00:38,  4.52it/s]\u001b[A\n",
            "Evaluation:  43%|████▎     | 128/300 [00:27<00:32,  5.30it/s]\u001b[A\n",
            "Evaluation:  43%|████▎     | 130/300 [00:27<00:25,  6.67it/s]\u001b[A\n",
            "Evaluation:  44%|████▍     | 132/300 [00:27<00:26,  6.23it/s]\u001b[A\n",
            "Evaluation:  44%|████▍     | 133/300 [00:28<00:34,  4.84it/s]\u001b[A\n",
            "Evaluation:  45%|████▍     | 134/300 [00:28<00:30,  5.44it/s]\u001b[A\n",
            "Evaluation:  45%|████▌     | 135/300 [00:28<00:39,  4.22it/s]\u001b[A\n",
            "Evaluation:  46%|████▌     | 138/300 [00:29<00:27,  5.92it/s]\u001b[A\n",
            "Evaluation:  46%|████▋     | 139/300 [00:29<00:34,  4.72it/s]\u001b[A\n",
            "Evaluation:  47%|████▋     | 141/300 [00:29<00:29,  5.34it/s]\u001b[A\n",
            "Evaluation:  48%|████▊     | 144/300 [00:30<00:24,  6.28it/s]\u001b[A\n",
            "Evaluation:  48%|████▊     | 145/300 [00:30<00:39,  3.97it/s]\u001b[A\n",
            "Evaluation:  49%|████▉     | 148/300 [00:31<00:25,  5.98it/s]\u001b[A\n",
            "Evaluation:  50%|████▉     | 149/300 [00:31<00:23,  6.31it/s]\u001b[A\n",
            "Evaluation:  50%|█████     | 150/300 [00:31<00:27,  5.37it/s]\u001b[A\n",
            "Evaluation:  50%|█████     | 151/300 [00:31<00:34,  4.31it/s]\u001b[A\n",
            "Evaluation:  51%|█████     | 152/300 [00:32<00:29,  4.94it/s]\u001b[A\n",
            "Evaluation:  51%|█████     | 153/300 [00:32<00:29,  5.07it/s]\u001b[A\n",
            "Evaluation:  51%|█████▏    | 154/300 [00:32<00:28,  5.15it/s]\u001b[A\n",
            "Evaluation:  52%|█████▏    | 156/300 [00:32<00:26,  5.49it/s]\u001b[A\n",
            "Evaluation:  52%|█████▏    | 157/300 [00:32<00:28,  4.99it/s]\u001b[A\n",
            "Evaluation:  53%|█████▎    | 159/300 [00:33<00:20,  6.73it/s]\u001b[A\n",
            "Evaluation:  54%|█████▎    | 161/300 [00:33<00:25,  5.49it/s]\u001b[A\n",
            "Evaluation:  54%|█████▍    | 162/300 [00:33<00:25,  5.34it/s]\u001b[A\n",
            "Evaluation:  55%|█████▍    | 164/300 [00:33<00:20,  6.53it/s]\u001b[A\n",
            "Evaluation:  55%|█████▌    | 165/300 [00:34<00:24,  5.56it/s]\u001b[A\n",
            "Evaluation:  55%|█████▌    | 166/300 [00:34<00:22,  5.94it/s]\u001b[A\n",
            "Evaluation:  56%|█████▌    | 167/300 [00:34<00:29,  4.52it/s]\u001b[A\n",
            "Evaluation:  56%|█████▋    | 169/300 [00:35<00:27,  4.73it/s]\u001b[A\n",
            "Evaluation:  57%|█████▋    | 171/300 [00:35<00:21,  6.03it/s]\u001b[A\n",
            "Evaluation:  57%|█████▋    | 172/300 [00:35<00:22,  5.63it/s]\u001b[A\n",
            "Evaluation:  58%|█████▊    | 173/300 [00:35<00:29,  4.36it/s]\u001b[A\n",
            "Evaluation:  58%|█████▊    | 174/300 [00:36<00:33,  3.79it/s]\u001b[A\n",
            "Evaluation:  58%|█████▊    | 175/300 [00:36<00:27,  4.51it/s]\u001b[A\n",
            "Evaluation:  59%|█████▉    | 177/300 [00:36<00:25,  4.78it/s]\u001b[A\n",
            "Evaluation:  60%|█████▉    | 179/300 [00:37<00:25,  4.77it/s]\u001b[A\n",
            "Evaluation:  60%|██████    | 181/300 [00:37<00:28,  4.13it/s]\u001b[A\n",
            "Evaluation:  61%|██████    | 182/300 [00:38<00:29,  4.03it/s]\u001b[A\n",
            "Evaluation:  61%|██████    | 183/300 [00:38<00:27,  4.26it/s]\u001b[A\n",
            "Evaluation:  62%|██████▏   | 186/300 [00:38<00:17,  6.56it/s]\u001b[A\n",
            "Evaluation:  62%|██████▏   | 187/300 [00:38<00:17,  6.60it/s]\u001b[A\n",
            "Evaluation:  63%|██████▎   | 188/300 [00:38<00:21,  5.28it/s]\u001b[A\n",
            "Evaluation:  63%|██████▎   | 189/300 [00:39<00:23,  4.76it/s]\u001b[A\n",
            "Evaluation:  63%|██████▎   | 190/300 [00:39<00:27,  4.06it/s]\u001b[A\n",
            "Evaluation:  64%|██████▎   | 191/300 [00:39<00:24,  4.48it/s]\u001b[A\n",
            "Evaluation:  64%|██████▍   | 192/300 [00:40<00:24,  4.48it/s]\u001b[A\n",
            "Evaluation:  65%|██████▍   | 194/300 [00:40<00:18,  5.81it/s]\u001b[A\n",
            "Evaluation:  65%|██████▌   | 195/300 [00:40<00:26,  4.01it/s]\u001b[A\n",
            "Evaluation:  66%|██████▌   | 197/300 [00:40<00:20,  4.98it/s]\u001b[A\n",
            "Evaluation:  66%|██████▌   | 198/300 [00:41<00:20,  5.00it/s]\u001b[A\n",
            "Evaluation:  66%|██████▋   | 199/300 [00:41<00:20,  4.88it/s]\u001b[A\n",
            "Evaluation:  67%|██████▋   | 201/300 [00:41<00:21,  4.68it/s]\u001b[A\n",
            "Evaluation:  68%|██████▊   | 203/300 [00:42<00:18,  5.27it/s]\u001b[A\n",
            "Evaluation:  68%|██████▊   | 204/300 [00:42<00:22,  4.28it/s]\u001b[A\n",
            "Evaluation:  69%|██████▊   | 206/300 [00:42<00:18,  5.13it/s]\u001b[A\n",
            "Evaluation:  69%|██████▉   | 207/300 [00:43<00:19,  4.89it/s]\u001b[A\n",
            "Evaluation:  70%|██████▉   | 209/300 [00:43<00:13,  6.76it/s]\u001b[A\n",
            "Evaluation:  70%|███████   | 210/300 [00:43<00:16,  5.54it/s]\u001b[A\n",
            "Evaluation:  70%|███████   | 211/300 [00:43<00:21,  4.07it/s]\u001b[A\n",
            "Evaluation:  71%|███████   | 212/300 [00:44<00:22,  3.86it/s]\u001b[A\n",
            "Evaluation:  71%|███████   | 213/300 [00:44<00:24,  3.51it/s]\u001b[A\n",
            "Evaluation:  72%|███████▏  | 215/300 [00:44<00:15,  5.31it/s]\u001b[A\n",
            "Evaluation:  72%|███████▏  | 216/300 [00:44<00:16,  5.22it/s]\u001b[A\n",
            "Evaluation:  72%|███████▏  | 217/300 [00:45<00:14,  5.70it/s]\u001b[A\n",
            "Evaluation:  73%|███████▎  | 219/300 [00:45<00:14,  5.51it/s]\u001b[A\n",
            "Evaluation:  73%|███████▎  | 220/300 [00:46<00:23,  3.43it/s]\u001b[A\n",
            "Evaluation:  74%|███████▎  | 221/300 [00:46<00:19,  4.06it/s]\u001b[A\n",
            "Evaluation:  75%|███████▍  | 224/300 [00:46<00:12,  6.17it/s]\u001b[A\n",
            "Evaluation:  75%|███████▌  | 225/300 [00:46<00:13,  5.46it/s]\u001b[A\n",
            "Evaluation:  75%|███████▌  | 226/300 [00:47<00:16,  4.36it/s]\u001b[A\n",
            "Evaluation:  76%|███████▌  | 228/300 [00:47<00:12,  5.85it/s]\u001b[A\n",
            "Evaluation:  76%|███████▋  | 229/300 [00:47<00:13,  5.42it/s]\u001b[A\n",
            "Evaluation:  77%|███████▋  | 230/300 [00:47<00:12,  5.64it/s]\u001b[A\n",
            "Evaluation:  77%|███████▋  | 231/300 [00:48<00:15,  4.32it/s]\u001b[A\n",
            "Evaluation:  77%|███████▋  | 232/300 [00:48<00:15,  4.51it/s]\u001b[A\n",
            "Evaluation:  78%|███████▊  | 233/300 [00:48<00:13,  4.81it/s]\u001b[A\n",
            "Evaluation:  78%|███████▊  | 235/300 [00:48<00:11,  5.44it/s]\u001b[A\n",
            "Evaluation:  79%|███████▉  | 237/300 [00:48<00:09,  6.40it/s]\u001b[A\n",
            "Evaluation:  79%|███████▉  | 238/300 [00:49<00:12,  5.02it/s]\u001b[A\n",
            "Evaluation:  80%|███████▉  | 239/300 [00:49<00:12,  4.78it/s]\u001b[A\n",
            "Evaluation:  81%|████████  | 242/300 [00:49<00:08,  6.82it/s]\u001b[A\n",
            "Evaluation:  81%|████████▏ | 244/300 [00:50<00:09,  5.80it/s]\u001b[A\n",
            "Evaluation:  82%|████████▏ | 245/300 [00:50<00:09,  5.50it/s]\u001b[A\n",
            "Evaluation:  82%|████████▏ | 246/300 [00:50<00:11,  4.70it/s]\u001b[A\n",
            "Evaluation:  82%|████████▏ | 247/300 [00:50<00:10,  5.09it/s]\u001b[A\n",
            "Evaluation:  83%|████████▎ | 248/300 [00:51<00:09,  5.22it/s]\u001b[A\n",
            "Evaluation:  83%|████████▎ | 250/300 [00:51<00:08,  5.71it/s]\u001b[A\n",
            "Evaluation:  84%|████████▎ | 251/300 [00:51<00:12,  4.05it/s]\u001b[A\n",
            "Evaluation:  85%|████████▍ | 254/300 [00:52<00:09,  4.75it/s]\u001b[A\n",
            "Evaluation:  85%|████████▌ | 256/300 [00:52<00:09,  4.52it/s]\u001b[A\n",
            "Evaluation:  86%|████████▌ | 257/300 [00:53<00:08,  4.95it/s]\u001b[A\n",
            "Evaluation:  86%|████████▌ | 258/300 [00:53<00:08,  4.95it/s]\u001b[A\n",
            "Evaluation:  86%|████████▋ | 259/300 [00:53<00:08,  5.12it/s]\u001b[A\n",
            "Evaluation:  87%|████████▋ | 262/300 [00:54<00:08,  4.49it/s]\u001b[A\n",
            "Evaluation:  88%|████████▊ | 263/300 [00:54<00:09,  3.71it/s]\u001b[A\n",
            "Evaluation:  88%|████████▊ | 265/300 [00:54<00:07,  4.85it/s]\u001b[A\n",
            "Evaluation:  89%|████████▊ | 266/300 [00:54<00:06,  5.41it/s]\u001b[A\n",
            "Evaluation:  90%|████████▉ | 269/300 [00:55<00:05,  5.47it/s]\u001b[A\n",
            "Evaluation:  90%|█████████ | 270/300 [00:55<00:07,  4.04it/s]\u001b[A\n",
            "Evaluation:  90%|█████████ | 271/300 [00:56<00:06,  4.19it/s]\u001b[A\n",
            "Evaluation:  91%|█████████ | 272/300 [00:56<00:06,  4.60it/s]\u001b[A\n",
            "Evaluation:  92%|█████████▏| 276/300 [00:56<00:03,  7.10it/s]\u001b[A\n",
            "Evaluation:  92%|█████████▏| 277/300 [00:57<00:04,  5.51it/s]\u001b[A\n",
            "Evaluation:  93%|█████████▎| 278/300 [00:57<00:04,  4.86it/s]\u001b[A\n",
            "Evaluation:  93%|█████████▎| 279/300 [00:57<00:03,  5.39it/s]\u001b[A\n",
            "Evaluation:  93%|█████████▎| 280/300 [00:57<00:04,  4.14it/s]\u001b[A\n",
            "Evaluation:  94%|█████████▍| 282/300 [00:58<00:04,  4.43it/s]\u001b[A\n",
            "Evaluation:  95%|█████████▍| 284/300 [00:58<00:02,  5.82it/s]\u001b[A\n",
            "Evaluation:  95%|█████████▌| 285/300 [00:58<00:02,  6.18it/s]\u001b[A\n",
            "Evaluation:  95%|█████████▌| 286/300 [00:59<00:03,  4.27it/s]\u001b[A\n",
            "Evaluation:  96%|█████████▌| 288/300 [00:59<00:02,  5.26it/s]\u001b[A\n",
            "Evaluation:  96%|█████████▋| 289/300 [00:59<00:02,  3.90it/s]\u001b[A\n",
            "Evaluation:  97%|█████████▋| 290/300 [00:59<00:02,  4.53it/s]\u001b[A\n",
            "Evaluation:  97%|█████████▋| 291/300 [00:59<00:01,  5.19it/s]\u001b[A\n",
            "Evaluation:  97%|█████████▋| 292/300 [01:00<00:02,  3.54it/s]\u001b[A\n",
            "Evaluation:  98%|█████████▊| 293/300 [01:00<00:01,  4.03it/s]\u001b[A\n",
            "Evaluation:  98%|█████████▊| 295/300 [01:00<00:00,  5.60it/s]\u001b[A\n",
            "Evaluation:  99%|█████████▊| 296/300 [01:01<00:00,  4.91it/s]\u001b[A\n",
            "Evaluation:  99%|█████████▉| 297/300 [01:01<00:00,  4.91it/s]\u001b[A\n",
            "Evaluation:  99%|█████████▉| 298/300 [01:01<00:00,  4.37it/s]\u001b[A\n",
            "Evaluation: 100%|█████████▉| 299/300 [01:02<00:00,  2.20it/s]\u001b[A\n",
            "Evaluation: 100%|██████████| 300/300 [01:03<00:00,  4.74it/s]\n"
          ]
        },
        {
          "output_type": "display_data",
          "data": {
            "text/plain": [
              "╭─ hotpot-300 (300 samples) ─────────────╮\n",
              "│                                        │\n",
              "│ \u001b[1mTotal time:       \u001b[0m 00:01:03            │\n",
              "│ \u001b[1mNumber of samples:\u001b[0m 300                 │\n",
              "│                                        │\n",
              "│ \u001b[1;32mlevenshtein_ratio_metric: 0.1453 (avg)\u001b[0m │\n",
              "│                                        │\n",
              "╰────────────────────────────────────────╯\n"
            ],
            "text/html": [
              "<pre style=\"white-space:pre;overflow-x:auto;line-height:normal;font-family:Menlo,'DejaVu Sans Mono',consolas,'Courier New',monospace\">╭─ hotpot-300 (300 samples) ─────────────╮\n",
              "│                                        │\n",
              "│ <span style=\"font-weight: bold\">Total time:       </span> 00:01:03            │\n",
              "│ <span style=\"font-weight: bold\">Number of samples:</span> 300                 │\n",
              "│                                        │\n",
              "│ <span style=\"color: #008000; text-decoration-color: #008000; font-weight: bold\">levenshtein_ratio_metric: 0.1453 (avg)</span> │\n",
              "│                                        │\n",
              "╰────────────────────────────────────────╯\n",
              "</pre>\n"
            ]
          },
          "metadata": {}
        },
        {
          "output_type": "display_data",
          "data": {
            "text/plain": [
              "Uploading results to Opik \u001b[33m...\u001b[0m \n"
            ],
            "text/html": [
              "<pre style=\"white-space:pre;overflow-x:auto;line-height:normal;font-family:Menlo,'DejaVu Sans Mono',consolas,'Courier New',monospace\">Uploading results to Opik <span style=\"color: #808000; text-decoration-color: #808000\">...</span> \n",
              "</pre>\n"
            ]
          },
          "metadata": {}
        },
        {
          "output_type": "display_data",
          "data": {
            "text/plain": [
              "View the results \u001b]8;id=981461;https://www.comet.com/opik/api/v1/session/redirect/experiments/?experiment_id=01968c76-f28e-7720-ac8c-aa2edcb15b18&dataset_id=0195d400-52bc-7ac1-ae8e-74931512157f&path=aHR0cHM6Ly93d3cuY29tZXQuY29tL29waWsvYXBpLw==\u001b\\in your Opik dashboard\u001b]8;;\u001b\\.\n"
            ],
            "text/html": [
              "<pre style=\"white-space:pre;overflow-x:auto;line-height:normal;font-family:Menlo,'DejaVu Sans Mono',consolas,'Courier New',monospace\">View the results <a href=\"https://www.comet.com/opik/api/v1/session/redirect/experiments/?experiment_id=01968c76-f28e-7720-ac8c-aa2edcb15b18&dataset_id=0195d400-52bc-7ac1-ae8e-74931512157f&path=aHR0cHM6Ly93d3cuY29tZXQuY29tL29waWsvYXBpLw==\" target=\"_blank\">in your Opik dashboard</a>.\n",
              "</pre>\n"
            ]
          },
          "metadata": {}
        },
        {
          "output_type": "execute_result",
          "data": {
            "text/plain": [
              "0.14533818431262188"
            ]
          },
          "metadata": {},
          "execution_count": 27
        }
      ]
    },
    {
      "cell_type": "markdown",
      "source": [
        "The score 0.15 is pretty low. Let's see if we can optimize it!"
      ],
      "metadata": {
        "id": "wO6Dax5vQ1iY"
      }
    },
    {
      "cell_type": "markdown",
      "source": [
        "The FewShotBayesianOptimizer can, fairly quickly, create better prompts.\n",
        "\n",
        "Let's try it out. It takes exactly the same parameters as evaluate_prompt(), but will run for a minute or so."
      ],
      "metadata": {
        "id": "Tr9o0G-_2rg8"
      }
    },
    {
      "cell_type": "code",
      "source": [
        "result = optimizer.optimize_prompt(optimization_config, n_trials=3)"
      ],
      "metadata": {
        "colab": {
          "base_uri": "https://localhost:8080/",
          "height": 1000
        },
        "id": "6fRxnVXX0kqv",
        "outputId": "fcd27452-e01d-4b00-ddec-107ffd9d294f"
      },
      "execution_count": 28,
      "outputs": [
        {
          "output_type": "stream",
          "name": "stderr",
          "text": [
            "[I 2025-05-01 15:30:53,011] A new study created in memory with name: no-name-091bce25-dd58-4c57-8ee3-bb3781d5887d\n",
            "\n",
            "Evaluation:   0%|          | 0/300 [00:00<?, ?it/s]\u001b[A\n",
            "Evaluation:   0%|          | 1/300 [00:00<04:00,  1.24it/s]\u001b[A\n",
            "Evaluation:   1%|          | 2/300 [00:01<02:34,  1.92it/s]\u001b[A\n",
            "Evaluation:   1%|          | 3/300 [00:01<01:43,  2.86it/s]\u001b[A\n",
            "Evaluation:   2%|▏         | 6/300 [00:01<00:48,  6.03it/s]\u001b[A\n",
            "Evaluation:   3%|▎         | 8/300 [00:01<00:36,  7.98it/s]\u001b[A\n",
            "Evaluation:   3%|▎         | 10/300 [00:02<00:48,  5.98it/s]\u001b[A\n",
            "Evaluation:   4%|▍         | 12/300 [00:02<00:38,  7.39it/s]\u001b[A\n",
            "Evaluation:   5%|▍         | 14/300 [00:02<00:39,  7.28it/s]\u001b[A\n",
            "Evaluation:   5%|▌         | 16/300 [00:02<00:43,  6.53it/s]\u001b[A\n",
            "Evaluation:   6%|▌         | 18/300 [00:03<00:35,  7.91it/s]\u001b[A\n",
            "Evaluation:   7%|▋         | 20/300 [00:03<00:33,  8.26it/s]\u001b[A\n",
            "Evaluation:   7%|▋         | 21/300 [00:03<00:43,  6.36it/s]\u001b[A\n",
            "Evaluation:   7%|▋         | 22/300 [00:03<00:41,  6.65it/s]\u001b[A\n",
            "Evaluation:   8%|▊         | 25/300 [00:03<00:26, 10.25it/s]\u001b[A\n",
            "Evaluation:   9%|▉         | 27/300 [00:03<00:24, 11.23it/s]\u001b[A\n",
            "Evaluation:  10%|▉         | 29/300 [00:04<00:39,  6.95it/s]\u001b[A\n",
            "Evaluation:  10%|█         | 31/300 [00:04<00:35,  7.57it/s]\u001b[A\n",
            "Evaluation:  11%|█         | 33/300 [00:05<00:41,  6.49it/s]\u001b[A\n",
            "Evaluation:  12%|█▏        | 35/300 [00:05<00:34,  7.79it/s]\u001b[A\n",
            "Evaluation:  12%|█▏        | 37/300 [00:05<00:32,  8.07it/s]\u001b[A\n",
            "Evaluation:  13%|█▎        | 39/300 [00:05<00:35,  7.37it/s]\u001b[A\n",
            "Evaluation:  14%|█▎        | 41/300 [00:06<00:39,  6.63it/s]\u001b[A\n",
            "Evaluation:  14%|█▍        | 43/300 [00:06<00:32,  7.88it/s]\u001b[A\n",
            "Evaluation:  15%|█▍        | 44/300 [00:06<00:35,  7.24it/s]\u001b[A\n",
            "Evaluation:  15%|█▌        | 46/300 [00:06<00:33,  7.51it/s]\u001b[A\n",
            "Evaluation:  16%|█▌        | 48/300 [00:07<00:34,  7.30it/s]\u001b[A\n",
            "Evaluation:  17%|█▋        | 50/300 [00:07<00:29,  8.45it/s]\u001b[A\n",
            "Evaluation:  17%|█▋        | 52/300 [00:07<00:29,  8.43it/s]\u001b[A\n",
            "Evaluation:  18%|█▊        | 54/300 [00:07<00:24, 10.07it/s]\u001b[A\n",
            "Evaluation:  19%|█▊        | 56/300 [00:07<00:30,  8.13it/s]\u001b[A\n",
            "Evaluation:  19%|█▉        | 58/300 [00:08<00:31,  7.64it/s]\u001b[A\n",
            "Evaluation:  20%|██        | 61/300 [00:08<00:23, 10.07it/s]\u001b[A\n",
            "Evaluation:  21%|██        | 63/300 [00:08<00:29,  7.93it/s]\u001b[A\n",
            "Evaluation:  22%|██▏       | 65/300 [00:08<00:27,  8.68it/s]\u001b[A\n",
            "Evaluation:  22%|██▏       | 67/300 [00:09<00:23, 10.09it/s]\u001b[A\n",
            "Evaluation:  23%|██▎       | 69/300 [00:09<00:21, 10.60it/s]\u001b[A\n",
            "Evaluation:  24%|██▎       | 71/300 [00:09<00:30,  7.55it/s]\u001b[A\n",
            "Evaluation:  24%|██▍       | 72/300 [00:09<00:30,  7.48it/s]\u001b[A\n",
            "Evaluation:  25%|██▍       | 74/300 [00:09<00:25,  8.80it/s]\u001b[A\n",
            "Evaluation:  26%|██▌       | 77/300 [00:10<00:27,  8.13it/s]\u001b[A\n",
            "Evaluation:  26%|██▌       | 78/300 [00:10<00:29,  7.58it/s]\u001b[A\n",
            "Evaluation:  27%|██▋       | 80/300 [00:10<00:27,  7.86it/s]\u001b[A\n",
            "Evaluation:  27%|██▋       | 82/300 [00:10<00:23,  9.47it/s]\u001b[A\n",
            "Evaluation:  28%|██▊       | 84/300 [00:11<00:22,  9.59it/s]\u001b[A\n",
            "Evaluation:  29%|██▊       | 86/300 [00:11<00:23,  8.96it/s]\u001b[A\n",
            "Evaluation:  29%|██▉       | 88/300 [00:11<00:28,  7.36it/s]\u001b[A\n",
            "Evaluation:  30%|███       | 90/300 [00:11<00:24,  8.69it/s]\u001b[A\n",
            "Evaluation:  31%|███       | 92/300 [00:11<00:20,  9.99it/s]\u001b[A\n",
            "Evaluation:  31%|███▏      | 94/300 [00:12<00:29,  7.02it/s]\u001b[A\n",
            "Evaluation:  32%|███▏      | 95/300 [00:12<00:34,  6.03it/s]\u001b[A\n",
            "Evaluation:  33%|███▎      | 99/300 [00:12<00:19, 10.44it/s]\u001b[A\n",
            "Evaluation:  34%|███▎      | 101/300 [00:13<00:32,  6.05it/s]\u001b[A\n",
            "Evaluation:  34%|███▍      | 103/300 [00:13<00:28,  6.97it/s]\u001b[A\n",
            "Evaluation:  35%|███▌      | 106/300 [00:13<00:21,  8.99it/s]\u001b[A\n",
            "Evaluation:  36%|███▌      | 108/300 [00:14<00:28,  6.76it/s]\u001b[A\n",
            "Evaluation:  37%|███▋      | 110/300 [00:14<00:24,  7.63it/s]\u001b[A\n",
            "Evaluation:  37%|███▋      | 112/300 [00:14<00:22,  8.24it/s]\u001b[A\n",
            "Evaluation:  38%|███▊      | 114/300 [00:15<00:28,  6.64it/s]\u001b[A\n",
            "Evaluation:  38%|███▊      | 115/300 [00:15<00:27,  6.67it/s]\u001b[A\n",
            "Evaluation:  39%|███▉      | 118/300 [00:15<00:21,  8.40it/s]\u001b[A\n",
            "Evaluation:  40%|████      | 120/300 [00:16<00:26,  6.68it/s]\u001b[A\n",
            "Evaluation:  41%|████      | 122/300 [00:16<00:25,  7.05it/s]\u001b[A\n",
            "Evaluation:  42%|████▏     | 125/300 [00:16<00:20,  8.53it/s]\u001b[A\n",
            "Evaluation:  42%|████▏     | 126/300 [00:16<00:24,  7.05it/s]\u001b[A\n",
            "Evaluation:  43%|████▎     | 129/300 [00:17<00:21,  7.89it/s]\u001b[A\n",
            "Evaluation:  43%|████▎     | 130/300 [00:17<00:21,  7.91it/s]\u001b[A\n",
            "Evaluation:  44%|████▍     | 133/300 [00:17<00:20,  7.98it/s]\u001b[A\n",
            "Evaluation:  45%|████▌     | 135/300 [00:17<00:19,  8.26it/s]\u001b[A\n",
            "Evaluation:  45%|████▌     | 136/300 [00:17<00:20,  7.87it/s]\u001b[A\n",
            "Evaluation:  46%|████▌     | 137/300 [00:18<00:20,  7.83it/s]\u001b[A\n",
            "Evaluation:  47%|████▋     | 140/300 [00:18<00:15, 10.40it/s]\u001b[A\n",
            "Evaluation:  47%|████▋     | 142/300 [00:18<00:17,  9.27it/s]\u001b[A\n",
            "Evaluation:  48%|████▊     | 143/300 [00:18<00:21,  7.24it/s]\u001b[A\n",
            "Evaluation:  48%|████▊     | 144/300 [00:18<00:20,  7.47it/s]\u001b[A\n",
            "Evaluation:  49%|████▊     | 146/300 [00:19<00:21,  7.08it/s]\u001b[A\n",
            "Evaluation:  49%|████▉     | 148/300 [00:19<00:19,  7.96it/s]\u001b[A\n",
            "Evaluation:  50%|█████     | 150/300 [00:19<00:20,  7.38it/s]\u001b[A\n",
            "Evaluation:  51%|█████     | 153/300 [00:20<00:20,  7.20it/s]\u001b[A\n",
            "Evaluation:  52%|█████▏    | 155/300 [00:20<00:17,  8.08it/s]\u001b[A\n",
            "Evaluation:  52%|█████▏    | 156/300 [00:20<00:19,  7.50it/s]\u001b[A\n",
            "Evaluation:  52%|█████▏    | 157/300 [00:20<00:18,  7.82it/s]\u001b[A\n",
            "Evaluation:  53%|█████▎    | 159/300 [00:20<00:14,  9.89it/s]\u001b[A\n",
            "Evaluation:  54%|█████▎    | 161/300 [00:21<00:18,  7.54it/s]\u001b[A\n",
            "Evaluation:  54%|█████▍    | 162/300 [00:21<00:20,  6.88it/s]\u001b[A\n",
            "Evaluation:  54%|█████▍    | 163/300 [00:21<00:20,  6.66it/s]\u001b[A\n",
            "Evaluation:  55%|█████▍    | 164/300 [00:21<00:20,  6.49it/s]\u001b[A\n",
            "Evaluation:  55%|█████▌    | 166/300 [00:21<00:15,  8.46it/s]\u001b[A\n",
            "Evaluation:  56%|█████▌    | 168/300 [00:22<00:18,  7.17it/s]\u001b[A\n",
            "Evaluation:  56%|█████▋    | 169/300 [00:22<00:21,  6.23it/s]\u001b[A\n",
            "Evaluation:  57%|█████▋    | 170/300 [00:22<00:21,  6.00it/s]\u001b[A\n",
            "Evaluation:  57%|█████▋    | 171/300 [00:22<00:22,  5.70it/s]\u001b[A\n",
            "Evaluation:  58%|█████▊    | 173/300 [00:22<00:17,  7.19it/s]\u001b[A\n",
            "Evaluation:  58%|█████▊    | 174/300 [00:23<00:18,  6.79it/s]\u001b[A\n",
            "Evaluation:  59%|█████▊    | 176/300 [00:23<00:19,  6.47it/s]\u001b[A\n",
            "Evaluation:  59%|█████▉    | 178/300 [00:23<00:17,  6.85it/s]\u001b[A\n",
            "Evaluation:  60%|██████    | 181/300 [00:23<00:11, 10.31it/s]\u001b[A\n",
            "Evaluation:  61%|██████    | 183/300 [00:24<00:12,  9.61it/s]\u001b[A\n",
            "Evaluation:  62%|██████▏   | 185/300 [00:24<00:15,  7.29it/s]\u001b[A\n",
            "Evaluation:  63%|██████▎   | 188/300 [00:24<00:11,  9.85it/s]\u001b[A\n",
            "Evaluation:  63%|██████▎   | 190/300 [00:25<00:19,  5.77it/s]\u001b[A\n",
            "Evaluation:  65%|██████▍   | 194/300 [00:25<00:11,  8.95it/s]\u001b[A\n",
            "Evaluation:  65%|██████▌   | 196/300 [00:25<00:13,  7.68it/s]\u001b[A\n",
            "Evaluation:  66%|██████▌   | 198/300 [00:26<00:15,  6.74it/s]\u001b[A\n",
            "Evaluation:  67%|██████▋   | 200/300 [00:26<00:12,  7.95it/s]\u001b[A\n",
            "Evaluation:  67%|██████▋   | 202/300 [00:26<00:12,  7.94it/s]\u001b[A\n",
            "Evaluation:  68%|██████▊   | 204/300 [00:26<00:12,  7.51it/s]\u001b[A\n",
            "Evaluation:  68%|██████▊   | 205/300 [00:27<00:12,  7.55it/s]\u001b[A\n",
            "Evaluation:  69%|██████▊   | 206/300 [00:27<00:12,  7.81it/s]\u001b[A\n",
            "Evaluation:  69%|██████▉   | 207/300 [00:27<00:13,  6.82it/s]\u001b[A\n",
            "Evaluation:  70%|██████▉   | 209/300 [00:27<00:13,  6.59it/s]\u001b[A\n",
            "Evaluation:  71%|███████   | 212/300 [00:27<00:09,  8.88it/s]\u001b[A\n",
            "Evaluation:  71%|███████▏  | 214/300 [00:28<00:08,  9.59it/s]\u001b[A\n",
            "Evaluation:  72%|███████▏  | 216/300 [00:28<00:10,  8.15it/s]\u001b[A\n",
            "Evaluation:  72%|███████▏  | 217/300 [00:28<00:12,  6.58it/s]\u001b[A\n",
            "Evaluation:  73%|███████▎  | 218/300 [00:28<00:11,  7.01it/s]\u001b[A\n",
            "Evaluation:  73%|███████▎  | 220/300 [00:28<00:09,  8.54it/s]\u001b[A\n",
            "Evaluation:  74%|███████▍  | 222/300 [00:29<00:12,  6.22it/s]\u001b[A\n",
            "Evaluation:  74%|███████▍  | 223/300 [00:29<00:13,  5.68it/s]\u001b[A\n",
            "Evaluation:  75%|███████▍  | 224/300 [00:29<00:13,  5.75it/s]\u001b[A\n",
            "Evaluation:  75%|███████▌  | 226/300 [00:30<00:10,  6.88it/s]\u001b[A\n",
            "Evaluation:  76%|███████▌  | 227/300 [00:30<00:14,  5.08it/s]\u001b[A\n",
            "Evaluation:  76%|███████▋  | 229/300 [00:30<00:10,  6.64it/s]\u001b[A\n",
            "Evaluation:  77%|███████▋  | 230/300 [00:30<00:09,  7.06it/s]\u001b[A\n",
            "Evaluation:  77%|███████▋  | 232/300 [00:30<00:07,  8.87it/s]\u001b[A\n",
            "Evaluation:  78%|███████▊  | 234/300 [00:31<00:08,  7.57it/s]\u001b[A\n",
            "Evaluation:  78%|███████▊  | 235/300 [00:31<00:10,  6.22it/s]\u001b[A\n",
            "Evaluation:  79%|███████▉  | 237/300 [00:31<00:07,  8.22it/s]\u001b[A\n",
            "Evaluation:  80%|███████▉  | 239/300 [00:31<00:07,  8.71it/s]\u001b[A\n",
            "Evaluation:  80%|████████  | 241/300 [00:31<00:06,  8.95it/s]\u001b[A\n",
            "Evaluation:  81%|████████  | 243/300 [00:32<00:08,  6.84it/s]\u001b[A\n",
            "Evaluation:  81%|████████▏ | 244/300 [00:32<00:08,  6.95it/s]\u001b[A\n",
            "Evaluation:  82%|████████▏ | 246/300 [00:32<00:07,  6.95it/s]\u001b[A\n",
            "Evaluation:  83%|████████▎ | 250/300 [00:33<00:06,  7.36it/s]\u001b[A\n",
            "Evaluation:  84%|████████▎ | 251/300 [00:33<00:07,  6.92it/s]\u001b[A\n",
            "Evaluation:  84%|████████▍ | 252/300 [00:33<00:06,  7.15it/s]\u001b[A\n",
            "Evaluation:  84%|████████▍ | 253/300 [00:33<00:06,  6.77it/s]\u001b[A\n",
            "Evaluation:  85%|████████▌ | 255/300 [00:33<00:05,  8.78it/s]\u001b[A\n",
            "Evaluation:  86%|████████▌ | 257/300 [00:34<00:04, 10.52it/s]\u001b[A\n",
            "Evaluation:  86%|████████▋ | 259/300 [00:34<00:06,  6.73it/s]\u001b[A\n",
            "Evaluation:  87%|████████▋ | 260/300 [00:34<00:06,  6.08it/s]\u001b[A\n",
            "Evaluation:  88%|████████▊ | 263/300 [00:35<00:05,  7.24it/s]\u001b[A\n",
            "Evaluation:  88%|████████▊ | 265/300 [00:35<00:03,  8.85it/s]\u001b[A\n",
            "Evaluation:  89%|████████▉ | 267/300 [00:35<00:04,  7.81it/s]\u001b[A\n",
            "Evaluation:  90%|████████▉ | 269/300 [00:36<00:05,  6.10it/s]\u001b[A\n",
            "Evaluation:  91%|█████████ | 273/300 [00:36<00:02,  9.42it/s]\u001b[A\n",
            "Evaluation:  92%|█████████▏| 275/300 [00:36<00:02,  8.51it/s]\u001b[A\n",
            "Evaluation:  92%|█████████▏| 277/300 [00:36<00:03,  7.08it/s]\u001b[A\n",
            "Evaluation:  93%|█████████▎| 280/300 [00:37<00:02,  8.85it/s]\u001b[A\n",
            "Evaluation:  94%|█████████▍| 282/300 [00:37<00:01,  9.37it/s]\u001b[A\n",
            "Evaluation:  95%|█████████▍| 284/300 [00:37<00:02,  7.39it/s]\u001b[A\n",
            "Evaluation:  95%|█████████▌| 285/300 [00:37<00:02,  6.94it/s]\u001b[A\n",
            "Evaluation:  96%|█████████▌| 287/300 [00:38<00:01,  6.86it/s]\u001b[A\n",
            "Evaluation:  96%|█████████▋| 289/300 [00:38<00:01,  7.75it/s]\u001b[A\n",
            "Evaluation:  97%|█████████▋| 291/300 [00:38<00:00,  9.09it/s]\u001b[A\n",
            "Evaluation:  98%|█████████▊| 293/300 [00:39<00:01,  6.25it/s]\u001b[A\n",
            "Evaluation:  98%|█████████▊| 295/300 [00:39<00:00,  6.74it/s]\u001b[A\n",
            "Evaluation:  99%|█████████▉| 297/300 [00:39<00:00,  8.40it/s]\u001b[A\n",
            "Evaluation: 100%|██████████| 300/300 [00:39<00:00,  7.50it/s]\n"
          ]
        },
        {
          "output_type": "display_data",
          "data": {
            "text/plain": [
              "╭─ hotpot-300 (300 samples) ─────────────╮\n",
              "│                                        │\n",
              "│ \u001b[1mTotal time:       \u001b[0m 00:00:40            │\n",
              "│ \u001b[1mNumber of samples:\u001b[0m 300                 │\n",
              "│                                        │\n",
              "│ \u001b[1;32mlevenshtein_ratio_metric: 0.5314 (avg)\u001b[0m │\n",
              "│                                        │\n",
              "╰────────────────────────────────────────╯\n"
            ],
            "text/html": [
              "<pre style=\"white-space:pre;overflow-x:auto;line-height:normal;font-family:Menlo,'DejaVu Sans Mono',consolas,'Courier New',monospace\">╭─ hotpot-300 (300 samples) ─────────────╮\n",
              "│                                        │\n",
              "│ <span style=\"font-weight: bold\">Total time:       </span> 00:00:40            │\n",
              "│ <span style=\"font-weight: bold\">Number of samples:</span> 300                 │\n",
              "│                                        │\n",
              "│ <span style=\"color: #008000; text-decoration-color: #008000; font-weight: bold\">levenshtein_ratio_metric: 0.5314 (avg)</span> │\n",
              "│                                        │\n",
              "╰────────────────────────────────────────╯\n",
              "</pre>\n"
            ]
          },
          "metadata": {}
        },
        {
          "output_type": "display_data",
          "data": {
            "text/plain": [
              "Uploading results to Opik \u001b[33m...\u001b[0m \n"
            ],
            "text/html": [
              "<pre style=\"white-space:pre;overflow-x:auto;line-height:normal;font-family:Menlo,'DejaVu Sans Mono',consolas,'Courier New',monospace\">Uploading results to Opik <span style=\"color: #808000; text-decoration-color: #808000\">...</span> \n",
              "</pre>\n"
            ]
          },
          "metadata": {}
        },
        {
          "output_type": "display_data",
          "data": {
            "text/plain": [
              "View the results \u001b]8;id=26225;https://www.comet.com/opik/api/v1/session/redirect/experiments/?experiment_id=01968c78-ddd8-7f5a-bf09-24dd3ba4067e&dataset_id=0195d400-52bc-7ac1-ae8e-74931512157f&path=aHR0cHM6Ly93d3cuY29tZXQuY29tL29waWsvYXBpLw==\u001b\\in your Opik dashboard\u001b]8;;\u001b\\.\n"
            ],
            "text/html": [
              "<pre style=\"white-space:pre;overflow-x:auto;line-height:normal;font-family:Menlo,'DejaVu Sans Mono',consolas,'Courier New',monospace\">View the results <a href=\"https://www.comet.com/opik/api/v1/session/redirect/experiments/?experiment_id=01968c78-ddd8-7f5a-bf09-24dd3ba4067e&dataset_id=0195d400-52bc-7ac1-ae8e-74931512157f&path=aHR0cHM6Ly93d3cuY29tZXQuY29tL29waWsvYXBpLw==\" target=\"_blank\">in your Opik dashboard</a>.\n",
              "</pre>\n"
            ]
          },
          "metadata": {}
        },
        {
          "output_type": "stream",
          "name": "stderr",
          "text": [
            "[I 2025-05-01 15:31:37,114] Trial 0 finished with value: 0.5314112618205721 and parameters: {'n_examples': 8, 'example_0': 251, 'example_1': 15, 'example_2': 164, 'example_3': 11, 'example_4': 118, 'example_5': 141, 'example_6': 118, 'example_7': 157}. Best is trial 0 with value: 0.5314112618205721.\n",
            "\n",
            "Evaluation:   0%|          | 0/300 [00:00<?, ?it/s]\u001b[A\n",
            "Evaluation:   0%|          | 1/300 [00:00<03:47,  1.31it/s]\u001b[A\n",
            "Evaluation:   1%|▏         | 4/300 [00:00<00:51,  5.76it/s]\u001b[A\n",
            "Evaluation:   2%|▏         | 6/300 [00:01<00:42,  6.92it/s]\u001b[A\n",
            "Evaluation:   3%|▎         | 8/300 [00:01<00:42,  6.81it/s]\u001b[A\n",
            "Evaluation:   3%|▎         | 10/300 [00:01<00:46,  6.23it/s]\u001b[A\n",
            "Evaluation:   4%|▍         | 12/300 [00:01<00:38,  7.52it/s]\u001b[A\n",
            "Evaluation:   5%|▍         | 14/300 [00:02<00:40,  7.08it/s]\u001b[A\n",
            "Evaluation:   5%|▌         | 15/300 [00:02<00:39,  7.14it/s]\u001b[A\n",
            "Evaluation:   5%|▌         | 16/300 [00:02<00:40,  6.98it/s]\u001b[A\n",
            "Evaluation:   6%|▌         | 18/300 [00:02<00:40,  6.94it/s]\u001b[A\n",
            "Evaluation:   7%|▋         | 20/300 [00:03<00:38,  7.33it/s]\u001b[A\n",
            "Evaluation:   8%|▊         | 23/300 [00:03<00:34,  7.96it/s]\u001b[A\n",
            "Evaluation:   8%|▊         | 25/300 [00:03<00:32,  8.35it/s]\u001b[A\n",
            "Evaluation:   9%|▊         | 26/300 [00:03<00:38,  7.18it/s]\u001b[A\n",
            "Evaluation:   9%|▉         | 27/300 [00:03<00:36,  7.54it/s]\u001b[A\n",
            "Evaluation:   9%|▉         | 28/300 [00:04<00:36,  7.46it/s]\u001b[A\n",
            "Evaluation:  10%|▉         | 29/300 [00:04<00:37,  7.16it/s]\u001b[A\n",
            "Evaluation:  10%|█         | 31/300 [00:04<00:30,  8.84it/s]\u001b[A\n",
            "Evaluation:  11%|█         | 32/300 [00:04<00:37,  7.24it/s]\u001b[A\n",
            "Evaluation:  11%|█         | 33/300 [00:05<00:52,  5.08it/s]\u001b[A\n",
            "Evaluation:  12%|█▏        | 35/300 [00:05<00:36,  7.19it/s]\u001b[A\n",
            "Evaluation:  13%|█▎        | 38/300 [00:05<00:27,  9.54it/s]\u001b[A\n",
            "Evaluation:  13%|█▎        | 40/300 [00:05<00:34,  7.44it/s]\u001b[A\n",
            "Evaluation:  14%|█▎        | 41/300 [00:05<00:38,  6.69it/s]\u001b[A\n",
            "Evaluation:  14%|█▍        | 42/300 [00:06<00:37,  6.95it/s]\u001b[A\n",
            "Evaluation:  14%|█▍        | 43/300 [00:06<00:38,  6.65it/s]\u001b[A\n",
            "Evaluation:  15%|█▌        | 45/300 [00:06<00:29,  8.66it/s]\u001b[A\n",
            "Evaluation:  16%|█▌        | 47/300 [00:06<00:27,  9.06it/s]\u001b[A\n",
            "Evaluation:  16%|█▌        | 48/300 [00:06<00:39,  6.31it/s]\u001b[A\n",
            "Evaluation:  17%|█▋        | 50/300 [00:07<00:30,  8.09it/s]\u001b[A\n",
            "Evaluation:  17%|█▋        | 52/300 [00:07<00:32,  7.66it/s]\u001b[A\n",
            "Evaluation:  18%|█▊        | 54/300 [00:07<00:31,  7.72it/s]\u001b[A\n",
            "Evaluation:  18%|█▊        | 55/300 [00:07<00:32,  7.60it/s]\u001b[A\n",
            "Evaluation:  19%|█▉        | 57/300 [00:07<00:28,  8.40it/s]\u001b[A\n",
            "Evaluation:  19%|█▉        | 58/300 [00:08<00:28,  8.49it/s]\u001b[A\n",
            "Evaluation:  20%|█▉        | 59/300 [00:08<00:32,  7.41it/s]\u001b[A\n",
            "Evaluation:  20%|██        | 61/300 [00:08<00:33,  7.14it/s]\u001b[A\n",
            "Evaluation:  21%|██        | 63/300 [00:08<00:33,  7.09it/s]\u001b[A\n",
            "Evaluation:  21%|██▏       | 64/300 [00:08<00:32,  7.30it/s]\u001b[A\n",
            "Evaluation:  22%|██▏       | 66/300 [00:09<00:27,  8.60it/s]\u001b[A\n",
            "Evaluation:  22%|██▏       | 67/300 [00:09<00:30,  7.76it/s]\u001b[A\n",
            "Evaluation:  23%|██▎       | 68/300 [00:09<00:33,  6.92it/s]\u001b[A\n",
            "Evaluation:  23%|██▎       | 69/300 [00:09<00:36,  6.32it/s]\u001b[A\n",
            "Evaluation:  24%|██▎       | 71/300 [00:09<00:31,  7.20it/s]\u001b[A\n",
            "Evaluation:  24%|██▍       | 73/300 [00:10<00:29,  7.77it/s]\u001b[A\n",
            "Evaluation:  25%|██▌       | 76/300 [00:10<00:27,  8.09it/s]\u001b[A\n",
            "Evaluation:  26%|██▌       | 78/300 [00:10<00:25,  8.79it/s]\u001b[A\n",
            "Evaluation:  26%|██▋       | 79/300 [00:10<00:26,  8.22it/s]\u001b[A\n",
            "Evaluation:  27%|██▋       | 80/300 [00:10<00:27,  8.12it/s]\u001b[A\n",
            "Evaluation:  27%|██▋       | 81/300 [00:11<00:26,  8.22it/s]\u001b[A\n",
            "Evaluation:  28%|██▊       | 83/300 [00:11<00:29,  7.34it/s]\u001b[A\n",
            "Evaluation:  28%|██▊       | 84/300 [00:11<00:29,  7.31it/s]\u001b[A\n",
            "Evaluation:  29%|██▊       | 86/300 [00:11<00:26,  8.05it/s]\u001b[A\n",
            "Evaluation:  29%|██▉       | 87/300 [00:11<00:28,  7.48it/s]\u001b[A\n",
            "Evaluation:  30%|███       | 91/300 [00:12<00:24,  8.51it/s]\u001b[A\n",
            "Evaluation:  31%|███       | 92/300 [00:12<00:27,  7.50it/s]\u001b[A\n",
            "Evaluation:  31%|███▏      | 94/300 [00:12<00:30,  6.84it/s]\u001b[A\n",
            "Evaluation:  33%|███▎      | 98/300 [00:13<00:20,  9.73it/s]\u001b[A\n",
            "Evaluation:  33%|███▎      | 100/300 [00:13<00:22,  8.96it/s]\u001b[A\n",
            "Evaluation:  34%|███▍      | 102/300 [00:13<00:26,  7.42it/s]\u001b[A\n",
            "Evaluation:  34%|███▍      | 103/300 [00:13<00:26,  7.38it/s]\u001b[A\n",
            "Evaluation:  35%|███▌      | 106/300 [00:14<00:22,  8.81it/s]\u001b[A\n",
            "Evaluation:  36%|███▌      | 108/300 [00:14<00:19, 10.09it/s]\u001b[A\n",
            "Evaluation:  37%|███▋      | 110/300 [00:14<00:23,  7.95it/s]\u001b[A\n",
            "Evaluation:  37%|███▋      | 111/300 [00:14<00:27,  6.98it/s]\u001b[A\n",
            "Evaluation:  38%|███▊      | 114/300 [00:15<00:23,  8.05it/s]\u001b[A\n",
            "Evaluation:  39%|███▉      | 117/300 [00:15<00:20,  9.05it/s]\u001b[A\n",
            "Evaluation:  39%|███▉      | 118/300 [00:15<00:21,  8.51it/s]\u001b[A\n",
            "Evaluation:  40%|███▉      | 119/300 [00:15<00:21,  8.35it/s]\u001b[A\n",
            "Evaluation:  40%|████      | 121/300 [00:15<00:19,  9.15it/s]\u001b[A\n",
            "Evaluation:  41%|████      | 122/300 [00:16<00:27,  6.42it/s]\u001b[A\n",
            "Evaluation:  41%|████      | 123/300 [00:16<00:26,  6.77it/s]\u001b[A\n",
            "Evaluation:  41%|████▏     | 124/300 [00:16<00:24,  7.33it/s]\u001b[A\n",
            "Evaluation:  42%|████▏     | 125/300 [00:16<00:22,  7.77it/s]\u001b[A\n",
            "Evaluation:  42%|████▏     | 126/300 [00:16<00:25,  6.93it/s]\u001b[A\n",
            "Evaluation:  43%|████▎     | 129/300 [00:17<00:23,  7.13it/s]\u001b[A\n",
            "Evaluation:  44%|████▎     | 131/300 [00:17<00:20,  8.42it/s]\u001b[A\n",
            "Evaluation:  44%|████▍     | 133/300 [00:17<00:16,  9.85it/s]\u001b[A\n",
            "Evaluation:  45%|████▌     | 135/300 [00:17<00:19,  8.27it/s]\u001b[A\n",
            "Evaluation:  46%|████▌     | 137/300 [00:17<00:18,  8.98it/s]\u001b[A\n",
            "Evaluation:  46%|████▋     | 139/300 [00:18<00:21,  7.46it/s]\u001b[A\n",
            "Evaluation:  47%|████▋     | 141/300 [00:18<00:17,  9.21it/s]\u001b[A\n",
            "Evaluation:  48%|████▊     | 143/300 [00:18<00:20,  7.57it/s]\u001b[A\n",
            "Evaluation:  48%|████▊     | 145/300 [00:18<00:18,  8.16it/s]\u001b[A\n",
            "Evaluation:  49%|████▊     | 146/300 [00:19<00:18,  8.38it/s]\u001b[A\n",
            "Evaluation:  49%|████▉     | 148/300 [00:19<00:15,  9.65it/s]\u001b[A\n",
            "Evaluation:  50%|█████     | 151/300 [00:19<00:21,  7.07it/s]\u001b[A\n",
            "Evaluation:  51%|█████     | 152/300 [00:19<00:21,  6.85it/s]\u001b[A\n",
            "Evaluation:  52%|█████▏    | 155/300 [00:20<00:14,  9.89it/s]\u001b[A\n",
            "Evaluation:  52%|█████▏    | 157/300 [00:20<00:14,  9.90it/s]\u001b[A\n",
            "Evaluation:  53%|█████▎    | 159/300 [00:20<00:23,  5.90it/s]\u001b[A\n",
            "Evaluation:  54%|█████▍    | 162/300 [00:21<00:16,  8.37it/s]\u001b[A\n",
            "Evaluation:  55%|█████▍    | 164/300 [00:21<00:19,  6.90it/s]\u001b[A\n",
            "Evaluation:  55%|█████▌    | 166/300 [00:21<00:18,  7.09it/s]\u001b[A\n",
            "Evaluation:  56%|█████▋    | 169/300 [00:22<00:16,  8.00it/s]\u001b[A\n",
            "Evaluation:  57%|█████▋    | 172/300 [00:22<00:15,  8.26it/s]\u001b[A\n",
            "Evaluation:  58%|█████▊    | 173/300 [00:22<00:15,  8.19it/s]\u001b[A\n",
            "Evaluation:  58%|█████▊    | 175/300 [00:22<00:17,  7.23it/s]\u001b[A\n",
            "Evaluation:  59%|█████▉    | 177/300 [00:23<00:14,  8.40it/s]\u001b[A\n",
            "Evaluation:  59%|█████▉    | 178/300 [00:23<00:18,  6.62it/s]\u001b[A\n",
            "Evaluation:  60%|██████    | 181/300 [00:23<00:12,  9.86it/s]\u001b[A\n",
            "Evaluation:  61%|██████    | 183/300 [00:23<00:13,  8.36it/s]\u001b[A\n",
            "Evaluation:  62%|██████▏   | 185/300 [00:23<00:13,  8.78it/s]\u001b[A\n",
            "Evaluation:  62%|██████▏   | 187/300 [00:24<00:14,  7.56it/s]\u001b[A\n",
            "Evaluation:  63%|██████▎   | 189/300 [00:24<00:12,  8.63it/s]\u001b[A\n",
            "Evaluation:  64%|██████▎   | 191/300 [00:25<00:18,  5.97it/s]\u001b[A\n",
            "Evaluation:  64%|██████▍   | 192/300 [00:25<00:17,  6.15it/s]\u001b[A\n",
            "Evaluation:  65%|██████▌   | 195/300 [00:25<00:12,  8.65it/s]\u001b[A\n",
            "Evaluation:  66%|██████▌   | 197/300 [00:25<00:13,  7.77it/s]\u001b[A\n",
            "Evaluation:  66%|██████▋   | 199/300 [00:25<00:12,  8.11it/s]\u001b[A\n",
            "Evaluation:  67%|██████▋   | 200/300 [00:26<00:14,  6.75it/s]\u001b[A\n",
            "Evaluation:  68%|██████▊   | 203/300 [00:26<00:10,  9.22it/s]\u001b[A\n",
            "Evaluation:  69%|██████▊   | 206/300 [00:26<00:10,  8.60it/s]\u001b[A\n",
            "Evaluation:  69%|██████▉   | 207/300 [00:27<00:13,  6.99it/s]\u001b[A\n",
            "Evaluation:  70%|███████   | 210/300 [00:27<00:10,  8.60it/s]\u001b[A\n",
            "Evaluation:  71%|███████   | 213/300 [00:27<00:08, 10.36it/s]\u001b[A\n",
            "Evaluation:  72%|███████▏  | 215/300 [00:27<00:11,  7.35it/s]\u001b[A\n",
            "Evaluation:  72%|███████▏  | 217/300 [00:28<00:09,  8.46it/s]\u001b[A\n",
            "Evaluation:  73%|███████▎  | 219/300 [00:28<00:08,  9.05it/s]\u001b[A\n",
            "Evaluation:  74%|███████▎  | 221/300 [00:28<00:08,  9.58it/s]\u001b[A\n",
            "Evaluation:  74%|███████▍  | 223/300 [00:28<00:09,  7.86it/s]\u001b[A\n",
            "Evaluation:  75%|███████▍  | 224/300 [00:28<00:10,  7.26it/s]\u001b[A\n",
            "Evaluation:  75%|███████▌  | 226/300 [00:29<00:08,  8.67it/s]\u001b[A\n",
            "Evaluation:  76%|███████▌  | 228/300 [00:29<00:08,  8.92it/s]\u001b[A\n",
            "Evaluation:  77%|███████▋  | 230/300 [00:29<00:07,  9.84it/s]\u001b[A\n",
            "Evaluation:  77%|███████▋  | 232/300 [00:29<00:09,  7.34it/s]\u001b[A\n",
            "Evaluation:  78%|███████▊  | 235/300 [00:30<00:07,  9.14it/s]\u001b[A\n",
            "Evaluation:  79%|███████▉  | 237/300 [00:30<00:05, 10.53it/s]\u001b[A\n",
            "Evaluation:  80%|███████▉  | 239/300 [00:30<00:07,  8.65it/s]\u001b[A\n",
            "Evaluation:  80%|████████  | 241/300 [00:30<00:07,  7.85it/s]\u001b[A\n",
            "Evaluation:  81%|████████  | 242/300 [00:31<00:07,  7.65it/s]\u001b[A\n",
            "Evaluation:  81%|████████  | 243/300 [00:31<00:07,  7.46it/s]\u001b[A\n",
            "Evaluation:  82%|████████▏ | 245/300 [00:31<00:06,  8.93it/s]\u001b[A\n",
            "Evaluation:  82%|████████▏ | 247/300 [00:31<00:06,  8.68it/s]\u001b[A\n",
            "Evaluation:  83%|████████▎ | 248/300 [00:31<00:06,  8.09it/s]\u001b[A\n",
            "Evaluation:  83%|████████▎ | 250/300 [00:32<00:07,  6.68it/s]\u001b[A\n",
            "Evaluation:  84%|████████▍ | 252/300 [00:32<00:05,  8.56it/s]\u001b[A\n",
            "Evaluation:  85%|████████▍ | 254/300 [00:32<00:06,  6.65it/s]\u001b[A\n",
            "Evaluation:  86%|████████▌ | 257/300 [00:32<00:04,  8.89it/s]\u001b[A\n",
            "Evaluation:  86%|████████▋ | 259/300 [00:33<00:05,  7.21it/s]\u001b[A\n",
            "Evaluation:  87%|████████▋ | 261/300 [00:33<00:06,  6.43it/s]\u001b[A\n",
            "Evaluation:  88%|████████▊ | 263/300 [00:33<00:04,  7.99it/s]\u001b[A\n",
            "Evaluation:  88%|████████▊ | 265/300 [00:33<00:04,  8.56it/s]\u001b[A\n",
            "Evaluation:  89%|████████▉ | 267/300 [00:34<00:05,  6.38it/s]\u001b[A\n",
            "Evaluation:  90%|████████▉ | 269/300 [00:34<00:04,  7.27it/s]\u001b[A\n",
            "Evaluation:  90%|█████████ | 270/300 [00:34<00:03,  7.62it/s]\u001b[A\n",
            "Evaluation:  91%|█████████▏| 274/300 [00:35<00:02,  9.06it/s]\u001b[A\n",
            "Evaluation:  92%|█████████▏| 276/300 [00:35<00:03,  7.59it/s]\u001b[A\n",
            "Evaluation:  93%|█████████▎| 278/300 [00:35<00:02,  8.14it/s]\u001b[A\n",
            "Evaluation:  93%|█████████▎| 279/300 [00:35<00:02,  7.89it/s]\u001b[A\n",
            "Evaluation:  94%|█████████▎| 281/300 [00:35<00:02,  9.25it/s]\u001b[A\n",
            "Evaluation:  94%|█████████▍| 283/300 [00:36<00:01,  9.46it/s]\u001b[A\n",
            "Evaluation:  95%|█████████▌| 285/300 [00:36<00:02,  6.54it/s]\u001b[A\n",
            "Evaluation:  96%|█████████▌| 287/300 [00:36<00:01,  7.71it/s]\u001b[A\n",
            "Evaluation:  96%|█████████▋| 289/300 [00:37<00:01,  8.79it/s]\u001b[A\n",
            "Evaluation:  97%|█████████▋| 291/300 [00:37<00:00, 10.53it/s]\u001b[A\n",
            "Evaluation:  98%|█████████▊| 293/300 [00:37<00:01,  6.08it/s]\u001b[A\n",
            "Evaluation:  99%|█████████▊| 296/300 [00:37<00:00,  8.72it/s]\u001b[A\n",
            "Evaluation:  99%|█████████▉| 298/300 [00:37<00:00,  9.65it/s]\u001b[A\n",
            "Evaluation: 100%|██████████| 300/300 [00:38<00:00,  7.70it/s]\n"
          ]
        },
        {
          "output_type": "display_data",
          "data": {
            "text/plain": [
              "╭─ hotpot-300 (300 samples) ─────────────╮\n",
              "│                                        │\n",
              "│ \u001b[1mTotal time:       \u001b[0m 00:00:39            │\n",
              "│ \u001b[1mNumber of samples:\u001b[0m 300                 │\n",
              "│                                        │\n",
              "│ \u001b[1;32mlevenshtein_ratio_metric: 0.5373 (avg)\u001b[0m │\n",
              "│                                        │\n",
              "╰────────────────────────────────────────╯\n"
            ],
            "text/html": [
              "<pre style=\"white-space:pre;overflow-x:auto;line-height:normal;font-family:Menlo,'DejaVu Sans Mono',consolas,'Courier New',monospace\">╭─ hotpot-300 (300 samples) ─────────────╮\n",
              "│                                        │\n",
              "│ <span style=\"font-weight: bold\">Total time:       </span> 00:00:39            │\n",
              "│ <span style=\"font-weight: bold\">Number of samples:</span> 300                 │\n",
              "│                                        │\n",
              "│ <span style=\"color: #008000; text-decoration-color: #008000; font-weight: bold\">levenshtein_ratio_metric: 0.5373 (avg)</span> │\n",
              "│                                        │\n",
              "╰────────────────────────────────────────╯\n",
              "</pre>\n"
            ]
          },
          "metadata": {}
        },
        {
          "output_type": "display_data",
          "data": {
            "text/plain": [
              "Uploading results to Opik \u001b[33m...\u001b[0m \n"
            ],
            "text/html": [
              "<pre style=\"white-space:pre;overflow-x:auto;line-height:normal;font-family:Menlo,'DejaVu Sans Mono',consolas,'Courier New',monospace\">Uploading results to Opik <span style=\"color: #808000; text-decoration-color: #808000\">...</span> \n",
              "</pre>\n"
            ]
          },
          "metadata": {}
        },
        {
          "output_type": "display_data",
          "data": {
            "text/plain": [
              "View the results \u001b]8;id=256787;https://www.comet.com/opik/api/v1/session/redirect/experiments/?experiment_id=01968c79-8afb-7796-a414-0c80d4df3aac&dataset_id=0195d400-52bc-7ac1-ae8e-74931512157f&path=aHR0cHM6Ly93d3cuY29tZXQuY29tL29waWsvYXBpLw==\u001b\\in your Opik dashboard\u001b]8;;\u001b\\.\n"
            ],
            "text/html": [
              "<pre style=\"white-space:pre;overflow-x:auto;line-height:normal;font-family:Menlo,'DejaVu Sans Mono',consolas,'Courier New',monospace\">View the results <a href=\"https://www.comet.com/opik/api/v1/session/redirect/experiments/?experiment_id=01968c79-8afb-7796-a414-0c80d4df3aac&dataset_id=0195d400-52bc-7ac1-ae8e-74931512157f&path=aHR0cHM6Ly93d3cuY29tZXQuY29tL29waWsvYXBpLw==\" target=\"_blank\">in your Opik dashboard</a>.\n",
              "</pre>\n"
            ]
          },
          "metadata": {}
        },
        {
          "output_type": "stream",
          "name": "stderr",
          "text": [
            "[I 2025-05-01 15:32:19,474] Trial 1 finished with value: 0.5372766641460849 and parameters: {'n_examples': 8, 'example_0': 294, 'example_1': 85, 'example_2': 232, 'example_3': 171, 'example_4': 104, 'example_5': 40, 'example_6': 57, 'example_7': 282}. Best is trial 1 with value: 0.5372766641460849.\n",
            "\n",
            "Evaluation:   0%|          | 0/300 [00:00<?, ?it/s]\u001b[A\n",
            "Evaluation:   0%|          | 1/300 [00:00<04:06,  1.21it/s]\u001b[A\n",
            "Evaluation:   2%|▏         | 6/300 [00:00<00:35,  8.18it/s]\u001b[A\n",
            "Evaluation:   3%|▎         | 9/300 [00:01<00:53,  5.43it/s]\u001b[A\n",
            "Evaluation:   4%|▎         | 11/300 [00:01<00:42,  6.81it/s]\u001b[A\n",
            "Evaluation:   4%|▍         | 13/300 [00:02<00:38,  7.38it/s]\u001b[A\n",
            "Evaluation:   5%|▌         | 16/300 [00:02<00:30,  9.27it/s]\u001b[A\n",
            "Evaluation:   6%|▌         | 18/300 [00:02<00:39,  7.08it/s]\u001b[A\n",
            "Evaluation:   7%|▋         | 20/300 [00:02<00:37,  7.53it/s]\u001b[A\n",
            "Evaluation:   7%|▋         | 22/300 [00:03<00:34,  8.17it/s]\u001b[A\n",
            "Evaluation:   8%|▊         | 24/300 [00:03<00:35,  7.83it/s]\u001b[A\n",
            "Evaluation:   8%|▊         | 25/300 [00:03<00:40,  6.83it/s]\u001b[A\n",
            "Evaluation:   9%|▉         | 27/300 [00:04<00:50,  5.41it/s]\u001b[A\n",
            "Evaluation:  10%|▉         | 29/300 [00:04<00:48,  5.61it/s]\u001b[A\n",
            "Evaluation:  10%|█         | 30/300 [00:04<00:47,  5.68it/s]\u001b[A\n",
            "Evaluation:  10%|█         | 31/300 [00:04<00:49,  5.45it/s]\u001b[A\n",
            "Evaluation:  11%|█         | 33/300 [00:05<00:37,  7.08it/s]\u001b[A\n",
            "Evaluation:  12%|█▏        | 35/300 [00:05<00:35,  7.54it/s]\u001b[A\n",
            "Evaluation:  12%|█▏        | 36/300 [00:05<00:33,  7.77it/s]\u001b[A\n",
            "Evaluation:  12%|█▏        | 37/300 [00:05<00:37,  7.01it/s]\u001b[A\n",
            "Evaluation:  13%|█▎        | 39/300 [00:05<00:36,  7.24it/s]\u001b[A\n",
            "Evaluation:  13%|█▎        | 40/300 [00:05<00:35,  7.35it/s]\u001b[A\n",
            "Evaluation:  14%|█▍        | 42/300 [00:06<00:30,  8.44it/s]\u001b[A\n",
            "Evaluation:  14%|█▍        | 43/300 [00:06<00:29,  8.63it/s]\u001b[A\n",
            "Evaluation:  15%|█▌        | 45/300 [00:06<00:34,  7.31it/s]\u001b[A\n",
            "Evaluation:  15%|█▌        | 46/300 [00:06<00:38,  6.59it/s]\u001b[A\n",
            "Evaluation:  16%|█▌        | 47/300 [00:07<00:41,  6.16it/s]\u001b[A\n",
            "Evaluation:  17%|█▋        | 50/300 [00:07<00:28,  8.90it/s]\u001b[A\n",
            "Evaluation:  18%|█▊        | 53/300 [00:07<00:21, 11.41it/s]\u001b[A\n",
            "Evaluation:  18%|█▊        | 55/300 [00:07<00:35,  6.87it/s]\u001b[A\n",
            "Evaluation:  19%|█▊        | 56/300 [00:08<00:34,  6.98it/s]\u001b[A\n",
            "Evaluation:  19%|█▉        | 57/300 [00:08<00:35,  6.81it/s]\u001b[A\n",
            "Evaluation:  20%|██        | 61/300 [00:08<00:21, 11.20it/s]\u001b[A\n",
            "Evaluation:  21%|██        | 63/300 [00:08<00:34,  6.86it/s]\u001b[A\n",
            "Evaluation:  22%|██▏       | 65/300 [00:09<00:34,  6.81it/s]\u001b[A\n",
            "Evaluation:  23%|██▎       | 68/300 [00:09<00:31,  7.45it/s]\u001b[A\n",
            "Evaluation:  23%|██▎       | 70/300 [00:09<00:27,  8.22it/s]\u001b[A\n",
            "Evaluation:  24%|██▎       | 71/300 [00:09<00:31,  7.33it/s]\u001b[A\n",
            "Evaluation:  24%|██▍       | 72/300 [00:10<00:33,  6.86it/s]\u001b[A\n",
            "Evaluation:  25%|██▍       | 74/300 [00:10<00:34,  6.62it/s]\u001b[A\n",
            "Evaluation:  25%|██▌       | 76/300 [00:10<00:26,  8.49it/s]\u001b[A\n",
            "Evaluation:  26%|██▌       | 78/300 [00:11<00:40,  5.49it/s]\u001b[A\n",
            "Evaluation:  26%|██▋       | 79/300 [00:11<00:37,  5.87it/s]\u001b[A\n",
            "Evaluation:  27%|██▋       | 81/300 [00:11<00:28,  7.65it/s]\u001b[A\n",
            "Evaluation:  28%|██▊       | 83/300 [00:11<00:30,  7.15it/s]\u001b[A\n",
            "Evaluation:  28%|██▊       | 84/300 [00:12<00:34,  6.24it/s]\u001b[A\n",
            "Evaluation:  28%|██▊       | 85/300 [00:12<00:33,  6.48it/s]\u001b[A\n",
            "Evaluation:  29%|██▊       | 86/300 [00:12<00:31,  6.78it/s]\u001b[A\n",
            "Evaluation:  29%|██▉       | 88/300 [00:12<00:25,  8.24it/s]\u001b[A\n",
            "Evaluation:  30%|███       | 90/300 [00:12<00:24,  8.44it/s]\u001b[A\n",
            "Evaluation:  31%|███       | 92/300 [00:12<00:23,  8.85it/s]\u001b[A\n",
            "Evaluation:  31%|███       | 93/300 [00:12<00:23,  9.00it/s]\u001b[A\n",
            "Evaluation:  31%|███▏      | 94/300 [00:13<00:32,  6.37it/s]\u001b[A\n",
            "Evaluation:  32%|███▏      | 96/300 [00:13<00:25,  8.08it/s]\u001b[A\n",
            "Evaluation:  33%|███▎      | 98/300 [00:13<00:23,  8.78it/s]\u001b[A\n",
            "Evaluation:  33%|███▎      | 99/300 [00:13<00:30,  6.53it/s]\u001b[A\n",
            "Evaluation:  34%|███▎      | 101/300 [00:14<00:41,  4.84it/s]\u001b[A\n",
            "Evaluation:  35%|███▍      | 104/300 [00:14<00:33,  5.93it/s]\u001b[A\n",
            "Evaluation:  36%|███▌      | 107/300 [00:15<00:32,  5.98it/s]\u001b[A\n",
            "Evaluation:  37%|███▋      | 110/300 [00:15<00:23,  7.98it/s]\u001b[A\n",
            "Evaluation:  37%|███▋      | 112/300 [00:15<00:24,  7.60it/s]\u001b[A\n",
            "Evaluation:  38%|███▊      | 113/300 [00:16<00:25,  7.48it/s]\u001b[A\n",
            "Evaluation:  38%|███▊      | 115/300 [00:16<00:26,  6.91it/s]\u001b[A\n",
            "Evaluation:  39%|███▊      | 116/300 [00:16<00:27,  6.63it/s]\u001b[A\n",
            "Evaluation:  40%|███▉      | 119/300 [00:16<00:23,  7.66it/s]\u001b[A\n",
            "Evaluation:  40%|████      | 120/300 [00:16<00:23,  7.76it/s]\u001b[A\n",
            "Evaluation:  41%|████      | 123/300 [00:17<00:20,  8.79it/s]\u001b[A\n",
            "Evaluation:  41%|████▏     | 124/300 [00:17<00:26,  6.64it/s]\u001b[A\n",
            "Evaluation:  42%|████▏     | 127/300 [00:17<00:20,  8.49it/s]\u001b[A\n",
            "Evaluation:  43%|████▎     | 129/300 [00:17<00:19,  8.74it/s]\u001b[A\n",
            "Evaluation:  43%|████▎     | 130/300 [00:18<00:20,  8.29it/s]\u001b[A\n",
            "Evaluation:  44%|████▍     | 132/300 [00:18<00:20,  8.06it/s]\u001b[A\n",
            "Evaluation:  44%|████▍     | 133/300 [00:18<00:25,  6.66it/s]\u001b[A\n",
            "Evaluation:  46%|████▌     | 137/300 [00:19<00:19,  8.49it/s]\u001b[A\n",
            "Evaluation:  46%|████▋     | 139/300 [00:19<00:19,  8.34it/s]\u001b[A\n",
            "Evaluation:  47%|████▋     | 140/300 [00:19<00:26,  6.00it/s]\u001b[A\n",
            "Evaluation:  47%|████▋     | 142/300 [00:19<00:20,  7.69it/s]\u001b[A\n",
            "Evaluation:  48%|████▊     | 144/300 [00:20<00:25,  6.19it/s]\u001b[A\n",
            "Evaluation:  48%|████▊     | 145/300 [00:20<00:26,  5.78it/s]\u001b[A\n",
            "Evaluation:  49%|████▉     | 147/300 [00:20<00:21,  7.24it/s]\u001b[A\n",
            "Evaluation:  50%|█████     | 150/300 [00:20<00:19,  7.58it/s]\u001b[A\n",
            "Evaluation:  50%|█████     | 151/300 [00:21<00:21,  7.01it/s]\u001b[A\n",
            "Evaluation:  51%|█████     | 152/300 [00:21<00:29,  5.06it/s]\u001b[A\n",
            "Evaluation:  51%|█████▏    | 154/300 [00:21<00:21,  6.83it/s]\u001b[A\n",
            "Evaluation:  52%|█████▏    | 156/300 [00:21<00:19,  7.36it/s]\u001b[A\n",
            "Evaluation:  53%|█████▎    | 158/300 [00:22<00:20,  6.97it/s]\u001b[A\n",
            "Evaluation:  53%|█████▎    | 159/300 [00:22<00:23,  6.02it/s]\u001b[A\n",
            "Evaluation:  54%|█████▍    | 162/300 [00:22<00:16,  8.51it/s]\u001b[A\n",
            "Evaluation:  55%|█████▌    | 165/300 [00:22<00:14,  9.07it/s]\u001b[A\n",
            "Evaluation:  56%|█████▌    | 167/300 [00:23<00:18,  7.01it/s]\u001b[A\n",
            "Evaluation:  56%|█████▌    | 168/300 [00:23<00:18,  7.28it/s]\u001b[A\n",
            "Evaluation:  57%|█████▋    | 171/300 [00:23<00:14,  8.96it/s]\u001b[A\n",
            "Evaluation:  58%|█████▊    | 173/300 [00:24<00:15,  7.95it/s]\u001b[A\n",
            "Evaluation:  58%|█████▊    | 174/300 [00:24<00:16,  7.81it/s]\u001b[A\n",
            "Evaluation:  58%|█████▊    | 175/300 [00:24<00:17,  6.97it/s]\u001b[A\n",
            "Evaluation:  59%|█████▉    | 178/300 [00:24<00:15,  8.03it/s]\u001b[A\n",
            "Evaluation:  60%|██████    | 180/300 [00:24<00:14,  8.19it/s]\u001b[A\n",
            "Evaluation:  61%|██████    | 182/300 [00:25<00:14,  8.21it/s]\u001b[A\n",
            "Evaluation:  61%|██████▏   | 184/300 [00:25<00:15,  7.46it/s]\u001b[A\n",
            "Evaluation:  62%|██████▏   | 187/300 [00:25<00:11, 10.21it/s]\u001b[A\n",
            "Evaluation:  63%|██████▎   | 189/300 [00:26<00:13,  8.36it/s]\u001b[A\n",
            "Evaluation:  64%|██████▎   | 191/300 [00:26<00:15,  7.09it/s]\u001b[A\n",
            "Evaluation:  64%|██████▍   | 192/300 [00:26<00:17,  6.35it/s]\u001b[A\n",
            "Evaluation:  65%|██████▍   | 194/300 [00:26<00:13,  7.68it/s]\u001b[A\n",
            "Evaluation:  65%|██████▌   | 195/300 [00:27<00:15,  6.80it/s]\u001b[A\n",
            "Evaluation:  66%|██████▌   | 198/300 [00:27<00:13,  7.67it/s]\u001b[A\n",
            "Evaluation:  67%|██████▋   | 200/300 [00:27<00:12,  7.75it/s]\u001b[A\n",
            "Evaluation:  67%|██████▋   | 201/300 [00:27<00:12,  8.03it/s]\u001b[A\n",
            "Evaluation:  68%|██████▊   | 203/300 [00:28<00:12,  7.56it/s]\u001b[A\n",
            "Evaluation:  68%|██████▊   | 205/300 [00:28<00:11,  8.60it/s]\u001b[A\n",
            "Evaluation:  69%|██████▊   | 206/300 [00:28<00:13,  6.97it/s]\u001b[A\n",
            "Evaluation:  69%|██████▉   | 207/300 [00:28<00:14,  6.33it/s]\u001b[A\n",
            "Evaluation:  70%|███████   | 210/300 [00:28<00:11,  7.66it/s]\u001b[A\n",
            "Evaluation:  71%|███████   | 212/300 [00:29<00:10,  8.72it/s]\u001b[A\n",
            "Evaluation:  71%|███████▏  | 214/300 [00:29<00:11,  7.26it/s]\u001b[A\n",
            "Evaluation:  72%|███████▏  | 215/300 [00:29<00:11,  7.42it/s]\u001b[A\n",
            "Evaluation:  72%|███████▏  | 217/300 [00:30<00:12,  6.46it/s]\u001b[A\n",
            "Evaluation:  73%|███████▎  | 220/300 [00:30<00:08,  9.30it/s]\u001b[A\n",
            "Evaluation:  74%|███████▍  | 222/300 [00:30<00:10,  7.41it/s]\u001b[A\n",
            "Evaluation:  75%|███████▍  | 224/300 [00:30<00:10,  7.09it/s]\u001b[A\n",
            "Evaluation:  76%|███████▌  | 227/300 [00:31<00:08,  8.45it/s]\u001b[A\n",
            "Evaluation:  76%|███████▌  | 228/300 [00:31<00:09,  7.90it/s]\u001b[A\n",
            "Evaluation:  76%|███████▋  | 229/300 [00:31<00:10,  7.08it/s]\u001b[A\n",
            "Evaluation:  77%|███████▋  | 230/300 [00:31<00:11,  6.13it/s]\u001b[A\n",
            "Evaluation:  78%|███████▊  | 234/300 [00:31<00:05, 11.27it/s]\u001b[A\n",
            "Evaluation:  79%|███████▊  | 236/300 [00:32<00:06,  9.22it/s]\u001b[A\n",
            "Evaluation:  79%|███████▉  | 238/300 [00:32<00:08,  7.43it/s]\u001b[A\n",
            "Evaluation:  80%|████████  | 240/300 [00:32<00:06,  8.64it/s]\u001b[A\n",
            "Evaluation:  81%|████████  | 242/300 [00:32<00:05, 10.25it/s]\u001b[A\n",
            "Evaluation:  81%|████████▏ | 244/300 [00:33<00:08,  6.55it/s]\u001b[A\n",
            "Evaluation:  82%|████████▏ | 247/300 [00:33<00:06,  8.62it/s]\u001b[A\n",
            "Evaluation:  83%|████████▎ | 249/300 [00:33<00:05,  9.72it/s]\u001b[A\n",
            "Evaluation:  84%|████████▎ | 251/300 [00:34<00:08,  6.12it/s]\u001b[A\n",
            "Evaluation:  84%|████████▍ | 253/300 [00:34<00:06,  7.54it/s]\u001b[A\n",
            "Evaluation:  85%|████████▌ | 255/300 [00:34<00:05,  7.76it/s]\u001b[A\n",
            "Evaluation:  86%|████████▌ | 257/300 [00:34<00:05,  7.28it/s]\u001b[A\n",
            "Evaluation:  86%|████████▌ | 258/300 [00:35<00:05,  7.00it/s]\u001b[A\n",
            "Evaluation:  87%|████████▋ | 260/300 [00:35<00:05,  7.56it/s]\u001b[A\n",
            "Evaluation:  87%|████████▋ | 262/300 [00:35<00:05,  7.07it/s]\u001b[A\n",
            "Evaluation:  88%|████████▊ | 265/300 [00:36<00:04,  7.00it/s]\u001b[A\n",
            "Evaluation:  90%|████████▉ | 269/300 [00:36<00:03,  7.78it/s]\u001b[A\n",
            "Evaluation:  90%|█████████ | 270/300 [00:36<00:03,  7.83it/s]\u001b[A\n",
            "Evaluation:  91%|█████████ | 273/300 [00:37<00:03,  7.81it/s]\u001b[A\n",
            "Evaluation:  92%|█████████▏| 276/300 [00:37<00:02,  9.06it/s]\u001b[A\n",
            "Evaluation:  92%|█████████▏| 277/300 [00:37<00:02,  9.14it/s]\u001b[A\n",
            "Evaluation:  93%|█████████▎| 278/300 [00:37<00:03,  6.65it/s]\u001b[A\n",
            "Evaluation:  93%|█████████▎| 279/300 [00:37<00:03,  6.87it/s]\u001b[A\n",
            "Evaluation:  93%|█████████▎| 280/300 [00:38<00:02,  6.67it/s]\u001b[A\n",
            "Evaluation:  94%|█████████▍| 282/300 [00:38<00:02,  8.62it/s]\u001b[A\n",
            "Evaluation:  95%|█████████▍| 284/300 [00:38<00:02,  6.34it/s]\u001b[A\n",
            "Evaluation:  96%|█████████▌| 287/300 [00:38<00:01,  7.46it/s]\u001b[A\n",
            "Evaluation:  97%|█████████▋| 290/300 [00:39<00:01,  9.28it/s]\u001b[A\n",
            "Evaluation:  97%|█████████▋| 292/300 [00:39<00:01,  6.46it/s]\u001b[A\n",
            "Evaluation:  98%|█████████▊| 294/300 [00:39<00:00,  7.67it/s]\u001b[A\n",
            "Evaluation:  99%|█████████▊| 296/300 [00:40<00:00,  7.84it/s]\u001b[A\n",
            "Evaluation:  99%|█████████▉| 297/300 [00:40<00:00,  7.94it/s]\u001b[A\n",
            "Evaluation: 100%|█████████▉| 299/300 [00:40<00:00,  6.24it/s]\u001b[A\n",
            "Evaluation: 100%|██████████| 300/300 [00:41<00:00,  7.26it/s]\n"
          ]
        },
        {
          "output_type": "display_data",
          "data": {
            "text/plain": [
              "╭─ hotpot-300 (300 samples) ─────────────╮\n",
              "│                                        │\n",
              "│ \u001b[1mTotal time:       \u001b[0m 00:00:41            │\n",
              "│ \u001b[1mNumber of samples:\u001b[0m 300                 │\n",
              "│                                        │\n",
              "│ \u001b[1;32mlevenshtein_ratio_metric: 0.5084 (avg)\u001b[0m │\n",
              "│                                        │\n",
              "╰────────────────────────────────────────╯\n"
            ],
            "text/html": [
              "<pre style=\"white-space:pre;overflow-x:auto;line-height:normal;font-family:Menlo,'DejaVu Sans Mono',consolas,'Courier New',monospace\">╭─ hotpot-300 (300 samples) ─────────────╮\n",
              "│                                        │\n",
              "│ <span style=\"font-weight: bold\">Total time:       </span> 00:00:41            │\n",
              "│ <span style=\"font-weight: bold\">Number of samples:</span> 300                 │\n",
              "│                                        │\n",
              "│ <span style=\"color: #008000; text-decoration-color: #008000; font-weight: bold\">levenshtein_ratio_metric: 0.5084 (avg)</span> │\n",
              "│                                        │\n",
              "╰────────────────────────────────────────╯\n",
              "</pre>\n"
            ]
          },
          "metadata": {}
        },
        {
          "output_type": "display_data",
          "data": {
            "text/plain": [
              "Uploading results to Opik \u001b[33m...\u001b[0m \n"
            ],
            "text/html": [
              "<pre style=\"white-space:pre;overflow-x:auto;line-height:normal;font-family:Menlo,'DejaVu Sans Mono',consolas,'Courier New',monospace\">Uploading results to Opik <span style=\"color: #808000; text-decoration-color: #808000\">...</span> \n",
              "</pre>\n"
            ]
          },
          "metadata": {}
        },
        {
          "output_type": "display_data",
          "data": {
            "text/plain": [
              "View the results \u001b]8;id=772246;https://www.comet.com/opik/api/v1/session/redirect/experiments/?experiment_id=01968c7a-3237-7785-95ad-f5171eaf3b17&dataset_id=0195d400-52bc-7ac1-ae8e-74931512157f&path=aHR0cHM6Ly93d3cuY29tZXQuY29tL29waWsvYXBpLw==\u001b\\in your Opik dashboard\u001b]8;;\u001b\\.\n"
            ],
            "text/html": [
              "<pre style=\"white-space:pre;overflow-x:auto;line-height:normal;font-family:Menlo,'DejaVu Sans Mono',consolas,'Courier New',monospace\">View the results <a href=\"https://www.comet.com/opik/api/v1/session/redirect/experiments/?experiment_id=01968c7a-3237-7785-95ad-f5171eaf3b17&dataset_id=0195d400-52bc-7ac1-ae8e-74931512157f&path=aHR0cHM6Ly93d3cuY29tZXQuY29tL29waWsvYXBpLw==\" target=\"_blank\">in your Opik dashboard</a>.\n",
              "</pre>\n"
            ]
          },
          "metadata": {}
        },
        {
          "output_type": "stream",
          "name": "stderr",
          "text": [
            "[I 2025-05-01 15:33:04,198] Trial 2 finished with value: 0.5083562144763062 and parameters: {'n_examples': 8, 'example_0': 82, 'example_1': 180, 'example_2': 102, 'example_3': 155, 'example_4': 251, 'example_5': 236, 'example_6': 198, 'example_7': 122}. Best is trial 1 with value: 0.5372766641460849.\n"
          ]
        }
      ]
    },
    {
      "cell_type": "code",
      "source": [
        "print(result)"
      ],
      "metadata": {
        "colab": {
          "base_uri": "https://localhost:8080/"
        },
        "id": "MYG0Ld45vAm8",
        "outputId": "9f9021b6-afe2-4a2a-dd63-d29cc062b843"
      },
      "execution_count": 30,
      "outputs": [
        {
          "output_type": "stream",
          "name": "stdout",
          "text": [
            "Optimizer Results:\n",
            "    Best prompt: [{'role': 'system', 'content': 'Provide an answer to the question\\n\\nYou are an intelligent assistant that learns from few-shot examples provided earlier in the conversation. Whenever you respond, carefully follow the structure, tone, and format of previous assistant replies, using them as a guide'}, {'role': 'user', 'content': '\\n{\\n  \"question\": \"Long Lake is located in which town?\"\\n}\\n'}, {'role': 'assistant', 'content': 'Harrison'}, {'role': 'user', 'content': '\\n{\\n  \"question\": \"In which region did the settlers have conflict with the Mexican government where it escalated to a rebellion led by John Dunn Hunter?\"\\n}\\n'}, {'role': 'assistant', 'content': 'Texas'}, {'role': 'user', 'content': '\\n{\\n  \"question\": \"What single by an Australian rock band was featured in an Australian paranormal television program which premiered on 9 July 2015, on ABC1?\"\\n}\\n'}, {'role': 'assistant', 'content': 'Breakaway'}, {'role': 'user', 'content': '\\n{\\n  \"question\": \"What is the name of the TV station in Hudson County, New Jersey, where Van Hackett worked?\"\\n}\\n'}, {'role': 'assistant', 'content': 'WWOR-TV'}, {'role': 'user', 'content': '\\n{\\n  \"question\": \"What date did the American actress and singer-songwriter, known for her role as Peggy Bundy, release her first album?\"\\n}\\n'}, {'role': 'assistant', 'content': 'April 19, 1994'}, {'role': 'user', 'content': '\\n{\\n  \"question\": \"Two Lanes of Freedom included a cameo by which other male country singer on guitar?\"\\n}\\n'}, {'role': 'assistant', 'content': 'Keith Urban'}, {'role': 'user', 'content': '\\n{\\n  \"question\": \" The Covington County School District is a public school district based in a town with a population of what at the 2010 census?\"\\n}\\n'}, {'role': 'assistant', 'content': '2,586'}, {'role': 'user', 'content': '\\n{\\n  \"question\": \"What is the name of the school located near the Brea mall owned by Simon Property Group?\"\\n}\\n'}, {'role': 'assistant', 'content': 'Brea Olinda High School'}, {'role': 'user', 'content': '{\"question\": \"{{question}}\"}'}]\n",
            "    Score: 0.537 (levenshtein_ratio_metric)\n"
          ]
        }
      ]
    },
    {
      "cell_type": "markdown",
      "source": [
        "Although there is some randomness, you probably got a better prompt. My result is about 5 times better.\n",
        "\n",
        "This is just the initial framework for optimizers for Opik!\n",
        "\n",
        "Please see the [Opik Optimizer repo](https://github.com/comet-ml/opik/tree/main/sdks/opik_optimizer) for additional examples using different algorithms."
      ],
      "metadata": {
        "id": "xSZoEVBDRoyZ"
      }
    }
  ]
}