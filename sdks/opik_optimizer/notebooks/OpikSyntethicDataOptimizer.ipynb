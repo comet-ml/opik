{
 "cells": [
  {
   "cell_type": "markdown",
   "metadata": {
    "id": "NTaMBjChz7m5"
   },
   "source": [
    "# Optimzing using Synthetic Q&A Data from Opik Traces\n",
    "\n",
    "You will need:\n",
    "\n",
    "1. A Comet account, for seeing Opik visualizations (free!) - [comet.com](https://comet.com)\n",
    "2. An OpenAI account, for using an LLM\n",
    "[platform.openai.com/settings/organization/api-keys](https://platform.openai.com/settings/organization/api-keys)\n",
    "\n",
    "This example will use:\n",
    "\n",
    "- [tinyqabenchmarkpp](https://pypi.org/project/tinyqabenchmarkpp/) to generate synthetic test dataset\n",
    "- [opik-optimizer](https://pypi.org/project/opik-optimizer/) to optimize prompts\n"
   ]
  },
  {
   "cell_type": "markdown",
   "metadata": {
    "id": "yM1lU0dBBnJs"
   },
   "source": [
    "## Setup\n",
    "\n",
    "This pip-install takes about a minute."
   ]
  },
  {
   "cell_type": "code",
   "execution_count": 1,
   "metadata": {
    "id": "2Tx6HwuU1rB4"
   },
   "outputs": [
    {
     "name": "stdout",
     "output_type": "stream",
     "text": [
      "Requirement already satisfied: opik-optimizer in /Users/vincentkoc/GIT/_Perso/opik-main/.venv/lib/python3.9/site-packages (0.7.4)\n",
      "Requirement already satisfied: tinyqabenchmarkpp in /Users/vincentkoc/GIT/_Perso/opik-main/.venv/lib/python3.9/site-packages (1.2.3)\n",
      "Requirement already satisfied: tqdm in /Users/vincentkoc/GIT/_Perso/opik-main/.venv/lib/python3.9/site-packages (from opik-optimizer) (4.67.1)\n",
      "Requirement already satisfied: optuna in /Users/vincentkoc/GIT/_Perso/opik-main/.venv/lib/python3.9/site-packages (from opik-optimizer) (4.3.0)\n",
      "Requirement already satisfied: pyrate-limiter in /Users/vincentkoc/GIT/_Perso/opik-main/.venv/lib/python3.9/site-packages (from opik-optimizer) (3.7.0)\n",
      "Requirement already satisfied: datasets in /Users/vincentkoc/GIT/_Perso/opik-main/.venv/lib/python3.9/site-packages (from opik-optimizer) (3.6.0)\n",
      "Requirement already satisfied: dspy<3,>=2.6.18 in /Users/vincentkoc/GIT/_Perso/opik-main/.venv/lib/python3.9/site-packages (from opik-optimizer) (2.6.23)\n",
      "Requirement already satisfied: opik>=1.7.17 in /Users/vincentkoc/GIT/_Perso/opik-main/.venv/lib/python3.9/site-packages (from opik-optimizer) (1.7.17)\n",
      "Requirement already satisfied: litellm in /Users/vincentkoc/GIT/_Perso/opik-main/.venv/lib/python3.9/site-packages (from opik-optimizer) (1.68.1)\n",
      "Requirement already satisfied: pydantic in /Users/vincentkoc/GIT/_Perso/opik-main/.venv/lib/python3.9/site-packages (from opik-optimizer) (2.11.4)\n",
      "Requirement already satisfied: pandas in /Users/vincentkoc/GIT/_Perso/opik-main/.venv/lib/python3.9/site-packages (from opik-optimizer) (2.2.3)\n",
      "Requirement already satisfied: hf_xet in /Users/vincentkoc/GIT/_Perso/opik-main/.venv/lib/python3.9/site-packages (from opik-optimizer) (1.1.0)\n",
      "Requirement already satisfied: deap>=1.4.3 in /Users/vincentkoc/GIT/_Perso/opik-main/.venv/lib/python3.9/site-packages (from opik-optimizer) (1.4.3)\n",
      "Requirement already satisfied: numpy in /Users/vincentkoc/GIT/_Perso/opik-main/.venv/lib/python3.9/site-packages (from deap>=1.4.3->opik-optimizer) (2.0.2)\n",
      "Requirement already satisfied: regex>=2023.10.3 in /Users/vincentkoc/GIT/_Perso/opik-main/.venv/lib/python3.9/site-packages (from dspy<3,>=2.6.18->opik-optimizer) (2024.11.6)\n",
      "Requirement already satisfied: ujson>=5.8.0 in /Users/vincentkoc/GIT/_Perso/opik-main/.venv/lib/python3.9/site-packages (from dspy<3,>=2.6.18->opik-optimizer) (5.10.0)\n",
      "Requirement already satisfied: tenacity>=8.2.3 in /Users/vincentkoc/GIT/_Perso/opik-main/.venv/lib/python3.9/site-packages (from dspy<3,>=2.6.18->opik-optimizer) (9.1.2)\n",
      "Requirement already satisfied: asyncer==0.0.8 in /Users/vincentkoc/GIT/_Perso/opik-main/.venv/lib/python3.9/site-packages (from dspy<3,>=2.6.18->opik-optimizer) (0.0.8)\n",
      "Requirement already satisfied: json-repair>=0.30.0 in /Users/vincentkoc/GIT/_Perso/opik-main/.venv/lib/python3.9/site-packages (from dspy<3,>=2.6.18->opik-optimizer) (0.44.1)\n",
      "Requirement already satisfied: rich>=13.7.1 in /Users/vincentkoc/GIT/_Perso/opik-main/.venv/lib/python3.9/site-packages (from dspy<3,>=2.6.18->opik-optimizer) (14.0.0)\n",
      "Requirement already satisfied: anyio in /Users/vincentkoc/GIT/_Perso/opik-main/.venv/lib/python3.9/site-packages (from dspy<3,>=2.6.18->opik-optimizer) (4.9.0)\n",
      "Requirement already satisfied: joblib~=1.3 in /Users/vincentkoc/GIT/_Perso/opik-main/.venv/lib/python3.9/site-packages (from dspy<3,>=2.6.18->opik-optimizer) (1.5.0)\n",
      "Requirement already satisfied: cachetools>=5.5.0 in /Users/vincentkoc/GIT/_Perso/opik-main/.venv/lib/python3.9/site-packages (from dspy<3,>=2.6.18->opik-optimizer) (5.5.2)\n",
      "Requirement already satisfied: openai>=0.28.1 in /Users/vincentkoc/GIT/_Perso/opik-main/.venv/lib/python3.9/site-packages (from dspy<3,>=2.6.18->opik-optimizer) (1.75.0)\n",
      "Requirement already satisfied: backoff>=2.2 in /Users/vincentkoc/GIT/_Perso/opik-main/.venv/lib/python3.9/site-packages (from dspy<3,>=2.6.18->opik-optimizer) (2.2.1)\n",
      "Requirement already satisfied: diskcache>=5.6.0 in /Users/vincentkoc/GIT/_Perso/opik-main/.venv/lib/python3.9/site-packages (from dspy<3,>=2.6.18->opik-optimizer) (5.6.3)\n",
      "Requirement already satisfied: magicattr>=0.1.6 in /Users/vincentkoc/GIT/_Perso/opik-main/.venv/lib/python3.9/site-packages (from dspy<3,>=2.6.18->opik-optimizer) (0.1.6)\n",
      "Requirement already satisfied: cloudpickle>=3.0.0 in /Users/vincentkoc/GIT/_Perso/opik-main/.venv/lib/python3.9/site-packages (from dspy<3,>=2.6.18->opik-optimizer) (3.1.1)\n",
      "Requirement already satisfied: requests>=2.31.0 in /Users/vincentkoc/GIT/_Perso/opik-main/.venv/lib/python3.9/site-packages (from dspy<3,>=2.6.18->opik-optimizer) (2.32.3)\n",
      "Requirement already satisfied: typing_extensions>=4.8.0 in /Users/vincentkoc/GIT/_Perso/opik-main/.venv/lib/python3.9/site-packages (from asyncer==0.0.8->dspy<3,>=2.6.18->opik-optimizer) (4.13.2)\n",
      "Requirement already satisfied: pyarrow>=15.0.0 in /Users/vincentkoc/GIT/_Perso/opik-main/.venv/lib/python3.9/site-packages (from datasets->opik-optimizer) (20.0.0)\n",
      "Requirement already satisfied: pyyaml>=5.1 in /Users/vincentkoc/GIT/_Perso/opik-main/.venv/lib/python3.9/site-packages (from datasets->opik-optimizer) (6.0.2)\n",
      "Requirement already satisfied: dill<0.3.9,>=0.3.0 in /Users/vincentkoc/GIT/_Perso/opik-main/.venv/lib/python3.9/site-packages (from datasets->opik-optimizer) (0.3.8)\n",
      "Requirement already satisfied: xxhash in /Users/vincentkoc/GIT/_Perso/opik-main/.venv/lib/python3.9/site-packages (from datasets->opik-optimizer) (3.5.0)\n",
      "Requirement already satisfied: multiprocess<0.70.17 in /Users/vincentkoc/GIT/_Perso/opik-main/.venv/lib/python3.9/site-packages (from datasets->opik-optimizer) (0.70.16)\n",
      "Requirement already satisfied: filelock in /Users/vincentkoc/GIT/_Perso/opik-main/.venv/lib/python3.9/site-packages (from datasets->opik-optimizer) (3.18.0)\n",
      "Requirement already satisfied: huggingface-hub>=0.24.0 in /Users/vincentkoc/GIT/_Perso/opik-main/.venv/lib/python3.9/site-packages (from datasets->opik-optimizer) (0.31.1)\n",
      "Requirement already satisfied: packaging in /Users/vincentkoc/GIT/_Perso/opik-main/.venv/lib/python3.9/site-packages (from datasets->opik-optimizer) (25.0)\n",
      "Requirement already satisfied: fsspec[http]<=2025.3.0,>=2023.1.0 in /Users/vincentkoc/GIT/_Perso/opik-main/.venv/lib/python3.9/site-packages (from datasets->opik-optimizer) (2025.3.0)\n",
      "Requirement already satisfied: aiohttp in /Users/vincentkoc/GIT/_Perso/opik-main/.venv/lib/python3.9/site-packages (from litellm->opik-optimizer) (3.11.18)\n",
      "Requirement already satisfied: tiktoken>=0.7.0 in /Users/vincentkoc/GIT/_Perso/opik-main/.venv/lib/python3.9/site-packages (from litellm->opik-optimizer) (0.9.0)\n",
      "Requirement already satisfied: click in /Users/vincentkoc/GIT/_Perso/opik-main/.venv/lib/python3.9/site-packages (from litellm->opik-optimizer) (8.1.8)\n",
      "Requirement already satisfied: python-dotenv>=0.2.0 in /Users/vincentkoc/GIT/_Perso/opik-main/.venv/lib/python3.9/site-packages (from litellm->opik-optimizer) (1.1.0)\n",
      "Requirement already satisfied: tokenizers in /Users/vincentkoc/GIT/_Perso/opik-main/.venv/lib/python3.9/site-packages (from litellm->opik-optimizer) (0.21.1)\n",
      "Requirement already satisfied: httpx>=0.23.0 in /Users/vincentkoc/GIT/_Perso/opik-main/.venv/lib/python3.9/site-packages (from litellm->opik-optimizer) (0.28.1)\n",
      "Requirement already satisfied: jsonschema<5.0.0,>=4.22.0 in /Users/vincentkoc/GIT/_Perso/opik-main/.venv/lib/python3.9/site-packages (from litellm->opik-optimizer) (4.23.0)\n",
      "Requirement already satisfied: importlib-metadata>=6.8.0 in /Users/vincentkoc/GIT/_Perso/opik-main/.venv/lib/python3.9/site-packages (from litellm->opik-optimizer) (8.7.0)\n",
      "Requirement already satisfied: jinja2<4.0.0,>=3.1.2 in /Users/vincentkoc/GIT/_Perso/opik-main/.venv/lib/python3.9/site-packages (from litellm->opik-optimizer) (3.1.6)\n",
      "Requirement already satisfied: uuid6 in /Users/vincentkoc/GIT/_Perso/opik-main/.venv/lib/python3.9/site-packages (from opik>=1.7.17->opik-optimizer) (2024.7.10)\n",
      "Requirement already satisfied: pytest in /Users/vincentkoc/GIT/_Perso/opik-main/.venv/lib/python3.9/site-packages (from opik>=1.7.17->opik-optimizer) (8.3.5)\n",
      "Requirement already satisfied: levenshtein<1.0.0 in /Users/vincentkoc/GIT/_Perso/opik-main/.venv/lib/python3.9/site-packages (from opik>=1.7.17->opik-optimizer) (0.27.1)\n",
      "Requirement already satisfied: boto3-stubs[bedrock-runtime]>=1.34.110 in /Users/vincentkoc/GIT/_Perso/opik-main/.venv/lib/python3.9/site-packages (from opik>=1.7.17->opik-optimizer) (1.38.10)\n",
      "Requirement already satisfied: sentry_sdk>=2.0.0 in /Users/vincentkoc/GIT/_Perso/opik-main/.venv/lib/python3.9/site-packages (from opik>=1.7.17->opik-optimizer) (2.27.0)\n",
      "Requirement already satisfied: pydantic-settings!=2.9.0,<3.0.0,>=2.0.0 in /Users/vincentkoc/GIT/_Perso/opik-main/.venv/lib/python3.9/site-packages (from opik>=1.7.17->opik-optimizer) (2.9.1)\n",
      "Requirement already satisfied: colorlog in /Users/vincentkoc/GIT/_Perso/opik-main/.venv/lib/python3.9/site-packages (from optuna->opik-optimizer) (6.9.0)\n",
      "Requirement already satisfied: sqlalchemy>=1.4.2 in /Users/vincentkoc/GIT/_Perso/opik-main/.venv/lib/python3.9/site-packages (from optuna->opik-optimizer) (2.0.40)\n",
      "Requirement already satisfied: alembic>=1.5.0 in /Users/vincentkoc/GIT/_Perso/opik-main/.venv/lib/python3.9/site-packages (from optuna->opik-optimizer) (1.15.2)\n",
      "Requirement already satisfied: python-dateutil>=2.8.2 in /Users/vincentkoc/GIT/_Perso/opik-main/.venv/lib/python3.9/site-packages (from pandas->opik-optimizer) (2.9.0.post0)\n",
      "Requirement already satisfied: pytz>=2020.1 in /Users/vincentkoc/GIT/_Perso/opik-main/.venv/lib/python3.9/site-packages (from pandas->opik-optimizer) (2025.2)\n",
      "Requirement already satisfied: tzdata>=2022.7 in /Users/vincentkoc/GIT/_Perso/opik-main/.venv/lib/python3.9/site-packages (from pandas->opik-optimizer) (2025.2)\n",
      "Requirement already satisfied: typing-inspection>=0.4.0 in /Users/vincentkoc/GIT/_Perso/opik-main/.venv/lib/python3.9/site-packages (from pydantic->opik-optimizer) (0.4.0)\n",
      "Requirement already satisfied: pydantic-core==2.33.2 in /Users/vincentkoc/GIT/_Perso/opik-main/.venv/lib/python3.9/site-packages (from pydantic->opik-optimizer) (2.33.2)\n",
      "Requirement already satisfied: annotated-types>=0.6.0 in /Users/vincentkoc/GIT/_Perso/opik-main/.venv/lib/python3.9/site-packages (from pydantic->opik-optimizer) (0.7.0)\n",
      "Requirement already satisfied: Mako in /Users/vincentkoc/GIT/_Perso/opik-main/.venv/lib/python3.9/site-packages (from alembic>=1.5.0->optuna->opik-optimizer) (1.3.10)\n",
      "Requirement already satisfied: idna>=2.8 in /Users/vincentkoc/GIT/_Perso/opik-main/.venv/lib/python3.9/site-packages (from anyio->dspy<3,>=2.6.18->opik-optimizer) (3.10)\n",
      "Requirement already satisfied: sniffio>=1.1 in /Users/vincentkoc/GIT/_Perso/opik-main/.venv/lib/python3.9/site-packages (from anyio->dspy<3,>=2.6.18->opik-optimizer) (1.3.1)\n",
      "Requirement already satisfied: exceptiongroup>=1.0.2 in /Users/vincentkoc/GIT/_Perso/opik-main/.venv/lib/python3.9/site-packages (from anyio->dspy<3,>=2.6.18->opik-optimizer) (1.2.2)\n",
      "Requirement already satisfied: botocore-stubs in /Users/vincentkoc/GIT/_Perso/opik-main/.venv/lib/python3.9/site-packages (from boto3-stubs[bedrock-runtime]>=1.34.110->opik>=1.7.17->opik-optimizer) (1.38.10)\n",
      "Requirement already satisfied: types-s3transfer in /Users/vincentkoc/GIT/_Perso/opik-main/.venv/lib/python3.9/site-packages (from boto3-stubs[bedrock-runtime]>=1.34.110->opik>=1.7.17->opik-optimizer) (0.12.0)\n",
      "Requirement already satisfied: mypy-boto3-bedrock-runtime<1.39.0,>=1.38.0 in /Users/vincentkoc/GIT/_Perso/opik-main/.venv/lib/python3.9/site-packages (from boto3-stubs[bedrock-runtime]>=1.34.110->opik>=1.7.17->opik-optimizer) (1.38.4)\n",
      "Requirement already satisfied: async-timeout<6.0,>=4.0 in /Users/vincentkoc/GIT/_Perso/opik-main/.venv/lib/python3.9/site-packages (from aiohttp->litellm->opik-optimizer) (5.0.1)\n",
      "Requirement already satisfied: yarl<2.0,>=1.17.0 in /Users/vincentkoc/GIT/_Perso/opik-main/.venv/lib/python3.9/site-packages (from aiohttp->litellm->opik-optimizer) (1.20.0)\n",
      "Requirement already satisfied: aiosignal>=1.1.2 in /Users/vincentkoc/GIT/_Perso/opik-main/.venv/lib/python3.9/site-packages (from aiohttp->litellm->opik-optimizer) (1.3.2)\n",
      "Requirement already satisfied: frozenlist>=1.1.1 in /Users/vincentkoc/GIT/_Perso/opik-main/.venv/lib/python3.9/site-packages (from aiohttp->litellm->opik-optimizer) (1.6.0)\n",
      "Requirement already satisfied: multidict<7.0,>=4.5 in /Users/vincentkoc/GIT/_Perso/opik-main/.venv/lib/python3.9/site-packages (from aiohttp->litellm->opik-optimizer) (6.4.3)\n",
      "Requirement already satisfied: attrs>=17.3.0 in /Users/vincentkoc/GIT/_Perso/opik-main/.venv/lib/python3.9/site-packages (from aiohttp->litellm->opik-optimizer) (25.3.0)\n",
      "Requirement already satisfied: propcache>=0.2.0 in /Users/vincentkoc/GIT/_Perso/opik-main/.venv/lib/python3.9/site-packages (from aiohttp->litellm->opik-optimizer) (0.3.1)\n",
      "Requirement already satisfied: aiohappyeyeballs>=2.3.0 in /Users/vincentkoc/GIT/_Perso/opik-main/.venv/lib/python3.9/site-packages (from aiohttp->litellm->opik-optimizer) (2.6.1)\n",
      "Requirement already satisfied: httpcore==1.* in /Users/vincentkoc/GIT/_Perso/opik-main/.venv/lib/python3.9/site-packages (from httpx>=0.23.0->litellm->opik-optimizer) (1.0.9)\n",
      "Requirement already satisfied: certifi in /Users/vincentkoc/GIT/_Perso/opik-main/.venv/lib/python3.9/site-packages (from httpx>=0.23.0->litellm->opik-optimizer) (2025.4.26)\n",
      "Requirement already satisfied: h11>=0.16 in /Users/vincentkoc/GIT/_Perso/opik-main/.venv/lib/python3.9/site-packages (from httpcore==1.*->httpx>=0.23.0->litellm->opik-optimizer) (0.16.0)\n",
      "Requirement already satisfied: zipp>=3.20 in /Users/vincentkoc/GIT/_Perso/opik-main/.venv/lib/python3.9/site-packages (from importlib-metadata>=6.8.0->litellm->opik-optimizer) (3.21.0)\n",
      "Requirement already satisfied: MarkupSafe>=2.0 in /Users/vincentkoc/GIT/_Perso/opik-main/.venv/lib/python3.9/site-packages (from jinja2<4.0.0,>=3.1.2->litellm->opik-optimizer) (3.0.2)\n",
      "Requirement already satisfied: jsonschema-specifications>=2023.03.6 in /Users/vincentkoc/GIT/_Perso/opik-main/.venv/lib/python3.9/site-packages (from jsonschema<5.0.0,>=4.22.0->litellm->opik-optimizer) (2025.4.1)\n",
      "Requirement already satisfied: referencing>=0.28.4 in /Users/vincentkoc/GIT/_Perso/opik-main/.venv/lib/python3.9/site-packages (from jsonschema<5.0.0,>=4.22.0->litellm->opik-optimizer) (0.36.2)\n",
      "Requirement already satisfied: rpds-py>=0.7.1 in /Users/vincentkoc/GIT/_Perso/opik-main/.venv/lib/python3.9/site-packages (from jsonschema<5.0.0,>=4.22.0->litellm->opik-optimizer) (0.24.0)\n",
      "Requirement already satisfied: rapidfuzz<4.0.0,>=3.9.0 in /Users/vincentkoc/GIT/_Perso/opik-main/.venv/lib/python3.9/site-packages (from levenshtein<1.0.0->opik>=1.7.17->opik-optimizer) (3.13.0)\n",
      "Requirement already satisfied: distro<2,>=1.7.0 in /Users/vincentkoc/GIT/_Perso/opik-main/.venv/lib/python3.9/site-packages (from openai>=0.28.1->dspy<3,>=2.6.18->opik-optimizer) (1.9.0)\n",
      "Requirement already satisfied: jiter<1,>=0.4.0 in /Users/vincentkoc/GIT/_Perso/opik-main/.venv/lib/python3.9/site-packages (from openai>=0.28.1->dspy<3,>=2.6.18->opik-optimizer) (0.9.0)\n",
      "Requirement already satisfied: six>=1.5 in /Users/vincentkoc/GIT/_Perso/opik-main/.venv/lib/python3.9/site-packages (from python-dateutil>=2.8.2->pandas->opik-optimizer) (1.17.0)\n",
      "Requirement already satisfied: urllib3<3,>=1.21.1 in /Users/vincentkoc/GIT/_Perso/opik-main/.venv/lib/python3.9/site-packages (from requests>=2.31.0->dspy<3,>=2.6.18->opik-optimizer) (2.4.0)\n",
      "Requirement already satisfied: charset-normalizer<4,>=2 in /Users/vincentkoc/GIT/_Perso/opik-main/.venv/lib/python3.9/site-packages (from requests>=2.31.0->dspy<3,>=2.6.18->opik-optimizer) (3.4.2)\n",
      "Requirement already satisfied: markdown-it-py>=2.2.0 in /Users/vincentkoc/GIT/_Perso/opik-main/.venv/lib/python3.9/site-packages (from rich>=13.7.1->dspy<3,>=2.6.18->opik-optimizer) (3.0.0)\n",
      "Requirement already satisfied: pygments<3.0.0,>=2.13.0 in /Users/vincentkoc/GIT/_Perso/opik-main/.venv/lib/python3.9/site-packages (from rich>=13.7.1->dspy<3,>=2.6.18->opik-optimizer) (2.19.1)\n",
      "Requirement already satisfied: pluggy<2,>=1.5 in /Users/vincentkoc/GIT/_Perso/opik-main/.venv/lib/python3.9/site-packages (from pytest->opik>=1.7.17->opik-optimizer) (1.5.0)\n",
      "Requirement already satisfied: tomli>=1 in /Users/vincentkoc/GIT/_Perso/opik-main/.venv/lib/python3.9/site-packages (from pytest->opik>=1.7.17->opik-optimizer) (2.2.1)\n",
      "Requirement already satisfied: iniconfig in /Users/vincentkoc/GIT/_Perso/opik-main/.venv/lib/python3.9/site-packages (from pytest->opik>=1.7.17->opik-optimizer) (2.1.0)\n",
      "Requirement already satisfied: mdurl~=0.1 in /Users/vincentkoc/GIT/_Perso/opik-main/.venv/lib/python3.9/site-packages (from markdown-it-py>=2.2.0->rich>=13.7.1->dspy<3,>=2.6.18->opik-optimizer) (0.1.2)\n",
      "Requirement already satisfied: types-awscrt in /Users/vincentkoc/GIT/_Perso/opik-main/.venv/lib/python3.9/site-packages (from botocore-stubs->boto3-stubs[bedrock-runtime]>=1.34.110->opik>=1.7.17->opik-optimizer) (0.26.1)\n",
      "\u001b[33mWARNING: You are using pip version 22.0.4; however, version 25.1.1 is available.\n",
      "You should consider upgrading via the '/Users/vincentkoc/GIT/_Perso/opik-main/.venv/bin/python -m pip install --upgrade pip' command.\u001b[0m\u001b[33m\n",
      "\u001b[0mNote: you may need to restart the kernel to use updated packages.\n"
     ]
    }
   ],
   "source": [
    "%pip install opik-optimizer tinyqabenchmarkpp --upgrade"
   ]
  },
  {
   "cell_type": "markdown",
   "metadata": {},
   "source": [
    "This step configures the Opik library for your session. It will prompt for your Comet API key if not already set in your environment or through Opik's configuration."
   ]
  },
  {
   "cell_type": "code",
   "execution_count": 2,
   "metadata": {
    "id": "H0DNm-un_0Np"
   },
   "outputs": [
    {
     "name": "stderr",
     "output_type": "stream",
     "text": [
      "OPIK: Opik is already configured. You can check the settings by viewing the config file at /Users/vincentkoc/.opik.config\n"
     ]
    }
   ],
   "source": [
    "import opik\n",
    "opik.configure()"
   ]
  },
  {
   "cell_type": "markdown",
   "metadata": {},
   "source": [
    "For this example, we'll use OpenAI models, so we need to set our OpenAI API key:"
   ]
  },
  {
   "cell_type": "code",
   "execution_count": 3,
   "metadata": {
    "id": "vN72mHQy_7Ou"
   },
   "outputs": [],
   "source": [
    "import os\n",
    "import getpass\n",
    "if \"OPENAI_API_KEY\" not in os.environ:\n",
    "    os.environ[\"OPENAI_API_KEY\"] = getpass.getpass(\"Enter your OpenAI API key: \")"
   ]
  },
  {
   "cell_type": "markdown",
   "metadata": {},
   "source": [
    "## Fetching Traces from Opik"
   ]
  },
  {
   "cell_type": "markdown",
   "metadata": {},
   "source": [
    "Next up we will \"fetch\" existing traces of our AI application within Opik (we will use the demo project that ships with every Opik installation). \n",
    "\n",
    "This fetches traces from the demo project and formats them as a context string. Returns a formatted string with explanatory text and cleaned traces."
   ]
  },
  {
   "cell_type": "code",
   "execution_count": 14,
   "metadata": {},
   "outputs": [
    {
     "name": "stderr",
     "output_type": "stream",
     "text": [
      "OPIK: Opik is already configured. You can check the settings by viewing the config file at /Users/vincentkoc/.opik.config\n"
     ]
    }
   ],
   "source": [
    "OPIK_PROJECT_NAME = \"Demo chatbot 🤖\"\n",
    "\n",
    "# Will prompt for API key if not set\n",
    "opik.configure()\n",
    "\n",
    "# Fetch traces from the demo project\n",
    "#\n",
    "# Commented out the project name to\n",
    "# fetch all traces across all projects\n",
    "client = opik.Opik()\n",
    "traces = client.search_traces(\n",
    "    # project_name=OPIK_PROJECT_NAME,\n",
    "    max_results=40\n",
    ")"
   ]
  },
  {
   "cell_type": "code",
   "execution_count": 15,
   "metadata": {},
   "outputs": [
    {
     "name": "stdout",
     "output_type": "stream",
     "text": [
      "Found 9 traces\n"
     ]
    }
   ],
   "source": [
    "print(f\"Found {len(traces)} traces\")"
   ]
  },
  {
   "cell_type": "markdown",
   "metadata": {},
   "source": [
    "We will define some helper functions to clean and traverse the traces as we don't wan to send noise to the LLM and break the input to the synthetic data generation step."
   ]
  },
  {
   "cell_type": "code",
   "execution_count": 16,
   "metadata": {},
   "outputs": [],
   "source": [
    "import re\n",
    "\n",
    "def extract_text_from_dict(d: dict) -> list[str]:\n",
    "    \"\"\"\n",
    "    Recursively extracts text from a dictionary.\n",
    "    \"\"\"\n",
    "    texts = []\n",
    "    for key, value in d.items():\n",
    "        if isinstance(value, str):\n",
    "            texts.append(value)\n",
    "        elif isinstance(value, dict):\n",
    "            texts.extend(extract_text_from_dict(value))\n",
    "        elif isinstance(value, list):\n",
    "            for item in value:\n",
    "                if isinstance(item, str):\n",
    "                    texts.append(item)\n",
    "                elif isinstance(item, dict):\n",
    "                    texts.extend(extract_text_from_dict(item))\n",
    "    return texts\n",
    "\n",
    "def clean_text(text: str) -> str:\n",
    "    \"\"\"\n",
    "    Cleans text by removing special characters and normalizing whitespace.\n",
    "    \"\"\"\n",
    "    if not text:\n",
    "        return \"\"\n",
    "    # Replace special characters with spaces, but keep basic punctuation\n",
    "    text = re.sub(r'[^\\w\\s.,!?;:\\'\"-]', ' ', text)\n",
    "    # Normalize whitespace\n",
    "    text = re.sub(r'\\s+', ' ', text)\n",
    "    # Remove any leading/trailing whitespace\n",
    "    text = text.strip()\n",
    "    return text"
   ]
  },
  {
   "cell_type": "markdown",
   "metadata": {},
   "source": [
    "We are now ready to extract and clean the text from the traces."
   ]
  },
  {
   "cell_type": "code",
   "execution_count": 17,
   "metadata": {},
   "outputs": [],
   "source": [
    "# Extract and clean text from traces\n",
    "cleaned_texts = []\n",
    "for i, trace in enumerate(traces):\n",
    "    # Extract from input\n",
    "    if trace.input:\n",
    "        if isinstance(trace.input, dict):\n",
    "            texts = extract_text_from_dict(trace.input)\n",
    "            for text in texts:\n",
    "                cleaned = clean_text(text)\n",
    "                if cleaned:\n",
    "                    cleaned_texts.append(cleaned)\n",
    "        elif isinstance(trace.input, str):\n",
    "            cleaned = clean_text(trace.input)\n",
    "            if cleaned:\n",
    "                cleaned_texts.append(cleaned)\n",
    "    \n",
    "    # Extract from output\n",
    "    if trace.output:\n",
    "        if isinstance(trace.output, dict):\n",
    "            texts = extract_text_from_dict(trace.output)\n",
    "            for text in texts:\n",
    "                cleaned = clean_text(text)\n",
    "                if cleaned:\n",
    "                    cleaned_texts.append(cleaned)\n",
    "        elif isinstance(trace.output, str):\n",
    "            cleaned = clean_text(trace.output)\n",
    "            if cleaned:\n",
    "                cleaned_texts.append(cleaned)\n",
    "    \n",
    "    # Extract from metadata if it exists\n",
    "    if trace.metadata:\n",
    "        if isinstance(trace.metadata, dict):\n",
    "            texts = extract_text_from_dict(trace.metadata)\n",
    "            for text in texts:\n",
    "                cleaned = clean_text(text)\n",
    "                if cleaned:\n",
    "                    cleaned_texts.append(cleaned)\n",
    "\n",
    "if not cleaned_texts:\n",
    "    print(\"Debug: No text content found in traces. Here's what we got:\")\n",
    "    for i, trace in enumerate(traces[:5]):  # Show first 5 traces for debugging\n",
    "        print(f\"\\nTrace {i}:\")\n",
    "        print(f\"Input: {trace.input}\")\n",
    "        print(f\"Output: {trace.output}\")\n",
    "        print(f\"Metadata: {trace.metadata}\")\n",
    "    raise ValueError(\"No valid text content found in traces\")\n"
   ]
  },
  {
   "cell_type": "markdown",
   "metadata": {},
   "source": [
    "Let's quickly inspect the traces we have."
   ]
  },
  {
   "cell_type": "code",
   "execution_count": 21,
   "metadata": {},
   "outputs": [
    {
     "data": {
      "text/plain": [
       "TracePublic(id='019644b7-7c5b-7c7f-8587-db780693d76b', project_id='0194fe4e-2e8c-77c0-a863-1621fb52d257', name='levenshtein_ratio_metric', start_time=datetime.datetime(2025, 4, 17, 17, 6, 37, 784083, tzinfo=TzInfo(UTC)), end_time=datetime.datetime(2025, 4, 17, 17, 6, 37, 784165, tzinfo=TzInfo(UTC)), input={'output': 'Paddington and Washington have a total of 320 goats.', 'reference': 'If Washington has 140 goats, Washington has 140+40 = <<140+40=180>>180 goats.\\nIn total, they have 140+180 = <<140+180=320>>320 goats\\n#### 320', 'ignored_kwargs': {'input': '', 'expected_output': 'If Washington has 140 goats, Washington has 140+40 = <<140+40=180>>180 goats.\\nIn total, they have 140+180 = <<140+180=320>>320 goats\\n#### 320', 'context': ''}}, output={'output': {'name': 'levenshtein_ratio_metric', 'value': 0.43523316062176165, 'reason': None, 'metadata': None, 'scoring_failed': False}}, metadata=None, tags=None, error_info=None, usage=None, created_at=datetime.datetime(2025, 4, 17, 17, 6, 38, 599732, tzinfo=TzInfo(UTC)), last_updated_at=datetime.datetime(2025, 4, 17, 17, 6, 38, 599732, tzinfo=TzInfo(UTC)), created_by='vincentkoc', last_updated_by='vincentkoc', feedback_scores=None, comments=None, guardrails_validations=None, total_estimated_cost=None, span_count=1, duration=0.082, thread_id=None)"
      ]
     },
     "metadata": {},
     "output_type": "display_data"
    }
   ],
   "source": [
    "display(traces[0])"
   ]
  },
  {
   "cell_type": "markdown",
   "metadata": {},
   "source": [
    "Remove any duplicates while preserving the order"
   ]
  },
  {
   "cell_type": "code",
   "execution_count": 18,
   "metadata": {},
   "outputs": [],
   "source": [
    "# Remove duplicates while preserving order\n",
    "seen = set()\n",
    "unique_texts = []\n",
    "for text in cleaned_texts:\n",
    "    if text not in seen:\n",
    "        seen.add(text)\n",
    "        unique_texts.append(text)"
   ]
  },
  {
   "cell_type": "markdown",
   "metadata": {},
   "source": [
    "Now we need to create the `context` to pass to the synthetic data generation step"
   ]
  },
  {
   "cell_type": "code",
   "execution_count": 22,
   "metadata": {},
   "outputs": [],
   "source": [
    "context = f\"\"\"\n",
    "This is a collection of AI/LLM conversation traces from\n",
    "a given Comet Opik observability project. The following\n",
    "text contains various interactions and responses that\n",
    "can be used to generate relevant questions and answers.\n",
    "<input>\n",
    "{chr(10).join(unique_texts)}\n",
    "</input>\n",
    "\"\"\""
   ]
  },
  {
   "cell_type": "code",
   "execution_count": 30,
   "metadata": {},
   "outputs": [
    {
     "name": "stdout",
     "output_type": "stream",
     "text": [
      "Found and cleaned 124 unique text segments from traces\n",
      "Total context length: 6214 characters\n"
     ]
    }
   ],
   "source": [
    "print(f\"Found and cleaned {len(unique_texts)} unique text segments from traces\")\n",
    "print(f\"Total context length: {len(context)} characters\")"
   ]
  },
  {
   "cell_type": "markdown",
   "metadata": {},
   "source": [
    "## Generating Synthethic Data\n",
    "\n",
    "We are now ready to generate the synthethic data using `tinyqabenchmarkpp`"
   ]
  },
  {
   "cell_type": "code",
   "execution_count": 19,
   "metadata": {},
   "outputs": [],
   "source": [
    "# Model for tinyqabenchmarkpp\n",
    "TQB_GENERATOR_MODEL = \"openai/gpt-4o-mini\" \n",
    "\n",
    "# Number of questions to generate\n",
    "TQB_NUM_QUESTIONS = 20\n",
    "\n",
    "# Languages to generate questions in\n",
    "TQB_LANGUAGES = \"en\"\n",
    "\n",
    "# Categories to generate questions in\n",
    "TQB_CATEGORIES = \"use context provided and elaborate on it to generate a more detailed answers\"\n",
    "\n",
    "# Difficulty of the questions to generate\n",
    "TQB_DIFFICULTY = \"medium\""
   ]
  },
  {
   "cell_type": "code",
   "execution_count": 23,
   "metadata": {},
   "outputs": [],
   "source": [
    "# Command to generate the synthetic data\n",
    "command = [\n",
    "    \"python\", \"-m\", \"tinyqabenchmarkpp.generate\",\n",
    "    \"--num\", str(TQB_NUM_QUESTIONS),\n",
    "    \"--languages\", TQB_LANGUAGES,\n",
    "    \"--categories\", TQB_CATEGORIES,\n",
    "    \"--difficulty\", TQB_DIFFICULTY,\n",
    "    \"--model\", TQB_GENERATOR_MODEL,\n",
    "    \"--str-output\",\n",
    "    \"--context\", context\n",
    "]"
   ]
  },
  {
   "cell_type": "markdown",
   "metadata": {},
   "source": [
    "Now we run the synthetic data generation step, please be patient as the language model is called."
   ]
  },
  {
   "cell_type": "code",
   "execution_count": null,
   "metadata": {},
   "outputs": [
    {
     "name": "stdout",
     "output_type": "stream",
     "text": [
      "Synthetic data generated successfully\n",
      "{\"text\": \"How does Opik ensure continuous improvement in LLM evaluations?\", \"label\": \"Opik\", \"context\": \"Opik is designed to empower continuous improvement through community-driven innovation.\", \"tags\": {\"category\": \"AI\", \"difficulty\": \"medium\"}, \"sha256\": \"1796defe2059d05d10be5b3550b489102a92dcf41ac65817aa26eaef1de2b0ce\", \"id\": \"7c2c211c\", \"lang\": \"en\"}\n",
      "{\"text\": \"What specific features does the Opik platform provide for monitoring production applications?\", \"label\": \"Opik platform\", \"context\": \"Opik provides features for monitoring production applications, particularly LLM applications.\", \"tags\": {\"category\": \"AI\", \"difficulty\": \"medium\"}, \"sha256\": \"db3752ffb5eb8e15af0a28ffc5374b65618707a3720e2b441a4b29a5ca3bbd91\", \"id\": \"09c1a34a\", \"lang\": \"en\"}\n",
      "{\"text\": \"How can users utilize the Opik dashboard to track their LLM performance?\", \"label\": \"Opik dashboard\", \"context\": \"Users can review their feedback scores, trace count, and tokens over time using the Opik dashboard.\", \"tags\": {\"category\": \"AI\", \"difficulty\": \"medium\"}, \"sha256\": \"348c28bb33856abae548f3d5972b8d1b8f1e2349a4ced09b2b838191c7221b6d\", \"id\": \"de04d671\", \"lang\": \"en\"}\n",
      "{\"text\": \"What role do Judge evaluators play in the LLM evaluation process?\", \"label\": \"Judge evaluators\", \"context\": \"Judge evaluators score traces and LLM calls in the evaluation process.\", \"tags\": {\"category\": \"AI\", \"difficulty\": \"medium\"}, \"sha256\": \"08ab3b538e61286205632ae65bd4951b32c4f0763c8bcbfd22f3ffebdf3f90f3\", \"id\": \"579dbb6a\", \"lang\": \"en\"}\n",
      "{\"text\": \"Why is it important to annotate traces in LLM applications?\", \"label\": \"annotating traces\", \"context\": \"Annotating traces is important for tracking performance over time and identifying areas for improvement.\", \"tags\": {\"category\": \"AI\", \"difficulty\": \"medium\"}, \"sha256\": \"d5020300873f204135ba123fe9ca698d379437749454dace665416c495eaef4d\", \"id\": \"3ee04c60\", \"lang\": \"en\"}\n",
      "{\"text\": \"What steps are involved in executing an evaluation experiment for an LLM application?\", \"label\": \"evaluation experiment\", \"context\": \"Creating and executing an evaluation experiment is part of the LLM evaluation process.\", \"tags\": {\"category\": \"AI\", \"difficulty\": \"medium\"}, \"sha256\": \"0cae5f0464640fec338520f4f9e024e1a75804bc67a1ba1639ed880cf703be64\", \"id\": \"b9d32c21\", \"lang\": \"en\"}\n",
      "{\"text\": \"How does Opik help users gather data for fine-tuning or retraining LLM applications?\", \"label\": \"Opik\", \"context\": \"Opik allows for gathering data for fine-tuning or retraining LLM applications through its evaluation features.\", \"tags\": {\"category\": \"AI\", \"difficulty\": \"medium\"}, \"sha256\": \"64944b43d2709ce68a2966d32bee471af55c50cd644addb08e12da3f8d9bc988\", \"id\": \"1322b902\", \"lang\": \"en\"}\n",
      "{\"text\": \"What metrics can be used to evaluate the performance of LLM applications with Opik?\", \"label\": \"metrics\", \"context\": \"Choosing metrics for evaluation is crucial in assessing the performance of the LLM application.\", \"tags\": {\"category\": \"AI\", \"difficulty\": \"medium\"}, \"sha256\": \"d98d6f0b410b4c731d1a5e1e04868f2890e002dd600d97ce596dd7b3a7e20f00\", \"id\": \"e7891983\", \"lang\": \"en\"}\n",
      "{\"text\": \"How does Opik facilitate the comparison of different model versions or prompts?\", \"label\": \"Opik\", \"context\": \"Opik allows for comparing different model versions or prompts through its evaluation framework.\", \"tags\": {\"category\": \"AI\", \"difficulty\": \"medium\"}, \"sha256\": \"1af39194bbfca93d4e7cb606f244b5d3829141bd6dde6ec1b741b69a8c9c7d39\", \"id\": \"7f890e63\", \"lang\": \"en\"}\n",
      "{\"text\": \"What is the significance of tracking performance over time in LLM applications?\", \"label\": \"tracking performance\", \"context\": \"Tracking performance over time is essential for identifying areas for improvement in LLM applications.\", \"tags\": {\"category\": \"AI\", \"difficulty\": \"medium\"}, \"sha256\": \"0aa74b3428e0f6e5196a0b5cf8161c9c5dff95aac678d0148f7025117509a656\", \"id\": \"065027d1\", \"lang\": \"en\"}\n",
      "{\"text\": \"How does Opik integrate with pytest for tracking unit test results?\", \"label\": \"pytest integration\", \"context\": \"Opik offers pytest integration to track unit test results and compare them between runs.\", \"tags\": {\"category\": \"AI\", \"difficulty\": \"medium\"}, \"sha256\": \"0bc25fefa2439713bfdad1acceb75610303e765c3ee59f8db66f96649036982f\", \"id\": \"1bbae2ed\", \"lang\": \"en\"}\n",
      "{\"text\": \"What advantages does Opik offer for managing datasets in LLM evaluations?\", \"label\": \"managing datasets\", \"context\": \"Users can manage datasets for running evaluations efficiently within the Opik platform.\", \"tags\": {\"category\": \"AI\", \"difficulty\": \"medium\"}, \"sha256\": \"ee1815c13324ef2bc362d3f495e78692ea8c407034f5c404b3379a5326660923\", \"id\": \"b1055f99\", \"lang\": \"en\"}\n",
      "{\"text\": \"In what ways does Opik provide insights for optimizing LLM performance?\", \"label\": \"optimizing performance\", \"context\": \"Opik provides detailed insights and feedback to help optimize the performance of LLM applications.\", \"tags\": {\"category\": \"AI\", \"difficulty\": \"medium\"}, \"sha256\": \"def08899052c3b4d7d42c36cbe09a20c549aaf7a3c33ecb8df623e8cd556d37e\", \"id\": \"407bbcdc\", \"lang\": \"en\"}\n",
      "{\"text\": \"How can Opik's features support community-driven innovation in AI?\", \"label\": \"community-driven innovation\", \"context\": \"Opik's features are designed to foster community-driven innovation through collaboration and feedback.\", \"tags\": {\"category\": \"AI\", \"difficulty\": \"medium\"}, \"sha256\": \"c0259847acb4511b9c2b23313a5506e72b8b4c39aca7f8fb059b95506bf7c4f8\", \"id\": \"f59a963a\", \"lang\": \"en\"}\n",
      "{\"text\": \"What challenges might users face when implementing LLM evaluations with Opik?\", \"label\": \"implementation challenges\", \"context\": \"Implementing LLM evaluations with Opik may present users with specific challenges that need to be addressed.\", \"tags\": {\"category\": \"AI\", \"difficulty\": \"medium\"}, \"sha256\": \"16390ab6a45969fe9b50b1604e6474e1b965bd321db4e426024ab1f103e36d9f\", \"id\": \"0e1e4dd7\", \"lang\": \"en\"}\n",
      "{\"text\": \"What are the benefits of using heuristic evaluators alongside Judge evaluators in Opik?\", \"label\": \"heuristic evaluators\", \"context\": \"Heuristic evaluators complement Judge evaluators by providing additional scoring methods for LLM traces.\", \"tags\": {\"category\": \"AI\", \"difficulty\": \"medium\"}, \"sha256\": \"352434cb877977e7e4e4121e37efac7ed2783eb708646a046f1735c0ba27d530\", \"id\": \"724744ec\", \"lang\": \"en\"}\n",
      "{\"text\": \"How does Opik's approach to LLM evaluation differ from traditional methods?\", \"label\": \"Opik's approach\", \"context\": \"Opik's approach to LLM evaluation incorporates modern techniques that enhance traditional evaluation methods.\", \"tags\": {\"category\": \"AI\", \"difficulty\": \"medium\"}, \"sha256\": \"6c054c100cb33665f9f52642c061eb4e3e0bddbfa34dacb815fa95c24bc8322d\", \"id\": \"669eb4d6\", \"lang\": \"en\"}\n",
      "{\"text\": \"What insights can users gain from the average feedback scores displayed in Opik?\", \"label\": \"average feedback scores\", \"context\": \"Users can gain insights into their LLM application performance from the average feedback scores displayed in Opik.\", \"tags\": {\"category\": \"AI\", \"difficulty\": \"medium\"}, \"sha256\": \"ccc51a92387f4a4e419be9df3d60a8f825f98aeb77df478a48ba0ee258f74ce6\", \"id\": \"47945666\", \"lang\": \"en\"}\n",
      "\n"
     ]
    }
   ],
   "source": [
    "# Use a subprocess to run the command\n",
    "import subprocess\n",
    "process = subprocess.run(command, capture_output=True, text=True, check=True)\n",
    "\n",
    "if process.stderr:\n",
    "    # Print the errors\n",
    "    print(\"tinyqabenchmarkpp errors:\")\n",
    "    print(process.stderr)\n",
    "else:\n",
    "    # Print the output\n",
    "    print(\"Synthetic data generated successfully\")\n",
    "    print(process.stdout)"
   ]
  },
  {
   "cell_type": "markdown",
   "metadata": {},
   "source": [
    "## Store New Dataset in Opik\n",
    "We can use the Opik SDK to push this dataset to Opik"
   ]
  },
  {
   "cell_type": "code",
   "execution_count": 37,
   "metadata": {},
   "outputs": [],
   "source": [
    "generated_data = process.stdout"
   ]
  },
  {
   "cell_type": "markdown",
   "metadata": {},
   "source": [
    "Helper function to process the JSONL response and push to Opik\n",
    "Once we have defined we will be able to run this"
   ]
  },
  {
   "cell_type": "code",
   "execution_count": 42,
   "metadata": {},
   "outputs": [],
   "source": [
    "import json\n",
    "\n",
    "def load_synthetic_data_to_opik(data_str):\n",
    "    \"\"\"Load JSONL synthetic data into Opik as a dataset.\"\"\"\n",
    "    items = []\n",
    "    for line in data_str.strip().split('\\n'):\n",
    "        try:\n",
    "            data = json.loads(line)\n",
    "            if not isinstance(data, dict):\n",
    "                continue\n",
    "            item = {\n",
    "                \"question\": data.get(\"text\"),\n",
    "                \"answer\": data.get(\"label\"),\n",
    "                \"generated_context\": data.get(\"context\"),\n",
    "                \"category\": data.get(\"tags\", {}).get(\"category\"),\n",
    "                \"difficulty\": data.get(\"tags\", {}).get(\"difficulty\")\n",
    "            }\n",
    "            if item[\"question\"] and item[\"answer\"]:\n",
    "                items.append(item)\n",
    "        except Exception:\n",
    "            continue\n",
    "\n",
    "    if not items:\n",
    "        print(\"No valid items found.\")\n",
    "        return None\n",
    "\n",
    "    dataset_name = f\"demo-tinyqab-dataset-{TQB_CATEGORIES.replace(',', '_')}-{TQB_NUM_QUESTIONS}\"\n",
    "    dataset_name = \"\".join(c if c.isalnum() or c in ['-', '_'] else '_' for c in dataset_name)\n",
    "\n",
    "    opik_client = opik.Opik()\n",
    "    dataset = opik_client.create_dataset(\n",
    "        name=dataset_name,\n",
    "        description=f\"Synthetic QA from tinyqabenchmarkpp for {TQB_CATEGORIES}\"\n",
    "    )\n",
    "    dataset.insert(items)\n",
    "    print(f\"Opik Dataset '{dataset.name}' created with ID: {dataset.id}\")\n",
    "    return dataset"
   ]
  },
  {
   "cell_type": "markdown",
   "metadata": {},
   "source": [
    "Push the data to Opik using helper function"
   ]
  },
  {
   "cell_type": "code",
   "execution_count": 43,
   "metadata": {},
   "outputs": [
    {
     "name": "stderr",
     "output_type": "stream",
     "text": [
      "OPIK: Created a \"demo-tinyqab-dataset-use_context_provided_and_elaborate_on_it_to_generate_a_more_detailed_answers-20\" dataset at https://www.comet.com/opik/api/v1/session/redirect/datasets/?dataset_id=0196e9b9-73a7-751a-8d6f-77232aae8bb2&path=aHR0cHM6Ly93d3cuY29tZXQuY29tL29waWsvYXBpLw==.\n"
     ]
    },
    {
     "name": "stdout",
     "output_type": "stream",
     "text": [
      "Opik Dataset 'demo-tinyqab-dataset-use_context_provided_and_elaborate_on_it_to_generate_a_more_detailed_answers-20' created with ID: 0196e9b9-73a7-751a-8d6f-77232aae8bb2\n"
     ]
    }
   ],
   "source": [
    "opik_synthetic_dataset = load_synthetic_data_to_opik(generated_data)\n",
    "if not opik_synthetic_dataset:\n",
    "    print(\"Failed to load synthetic data into Opik. Exiting.\")"
   ]
  },
  {
   "cell_type": "markdown",
   "metadata": {},
   "source": [
    "## Agent Optimization Using Synthetic Data"
   ]
  },
  {
   "cell_type": "markdown",
   "metadata": {},
   "source": [
    "Lets import the required packages for the Opik Agent Optimizer SDK"
   ]
  },
  {
   "cell_type": "code",
   "execution_count": 37,
   "metadata": {},
   "outputs": [],
   "source": [
    "from opik_optimizer import (\n",
    "    MetaPromptOptimizer,\n",
    "    MetricConfig,\n",
    "    TaskConfig,\n",
    "    from_dataset_field,\n",
    "    from_llm_response_text,\n",
    ")\n",
    "from opik.evaluation.metrics import LevenshteinRatio"
   ]
  },
  {
   "cell_type": "markdown",
   "metadata": {},
   "source": [
    "We need to setup some intputs to our optimizer such as our starting prompt and some other configuration items."
   ]
  },
  {
   "cell_type": "code",
   "execution_count": 25,
   "metadata": {},
   "outputs": [],
   "source": [
    "# Initial prompt for the optimizer\n",
    "OPTIMIZER_INITIAL_PROMPT = \"Be a helpful assistant.\"\n",
    "\n",
    "# Model for Opik Agent Optimizer\n",
    "OPTIMIZER_MODEL = \"openai/gpt-4o-mini\"\n",
    "\n",
    "# Population size for the optimizer\n",
    "# Reduced for quicker demo\n",
    "OPTIMIZER_POPULATION_SIZE = 5 \n",
    "\n",
    "# Number of generations for the optimizer\n",
    "# Reduced for quicker demo\n",
    "OPTIMIZER_NUM_GENERATIONS = 2\n",
    "\n",
    "# Number of samples from dataset for optimization eval\n",
    "OPTIMIZER_N_SAMPLES_OPTIMIZATION = 10"
   ]
  },
  {
   "cell_type": "markdown",
   "metadata": {},
   "source": [
    "Now we can setup the metric configuration used for the evaluation, as well as he task_config for passing in the dataset headings and initial prompt.\n",
    "\n",
    "We finally pass this to our optimizer to set this up. We are opting to use the `MetaPromptOptimizer` optimizer in the SDK."
   ]
  },
  {
   "cell_type": "code",
   "execution_count": 38,
   "metadata": {},
   "outputs": [],
   "source": [
    "# Metric Configuration\n",
    "metric_config = MetricConfig(\n",
    "    metric=LevenshteinRatio(project_name=OPIK_PROJECT_NAME),\n",
    "    inputs={\n",
    "        \"output\": from_llm_response_text(),\n",
    "        \"reference\": from_dataset_field(name=\"answer\"),\n",
    "    },\n",
    ")\n",
    "\n",
    "# Task Configuration\n",
    "task_config = TaskConfig(\n",
    "    instruction_prompt=OPTIMIZER_INITIAL_PROMPT,\n",
    "    input_dataset_fields=[\"question\", \"generated_context\"],\n",
    "    output_dataset_field=\"answer\",\n",
    ")\n",
    "\n",
    "# Initialize the optimizer\n",
    "optimizer = MetaPromptOptimizer(\n",
    "    model=OPTIMIZER_MODEL,\n",
    "    project_name=OPIK_PROJECT_NAME,\n",
    "    population_size=OPTIMIZER_POPULATION_SIZE,\n",
    "    num_generations=OPTIMIZER_NUM_GENERATIONS,\n",
    "    enable_moo=False,\n",
    "    enable_llm_crossover=True,\n",
    "    infer_output_style=True,\n",
    "    verbose=1,\n",
    ")"
   ]
  },
  {
   "cell_type": "markdown",
   "metadata": {},
   "source": [
    "Now we can run the optimizer on the dataset and initial starting prompt to find the best prompt based on our synthetic data."
   ]
  },
  {
   "cell_type": "code",
   "execution_count": 28,
   "metadata": {},
   "outputs": [],
   "source": [
    "# Commented out if you wan to pull the dataset from Opik without having\n",
    "# to generate the synthetic data again\n",
    "\n",
    "# from opik_optimizer.demo import get_or_create_dataset\n",
    "# opik_synthetic_dataset = get_or_create_dataset(\"demo-tinyqab-dataset-use_context_provided_and_elaborate_on_it_to_generate_a_more_detailed_answers-20\")"
   ]
  },
  {
   "cell_type": "code",
   "execution_count": 39,
   "metadata": {},
   "outputs": [
    {
     "data": {
      "application/vnd.jupyter.widget-view+json": {
       "model_id": "f29442d015d84057a8d90b268f87cf97",
       "version_major": 2,
       "version_minor": 0
      },
      "text/plain": [
       "Evaluation:   0%|          | 0/10 [00:00<?, ?it/s]"
      ]
     },
     "metadata": {},
     "output_type": "display_data"
    },
    {
     "data": {
      "text/html": [
       "<pre style=\"white-space:pre;overflow-x:auto;line-height:normal;font-family:Menlo,'DejaVu Sans Mono',consolas,'Courier New',monospace\">╭─ demo-tinyqab-dataset-use_context_provided_and_elaborate_on_it_to_generate_a_more_detailed_answers-20 (10 sampl─╮\n",
       "│                                                                                                                 │\n",
       "│ <span style=\"font-weight: bold\">Total time:       </span> 00:00:00                                                                                     │\n",
       "│ <span style=\"font-weight: bold\">Number of samples:</span> 10                                                                                           │\n",
       "│                                                                                                                 │\n",
       "│ <span style=\"color: #008000; text-decoration-color: #008000; font-weight: bold\">levenshtein_ratio_metric: 0.0225 (avg)</span>                                                                          │\n",
       "│                                                                                                                 │\n",
       "╰─────────────────────────────────────────────────────────────────────────────────────────────────────────────────╯\n",
       "</pre>\n"
      ],
      "text/plain": [
       "╭─ demo-tinyqab-dataset-use_context_provided_and_elaborate_on_it_to_generate_a_more_detailed_answers-20 (10 sampl─╮\n",
       "│                                                                                                                 │\n",
       "│ \u001b[1mTotal time:       \u001b[0m 00:00:00                                                                                     │\n",
       "│ \u001b[1mNumber of samples:\u001b[0m 10                                                                                           │\n",
       "│                                                                                                                 │\n",
       "│ \u001b[1;32mlevenshtein_ratio_metric: 0.0225 (avg)\u001b[0m                                                                          │\n",
       "│                                                                                                                 │\n",
       "╰─────────────────────────────────────────────────────────────────────────────────────────────────────────────────╯\n"
      ]
     },
     "metadata": {},
     "output_type": "display_data"
    },
    {
     "data": {
      "text/html": [
       "<pre style=\"white-space:pre;overflow-x:auto;line-height:normal;font-family:Menlo,'DejaVu Sans Mono',consolas,'Courier New',monospace\">Uploading results to Opik <span style=\"color: #808000; text-decoration-color: #808000\">...</span> \n",
       "</pre>\n"
      ],
      "text/plain": [
       "Uploading results to Opik \u001b[33m...\u001b[0m \n"
      ]
     },
     "metadata": {},
     "output_type": "display_data"
    },
    {
     "data": {
      "text/html": [
       "<pre style=\"white-space:pre;overflow-x:auto;line-height:normal;font-family:Menlo,'DejaVu Sans Mono',consolas,'Courier New',monospace\">View the results <a href=\"https://www.comet.com/opik/api/v1/session/redirect/experiments/?experiment_id=0196e9d1-d6a7-7e08-a494-caa46bcb73aa&dataset_id=0196e9b9-73a7-751a-8d6f-77232aae8bb2&path=aHR0cHM6Ly93d3cuY29tZXQuY29tL29waWsvYXBpLw==\" target=\"_blank\">in your Opik dashboard</a>.\n",
       "</pre>\n"
      ],
      "text/plain": [
       "View the results \u001b]8;id=709570;https://www.comet.com/opik/api/v1/session/redirect/experiments/?experiment_id=0196e9d1-d6a7-7e08-a494-caa46bcb73aa&dataset_id=0196e9b9-73a7-751a-8d6f-77232aae8bb2&path=aHR0cHM6Ly93d3cuY29tZXQuY29tL29waWsvYXBpLw==\u001b\\in your Opik dashboard\u001b]8;;\u001b\\.\n"
      ]
     },
     "metadata": {},
     "output_type": "display_data"
    },
    {
     "data": {
      "application/vnd.jupyter.widget-view+json": {
       "model_id": "47f2e0ac48ab4033bf73f6faaed90f67",
       "version_major": 2,
       "version_minor": 0
      },
      "text/plain": [
       "Optimizing Prompt:   0%|                    | 0/3 [00:00<?, ?round/s, best_score=0.0225, llm_calls=0] | 0/3 [0…"
      ]
     },
     "metadata": {},
     "output_type": "display_data"
    },
    {
     "data": {
      "application/vnd.jupyter.widget-view+json": {
       "model_id": "4c6d757fcd904410a9f5990a8736f778",
       "version_major": 2,
       "version_minor": 0
      },
      "text/plain": [
       "Evaluation:   0%|          | 0/10 [00:00<?, ?it/s]"
      ]
     },
     "metadata": {},
     "output_type": "display_data"
    },
    {
     "data": {
      "text/html": [
       "<pre style=\"white-space:pre;overflow-x:auto;line-height:normal;font-family:Menlo,'DejaVu Sans Mono',consolas,'Courier New',monospace\">╭─ demo-tinyqab-dataset-use_context_provided_and_elaborate_on_it_to_generate_a_more_detailed_answers-20 (10 sampl─╮\n",
       "│                                                                                                                 │\n",
       "│ <span style=\"font-weight: bold\">Total time:       </span> 00:00:01                                                                                     │\n",
       "│ <span style=\"font-weight: bold\">Number of samples:</span> 10                                                                                           │\n",
       "│                                                                                                                 │\n",
       "│ <span style=\"color: #008000; text-decoration-color: #008000; font-weight: bold\">levenshtein_ratio_metric: 0.4147 (avg)</span>                                                                          │\n",
       "│                                                                                                                 │\n",
       "╰─────────────────────────────────────────────────────────────────────────────────────────────────────────────────╯\n",
       "</pre>\n"
      ],
      "text/plain": [
       "╭─ demo-tinyqab-dataset-use_context_provided_and_elaborate_on_it_to_generate_a_more_detailed_answers-20 (10 sampl─╮\n",
       "│                                                                                                                 │\n",
       "│ \u001b[1mTotal time:       \u001b[0m 00:00:01                                                                                     │\n",
       "│ \u001b[1mNumber of samples:\u001b[0m 10                                                                                           │\n",
       "│                                                                                                                 │\n",
       "│ \u001b[1;32mlevenshtein_ratio_metric: 0.4147 (avg)\u001b[0m                                                                          │\n",
       "│                                                                                                                 │\n",
       "╰─────────────────────────────────────────────────────────────────────────────────────────────────────────────────╯\n"
      ]
     },
     "metadata": {},
     "output_type": "display_data"
    },
    {
     "data": {
      "text/html": [
       "<pre style=\"white-space:pre;overflow-x:auto;line-height:normal;font-family:Menlo,'DejaVu Sans Mono',consolas,'Courier New',monospace\">Uploading results to Opik <span style=\"color: #808000; text-decoration-color: #808000\">...</span> \n",
       "</pre>\n"
      ],
      "text/plain": [
       "Uploading results to Opik \u001b[33m...\u001b[0m \n"
      ]
     },
     "metadata": {},
     "output_type": "display_data"
    },
    {
     "data": {
      "text/html": [
       "<pre style=\"white-space:pre;overflow-x:auto;line-height:normal;font-family:Menlo,'DejaVu Sans Mono',consolas,'Courier New',monospace\">View the results <a href=\"https://www.comet.com/opik/api/v1/session/redirect/experiments/?experiment_id=0196e9d2-06bc-7633-923c-5c5067ff9295&dataset_id=0196e9b9-73a7-751a-8d6f-77232aae8bb2&path=aHR0cHM6Ly93d3cuY29tZXQuY29tL29waWsvYXBpLw==\" target=\"_blank\">in your Opik dashboard</a>.\n",
       "</pre>\n"
      ],
      "text/plain": [
       "View the results \u001b]8;id=571858;https://www.comet.com/opik/api/v1/session/redirect/experiments/?experiment_id=0196e9d2-06bc-7633-923c-5c5067ff9295&dataset_id=0196e9b9-73a7-751a-8d6f-77232aae8bb2&path=aHR0cHM6Ly93d3cuY29tZXQuY29tL29waWsvYXBpLw==\u001b\\in your Opik dashboard\u001b]8;;\u001b\\.\n"
      ]
     },
     "metadata": {},
     "output_type": "display_data"
    },
    {
     "data": {
      "application/vnd.jupyter.widget-view+json": {
       "model_id": "c6ec5d3b4312433fba2846e24c047337",
       "version_major": 2,
       "version_minor": 0
      },
      "text/plain": [
       "Evaluation:   0%|          | 0/10 [00:00<?, ?it/s]"
      ]
     },
     "metadata": {},
     "output_type": "display_data"
    },
    {
     "data": {
      "text/html": [
       "<pre style=\"white-space:pre;overflow-x:auto;line-height:normal;font-family:Menlo,'DejaVu Sans Mono',consolas,'Courier New',monospace\">╭─ demo-tinyqab-dataset-use_context_provided_and_elaborate_on_it_to_generate_a_more_detailed_answers-20 (10 sampl─╮\n",
       "│                                                                                                                 │\n",
       "│ <span style=\"font-weight: bold\">Total time:       </span> 00:00:00                                                                                     │\n",
       "│ <span style=\"font-weight: bold\">Number of samples:</span> 10                                                                                           │\n",
       "│                                                                                                                 │\n",
       "│ <span style=\"color: #008000; text-decoration-color: #008000; font-weight: bold\">levenshtein_ratio_metric: 0.4147 (avg)</span>                                                                          │\n",
       "│                                                                                                                 │\n",
       "╰─────────────────────────────────────────────────────────────────────────────────────────────────────────────────╯\n",
       "</pre>\n"
      ],
      "text/plain": [
       "╭─ demo-tinyqab-dataset-use_context_provided_and_elaborate_on_it_to_generate_a_more_detailed_answers-20 (10 sampl─╮\n",
       "│                                                                                                                 │\n",
       "│ \u001b[1mTotal time:       \u001b[0m 00:00:00                                                                                     │\n",
       "│ \u001b[1mNumber of samples:\u001b[0m 10                                                                                           │\n",
       "│                                                                                                                 │\n",
       "│ \u001b[1;32mlevenshtein_ratio_metric: 0.4147 (avg)\u001b[0m                                                                          │\n",
       "│                                                                                                                 │\n",
       "╰─────────────────────────────────────────────────────────────────────────────────────────────────────────────────╯\n"
      ]
     },
     "metadata": {},
     "output_type": "display_data"
    },
    {
     "data": {
      "text/html": [
       "<pre style=\"white-space:pre;overflow-x:auto;line-height:normal;font-family:Menlo,'DejaVu Sans Mono',consolas,'Courier New',monospace\">Uploading results to Opik <span style=\"color: #808000; text-decoration-color: #808000\">...</span> \n",
       "</pre>\n"
      ],
      "text/plain": [
       "Uploading results to Opik \u001b[33m...\u001b[0m \n"
      ]
     },
     "metadata": {},
     "output_type": "display_data"
    },
    {
     "data": {
      "text/html": [
       "<pre style=\"white-space:pre;overflow-x:auto;line-height:normal;font-family:Menlo,'DejaVu Sans Mono',consolas,'Courier New',monospace\">View the results <a href=\"https://www.comet.com/opik/api/v1/session/redirect/experiments/?experiment_id=0196e9d2-107f-7dea-b911-8098c3c47320&dataset_id=0196e9b9-73a7-751a-8d6f-77232aae8bb2&path=aHR0cHM6Ly93d3cuY29tZXQuY29tL29waWsvYXBpLw==\" target=\"_blank\">in your Opik dashboard</a>.\n",
       "</pre>\n"
      ],
      "text/plain": [
       "View the results \u001b]8;id=442417;https://www.comet.com/opik/api/v1/session/redirect/experiments/?experiment_id=0196e9d2-107f-7dea-b911-8098c3c47320&dataset_id=0196e9b9-73a7-751a-8d6f-77232aae8bb2&path=aHR0cHM6Ly93d3cuY29tZXQuY29tL29waWsvYXBpLw==\u001b\\in your Opik dashboard\u001b]8;;\u001b\\.\n"
      ]
     },
     "metadata": {},
     "output_type": "display_data"
    },
    {
     "data": {
      "application/vnd.jupyter.widget-view+json": {
       "model_id": "02f3839f15fc4d529faca4b832950ef1",
       "version_major": 2,
       "version_minor": 0
      },
      "text/plain": [
       "Evaluation:   0%|          | 0/10 [00:00<?, ?it/s]"
      ]
     },
     "metadata": {},
     "output_type": "display_data"
    },
    {
     "data": {
      "text/html": [
       "<pre style=\"white-space:pre;overflow-x:auto;line-height:normal;font-family:Menlo,'DejaVu Sans Mono',consolas,'Courier New',monospace\">╭─ demo-tinyqab-dataset-use_context_provided_and_elaborate_on_it_to_generate_a_more_detailed_answers-20 (10 sampl─╮\n",
       "│                                                                                                                 │\n",
       "│ <span style=\"font-weight: bold\">Total time:       </span> 00:00:00                                                                                     │\n",
       "│ <span style=\"font-weight: bold\">Number of samples:</span> 10                                                                                           │\n",
       "│                                                                                                                 │\n",
       "│ <span style=\"color: #008000; text-decoration-color: #008000; font-weight: bold\">levenshtein_ratio_metric: 0.4147 (avg)</span>                                                                          │\n",
       "│                                                                                                                 │\n",
       "╰─────────────────────────────────────────────────────────────────────────────────────────────────────────────────╯\n",
       "</pre>\n"
      ],
      "text/plain": [
       "╭─ demo-tinyqab-dataset-use_context_provided_and_elaborate_on_it_to_generate_a_more_detailed_answers-20 (10 sampl─╮\n",
       "│                                                                                                                 │\n",
       "│ \u001b[1mTotal time:       \u001b[0m 00:00:00                                                                                     │\n",
       "│ \u001b[1mNumber of samples:\u001b[0m 10                                                                                           │\n",
       "│                                                                                                                 │\n",
       "│ \u001b[1;32mlevenshtein_ratio_metric: 0.4147 (avg)\u001b[0m                                                                          │\n",
       "│                                                                                                                 │\n",
       "╰─────────────────────────────────────────────────────────────────────────────────────────────────────────────────╯\n"
      ]
     },
     "metadata": {},
     "output_type": "display_data"
    },
    {
     "data": {
      "text/html": [
       "<pre style=\"white-space:pre;overflow-x:auto;line-height:normal;font-family:Menlo,'DejaVu Sans Mono',consolas,'Courier New',monospace\">Uploading results to Opik <span style=\"color: #808000; text-decoration-color: #808000\">...</span> \n",
       "</pre>\n"
      ],
      "text/plain": [
       "Uploading results to Opik \u001b[33m...\u001b[0m \n"
      ]
     },
     "metadata": {},
     "output_type": "display_data"
    },
    {
     "data": {
      "text/html": [
       "<pre style=\"white-space:pre;overflow-x:auto;line-height:normal;font-family:Menlo,'DejaVu Sans Mono',consolas,'Courier New',monospace\">View the results <a href=\"https://www.comet.com/opik/api/v1/session/redirect/experiments/?experiment_id=0196e9d2-167f-71bc-aa3e-2aa17f5570b7&dataset_id=0196e9b9-73a7-751a-8d6f-77232aae8bb2&path=aHR0cHM6Ly93d3cuY29tZXQuY29tL29waWsvYXBpLw==\" target=\"_blank\">in your Opik dashboard</a>.\n",
       "</pre>\n"
      ],
      "text/plain": [
       "View the results \u001b]8;id=98246;https://www.comet.com/opik/api/v1/session/redirect/experiments/?experiment_id=0196e9d2-167f-71bc-aa3e-2aa17f5570b7&dataset_id=0196e9b9-73a7-751a-8d6f-77232aae8bb2&path=aHR0cHM6Ly93d3cuY29tZXQuY29tL29waWsvYXBpLw==\u001b\\in your Opik dashboard\u001b]8;;\u001b\\.\n"
      ]
     },
     "metadata": {},
     "output_type": "display_data"
    },
    {
     "data": {
      "application/vnd.jupyter.widget-view+json": {
       "model_id": "3821ed463259417aa3c02303dcff585f",
       "version_major": 2,
       "version_minor": 0
      },
      "text/plain": [
       "Evaluation:   0%|          | 0/10 [00:00<?, ?it/s]"
      ]
     },
     "metadata": {},
     "output_type": "display_data"
    },
    {
     "data": {
      "text/html": [
       "<pre style=\"white-space:pre;overflow-x:auto;line-height:normal;font-family:Menlo,'DejaVu Sans Mono',consolas,'Courier New',monospace\">╭─ demo-tinyqab-dataset-use_context_provided_and_elaborate_on_it_to_generate_a_more_detailed_answers-20 (10 sampl─╮\n",
       "│                                                                                                                 │\n",
       "│ <span style=\"font-weight: bold\">Total time:       </span> 00:00:00                                                                                     │\n",
       "│ <span style=\"font-weight: bold\">Number of samples:</span> 10                                                                                           │\n",
       "│                                                                                                                 │\n",
       "│ <span style=\"color: #008000; text-decoration-color: #008000; font-weight: bold\">levenshtein_ratio_metric: 0.4147 (avg)</span>                                                                          │\n",
       "│                                                                                                                 │\n",
       "╰─────────────────────────────────────────────────────────────────────────────────────────────────────────────────╯\n",
       "</pre>\n"
      ],
      "text/plain": [
       "╭─ demo-tinyqab-dataset-use_context_provided_and_elaborate_on_it_to_generate_a_more_detailed_answers-20 (10 sampl─╮\n",
       "│                                                                                                                 │\n",
       "│ \u001b[1mTotal time:       \u001b[0m 00:00:00                                                                                     │\n",
       "│ \u001b[1mNumber of samples:\u001b[0m 10                                                                                           │\n",
       "│                                                                                                                 │\n",
       "│ \u001b[1;32mlevenshtein_ratio_metric: 0.4147 (avg)\u001b[0m                                                                          │\n",
       "│                                                                                                                 │\n",
       "╰─────────────────────────────────────────────────────────────────────────────────────────────────────────────────╯\n"
      ]
     },
     "metadata": {},
     "output_type": "display_data"
    },
    {
     "data": {
      "text/html": [
       "<pre style=\"white-space:pre;overflow-x:auto;line-height:normal;font-family:Menlo,'DejaVu Sans Mono',consolas,'Courier New',monospace\">Uploading results to Opik <span style=\"color: #808000; text-decoration-color: #808000\">...</span> \n",
       "</pre>\n"
      ],
      "text/plain": [
       "Uploading results to Opik \u001b[33m...\u001b[0m \n"
      ]
     },
     "metadata": {},
     "output_type": "display_data"
    },
    {
     "data": {
      "text/html": [
       "<pre style=\"white-space:pre;overflow-x:auto;line-height:normal;font-family:Menlo,'DejaVu Sans Mono',consolas,'Courier New',monospace\">View the results <a href=\"https://www.comet.com/opik/api/v1/session/redirect/experiments/?experiment_id=0196e9d2-1c34-7d57-9d83-2f2ac00f8644&dataset_id=0196e9b9-73a7-751a-8d6f-77232aae8bb2&path=aHR0cHM6Ly93d3cuY29tZXQuY29tL29waWsvYXBpLw==\" target=\"_blank\">in your Opik dashboard</a>.\n",
       "</pre>\n"
      ],
      "text/plain": [
       "View the results \u001b]8;id=529903;https://www.comet.com/opik/api/v1/session/redirect/experiments/?experiment_id=0196e9d2-1c34-7d57-9d83-2f2ac00f8644&dataset_id=0196e9b9-73a7-751a-8d6f-77232aae8bb2&path=aHR0cHM6Ly93d3cuY29tZXQuY29tL29waWsvYXBpLw==\u001b\\in your Opik dashboard\u001b]8;;\u001b\\.\n"
      ]
     },
     "metadata": {},
     "output_type": "display_data"
    },
    {
     "data": {
      "application/vnd.jupyter.widget-view+json": {
       "model_id": "03a41691d1d946ddb44d9f0c42e25de4",
       "version_major": 2,
       "version_minor": 0
      },
      "text/plain": [
       "Evaluation:   0%|          | 0/10 [00:00<?, ?it/s]"
      ]
     },
     "metadata": {},
     "output_type": "display_data"
    },
    {
     "data": {
      "text/html": [
       "<pre style=\"white-space:pre;overflow-x:auto;line-height:normal;font-family:Menlo,'DejaVu Sans Mono',consolas,'Courier New',monospace\">╭─ demo-tinyqab-dataset-use_context_provided_and_elaborate_on_it_to_generate_a_more_detailed_answers-20 (10 sampl─╮\n",
       "│                                                                                                                 │\n",
       "│ <span style=\"font-weight: bold\">Total time:       </span> 00:00:00                                                                                     │\n",
       "│ <span style=\"font-weight: bold\">Number of samples:</span> 10                                                                                           │\n",
       "│                                                                                                                 │\n",
       "│ <span style=\"color: #008000; text-decoration-color: #008000; font-weight: bold\">levenshtein_ratio_metric: 0.4147 (avg)</span>                                                                          │\n",
       "│                                                                                                                 │\n",
       "╰─────────────────────────────────────────────────────────────────────────────────────────────────────────────────╯\n",
       "</pre>\n"
      ],
      "text/plain": [
       "╭─ demo-tinyqab-dataset-use_context_provided_and_elaborate_on_it_to_generate_a_more_detailed_answers-20 (10 sampl─╮\n",
       "│                                                                                                                 │\n",
       "│ \u001b[1mTotal time:       \u001b[0m 00:00:00                                                                                     │\n",
       "│ \u001b[1mNumber of samples:\u001b[0m 10                                                                                           │\n",
       "│                                                                                                                 │\n",
       "│ \u001b[1;32mlevenshtein_ratio_metric: 0.4147 (avg)\u001b[0m                                                                          │\n",
       "│                                                                                                                 │\n",
       "╰─────────────────────────────────────────────────────────────────────────────────────────────────────────────────╯\n"
      ]
     },
     "metadata": {},
     "output_type": "display_data"
    },
    {
     "data": {
      "text/html": [
       "<pre style=\"white-space:pre;overflow-x:auto;line-height:normal;font-family:Menlo,'DejaVu Sans Mono',consolas,'Courier New',monospace\">Uploading results to Opik <span style=\"color: #808000; text-decoration-color: #808000\">...</span> \n",
       "</pre>\n"
      ],
      "text/plain": [
       "Uploading results to Opik \u001b[33m...\u001b[0m \n"
      ]
     },
     "metadata": {},
     "output_type": "display_data"
    },
    {
     "data": {
      "text/html": [
       "<pre style=\"white-space:pre;overflow-x:auto;line-height:normal;font-family:Menlo,'DejaVu Sans Mono',consolas,'Courier New',monospace\">View the results <a href=\"https://www.comet.com/opik/api/v1/session/redirect/experiments/?experiment_id=0196e9d2-21e4-7b02-a8db-3a5adab7cbf2&dataset_id=0196e9b9-73a7-751a-8d6f-77232aae8bb2&path=aHR0cHM6Ly93d3cuY29tZXQuY29tL29waWsvYXBpLw==\" target=\"_blank\">in your Opik dashboard</a>.\n",
       "</pre>\n"
      ],
      "text/plain": [
       "View the results \u001b]8;id=588508;https://www.comet.com/opik/api/v1/session/redirect/experiments/?experiment_id=0196e9d2-21e4-7b02-a8db-3a5adab7cbf2&dataset_id=0196e9b9-73a7-751a-8d6f-77232aae8bb2&path=aHR0cHM6Ly93d3cuY29tZXQuY29tL29waWsvYXBpLw==\u001b\\in your Opik dashboard\u001b]8;;\u001b\\.\n"
      ]
     },
     "metadata": {},
     "output_type": "display_data"
    },
    {
     "data": {
      "application/vnd.jupyter.widget-view+json": {
       "model_id": "3c13114a02284720811ec840e7906f7c",
       "version_major": 2,
       "version_minor": 0
      },
      "text/plain": [
       "Evaluation:   0%|          | 0/10 [00:00<?, ?it/s]"
      ]
     },
     "metadata": {},
     "output_type": "display_data"
    },
    {
     "data": {
      "text/html": [
       "<pre style=\"white-space:pre;overflow-x:auto;line-height:normal;font-family:Menlo,'DejaVu Sans Mono',consolas,'Courier New',monospace\">╭─ demo-tinyqab-dataset-use_context_provided_and_elaborate_on_it_to_generate_a_more_detailed_answers-20 (10 sampl─╮\n",
       "│                                                                                                                 │\n",
       "│ <span style=\"font-weight: bold\">Total time:       </span> 00:00:00                                                                                     │\n",
       "│ <span style=\"font-weight: bold\">Number of samples:</span> 10                                                                                           │\n",
       "│                                                                                                                 │\n",
       "│ <span style=\"color: #008000; text-decoration-color: #008000; font-weight: bold\">levenshtein_ratio_metric: 0.4147 (avg)</span>                                                                          │\n",
       "│                                                                                                                 │\n",
       "╰─────────────────────────────────────────────────────────────────────────────────────────────────────────────────╯\n",
       "</pre>\n"
      ],
      "text/plain": [
       "╭─ demo-tinyqab-dataset-use_context_provided_and_elaborate_on_it_to_generate_a_more_detailed_answers-20 (10 sampl─╮\n",
       "│                                                                                                                 │\n",
       "│ \u001b[1mTotal time:       \u001b[0m 00:00:00                                                                                     │\n",
       "│ \u001b[1mNumber of samples:\u001b[0m 10                                                                                           │\n",
       "│                                                                                                                 │\n",
       "│ \u001b[1;32mlevenshtein_ratio_metric: 0.4147 (avg)\u001b[0m                                                                          │\n",
       "│                                                                                                                 │\n",
       "╰─────────────────────────────────────────────────────────────────────────────────────────────────────────────────╯\n"
      ]
     },
     "metadata": {},
     "output_type": "display_data"
    },
    {
     "data": {
      "text/html": [
       "<pre style=\"white-space:pre;overflow-x:auto;line-height:normal;font-family:Menlo,'DejaVu Sans Mono',consolas,'Courier New',monospace\">Uploading results to Opik <span style=\"color: #808000; text-decoration-color: #808000\">...</span> \n",
       "</pre>\n"
      ],
      "text/plain": [
       "Uploading results to Opik \u001b[33m...\u001b[0m \n"
      ]
     },
     "metadata": {},
     "output_type": "display_data"
    },
    {
     "data": {
      "text/html": [
       "<pre style=\"white-space:pre;overflow-x:auto;line-height:normal;font-family:Menlo,'DejaVu Sans Mono',consolas,'Courier New',monospace\">View the results <a href=\"https://www.comet.com/opik/api/v1/session/redirect/experiments/?experiment_id=0196e9d2-2773-71ec-a466-c558adb4d525&dataset_id=0196e9b9-73a7-751a-8d6f-77232aae8bb2&path=aHR0cHM6Ly93d3cuY29tZXQuY29tL29waWsvYXBpLw==\" target=\"_blank\">in your Opik dashboard</a>.\n",
       "</pre>\n"
      ],
      "text/plain": [
       "View the results \u001b]8;id=681453;https://www.comet.com/opik/api/v1/session/redirect/experiments/?experiment_id=0196e9d2-2773-71ec-a466-c558adb4d525&dataset_id=0196e9b9-73a7-751a-8d6f-77232aae8bb2&path=aHR0cHM6Ly93d3cuY29tZXQuY29tL29waWsvYXBpLw==\u001b\\in your Opik dashboard\u001b]8;;\u001b\\.\n"
      ]
     },
     "metadata": {},
     "output_type": "display_data"
    },
    {
     "data": {
      "application/vnd.jupyter.widget-view+json": {
       "model_id": "ac2f913def744d58840ad888be79ced6",
       "version_major": 2,
       "version_minor": 0
      },
      "text/plain": [
       "Evaluation:   0%|          | 0/10 [00:00<?, ?it/s]"
      ]
     },
     "metadata": {},
     "output_type": "display_data"
    },
    {
     "data": {
      "text/html": [
       "<pre style=\"white-space:pre;overflow-x:auto;line-height:normal;font-family:Menlo,'DejaVu Sans Mono',consolas,'Courier New',monospace\">╭─ demo-tinyqab-dataset-use_context_provided_and_elaborate_on_it_to_generate_a_more_detailed_answers-20 (10 sampl─╮\n",
       "│                                                                                                                 │\n",
       "│ <span style=\"font-weight: bold\">Total time:       </span> 00:00:01                                                                                     │\n",
       "│ <span style=\"font-weight: bold\">Number of samples:</span> 10                                                                                           │\n",
       "│                                                                                                                 │\n",
       "│ <span style=\"color: #008000; text-decoration-color: #008000; font-weight: bold\">levenshtein_ratio_metric: 0.6319 (avg)</span>                                                                          │\n",
       "│                                                                                                                 │\n",
       "╰─────────────────────────────────────────────────────────────────────────────────────────────────────────────────╯\n",
       "</pre>\n"
      ],
      "text/plain": [
       "╭─ demo-tinyqab-dataset-use_context_provided_and_elaborate_on_it_to_generate_a_more_detailed_answers-20 (10 sampl─╮\n",
       "│                                                                                                                 │\n",
       "│ \u001b[1mTotal time:       \u001b[0m 00:00:01                                                                                     │\n",
       "│ \u001b[1mNumber of samples:\u001b[0m 10                                                                                           │\n",
       "│                                                                                                                 │\n",
       "│ \u001b[1;32mlevenshtein_ratio_metric: 0.6319 (avg)\u001b[0m                                                                          │\n",
       "│                                                                                                                 │\n",
       "╰─────────────────────────────────────────────────────────────────────────────────────────────────────────────────╯\n"
      ]
     },
     "metadata": {},
     "output_type": "display_data"
    },
    {
     "data": {
      "text/html": [
       "<pre style=\"white-space:pre;overflow-x:auto;line-height:normal;font-family:Menlo,'DejaVu Sans Mono',consolas,'Courier New',monospace\">Uploading results to Opik <span style=\"color: #808000; text-decoration-color: #808000\">...</span> \n",
       "</pre>\n"
      ],
      "text/plain": [
       "Uploading results to Opik \u001b[33m...\u001b[0m \n"
      ]
     },
     "metadata": {},
     "output_type": "display_data"
    },
    {
     "data": {
      "text/html": [
       "<pre style=\"white-space:pre;overflow-x:auto;line-height:normal;font-family:Menlo,'DejaVu Sans Mono',consolas,'Courier New',monospace\">View the results <a href=\"https://www.comet.com/opik/api/v1/session/redirect/experiments/?experiment_id=0196e9d2-31da-7340-8cd6-53c60c3a7985&dataset_id=0196e9b9-73a7-751a-8d6f-77232aae8bb2&path=aHR0cHM6Ly93d3cuY29tZXQuY29tL29waWsvYXBpLw==\" target=\"_blank\">in your Opik dashboard</a>.\n",
       "</pre>\n"
      ],
      "text/plain": [
       "View the results \u001b]8;id=439898;https://www.comet.com/opik/api/v1/session/redirect/experiments/?experiment_id=0196e9d2-31da-7340-8cd6-53c60c3a7985&dataset_id=0196e9b9-73a7-751a-8d6f-77232aae8bb2&path=aHR0cHM6Ly93d3cuY29tZXQuY29tL29waWsvYXBpLw==\u001b\\in your Opik dashboard\u001b]8;;\u001b\\.\n"
      ]
     },
     "metadata": {},
     "output_type": "display_data"
    },
    {
     "data": {
      "application/vnd.jupyter.widget-view+json": {
       "model_id": "b292cb3f22f0408f95f30e2aeab386dd",
       "version_major": 2,
       "version_minor": 0
      },
      "text/plain": [
       "Evaluation:   0%|          | 0/10 [00:00<?, ?it/s]"
      ]
     },
     "metadata": {},
     "output_type": "display_data"
    },
    {
     "data": {
      "text/html": [
       "<pre style=\"white-space:pre;overflow-x:auto;line-height:normal;font-family:Menlo,'DejaVu Sans Mono',consolas,'Courier New',monospace\">╭─ demo-tinyqab-dataset-use_context_provided_and_elaborate_on_it_to_generate_a_more_detailed_answers-20 (10 sampl─╮\n",
       "│                                                                                                                 │\n",
       "│ <span style=\"font-weight: bold\">Total time:       </span> 00:00:00                                                                                     │\n",
       "│ <span style=\"font-weight: bold\">Number of samples:</span> 10                                                                                           │\n",
       "│                                                                                                                 │\n",
       "│ <span style=\"color: #008000; text-decoration-color: #008000; font-weight: bold\">levenshtein_ratio_metric: 0.6319 (avg)</span>                                                                          │\n",
       "│                                                                                                                 │\n",
       "╰─────────────────────────────────────────────────────────────────────────────────────────────────────────────────╯\n",
       "</pre>\n"
      ],
      "text/plain": [
       "╭─ demo-tinyqab-dataset-use_context_provided_and_elaborate_on_it_to_generate_a_more_detailed_answers-20 (10 sampl─╮\n",
       "│                                                                                                                 │\n",
       "│ \u001b[1mTotal time:       \u001b[0m 00:00:00                                                                                     │\n",
       "│ \u001b[1mNumber of samples:\u001b[0m 10                                                                                           │\n",
       "│                                                                                                                 │\n",
       "│ \u001b[1;32mlevenshtein_ratio_metric: 0.6319 (avg)\u001b[0m                                                                          │\n",
       "│                                                                                                                 │\n",
       "╰─────────────────────────────────────────────────────────────────────────────────────────────────────────────────╯\n"
      ]
     },
     "metadata": {},
     "output_type": "display_data"
    },
    {
     "data": {
      "text/html": [
       "<pre style=\"white-space:pre;overflow-x:auto;line-height:normal;font-family:Menlo,'DejaVu Sans Mono',consolas,'Courier New',monospace\">Uploading results to Opik <span style=\"color: #808000; text-decoration-color: #808000\">...</span> \n",
       "</pre>\n"
      ],
      "text/plain": [
       "Uploading results to Opik \u001b[33m...\u001b[0m \n"
      ]
     },
     "metadata": {},
     "output_type": "display_data"
    },
    {
     "data": {
      "text/html": [
       "<pre style=\"white-space:pre;overflow-x:auto;line-height:normal;font-family:Menlo,'DejaVu Sans Mono',consolas,'Courier New',monospace\">View the results <a href=\"https://www.comet.com/opik/api/v1/session/redirect/experiments/?experiment_id=0196e9d2-3ab1-7376-a4f3-bc6e433deee7&dataset_id=0196e9b9-73a7-751a-8d6f-77232aae8bb2&path=aHR0cHM6Ly93d3cuY29tZXQuY29tL29waWsvYXBpLw==\" target=\"_blank\">in your Opik dashboard</a>.\n",
       "</pre>\n"
      ],
      "text/plain": [
       "View the results \u001b]8;id=617889;https://www.comet.com/opik/api/v1/session/redirect/experiments/?experiment_id=0196e9d2-3ab1-7376-a4f3-bc6e433deee7&dataset_id=0196e9b9-73a7-751a-8d6f-77232aae8bb2&path=aHR0cHM6Ly93d3cuY29tZXQuY29tL29waWsvYXBpLw==\u001b\\in your Opik dashboard\u001b]8;;\u001b\\.\n"
      ]
     },
     "metadata": {},
     "output_type": "display_data"
    },
    {
     "data": {
      "application/vnd.jupyter.widget-view+json": {
       "model_id": "d8d8859d48d94f4bb28b6e13d5042905",
       "version_major": 2,
       "version_minor": 0
      },
      "text/plain": [
       "Evaluation:   0%|          | 0/10 [00:00<?, ?it/s]"
      ]
     },
     "metadata": {},
     "output_type": "display_data"
    },
    {
     "data": {
      "text/html": [
       "<pre style=\"white-space:pre;overflow-x:auto;line-height:normal;font-family:Menlo,'DejaVu Sans Mono',consolas,'Courier New',monospace\">╭─ demo-tinyqab-dataset-use_context_provided_and_elaborate_on_it_to_generate_a_more_detailed_answers-20 (10 sampl─╮\n",
       "│                                                                                                                 │\n",
       "│ <span style=\"font-weight: bold\">Total time:       </span> 00:00:00                                                                                     │\n",
       "│ <span style=\"font-weight: bold\">Number of samples:</span> 10                                                                                           │\n",
       "│                                                                                                                 │\n",
       "│ <span style=\"color: #008000; text-decoration-color: #008000; font-weight: bold\">levenshtein_ratio_metric: 0.6319 (avg)</span>                                                                          │\n",
       "│                                                                                                                 │\n",
       "╰─────────────────────────────────────────────────────────────────────────────────────────────────────────────────╯\n",
       "</pre>\n"
      ],
      "text/plain": [
       "╭─ demo-tinyqab-dataset-use_context_provided_and_elaborate_on_it_to_generate_a_more_detailed_answers-20 (10 sampl─╮\n",
       "│                                                                                                                 │\n",
       "│ \u001b[1mTotal time:       \u001b[0m 00:00:00                                                                                     │\n",
       "│ \u001b[1mNumber of samples:\u001b[0m 10                                                                                           │\n",
       "│                                                                                                                 │\n",
       "│ \u001b[1;32mlevenshtein_ratio_metric: 0.6319 (avg)\u001b[0m                                                                          │\n",
       "│                                                                                                                 │\n",
       "╰─────────────────────────────────────────────────────────────────────────────────────────────────────────────────╯\n"
      ]
     },
     "metadata": {},
     "output_type": "display_data"
    },
    {
     "data": {
      "text/html": [
       "<pre style=\"white-space:pre;overflow-x:auto;line-height:normal;font-family:Menlo,'DejaVu Sans Mono',consolas,'Courier New',monospace\">Uploading results to Opik <span style=\"color: #808000; text-decoration-color: #808000\">...</span> \n",
       "</pre>\n"
      ],
      "text/plain": [
       "Uploading results to Opik \u001b[33m...\u001b[0m \n"
      ]
     },
     "metadata": {},
     "output_type": "display_data"
    },
    {
     "data": {
      "text/html": [
       "<pre style=\"white-space:pre;overflow-x:auto;line-height:normal;font-family:Menlo,'DejaVu Sans Mono',consolas,'Courier New',monospace\">View the results <a href=\"https://www.comet.com/opik/api/v1/session/redirect/experiments/?experiment_id=0196e9d2-4000-771e-b788-e0aa8531aa56&dataset_id=0196e9b9-73a7-751a-8d6f-77232aae8bb2&path=aHR0cHM6Ly93d3cuY29tZXQuY29tL29waWsvYXBpLw==\" target=\"_blank\">in your Opik dashboard</a>.\n",
       "</pre>\n"
      ],
      "text/plain": [
       "View the results \u001b]8;id=911527;https://www.comet.com/opik/api/v1/session/redirect/experiments/?experiment_id=0196e9d2-4000-771e-b788-e0aa8531aa56&dataset_id=0196e9b9-73a7-751a-8d6f-77232aae8bb2&path=aHR0cHM6Ly93d3cuY29tZXQuY29tL29waWsvYXBpLw==\u001b\\in your Opik dashboard\u001b]8;;\u001b\\.\n"
      ]
     },
     "metadata": {},
     "output_type": "display_data"
    },
    {
     "data": {
      "application/vnd.jupyter.widget-view+json": {
       "model_id": "0721ff08c87f4956bed4c72a4bc2203e",
       "version_major": 2,
       "version_minor": 0
      },
      "text/plain": [
       "Evaluation:   0%|          | 0/10 [00:00<?, ?it/s]"
      ]
     },
     "metadata": {},
     "output_type": "display_data"
    },
    {
     "data": {
      "text/html": [
       "<pre style=\"white-space:pre;overflow-x:auto;line-height:normal;font-family:Menlo,'DejaVu Sans Mono',consolas,'Courier New',monospace\">╭─ demo-tinyqab-dataset-use_context_provided_and_elaborate_on_it_to_generate_a_more_detailed_answers-20 (10 sampl─╮\n",
       "│                                                                                                                 │\n",
       "│ <span style=\"font-weight: bold\">Total time:       </span> 00:00:00                                                                                     │\n",
       "│ <span style=\"font-weight: bold\">Number of samples:</span> 10                                                                                           │\n",
       "│                                                                                                                 │\n",
       "│ <span style=\"color: #008000; text-decoration-color: #008000; font-weight: bold\">levenshtein_ratio_metric: 0.6319 (avg)</span>                                                                          │\n",
       "│                                                                                                                 │\n",
       "╰─────────────────────────────────────────────────────────────────────────────────────────────────────────────────╯\n",
       "</pre>\n"
      ],
      "text/plain": [
       "╭─ demo-tinyqab-dataset-use_context_provided_and_elaborate_on_it_to_generate_a_more_detailed_answers-20 (10 sampl─╮\n",
       "│                                                                                                                 │\n",
       "│ \u001b[1mTotal time:       \u001b[0m 00:00:00                                                                                     │\n",
       "│ \u001b[1mNumber of samples:\u001b[0m 10                                                                                           │\n",
       "│                                                                                                                 │\n",
       "│ \u001b[1;32mlevenshtein_ratio_metric: 0.6319 (avg)\u001b[0m                                                                          │\n",
       "│                                                                                                                 │\n",
       "╰─────────────────────────────────────────────────────────────────────────────────────────────────────────────────╯\n"
      ]
     },
     "metadata": {},
     "output_type": "display_data"
    },
    {
     "data": {
      "text/html": [
       "<pre style=\"white-space:pre;overflow-x:auto;line-height:normal;font-family:Menlo,'DejaVu Sans Mono',consolas,'Courier New',monospace\">Uploading results to Opik <span style=\"color: #808000; text-decoration-color: #808000\">...</span> \n",
       "</pre>\n"
      ],
      "text/plain": [
       "Uploading results to Opik \u001b[33m...\u001b[0m \n"
      ]
     },
     "metadata": {},
     "output_type": "display_data"
    },
    {
     "data": {
      "text/html": [
       "<pre style=\"white-space:pre;overflow-x:auto;line-height:normal;font-family:Menlo,'DejaVu Sans Mono',consolas,'Courier New',monospace\">View the results <a href=\"https://www.comet.com/opik/api/v1/session/redirect/experiments/?experiment_id=0196e9d2-4560-756b-905a-12002e121cb2&dataset_id=0196e9b9-73a7-751a-8d6f-77232aae8bb2&path=aHR0cHM6Ly93d3cuY29tZXQuY29tL29waWsvYXBpLw==\" target=\"_blank\">in your Opik dashboard</a>.\n",
       "</pre>\n"
      ],
      "text/plain": [
       "View the results \u001b]8;id=844962;https://www.comet.com/opik/api/v1/session/redirect/experiments/?experiment_id=0196e9d2-4560-756b-905a-12002e121cb2&dataset_id=0196e9b9-73a7-751a-8d6f-77232aae8bb2&path=aHR0cHM6Ly93d3cuY29tZXQuY29tL29waWsvYXBpLw==\u001b\\in your Opik dashboard\u001b]8;;\u001b\\.\n"
      ]
     },
     "metadata": {},
     "output_type": "display_data"
    },
    {
     "data": {
      "application/vnd.jupyter.widget-view+json": {
       "model_id": "072199844085420f99cc9713c7f411e5",
       "version_major": 2,
       "version_minor": 0
      },
      "text/plain": [
       "Evaluation:   0%|          | 0/10 [00:00<?, ?it/s]"
      ]
     },
     "metadata": {},
     "output_type": "display_data"
    },
    {
     "data": {
      "text/html": [
       "<pre style=\"white-space:pre;overflow-x:auto;line-height:normal;font-family:Menlo,'DejaVu Sans Mono',consolas,'Courier New',monospace\">╭─ demo-tinyqab-dataset-use_context_provided_and_elaborate_on_it_to_generate_a_more_detailed_answers-20 (10 sampl─╮\n",
       "│                                                                                                                 │\n",
       "│ <span style=\"font-weight: bold\">Total time:       </span> 00:00:00                                                                                     │\n",
       "│ <span style=\"font-weight: bold\">Number of samples:</span> 10                                                                                           │\n",
       "│                                                                                                                 │\n",
       "│ <span style=\"color: #008000; text-decoration-color: #008000; font-weight: bold\">levenshtein_ratio_metric: 0.6319 (avg)</span>                                                                          │\n",
       "│                                                                                                                 │\n",
       "╰─────────────────────────────────────────────────────────────────────────────────────────────────────────────────╯\n",
       "</pre>\n"
      ],
      "text/plain": [
       "╭─ demo-tinyqab-dataset-use_context_provided_and_elaborate_on_it_to_generate_a_more_detailed_answers-20 (10 sampl─╮\n",
       "│                                                                                                                 │\n",
       "│ \u001b[1mTotal time:       \u001b[0m 00:00:00                                                                                     │\n",
       "│ \u001b[1mNumber of samples:\u001b[0m 10                                                                                           │\n",
       "│                                                                                                                 │\n",
       "│ \u001b[1;32mlevenshtein_ratio_metric: 0.6319 (avg)\u001b[0m                                                                          │\n",
       "│                                                                                                                 │\n",
       "╰─────────────────────────────────────────────────────────────────────────────────────────────────────────────────╯\n"
      ]
     },
     "metadata": {},
     "output_type": "display_data"
    },
    {
     "data": {
      "text/html": [
       "<pre style=\"white-space:pre;overflow-x:auto;line-height:normal;font-family:Menlo,'DejaVu Sans Mono',consolas,'Courier New',monospace\">Uploading results to Opik <span style=\"color: #808000; text-decoration-color: #808000\">...</span> \n",
       "</pre>\n"
      ],
      "text/plain": [
       "Uploading results to Opik \u001b[33m...\u001b[0m \n"
      ]
     },
     "metadata": {},
     "output_type": "display_data"
    },
    {
     "data": {
      "text/html": [
       "<pre style=\"white-space:pre;overflow-x:auto;line-height:normal;font-family:Menlo,'DejaVu Sans Mono',consolas,'Courier New',monospace\">View the results <a href=\"https://www.comet.com/opik/api/v1/session/redirect/experiments/?experiment_id=0196e9d2-4ae2-7c9e-a926-fd8cfeb4662f&dataset_id=0196e9b9-73a7-751a-8d6f-77232aae8bb2&path=aHR0cHM6Ly93d3cuY29tZXQuY29tL29waWsvYXBpLw==\" target=\"_blank\">in your Opik dashboard</a>.\n",
       "</pre>\n"
      ],
      "text/plain": [
       "View the results \u001b]8;id=443143;https://www.comet.com/opik/api/v1/session/redirect/experiments/?experiment_id=0196e9d2-4ae2-7c9e-a926-fd8cfeb4662f&dataset_id=0196e9b9-73a7-751a-8d6f-77232aae8bb2&path=aHR0cHM6Ly93d3cuY29tZXQuY29tL29waWsvYXBpLw==\u001b\\in your Opik dashboard\u001b]8;;\u001b\\.\n"
      ]
     },
     "metadata": {},
     "output_type": "display_data"
    },
    {
     "data": {
      "application/vnd.jupyter.widget-view+json": {
       "model_id": "254ff0d0f3e74b719ee13160f356f3fd",
       "version_major": 2,
       "version_minor": 0
      },
      "text/plain": [
       "Evaluation:   0%|          | 0/10 [00:00<?, ?it/s]"
      ]
     },
     "metadata": {},
     "output_type": "display_data"
    },
    {
     "data": {
      "text/html": [
       "<pre style=\"white-space:pre;overflow-x:auto;line-height:normal;font-family:Menlo,'DejaVu Sans Mono',consolas,'Courier New',monospace\">╭─ demo-tinyqab-dataset-use_context_provided_and_elaborate_on_it_to_generate_a_more_detailed_answers-20 (10 sampl─╮\n",
       "│                                                                                                                 │\n",
       "│ <span style=\"font-weight: bold\">Total time:       </span> 00:00:00                                                                                     │\n",
       "│ <span style=\"font-weight: bold\">Number of samples:</span> 10                                                                                           │\n",
       "│                                                                                                                 │\n",
       "│ <span style=\"color: #008000; text-decoration-color: #008000; font-weight: bold\">levenshtein_ratio_metric: 0.6319 (avg)</span>                                                                          │\n",
       "│                                                                                                                 │\n",
       "╰─────────────────────────────────────────────────────────────────────────────────────────────────────────────────╯\n",
       "</pre>\n"
      ],
      "text/plain": [
       "╭─ demo-tinyqab-dataset-use_context_provided_and_elaborate_on_it_to_generate_a_more_detailed_answers-20 (10 sampl─╮\n",
       "│                                                                                                                 │\n",
       "│ \u001b[1mTotal time:       \u001b[0m 00:00:00                                                                                     │\n",
       "│ \u001b[1mNumber of samples:\u001b[0m 10                                                                                           │\n",
       "│                                                                                                                 │\n",
       "│ \u001b[1;32mlevenshtein_ratio_metric: 0.6319 (avg)\u001b[0m                                                                          │\n",
       "│                                                                                                                 │\n",
       "╰─────────────────────────────────────────────────────────────────────────────────────────────────────────────────╯\n"
      ]
     },
     "metadata": {},
     "output_type": "display_data"
    },
    {
     "data": {
      "text/html": [
       "<pre style=\"white-space:pre;overflow-x:auto;line-height:normal;font-family:Menlo,'DejaVu Sans Mono',consolas,'Courier New',monospace\">Uploading results to Opik <span style=\"color: #808000; text-decoration-color: #808000\">...</span> \n",
       "</pre>\n"
      ],
      "text/plain": [
       "Uploading results to Opik \u001b[33m...\u001b[0m \n"
      ]
     },
     "metadata": {},
     "output_type": "display_data"
    },
    {
     "data": {
      "text/html": [
       "<pre style=\"white-space:pre;overflow-x:auto;line-height:normal;font-family:Menlo,'DejaVu Sans Mono',consolas,'Courier New',monospace\">View the results <a href=\"https://www.comet.com/opik/api/v1/session/redirect/experiments/?experiment_id=0196e9d2-5035-7608-a3c9-2c9cf2228155&dataset_id=0196e9b9-73a7-751a-8d6f-77232aae8bb2&path=aHR0cHM6Ly93d3cuY29tZXQuY29tL29waWsvYXBpLw==\" target=\"_blank\">in your Opik dashboard</a>.\n",
       "</pre>\n"
      ],
      "text/plain": [
       "View the results \u001b]8;id=163032;https://www.comet.com/opik/api/v1/session/redirect/experiments/?experiment_id=0196e9d2-5035-7608-a3c9-2c9cf2228155&dataset_id=0196e9b9-73a7-751a-8d6f-77232aae8bb2&path=aHR0cHM6Ly93d3cuY29tZXQuY29tL29waWsvYXBpLw==\u001b\\in your Opik dashboard\u001b]8;;\u001b\\.\n"
      ]
     },
     "metadata": {},
     "output_type": "display_data"
    },
    {
     "data": {
      "application/vnd.jupyter.widget-view+json": {
       "model_id": "ebbb231730b6400cb9ddfda506c4191f",
       "version_major": 2,
       "version_minor": 0
      },
      "text/plain": [
       "Evaluation:   0%|          | 0/10 [00:00<?, ?it/s]"
      ]
     },
     "metadata": {},
     "output_type": "display_data"
    },
    {
     "data": {
      "text/html": [
       "<pre style=\"white-space:pre;overflow-x:auto;line-height:normal;font-family:Menlo,'DejaVu Sans Mono',consolas,'Courier New',monospace\">╭─ demo-tinyqab-dataset-use_context_provided_and_elaborate_on_it_to_generate_a_more_detailed_answers-20 (10 sampl─╮\n",
       "│                                                                                                                 │\n",
       "│ <span style=\"font-weight: bold\">Total time:       </span> 00:00:00                                                                                     │\n",
       "│ <span style=\"font-weight: bold\">Number of samples:</span> 10                                                                                           │\n",
       "│                                                                                                                 │\n",
       "│ <span style=\"color: #008000; text-decoration-color: #008000; font-weight: bold\">levenshtein_ratio_metric: 0.5078 (avg)</span>                                                                          │\n",
       "│                                                                                                                 │\n",
       "╰─────────────────────────────────────────────────────────────────────────────────────────────────────────────────╯\n",
       "</pre>\n"
      ],
      "text/plain": [
       "╭─ demo-tinyqab-dataset-use_context_provided_and_elaborate_on_it_to_generate_a_more_detailed_answers-20 (10 sampl─╮\n",
       "│                                                                                                                 │\n",
       "│ \u001b[1mTotal time:       \u001b[0m 00:00:00                                                                                     │\n",
       "│ \u001b[1mNumber of samples:\u001b[0m 10                                                                                           │\n",
       "│                                                                                                                 │\n",
       "│ \u001b[1;32mlevenshtein_ratio_metric: 0.5078 (avg)\u001b[0m                                                                          │\n",
       "│                                                                                                                 │\n",
       "╰─────────────────────────────────────────────────────────────────────────────────────────────────────────────────╯\n"
      ]
     },
     "metadata": {},
     "output_type": "display_data"
    },
    {
     "data": {
      "text/html": [
       "<pre style=\"white-space:pre;overflow-x:auto;line-height:normal;font-family:Menlo,'DejaVu Sans Mono',consolas,'Courier New',monospace\">Uploading results to Opik <span style=\"color: #808000; text-decoration-color: #808000\">...</span> \n",
       "</pre>\n"
      ],
      "text/plain": [
       "Uploading results to Opik \u001b[33m...\u001b[0m \n"
      ]
     },
     "metadata": {},
     "output_type": "display_data"
    },
    {
     "data": {
      "text/html": [
       "<pre style=\"white-space:pre;overflow-x:auto;line-height:normal;font-family:Menlo,'DejaVu Sans Mono',consolas,'Courier New',monospace\">View the results <a href=\"https://www.comet.com/opik/api/v1/session/redirect/experiments/?experiment_id=0196e9d2-559f-73c1-9230-f6f3601740ff&dataset_id=0196e9b9-73a7-751a-8d6f-77232aae8bb2&path=aHR0cHM6Ly93d3cuY29tZXQuY29tL29waWsvYXBpLw==\" target=\"_blank\">in your Opik dashboard</a>.\n",
       "</pre>\n"
      ],
      "text/plain": [
       "View the results \u001b]8;id=352944;https://www.comet.com/opik/api/v1/session/redirect/experiments/?experiment_id=0196e9d2-559f-73c1-9230-f6f3601740ff&dataset_id=0196e9b9-73a7-751a-8d6f-77232aae8bb2&path=aHR0cHM6Ly93d3cuY29tZXQuY29tL29waWsvYXBpLw==\u001b\\in your Opik dashboard\u001b]8;;\u001b\\.\n"
      ]
     },
     "metadata": {},
     "output_type": "display_data"
    },
    {
     "data": {
      "application/vnd.jupyter.widget-view+json": {
       "model_id": "39e775a3203a426fa4591ce4e997a55d",
       "version_major": 2,
       "version_minor": 0
      },
      "text/plain": [
       "Evaluation:   0%|          | 0/10 [00:00<?, ?it/s]"
      ]
     },
     "metadata": {},
     "output_type": "display_data"
    },
    {
     "data": {
      "text/html": [
       "<pre style=\"white-space:pre;overflow-x:auto;line-height:normal;font-family:Menlo,'DejaVu Sans Mono',consolas,'Courier New',monospace\">╭─ demo-tinyqab-dataset-use_context_provided_and_elaborate_on_it_to_generate_a_more_detailed_answers-20 (10 sampl─╮\n",
       "│                                                                                                                 │\n",
       "│ <span style=\"font-weight: bold\">Total time:       </span> 00:00:00                                                                                     │\n",
       "│ <span style=\"font-weight: bold\">Number of samples:</span> 10                                                                                           │\n",
       "│                                                                                                                 │\n",
       "│ <span style=\"color: #008000; text-decoration-color: #008000; font-weight: bold\">levenshtein_ratio_metric: 0.5078 (avg)</span>                                                                          │\n",
       "│                                                                                                                 │\n",
       "╰─────────────────────────────────────────────────────────────────────────────────────────────────────────────────╯\n",
       "</pre>\n"
      ],
      "text/plain": [
       "╭─ demo-tinyqab-dataset-use_context_provided_and_elaborate_on_it_to_generate_a_more_detailed_answers-20 (10 sampl─╮\n",
       "│                                                                                                                 │\n",
       "│ \u001b[1mTotal time:       \u001b[0m 00:00:00                                                                                     │\n",
       "│ \u001b[1mNumber of samples:\u001b[0m 10                                                                                           │\n",
       "│                                                                                                                 │\n",
       "│ \u001b[1;32mlevenshtein_ratio_metric: 0.5078 (avg)\u001b[0m                                                                          │\n",
       "│                                                                                                                 │\n",
       "╰─────────────────────────────────────────────────────────────────────────────────────────────────────────────────╯\n"
      ]
     },
     "metadata": {},
     "output_type": "display_data"
    },
    {
     "data": {
      "text/html": [
       "<pre style=\"white-space:pre;overflow-x:auto;line-height:normal;font-family:Menlo,'DejaVu Sans Mono',consolas,'Courier New',monospace\">Uploading results to Opik <span style=\"color: #808000; text-decoration-color: #808000\">...</span> \n",
       "</pre>\n"
      ],
      "text/plain": [
       "Uploading results to Opik \u001b[33m...\u001b[0m \n"
      ]
     },
     "metadata": {},
     "output_type": "display_data"
    },
    {
     "data": {
      "text/html": [
       "<pre style=\"white-space:pre;overflow-x:auto;line-height:normal;font-family:Menlo,'DejaVu Sans Mono',consolas,'Courier New',monospace\">View the results <a href=\"https://www.comet.com/opik/api/v1/session/redirect/experiments/?experiment_id=0196e9d2-5d8c-7d0d-8a26-871e61981935&dataset_id=0196e9b9-73a7-751a-8d6f-77232aae8bb2&path=aHR0cHM6Ly93d3cuY29tZXQuY29tL29waWsvYXBpLw==\" target=\"_blank\">in your Opik dashboard</a>.\n",
       "</pre>\n"
      ],
      "text/plain": [
       "View the results \u001b]8;id=398382;https://www.comet.com/opik/api/v1/session/redirect/experiments/?experiment_id=0196e9d2-5d8c-7d0d-8a26-871e61981935&dataset_id=0196e9b9-73a7-751a-8d6f-77232aae8bb2&path=aHR0cHM6Ly93d3cuY29tZXQuY29tL29waWsvYXBpLw==\u001b\\in your Opik dashboard\u001b]8;;\u001b\\.\n"
      ]
     },
     "metadata": {},
     "output_type": "display_data"
    },
    {
     "data": {
      "application/vnd.jupyter.widget-view+json": {
       "model_id": "61a81b74e3684c79a089a83b2f9ad350",
       "version_major": 2,
       "version_minor": 0
      },
      "text/plain": [
       "Evaluation:   0%|          | 0/10 [00:00<?, ?it/s]"
      ]
     },
     "metadata": {},
     "output_type": "display_data"
    },
    {
     "data": {
      "text/html": [
       "<pre style=\"white-space:pre;overflow-x:auto;line-height:normal;font-family:Menlo,'DejaVu Sans Mono',consolas,'Courier New',monospace\">╭─ demo-tinyqab-dataset-use_context_provided_and_elaborate_on_it_to_generate_a_more_detailed_answers-20 (10 sampl─╮\n",
       "│                                                                                                                 │\n",
       "│ <span style=\"font-weight: bold\">Total time:       </span> 00:00:00                                                                                     │\n",
       "│ <span style=\"font-weight: bold\">Number of samples:</span> 10                                                                                           │\n",
       "│                                                                                                                 │\n",
       "│ <span style=\"color: #008000; text-decoration-color: #008000; font-weight: bold\">levenshtein_ratio_metric: 0.5078 (avg)</span>                                                                          │\n",
       "│                                                                                                                 │\n",
       "╰─────────────────────────────────────────────────────────────────────────────────────────────────────────────────╯\n",
       "</pre>\n"
      ],
      "text/plain": [
       "╭─ demo-tinyqab-dataset-use_context_provided_and_elaborate_on_it_to_generate_a_more_detailed_answers-20 (10 sampl─╮\n",
       "│                                                                                                                 │\n",
       "│ \u001b[1mTotal time:       \u001b[0m 00:00:00                                                                                     │\n",
       "│ \u001b[1mNumber of samples:\u001b[0m 10                                                                                           │\n",
       "│                                                                                                                 │\n",
       "│ \u001b[1;32mlevenshtein_ratio_metric: 0.5078 (avg)\u001b[0m                                                                          │\n",
       "│                                                                                                                 │\n",
       "╰─────────────────────────────────────────────────────────────────────────────────────────────────────────────────╯\n"
      ]
     },
     "metadata": {},
     "output_type": "display_data"
    },
    {
     "data": {
      "text/html": [
       "<pre style=\"white-space:pre;overflow-x:auto;line-height:normal;font-family:Menlo,'DejaVu Sans Mono',consolas,'Courier New',monospace\">Uploading results to Opik <span style=\"color: #808000; text-decoration-color: #808000\">...</span> \n",
       "</pre>\n"
      ],
      "text/plain": [
       "Uploading results to Opik \u001b[33m...\u001b[0m \n"
      ]
     },
     "metadata": {},
     "output_type": "display_data"
    },
    {
     "data": {
      "text/html": [
       "<pre style=\"white-space:pre;overflow-x:auto;line-height:normal;font-family:Menlo,'DejaVu Sans Mono',consolas,'Courier New',monospace\">View the results <a href=\"https://www.comet.com/opik/api/v1/session/redirect/experiments/?experiment_id=0196e9d2-6358-774b-8e0e-0716d606828e&dataset_id=0196e9b9-73a7-751a-8d6f-77232aae8bb2&path=aHR0cHM6Ly93d3cuY29tZXQuY29tL29waWsvYXBpLw==\" target=\"_blank\">in your Opik dashboard</a>.\n",
       "</pre>\n"
      ],
      "text/plain": [
       "View the results \u001b]8;id=888662;https://www.comet.com/opik/api/v1/session/redirect/experiments/?experiment_id=0196e9d2-6358-774b-8e0e-0716d606828e&dataset_id=0196e9b9-73a7-751a-8d6f-77232aae8bb2&path=aHR0cHM6Ly93d3cuY29tZXQuY29tL29waWsvYXBpLw==\u001b\\in your Opik dashboard\u001b]8;;\u001b\\.\n"
      ]
     },
     "metadata": {},
     "output_type": "display_data"
    },
    {
     "data": {
      "application/vnd.jupyter.widget-view+json": {
       "model_id": "42650e0ef0904641912e8226099a64c9",
       "version_major": 2,
       "version_minor": 0
      },
      "text/plain": [
       "Evaluation:   0%|          | 0/10 [00:00<?, ?it/s]"
      ]
     },
     "metadata": {},
     "output_type": "display_data"
    },
    {
     "data": {
      "text/html": [
       "<pre style=\"white-space:pre;overflow-x:auto;line-height:normal;font-family:Menlo,'DejaVu Sans Mono',consolas,'Courier New',monospace\">╭─ demo-tinyqab-dataset-use_context_provided_and_elaborate_on_it_to_generate_a_more_detailed_answers-20 (10 sampl─╮\n",
       "│                                                                                                                 │\n",
       "│ <span style=\"font-weight: bold\">Total time:       </span> 00:00:00                                                                                     │\n",
       "│ <span style=\"font-weight: bold\">Number of samples:</span> 10                                                                                           │\n",
       "│                                                                                                                 │\n",
       "│ <span style=\"color: #008000; text-decoration-color: #008000; font-weight: bold\">levenshtein_ratio_metric: 0.5078 (avg)</span>                                                                          │\n",
       "│                                                                                                                 │\n",
       "╰─────────────────────────────────────────────────────────────────────────────────────────────────────────────────╯\n",
       "</pre>\n"
      ],
      "text/plain": [
       "╭─ demo-tinyqab-dataset-use_context_provided_and_elaborate_on_it_to_generate_a_more_detailed_answers-20 (10 sampl─╮\n",
       "│                                                                                                                 │\n",
       "│ \u001b[1mTotal time:       \u001b[0m 00:00:00                                                                                     │\n",
       "│ \u001b[1mNumber of samples:\u001b[0m 10                                                                                           │\n",
       "│                                                                                                                 │\n",
       "│ \u001b[1;32mlevenshtein_ratio_metric: 0.5078 (avg)\u001b[0m                                                                          │\n",
       "│                                                                                                                 │\n",
       "╰─────────────────────────────────────────────────────────────────────────────────────────────────────────────────╯\n"
      ]
     },
     "metadata": {},
     "output_type": "display_data"
    },
    {
     "data": {
      "text/html": [
       "<pre style=\"white-space:pre;overflow-x:auto;line-height:normal;font-family:Menlo,'DejaVu Sans Mono',consolas,'Courier New',monospace\">Uploading results to Opik <span style=\"color: #808000; text-decoration-color: #808000\">...</span> \n",
       "</pre>\n"
      ],
      "text/plain": [
       "Uploading results to Opik \u001b[33m...\u001b[0m \n"
      ]
     },
     "metadata": {},
     "output_type": "display_data"
    },
    {
     "data": {
      "text/html": [
       "<pre style=\"white-space:pre;overflow-x:auto;line-height:normal;font-family:Menlo,'DejaVu Sans Mono',consolas,'Courier New',monospace\">View the results <a href=\"https://www.comet.com/opik/api/v1/session/redirect/experiments/?experiment_id=0196e9d2-68a4-7077-95d5-fa659b155243&dataset_id=0196e9b9-73a7-751a-8d6f-77232aae8bb2&path=aHR0cHM6Ly93d3cuY29tZXQuY29tL29waWsvYXBpLw==\" target=\"_blank\">in your Opik dashboard</a>.\n",
       "</pre>\n"
      ],
      "text/plain": [
       "View the results \u001b]8;id=277370;https://www.comet.com/opik/api/v1/session/redirect/experiments/?experiment_id=0196e9d2-68a4-7077-95d5-fa659b155243&dataset_id=0196e9b9-73a7-751a-8d6f-77232aae8bb2&path=aHR0cHM6Ly93d3cuY29tZXQuY29tL29waWsvYXBpLw==\u001b\\in your Opik dashboard\u001b]8;;\u001b\\.\n"
      ]
     },
     "metadata": {},
     "output_type": "display_data"
    },
    {
     "data": {
      "application/vnd.jupyter.widget-view+json": {
       "model_id": "8e148dff33e74fe7b74e4b9cd32384ba",
       "version_major": 2,
       "version_minor": 0
      },
      "text/plain": [
       "Evaluation:   0%|          | 0/10 [00:00<?, ?it/s]"
      ]
     },
     "metadata": {},
     "output_type": "display_data"
    },
    {
     "data": {
      "text/html": [
       "<pre style=\"white-space:pre;overflow-x:auto;line-height:normal;font-family:Menlo,'DejaVu Sans Mono',consolas,'Courier New',monospace\">╭─ demo-tinyqab-dataset-use_context_provided_and_elaborate_on_it_to_generate_a_more_detailed_answers-20 (10 sampl─╮\n",
       "│                                                                                                                 │\n",
       "│ <span style=\"font-weight: bold\">Total time:       </span> 00:00:00                                                                                     │\n",
       "│ <span style=\"font-weight: bold\">Number of samples:</span> 10                                                                                           │\n",
       "│                                                                                                                 │\n",
       "│ <span style=\"color: #008000; text-decoration-color: #008000; font-weight: bold\">levenshtein_ratio_metric: 0.5078 (avg)</span>                                                                          │\n",
       "│                                                                                                                 │\n",
       "╰─────────────────────────────────────────────────────────────────────────────────────────────────────────────────╯\n",
       "</pre>\n"
      ],
      "text/plain": [
       "╭─ demo-tinyqab-dataset-use_context_provided_and_elaborate_on_it_to_generate_a_more_detailed_answers-20 (10 sampl─╮\n",
       "│                                                                                                                 │\n",
       "│ \u001b[1mTotal time:       \u001b[0m 00:00:00                                                                                     │\n",
       "│ \u001b[1mNumber of samples:\u001b[0m 10                                                                                           │\n",
       "│                                                                                                                 │\n",
       "│ \u001b[1;32mlevenshtein_ratio_metric: 0.5078 (avg)\u001b[0m                                                                          │\n",
       "│                                                                                                                 │\n",
       "╰─────────────────────────────────────────────────────────────────────────────────────────────────────────────────╯\n"
      ]
     },
     "metadata": {},
     "output_type": "display_data"
    },
    {
     "data": {
      "text/html": [
       "<pre style=\"white-space:pre;overflow-x:auto;line-height:normal;font-family:Menlo,'DejaVu Sans Mono',consolas,'Courier New',monospace\">Uploading results to Opik <span style=\"color: #808000; text-decoration-color: #808000\">...</span> \n",
       "</pre>\n"
      ],
      "text/plain": [
       "Uploading results to Opik \u001b[33m...\u001b[0m \n"
      ]
     },
     "metadata": {},
     "output_type": "display_data"
    },
    {
     "data": {
      "text/html": [
       "<pre style=\"white-space:pre;overflow-x:auto;line-height:normal;font-family:Menlo,'DejaVu Sans Mono',consolas,'Courier New',monospace\">View the results <a href=\"https://www.comet.com/opik/api/v1/session/redirect/experiments/?experiment_id=0196e9d2-6e1f-7074-9bca-c541eea534ff&dataset_id=0196e9b9-73a7-751a-8d6f-77232aae8bb2&path=aHR0cHM6Ly93d3cuY29tZXQuY29tL29waWsvYXBpLw==\" target=\"_blank\">in your Opik dashboard</a>.\n",
       "</pre>\n"
      ],
      "text/plain": [
       "View the results \u001b]8;id=765179;https://www.comet.com/opik/api/v1/session/redirect/experiments/?experiment_id=0196e9d2-6e1f-7074-9bca-c541eea534ff&dataset_id=0196e9b9-73a7-751a-8d6f-77232aae8bb2&path=aHR0cHM6Ly93d3cuY29tZXQuY29tL29waWsvYXBpLw==\u001b\\in your Opik dashboard\u001b]8;;\u001b\\.\n"
      ]
     },
     "metadata": {},
     "output_type": "display_data"
    },
    {
     "data": {
      "application/vnd.jupyter.widget-view+json": {
       "model_id": "36c383265125442f955ee815f22e0d82",
       "version_major": 2,
       "version_minor": 0
      },
      "text/plain": [
       "Evaluation:   0%|          | 0/10 [00:00<?, ?it/s]"
      ]
     },
     "metadata": {},
     "output_type": "display_data"
    },
    {
     "data": {
      "text/html": [
       "<pre style=\"white-space:pre;overflow-x:auto;line-height:normal;font-family:Menlo,'DejaVu Sans Mono',consolas,'Courier New',monospace\">╭─ demo-tinyqab-dataset-use_context_provided_and_elaborate_on_it_to_generate_a_more_detailed_answers-20 (10 sampl─╮\n",
       "│                                                                                                                 │\n",
       "│ <span style=\"font-weight: bold\">Total time:       </span> 00:00:00                                                                                     │\n",
       "│ <span style=\"font-weight: bold\">Number of samples:</span> 10                                                                                           │\n",
       "│                                                                                                                 │\n",
       "│ <span style=\"color: #008000; text-decoration-color: #008000; font-weight: bold\">levenshtein_ratio_metric: 0.5078 (avg)</span>                                                                          │\n",
       "│                                                                                                                 │\n",
       "╰─────────────────────────────────────────────────────────────────────────────────────────────────────────────────╯\n",
       "</pre>\n"
      ],
      "text/plain": [
       "╭─ demo-tinyqab-dataset-use_context_provided_and_elaborate_on_it_to_generate_a_more_detailed_answers-20 (10 sampl─╮\n",
       "│                                                                                                                 │\n",
       "│ \u001b[1mTotal time:       \u001b[0m 00:00:00                                                                                     │\n",
       "│ \u001b[1mNumber of samples:\u001b[0m 10                                                                                           │\n",
       "│                                                                                                                 │\n",
       "│ \u001b[1;32mlevenshtein_ratio_metric: 0.5078 (avg)\u001b[0m                                                                          │\n",
       "│                                                                                                                 │\n",
       "╰─────────────────────────────────────────────────────────────────────────────────────────────────────────────────╯\n"
      ]
     },
     "metadata": {},
     "output_type": "display_data"
    },
    {
     "data": {
      "text/html": [
       "<pre style=\"white-space:pre;overflow-x:auto;line-height:normal;font-family:Menlo,'DejaVu Sans Mono',consolas,'Courier New',monospace\">Uploading results to Opik <span style=\"color: #808000; text-decoration-color: #808000\">...</span> \n",
       "</pre>\n"
      ],
      "text/plain": [
       "Uploading results to Opik \u001b[33m...\u001b[0m \n"
      ]
     },
     "metadata": {},
     "output_type": "display_data"
    },
    {
     "data": {
      "text/html": [
       "<pre style=\"white-space:pre;overflow-x:auto;line-height:normal;font-family:Menlo,'DejaVu Sans Mono',consolas,'Courier New',monospace\">View the results <a href=\"https://www.comet.com/opik/api/v1/session/redirect/experiments/?experiment_id=0196e9d2-737d-73e6-ba1d-1b5caa24df34&dataset_id=0196e9b9-73a7-751a-8d6f-77232aae8bb2&path=aHR0cHM6Ly93d3cuY29tZXQuY29tL29waWsvYXBpLw==\" target=\"_blank\">in your Opik dashboard</a>.\n",
       "</pre>\n"
      ],
      "text/plain": [
       "View the results \u001b]8;id=130889;https://www.comet.com/opik/api/v1/session/redirect/experiments/?experiment_id=0196e9d2-737d-73e6-ba1d-1b5caa24df34&dataset_id=0196e9b9-73a7-751a-8d6f-77232aae8bb2&path=aHR0cHM6Ly93d3cuY29tZXQuY29tL29waWsvYXBpLw==\u001b\\in your Opik dashboard\u001b]8;;\u001b\\.\n"
      ]
     },
     "metadata": {},
     "output_type": "display_data"
    },
    {
     "data": {
      "application/vnd.jupyter.widget-view+json": {
       "model_id": "ab65d1413355423e93c77501b0e1610a",
       "version_major": 2,
       "version_minor": 0
      },
      "text/plain": [
       "Evaluation:   0%|          | 0/10 [00:00<?, ?it/s]"
      ]
     },
     "metadata": {},
     "output_type": "display_data"
    },
    {
     "data": {
      "text/html": [
       "<pre style=\"white-space:pre;overflow-x:auto;line-height:normal;font-family:Menlo,'DejaVu Sans Mono',consolas,'Courier New',monospace\">╭─ demo-tinyqab-dataset-use_context_provided_and_elaborate_on_it_to_generate_a_more_detailed_answers-20 (10 sampl─╮\n",
       "│                                                                                                                 │\n",
       "│ <span style=\"font-weight: bold\">Total time:       </span> 00:00:01                                                                                     │\n",
       "│ <span style=\"font-weight: bold\">Number of samples:</span> 10                                                                                           │\n",
       "│                                                                                                                 │\n",
       "│ <span style=\"color: #008000; text-decoration-color: #008000; font-weight: bold\">levenshtein_ratio_metric: 0.3980 (avg)</span>                                                                          │\n",
       "│                                                                                                                 │\n",
       "╰─────────────────────────────────────────────────────────────────────────────────────────────────────────────────╯\n",
       "</pre>\n"
      ],
      "text/plain": [
       "╭─ demo-tinyqab-dataset-use_context_provided_and_elaborate_on_it_to_generate_a_more_detailed_answers-20 (10 sampl─╮\n",
       "│                                                                                                                 │\n",
       "│ \u001b[1mTotal time:       \u001b[0m 00:00:01                                                                                     │\n",
       "│ \u001b[1mNumber of samples:\u001b[0m 10                                                                                           │\n",
       "│                                                                                                                 │\n",
       "│ \u001b[1;32mlevenshtein_ratio_metric: 0.3980 (avg)\u001b[0m                                                                          │\n",
       "│                                                                                                                 │\n",
       "╰─────────────────────────────────────────────────────────────────────────────────────────────────────────────────╯\n"
      ]
     },
     "metadata": {},
     "output_type": "display_data"
    },
    {
     "data": {
      "text/html": [
       "<pre style=\"white-space:pre;overflow-x:auto;line-height:normal;font-family:Menlo,'DejaVu Sans Mono',consolas,'Courier New',monospace\">Uploading results to Opik <span style=\"color: #808000; text-decoration-color: #808000\">...</span> \n",
       "</pre>\n"
      ],
      "text/plain": [
       "Uploading results to Opik \u001b[33m...\u001b[0m \n"
      ]
     },
     "metadata": {},
     "output_type": "display_data"
    },
    {
     "data": {
      "text/html": [
       "<pre style=\"white-space:pre;overflow-x:auto;line-height:normal;font-family:Menlo,'DejaVu Sans Mono',consolas,'Courier New',monospace\">View the results <a href=\"https://www.comet.com/opik/api/v1/session/redirect/experiments/?experiment_id=0196e9d2-78ce-7bb2-aed5-e91072057ab1&dataset_id=0196e9b9-73a7-751a-8d6f-77232aae8bb2&path=aHR0cHM6Ly93d3cuY29tZXQuY29tL29waWsvYXBpLw==\" target=\"_blank\">in your Opik dashboard</a>.\n",
       "</pre>\n"
      ],
      "text/plain": [
       "View the results \u001b]8;id=82627;https://www.comet.com/opik/api/v1/session/redirect/experiments/?experiment_id=0196e9d2-78ce-7bb2-aed5-e91072057ab1&dataset_id=0196e9b9-73a7-751a-8d6f-77232aae8bb2&path=aHR0cHM6Ly93d3cuY29tZXQuY29tL29waWsvYXBpLw==\u001b\\in your Opik dashboard\u001b]8;;\u001b\\.\n"
      ]
     },
     "metadata": {},
     "output_type": "display_data"
    },
    {
     "data": {
      "application/vnd.jupyter.widget-view+json": {
       "model_id": "59772a7e920b45d8913aac4fc798f7e9",
       "version_major": 2,
       "version_minor": 0
      },
      "text/plain": [
       "Evaluation:   0%|          | 0/10 [00:00<?, ?it/s]"
      ]
     },
     "metadata": {},
     "output_type": "display_data"
    },
    {
     "data": {
      "text/html": [
       "<pre style=\"white-space:pre;overflow-x:auto;line-height:normal;font-family:Menlo,'DejaVu Sans Mono',consolas,'Courier New',monospace\">╭─ demo-tinyqab-dataset-use_context_provided_and_elaborate_on_it_to_generate_a_more_detailed_answers-20 (10 sampl─╮\n",
       "│                                                                                                                 │\n",
       "│ <span style=\"font-weight: bold\">Total time:       </span> 00:00:00                                                                                     │\n",
       "│ <span style=\"font-weight: bold\">Number of samples:</span> 10                                                                                           │\n",
       "│                                                                                                                 │\n",
       "│ <span style=\"color: #008000; text-decoration-color: #008000; font-weight: bold\">levenshtein_ratio_metric: 0.3980 (avg)</span>                                                                          │\n",
       "│                                                                                                                 │\n",
       "╰─────────────────────────────────────────────────────────────────────────────────────────────────────────────────╯\n",
       "</pre>\n"
      ],
      "text/plain": [
       "╭─ demo-tinyqab-dataset-use_context_provided_and_elaborate_on_it_to_generate_a_more_detailed_answers-20 (10 sampl─╮\n",
       "│                                                                                                                 │\n",
       "│ \u001b[1mTotal time:       \u001b[0m 00:00:00                                                                                     │\n",
       "│ \u001b[1mNumber of samples:\u001b[0m 10                                                                                           │\n",
       "│                                                                                                                 │\n",
       "│ \u001b[1;32mlevenshtein_ratio_metric: 0.3980 (avg)\u001b[0m                                                                          │\n",
       "│                                                                                                                 │\n",
       "╰─────────────────────────────────────────────────────────────────────────────────────────────────────────────────╯\n"
      ]
     },
     "metadata": {},
     "output_type": "display_data"
    },
    {
     "data": {
      "text/html": [
       "<pre style=\"white-space:pre;overflow-x:auto;line-height:normal;font-family:Menlo,'DejaVu Sans Mono',consolas,'Courier New',monospace\">Uploading results to Opik <span style=\"color: #808000; text-decoration-color: #808000\">...</span> \n",
       "</pre>\n"
      ],
      "text/plain": [
       "Uploading results to Opik \u001b[33m...\u001b[0m \n"
      ]
     },
     "metadata": {},
     "output_type": "display_data"
    },
    {
     "data": {
      "text/html": [
       "<pre style=\"white-space:pre;overflow-x:auto;line-height:normal;font-family:Menlo,'DejaVu Sans Mono',consolas,'Courier New',monospace\">View the results <a href=\"https://www.comet.com/opik/api/v1/session/redirect/experiments/?experiment_id=0196e9d2-822f-7cd4-94df-f9ec40b53ae8&dataset_id=0196e9b9-73a7-751a-8d6f-77232aae8bb2&path=aHR0cHM6Ly93d3cuY29tZXQuY29tL29waWsvYXBpLw==\" target=\"_blank\">in your Opik dashboard</a>.\n",
       "</pre>\n"
      ],
      "text/plain": [
       "View the results \u001b]8;id=869693;https://www.comet.com/opik/api/v1/session/redirect/experiments/?experiment_id=0196e9d2-822f-7cd4-94df-f9ec40b53ae8&dataset_id=0196e9b9-73a7-751a-8d6f-77232aae8bb2&path=aHR0cHM6Ly93d3cuY29tZXQuY29tL29waWsvYXBpLw==\u001b\\in your Opik dashboard\u001b]8;;\u001b\\.\n"
      ]
     },
     "metadata": {},
     "output_type": "display_data"
    },
    {
     "data": {
      "application/vnd.jupyter.widget-view+json": {
       "model_id": "675769836c8844feaa53a52e47c417f7",
       "version_major": 2,
       "version_minor": 0
      },
      "text/plain": [
       "Evaluation:   0%|          | 0/10 [00:00<?, ?it/s]"
      ]
     },
     "metadata": {},
     "output_type": "display_data"
    },
    {
     "data": {
      "text/html": [
       "<pre style=\"white-space:pre;overflow-x:auto;line-height:normal;font-family:Menlo,'DejaVu Sans Mono',consolas,'Courier New',monospace\">╭─ demo-tinyqab-dataset-use_context_provided_and_elaborate_on_it_to_generate_a_more_detailed_answers-20 (10 sampl─╮\n",
       "│                                                                                                                 │\n",
       "│ <span style=\"font-weight: bold\">Total time:       </span> 00:00:00                                                                                     │\n",
       "│ <span style=\"font-weight: bold\">Number of samples:</span> 10                                                                                           │\n",
       "│                                                                                                                 │\n",
       "│ <span style=\"color: #008000; text-decoration-color: #008000; font-weight: bold\">levenshtein_ratio_metric: 0.3980 (avg)</span>                                                                          │\n",
       "│                                                                                                                 │\n",
       "╰─────────────────────────────────────────────────────────────────────────────────────────────────────────────────╯\n",
       "</pre>\n"
      ],
      "text/plain": [
       "╭─ demo-tinyqab-dataset-use_context_provided_and_elaborate_on_it_to_generate_a_more_detailed_answers-20 (10 sampl─╮\n",
       "│                                                                                                                 │\n",
       "│ \u001b[1mTotal time:       \u001b[0m 00:00:00                                                                                     │\n",
       "│ \u001b[1mNumber of samples:\u001b[0m 10                                                                                           │\n",
       "│                                                                                                                 │\n",
       "│ \u001b[1;32mlevenshtein_ratio_metric: 0.3980 (avg)\u001b[0m                                                                          │\n",
       "│                                                                                                                 │\n",
       "╰─────────────────────────────────────────────────────────────────────────────────────────────────────────────────╯\n"
      ]
     },
     "metadata": {},
     "output_type": "display_data"
    },
    {
     "data": {
      "text/html": [
       "<pre style=\"white-space:pre;overflow-x:auto;line-height:normal;font-family:Menlo,'DejaVu Sans Mono',consolas,'Courier New',monospace\">Uploading results to Opik <span style=\"color: #808000; text-decoration-color: #808000\">...</span> \n",
       "</pre>\n"
      ],
      "text/plain": [
       "Uploading results to Opik \u001b[33m...\u001b[0m \n"
      ]
     },
     "metadata": {},
     "output_type": "display_data"
    },
    {
     "data": {
      "text/html": [
       "<pre style=\"white-space:pre;overflow-x:auto;line-height:normal;font-family:Menlo,'DejaVu Sans Mono',consolas,'Courier New',monospace\">View the results <a href=\"https://www.comet.com/opik/api/v1/session/redirect/experiments/?experiment_id=0196e9d2-8861-76a7-8ef4-c867676d9cbd&dataset_id=0196e9b9-73a7-751a-8d6f-77232aae8bb2&path=aHR0cHM6Ly93d3cuY29tZXQuY29tL29waWsvYXBpLw==\" target=\"_blank\">in your Opik dashboard</a>.\n",
       "</pre>\n"
      ],
      "text/plain": [
       "View the results \u001b]8;id=928463;https://www.comet.com/opik/api/v1/session/redirect/experiments/?experiment_id=0196e9d2-8861-76a7-8ef4-c867676d9cbd&dataset_id=0196e9b9-73a7-751a-8d6f-77232aae8bb2&path=aHR0cHM6Ly93d3cuY29tZXQuY29tL29waWsvYXBpLw==\u001b\\in your Opik dashboard\u001b]8;;\u001b\\.\n"
      ]
     },
     "metadata": {},
     "output_type": "display_data"
    },
    {
     "data": {
      "application/vnd.jupyter.widget-view+json": {
       "model_id": "9e33da8c05714d51b62c8d28532966ae",
       "version_major": 2,
       "version_minor": 0
      },
      "text/plain": [
       "Evaluation:   0%|          | 0/10 [00:00<?, ?it/s]"
      ]
     },
     "metadata": {},
     "output_type": "display_data"
    },
    {
     "data": {
      "text/html": [
       "<pre style=\"white-space:pre;overflow-x:auto;line-height:normal;font-family:Menlo,'DejaVu Sans Mono',consolas,'Courier New',monospace\">╭─ demo-tinyqab-dataset-use_context_provided_and_elaborate_on_it_to_generate_a_more_detailed_answers-20 (10 sampl─╮\n",
       "│                                                                                                                 │\n",
       "│ <span style=\"font-weight: bold\">Total time:       </span> 00:00:00                                                                                     │\n",
       "│ <span style=\"font-weight: bold\">Number of samples:</span> 10                                                                                           │\n",
       "│                                                                                                                 │\n",
       "│ <span style=\"color: #008000; text-decoration-color: #008000; font-weight: bold\">levenshtein_ratio_metric: 0.3980 (avg)</span>                                                                          │\n",
       "│                                                                                                                 │\n",
       "╰─────────────────────────────────────────────────────────────────────────────────────────────────────────────────╯\n",
       "</pre>\n"
      ],
      "text/plain": [
       "╭─ demo-tinyqab-dataset-use_context_provided_and_elaborate_on_it_to_generate_a_more_detailed_answers-20 (10 sampl─╮\n",
       "│                                                                                                                 │\n",
       "│ \u001b[1mTotal time:       \u001b[0m 00:00:00                                                                                     │\n",
       "│ \u001b[1mNumber of samples:\u001b[0m 10                                                                                           │\n",
       "│                                                                                                                 │\n",
       "│ \u001b[1;32mlevenshtein_ratio_metric: 0.3980 (avg)\u001b[0m                                                                          │\n",
       "│                                                                                                                 │\n",
       "╰─────────────────────────────────────────────────────────────────────────────────────────────────────────────────╯\n"
      ]
     },
     "metadata": {},
     "output_type": "display_data"
    },
    {
     "data": {
      "text/html": [
       "<pre style=\"white-space:pre;overflow-x:auto;line-height:normal;font-family:Menlo,'DejaVu Sans Mono',consolas,'Courier New',monospace\">Uploading results to Opik <span style=\"color: #808000; text-decoration-color: #808000\">...</span> \n",
       "</pre>\n"
      ],
      "text/plain": [
       "Uploading results to Opik \u001b[33m...\u001b[0m \n"
      ]
     },
     "metadata": {},
     "output_type": "display_data"
    },
    {
     "data": {
      "text/html": [
       "<pre style=\"white-space:pre;overflow-x:auto;line-height:normal;font-family:Menlo,'DejaVu Sans Mono',consolas,'Courier New',monospace\">View the results <a href=\"https://www.comet.com/opik/api/v1/session/redirect/experiments/?experiment_id=0196e9d2-8dd1-7be2-b14b-e16962f6c644&dataset_id=0196e9b9-73a7-751a-8d6f-77232aae8bb2&path=aHR0cHM6Ly93d3cuY29tZXQuY29tL29waWsvYXBpLw==\" target=\"_blank\">in your Opik dashboard</a>.\n",
       "</pre>\n"
      ],
      "text/plain": [
       "View the results \u001b]8;id=605397;https://www.comet.com/opik/api/v1/session/redirect/experiments/?experiment_id=0196e9d2-8dd1-7be2-b14b-e16962f6c644&dataset_id=0196e9b9-73a7-751a-8d6f-77232aae8bb2&path=aHR0cHM6Ly93d3cuY29tZXQuY29tL29waWsvYXBpLw==\u001b\\in your Opik dashboard\u001b]8;;\u001b\\.\n"
      ]
     },
     "metadata": {},
     "output_type": "display_data"
    },
    {
     "data": {
      "application/vnd.jupyter.widget-view+json": {
       "model_id": "c52939b235a340aaaa3738465ff9569b",
       "version_major": 2,
       "version_minor": 0
      },
      "text/plain": [
       "Evaluation:   0%|          | 0/10 [00:00<?, ?it/s]"
      ]
     },
     "metadata": {},
     "output_type": "display_data"
    },
    {
     "data": {
      "text/html": [
       "<pre style=\"white-space:pre;overflow-x:auto;line-height:normal;font-family:Menlo,'DejaVu Sans Mono',consolas,'Courier New',monospace\">╭─ demo-tinyqab-dataset-use_context_provided_and_elaborate_on_it_to_generate_a_more_detailed_answers-20 (10 sampl─╮\n",
       "│                                                                                                                 │\n",
       "│ <span style=\"font-weight: bold\">Total time:       </span> 00:00:00                                                                                     │\n",
       "│ <span style=\"font-weight: bold\">Number of samples:</span> 10                                                                                           │\n",
       "│                                                                                                                 │\n",
       "│ <span style=\"color: #008000; text-decoration-color: #008000; font-weight: bold\">levenshtein_ratio_metric: 0.3980 (avg)</span>                                                                          │\n",
       "│                                                                                                                 │\n",
       "╰─────────────────────────────────────────────────────────────────────────────────────────────────────────────────╯\n",
       "</pre>\n"
      ],
      "text/plain": [
       "╭─ demo-tinyqab-dataset-use_context_provided_and_elaborate_on_it_to_generate_a_more_detailed_answers-20 (10 sampl─╮\n",
       "│                                                                                                                 │\n",
       "│ \u001b[1mTotal time:       \u001b[0m 00:00:00                                                                                     │\n",
       "│ \u001b[1mNumber of samples:\u001b[0m 10                                                                                           │\n",
       "│                                                                                                                 │\n",
       "│ \u001b[1;32mlevenshtein_ratio_metric: 0.3980 (avg)\u001b[0m                                                                          │\n",
       "│                                                                                                                 │\n",
       "╰─────────────────────────────────────────────────────────────────────────────────────────────────────────────────╯\n"
      ]
     },
     "metadata": {},
     "output_type": "display_data"
    },
    {
     "data": {
      "text/html": [
       "<pre style=\"white-space:pre;overflow-x:auto;line-height:normal;font-family:Menlo,'DejaVu Sans Mono',consolas,'Courier New',monospace\">Uploading results to Opik <span style=\"color: #808000; text-decoration-color: #808000\">...</span> \n",
       "</pre>\n"
      ],
      "text/plain": [
       "Uploading results to Opik \u001b[33m...\u001b[0m \n"
      ]
     },
     "metadata": {},
     "output_type": "display_data"
    },
    {
     "data": {
      "text/html": [
       "<pre style=\"white-space:pre;overflow-x:auto;line-height:normal;font-family:Menlo,'DejaVu Sans Mono',consolas,'Courier New',monospace\">View the results <a href=\"https://www.comet.com/opik/api/v1/session/redirect/experiments/?experiment_id=0196e9d2-9335-7a17-9a7b-85c9b1f8dc49&dataset_id=0196e9b9-73a7-751a-8d6f-77232aae8bb2&path=aHR0cHM6Ly93d3cuY29tZXQuY29tL29waWsvYXBpLw==\" target=\"_blank\">in your Opik dashboard</a>.\n",
       "</pre>\n"
      ],
      "text/plain": [
       "View the results \u001b]8;id=72933;https://www.comet.com/opik/api/v1/session/redirect/experiments/?experiment_id=0196e9d2-9335-7a17-9a7b-85c9b1f8dc49&dataset_id=0196e9b9-73a7-751a-8d6f-77232aae8bb2&path=aHR0cHM6Ly93d3cuY29tZXQuY29tL29waWsvYXBpLw==\u001b\\in your Opik dashboard\u001b]8;;\u001b\\.\n"
      ]
     },
     "metadata": {},
     "output_type": "display_data"
    },
    {
     "data": {
      "application/vnd.jupyter.widget-view+json": {
       "model_id": "1623dc890c73437181a695b87c52a5c6",
       "version_major": 2,
       "version_minor": 0
      },
      "text/plain": [
       "Evaluation:   0%|          | 0/10 [00:00<?, ?it/s]"
      ]
     },
     "metadata": {},
     "output_type": "display_data"
    },
    {
     "data": {
      "text/html": [
       "<pre style=\"white-space:pre;overflow-x:auto;line-height:normal;font-family:Menlo,'DejaVu Sans Mono',consolas,'Courier New',monospace\">╭─ demo-tinyqab-dataset-use_context_provided_and_elaborate_on_it_to_generate_a_more_detailed_answers-20 (10 sampl─╮\n",
       "│                                                                                                                 │\n",
       "│ <span style=\"font-weight: bold\">Total time:       </span> 00:00:00                                                                                     │\n",
       "│ <span style=\"font-weight: bold\">Number of samples:</span> 10                                                                                           │\n",
       "│                                                                                                                 │\n",
       "│ <span style=\"color: #008000; text-decoration-color: #008000; font-weight: bold\">levenshtein_ratio_metric: 0.3980 (avg)</span>                                                                          │\n",
       "│                                                                                                                 │\n",
       "╰─────────────────────────────────────────────────────────────────────────────────────────────────────────────────╯\n",
       "</pre>\n"
      ],
      "text/plain": [
       "╭─ demo-tinyqab-dataset-use_context_provided_and_elaborate_on_it_to_generate_a_more_detailed_answers-20 (10 sampl─╮\n",
       "│                                                                                                                 │\n",
       "│ \u001b[1mTotal time:       \u001b[0m 00:00:00                                                                                     │\n",
       "│ \u001b[1mNumber of samples:\u001b[0m 10                                                                                           │\n",
       "│                                                                                                                 │\n",
       "│ \u001b[1;32mlevenshtein_ratio_metric: 0.3980 (avg)\u001b[0m                                                                          │\n",
       "│                                                                                                                 │\n",
       "╰─────────────────────────────────────────────────────────────────────────────────────────────────────────────────╯\n"
      ]
     },
     "metadata": {},
     "output_type": "display_data"
    },
    {
     "data": {
      "text/html": [
       "<pre style=\"white-space:pre;overflow-x:auto;line-height:normal;font-family:Menlo,'DejaVu Sans Mono',consolas,'Courier New',monospace\">Uploading results to Opik <span style=\"color: #808000; text-decoration-color: #808000\">...</span> \n",
       "</pre>\n"
      ],
      "text/plain": [
       "Uploading results to Opik \u001b[33m...\u001b[0m \n"
      ]
     },
     "metadata": {},
     "output_type": "display_data"
    },
    {
     "data": {
      "text/html": [
       "<pre style=\"white-space:pre;overflow-x:auto;line-height:normal;font-family:Menlo,'DejaVu Sans Mono',consolas,'Courier New',monospace\">View the results <a href=\"https://www.comet.com/opik/api/v1/session/redirect/experiments/?experiment_id=0196e9d2-9883-7bae-a39e-d31bd6c8e8ec&dataset_id=0196e9b9-73a7-751a-8d6f-77232aae8bb2&path=aHR0cHM6Ly93d3cuY29tZXQuY29tL29waWsvYXBpLw==\" target=\"_blank\">in your Opik dashboard</a>.\n",
       "</pre>\n"
      ],
      "text/plain": [
       "View the results \u001b]8;id=238968;https://www.comet.com/opik/api/v1/session/redirect/experiments/?experiment_id=0196e9d2-9883-7bae-a39e-d31bd6c8e8ec&dataset_id=0196e9b9-73a7-751a-8d6f-77232aae8bb2&path=aHR0cHM6Ly93d3cuY29tZXQuY29tL29waWsvYXBpLw==\u001b\\in your Opik dashboard\u001b]8;;\u001b\\.\n"
      ]
     },
     "metadata": {},
     "output_type": "display_data"
    },
    {
     "data": {
      "application/vnd.jupyter.widget-view+json": {
       "model_id": "5cde0e08df5249f2ae813d8dc6a251e2",
       "version_major": 2,
       "version_minor": 0
      },
      "text/plain": [
       "Evaluation:   0%|          | 0/10 [00:00<?, ?it/s]"
      ]
     },
     "metadata": {},
     "output_type": "display_data"
    },
    {
     "data": {
      "text/html": [
       "<pre style=\"white-space:pre;overflow-x:auto;line-height:normal;font-family:Menlo,'DejaVu Sans Mono',consolas,'Courier New',monospace\">╭─ demo-tinyqab-dataset-use_context_provided_and_elaborate_on_it_to_generate_a_more_detailed_answers-20 (10 sampl─╮\n",
       "│                                                                                                                 │\n",
       "│ <span style=\"font-weight: bold\">Total time:       </span> 00:00:00                                                                                     │\n",
       "│ <span style=\"font-weight: bold\">Number of samples:</span> 10                                                                                           │\n",
       "│                                                                                                                 │\n",
       "│ <span style=\"color: #008000; text-decoration-color: #008000; font-weight: bold\">levenshtein_ratio_metric: 0.6319 (avg)</span>                                                                          │\n",
       "│                                                                                                                 │\n",
       "╰─────────────────────────────────────────────────────────────────────────────────────────────────────────────────╯\n",
       "</pre>\n"
      ],
      "text/plain": [
       "╭─ demo-tinyqab-dataset-use_context_provided_and_elaborate_on_it_to_generate_a_more_detailed_answers-20 (10 sampl─╮\n",
       "│                                                                                                                 │\n",
       "│ \u001b[1mTotal time:       \u001b[0m 00:00:00                                                                                     │\n",
       "│ \u001b[1mNumber of samples:\u001b[0m 10                                                                                           │\n",
       "│                                                                                                                 │\n",
       "│ \u001b[1;32mlevenshtein_ratio_metric: 0.6319 (avg)\u001b[0m                                                                          │\n",
       "│                                                                                                                 │\n",
       "╰─────────────────────────────────────────────────────────────────────────────────────────────────────────────────╯\n"
      ]
     },
     "metadata": {},
     "output_type": "display_data"
    },
    {
     "data": {
      "text/html": [
       "<pre style=\"white-space:pre;overflow-x:auto;line-height:normal;font-family:Menlo,'DejaVu Sans Mono',consolas,'Courier New',monospace\">Uploading results to Opik <span style=\"color: #808000; text-decoration-color: #808000\">...</span> \n",
       "</pre>\n"
      ],
      "text/plain": [
       "Uploading results to Opik \u001b[33m...\u001b[0m \n"
      ]
     },
     "metadata": {},
     "output_type": "display_data"
    },
    {
     "data": {
      "text/html": [
       "<pre style=\"white-space:pre;overflow-x:auto;line-height:normal;font-family:Menlo,'DejaVu Sans Mono',consolas,'Courier New',monospace\">View the results <a href=\"https://www.comet.com/opik/api/v1/session/redirect/experiments/?experiment_id=0196e9d2-9dfd-72e0-a132-5b9be233b6f9&dataset_id=0196e9b9-73a7-751a-8d6f-77232aae8bb2&path=aHR0cHM6Ly93d3cuY29tZXQuY29tL29waWsvYXBpLw==\" target=\"_blank\">in your Opik dashboard</a>.\n",
       "</pre>\n"
      ],
      "text/plain": [
       "View the results \u001b]8;id=83667;https://www.comet.com/opik/api/v1/session/redirect/experiments/?experiment_id=0196e9d2-9dfd-72e0-a132-5b9be233b6f9&dataset_id=0196e9b9-73a7-751a-8d6f-77232aae8bb2&path=aHR0cHM6Ly93d3cuY29tZXQuY29tL29waWsvYXBpLw==\u001b\\in your Opik dashboard\u001b]8;;\u001b\\.\n"
      ]
     },
     "metadata": {},
     "output_type": "display_data"
    },
    {
     "data": {
      "text/html": [
       "<pre style=\"white-space:pre;overflow-x:auto;line-height:normal;font-family:Menlo,'DejaVu Sans Mono',consolas,'Courier New',monospace\"><span style=\"color: #7fbfbf; text-decoration-color: #7fbfbf\">[2025-05-19 19:33:43] </span><span style=\"color: #808000; text-decoration-color: #808000\">WARNING </span> Direct JSON parsing failed, attempting regex            <a href=\"file:///Users/vincentkoc/GIT/_Perso/opik-main/.venv/lib/python3.9/site-packages/opik_optimizer/meta_prompt_optimizer.py\" target=\"_blank\"><span style=\"color: #7f7f7f; text-decoration-color: #7f7f7f\">meta_prompt_optimizer.py</span></a><span style=\"color: #7f7f7f; text-decoration-color: #7f7f7f\">:</span><a href=\"file:///Users/vincentkoc/GIT/_Perso/opik-main/.venv/lib/python3.9/site-packages/opik_optimizer/meta_prompt_optimizer.py#989\" target=\"_blank\"><span style=\"color: #7f7f7f; text-decoration-color: #7f7f7f\">989</span></a>\n",
       "<span style=\"color: #7fbfbf; text-decoration-color: #7fbfbf\">                      </span>         extraction.                                             <span style=\"color: #7f7f7f; text-decoration-color: #7f7f7f\">                            </span>\n",
       "</pre>\n"
      ],
      "text/plain": [
       "\u001b[2;36m[2025-05-19 19:33:43]\u001b[0m\u001b[2;36m \u001b[0m\u001b[33mWARNING \u001b[0m Direct JSON parsing failed, attempting regex            \u001b]8;id=475435;file:///Users/vincentkoc/GIT/_Perso/opik-main/.venv/lib/python3.9/site-packages/opik_optimizer/meta_prompt_optimizer.py\u001b\\\u001b[2mmeta_prompt_optimizer.py\u001b[0m\u001b]8;;\u001b\\\u001b[2m:\u001b[0m\u001b]8;id=666563;file:///Users/vincentkoc/GIT/_Perso/opik-main/.venv/lib/python3.9/site-packages/opik_optimizer/meta_prompt_optimizer.py#989\u001b\\\u001b[2m989\u001b[0m\u001b]8;;\u001b\\\n",
       "\u001b[2;36m                      \u001b[0m         extraction.                                             \u001b[2m                            \u001b[0m\n"
      ]
     },
     "metadata": {},
     "output_type": "display_data"
    },
    {
     "data": {
      "application/vnd.jupyter.widget-view+json": {
       "model_id": "6451985a062a4e818169b50ac2841eae",
       "version_major": 2,
       "version_minor": 0
      },
      "text/plain": [
       "Evaluation:   0%|          | 0/10 [00:00<?, ?it/s]"
      ]
     },
     "metadata": {},
     "output_type": "display_data"
    },
    {
     "data": {
      "text/html": [
       "<pre style=\"white-space:pre;overflow-x:auto;line-height:normal;font-family:Menlo,'DejaVu Sans Mono',consolas,'Courier New',monospace\">╭─ demo-tinyqab-dataset-use_context_provided_and_elaborate_on_it_to_generate_a_more_detailed_answers-20 (10 sampl─╮\n",
       "│                                                                                                                 │\n",
       "│ <span style=\"font-weight: bold\">Total time:       </span> 00:00:01                                                                                     │\n",
       "│ <span style=\"font-weight: bold\">Number of samples:</span> 10                                                                                           │\n",
       "│                                                                                                                 │\n",
       "│ <span style=\"color: #008000; text-decoration-color: #008000; font-weight: bold\">levenshtein_ratio_metric: 0.6233 (avg)</span>                                                                          │\n",
       "│                                                                                                                 │\n",
       "╰─────────────────────────────────────────────────────────────────────────────────────────────────────────────────╯\n",
       "</pre>\n"
      ],
      "text/plain": [
       "╭─ demo-tinyqab-dataset-use_context_provided_and_elaborate_on_it_to_generate_a_more_detailed_answers-20 (10 sampl─╮\n",
       "│                                                                                                                 │\n",
       "│ \u001b[1mTotal time:       \u001b[0m 00:00:01                                                                                     │\n",
       "│ \u001b[1mNumber of samples:\u001b[0m 10                                                                                           │\n",
       "│                                                                                                                 │\n",
       "│ \u001b[1;32mlevenshtein_ratio_metric: 0.6233 (avg)\u001b[0m                                                                          │\n",
       "│                                                                                                                 │\n",
       "╰─────────────────────────────────────────────────────────────────────────────────────────────────────────────────╯\n"
      ]
     },
     "metadata": {},
     "output_type": "display_data"
    },
    {
     "data": {
      "text/html": [
       "<pre style=\"white-space:pre;overflow-x:auto;line-height:normal;font-family:Menlo,'DejaVu Sans Mono',consolas,'Courier New',monospace\">Uploading results to Opik <span style=\"color: #808000; text-decoration-color: #808000\">...</span> \n",
       "</pre>\n"
      ],
      "text/plain": [
       "Uploading results to Opik \u001b[33m...\u001b[0m \n"
      ]
     },
     "metadata": {},
     "output_type": "display_data"
    },
    {
     "data": {
      "text/html": [
       "<pre style=\"white-space:pre;overflow-x:auto;line-height:normal;font-family:Menlo,'DejaVu Sans Mono',consolas,'Courier New',monospace\">View the results <a href=\"https://www.comet.com/opik/api/v1/session/redirect/experiments/?experiment_id=0196e9d2-bb7d-7a1e-8e02-e679d085004b&dataset_id=0196e9b9-73a7-751a-8d6f-77232aae8bb2&path=aHR0cHM6Ly93d3cuY29tZXQuY29tL29waWsvYXBpLw==\" target=\"_blank\">in your Opik dashboard</a>.\n",
       "</pre>\n"
      ],
      "text/plain": [
       "View the results \u001b]8;id=170555;https://www.comet.com/opik/api/v1/session/redirect/experiments/?experiment_id=0196e9d2-bb7d-7a1e-8e02-e679d085004b&dataset_id=0196e9b9-73a7-751a-8d6f-77232aae8bb2&path=aHR0cHM6Ly93d3cuY29tZXQuY29tL29waWsvYXBpLw==\u001b\\in your Opik dashboard\u001b]8;;\u001b\\.\n"
      ]
     },
     "metadata": {},
     "output_type": "display_data"
    },
    {
     "data": {
      "application/vnd.jupyter.widget-view+json": {
       "model_id": "6cc13146a21a48119c57de7ab1bec5fd",
       "version_major": 2,
       "version_minor": 0
      },
      "text/plain": [
       "Evaluation:   0%|          | 0/10 [00:00<?, ?it/s]"
      ]
     },
     "metadata": {},
     "output_type": "display_data"
    },
    {
     "data": {
      "text/html": [
       "<pre style=\"white-space:pre;overflow-x:auto;line-height:normal;font-family:Menlo,'DejaVu Sans Mono',consolas,'Courier New',monospace\">╭─ demo-tinyqab-dataset-use_context_provided_and_elaborate_on_it_to_generate_a_more_detailed_answers-20 (10 sampl─╮\n",
       "│                                                                                                                 │\n",
       "│ <span style=\"font-weight: bold\">Total time:       </span> 00:00:00                                                                                     │\n",
       "│ <span style=\"font-weight: bold\">Number of samples:</span> 10                                                                                           │\n",
       "│                                                                                                                 │\n",
       "│ <span style=\"color: #008000; text-decoration-color: #008000; font-weight: bold\">levenshtein_ratio_metric: 0.6233 (avg)</span>                                                                          │\n",
       "│                                                                                                                 │\n",
       "╰─────────────────────────────────────────────────────────────────────────────────────────────────────────────────╯\n",
       "</pre>\n"
      ],
      "text/plain": [
       "╭─ demo-tinyqab-dataset-use_context_provided_and_elaborate_on_it_to_generate_a_more_detailed_answers-20 (10 sampl─╮\n",
       "│                                                                                                                 │\n",
       "│ \u001b[1mTotal time:       \u001b[0m 00:00:00                                                                                     │\n",
       "│ \u001b[1mNumber of samples:\u001b[0m 10                                                                                           │\n",
       "│                                                                                                                 │\n",
       "│ \u001b[1;32mlevenshtein_ratio_metric: 0.6233 (avg)\u001b[0m                                                                          │\n",
       "│                                                                                                                 │\n",
       "╰─────────────────────────────────────────────────────────────────────────────────────────────────────────────────╯\n"
      ]
     },
     "metadata": {},
     "output_type": "display_data"
    },
    {
     "data": {
      "text/html": [
       "<pre style=\"white-space:pre;overflow-x:auto;line-height:normal;font-family:Menlo,'DejaVu Sans Mono',consolas,'Courier New',monospace\">Uploading results to Opik <span style=\"color: #808000; text-decoration-color: #808000\">...</span> \n",
       "</pre>\n"
      ],
      "text/plain": [
       "Uploading results to Opik \u001b[33m...\u001b[0m \n"
      ]
     },
     "metadata": {},
     "output_type": "display_data"
    },
    {
     "data": {
      "text/html": [
       "<pre style=\"white-space:pre;overflow-x:auto;line-height:normal;font-family:Menlo,'DejaVu Sans Mono',consolas,'Courier New',monospace\">View the results <a href=\"https://www.comet.com/opik/api/v1/session/redirect/experiments/?experiment_id=0196e9d2-c3be-785c-9633-160ddb325a5f&dataset_id=0196e9b9-73a7-751a-8d6f-77232aae8bb2&path=aHR0cHM6Ly93d3cuY29tZXQuY29tL29waWsvYXBpLw==\" target=\"_blank\">in your Opik dashboard</a>.\n",
       "</pre>\n"
      ],
      "text/plain": [
       "View the results \u001b]8;id=219684;https://www.comet.com/opik/api/v1/session/redirect/experiments/?experiment_id=0196e9d2-c3be-785c-9633-160ddb325a5f&dataset_id=0196e9b9-73a7-751a-8d6f-77232aae8bb2&path=aHR0cHM6Ly93d3cuY29tZXQuY29tL29waWsvYXBpLw==\u001b\\in your Opik dashboard\u001b]8;;\u001b\\.\n"
      ]
     },
     "metadata": {},
     "output_type": "display_data"
    },
    {
     "data": {
      "application/vnd.jupyter.widget-view+json": {
       "model_id": "373dc5a8c1f54ec0babb9db04725f3c0",
       "version_major": 2,
       "version_minor": 0
      },
      "text/plain": [
       "Evaluation:   0%|          | 0/10 [00:00<?, ?it/s]"
      ]
     },
     "metadata": {},
     "output_type": "display_data"
    },
    {
     "data": {
      "text/html": [
       "<pre style=\"white-space:pre;overflow-x:auto;line-height:normal;font-family:Menlo,'DejaVu Sans Mono',consolas,'Courier New',monospace\">╭─ demo-tinyqab-dataset-use_context_provided_and_elaborate_on_it_to_generate_a_more_detailed_answers-20 (10 sampl─╮\n",
       "│                                                                                                                 │\n",
       "│ <span style=\"font-weight: bold\">Total time:       </span> 00:00:00                                                                                     │\n",
       "│ <span style=\"font-weight: bold\">Number of samples:</span> 10                                                                                           │\n",
       "│                                                                                                                 │\n",
       "│ <span style=\"color: #008000; text-decoration-color: #008000; font-weight: bold\">levenshtein_ratio_metric: 0.6233 (avg)</span>                                                                          │\n",
       "│                                                                                                                 │\n",
       "╰─────────────────────────────────────────────────────────────────────────────────────────────────────────────────╯\n",
       "</pre>\n"
      ],
      "text/plain": [
       "╭─ demo-tinyqab-dataset-use_context_provided_and_elaborate_on_it_to_generate_a_more_detailed_answers-20 (10 sampl─╮\n",
       "│                                                                                                                 │\n",
       "│ \u001b[1mTotal time:       \u001b[0m 00:00:00                                                                                     │\n",
       "│ \u001b[1mNumber of samples:\u001b[0m 10                                                                                           │\n",
       "│                                                                                                                 │\n",
       "│ \u001b[1;32mlevenshtein_ratio_metric: 0.6233 (avg)\u001b[0m                                                                          │\n",
       "│                                                                                                                 │\n",
       "╰─────────────────────────────────────────────────────────────────────────────────────────────────────────────────╯\n"
      ]
     },
     "metadata": {},
     "output_type": "display_data"
    },
    {
     "data": {
      "text/html": [
       "<pre style=\"white-space:pre;overflow-x:auto;line-height:normal;font-family:Menlo,'DejaVu Sans Mono',consolas,'Courier New',monospace\">Uploading results to Opik <span style=\"color: #808000; text-decoration-color: #808000\">...</span> \n",
       "</pre>\n"
      ],
      "text/plain": [
       "Uploading results to Opik \u001b[33m...\u001b[0m \n"
      ]
     },
     "metadata": {},
     "output_type": "display_data"
    },
    {
     "data": {
      "text/html": [
       "<pre style=\"white-space:pre;overflow-x:auto;line-height:normal;font-family:Menlo,'DejaVu Sans Mono',consolas,'Courier New',monospace\">View the results <a href=\"https://www.comet.com/opik/api/v1/session/redirect/experiments/?experiment_id=0196e9d2-c91b-7d76-b551-9acd019d00d1&dataset_id=0196e9b9-73a7-751a-8d6f-77232aae8bb2&path=aHR0cHM6Ly93d3cuY29tZXQuY29tL29waWsvYXBpLw==\" target=\"_blank\">in your Opik dashboard</a>.\n",
       "</pre>\n"
      ],
      "text/plain": [
       "View the results \u001b]8;id=735911;https://www.comet.com/opik/api/v1/session/redirect/experiments/?experiment_id=0196e9d2-c91b-7d76-b551-9acd019d00d1&dataset_id=0196e9b9-73a7-751a-8d6f-77232aae8bb2&path=aHR0cHM6Ly93d3cuY29tZXQuY29tL29waWsvYXBpLw==\u001b\\in your Opik dashboard\u001b]8;;\u001b\\.\n"
      ]
     },
     "metadata": {},
     "output_type": "display_data"
    },
    {
     "data": {
      "application/vnd.jupyter.widget-view+json": {
       "model_id": "a214fd68cea540e094b0bb3cde8ec41a",
       "version_major": 2,
       "version_minor": 0
      },
      "text/plain": [
       "Evaluation:   0%|          | 0/10 [00:00<?, ?it/s]"
      ]
     },
     "metadata": {},
     "output_type": "display_data"
    },
    {
     "data": {
      "text/html": [
       "<pre style=\"white-space:pre;overflow-x:auto;line-height:normal;font-family:Menlo,'DejaVu Sans Mono',consolas,'Courier New',monospace\">╭─ demo-tinyqab-dataset-use_context_provided_and_elaborate_on_it_to_generate_a_more_detailed_answers-20 (10 sampl─╮\n",
       "│                                                                                                                 │\n",
       "│ <span style=\"font-weight: bold\">Total time:       </span> 00:00:00                                                                                     │\n",
       "│ <span style=\"font-weight: bold\">Number of samples:</span> 10                                                                                           │\n",
       "│                                                                                                                 │\n",
       "│ <span style=\"color: #008000; text-decoration-color: #008000; font-weight: bold\">levenshtein_ratio_metric: 0.6233 (avg)</span>                                                                          │\n",
       "│                                                                                                                 │\n",
       "╰─────────────────────────────────────────────────────────────────────────────────────────────────────────────────╯\n",
       "</pre>\n"
      ],
      "text/plain": [
       "╭─ demo-tinyqab-dataset-use_context_provided_and_elaborate_on_it_to_generate_a_more_detailed_answers-20 (10 sampl─╮\n",
       "│                                                                                                                 │\n",
       "│ \u001b[1mTotal time:       \u001b[0m 00:00:00                                                                                     │\n",
       "│ \u001b[1mNumber of samples:\u001b[0m 10                                                                                           │\n",
       "│                                                                                                                 │\n",
       "│ \u001b[1;32mlevenshtein_ratio_metric: 0.6233 (avg)\u001b[0m                                                                          │\n",
       "│                                                                                                                 │\n",
       "╰─────────────────────────────────────────────────────────────────────────────────────────────────────────────────╯\n"
      ]
     },
     "metadata": {},
     "output_type": "display_data"
    },
    {
     "data": {
      "text/html": [
       "<pre style=\"white-space:pre;overflow-x:auto;line-height:normal;font-family:Menlo,'DejaVu Sans Mono',consolas,'Courier New',monospace\">Uploading results to Opik <span style=\"color: #808000; text-decoration-color: #808000\">...</span> \n",
       "</pre>\n"
      ],
      "text/plain": [
       "Uploading results to Opik \u001b[33m...\u001b[0m \n"
      ]
     },
     "metadata": {},
     "output_type": "display_data"
    },
    {
     "data": {
      "text/html": [
       "<pre style=\"white-space:pre;overflow-x:auto;line-height:normal;font-family:Menlo,'DejaVu Sans Mono',consolas,'Courier New',monospace\">View the results <a href=\"https://www.comet.com/opik/api/v1/session/redirect/experiments/?experiment_id=0196e9d2-ceae-70e4-abeb-9b55414df2a9&dataset_id=0196e9b9-73a7-751a-8d6f-77232aae8bb2&path=aHR0cHM6Ly93d3cuY29tZXQuY29tL29waWsvYXBpLw==\" target=\"_blank\">in your Opik dashboard</a>.\n",
       "</pre>\n"
      ],
      "text/plain": [
       "View the results \u001b]8;id=679514;https://www.comet.com/opik/api/v1/session/redirect/experiments/?experiment_id=0196e9d2-ceae-70e4-abeb-9b55414df2a9&dataset_id=0196e9b9-73a7-751a-8d6f-77232aae8bb2&path=aHR0cHM6Ly93d3cuY29tZXQuY29tL29waWsvYXBpLw==\u001b\\in your Opik dashboard\u001b]8;;\u001b\\.\n"
      ]
     },
     "metadata": {},
     "output_type": "display_data"
    },
    {
     "data": {
      "application/vnd.jupyter.widget-view+json": {
       "model_id": "17f92bbd80b64be997f615fe8e4d4537",
       "version_major": 2,
       "version_minor": 0
      },
      "text/plain": [
       "Evaluation:   0%|          | 0/10 [00:00<?, ?it/s]"
      ]
     },
     "metadata": {},
     "output_type": "display_data"
    },
    {
     "data": {
      "text/html": [
       "<pre style=\"white-space:pre;overflow-x:auto;line-height:normal;font-family:Menlo,'DejaVu Sans Mono',consolas,'Courier New',monospace\">╭─ demo-tinyqab-dataset-use_context_provided_and_elaborate_on_it_to_generate_a_more_detailed_answers-20 (10 sampl─╮\n",
       "│                                                                                                                 │\n",
       "│ <span style=\"font-weight: bold\">Total time:       </span> 00:00:00                                                                                     │\n",
       "│ <span style=\"font-weight: bold\">Number of samples:</span> 10                                                                                           │\n",
       "│                                                                                                                 │\n",
       "│ <span style=\"color: #008000; text-decoration-color: #008000; font-weight: bold\">levenshtein_ratio_metric: 0.6233 (avg)</span>                                                                          │\n",
       "│                                                                                                                 │\n",
       "╰─────────────────────────────────────────────────────────────────────────────────────────────────────────────────╯\n",
       "</pre>\n"
      ],
      "text/plain": [
       "╭─ demo-tinyqab-dataset-use_context_provided_and_elaborate_on_it_to_generate_a_more_detailed_answers-20 (10 sampl─╮\n",
       "│                                                                                                                 │\n",
       "│ \u001b[1mTotal time:       \u001b[0m 00:00:00                                                                                     │\n",
       "│ \u001b[1mNumber of samples:\u001b[0m 10                                                                                           │\n",
       "│                                                                                                                 │\n",
       "│ \u001b[1;32mlevenshtein_ratio_metric: 0.6233 (avg)\u001b[0m                                                                          │\n",
       "│                                                                                                                 │\n",
       "╰─────────────────────────────────────────────────────────────────────────────────────────────────────────────────╯\n"
      ]
     },
     "metadata": {},
     "output_type": "display_data"
    },
    {
     "data": {
      "text/html": [
       "<pre style=\"white-space:pre;overflow-x:auto;line-height:normal;font-family:Menlo,'DejaVu Sans Mono',consolas,'Courier New',monospace\">Uploading results to Opik <span style=\"color: #808000; text-decoration-color: #808000\">...</span> \n",
       "</pre>\n"
      ],
      "text/plain": [
       "Uploading results to Opik \u001b[33m...\u001b[0m \n"
      ]
     },
     "metadata": {},
     "output_type": "display_data"
    },
    {
     "data": {
      "text/html": [
       "<pre style=\"white-space:pre;overflow-x:auto;line-height:normal;font-family:Menlo,'DejaVu Sans Mono',consolas,'Courier New',monospace\">View the results <a href=\"https://www.comet.com/opik/api/v1/session/redirect/experiments/?experiment_id=0196e9d2-d3ed-7ef0-a877-26bacec0a901&dataset_id=0196e9b9-73a7-751a-8d6f-77232aae8bb2&path=aHR0cHM6Ly93d3cuY29tZXQuY29tL29waWsvYXBpLw==\" target=\"_blank\">in your Opik dashboard</a>.\n",
       "</pre>\n"
      ],
      "text/plain": [
       "View the results \u001b]8;id=665822;https://www.comet.com/opik/api/v1/session/redirect/experiments/?experiment_id=0196e9d2-d3ed-7ef0-a877-26bacec0a901&dataset_id=0196e9b9-73a7-751a-8d6f-77232aae8bb2&path=aHR0cHM6Ly93d3cuY29tZXQuY29tL29waWsvYXBpLw==\u001b\\in your Opik dashboard\u001b]8;;\u001b\\.\n"
      ]
     },
     "metadata": {},
     "output_type": "display_data"
    },
    {
     "data": {
      "application/vnd.jupyter.widget-view+json": {
       "model_id": "29d7f1e58ac64a8293fcd1aa54057d68",
       "version_major": 2,
       "version_minor": 0
      },
      "text/plain": [
       "Evaluation:   0%|          | 0/10 [00:00<?, ?it/s]"
      ]
     },
     "metadata": {},
     "output_type": "display_data"
    },
    {
     "data": {
      "text/html": [
       "<pre style=\"white-space:pre;overflow-x:auto;line-height:normal;font-family:Menlo,'DejaVu Sans Mono',consolas,'Courier New',monospace\">╭─ demo-tinyqab-dataset-use_context_provided_and_elaborate_on_it_to_generate_a_more_detailed_answers-20 (10 sampl─╮\n",
       "│                                                                                                                 │\n",
       "│ <span style=\"font-weight: bold\">Total time:       </span> 00:00:00                                                                                     │\n",
       "│ <span style=\"font-weight: bold\">Number of samples:</span> 10                                                                                           │\n",
       "│                                                                                                                 │\n",
       "│ <span style=\"color: #008000; text-decoration-color: #008000; font-weight: bold\">levenshtein_ratio_metric: 0.6233 (avg)</span>                                                                          │\n",
       "│                                                                                                                 │\n",
       "╰─────────────────────────────────────────────────────────────────────────────────────────────────────────────────╯\n",
       "</pre>\n"
      ],
      "text/plain": [
       "╭─ demo-tinyqab-dataset-use_context_provided_and_elaborate_on_it_to_generate_a_more_detailed_answers-20 (10 sampl─╮\n",
       "│                                                                                                                 │\n",
       "│ \u001b[1mTotal time:       \u001b[0m 00:00:00                                                                                     │\n",
       "│ \u001b[1mNumber of samples:\u001b[0m 10                                                                                           │\n",
       "│                                                                                                                 │\n",
       "│ \u001b[1;32mlevenshtein_ratio_metric: 0.6233 (avg)\u001b[0m                                                                          │\n",
       "│                                                                                                                 │\n",
       "╰─────────────────────────────────────────────────────────────────────────────────────────────────────────────────╯\n"
      ]
     },
     "metadata": {},
     "output_type": "display_data"
    },
    {
     "data": {
      "text/html": [
       "<pre style=\"white-space:pre;overflow-x:auto;line-height:normal;font-family:Menlo,'DejaVu Sans Mono',consolas,'Courier New',monospace\">Uploading results to Opik <span style=\"color: #808000; text-decoration-color: #808000\">...</span> \n",
       "</pre>\n"
      ],
      "text/plain": [
       "Uploading results to Opik \u001b[33m...\u001b[0m \n"
      ]
     },
     "metadata": {},
     "output_type": "display_data"
    },
    {
     "data": {
      "text/html": [
       "<pre style=\"white-space:pre;overflow-x:auto;line-height:normal;font-family:Menlo,'DejaVu Sans Mono',consolas,'Courier New',monospace\">View the results <a href=\"https://www.comet.com/opik/api/v1/session/redirect/experiments/?experiment_id=0196e9d2-d98f-7ee9-b0ea-9489dfdde0c5&dataset_id=0196e9b9-73a7-751a-8d6f-77232aae8bb2&path=aHR0cHM6Ly93d3cuY29tZXQuY29tL29waWsvYXBpLw==\" target=\"_blank\">in your Opik dashboard</a>.\n",
       "</pre>\n"
      ],
      "text/plain": [
       "View the results \u001b]8;id=764544;https://www.comet.com/opik/api/v1/session/redirect/experiments/?experiment_id=0196e9d2-d98f-7ee9-b0ea-9489dfdde0c5&dataset_id=0196e9b9-73a7-751a-8d6f-77232aae8bb2&path=aHR0cHM6Ly93d3cuY29tZXQuY29tL29waWsvYXBpLw==\u001b\\in your Opik dashboard\u001b]8;;\u001b\\.\n"
      ]
     },
     "metadata": {},
     "output_type": "display_data"
    },
    {
     "data": {
      "application/vnd.jupyter.widget-view+json": {
       "model_id": "1fbd25fee84f40358541b35a01688dbc",
       "version_major": 2,
       "version_minor": 0
      },
      "text/plain": [
       "Evaluation:   0%|          | 0/10 [00:00<?, ?it/s]"
      ]
     },
     "metadata": {},
     "output_type": "display_data"
    },
    {
     "data": {
      "text/html": [
       "<pre style=\"white-space:pre;overflow-x:auto;line-height:normal;font-family:Menlo,'DejaVu Sans Mono',consolas,'Courier New',monospace\">╭─ demo-tinyqab-dataset-use_context_provided_and_elaborate_on_it_to_generate_a_more_detailed_answers-20 (10 sampl─╮\n",
       "│                                                                                                                 │\n",
       "│ <span style=\"font-weight: bold\">Total time:       </span> 00:00:01                                                                                     │\n",
       "│ <span style=\"font-weight: bold\">Number of samples:</span> 10                                                                                           │\n",
       "│                                                                                                                 │\n",
       "│ <span style=\"color: #008000; text-decoration-color: #008000; font-weight: bold\">levenshtein_ratio_metric: 0.6542 (avg)</span>                                                                          │\n",
       "│                                                                                                                 │\n",
       "╰─────────────────────────────────────────────────────────────────────────────────────────────────────────────────╯\n",
       "</pre>\n"
      ],
      "text/plain": [
       "╭─ demo-tinyqab-dataset-use_context_provided_and_elaborate_on_it_to_generate_a_more_detailed_answers-20 (10 sampl─╮\n",
       "│                                                                                                                 │\n",
       "│ \u001b[1mTotal time:       \u001b[0m 00:00:01                                                                                     │\n",
       "│ \u001b[1mNumber of samples:\u001b[0m 10                                                                                           │\n",
       "│                                                                                                                 │\n",
       "│ \u001b[1;32mlevenshtein_ratio_metric: 0.6542 (avg)\u001b[0m                                                                          │\n",
       "│                                                                                                                 │\n",
       "╰─────────────────────────────────────────────────────────────────────────────────────────────────────────────────╯\n"
      ]
     },
     "metadata": {},
     "output_type": "display_data"
    },
    {
     "data": {
      "text/html": [
       "<pre style=\"white-space:pre;overflow-x:auto;line-height:normal;font-family:Menlo,'DejaVu Sans Mono',consolas,'Courier New',monospace\">Uploading results to Opik <span style=\"color: #808000; text-decoration-color: #808000\">...</span> \n",
       "</pre>\n"
      ],
      "text/plain": [
       "Uploading results to Opik \u001b[33m...\u001b[0m \n"
      ]
     },
     "metadata": {},
     "output_type": "display_data"
    },
    {
     "data": {
      "text/html": [
       "<pre style=\"white-space:pre;overflow-x:auto;line-height:normal;font-family:Menlo,'DejaVu Sans Mono',consolas,'Courier New',monospace\">View the results <a href=\"https://www.comet.com/opik/api/v1/session/redirect/experiments/?experiment_id=0196e9d2-dedd-7432-ade5-c31a4beb5234&dataset_id=0196e9b9-73a7-751a-8d6f-77232aae8bb2&path=aHR0cHM6Ly93d3cuY29tZXQuY29tL29waWsvYXBpLw==\" target=\"_blank\">in your Opik dashboard</a>.\n",
       "</pre>\n"
      ],
      "text/plain": [
       "View the results \u001b]8;id=484714;https://www.comet.com/opik/api/v1/session/redirect/experiments/?experiment_id=0196e9d2-dedd-7432-ade5-c31a4beb5234&dataset_id=0196e9b9-73a7-751a-8d6f-77232aae8bb2&path=aHR0cHM6Ly93d3cuY29tZXQuY29tL29waWsvYXBpLw==\u001b\\in your Opik dashboard\u001b]8;;\u001b\\.\n"
      ]
     },
     "metadata": {},
     "output_type": "display_data"
    },
    {
     "data": {
      "application/vnd.jupyter.widget-view+json": {
       "model_id": "3f86e6e71d0f4418a39247a7b9baafc8",
       "version_major": 2,
       "version_minor": 0
      },
      "text/plain": [
       "Evaluation:   0%|          | 0/10 [00:00<?, ?it/s]"
      ]
     },
     "metadata": {},
     "output_type": "display_data"
    },
    {
     "data": {
      "text/html": [
       "<pre style=\"white-space:pre;overflow-x:auto;line-height:normal;font-family:Menlo,'DejaVu Sans Mono',consolas,'Courier New',monospace\">╭─ demo-tinyqab-dataset-use_context_provided_and_elaborate_on_it_to_generate_a_more_detailed_answers-20 (10 sampl─╮\n",
       "│                                                                                                                 │\n",
       "│ <span style=\"font-weight: bold\">Total time:       </span> 00:00:00                                                                                     │\n",
       "│ <span style=\"font-weight: bold\">Number of samples:</span> 10                                                                                           │\n",
       "│                                                                                                                 │\n",
       "│ <span style=\"color: #008000; text-decoration-color: #008000; font-weight: bold\">levenshtein_ratio_metric: 0.6542 (avg)</span>                                                                          │\n",
       "│                                                                                                                 │\n",
       "╰─────────────────────────────────────────────────────────────────────────────────────────────────────────────────╯\n",
       "</pre>\n"
      ],
      "text/plain": [
       "╭─ demo-tinyqab-dataset-use_context_provided_and_elaborate_on_it_to_generate_a_more_detailed_answers-20 (10 sampl─╮\n",
       "│                                                                                                                 │\n",
       "│ \u001b[1mTotal time:       \u001b[0m 00:00:00                                                                                     │\n",
       "│ \u001b[1mNumber of samples:\u001b[0m 10                                                                                           │\n",
       "│                                                                                                                 │\n",
       "│ \u001b[1;32mlevenshtein_ratio_metric: 0.6542 (avg)\u001b[0m                                                                          │\n",
       "│                                                                                                                 │\n",
       "╰─────────────────────────────────────────────────────────────────────────────────────────────────────────────────╯\n"
      ]
     },
     "metadata": {},
     "output_type": "display_data"
    },
    {
     "data": {
      "text/html": [
       "<pre style=\"white-space:pre;overflow-x:auto;line-height:normal;font-family:Menlo,'DejaVu Sans Mono',consolas,'Courier New',monospace\">Uploading results to Opik <span style=\"color: #808000; text-decoration-color: #808000\">...</span> \n",
       "</pre>\n"
      ],
      "text/plain": [
       "Uploading results to Opik \u001b[33m...\u001b[0m \n"
      ]
     },
     "metadata": {},
     "output_type": "display_data"
    },
    {
     "data": {
      "text/html": [
       "<pre style=\"white-space:pre;overflow-x:auto;line-height:normal;font-family:Menlo,'DejaVu Sans Mono',consolas,'Courier New',monospace\">View the results <a href=\"https://www.comet.com/opik/api/v1/session/redirect/experiments/?experiment_id=0196e9d2-e933-7ed1-be7c-9f62539c0234&dataset_id=0196e9b9-73a7-751a-8d6f-77232aae8bb2&path=aHR0cHM6Ly93d3cuY29tZXQuY29tL29waWsvYXBpLw==\" target=\"_blank\">in your Opik dashboard</a>.\n",
       "</pre>\n"
      ],
      "text/plain": [
       "View the results \u001b]8;id=970342;https://www.comet.com/opik/api/v1/session/redirect/experiments/?experiment_id=0196e9d2-e933-7ed1-be7c-9f62539c0234&dataset_id=0196e9b9-73a7-751a-8d6f-77232aae8bb2&path=aHR0cHM6Ly93d3cuY29tZXQuY29tL29waWsvYXBpLw==\u001b\\in your Opik dashboard\u001b]8;;\u001b\\.\n"
      ]
     },
     "metadata": {},
     "output_type": "display_data"
    },
    {
     "data": {
      "application/vnd.jupyter.widget-view+json": {
       "model_id": "b9fe4153e6ee4ae982039535e958d48f",
       "version_major": 2,
       "version_minor": 0
      },
      "text/plain": [
       "Evaluation:   0%|          | 0/10 [00:00<?, ?it/s]"
      ]
     },
     "metadata": {},
     "output_type": "display_data"
    },
    {
     "data": {
      "text/html": [
       "<pre style=\"white-space:pre;overflow-x:auto;line-height:normal;font-family:Menlo,'DejaVu Sans Mono',consolas,'Courier New',monospace\">╭─ demo-tinyqab-dataset-use_context_provided_and_elaborate_on_it_to_generate_a_more_detailed_answers-20 (10 sampl─╮\n",
       "│                                                                                                                 │\n",
       "│ <span style=\"font-weight: bold\">Total time:       </span> 00:00:00                                                                                     │\n",
       "│ <span style=\"font-weight: bold\">Number of samples:</span> 10                                                                                           │\n",
       "│                                                                                                                 │\n",
       "│ <span style=\"color: #008000; text-decoration-color: #008000; font-weight: bold\">levenshtein_ratio_metric: 0.6542 (avg)</span>                                                                          │\n",
       "│                                                                                                                 │\n",
       "╰─────────────────────────────────────────────────────────────────────────────────────────────────────────────────╯\n",
       "</pre>\n"
      ],
      "text/plain": [
       "╭─ demo-tinyqab-dataset-use_context_provided_and_elaborate_on_it_to_generate_a_more_detailed_answers-20 (10 sampl─╮\n",
       "│                                                                                                                 │\n",
       "│ \u001b[1mTotal time:       \u001b[0m 00:00:00                                                                                     │\n",
       "│ \u001b[1mNumber of samples:\u001b[0m 10                                                                                           │\n",
       "│                                                                                                                 │\n",
       "│ \u001b[1;32mlevenshtein_ratio_metric: 0.6542 (avg)\u001b[0m                                                                          │\n",
       "│                                                                                                                 │\n",
       "╰─────────────────────────────────────────────────────────────────────────────────────────────────────────────────╯\n"
      ]
     },
     "metadata": {},
     "output_type": "display_data"
    },
    {
     "data": {
      "text/html": [
       "<pre style=\"white-space:pre;overflow-x:auto;line-height:normal;font-family:Menlo,'DejaVu Sans Mono',consolas,'Courier New',monospace\">Uploading results to Opik <span style=\"color: #808000; text-decoration-color: #808000\">...</span> \n",
       "</pre>\n"
      ],
      "text/plain": [
       "Uploading results to Opik \u001b[33m...\u001b[0m \n"
      ]
     },
     "metadata": {},
     "output_type": "display_data"
    },
    {
     "data": {
      "text/html": [
       "<pre style=\"white-space:pre;overflow-x:auto;line-height:normal;font-family:Menlo,'DejaVu Sans Mono',consolas,'Courier New',monospace\">View the results <a href=\"https://www.comet.com/opik/api/v1/session/redirect/experiments/?experiment_id=0196e9d2-eed2-7c7d-854e-724f6e266570&dataset_id=0196e9b9-73a7-751a-8d6f-77232aae8bb2&path=aHR0cHM6Ly93d3cuY29tZXQuY29tL29waWsvYXBpLw==\" target=\"_blank\">in your Opik dashboard</a>.\n",
       "</pre>\n"
      ],
      "text/plain": [
       "View the results \u001b]8;id=584004;https://www.comet.com/opik/api/v1/session/redirect/experiments/?experiment_id=0196e9d2-eed2-7c7d-854e-724f6e266570&dataset_id=0196e9b9-73a7-751a-8d6f-77232aae8bb2&path=aHR0cHM6Ly93d3cuY29tZXQuY29tL29waWsvYXBpLw==\u001b\\in your Opik dashboard\u001b]8;;\u001b\\.\n"
      ]
     },
     "metadata": {},
     "output_type": "display_data"
    },
    {
     "data": {
      "application/vnd.jupyter.widget-view+json": {
       "model_id": "cce19bea3caa4499b88166c868375af9",
       "version_major": 2,
       "version_minor": 0
      },
      "text/plain": [
       "Evaluation:   0%|          | 0/10 [00:00<?, ?it/s]"
      ]
     },
     "metadata": {},
     "output_type": "display_data"
    },
    {
     "data": {
      "text/html": [
       "<pre style=\"white-space:pre;overflow-x:auto;line-height:normal;font-family:Menlo,'DejaVu Sans Mono',consolas,'Courier New',monospace\">╭─ demo-tinyqab-dataset-use_context_provided_and_elaborate_on_it_to_generate_a_more_detailed_answers-20 (10 sampl─╮\n",
       "│                                                                                                                 │\n",
       "│ <span style=\"font-weight: bold\">Total time:       </span> 00:00:00                                                                                     │\n",
       "│ <span style=\"font-weight: bold\">Number of samples:</span> 10                                                                                           │\n",
       "│                                                                                                                 │\n",
       "│ <span style=\"color: #008000; text-decoration-color: #008000; font-weight: bold\">levenshtein_ratio_metric: 0.6542 (avg)</span>                                                                          │\n",
       "│                                                                                                                 │\n",
       "╰─────────────────────────────────────────────────────────────────────────────────────────────────────────────────╯\n",
       "</pre>\n"
      ],
      "text/plain": [
       "╭─ demo-tinyqab-dataset-use_context_provided_and_elaborate_on_it_to_generate_a_more_detailed_answers-20 (10 sampl─╮\n",
       "│                                                                                                                 │\n",
       "│ \u001b[1mTotal time:       \u001b[0m 00:00:00                                                                                     │\n",
       "│ \u001b[1mNumber of samples:\u001b[0m 10                                                                                           │\n",
       "│                                                                                                                 │\n",
       "│ \u001b[1;32mlevenshtein_ratio_metric: 0.6542 (avg)\u001b[0m                                                                          │\n",
       "│                                                                                                                 │\n",
       "╰─────────────────────────────────────────────────────────────────────────────────────────────────────────────────╯\n"
      ]
     },
     "metadata": {},
     "output_type": "display_data"
    },
    {
     "data": {
      "text/html": [
       "<pre style=\"white-space:pre;overflow-x:auto;line-height:normal;font-family:Menlo,'DejaVu Sans Mono',consolas,'Courier New',monospace\">Uploading results to Opik <span style=\"color: #808000; text-decoration-color: #808000\">...</span> \n",
       "</pre>\n"
      ],
      "text/plain": [
       "Uploading results to Opik \u001b[33m...\u001b[0m \n"
      ]
     },
     "metadata": {},
     "output_type": "display_data"
    },
    {
     "data": {
      "text/html": [
       "<pre style=\"white-space:pre;overflow-x:auto;line-height:normal;font-family:Menlo,'DejaVu Sans Mono',consolas,'Courier New',monospace\">View the results <a href=\"https://www.comet.com/opik/api/v1/session/redirect/experiments/?experiment_id=0196e9d2-f444-79fd-ab85-7b92682452d9&dataset_id=0196e9b9-73a7-751a-8d6f-77232aae8bb2&path=aHR0cHM6Ly93d3cuY29tZXQuY29tL29waWsvYXBpLw==\" target=\"_blank\">in your Opik dashboard</a>.\n",
       "</pre>\n"
      ],
      "text/plain": [
       "View the results \u001b]8;id=340035;https://www.comet.com/opik/api/v1/session/redirect/experiments/?experiment_id=0196e9d2-f444-79fd-ab85-7b92682452d9&dataset_id=0196e9b9-73a7-751a-8d6f-77232aae8bb2&path=aHR0cHM6Ly93d3cuY29tZXQuY29tL29waWsvYXBpLw==\u001b\\in your Opik dashboard\u001b]8;;\u001b\\.\n"
      ]
     },
     "metadata": {},
     "output_type": "display_data"
    },
    {
     "data": {
      "application/vnd.jupyter.widget-view+json": {
       "model_id": "23a8f8ae8b684143bf12fa0ccd2322b3",
       "version_major": 2,
       "version_minor": 0
      },
      "text/plain": [
       "Evaluation:   0%|          | 0/10 [00:00<?, ?it/s]"
      ]
     },
     "metadata": {},
     "output_type": "display_data"
    },
    {
     "data": {
      "text/html": [
       "<pre style=\"white-space:pre;overflow-x:auto;line-height:normal;font-family:Menlo,'DejaVu Sans Mono',consolas,'Courier New',monospace\">╭─ demo-tinyqab-dataset-use_context_provided_and_elaborate_on_it_to_generate_a_more_detailed_answers-20 (10 sampl─╮\n",
       "│                                                                                                                 │\n",
       "│ <span style=\"font-weight: bold\">Total time:       </span> 00:00:00                                                                                     │\n",
       "│ <span style=\"font-weight: bold\">Number of samples:</span> 10                                                                                           │\n",
       "│                                                                                                                 │\n",
       "│ <span style=\"color: #008000; text-decoration-color: #008000; font-weight: bold\">levenshtein_ratio_metric: 0.6542 (avg)</span>                                                                          │\n",
       "│                                                                                                                 │\n",
       "╰─────────────────────────────────────────────────────────────────────────────────────────────────────────────────╯\n",
       "</pre>\n"
      ],
      "text/plain": [
       "╭─ demo-tinyqab-dataset-use_context_provided_and_elaborate_on_it_to_generate_a_more_detailed_answers-20 (10 sampl─╮\n",
       "│                                                                                                                 │\n",
       "│ \u001b[1mTotal time:       \u001b[0m 00:00:00                                                                                     │\n",
       "│ \u001b[1mNumber of samples:\u001b[0m 10                                                                                           │\n",
       "│                                                                                                                 │\n",
       "│ \u001b[1;32mlevenshtein_ratio_metric: 0.6542 (avg)\u001b[0m                                                                          │\n",
       "│                                                                                                                 │\n",
       "╰─────────────────────────────────────────────────────────────────────────────────────────────────────────────────╯\n"
      ]
     },
     "metadata": {},
     "output_type": "display_data"
    },
    {
     "data": {
      "text/html": [
       "<pre style=\"white-space:pre;overflow-x:auto;line-height:normal;font-family:Menlo,'DejaVu Sans Mono',consolas,'Courier New',monospace\">Uploading results to Opik <span style=\"color: #808000; text-decoration-color: #808000\">...</span> \n",
       "</pre>\n"
      ],
      "text/plain": [
       "Uploading results to Opik \u001b[33m...\u001b[0m \n"
      ]
     },
     "metadata": {},
     "output_type": "display_data"
    },
    {
     "data": {
      "text/html": [
       "<pre style=\"white-space:pre;overflow-x:auto;line-height:normal;font-family:Menlo,'DejaVu Sans Mono',consolas,'Courier New',monospace\">View the results <a href=\"https://www.comet.com/opik/api/v1/session/redirect/experiments/?experiment_id=0196e9d2-f9fe-7f04-8eab-dc1d99921b39&dataset_id=0196e9b9-73a7-751a-8d6f-77232aae8bb2&path=aHR0cHM6Ly93d3cuY29tZXQuY29tL29waWsvYXBpLw==\" target=\"_blank\">in your Opik dashboard</a>.\n",
       "</pre>\n"
      ],
      "text/plain": [
       "View the results \u001b]8;id=813694;https://www.comet.com/opik/api/v1/session/redirect/experiments/?experiment_id=0196e9d2-f9fe-7f04-8eab-dc1d99921b39&dataset_id=0196e9b9-73a7-751a-8d6f-77232aae8bb2&path=aHR0cHM6Ly93d3cuY29tZXQuY29tL29waWsvYXBpLw==\u001b\\in your Opik dashboard\u001b]8;;\u001b\\.\n"
      ]
     },
     "metadata": {},
     "output_type": "display_data"
    },
    {
     "data": {
      "application/vnd.jupyter.widget-view+json": {
       "model_id": "8d79f32f5bd2471a812f923c75e710ce",
       "version_major": 2,
       "version_minor": 0
      },
      "text/plain": [
       "Evaluation:   0%|          | 0/10 [00:00<?, ?it/s]"
      ]
     },
     "metadata": {},
     "output_type": "display_data"
    },
    {
     "data": {
      "text/html": [
       "<pre style=\"white-space:pre;overflow-x:auto;line-height:normal;font-family:Menlo,'DejaVu Sans Mono',consolas,'Courier New',monospace\">╭─ demo-tinyqab-dataset-use_context_provided_and_elaborate_on_it_to_generate_a_more_detailed_answers-20 (10 sampl─╮\n",
       "│                                                                                                                 │\n",
       "│ <span style=\"font-weight: bold\">Total time:       </span> 00:00:00                                                                                     │\n",
       "│ <span style=\"font-weight: bold\">Number of samples:</span> 10                                                                                           │\n",
       "│                                                                                                                 │\n",
       "│ <span style=\"color: #008000; text-decoration-color: #008000; font-weight: bold\">levenshtein_ratio_metric: 0.6542 (avg)</span>                                                                          │\n",
       "│                                                                                                                 │\n",
       "╰─────────────────────────────────────────────────────────────────────────────────────────────────────────────────╯\n",
       "</pre>\n"
      ],
      "text/plain": [
       "╭─ demo-tinyqab-dataset-use_context_provided_and_elaborate_on_it_to_generate_a_more_detailed_answers-20 (10 sampl─╮\n",
       "│                                                                                                                 │\n",
       "│ \u001b[1mTotal time:       \u001b[0m 00:00:00                                                                                     │\n",
       "│ \u001b[1mNumber of samples:\u001b[0m 10                                                                                           │\n",
       "│                                                                                                                 │\n",
       "│ \u001b[1;32mlevenshtein_ratio_metric: 0.6542 (avg)\u001b[0m                                                                          │\n",
       "│                                                                                                                 │\n",
       "╰─────────────────────────────────────────────────────────────────────────────────────────────────────────────────╯\n"
      ]
     },
     "metadata": {},
     "output_type": "display_data"
    },
    {
     "data": {
      "text/html": [
       "<pre style=\"white-space:pre;overflow-x:auto;line-height:normal;font-family:Menlo,'DejaVu Sans Mono',consolas,'Courier New',monospace\">Uploading results to Opik <span style=\"color: #808000; text-decoration-color: #808000\">...</span> \n",
       "</pre>\n"
      ],
      "text/plain": [
       "Uploading results to Opik \u001b[33m...\u001b[0m \n"
      ]
     },
     "metadata": {},
     "output_type": "display_data"
    },
    {
     "data": {
      "text/html": [
       "<pre style=\"white-space:pre;overflow-x:auto;line-height:normal;font-family:Menlo,'DejaVu Sans Mono',consolas,'Courier New',monospace\">View the results <a href=\"https://www.comet.com/opik/api/v1/session/redirect/experiments/?experiment_id=0196e9d3-0004-77d0-b465-7fb035efb91e&dataset_id=0196e9b9-73a7-751a-8d6f-77232aae8bb2&path=aHR0cHM6Ly93d3cuY29tZXQuY29tL29waWsvYXBpLw==\" target=\"_blank\">in your Opik dashboard</a>.\n",
       "</pre>\n"
      ],
      "text/plain": [
       "View the results \u001b]8;id=861722;https://www.comet.com/opik/api/v1/session/redirect/experiments/?experiment_id=0196e9d3-0004-77d0-b465-7fb035efb91e&dataset_id=0196e9b9-73a7-751a-8d6f-77232aae8bb2&path=aHR0cHM6Ly93d3cuY29tZXQuY29tL29waWsvYXBpLw==\u001b\\in your Opik dashboard\u001b]8;;\u001b\\.\n"
      ]
     },
     "metadata": {},
     "output_type": "display_data"
    },
    {
     "data": {
      "application/vnd.jupyter.widget-view+json": {
       "model_id": "f067e8c6ac2845369336d339dd5525ce",
       "version_major": 2,
       "version_minor": 0
      },
      "text/plain": [
       "Evaluation:   0%|          | 0/10 [00:00<?, ?it/s]"
      ]
     },
     "metadata": {},
     "output_type": "display_data"
    },
    {
     "data": {
      "text/html": [
       "<pre style=\"white-space:pre;overflow-x:auto;line-height:normal;font-family:Menlo,'DejaVu Sans Mono',consolas,'Courier New',monospace\">╭─ demo-tinyqab-dataset-use_context_provided_and_elaborate_on_it_to_generate_a_more_detailed_answers-20 (10 sampl─╮\n",
       "│                                                                                                                 │\n",
       "│ <span style=\"font-weight: bold\">Total time:       </span> 00:00:00                                                                                     │\n",
       "│ <span style=\"font-weight: bold\">Number of samples:</span> 10                                                                                           │\n",
       "│                                                                                                                 │\n",
       "│ <span style=\"color: #008000; text-decoration-color: #008000; font-weight: bold\">levenshtein_ratio_metric: 0.5335 (avg)</span>                                                                          │\n",
       "│                                                                                                                 │\n",
       "╰─────────────────────────────────────────────────────────────────────────────────────────────────────────────────╯\n",
       "</pre>\n"
      ],
      "text/plain": [
       "╭─ demo-tinyqab-dataset-use_context_provided_and_elaborate_on_it_to_generate_a_more_detailed_answers-20 (10 sampl─╮\n",
       "│                                                                                                                 │\n",
       "│ \u001b[1mTotal time:       \u001b[0m 00:00:00                                                                                     │\n",
       "│ \u001b[1mNumber of samples:\u001b[0m 10                                                                                           │\n",
       "│                                                                                                                 │\n",
       "│ \u001b[1;32mlevenshtein_ratio_metric: 0.5335 (avg)\u001b[0m                                                                          │\n",
       "│                                                                                                                 │\n",
       "╰─────────────────────────────────────────────────────────────────────────────────────────────────────────────────╯\n"
      ]
     },
     "metadata": {},
     "output_type": "display_data"
    },
    {
     "data": {
      "text/html": [
       "<pre style=\"white-space:pre;overflow-x:auto;line-height:normal;font-family:Menlo,'DejaVu Sans Mono',consolas,'Courier New',monospace\">Uploading results to Opik <span style=\"color: #808000; text-decoration-color: #808000\">...</span> \n",
       "</pre>\n"
      ],
      "text/plain": [
       "Uploading results to Opik \u001b[33m...\u001b[0m \n"
      ]
     },
     "metadata": {},
     "output_type": "display_data"
    },
    {
     "data": {
      "text/html": [
       "<pre style=\"white-space:pre;overflow-x:auto;line-height:normal;font-family:Menlo,'DejaVu Sans Mono',consolas,'Courier New',monospace\">View the results <a href=\"https://www.comet.com/opik/api/v1/session/redirect/experiments/?experiment_id=0196e9d3-057b-76bc-9a23-1afb7b18b979&dataset_id=0196e9b9-73a7-751a-8d6f-77232aae8bb2&path=aHR0cHM6Ly93d3cuY29tZXQuY29tL29waWsvYXBpLw==\" target=\"_blank\">in your Opik dashboard</a>.\n",
       "</pre>\n"
      ],
      "text/plain": [
       "View the results \u001b]8;id=330776;https://www.comet.com/opik/api/v1/session/redirect/experiments/?experiment_id=0196e9d3-057b-76bc-9a23-1afb7b18b979&dataset_id=0196e9b9-73a7-751a-8d6f-77232aae8bb2&path=aHR0cHM6Ly93d3cuY29tZXQuY29tL29waWsvYXBpLw==\u001b\\in your Opik dashboard\u001b]8;;\u001b\\.\n"
      ]
     },
     "metadata": {},
     "output_type": "display_data"
    },
    {
     "data": {
      "application/vnd.jupyter.widget-view+json": {
       "model_id": "4a6e1a9de07944f28ac8fa53ad72a2ef",
       "version_major": 2,
       "version_minor": 0
      },
      "text/plain": [
       "Evaluation:   0%|          | 0/10 [00:00<?, ?it/s]"
      ]
     },
     "metadata": {},
     "output_type": "display_data"
    },
    {
     "data": {
      "text/html": [
       "<pre style=\"white-space:pre;overflow-x:auto;line-height:normal;font-family:Menlo,'DejaVu Sans Mono',consolas,'Courier New',monospace\">╭─ demo-tinyqab-dataset-use_context_provided_and_elaborate_on_it_to_generate_a_more_detailed_answers-20 (10 sampl─╮\n",
       "│                                                                                                                 │\n",
       "│ <span style=\"font-weight: bold\">Total time:       </span> 00:00:00                                                                                     │\n",
       "│ <span style=\"font-weight: bold\">Number of samples:</span> 10                                                                                           │\n",
       "│                                                                                                                 │\n",
       "│ <span style=\"color: #008000; text-decoration-color: #008000; font-weight: bold\">levenshtein_ratio_metric: 0.5335 (avg)</span>                                                                          │\n",
       "│                                                                                                                 │\n",
       "╰─────────────────────────────────────────────────────────────────────────────────────────────────────────────────╯\n",
       "</pre>\n"
      ],
      "text/plain": [
       "╭─ demo-tinyqab-dataset-use_context_provided_and_elaborate_on_it_to_generate_a_more_detailed_answers-20 (10 sampl─╮\n",
       "│                                                                                                                 │\n",
       "│ \u001b[1mTotal time:       \u001b[0m 00:00:00                                                                                     │\n",
       "│ \u001b[1mNumber of samples:\u001b[0m 10                                                                                           │\n",
       "│                                                                                                                 │\n",
       "│ \u001b[1;32mlevenshtein_ratio_metric: 0.5335 (avg)\u001b[0m                                                                          │\n",
       "│                                                                                                                 │\n",
       "╰─────────────────────────────────────────────────────────────────────────────────────────────────────────────────╯\n"
      ]
     },
     "metadata": {},
     "output_type": "display_data"
    },
    {
     "data": {
      "text/html": [
       "<pre style=\"white-space:pre;overflow-x:auto;line-height:normal;font-family:Menlo,'DejaVu Sans Mono',consolas,'Courier New',monospace\">Uploading results to Opik <span style=\"color: #808000; text-decoration-color: #808000\">...</span> \n",
       "</pre>\n"
      ],
      "text/plain": [
       "Uploading results to Opik \u001b[33m...\u001b[0m \n"
      ]
     },
     "metadata": {},
     "output_type": "display_data"
    },
    {
     "data": {
      "text/html": [
       "<pre style=\"white-space:pre;overflow-x:auto;line-height:normal;font-family:Menlo,'DejaVu Sans Mono',consolas,'Courier New',monospace\">View the results <a href=\"https://www.comet.com/opik/api/v1/session/redirect/experiments/?experiment_id=0196e9d3-0d83-79be-bb52-784d12b00909&dataset_id=0196e9b9-73a7-751a-8d6f-77232aae8bb2&path=aHR0cHM6Ly93d3cuY29tZXQuY29tL29waWsvYXBpLw==\" target=\"_blank\">in your Opik dashboard</a>.\n",
       "</pre>\n"
      ],
      "text/plain": [
       "View the results \u001b]8;id=69403;https://www.comet.com/opik/api/v1/session/redirect/experiments/?experiment_id=0196e9d3-0d83-79be-bb52-784d12b00909&dataset_id=0196e9b9-73a7-751a-8d6f-77232aae8bb2&path=aHR0cHM6Ly93d3cuY29tZXQuY29tL29waWsvYXBpLw==\u001b\\in your Opik dashboard\u001b]8;;\u001b\\.\n"
      ]
     },
     "metadata": {},
     "output_type": "display_data"
    },
    {
     "data": {
      "application/vnd.jupyter.widget-view+json": {
       "model_id": "b1af124562374f8daa4faf8f3b78b777",
       "version_major": 2,
       "version_minor": 0
      },
      "text/plain": [
       "Evaluation:   0%|          | 0/10 [00:00<?, ?it/s]"
      ]
     },
     "metadata": {},
     "output_type": "display_data"
    },
    {
     "data": {
      "text/html": [
       "<pre style=\"white-space:pre;overflow-x:auto;line-height:normal;font-family:Menlo,'DejaVu Sans Mono',consolas,'Courier New',monospace\">╭─ demo-tinyqab-dataset-use_context_provided_and_elaborate_on_it_to_generate_a_more_detailed_answers-20 (10 sampl─╮\n",
       "│                                                                                                                 │\n",
       "│ <span style=\"font-weight: bold\">Total time:       </span> 00:00:00                                                                                     │\n",
       "│ <span style=\"font-weight: bold\">Number of samples:</span> 10                                                                                           │\n",
       "│                                                                                                                 │\n",
       "│ <span style=\"color: #008000; text-decoration-color: #008000; font-weight: bold\">levenshtein_ratio_metric: 0.5335 (avg)</span>                                                                          │\n",
       "│                                                                                                                 │\n",
       "╰─────────────────────────────────────────────────────────────────────────────────────────────────────────────────╯\n",
       "</pre>\n"
      ],
      "text/plain": [
       "╭─ demo-tinyqab-dataset-use_context_provided_and_elaborate_on_it_to_generate_a_more_detailed_answers-20 (10 sampl─╮\n",
       "│                                                                                                                 │\n",
       "│ \u001b[1mTotal time:       \u001b[0m 00:00:00                                                                                     │\n",
       "│ \u001b[1mNumber of samples:\u001b[0m 10                                                                                           │\n",
       "│                                                                                                                 │\n",
       "│ \u001b[1;32mlevenshtein_ratio_metric: 0.5335 (avg)\u001b[0m                                                                          │\n",
       "│                                                                                                                 │\n",
       "╰─────────────────────────────────────────────────────────────────────────────────────────────────────────────────╯\n"
      ]
     },
     "metadata": {},
     "output_type": "display_data"
    },
    {
     "data": {
      "text/html": [
       "<pre style=\"white-space:pre;overflow-x:auto;line-height:normal;font-family:Menlo,'DejaVu Sans Mono',consolas,'Courier New',monospace\">Uploading results to Opik <span style=\"color: #808000; text-decoration-color: #808000\">...</span> \n",
       "</pre>\n"
      ],
      "text/plain": [
       "Uploading results to Opik \u001b[33m...\u001b[0m \n"
      ]
     },
     "metadata": {},
     "output_type": "display_data"
    },
    {
     "data": {
      "text/html": [
       "<pre style=\"white-space:pre;overflow-x:auto;line-height:normal;font-family:Menlo,'DejaVu Sans Mono',consolas,'Courier New',monospace\">View the results <a href=\"https://www.comet.com/opik/api/v1/session/redirect/experiments/?experiment_id=0196e9d3-12ff-74b2-8648-3606713250a3&dataset_id=0196e9b9-73a7-751a-8d6f-77232aae8bb2&path=aHR0cHM6Ly93d3cuY29tZXQuY29tL29waWsvYXBpLw==\" target=\"_blank\">in your Opik dashboard</a>.\n",
       "</pre>\n"
      ],
      "text/plain": [
       "View the results \u001b]8;id=988712;https://www.comet.com/opik/api/v1/session/redirect/experiments/?experiment_id=0196e9d3-12ff-74b2-8648-3606713250a3&dataset_id=0196e9b9-73a7-751a-8d6f-77232aae8bb2&path=aHR0cHM6Ly93d3cuY29tZXQuY29tL29waWsvYXBpLw==\u001b\\in your Opik dashboard\u001b]8;;\u001b\\.\n"
      ]
     },
     "metadata": {},
     "output_type": "display_data"
    },
    {
     "data": {
      "application/vnd.jupyter.widget-view+json": {
       "model_id": "ba6da34d1352457fa9e6e08bc8314603",
       "version_major": 2,
       "version_minor": 0
      },
      "text/plain": [
       "Evaluation:   0%|          | 0/10 [00:00<?, ?it/s]"
      ]
     },
     "metadata": {},
     "output_type": "display_data"
    },
    {
     "data": {
      "text/html": [
       "<pre style=\"white-space:pre;overflow-x:auto;line-height:normal;font-family:Menlo,'DejaVu Sans Mono',consolas,'Courier New',monospace\">╭─ demo-tinyqab-dataset-use_context_provided_and_elaborate_on_it_to_generate_a_more_detailed_answers-20 (10 sampl─╮\n",
       "│                                                                                                                 │\n",
       "│ <span style=\"font-weight: bold\">Total time:       </span> 00:00:00                                                                                     │\n",
       "│ <span style=\"font-weight: bold\">Number of samples:</span> 10                                                                                           │\n",
       "│                                                                                                                 │\n",
       "│ <span style=\"color: #008000; text-decoration-color: #008000; font-weight: bold\">levenshtein_ratio_metric: 0.5335 (avg)</span>                                                                          │\n",
       "│                                                                                                                 │\n",
       "╰─────────────────────────────────────────────────────────────────────────────────────────────────────────────────╯\n",
       "</pre>\n"
      ],
      "text/plain": [
       "╭─ demo-tinyqab-dataset-use_context_provided_and_elaborate_on_it_to_generate_a_more_detailed_answers-20 (10 sampl─╮\n",
       "│                                                                                                                 │\n",
       "│ \u001b[1mTotal time:       \u001b[0m 00:00:00                                                                                     │\n",
       "│ \u001b[1mNumber of samples:\u001b[0m 10                                                                                           │\n",
       "│                                                                                                                 │\n",
       "│ \u001b[1;32mlevenshtein_ratio_metric: 0.5335 (avg)\u001b[0m                                                                          │\n",
       "│                                                                                                                 │\n",
       "╰─────────────────────────────────────────────────────────────────────────────────────────────────────────────────╯\n"
      ]
     },
     "metadata": {},
     "output_type": "display_data"
    },
    {
     "data": {
      "text/html": [
       "<pre style=\"white-space:pre;overflow-x:auto;line-height:normal;font-family:Menlo,'DejaVu Sans Mono',consolas,'Courier New',monospace\">Uploading results to Opik <span style=\"color: #808000; text-decoration-color: #808000\">...</span> \n",
       "</pre>\n"
      ],
      "text/plain": [
       "Uploading results to Opik \u001b[33m...\u001b[0m \n"
      ]
     },
     "metadata": {},
     "output_type": "display_data"
    },
    {
     "data": {
      "text/html": [
       "<pre style=\"white-space:pre;overflow-x:auto;line-height:normal;font-family:Menlo,'DejaVu Sans Mono',consolas,'Courier New',monospace\">View the results <a href=\"https://www.comet.com/opik/api/v1/session/redirect/experiments/?experiment_id=0196e9d3-1881-7797-bcd2-7c19603f1f81&dataset_id=0196e9b9-73a7-751a-8d6f-77232aae8bb2&path=aHR0cHM6Ly93d3cuY29tZXQuY29tL29waWsvYXBpLw==\" target=\"_blank\">in your Opik dashboard</a>.\n",
       "</pre>\n"
      ],
      "text/plain": [
       "View the results \u001b]8;id=752787;https://www.comet.com/opik/api/v1/session/redirect/experiments/?experiment_id=0196e9d3-1881-7797-bcd2-7c19603f1f81&dataset_id=0196e9b9-73a7-751a-8d6f-77232aae8bb2&path=aHR0cHM6Ly93d3cuY29tZXQuY29tL29waWsvYXBpLw==\u001b\\in your Opik dashboard\u001b]8;;\u001b\\.\n"
      ]
     },
     "metadata": {},
     "output_type": "display_data"
    },
    {
     "data": {
      "application/vnd.jupyter.widget-view+json": {
       "model_id": "3d523ec7861740b692212f18b8dc6c1e",
       "version_major": 2,
       "version_minor": 0
      },
      "text/plain": [
       "Evaluation:   0%|          | 0/10 [00:00<?, ?it/s]"
      ]
     },
     "metadata": {},
     "output_type": "display_data"
    },
    {
     "data": {
      "text/html": [
       "<pre style=\"white-space:pre;overflow-x:auto;line-height:normal;font-family:Menlo,'DejaVu Sans Mono',consolas,'Courier New',monospace\">╭─ demo-tinyqab-dataset-use_context_provided_and_elaborate_on_it_to_generate_a_more_detailed_answers-20 (10 sampl─╮\n",
       "│                                                                                                                 │\n",
       "│ <span style=\"font-weight: bold\">Total time:       </span> 00:00:00                                                                                     │\n",
       "│ <span style=\"font-weight: bold\">Number of samples:</span> 10                                                                                           │\n",
       "│                                                                                                                 │\n",
       "│ <span style=\"color: #008000; text-decoration-color: #008000; font-weight: bold\">levenshtein_ratio_metric: 0.5335 (avg)</span>                                                                          │\n",
       "│                                                                                                                 │\n",
       "╰─────────────────────────────────────────────────────────────────────────────────────────────────────────────────╯\n",
       "</pre>\n"
      ],
      "text/plain": [
       "╭─ demo-tinyqab-dataset-use_context_provided_and_elaborate_on_it_to_generate_a_more_detailed_answers-20 (10 sampl─╮\n",
       "│                                                                                                                 │\n",
       "│ \u001b[1mTotal time:       \u001b[0m 00:00:00                                                                                     │\n",
       "│ \u001b[1mNumber of samples:\u001b[0m 10                                                                                           │\n",
       "│                                                                                                                 │\n",
       "│ \u001b[1;32mlevenshtein_ratio_metric: 0.5335 (avg)\u001b[0m                                                                          │\n",
       "│                                                                                                                 │\n",
       "╰─────────────────────────────────────────────────────────────────────────────────────────────────────────────────╯\n"
      ]
     },
     "metadata": {},
     "output_type": "display_data"
    },
    {
     "data": {
      "text/html": [
       "<pre style=\"white-space:pre;overflow-x:auto;line-height:normal;font-family:Menlo,'DejaVu Sans Mono',consolas,'Courier New',monospace\">Uploading results to Opik <span style=\"color: #808000; text-decoration-color: #808000\">...</span> \n",
       "</pre>\n"
      ],
      "text/plain": [
       "Uploading results to Opik \u001b[33m...\u001b[0m \n"
      ]
     },
     "metadata": {},
     "output_type": "display_data"
    },
    {
     "data": {
      "text/html": [
       "<pre style=\"white-space:pre;overflow-x:auto;line-height:normal;font-family:Menlo,'DejaVu Sans Mono',consolas,'Courier New',monospace\">View the results <a href=\"https://www.comet.com/opik/api/v1/session/redirect/experiments/?experiment_id=0196e9d3-1de8-7a9c-8f60-9d1bf9be764c&dataset_id=0196e9b9-73a7-751a-8d6f-77232aae8bb2&path=aHR0cHM6Ly93d3cuY29tZXQuY29tL29waWsvYXBpLw==\" target=\"_blank\">in your Opik dashboard</a>.\n",
       "</pre>\n"
      ],
      "text/plain": [
       "View the results \u001b]8;id=687277;https://www.comet.com/opik/api/v1/session/redirect/experiments/?experiment_id=0196e9d3-1de8-7a9c-8f60-9d1bf9be764c&dataset_id=0196e9b9-73a7-751a-8d6f-77232aae8bb2&path=aHR0cHM6Ly93d3cuY29tZXQuY29tL29waWsvYXBpLw==\u001b\\in your Opik dashboard\u001b]8;;\u001b\\.\n"
      ]
     },
     "metadata": {},
     "output_type": "display_data"
    },
    {
     "data": {
      "application/vnd.jupyter.widget-view+json": {
       "model_id": "ab7d964735a340789e30b2b0800f4f89",
       "version_major": 2,
       "version_minor": 0
      },
      "text/plain": [
       "Evaluation:   0%|          | 0/10 [00:00<?, ?it/s]"
      ]
     },
     "metadata": {},
     "output_type": "display_data"
    },
    {
     "data": {
      "text/html": [
       "<pre style=\"white-space:pre;overflow-x:auto;line-height:normal;font-family:Menlo,'DejaVu Sans Mono',consolas,'Courier New',monospace\">╭─ demo-tinyqab-dataset-use_context_provided_and_elaborate_on_it_to_generate_a_more_detailed_answers-20 (10 sampl─╮\n",
       "│                                                                                                                 │\n",
       "│ <span style=\"font-weight: bold\">Total time:       </span> 00:00:00                                                                                     │\n",
       "│ <span style=\"font-weight: bold\">Number of samples:</span> 10                                                                                           │\n",
       "│                                                                                                                 │\n",
       "│ <span style=\"color: #008000; text-decoration-color: #008000; font-weight: bold\">levenshtein_ratio_metric: 0.5335 (avg)</span>                                                                          │\n",
       "│                                                                                                                 │\n",
       "╰─────────────────────────────────────────────────────────────────────────────────────────────────────────────────╯\n",
       "</pre>\n"
      ],
      "text/plain": [
       "╭─ demo-tinyqab-dataset-use_context_provided_and_elaborate_on_it_to_generate_a_more_detailed_answers-20 (10 sampl─╮\n",
       "│                                                                                                                 │\n",
       "│ \u001b[1mTotal time:       \u001b[0m 00:00:00                                                                                     │\n",
       "│ \u001b[1mNumber of samples:\u001b[0m 10                                                                                           │\n",
       "│                                                                                                                 │\n",
       "│ \u001b[1;32mlevenshtein_ratio_metric: 0.5335 (avg)\u001b[0m                                                                          │\n",
       "│                                                                                                                 │\n",
       "╰─────────────────────────────────────────────────────────────────────────────────────────────────────────────────╯\n"
      ]
     },
     "metadata": {},
     "output_type": "display_data"
    },
    {
     "data": {
      "text/html": [
       "<pre style=\"white-space:pre;overflow-x:auto;line-height:normal;font-family:Menlo,'DejaVu Sans Mono',consolas,'Courier New',monospace\">Uploading results to Opik <span style=\"color: #808000; text-decoration-color: #808000\">...</span> \n",
       "</pre>\n"
      ],
      "text/plain": [
       "Uploading results to Opik \u001b[33m...\u001b[0m \n"
      ]
     },
     "metadata": {},
     "output_type": "display_data"
    },
    {
     "data": {
      "text/html": [
       "<pre style=\"white-space:pre;overflow-x:auto;line-height:normal;font-family:Menlo,'DejaVu Sans Mono',consolas,'Courier New',monospace\">View the results <a href=\"https://www.comet.com/opik/api/v1/session/redirect/experiments/?experiment_id=0196e9d3-2396-73cd-870d-d8a379187924&dataset_id=0196e9b9-73a7-751a-8d6f-77232aae8bb2&path=aHR0cHM6Ly93d3cuY29tZXQuY29tL29waWsvYXBpLw==\" target=\"_blank\">in your Opik dashboard</a>.\n",
       "</pre>\n"
      ],
      "text/plain": [
       "View the results \u001b]8;id=927657;https://www.comet.com/opik/api/v1/session/redirect/experiments/?experiment_id=0196e9d3-2396-73cd-870d-d8a379187924&dataset_id=0196e9b9-73a7-751a-8d6f-77232aae8bb2&path=aHR0cHM6Ly93d3cuY29tZXQuY29tL29waWsvYXBpLw==\u001b\\in your Opik dashboard\u001b]8;;\u001b\\.\n"
      ]
     },
     "metadata": {},
     "output_type": "display_data"
    },
    {
     "data": {
      "application/vnd.jupyter.widget-view+json": {
       "model_id": "ac61861242c34a5491aa05eb3f90c71b",
       "version_major": 2,
       "version_minor": 0
      },
      "text/plain": [
       "Evaluation:   0%|          | 0/10 [00:00<?, ?it/s]"
      ]
     },
     "metadata": {},
     "output_type": "display_data"
    },
    {
     "data": {
      "text/html": [
       "<pre style=\"white-space:pre;overflow-x:auto;line-height:normal;font-family:Menlo,'DejaVu Sans Mono',consolas,'Courier New',monospace\">╭─ demo-tinyqab-dataset-use_context_provided_and_elaborate_on_it_to_generate_a_more_detailed_answers-20 (10 sampl─╮\n",
       "│                                                                                                                 │\n",
       "│ <span style=\"font-weight: bold\">Total time:       </span> 00:00:01                                                                                     │\n",
       "│ <span style=\"font-weight: bold\">Number of samples:</span> 10                                                                                           │\n",
       "│                                                                                                                 │\n",
       "│ <span style=\"color: #008000; text-decoration-color: #008000; font-weight: bold\">levenshtein_ratio_metric: 0.6173 (avg)</span>                                                                          │\n",
       "│                                                                                                                 │\n",
       "╰─────────────────────────────────────────────────────────────────────────────────────────────────────────────────╯\n",
       "</pre>\n"
      ],
      "text/plain": [
       "╭─ demo-tinyqab-dataset-use_context_provided_and_elaborate_on_it_to_generate_a_more_detailed_answers-20 (10 sampl─╮\n",
       "│                                                                                                                 │\n",
       "│ \u001b[1mTotal time:       \u001b[0m 00:00:01                                                                                     │\n",
       "│ \u001b[1mNumber of samples:\u001b[0m 10                                                                                           │\n",
       "│                                                                                                                 │\n",
       "│ \u001b[1;32mlevenshtein_ratio_metric: 0.6173 (avg)\u001b[0m                                                                          │\n",
       "│                                                                                                                 │\n",
       "╰─────────────────────────────────────────────────────────────────────────────────────────────────────────────────╯\n"
      ]
     },
     "metadata": {},
     "output_type": "display_data"
    },
    {
     "data": {
      "text/html": [
       "<pre style=\"white-space:pre;overflow-x:auto;line-height:normal;font-family:Menlo,'DejaVu Sans Mono',consolas,'Courier New',monospace\">Uploading results to Opik <span style=\"color: #808000; text-decoration-color: #808000\">...</span> \n",
       "</pre>\n"
      ],
      "text/plain": [
       "Uploading results to Opik \u001b[33m...\u001b[0m \n"
      ]
     },
     "metadata": {},
     "output_type": "display_data"
    },
    {
     "data": {
      "text/html": [
       "<pre style=\"white-space:pre;overflow-x:auto;line-height:normal;font-family:Menlo,'DejaVu Sans Mono',consolas,'Courier New',monospace\">View the results <a href=\"https://www.comet.com/opik/api/v1/session/redirect/experiments/?experiment_id=0196e9d3-2905-7cd2-8cfd-346af40b1804&dataset_id=0196e9b9-73a7-751a-8d6f-77232aae8bb2&path=aHR0cHM6Ly93d3cuY29tZXQuY29tL29waWsvYXBpLw==\" target=\"_blank\">in your Opik dashboard</a>.\n",
       "</pre>\n"
      ],
      "text/plain": [
       "View the results \u001b]8;id=481141;https://www.comet.com/opik/api/v1/session/redirect/experiments/?experiment_id=0196e9d3-2905-7cd2-8cfd-346af40b1804&dataset_id=0196e9b9-73a7-751a-8d6f-77232aae8bb2&path=aHR0cHM6Ly93d3cuY29tZXQuY29tL29waWsvYXBpLw==\u001b\\in your Opik dashboard\u001b]8;;\u001b\\.\n"
      ]
     },
     "metadata": {},
     "output_type": "display_data"
    },
    {
     "data": {
      "application/vnd.jupyter.widget-view+json": {
       "model_id": "8e38feda706c4571b390e327533afd2d",
       "version_major": 2,
       "version_minor": 0
      },
      "text/plain": [
       "Evaluation:   0%|          | 0/10 [00:00<?, ?it/s]"
      ]
     },
     "metadata": {},
     "output_type": "display_data"
    },
    {
     "data": {
      "text/html": [
       "<pre style=\"white-space:pre;overflow-x:auto;line-height:normal;font-family:Menlo,'DejaVu Sans Mono',consolas,'Courier New',monospace\">╭─ demo-tinyqab-dataset-use_context_provided_and_elaborate_on_it_to_generate_a_more_detailed_answers-20 (10 sampl─╮\n",
       "│                                                                                                                 │\n",
       "│ <span style=\"font-weight: bold\">Total time:       </span> 00:00:00                                                                                     │\n",
       "│ <span style=\"font-weight: bold\">Number of samples:</span> 10                                                                                           │\n",
       "│                                                                                                                 │\n",
       "│ <span style=\"color: #008000; text-decoration-color: #008000; font-weight: bold\">levenshtein_ratio_metric: 0.6173 (avg)</span>                                                                          │\n",
       "│                                                                                                                 │\n",
       "╰─────────────────────────────────────────────────────────────────────────────────────────────────────────────────╯\n",
       "</pre>\n"
      ],
      "text/plain": [
       "╭─ demo-tinyqab-dataset-use_context_provided_and_elaborate_on_it_to_generate_a_more_detailed_answers-20 (10 sampl─╮\n",
       "│                                                                                                                 │\n",
       "│ \u001b[1mTotal time:       \u001b[0m 00:00:00                                                                                     │\n",
       "│ \u001b[1mNumber of samples:\u001b[0m 10                                                                                           │\n",
       "│                                                                                                                 │\n",
       "│ \u001b[1;32mlevenshtein_ratio_metric: 0.6173 (avg)\u001b[0m                                                                          │\n",
       "│                                                                                                                 │\n",
       "╰─────────────────────────────────────────────────────────────────────────────────────────────────────────────────╯\n"
      ]
     },
     "metadata": {},
     "output_type": "display_data"
    },
    {
     "data": {
      "text/html": [
       "<pre style=\"white-space:pre;overflow-x:auto;line-height:normal;font-family:Menlo,'DejaVu Sans Mono',consolas,'Courier New',monospace\">Uploading results to Opik <span style=\"color: #808000; text-decoration-color: #808000\">...</span> \n",
       "</pre>\n"
      ],
      "text/plain": [
       "Uploading results to Opik \u001b[33m...\u001b[0m \n"
      ]
     },
     "metadata": {},
     "output_type": "display_data"
    },
    {
     "data": {
      "text/html": [
       "<pre style=\"white-space:pre;overflow-x:auto;line-height:normal;font-family:Menlo,'DejaVu Sans Mono',consolas,'Courier New',monospace\">View the results <a href=\"https://www.comet.com/opik/api/v1/session/redirect/experiments/?experiment_id=0196e9d3-30f9-71ac-a75c-58b373532a4e&dataset_id=0196e9b9-73a7-751a-8d6f-77232aae8bb2&path=aHR0cHM6Ly93d3cuY29tZXQuY29tL29waWsvYXBpLw==\" target=\"_blank\">in your Opik dashboard</a>.\n",
       "</pre>\n"
      ],
      "text/plain": [
       "View the results \u001b]8;id=146413;https://www.comet.com/opik/api/v1/session/redirect/experiments/?experiment_id=0196e9d3-30f9-71ac-a75c-58b373532a4e&dataset_id=0196e9b9-73a7-751a-8d6f-77232aae8bb2&path=aHR0cHM6Ly93d3cuY29tZXQuY29tL29waWsvYXBpLw==\u001b\\in your Opik dashboard\u001b]8;;\u001b\\.\n"
      ]
     },
     "metadata": {},
     "output_type": "display_data"
    },
    {
     "data": {
      "application/vnd.jupyter.widget-view+json": {
       "model_id": "686e977841ca4d279225d820a2de226e",
       "version_major": 2,
       "version_minor": 0
      },
      "text/plain": [
       "Evaluation:   0%|          | 0/10 [00:00<?, ?it/s]"
      ]
     },
     "metadata": {},
     "output_type": "display_data"
    },
    {
     "data": {
      "text/html": [
       "<pre style=\"white-space:pre;overflow-x:auto;line-height:normal;font-family:Menlo,'DejaVu Sans Mono',consolas,'Courier New',monospace\">╭─ demo-tinyqab-dataset-use_context_provided_and_elaborate_on_it_to_generate_a_more_detailed_answers-20 (10 sampl─╮\n",
       "│                                                                                                                 │\n",
       "│ <span style=\"font-weight: bold\">Total time:       </span> 00:00:00                                                                                     │\n",
       "│ <span style=\"font-weight: bold\">Number of samples:</span> 10                                                                                           │\n",
       "│                                                                                                                 │\n",
       "│ <span style=\"color: #008000; text-decoration-color: #008000; font-weight: bold\">levenshtein_ratio_metric: 0.6173 (avg)</span>                                                                          │\n",
       "│                                                                                                                 │\n",
       "╰─────────────────────────────────────────────────────────────────────────────────────────────────────────────────╯\n",
       "</pre>\n"
      ],
      "text/plain": [
       "╭─ demo-tinyqab-dataset-use_context_provided_and_elaborate_on_it_to_generate_a_more_detailed_answers-20 (10 sampl─╮\n",
       "│                                                                                                                 │\n",
       "│ \u001b[1mTotal time:       \u001b[0m 00:00:00                                                                                     │\n",
       "│ \u001b[1mNumber of samples:\u001b[0m 10                                                                                           │\n",
       "│                                                                                                                 │\n",
       "│ \u001b[1;32mlevenshtein_ratio_metric: 0.6173 (avg)\u001b[0m                                                                          │\n",
       "│                                                                                                                 │\n",
       "╰─────────────────────────────────────────────────────────────────────────────────────────────────────────────────╯\n"
      ]
     },
     "metadata": {},
     "output_type": "display_data"
    },
    {
     "data": {
      "text/html": [
       "<pre style=\"white-space:pre;overflow-x:auto;line-height:normal;font-family:Menlo,'DejaVu Sans Mono',consolas,'Courier New',monospace\">Uploading results to Opik <span style=\"color: #808000; text-decoration-color: #808000\">...</span> \n",
       "</pre>\n"
      ],
      "text/plain": [
       "Uploading results to Opik \u001b[33m...\u001b[0m \n"
      ]
     },
     "metadata": {},
     "output_type": "display_data"
    },
    {
     "data": {
      "text/html": [
       "<pre style=\"white-space:pre;overflow-x:auto;line-height:normal;font-family:Menlo,'DejaVu Sans Mono',consolas,'Courier New',monospace\">View the results <a href=\"https://www.comet.com/opik/api/v1/session/redirect/experiments/?experiment_id=0196e9d3-3677-7003-aa32-afd52bd26887&dataset_id=0196e9b9-73a7-751a-8d6f-77232aae8bb2&path=aHR0cHM6Ly93d3cuY29tZXQuY29tL29waWsvYXBpLw==\" target=\"_blank\">in your Opik dashboard</a>.\n",
       "</pre>\n"
      ],
      "text/plain": [
       "View the results \u001b]8;id=588637;https://www.comet.com/opik/api/v1/session/redirect/experiments/?experiment_id=0196e9d3-3677-7003-aa32-afd52bd26887&dataset_id=0196e9b9-73a7-751a-8d6f-77232aae8bb2&path=aHR0cHM6Ly93d3cuY29tZXQuY29tL29waWsvYXBpLw==\u001b\\in your Opik dashboard\u001b]8;;\u001b\\.\n"
      ]
     },
     "metadata": {},
     "output_type": "display_data"
    },
    {
     "data": {
      "application/vnd.jupyter.widget-view+json": {
       "model_id": "e953ea5f1b3c4be6a01e70c712354d90",
       "version_major": 2,
       "version_minor": 0
      },
      "text/plain": [
       "Evaluation:   0%|          | 0/10 [00:00<?, ?it/s]"
      ]
     },
     "metadata": {},
     "output_type": "display_data"
    },
    {
     "data": {
      "text/html": [
       "<pre style=\"white-space:pre;overflow-x:auto;line-height:normal;font-family:Menlo,'DejaVu Sans Mono',consolas,'Courier New',monospace\">╭─ demo-tinyqab-dataset-use_context_provided_and_elaborate_on_it_to_generate_a_more_detailed_answers-20 (10 sampl─╮\n",
       "│                                                                                                                 │\n",
       "│ <span style=\"font-weight: bold\">Total time:       </span> 00:00:00                                                                                     │\n",
       "│ <span style=\"font-weight: bold\">Number of samples:</span> 10                                                                                           │\n",
       "│                                                                                                                 │\n",
       "│ <span style=\"color: #008000; text-decoration-color: #008000; font-weight: bold\">levenshtein_ratio_metric: 0.6173 (avg)</span>                                                                          │\n",
       "│                                                                                                                 │\n",
       "╰─────────────────────────────────────────────────────────────────────────────────────────────────────────────────╯\n",
       "</pre>\n"
      ],
      "text/plain": [
       "╭─ demo-tinyqab-dataset-use_context_provided_and_elaborate_on_it_to_generate_a_more_detailed_answers-20 (10 sampl─╮\n",
       "│                                                                                                                 │\n",
       "│ \u001b[1mTotal time:       \u001b[0m 00:00:00                                                                                     │\n",
       "│ \u001b[1mNumber of samples:\u001b[0m 10                                                                                           │\n",
       "│                                                                                                                 │\n",
       "│ \u001b[1;32mlevenshtein_ratio_metric: 0.6173 (avg)\u001b[0m                                                                          │\n",
       "│                                                                                                                 │\n",
       "╰─────────────────────────────────────────────────────────────────────────────────────────────────────────────────╯\n"
      ]
     },
     "metadata": {},
     "output_type": "display_data"
    },
    {
     "data": {
      "text/html": [
       "<pre style=\"white-space:pre;overflow-x:auto;line-height:normal;font-family:Menlo,'DejaVu Sans Mono',consolas,'Courier New',monospace\">Uploading results to Opik <span style=\"color: #808000; text-decoration-color: #808000\">...</span> \n",
       "</pre>\n"
      ],
      "text/plain": [
       "Uploading results to Opik \u001b[33m...\u001b[0m \n"
      ]
     },
     "metadata": {},
     "output_type": "display_data"
    },
    {
     "data": {
      "text/html": [
       "<pre style=\"white-space:pre;overflow-x:auto;line-height:normal;font-family:Menlo,'DejaVu Sans Mono',consolas,'Courier New',monospace\">View the results <a href=\"https://www.comet.com/opik/api/v1/session/redirect/experiments/?experiment_id=0196e9d3-3c4d-7f7a-9bbe-e20d24c78629&dataset_id=0196e9b9-73a7-751a-8d6f-77232aae8bb2&path=aHR0cHM6Ly93d3cuY29tZXQuY29tL29waWsvYXBpLw==\" target=\"_blank\">in your Opik dashboard</a>.\n",
       "</pre>\n"
      ],
      "text/plain": [
       "View the results \u001b]8;id=783300;https://www.comet.com/opik/api/v1/session/redirect/experiments/?experiment_id=0196e9d3-3c4d-7f7a-9bbe-e20d24c78629&dataset_id=0196e9b9-73a7-751a-8d6f-77232aae8bb2&path=aHR0cHM6Ly93d3cuY29tZXQuY29tL29waWsvYXBpLw==\u001b\\in your Opik dashboard\u001b]8;;\u001b\\.\n"
      ]
     },
     "metadata": {},
     "output_type": "display_data"
    },
    {
     "data": {
      "application/vnd.jupyter.widget-view+json": {
       "model_id": "10673bb9ce074c438434979e7ae0d767",
       "version_major": 2,
       "version_minor": 0
      },
      "text/plain": [
       "Evaluation:   0%|          | 0/10 [00:00<?, ?it/s]"
      ]
     },
     "metadata": {},
     "output_type": "display_data"
    },
    {
     "data": {
      "text/html": [
       "<pre style=\"white-space:pre;overflow-x:auto;line-height:normal;font-family:Menlo,'DejaVu Sans Mono',consolas,'Courier New',monospace\">╭─ demo-tinyqab-dataset-use_context_provided_and_elaborate_on_it_to_generate_a_more_detailed_answers-20 (10 sampl─╮\n",
       "│                                                                                                                 │\n",
       "│ <span style=\"font-weight: bold\">Total time:       </span> 00:00:00                                                                                     │\n",
       "│ <span style=\"font-weight: bold\">Number of samples:</span> 10                                                                                           │\n",
       "│                                                                                                                 │\n",
       "│ <span style=\"color: #008000; text-decoration-color: #008000; font-weight: bold\">levenshtein_ratio_metric: 0.6173 (avg)</span>                                                                          │\n",
       "│                                                                                                                 │\n",
       "╰─────────────────────────────────────────────────────────────────────────────────────────────────────────────────╯\n",
       "</pre>\n"
      ],
      "text/plain": [
       "╭─ demo-tinyqab-dataset-use_context_provided_and_elaborate_on_it_to_generate_a_more_detailed_answers-20 (10 sampl─╮\n",
       "│                                                                                                                 │\n",
       "│ \u001b[1mTotal time:       \u001b[0m 00:00:00                                                                                     │\n",
       "│ \u001b[1mNumber of samples:\u001b[0m 10                                                                                           │\n",
       "│                                                                                                                 │\n",
       "│ \u001b[1;32mlevenshtein_ratio_metric: 0.6173 (avg)\u001b[0m                                                                          │\n",
       "│                                                                                                                 │\n",
       "╰─────────────────────────────────────────────────────────────────────────────────────────────────────────────────╯\n"
      ]
     },
     "metadata": {},
     "output_type": "display_data"
    },
    {
     "data": {
      "text/html": [
       "<pre style=\"white-space:pre;overflow-x:auto;line-height:normal;font-family:Menlo,'DejaVu Sans Mono',consolas,'Courier New',monospace\">Uploading results to Opik <span style=\"color: #808000; text-decoration-color: #808000\">...</span> \n",
       "</pre>\n"
      ],
      "text/plain": [
       "Uploading results to Opik \u001b[33m...\u001b[0m \n"
      ]
     },
     "metadata": {},
     "output_type": "display_data"
    },
    {
     "data": {
      "text/html": [
       "<pre style=\"white-space:pre;overflow-x:auto;line-height:normal;font-family:Menlo,'DejaVu Sans Mono',consolas,'Courier New',monospace\">View the results <a href=\"https://www.comet.com/opik/api/v1/session/redirect/experiments/?experiment_id=0196e9d3-4207-7909-acec-1000e870d9bf&dataset_id=0196e9b9-73a7-751a-8d6f-77232aae8bb2&path=aHR0cHM6Ly93d3cuY29tZXQuY29tL29waWsvYXBpLw==\" target=\"_blank\">in your Opik dashboard</a>.\n",
       "</pre>\n"
      ],
      "text/plain": [
       "View the results \u001b]8;id=941435;https://www.comet.com/opik/api/v1/session/redirect/experiments/?experiment_id=0196e9d3-4207-7909-acec-1000e870d9bf&dataset_id=0196e9b9-73a7-751a-8d6f-77232aae8bb2&path=aHR0cHM6Ly93d3cuY29tZXQuY29tL29waWsvYXBpLw==\u001b\\in your Opik dashboard\u001b]8;;\u001b\\.\n"
      ]
     },
     "metadata": {},
     "output_type": "display_data"
    },
    {
     "data": {
      "application/vnd.jupyter.widget-view+json": {
       "model_id": "3bb70ba194bf49d9bdb88106512668c7",
       "version_major": 2,
       "version_minor": 0
      },
      "text/plain": [
       "Evaluation:   0%|          | 0/10 [00:00<?, ?it/s]"
      ]
     },
     "metadata": {},
     "output_type": "display_data"
    },
    {
     "data": {
      "text/html": [
       "<pre style=\"white-space:pre;overflow-x:auto;line-height:normal;font-family:Menlo,'DejaVu Sans Mono',consolas,'Courier New',monospace\">╭─ demo-tinyqab-dataset-use_context_provided_and_elaborate_on_it_to_generate_a_more_detailed_answers-20 (10 sampl─╮\n",
       "│                                                                                                                 │\n",
       "│ <span style=\"font-weight: bold\">Total time:       </span> 00:00:00                                                                                     │\n",
       "│ <span style=\"font-weight: bold\">Number of samples:</span> 10                                                                                           │\n",
       "│                                                                                                                 │\n",
       "│ <span style=\"color: #008000; text-decoration-color: #008000; font-weight: bold\">levenshtein_ratio_metric: 0.6173 (avg)</span>                                                                          │\n",
       "│                                                                                                                 │\n",
       "╰─────────────────────────────────────────────────────────────────────────────────────────────────────────────────╯\n",
       "</pre>\n"
      ],
      "text/plain": [
       "╭─ demo-tinyqab-dataset-use_context_provided_and_elaborate_on_it_to_generate_a_more_detailed_answers-20 (10 sampl─╮\n",
       "│                                                                                                                 │\n",
       "│ \u001b[1mTotal time:       \u001b[0m 00:00:00                                                                                     │\n",
       "│ \u001b[1mNumber of samples:\u001b[0m 10                                                                                           │\n",
       "│                                                                                                                 │\n",
       "│ \u001b[1;32mlevenshtein_ratio_metric: 0.6173 (avg)\u001b[0m                                                                          │\n",
       "│                                                                                                                 │\n",
       "╰─────────────────────────────────────────────────────────────────────────────────────────────────────────────────╯\n"
      ]
     },
     "metadata": {},
     "output_type": "display_data"
    },
    {
     "data": {
      "text/html": [
       "<pre style=\"white-space:pre;overflow-x:auto;line-height:normal;font-family:Menlo,'DejaVu Sans Mono',consolas,'Courier New',monospace\">Uploading results to Opik <span style=\"color: #808000; text-decoration-color: #808000\">...</span> \n",
       "</pre>\n"
      ],
      "text/plain": [
       "Uploading results to Opik \u001b[33m...\u001b[0m \n"
      ]
     },
     "metadata": {},
     "output_type": "display_data"
    },
    {
     "data": {
      "text/html": [
       "<pre style=\"white-space:pre;overflow-x:auto;line-height:normal;font-family:Menlo,'DejaVu Sans Mono',consolas,'Courier New',monospace\">View the results <a href=\"https://www.comet.com/opik/api/v1/session/redirect/experiments/?experiment_id=0196e9d3-47ca-73b2-b532-6206ba088459&dataset_id=0196e9b9-73a7-751a-8d6f-77232aae8bb2&path=aHR0cHM6Ly93d3cuY29tZXQuY29tL29waWsvYXBpLw==\" target=\"_blank\">in your Opik dashboard</a>.\n",
       "</pre>\n"
      ],
      "text/plain": [
       "View the results \u001b]8;id=379580;https://www.comet.com/opik/api/v1/session/redirect/experiments/?experiment_id=0196e9d3-47ca-73b2-b532-6206ba088459&dataset_id=0196e9b9-73a7-751a-8d6f-77232aae8bb2&path=aHR0cHM6Ly93d3cuY29tZXQuY29tL29waWsvYXBpLw==\u001b\\in your Opik dashboard\u001b]8;;\u001b\\.\n"
      ]
     },
     "metadata": {},
     "output_type": "display_data"
    },
    {
     "data": {
      "application/vnd.jupyter.widget-view+json": {
       "model_id": "c51d4a36dd594ae3bc8c746bba78920e",
       "version_major": 2,
       "version_minor": 0
      },
      "text/plain": [
       "Evaluation:   0%|          | 0/10 [00:00<?, ?it/s]"
      ]
     },
     "metadata": {},
     "output_type": "display_data"
    },
    {
     "data": {
      "text/html": [
       "<pre style=\"white-space:pre;overflow-x:auto;line-height:normal;font-family:Menlo,'DejaVu Sans Mono',consolas,'Courier New',monospace\">╭─ demo-tinyqab-dataset-use_context_provided_and_elaborate_on_it_to_generate_a_more_detailed_answers-20 (10 sampl─╮\n",
       "│                                                                                                                 │\n",
       "│ <span style=\"font-weight: bold\">Total time:       </span> 00:00:00                                                                                     │\n",
       "│ <span style=\"font-weight: bold\">Number of samples:</span> 10                                                                                           │\n",
       "│                                                                                                                 │\n",
       "│ <span style=\"color: #008000; text-decoration-color: #008000; font-weight: bold\">levenshtein_ratio_metric: 0.6542 (avg)</span>                                                                          │\n",
       "│                                                                                                                 │\n",
       "╰─────────────────────────────────────────────────────────────────────────────────────────────────────────────────╯\n",
       "</pre>\n"
      ],
      "text/plain": [
       "╭─ demo-tinyqab-dataset-use_context_provided_and_elaborate_on_it_to_generate_a_more_detailed_answers-20 (10 sampl─╮\n",
       "│                                                                                                                 │\n",
       "│ \u001b[1mTotal time:       \u001b[0m 00:00:00                                                                                     │\n",
       "│ \u001b[1mNumber of samples:\u001b[0m 10                                                                                           │\n",
       "│                                                                                                                 │\n",
       "│ \u001b[1;32mlevenshtein_ratio_metric: 0.6542 (avg)\u001b[0m                                                                          │\n",
       "│                                                                                                                 │\n",
       "╰─────────────────────────────────────────────────────────────────────────────────────────────────────────────────╯\n"
      ]
     },
     "metadata": {},
     "output_type": "display_data"
    },
    {
     "data": {
      "text/html": [
       "<pre style=\"white-space:pre;overflow-x:auto;line-height:normal;font-family:Menlo,'DejaVu Sans Mono',consolas,'Courier New',monospace\">Uploading results to Opik <span style=\"color: #808000; text-decoration-color: #808000\">...</span> \n",
       "</pre>\n"
      ],
      "text/plain": [
       "Uploading results to Opik \u001b[33m...\u001b[0m \n"
      ]
     },
     "metadata": {},
     "output_type": "display_data"
    },
    {
     "data": {
      "text/html": [
       "<pre style=\"white-space:pre;overflow-x:auto;line-height:normal;font-family:Menlo,'DejaVu Sans Mono',consolas,'Courier New',monospace\">View the results <a href=\"https://www.comet.com/opik/api/v1/session/redirect/experiments/?experiment_id=0196e9d3-4d60-7b53-bd38-f4accc8e64d2&dataset_id=0196e9b9-73a7-751a-8d6f-77232aae8bb2&path=aHR0cHM6Ly93d3cuY29tZXQuY29tL29waWsvYXBpLw==\" target=\"_blank\">in your Opik dashboard</a>.\n",
       "</pre>\n"
      ],
      "text/plain": [
       "View the results \u001b]8;id=534277;https://www.comet.com/opik/api/v1/session/redirect/experiments/?experiment_id=0196e9d3-4d60-7b53-bd38-f4accc8e64d2&dataset_id=0196e9b9-73a7-751a-8d6f-77232aae8bb2&path=aHR0cHM6Ly93d3cuY29tZXQuY29tL29waWsvYXBpLw==\u001b\\in your Opik dashboard\u001b]8;;\u001b\\.\n"
      ]
     },
     "metadata": {},
     "output_type": "display_data"
    }
   ],
   "source": [
    "# Run the optimizer\n",
    "result = optimizer.optimize_prompt(\n",
    "    dataset=opik_synthetic_dataset,\n",
    "    metric_config=metric_config,\n",
    "    task_config=task_config,\n",
    "    n_samples=OPTIMIZER_N_SAMPLES_OPTIMIZATION,\n",
    ")"
   ]
  },
  {
   "cell_type": "markdown",
   "metadata": {},
   "source": [
    "### Optimization process finished\n",
    "We can output our results to show"
   ]
  },
  {
   "cell_type": "code",
   "execution_count": 41,
   "metadata": {},
   "outputs": [
    {
     "data": {
      "text/html": [
       "<pre style=\"white-space:pre;overflow-x:auto;line-height:normal;font-family:Menlo,'DejaVu Sans Mono',consolas,'Courier New',monospace\"><span style=\"color: #808000; text-decoration-color: #808000\">╔═════════════════════════════════════════════ </span><span style=\"color: #808000; text-decoration-color: #808000; font-weight: bold\">Optimization Complete</span><span style=\"color: #808000; text-decoration-color: #808000\"> ═════════════════════════════════════════════╗</span>\n",
       "<span style=\"color: #808000; text-decoration-color: #808000\">║</span>                                                                                                                 <span style=\"color: #808000; text-decoration-color: #808000\">║</span>\n",
       "<span style=\"color: #808000; text-decoration-color: #808000\">║</span> <span style=\"color: #7f7f7f; text-decoration-color: #7f7f7f\">Optimizer:         </span><span style=\"font-weight: bold\">Optimizer</span>                                                                                    <span style=\"color: #808000; text-decoration-color: #808000\">║</span>\n",
       "<span style=\"color: #808000; text-decoration-color: #808000\">║</span> <span style=\"color: #7f7f7f; text-decoration-color: #7f7f7f\">Model Used:        </span>openai/gpt-4o-mini (<span style=\"color: #7f7f7f; text-decoration-color: #7f7f7f\">Temp:</span> <span style=\"color: #7f7f7f; text-decoration-color: #7f7f7f\">N/A</span>)                                                               <span style=\"color: #808000; text-decoration-color: #808000\">║</span>\n",
       "<span style=\"color: #808000; text-decoration-color: #808000\">║</span> <span style=\"color: #7f7f7f; text-decoration-color: #7f7f7f\">Metric Evaluated:  </span><span style=\"font-weight: bold\">levenshtein_ratio_metric</span>                                                                     <span style=\"color: #808000; text-decoration-color: #808000\">║</span>\n",
       "<span style=\"color: #808000; text-decoration-color: #808000\">║</span> <span style=\"color: #7f7f7f; text-decoration-color: #7f7f7f\">Initial Score:     </span>0.0225                                                                                       <span style=\"color: #808000; text-decoration-color: #808000\">║</span>\n",
       "<span style=\"color: #808000; text-decoration-color: #808000\">║</span> <span style=\"color: #7f7f7f; text-decoration-color: #7f7f7f\">Final Best Score:  </span><span style=\"color: #008080; text-decoration-color: #008080; font-weight: bold\">0.6542</span>                                                                                       <span style=\"color: #808000; text-decoration-color: #808000\">║</span>\n",
       "<span style=\"color: #808000; text-decoration-color: #808000\">║</span> <span style=\"color: #7f7f7f; text-decoration-color: #7f7f7f\">Total Improvement: </span><span style=\"color: #008000; text-decoration-color: #008000; font-weight: bold\">2812.63%</span>                                                                                     <span style=\"color: #808000; text-decoration-color: #808000\">║</span>\n",
       "<span style=\"color: #808000; text-decoration-color: #808000\">║</span> <span style=\"color: #7f7f7f; text-decoration-color: #7f7f7f\">Rounds Completed:  </span>2                                                                                            <span style=\"color: #808000; text-decoration-color: #808000\">║</span>\n",
       "<span style=\"color: #808000; text-decoration-color: #808000\">║</span> <span style=\"color: #7f7f7f; text-decoration-color: #7f7f7f\">Stopped Early:     </span>True                                                                                         <span style=\"color: #808000; text-decoration-color: #808000\">║</span>\n",
       "<span style=\"color: #808000; text-decoration-color: #808000\">║</span>                                                                                                                 <span style=\"color: #808000; text-decoration-color: #808000\">║</span>\n",
       "<span style=\"color: #808000; text-decoration-color: #808000\">║</span>                                                                                                                 <span style=\"color: #808000; text-decoration-color: #808000\">║</span>\n",
       "<span style=\"color: #808000; text-decoration-color: #808000\">║</span> <span style=\"color: #000080; text-decoration-color: #000080\">╭─────────────────────────────────── </span><span style=\"color: #000080; text-decoration-color: #000080; font-weight: bold\">Final Optimized Prompt (Instruction)</span><span style=\"color: #000080; text-decoration-color: #000080\"> ────────────────────────────────────╮</span> <span style=\"color: #808000; text-decoration-color: #808000\">║</span>\n",
       "<span style=\"color: #808000; text-decoration-color: #808000\">║</span> <span style=\"color: #000080; text-decoration-color: #000080\">│</span>                                                                                                             <span style=\"color: #000080; text-decoration-color: #000080\">│</span> <span style=\"color: #808000; text-decoration-color: #808000\">║</span>\n",
       "<span style=\"color: #808000; text-decoration-color: #808000\">║</span> <span style=\"color: #000080; text-decoration-color: #000080\">│</span>  Analyze the provided question and context to identify one concise keyword or phrase that encapsulates the  <span style=\"color: #000080; text-decoration-color: #000080\">│</span> <span style=\"color: #808000; text-decoration-color: #808000\">║</span>\n",
       "<span style=\"color: #808000; text-decoration-color: #808000\">║</span> <span style=\"color: #000080; text-decoration-color: #000080\">│</span>  core insight. Your answer must be a term or phrase present in the context to maximize relevance.           <span style=\"color: #000080; text-decoration-color: #000080\">│</span> <span style=\"color: #808000; text-decoration-color: #808000\">║</span>\n",
       "<span style=\"color: #808000; text-decoration-color: #808000\">║</span> <span style=\"color: #000080; text-decoration-color: #000080\">│</span>                                                                                                             <span style=\"color: #000080; text-decoration-color: #000080\">│</span> <span style=\"color: #808000; text-decoration-color: #808000\">║</span>\n",
       "<span style=\"color: #808000; text-decoration-color: #808000\">║</span> <span style=\"color: #000080; text-decoration-color: #000080\">╰─────────────────────────────────────────────────────────────────────────────────────────────────────────────╯</span> <span style=\"color: #808000; text-decoration-color: #808000\">║</span>\n",
       "<span style=\"color: #808000; text-decoration-color: #808000\">║</span>                                                                                                                 <span style=\"color: #808000; text-decoration-color: #808000\">║</span>\n",
       "<span style=\"color: #808000; text-decoration-color: #808000\">╚═════════════════════════════════════════════════════════════════════════════════════════════════════════════════╝</span>\n",
       "</pre>\n"
      ],
      "text/plain": [
       "\u001b[33m╔═\u001b[0m\u001b[33m════════════════════════════════════════════\u001b[0m\u001b[33m \u001b[0m\u001b[1;33mOptimization Complete\u001b[0m\u001b[33m \u001b[0m\u001b[33m════════════════════════════════════════════\u001b[0m\u001b[33m═╗\u001b[0m\n",
       "\u001b[33m║\u001b[0m                                                                                                                 \u001b[33m║\u001b[0m\n",
       "\u001b[33m║\u001b[0m \u001b[2mOptimizer:        \u001b[0m\u001b[2m \u001b[0m\u001b[1mOptimizer\u001b[0m                                                                                    \u001b[33m║\u001b[0m\n",
       "\u001b[33m║\u001b[0m \u001b[2mModel Used:       \u001b[0m\u001b[2m \u001b[0mopenai/gpt-4o-mini (\u001b[2mTemp:\u001b[0m \u001b[2mN/A\u001b[0m)                                                               \u001b[33m║\u001b[0m\n",
       "\u001b[33m║\u001b[0m \u001b[2mMetric Evaluated: \u001b[0m\u001b[2m \u001b[0m\u001b[1mlevenshtein_ratio_metric\u001b[0m                                                                     \u001b[33m║\u001b[0m\n",
       "\u001b[33m║\u001b[0m \u001b[2mInitial Score:    \u001b[0m\u001b[2m \u001b[0m0.0225                                                                                       \u001b[33m║\u001b[0m\n",
       "\u001b[33m║\u001b[0m \u001b[2mFinal Best Score: \u001b[0m\u001b[2m \u001b[0m\u001b[1;36m0.6542\u001b[0m                                                                                       \u001b[33m║\u001b[0m\n",
       "\u001b[33m║\u001b[0m \u001b[2mTotal Improvement:\u001b[0m\u001b[2m \u001b[0m\u001b[1;32m2812.63%\u001b[0m                                                                                     \u001b[33m║\u001b[0m\n",
       "\u001b[33m║\u001b[0m \u001b[2mRounds Completed: \u001b[0m\u001b[2m \u001b[0m2                                                                                            \u001b[33m║\u001b[0m\n",
       "\u001b[33m║\u001b[0m \u001b[2mStopped Early:    \u001b[0m\u001b[2m \u001b[0mTrue                                                                                         \u001b[33m║\u001b[0m\n",
       "\u001b[33m║\u001b[0m                                                                                                                 \u001b[33m║\u001b[0m\n",
       "\u001b[33m║\u001b[0m                                                                                                                 \u001b[33m║\u001b[0m\n",
       "\u001b[33m║\u001b[0m \u001b[34m╭─\u001b[0m\u001b[34m──────────────────────────────────\u001b[0m\u001b[34m \u001b[0m\u001b[1;34mFinal Optimized Prompt (Instruction)\u001b[0m\u001b[34m \u001b[0m\u001b[34m───────────────────────────────────\u001b[0m\u001b[34m─╮\u001b[0m \u001b[33m║\u001b[0m\n",
       "\u001b[33m║\u001b[0m \u001b[34m│\u001b[0m                                                                                                             \u001b[34m│\u001b[0m \u001b[33m║\u001b[0m\n",
       "\u001b[33m║\u001b[0m \u001b[34m│\u001b[0m  Analyze the provided question and context to identify one concise keyword or phrase that encapsulates the  \u001b[34m│\u001b[0m \u001b[33m║\u001b[0m\n",
       "\u001b[33m║\u001b[0m \u001b[34m│\u001b[0m  core insight. Your answer must be a term or phrase present in the context to maximize relevance.           \u001b[34m│\u001b[0m \u001b[33m║\u001b[0m\n",
       "\u001b[33m║\u001b[0m \u001b[34m│\u001b[0m                                                                                                             \u001b[34m│\u001b[0m \u001b[33m║\u001b[0m\n",
       "\u001b[33m║\u001b[0m \u001b[34m╰─────────────────────────────────────────────────────────────────────────────────────────────────────────────╯\u001b[0m \u001b[33m║\u001b[0m\n",
       "\u001b[33m║\u001b[0m                                                                                                                 \u001b[33m║\u001b[0m\n",
       "\u001b[33m╚═════════════════════════════════════════════════════════════════════════════════════════════════════════════════╝\u001b[0m\n"
      ]
     },
     "metadata": {},
     "output_type": "display_data"
    }
   ],
   "source": [
    "result.display()"
   ]
  },
  {
   "cell_type": "markdown",
   "metadata": {
    "id": "uSDJ1bFx51kd"
   },
   "source": [
    "# Next Steps\n",
    "\n",
    "You can try out other optimizers. More details can be found in the [Opik Agent Optimizer documentation](https://www.comet.com/docs/opik/agent_optimization/overview)."
   ]
  }
 ],
 "metadata": {
  "colab": {
   "provenance": []
  },
  "kernelspec": {
   "display_name": ".venv",
   "language": "python",
   "name": "python3"
  },
  "language_info": {
   "codemirror_mode": {
    "name": "ipython",
    "version": 3
   },
   "file_extension": ".py",
   "mimetype": "text/x-python",
   "name": "python",
   "nbconvert_exporter": "python",
   "pygments_lexer": "ipython3",
   "version": "3.9.11"
  }
 },
 "nbformat": 4,
 "nbformat_minor": 4
}
