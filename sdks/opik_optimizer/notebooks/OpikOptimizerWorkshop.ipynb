{
 "cells": [
  {
   "cell_type": "markdown",
   "metadata": {
    "id": "NTaMBjChz7m5"
   },
   "source": [
    "# Smarter Prompting, Faster: Introducing Opik's Agent Optimizers\n",
    "\n",
    "Doug Blank, Phd\n",
    "\n",
    "* Slides are available at: [bit.ly/opik-optimizer-dsblank-slides](https://bit.ly/opik-optimizer-dsblank-slides)\n",
    "* This notebook is available at: [bit.ly/opik-optimizer-dsblank](https://bit.ly/opik-optimizer-dsblank)\n",
    "\n",
    "You will need:\n",
    "1. A Google account, for running a Colab Notebook  - [google.com](https://google.com)\n",
    "2. A Comet account, for seeing Opik visualizations (free!) - [comet.com](https://comet.com)\n",
    "3. An OpenAI account, for using an LLM\n",
    "[platform.openai.com/settings/organization/api-keys](https://platform.openai.com/settings/organization/api-keys)\n"
   ]
  },
  {
   "cell_type": "markdown",
   "metadata": {
    "id": "yM1lU0dBBnJs"
   },
   "source": [
    "## Setup\n",
    "\n",
    "This pip-install takes about a minute."
   ]
  },
  {
   "cell_type": "code",
   "execution_count": 1,
   "metadata": {
    "id": "2Tx6HwuU1rB4"
   },
   "outputs": [],
   "source": [
    "%%capture\n",
    "#%pip install opik-optimizer"
   ]
  },
  {
   "cell_type": "code",
   "execution_count": 2,
   "metadata": {
    "colab": {
     "base_uri": "https://localhost:8080/",
     "height": 35
    },
    "id": "pVgkLU3v2KD8",
    "outputId": "a0b1e0ca-116b-413d-c4ad-24e42ca701a8"
   },
   "outputs": [
    {
     "data": {
      "text/plain": [
       "'0.8.1'"
      ]
     },
     "execution_count": 2,
     "metadata": {},
     "output_type": "execute_result"
    }
   ],
   "source": [
    "import opik_optimizer\n",
    "opik_optimizer.__version__"
   ]
  },
  {
   "cell_type": "code",
   "execution_count": 3,
   "metadata": {
    "colab": {
     "base_uri": "https://localhost:8080/"
    },
    "id": "H0DNm-un_0Np",
    "outputId": "f2ec2b5a-62bb-4df4-a28a-2ece4092de7e"
   },
   "outputs": [
    {
     "name": "stderr",
     "output_type": "stream",
     "text": [
      "OPIK: Opik is already configured. You can check the settings by viewing the config file at /Users/jacquesverre/.opik.config\n"
     ]
    }
   ],
   "source": [
    "import opik\n",
    "\n",
    "# Configure Opik\n",
    "opik.configure()"
   ]
  },
  {
   "cell_type": "code",
   "execution_count": 4,
   "metadata": {
    "colab": {
     "base_uri": "https://localhost:8080/"
    },
    "id": "vN72mHQy_7Ou",
    "outputId": "3771ff38-413b-4238-8622-d109eee3a496"
   },
   "outputs": [],
   "source": [
    "import os\n",
    "import getpass\n",
    "if \"OPENAI_API_KEY\" not in os.environ:\n",
    "    os.environ[\"OPENAI_API_KEY\"] = getpass.getpass(\"Enter your OpenAI API key: \")"
   ]
  },
  {
   "cell_type": "markdown",
   "metadata": {
    "id": "lPe_J8388M4K"
   },
   "source": [
    "To save time (and money) durring this demonstration, we have capture the results of a previous run of all of these LLM interactions. Our goal is to make this not cost any money. However, we of course can guarantee that. **Use at your own risk**!\n",
    "\n",
    "To capture the perviously cached results:"
   ]
  },
  {
   "cell_type": "code",
   "execution_count": 5,
   "metadata": {
    "colab": {
     "base_uri": "https://localhost:8080/"
    },
    "id": "1ru08pDwh3PI",
    "outputId": "9add88cc-0afa-4a84-b88e-44cfcc809fab"
   },
   "outputs": [
    {
     "name": "stdout",
     "output_type": "stream",
     "text": [
      "Inserted 0 record(s) in litellm cache\n"
     ]
    }
   ],
   "source": [
    "from opik_optimizer.demo.cache import get_litellm_cache\n",
    "\n",
    "get_litellm_cache(\"opik-workshop\")"
   ]
  },
  {
   "cell_type": "markdown",
   "metadata": {
    "id": "zVK_KLEXbyqu"
   },
   "source": [
    "## The Dataset\n",
    "\n",
    "In these set of experiments, we are going to use the **HotPotQA** dataset. This dataset was designed to be difficult for regular LLMs to handle. This dataset is called a \"**multi-hop**\" dataset because answering the questions involves multiple reasoning steps and multiple tool calls, where the LLM needs to infer relationships, combine information, or draw conclusions based on the combined context.\n",
    "\n",
    "Example:\n",
    "\n",
    "> \"What are the capitals of the states that border California?\"\n",
    "\n",
    "You'd need to find which states border California, and then lookup each state's capital.\n",
    "\n",
    "The dataset has about 113,000 such crowd-sourced questions that are constructed to require the introductory paragraphs of two Wikipedia articles to answer.\n",
    "\n",
    "[1] The name \"HotPot\" comes from the restaurant where the authors came up with the idea of the dataset."
   ]
  },
  {
   "cell_type": "code",
   "execution_count": 6,
   "metadata": {
    "id": "4gCj_2M3A37D"
   },
   "outputs": [],
   "source": [
    "import opik_optimizer\n",
    "\n",
    "opik_dataset = opik_optimizer.datasets.hotpot_300()"
   ]
  },
  {
   "cell_type": "markdown",
   "metadata": {
    "id": "YvqslJnA9RMQ"
   },
   "source": [
    "Let's take a look at some dataset items:"
   ]
  },
  {
   "cell_type": "code",
   "execution_count": 7,
   "metadata": {
    "colab": {
     "base_uri": "https://localhost:8080/"
    },
    "id": "KGZoscWiBInJ",
    "outputId": "5f8c0099-4475-4d2d-b5ed-3a2ca693261e"
   },
   "outputs": [
    {
     "data": {
      "text/plain": [
       "{'id': '0197044c-d782-7735-a8cf-bffd4d19838e',\n",
       " 'question': 'Are Smyrnium and Nymania both types of plant?',\n",
       " 'answer': 'yes'}"
      ]
     },
     "execution_count": 7,
     "metadata": {},
     "output_type": "execute_result"
    }
   ],
   "source": [
    "rows = opik_dataset.get_items()\n",
    "rows[0]"
   ]
  },
  {
   "cell_type": "code",
   "execution_count": 8,
   "metadata": {
    "colab": {
     "base_uri": "https://localhost:8080/"
    },
    "id": "8MQC4TllBKgT",
    "outputId": "901c178f-c9f1-4c9f-9223-ec6e90352f89"
   },
   "outputs": [
    {
     "data": {
      "text/plain": [
       "{'id': '0197044c-d781-7eb0-a717-6fd6b1415476',\n",
       " 'question': 'That Darn Cat! and Never a Dull Moment were both produced by what studio?',\n",
       " 'answer': 'Walt Disney Productions'}"
      ]
     },
     "execution_count": 8,
     "metadata": {},
     "output_type": "execute_result"
    }
   ],
   "source": [
    "rows[1]"
   ]
  },
  {
   "cell_type": "markdown",
   "metadata": {
    "id": "feVF8adydeyH"
   },
   "source": [
    "## Opik Project\n",
    "\n",
    "All LLM traces in Opik are saved in a \"project\". We'll put them all in the following project name:"
   ]
  },
  {
   "cell_type": "code",
   "execution_count": 9,
   "metadata": {
    "id": "gTTZ5apsPgUg"
   },
   "outputs": [],
   "source": [
    "project_name = \"optimize-workshop-2025\""
   ]
  },
  {
   "cell_type": "markdown",
   "metadata": {
    "id": "VEEHnyrcdjVw"
   },
   "source": [
    "## The Metric\n",
    "\n",
    "Choosing a good metric for optimization is tricky. For these examples, we'll pick one that will allow us to show improvement, and also provide a gradient of scores. In general though, this metric isn't the best for optimization runs.\n",
    "\n",
    "We'll use \"Edit Distance\" AKA \"Levenshtein Distance\":"
   ]
  },
  {
   "cell_type": "code",
   "execution_count": 10,
   "metadata": {
    "id": "T3BKOXxPOpkI"
   },
   "outputs": [],
   "source": [
    "from opik.evaluation.metrics import LevenshteinRatio\n",
    "\n",
    "metric = LevenshteinRatio(project_name=project_name)"
   ]
  },
  {
   "cell_type": "markdown",
   "metadata": {
    "id": "BF9czV9Ue02R"
   },
   "source": [
    "The metric takes two things: the output of the LLM and the reference (correct answer)."
   ]
  },
  {
   "cell_type": "code",
   "execution_count": 11,
   "metadata": {
    "colab": {
     "base_uri": "https://localhost:8080/"
    },
    "id": "_hMQuJsSexkD",
    "outputId": "34afc45b-9743-4244-9efb-6816bce499a4"
   },
   "outputs": [
    {
     "name": "stderr",
     "output_type": "stream",
     "text": [
      "OPIK: Started logging traces to the \"optimize-workshop-2025\" project at https://www.comet.com/opik/api/v1/session/redirect/projects/?trace_id=0197411e-4a73-7a0b-8737-e17d1cfeee6c&path=aHR0cHM6Ly93d3cuY29tZXQuY29tL29waWsvYXBpLw==.\n"
     ]
    },
    {
     "data": {
      "text/plain": [
       "ScoreResult(name='levenshtein_ratio_metric', value=1.0, reason=None, metadata=None, scoring_failed=False)"
      ]
     },
     "execution_count": 11,
     "metadata": {},
     "output_type": "execute_result"
    }
   ],
   "source": [
    "metric.score(\"Hello\", \"Hello\")"
   ]
  },
  {
   "cell_type": "code",
   "execution_count": 12,
   "metadata": {
    "colab": {
     "base_uri": "https://localhost:8080/"
    },
    "id": "hNleaL5ZPLaA",
    "outputId": "87cf96e5-26bc-47a6-af67-71dd0b811d67"
   },
   "outputs": [
    {
     "data": {
      "text/plain": [
       "ScoreResult(name='levenshtein_ratio_metric', value=0.9090909090909091, reason=None, metadata=None, scoring_failed=False)"
      ]
     },
     "execution_count": 12,
     "metadata": {},
     "output_type": "execute_result"
    }
   ],
   "source": [
    "metric.score(\"Hello!\", \"Hello\")"
   ]
  },
  {
   "cell_type": "markdown",
   "metadata": {
    "id": "2eI1S-Q_-SwO"
   },
   "source": [
    "The edit distance between \"Hello!\" and \"Hello\" is 1. Here is how the .91 is computed:"
   ]
  },
  {
   "cell_type": "code",
   "execution_count": 13,
   "metadata": {
    "colab": {
     "base_uri": "https://localhost:8080/"
    },
    "id": "7YEltgab4jPs",
    "outputId": "807a9d36-ab5a-446f-921e-e714a018ec4a"
   },
   "outputs": [
    {
     "data": {
      "text/plain": [
       "0.9090909090909091"
      ]
     },
     "execution_count": 13,
     "metadata": {},
     "output_type": "execute_result"
    }
   ],
   "source": [
    "edit_distance = 1\n",
    "\n",
    "1 - edit_distance / (len(\"Hello1\") + len(\"Hello\"))\n"
   ]
  },
  {
   "cell_type": "markdown",
   "metadata": {
    "id": "p3gIizQt47AP"
   },
   "source": [
    "For more information see: [Levenshtein Distance](https://en.wikipedia.org/wiki/Levenshtein_distance)"
   ]
  },
  {
   "cell_type": "markdown",
   "metadata": {
    "id": "JarFSV9jb7jD"
   },
   "source": [
    "## Configuation\n",
    "\n",
    "To create the necessary configurations for using an Opik Optimizer, you'll need a metric function and a prompt.\n",
    "\n",
    "For this example, we'll start with a pretty bad prompt... so we can optimize it!"
   ]
  },
  {
   "cell_type": "code",
   "execution_count": 14,
   "metadata": {
    "id": "xxDUfpvgPct7"
   },
   "outputs": [],
   "source": [
    "from opik_optimizer import ChatPrompt\n",
    "\n",
    "initial_prompt = ChatPrompt(\n",
    "    messages=[\n",
    "        {\"role\": \"system\", \"content\": \"Provide an answer to the question\"},\n",
    "        {\"role\": \"user\", \"content\": \"{answer}\"}\n",
    "    ]\n",
    ")"
   ]
  },
  {
   "cell_type": "markdown",
   "metadata": {
    "id": "Oia79J_e-vSY"
   },
   "source": [
    "We place the 'Provide an answer to the question' as the first system message in a ChatPrompt."
   ]
  },
  {
   "cell_type": "code",
   "execution_count": 15,
   "metadata": {
    "id": "ET_umnWdPmjm"
   },
   "outputs": [],
   "source": [
    "def levenshtein_ratio(dataset_item, llm_output):\n",
    "    metric = LevenshteinRatio()\n",
    "    return metric.score(reference=dataset_item['answer'], output=llm_output)"
   ]
  },
  {
   "cell_type": "markdown",
   "metadata": {
    "id": "2aDp9vjw5hIQ"
   },
   "source": [
    "As you can see our metric function is a wrapper around the built-in LevenshteinRatio(). For most Opik metrics, we need two parameters.\n",
    "1. 'output' - which is the output of the LLM\n",
    "2. 'reference' - the correct answer (provided by the database item \"answer\")\n",
    "\n"
   ]
  },
  {
   "cell_type": "markdown",
   "metadata": {
    "id": "VBNAMIglcVIo"
   },
   "source": [
    "## FewShotBayesianOptimizer\n",
    "\n",
    "The FewShotBayesianOptimizer name indicates two things:\n",
    "\n",
    "1. It will produce Chat Prompts, or FewShot examples as described in the slides.\n",
    "2. Secondly, it describes how it searches for the best set of these FewShot examples.\n",
    "\n",
    "To use this optimizer, we import it and create an instance, passing in the project name and model parameters:"
   ]
  },
  {
   "cell_type": "code",
   "execution_count": 16,
   "metadata": {
    "id": "EbaysjG1PRNd"
   },
   "outputs": [],
   "source": [
    "from opik_optimizer import (\n",
    "    FewShotBayesianOptimizer,\n",
    ")\n",
    "\n",
    "optimizer = FewShotBayesianOptimizer(\n",
    "    project_name=project_name,\n",
    "    model=\"openai/gpt-4o-mini\",\n",
    "    temperature=0.1,\n",
    "    max_tokens=5000,\n",
    ")"
   ]
  },
  {
   "cell_type": "markdown",
   "metadata": {
    "id": "zuZkkZqGWg4C"
   },
   "source": [
    "### Baseline\n",
    "\n",
    "Before we optimize this prompt (\"Provide an answer to the question\") let's see what the bare prompt does by itself on the dataset:"
   ]
  },
  {
   "cell_type": "code",
   "execution_count": 17,
   "metadata": {
    "colab": {
     "base_uri": "https://localhost:8080/",
     "height": 226,
     "referenced_widgets": []
    },
    "collapsed": true,
    "id": "fYEhqP2WP0B_",
    "jupyter": {
     "outputs_hidden": true
    },
    "outputId": "3a93252c-4cf7-48c9-f4fb-f10ac6511078"
   },
   "outputs": [
    {
     "data": {
      "application/vnd.jupyter.widget-view+json": {
       "model_id": "912a3c3b871441caa8b1442c72cfaf3d",
       "version_major": 2,
       "version_minor": 0
      },
      "text/plain": [
       "Evaluation:   0%|          | 0/100 [00:00<?, ?it/s]"
      ]
     },
     "metadata": {},
     "output_type": "display_data"
    },
    {
     "data": {
      "text/html": [
       "<pre style=\"white-space:pre;overflow-x:auto;line-height:normal;font-family:Menlo,'DejaVu Sans Mono',consolas,'Courier New',monospace\">╭─ hotpot_300 (100 samples) ─────────────╮\n",
       "│                                        │\n",
       "│ <span style=\"font-weight: bold\">Total time:       </span> 00:00:09            │\n",
       "│ <span style=\"font-weight: bold\">Number of samples:</span> 100                 │\n",
       "│                                        │\n",
       "│ <span style=\"color: #008000; text-decoration-color: #008000; font-weight: bold\">levenshtein_ratio_metric: 0.0547 (avg)</span> │\n",
       "│                                        │\n",
       "╰────────────────────────────────────────╯\n",
       "</pre>\n"
      ],
      "text/plain": [
       "╭─ hotpot_300 (100 samples) ─────────────╮\n",
       "│                                        │\n",
       "│ \u001b[1mTotal time:       \u001b[0m 00:00:09            │\n",
       "│ \u001b[1mNumber of samples:\u001b[0m 100                 │\n",
       "│                                        │\n",
       "│ \u001b[1;32mlevenshtein_ratio_metric: 0.0547 (avg)\u001b[0m │\n",
       "│                                        │\n",
       "╰────────────────────────────────────────╯\n"
      ]
     },
     "metadata": {},
     "output_type": "display_data"
    },
    {
     "data": {
      "text/html": [
       "<pre style=\"white-space:pre;overflow-x:auto;line-height:normal;font-family:Menlo,'DejaVu Sans Mono',consolas,'Courier New',monospace\">Uploading results to Opik <span style=\"color: #808000; text-decoration-color: #808000\">...</span> \n",
       "</pre>\n"
      ],
      "text/plain": [
       "Uploading results to Opik \u001b[33m...\u001b[0m \n"
      ]
     },
     "metadata": {},
     "output_type": "display_data"
    },
    {
     "data": {
      "text/html": [
       "<pre style=\"white-space:pre;overflow-x:auto;line-height:normal;font-family:Menlo,'DejaVu Sans Mono',consolas,'Courier New',monospace\">View the results <a href=\"https://www.comet.com/opik/api/v1/session/redirect/experiments/?experiment_id=0197411e-4d2d-735c-a078-01c186d0ef77&dataset_id=0197044c-d51d-7cff-96c5-38969b6ae708&path=aHR0cHM6Ly93d3cuY29tZXQuY29tL29waWsvYXBpLw==\" target=\"_blank\">in your Opik dashboard</a>.\n",
       "</pre>\n"
      ],
      "text/plain": [
       "View the results \u001b]8;id=927105;https://www.comet.com/opik/api/v1/session/redirect/experiments/?experiment_id=0197411e-4d2d-735c-a078-01c186d0ef77&dataset_id=0197044c-d51d-7cff-96c5-38969b6ae708&path=aHR0cHM6Ly93d3cuY29tZXQuY29tL29waWsvYXBpLw==\u001b\\in your Opik dashboard\u001b]8;;\u001b\\.\n"
      ]
     },
     "metadata": {},
     "output_type": "display_data"
    },
    {
     "data": {
      "text/plain": [
       "0.05473981329382088"
      ]
     },
     "execution_count": 17,
     "metadata": {},
     "output_type": "execute_result"
    }
   ],
   "source": [
    "score = optimizer.evaluate_prompt(\n",
    "    prompt=initial_prompt,\n",
    "    dataset=opik_dataset,\n",
    "    metric=levenshtein_ratio,\n",
    "    n_samples=100,\n",
    ")\n",
    "score"
   ]
  },
  {
   "cell_type": "markdown",
   "metadata": {
    "id": "UtFggdB67tmB"
   },
   "source": [
    "It scored about 16% correct. [I say \"percent correct\" but because we are using edit distance, that isn't quite accurate. But we can think of it this way.]\n",
    "\n",
    "Ok, let's optimize that prompt!"
   ]
  },
  {
   "cell_type": "code",
   "execution_count": 18,
   "metadata": {
    "colab": {
     "base_uri": "https://localhost:8080/",
     "height": 785,
     "referenced_widgets": []
    },
    "collapsed": true,
    "id": "3Q3ENgSARX2m",
    "jupyter": {
     "outputs_hidden": true
    },
    "outputId": "45b5adb4-d294-4a7c-d473-bb86aadda1f0"
   },
   "outputs": [
    {
     "name": "stdout",
     "output_type": "stream",
     "text": [
      "╭────────────────────────────────────────────────────────────────────╮\n",
      "│ \u001b[32m● \u001b[0mRunning Opik Evaluation - \u001b[34mFew-Shot Bayesian Optimizer\u001b[0m            │\n",
      "╰────────────────────────────────────────────────────────────────────╯\n",
      "\n",
      "\n",
      "> Let's optimize the prompt:\n",
      "\n",
      "\u001b[2m╭─\u001b[0m\u001b[2m system \u001b[0m\u001b[2m──────────────────────────────────────────────────────────\u001b[0m\u001b[2m─╮\u001b[0m\n",
      "\u001b[2m│\u001b[0m                                                                    \u001b[2m│\u001b[0m\n",
      "\u001b[2m│\u001b[0m  Provide an answer to the question                                 \u001b[2m│\u001b[0m\n",
      "\u001b[2m│\u001b[0m                                                                    \u001b[2m│\u001b[0m\n",
      "\u001b[2m╰────────────────────────────────────────────────────────────────────╯\u001b[0m\n",
      "\u001b[2m╭─\u001b[0m\u001b[2m user \u001b[0m\u001b[2m────────────────────────────────────────────────────────────\u001b[0m\u001b[2m─╮\u001b[0m\n",
      "\u001b[2m│\u001b[0m                                                                    \u001b[2m│\u001b[0m\n",
      "\u001b[2m│\u001b[0m  {answer}                                                          \u001b[2m│\u001b[0m\n",
      "\u001b[2m│\u001b[0m                                                                    \u001b[2m│\u001b[0m\n",
      "\u001b[2m╰────────────────────────────────────────────────────────────────────╯\u001b[0m\n",
      "\n",
      "Using FewShotBayesianOptimizer with the parameters: \n",
      "\u001b[2m  - metric: \u001b[0m\u001b[36mlevenshtein_ratio\u001b[0m\n",
      "\u001b[2m  - n_trials: \u001b[0m\u001b[36m3\u001b[0m\n",
      "\u001b[2m  - n_samples: \u001b[0m\u001b[36m50\u001b[0m\n",
      "\n",
      "\n",
      "> First we will establish the baseline performance:\n",
      "\u001b[32m  Baseline score was: 0.0667.\u001b[0m\n",
      "\n",
      "> Let's add a placeholder for few-shot examples in the messages:\n",
      "\u001b[2;33m│    Created the prompt template:\u001b[0m\n",
      "\u001b[2;33m│\u001b[0m\n",
      "│    \u001b[2m╭─\u001b[0m\u001b[2m system \u001b[0m\u001b[2m──────────────────────────────────────────────────────────\u001b[0m\u001b[2m─╮\u001b[0m\n",
      "│    \u001b[2m│\u001b[0m                                                                    \u001b[2m│\u001b[0m\n",
      "│    \u001b[2m│\u001b[0m  Provide an answer to the question                                 \u001b[2m│\u001b[0m\n",
      "│    \u001b[2m│\u001b[0m                                                                    \u001b[2m│\u001b[0m\n",
      "│    \u001b[2m│\u001b[0m  ### Few Shot Examples                                             \u001b[2m│\u001b[0m\n",
      "│    \u001b[2m│\u001b[0m  FEW_SHOT_EXAMPLE_PLACEHOLDER                                      \u001b[2m│\u001b[0m\n",
      "│    \u001b[2m│\u001b[0m                                                                    \u001b[2m│\u001b[0m\n",
      "│    \u001b[2m╰────────────────────────────────────────────────────────────────────╯\u001b[0m\n",
      "│    \u001b[2m╭─\u001b[0m\u001b[2m user \u001b[0m\u001b[2m────────────────────────────────────────────────────────────\u001b[0m\u001b[2m─╮\u001b[0m\n",
      "│    \u001b[2m│\u001b[0m                                                                    \u001b[2m│\u001b[0m\n",
      "│    \u001b[2m│\u001b[0m  {answer}                                                          \u001b[2m│\u001b[0m\n",
      "│    \u001b[2m│\u001b[0m                                                                    \u001b[2m│\u001b[0m\n",
      "│    \u001b[2m╰────────────────────────────────────────────────────────────────────╯\u001b[0m\n",
      "│\n",
      "│   With the FEW_SHOT_EXAMPLE_PLACEHOLDER following the format:\n",
      "│    \u001b\u001b[1m[\u001b[0m2m╭────────────────────────────────────────────────────────────────────╮\u001b\u001b[1m[\u001b[0m0m\n",
      "│    \u001b\u001b[1m[\u001b[0m2m│\u001b\u001b[1m[\u001b[0m0m Question: \u001b[1m{\u001b[0mquestion\u001b[1m}\u001b[0m                                               \u001b\u001b[1m[\u001b[0m2m│\u001b\u001b[1m[\u001b[0m0m\n",
      "│    \u001b\u001b[1m[\u001b[0m2m│\u001b\u001b[1m[\u001b[0m0m Answer: \u001b[1m{\u001b[0manswer\u001b[1m}\u001b[0m                                                   \u001b\u001b[1m[\u001b[0m2m│\u001b\u001b[1m[\u001b[0m0m\n",
      "│    \u001b\u001b[1m[\u001b[0m2m╰────────────────────────────────────────────────────────────────────╯\u001b\u001b[1m[\u001b[0m0m\n",
      "\n",
      "\n",
      "> Starting the optimization run\n",
      "│\n",
      "│ - Starting optimization round 1 of 3\n",
      "│\n",
      "│    \u001b[2m╭─\u001b[0m\u001b[2m system \u001b[0m\u001b[2m──────────────────────────────────────────────────────────\u001b[0m\u001b[2m─╮\u001b[0m\n",
      "│    \u001b[2m│\u001b[0m                                                                    \u001b[2m│\u001b[0m\n",
      "│    \u001b[2m│\u001b[0m  Provide an answer to the question                                 \u001b[2m│\u001b[0m\n",
      "│    \u001b[2m│\u001b[0m                                                                    \u001b[2m│\u001b[0m\n",
      "│    \u001b[2m│\u001b[0m  ### Few Shot Examples                                             \u001b[2m│\u001b[0m\n",
      "│    \u001b[2m│\u001b[0m  Question: What novel did an author who was featured in the        \u001b[2m│\u001b[0m\n",
      "│    \u001b[2m│\u001b[0m  Voices of Ghana and later became a journalist write?              \u001b[2m│\u001b[0m\n",
      "│    \u001b[2m│\u001b[0m  Answer: The Gab Boys                                              \u001b[2m│\u001b[0m\n",
      "│    \u001b[2m│\u001b[0m                                                                    \u001b[2m│\u001b[0m\n",
      "│    \u001b[2m│\u001b[0m  Question: What were the dates of the campaign that eventually     \u001b[2m│\u001b[0m\n",
      "│    \u001b[2m│\u001b[0m  led to the Treaty of Roskilde?                                    \u001b[2m│\u001b[0m\n",
      "│    \u001b[2m│\u001b[0m  Answer: between 30 January and 8 February 1658                    \u001b[2m│\u001b[0m\n",
      "│    \u001b[2m│\u001b[0m                                                                    \u001b[2m│\u001b[0m\n",
      "│    \u001b[2m│\u001b[0m  Question: Are Wanding Town and Jiujiang, Guangdong both frontier  \u001b[2m│\u001b[0m\n",
      "│    \u001b[2m│\u001b[0m  towns?                                                            \u001b[2m│\u001b[0m\n",
      "│    \u001b[2m│\u001b[0m  Answer: no                                                        \u001b[2m│\u001b[0m\n",
      "│    \u001b[2m│\u001b[0m                                                                    \u001b[2m│\u001b[0m\n",
      "│    \u001b[2m│\u001b[0m  Question: The Knicks–Nuggets was the most penalized on-court      \u001b[2m│\u001b[0m\n",
      "│    \u001b[2m│\u001b[0m  fight in the NBA since an altercation that occured in what city?  \u001b[2m│\u001b[0m\n",
      "│    \u001b[2m│\u001b[0m  Answer: Auburn Hills                                              \u001b[2m│\u001b[0m\n",
      "│    \u001b[2m│\u001b[0m                                                                    \u001b[2m│\u001b[0m\n",
      "│    \u001b[2m╰────────────────────────────────────────────────────────────────────╯\u001b[0m\n",
      "│    \u001b[2m╭─\u001b[0m\u001b[2m user \u001b[0m\u001b[2m────────────────────────────────────────────────────────────\u001b[0m\u001b[2m─╮\u001b[0m\n",
      "│    \u001b[2m│\u001b[0m                                                                    \u001b[2m│\u001b[0m\n",
      "│    \u001b[2m│\u001b[0m  {answer}                                                          \u001b[2m│\u001b[0m\n",
      "│    \u001b[2m│\u001b[0m                                                                    \u001b[2m│\u001b[0m\n",
      "│    \u001b[2m╰────────────────────────────────────────────────────────────────────╯\u001b[0m\n",
      "│\n",
      "\u001b[32m│    Trial 1 - score was: 0.1794 (169.13%).\u001b[0m\n",
      "\u001b[32m│\u001b[0m\n",
      "│ - Starting optimization round 2 of 3\n",
      "│\n",
      "│    \u001b[2m╭─\u001b[0m\u001b[2m system \u001b[0m\u001b[2m──────────────────────────────────────────────────────────\u001b[0m\u001b[2m─╮\u001b[0m\n",
      "│    \u001b[2m│\u001b[0m                                                                    \u001b[2m│\u001b[0m\n",
      "│    \u001b[2m│\u001b[0m  Provide an answer to the question                                 \u001b[2m│\u001b[0m\n",
      "│    \u001b[2m│\u001b[0m                                                                    \u001b[2m│\u001b[0m\n",
      "│    \u001b[2m│\u001b[0m  ### Few Shot Examples                                             \u001b[2m│\u001b[0m\n",
      "│    \u001b[2m│\u001b[0m  Question: Which career do Jaoru Kuroki and Ilona Staller share?   \u001b[2m│\u001b[0m\n",
      "│    \u001b[2m│\u001b[0m  Answer: adult video (AV) performer                                \u001b[2m│\u001b[0m\n",
      "│    \u001b[2m│\u001b[0m                                                                    \u001b[2m│\u001b[0m\n",
      "│    \u001b[2m│\u001b[0m  Question: Ramfis Trujillo was a close friend of the racecar       \u001b[2m│\u001b[0m\n",
      "│    \u001b[2m│\u001b[0m  driver and diplomat of what nationality?                          \u001b[2m│\u001b[0m\n",
      "│    \u001b[2m│\u001b[0m  Answer: Dominican                                                 \u001b[2m│\u001b[0m\n",
      "│    \u001b[2m│\u001b[0m                                                                    \u001b[2m│\u001b[0m\n",
      "│    \u001b[2m╰────────────────────────────────────────────────────────────────────╯\u001b[0m\n",
      "│    \u001b[2m╭─\u001b[0m\u001b[2m user \u001b[0m\u001b[2m────────────────────────────────────────────────────────────\u001b[0m\u001b[2m─╮\u001b[0m\n",
      "│    \u001b[2m│\u001b[0m                                                                    \u001b[2m│\u001b[0m\n",
      "│    \u001b[2m│\u001b[0m  {answer}                                                          \u001b[2m│\u001b[0m\n",
      "│    \u001b[2m│\u001b[0m                                                                    \u001b[2m│\u001b[0m\n",
      "│    \u001b[2m╰────────────────────────────────────────────────────────────────────╯\u001b[0m\n",
      "│\n",
      "\u001b[32m│    Trial 2 - score was: 0.1592 (138.86%).\u001b[0m\n",
      "\u001b[32m│\u001b[0m\n",
      "│ - Starting optimization round 3 of 3\n",
      "│\n",
      "│    \u001b[2m╭─\u001b[0m\u001b[2m system \u001b[0m\u001b[2m──────────────────────────────────────────────────────────\u001b[0m\u001b[2m─╮\u001b[0m\n",
      "│    \u001b[2m│\u001b[0m                                                                    \u001b[2m│\u001b[0m\n",
      "│    \u001b[2m│\u001b[0m  Provide an answer to the question                                 \u001b[2m│\u001b[0m\n",
      "│    \u001b[2m│\u001b[0m                                                                    \u001b[2m│\u001b[0m\n",
      "│    \u001b[2m│\u001b[0m  ### Few Shot Examples                                             \u001b[2m│\u001b[0m\n",
      "│    \u001b[2m│\u001b[0m  Question: The Police Integrity Commission is responsible for the  \u001b[2m│\u001b[0m\n",
      "│    \u001b[2m│\u001b[0m  prevention, detection, and investigation of alleged serious       \u001b[2m│\u001b[0m\n",
      "│    \u001b[2m│\u001b[0m  misconduct in what primary law enforcement agency of the state    \u001b[2m│\u001b[0m\n",
      "│    \u001b[2m│\u001b[0m  of New South Wales, Australia that is  Divided into seventy six   \u001b[2m│\u001b[0m\n",
      "│    \u001b[2m│\u001b[0m  local area command                                                \u001b[2m│\u001b[0m\n",
      "│    \u001b[2m│\u001b[0m  Answer: New South Wales Police Force                              \u001b[2m│\u001b[0m\n",
      "│    \u001b[2m│\u001b[0m                                                                    \u001b[2m│\u001b[0m\n",
      "│    \u001b[2m│\u001b[0m  Question: What American singer born 1951 does Jim Rooney  have    \u001b[2m│\u001b[0m\n",
      "│    \u001b[2m│\u001b[0m  credits for?                                                      \u001b[2m│\u001b[0m\n",
      "│    \u001b[2m│\u001b[0m  Answer: Iris Luella DeMent                                        \u001b[2m│\u001b[0m\n",
      "│    \u001b[2m│\u001b[0m                                                                    \u001b[2m│\u001b[0m\n",
      "│    \u001b[2m│\u001b[0m  Question: What film was William Fichtner in that also had Heath   \u001b[2m│\u001b[0m\n",
      "│    \u001b[2m│\u001b[0m  Ledger in it?                                                     \u001b[2m│\u001b[0m\n",
      "│    \u001b[2m│\u001b[0m  Answer: The Dark Knight                                           \u001b[2m│\u001b[0m\n",
      "│    \u001b[2m│\u001b[0m                                                                    \u001b[2m│\u001b[0m\n",
      "│    \u001b[2m│\u001b[0m  Question: How many residents were in the resort town in which     \u001b[2m│\u001b[0m\n",
      "│    \u001b[2m│\u001b[0m  Nida Lighthouse was located?                                      \u001b[2m│\u001b[0m\n",
      "│    \u001b[2m│\u001b[0m  Answer: 1,650 residents                                           \u001b[2m│\u001b[0m\n",
      "│    \u001b[2m│\u001b[0m                                                                    \u001b[2m│\u001b[0m\n",
      "│    \u001b[2m╰────────────────────────────────────────────────────────────────────╯\u001b[0m\n",
      "│    \u001b[2m╭─\u001b[0m\u001b[2m user \u001b[0m\u001b[2m────────────────────────────────────────────────────────────\u001b[0m\u001b[2m─╮\u001b[0m\n",
      "│    \u001b[2m│\u001b[0m                                                                    \u001b[2m│\u001b[0m\n",
      "│    \u001b[2m│\u001b[0m  {answer}                                                          \u001b[2m│\u001b[0m\n",
      "│    \u001b[2m│\u001b[0m                                                                    \u001b[2m│\u001b[0m\n",
      "│    \u001b[2m╰────────────────────────────────────────────────────────────────────╯\u001b[0m\n",
      "│\n",
      "\u001b[32m│    Trial 3 - score was: 0.1279 (91.86%).\u001b[0m\n",
      "\u001b[32m│\u001b[0m\n",
      "\n",
      "> Optimization complete\n",
      "\n",
      "\u001b[32m╭─\u001b[0m\u001b[32m Optimization results \u001b[0m\u001b[32m────────────────────────────────────────────\u001b[0m\u001b[32m─╮\u001b[0m\n",
      "\u001b[32m│\u001b[0m                                                                    \u001b[32m│\u001b[0m\n",
      "\u001b[32m│\u001b[0m  \u001b[1;32mPrompt was optimized and improved from 0.0667 to 0.1794 \u001b[0m          \u001b[32m│\u001b[0m\n",
      "\u001b[32m│\u001b[0m  \u001b[1;32m(169.13%)\u001b[0m                                                         \u001b[32m│\u001b[0m\n",
      "\u001b[32m│\u001b[0m                                                                    \u001b[32m│\u001b[0m\n",
      "\u001b[32m│\u001b[0m  Optimized prompt:                                                 \u001b[32m│\u001b[0m\n",
      "\u001b[32m│\u001b[0m  \u001b[2m╭─\u001b[0m\u001b[2m system \u001b[0m\u001b[2m────────────────────────────────────────────────────\u001b[0m\u001b[2m─╮\u001b[0m  \u001b[32m│\u001b[0m\n",
      "\u001b[32m│\u001b[0m  \u001b[2m│\u001b[0m                                                              \u001b[2m│\u001b[0m  \u001b[32m│\u001b[0m\n",
      "\u001b[32m│\u001b[0m  \u001b[2m│\u001b[0m  Provide an answer to the question                           \u001b[2m│\u001b[0m  \u001b[32m│\u001b[0m\n",
      "\u001b[32m│\u001b[0m  \u001b[2m│\u001b[0m                                                              \u001b[2m│\u001b[0m  \u001b[32m│\u001b[0m\n",
      "\u001b[32m│\u001b[0m  \u001b[2m│\u001b[0m  ### Few Shot Examples                                       \u001b[2m│\u001b[0m  \u001b[32m│\u001b[0m\n",
      "\u001b[32m│\u001b[0m  \u001b[2m│\u001b[0m  Question: What novel did an author who was featured in the  \u001b[2m│\u001b[0m  \u001b[32m│\u001b[0m\n",
      "\u001b[32m│\u001b[0m  \u001b[2m│\u001b[0m  Voices of Ghana and later became a journalist write?        \u001b[2m│\u001b[0m  \u001b[32m│\u001b[0m\n",
      "\u001b[32m│\u001b[0m  \u001b[2m│\u001b[0m  Answer: The Gab Boys                                        \u001b[2m│\u001b[0m  \u001b[32m│\u001b[0m\n",
      "\u001b[32m│\u001b[0m  \u001b[2m│\u001b[0m                                                              \u001b[2m│\u001b[0m  \u001b[32m│\u001b[0m\n",
      "\u001b[32m│\u001b[0m  \u001b[2m│\u001b[0m  Question: What were the dates of the campaign that          \u001b[2m│\u001b[0m  \u001b[32m│\u001b[0m\n",
      "\u001b[32m│\u001b[0m  \u001b[2m│\u001b[0m  eventually led to the Treaty of Roskilde?                   \u001b[2m│\u001b[0m  \u001b[32m│\u001b[0m\n",
      "\u001b[32m│\u001b[0m  \u001b[2m│\u001b[0m  Answer: between 30 January and 8 February 1658              \u001b[2m│\u001b[0m  \u001b[32m│\u001b[0m\n",
      "\u001b[32m│\u001b[0m  \u001b[2m│\u001b[0m                                                              \u001b[2m│\u001b[0m  \u001b[32m│\u001b[0m\n",
      "\u001b[32m│\u001b[0m  \u001b[2m│\u001b[0m  Question: Are Wanding Town and Jiujiang, Guangdong both     \u001b[2m│\u001b[0m  \u001b[32m│\u001b[0m\n",
      "\u001b[32m│\u001b[0m  \u001b[2m│\u001b[0m  frontier towns?                                             \u001b[2m│\u001b[0m  \u001b[32m│\u001b[0m\n",
      "\u001b[32m│\u001b[0m  \u001b[2m│\u001b[0m  Answer: no                                                  \u001b[2m│\u001b[0m  \u001b[32m│\u001b[0m\n",
      "\u001b[32m│\u001b[0m  \u001b[2m│\u001b[0m                                                              \u001b[2m│\u001b[0m  \u001b[32m│\u001b[0m\n",
      "\u001b[32m│\u001b[0m  \u001b[2m│\u001b[0m  Question: The Knicks–Nuggets was the most penalized         \u001b[2m│\u001b[0m  \u001b[32m│\u001b[0m\n",
      "\u001b[32m│\u001b[0m  \u001b[2m│\u001b[0m  on-court fight in the NBA since an altercation that         \u001b[2m│\u001b[0m  \u001b[32m│\u001b[0m\n",
      "\u001b[32m│\u001b[0m  \u001b[2m│\u001b[0m  occured in what city?                                       \u001b[2m│\u001b[0m  \u001b[32m│\u001b[0m\n",
      "\u001b[32m│\u001b[0m  \u001b[2m│\u001b[0m  Answer: Auburn Hills                                        \u001b[2m│\u001b[0m  \u001b[32m│\u001b[0m\n",
      "\u001b[32m│\u001b[0m  \u001b[2m│\u001b[0m                                                              \u001b[2m│\u001b[0m  \u001b[32m│\u001b[0m\n",
      "\u001b[32m│\u001b[0m  \u001b[2m╰──────────────────────────────────────────────────────────────╯\u001b[0m  \u001b[32m│\u001b[0m\n",
      "\u001b[32m│\u001b[0m  \u001b[2m╭─\u001b[0m\u001b[2m user \u001b[0m\u001b[2m──────────────────────────────────────────────────────\u001b[0m\u001b[2m─╮\u001b[0m  \u001b[32m│\u001b[0m\n",
      "\u001b[32m│\u001b[0m  \u001b[2m│\u001b[0m                                                              \u001b[2m│\u001b[0m  \u001b[32m│\u001b[0m\n",
      "\u001b[32m│\u001b[0m  \u001b[2m│\u001b[0m  {answer}                                                    \u001b[2m│\u001b[0m  \u001b[32m│\u001b[0m\n",
      "\u001b[32m│\u001b[0m  \u001b[2m│\u001b[0m                                                              \u001b[2m│\u001b[0m  \u001b[32m│\u001b[0m\n",
      "\u001b[32m│\u001b[0m  \u001b[2m╰──────────────────────────────────────────────────────────────╯\u001b[0m  \u001b[32m│\u001b[0m\n",
      "\u001b[32m│\u001b[0m                                                                    \u001b[32m│\u001b[0m\n",
      "\u001b[32m╰────────────────────────────────────────────────────────────────────╯\u001b[0m\n"
     ]
    }
   ],
   "source": [
    "result1 = optimizer.optimize_prompt(\n",
    "    prompt=initial_prompt,\n",
    "    dataset=opik_dataset,\n",
    "    metric=levenshtein_ratio,\n",
    "    n_trials=3,\n",
    "    n_samples=50\n",
    ")"
   ]
  },
  {
   "cell_type": "code",
   "execution_count": 19,
   "metadata": {
    "colab": {
     "base_uri": "https://localhost:8080/",
     "height": 1000
    },
    "id": "nJVmhi5Gcnkj",
    "outputId": "e1061b2c-8397-4047-cbf2-ae703f5fd9ce"
   },
   "outputs": [
    {
     "name": "stdout",
     "output_type": "stream",
     "text": [
      "\u001b[33m╔═\u001b[0m\u001b[33m════════════════════════════════════════════\u001b[0m\u001b[33m \u001b[0m\u001b[1;33mOptimization Complete\u001b[0m\u001b[33m \u001b[0m\u001b[33m════════════════════════════════════════════\u001b[0m\u001b[33m═╗\u001b[0m\n",
      "\u001b[33m║\u001b[0m                                                                                                                 \u001b[33m║\u001b[0m\n",
      "\u001b[33m║\u001b[0m \u001b[2mOptimizer:        \u001b[0m\u001b[2m \u001b[0m\u001b[1mFewShotBayesianOptimizer\u001b[0m                                                                     \u001b[33m║\u001b[0m\n",
      "\u001b[33m║\u001b[0m \u001b[2mModel Used:       \u001b[0m\u001b[2m \u001b[0mopenai/gpt-4o-mini (\u001b[2mTemp:\u001b[0m 0.1)                                                               \u001b[33m║\u001b[0m\n",
      "\u001b[33m║\u001b[0m \u001b[2mMetric Evaluated: \u001b[0m\u001b[2m \u001b[0m\u001b[1mlevenshtein_ratio\u001b[0m                                                                            \u001b[33m║\u001b[0m\n",
      "\u001b[33m║\u001b[0m \u001b[2mInitial Score:    \u001b[0m\u001b[2m \u001b[0m\u001b[2mN/A\u001b[0m                                                                                          \u001b[33m║\u001b[0m\n",
      "\u001b[33m║\u001b[0m \u001b[2mFinal Best Score: \u001b[0m\u001b[2m \u001b[0m\u001b[1;36m0.1794\u001b[0m                                                                                       \u001b[33m║\u001b[0m\n",
      "\u001b[33m║\u001b[0m \u001b[2mTotal Improvement:\u001b[0m\u001b[2m \u001b[0m\u001b[2mN/A (no initial score)\u001b[0m                                                                       \u001b[33m║\u001b[0m\n",
      "\u001b[33m║\u001b[0m \u001b[2mRounds Completed: \u001b[0m\u001b[2m \u001b[0m0                                                                                            \u001b[33m║\u001b[0m\n",
      "\u001b[33m║\u001b[0m \u001b[2mStopped Early:    \u001b[0m\u001b[2m \u001b[0mFalse                                                                                        \u001b[33m║\u001b[0m\n",
      "\u001b[33m║\u001b[0m                                                                                                                 \u001b[33m║\u001b[0m\n",
      "\u001b[33m║\u001b[0m                                                                                                                 \u001b[33m║\u001b[0m\n",
      "\u001b[33m║\u001b[0m \u001b[34m╭─\u001b[0m\u001b[34m─────────────────────────────────────────\u001b[0m\u001b[34m \u001b[0m\u001b[1;34mFinal Optimized Prompt\u001b[0m\u001b[34m \u001b[0m\u001b[34m──────────────────────────────────────────\u001b[0m\u001b[34m─╮\u001b[0m \u001b[33m║\u001b[0m\n",
      "\u001b[33m║\u001b[0m \u001b[34m│\u001b[0m                                                                                                             \u001b[34m│\u001b[0m \u001b[33m║\u001b[0m\n",
      "\u001b[33m║\u001b[0m \u001b[34m│\u001b[0m  \u001b[1;35mSystem:\u001b[0m Provide an answer to the question                                                                  \u001b[34m│\u001b[0m \u001b[33m║\u001b[0m\n",
      "\u001b[33m║\u001b[0m \u001b[34m│\u001b[0m                                                                                                             \u001b[34m│\u001b[0m \u001b[33m║\u001b[0m\n",
      "\u001b[33m║\u001b[0m \u001b[34m│\u001b[0m  ### Few Shot Examples                                                                                      \u001b[34m│\u001b[0m \u001b[33m║\u001b[0m\n",
      "\u001b[33m║\u001b[0m \u001b[34m│\u001b[0m  Question: What novel did an author who was featured in the Voices of Ghana and later became a journalist   \u001b[34m│\u001b[0m \u001b[33m║\u001b[0m\n",
      "\u001b[33m║\u001b[0m \u001b[34m│\u001b[0m  write?                                                                                                     \u001b[34m│\u001b[0m \u001b[33m║\u001b[0m\n",
      "\u001b[33m║\u001b[0m \u001b[34m│\u001b[0m  Answer: The Gab Boys                                                                                       \u001b[34m│\u001b[0m \u001b[33m║\u001b[0m\n",
      "\u001b[33m║\u001b[0m \u001b[34m│\u001b[0m                                                                                                             \u001b[34m│\u001b[0m \u001b[33m║\u001b[0m\n",
      "\u001b[33m║\u001b[0m \u001b[34m│\u001b[0m  Question: What were the dates of the campaign that eventually led to the Treaty of Roskilde?               \u001b[34m│\u001b[0m \u001b[33m║\u001b[0m\n",
      "\u001b[33m║\u001b[0m \u001b[34m│\u001b[0m  Answer: between 30 January and 8 February 1658                                                             \u001b[34m│\u001b[0m \u001b[33m║\u001b[0m\n",
      "\u001b[33m║\u001b[0m \u001b[34m│\u001b[0m                                                                                                             \u001b[34m│\u001b[0m \u001b[33m║\u001b[0m\n",
      "\u001b[33m║\u001b[0m \u001b[34m│\u001b[0m  Question: Are Wanding Town and Jiujiang, Guangdong both frontier towns?                                    \u001b[34m│\u001b[0m \u001b[33m║\u001b[0m\n",
      "\u001b[33m║\u001b[0m \u001b[34m│\u001b[0m  Answer: no                                                                                                 \u001b[34m│\u001b[0m \u001b[33m║\u001b[0m\n",
      "\u001b[33m║\u001b[0m \u001b[34m│\u001b[0m                                                                                                             \u001b[34m│\u001b[0m \u001b[33m║\u001b[0m\n",
      "\u001b[33m║\u001b[0m \u001b[34m│\u001b[0m  Question: The Knicks–Nuggets was the most penalized on-court fight in the NBA since an altercation that    \u001b[34m│\u001b[0m \u001b[33m║\u001b[0m\n",
      "\u001b[33m║\u001b[0m \u001b[34m│\u001b[0m  occured in what city?                                                                                      \u001b[34m│\u001b[0m \u001b[33m║\u001b[0m\n",
      "\u001b[33m║\u001b[0m \u001b[34m│\u001b[0m  Answer: Auburn Hills                                                                                       \u001b[34m│\u001b[0m \u001b[33m║\u001b[0m\n",
      "\u001b[33m║\u001b[0m \u001b[34m│\u001b[0m  ---                                                                                                        \u001b[34m│\u001b[0m \u001b[33m║\u001b[0m\n",
      "\u001b[33m║\u001b[0m \u001b[34m│\u001b[0m  \u001b[1;32mUser:\u001b[0m {answer}                                                                                             \u001b[34m│\u001b[0m \u001b[33m║\u001b[0m\n",
      "\u001b[33m║\u001b[0m \u001b[34m│\u001b[0m  ---                                                                                                        \u001b[34m│\u001b[0m \u001b[33m║\u001b[0m\n",
      "\u001b[33m║\u001b[0m \u001b[34m│\u001b[0m                                                                                                             \u001b[34m│\u001b[0m \u001b[33m║\u001b[0m\n",
      "\u001b[33m║\u001b[0m \u001b[34m╰─────────────────────────────────────────────────────────────────────────────────────────────────────────────╯\u001b[0m \u001b[33m║\u001b[0m\n",
      "\u001b[33m║\u001b[0m                                                                                                                 \u001b[33m║\u001b[0m\n",
      "\u001b[33m╚═════════════════════════════════════════════════════════════════════════════════════════════════════════════════╝\u001b[0m\n"
     ]
    }
   ],
   "source": [
    "result1.display()"
   ]
  },
  {
   "cell_type": "markdown",
   "metadata": {
    "id": "3_ppCUe6AGH8"
   },
   "source": [
    "What did we find? The result is a series of messages:"
   ]
  },
  {
   "cell_type": "code",
   "execution_count": 20,
   "metadata": {
    "colab": {
     "base_uri": "https://localhost:8080/"
    },
    "id": "o1nDwurG_2qL",
    "outputId": "e6f09261-5b80-48f8-ccb0-034370ac12cf"
   },
   "outputs": [
    {
     "data": {
      "text/plain": [
       "[{'role': 'system',\n",
       "  'content': 'Provide an answer to the question\\n\\n### Few Shot Examples\\nQuestion: What novel did an author who was featured in the Voices of Ghana and later became a journalist write?\\nAnswer: The Gab Boys\\n\\nQuestion: What were the dates of the campaign that eventually led to the Treaty of Roskilde?\\nAnswer: between 30 January and 8 February 1658\\n\\nQuestion: Are Wanding Town and Jiujiang, Guangdong both frontier towns?\\nAnswer: no\\n\\nQuestion: The Knicks–Nuggets was the most penalized on-court fight in the NBA since an altercation that occured in what city?\\nAnswer: Auburn Hills'},\n",
       " {'role': 'user', 'content': '{answer}'}]"
      ]
     },
     "execution_count": 20,
     "metadata": {},
     "output_type": "execute_result"
    }
   ],
   "source": [
    "result1.details[\"chat_messages\"]"
   ]
  },
  {
   "cell_type": "markdown",
   "metadata": {
    "id": "jwVDZcN1ALzU"
   },
   "source": [
    "We'll see how we can use those in a few minutes."
   ]
  },
  {
   "cell_type": "markdown",
   "metadata": {
    "id": "PjAeG6L8cdYj"
   },
   "source": [
    "## MetaPromptOptimizer\n",
    "\n",
    "The MetaPromptOptimizer uses a clever idea: have the LLM generate better prompts!\n",
    "\n",
    "Here is the internal system meta-prompt to have the LLM generate better prompts.\n",
    "\n",
    "```text\n",
    "You are an expert prompt engineer. Your task is to improve prompts for any type of task.\n",
    "\n",
    "Focus on making the prompt more effective by:\n",
    "\n",
    "1. Being clear and specific about what is expected\n",
    "2. Providing necessary context and constraints\n",
    "3. Guiding the model to produce the desired output format\n",
    "4. Removing ambiguity and unnecessary elements\n",
    "5. Maintaining conciseness while being complete\n",
    "\n",
    "Return a JSON array of prompts with the following structure:\n",
    "{\n",
    "    \"prompts\": [\n",
    "        {\n",
    "            \"prompt\": \"the improved prompt text\",\n",
    "            \"improvement_focus\": \"what aspect this prompt improves\",\n",
    "            \"reasoning\": \"why this improvement should help\"\n",
    "        }\n",
    "    ]\n",
    "}\n",
    "```\n",
    "\n",
    "This can work quite well on simpler datasets. It doesn't do so well on HotPot as we will see.\n",
    "\n",
    "The MetaPromptOptimizer will try a number of rounds to try to find the best prompt."
   ]
  },
  {
   "cell_type": "code",
   "execution_count": 21,
   "metadata": {
    "id": "2brgT9EGXDRW"
   },
   "outputs": [],
   "source": [
    "from opik_optimizer import (\n",
    "    MetaPromptOptimizer,\n",
    ")\n",
    "\n",
    "optimizer = MetaPromptOptimizer(\n",
    "    project_name=project_name,\n",
    "    model=\"openai/gpt-4o-mini\",  # Using gpt-4o-mini for evaluation for speed\n",
    "    max_rounds=1,  # Number of optimization rounds\n",
    "    num_prompts_per_round=2,  # Number of prompts to generate per round\n",
    "    improvement_threshold=0.01,  # Minimum improvement required to continue\n",
    "    temperature=0.1,  # Lower temperature for more focused responses\n",
    "    max_completion_tokens=5000,  # Maximum tokens for model completion\n",
    "    num_threads=1,  # Number of threads for parallel evaluation\n",
    "    subsample_size=20,  # Fixed subsample size\n",
    ")\n"
   ]
  },
  {
   "cell_type": "markdown",
   "metadata": {
    "id": "-RwrEfDCAZng"
   },
   "source": [
    "We won't do too many rounds, as this is an impossible problem without tools."
   ]
  },
  {
   "cell_type": "code",
   "execution_count": 22,
   "metadata": {
    "colab": {
     "base_uri": "https://localhost:8080/",
     "height": 1000,
     "referenced_widgets": []
    },
    "collapsed": true,
    "id": "S2JmhR9kavmn",
    "jupyter": {
     "outputs_hidden": true
    },
    "outputId": "94b9132c-6cae-4e44-cbca-432667385798"
   },
   "outputs": [
    {
     "name": "stdout",
     "output_type": "stream",
     "text": [
      "╭────────────────────────────────────────────────────────────────────╮\n",
      "│ \u001b[32m● \u001b[0mRunning Opik Evaluation - \u001b[34mMetaPromptOptimizer\u001b[0m                    │\n",
      "╰────────────────────────────────────────────────────────────────────╯\n",
      "\n",
      "\n",
      "> Let's optimize the prompt:\n",
      "\n",
      "\u001b[2m╭─\u001b[0m\u001b[2m system \u001b[0m\u001b[2m──────────────────────────────────────────────────────────\u001b[0m\u001b[2m─╮\u001b[0m\n",
      "\u001b[2m│\u001b[0m                                                                    \u001b[2m│\u001b[0m\n",
      "\u001b[2m│\u001b[0m  Provide an answer to the question                                 \u001b[2m│\u001b[0m\n",
      "\u001b[2m│\u001b[0m                                                                    \u001b[2m│\u001b[0m\n",
      "\u001b[2m╰────────────────────────────────────────────────────────────────────╯\u001b[0m\n",
      "\u001b[2m╭─\u001b[0m\u001b[2m user \u001b[0m\u001b[2m────────────────────────────────────────────────────────────\u001b[0m\u001b[2m─╮\u001b[0m\n",
      "\u001b[2m│\u001b[0m                                                                    \u001b[2m│\u001b[0m\n",
      "\u001b[2m│\u001b[0m  {answer}                                                          \u001b[2m│\u001b[0m\n",
      "\u001b[2m│\u001b[0m                                                                    \u001b[2m│\u001b[0m\n",
      "\u001b[2m╰────────────────────────────────────────────────────────────────────╯\u001b[0m\n",
      "\n",
      "Using MetaPromptOptimizer with the parameters: \n",
      "\u001b[2m  - n_samples: \u001b[0m\u001b[36m20\u001b[0m\n",
      "\u001b[2m  - auto_continue: \u001b[0m\u001b[36mFalse\u001b[0m\n",
      "\n",
      "\n",
      "> First we will establish the baseline performance:\n",
      "\u001b[32m  Baseline score was: 0.0719.\u001b[0m\n",
      "\n",
      "> Starting the optimization run\n",
      "│\n",
      "│ - Starting optimization round 1 of 3\n",
      "│    Generating candidate prompts:\n",
      "\u001b[2m│      Successfully generated 2 candidate prompts\u001b[0m\n",
      "│\n",
      "│    Evaluating candidate prompt 1:\n",
      "│         \u001b[2m╭─\u001b[0m\u001b[2m system \u001b[0m\u001b[2m──────────────────────────────────────────────────────────\u001b[0m\u001b[2m─╮\u001b[0m\n",
      "│         \u001b[2m│\u001b[0m                                                                    \u001b[2m│\u001b[0m\n",
      "│         \u001b[2m│\u001b[0m  Provide a concise and accurate answer to the question based on    \u001b[2m│\u001b[0m\n",
      "│         \u001b[2m│\u001b[0m  the provided context.                                             \u001b[2m│\u001b[0m\n",
      "│         \u001b[2m│\u001b[0m                                                                    \u001b[2m│\u001b[0m\n",
      "│         \u001b[2m╰────────────────────────────────────────────────────────────────────╯\u001b[0m\n",
      "│         \u001b[2m╭─\u001b[0m\u001b[2m user \u001b[0m\u001b[2m────────────────────────────────────────────────────────────\u001b[0m\u001b[2m─╮\u001b[0m\n",
      "│         \u001b[2m│\u001b[0m                                                                    \u001b[2m│\u001b[0m\n",
      "│         \u001b[2m│\u001b[0m  Question: {question}. Answer:                                     \u001b[2m│\u001b[0m\n",
      "│         \u001b[2m│\u001b[0m                                                                    \u001b[2m│\u001b[0m\n",
      "│         \u001b[2m╰────────────────────────────────────────────────────────────────────╯\u001b[0m\n",
      "\u001b[32m│          Evaluation score: 0.2622 (264.58%)\u001b[0m\n",
      "│\n",
      "│\n",
      "│    Evaluating candidate prompt 2:\n",
      "│         \u001b[2m╭─\u001b[0m\u001b[2m system \u001b[0m\u001b[2m──────────────────────────────────────────────────────────\u001b[0m\u001b[2m─╮\u001b[0m\n",
      "│         \u001b[2m│\u001b[0m                                                                    \u001b[2m│\u001b[0m\n",
      "│         \u001b[2m│\u001b[0m  Respond with a direct answer to the question, ensuring it         \u001b[2m│\u001b[0m\n",
      "│         \u001b[2m│\u001b[0m  matches the expected format of 'yes' or 'no' if applicable.       \u001b[2m│\u001b[0m\n",
      "│         \u001b[2m│\u001b[0m                                                                    \u001b[2m│\u001b[0m\n",
      "│         \u001b[2m╰────────────────────────────────────────────────────────────────────╯\u001b[0m\n",
      "│         \u001b[2m╭─\u001b[0m\u001b[2m user \u001b[0m\u001b[2m────────────────────────────────────────────────────────────\u001b[0m\u001b[2m─╮\u001b[0m\n",
      "│         \u001b[2m│\u001b[0m                                                                    \u001b[2m│\u001b[0m\n",
      "│         \u001b[2m│\u001b[0m  Given the question: {question}, please provide your answer:       \u001b[2m│\u001b[0m\n",
      "│         \u001b[2m│\u001b[0m                                                                    \u001b[2m│\u001b[0m\n",
      "│         \u001b[2m╰────────────────────────────────────────────────────────────────────╯\u001b[0m\n"
     ]
    },
    {
     "ename": "KeyboardInterrupt",
     "evalue": "",
     "output_type": "error",
     "traceback": [
      "\u001b[0;31m---------------------------------------------------------------------------\u001b[0m",
      "\u001b[0;31mKeyboardInterrupt\u001b[0m                         Traceback (most recent call last)",
      "Cell \u001b[0;32mIn[22], line 1\u001b[0m\n\u001b[0;32m----> 1\u001b[0m result2 \u001b[38;5;241m=\u001b[39m \u001b[43moptimizer\u001b[49m\u001b[38;5;241;43m.\u001b[39;49m\u001b[43moptimize_prompt\u001b[49m\u001b[43m(\u001b[49m\n\u001b[1;32m      2\u001b[0m \u001b[43m    \u001b[49m\u001b[43mprompt\u001b[49m\u001b[38;5;241;43m=\u001b[39;49m\u001b[43minitial_prompt\u001b[49m\u001b[43m,\u001b[49m\n\u001b[1;32m      3\u001b[0m \u001b[43m    \u001b[49m\u001b[43mdataset\u001b[49m\u001b[38;5;241;43m=\u001b[39;49m\u001b[43mopik_dataset\u001b[49m\u001b[43m,\u001b[49m\n\u001b[1;32m      4\u001b[0m \u001b[43m    \u001b[49m\u001b[43mmetric\u001b[49m\u001b[38;5;241;43m=\u001b[39;49m\u001b[43mlevenshtein_ratio\u001b[49m\u001b[43m,\u001b[49m\n\u001b[1;32m      5\u001b[0m \u001b[43m    \u001b[49m\u001b[43mauto_continue\u001b[49m\u001b[38;5;241;43m=\u001b[39;49m\u001b[38;5;28;43;01mFalse\u001b[39;49;00m\u001b[43m,\u001b[49m\n\u001b[1;32m      6\u001b[0m \u001b[43m    \u001b[49m\u001b[43mn_samples\u001b[49m\u001b[38;5;241;43m=\u001b[39;49m\u001b[38;5;241;43m20\u001b[39;49m\u001b[43m,\u001b[49m\u001b[43m  \u001b[49m\u001b[38;5;66;43;03m# Explicitly set\u001b[39;49;00m\n\u001b[1;32m      7\u001b[0m \u001b[43m    \u001b[49m\u001b[43muse_subsample\u001b[49m\u001b[38;5;241;43m=\u001b[39;49m\u001b[38;5;28;43;01mTrue\u001b[39;49;00m\u001b[43m,\u001b[49m\u001b[43m  \u001b[49m\u001b[38;5;66;43;03m# Force using subsample for evaluation rounds\u001b[39;49;00m\n\u001b[1;32m      8\u001b[0m \u001b[43m)\u001b[49m\n",
      "File \u001b[0;32m~/Documents/code/opik/sdks/opik_optimizer/src/opik_optimizer/meta_prompt_optimizer/meta_prompt_optimizer.py:376\u001b[0m, in \u001b[0;36mMetaPromptOptimizer.optimize_prompt\u001b[0;34m(self, prompt, dataset, metric, experiment_config, n_samples, auto_continue, **kwargs)\u001b[0m\n\u001b[1;32m    373\u001b[0m     optimization \u001b[38;5;241m=\u001b[39m \u001b[38;5;28;01mNone\u001b[39;00m\n\u001b[1;32m    375\u001b[0m \u001b[38;5;28;01mtry\u001b[39;00m:\n\u001b[0;32m--> 376\u001b[0m     result \u001b[38;5;241m=\u001b[39m \u001b[38;5;28;43mself\u001b[39;49m\u001b[38;5;241;43m.\u001b[39;49m\u001b[43m_optimize_prompt\u001b[49m\u001b[43m(\u001b[49m\n\u001b[1;32m    377\u001b[0m \u001b[43m        \u001b[49m\u001b[43moptimization_id\u001b[49m\u001b[38;5;241;43m=\u001b[39;49m\u001b[43moptimization\u001b[49m\u001b[38;5;241;43m.\u001b[39;49m\u001b[43mid\u001b[49m\u001b[43m \u001b[49m\u001b[38;5;28;43;01mif\u001b[39;49;00m\u001b[43m \u001b[49m\u001b[43moptimization\u001b[49m\u001b[43m \u001b[49m\u001b[38;5;129;43;01mis\u001b[39;49;00m\u001b[43m \u001b[49m\u001b[38;5;129;43;01mnot\u001b[39;49;00m\u001b[43m \u001b[49m\u001b[38;5;28;43;01mNone\u001b[39;49;00m\u001b[43m \u001b[49m\u001b[38;5;28;43;01melse\u001b[39;49;00m\u001b[43m \u001b[49m\u001b[38;5;28;43;01mNone\u001b[39;49;00m\u001b[43m,\u001b[49m\n\u001b[1;32m    378\u001b[0m \u001b[43m        \u001b[49m\u001b[43mprompt\u001b[49m\u001b[38;5;241;43m=\u001b[39;49m\u001b[43mprompt\u001b[49m\u001b[43m,\u001b[49m\n\u001b[1;32m    379\u001b[0m \u001b[43m        \u001b[49m\u001b[43mdataset\u001b[49m\u001b[38;5;241;43m=\u001b[39;49m\u001b[43mdataset\u001b[49m\u001b[43m,\u001b[49m\n\u001b[1;32m    380\u001b[0m \u001b[43m        \u001b[49m\u001b[43mmetric\u001b[49m\u001b[38;5;241;43m=\u001b[39;49m\u001b[43mmetric\u001b[49m\u001b[43m,\u001b[49m\n\u001b[1;32m    381\u001b[0m \u001b[43m        \u001b[49m\u001b[43mexperiment_config\u001b[49m\u001b[38;5;241;43m=\u001b[39;49m\u001b[43mexperiment_config\u001b[49m\u001b[43m,\u001b[49m\n\u001b[1;32m    382\u001b[0m \u001b[43m        \u001b[49m\u001b[43mn_samples\u001b[49m\u001b[38;5;241;43m=\u001b[39;49m\u001b[43mn_samples\u001b[49m\u001b[43m,\u001b[49m\n\u001b[1;32m    383\u001b[0m \u001b[43m        \u001b[49m\u001b[43mauto_continue\u001b[49m\u001b[38;5;241;43m=\u001b[39;49m\u001b[43mauto_continue\u001b[49m\u001b[43m,\u001b[49m\n\u001b[1;32m    384\u001b[0m \u001b[43m        \u001b[49m\u001b[38;5;241;43m*\u001b[39;49m\u001b[38;5;241;43m*\u001b[39;49m\u001b[43mkwargs\u001b[49m\u001b[43m,\u001b[49m\n\u001b[1;32m    385\u001b[0m \u001b[43m    \u001b[49m\u001b[43m)\u001b[49m\n\u001b[1;32m    386\u001b[0m     \u001b[38;5;28;01mif\u001b[39;00m optimization:\n\u001b[1;32m    387\u001b[0m         \u001b[38;5;28mself\u001b[39m\u001b[38;5;241m.\u001b[39mupdate_optimization(optimization, status\u001b[38;5;241m=\u001b[39m\u001b[38;5;124m\"\u001b[39m\u001b[38;5;124mcompleted\u001b[39m\u001b[38;5;124m\"\u001b[39m)\n",
      "File \u001b[0;32m~/Documents/code/opik/sdks/opik_optimizer/src/opik_optimizer/meta_prompt_optimizer/meta_prompt_optimizer.py:474\u001b[0m, in \u001b[0;36mMetaPromptOptimizer._optimize_prompt\u001b[0;34m(self, optimization_id, prompt, dataset, metric, experiment_config, n_samples, auto_continue, **kwargs)\u001b[0m\n\u001b[1;32m    471\u001b[0m eval_report\u001b[38;5;241m.\u001b[39mset_generated_prompts(candidate_count, prompt)\n\u001b[1;32m    473\u001b[0m \u001b[38;5;28;01mtry\u001b[39;00m:\n\u001b[0;32m--> 474\u001b[0m     prompt_score \u001b[38;5;241m=\u001b[39m \u001b[38;5;28;43mself\u001b[39;49m\u001b[38;5;241;43m.\u001b[39;49m\u001b[43mevaluate_prompt\u001b[49m\u001b[43m(\u001b[49m\n\u001b[1;32m    475\u001b[0m \u001b[43m        \u001b[49m\u001b[43mprompt\u001b[49m\u001b[38;5;241;43m=\u001b[39;49m\u001b[43mchat_prompt\u001b[49m\u001b[38;5;241;43m.\u001b[39;49m\u001b[43mChatPrompt\u001b[49m\u001b[43m(\u001b[49m\u001b[43mmessages\u001b[49m\u001b[38;5;241;43m=\u001b[39;49m\u001b[43mprompt\u001b[49m\u001b[43m)\u001b[49m\u001b[43m,\u001b[49m\n\u001b[1;32m    476\u001b[0m \u001b[43m        \u001b[49m\u001b[43moptimization_id\u001b[49m\u001b[38;5;241;43m=\u001b[39;49m\u001b[43moptimization_id\u001b[49m\u001b[43m,\u001b[49m\n\u001b[1;32m    477\u001b[0m \u001b[43m        \u001b[49m\u001b[43mdataset\u001b[49m\u001b[38;5;241;43m=\u001b[39;49m\u001b[43mdataset\u001b[49m\u001b[43m,\u001b[49m\n\u001b[1;32m    478\u001b[0m \u001b[43m        \u001b[49m\u001b[43mmetric\u001b[49m\u001b[38;5;241;43m=\u001b[39;49m\u001b[43mmetric\u001b[49m\u001b[43m,\u001b[49m\n\u001b[1;32m    479\u001b[0m \u001b[43m        \u001b[49m\u001b[43mn_samples\u001b[49m\u001b[38;5;241;43m=\u001b[39;49m\u001b[43mn_samples\u001b[49m\u001b[43m,\u001b[49m\n\u001b[1;32m    480\u001b[0m \u001b[43m        \u001b[49m\u001b[43muse_full_dataset\u001b[49m\u001b[38;5;241;43m=\u001b[39;49m\u001b[38;5;28;43;01mFalse\u001b[39;49;00m\u001b[43m,\u001b[49m\n\u001b[1;32m    481\u001b[0m \u001b[43m        \u001b[49m\u001b[43mexperiment_config\u001b[49m\u001b[38;5;241;43m=\u001b[39;49m\u001b[43mexperiment_config\u001b[49m\u001b[43m,\u001b[49m\n\u001b[1;32m    482\u001b[0m \u001b[43m        \u001b[49m\u001b[43mverbose\u001b[49m\u001b[38;5;241;43m=\u001b[39;49m\u001b[38;5;28;43mself\u001b[39;49m\u001b[38;5;241;43m.\u001b[39;49m\u001b[43mverbose\u001b[49m\u001b[43m,\u001b[49m\n\u001b[1;32m    483\u001b[0m \u001b[43m    \u001b[49m\u001b[43m)\u001b[49m\n\u001b[1;32m    485\u001b[0m     eval_report\u001b[38;5;241m.\u001b[39mset_final_score(best_score, prompt_score)\n\u001b[1;32m    486\u001b[0m \u001b[38;5;28;01mexcept\u001b[39;00m \u001b[38;5;167;01mException\u001b[39;00m \u001b[38;5;28;01mas\u001b[39;00m e:\n",
      "File \u001b[0;32m~/Documents/code/opik/sdks/opik_optimizer/src/opik_optimizer/meta_prompt_optimizer/meta_prompt_optimizer.py:303\u001b[0m, in \u001b[0;36mMetaPromptOptimizer.evaluate_prompt\u001b[0;34m(self, prompt, dataset, metric, use_full_dataset, experiment_config, n_samples, optimization_id, verbose)\u001b[0m\n\u001b[1;32m    299\u001b[0m \u001b[38;5;66;03m# Use dataset's get_items with limit for sampling\u001b[39;00m\n\u001b[1;32m    300\u001b[0m logger\u001b[38;5;241m.\u001b[39mdebug(\n\u001b[1;32m    301\u001b[0m     \u001b[38;5;124mf\u001b[39m\u001b[38;5;124m\"\u001b[39m\u001b[38;5;124mStarting evaluation with \u001b[39m\u001b[38;5;132;01m{\u001b[39;00msubset_size\u001b[38;5;250m \u001b[39m\u001b[38;5;28;01mif\u001b[39;00m\u001b[38;5;250m \u001b[39msubset_size\u001b[38;5;250m \u001b[39m\u001b[38;5;28;01melse\u001b[39;00m\u001b[38;5;250m \u001b[39m\u001b[38;5;124m'\u001b[39m\u001b[38;5;124mall\u001b[39m\u001b[38;5;124m'\u001b[39m\u001b[38;5;132;01m}\u001b[39;00m\u001b[38;5;124m samples for metric: \u001b[39m\u001b[38;5;132;01m{\u001b[39;00mmetric\u001b[38;5;241m.\u001b[39m\u001b[38;5;18m__name__\u001b[39m\u001b[38;5;132;01m}\u001b[39;00m\u001b[38;5;124m\"\u001b[39m\n\u001b[1;32m    302\u001b[0m )\n\u001b[0;32m--> 303\u001b[0m score \u001b[38;5;241m=\u001b[39m \u001b[43mtask_evaluator\u001b[49m\u001b[38;5;241;43m.\u001b[39;49m\u001b[43mevaluate\u001b[49m\u001b[43m(\u001b[49m\n\u001b[1;32m    304\u001b[0m \u001b[43m    \u001b[49m\u001b[43mdataset\u001b[49m\u001b[38;5;241;43m=\u001b[39;49m\u001b[43mdataset\u001b[49m\u001b[43m,\u001b[49m\n\u001b[1;32m    305\u001b[0m \u001b[43m    \u001b[49m\u001b[43mmetric\u001b[49m\u001b[38;5;241;43m=\u001b[39;49m\u001b[43mmetric\u001b[49m\u001b[43m,\u001b[49m\n\u001b[1;32m    306\u001b[0m \u001b[43m    \u001b[49m\u001b[43mevaluated_task\u001b[49m\u001b[38;5;241;43m=\u001b[39;49m\u001b[43mllm_task\u001b[49m\u001b[43m,\u001b[49m\n\u001b[1;32m    307\u001b[0m \u001b[43m    \u001b[49m\u001b[43mnum_threads\u001b[49m\u001b[38;5;241;43m=\u001b[39;49m\u001b[38;5;28;43mself\u001b[39;49m\u001b[38;5;241;43m.\u001b[39;49m\u001b[43mnum_threads\u001b[49m\u001b[43m,\u001b[49m\n\u001b[1;32m    308\u001b[0m \u001b[43m    \u001b[49m\u001b[43mproject_name\u001b[49m\u001b[38;5;241;43m=\u001b[39;49m\u001b[38;5;28;43mself\u001b[39;49m\u001b[38;5;241;43m.\u001b[39;49m\u001b[43mproject_name\u001b[49m\u001b[43m,\u001b[49m\n\u001b[1;32m    309\u001b[0m \u001b[43m    \u001b[49m\u001b[43mn_samples\u001b[49m\u001b[38;5;241;43m=\u001b[39;49m\u001b[43msubset_size\u001b[49m\u001b[43m,\u001b[49m\u001b[43m  \u001b[49m\u001b[38;5;66;43;03m# Use subset_size for trials, None for full dataset\u001b[39;49;00m\n\u001b[1;32m    310\u001b[0m \u001b[43m    \u001b[49m\u001b[43mexperiment_config\u001b[49m\u001b[38;5;241;43m=\u001b[39;49m\u001b[43mexperiment_config\u001b[49m\u001b[43m,\u001b[49m\n\u001b[1;32m    311\u001b[0m \u001b[43m    \u001b[49m\u001b[43moptimization_id\u001b[49m\u001b[38;5;241;43m=\u001b[39;49m\u001b[43moptimization_id\u001b[49m\u001b[43m,\u001b[49m\n\u001b[1;32m    312\u001b[0m \u001b[43m    \u001b[49m\u001b[43mverbose\u001b[49m\u001b[38;5;241;43m=\u001b[39;49m\u001b[38;5;28;43mself\u001b[39;49m\u001b[38;5;241;43m.\u001b[39;49m\u001b[43mverbose\u001b[49m\u001b[43m,\u001b[49m\n\u001b[1;32m    313\u001b[0m \u001b[43m\u001b[49m\u001b[43m)\u001b[49m\n\u001b[1;32m    314\u001b[0m logger\u001b[38;5;241m.\u001b[39mdebug(\u001b[38;5;124mf\u001b[39m\u001b[38;5;124m\"\u001b[39m\u001b[38;5;124mEvaluation score: \u001b[39m\u001b[38;5;132;01m{\u001b[39;00mscore\u001b[38;5;132;01m:\u001b[39;00m\u001b[38;5;124m.4f\u001b[39m\u001b[38;5;132;01m}\u001b[39;00m\u001b[38;5;124m\"\u001b[39m)\n\u001b[1;32m    315\u001b[0m \u001b[38;5;28;01mreturn\u001b[39;00m score\n",
      "File \u001b[0;32m~/Documents/code/opik/sdks/opik_optimizer/src/opik_optimizer/task_evaluator.py:76\u001b[0m, in \u001b[0;36mevaluate\u001b[0;34m(dataset, evaluated_task, metric, num_threads, optimization_id, dataset_item_ids, project_name, n_samples, experiment_config, verbose)\u001b[0m\n\u001b[1;32m     73\u001b[0m eval_metrics \u001b[38;5;241m=\u001b[39m [_create_metric_class(metric)]\n\u001b[1;32m     75\u001b[0m \u001b[38;5;28;01mif\u001b[39;00m optimization_id \u001b[38;5;129;01mis\u001b[39;00m \u001b[38;5;129;01mnot\u001b[39;00m \u001b[38;5;28;01mNone\u001b[39;00m:\n\u001b[0;32m---> 76\u001b[0m     result \u001b[38;5;241m=\u001b[39m \u001b[43mopik_evaluator\u001b[49m\u001b[38;5;241;43m.\u001b[39;49m\u001b[43mevaluate_optimization_trial\u001b[49m\u001b[43m(\u001b[49m\n\u001b[1;32m     77\u001b[0m \u001b[43m        \u001b[49m\u001b[43moptimization_id\u001b[49m\u001b[38;5;241;43m=\u001b[39;49m\u001b[43moptimization_id\u001b[49m\u001b[43m,\u001b[49m\n\u001b[1;32m     78\u001b[0m \u001b[43m        \u001b[49m\u001b[43mdataset\u001b[49m\u001b[38;5;241;43m=\u001b[39;49m\u001b[43mdataset\u001b[49m\u001b[43m,\u001b[49m\n\u001b[1;32m     79\u001b[0m \u001b[43m        \u001b[49m\u001b[43mtask\u001b[49m\u001b[38;5;241;43m=\u001b[39;49m\u001b[43mevaluated_task\u001b[49m\u001b[43m,\u001b[49m\n\u001b[1;32m     80\u001b[0m \u001b[43m        \u001b[49m\u001b[43mproject_name\u001b[49m\u001b[38;5;241;43m=\u001b[39;49m\u001b[43mproject_name\u001b[49m\u001b[43m,\u001b[49m\n\u001b[1;32m     81\u001b[0m \u001b[43m        \u001b[49m\u001b[43mdataset_item_ids\u001b[49m\u001b[38;5;241;43m=\u001b[39;49m\u001b[43mdataset_item_ids\u001b[49m\u001b[43m,\u001b[49m\n\u001b[1;32m     82\u001b[0m \u001b[43m        \u001b[49m\u001b[43mscoring_metrics\u001b[49m\u001b[38;5;241;43m=\u001b[39;49m\u001b[43meval_metrics\u001b[49m\u001b[43m,\u001b[49m\n\u001b[1;32m     83\u001b[0m \u001b[43m        \u001b[49m\u001b[43mtask_threads\u001b[49m\u001b[38;5;241;43m=\u001b[39;49m\u001b[43mnum_threads\u001b[49m\u001b[43m,\u001b[49m\n\u001b[1;32m     84\u001b[0m \u001b[43m        \u001b[49m\u001b[43mnb_samples\u001b[49m\u001b[38;5;241;43m=\u001b[39;49m\u001b[43mn_samples\u001b[49m\u001b[43m,\u001b[49m\n\u001b[1;32m     85\u001b[0m \u001b[43m        \u001b[49m\u001b[43mexperiment_config\u001b[49m\u001b[38;5;241;43m=\u001b[39;49m\u001b[43mexperiment_config\u001b[49m\u001b[43m,\u001b[49m\n\u001b[1;32m     86\u001b[0m \u001b[43m        \u001b[49m\u001b[43mverbose\u001b[49m\u001b[38;5;241;43m=\u001b[39;49m\u001b[43mverbose\u001b[49m\u001b[43m,\u001b[49m\n\u001b[1;32m     87\u001b[0m \u001b[43m    \u001b[49m\u001b[43m)\u001b[49m\n\u001b[1;32m     88\u001b[0m \u001b[38;5;28;01melse\u001b[39;00m:\n\u001b[1;32m     89\u001b[0m     result \u001b[38;5;241m=\u001b[39m opik_evaluator\u001b[38;5;241m.\u001b[39mevaluate(\n\u001b[1;32m     90\u001b[0m         dataset\u001b[38;5;241m=\u001b[39mdataset,\n\u001b[1;32m     91\u001b[0m         task\u001b[38;5;241m=\u001b[39mevaluated_task,\n\u001b[0;32m   (...)\u001b[0m\n\u001b[1;32m     98\u001b[0m         verbose\u001b[38;5;241m=\u001b[39mverbose,\n\u001b[1;32m     99\u001b[0m     )\n",
      "File \u001b[0;32m~/Documents/code/opik/sdks/python/src/opik/evaluation/evaluator.py:471\u001b[0m, in \u001b[0;36mevaluate_optimization_trial\u001b[0;34m(optimization_id, dataset, task, scoring_metrics, experiment_name, project_name, experiment_config, verbose, nb_samples, task_threads, prompt, prompts, scoring_key_mapping, dataset_item_ids)\u001b[0m\n\u001b[1;32m    460\u001b[0m client \u001b[38;5;241m=\u001b[39m opik_client\u001b[38;5;241m.\u001b[39mget_client_cached()\n\u001b[1;32m    462\u001b[0m experiment \u001b[38;5;241m=\u001b[39m client\u001b[38;5;241m.\u001b[39mcreate_experiment(\n\u001b[1;32m    463\u001b[0m     name\u001b[38;5;241m=\u001b[39mexperiment_name,\n\u001b[1;32m    464\u001b[0m     dataset_name\u001b[38;5;241m=\u001b[39mdataset\u001b[38;5;241m.\u001b[39mname,\n\u001b[0;32m   (...)\u001b[0m\n\u001b[1;32m    468\u001b[0m     optimization_id\u001b[38;5;241m=\u001b[39moptimization_id,\n\u001b[1;32m    469\u001b[0m )\n\u001b[0;32m--> 471\u001b[0m \u001b[38;5;28;01mreturn\u001b[39;00m \u001b[43m_evaluate_task\u001b[49m\u001b[43m(\u001b[49m\n\u001b[1;32m    472\u001b[0m \u001b[43m    \u001b[49m\u001b[43mclient\u001b[49m\u001b[38;5;241;43m=\u001b[39;49m\u001b[43mclient\u001b[49m\u001b[43m,\u001b[49m\n\u001b[1;32m    473\u001b[0m \u001b[43m    \u001b[49m\u001b[43mexperiment\u001b[49m\u001b[38;5;241;43m=\u001b[39;49m\u001b[43mexperiment\u001b[49m\u001b[43m,\u001b[49m\n\u001b[1;32m    474\u001b[0m \u001b[43m    \u001b[49m\u001b[43mdataset\u001b[49m\u001b[38;5;241;43m=\u001b[39;49m\u001b[43mdataset\u001b[49m\u001b[43m,\u001b[49m\n\u001b[1;32m    475\u001b[0m \u001b[43m    \u001b[49m\u001b[43mtask\u001b[49m\u001b[38;5;241;43m=\u001b[39;49m\u001b[43mtask\u001b[49m\u001b[43m,\u001b[49m\n\u001b[1;32m    476\u001b[0m \u001b[43m    \u001b[49m\u001b[43mscoring_metrics\u001b[49m\u001b[38;5;241;43m=\u001b[39;49m\u001b[43mscoring_metrics\u001b[49m\u001b[43m,\u001b[49m\n\u001b[1;32m    477\u001b[0m \u001b[43m    \u001b[49m\u001b[43mproject_name\u001b[49m\u001b[38;5;241;43m=\u001b[39;49m\u001b[43mproject_name\u001b[49m\u001b[43m,\u001b[49m\n\u001b[1;32m    478\u001b[0m \u001b[43m    \u001b[49m\u001b[43mverbose\u001b[49m\u001b[38;5;241;43m=\u001b[39;49m\u001b[43mverbose\u001b[49m\u001b[43m,\u001b[49m\n\u001b[1;32m    479\u001b[0m \u001b[43m    \u001b[49m\u001b[43mnb_samples\u001b[49m\u001b[38;5;241;43m=\u001b[39;49m\u001b[43mnb_samples\u001b[49m\u001b[43m,\u001b[49m\n\u001b[1;32m    480\u001b[0m \u001b[43m    \u001b[49m\u001b[43mtask_threads\u001b[49m\u001b[38;5;241;43m=\u001b[39;49m\u001b[43mtask_threads\u001b[49m\u001b[43m,\u001b[49m\n\u001b[1;32m    481\u001b[0m \u001b[43m    \u001b[49m\u001b[43mscoring_key_mapping\u001b[49m\u001b[38;5;241;43m=\u001b[39;49m\u001b[43mscoring_key_mapping\u001b[49m\u001b[43m,\u001b[49m\n\u001b[1;32m    482\u001b[0m \u001b[43m    \u001b[49m\u001b[43mdataset_item_ids\u001b[49m\u001b[38;5;241;43m=\u001b[39;49m\u001b[43mdataset_item_ids\u001b[49m\u001b[43m,\u001b[49m\n\u001b[1;32m    483\u001b[0m \u001b[43m\u001b[49m\u001b[43m)\u001b[49m\n",
      "File \u001b[0;32m~/Documents/code/opik/sdks/python/src/opik/evaluation/evaluator.py:153\u001b[0m, in \u001b[0;36m_evaluate_task\u001b[0;34m(client, experiment, dataset, task, scoring_metrics, project_name, verbose, nb_samples, task_threads, scoring_key_mapping, dataset_item_ids)\u001b[0m\n\u001b[1;32m    145\u001b[0m     report\u001b[38;5;241m.\u001b[39mdisplay_experiment_results(dataset\u001b[38;5;241m.\u001b[39mname, total_time, test_results)\n\u001b[1;32m    147\u001b[0m report\u001b[38;5;241m.\u001b[39mdisplay_experiment_link(\n\u001b[1;32m    148\u001b[0m     experiment_id\u001b[38;5;241m=\u001b[39mexperiment\u001b[38;5;241m.\u001b[39mid,\n\u001b[1;32m    149\u001b[0m     dataset_id\u001b[38;5;241m=\u001b[39mdataset\u001b[38;5;241m.\u001b[39mid,\n\u001b[1;32m    150\u001b[0m     url_override\u001b[38;5;241m=\u001b[39mclient\u001b[38;5;241m.\u001b[39mconfig\u001b[38;5;241m.\u001b[39murl_override,\n\u001b[1;32m    151\u001b[0m )\n\u001b[0;32m--> 153\u001b[0m \u001b[43mclient\u001b[49m\u001b[38;5;241;43m.\u001b[39;49m\u001b[43mflush\u001b[49m\u001b[43m(\u001b[49m\u001b[43m)\u001b[49m\n\u001b[1;32m    155\u001b[0m evaluation_result_ \u001b[38;5;241m=\u001b[39m evaluation_result\u001b[38;5;241m.\u001b[39mEvaluationResult(\n\u001b[1;32m    156\u001b[0m     experiment_id\u001b[38;5;241m=\u001b[39mexperiment\u001b[38;5;241m.\u001b[39mid,\n\u001b[1;32m    157\u001b[0m     experiment_name\u001b[38;5;241m=\u001b[39mexperiment\u001b[38;5;241m.\u001b[39mname,\n\u001b[1;32m    158\u001b[0m     test_results\u001b[38;5;241m=\u001b[39mtest_results,\n\u001b[1;32m    159\u001b[0m )\n\u001b[1;32m    161\u001b[0m \u001b[38;5;28;01mreturn\u001b[39;00m evaluation_result_\n",
      "File \u001b[0;32m~/Documents/code/opik/sdks/python/src/opik/api_objects/opik_client.py:885\u001b[0m, in \u001b[0;36mOpik.flush\u001b[0;34m(self, timeout)\u001b[0m\n\u001b[1;32m    875\u001b[0m \u001b[38;5;250m\u001b[39m\u001b[38;5;124;03m\"\"\"\u001b[39;00m\n\u001b[1;32m    876\u001b[0m \u001b[38;5;124;03mFlush the streamer to ensure all messages are sent.\u001b[39;00m\n\u001b[1;32m    877\u001b[0m \n\u001b[0;32m   (...)\u001b[0m\n\u001b[1;32m    882\u001b[0m \u001b[38;5;124;03m    True if all messages have been sent within specified timeout, False otherwise.\u001b[39;00m\n\u001b[1;32m    883\u001b[0m \u001b[38;5;124;03m\"\"\"\u001b[39;00m\n\u001b[1;32m    884\u001b[0m timeout \u001b[38;5;241m=\u001b[39m timeout \u001b[38;5;28;01mif\u001b[39;00m timeout \u001b[38;5;129;01mis\u001b[39;00m \u001b[38;5;129;01mnot\u001b[39;00m \u001b[38;5;28;01mNone\u001b[39;00m \u001b[38;5;28;01melse\u001b[39;00m \u001b[38;5;28mself\u001b[39m\u001b[38;5;241m.\u001b[39m_flush_timeout\n\u001b[0;32m--> 885\u001b[0m \u001b[38;5;28;01mreturn\u001b[39;00m \u001b[38;5;28;43mself\u001b[39;49m\u001b[38;5;241;43m.\u001b[39;49m\u001b[43m_streamer\u001b[49m\u001b[38;5;241;43m.\u001b[39;49m\u001b[43mflush\u001b[49m\u001b[43m(\u001b[49m\u001b[43mtimeout\u001b[49m\u001b[43m)\u001b[49m\n",
      "File \u001b[0;32m~/Documents/code/opik/sdks/python/src/opik/message_processing/streamer.py:78\u001b[0m, in \u001b[0;36mStreamer.flush\u001b[0;34m(self, timeout, upload_sleep_time)\u001b[0m\n\u001b[1;32m     74\u001b[0m     \u001b[38;5;28mself\u001b[39m\u001b[38;5;241m.\u001b[39m_batch_manager\u001b[38;5;241m.\u001b[39mflush()\n\u001b[1;32m     76\u001b[0m start_time \u001b[38;5;241m=\u001b[39m time\u001b[38;5;241m.\u001b[39mtime()\n\u001b[0;32m---> 78\u001b[0m \u001b[43msynchronization\u001b[49m\u001b[38;5;241;43m.\u001b[39;49m\u001b[43mwait_for_done\u001b[49m\u001b[43m(\u001b[49m\n\u001b[1;32m     79\u001b[0m \u001b[43m    \u001b[49m\u001b[43mcheck_function\u001b[49m\u001b[38;5;241;43m=\u001b[39;49m\u001b[38;5;28;43;01mlambda\u001b[39;49;00m\u001b[43m:\u001b[49m\u001b[43m \u001b[49m\u001b[38;5;28;43mself\u001b[39;49m\u001b[38;5;241;43m.\u001b[39;49m\u001b[43m_all_done\u001b[49m\u001b[43m(\u001b[49m\u001b[43m)\u001b[49m\u001b[43m,\u001b[49m\n\u001b[1;32m     80\u001b[0m \u001b[43m    \u001b[49m\u001b[43mtimeout\u001b[49m\u001b[38;5;241;43m=\u001b[39;49m\u001b[43mtimeout\u001b[49m\u001b[43m,\u001b[49m\n\u001b[1;32m     81\u001b[0m \u001b[43m    \u001b[49m\u001b[43msleep_time\u001b[49m\u001b[38;5;241;43m=\u001b[39;49m\u001b[38;5;241;43m0.1\u001b[39;49m\u001b[43m,\u001b[49m\n\u001b[1;32m     82\u001b[0m \u001b[43m\u001b[49m\u001b[43m)\u001b[49m\n\u001b[1;32m     84\u001b[0m elapsed_time \u001b[38;5;241m=\u001b[39m time\u001b[38;5;241m.\u001b[39mtime() \u001b[38;5;241m-\u001b[39m start_time\n\u001b[1;32m     85\u001b[0m \u001b[38;5;28;01mif\u001b[39;00m timeout \u001b[38;5;129;01mis\u001b[39;00m \u001b[38;5;129;01mnot\u001b[39;00m \u001b[38;5;28;01mNone\u001b[39;00m:\n",
      "File \u001b[0;32m~/Documents/code/opik/sdks/python/src/opik/synchronization.py:27\u001b[0m, in \u001b[0;36mwait_for_done\u001b[0;34m(check_function, timeout, progress_callback, sleep_time)\u001b[0m\n\u001b[1;32m     25\u001b[0m end_sleep_time \u001b[38;5;241m=\u001b[39m time\u001b[38;5;241m.\u001b[39mtime() \u001b[38;5;241m+\u001b[39m sleep_time\n\u001b[1;32m     26\u001b[0m \u001b[38;5;28;01mwhile\u001b[39;00m check_function() \u001b[38;5;129;01mis\u001b[39;00m \u001b[38;5;28;01mFalse\u001b[39;00m \u001b[38;5;129;01mand\u001b[39;00m time\u001b[38;5;241m.\u001b[39mtime() \u001b[38;5;241m<\u001b[39m end_sleep_time:\n\u001b[0;32m---> 27\u001b[0m     \u001b[43mtime\u001b[49m\u001b[38;5;241;43m.\u001b[39;49m\u001b[43msleep\u001b[49m\u001b[43m(\u001b[49m\u001b[43msleep_time\u001b[49m\u001b[43m \u001b[49m\u001b[38;5;241;43m/\u001b[39;49m\u001b[43m \u001b[49m\u001b[38;5;241;43m20.0\u001b[39;49m\u001b[43m)\u001b[49m\n",
      "\u001b[0;31mKeyboardInterrupt\u001b[0m: "
     ]
    }
   ],
   "source": [
    "result2 = optimizer.optimize_prompt(\n",
    "    prompt=initial_prompt,\n",
    "    dataset=opik_dataset,\n",
    "    metric=levenshtein_ratio,\n",
    "    auto_continue=False,\n",
    "    n_samples=20,  # Explicitly set\n",
    "    use_subsample=True,  # Force using subsample for evaluation rounds\n",
    ")"
   ]
  },
  {
   "cell_type": "code",
   "execution_count": null,
   "metadata": {
    "colab": {
     "base_uri": "https://localhost:8080/",
     "height": 321
    },
    "id": "XkHo9GlWckWR",
    "outputId": "d0b4dd0c-124f-461f-dba8-3529dbf85cdb"
   },
   "outputs": [
    {
     "name": "stdout",
     "output_type": "stream",
     "text": [
      "\u001b[33m╔═\u001b[0m\u001b[33m════════════════════════════════════════════\u001b[0m\u001b[33m \u001b[0m\u001b[1;33mOptimization Complete\u001b[0m\u001b[33m \u001b[0m\u001b[33m════════════════════════════════════════════\u001b[0m\u001b[33m═╗\u001b[0m\n",
      "\u001b[33m║\u001b[0m                                                                                                                 \u001b[33m║\u001b[0m\n",
      "\u001b[33m║\u001b[0m \u001b[2mOptimizer:        \u001b[0m\u001b[2m \u001b[0m\u001b[1mMetaPromptOptimizer\u001b[0m                                                                          \u001b[33m║\u001b[0m\n",
      "\u001b[33m║\u001b[0m \u001b[2mModel Used:       \u001b[0m\u001b[2m \u001b[0mopenai/gpt-4o-mini (\u001b[2mTemp:\u001b[0m 0.1)                                                               \u001b[33m║\u001b[0m\n",
      "\u001b[33m║\u001b[0m \u001b[2mMetric Evaluated: \u001b[0m\u001b[2m \u001b[0m\u001b[1mlevenshtein_ratio\u001b[0m                                                                            \u001b[33m║\u001b[0m\n",
      "\u001b[33m║\u001b[0m \u001b[2mInitial Score:    \u001b[0m\u001b[2m \u001b[0m0.0719                                                                                       \u001b[33m║\u001b[0m\n",
      "\u001b[33m║\u001b[0m \u001b[2mFinal Best Score: \u001b[0m\u001b[2m \u001b[0m\u001b[1;36m0.4511\u001b[0m                                                                                       \u001b[33m║\u001b[0m\n",
      "\u001b[33m║\u001b[0m \u001b[2mTotal Improvement:\u001b[0m\u001b[2m \u001b[0m\u001b[1;32m527.11%\u001b[0m                                                                                      \u001b[33m║\u001b[0m\n",
      "\u001b[33m║\u001b[0m \u001b[2mRounds Completed: \u001b[0m\u001b[2m \u001b[0m3                                                                                            \u001b[33m║\u001b[0m\n",
      "\u001b[33m║\u001b[0m \u001b[2mStopped Early:    \u001b[0m\u001b[2m \u001b[0mN/A                                                                                          \u001b[33m║\u001b[0m\n",
      "\u001b[33m║\u001b[0m                                                                                                                 \u001b[33m║\u001b[0m\n",
      "\u001b[33m║\u001b[0m                                                                                                                 \u001b[33m║\u001b[0m\n",
      "\u001b[33m║\u001b[0m \u001b[34m╭─\u001b[0m\u001b[34m─────────────────────────────────────────\u001b[0m\u001b[34m \u001b[0m\u001b[1;34mFinal Optimized Prompt\u001b[0m\u001b[34m \u001b[0m\u001b[34m──────────────────────────────────────────\u001b[0m\u001b[34m─╮\u001b[0m \u001b[33m║\u001b[0m\n",
      "\u001b[33m║\u001b[0m \u001b[34m│\u001b[0m                                                                                                             \u001b[34m│\u001b[0m \u001b[33m║\u001b[0m\n",
      "\u001b[33m║\u001b[0m \u001b[34m│\u001b[0m  \u001b[1;35mSystem:\u001b[0m Respond with a direct answer to the question, ensuring it matches the expected format of 'yes' or  \u001b[34m│\u001b[0m \u001b[33m║\u001b[0m\n",
      "\u001b[33m║\u001b[0m \u001b[34m│\u001b[0m  'no' if applicable.                                                                                        \u001b[34m│\u001b[0m \u001b[33m║\u001b[0m\n",
      "\u001b[33m║\u001b[0m \u001b[34m│\u001b[0m  ---                                                                                                        \u001b[34m│\u001b[0m \u001b[33m║\u001b[0m\n",
      "\u001b[33m║\u001b[0m \u001b[34m│\u001b[0m  \u001b[1;32mUser:\u001b[0m Given the question: {question}, please provide your answer:                                          \u001b[34m│\u001b[0m \u001b[33m║\u001b[0m\n",
      "\u001b[33m║\u001b[0m \u001b[34m│\u001b[0m  ---                                                                                                        \u001b[34m│\u001b[0m \u001b[33m║\u001b[0m\n",
      "\u001b[33m║\u001b[0m \u001b[34m│\u001b[0m                                                                                                             \u001b[34m│\u001b[0m \u001b[33m║\u001b[0m\n",
      "\u001b[33m║\u001b[0m \u001b[34m╰─────────────────────────────────────────────────────────────────────────────────────────────────────────────╯\u001b[0m \u001b[33m║\u001b[0m\n",
      "\u001b[33m║\u001b[0m                                                                                                                 \u001b[33m║\u001b[0m\n",
      "\u001b[33m╚═════════════════════════════════════════════════════════════════════════════════════════════════════════════════╝\u001b[0m\n"
     ]
    }
   ],
   "source": [
    "result2.display()"
   ]
  },
  {
   "cell_type": "markdown",
   "metadata": {
    "id": "z9DhnkNkkY2u"
   },
   "source": [
    "## MiproOptimizer\n",
    "\n",
    "MIPRO (Multi-Iteration Prompt Optimization) is an optimizer algorithm that refines both prompts and few-shot examples in a multi-stage LLM program. It works by generating, evaluating, and refining prompts to improve language model performance. MIPRO is a more advanced method than simply \"prompt hacking,\" offering real optimization of LLM workflows.\n",
    "\n",
    "This sophisticated method optimizes both instructions and examples together. Using Bayesian optimization (like the FewShotBayesianOptimizer), it finds the best combinations of both elements. Through multiple testing rounds, it creates an optimized prompt that pairs effective instructions with relevant examples.\n",
    "\n",
    "For thi first optimization, we aren't going to give it any tools to work with. Let's see how it works:"
   ]
  },
  {
   "cell_type": "code",
   "execution_count": 23,
   "metadata": {
    "id": "P5v7cOoBS-np"
   },
   "outputs": [],
   "source": [
    "from opik_optimizer import MiproOptimizer\n",
    "\n",
    "optimizer = MiproOptimizer(\n",
    "    model=\"openai/gpt-4o-mini\",  # LiteLLM or OpenAI name\n",
    "    project_name=project_name,\n",
    "    temperature=0.1,\n",
    "    num_threads=16,\n",
    ")"
   ]
  },
  {
   "cell_type": "markdown",
   "metadata": {
    "id": "lM3HmAKaES5Q"
   },
   "source": [
    "In order to use the MiproOptimizer we will need to define a task config"
   ]
  },
  {
   "cell_type": "code",
   "execution_count": 24,
   "metadata": {
    "colab": {
     "base_uri": "https://localhost:8080/",
     "height": 35
    },
    "id": "eQw3J9jaOn4c",
    "outputId": "b4e8ec44-445a-4884-e115-a368fb35bb7b"
   },
   "outputs": [],
   "source": [
    "\n",
    "from opik_optimizer import TaskConfig\n",
    "\n",
    "system_prompt = initial_prompt.formatted_messages[0][\"content\"]\n",
    "\n",
    "task_config = TaskConfig(\n",
    "    instruction_prompt=system_prompt,\n",
    "    input_dataset_fields=[\"question\"],\n",
    "    output_dataset_field=\"answer\",\n",
    "    use_chat_prompt=True,\n",
    ")\n"
   ]
  },
  {
   "cell_type": "code",
   "execution_count": 25,
   "metadata": {
    "colab": {
     "base_uri": "https://localhost:8080/",
     "height": 1000,
     "referenced_widgets": []
    },
    "id": "-yTxOdJbUOX7",
    "outputId": "80f68c06-74bb-410c-fc6d-0d806caf6c17"
   },
   "outputs": [
    {
     "name": "stdout",
     "output_type": "stream",
     "text": [
      "\n",
      "RUNNING WITH THE FOLLOWING LIGHT AUTO RUN SETTINGS:\n",
      "num_trials: 7\n",
      "minibatch: False\n",
      "num_candidates: 5\n",
      "valset size: 8\n",
      "\n",
      "\n",
      "==> STEP 1: BOOTSTRAP FEWSHOT EXAMPLES <==\n",
      "These will be used as few-shot example candidates for our program and for creating instructions.\n",
      "\n",
      "Bootstrapping N=5 sets of demonstrations...\n",
      "Bootstrapping set 1/5\n",
      "Bootstrapping set 2/5\n",
      "Bootstrapping set 3/5\n"
     ]
    },
    {
     "name": "stderr",
     "output_type": "stream",
     "text": [
      "  0%|          | 0/2 [00:00<?, ?it/s]OPIK: Started logging traces to the \"Default Project\" project at https://www.comet.com/opik/api/v1/session/redirect/projects/?trace_id=0197411f-2ee9-7bc1-9f5d-4f3de986aad9&path=aHR0cHM6Ly93d3cuY29tZXQuY29tL29waWsvYXBpLw==.\n",
      "OPIK: Started logging traces to the \"optimize-workshop-2025\" project at https://www.comet.com/opik/api/v1/session/redirect/projects/?trace_id=0197411f-2eeb-7b3c-9c99-7cee1188f766&path=aHR0cHM6Ly93d3cuY29tZXQuY29tL29waWsvYXBpLw==.\n",
      "OPIK: Started logging traces to the \"Default Project\" project at https://www.comet.com/opik/api/v1/session/redirect/projects/?trace_id=0197411f-2eee-724d-a51e-abe27c58de00&path=aHR0cHM6Ly93d3cuY29tZXQuY29tL29waWsvYXBpLw==.\n",
      "100%|██████████| 2/2 [00:00<00:00, 293.85it/s]\n"
     ]
    },
    {
     "name": "stdout",
     "output_type": "stream",
     "text": [
      "Bootstrapped 2 full traces after 1 examples for up to 1 rounds, amounting to 2 attempts.\n",
      "Bootstrapping set 4/5\n"
     ]
    },
    {
     "name": "stderr",
     "output_type": "stream",
     "text": [
      "  0%|          | 0/2 [00:00<?, ?it/s]OPIK: Started logging traces to the \"optimize-workshop-2025\" project at https://www.comet.com/opik/api/v1/session/redirect/projects/?trace_id=0197411f-2ef0-7c47-a918-dfb03efc5e26&path=aHR0cHM6Ly93d3cuY29tZXQuY29tL29waWsvYXBpLw==.\n",
      "OPIK: Started logging traces to the \"Default Project\" project at https://www.comet.com/opik/api/v1/session/redirect/projects/?trace_id=0197411f-2ef3-79ef-96a6-56a85fecebc3&path=aHR0cHM6Ly93d3cuY29tZXQuY29tL29waWsvYXBpLw==.\n",
      "OPIK: Started logging traces to the \"optimize-workshop-2025\" project at https://www.comet.com/opik/api/v1/session/redirect/projects/?trace_id=0197411f-2ef5-7122-9615-e997e11f461e&path=aHR0cHM6Ly93d3cuY29tZXQuY29tL29waWsvYXBpLw==.\n",
      "OPIK: Started logging traces to the \"Default Project\" project at https://www.comet.com/opik/api/v1/session/redirect/projects/?trace_id=0197411f-2ef8-7125-a86b-1e8749e2d65a&path=aHR0cHM6Ly93d3cuY29tZXQuY29tL29waWsvYXBpLw==.\n",
      "100%|██████████| 2/2 [00:00<00:00, 356.95it/s]\n"
     ]
    },
    {
     "name": "stdout",
     "output_type": "stream",
     "text": [
      "Bootstrapped 2 full traces after 1 examples for up to 1 rounds, amounting to 2 attempts.\n",
      "Bootstrapping set 5/5\n"
     ]
    },
    {
     "name": "stderr",
     "output_type": "stream",
     "text": [
      "  0%|          | 0/2 [00:00<?, ?it/s]OPIK: Started logging traces to the \"optimize-workshop-2025\" project at https://www.comet.com/opik/api/v1/session/redirect/projects/?trace_id=0197411f-2efa-73bc-95cf-a5aa50131eb7&path=aHR0cHM6Ly93d3cuY29tZXQuY29tL29waWsvYXBpLw==.\n",
      "OPIK: Started logging traces to the \"Default Project\" project at https://www.comet.com/opik/api/v1/session/redirect/projects/?trace_id=0197411f-2efd-7440-9d50-53225ff57c39&path=aHR0cHM6Ly93d3cuY29tZXQuY29tL29waWsvYXBpLw==.\n",
      " 50%|█████     | 1/2 [00:00<00:00, 341.89it/s]\n",
      "OPIK: Started logging traces to the \"optimize-workshop-2025\" project at https://www.comet.com/opik/api/v1/session/redirect/projects/?trace_id=0197411f-2eff-755b-953b-9d425685f837&path=aHR0cHM6Ly93d3cuY29tZXQuY29tL29waWsvYXBpLw==.\n"
     ]
    },
    {
     "name": "stdout",
     "output_type": "stream",
     "text": [
      "Bootstrapped 1 full traces after 1 examples for up to 1 rounds, amounting to 1 attempts.\n",
      "\n",
      "==> STEP 2: PROPOSE INSTRUCTION CANDIDATES <==\n",
      "We will use the few-shot examples from the previous step, a generated dataset summary, a summary of the program code, and a randomly selected prompting tip to propose instructions.\n",
      "SOURCE CODE: \n",
      "\n",
      "\n",
      "DATA SUMMARY: The dataset is centered on questions regarding sports and media figures, particularly in relation to historical events. It aims to assess specific knowledge about notable individuals and their connections across different roles and timelines, suggesting potential applications in knowledge retrieval or quiz formats.\n",
      "\n",
      "Proposing instructions...\n",
      "\n",
      "Using a randomly generated configuration for our grounded proposer.\n",
      "Selected tip: none\n",
      "PROGRAM DESCRIPTION: The program appears to be designed to solve tasks that involve processing and generating text using language models. Although the specific details of the pseudocode are not provided, typically such a program would involve inputting a query or prompt, invoking a language model to generate a response based on that input, and then returning or displaying the generated text. The program likely includes components for handling user input, managing the interaction with the language model, and formatting the output in a user-friendly manner. Without specific examples, it's difficult to detail the exact tasks it can handle, but it is likely capable of a variety of text-based tasks such as answering questions, summarizing information, or generating creative content.\n",
      "task_demos No task demos provided.\n",
      "\n",
      "\n",
      "\n",
      "\n",
      "\u001b[34m[2025-06-05T18:24:12.167796]\u001b[0m\n",
      "\n",
      "\u001b[31mSystem message:\u001b[0m\n",
      "\n",
      "Your input fields are:\n",
      "1. `dataset_description` (str): A description of the dataset that we are using.\n",
      "2. `program_code` (str): Language model program designed to solve a particular task.\n",
      "3. `program_description` (str): Summary of the task the program is designed to solve, and how it goes about solving it.\n",
      "4. `module` (str): The module to create an instruction for.\n",
      "5. `module_description` (str): Description of the module to create an instruction for.\n",
      "6. `task_demos` (str): Example inputs/outputs of our module.\n",
      "7. `basic_instruction` (str): Basic instruction.\n",
      "Your output fields are:\n",
      "1. `proposed_instruction` (str): Propose an instruction that will be used to prompt a Language Model to perform this task.\n",
      "All interactions will be structured in the following way, with the appropriate values filled in.\n",
      "\n",
      "[[ ## dataset_description ## ]]\n",
      "{dataset_description}\n",
      "\n",
      "[[ ## program_code ## ]]\n",
      "{program_code}\n",
      "\n",
      "[[ ## program_description ## ]]\n",
      "{program_description}\n",
      "\n",
      "[[ ## module ## ]]\n",
      "{module}\n",
      "\n",
      "[[ ## module_description ## ]]\n",
      "{module_description}\n",
      "\n",
      "[[ ## task_demos ## ]]\n",
      "{task_demos}\n",
      "\n",
      "[[ ## basic_instruction ## ]]\n",
      "{basic_instruction}\n",
      "\n",
      "[[ ## proposed_instruction ## ]]\n",
      "{proposed_instruction}\n",
      "\n",
      "[[ ## completed ## ]]\n",
      "In adhering to this structure, your objective is: \n",
      "        Use the information below to learn about a task that we are trying to solve using calls to an LM, then generate a new instruction that will be used to prompt a Language Model to better solve the task.\n",
      "\n",
      "\n",
      "\u001b[31mUser message:\u001b[0m\n",
      "\n",
      "[[ ## dataset_description ## ]]\n",
      "The dataset is centered on questions regarding sports and media figures, particularly in relation to historical events. It aims to assess specific knowledge about notable individuals and their connections across different roles and timelines, suggesting potential applications in knowledge retrieval or quiz formats.\n",
      "\n",
      "[[ ## program_code ## ]]\n",
      "\n",
      "\n",
      "\n",
      "\n",
      "[[ ## program_description ## ]]\n",
      "The program appears to be designed to solve tasks that involve processing and generating text using language models. Although the specific details of the pseudocode are not provided, typically such a program would involve inputting a query or prompt, invoking a language model to generate a response based on that input, and then returning or displaying the generated text. The program likely includes components for handling user input, managing the interaction with the language model, and formatting the output in a user-friendly manner. Without specific examples, it's difficult to detail the exact tasks it can handle, but it is likely capable of a variety of text-based tasks such as answering questions, summarizing information, or generating creative content.\n",
      "\n",
      "[[ ## module ## ]]\n",
      "Predict(question) -> answer\n",
      "\n",
      "[[ ## module_description ## ]]\n",
      "The `Predict(question) -> answer` module is responsible for taking a user-provided question as input and utilizing the language model to generate a relevant answer. This module acts as the core computational component of the program, where the input question is processed, and the language model is invoked to interpret the question and produce a coherent and contextually appropriate response. Its role is crucial as it directly connects the user's inquiries to the capabilities of the language model, facilitating interactive and informative exchanges. The output of this module is then typically formatted and presented back to the user, completing the task of answering their question.\n",
      "\n",
      "[[ ## task_demos ## ]]\n",
      "No task demos provided.\n",
      "\n",
      "[[ ## basic_instruction ## ]]\n",
      "Provide an answer to the question\n",
      "\n",
      "Respond with the corresponding output fields, starting with the field `[[ ## proposed_instruction ## ]]`, and then ending with the marker for `[[ ## completed ## ]]`.\n",
      "\n",
      "\n",
      "\u001b[31mResponse:\u001b[0m\n",
      "\n",
      "\u001b[32m[[ ## proposed_instruction ## ]]\n",
      "Given a question related to sports and media figures, utilize the `Predict(question) -> answer` module to generate a comprehensive and accurate answer that reflects historical events and notable individuals' connections. \n",
      "\n",
      "[[ ## completed ## ]]\u001b[0m\n",
      "\n",
      "\n",
      "\n",
      "\n",
      "\n",
      "PROPOSED INSTRUCTION: Given a question related to sports and media figures, utilize the `Predict(question) -> answer` module to generate a comprehensive and accurate answer that reflects historical events and notable individuals' connections.\n",
      "Using a randomly generated configuration for our grounded proposer.\n",
      "Selected tip: high_stakes\n",
      "PROGRAM DESCRIPTION: The program appears to be designed to answer trivia questions or provide information based on specific queries. It utilizes a language model to generate answers to questions posed by the user. The program likely processes the input question, retrieves relevant information from its training data or knowledge base, and formulates a concise and accurate response. In the provided examples, it successfully identifies the names of individuals related to specific queries, demonstrating its capability to handle questions about historical figures and events.\n",
      "task_demos Question: What is the name of the future head coach of the University of Pittsburgh football team whom Dick Jauron replaced as head coach of the Chicago Bears on January 24, 1999?\n",
      "Answer: Dave Wannstedt\n",
      "\n",
      "Question: Who was the son of British radio and television presenter and historian best known as an analyst of election results?\n",
      "Answer: David Dimbleby\n",
      "\n",
      "Question: Who was the son of British radio and television presenter and historian best known as an analyst of election results?\n",
      "Answer: David Dimbleby\n",
      "\n",
      "\n",
      "\n",
      "\n",
      "\n",
      "\n",
      "\u001b[34m[2025-06-05T18:24:13.145875]\u001b[0m\n",
      "\n",
      "\u001b[31mSystem message:\u001b[0m\n",
      "\n",
      "Your input fields are:\n",
      "1. `dataset_description` (str): A description of the dataset that we are using.\n",
      "2. `program_code` (str): Language model program designed to solve a particular task.\n",
      "3. `program_description` (str): Summary of the task the program is designed to solve, and how it goes about solving it.\n",
      "4. `module` (str): The module to create an instruction for.\n",
      "5. `module_description` (str): Description of the module to create an instruction for.\n",
      "6. `task_demos` (str): Example inputs/outputs of our module.\n",
      "7. `basic_instruction` (str): Basic instruction.\n",
      "8. `tip` (str): A suggestion for how to go about generating the new instruction.\n",
      "Your output fields are:\n",
      "1. `proposed_instruction` (str): Propose an instruction that will be used to prompt a Language Model to perform this task.\n",
      "All interactions will be structured in the following way, with the appropriate values filled in.\n",
      "\n",
      "[[ ## dataset_description ## ]]\n",
      "{dataset_description}\n",
      "\n",
      "[[ ## program_code ## ]]\n",
      "{program_code}\n",
      "\n",
      "[[ ## program_description ## ]]\n",
      "{program_description}\n",
      "\n",
      "[[ ## module ## ]]\n",
      "{module}\n",
      "\n",
      "[[ ## module_description ## ]]\n",
      "{module_description}\n",
      "\n",
      "[[ ## task_demos ## ]]\n",
      "{task_demos}\n",
      "\n",
      "[[ ## basic_instruction ## ]]\n",
      "{basic_instruction}\n",
      "\n",
      "[[ ## tip ## ]]\n",
      "{tip}\n",
      "\n",
      "[[ ## proposed_instruction ## ]]\n",
      "{proposed_instruction}\n",
      "\n",
      "[[ ## completed ## ]]\n",
      "In adhering to this structure, your objective is: \n",
      "        Use the information below to learn about a task that we are trying to solve using calls to an LM, then generate a new instruction that will be used to prompt a Language Model to better solve the task.\n",
      "\n",
      "\n",
      "\u001b[31mUser message:\u001b[0m\n",
      "\n",
      "[[ ## dataset_description ## ]]\n",
      "The dataset is centered on questions regarding sports and media figures, particularly in relation to historical events. It aims to assess specific knowledge about notable individuals and their connections across different roles and timelines, suggesting potential applications in knowledge retrieval or quiz formats.\n",
      "\n",
      "[[ ## program_code ## ]]\n",
      "\n",
      "\n",
      "\n",
      "\n",
      "[[ ## program_description ## ]]\n",
      "The program appears to be designed to answer trivia questions or provide information based on specific queries. It utilizes a language model to generate answers to questions posed by the user. The program likely processes the input question, retrieves relevant information from its training data or knowledge base, and formulates a concise and accurate response. In the provided examples, it successfully identifies the names of individuals related to specific queries, demonstrating its capability to handle questions about historical figures and events.\n",
      "\n",
      "[[ ## module ## ]]\n",
      "Predict(question) -> answer\n",
      "\n",
      "[[ ## module_description ## ]]\n",
      "The `Predict` module is responsible for taking a user's question as input and generating an appropriate answer based on the language model's understanding and knowledge. It processes the input query, analyzes the context, and retrieves relevant information from the model's training data to formulate a coherent and accurate response. This module is essential for the overall program's functionality, as it directly impacts the quality and relevance of the answers provided to users' trivia questions.\n",
      "\n",
      "[[ ## task_demos ## ]]\n",
      "Question: What is the name of the future head coach of the University of Pittsburgh football team whom Dick Jauron replaced as head coach of the Chicago Bears on January 24, 1999?\n",
      "Answer: Dave Wannstedt\n",
      "\n",
      "Question: Who was the son of British radio and television presenter and historian best known as an analyst of election results?\n",
      "Answer: David Dimbleby\n",
      "\n",
      "Question: Who was the son of British radio and television presenter and historian best known as an analyst of election results?\n",
      "Answer: David Dimbleby\n",
      "\n",
      "\n",
      "\n",
      "[[ ## basic_instruction ## ]]\n",
      "Provide an answer to the question\n",
      "\n",
      "[[ ## tip ## ]]\n",
      "The instruction should include a high stakes scenario in which the LM must solve the task!\n",
      "\n",
      "Respond with the corresponding output fields, starting with the field `[[ ## proposed_instruction ## ]]`, and then ending with the marker for `[[ ## completed ## ]]`.\n",
      "\n",
      "\n",
      "\u001b[31mResponse:\u001b[0m\n",
      "\n",
      "\u001b[32m[[ ## proposed_instruction ## ]]\n",
      "Imagine you are participating in a high-stakes trivia competition where your knowledge of sports and media figures will determine your success. Your task is to answer the following question accurately and quickly: {question}. Provide a concise and correct answer based on your understanding and knowledge of historical events and notable individuals.\n",
      "\n",
      "[[ ## completed ## ]]\u001b[0m\n",
      "\n",
      "\n",
      "\n",
      "\n",
      "\n",
      "PROPOSED INSTRUCTION: Imagine you are participating in a high-stakes trivia competition where your knowledge of sports and media figures will determine your success. Your task is to answer the following question accurately and quickly: {question}. Provide a concise and correct answer based on your understanding and knowledge of historical events and notable individuals.\n",
      "Using a randomly generated configuration for our grounded proposer.\n",
      "Selected tip: high_stakes\n",
      "PROGRAM DESCRIPTION: The program appears to be designed to solve the task of answering questions based on a given dataset or knowledge base. It takes in a question as input and generates a relevant answer by leveraging the information it has been trained on. The program seems to utilize a language model to understand the context of the questions and retrieve accurate responses, as demonstrated in the examples where specific names are provided in response to inquiries regarding historical figures and events.\n",
      "task_demos Question: What is the name of the future head coach of the University of Pittsburgh football team whom Dick Jauron replaced as head coach of the Chicago Bears on January 24, 1999?\n",
      "Answer: Dave Wannstedt\n",
      "\n",
      "Question: Who was the son of British radio and television presenter and historian best known as an analyst of election results?\n",
      "Answer: David Dimbleby\n",
      "\n",
      "Question: Who was the son of British radio and television presenter and historian best known as an analyst of election results?\n",
      "Answer: David Dimbleby\n",
      "\n",
      "\n",
      "\n",
      "\n",
      "\n",
      "\n",
      "\u001b[34m[2025-06-05T18:24:13.165113]\u001b[0m\n",
      "\n",
      "\u001b[31mSystem message:\u001b[0m\n",
      "\n",
      "Your input fields are:\n",
      "1. `dataset_description` (str): A description of the dataset that we are using.\n",
      "2. `program_code` (str): Language model program designed to solve a particular task.\n",
      "3. `program_description` (str): Summary of the task the program is designed to solve, and how it goes about solving it.\n",
      "4. `module` (str): The module to create an instruction for.\n",
      "5. `module_description` (str): Description of the module to create an instruction for.\n",
      "6. `task_demos` (str): Example inputs/outputs of our module.\n",
      "7. `basic_instruction` (str): Basic instruction.\n",
      "8. `tip` (str): A suggestion for how to go about generating the new instruction.\n",
      "Your output fields are:\n",
      "1. `proposed_instruction` (str): Propose an instruction that will be used to prompt a Language Model to perform this task.\n",
      "All interactions will be structured in the following way, with the appropriate values filled in.\n",
      "\n",
      "[[ ## dataset_description ## ]]\n",
      "{dataset_description}\n",
      "\n",
      "[[ ## program_code ## ]]\n",
      "{program_code}\n",
      "\n",
      "[[ ## program_description ## ]]\n",
      "{program_description}\n",
      "\n",
      "[[ ## module ## ]]\n",
      "{module}\n",
      "\n",
      "[[ ## module_description ## ]]\n",
      "{module_description}\n",
      "\n",
      "[[ ## task_demos ## ]]\n",
      "{task_demos}\n",
      "\n",
      "[[ ## basic_instruction ## ]]\n",
      "{basic_instruction}\n",
      "\n",
      "[[ ## tip ## ]]\n",
      "{tip}\n",
      "\n",
      "[[ ## proposed_instruction ## ]]\n",
      "{proposed_instruction}\n",
      "\n",
      "[[ ## completed ## ]]\n",
      "In adhering to this structure, your objective is: \n",
      "        Use the information below to learn about a task that we are trying to solve using calls to an LM, then generate a new instruction that will be used to prompt a Language Model to better solve the task.\n",
      "\n",
      "\n",
      "\u001b[31mUser message:\u001b[0m\n",
      "\n",
      "[[ ## dataset_description ## ]]\n",
      "The dataset is centered on questions regarding sports and media figures, particularly in relation to historical events. It aims to assess specific knowledge about notable individuals and their connections across different roles and timelines, suggesting potential applications in knowledge retrieval or quiz formats.\n",
      "\n",
      "[[ ## program_code ## ]]\n",
      "\n",
      "\n",
      "\n",
      "\n",
      "[[ ## program_description ## ]]\n",
      "The program appears to be designed to solve the task of answering questions based on a given dataset or knowledge base. It takes in a question as input and generates a relevant answer by leveraging the information it has been trained on. The program seems to utilize a language model to understand the context of the questions and retrieve accurate responses, as demonstrated in the examples where specific names are provided in response to inquiries regarding historical figures and events.\n",
      "\n",
      "[[ ## module ## ]]\n",
      "Predict(question) -> answer\n",
      "\n",
      "[[ ## module_description ## ]]\n",
      "The `Predict(question) -> answer` module is responsible for processing the input question and generating an appropriate answer. It leverages the underlying language model to interpret the question's context, analyze relevant data, and produce a response that accurately addresses the inquiry. This module plays a crucial role in the overall program by transforming user questions into actionable outputs, ensuring that the program effectively fulfills its purpose of providing informative answers based on the knowledge base it has been trained on.\n",
      "\n",
      "[[ ## task_demos ## ]]\n",
      "Question: What is the name of the future head coach of the University of Pittsburgh football team whom Dick Jauron replaced as head coach of the Chicago Bears on January 24, 1999?\n",
      "Answer: Dave Wannstedt\n",
      "\n",
      "Question: Who was the son of British radio and television presenter and historian best known as an analyst of election results?\n",
      "Answer: David Dimbleby\n",
      "\n",
      "Question: Who was the son of British radio and television presenter and historian best known as an analyst of election results?\n",
      "Answer: David Dimbleby\n",
      "\n",
      "\n",
      "\n",
      "[[ ## basic_instruction ## ]]\n",
      "Provide an answer to the question\n",
      "\n",
      "[[ ## tip ## ]]\n",
      "The instruction should include a high stakes scenario in which the LM must solve the task!\n",
      "\n",
      "Respond with the corresponding output fields, starting with the field `[[ ## proposed_instruction ## ]]`, and then ending with the marker for `[[ ## completed ## ]]`.\n",
      "\n",
      "\n",
      "\u001b[31mResponse:\u001b[0m\n",
      "\n",
      "\u001b[32m[[ ## proposed_instruction ## ]]\n",
      "Imagine you are a quiz master in a high-stakes trivia competition where participants are vying for a grand prize. Your task is to accurately answer questions about historical sports and media figures. Use the `Predict(question) -> answer` module to provide precise responses to the questions posed by the contestants. Ensure your answers are based on the knowledge you have about notable individuals and their connections across different roles and timelines. For example, if asked about the future head coach of the University of Pittsburgh football team who was replaced by Dick Jauron as head coach of the Chicago Bears, respond with the correct name confidently.\n",
      "\n",
      "[[ ## completed ## ]]\u001b[0m\n",
      "\n",
      "\n",
      "\n",
      "\n",
      "\n",
      "PROPOSED INSTRUCTION: Imagine you are a quiz master in a high-stakes trivia competition where participants are vying for a grand prize. Your task is to accurately answer questions about historical sports and media figures. Use the `Predict(question) -> answer` module to provide precise responses to the questions posed by the contestants. Ensure your answers are based on the knowledge you have about notable individuals and their connections across different roles and timelines. For example, if asked about the future head coach of the University of Pittsburgh football team who was replaced by Dick Jauron as head coach of the Chicago Bears, respond with the correct name confidently.\n",
      "Using a randomly generated configuration for our grounded proposer.\n",
      "Selected tip: persona\n",
      "PROGRAM DESCRIPTION: The program appears to be designed to answer questions based on factual information, specifically related to historical figures, events, and roles in various fields such as media and sports. It utilizes a language model to interpret and respond to queries by providing concise and accurate answers. The program processes each question, extracts relevant information, and generates a response that reflects the knowledge it has been trained on. This task involves understanding the context of the questions and retrieving or generating appropriate answers based on the input provided.\n",
      "task_demos Question: Who was the son of British radio and television presenter and historian best known as an analyst of election results?\n",
      "Answer: David Dimbleby\n",
      "\n",
      "Question: What is the name of the future head coach of the University of Pittsburgh football team whom Dick Jauron replaced as head coach of the Chicago Bears on January 24, 1999?\n",
      "Answer: Dave Wannstedt\n",
      "\n",
      "Question: Who was the son of British radio and television presenter and historian best known as an analyst of election results?\n",
      "Answer: David Dimbleby\n",
      "\n",
      "\n",
      "\n",
      "\n",
      "\n",
      "\n",
      "\u001b[34m[2025-06-05T18:24:13.169660]\u001b[0m\n",
      "\n",
      "\u001b[31mSystem message:\u001b[0m\n",
      "\n",
      "Your input fields are:\n",
      "1. `dataset_description` (str): A description of the dataset that we are using.\n",
      "2. `program_code` (str): Language model program designed to solve a particular task.\n",
      "3. `program_description` (str): Summary of the task the program is designed to solve, and how it goes about solving it.\n",
      "4. `module` (str): The module to create an instruction for.\n",
      "5. `module_description` (str): Description of the module to create an instruction for.\n",
      "6. `task_demos` (str): Example inputs/outputs of our module.\n",
      "7. `basic_instruction` (str): Basic instruction.\n",
      "8. `tip` (str): A suggestion for how to go about generating the new instruction.\n",
      "Your output fields are:\n",
      "1. `proposed_instruction` (str): Propose an instruction that will be used to prompt a Language Model to perform this task.\n",
      "All interactions will be structured in the following way, with the appropriate values filled in.\n",
      "\n",
      "[[ ## dataset_description ## ]]\n",
      "{dataset_description}\n",
      "\n",
      "[[ ## program_code ## ]]\n",
      "{program_code}\n",
      "\n",
      "[[ ## program_description ## ]]\n",
      "{program_description}\n",
      "\n",
      "[[ ## module ## ]]\n",
      "{module}\n",
      "\n",
      "[[ ## module_description ## ]]\n",
      "{module_description}\n",
      "\n",
      "[[ ## task_demos ## ]]\n",
      "{task_demos}\n",
      "\n",
      "[[ ## basic_instruction ## ]]\n",
      "{basic_instruction}\n",
      "\n",
      "[[ ## tip ## ]]\n",
      "{tip}\n",
      "\n",
      "[[ ## proposed_instruction ## ]]\n",
      "{proposed_instruction}\n",
      "\n",
      "[[ ## completed ## ]]\n",
      "In adhering to this structure, your objective is: \n",
      "        Use the information below to learn about a task that we are trying to solve using calls to an LM, then generate a new instruction that will be used to prompt a Language Model to better solve the task.\n",
      "\n",
      "\n",
      "\u001b[31mUser message:\u001b[0m\n",
      "\n",
      "[[ ## dataset_description ## ]]\n",
      "The dataset is centered on questions regarding sports and media figures, particularly in relation to historical events. It aims to assess specific knowledge about notable individuals and their connections across different roles and timelines, suggesting potential applications in knowledge retrieval or quiz formats.\n",
      "\n",
      "[[ ## program_code ## ]]\n",
      "\n",
      "\n",
      "\n",
      "\n",
      "[[ ## program_description ## ]]\n",
      "The program appears to be designed to answer questions based on factual information, specifically related to historical figures, events, and roles in various fields such as media and sports. It utilizes a language model to interpret and respond to queries by providing concise and accurate answers. The program processes each question, extracts relevant information, and generates a response that reflects the knowledge it has been trained on. This task involves understanding the context of the questions and retrieving or generating appropriate answers based on the input provided.\n",
      "\n",
      "[[ ## module ## ]]\n",
      "Predict(question) -> answer\n",
      "\n",
      "[[ ## module_description ## ]]\n",
      "The `Predict(question) -> answer` module is responsible for interpreting the user's question and generating a relevant answer. It leverages the capabilities of the language model to analyze the input question, identify key components, and retrieve or synthesize information from its knowledge base. This module plays a crucial role in the overall program by ensuring that the responses are not only accurate but also contextually appropriate, thereby enhancing the user experience and effectiveness of the program in providing informative answers.\n",
      "\n",
      "[[ ## task_demos ## ]]\n",
      "Question: Who was the son of British radio and television presenter and historian best known as an analyst of election results?\n",
      "Answer: David Dimbleby\n",
      "\n",
      "Question: What is the name of the future head coach of the University of Pittsburgh football team whom Dick Jauron replaced as head coach of the Chicago Bears on January 24, 1999?\n",
      "Answer: Dave Wannstedt\n",
      "\n",
      "Question: Who was the son of British radio and television presenter and historian best known as an analyst of election results?\n",
      "Answer: David Dimbleby\n",
      "\n",
      "\n",
      "\n",
      "[[ ## basic_instruction ## ]]\n",
      "Provide an answer to the question\n",
      "\n",
      "[[ ## tip ## ]]\n",
      "Include a persona that is relevant to the task in the instruction (ie. \"You are a ...\")\n",
      "\n",
      "Respond with the corresponding output fields, starting with the field `[[ ## proposed_instruction ## ]]`, and then ending with the marker for `[[ ## completed ## ]]`.\n",
      "\n",
      "\n",
      "\u001b[31mResponse:\u001b[0m\n",
      "\n",
      "\u001b[32m[[ ## proposed_instruction ## ]]\n",
      "You are a knowledgeable sports and media historian. Provide an accurate and concise answer to the following question based on your expertise: \n",
      "\n",
      "[[ ## completed ## ]]\u001b[0m\n",
      "\n",
      "\n",
      "\n",
      "\n",
      "\n",
      "PROPOSED INSTRUCTION: You are a knowledgeable sports and media historian. Provide an accurate and concise answer to the following question based on your expertise:\n",
      "Using a randomly generated configuration for our grounded proposer.\n",
      "Selected tip: description\n",
      "PROGRAM DESCRIPTION: The program appears to be designed to solve the task of answering trivia questions or providing information based on a given question. It takes in a question as input and utilizes a language model to generate a relevant answer. The examples show that the program can respond to questions about historical figures and events, demonstrating its capability to retrieve specific information based on the context provided in the questions.\n",
      "task_demos Question: Who was the son of British radio and television presenter and historian best known as an analyst of election results?\n",
      "Answer: David Dimbleby\n",
      "\n",
      "Question: What is the name of the future head coach of the University of Pittsburgh football team whom Dick Jauron replaced as head coach of the Chicago Bears on January 24, 1999?\n",
      "Answer: Dave Wannstedt\n",
      "\n",
      "Question: Who was the son of British radio and television presenter and historian best known as an analyst of election results?\n",
      "Answer: David Dimbleby\n",
      "\n",
      "\n",
      "\n",
      "\n",
      "\n",
      "\n",
      "\u001b[34m[2025-06-05T18:24:14.146653]\u001b[0m\n",
      "\n",
      "\u001b[31mSystem message:\u001b[0m\n",
      "\n",
      "Your input fields are:\n",
      "1. `dataset_description` (str): A description of the dataset that we are using.\n",
      "2. `program_code` (str): Language model program designed to solve a particular task.\n",
      "3. `program_description` (str): Summary of the task the program is designed to solve, and how it goes about solving it.\n",
      "4. `module` (str): The module to create an instruction for.\n",
      "5. `module_description` (str): Description of the module to create an instruction for.\n",
      "6. `task_demos` (str): Example inputs/outputs of our module.\n",
      "7. `basic_instruction` (str): Basic instruction.\n",
      "8. `tip` (str): A suggestion for how to go about generating the new instruction.\n",
      "Your output fields are:\n",
      "1. `proposed_instruction` (str): Propose an instruction that will be used to prompt a Language Model to perform this task.\n",
      "All interactions will be structured in the following way, with the appropriate values filled in.\n",
      "\n",
      "[[ ## dataset_description ## ]]\n",
      "{dataset_description}\n",
      "\n",
      "[[ ## program_code ## ]]\n",
      "{program_code}\n",
      "\n",
      "[[ ## program_description ## ]]\n",
      "{program_description}\n",
      "\n",
      "[[ ## module ## ]]\n",
      "{module}\n",
      "\n",
      "[[ ## module_description ## ]]\n",
      "{module_description}\n",
      "\n",
      "[[ ## task_demos ## ]]\n",
      "{task_demos}\n",
      "\n",
      "[[ ## basic_instruction ## ]]\n",
      "{basic_instruction}\n",
      "\n",
      "[[ ## tip ## ]]\n",
      "{tip}\n",
      "\n",
      "[[ ## proposed_instruction ## ]]\n",
      "{proposed_instruction}\n",
      "\n",
      "[[ ## completed ## ]]\n",
      "In adhering to this structure, your objective is: \n",
      "        Use the information below to learn about a task that we are trying to solve using calls to an LM, then generate a new instruction that will be used to prompt a Language Model to better solve the task.\n",
      "\n",
      "\n",
      "\u001b[31mUser message:\u001b[0m\n",
      "\n",
      "[[ ## dataset_description ## ]]\n",
      "The dataset is centered on questions regarding sports and media figures, particularly in relation to historical events. It aims to assess specific knowledge about notable individuals and their connections across different roles and timelines, suggesting potential applications in knowledge retrieval or quiz formats.\n",
      "\n",
      "[[ ## program_code ## ]]\n",
      "\n",
      "\n",
      "\n",
      "\n",
      "[[ ## program_description ## ]]\n",
      "The program appears to be designed to solve the task of answering trivia questions or providing information based on a given question. It takes in a question as input and utilizes a language model to generate a relevant answer. The examples show that the program can respond to questions about historical figures and events, demonstrating its capability to retrieve specific information based on the context provided in the questions.\n",
      "\n",
      "[[ ## module ## ]]\n",
      "Predict(question) -> answer\n",
      "\n",
      "[[ ## module_description ## ]]\n",
      "The `Predict(question) -> answer` module is responsible for processing the input question and generating a relevant answer using the language model. This module leverages natural language processing techniques to understand the context of the question and retrieve or generate the most accurate response based on its training data. It plays a critical role in the program by ensuring that users receive precise and informative answers to their trivia inquiries, thus facilitating an efficient question-answering experience.\n",
      "\n",
      "[[ ## task_demos ## ]]\n",
      "Question: Who was the son of British radio and television presenter and historian best known as an analyst of election results?\n",
      "Answer: David Dimbleby\n",
      "\n",
      "Question: What is the name of the future head coach of the University of Pittsburgh football team whom Dick Jauron replaced as head coach of the Chicago Bears on January 24, 1999?\n",
      "Answer: Dave Wannstedt\n",
      "\n",
      "Question: Who was the son of British radio and television presenter and historian best known as an analyst of election results?\n",
      "Answer: David Dimbleby\n",
      "\n",
      "\n",
      "\n",
      "[[ ## basic_instruction ## ]]\n",
      "Provide an answer to the question\n",
      "\n",
      "[[ ## tip ## ]]\n",
      "Make sure your instruction is very informative and descriptive.\n",
      "\n",
      "Respond with the corresponding output fields, starting with the field `[[ ## proposed_instruction ## ]]`, and then ending with the marker for `[[ ## completed ## ]]`.\n",
      "\n",
      "\n",
      "\u001b[31mResponse:\u001b[0m\n",
      "\n",
      "\u001b[32m[[ ## proposed_instruction ## ]]\n",
      "When given a trivia question about sports and media figures, use the `Predict(question) -> answer` module to generate a precise and informative answer. Ensure that the context of the question is fully understood, and provide a detailed response that accurately reflects the historical connections and roles of the individuals mentioned in the question. \n",
      "\n",
      "[[ ## completed ## ]]\u001b[0m\n",
      "\n",
      "\n",
      "\n",
      "\n",
      "\n",
      "PROPOSED INSTRUCTION: When given a trivia question about sports and media figures, use the `Predict(question) -> answer` module to generate a precise and informative answer. Ensure that the context of the question is fully understood, and provide a detailed response that accurately reflects the historical connections and roles of the individuals mentioned in the question.\n",
      "Proposed Instructions for Predictor 0:\n",
      "\n",
      "0: Provide an answer to the question\n",
      "\n",
      "1: Imagine you are participating in a high-stakes trivia competition where your knowledge of sports and media figures will determine your success. Your task is to answer the following question accurately and quickly: {question}. Provide a concise and correct answer based on your understanding and knowledge of historical events and notable individuals.\n",
      "\n",
      "2: Imagine you are a quiz master in a high-stakes trivia competition where participants are vying for a grand prize. Your task is to accurately answer questions about historical sports and media figures. Use the `Predict(question) -> answer` module to provide precise responses to the questions posed by the contestants. Ensure your answers are based on the knowledge you have about notable individuals and their connections across different roles and timelines. For example, if asked about the future head coach of the University of Pittsburgh football team who was replaced by Dick Jauron as head coach of the Chicago Bears, respond with the correct name confidently.\n",
      "\n",
      "3: You are a knowledgeable sports and media historian. Provide an accurate and concise answer to the following question based on your expertise:\n",
      "\n",
      "4: When given a trivia question about sports and media figures, use the `Predict(question) -> answer` module to generate a precise and informative answer. Ensure that the context of the question is fully understood, and provide a detailed response that accurately reflects the historical connections and roles of the individuals mentioned in the question.\n",
      "\n",
      "\n",
      "\n",
      "==> STEP 3: FINDING OPTIMAL PROMPT PARAMETERS <==\n",
      "We will evaluate the program over a series of trials with different combinations of instructions and few-shot examples to find the optimal combination using Bayesian Optimization.\n",
      "\n",
      "== Trial 1 / 7 - Full Evaluation of Default Program ==\n"
     ]
    },
    {
     "data": {
      "application/vnd.jupyter.widget-view+json": {
       "model_id": "ed79dac630e6475ba2ec7f6bb2191f58",
       "version_major": 2,
       "version_minor": 0
      },
      "text/plain": [
       "Evaluation:   0%|          | 0/8 [00:00<?, ?it/s]"
      ]
     },
     "metadata": {},
     "output_type": "display_data"
    },
    {
     "name": "stderr",
     "output_type": "stream",
     "text": [
      "/opt/homebrew/Caskroom/miniconda/base/envs/py312_llm_eval/lib/python3.12/site-packages/optuna/_experimental.py:31: ExperimentalWarning: Argument ``multivariate`` is an experimental feature. The interface can change in the future.\n",
      "  warnings.warn(\n"
     ]
    },
    {
     "name": "stdout",
     "output_type": "stream",
     "text": [
      "Default program score: 0.1496330137501949\n",
      "\n",
      "===== Trial 2 / 7 =====\n",
      "Evaluating the following candidate program...\n",
      "\n",
      "Predictor 0\n",
      "i: Imagine you are participating in a high-stakes trivia competition where your knowledge of sports and media figures will determine your success. Your task is to answer the following question accurately and quickly: {question}. Provide a concise and correct answer based on your understanding and knowledge of historical events and notable individuals.\n",
      "p: Answer:\n",
      "\n",
      "\n",
      "  0%|          | 0/8 [00:00<?, ?it/s]"
     ]
    },
    {
     "name": "stderr",
     "output_type": "stream",
     "text": [
      "OPIK: Started logging traces to the \"Default Project\" project at https://www.comet.com/opik/api/v1/session/redirect/projects/?trace_id=0197411f-3db2-7e03-91ee-dd8f41ff6c93&path=aHR0cHM6Ly93d3cuY29tZXQuY29tL29waWsvYXBpLw==.\n"
     ]
    },
    {
     "name": "stdout",
     "output_type": "stream",
     "text": [
      "Average Metric: 0.35 / 1 (34.8%):   0%|          | 0/8 [00:00<?, ?it/s]"
     ]
    },
    {
     "name": "stderr",
     "output_type": "stream",
     "text": [
      "OPIK: Started logging traces to the \"optimize-workshop-2025\" project at https://www.comet.com/opik/api/v1/session/redirect/projects/?trace_id=0197411f-3d9d-760c-9bae-77f354cd1d55&path=aHR0cHM6Ly93d3cuY29tZXQuY29tL29waWsvYXBpLw==.\n",
      "OPIK: Started logging traces to the \"optimize-workshop-2025\" project at https://www.comet.com/opik/api/v1/session/redirect/projects/?trace_id=0197411f-3da5-7069-8324-8aad6ebc1b28&path=aHR0cHM6Ly93d3cuY29tZXQuY29tL29waWsvYXBpLw==.\n",
      "OPIK: Started logging traces to the \"optimize-workshop-2025\" project at https://www.comet.com/opik/api/v1/session/redirect/projects/?trace_id=0197411f-3dac-78af-ad73-5a93c247207e&path=aHR0cHM6Ly93d3cuY29tZXQuY29tL29waWsvYXBpLw==.\n",
      "OPIK: Started logging traces to the \"optimize-workshop-2025\" project at https://www.comet.com/opik/api/v1/session/redirect/projects/?trace_id=0197411f-3daf-743d-9cb5-02b626db9915&path=aHR0cHM6Ly93d3cuY29tZXQuY29tL29waWsvYXBpLw==.\n",
      "OPIK: Started logging traces to the \"optimize-workshop-2025\" project at https://www.comet.com/opik/api/v1/session/redirect/projects/?trace_id=0197411f-3da0-729c-adb2-68720b66aec5&path=aHR0cHM6Ly93d3cuY29tZXQuY29tL29waWsvYXBpLw==.\n",
      "OPIK: Started logging traces to the \"Default Project\" project at https://www.comet.com/opik/api/v1/session/redirect/projects/?trace_id=0197411f-3db4-77b7-9695-f692d0f77fbc&path=aHR0cHM6Ly93d3cuY29tZXQuY29tL29waWsvYXBpLw==.\n"
     ]
    },
    {
     "name": "stdout",
     "output_type": "stream",
     "text": [
      "Average Metric: 0.76 / 2 (38.1%):  12%|█▎        | 1/8 [00:00<00:00, 57.22it/s]"
     ]
    },
    {
     "name": "stderr",
     "output_type": "stream",
     "text": [
      "OPIK: Started logging traces to the \"Default Project\" project at https://www.comet.com/opik/api/v1/session/redirect/projects/?trace_id=0197411f-3db6-71dc-93c6-4733fa7c3404&path=aHR0cHM6Ly93d3cuY29tZXQuY29tL29waWsvYXBpLw==.\n"
     ]
    },
    {
     "name": "stdout",
     "output_type": "stream",
     "text": [
      "Average Metric: 1.04 / 3 (34.6%):  25%|██▌       | 2/8 [00:00<00:00, 110.66it/s]"
     ]
    },
    {
     "name": "stderr",
     "output_type": "stream",
     "text": [
      "OPIK: Started logging traces to the \"Default Project\" project at https://www.comet.com/opik/api/v1/session/redirect/projects/?trace_id=0197411f-3db8-7b69-bbe1-6cad81eb5bc2&path=aHR0cHM6Ly93d3cuY29tZXQuY29tL29waWsvYXBpLw==.\n"
     ]
    },
    {
     "name": "stdout",
     "output_type": "stream",
     "text": [
      "Average Metric: 1.10 / 4 (27.5%):  38%|███▊      | 3/8 [00:00<00:00, 162.00it/s]"
     ]
    },
    {
     "name": "stderr",
     "output_type": "stream",
     "text": [
      "OPIK: Started logging traces to the \"Default Project\" project at https://www.comet.com/opik/api/v1/session/redirect/projects/?trace_id=0197411f-3dba-73ea-b8c1-bfacbf0ebdf0&path=aHR0cHM6Ly93d3cuY29tZXQuY29tL29waWsvYXBpLw==.\n"
     ]
    },
    {
     "name": "stdout",
     "output_type": "stream",
     "text": [
      "Average Metric: 1.31 / 5 (26.1%):  50%|█████     | 4/8 [00:00<00:00, 210.97it/s]"
     ]
    },
    {
     "name": "stderr",
     "output_type": "stream",
     "text": [
      "OPIK: Started logging traces to the \"Default Project\" project at https://www.comet.com/opik/api/v1/session/redirect/projects/?trace_id=0197411f-3dbc-79c5-b435-5f11c77f403f&path=aHR0cHM6Ly93d3cuY29tZXQuY29tL29waWsvYXBpLw==.\n"
     ]
    },
    {
     "name": "stdout",
     "output_type": "stream",
     "text": [
      "Average Metric: 1.57 / 6 (26.1%):  62%|██████▎   | 5/8 [00:00<00:00, 257.04it/s]"
     ]
    },
    {
     "name": "stderr",
     "output_type": "stream",
     "text": [
      "OPIK: Started logging traces to the \"Default Project\" project at https://www.comet.com/opik/api/v1/session/redirect/projects/?trace_id=0197411f-3dbe-71bb-b182-697443c262ac&path=aHR0cHM6Ly93d3cuY29tZXQuY29tL29waWsvYXBpLw==.\n"
     ]
    },
    {
     "name": "stdout",
     "output_type": "stream",
     "text": [
      "Average Metric: 1.74 / 7 (24.8%):  75%|███████▌  | 6/8 [00:00<00:00, 300.71it/s]"
     ]
    },
    {
     "name": "stderr",
     "output_type": "stream",
     "text": [
      "OPIK: Started logging traces to the \"Default Project\" project at https://www.comet.com/opik/api/v1/session/redirect/projects/?trace_id=0197411f-3dc0-7dbe-b806-12e952b0b50f&path=aHR0cHM6Ly93d3cuY29tZXQuY29tL29waWsvYXBpLw==.\n"
     ]
    },
    {
     "name": "stdout",
     "output_type": "stream",
     "text": [
      "Average Metric: 1.95 / 8 (24.4%): 100%|██████████| 8/8 [00:00<00:00, 386.53it/s]"
     ]
    },
    {
     "name": "stderr",
     "output_type": "stream",
     "text": [
      "OPIK: Started logging traces to the \"optimize-workshop-2025\" project at https://www.comet.com/opik/api/v1/session/redirect/projects/?trace_id=0197411f-3dc2-71e3-a914-7b6b6c0c7ec3&path=aHR0cHM6Ly93d3cuY29tZXQuY29tL29waWsvYXBpLw==.\n",
      "OPIK: Started logging traces to the \"optimize-workshop-2025\" project at https://www.comet.com/opik/api/v1/session/redirect/projects/?trace_id=0197411f-3dc5-71ad-9034-4cc7a8f2865f&path=aHR0cHM6Ly93d3cuY29tZXQuY29tL29waWsvYXBpLw==.\n",
      "OPIK: Started logging traces to the \"Default Project\" project at https://www.comet.com/opik/api/v1/session/redirect/projects/?trace_id=0197411f-3dd1-7341-ad97-39cd3fcc6b2f&path=aHR0cHM6Ly93d3cuY29tZXQuY29tL29waWsvYXBpLw==.\n"
     ]
    },
    {
     "name": "stdout",
     "output_type": "stream",
     "text": [
      "\n",
      "\u001b[92mBest full score so far!\u001b[0m Score: 24.41\n",
      "Score: 24.41 with parameters ['Predictor 0: Instruction 1', 'Predictor 0: Few-Shot Set 2'].\n",
      "Scores so far: [0.1496330137501949, 24.41]\n",
      "Best score so far: 24.41\n",
      "=======================\n",
      "\n",
      "\n",
      "===== Trial 3 / 7 =====\n",
      "Evaluating the following candidate program...\n",
      "\n",
      "Predictor 0\n",
      "i: Imagine you are participating in a high-stakes trivia competition where your knowledge of sports and media figures will determine your success. Your task is to answer the following question accurately and quickly: {question}. Provide a concise and correct answer based on your understanding and knowledge of historical events and notable individuals.\n",
      "p: Answer:\n",
      "\n",
      "\n",
      "Average Metric: 0.76 / 2 (38.1%):  12%|█▎        | 1/8 [00:00<00:00, 5159.05it/s]"
     ]
    },
    {
     "name": "stderr",
     "output_type": "stream",
     "text": [
      "OPIK: Started logging traces to the \"optimize-workshop-2025\" project at https://www.comet.com/opik/api/v1/session/redirect/projects/?trace_id=0197411f-3dce-77ee-b7d5-35b1dbe8de09&path=aHR0cHM6Ly93d3cuY29tZXQuY29tL29waWsvYXBpLw==.\n",
      "OPIK: Started logging traces to the \"optimize-workshop-2025\" project at https://www.comet.com/opik/api/v1/session/redirect/projects/?trace_id=0197411f-3dcc-71b8-8f14-16d32139431f&path=aHR0cHM6Ly93d3cuY29tZXQuY29tL29waWsvYXBpLw==.\n",
      "OPIK: Started logging traces to the \"Default Project\" project at https://www.comet.com/opik/api/v1/session/redirect/projects/?trace_id=0197411f-4189-7855-a06f-f38a9a330c7c&path=aHR0cHM6Ly93d3cuY29tZXQuY29tL29waWsvYXBpLw==.\n"
     ]
    },
    {
     "name": "stdout",
     "output_type": "stream",
     "text": [
      "Average Metric: 1.04 / 3 (34.6%):  25%|██▌       | 2/8 [00:00<00:02,  2.06it/s]  "
     ]
    },
    {
     "name": "stderr",
     "output_type": "stream",
     "text": [
      "OPIK: Started logging traces to the \"Default Project\" project at https://www.comet.com/opik/api/v1/session/redirect/projects/?trace_id=0197411f-418c-7037-bcdc-12dc3f26bdad&path=aHR0cHM6Ly93d3cuY29tZXQuY29tL29waWsvYXBpLw==.\n"
     ]
    },
    {
     "name": "stdout",
     "output_type": "stream",
     "text": [
      "Average Metric: 1.24 / 4 (31.1%):  38%|███▊      | 3/8 [00:00<00:01,  3.08it/s]"
     ]
    },
    {
     "name": "stderr",
     "output_type": "stream",
     "text": [
      "OPIK: Started logging traces to the \"Default Project\" project at https://www.comet.com/opik/api/v1/session/redirect/projects/?trace_id=0197411f-418e-7d93-af33-05e0e5611209&path=aHR0cHM6Ly93d3cuY29tZXQuY29tL29waWsvYXBpLw==.\n"
     ]
    },
    {
     "name": "stdout",
     "output_type": "stream",
     "text": [
      "Average Metric: 1.46 / 5 (29.1%):  50%|█████     | 4/8 [00:00<00:01,  3.08it/s]"
     ]
    },
    {
     "name": "stderr",
     "output_type": "stream",
     "text": [
      "OPIK: Started logging traces to the \"optimize-workshop-2025\" project at https://www.comet.com/opik/api/v1/session/redirect/projects/?trace_id=0197411f-3dd4-7565-9ea4-436c54f41683&path=aHR0cHM6Ly93d3cuY29tZXQuY29tL29waWsvYXBpLw==.\n"
     ]
    },
    {
     "name": "stdout",
     "output_type": "stream",
     "text": [
      "Average Metric: 1.78 / 7 (25.4%):  75%|███████▌  | 6/8 [00:00<00:00,  3.08it/s]"
     ]
    },
    {
     "name": "stderr",
     "output_type": "stream",
     "text": [
      "OPIK: Started logging traces to the \"Default Project\" project at https://www.comet.com/opik/api/v1/session/redirect/projects/?trace_id=0197411f-4195-7378-b1ae-cdefd4a1aa3c&path=aHR0cHM6Ly93d3cuY29tZXQuY29tL29waWsvYXBpLw==.\n"
     ]
    },
    {
     "name": "stdout",
     "output_type": "stream",
     "text": [
      "Average Metric: 1.95 / 8 (24.4%): 100%|██████████| 8/8 [00:00<00:00,  8.19it/s]"
     ]
    },
    {
     "name": "stderr",
     "output_type": "stream",
     "text": [
      "OPIK: Started logging traces to the \"optimize-workshop-2025\" project at https://www.comet.com/opik/api/v1/session/redirect/projects/?trace_id=0197411f-4197-71bc-bffd-2de65e279b4a&path=aHR0cHM6Ly93d3cuY29tZXQuY29tL29waWsvYXBpLw==.\n",
      "OPIK: Started logging traces to the \"optimize-workshop-2025\" project at https://www.comet.com/opik/api/v1/session/redirect/projects/?trace_id=0197411f-419a-7f60-9af7-4b9c03964eb0&path=aHR0cHM6Ly93d3cuY29tZXQuY29tL29waWsvYXBpLw==.\n",
      "OPIK: Started logging traces to the \"Default Project\" project at https://www.comet.com/opik/api/v1/session/redirect/projects/?trace_id=0197411f-41a5-7e93-be81-40fcf1780a68&path=aHR0cHM6Ly93d3cuY29tZXQuY29tL29waWsvYXBpLw==.\n",
      "OPIK: Started logging traces to the \"Default Project\" project at https://www.comet.com/opik/api/v1/session/redirect/projects/?trace_id=0197411f-41ab-763e-a663-17d53f883859&path=aHR0cHM6Ly93d3cuY29tZXQuY29tL29waWsvYXBpLw==.\n"
     ]
    },
    {
     "name": "stdout",
     "output_type": "stream",
     "text": [
      "\n",
      "Score: 24.41 with parameters ['Predictor 0: Instruction 1', 'Predictor 0: Few-Shot Set 2'].\n",
      "Scores so far: [0.1496330137501949, 24.41, 24.41]\n",
      "Best score so far: 24.41\n",
      "=======================\n",
      "\n",
      "\n",
      "===== Trial 4 / 7 =====\n",
      "Evaluating the following candidate program...\n",
      "\n",
      "Predictor 0\n",
      "i: Provide an answer to the question\n",
      "p: Answer:\n",
      "\n",
      "\n",
      "Average Metric: 0.36 / 2 (18.0%):  12%|█▎        | 1/8 [00:00<00:00, 3718.35it/s]"
     ]
    },
    {
     "name": "stderr",
     "output_type": "stream",
     "text": [
      "OPIK: Started logging traces to the \"optimize-workshop-2025\" project at https://www.comet.com/opik/api/v1/session/redirect/projects/?trace_id=0197411f-419f-73d0-8f4b-8c758a524320&path=aHR0cHM6Ly93d3cuY29tZXQuY29tL29waWsvYXBpLw==.\n",
      "OPIK: Started logging traces to the \"optimize-workshop-2025\" project at https://www.comet.com/opik/api/v1/session/redirect/projects/?trace_id=0197411f-419d-7347-bc73-e470c3cb351f&path=aHR0cHM6Ly93d3cuY29tZXQuY29tL29waWsvYXBpLw==.\n",
      "OPIK: Started logging traces to the \"Default Project\" project at https://www.comet.com/opik/api/v1/session/redirect/projects/?trace_id=0197411f-41af-7506-96a5-c1d08d36ca25&path=aHR0cHM6Ly93d3cuY29tZXQuY29tL29waWsvYXBpLw==.\n"
     ]
    },
    {
     "name": "stdout",
     "output_type": "stream",
     "text": [
      "Average Metric: 0.44 / 4 (11.1%):  38%|███▊      | 3/8 [00:00<00:00, 142.65it/s] "
     ]
    },
    {
     "name": "stderr",
     "output_type": "stream",
     "text": [
      "OPIK: Started logging traces to the \"optimize-workshop-2025\" project at https://www.comet.com/opik/api/v1/session/redirect/projects/?trace_id=0197411f-41a7-7e79-8438-a0d4707c4a86&path=aHR0cHM6Ly93d3cuY29tZXQuY29tL29waWsvYXBpLw==.\n",
      "OPIK: Started logging traces to the \"Default Project\" project at https://www.comet.com/opik/api/v1/session/redirect/projects/?trace_id=0197411f-457b-77eb-aab5-ce69b4a8d4e2&path=aHR0cHM6Ly93d3cuY29tZXQuY29tL29waWsvYXBpLw==.\n",
      "OPIK: Started logging traces to the \"Default Project\" project at https://www.comet.com/opik/api/v1/session/redirect/projects/?trace_id=0197411f-457d-7a75-abf1-daf3b0014244&path=aHR0cHM6Ly93d3cuY29tZXQuY29tL29waWsvYXBpLw==.\n"
     ]
    },
    {
     "name": "stdout",
     "output_type": "stream",
     "text": [
      "Average Metric: 0.72 / 5 (14.4%):  62%|██████▎   | 5/8 [00:00<00:00,  5.01it/s] "
     ]
    },
    {
     "name": "stderr",
     "output_type": "stream",
     "text": [
      "OPIK: Started logging traces to the \"Default Project\" project at https://www.comet.com/opik/api/v1/session/redirect/projects/?trace_id=0197411f-457f-722f-a3f0-90b49e3c4c67&path=aHR0cHM6Ly93d3cuY29tZXQuY29tL29waWsvYXBpLw==.\n"
     ]
    },
    {
     "name": "stdout",
     "output_type": "stream",
     "text": [
      "Average Metric: 1.20 / 8 (15.0%): 100%|██████████| 8/8 [00:01<00:00,  7.99it/s]\n",
      "Score: 14.96 with parameters ['Predictor 0: Instruction 0', 'Predictor 0: Few-Shot Set 0'].\n",
      "Scores so far: [0.1496330137501949, 24.41, 24.41, 14.96]\n",
      "Best score so far: 24.41\n",
      "=======================\n",
      "\n",
      "\n",
      "===== Trial 5 / 7 =====\n",
      "Evaluating the following candidate program...\n",
      "\n",
      "Predictor 0\n",
      "i: When given a trivia question about sports and media figures, use the `Predict(question) -> answer` module to generate a precise and informative answer. Ensure that the context of the question is fully understood, and provide a detailed response that accurately reflects the historical connections and roles of the individuals mentioned in the question.\n",
      "p: Answer:\n",
      "\n",
      "\n",
      "  0%|          | 0/8 [00:00<?, ?it/s]"
     ]
    },
    {
     "name": "stderr",
     "output_type": "stream",
     "text": [
      "OPIK: Started logging traces to the \"optimize-workshop-2025\" project at https://www.comet.com/opik/api/v1/session/redirect/projects/?trace_id=0197411f-458e-72bc-b0e6-bcd8fac6e1be&path=aHR0cHM6Ly93d3cuY29tZXQuY29tL29waWsvYXBpLw==.\n",
      "OPIK: Started logging traces to the \"optimize-workshop-2025\" project at https://www.comet.com/opik/api/v1/session/redirect/projects/?trace_id=0197411f-4589-7294-b8d0-69aabd28097f&path=aHR0cHM6Ly93d3cuY29tZXQuY29tL29waWsvYXBpLw==.\n",
      "OPIK: Started logging traces to the \"optimize-workshop-2025\" project at https://www.comet.com/opik/api/v1/session/redirect/projects/?trace_id=0197411f-4586-7a16-a06b-8a9c91378492&path=aHR0cHM6Ly93d3cuY29tZXQuY29tL29waWsvYXBpLw==.\n",
      "OPIK: Started logging traces to the \"Default Project\" project at https://www.comet.com/opik/api/v1/session/redirect/projects/?trace_id=0197411f-4597-70ae-bdbd-c77b471b4409&path=aHR0cHM6Ly93d3cuY29tZXQuY29tL29waWsvYXBpLw==.\n",
      "OPIK: Started logging traces to the \"Default Project\" project at https://www.comet.com/opik/api/v1/session/redirect/projects/?trace_id=0197411f-4599-7db0-8c11-f286221f04c0&path=aHR0cHM6Ly93d3cuY29tZXQuY29tL29waWsvYXBpLw==.\n"
     ]
    },
    {
     "name": "stdout",
     "output_type": "stream",
     "text": [
      "Average Metric: 0.14 / 1 (14.2%):   0%|          | 0/8 [00:00<?, ?it/s]"
     ]
    },
    {
     "name": "stderr",
     "output_type": "stream",
     "text": [
      "OPIK: Started logging traces to the \"Default Project\" project at https://www.comet.com/opik/api/v1/session/redirect/projects/?trace_id=0197411f-459b-7aa3-b10d-a9cf74745880&path=aHR0cHM6Ly93d3cuY29tZXQuY29tL29waWsvYXBpLw==.\n"
     ]
    },
    {
     "name": "stdout",
     "output_type": "stream",
     "text": [
      "Average Metric: 0.38 / 4 (9.4%):  38%|███▊      | 3/8 [00:00<00:00, 290.39it/s] "
     ]
    },
    {
     "name": "stderr",
     "output_type": "stream",
     "text": [
      "OPIK: Started logging traces to the \"optimize-workshop-2025\" project at https://www.comet.com/opik/api/v1/session/redirect/projects/?trace_id=0197411f-4591-7433-b5fd-d2fd80628a68&path=aHR0cHM6Ly93d3cuY29tZXQuY29tL29waWsvYXBpLw==.\n",
      "OPIK: Started logging traces to the \"optimize-workshop-2025\" project at https://www.comet.com/opik/api/v1/session/redirect/projects/?trace_id=0197411f-4593-765d-93f0-202549647d56&path=aHR0cHM6Ly93d3cuY29tZXQuY29tL29waWsvYXBpLw==.\n",
      "OPIK: Started logging traces to the \"Default Project\" project at https://www.comet.com/opik/api/v1/session/redirect/projects/?trace_id=0197411f-45a1-7eb6-87b2-59e6ade54830&path=aHR0cHM6Ly93d3cuY29tZXQuY29tL29waWsvYXBpLw==.\n"
     ]
    },
    {
     "name": "stdout",
     "output_type": "stream",
     "text": [
      "Average Metric: 0.64 / 6 (10.7%):  62%|██████▎   | 5/8 [00:00<00:00, 344.76it/s]"
     ]
    },
    {
     "name": "stderr",
     "output_type": "stream",
     "text": [
      "OPIK: Started logging traces to the \"optimize-workshop-2025\" project at https://www.comet.com/opik/api/v1/session/redirect/projects/?trace_id=0197411f-458c-72b6-b87e-a9ead5bed934&path=aHR0cHM6Ly93d3cuY29tZXQuY29tL29waWsvYXBpLw==.\n",
      "OPIK: Started logging traces to the \"optimize-workshop-2025\" project at https://www.comet.com/opik/api/v1/session/redirect/projects/?trace_id=0197411f-4595-7d46-acd4-08763cb53092&path=aHR0cHM6Ly93d3cuY29tZXQuY29tL29waWsvYXBpLw==.\n",
      "OPIK: Started logging traces to the \"Default Project\" project at https://www.comet.com/opik/api/v1/session/redirect/projects/?trace_id=0197411f-496b-7e35-a90a-dd1620733f4a&path=aHR0cHM6Ly93d3cuY29tZXQuY29tL29waWsvYXBpLw==.\n"
     ]
    },
    {
     "name": "stdout",
     "output_type": "stream",
     "text": [
      "Average Metric: 0.77 / 8 (9.6%): 100%|██████████| 8/8 [00:00<00:00,  8.02it/s]  \n",
      "Score: 9.6 with parameters ['Predictor 0: Instruction 4', 'Predictor 0: Few-Shot Set 0'].\n",
      "Scores so far: [0.1496330137501949, 24.41, 24.41, 14.96, 9.6]\n",
      "Best score so far: 24.41\n",
      "=======================\n",
      "\n",
      "\n",
      "===== Trial 6 / 7 =====\n",
      "Evaluating the following candidate program...\n",
      "\n",
      "Predictor 0\n",
      "i: You are a knowledgeable sports and media historian. Provide an accurate and concise answer to the following question based on your expertise:\n",
      "p: Answer:\n",
      "\n",
      "\n",
      "  0%|          | 0/8 [00:00<?, ?it/s]"
     ]
    },
    {
     "name": "stderr",
     "output_type": "stream",
     "text": [
      "OPIK: Started logging traces to the \"optimize-workshop-2025\" project at https://www.comet.com/opik/api/v1/session/redirect/projects/?trace_id=0197411f-497c-75f6-86ab-b5c62f6de41a&path=aHR0cHM6Ly93d3cuY29tZXQuY29tL29waWsvYXBpLw==.\n",
      "OPIK: Started logging traces to the \"optimize-workshop-2025\" project at https://www.comet.com/opik/api/v1/session/redirect/projects/?trace_id=0197411f-4973-77f1-b867-1a0ab9d495dc&path=aHR0cHM6Ly93d3cuY29tZXQuY29tL29waWsvYXBpLw==.\n",
      "OPIK: Started logging traces to the \"optimize-workshop-2025\" project at https://www.comet.com/opik/api/v1/session/redirect/projects/?trace_id=0197411f-4982-7353-adc4-d37600fae1a8&path=aHR0cHM6Ly93d3cuY29tZXQuY29tL29waWsvYXBpLw==.\n",
      "OPIK: Started logging traces to the \"Default Project\" project at https://www.comet.com/opik/api/v1/session/redirect/projects/?trace_id=0197411f-4989-748e-8cc0-2902135f73df&path=aHR0cHM6Ly93d3cuY29tZXQuY29tL29waWsvYXBpLw==.\n",
      "OPIK: Started logging traces to the \"Default Project\" project at https://www.comet.com/opik/api/v1/session/redirect/projects/?trace_id=0197411f-498b-7817-836d-870674890783&path=aHR0cHM6Ly93d3cuY29tZXQuY29tL29waWsvYXBpLw==.\n"
     ]
    },
    {
     "name": "stdout",
     "output_type": "stream",
     "text": [
      "Average Metric: 0.29 / 2 (14.4%):  12%|█▎        | 1/8 [00:00<00:00, 84.42it/s]"
     ]
    },
    {
     "name": "stderr",
     "output_type": "stream",
     "text": [
      "OPIK: Started logging traces to the \"Default Project\" project at https://www.comet.com/opik/api/v1/session/redirect/projects/?trace_id=0197411f-498d-7b74-84d7-b6022fcf4ed9&path=aHR0cHM6Ly93d3cuY29tZXQuY29tL29waWsvYXBpLw==.\n"
     ]
    },
    {
     "name": "stdout",
     "output_type": "stream",
     "text": [
      "Average Metric: 0.59 / 4 (14.7%):  38%|███▊      | 3/8 [00:00<00:00, 207.80it/s]"
     ]
    },
    {
     "name": "stderr",
     "output_type": "stream",
     "text": [
      "OPIK: Started logging traces to the \"Default Project\" project at https://www.comet.com/opik/api/v1/session/redirect/projects/?trace_id=0197411f-4990-75c6-80c6-ae280e3041a2&path=aHR0cHM6Ly93d3cuY29tZXQuY29tL29waWsvYXBpLw==.\n"
     ]
    },
    {
     "name": "stdout",
     "output_type": "stream",
     "text": [
      "Average Metric: 0.63 / 5 (12.5%):  50%|█████     | 4/8 [00:00<00:00, 263.18it/s]"
     ]
    },
    {
     "name": "stderr",
     "output_type": "stream",
     "text": [
      "OPIK: Started logging traces to the \"optimize-workshop-2025\" project at https://www.comet.com/opik/api/v1/session/redirect/projects/?trace_id=0197411f-4985-7292-9e9d-1f165dbb0e17&path=aHR0cHM6Ly93d3cuY29tZXQuY29tL29waWsvYXBpLw==.\n"
     ]
    },
    {
     "name": "stdout",
     "output_type": "stream",
     "text": [
      "Average Metric: 0.83 / 6 (13.9%):  62%|██████▎   | 5/8 [00:00<00:00, 312.71it/s]"
     ]
    },
    {
     "name": "stderr",
     "output_type": "stream",
     "text": [
      "OPIK: Started logging traces to the \"optimize-workshop-2025\" project at https://www.comet.com/opik/api/v1/session/redirect/projects/?trace_id=0197411f-4987-70fc-a311-7c2d744eb017&path=aHR0cHM6Ly93d3cuY29tZXQuY29tL29waWsvYXBpLw==.\n",
      "OPIK: Started logging traces to the \"Default Project\" project at https://www.comet.com/opik/api/v1/session/redirect/projects/?trace_id=0197411f-4997-7558-8fa0-36641cf49d83&path=aHR0cHM6Ly93d3cuY29tZXQuY29tL29waWsvYXBpLw==.\n"
     ]
    },
    {
     "name": "stdout",
     "output_type": "stream",
     "text": [
      "Average Metric: 1.22 / 8 (15.3%): 100%|██████████| 8/8 [00:00<00:00, 420.30it/s]\n",
      "Score: 15.25 with parameters ['Predictor 0: Instruction 3', 'Predictor 0: Few-Shot Set 0'].\n",
      "Scores so far: [0.1496330137501949, 24.41, 24.41, 14.96, 9.6, 15.25]\n",
      "Best score so far: 24.41\n",
      "=======================\n",
      "\n",
      "\n",
      "===== Trial 7 / 7 =====\n",
      "Evaluating the following candidate program...\n",
      "\n",
      "Predictor 0\n",
      "i: Provide an answer to the question\n",
      "p: Answer:\n",
      "\n",
      "\n",
      "  0%|          | 0/8 [00:00<?, ?it/s]"
     ]
    },
    {
     "name": "stderr",
     "output_type": "stream",
     "text": [
      "OPIK: Started logging traces to the \"optimize-workshop-2025\" project at https://www.comet.com/opik/api/v1/session/redirect/projects/?trace_id=0197411f-49a5-74bd-a015-e85a68b8439d&path=aHR0cHM6Ly93d3cuY29tZXQuY29tL29waWsvYXBpLw==.\n",
      "OPIK: Started logging traces to the \"optimize-workshop-2025\" project at https://www.comet.com/opik/api/v1/session/redirect/projects/?trace_id=0197411f-49a9-738b-985b-ac2afdb92d7d&path=aHR0cHM6Ly93d3cuY29tZXQuY29tL29waWsvYXBpLw==.\n",
      "OPIK: Started logging traces to the \"Default Project\" project at https://www.comet.com/opik/api/v1/session/redirect/projects/?trace_id=0197411f-4d50-7b75-bb29-a4fd3f845293&path=aHR0cHM6Ly93d3cuY29tZXQuY29tL29waWsvYXBpLw==.\n"
     ]
    },
    {
     "name": "stdout",
     "output_type": "stream",
     "text": [
      "Average Metric: 0.14 / 1 (13.9%):   0%|          | 0/8 [00:00<?, ?it/s]"
     ]
    },
    {
     "name": "stderr",
     "output_type": "stream",
     "text": [
      "OPIK: Started logging traces to the \"Default Project\" project at https://www.comet.com/opik/api/v1/session/redirect/projects/?trace_id=0197411f-4d52-7e81-803e-760d8827606b&path=aHR0cHM6Ly93d3cuY29tZXQuY29tL29waWsvYXBpLw==.\n"
     ]
    },
    {
     "name": "stdout",
     "output_type": "stream",
     "text": [
      "Average Metric: 0.42 / 2 (20.8%):  12%|█▎        | 1/8 [00:00<00:06,  1.05it/s]"
     ]
    },
    {
     "name": "stderr",
     "output_type": "stream",
     "text": [
      "OPIK: Started logging traces to the \"optimize-workshop-2025\" project at https://www.comet.com/opik/api/v1/session/redirect/projects/?trace_id=0197411f-499f-7bad-b90a-4ade5dab966a&path=aHR0cHM6Ly93d3cuY29tZXQuY29tL29waWsvYXBpLw==.\n",
      "OPIK: Started logging traces to the \"optimize-workshop-2025\" project at https://www.comet.com/opik/api/v1/session/redirect/projects/?trace_id=0197411f-49a3-7fd6-9731-f9bd4fffe2f4&path=aHR0cHM6Ly93d3cuY29tZXQuY29tL29waWsvYXBpLw==.\n",
      "OPIK: Started logging traces to the \"optimize-workshop-2025\" project at https://www.comet.com/opik/api/v1/session/redirect/projects/?trace_id=0197411f-49a1-741e-b2fc-ba128216f149&path=aHR0cHM6Ly93d3cuY29tZXQuY29tL29waWsvYXBpLw==.\n",
      "OPIK: Started logging traces to the \"optimize-workshop-2025\" project at https://www.comet.com/opik/api/v1/session/redirect/projects/?trace_id=0197411f-499b-755f-ac87-8a0db2340c8d&path=aHR0cHM6Ly93d3cuY29tZXQuY29tL29waWsvYXBpLw==.\n",
      "OPIK: Started logging traces to the \"Default Project\" project at https://www.comet.com/opik/api/v1/session/redirect/projects/?trace_id=0197411f-4d62-74c5-ae65-6204518b412b&path=aHR0cHM6Ly93d3cuY29tZXQuY29tL29waWsvYXBpLw==.\n"
     ]
    },
    {
     "name": "stdout",
     "output_type": "stream",
     "text": [
      "Average Metric: 0.47 / 3 (15.8%):  25%|██▌       | 2/8 [00:00<00:05,  1.05it/s]"
     ]
    },
    {
     "name": "stderr",
     "output_type": "stream",
     "text": [
      "OPIK: Started logging traces to the \"Default Project\" project at https://www.comet.com/opik/api/v1/session/redirect/projects/?trace_id=0197411f-4d65-7ca7-8381-6e551905be7f&path=aHR0cHM6Ly93d3cuY29tZXQuY29tL29waWsvYXBpLw==.\n"
     ]
    },
    {
     "name": "stdout",
     "output_type": "stream",
     "text": [
      "Average Metric: 0.87 / 5 (17.4%):  50%|█████     | 4/8 [00:00<00:03,  1.05it/s]"
     ]
    },
    {
     "name": "stderr",
     "output_type": "stream",
     "text": [
      "OPIK: Started logging traces to the \"Default Project\" project at https://www.comet.com/opik/api/v1/session/redirect/projects/?trace_id=0197411f-4d67-75ed-b3c0-213772177029&path=aHR0cHM6Ly93d3cuY29tZXQuY29tL29waWsvYXBpLw==.\n"
     ]
    },
    {
     "name": "stdout",
     "output_type": "stream",
     "text": [
      "Average Metric: 1.02 / 6 (17.0%):  62%|██████▎   | 5/8 [00:00<00:02,  1.05it/s]"
     ]
    },
    {
     "name": "stderr",
     "output_type": "stream",
     "text": [
      "OPIK: Started logging traces to the \"Default Project\" project at https://www.comet.com/opik/api/v1/session/redirect/projects/?trace_id=0197411f-4d69-7d17-be1c-bfb7fc60e73b&path=aHR0cHM6Ly93d3cuY29tZXQuY29tL29waWsvYXBpLw==.\n"
     ]
    },
    {
     "name": "stdout",
     "output_type": "stream",
     "text": [
      "Average Metric: 1.20 / 8 (15.0%): 100%|██████████| 8/8 [00:00<00:00,  8.18it/s]"
     ]
    },
    {
     "name": "stderr",
     "output_type": "stream",
     "text": [
      "OPIK: Started logging traces to the \"optimize-workshop-2025\" project at https://www.comet.com/opik/api/v1/session/redirect/projects/?trace_id=0197411f-4d78-7922-887b-4dc0e8b3dce5&path=aHR0cHM6Ly93d3cuY29tZXQuY29tL29waWsvYXBpLw==.\n"
     ]
    },
    {
     "name": "stdout",
     "output_type": "stream",
     "text": [
      "\n",
      "Score: 14.96 with parameters ['Predictor 0: Instruction 0', 'Predictor 0: Few-Shot Set 0'].\n",
      "Scores so far: [0.1496330137501949, 24.41, 24.41, 14.96, 9.6, 15.25, 14.96]\n",
      "Best score so far: 24.41\n",
      "=======================\n",
      "\n",
      "\n",
      "===== Trial 8 / 7 =====\n",
      "Evaluating the following candidate program...\n",
      "\n",
      "Predictor 0\n",
      "i: Imagine you are a quiz master in a high-stakes trivia competition where participants are vying for a grand prize. Your task is to accurately answer questions about historical sports and media figures. Use the `Predict(question) -> answer` module to provide precise responses to the questions posed by the contestants. Ensure your answers are based on the knowledge you have about notable individuals and their connections across different roles and timelines. For example, if asked about the future head coach of the University of Pittsburgh football team who was replaced by Dick Jauron as head coach of the Chicago Bears, respond with the correct name confidently.\n",
      "p: Answer:\n",
      "\n",
      "\n"
     ]
    },
    {
     "name": "stderr",
     "output_type": "stream",
     "text": [
      "OPIK: Started logging traces to the \"optimize-workshop-2025\" project at https://www.comet.com/opik/api/v1/session/redirect/projects/?trace_id=0197411f-4d75-7279-aef4-09a3a0663bd9&path=aHR0cHM6Ly93d3cuY29tZXQuY29tL29waWsvYXBpLw==.\n"
     ]
    },
    {
     "name": "stdout",
     "output_type": "stream",
     "text": [
      "  0%|          | 0/8 [00:00<?, ?it/s]"
     ]
    },
    {
     "name": "stderr",
     "output_type": "stream",
     "text": [
      "OPIK: Started logging traces to the \"Default Project\" project at https://www.comet.com/opik/api/v1/session/redirect/projects/?trace_id=0197411f-4d82-7787-89f6-51d0379f346b&path=aHR0cHM6Ly93d3cuY29tZXQuY29tL29waWsvYXBpLw==.\n"
     ]
    },
    {
     "name": "stdout",
     "output_type": "stream",
     "text": [
      "Average Metric: 0.19 / 1 (19.2%):   0%|          | 0/8 [00:00<?, ?it/s]"
     ]
    },
    {
     "name": "stderr",
     "output_type": "stream",
     "text": [
      "OPIK: Started logging traces to the \"Default Project\" project at https://www.comet.com/opik/api/v1/session/redirect/projects/?trace_id=0197411f-4d84-786f-ac67-17cb7d66af2b&path=aHR0cHM6Ly93d3cuY29tZXQuY29tL29waWsvYXBpLw==.\n"
     ]
    },
    {
     "name": "stdout",
     "output_type": "stream",
     "text": [
      "Average Metric: 0.28 / 2 (13.9%):  12%|█▎        | 1/8 [00:00<00:00, 1817.29it/s]"
     ]
    },
    {
     "name": "stderr",
     "output_type": "stream",
     "text": [
      "OPIK: Started logging traces to the \"optimize-workshop-2025\" project at https://www.comet.com/opik/api/v1/session/redirect/projects/?trace_id=0197411f-4d7e-790e-8734-22a5dfaefbb9&path=aHR0cHM6Ly93d3cuY29tZXQuY29tL29waWsvYXBpLw==.\n",
      "OPIK: Started logging traces to the \"Default Project\" project at https://www.comet.com/opik/api/v1/session/redirect/projects/?trace_id=0197411f-5140-7ad9-810d-9860ad993edf&path=aHR0cHM6Ly93d3cuY29tZXQuY29tL29waWsvYXBpLw==.\n"
     ]
    },
    {
     "name": "stdout",
     "output_type": "stream",
     "text": [
      "Average Metric: 0.46 / 3 (15.5%):  38%|███▊      | 3/8 [00:00<00:01,  3.09it/s]  "
     ]
    },
    {
     "name": "stderr",
     "output_type": "stream",
     "text": [
      "OPIK: Started logging traces to the \"optimize-workshop-2025\" project at https://www.comet.com/opik/api/v1/session/redirect/projects/?trace_id=0197411f-4d72-706b-9049-005633412233&path=aHR0cHM6Ly93d3cuY29tZXQuY29tL29waWsvYXBpLw==.\n",
      "OPIK: Started logging traces to the \"Default Project\" project at https://www.comet.com/opik/api/v1/session/redirect/projects/?trace_id=0197411f-5144-7aba-9c5a-661e95196440&path=aHR0cHM6Ly93d3cuY29tZXQuY29tL29waWsvYXBpLw==.\n"
     ]
    },
    {
     "name": "stdout",
     "output_type": "stream",
     "text": [
      "Average Metric: 0.88 / 4 (21.9%):  38%|███▊      | 3/8 [00:00<00:01,  3.09it/s]"
     ]
    },
    {
     "name": "stderr",
     "output_type": "stream",
     "text": [
      "OPIK: Started logging traces to the \"optimize-workshop-2025\" project at https://www.comet.com/opik/api/v1/session/redirect/projects/?trace_id=0197411f-4d70-7baa-a4b9-06148da3857e&path=aHR0cHM6Ly93d3cuY29tZXQuY29tL29waWsvYXBpLw==.\n",
      "OPIK: Started logging traces to the \"optimize-workshop-2025\" project at https://www.comet.com/opik/api/v1/session/redirect/projects/?trace_id=0197411f-4d7c-733b-b831-5846408ea8b3&path=aHR0cHM6Ly93d3cuY29tZXQuY29tL29waWsvYXBpLw==.\n",
      "OPIK: Started logging traces to the \"Default Project\" project at https://www.comet.com/opik/api/v1/session/redirect/projects/?trace_id=0197411f-514c-7bf5-a7c9-c24dc5b3ce46&path=aHR0cHM6Ly93d3cuY29tZXQuY29tL29waWsvYXBpLw==.\n",
      "OPIK: Started logging traces to the \"Default Project\" project at https://www.comet.com/opik/api/v1/session/redirect/projects/?trace_id=0197411f-514e-7687-8cfb-21dc7ffae63d&path=aHR0cHM6Ly93d3cuY29tZXQuY29tL29waWsvYXBpLw==.\n"
     ]
    },
    {
     "name": "stdout",
     "output_type": "stream",
     "text": [
      "Average Metric: 1.50 / 6 (25.0%):  62%|██████▎   | 5/8 [00:00<00:00,  3.09it/s]"
     ]
    },
    {
     "name": "stderr",
     "output_type": "stream",
     "text": [
      "OPIK: Started logging traces to the \"optimize-workshop-2025\" project at https://www.comet.com/opik/api/v1/session/redirect/projects/?trace_id=0197411f-4d73-7635-8f95-0be29712356b&path=aHR0cHM6Ly93d3cuY29tZXQuY29tL29waWsvYXBpLw==.\n",
      "OPIK: Started logging traces to the \"Default Project\" project at https://www.comet.com/opik/api/v1/session/redirect/projects/?trace_id=0197411f-5159-7042-b5b9-04dcf0d0a811&path=aHR0cHM6Ly93d3cuY29tZXQuY29tL29waWsvYXBpLw==.\n",
      "OPIK: Started logging traces to the \"Default Project\" project at https://www.comet.com/opik/api/v1/session/redirect/projects/?trace_id=0197411f-515b-79aa-955f-3ace36124971&path=aHR0cHM6Ly93d3cuY29tZXQuY29tL29waWsvYXBpLw==.\n"
     ]
    },
    {
     "name": "stdout",
     "output_type": "stream",
     "text": [
      "Average Metric: 1.78 / 8 (22.3%): 100%|██████████| 8/8 [00:00<00:00,  8.03it/s]\n",
      "Score: 22.26 with parameters ['Predictor 0: Instruction 2', 'Predictor 0: Few-Shot Set 4'].\n",
      "Scores so far: [0.1496330137501949, 24.41, 24.41, 14.96, 9.6, 15.25, 14.96, 22.26]\n",
      "Best score so far: 24.41\n",
      "=======================\n",
      "\n",
      "\n",
      "Returning best identified program with score 24.41!\n"
     ]
    }
   ],
   "source": [
    "result3 = optimizer.optimize_prompt(\n",
    "    dataset=opik_dataset,\n",
    "    metric=levenshtein_ratio,\n",
    "    task_config=task_config,\n",
    "    n_samples=10,\n",
    "    num_candidates=2,\n",
    "    num_trials=1,\n",
    "    auto=\"light\",\n",
    ")"
   ]
  },
  {
   "cell_type": "code",
   "execution_count": 26,
   "metadata": {
    "colab": {
     "base_uri": "https://localhost:8080/",
     "height": 321
    },
    "id": "qB57A11JkSAS",
    "outputId": "26287708-9a48-4d84-c279-01265d4950ff"
   },
   "outputs": [
    {
     "name": "stdout",
     "output_type": "stream",
     "text": [
      "\u001b[33m╔═\u001b[0m\u001b[33m════════════════════════════════════════════\u001b[0m\u001b[33m \u001b[0m\u001b[1;33mOptimization Complete\u001b[0m\u001b[33m \u001b[0m\u001b[33m════════════════════════════════════════════\u001b[0m\u001b[33m═╗\u001b[0m\n",
      "\u001b[33m║\u001b[0m                                                                                                                 \u001b[33m║\u001b[0m\n",
      "\u001b[33m║\u001b[0m \u001b[2mOptimizer:        \u001b[0m\u001b[2m \u001b[0m\u001b[1mMiproOptimizer\u001b[0m                                                                               \u001b[33m║\u001b[0m\n",
      "\u001b[33m║\u001b[0m \u001b[2mModel Used:       \u001b[0m\u001b[2m \u001b[0m\u001b[2mN/A\u001b[0m (\u001b[2mTemp:\u001b[0m \u001b[2mN/A\u001b[0m)                                                                              \u001b[33m║\u001b[0m\n",
      "\u001b[33m║\u001b[0m \u001b[2mMetric Evaluated: \u001b[0m\u001b[2m \u001b[0m\u001b[1mlevenshtein_ratio\u001b[0m                                                                            \u001b[33m║\u001b[0m\n",
      "\u001b[33m║\u001b[0m \u001b[2mInitial Score:    \u001b[0m\u001b[2m \u001b[0m\u001b[2mN/A\u001b[0m                                                                                          \u001b[33m║\u001b[0m\n",
      "\u001b[33m║\u001b[0m \u001b[2mFinal Best Score: \u001b[0m\u001b[2m \u001b[0m\u001b[1;36m0.2441\u001b[0m                                                                                       \u001b[33m║\u001b[0m\n",
      "\u001b[33m║\u001b[0m \u001b[2mTotal Improvement:\u001b[0m\u001b[2m \u001b[0m\u001b[2mN/A (no initial score)\u001b[0m                                                                       \u001b[33m║\u001b[0m\n",
      "\u001b[33m║\u001b[0m \u001b[2mRounds Completed: \u001b[0m\u001b[2m \u001b[0m0                                                                                            \u001b[33m║\u001b[0m\n",
      "\u001b[33m║\u001b[0m \u001b[2mStopped Early:    \u001b[0m\u001b[2m \u001b[0mN/A                                                                                          \u001b[33m║\u001b[0m\n",
      "\u001b[33m║\u001b[0m                                                                                                                 \u001b[33m║\u001b[0m\n",
      "\u001b[33m║\u001b[0m                                                                                                                 \u001b[33m║\u001b[0m\n",
      "\u001b[33m║\u001b[0m \u001b[34m╭─\u001b[0m\u001b[34m─────────────────────────────────────────\u001b[0m\u001b[34m \u001b[0m\u001b[1;34mFinal Optimized Prompt\u001b[0m\u001b[34m \u001b[0m\u001b[34m──────────────────────────────────────────\u001b[0m\u001b[34m─╮\u001b[0m \u001b[33m║\u001b[0m\n",
      "\u001b[33m║\u001b[0m \u001b[34m│\u001b[0m                                                                                                             \u001b[34m│\u001b[0m \u001b[33m║\u001b[0m\n",
      "\u001b[33m║\u001b[0m \u001b[34m│\u001b[0m  \u001b[1;35mSystem:\u001b[0m Imagine you are participating in a high-stakes trivia competition where your knowledge of sports   \u001b[34m│\u001b[0m \u001b[33m║\u001b[0m\n",
      "\u001b[33m║\u001b[0m \u001b[34m│\u001b[0m  and media figures will determine your success. Your task is to answer the following question accurately    \u001b[34m│\u001b[0m \u001b[33m║\u001b[0m\n",
      "\u001b[33m║\u001b[0m \u001b[34m│\u001b[0m  and quickly: {question}. Provide a concise and correct answer based on your understanding and knowledge    \u001b[34m│\u001b[0m \u001b[33m║\u001b[0m\n",
      "\u001b[33m║\u001b[0m \u001b[34m│\u001b[0m  of historical events and notable individuals.                                                              \u001b[34m│\u001b[0m \u001b[33m║\u001b[0m\n",
      "\u001b[33m║\u001b[0m \u001b[34m│\u001b[0m  ---                                                                                                        \u001b[34m│\u001b[0m \u001b[33m║\u001b[0m\n",
      "\u001b[33m║\u001b[0m \u001b[34m│\u001b[0m                                                                                                             \u001b[34m│\u001b[0m \u001b[33m║\u001b[0m\n",
      "\u001b[33m║\u001b[0m \u001b[34m╰─────────────────────────────────────────────────────────────────────────────────────────────────────────────╯\u001b[0m \u001b[33m║\u001b[0m\n",
      "\u001b[33m║\u001b[0m                                                                                                                 \u001b[33m║\u001b[0m\n",
      "\u001b[33m╚═════════════════════════════════════════════════════════════════════════════════════════════════════════════════╝\u001b[0m\n"
     ]
    }
   ],
   "source": [
    "result3.display()"
   ]
  },
  {
   "cell_type": "code",
   "execution_count": 31,
   "metadata": {
    "colab": {
     "base_uri": "https://localhost:8080/"
    },
    "id": "MlUMj1syDYEz",
    "outputId": "4cadfbef-5c77-49d1-9744-7e87d721f6ac"
   },
   "outputs": [
    {
     "data": {
      "text/plain": [
       "[{'augmented': True,\n",
       "  'question': 'What is the name of the future head coach of the University of Pittsburgh football team whom Dick Jauron replaced as head coach of the Chicago Bears on January 24, 1999?',\n",
       "  'answer': 'Dave Wannstedt'},\n",
       " {'augmented': True,\n",
       "  'question': 'Who was the son of British radio and television presenter and historian best known as an analyst of election results?',\n",
       "  'answer': 'David Dimbleby'}]"
      ]
     },
     "execution_count": 31,
     "metadata": {},
     "output_type": "execute_result"
    }
   ],
   "source": [
    "result3.demonstrations"
   ]
  },
  {
   "cell_type": "markdown",
   "metadata": {
    "id": "1finqE4pmOND"
   },
   "source": [
    "### Agent with Tools\n",
    "\n",
    "Now we'll try with tools. This will allow multi-prompt optimization."
   ]
  },
  {
   "cell_type": "markdown",
   "metadata": {
    "id": "pnojJsGMEocF"
   },
   "source": [
    "First, we need a tool. We'll use this one from DSPy:"
   ]
  },
  {
   "cell_type": "code",
   "execution_count": 32,
   "metadata": {
    "id": "0JoJKDAITusm"
   },
   "outputs": [],
   "source": [
    "# Tools:\n",
    "import dspy\n",
    "\n",
    "def search_wikipedia(query: str) -> list[str]:\n",
    "    \"\"\"\n",
    "    This agent is used to search wikipedia. It can retrieve additional details\n",
    "    about a topic.\n",
    "    \"\"\"\n",
    "    results = dspy.ColBERTv2(url=\"http://20.102.90.50:2017/wiki17_abstracts\")(\n",
    "        query, k=3\n",
    "    )\n",
    "    return [x[\"text\"] for x in results]"
   ]
  },
  {
   "cell_type": "markdown",
   "metadata": {
    "id": "u5v4pbcJEvEe"
   },
   "source": [
    "Let's test it out on a subject:"
   ]
  },
  {
   "cell_type": "code",
   "execution_count": 33,
   "metadata": {
    "colab": {
     "base_uri": "https://localhost:8080/"
    },
    "id": "kfuWKvEbT1BW",
    "outputId": "14d8deaf-408d-4a2e-dd8a-fc0f71fba092"
   },
   "outputs": [
    {
     "data": {
      "text/plain": [
       "['Developmental robotics | Developmental robotics (DevRob), sometimes called epigenetic robotics, is a scientific field which aims at studying the developmental mechanisms, architectures and constraints that allow lifelong and open-ended learning of new skills and new knowledge in embodied machines. As in human children, learning is expected to be cumulative and of progressively increasing complexity, and to result from self-exploration of the world in combination with social interaction. The typical methodological approach consists in starting from theories of human and animal development elaborated in fields such as developmental psychology, neuroscience, developmental and evolutionary biology, and linguistics, then to formalize and implement them in robots, sometimes exploring extensions or variants of them. The experimentation of those models in robots allows researchers to confront them with reality, and as a consequence developmental robotics also provides feedback and novel hypotheses on theories of human and animal development.',\n",
       " 'Evolutionary developmental robotics | Evolutionary developmental robotics (evo-devo-robo for short) refers to methodologies that systematically integrate evolutionary robotics, epigenetic robotics and morphogenetic robotics to study the evolution, physical and mental development and learning of natural intelligent systems in robotic systems. The field was formally suggested and fully discussed in a published paper and further discussed in a published dialogue.',\n",
       " 'Paladyn | Paladyn, \"Journal of Behavioral Robotics\", is a peer-reviewed scientific journal focussing on approaches to robotics that draw on analogies between autonomous robotics and embodied cognition, cognitive development, and the emergence of cognition and communication from social behavior. It is an electronic-only journal that publishes research on topics broadly related to neuronally and psychologically inspired robots and other behaving autonomous systems, including cognitive robotics, developmental robotics, evolutionary robotics, artificial embodied agents, self-organizing robot swarms, robot learning and adaptation, human–robot interaction, and neurally-inspired robot vision. It is published by Versita and the editor-in-chief is Gregor Schöner (Ruhr University Bochum).']"
      ]
     },
     "execution_count": 33,
     "metadata": {},
     "output_type": "execute_result"
    }
   ],
   "source": [
    "search_wikipedia(\"Developmental Robotics\")"
   ]
  },
  {
   "cell_type": "markdown",
   "metadata": {
    "id": "RYuUA68JEzd8"
   },
   "source": [
    "And it is easy to add the tools to the config. Let's go!"
   ]
  },
  {
   "cell_type": "code",
   "execution_count": 35,
   "metadata": {
    "colab": {
     "base_uri": "https://localhost:8080/",
     "height": 1000,
     "referenced_widgets": []
    },
    "id": "puUovlhHkFOi",
    "outputId": "d46b2268-d468-4953-ba2b-62a7130925cf"
   },
   "outputs": [
    {
     "name": "stdout",
     "output_type": "stream",
     "text": [
      "\n",
      "RUNNING WITH THE FOLLOWING LIGHT AUTO RUN SETTINGS:\n",
      "num_trials: 7\n",
      "minibatch: False\n",
      "num_candidates: 3\n",
      "valset size: 8\n",
      "\n",
      "\n",
      "==> STEP 1: BOOTSTRAP FEWSHOT EXAMPLES <==\n",
      "These will be used as few-shot example candidates for our program and for creating instructions.\n",
      "\n",
      "Bootstrapping N=3 sets of demonstrations...\n",
      "Bootstrapping set 1/3\n",
      "Bootstrapping set 2/3\n",
      "Bootstrapping set 3/3\n"
     ]
    },
    {
     "name": "stderr",
     "output_type": "stream",
     "text": [
      "  0%|          | 0/2 [00:00<?, ?it/s]OPIK: Started logging traces to the \"Default Project\" project at https://www.comet.com/opik/api/v1/session/redirect/projects/?trace_id=01974124-57d7-7040-8351-95fbdcefef35&path=aHR0cHM6Ly93d3cuY29tZXQuY29tL29waWsvYXBpLw==.\n",
      " 50%|█████     | 1/2 [00:03<00:03,  3.35s/it]OPIK: Started logging traces to the \"optimize-workshop-2025\" project at https://www.comet.com/opik/api/v1/session/redirect/projects/?trace_id=01974124-57d9-70e7-bc5a-23386e47c31f&path=aHR0cHM6Ly93d3cuY29tZXQuY29tL29waWsvYXBpLw==.\n",
      "OPIK: Started logging traces to the \"Default Project\" project at https://www.comet.com/opik/api/v1/session/redirect/projects/?trace_id=01974124-7a30-7260-8171-9be57385aca9&path=aHR0cHM6Ly93d3cuY29tZXQuY29tL29waWsvYXBpLw==.\n",
      "100%|██████████| 2/2 [00:12<00:00,  6.07s/it]\n"
     ]
    },
    {
     "name": "stdout",
     "output_type": "stream",
     "text": [
      "Bootstrapped 2 full traces after 1 examples for up to 1 rounds, amounting to 2 attempts.\n",
      "\n",
      "==> STEP 2: PROPOSE INSTRUCTION CANDIDATES <==\n",
      "We will use the few-shot examples from the previous step, a generated dataset summary, a summary of the program code, and a randomly selected prompting tip to propose instructions.\n",
      "SOURCE CODE: StringSignature(question, trajectory -> next_thought, next_tool_name, next_tool_args\n",
      "    instructions=\"Provide an answer to the question\\n\\nYou are an Agent. In each episode, you will be given the fields `question` as input. And you can see your past trajectory so far.\\nYour goal is to use one or more of the supplied tools to collect any necessary information for producing `answer`.\\n\\nTo do this, you will interleave next_thought, next_tool_name, and next_tool_args in each turn, and also when finishing the task.\\nAfter each tool call, you receive a resulting observation, which gets appended to your trajectory.\\n\\nWhen writing next_thought, you may reason about the current situation and plan for future steps.\\nWhen selecting the next_tool_name and its next_tool_args, the tool must be one of:\\n\\n(1) search_wikipedia, whose description is <desc>      This agent is used to search wikipedia. It can retrieve additional details      about a topic.      </desc>. It takes arguments {'query': {'type': 'string'}} in JSON format.\\n(2) finish, whose description is <desc>Marks the task as complete. That is, signals that all infomration for producing the outputs, i.e. `answer`, are now available to be extracted.</desc>. It takes arguments {} in JSON format.\"\n",
      "    question = Field(annotation=str required=True json_schema_extra={'__dspy_field_type': 'input', 'prefix': 'Question:', 'desc': '${question}'})\n",
      "    trajectory = Field(annotation=str required=True json_schema_extra={'__dspy_field_type': 'input', 'prefix': 'Trajectory:', 'desc': '${trajectory}'})\n",
      "    next_thought = Field(annotation=str required=True json_schema_extra={'__dspy_field_type': 'output', 'prefix': 'Next Thought:', 'desc': '${next_thought}'})\n",
      "    next_tool_name = Field(annotation=Literal['search_wikipedia', 'finish'] required=True json_schema_extra={'__dspy_field_type': 'output', 'prefix': 'Next Tool Name:', 'desc': '${next_tool_name}'})\n",
      "    next_tool_args = Field(annotation=dict[str, Any] required=True json_schema_extra={'__dspy_field_type': 'output', 'prefix': 'Next Tool Args:', 'desc': '${next_tool_args}'})\n",
      ")\n",
      "\n",
      "\n",
      "\n",
      "StringSignature(question, trajectory -> reasoning, answer\n",
      "    instructions='Provide an answer to the question'\n",
      "    question = Field(annotation=str required=True json_schema_extra={'__dspy_field_type': 'input', 'prefix': 'Question:', 'desc': '${question}'})\n",
      "    trajectory = Field(annotation=str required=True json_schema_extra={'__dspy_field_type': 'input', 'prefix': 'Trajectory:', 'desc': '${trajectory}'})\n",
      "    reasoning = Field(annotation=str required=True json_schema_extra={'prefix': \"Reasoning: Let's think step by step in order to\", 'desc': '${reasoning}', '__dspy_field_type': 'output'})\n",
      "    answer = Field(annotation=str required=True json_schema_extra={'__dspy_field_type': 'output', 'prefix': 'Answer:', 'desc': '${answer}'})\n",
      ")\n",
      "\n",
      "class ReAct(Module):\n",
      "    def __init__(self, signature, tools: list[Callable], max_iters=5):\n",
      "        \"\"\"\n",
      "        `tools` is either a list of functions, callable classes, or `dspy.Tool` instances.\n",
      "        \"\"\"\n",
      "\n",
      "        self.signature = signature = ensure_signature(signature)\n",
      "        self.max_iters = max_iters\n",
      "\n",
      "        tools = [t if isinstance(t, Tool) else Tool(t) for t in tools]\n",
      "        tools = {tool.name: tool for tool in tools}\n",
      "\n",
      "        inputs = \", \".join([f\"`{k}`\" for k in signature.input_fields.keys()])\n",
      "        outputs = \", \".join([f\"`{k}`\" for k in signature.output_fields.keys()])\n",
      "        instr = [f\"{signature.instructions}\\n\"] if signature.instructions else []\n",
      "\n",
      "        instr.extend(\n",
      "            [\n",
      "                f\"You are an Agent. In each episode, you will be given the fields {inputs} as input. And you can see your past trajectory so far.\",\n",
      "                f\"Your goal is to use one or more of the supplied tools to collect any necessary information for producing {outputs}.\\n\",\n",
      "                \"To do this, you will interleave next_thought, next_tool_name, and next_tool_args in each turn, and also when finishing the task.\",\n",
      "                \"After each tool call, you receive a resulting observation, which gets appended to your trajectory.\\n\",\n",
      "                \"When writing next_thought, you may reason about the current situation and plan for future steps.\",\n",
      "                \"When selecting the next_tool_name and its next_tool_args, the tool must be one of:\\n\",\n",
      "            ]\n",
      "        )\n",
      "\n",
      "        tools[\"finish\"] = Tool(\n",
      "            func=lambda: \"Completed.\",\n",
      "            name=\"finish\",\n",
      "            desc=f\"Marks the task as complete. That is, signals that all infomration for producing the outputs, i.e. {outputs}, are now available to be extracted.\",\n",
      "            args={},\n",
      "        )\n",
      "\n",
      "        for idx, tool in enumerate(tools.values()):\n",
      "            args = getattr(tool, \"args\")\n",
      "            desc = (f\", whose description is <desc>{tool.desc}</desc>.\" if tool.desc else \".\").replace(\"\\n\", \"  \")\n",
      "            desc += f\" It takes arguments {args} in JSON format.\"\n",
      "            instr.append(f\"({idx + 1}) {tool.name}{desc}\")\n",
      "\n",
      "        react_signature = (\n",
      "            dspy.Signature({**signature.input_fields}, \"\\n\".join(instr))\n",
      "            .append(\"trajectory\", dspy.InputField(), type_=str)\n",
      "            .append(\"next_thought\", dspy.OutputField(), type_=str)\n",
      "            .append(\"next_tool_name\", dspy.OutputField(), type_=Literal[tuple(tools.keys())])\n",
      "            .append(\"next_tool_args\", dspy.OutputField(), type_=dict[str, Any])\n",
      "        )\n",
      "\n",
      "        fallback_signature = dspy.Signature(\n",
      "            {**signature.input_fields, **signature.output_fields},\n",
      "            signature.instructions,\n",
      "        ).append(\"trajectory\", dspy.InputField(), type_=str)\n",
      "\n",
      "        self.tools = tools\n",
      "        self.react = dspy.Predict(react_signature)\n",
      "        self.extract = dspy.ChainOfThought(fallback_signature)\n",
      "\n",
      "    def _format_trajectory(self, trajectory: dict[str, Any]):\n",
      "        adapter = dspy.settings.adapter or dspy.ChatAdapter()\n",
      "        trajectory_signature = dspy.Signature(f\"{', '.join(trajectory.keys())} -> x\")\n",
      "        return adapter.format_user_message_content(trajectory_signature, trajectory)\n",
      "\n",
      "    def forward(self, **input_args):\n",
      "        trajectory = {}\n",
      "        max_iters = input_args.pop(\"max_iters\", self.max_iters)\n",
      "        for idx in range(max_iters):\n",
      "            try:\n",
      "                pred = self._call_with_potential_trajectory_truncation(self.react, trajectory, **input_args)\n",
      "            except ValueError as err:\n",
      "                logger.warning(f\"Ending the trajectory: Agent failed to select a valid tool: {_fmt_exc(err)}\")\n",
      "                break\n",
      "\n",
      "            trajectory[f\"thought_{idx}\"] = pred.next_thought\n",
      "            trajectory[f\"tool_name_{idx}\"] = pred.next_tool_name\n",
      "            trajectory[f\"tool_args_{idx}\"] = pred.next_tool_args\n",
      "\n",
      "            try:\n",
      "                trajectory[f\"observation_{idx}\"] = self.tools[pred.next_tool_name](**pred.next_tool_args)\n",
      "            except Exception as err:\n",
      "                trajectory[f\"observation_{idx}\"] = f\"Execution error in {pred.next_tool_name}: {_fmt_exc(err)}\"\n",
      "\n",
      "            if pred.next_tool_name == \"finish\":\n",
      "                break\n",
      "\n",
      "        extract = self._call_with_potential_trajectory_truncation(self.extract, trajectory, **input_args)\n",
      "        return dspy.Prediction(trajectory=trajectory, **extract)\n",
      "\n",
      "    def _call_with_potential_trajectory_truncation(self, module, trajectory, **input_args):\n",
      "        for _ in range(3):\n",
      "            try:\n",
      "                return module(\n",
      "                    **input_args,\n",
      "                    trajectory=self._format_trajectory(trajectory),\n",
      "                )\n",
      "            except ContextWindowExceededError:\n",
      "                logger.warning(\"Trajectory exceeded the context window, truncating the oldest tool call information.\")\n",
      "                trajectory = self.truncate_trajectory(trajectory)\n",
      "\n",
      "    def truncate_trajectory(self, trajectory):\n",
      "        \"\"\"Truncates the trajectory so that it fits in the context window.\n",
      "\n",
      "        Users can override this method to implement their own truncation logic.\n",
      "        \"\"\"\n",
      "        keys = list(trajectory.keys())\n",
      "        if len(keys) < 4:\n",
      "            # Every tool call has 4 keys: thought, tool_name, tool_args, and observation.\n",
      "            raise ValueError(\n",
      "                \"The trajectory is too long so your prompt exceeded the context window, but the trajectory cannot be \"\n",
      "                \"truncated because it only has one tool call.\"\n",
      "            )\n",
      "\n",
      "        for key in keys[:4]:\n",
      "            trajectory.pop(key)\n",
      "\n",
      "        return trajectory\n",
      "\n"
     ]
    },
    {
     "name": "stderr",
     "output_type": "stream",
     "text": [
      "OPIK: Started logging traces to the \"optimize-workshop-2025\" project at https://www.comet.com/opik/api/v1/session/redirect/projects/?trace_id=01974124-7a3f-7c6f-818e-fa7806318b98&path=aHR0cHM6Ly93d3cuY29tZXQuY29tL29waWsvYXBpLw==.\n"
     ]
    },
    {
     "name": "stdout",
     "output_type": "stream",
     "text": [
      "DATA SUMMARY: The dataset primarily consists of questions targeting specific individuals or companies, aiming to extract concise and factual information. This structure indicates a focus on delivering clear trivia or insights related to notable figures and business operations.\n",
      "\n",
      "Proposing instructions...\n",
      "\n",
      "Using a randomly generated configuration for our grounded proposer.\n",
      "Selected tip: persona\n",
      "PROGRAM DESCRIPTION: The program appears to be designed to solve information retrieval tasks using a language model that interacts with external tools, specifically a Wikipedia search tool. It operates by taking a question as input and maintaining a trajectory of prior actions and thoughts throughout the process. The agent uses the trajectory to inform its reasoning and decide on the next steps to gather necessary information.\n",
      "\n",
      "The program functions in a step-wise manner, where it generates a `next_thought` based on the current state and then selects a `next_tool_name` (either to search Wikipedia or to finish the task) along with the corresponding `next_tool_args`. After executing a tool (like searching Wikipedia), the results are appended to the trajectory, allowing the agent to build on previous information iteratively. Once it determines that it has collected enough data, it can signal completion of the task. The overall goal is to arrive at a well-informed answer to the initial question posed.\n",
      "task_demos No task demos provided.\n",
      "\n",
      "\n",
      "\n",
      "\n",
      "\u001b[34m[2025-06-05T18:30:15.261443]\u001b[0m\n",
      "\n",
      "\u001b[31mSystem message:\u001b[0m\n",
      "\n",
      "Your input fields are:\n",
      "1. `dataset_description` (str): A description of the dataset that we are using.\n",
      "2. `program_code` (str): Language model program designed to solve a particular task.\n",
      "3. `program_description` (str): Summary of the task the program is designed to solve, and how it goes about solving it.\n",
      "4. `module` (str): The module to create an instruction for.\n",
      "5. `module_description` (str): Description of the module to create an instruction for.\n",
      "6. `task_demos` (str): Example inputs/outputs of our module.\n",
      "7. `basic_instruction` (str): Basic instruction.\n",
      "8. `tip` (str): A suggestion for how to go about generating the new instruction.\n",
      "Your output fields are:\n",
      "1. `proposed_instruction` (str): Propose an instruction that will be used to prompt a Language Model to perform this task.\n",
      "All interactions will be structured in the following way, with the appropriate values filled in.\n",
      "\n",
      "[[ ## dataset_description ## ]]\n",
      "{dataset_description}\n",
      "\n",
      "[[ ## program_code ## ]]\n",
      "{program_code}\n",
      "\n",
      "[[ ## program_description ## ]]\n",
      "{program_description}\n",
      "\n",
      "[[ ## module ## ]]\n",
      "{module}\n",
      "\n",
      "[[ ## module_description ## ]]\n",
      "{module_description}\n",
      "\n",
      "[[ ## task_demos ## ]]\n",
      "{task_demos}\n",
      "\n",
      "[[ ## basic_instruction ## ]]\n",
      "{basic_instruction}\n",
      "\n",
      "[[ ## tip ## ]]\n",
      "{tip}\n",
      "\n",
      "[[ ## proposed_instruction ## ]]\n",
      "{proposed_instruction}\n",
      "\n",
      "[[ ## completed ## ]]\n",
      "In adhering to this structure, your objective is: \n",
      "        Use the information below to learn about a task that we are trying to solve using calls to an LM, then generate a new instruction that will be used to prompt a Language Model to better solve the task.\n",
      "\n",
      "\n",
      "\u001b[31mUser message:\u001b[0m\n",
      "\n",
      "[[ ## dataset_description ## ]]\n",
      "The dataset primarily consists of questions targeting specific individuals or companies, aiming to extract concise and factual information. This structure indicates a focus on delivering clear trivia or insights related to notable figures and business operations.\n",
      "\n",
      "[[ ## program_code ## ]]\n",
      "StringSignature(question, trajectory -> next_thought, next_tool_name, next_tool_args\n",
      "    instructions=\"Provide an answer to the question\\n\\nYou are an Agent. In each episode, you will be given the fields `question` as input. And you can see your past trajectory so far.\\nYour goal is to use one or more of the supplied tools to collect any necessary information for producing `answer`.\\n\\nTo do this, you will interleave next_thought, next_tool_name, and next_tool_args in each turn, and also when finishing the task.\\nAfter each tool call, you receive a resulting observation, which gets appended to your trajectory.\\n\\nWhen writing next_thought, you may reason about the current situation and plan for future steps.\\nWhen selecting the next_tool_name and its next_tool_args, the tool must be one of:\\n\\n(1) search_wikipedia, whose description is <desc>      This agent is used to search wikipedia. It can retrieve additional details      about a topic.      </desc>. It takes arguments {'query': {'type': 'string'}} in JSON format.\\n(2) finish, whose description is <desc>Marks the task as complete. That is, signals that all infomration for producing the outputs, i.e. `answer`, are now available to be extracted.</desc>. It takes arguments {} in JSON format.\"\n",
      "    question = Field(annotation=str required=True json_schema_extra={'__dspy_field_type': 'input', 'prefix': 'Question:', 'desc': '${question}'})\n",
      "    trajectory = Field(annotation=str required=True json_schema_extra={'__dspy_field_type': 'input', 'prefix': 'Trajectory:', 'desc': '${trajectory}'})\n",
      "    next_thought = Field(annotation=str required=True json_schema_extra={'__dspy_field_type': 'output', 'prefix': 'Next Thought:', 'desc': '${next_thought}'})\n",
      "    next_tool_name = Field(annotation=Literal['search_wikipedia', 'finish'] required=True json_schema_extra={'__dspy_field_type': 'output', 'prefix': 'Next Tool Name:', 'desc': '${next_tool_name}'})\n",
      "    next_tool_args = Field(annotation=dict[str, Any] required=True json_schema_extra={'__dspy_field_type': 'output', 'prefix': 'Next Tool Args:', 'desc': '${next_tool_args}'})\n",
      ")\n",
      "\n",
      "\n",
      "\n",
      "StringSignature(question, trajectory -> reasoning, answer\n",
      "    instructions='Provide an answer to the question'\n",
      "    question = Field(annotation=str required=True json_schema_extra={'__dspy_field_type': 'input', 'prefix': 'Question:', 'desc': '${question}'})\n",
      "    trajectory = Field(annotation=str required=True json_schema_extra={'__dspy_field_type': 'input', 'prefix': 'Trajectory:', 'desc': '${trajectory}'})\n",
      "    reasoning = Field(annotation=str required=True json_schema_extra={'prefix': \"Reasoning: Let's think step by step in order to\", 'desc': '${reasoning}', '__dspy_field_type': 'output'})\n",
      "    answer = Field(annotation=str required=True json_schema_extra={'__dspy_field_type': 'output', 'prefix': 'Answer:', 'desc': '${answer}'})\n",
      ")\n",
      "\n",
      "class ReAct(Module):\n",
      "    def __init__(self, signature, tools: list[Callable], max_iters=5):\n",
      "        \"\"\"\n",
      "        `tools` is either a list of functions, callable classes, or `dspy.Tool` instances.\n",
      "        \"\"\"\n",
      "\n",
      "        self.signature = signature = ensure_signature(signature)\n",
      "        self.max_iters = max_iters\n",
      "\n",
      "        tools = [t if isinstance(t, Tool) else Tool(t) for t in tools]\n",
      "        tools = {tool.name: tool for tool in tools}\n",
      "\n",
      "        inputs = \", \".join([f\"`{k}`\" for k in signature.input_fields.keys()])\n",
      "        outputs = \", \".join([f\"`{k}`\" for k in signature.output_fields.keys()])\n",
      "        instr = [f\"{signature.instructions}\\n\"] if signature.instructions else []\n",
      "\n",
      "        instr.extend(\n",
      "            [\n",
      "                f\"You are an Agent. In each episode, you will be given the fields {inputs} as input. And you can see your past trajectory so far.\",\n",
      "                f\"Your goal is to use one or more of the supplied tools to collect any necessary information for producing {outputs}.\\n\",\n",
      "                \"To do this, you will interleave next_thought, next_tool_name, and next_tool_args in each turn, and also when finishing the task.\",\n",
      "                \"After each tool call, you receive a resulting observation, which gets appended to your trajectory.\\n\",\n",
      "                \"When writing next_thought, you may reason about the current situation and plan for future steps.\",\n",
      "                \"When selecting the next_tool_name and its next_tool_args, the tool must be one of:\\n\",\n",
      "            ]\n",
      "        )\n",
      "\n",
      "        tools[\"finish\"] = Tool(\n",
      "            func=lambda: \"Completed.\",\n",
      "            name=\"finish\",\n",
      "            desc=f\"Marks the task as complete. That is, signals that all infomration for producing the outputs, i.e. {outputs}, are now available to be extracted.\",\n",
      "            args={},\n",
      "        )\n",
      "\n",
      "        for idx, tool in enumerate(tools.values()):\n",
      "            args = getattr(tool, \"args\")\n",
      "            desc = (f\", whose description is <desc>{tool.desc}</desc>.\" if tool.desc else \".\").replace(\"\\n\", \"  \")\n",
      "            desc += f\" It takes arguments {args} in JSON format.\"\n",
      "            instr.append(f\"({idx + 1}) {tool.name}{desc}\")\n",
      "\n",
      "        react_signature = (\n",
      "            dspy.Signature({**signature.input_fields}, \"\\n\".join(instr))\n",
      "            .append(\"trajectory\", dspy.InputField(), type_=str)\n",
      "            .append(\"next_thought\", dspy.OutputField(), type_=str)\n",
      "            .append(\"next_tool_name\", dspy.OutputField(), type_=Literal[tuple(tools.keys())])\n",
      "            .append(\"next_tool_args\", dspy.OutputField(), type_=dict[str, Any])\n",
      "        )\n",
      "\n",
      "        fallback_signature = dspy.Signature(\n",
      "            {**signature.input_fields, **signature.output_fields},\n",
      "            signature.instructions,\n",
      "        ).append(\"trajectory\", dspy.InputField(), type_=str)\n",
      "\n",
      "        self.tools = tools\n",
      "        self.react = dspy.Predict(react_signature)\n",
      "        self.extract = dspy.ChainOfThought(fallback_signature)\n",
      "\n",
      "    def _format_trajectory(self, trajectory: dict[str, Any]):\n",
      "        adapter = dspy.settings.adapter or dspy.ChatAdapter()\n",
      "        trajectory_signature = dspy.Signature(f\"{', '.join(trajectory.keys())} -> x\")\n",
      "        return adapter.format_user_message_content(trajectory_signature, trajectory)\n",
      "\n",
      "    def forward(self, **input_args):\n",
      "        trajectory = {}\n",
      "        max_iters = input_args.pop(\"max_iters\", self.max_iters)\n",
      "        for idx in range(max_iters):\n",
      "            try:\n",
      "                pred = self._call_with_potential_trajectory_truncation(self.react, trajectory, **input_args)\n",
      "            except ValueError as err:\n",
      "                logger.warning(f\"Ending the trajectory: Agent failed to select a valid tool: {_fmt_exc(err)}\")\n",
      "                break\n",
      "\n",
      "            trajectory[f\"thought_{idx}\"] = pred.next_thought\n",
      "            trajectory[f\"tool_name_{idx}\"] = pred.next_tool_name\n",
      "            trajectory[f\"tool_args_{idx}\"] = pred.next_tool_args\n",
      "\n",
      "            try:\n",
      "                trajectory[f\"observation_{idx}\"] = self.tools[pred.next_tool_name](**pred.next_tool_args)\n",
      "            except Exception as err:\n",
      "                trajectory[f\"observation_{idx}\"] = f\"Execution error in {pred.next_tool_name}: {_fmt_exc(err)}\"\n",
      "\n",
      "            if pred.next_tool_name == \"finish\":\n",
      "                break\n",
      "\n",
      "        extract = self._call_with_potential_trajectory_truncation(self.extract, trajectory, **input_args)\n",
      "        return dspy.Prediction(trajectory=trajectory, **extract)\n",
      "\n",
      "    def _call_with_potential_trajectory_truncation(self, module, trajectory, **input_args):\n",
      "        for _ in range(3):\n",
      "            try:\n",
      "                return module(\n",
      "                    **input_args,\n",
      "                    trajectory=self._format_trajectory(trajectory),\n",
      "                )\n",
      "            except ContextWindowExceededError:\n",
      "                logger.warning(\"Trajectory exceeded the context window, truncating the oldest tool call information.\")\n",
      "                trajectory = self.truncate_trajectory(trajectory)\n",
      "\n",
      "    def truncate_trajectory(self, trajectory):\n",
      "        \"\"\"Truncates the trajectory so that it fits in the context window.\n",
      "\n",
      "        Users can override this method to implement their own truncation logic.\n",
      "        \"\"\"\n",
      "        keys = list(trajectory.keys())\n",
      "        if len(keys) < 4:\n",
      "            # Every tool call has 4 keys: thought, tool_name, tool_args, and observation.\n",
      "            raise ValueError(\n",
      "                \"The trajectory is too long so your prompt exceeded the context window, but the trajectory cannot be \"\n",
      "                \"truncated because it only has one tool call.\"\n",
      "            )\n",
      "\n",
      "        for key in keys[:4]:\n",
      "            trajectory.pop(key)\n",
      "\n",
      "        return trajectory\n",
      "\n",
      "\n",
      "[[ ## program_description ## ]]\n",
      "The program appears to be designed to solve information retrieval tasks using a language model that interacts with external tools, specifically a Wikipedia search tool. It operates by taking a question as input and maintaining a trajectory of prior actions and thoughts throughout the process. The agent uses the trajectory to inform its reasoning and decide on the next steps to gather necessary information.\n",
      "\n",
      "The program functions in a step-wise manner, where it generates a `next_thought` based on the current state and then selects a `next_tool_name` (either to search Wikipedia or to finish the task) along with the corresponding `next_tool_args`. After executing a tool (like searching Wikipedia), the results are appended to the trajectory, allowing the agent to build on previous information iteratively. Once it determines that it has collected enough data, it can signal completion of the task. The overall goal is to arrive at a well-informed answer to the initial question posed.\n",
      "\n",
      "[[ ## module ## ]]\n",
      "Predict(question, trajectory) -> next_thought, next_tool_name, next_tool_args\n",
      "\n",
      "[[ ## module_description ## ]]\n",
      "The `Predict` module is responsible for generating the next steps in the information retrieval process based on the current question and the trajectory of previous actions and thoughts. It takes the `question` and the `trajectory` as inputs and outputs three critical components: `next_thought`, which is the agent's reasoning about the current situation; `next_tool_name`, which indicates which tool the agent should use next (either to search Wikipedia or to finish the task); and `next_tool_args`, which provides the necessary arguments for the selected tool. This module plays a crucial role in guiding the agent's decision-making process, ensuring that it effectively utilizes the tools available to gather information and build a comprehensive answer to the initial question.\n",
      "\n",
      "[[ ## task_demos ## ]]\n",
      "No task demos provided.\n",
      "\n",
      "[[ ## basic_instruction ## ]]\n",
      "Provide an answer to the question\n",
      "\n",
      "You are an Agent. In each episode, you will be given the fields `question` as input. And you can see your past trajectory so far.\n",
      "Your goal is to use one or more of the supplied tools to collect any necessary information for producing `answer`.\n",
      "\n",
      "To do this, you will interleave next_thought, next_tool_name, and next_tool_args in each turn, and also when finishing the task.\n",
      "After each tool call, you receive a resulting observation, which gets appended to your trajectory.\n",
      "\n",
      "When writing next_thought, you may reason about the current situation and plan for future steps.\n",
      "When selecting the next_tool_name and its next_tool_args, the tool must be one of:\n",
      "\n",
      "(1) search_wikipedia, whose description is <desc>      This agent is used to search wikipedia. It can retrieve additional details      about a topic.      </desc>. It takes arguments {'query': {'type': 'string'}} in JSON format.\n",
      "(2) finish, whose description is <desc>Marks the task as complete. That is, signals that all infomration for producing the outputs, i.e. `answer`, are now available to be extracted.</desc>. It takes arguments {} in JSON format.\n",
      "\n",
      "[[ ## tip ## ]]\n",
      "Include a persona that is relevant to the task in the instruction (ie. \"You are a ...\")\n",
      "\n",
      "Respond with the corresponding output fields, starting with the field `[[ ## proposed_instruction ## ]]`, and then ending with the marker for `[[ ## completed ## ]]`.\n",
      "\n",
      "\n",
      "\u001b[31mResponse:\u001b[0m\n",
      "\n",
      "\u001b[32m[[ ## proposed_instruction ## ]]\n",
      "You are a knowledgeable trivia agent tasked with answering specific questions about notable individuals and companies. In each episode, you will receive a `question` as input and have access to your past actions and thoughts (the `trajectory`). Your goal is to use the provided tools to gather necessary information and produce a concise `answer`.\n",
      "\n",
      "To achieve this, interleave your reasoning (`next_thought`), the tool you will use next (`next_tool_name`), and any arguments for that tool (`next_tool_args`) in each turn, including when you finish the task. After each tool call, append the results to your trajectory.\n",
      "\n",
      "When generating your `next_thought`, consider the current state and plan your next steps. Choose the next tool from the following options:\n",
      "\n",
      "(1) **search_wikipedia**: This tool allows you to search Wikipedia for more details about a topic. It takes arguments in JSON format: `{'query': {'type': 'string'}}`.\n",
      "\n",
      "(2) **finish**: This tool marks the task as complete, indicating that you have gathered all necessary information for producing the outputs, i.e., the `answer`. It takes no arguments.\n",
      "\n",
      "Make sure to provide clear and factual information in your responses. \n",
      "\n",
      "[[ ## completed ## ]]\u001b[0m\n",
      "\n",
      "\n",
      "\n",
      "\n",
      "\n",
      "PROPOSED INSTRUCTION: You are a knowledgeable trivia agent tasked with answering specific questions about notable individuals and companies. In each episode, you will receive a `question` as input and have access to your past actions and thoughts (the `trajectory`). Your goal is to use the provided tools to gather necessary information and produce a concise `answer`.\n",
      "\n",
      "To achieve this, interleave your reasoning (`next_thought`), the tool you will use next (`next_tool_name`), and any arguments for that tool (`next_tool_args`) in each turn, including when you finish the task. After each tool call, append the results to your trajectory.\n",
      "\n",
      "When generating your `next_thought`, consider the current state and plan your next steps. Choose the next tool from the following options:\n",
      "\n",
      "(1) **search_wikipedia**: This tool allows you to search Wikipedia for more details about a topic. It takes arguments in JSON format: `{'query': {'type': 'string'}}`.\n",
      "\n",
      "(2) **finish**: This tool marks the task as complete, indicating that you have gathered all necessary information for producing the outputs, i.e., the `answer`. It takes no arguments.\n",
      "\n",
      "Make sure to provide clear and factual information in your responses.\n",
      "Using a randomly generated configuration for our grounded proposer.\n",
      "Selected tip: high_stakes\n",
      "PROGRAM DESCRIPTION: The program is designed to solve questions by utilizing a combination of reasoning and external information retrieval, specifically from Wikipedia. It takes a user-provided question and a trajectory of past actions (thoughts and tool usages) as input. The program operates in an iterative manner, where it generates a \"next thought\" to reason about the current situation, decides which tool to use (either to search Wikipedia for more information or to finish the task), and specifies the necessary arguments for that tool. After each tool call, it appends the resulting observations to the trajectory, enabling it to build context and inform future decisions. The process continues until the program gathers enough information to formulate an answer or decides that it has completed the task.\n",
      "task_demos Question: whos family had their own reality tv show. Robert Kardashian or Manvel Gamburyan?\n",
      "Trajectory: [[ ## thought_0 ## ]]\n",
      "I need to determine which individual, Robert Kardashian or Manvel Gamburyan, had a family that starred in a reality TV show. Robert Kardashian is known for being part of the Kardashian family, who are famous for their reality show \"Keeping Up with the Kardashians.\" I need to confirm this information and check if Manvel Gamburyan has any similar associations with reality TV.\n",
      "\n",
      "[[ ## tool_name_0 ## ]]\n",
      "search_wikipedia\n",
      "\n",
      "[[ ## tool_args_0 ## ]]\n",
      "{\"query\": \"Robert Kardashian family reality TV show\"}\n",
      "\n",
      "[[ ## observation_0 ## ]]\n",
      "[1] «Rob Kardashian | Robert Arthur Kardashian (born March 17, 1987) is an American television personality and businessman. He is known for appearing on \"Keeping Up with the Kardashians\", a reality television series that centers upon his family, as well as its spin-offs. In 2011, Kardashian also competed in the thirteenth season of ABC's \"Dancing with the Stars\", during which he placed second.»\n",
      "[2] «Robert Kardashian | Robert George Kardashian (February 22, 1944 – September 30, 2003) was an American attorney and businessman. He gained national recognition as O. J. Simpson's friend and defense attorney during Simpson's 1995 murder trial. He had four children with his first wife, Kris Kardashian (née Houghton, later Jenner): Kourtney, Kim, Khloé, and Rob, who appear on their family reality television series, \"Keeping Up with the Kardashians\", and its spinoffs.»\n",
      "[3] «Keeping Up with the Kardashians | Keeping Up with the Kardashians (often abbreviated KUWTK) is an American reality television series that airs on the E! cable network. The show focuses on the personal and professional lives of the Kardashian–Jenner blended family. Its premise originated with Ryan Seacrest, who also serves as an executive producer. The series debuted on October 14, 2007 and has subsequently become one of the longest-running reality television series in the country. The fourteenth season of the series will premiere on October 1, 2017.»\n",
      "\n",
      "[[ ## thought_1 ## ]]\n",
      "I have confirmed that Robert Kardashian's family had their own reality TV show, \"Keeping Up with the Kardashians.\" Now, I need to check if Manvel Gamburyan has any association with a reality TV show to compare the two.\n",
      "\n",
      "[[ ## tool_name_1 ## ]]\n",
      "search_wikipedia\n",
      "\n",
      "[[ ## tool_args_1 ## ]]\n",
      "{\"query\": \"Manvel Gamburyan family reality TV show\"}\n",
      "\n",
      "[[ ## observation_1 ## ]]\n",
      "[1] «Manvel Gamburyan | Manvel \"Manny\" Gamburyan (Armenian: Մանվել Գամբուրյան ; born May 8, 1981) is a retired Armenian-American fighter who competed in the UFC's Bantamweight and Featherweight divisions. A professional competitor since 1999, he was a cast member of Spike TV's The Ultimate Fighter 5, and also competed in the WEC and for King of the Cage.»\n",
      "[2] «Karen Darabedyan | Karen Darabedyan (born December 18, 1986) is an Armenian professional mixed martial artist. He is best known for fighting in WEC's lightweight division. He is a training partner of Karo Parisyan and Manvel Gamburyan. He had a 12-0 amateur boxing record before he began MMA.»\n",
      "[3] «Manvel Agaronyan | Manvel Ashotovich Agaronyan (Russian: Манвел Ашотович Агаронян ; born 30 November 1997) is a Russian football player. He plays for FC SKA-Khabarovsk.»\n",
      "Next Thought: I have found that Manvel Gamburyan was a cast member of \"The Ultimate Fighter 5,\" which is a reality TV show focused on mixed martial arts. However, it does not involve his family in the same way that \"Keeping Up with the Kardashians\" does. Therefore, Robert Kardashian's family is more prominently associated with a reality TV show. I can now conclude that Robert Kardashian's family had their own reality TV show, while Manvel Gamburyan's association is more about his participation in a competition rather than a family-oriented show.\n",
      "Next Tool Name: finish\n",
      "Next Tool Args: {}\n",
      "\n",
      "Question: Rectrix Aviation's jet charter business involves what service?\n",
      "Trajectory: [[ ## thought_0 ## ]]\n",
      "I need to gather information about Rectrix Aviation's jet charter business and the specific services they offer. Searching Wikipedia could provide detailed insights into their operations and services.\n",
      "\n",
      "[[ ## tool_name_0 ## ]]\n",
      "search_wikipedia\n",
      "\n",
      "[[ ## tool_args_0 ## ]]\n",
      "{\"query\": \"Rectrix Aviation jet charter services\"}\n",
      "\n",
      "[[ ## observation_0 ## ]]\n",
      "[1] «Rectrix Aviation | Rectrix Aviation is a jet charter and commuter airline service that primarily serves New England, Florida and the east coast. Its commercial operations are based out of Nantucket Memorial Airport and Barnstable Municipal Airport in Nantucket, MA and Hyannis, MA, respectively. The only commercial flight it operates is between Nantucket and Hyannis. Rectrix Shuttle, the commuter service, was founded when Island Airlines of Nantucket shut down.»\n",
      "[2] «Veritair | Veritair Aviation Limited is a helicopter charter company based at Cardiff Heliport, in Cardiff, Wales. It operates year-round charter and contract helicopter services throughout United Kingdom and Europe. Veritair Aviation has major contracts with the BBC for measurement of transmitting antenna radiation patterns throughout the UK and further afield, QinetiQ for recovering MOD targets offshore and provides a British Transport Police helicopter to patrol and secure railway lines throughout the UK.»\n",
      "[3] «Ameristar Jet Charter | Ameristar Air Cargo, Inc. is an American passenger and cargo airline based in Dallas, Texas, USA. It operates passengers and cargo services in the Americas, as well as acting as a broker to other cargo carriers. Its main base is Addison Airport in north Dallas, with hubs at Willow Run Airport, and El Paso International Airport»\n",
      "\n",
      "[[ ## thought_1 ## ]]\n",
      "I found some information about Rectrix Aviation's jet charter services. They primarily serve New England, Florida, and the east coast, and their operations are based out of Nantucket Memorial Airport and Barnstable Municipal Airport. They also have a commuter service called Rectrix Shuttle. I need to confirm if there are any additional services or details about their jet charter business.\n",
      "\n",
      "[[ ## tool_name_1 ## ]]\n",
      "search_wikipedia\n",
      "\n",
      "[[ ## tool_args_1 ## ]]\n",
      "{\"query\": \"Rectrix Aviation services offered\"}\n",
      "\n",
      "[[ ## observation_1 ## ]]\n",
      "[1] «Rectrix Aviation | Rectrix Aviation is a jet charter and commuter airline service that primarily serves New England, Florida and the east coast. Its commercial operations are based out of Nantucket Memorial Airport and Barnstable Municipal Airport in Nantucket, MA and Hyannis, MA, respectively. The only commercial flight it operates is between Nantucket and Hyannis. Rectrix Shuttle, the commuter service, was founded when Island Airlines of Nantucket shut down.»\n",
      "[2] «DayJet | DayJet was an American commercial aviation operation that provided on-demand jet travel using Eclipse 500 very light jets. Founded by Ed Iacobucci, the former leader of the IBM-Microsoft Joint OS/2 development team IBM executive and the founder of Citrix Systems and his wife, network architect Nancy Lee Iacobucci, DayJet launched in October 2007. It was based in Delray Beach, Florida.»\n",
      "[3] «CitationAir | CitationAir by Cessna, founded in 2000 as CitationShares, is a subsidiary of Cessna Aircraft Company that provides private aviation services. It offered services in fractional jet ownership, jet card membership, corporate solutions and whole aircraft management. CitationAir was one of the four major players in the private aviation market. It is a seven-time winner of Best of the Best awards from the \"Robb Report\", most recently in 2009.»\n",
      "Next Thought: I have not found any additional information about Rectrix Aviation's jet charter services beyond what I already know. It seems that their primary service is jet chartering along with a commuter service called Rectrix Shuttle. I will finish the task as I have enough information to answer the question.\n",
      "Next Tool Name: finish\n",
      "Next Tool Args: {}\n",
      "\n",
      "\n",
      "\n",
      "\n",
      "\n",
      "\n",
      "\u001b[34m[2025-06-05T18:30:26.528822]\u001b[0m\n",
      "\n",
      "\u001b[31mSystem message:\u001b[0m\n",
      "\n",
      "Your input fields are:\n",
      "1. `dataset_description` (str): A description of the dataset that we are using.\n",
      "2. `program_code` (str): Language model program designed to solve a particular task.\n",
      "3. `program_description` (str): Summary of the task the program is designed to solve, and how it goes about solving it.\n",
      "4. `module` (str): The module to create an instruction for.\n",
      "5. `module_description` (str): Description of the module to create an instruction for.\n",
      "6. `task_demos` (str): Example inputs/outputs of our module.\n",
      "7. `basic_instruction` (str): Basic instruction.\n",
      "8. `tip` (str): A suggestion for how to go about generating the new instruction.\n",
      "Your output fields are:\n",
      "1. `proposed_instruction` (str): Propose an instruction that will be used to prompt a Language Model to perform this task.\n",
      "All interactions will be structured in the following way, with the appropriate values filled in.\n",
      "\n",
      "[[ ## dataset_description ## ]]\n",
      "{dataset_description}\n",
      "\n",
      "[[ ## program_code ## ]]\n",
      "{program_code}\n",
      "\n",
      "[[ ## program_description ## ]]\n",
      "{program_description}\n",
      "\n",
      "[[ ## module ## ]]\n",
      "{module}\n",
      "\n",
      "[[ ## module_description ## ]]\n",
      "{module_description}\n",
      "\n",
      "[[ ## task_demos ## ]]\n",
      "{task_demos}\n",
      "\n",
      "[[ ## basic_instruction ## ]]\n",
      "{basic_instruction}\n",
      "\n",
      "[[ ## tip ## ]]\n",
      "{tip}\n",
      "\n",
      "[[ ## proposed_instruction ## ]]\n",
      "{proposed_instruction}\n",
      "\n",
      "[[ ## completed ## ]]\n",
      "In adhering to this structure, your objective is: \n",
      "        Use the information below to learn about a task that we are trying to solve using calls to an LM, then generate a new instruction that will be used to prompt a Language Model to better solve the task.\n",
      "\n",
      "\n",
      "\u001b[31mUser message:\u001b[0m\n",
      "\n",
      "[[ ## dataset_description ## ]]\n",
      "The dataset primarily consists of questions targeting specific individuals or companies, aiming to extract concise and factual information. This structure indicates a focus on delivering clear trivia or insights related to notable figures and business operations.\n",
      "\n",
      "[[ ## program_code ## ]]\n",
      "StringSignature(question, trajectory -> next_thought, next_tool_name, next_tool_args\n",
      "    instructions=\"Provide an answer to the question\\n\\nYou are an Agent. In each episode, you will be given the fields `question` as input. And you can see your past trajectory so far.\\nYour goal is to use one or more of the supplied tools to collect any necessary information for producing `answer`.\\n\\nTo do this, you will interleave next_thought, next_tool_name, and next_tool_args in each turn, and also when finishing the task.\\nAfter each tool call, you receive a resulting observation, which gets appended to your trajectory.\\n\\nWhen writing next_thought, you may reason about the current situation and plan for future steps.\\nWhen selecting the next_tool_name and its next_tool_args, the tool must be one of:\\n\\n(1) search_wikipedia, whose description is <desc>      This agent is used to search wikipedia. It can retrieve additional details      about a topic.      </desc>. It takes arguments {'query': {'type': 'string'}} in JSON format.\\n(2) finish, whose description is <desc>Marks the task as complete. That is, signals that all infomration for producing the outputs, i.e. `answer`, are now available to be extracted.</desc>. It takes arguments {} in JSON format.\"\n",
      "    question = Field(annotation=str required=True json_schema_extra={'__dspy_field_type': 'input', 'prefix': 'Question:', 'desc': '${question}'})\n",
      "    trajectory = Field(annotation=str required=True json_schema_extra={'__dspy_field_type': 'input', 'prefix': 'Trajectory:', 'desc': '${trajectory}'})\n",
      "    next_thought = Field(annotation=str required=True json_schema_extra={'__dspy_field_type': 'output', 'prefix': 'Next Thought:', 'desc': '${next_thought}'})\n",
      "    next_tool_name = Field(annotation=Literal['search_wikipedia', 'finish'] required=True json_schema_extra={'__dspy_field_type': 'output', 'prefix': 'Next Tool Name:', 'desc': '${next_tool_name}'})\n",
      "    next_tool_args = Field(annotation=dict[str, Any] required=True json_schema_extra={'__dspy_field_type': 'output', 'prefix': 'Next Tool Args:', 'desc': '${next_tool_args}'})\n",
      ")\n",
      "\n",
      "\n",
      "\n",
      "StringSignature(question, trajectory -> reasoning, answer\n",
      "    instructions='Provide an answer to the question'\n",
      "    question = Field(annotation=str required=True json_schema_extra={'__dspy_field_type': 'input', 'prefix': 'Question:', 'desc': '${question}'})\n",
      "    trajectory = Field(annotation=str required=True json_schema_extra={'__dspy_field_type': 'input', 'prefix': 'Trajectory:', 'desc': '${trajectory}'})\n",
      "    reasoning = Field(annotation=str required=True json_schema_extra={'prefix': \"Reasoning: Let's think step by step in order to\", 'desc': '${reasoning}', '__dspy_field_type': 'output'})\n",
      "    answer = Field(annotation=str required=True json_schema_extra={'__dspy_field_type': 'output', 'prefix': 'Answer:', 'desc': '${answer}'})\n",
      ")\n",
      "\n",
      "class ReAct(Module):\n",
      "    def __init__(self, signature, tools: list[Callable], max_iters=5):\n",
      "        \"\"\"\n",
      "        `tools` is either a list of functions, callable classes, or `dspy.Tool` instances.\n",
      "        \"\"\"\n",
      "\n",
      "        self.signature = signature = ensure_signature(signature)\n",
      "        self.max_iters = max_iters\n",
      "\n",
      "        tools = [t if isinstance(t, Tool) else Tool(t) for t in tools]\n",
      "        tools = {tool.name: tool for tool in tools}\n",
      "\n",
      "        inputs = \", \".join([f\"`{k}`\" for k in signature.input_fields.keys()])\n",
      "        outputs = \", \".join([f\"`{k}`\" for k in signature.output_fields.keys()])\n",
      "        instr = [f\"{signature.instructions}\\n\"] if signature.instructions else []\n",
      "\n",
      "        instr.extend(\n",
      "            [\n",
      "                f\"You are an Agent. In each episode, you will be given the fields {inputs} as input. And you can see your past trajectory so far.\",\n",
      "                f\"Your goal is to use one or more of the supplied tools to collect any necessary information for producing {outputs}.\\n\",\n",
      "                \"To do this, you will interleave next_thought, next_tool_name, and next_tool_args in each turn, and also when finishing the task.\",\n",
      "                \"After each tool call, you receive a resulting observation, which gets appended to your trajectory.\\n\",\n",
      "                \"When writing next_thought, you may reason about the current situation and plan for future steps.\",\n",
      "                \"When selecting the next_tool_name and its next_tool_args, the tool must be one of:\\n\",\n",
      "            ]\n",
      "        )\n",
      "\n",
      "        tools[\"finish\"] = Tool(\n",
      "            func=lambda: \"Completed.\",\n",
      "            name=\"finish\",\n",
      "            desc=f\"Marks the task as complete. That is, signals that all infomration for producing the outputs, i.e. {outputs}, are now available to be extracted.\",\n",
      "            args={},\n",
      "        )\n",
      "\n",
      "        for idx, tool in enumerate(tools.values()):\n",
      "            args = getattr(tool, \"args\")\n",
      "            desc = (f\", whose description is <desc>{tool.desc}</desc>.\" if tool.desc else \".\").replace(\"\\n\", \"  \")\n",
      "            desc += f\" It takes arguments {args} in JSON format.\"\n",
      "            instr.append(f\"({idx + 1}) {tool.name}{desc}\")\n",
      "\n",
      "        react_signature = (\n",
      "            dspy.Signature({**signature.input_fields}, \"\\n\".join(instr))\n",
      "            .append(\"trajectory\", dspy.InputField(), type_=str)\n",
      "            .append(\"next_thought\", dspy.OutputField(), type_=str)\n",
      "            .append(\"next_tool_name\", dspy.OutputField(), type_=Literal[tuple(tools.keys())])\n",
      "            .append(\"next_tool_args\", dspy.OutputField(), type_=dict[str, Any])\n",
      "        )\n",
      "\n",
      "        fallback_signature = dspy.Signature(\n",
      "            {**signature.input_fields, **signature.output_fields},\n",
      "            signature.instructions,\n",
      "        ).append(\"trajectory\", dspy.InputField(), type_=str)\n",
      "\n",
      "        self.tools = tools\n",
      "        self.react = dspy.Predict(react_signature)\n",
      "        self.extract = dspy.ChainOfThought(fallback_signature)\n",
      "\n",
      "    def _format_trajectory(self, trajectory: dict[str, Any]):\n",
      "        adapter = dspy.settings.adapter or dspy.ChatAdapter()\n",
      "        trajectory_signature = dspy.Signature(f\"{', '.join(trajectory.keys())} -> x\")\n",
      "        return adapter.format_user_message_content(trajectory_signature, trajectory)\n",
      "\n",
      "    def forward(self, **input_args):\n",
      "        trajectory = {}\n",
      "        max_iters = input_args.pop(\"max_iters\", self.max_iters)\n",
      "        for idx in range(max_iters):\n",
      "            try:\n",
      "                pred = self._call_with_potential_trajectory_truncation(self.react, trajectory, **input_args)\n",
      "            except ValueError as err:\n",
      "                logger.warning(f\"Ending the trajectory: Agent failed to select a valid tool: {_fmt_exc(err)}\")\n",
      "                break\n",
      "\n",
      "            trajectory[f\"thought_{idx}\"] = pred.next_thought\n",
      "            trajectory[f\"tool_name_{idx}\"] = pred.next_tool_name\n",
      "            trajectory[f\"tool_args_{idx}\"] = pred.next_tool_args\n",
      "\n",
      "            try:\n",
      "                trajectory[f\"observation_{idx}\"] = self.tools[pred.next_tool_name](**pred.next_tool_args)\n",
      "            except Exception as err:\n",
      "                trajectory[f\"observation_{idx}\"] = f\"Execution error in {pred.next_tool_name}: {_fmt_exc(err)}\"\n",
      "\n",
      "            if pred.next_tool_name == \"finish\":\n",
      "                break\n",
      "\n",
      "        extract = self._call_with_potential_trajectory_truncation(self.extract, trajectory, **input_args)\n",
      "        return dspy.Prediction(trajectory=trajectory, **extract)\n",
      "\n",
      "    def _call_with_potential_trajectory_truncation(self, module, trajectory, **input_args):\n",
      "        for _ in range(3):\n",
      "            try:\n",
      "                return module(\n",
      "                    **input_args,\n",
      "                    trajectory=self._format_trajectory(trajectory),\n",
      "                )\n",
      "            except ContextWindowExceededError:\n",
      "                logger.warning(\"Trajectory exceeded the context window, truncating the oldest tool call information.\")\n",
      "                trajectory = self.truncate_trajectory(trajectory)\n",
      "\n",
      "    def truncate_trajectory(self, trajectory):\n",
      "        \"\"\"Truncates the trajectory so that it fits in the context window.\n",
      "\n",
      "        Users can override this method to implement their own truncation logic.\n",
      "        \"\"\"\n",
      "        keys = list(trajectory.keys())\n",
      "        if len(keys) < 4:\n",
      "            # Every tool call has 4 keys: thought, tool_name, tool_args, and observation.\n",
      "            raise ValueError(\n",
      "                \"The trajectory is too long so your prompt exceeded the context window, but the trajectory cannot be \"\n",
      "                \"truncated because it only has one tool call.\"\n",
      "            )\n",
      "\n",
      "        for key in keys[:4]:\n",
      "            trajectory.pop(key)\n",
      "\n",
      "        return trajectory\n",
      "\n",
      "\n",
      "[[ ## program_description ## ]]\n",
      "The program is designed to solve questions by utilizing a combination of reasoning and external information retrieval, specifically from Wikipedia. It takes a user-provided question and a trajectory of past actions (thoughts and tool usages) as input. The program operates in an iterative manner, where it generates a \"next thought\" to reason about the current situation, decides which tool to use (either to search Wikipedia for more information or to finish the task), and specifies the necessary arguments for that tool. After each tool call, it appends the resulting observations to the trajectory, enabling it to build context and inform future decisions. The process continues until the program gathers enough information to formulate an answer or decides that it has completed the task.\n",
      "\n",
      "[[ ## module ## ]]\n",
      "Predict(question, trajectory) -> next_thought, next_tool_name, next_tool_args\n",
      "\n",
      "[[ ## module_description ## ]]\n",
      "The `Predict` module is responsible for generating the next steps in the program's iterative process of problem-solving. It takes the user's question and the trajectory of past actions as input and produces three key outputs: the next thought, the name of the next tool to be used, and the arguments required for that tool. This module plays a crucial role in guiding the agent's reasoning and decision-making, allowing it to determine whether to seek additional information or conclude the task. By utilizing the trajectory of previous observations and thoughts, the `Predict` module helps the program maintain context and coherence throughout the problem-solving process.\n",
      "\n",
      "[[ ## task_demos ## ]]\n",
      "Question: whos family had their own reality tv show. Robert Kardashian or Manvel Gamburyan?\n",
      "Trajectory: [[ ## thought_0 ## ]]\n",
      "I need to determine which individual, Robert Kardashian or Manvel Gamburyan, had a family that starred in a reality TV show. Robert Kardashian is known for being part of the Kardashian family, who are famous for their reality show \"Keeping Up with the Kardashians.\" I need to confirm this information and check if Manvel Gamburyan has any similar associations with reality TV.\n",
      "\n",
      "[[ ## tool_name_0 ## ]]\n",
      "search_wikipedia\n",
      "\n",
      "[[ ## tool_args_0 ## ]]\n",
      "{\"query\": \"Robert Kardashian family reality TV show\"}\n",
      "\n",
      "[[ ## observation_0 ## ]]\n",
      "[1] «Rob Kardashian | Robert Arthur Kardashian (born March 17, 1987) is an American television personality and businessman. He is known for appearing on \"Keeping Up with the Kardashians\", a reality television series that centers upon his family, as well as its spin-offs. In 2011, Kardashian also competed in the thirteenth season of ABC's \"Dancing with the Stars\", during which he placed second.»\n",
      "[2] «Robert Kardashian | Robert George Kardashian (February 22, 1944 – September 30, 2003) was an American attorney and businessman. He gained national recognition as O. J. Simpson's friend and defense attorney during Simpson's 1995 murder trial. He had four children with his first wife, Kris Kardashian (née Houghton, later Jenner): Kourtney, Kim, Khloé, and Rob, who appear on their family reality television series, \"Keeping Up with the Kardashians\", and its spinoffs.»\n",
      "[3] «Keeping Up with the Kardashians | Keeping Up with the Kardashians (often abbreviated KUWTK) is an American reality television series that airs on the E! cable network. The show focuses on the personal and professional lives of the Kardashian–Jenner blended family. Its premise originated with Ryan Seacrest, who also serves as an executive producer. The series debuted on October 14, 2007 and has subsequently become one of the longest-running reality television series in the country. The fourteenth season of the series will premiere on October 1, 2017.»\n",
      "\n",
      "[[ ## thought_1 ## ]]\n",
      "I have confirmed that Robert Kardashian's family had their own reality TV show, \"Keeping Up with the Kardashians.\" Now, I need to check if Manvel Gamburyan has any association with a reality TV show to compare the two.\n",
      "\n",
      "[[ ## tool_name_1 ## ]]\n",
      "search_wikipedia\n",
      "\n",
      "[[ ## tool_args_1 ## ]]\n",
      "{\"query\": \"Manvel Gamburyan family reality TV show\"}\n",
      "\n",
      "[[ ## observation_1 ## ]]\n",
      "[1] «Manvel Gamburyan | Manvel \"Manny\" Gamburyan (Armenian: Մանվել Գամբուրյան ; born May 8, 1981) is a retired Armenian-American fighter who competed in the UFC's Bantamweight and Featherweight divisions. A professional competitor since 1999, he was a cast member of Spike TV's The Ultimate Fighter 5, and also competed in the WEC and for King of the Cage.»\n",
      "[2] «Karen Darabedyan | Karen Darabedyan (born December 18, 1986) is an Armenian professional mixed martial artist. He is best known for fighting in WEC's lightweight division. He is a training partner of Karo Parisyan and Manvel Gamburyan. He had a 12-0 amateur boxing record before he began MMA.»\n",
      "[3] «Manvel Agaronyan | Manvel Ashotovich Agaronyan (Russian: Манвел Ашотович Агаронян ; born 30 November 1997) is a Russian football player. He plays for FC SKA-Khabarovsk.»\n",
      "Next Thought: I have found that Manvel Gamburyan was a cast member of \"The Ultimate Fighter 5,\" which is a reality TV show focused on mixed martial arts. However, it does not involve his family in the same way that \"Keeping Up with the Kardashians\" does. Therefore, Robert Kardashian's family is more prominently associated with a reality TV show. I can now conclude that Robert Kardashian's family had their own reality TV show, while Manvel Gamburyan's association is more about his participation in a competition rather than a family-oriented show.\n",
      "Next Tool Name: finish\n",
      "Next Tool Args: {}\n",
      "\n",
      "Question: Rectrix Aviation's jet charter business involves what service?\n",
      "Trajectory: [[ ## thought_0 ## ]]\n",
      "I need to gather information about Rectrix Aviation's jet charter business and the specific services they offer. Searching Wikipedia could provide detailed insights into their operations and services.\n",
      "\n",
      "[[ ## tool_name_0 ## ]]\n",
      "search_wikipedia\n",
      "\n",
      "[[ ## tool_args_0 ## ]]\n",
      "{\"query\": \"Rectrix Aviation jet charter services\"}\n",
      "\n",
      "[[ ## observation_0 ## ]]\n",
      "[1] «Rectrix Aviation | Rectrix Aviation is a jet charter and commuter airline service that primarily serves New England, Florida and the east coast. Its commercial operations are based out of Nantucket Memorial Airport and Barnstable Municipal Airport in Nantucket, MA and Hyannis, MA, respectively. The only commercial flight it operates is between Nantucket and Hyannis. Rectrix Shuttle, the commuter service, was founded when Island Airlines of Nantucket shut down.»\n",
      "[2] «Veritair | Veritair Aviation Limited is a helicopter charter company based at Cardiff Heliport, in Cardiff, Wales. It operates year-round charter and contract helicopter services throughout United Kingdom and Europe. Veritair Aviation has major contracts with the BBC for measurement of transmitting antenna radiation patterns throughout the UK and further afield, QinetiQ for recovering MOD targets offshore and provides a British Transport Police helicopter to patrol and secure railway lines throughout the UK.»\n",
      "[3] «Ameristar Jet Charter | Ameristar Air Cargo, Inc. is an American passenger and cargo airline based in Dallas, Texas, USA. It operates passengers and cargo services in the Americas, as well as acting as a broker to other cargo carriers. Its main base is Addison Airport in north Dallas, with hubs at Willow Run Airport, and El Paso International Airport»\n",
      "\n",
      "[[ ## thought_1 ## ]]\n",
      "I found some information about Rectrix Aviation's jet charter services. They primarily serve New England, Florida, and the east coast, and their operations are based out of Nantucket Memorial Airport and Barnstable Municipal Airport. They also have a commuter service called Rectrix Shuttle. I need to confirm if there are any additional services or details about their jet charter business.\n",
      "\n",
      "[[ ## tool_name_1 ## ]]\n",
      "search_wikipedia\n",
      "\n",
      "[[ ## tool_args_1 ## ]]\n",
      "{\"query\": \"Rectrix Aviation services offered\"}\n",
      "\n",
      "[[ ## observation_1 ## ]]\n",
      "[1] «Rectrix Aviation | Rectrix Aviation is a jet charter and commuter airline service that primarily serves New England, Florida and the east coast. Its commercial operations are based out of Nantucket Memorial Airport and Barnstable Municipal Airport in Nantucket, MA and Hyannis, MA, respectively. The only commercial flight it operates is between Nantucket and Hyannis. Rectrix Shuttle, the commuter service, was founded when Island Airlines of Nantucket shut down.»\n",
      "[2] «DayJet | DayJet was an American commercial aviation operation that provided on-demand jet travel using Eclipse 500 very light jets. Founded by Ed Iacobucci, the former leader of the IBM-Microsoft Joint OS/2 development team IBM executive and the founder of Citrix Systems and his wife, network architect Nancy Lee Iacobucci, DayJet launched in October 2007. It was based in Delray Beach, Florida.»\n",
      "[3] «CitationAir | CitationAir by Cessna, founded in 2000 as CitationShares, is a subsidiary of Cessna Aircraft Company that provides private aviation services. It offered services in fractional jet ownership, jet card membership, corporate solutions and whole aircraft management. CitationAir was one of the four major players in the private aviation market. It is a seven-time winner of Best of the Best awards from the \"Robb Report\", most recently in 2009.»\n",
      "Next Thought: I have not found any additional information about Rectrix Aviation's jet charter services beyond what I already know. It seems that their primary service is jet chartering along with a commuter service called Rectrix Shuttle. I will finish the task as I have enough information to answer the question.\n",
      "Next Tool Name: finish\n",
      "Next Tool Args: {}\n",
      "\n",
      "\n",
      "\n",
      "[[ ## basic_instruction ## ]]\n",
      "Provide an answer to the question\n",
      "\n",
      "You are an Agent. In each episode, you will be given the fields `question` as input. And you can see your past trajectory so far.\n",
      "Your goal is to use one or more of the supplied tools to collect any necessary information for producing `answer`.\n",
      "\n",
      "To do this, you will interleave next_thought, next_tool_name, and next_tool_args in each turn, and also when finishing the task.\n",
      "After each tool call, you receive a resulting observation, which gets appended to your trajectory.\n",
      "\n",
      "When writing next_thought, you may reason about the current situation and plan for future steps.\n",
      "When selecting the next_tool_name and its next_tool_args, the tool must be one of:\n",
      "\n",
      "(1) search_wikipedia, whose description is <desc>      This agent is used to search wikipedia. It can retrieve additional details      about a topic.      </desc>. It takes arguments {'query': {'type': 'string'}} in JSON format.\n",
      "(2) finish, whose description is <desc>Marks the task as complete. That is, signals that all infomration for producing the outputs, i.e. `answer`, are now available to be extracted.</desc>. It takes arguments {} in JSON format.\n",
      "\n",
      "[[ ## tip ## ]]\n",
      "The instruction should include a high stakes scenario in which the LM must solve the task!\n",
      "\n",
      "Respond with the corresponding output fields, starting with the field `[[ ## proposed_instruction ## ]]`, and then ending with the marker for `[[ ## completed ## ]]`.\n",
      "\n",
      "\n",
      "\u001b[31mResponse:\u001b[0m\n",
      "\n",
      "\u001b[32m[[ ## proposed_instruction ## ]]\n",
      "You are a crucial agent in a high-stakes trivia competition where the accuracy of your answers can lead to significant rewards. Each round, you will receive a challenging question that requires precise and factual information. Your task is to gather relevant details using the tools at your disposal and provide a well-reasoned answer.\n",
      "\n",
      "For each question, you will be given the fields `question` and `trajectory` as inputs. Your objective is to utilize the `search_wikipedia` tool to retrieve necessary information or decide to finish the task when you have enough details to formulate your answer. \n",
      "\n",
      "Interleave your reasoning process with the selection of tools in each turn. After each tool call, append the resulting observations to your trajectory. \n",
      "\n",
      "Remember, your next steps should include:\n",
      "1. Generating a thoughtful next step based on your current knowledge and observations.\n",
      "2. Choosing the appropriate tool to gather further information or to conclude your task.\n",
      "\n",
      "Your final output should clearly present the answer to the question based on the information gathered. Good luck!\n",
      "\n",
      "[[ ## completed ## ]]\u001b[0m\n",
      "\n",
      "\n",
      "\n",
      "\n",
      "\n",
      "PROPOSED INSTRUCTION: You are a crucial agent in a high-stakes trivia competition where the accuracy of your answers can lead to significant rewards. Each round, you will receive a challenging question that requires precise and factual information. Your task is to gather relevant details using the tools at your disposal and provide a well-reasoned answer.\n",
      "\n",
      "For each question, you will be given the fields `question` and `trajectory` as inputs. Your objective is to utilize the `search_wikipedia` tool to retrieve necessary information or decide to finish the task when you have enough details to formulate your answer. \n",
      "\n",
      "Interleave your reasoning process with the selection of tools in each turn. After each tool call, append the resulting observations to your trajectory. \n",
      "\n",
      "Remember, your next steps should include:\n",
      "1. Generating a thoughtful next step based on your current knowledge and observations.\n",
      "2. Choosing the appropriate tool to gather further information or to conclude your task.\n",
      "\n",
      "Your final output should clearly present the answer to the question based on the information gathered. Good luck!\n",
      "Using a randomly generated configuration for our grounded proposer.\n",
      "Selected tip: description\n",
      "PROGRAM DESCRIPTION: The program is designed to solve questions by leveraging a series of tools, particularly a search tool that queries Wikipedia for relevant information. It operates in a structured manner, where the agent (the program) receives a question and a trajectory of previous thoughts and tool calls. The agent's goal is to gather necessary information to formulate an answer to the question. It does this by interleaving reasoning (next_thought) with selecting the appropriate tool (next_tool_name) and the arguments for that tool (next_tool_args). The agent first assesses the question and its trajectory, then decides whether to search for more information or finish the task. The program continues to iterate through this process until it has collected sufficient information to provide a complete answer, at which point it signals that the task is complete.\n",
      "task_demos Question: whos family had their own reality tv show. Robert Kardashian or Manvel Gamburyan?\n",
      "Trajectory: [[ ## thought_0 ## ]]\n",
      "I need to determine which individual, Robert Kardashian or Manvel Gamburyan, had a family that starred in a reality TV show. Robert Kardashian is known for being part of the Kardashian family, who are famous for their reality show \"Keeping Up with the Kardashians.\" I need to confirm this information and check if Manvel Gamburyan has any similar associations with reality TV.\n",
      "\n",
      "[[ ## tool_name_0 ## ]]\n",
      "search_wikipedia\n",
      "\n",
      "[[ ## tool_args_0 ## ]]\n",
      "{\"query\": \"Robert Kardashian family reality TV show\"}\n",
      "\n",
      "[[ ## observation_0 ## ]]\n",
      "[1] «Rob Kardashian | Robert Arthur Kardashian (born March 17, 1987) is an American television personality and businessman. He is known for appearing on \"Keeping Up with the Kardashians\", a reality television series that centers upon his family, as well as its spin-offs. In 2011, Kardashian also competed in the thirteenth season of ABC's \"Dancing with the Stars\", during which he placed second.»\n",
      "[2] «Robert Kardashian | Robert George Kardashian (February 22, 1944 – September 30, 2003) was an American attorney and businessman. He gained national recognition as O. J. Simpson's friend and defense attorney during Simpson's 1995 murder trial. He had four children with his first wife, Kris Kardashian (née Houghton, later Jenner): Kourtney, Kim, Khloé, and Rob, who appear on their family reality television series, \"Keeping Up with the Kardashians\", and its spinoffs.»\n",
      "[3] «Keeping Up with the Kardashians | Keeping Up with the Kardashians (often abbreviated KUWTK) is an American reality television series that airs on the E! cable network. The show focuses on the personal and professional lives of the Kardashian–Jenner blended family. Its premise originated with Ryan Seacrest, who also serves as an executive producer. The series debuted on October 14, 2007 and has subsequently become one of the longest-running reality television series in the country. The fourteenth season of the series will premiere on October 1, 2017.»\n",
      "\n",
      "[[ ## thought_1 ## ]]\n",
      "I have confirmed that Robert Kardashian's family had their own reality TV show, \"Keeping Up with the Kardashians.\" Now, I need to check if Manvel Gamburyan has any association with a reality TV show to compare the two.\n",
      "\n",
      "[[ ## tool_name_1 ## ]]\n",
      "search_wikipedia\n",
      "\n",
      "[[ ## tool_args_1 ## ]]\n",
      "{\"query\": \"Manvel Gamburyan family reality TV show\"}\n",
      "\n",
      "[[ ## observation_1 ## ]]\n",
      "[1] «Manvel Gamburyan | Manvel \"Manny\" Gamburyan (Armenian: Մանվել Գամբուրյան ; born May 8, 1981) is a retired Armenian-American fighter who competed in the UFC's Bantamweight and Featherweight divisions. A professional competitor since 1999, he was a cast member of Spike TV's The Ultimate Fighter 5, and also competed in the WEC and for King of the Cage.»\n",
      "[2] «Karen Darabedyan | Karen Darabedyan (born December 18, 1986) is an Armenian professional mixed martial artist. He is best known for fighting in WEC's lightweight division. He is a training partner of Karo Parisyan and Manvel Gamburyan. He had a 12-0 amateur boxing record before he began MMA.»\n",
      "[3] «Manvel Agaronyan | Manvel Ashotovich Agaronyan (Russian: Манвел Ашотович Агаронян ; born 30 November 1997) is a Russian football player. He plays for FC SKA-Khabarovsk.»\n",
      "Next Thought: I have found that Manvel Gamburyan was a cast member of \"The Ultimate Fighter 5,\" which is a reality TV show focused on mixed martial arts. However, it does not involve his family in the same way that \"Keeping Up with the Kardashians\" does. Therefore, Robert Kardashian's family is more prominently associated with a reality TV show. I can now conclude that Robert Kardashian's family had their own reality TV show, while Manvel Gamburyan's association is more about his participation in a competition rather than a family-oriented show.\n",
      "Next Tool Name: finish\n",
      "Next Tool Args: {}\n",
      "\n",
      "Question: Rectrix Aviation's jet charter business involves what service?\n",
      "Trajectory: [[ ## thought_0 ## ]]\n",
      "I need to gather information about Rectrix Aviation's jet charter business and the specific services they offer. Searching Wikipedia could provide detailed insights into their operations and services.\n",
      "\n",
      "[[ ## tool_name_0 ## ]]\n",
      "search_wikipedia\n",
      "\n",
      "[[ ## tool_args_0 ## ]]\n",
      "{\"query\": \"Rectrix Aviation jet charter services\"}\n",
      "\n",
      "[[ ## observation_0 ## ]]\n",
      "[1] «Rectrix Aviation | Rectrix Aviation is a jet charter and commuter airline service that primarily serves New England, Florida and the east coast. Its commercial operations are based out of Nantucket Memorial Airport and Barnstable Municipal Airport in Nantucket, MA and Hyannis, MA, respectively. The only commercial flight it operates is between Nantucket and Hyannis. Rectrix Shuttle, the commuter service, was founded when Island Airlines of Nantucket shut down.»\n",
      "[2] «Veritair | Veritair Aviation Limited is a helicopter charter company based at Cardiff Heliport, in Cardiff, Wales. It operates year-round charter and contract helicopter services throughout United Kingdom and Europe. Veritair Aviation has major contracts with the BBC for measurement of transmitting antenna radiation patterns throughout the UK and further afield, QinetiQ for recovering MOD targets offshore and provides a British Transport Police helicopter to patrol and secure railway lines throughout the UK.»\n",
      "[3] «Ameristar Jet Charter | Ameristar Air Cargo, Inc. is an American passenger and cargo airline based in Dallas, Texas, USA. It operates passengers and cargo services in the Americas, as well as acting as a broker to other cargo carriers. Its main base is Addison Airport in north Dallas, with hubs at Willow Run Airport, and El Paso International Airport»\n",
      "\n",
      "[[ ## thought_1 ## ]]\n",
      "I found some information about Rectrix Aviation's jet charter services. They primarily serve New England, Florida, and the east coast, and their operations are based out of Nantucket Memorial Airport and Barnstable Municipal Airport. They also have a commuter service called Rectrix Shuttle. I need to confirm if there are any additional services or details about their jet charter business.\n",
      "\n",
      "[[ ## tool_name_1 ## ]]\n",
      "search_wikipedia\n",
      "\n",
      "[[ ## tool_args_1 ## ]]\n",
      "{\"query\": \"Rectrix Aviation services offered\"}\n",
      "\n",
      "[[ ## observation_1 ## ]]\n",
      "[1] «Rectrix Aviation | Rectrix Aviation is a jet charter and commuter airline service that primarily serves New England, Florida and the east coast. Its commercial operations are based out of Nantucket Memorial Airport and Barnstable Municipal Airport in Nantucket, MA and Hyannis, MA, respectively. The only commercial flight it operates is between Nantucket and Hyannis. Rectrix Shuttle, the commuter service, was founded when Island Airlines of Nantucket shut down.»\n",
      "[2] «DayJet | DayJet was an American commercial aviation operation that provided on-demand jet travel using Eclipse 500 very light jets. Founded by Ed Iacobucci, the former leader of the IBM-Microsoft Joint OS/2 development team IBM executive and the founder of Citrix Systems and his wife, network architect Nancy Lee Iacobucci, DayJet launched in October 2007. It was based in Delray Beach, Florida.»\n",
      "[3] «CitationAir | CitationAir by Cessna, founded in 2000 as CitationShares, is a subsidiary of Cessna Aircraft Company that provides private aviation services. It offered services in fractional jet ownership, jet card membership, corporate solutions and whole aircraft management. CitationAir was one of the four major players in the private aviation market. It is a seven-time winner of Best of the Best awards from the \"Robb Report\", most recently in 2009.»\n",
      "Next Thought: I have not found any additional information about Rectrix Aviation's jet charter services beyond what I already know. It seems that their primary service is jet chartering along with a commuter service called Rectrix Shuttle. I will finish the task as I have enough information to answer the question.\n",
      "Next Tool Name: finish\n",
      "Next Tool Args: {}\n",
      "\n",
      "\n",
      "\n",
      "\n",
      "\n",
      "\n",
      "\u001b[34m[2025-06-05T18:30:45.346685]\u001b[0m\n",
      "\n",
      "\u001b[31mSystem message:\u001b[0m\n",
      "\n",
      "Your input fields are:\n",
      "1. `dataset_description` (str): A description of the dataset that we are using.\n",
      "2. `program_code` (str): Language model program designed to solve a particular task.\n",
      "3. `program_description` (str): Summary of the task the program is designed to solve, and how it goes about solving it.\n",
      "4. `module` (str): The module to create an instruction for.\n",
      "5. `module_description` (str): Description of the module to create an instruction for.\n",
      "6. `task_demos` (str): Example inputs/outputs of our module.\n",
      "7. `basic_instruction` (str): Basic instruction.\n",
      "8. `tip` (str): A suggestion for how to go about generating the new instruction.\n",
      "Your output fields are:\n",
      "1. `proposed_instruction` (str): Propose an instruction that will be used to prompt a Language Model to perform this task.\n",
      "All interactions will be structured in the following way, with the appropriate values filled in.\n",
      "\n",
      "[[ ## dataset_description ## ]]\n",
      "{dataset_description}\n",
      "\n",
      "[[ ## program_code ## ]]\n",
      "{program_code}\n",
      "\n",
      "[[ ## program_description ## ]]\n",
      "{program_description}\n",
      "\n",
      "[[ ## module ## ]]\n",
      "{module}\n",
      "\n",
      "[[ ## module_description ## ]]\n",
      "{module_description}\n",
      "\n",
      "[[ ## task_demos ## ]]\n",
      "{task_demos}\n",
      "\n",
      "[[ ## basic_instruction ## ]]\n",
      "{basic_instruction}\n",
      "\n",
      "[[ ## tip ## ]]\n",
      "{tip}\n",
      "\n",
      "[[ ## proposed_instruction ## ]]\n",
      "{proposed_instruction}\n",
      "\n",
      "[[ ## completed ## ]]\n",
      "In adhering to this structure, your objective is: \n",
      "        Use the information below to learn about a task that we are trying to solve using calls to an LM, then generate a new instruction that will be used to prompt a Language Model to better solve the task.\n",
      "\n",
      "\n",
      "\u001b[31mUser message:\u001b[0m\n",
      "\n",
      "[[ ## dataset_description ## ]]\n",
      "The dataset primarily consists of questions targeting specific individuals or companies, aiming to extract concise and factual information. This structure indicates a focus on delivering clear trivia or insights related to notable figures and business operations.\n",
      "\n",
      "[[ ## program_code ## ]]\n",
      "StringSignature(question, trajectory -> next_thought, next_tool_name, next_tool_args\n",
      "    instructions=\"Provide an answer to the question\\n\\nYou are an Agent. In each episode, you will be given the fields `question` as input. And you can see your past trajectory so far.\\nYour goal is to use one or more of the supplied tools to collect any necessary information for producing `answer`.\\n\\nTo do this, you will interleave next_thought, next_tool_name, and next_tool_args in each turn, and also when finishing the task.\\nAfter each tool call, you receive a resulting observation, which gets appended to your trajectory.\\n\\nWhen writing next_thought, you may reason about the current situation and plan for future steps.\\nWhen selecting the next_tool_name and its next_tool_args, the tool must be one of:\\n\\n(1) search_wikipedia, whose description is <desc>      This agent is used to search wikipedia. It can retrieve additional details      about a topic.      </desc>. It takes arguments {'query': {'type': 'string'}} in JSON format.\\n(2) finish, whose description is <desc>Marks the task as complete. That is, signals that all infomration for producing the outputs, i.e. `answer`, are now available to be extracted.</desc>. It takes arguments {} in JSON format.\"\n",
      "    question = Field(annotation=str required=True json_schema_extra={'__dspy_field_type': 'input', 'prefix': 'Question:', 'desc': '${question}'})\n",
      "    trajectory = Field(annotation=str required=True json_schema_extra={'__dspy_field_type': 'input', 'prefix': 'Trajectory:', 'desc': '${trajectory}'})\n",
      "    next_thought = Field(annotation=str required=True json_schema_extra={'__dspy_field_type': 'output', 'prefix': 'Next Thought:', 'desc': '${next_thought}'})\n",
      "    next_tool_name = Field(annotation=Literal['search_wikipedia', 'finish'] required=True json_schema_extra={'__dspy_field_type': 'output', 'prefix': 'Next Tool Name:', 'desc': '${next_tool_name}'})\n",
      "    next_tool_args = Field(annotation=dict[str, Any] required=True json_schema_extra={'__dspy_field_type': 'output', 'prefix': 'Next Tool Args:', 'desc': '${next_tool_args}'})\n",
      ")\n",
      "\n",
      "\n",
      "\n",
      "StringSignature(question, trajectory -> reasoning, answer\n",
      "    instructions='Provide an answer to the question'\n",
      "    question = Field(annotation=str required=True json_schema_extra={'__dspy_field_type': 'input', 'prefix': 'Question:', 'desc': '${question}'})\n",
      "    trajectory = Field(annotation=str required=True json_schema_extra={'__dspy_field_type': 'input', 'prefix': 'Trajectory:', 'desc': '${trajectory}'})\n",
      "    reasoning = Field(annotation=str required=True json_schema_extra={'prefix': \"Reasoning: Let's think step by step in order to\", 'desc': '${reasoning}', '__dspy_field_type': 'output'})\n",
      "    answer = Field(annotation=str required=True json_schema_extra={'__dspy_field_type': 'output', 'prefix': 'Answer:', 'desc': '${answer}'})\n",
      ")\n",
      "\n",
      "class ReAct(Module):\n",
      "    def __init__(self, signature, tools: list[Callable], max_iters=5):\n",
      "        \"\"\"\n",
      "        `tools` is either a list of functions, callable classes, or `dspy.Tool` instances.\n",
      "        \"\"\"\n",
      "\n",
      "        self.signature = signature = ensure_signature(signature)\n",
      "        self.max_iters = max_iters\n",
      "\n",
      "        tools = [t if isinstance(t, Tool) else Tool(t) for t in tools]\n",
      "        tools = {tool.name: tool for tool in tools}\n",
      "\n",
      "        inputs = \", \".join([f\"`{k}`\" for k in signature.input_fields.keys()])\n",
      "        outputs = \", \".join([f\"`{k}`\" for k in signature.output_fields.keys()])\n",
      "        instr = [f\"{signature.instructions}\\n\"] if signature.instructions else []\n",
      "\n",
      "        instr.extend(\n",
      "            [\n",
      "                f\"You are an Agent. In each episode, you will be given the fields {inputs} as input. And you can see your past trajectory so far.\",\n",
      "                f\"Your goal is to use one or more of the supplied tools to collect any necessary information for producing {outputs}.\\n\",\n",
      "                \"To do this, you will interleave next_thought, next_tool_name, and next_tool_args in each turn, and also when finishing the task.\",\n",
      "                \"After each tool call, you receive a resulting observation, which gets appended to your trajectory.\\n\",\n",
      "                \"When writing next_thought, you may reason about the current situation and plan for future steps.\",\n",
      "                \"When selecting the next_tool_name and its next_tool_args, the tool must be one of:\\n\",\n",
      "            ]\n",
      "        )\n",
      "\n",
      "        tools[\"finish\"] = Tool(\n",
      "            func=lambda: \"Completed.\",\n",
      "            name=\"finish\",\n",
      "            desc=f\"Marks the task as complete. That is, signals that all infomration for producing the outputs, i.e. {outputs}, are now available to be extracted.\",\n",
      "            args={},\n",
      "        )\n",
      "\n",
      "        for idx, tool in enumerate(tools.values()):\n",
      "            args = getattr(tool, \"args\")\n",
      "            desc = (f\", whose description is <desc>{tool.desc}</desc>.\" if tool.desc else \".\").replace(\"\\n\", \"  \")\n",
      "            desc += f\" It takes arguments {args} in JSON format.\"\n",
      "            instr.append(f\"({idx + 1}) {tool.name}{desc}\")\n",
      "\n",
      "        react_signature = (\n",
      "            dspy.Signature({**signature.input_fields}, \"\\n\".join(instr))\n",
      "            .append(\"trajectory\", dspy.InputField(), type_=str)\n",
      "            .append(\"next_thought\", dspy.OutputField(), type_=str)\n",
      "            .append(\"next_tool_name\", dspy.OutputField(), type_=Literal[tuple(tools.keys())])\n",
      "            .append(\"next_tool_args\", dspy.OutputField(), type_=dict[str, Any])\n",
      "        )\n",
      "\n",
      "        fallback_signature = dspy.Signature(\n",
      "            {**signature.input_fields, **signature.output_fields},\n",
      "            signature.instructions,\n",
      "        ).append(\"trajectory\", dspy.InputField(), type_=str)\n",
      "\n",
      "        self.tools = tools\n",
      "        self.react = dspy.Predict(react_signature)\n",
      "        self.extract = dspy.ChainOfThought(fallback_signature)\n",
      "\n",
      "    def _format_trajectory(self, trajectory: dict[str, Any]):\n",
      "        adapter = dspy.settings.adapter or dspy.ChatAdapter()\n",
      "        trajectory_signature = dspy.Signature(f\"{', '.join(trajectory.keys())} -> x\")\n",
      "        return adapter.format_user_message_content(trajectory_signature, trajectory)\n",
      "\n",
      "    def forward(self, **input_args):\n",
      "        trajectory = {}\n",
      "        max_iters = input_args.pop(\"max_iters\", self.max_iters)\n",
      "        for idx in range(max_iters):\n",
      "            try:\n",
      "                pred = self._call_with_potential_trajectory_truncation(self.react, trajectory, **input_args)\n",
      "            except ValueError as err:\n",
      "                logger.warning(f\"Ending the trajectory: Agent failed to select a valid tool: {_fmt_exc(err)}\")\n",
      "                break\n",
      "\n",
      "            trajectory[f\"thought_{idx}\"] = pred.next_thought\n",
      "            trajectory[f\"tool_name_{idx}\"] = pred.next_tool_name\n",
      "            trajectory[f\"tool_args_{idx}\"] = pred.next_tool_args\n",
      "\n",
      "            try:\n",
      "                trajectory[f\"observation_{idx}\"] = self.tools[pred.next_tool_name](**pred.next_tool_args)\n",
      "            except Exception as err:\n",
      "                trajectory[f\"observation_{idx}\"] = f\"Execution error in {pred.next_tool_name}: {_fmt_exc(err)}\"\n",
      "\n",
      "            if pred.next_tool_name == \"finish\":\n",
      "                break\n",
      "\n",
      "        extract = self._call_with_potential_trajectory_truncation(self.extract, trajectory, **input_args)\n",
      "        return dspy.Prediction(trajectory=trajectory, **extract)\n",
      "\n",
      "    def _call_with_potential_trajectory_truncation(self, module, trajectory, **input_args):\n",
      "        for _ in range(3):\n",
      "            try:\n",
      "                return module(\n",
      "                    **input_args,\n",
      "                    trajectory=self._format_trajectory(trajectory),\n",
      "                )\n",
      "            except ContextWindowExceededError:\n",
      "                logger.warning(\"Trajectory exceeded the context window, truncating the oldest tool call information.\")\n",
      "                trajectory = self.truncate_trajectory(trajectory)\n",
      "\n",
      "    def truncate_trajectory(self, trajectory):\n",
      "        \"\"\"Truncates the trajectory so that it fits in the context window.\n",
      "\n",
      "        Users can override this method to implement their own truncation logic.\n",
      "        \"\"\"\n",
      "        keys = list(trajectory.keys())\n",
      "        if len(keys) < 4:\n",
      "            # Every tool call has 4 keys: thought, tool_name, tool_args, and observation.\n",
      "            raise ValueError(\n",
      "                \"The trajectory is too long so your prompt exceeded the context window, but the trajectory cannot be \"\n",
      "                \"truncated because it only has one tool call.\"\n",
      "            )\n",
      "\n",
      "        for key in keys[:4]:\n",
      "            trajectory.pop(key)\n",
      "\n",
      "        return trajectory\n",
      "\n",
      "\n",
      "[[ ## program_description ## ]]\n",
      "The program is designed to solve questions by leveraging a series of tools, particularly a search tool that queries Wikipedia for relevant information. It operates in a structured manner, where the agent (the program) receives a question and a trajectory of previous thoughts and tool calls. The agent's goal is to gather necessary information to formulate an answer to the question. It does this by interleaving reasoning (next_thought) with selecting the appropriate tool (next_tool_name) and the arguments for that tool (next_tool_args). The agent first assesses the question and its trajectory, then decides whether to search for more information or finish the task. The program continues to iterate through this process until it has collected sufficient information to provide a complete answer, at which point it signals that the task is complete.\n",
      "\n",
      "[[ ## module ## ]]\n",
      "Predict(question, trajectory) -> next_thought, next_tool_name, next_tool_args\n",
      "\n",
      "[[ ## module_description ## ]]\n",
      "The `Predict` module is responsible for generating the agent's next steps based on the input question and the current trajectory of thought. It processes the provided question and trajectory to produce three outputs: `next_thought`, which represents the agent's reasoning about the situation; `next_tool_name`, which indicates which tool the agent should use next (such as searching Wikipedia or finishing the task); and `next_tool_args`, which contains the specific arguments required for the selected tool. This module plays a crucial role in guiding the agent's decision-making process, ensuring that it systematically gathers relevant information and efficiently progresses towards formulating a complete answer to the question.\n",
      "\n",
      "[[ ## task_demos ## ]]\n",
      "Question: whos family had their own reality tv show. Robert Kardashian or Manvel Gamburyan?\n",
      "Trajectory: [[ ## thought_0 ## ]]\n",
      "I need to determine which individual, Robert Kardashian or Manvel Gamburyan, had a family that starred in a reality TV show. Robert Kardashian is known for being part of the Kardashian family, who are famous for their reality show \"Keeping Up with the Kardashians.\" I need to confirm this information and check if Manvel Gamburyan has any similar associations with reality TV.\n",
      "\n",
      "[[ ## tool_name_0 ## ]]\n",
      "search_wikipedia\n",
      "\n",
      "[[ ## tool_args_0 ## ]]\n",
      "{\"query\": \"Robert Kardashian family reality TV show\"}\n",
      "\n",
      "[[ ## observation_0 ## ]]\n",
      "[1] «Rob Kardashian | Robert Arthur Kardashian (born March 17, 1987) is an American television personality and businessman. He is known for appearing on \"Keeping Up with the Kardashians\", a reality television series that centers upon his family, as well as its spin-offs. In 2011, Kardashian also competed in the thirteenth season of ABC's \"Dancing with the Stars\", during which he placed second.»\n",
      "[2] «Robert Kardashian | Robert George Kardashian (February 22, 1944 – September 30, 2003) was an American attorney and businessman. He gained national recognition as O. J. Simpson's friend and defense attorney during Simpson's 1995 murder trial. He had four children with his first wife, Kris Kardashian (née Houghton, later Jenner): Kourtney, Kim, Khloé, and Rob, who appear on their family reality television series, \"Keeping Up with the Kardashians\", and its spinoffs.»\n",
      "[3] «Keeping Up with the Kardashians | Keeping Up with the Kardashians (often abbreviated KUWTK) is an American reality television series that airs on the E! cable network. The show focuses on the personal and professional lives of the Kardashian–Jenner blended family. Its premise originated with Ryan Seacrest, who also serves as an executive producer. The series debuted on October 14, 2007 and has subsequently become one of the longest-running reality television series in the country. The fourteenth season of the series will premiere on October 1, 2017.»\n",
      "\n",
      "[[ ## thought_1 ## ]]\n",
      "I have confirmed that Robert Kardashian's family had their own reality TV show, \"Keeping Up with the Kardashians.\" Now, I need to check if Manvel Gamburyan has any association with a reality TV show to compare the two.\n",
      "\n",
      "[[ ## tool_name_1 ## ]]\n",
      "search_wikipedia\n",
      "\n",
      "[[ ## tool_args_1 ## ]]\n",
      "{\"query\": \"Manvel Gamburyan family reality TV show\"}\n",
      "\n",
      "[[ ## observation_1 ## ]]\n",
      "[1] «Manvel Gamburyan | Manvel \"Manny\" Gamburyan (Armenian: Մանվել Գամբուրյան ; born May 8, 1981) is a retired Armenian-American fighter who competed in the UFC's Bantamweight and Featherweight divisions. A professional competitor since 1999, he was a cast member of Spike TV's The Ultimate Fighter 5, and also competed in the WEC and for King of the Cage.»\n",
      "[2] «Karen Darabedyan | Karen Darabedyan (born December 18, 1986) is an Armenian professional mixed martial artist. He is best known for fighting in WEC's lightweight division. He is a training partner of Karo Parisyan and Manvel Gamburyan. He had a 12-0 amateur boxing record before he began MMA.»\n",
      "[3] «Manvel Agaronyan | Manvel Ashotovich Agaronyan (Russian: Манвел Ашотович Агаронян ; born 30 November 1997) is a Russian football player. He plays for FC SKA-Khabarovsk.»\n",
      "Next Thought: I have found that Manvel Gamburyan was a cast member of \"The Ultimate Fighter 5,\" which is a reality TV show focused on mixed martial arts. However, it does not involve his family in the same way that \"Keeping Up with the Kardashians\" does. Therefore, Robert Kardashian's family is more prominently associated with a reality TV show. I can now conclude that Robert Kardashian's family had their own reality TV show, while Manvel Gamburyan's association is more about his participation in a competition rather than a family-oriented show.\n",
      "Next Tool Name: finish\n",
      "Next Tool Args: {}\n",
      "\n",
      "Question: Rectrix Aviation's jet charter business involves what service?\n",
      "Trajectory: [[ ## thought_0 ## ]]\n",
      "I need to gather information about Rectrix Aviation's jet charter business and the specific services they offer. Searching Wikipedia could provide detailed insights into their operations and services.\n",
      "\n",
      "[[ ## tool_name_0 ## ]]\n",
      "search_wikipedia\n",
      "\n",
      "[[ ## tool_args_0 ## ]]\n",
      "{\"query\": \"Rectrix Aviation jet charter services\"}\n",
      "\n",
      "[[ ## observation_0 ## ]]\n",
      "[1] «Rectrix Aviation | Rectrix Aviation is a jet charter and commuter airline service that primarily serves New England, Florida and the east coast. Its commercial operations are based out of Nantucket Memorial Airport and Barnstable Municipal Airport in Nantucket, MA and Hyannis, MA, respectively. The only commercial flight it operates is between Nantucket and Hyannis. Rectrix Shuttle, the commuter service, was founded when Island Airlines of Nantucket shut down.»\n",
      "[2] «Veritair | Veritair Aviation Limited is a helicopter charter company based at Cardiff Heliport, in Cardiff, Wales. It operates year-round charter and contract helicopter services throughout United Kingdom and Europe. Veritair Aviation has major contracts with the BBC for measurement of transmitting antenna radiation patterns throughout the UK and further afield, QinetiQ for recovering MOD targets offshore and provides a British Transport Police helicopter to patrol and secure railway lines throughout the UK.»\n",
      "[3] «Ameristar Jet Charter | Ameristar Air Cargo, Inc. is an American passenger and cargo airline based in Dallas, Texas, USA. It operates passengers and cargo services in the Americas, as well as acting as a broker to other cargo carriers. Its main base is Addison Airport in north Dallas, with hubs at Willow Run Airport, and El Paso International Airport»\n",
      "\n",
      "[[ ## thought_1 ## ]]\n",
      "I found some information about Rectrix Aviation's jet charter services. They primarily serve New England, Florida, and the east coast, and their operations are based out of Nantucket Memorial Airport and Barnstable Municipal Airport. They also have a commuter service called Rectrix Shuttle. I need to confirm if there are any additional services or details about their jet charter business.\n",
      "\n",
      "[[ ## tool_name_1 ## ]]\n",
      "search_wikipedia\n",
      "\n",
      "[[ ## tool_args_1 ## ]]\n",
      "{\"query\": \"Rectrix Aviation services offered\"}\n",
      "\n",
      "[[ ## observation_1 ## ]]\n",
      "[1] «Rectrix Aviation | Rectrix Aviation is a jet charter and commuter airline service that primarily serves New England, Florida and the east coast. Its commercial operations are based out of Nantucket Memorial Airport and Barnstable Municipal Airport in Nantucket, MA and Hyannis, MA, respectively. The only commercial flight it operates is between Nantucket and Hyannis. Rectrix Shuttle, the commuter service, was founded when Island Airlines of Nantucket shut down.»\n",
      "[2] «DayJet | DayJet was an American commercial aviation operation that provided on-demand jet travel using Eclipse 500 very light jets. Founded by Ed Iacobucci, the former leader of the IBM-Microsoft Joint OS/2 development team IBM executive and the founder of Citrix Systems and his wife, network architect Nancy Lee Iacobucci, DayJet launched in October 2007. It was based in Delray Beach, Florida.»\n",
      "[3] «CitationAir | CitationAir by Cessna, founded in 2000 as CitationShares, is a subsidiary of Cessna Aircraft Company that provides private aviation services. It offered services in fractional jet ownership, jet card membership, corporate solutions and whole aircraft management. CitationAir was one of the four major players in the private aviation market. It is a seven-time winner of Best of the Best awards from the \"Robb Report\", most recently in 2009.»\n",
      "Next Thought: I have not found any additional information about Rectrix Aviation's jet charter services beyond what I already know. It seems that their primary service is jet chartering along with a commuter service called Rectrix Shuttle. I will finish the task as I have enough information to answer the question.\n",
      "Next Tool Name: finish\n",
      "Next Tool Args: {}\n",
      "\n",
      "\n",
      "\n",
      "[[ ## basic_instruction ## ]]\n",
      "Provide an answer to the question\n",
      "\n",
      "You are an Agent. In each episode, you will be given the fields `question` as input. And you can see your past trajectory so far.\n",
      "Your goal is to use one or more of the supplied tools to collect any necessary information for producing `answer`.\n",
      "\n",
      "To do this, you will interleave next_thought, next_tool_name, and next_tool_args in each turn, and also when finishing the task.\n",
      "After each tool call, you receive a resulting observation, which gets appended to your trajectory.\n",
      "\n",
      "When writing next_thought, you may reason about the current situation and plan for future steps.\n",
      "When selecting the next_tool_name and its next_tool_args, the tool must be one of:\n",
      "\n",
      "(1) search_wikipedia, whose description is <desc>      This agent is used to search wikipedia. It can retrieve additional details      about a topic.      </desc>. It takes arguments {'query': {'type': 'string'}} in JSON format.\n",
      "(2) finish, whose description is <desc>Marks the task as complete. That is, signals that all infomration for producing the outputs, i.e. `answer`, are now available to be extracted.</desc>. It takes arguments {} in JSON format.\n",
      "\n",
      "[[ ## tip ## ]]\n",
      "Make sure your instruction is very informative and descriptive.\n",
      "\n",
      "Respond with the corresponding output fields, starting with the field `[[ ## proposed_instruction ## ]]`, and then ending with the marker for `[[ ## completed ## ]]`.\n",
      "\n",
      "\n",
      "\u001b[31mResponse:\u001b[0m\n",
      "\n",
      "\u001b[32m[[ ## proposed_instruction ## ]]\n",
      "In this task, you will act as an information-gathering agent. Given the `question`, your objective is to systematically gather relevant information to formulate a complete answer. You will leverage the `trajectory` of past thoughts and tool calls to inform your next steps. \n",
      "\n",
      "1. Start by analyzing the `question` to determine what specific information you need.\n",
      "2. Use the `search_wikipedia` tool to look up relevant details related to the question. When doing so, provide a clear and concise query in the `next_tool_args`.\n",
      "3. After receiving observations from the tool, update your `trajectory` with the new information.\n",
      "4. Based on the observations, generate a `next_thought` that reflects your reasoning about the current situation and what further information may be needed.\n",
      "5. If you have gathered enough information to answer the question, select the `finish` tool to complete the task. Otherwise, continue to interleave your reasoning and tool selections until the task is complete.\n",
      "\n",
      "Remember to be thorough in your information gathering, and ensure that each step logically follows from the previous one. Your goal is to provide a well-informed and accurate answer to the question posed.\n",
      "\n",
      "[[ ## completed ## ]]\u001b[0m\n",
      "\n",
      "\n",
      "\n",
      "\n",
      "\n",
      "PROPOSED INSTRUCTION: In this task, you will act as an information-gathering agent. Given the `question`, your objective is to systematically gather relevant information to formulate a complete answer. You will leverage the `trajectory` of past thoughts and tool calls to inform your next steps. \n",
      "\n",
      "1. Start by analyzing the `question` to determine what specific information you need.\n",
      "2. Use the `search_wikipedia` tool to look up relevant details related to the question. When doing so, provide a clear and concise query in the `next_tool_args`.\n",
      "3. After receiving observations from the tool, update your `trajectory` with the new information.\n",
      "4. Based on the observations, generate a `next_thought` that reflects your reasoning about the current situation and what further information may be needed.\n",
      "5. If you have gathered enough information to answer the question, select the `finish` tool to complete the task. Otherwise, continue to interleave your reasoning and tool selections until the task is complete.\n",
      "\n",
      "Remember to be thorough in your information gathering, and ensure that each step logically follows from the previous one. Your goal is to provide a well-informed and accurate answer to the question posed.\n",
      "Using a randomly generated configuration for our grounded proposer.\n",
      "Selected tip: none\n",
      "PROGRAM DESCRIPTION: The program is designed to solve the task of answering questions by utilizing a language model agent that can interact with external tools, specifically a Wikipedia search tool. The agent operates in episodes where it receives a question and a trajectory of its previous steps. Its primary goal is to gather necessary information to produce an answer to the question.\n",
      "\n",
      "The program works by interleaving its reasoning process (next_thought) with the selection of tools (next_tool_name) and their corresponding arguments (next_tool_args). Initially, the agent assesses the question and its current trajectory to formulate a next thought, which guides its decision on which tool to use. The available tools include a Wikipedia search for gathering additional information and a finish tool to indicate that the task is complete.\n",
      "\n",
      "After each tool call, the agent receives observations that are appended to its trajectory, allowing it to build context and refine its reasoning. The process continues iteratively until the agent decides to finish, at which point it extracts the final answer based on the accumulated information.\n",
      "\n",
      "Overall, the program is structured to facilitate a dynamic and iterative question-answering process, leveraging external resources to enhance the quality and accuracy of its responses.\n",
      "task_demos No task demos provided.\n",
      "\n",
      "\n",
      "\n",
      "\n",
      "\u001b[34m[2025-06-05T18:30:53.802639]\u001b[0m\n",
      "\n",
      "\u001b[31mSystem message:\u001b[0m\n",
      "\n",
      "Your input fields are:\n",
      "1. `dataset_description` (str): A description of the dataset that we are using.\n",
      "2. `program_code` (str): Language model program designed to solve a particular task.\n",
      "3. `program_description` (str): Summary of the task the program is designed to solve, and how it goes about solving it.\n",
      "4. `module` (str): The module to create an instruction for.\n",
      "5. `module_description` (str): Description of the module to create an instruction for.\n",
      "6. `task_demos` (str): Example inputs/outputs of our module.\n",
      "7. `basic_instruction` (str): Basic instruction.\n",
      "Your output fields are:\n",
      "1. `proposed_instruction` (str): Propose an instruction that will be used to prompt a Language Model to perform this task.\n",
      "All interactions will be structured in the following way, with the appropriate values filled in.\n",
      "\n",
      "[[ ## dataset_description ## ]]\n",
      "{dataset_description}\n",
      "\n",
      "[[ ## program_code ## ]]\n",
      "{program_code}\n",
      "\n",
      "[[ ## program_description ## ]]\n",
      "{program_description}\n",
      "\n",
      "[[ ## module ## ]]\n",
      "{module}\n",
      "\n",
      "[[ ## module_description ## ]]\n",
      "{module_description}\n",
      "\n",
      "[[ ## task_demos ## ]]\n",
      "{task_demos}\n",
      "\n",
      "[[ ## basic_instruction ## ]]\n",
      "{basic_instruction}\n",
      "\n",
      "[[ ## proposed_instruction ## ]]\n",
      "{proposed_instruction}\n",
      "\n",
      "[[ ## completed ## ]]\n",
      "In adhering to this structure, your objective is: \n",
      "        Use the information below to learn about a task that we are trying to solve using calls to an LM, then generate a new instruction that will be used to prompt a Language Model to better solve the task.\n",
      "\n",
      "\n",
      "\u001b[31mUser message:\u001b[0m\n",
      "\n",
      "[[ ## dataset_description ## ]]\n",
      "The dataset primarily consists of questions targeting specific individuals or companies, aiming to extract concise and factual information. This structure indicates a focus on delivering clear trivia or insights related to notable figures and business operations.\n",
      "\n",
      "[[ ## program_code ## ]]\n",
      "StringSignature(question, trajectory -> next_thought, next_tool_name, next_tool_args\n",
      "    instructions=\"Provide an answer to the question\\n\\nYou are an Agent. In each episode, you will be given the fields `question` as input. And you can see your past trajectory so far.\\nYour goal is to use one or more of the supplied tools to collect any necessary information for producing `answer`.\\n\\nTo do this, you will interleave next_thought, next_tool_name, and next_tool_args in each turn, and also when finishing the task.\\nAfter each tool call, you receive a resulting observation, which gets appended to your trajectory.\\n\\nWhen writing next_thought, you may reason about the current situation and plan for future steps.\\nWhen selecting the next_tool_name and its next_tool_args, the tool must be one of:\\n\\n(1) search_wikipedia, whose description is <desc>      This agent is used to search wikipedia. It can retrieve additional details      about a topic.      </desc>. It takes arguments {'query': {'type': 'string'}} in JSON format.\\n(2) finish, whose description is <desc>Marks the task as complete. That is, signals that all infomration for producing the outputs, i.e. `answer`, are now available to be extracted.</desc>. It takes arguments {} in JSON format.\"\n",
      "    question = Field(annotation=str required=True json_schema_extra={'__dspy_field_type': 'input', 'prefix': 'Question:', 'desc': '${question}'})\n",
      "    trajectory = Field(annotation=str required=True json_schema_extra={'__dspy_field_type': 'input', 'prefix': 'Trajectory:', 'desc': '${trajectory}'})\n",
      "    next_thought = Field(annotation=str required=True json_schema_extra={'__dspy_field_type': 'output', 'prefix': 'Next Thought:', 'desc': '${next_thought}'})\n",
      "    next_tool_name = Field(annotation=Literal['search_wikipedia', 'finish'] required=True json_schema_extra={'__dspy_field_type': 'output', 'prefix': 'Next Tool Name:', 'desc': '${next_tool_name}'})\n",
      "    next_tool_args = Field(annotation=dict[str, Any] required=True json_schema_extra={'__dspy_field_type': 'output', 'prefix': 'Next Tool Args:', 'desc': '${next_tool_args}'})\n",
      ")\n",
      "\n",
      "\n",
      "\n",
      "StringSignature(question, trajectory -> reasoning, answer\n",
      "    instructions='Provide an answer to the question'\n",
      "    question = Field(annotation=str required=True json_schema_extra={'__dspy_field_type': 'input', 'prefix': 'Question:', 'desc': '${question}'})\n",
      "    trajectory = Field(annotation=str required=True json_schema_extra={'__dspy_field_type': 'input', 'prefix': 'Trajectory:', 'desc': '${trajectory}'})\n",
      "    reasoning = Field(annotation=str required=True json_schema_extra={'prefix': \"Reasoning: Let's think step by step in order to\", 'desc': '${reasoning}', '__dspy_field_type': 'output'})\n",
      "    answer = Field(annotation=str required=True json_schema_extra={'__dspy_field_type': 'output', 'prefix': 'Answer:', 'desc': '${answer}'})\n",
      ")\n",
      "\n",
      "class ReAct(Module):\n",
      "    def __init__(self, signature, tools: list[Callable], max_iters=5):\n",
      "        \"\"\"\n",
      "        `tools` is either a list of functions, callable classes, or `dspy.Tool` instances.\n",
      "        \"\"\"\n",
      "\n",
      "        self.signature = signature = ensure_signature(signature)\n",
      "        self.max_iters = max_iters\n",
      "\n",
      "        tools = [t if isinstance(t, Tool) else Tool(t) for t in tools]\n",
      "        tools = {tool.name: tool for tool in tools}\n",
      "\n",
      "        inputs = \", \".join([f\"`{k}`\" for k in signature.input_fields.keys()])\n",
      "        outputs = \", \".join([f\"`{k}`\" for k in signature.output_fields.keys()])\n",
      "        instr = [f\"{signature.instructions}\\n\"] if signature.instructions else []\n",
      "\n",
      "        instr.extend(\n",
      "            [\n",
      "                f\"You are an Agent. In each episode, you will be given the fields {inputs} as input. And you can see your past trajectory so far.\",\n",
      "                f\"Your goal is to use one or more of the supplied tools to collect any necessary information for producing {outputs}.\\n\",\n",
      "                \"To do this, you will interleave next_thought, next_tool_name, and next_tool_args in each turn, and also when finishing the task.\",\n",
      "                \"After each tool call, you receive a resulting observation, which gets appended to your trajectory.\\n\",\n",
      "                \"When writing next_thought, you may reason about the current situation and plan for future steps.\",\n",
      "                \"When selecting the next_tool_name and its next_tool_args, the tool must be one of:\\n\",\n",
      "            ]\n",
      "        )\n",
      "\n",
      "        tools[\"finish\"] = Tool(\n",
      "            func=lambda: \"Completed.\",\n",
      "            name=\"finish\",\n",
      "            desc=f\"Marks the task as complete. That is, signals that all infomration for producing the outputs, i.e. {outputs}, are now available to be extracted.\",\n",
      "            args={},\n",
      "        )\n",
      "\n",
      "        for idx, tool in enumerate(tools.values()):\n",
      "            args = getattr(tool, \"args\")\n",
      "            desc = (f\", whose description is <desc>{tool.desc}</desc>.\" if tool.desc else \".\").replace(\"\\n\", \"  \")\n",
      "            desc += f\" It takes arguments {args} in JSON format.\"\n",
      "            instr.append(f\"({idx + 1}) {tool.name}{desc}\")\n",
      "\n",
      "        react_signature = (\n",
      "            dspy.Signature({**signature.input_fields}, \"\\n\".join(instr))\n",
      "            .append(\"trajectory\", dspy.InputField(), type_=str)\n",
      "            .append(\"next_thought\", dspy.OutputField(), type_=str)\n",
      "            .append(\"next_tool_name\", dspy.OutputField(), type_=Literal[tuple(tools.keys())])\n",
      "            .append(\"next_tool_args\", dspy.OutputField(), type_=dict[str, Any])\n",
      "        )\n",
      "\n",
      "        fallback_signature = dspy.Signature(\n",
      "            {**signature.input_fields, **signature.output_fields},\n",
      "            signature.instructions,\n",
      "        ).append(\"trajectory\", dspy.InputField(), type_=str)\n",
      "\n",
      "        self.tools = tools\n",
      "        self.react = dspy.Predict(react_signature)\n",
      "        self.extract = dspy.ChainOfThought(fallback_signature)\n",
      "\n",
      "    def _format_trajectory(self, trajectory: dict[str, Any]):\n",
      "        adapter = dspy.settings.adapter or dspy.ChatAdapter()\n",
      "        trajectory_signature = dspy.Signature(f\"{', '.join(trajectory.keys())} -> x\")\n",
      "        return adapter.format_user_message_content(trajectory_signature, trajectory)\n",
      "\n",
      "    def forward(self, **input_args):\n",
      "        trajectory = {}\n",
      "        max_iters = input_args.pop(\"max_iters\", self.max_iters)\n",
      "        for idx in range(max_iters):\n",
      "            try:\n",
      "                pred = self._call_with_potential_trajectory_truncation(self.react, trajectory, **input_args)\n",
      "            except ValueError as err:\n",
      "                logger.warning(f\"Ending the trajectory: Agent failed to select a valid tool: {_fmt_exc(err)}\")\n",
      "                break\n",
      "\n",
      "            trajectory[f\"thought_{idx}\"] = pred.next_thought\n",
      "            trajectory[f\"tool_name_{idx}\"] = pred.next_tool_name\n",
      "            trajectory[f\"tool_args_{idx}\"] = pred.next_tool_args\n",
      "\n",
      "            try:\n",
      "                trajectory[f\"observation_{idx}\"] = self.tools[pred.next_tool_name](**pred.next_tool_args)\n",
      "            except Exception as err:\n",
      "                trajectory[f\"observation_{idx}\"] = f\"Execution error in {pred.next_tool_name}: {_fmt_exc(err)}\"\n",
      "\n",
      "            if pred.next_tool_name == \"finish\":\n",
      "                break\n",
      "\n",
      "        extract = self._call_with_potential_trajectory_truncation(self.extract, trajectory, **input_args)\n",
      "        return dspy.Prediction(trajectory=trajectory, **extract)\n",
      "\n",
      "    def _call_with_potential_trajectory_truncation(self, module, trajectory, **input_args):\n",
      "        for _ in range(3):\n",
      "            try:\n",
      "                return module(\n",
      "                    **input_args,\n",
      "                    trajectory=self._format_trajectory(trajectory),\n",
      "                )\n",
      "            except ContextWindowExceededError:\n",
      "                logger.warning(\"Trajectory exceeded the context window, truncating the oldest tool call information.\")\n",
      "                trajectory = self.truncate_trajectory(trajectory)\n",
      "\n",
      "    def truncate_trajectory(self, trajectory):\n",
      "        \"\"\"Truncates the trajectory so that it fits in the context window.\n",
      "\n",
      "        Users can override this method to implement their own truncation logic.\n",
      "        \"\"\"\n",
      "        keys = list(trajectory.keys())\n",
      "        if len(keys) < 4:\n",
      "            # Every tool call has 4 keys: thought, tool_name, tool_args, and observation.\n",
      "            raise ValueError(\n",
      "                \"The trajectory is too long so your prompt exceeded the context window, but the trajectory cannot be \"\n",
      "                \"truncated because it only has one tool call.\"\n",
      "            )\n",
      "\n",
      "        for key in keys[:4]:\n",
      "            trajectory.pop(key)\n",
      "\n",
      "        return trajectory\n",
      "\n",
      "\n",
      "[[ ## program_description ## ]]\n",
      "The program is designed to solve the task of answering questions by utilizing a language model agent that can interact with external tools, specifically a Wikipedia search tool. The agent operates in episodes where it receives a question and a trajectory of its previous steps. Its primary goal is to gather necessary information to produce an answer to the question.\n",
      "\n",
      "The program works by interleaving its reasoning process (next_thought) with the selection of tools (next_tool_name) and their corresponding arguments (next_tool_args). Initially, the agent assesses the question and its current trajectory to formulate a next thought, which guides its decision on which tool to use. The available tools include a Wikipedia search for gathering additional information and a finish tool to indicate that the task is complete.\n",
      "\n",
      "After each tool call, the agent receives observations that are appended to its trajectory, allowing it to build context and refine its reasoning. The process continues iteratively until the agent decides to finish, at which point it extracts the final answer based on the accumulated information.\n",
      "\n",
      "Overall, the program is structured to facilitate a dynamic and iterative question-answering process, leveraging external resources to enhance the quality and accuracy of its responses.\n",
      "\n",
      "[[ ## module ## ]]\n",
      "Predict(question, trajectory) -> reasoning, answer\n",
      "\n",
      "[[ ## module_description ## ]]\n",
      "The `Predict` module is responsible for generating the reasoning and final answer based on the provided question and the trajectory of the agent's previous interactions. It takes the current question and the history of the agent's thoughts and actions (trajectory) as input, allowing it to synthesize the information gathered from tool calls and its own reasoning process. This module plays a crucial role in the overall program by transforming the raw data collected during the episode into a coherent answer, thereby completing the task of responding to the user's question.\n",
      "\n",
      "[[ ## task_demos ## ]]\n",
      "No task demos provided.\n",
      "\n",
      "[[ ## basic_instruction ## ]]\n",
      "Provide an answer to the question\n",
      "\n",
      "Respond with the corresponding output fields, starting with the field `[[ ## proposed_instruction ## ]]`, and then ending with the marker for `[[ ## completed ## ]]`.\n",
      "\n",
      "\n",
      "\u001b[31mResponse:\u001b[0m\n",
      "\n",
      "\u001b[32m[[ ## proposed_instruction ## ]]\n",
      "Utilize the `Predict` module to generate a coherent reasoning process and final answer based on the question provided and the trajectory of the agent's previous interactions. Ensure that you synthesize the information gathered from tool calls and your own reasoning effectively to deliver a clear and concise response to the user's question.\n",
      "\n",
      "[[ ## completed ## ]]\u001b[0m\n",
      "\n",
      "\n",
      "\n",
      "\n",
      "\n",
      "PROPOSED INSTRUCTION: Utilize the `Predict` module to generate a coherent reasoning process and final answer based on the question provided and the trajectory of the agent's previous interactions. Ensure that you synthesize the information gathered from tool calls and your own reasoning effectively to deliver a clear and concise response to the user's question.\n",
      "Using a randomly generated configuration for our grounded proposer.\n",
      "Selected tip: high_stakes\n",
      "PROGRAM DESCRIPTION: This program is designed to solve the task of answering questions by utilizing a series of tools, specifically a language model and a search tool (Wikipedia). The program operates in a step-by-step manner, where it receives a question and a trajectory of previous thoughts and actions. It employs a reasoning process to determine the next steps required to gather necessary information. The agent can choose between two tools: one for searching Wikipedia to retrieve relevant information and another to mark the task as complete when enough information has been gathered. The program interleaves thoughts, tool selections, and arguments in its execution, allowing it to build a trajectory of observations that guide it towards formulating a final answer to the original question.\n",
      "task_demos Question: whos family had their own reality tv show. Robert Kardashian or Manvel Gamburyan?\n",
      "Trajectory: [[ ## thought_0 ## ]]\n",
      "I need to determine which individual, Robert Kardashian or Manvel Gamburyan, had a family that starred in a reality TV show. Robert Kardashian is known for being part of the Kardashian family, who are famous for their reality show \"Keeping Up with the Kardashians.\" I need to confirm this information and check if Manvel Gamburyan has any similar associations with reality TV.\n",
      "\n",
      "[[ ## tool_name_0 ## ]]\n",
      "search_wikipedia\n",
      "\n",
      "[[ ## tool_args_0 ## ]]\n",
      "{\"query\": \"Robert Kardashian family reality TV show\"}\n",
      "\n",
      "[[ ## observation_0 ## ]]\n",
      "[1] «Rob Kardashian | Robert Arthur Kardashian (born March 17, 1987) is an American television personality and businessman. He is known for appearing on \"Keeping Up with the Kardashians\", a reality television series that centers upon his family, as well as its spin-offs. In 2011, Kardashian also competed in the thirteenth season of ABC's \"Dancing with the Stars\", during which he placed second.»\n",
      "[2] «Robert Kardashian | Robert George Kardashian (February 22, 1944 – September 30, 2003) was an American attorney and businessman. He gained national recognition as O. J. Simpson's friend and defense attorney during Simpson's 1995 murder trial. He had four children with his first wife, Kris Kardashian (née Houghton, later Jenner): Kourtney, Kim, Khloé, and Rob, who appear on their family reality television series, \"Keeping Up with the Kardashians\", and its spinoffs.»\n",
      "[3] «Keeping Up with the Kardashians | Keeping Up with the Kardashians (often abbreviated KUWTK) is an American reality television series that airs on the E! cable network. The show focuses on the personal and professional lives of the Kardashian–Jenner blended family. Its premise originated with Ryan Seacrest, who also serves as an executive producer. The series debuted on October 14, 2007 and has subsequently become one of the longest-running reality television series in the country. The fourteenth season of the series will premiere on October 1, 2017.»\n",
      "\n",
      "[[ ## thought_1 ## ]]\n",
      "I have confirmed that Robert Kardashian's family had their own reality TV show, \"Keeping Up with the Kardashians.\" Now, I need to check if Manvel Gamburyan has any association with a reality TV show to compare the two.\n",
      "\n",
      "[[ ## tool_name_1 ## ]]\n",
      "search_wikipedia\n",
      "\n",
      "[[ ## tool_args_1 ## ]]\n",
      "{\"query\": \"Manvel Gamburyan family reality TV show\"}\n",
      "\n",
      "[[ ## observation_1 ## ]]\n",
      "[1] «Manvel Gamburyan | Manvel \"Manny\" Gamburyan (Armenian: Մանվել Գամբուրյան ; born May 8, 1981) is a retired Armenian-American fighter who competed in the UFC's Bantamweight and Featherweight divisions. A professional competitor since 1999, he was a cast member of Spike TV's The Ultimate Fighter 5, and also competed in the WEC and for King of the Cage.»\n",
      "[2] «Karen Darabedyan | Karen Darabedyan (born December 18, 1986) is an Armenian professional mixed martial artist. He is best known for fighting in WEC's lightweight division. He is a training partner of Karo Parisyan and Manvel Gamburyan. He had a 12-0 amateur boxing record before he began MMA.»\n",
      "[3] «Manvel Agaronyan | Manvel Ashotovich Agaronyan (Russian: Манвел Ашотович Агаронян ; born 30 November 1997) is a Russian football player. He plays for FC SKA-Khabarovsk.»\n",
      "\n",
      "[[ ## thought_2 ## ]]\n",
      "I have found that Manvel Gamburyan was a cast member of \"The Ultimate Fighter 5,\" which is a reality TV show focused on mixed martial arts. However, it does not involve his family in the same way that \"Keeping Up with the Kardashians\" does. Therefore, Robert Kardashian's family is more prominently associated with a reality TV show. I can now conclude that Robert Kardashian's family had their own reality TV show, while Manvel Gamburyan's association is more about his participation in a competition rather than a family-oriented show.\n",
      "\n",
      "[[ ## tool_name_2 ## ]]\n",
      "finish\n",
      "\n",
      "[[ ## tool_args_2 ## ]]\n",
      "{}\n",
      "\n",
      "[[ ## observation_2 ## ]]\n",
      "Completed.\n",
      "Reasoning: Let's think step by step in order to Robert Kardashian's family is well-known for their reality TV show \"Keeping Up with the Kardashians,\" which features the personal and professional lives of the Kardashian-Jenner family. In contrast, Manvel Gamburyan was a cast member of \"The Ultimate Fighter 5,\" a reality show focused on mixed martial arts, but it does not center around his family. Therefore, Robert Kardashian's family had their own reality TV show, while Manvel Gamburyan's involvement is not family-oriented.\n",
      "Answer: Robert Kardashian's family had their own reality TV show.\n",
      "\n",
      "Question: Rectrix Aviation's jet charter business involves what service?\n",
      "Trajectory: [[ ## thought_0 ## ]]\n",
      "I need to gather information about Rectrix Aviation's jet charter business and the specific services they offer. Searching Wikipedia could provide detailed insights into their operations and services.\n",
      "\n",
      "[[ ## tool_name_0 ## ]]\n",
      "search_wikipedia\n",
      "\n",
      "[[ ## tool_args_0 ## ]]\n",
      "{\"query\": \"Rectrix Aviation jet charter services\"}\n",
      "\n",
      "[[ ## observation_0 ## ]]\n",
      "[1] «Rectrix Aviation | Rectrix Aviation is a jet charter and commuter airline service that primarily serves New England, Florida and the east coast. Its commercial operations are based out of Nantucket Memorial Airport and Barnstable Municipal Airport in Nantucket, MA and Hyannis, MA, respectively. The only commercial flight it operates is between Nantucket and Hyannis. Rectrix Shuttle, the commuter service, was founded when Island Airlines of Nantucket shut down.»\n",
      "[2] «Veritair | Veritair Aviation Limited is a helicopter charter company based at Cardiff Heliport, in Cardiff, Wales. It operates year-round charter and contract helicopter services throughout United Kingdom and Europe. Veritair Aviation has major contracts with the BBC for measurement of transmitting antenna radiation patterns throughout the UK and further afield, QinetiQ for recovering MOD targets offshore and provides a British Transport Police helicopter to patrol and secure railway lines throughout the UK.»\n",
      "[3] «Ameristar Jet Charter | Ameristar Air Cargo, Inc. is an American passenger and cargo airline based in Dallas, Texas, USA. It operates passengers and cargo services in the Americas, as well as acting as a broker to other cargo carriers. Its main base is Addison Airport in north Dallas, with hubs at Willow Run Airport, and El Paso International Airport»\n",
      "\n",
      "[[ ## thought_1 ## ]]\n",
      "I found some information about Rectrix Aviation's jet charter services. They primarily serve New England, Florida, and the east coast, and their operations are based out of Nantucket Memorial Airport and Barnstable Municipal Airport. They also have a commuter service called Rectrix Shuttle. I need to confirm if there are any additional services or details about their jet charter business.\n",
      "\n",
      "[[ ## tool_name_1 ## ]]\n",
      "search_wikipedia\n",
      "\n",
      "[[ ## tool_args_1 ## ]]\n",
      "{\"query\": \"Rectrix Aviation services offered\"}\n",
      "\n",
      "[[ ## observation_1 ## ]]\n",
      "[1] «Rectrix Aviation | Rectrix Aviation is a jet charter and commuter airline service that primarily serves New England, Florida and the east coast. Its commercial operations are based out of Nantucket Memorial Airport and Barnstable Municipal Airport in Nantucket, MA and Hyannis, MA, respectively. The only commercial flight it operates is between Nantucket and Hyannis. Rectrix Shuttle, the commuter service, was founded when Island Airlines of Nantucket shut down.»\n",
      "[2] «DayJet | DayJet was an American commercial aviation operation that provided on-demand jet travel using Eclipse 500 very light jets. Founded by Ed Iacobucci, the former leader of the IBM-Microsoft Joint OS/2 development team IBM executive and the founder of Citrix Systems and his wife, network architect Nancy Lee Iacobucci, DayJet launched in October 2007. It was based in Delray Beach, Florida.»\n",
      "[3] «CitationAir | CitationAir by Cessna, founded in 2000 as CitationShares, is a subsidiary of Cessna Aircraft Company that provides private aviation services. It offered services in fractional jet ownership, jet card membership, corporate solutions and whole aircraft management. CitationAir was one of the four major players in the private aviation market. It is a seven-time winner of Best of the Best awards from the \"Robb Report\", most recently in 2009.»\n",
      "\n",
      "[[ ## thought_2 ## ]]\n",
      "I have not found any additional information about Rectrix Aviation's jet charter services beyond what I already know. It seems that their primary service is jet chartering along with a commuter service called Rectrix Shuttle. I will finish the task as I have enough information to answer the question.\n",
      "\n",
      "[[ ## tool_name_2 ## ]]\n",
      "finish\n",
      "\n",
      "[[ ## tool_args_2 ## ]]\n",
      "{}\n",
      "\n",
      "[[ ## observation_2 ## ]]\n",
      "Completed.\n",
      "Reasoning: Let's think step by step in order to Rectrix Aviation's jet charter business primarily involves providing jet charter services that cater to clients in New England, Florida, and the east coast. They operate from Nantucket Memorial Airport and Barnstable Municipal Airport, and they also offer a commuter service known as Rectrix Shuttle. This indicates that their main service is focused on jet chartering, along with commuter flights.\n",
      "Answer: Rectrix Aviation's jet charter business involves providing jet charter services primarily serving New England, Florida, and the east coast, along with a commuter service called Rectrix Shuttle.\n",
      "\n",
      "\n",
      "\n",
      "\n",
      "\n",
      "\n",
      "\u001b[34m[2025-06-05T18:31:06.362090]\u001b[0m\n",
      "\n",
      "\u001b[31mSystem message:\u001b[0m\n",
      "\n",
      "Your input fields are:\n",
      "1. `dataset_description` (str): A description of the dataset that we are using.\n",
      "2. `program_code` (str): Language model program designed to solve a particular task.\n",
      "3. `program_description` (str): Summary of the task the program is designed to solve, and how it goes about solving it.\n",
      "4. `module` (str): The module to create an instruction for.\n",
      "5. `module_description` (str): Description of the module to create an instruction for.\n",
      "6. `task_demos` (str): Example inputs/outputs of our module.\n",
      "7. `basic_instruction` (str): Basic instruction.\n",
      "8. `tip` (str): A suggestion for how to go about generating the new instruction.\n",
      "Your output fields are:\n",
      "1. `proposed_instruction` (str): Propose an instruction that will be used to prompt a Language Model to perform this task.\n",
      "All interactions will be structured in the following way, with the appropriate values filled in.\n",
      "\n",
      "[[ ## dataset_description ## ]]\n",
      "{dataset_description}\n",
      "\n",
      "[[ ## program_code ## ]]\n",
      "{program_code}\n",
      "\n",
      "[[ ## program_description ## ]]\n",
      "{program_description}\n",
      "\n",
      "[[ ## module ## ]]\n",
      "{module}\n",
      "\n",
      "[[ ## module_description ## ]]\n",
      "{module_description}\n",
      "\n",
      "[[ ## task_demos ## ]]\n",
      "{task_demos}\n",
      "\n",
      "[[ ## basic_instruction ## ]]\n",
      "{basic_instruction}\n",
      "\n",
      "[[ ## tip ## ]]\n",
      "{tip}\n",
      "\n",
      "[[ ## proposed_instruction ## ]]\n",
      "{proposed_instruction}\n",
      "\n",
      "[[ ## completed ## ]]\n",
      "In adhering to this structure, your objective is: \n",
      "        Use the information below to learn about a task that we are trying to solve using calls to an LM, then generate a new instruction that will be used to prompt a Language Model to better solve the task.\n",
      "\n",
      "\n",
      "\u001b[31mUser message:\u001b[0m\n",
      "\n",
      "[[ ## dataset_description ## ]]\n",
      "The dataset primarily consists of questions targeting specific individuals or companies, aiming to extract concise and factual information. This structure indicates a focus on delivering clear trivia or insights related to notable figures and business operations.\n",
      "\n",
      "[[ ## program_code ## ]]\n",
      "StringSignature(question, trajectory -> next_thought, next_tool_name, next_tool_args\n",
      "    instructions=\"Provide an answer to the question\\n\\nYou are an Agent. In each episode, you will be given the fields `question` as input. And you can see your past trajectory so far.\\nYour goal is to use one or more of the supplied tools to collect any necessary information for producing `answer`.\\n\\nTo do this, you will interleave next_thought, next_tool_name, and next_tool_args in each turn, and also when finishing the task.\\nAfter each tool call, you receive a resulting observation, which gets appended to your trajectory.\\n\\nWhen writing next_thought, you may reason about the current situation and plan for future steps.\\nWhen selecting the next_tool_name and its next_tool_args, the tool must be one of:\\n\\n(1) search_wikipedia, whose description is <desc>      This agent is used to search wikipedia. It can retrieve additional details      about a topic.      </desc>. It takes arguments {'query': {'type': 'string'}} in JSON format.\\n(2) finish, whose description is <desc>Marks the task as complete. That is, signals that all infomration for producing the outputs, i.e. `answer`, are now available to be extracted.</desc>. It takes arguments {} in JSON format.\"\n",
      "    question = Field(annotation=str required=True json_schema_extra={'__dspy_field_type': 'input', 'prefix': 'Question:', 'desc': '${question}'})\n",
      "    trajectory = Field(annotation=str required=True json_schema_extra={'__dspy_field_type': 'input', 'prefix': 'Trajectory:', 'desc': '${trajectory}'})\n",
      "    next_thought = Field(annotation=str required=True json_schema_extra={'__dspy_field_type': 'output', 'prefix': 'Next Thought:', 'desc': '${next_thought}'})\n",
      "    next_tool_name = Field(annotation=Literal['search_wikipedia', 'finish'] required=True json_schema_extra={'__dspy_field_type': 'output', 'prefix': 'Next Tool Name:', 'desc': '${next_tool_name}'})\n",
      "    next_tool_args = Field(annotation=dict[str, Any] required=True json_schema_extra={'__dspy_field_type': 'output', 'prefix': 'Next Tool Args:', 'desc': '${next_tool_args}'})\n",
      ")\n",
      "\n",
      "\n",
      "\n",
      "StringSignature(question, trajectory -> reasoning, answer\n",
      "    instructions='Provide an answer to the question'\n",
      "    question = Field(annotation=str required=True json_schema_extra={'__dspy_field_type': 'input', 'prefix': 'Question:', 'desc': '${question}'})\n",
      "    trajectory = Field(annotation=str required=True json_schema_extra={'__dspy_field_type': 'input', 'prefix': 'Trajectory:', 'desc': '${trajectory}'})\n",
      "    reasoning = Field(annotation=str required=True json_schema_extra={'prefix': \"Reasoning: Let's think step by step in order to\", 'desc': '${reasoning}', '__dspy_field_type': 'output'})\n",
      "    answer = Field(annotation=str required=True json_schema_extra={'__dspy_field_type': 'output', 'prefix': 'Answer:', 'desc': '${answer}'})\n",
      ")\n",
      "\n",
      "class ReAct(Module):\n",
      "    def __init__(self, signature, tools: list[Callable], max_iters=5):\n",
      "        \"\"\"\n",
      "        `tools` is either a list of functions, callable classes, or `dspy.Tool` instances.\n",
      "        \"\"\"\n",
      "\n",
      "        self.signature = signature = ensure_signature(signature)\n",
      "        self.max_iters = max_iters\n",
      "\n",
      "        tools = [t if isinstance(t, Tool) else Tool(t) for t in tools]\n",
      "        tools = {tool.name: tool for tool in tools}\n",
      "\n",
      "        inputs = \", \".join([f\"`{k}`\" for k in signature.input_fields.keys()])\n",
      "        outputs = \", \".join([f\"`{k}`\" for k in signature.output_fields.keys()])\n",
      "        instr = [f\"{signature.instructions}\\n\"] if signature.instructions else []\n",
      "\n",
      "        instr.extend(\n",
      "            [\n",
      "                f\"You are an Agent. In each episode, you will be given the fields {inputs} as input. And you can see your past trajectory so far.\",\n",
      "                f\"Your goal is to use one or more of the supplied tools to collect any necessary information for producing {outputs}.\\n\",\n",
      "                \"To do this, you will interleave next_thought, next_tool_name, and next_tool_args in each turn, and also when finishing the task.\",\n",
      "                \"After each tool call, you receive a resulting observation, which gets appended to your trajectory.\\n\",\n",
      "                \"When writing next_thought, you may reason about the current situation and plan for future steps.\",\n",
      "                \"When selecting the next_tool_name and its next_tool_args, the tool must be one of:\\n\",\n",
      "            ]\n",
      "        )\n",
      "\n",
      "        tools[\"finish\"] = Tool(\n",
      "            func=lambda: \"Completed.\",\n",
      "            name=\"finish\",\n",
      "            desc=f\"Marks the task as complete. That is, signals that all infomration for producing the outputs, i.e. {outputs}, are now available to be extracted.\",\n",
      "            args={},\n",
      "        )\n",
      "\n",
      "        for idx, tool in enumerate(tools.values()):\n",
      "            args = getattr(tool, \"args\")\n",
      "            desc = (f\", whose description is <desc>{tool.desc}</desc>.\" if tool.desc else \".\").replace(\"\\n\", \"  \")\n",
      "            desc += f\" It takes arguments {args} in JSON format.\"\n",
      "            instr.append(f\"({idx + 1}) {tool.name}{desc}\")\n",
      "\n",
      "        react_signature = (\n",
      "            dspy.Signature({**signature.input_fields}, \"\\n\".join(instr))\n",
      "            .append(\"trajectory\", dspy.InputField(), type_=str)\n",
      "            .append(\"next_thought\", dspy.OutputField(), type_=str)\n",
      "            .append(\"next_tool_name\", dspy.OutputField(), type_=Literal[tuple(tools.keys())])\n",
      "            .append(\"next_tool_args\", dspy.OutputField(), type_=dict[str, Any])\n",
      "        )\n",
      "\n",
      "        fallback_signature = dspy.Signature(\n",
      "            {**signature.input_fields, **signature.output_fields},\n",
      "            signature.instructions,\n",
      "        ).append(\"trajectory\", dspy.InputField(), type_=str)\n",
      "\n",
      "        self.tools = tools\n",
      "        self.react = dspy.Predict(react_signature)\n",
      "        self.extract = dspy.ChainOfThought(fallback_signature)\n",
      "\n",
      "    def _format_trajectory(self, trajectory: dict[str, Any]):\n",
      "        adapter = dspy.settings.adapter or dspy.ChatAdapter()\n",
      "        trajectory_signature = dspy.Signature(f\"{', '.join(trajectory.keys())} -> x\")\n",
      "        return adapter.format_user_message_content(trajectory_signature, trajectory)\n",
      "\n",
      "    def forward(self, **input_args):\n",
      "        trajectory = {}\n",
      "        max_iters = input_args.pop(\"max_iters\", self.max_iters)\n",
      "        for idx in range(max_iters):\n",
      "            try:\n",
      "                pred = self._call_with_potential_trajectory_truncation(self.react, trajectory, **input_args)\n",
      "            except ValueError as err:\n",
      "                logger.warning(f\"Ending the trajectory: Agent failed to select a valid tool: {_fmt_exc(err)}\")\n",
      "                break\n",
      "\n",
      "            trajectory[f\"thought_{idx}\"] = pred.next_thought\n",
      "            trajectory[f\"tool_name_{idx}\"] = pred.next_tool_name\n",
      "            trajectory[f\"tool_args_{idx}\"] = pred.next_tool_args\n",
      "\n",
      "            try:\n",
      "                trajectory[f\"observation_{idx}\"] = self.tools[pred.next_tool_name](**pred.next_tool_args)\n",
      "            except Exception as err:\n",
      "                trajectory[f\"observation_{idx}\"] = f\"Execution error in {pred.next_tool_name}: {_fmt_exc(err)}\"\n",
      "\n",
      "            if pred.next_tool_name == \"finish\":\n",
      "                break\n",
      "\n",
      "        extract = self._call_with_potential_trajectory_truncation(self.extract, trajectory, **input_args)\n",
      "        return dspy.Prediction(trajectory=trajectory, **extract)\n",
      "\n",
      "    def _call_with_potential_trajectory_truncation(self, module, trajectory, **input_args):\n",
      "        for _ in range(3):\n",
      "            try:\n",
      "                return module(\n",
      "                    **input_args,\n",
      "                    trajectory=self._format_trajectory(trajectory),\n",
      "                )\n",
      "            except ContextWindowExceededError:\n",
      "                logger.warning(\"Trajectory exceeded the context window, truncating the oldest tool call information.\")\n",
      "                trajectory = self.truncate_trajectory(trajectory)\n",
      "\n",
      "    def truncate_trajectory(self, trajectory):\n",
      "        \"\"\"Truncates the trajectory so that it fits in the context window.\n",
      "\n",
      "        Users can override this method to implement their own truncation logic.\n",
      "        \"\"\"\n",
      "        keys = list(trajectory.keys())\n",
      "        if len(keys) < 4:\n",
      "            # Every tool call has 4 keys: thought, tool_name, tool_args, and observation.\n",
      "            raise ValueError(\n",
      "                \"The trajectory is too long so your prompt exceeded the context window, but the trajectory cannot be \"\n",
      "                \"truncated because it only has one tool call.\"\n",
      "            )\n",
      "\n",
      "        for key in keys[:4]:\n",
      "            trajectory.pop(key)\n",
      "\n",
      "        return trajectory\n",
      "\n",
      "\n",
      "[[ ## program_description ## ]]\n",
      "This program is designed to solve the task of answering questions by utilizing a series of tools, specifically a language model and a search tool (Wikipedia). The program operates in a step-by-step manner, where it receives a question and a trajectory of previous thoughts and actions. It employs a reasoning process to determine the next steps required to gather necessary information. The agent can choose between two tools: one for searching Wikipedia to retrieve relevant information and another to mark the task as complete when enough information has been gathered. The program interleaves thoughts, tool selections, and arguments in its execution, allowing it to build a trajectory of observations that guide it towards formulating a final answer to the original question.\n",
      "\n",
      "[[ ## module ## ]]\n",
      "Predict(question, trajectory) -> reasoning, answer\n",
      "\n",
      "[[ ## module_description ## ]]\n",
      "The `Predict` module is responsible for generating a structured reasoning process and final answer based on the provided question and the trajectory of previous thoughts and actions. It takes in the question and the accumulated trajectory, which includes past observations and tool interactions, and applies a reasoning strategy to synthesize the information. This module effectively consolidates the data gathered from the search tool and the agent's thought process to produce coherent and accurate responses to the user's inquiry.\n",
      "\n",
      "[[ ## task_demos ## ]]\n",
      "Question: whos family had their own reality tv show. Robert Kardashian or Manvel Gamburyan?\n",
      "Trajectory: [[ ## thought_0 ## ]]\n",
      "I need to determine which individual, Robert Kardashian or Manvel Gamburyan, had a family that starred in a reality TV show. Robert Kardashian is known for being part of the Kardashian family, who are famous for their reality show \"Keeping Up with the Kardashians.\" I need to confirm this information and check if Manvel Gamburyan has any similar associations with reality TV.\n",
      "\n",
      "[[ ## tool_name_0 ## ]]\n",
      "search_wikipedia\n",
      "\n",
      "[[ ## tool_args_0 ## ]]\n",
      "{\"query\": \"Robert Kardashian family reality TV show\"}\n",
      "\n",
      "[[ ## observation_0 ## ]]\n",
      "[1] «Rob Kardashian | Robert Arthur Kardashian (born March 17, 1987) is an American television personality and businessman. He is known for appearing on \"Keeping Up with the Kardashians\", a reality television series that centers upon his family, as well as its spin-offs. In 2011, Kardashian also competed in the thirteenth season of ABC's \"Dancing with the Stars\", during which he placed second.»\n",
      "[2] «Robert Kardashian | Robert George Kardashian (February 22, 1944 – September 30, 2003) was an American attorney and businessman. He gained national recognition as O. J. Simpson's friend and defense attorney during Simpson's 1995 murder trial. He had four children with his first wife, Kris Kardashian (née Houghton, later Jenner): Kourtney, Kim, Khloé, and Rob, who appear on their family reality television series, \"Keeping Up with the Kardashians\", and its spinoffs.»\n",
      "[3] «Keeping Up with the Kardashians | Keeping Up with the Kardashians (often abbreviated KUWTK) is an American reality television series that airs on the E! cable network. The show focuses on the personal and professional lives of the Kardashian–Jenner blended family. Its premise originated with Ryan Seacrest, who also serves as an executive producer. The series debuted on October 14, 2007 and has subsequently become one of the longest-running reality television series in the country. The fourteenth season of the series will premiere on October 1, 2017.»\n",
      "\n",
      "[[ ## thought_1 ## ]]\n",
      "I have confirmed that Robert Kardashian's family had their own reality TV show, \"Keeping Up with the Kardashians.\" Now, I need to check if Manvel Gamburyan has any association with a reality TV show to compare the two.\n",
      "\n",
      "[[ ## tool_name_1 ## ]]\n",
      "search_wikipedia\n",
      "\n",
      "[[ ## tool_args_1 ## ]]\n",
      "{\"query\": \"Manvel Gamburyan family reality TV show\"}\n",
      "\n",
      "[[ ## observation_1 ## ]]\n",
      "[1] «Manvel Gamburyan | Manvel \"Manny\" Gamburyan (Armenian: Մանվել Գամբուրյան ; born May 8, 1981) is a retired Armenian-American fighter who competed in the UFC's Bantamweight and Featherweight divisions. A professional competitor since 1999, he was a cast member of Spike TV's The Ultimate Fighter 5, and also competed in the WEC and for King of the Cage.»\n",
      "[2] «Karen Darabedyan | Karen Darabedyan (born December 18, 1986) is an Armenian professional mixed martial artist. He is best known for fighting in WEC's lightweight division. He is a training partner of Karo Parisyan and Manvel Gamburyan. He had a 12-0 amateur boxing record before he began MMA.»\n",
      "[3] «Manvel Agaronyan | Manvel Ashotovich Agaronyan (Russian: Манвел Ашотович Агаронян ; born 30 November 1997) is a Russian football player. He plays for FC SKA-Khabarovsk.»\n",
      "\n",
      "[[ ## thought_2 ## ]]\n",
      "I have found that Manvel Gamburyan was a cast member of \"The Ultimate Fighter 5,\" which is a reality TV show focused on mixed martial arts. However, it does not involve his family in the same way that \"Keeping Up with the Kardashians\" does. Therefore, Robert Kardashian's family is more prominently associated with a reality TV show. I can now conclude that Robert Kardashian's family had their own reality TV show, while Manvel Gamburyan's association is more about his participation in a competition rather than a family-oriented show.\n",
      "\n",
      "[[ ## tool_name_2 ## ]]\n",
      "finish\n",
      "\n",
      "[[ ## tool_args_2 ## ]]\n",
      "{}\n",
      "\n",
      "[[ ## observation_2 ## ]]\n",
      "Completed.\n",
      "Reasoning: Let's think step by step in order to Robert Kardashian's family is well-known for their reality TV show \"Keeping Up with the Kardashians,\" which features the personal and professional lives of the Kardashian-Jenner family. In contrast, Manvel Gamburyan was a cast member of \"The Ultimate Fighter 5,\" a reality show focused on mixed martial arts, but it does not center around his family. Therefore, Robert Kardashian's family had their own reality TV show, while Manvel Gamburyan's involvement is not family-oriented.\n",
      "Answer: Robert Kardashian's family had their own reality TV show.\n",
      "\n",
      "Question: Rectrix Aviation's jet charter business involves what service?\n",
      "Trajectory: [[ ## thought_0 ## ]]\n",
      "I need to gather information about Rectrix Aviation's jet charter business and the specific services they offer. Searching Wikipedia could provide detailed insights into their operations and services.\n",
      "\n",
      "[[ ## tool_name_0 ## ]]\n",
      "search_wikipedia\n",
      "\n",
      "[[ ## tool_args_0 ## ]]\n",
      "{\"query\": \"Rectrix Aviation jet charter services\"}\n",
      "\n",
      "[[ ## observation_0 ## ]]\n",
      "[1] «Rectrix Aviation | Rectrix Aviation is a jet charter and commuter airline service that primarily serves New England, Florida and the east coast. Its commercial operations are based out of Nantucket Memorial Airport and Barnstable Municipal Airport in Nantucket, MA and Hyannis, MA, respectively. The only commercial flight it operates is between Nantucket and Hyannis. Rectrix Shuttle, the commuter service, was founded when Island Airlines of Nantucket shut down.»\n",
      "[2] «Veritair | Veritair Aviation Limited is a helicopter charter company based at Cardiff Heliport, in Cardiff, Wales. It operates year-round charter and contract helicopter services throughout United Kingdom and Europe. Veritair Aviation has major contracts with the BBC for measurement of transmitting antenna radiation patterns throughout the UK and further afield, QinetiQ for recovering MOD targets offshore and provides a British Transport Police helicopter to patrol and secure railway lines throughout the UK.»\n",
      "[3] «Ameristar Jet Charter | Ameristar Air Cargo, Inc. is an American passenger and cargo airline based in Dallas, Texas, USA. It operates passengers and cargo services in the Americas, as well as acting as a broker to other cargo carriers. Its main base is Addison Airport in north Dallas, with hubs at Willow Run Airport, and El Paso International Airport»\n",
      "\n",
      "[[ ## thought_1 ## ]]\n",
      "I found some information about Rectrix Aviation's jet charter services. They primarily serve New England, Florida, and the east coast, and their operations are based out of Nantucket Memorial Airport and Barnstable Municipal Airport. They also have a commuter service called Rectrix Shuttle. I need to confirm if there are any additional services or details about their jet charter business.\n",
      "\n",
      "[[ ## tool_name_1 ## ]]\n",
      "search_wikipedia\n",
      "\n",
      "[[ ## tool_args_1 ## ]]\n",
      "{\"query\": \"Rectrix Aviation services offered\"}\n",
      "\n",
      "[[ ## observation_1 ## ]]\n",
      "[1] «Rectrix Aviation | Rectrix Aviation is a jet charter and commuter airline service that primarily serves New England, Florida and the east coast. Its commercial operations are based out of Nantucket Memorial Airport and Barnstable Municipal Airport in Nantucket, MA and Hyannis, MA, respectively. The only commercial flight it operates is between Nantucket and Hyannis. Rectrix Shuttle, the commuter service, was founded when Island Airlines of Nantucket shut down.»\n",
      "[2] «DayJet | DayJet was an American commercial aviation operation that provided on-demand jet travel using Eclipse 500 very light jets. Founded by Ed Iacobucci, the former leader of the IBM-Microsoft Joint OS/2 development team IBM executive and the founder of Citrix Systems and his wife, network architect Nancy Lee Iacobucci, DayJet launched in October 2007. It was based in Delray Beach, Florida.»\n",
      "[3] «CitationAir | CitationAir by Cessna, founded in 2000 as CitationShares, is a subsidiary of Cessna Aircraft Company that provides private aviation services. It offered services in fractional jet ownership, jet card membership, corporate solutions and whole aircraft management. CitationAir was one of the four major players in the private aviation market. It is a seven-time winner of Best of the Best awards from the \"Robb Report\", most recently in 2009.»\n",
      "\n",
      "[[ ## thought_2 ## ]]\n",
      "I have not found any additional information about Rectrix Aviation's jet charter services beyond what I already know. It seems that their primary service is jet chartering along with a commuter service called Rectrix Shuttle. I will finish the task as I have enough information to answer the question.\n",
      "\n",
      "[[ ## tool_name_2 ## ]]\n",
      "finish\n",
      "\n",
      "[[ ## tool_args_2 ## ]]\n",
      "{}\n",
      "\n",
      "[[ ## observation_2 ## ]]\n",
      "Completed.\n",
      "Reasoning: Let's think step by step in order to Rectrix Aviation's jet charter business primarily involves providing jet charter services that cater to clients in New England, Florida, and the east coast. They operate from Nantucket Memorial Airport and Barnstable Municipal Airport, and they also offer a commuter service known as Rectrix Shuttle. This indicates that their main service is focused on jet chartering, along with commuter flights.\n",
      "Answer: Rectrix Aviation's jet charter business involves providing jet charter services primarily serving New England, Florida, and the east coast, along with a commuter service called Rectrix Shuttle.\n",
      "\n",
      "\n",
      "\n",
      "[[ ## basic_instruction ## ]]\n",
      "Provide an answer to the question\n",
      "\n",
      "[[ ## tip ## ]]\n",
      "The instruction should include a high stakes scenario in which the LM must solve the task!\n",
      "\n",
      "Respond with the corresponding output fields, starting with the field `[[ ## proposed_instruction ## ]]`, and then ending with the marker for `[[ ## completed ## ]]`.\n",
      "\n",
      "\n",
      "\u001b[31mResponse:\u001b[0m\n",
      "\n",
      "\u001b[32m[[ ## proposed_instruction ## ]]\n",
      "You are an Agent tasked with answering critical questions that could influence business decisions. In each episode, you will receive a question regarding notable individuals or companies, and you will have access to a trajectory of previous thoughts and actions. Your goal is to gather accurate and concise information using the provided tools. You must reason step-by-step, utilizing the search tool to find relevant information and determining when you have enough data to formulate a final answer. Remember, the stakes are high: the accuracy of your answers could affect significant business operations. \n",
      "\n",
      "For example, if the question is about which individual's family had their own reality TV show, you must confirm facts about Robert Kardashian and Manvel Gamburyan, ensuring your final answer is precise. Use the search tool effectively and think critically about each step before concluding. \n",
      "\n",
      "Now, begin with the provided question and trajectory, and follow the structured reasoning process to deliver your answer.\n",
      "\n",
      "[[ ## completed ## ]]\u001b[0m\n",
      "\n",
      "\n",
      "\n",
      "\n",
      "\n",
      "PROPOSED INSTRUCTION: You are an Agent tasked with answering critical questions that could influence business decisions. In each episode, you will receive a question regarding notable individuals or companies, and you will have access to a trajectory of previous thoughts and actions. Your goal is to gather accurate and concise information using the provided tools. You must reason step-by-step, utilizing the search tool to find relevant information and determining when you have enough data to formulate a final answer. Remember, the stakes are high: the accuracy of your answers could affect significant business operations. \n",
      "\n",
      "For example, if the question is about which individual's family had their own reality TV show, you must confirm facts about Robert Kardashian and Manvel Gamburyan, ensuring your final answer is precise. Use the search tool effectively and think critically about each step before concluding. \n",
      "\n",
      "Now, begin with the provided question and trajectory, and follow the structured reasoning process to deliver your answer.\n",
      "Using a randomly generated configuration for our grounded proposer.\n",
      "Selected tip: high_stakes\n",
      "PROGRAM DESCRIPTION: The program is designed to answer specific questions by utilizing a language model that can call various tools to gather information. It operates in a structured manner where the agent receives a question and a trajectory of previous thoughts and tool interactions. The agent's task is to determine the best next steps to collect the necessary information to formulate an answer. It can choose to search Wikipedia for relevant data or mark the task as complete once sufficient information has been gathered. The program interleaves reasoning about the current situation with tool selection, allowing it to refine its understanding and approach iteratively. This pipeline effectively combines information retrieval and logical reasoning to produce accurate answers to user queries.\n",
      "task_demos Question: whos family had their own reality tv show. Robert Kardashian or Manvel Gamburyan?\n",
      "Trajectory: [[ ## thought_0 ## ]]\n",
      "I need to determine which individual, Robert Kardashian or Manvel Gamburyan, had a family that starred in a reality TV show. Robert Kardashian is known for being part of the Kardashian family, who are famous for their reality show \"Keeping Up with the Kardashians.\" I need to confirm this information and check if Manvel Gamburyan has any similar associations with reality TV.\n",
      "\n",
      "[[ ## tool_name_0 ## ]]\n",
      "search_wikipedia\n",
      "\n",
      "[[ ## tool_args_0 ## ]]\n",
      "{\"query\": \"Robert Kardashian family reality TV show\"}\n",
      "\n",
      "[[ ## observation_0 ## ]]\n",
      "[1] «Rob Kardashian | Robert Arthur Kardashian (born March 17, 1987) is an American television personality and businessman. He is known for appearing on \"Keeping Up with the Kardashians\", a reality television series that centers upon his family, as well as its spin-offs. In 2011, Kardashian also competed in the thirteenth season of ABC's \"Dancing with the Stars\", during which he placed second.»\n",
      "[2] «Robert Kardashian | Robert George Kardashian (February 22, 1944 – September 30, 2003) was an American attorney and businessman. He gained national recognition as O. J. Simpson's friend and defense attorney during Simpson's 1995 murder trial. He had four children with his first wife, Kris Kardashian (née Houghton, later Jenner): Kourtney, Kim, Khloé, and Rob, who appear on their family reality television series, \"Keeping Up with the Kardashians\", and its spinoffs.»\n",
      "[3] «Keeping Up with the Kardashians | Keeping Up with the Kardashians (often abbreviated KUWTK) is an American reality television series that airs on the E! cable network. The show focuses on the personal and professional lives of the Kardashian–Jenner blended family. Its premise originated with Ryan Seacrest, who also serves as an executive producer. The series debuted on October 14, 2007 and has subsequently become one of the longest-running reality television series in the country. The fourteenth season of the series will premiere on October 1, 2017.»\n",
      "\n",
      "[[ ## thought_1 ## ]]\n",
      "I have confirmed that Robert Kardashian's family had their own reality TV show, \"Keeping Up with the Kardashians.\" Now, I need to check if Manvel Gamburyan has any association with a reality TV show to compare the two.\n",
      "\n",
      "[[ ## tool_name_1 ## ]]\n",
      "search_wikipedia\n",
      "\n",
      "[[ ## tool_args_1 ## ]]\n",
      "{\"query\": \"Manvel Gamburyan family reality TV show\"}\n",
      "\n",
      "[[ ## observation_1 ## ]]\n",
      "[1] «Manvel Gamburyan | Manvel \"Manny\" Gamburyan (Armenian: Մանվել Գամբուրյան ; born May 8, 1981) is a retired Armenian-American fighter who competed in the UFC's Bantamweight and Featherweight divisions. A professional competitor since 1999, he was a cast member of Spike TV's The Ultimate Fighter 5, and also competed in the WEC and for King of the Cage.»\n",
      "[2] «Karen Darabedyan | Karen Darabedyan (born December 18, 1986) is an Armenian professional mixed martial artist. He is best known for fighting in WEC's lightweight division. He is a training partner of Karo Parisyan and Manvel Gamburyan. He had a 12-0 amateur boxing record before he began MMA.»\n",
      "[3] «Manvel Agaronyan | Manvel Ashotovich Agaronyan (Russian: Манвел Ашотович Агаронян ; born 30 November 1997) is a Russian football player. He plays for FC SKA-Khabarovsk.»\n",
      "\n",
      "[[ ## thought_2 ## ]]\n",
      "I have found that Manvel Gamburyan was a cast member of \"The Ultimate Fighter 5,\" which is a reality TV show focused on mixed martial arts. However, it does not involve his family in the same way that \"Keeping Up with the Kardashians\" does. Therefore, Robert Kardashian's family is more prominently associated with a reality TV show. I can now conclude that Robert Kardashian's family had their own reality TV show, while Manvel Gamburyan's association is more about his participation in a competition rather than a family-oriented show.\n",
      "\n",
      "[[ ## tool_name_2 ## ]]\n",
      "finish\n",
      "\n",
      "[[ ## tool_args_2 ## ]]\n",
      "{}\n",
      "\n",
      "[[ ## observation_2 ## ]]\n",
      "Completed.\n",
      "Reasoning: Let's think step by step in order to Robert Kardashian's family is well-known for their reality TV show \"Keeping Up with the Kardashians,\" which features the personal and professional lives of the Kardashian-Jenner family. In contrast, Manvel Gamburyan was a cast member of \"The Ultimate Fighter 5,\" a reality show focused on mixed martial arts, but it does not center around his family. Therefore, Robert Kardashian's family had their own reality TV show, while Manvel Gamburyan's involvement is not family-oriented.\n",
      "Answer: Robert Kardashian's family had their own reality TV show.\n",
      "\n",
      "Question: Rectrix Aviation's jet charter business involves what service?\n",
      "Trajectory: [[ ## thought_0 ## ]]\n",
      "I need to gather information about Rectrix Aviation's jet charter business and the specific services they offer. Searching Wikipedia could provide detailed insights into their operations and services.\n",
      "\n",
      "[[ ## tool_name_0 ## ]]\n",
      "search_wikipedia\n",
      "\n",
      "[[ ## tool_args_0 ## ]]\n",
      "{\"query\": \"Rectrix Aviation jet charter services\"}\n",
      "\n",
      "[[ ## observation_0 ## ]]\n",
      "[1] «Rectrix Aviation | Rectrix Aviation is a jet charter and commuter airline service that primarily serves New England, Florida and the east coast. Its commercial operations are based out of Nantucket Memorial Airport and Barnstable Municipal Airport in Nantucket, MA and Hyannis, MA, respectively. The only commercial flight it operates is between Nantucket and Hyannis. Rectrix Shuttle, the commuter service, was founded when Island Airlines of Nantucket shut down.»\n",
      "[2] «Veritair | Veritair Aviation Limited is a helicopter charter company based at Cardiff Heliport, in Cardiff, Wales. It operates year-round charter and contract helicopter services throughout United Kingdom and Europe. Veritair Aviation has major contracts with the BBC for measurement of transmitting antenna radiation patterns throughout the UK and further afield, QinetiQ for recovering MOD targets offshore and provides a British Transport Police helicopter to patrol and secure railway lines throughout the UK.»\n",
      "[3] «Ameristar Jet Charter | Ameristar Air Cargo, Inc. is an American passenger and cargo airline based in Dallas, Texas, USA. It operates passengers and cargo services in the Americas, as well as acting as a broker to other cargo carriers. Its main base is Addison Airport in north Dallas, with hubs at Willow Run Airport, and El Paso International Airport»\n",
      "\n",
      "[[ ## thought_1 ## ]]\n",
      "I found some information about Rectrix Aviation's jet charter services. They primarily serve New England, Florida, and the east coast, and their operations are based out of Nantucket Memorial Airport and Barnstable Municipal Airport. They also have a commuter service called Rectrix Shuttle. I need to confirm if there are any additional services or details about their jet charter business.\n",
      "\n",
      "[[ ## tool_name_1 ## ]]\n",
      "search_wikipedia\n",
      "\n",
      "[[ ## tool_args_1 ## ]]\n",
      "{\"query\": \"Rectrix Aviation services offered\"}\n",
      "\n",
      "[[ ## observation_1 ## ]]\n",
      "[1] «Rectrix Aviation | Rectrix Aviation is a jet charter and commuter airline service that primarily serves New England, Florida and the east coast. Its commercial operations are based out of Nantucket Memorial Airport and Barnstable Municipal Airport in Nantucket, MA and Hyannis, MA, respectively. The only commercial flight it operates is between Nantucket and Hyannis. Rectrix Shuttle, the commuter service, was founded when Island Airlines of Nantucket shut down.»\n",
      "[2] «DayJet | DayJet was an American commercial aviation operation that provided on-demand jet travel using Eclipse 500 very light jets. Founded by Ed Iacobucci, the former leader of the IBM-Microsoft Joint OS/2 development team IBM executive and the founder of Citrix Systems and his wife, network architect Nancy Lee Iacobucci, DayJet launched in October 2007. It was based in Delray Beach, Florida.»\n",
      "[3] «CitationAir | CitationAir by Cessna, founded in 2000 as CitationShares, is a subsidiary of Cessna Aircraft Company that provides private aviation services. It offered services in fractional jet ownership, jet card membership, corporate solutions and whole aircraft management. CitationAir was one of the four major players in the private aviation market. It is a seven-time winner of Best of the Best awards from the \"Robb Report\", most recently in 2009.»\n",
      "\n",
      "[[ ## thought_2 ## ]]\n",
      "I have not found any additional information about Rectrix Aviation's jet charter services beyond what I already know. It seems that their primary service is jet chartering along with a commuter service called Rectrix Shuttle. I will finish the task as I have enough information to answer the question.\n",
      "\n",
      "[[ ## tool_name_2 ## ]]\n",
      "finish\n",
      "\n",
      "[[ ## tool_args_2 ## ]]\n",
      "{}\n",
      "\n",
      "[[ ## observation_2 ## ]]\n",
      "Completed.\n",
      "Reasoning: Let's think step by step in order to Rectrix Aviation's jet charter business primarily involves providing jet charter services that cater to clients in New England, Florida, and the east coast. They operate from Nantucket Memorial Airport and Barnstable Municipal Airport, and they also offer a commuter service known as Rectrix Shuttle. This indicates that their main service is focused on jet chartering, along with commuter flights.\n",
      "Answer: Rectrix Aviation's jet charter business involves providing jet charter services primarily serving New England, Florida, and the east coast, along with a commuter service called Rectrix Shuttle.\n",
      "\n",
      "\n",
      "\n",
      "\n",
      "\n",
      "\n",
      "\u001b[34m[2025-06-05T18:31:15.904623]\u001b[0m\n",
      "\n",
      "\u001b[31mSystem message:\u001b[0m\n",
      "\n",
      "Your input fields are:\n",
      "1. `dataset_description` (str): A description of the dataset that we are using.\n",
      "2. `program_code` (str): Language model program designed to solve a particular task.\n",
      "3. `program_description` (str): Summary of the task the program is designed to solve, and how it goes about solving it.\n",
      "4. `module` (str): The module to create an instruction for.\n",
      "5. `module_description` (str): Description of the module to create an instruction for.\n",
      "6. `task_demos` (str): Example inputs/outputs of our module.\n",
      "7. `basic_instruction` (str): Basic instruction.\n",
      "8. `tip` (str): A suggestion for how to go about generating the new instruction.\n",
      "Your output fields are:\n",
      "1. `proposed_instruction` (str): Propose an instruction that will be used to prompt a Language Model to perform this task.\n",
      "All interactions will be structured in the following way, with the appropriate values filled in.\n",
      "\n",
      "[[ ## dataset_description ## ]]\n",
      "{dataset_description}\n",
      "\n",
      "[[ ## program_code ## ]]\n",
      "{program_code}\n",
      "\n",
      "[[ ## program_description ## ]]\n",
      "{program_description}\n",
      "\n",
      "[[ ## module ## ]]\n",
      "{module}\n",
      "\n",
      "[[ ## module_description ## ]]\n",
      "{module_description}\n",
      "\n",
      "[[ ## task_demos ## ]]\n",
      "{task_demos}\n",
      "\n",
      "[[ ## basic_instruction ## ]]\n",
      "{basic_instruction}\n",
      "\n",
      "[[ ## tip ## ]]\n",
      "{tip}\n",
      "\n",
      "[[ ## proposed_instruction ## ]]\n",
      "{proposed_instruction}\n",
      "\n",
      "[[ ## completed ## ]]\n",
      "In adhering to this structure, your objective is: \n",
      "        Use the information below to learn about a task that we are trying to solve using calls to an LM, then generate a new instruction that will be used to prompt a Language Model to better solve the task.\n",
      "\n",
      "\n",
      "\u001b[31mUser message:\u001b[0m\n",
      "\n",
      "[[ ## dataset_description ## ]]\n",
      "The dataset primarily consists of questions targeting specific individuals or companies, aiming to extract concise and factual information. This structure indicates a focus on delivering clear trivia or insights related to notable figures and business operations.\n",
      "\n",
      "[[ ## program_code ## ]]\n",
      "StringSignature(question, trajectory -> next_thought, next_tool_name, next_tool_args\n",
      "    instructions=\"Provide an answer to the question\\n\\nYou are an Agent. In each episode, you will be given the fields `question` as input. And you can see your past trajectory so far.\\nYour goal is to use one or more of the supplied tools to collect any necessary information for producing `answer`.\\n\\nTo do this, you will interleave next_thought, next_tool_name, and next_tool_args in each turn, and also when finishing the task.\\nAfter each tool call, you receive a resulting observation, which gets appended to your trajectory.\\n\\nWhen writing next_thought, you may reason about the current situation and plan for future steps.\\nWhen selecting the next_tool_name and its next_tool_args, the tool must be one of:\\n\\n(1) search_wikipedia, whose description is <desc>      This agent is used to search wikipedia. It can retrieve additional details      about a topic.      </desc>. It takes arguments {'query': {'type': 'string'}} in JSON format.\\n(2) finish, whose description is <desc>Marks the task as complete. That is, signals that all infomration for producing the outputs, i.e. `answer`, are now available to be extracted.</desc>. It takes arguments {} in JSON format.\"\n",
      "    question = Field(annotation=str required=True json_schema_extra={'__dspy_field_type': 'input', 'prefix': 'Question:', 'desc': '${question}'})\n",
      "    trajectory = Field(annotation=str required=True json_schema_extra={'__dspy_field_type': 'input', 'prefix': 'Trajectory:', 'desc': '${trajectory}'})\n",
      "    next_thought = Field(annotation=str required=True json_schema_extra={'__dspy_field_type': 'output', 'prefix': 'Next Thought:', 'desc': '${next_thought}'})\n",
      "    next_tool_name = Field(annotation=Literal['search_wikipedia', 'finish'] required=True json_schema_extra={'__dspy_field_type': 'output', 'prefix': 'Next Tool Name:', 'desc': '${next_tool_name}'})\n",
      "    next_tool_args = Field(annotation=dict[str, Any] required=True json_schema_extra={'__dspy_field_type': 'output', 'prefix': 'Next Tool Args:', 'desc': '${next_tool_args}'})\n",
      ")\n",
      "\n",
      "\n",
      "\n",
      "StringSignature(question, trajectory -> reasoning, answer\n",
      "    instructions='Provide an answer to the question'\n",
      "    question = Field(annotation=str required=True json_schema_extra={'__dspy_field_type': 'input', 'prefix': 'Question:', 'desc': '${question}'})\n",
      "    trajectory = Field(annotation=str required=True json_schema_extra={'__dspy_field_type': 'input', 'prefix': 'Trajectory:', 'desc': '${trajectory}'})\n",
      "    reasoning = Field(annotation=str required=True json_schema_extra={'prefix': \"Reasoning: Let's think step by step in order to\", 'desc': '${reasoning}', '__dspy_field_type': 'output'})\n",
      "    answer = Field(annotation=str required=True json_schema_extra={'__dspy_field_type': 'output', 'prefix': 'Answer:', 'desc': '${answer}'})\n",
      ")\n",
      "\n",
      "class ReAct(Module):\n",
      "    def __init__(self, signature, tools: list[Callable], max_iters=5):\n",
      "        \"\"\"\n",
      "        `tools` is either a list of functions, callable classes, or `dspy.Tool` instances.\n",
      "        \"\"\"\n",
      "\n",
      "        self.signature = signature = ensure_signature(signature)\n",
      "        self.max_iters = max_iters\n",
      "\n",
      "        tools = [t if isinstance(t, Tool) else Tool(t) for t in tools]\n",
      "        tools = {tool.name: tool for tool in tools}\n",
      "\n",
      "        inputs = \", \".join([f\"`{k}`\" for k in signature.input_fields.keys()])\n",
      "        outputs = \", \".join([f\"`{k}`\" for k in signature.output_fields.keys()])\n",
      "        instr = [f\"{signature.instructions}\\n\"] if signature.instructions else []\n",
      "\n",
      "        instr.extend(\n",
      "            [\n",
      "                f\"You are an Agent. In each episode, you will be given the fields {inputs} as input. And you can see your past trajectory so far.\",\n",
      "                f\"Your goal is to use one or more of the supplied tools to collect any necessary information for producing {outputs}.\\n\",\n",
      "                \"To do this, you will interleave next_thought, next_tool_name, and next_tool_args in each turn, and also when finishing the task.\",\n",
      "                \"After each tool call, you receive a resulting observation, which gets appended to your trajectory.\\n\",\n",
      "                \"When writing next_thought, you may reason about the current situation and plan for future steps.\",\n",
      "                \"When selecting the next_tool_name and its next_tool_args, the tool must be one of:\\n\",\n",
      "            ]\n",
      "        )\n",
      "\n",
      "        tools[\"finish\"] = Tool(\n",
      "            func=lambda: \"Completed.\",\n",
      "            name=\"finish\",\n",
      "            desc=f\"Marks the task as complete. That is, signals that all infomration for producing the outputs, i.e. {outputs}, are now available to be extracted.\",\n",
      "            args={},\n",
      "        )\n",
      "\n",
      "        for idx, tool in enumerate(tools.values()):\n",
      "            args = getattr(tool, \"args\")\n",
      "            desc = (f\", whose description is <desc>{tool.desc}</desc>.\" if tool.desc else \".\").replace(\"\\n\", \"  \")\n",
      "            desc += f\" It takes arguments {args} in JSON format.\"\n",
      "            instr.append(f\"({idx + 1}) {tool.name}{desc}\")\n",
      "\n",
      "        react_signature = (\n",
      "            dspy.Signature({**signature.input_fields}, \"\\n\".join(instr))\n",
      "            .append(\"trajectory\", dspy.InputField(), type_=str)\n",
      "            .append(\"next_thought\", dspy.OutputField(), type_=str)\n",
      "            .append(\"next_tool_name\", dspy.OutputField(), type_=Literal[tuple(tools.keys())])\n",
      "            .append(\"next_tool_args\", dspy.OutputField(), type_=dict[str, Any])\n",
      "        )\n",
      "\n",
      "        fallback_signature = dspy.Signature(\n",
      "            {**signature.input_fields, **signature.output_fields},\n",
      "            signature.instructions,\n",
      "        ).append(\"trajectory\", dspy.InputField(), type_=str)\n",
      "\n",
      "        self.tools = tools\n",
      "        self.react = dspy.Predict(react_signature)\n",
      "        self.extract = dspy.ChainOfThought(fallback_signature)\n",
      "\n",
      "    def _format_trajectory(self, trajectory: dict[str, Any]):\n",
      "        adapter = dspy.settings.adapter or dspy.ChatAdapter()\n",
      "        trajectory_signature = dspy.Signature(f\"{', '.join(trajectory.keys())} -> x\")\n",
      "        return adapter.format_user_message_content(trajectory_signature, trajectory)\n",
      "\n",
      "    def forward(self, **input_args):\n",
      "        trajectory = {}\n",
      "        max_iters = input_args.pop(\"max_iters\", self.max_iters)\n",
      "        for idx in range(max_iters):\n",
      "            try:\n",
      "                pred = self._call_with_potential_trajectory_truncation(self.react, trajectory, **input_args)\n",
      "            except ValueError as err:\n",
      "                logger.warning(f\"Ending the trajectory: Agent failed to select a valid tool: {_fmt_exc(err)}\")\n",
      "                break\n",
      "\n",
      "            trajectory[f\"thought_{idx}\"] = pred.next_thought\n",
      "            trajectory[f\"tool_name_{idx}\"] = pred.next_tool_name\n",
      "            trajectory[f\"tool_args_{idx}\"] = pred.next_tool_args\n",
      "\n",
      "            try:\n",
      "                trajectory[f\"observation_{idx}\"] = self.tools[pred.next_tool_name](**pred.next_tool_args)\n",
      "            except Exception as err:\n",
      "                trajectory[f\"observation_{idx}\"] = f\"Execution error in {pred.next_tool_name}: {_fmt_exc(err)}\"\n",
      "\n",
      "            if pred.next_tool_name == \"finish\":\n",
      "                break\n",
      "\n",
      "        extract = self._call_with_potential_trajectory_truncation(self.extract, trajectory, **input_args)\n",
      "        return dspy.Prediction(trajectory=trajectory, **extract)\n",
      "\n",
      "    def _call_with_potential_trajectory_truncation(self, module, trajectory, **input_args):\n",
      "        for _ in range(3):\n",
      "            try:\n",
      "                return module(\n",
      "                    **input_args,\n",
      "                    trajectory=self._format_trajectory(trajectory),\n",
      "                )\n",
      "            except ContextWindowExceededError:\n",
      "                logger.warning(\"Trajectory exceeded the context window, truncating the oldest tool call information.\")\n",
      "                trajectory = self.truncate_trajectory(trajectory)\n",
      "\n",
      "    def truncate_trajectory(self, trajectory):\n",
      "        \"\"\"Truncates the trajectory so that it fits in the context window.\n",
      "\n",
      "        Users can override this method to implement their own truncation logic.\n",
      "        \"\"\"\n",
      "        keys = list(trajectory.keys())\n",
      "        if len(keys) < 4:\n",
      "            # Every tool call has 4 keys: thought, tool_name, tool_args, and observation.\n",
      "            raise ValueError(\n",
      "                \"The trajectory is too long so your prompt exceeded the context window, but the trajectory cannot be \"\n",
      "                \"truncated because it only has one tool call.\"\n",
      "            )\n",
      "\n",
      "        for key in keys[:4]:\n",
      "            trajectory.pop(key)\n",
      "\n",
      "        return trajectory\n",
      "\n",
      "\n",
      "[[ ## program_description ## ]]\n",
      "The program is designed to answer specific questions by utilizing a language model that can call various tools to gather information. It operates in a structured manner where the agent receives a question and a trajectory of previous thoughts and tool interactions. The agent's task is to determine the best next steps to collect the necessary information to formulate an answer. It can choose to search Wikipedia for relevant data or mark the task as complete once sufficient information has been gathered. The program interleaves reasoning about the current situation with tool selection, allowing it to refine its understanding and approach iteratively. This pipeline effectively combines information retrieval and logical reasoning to produce accurate answers to user queries.\n",
      "\n",
      "[[ ## module ## ]]\n",
      "Predict(question, trajectory) -> reasoning, answer\n",
      "\n",
      "[[ ## module_description ## ]]\n",
      "The `Predict` module plays a crucial role in the program by processing the input question and the trajectory of previous interactions to generate a reasoned answer. It takes the current question and the accumulated knowledge from past thoughts and tool calls to reason through the information and produce a coherent response. This module effectively synthesizes the data gathered by the agent, enabling it to articulate a well-informed answer while maintaining a logical flow in the reasoning process. By leveraging the trajectory, it ensures that the final output reflects a comprehensive understanding of the query context and the information retrieved.\n",
      "\n",
      "[[ ## task_demos ## ]]\n",
      "Question: whos family had their own reality tv show. Robert Kardashian or Manvel Gamburyan?\n",
      "Trajectory: [[ ## thought_0 ## ]]\n",
      "I need to determine which individual, Robert Kardashian or Manvel Gamburyan, had a family that starred in a reality TV show. Robert Kardashian is known for being part of the Kardashian family, who are famous for their reality show \"Keeping Up with the Kardashians.\" I need to confirm this information and check if Manvel Gamburyan has any similar associations with reality TV.\n",
      "\n",
      "[[ ## tool_name_0 ## ]]\n",
      "search_wikipedia\n",
      "\n",
      "[[ ## tool_args_0 ## ]]\n",
      "{\"query\": \"Robert Kardashian family reality TV show\"}\n",
      "\n",
      "[[ ## observation_0 ## ]]\n",
      "[1] «Rob Kardashian | Robert Arthur Kardashian (born March 17, 1987) is an American television personality and businessman. He is known for appearing on \"Keeping Up with the Kardashians\", a reality television series that centers upon his family, as well as its spin-offs. In 2011, Kardashian also competed in the thirteenth season of ABC's \"Dancing with the Stars\", during which he placed second.»\n",
      "[2] «Robert Kardashian | Robert George Kardashian (February 22, 1944 – September 30, 2003) was an American attorney and businessman. He gained national recognition as O. J. Simpson's friend and defense attorney during Simpson's 1995 murder trial. He had four children with his first wife, Kris Kardashian (née Houghton, later Jenner): Kourtney, Kim, Khloé, and Rob, who appear on their family reality television series, \"Keeping Up with the Kardashians\", and its spinoffs.»\n",
      "[3] «Keeping Up with the Kardashians | Keeping Up with the Kardashians (often abbreviated KUWTK) is an American reality television series that airs on the E! cable network. The show focuses on the personal and professional lives of the Kardashian–Jenner blended family. Its premise originated with Ryan Seacrest, who also serves as an executive producer. The series debuted on October 14, 2007 and has subsequently become one of the longest-running reality television series in the country. The fourteenth season of the series will premiere on October 1, 2017.»\n",
      "\n",
      "[[ ## thought_1 ## ]]\n",
      "I have confirmed that Robert Kardashian's family had their own reality TV show, \"Keeping Up with the Kardashians.\" Now, I need to check if Manvel Gamburyan has any association with a reality TV show to compare the two.\n",
      "\n",
      "[[ ## tool_name_1 ## ]]\n",
      "search_wikipedia\n",
      "\n",
      "[[ ## tool_args_1 ## ]]\n",
      "{\"query\": \"Manvel Gamburyan family reality TV show\"}\n",
      "\n",
      "[[ ## observation_1 ## ]]\n",
      "[1] «Manvel Gamburyan | Manvel \"Manny\" Gamburyan (Armenian: Մանվել Գամբուրյան ; born May 8, 1981) is a retired Armenian-American fighter who competed in the UFC's Bantamweight and Featherweight divisions. A professional competitor since 1999, he was a cast member of Spike TV's The Ultimate Fighter 5, and also competed in the WEC and for King of the Cage.»\n",
      "[2] «Karen Darabedyan | Karen Darabedyan (born December 18, 1986) is an Armenian professional mixed martial artist. He is best known for fighting in WEC's lightweight division. He is a training partner of Karo Parisyan and Manvel Gamburyan. He had a 12-0 amateur boxing record before he began MMA.»\n",
      "[3] «Manvel Agaronyan | Manvel Ashotovich Agaronyan (Russian: Манвел Ашотович Агаронян ; born 30 November 1997) is a Russian football player. He plays for FC SKA-Khabarovsk.»\n",
      "\n",
      "[[ ## thought_2 ## ]]\n",
      "I have found that Manvel Gamburyan was a cast member of \"The Ultimate Fighter 5,\" which is a reality TV show focused on mixed martial arts. However, it does not involve his family in the same way that \"Keeping Up with the Kardashians\" does. Therefore, Robert Kardashian's family is more prominently associated with a reality TV show. I can now conclude that Robert Kardashian's family had their own reality TV show, while Manvel Gamburyan's association is more about his participation in a competition rather than a family-oriented show.\n",
      "\n",
      "[[ ## tool_name_2 ## ]]\n",
      "finish\n",
      "\n",
      "[[ ## tool_args_2 ## ]]\n",
      "{}\n",
      "\n",
      "[[ ## observation_2 ## ]]\n",
      "Completed.\n",
      "Reasoning: Let's think step by step in order to Robert Kardashian's family is well-known for their reality TV show \"Keeping Up with the Kardashians,\" which features the personal and professional lives of the Kardashian-Jenner family. In contrast, Manvel Gamburyan was a cast member of \"The Ultimate Fighter 5,\" a reality show focused on mixed martial arts, but it does not center around his family. Therefore, Robert Kardashian's family had their own reality TV show, while Manvel Gamburyan's involvement is not family-oriented.\n",
      "Answer: Robert Kardashian's family had their own reality TV show.\n",
      "\n",
      "Question: Rectrix Aviation's jet charter business involves what service?\n",
      "Trajectory: [[ ## thought_0 ## ]]\n",
      "I need to gather information about Rectrix Aviation's jet charter business and the specific services they offer. Searching Wikipedia could provide detailed insights into their operations and services.\n",
      "\n",
      "[[ ## tool_name_0 ## ]]\n",
      "search_wikipedia\n",
      "\n",
      "[[ ## tool_args_0 ## ]]\n",
      "{\"query\": \"Rectrix Aviation jet charter services\"}\n",
      "\n",
      "[[ ## observation_0 ## ]]\n",
      "[1] «Rectrix Aviation | Rectrix Aviation is a jet charter and commuter airline service that primarily serves New England, Florida and the east coast. Its commercial operations are based out of Nantucket Memorial Airport and Barnstable Municipal Airport in Nantucket, MA and Hyannis, MA, respectively. The only commercial flight it operates is between Nantucket and Hyannis. Rectrix Shuttle, the commuter service, was founded when Island Airlines of Nantucket shut down.»\n",
      "[2] «Veritair | Veritair Aviation Limited is a helicopter charter company based at Cardiff Heliport, in Cardiff, Wales. It operates year-round charter and contract helicopter services throughout United Kingdom and Europe. Veritair Aviation has major contracts with the BBC for measurement of transmitting antenna radiation patterns throughout the UK and further afield, QinetiQ for recovering MOD targets offshore and provides a British Transport Police helicopter to patrol and secure railway lines throughout the UK.»\n",
      "[3] «Ameristar Jet Charter | Ameristar Air Cargo, Inc. is an American passenger and cargo airline based in Dallas, Texas, USA. It operates passengers and cargo services in the Americas, as well as acting as a broker to other cargo carriers. Its main base is Addison Airport in north Dallas, with hubs at Willow Run Airport, and El Paso International Airport»\n",
      "\n",
      "[[ ## thought_1 ## ]]\n",
      "I found some information about Rectrix Aviation's jet charter services. They primarily serve New England, Florida, and the east coast, and their operations are based out of Nantucket Memorial Airport and Barnstable Municipal Airport. They also have a commuter service called Rectrix Shuttle. I need to confirm if there are any additional services or details about their jet charter business.\n",
      "\n",
      "[[ ## tool_name_1 ## ]]\n",
      "search_wikipedia\n",
      "\n",
      "[[ ## tool_args_1 ## ]]\n",
      "{\"query\": \"Rectrix Aviation services offered\"}\n",
      "\n",
      "[[ ## observation_1 ## ]]\n",
      "[1] «Rectrix Aviation | Rectrix Aviation is a jet charter and commuter airline service that primarily serves New England, Florida and the east coast. Its commercial operations are based out of Nantucket Memorial Airport and Barnstable Municipal Airport in Nantucket, MA and Hyannis, MA, respectively. The only commercial flight it operates is between Nantucket and Hyannis. Rectrix Shuttle, the commuter service, was founded when Island Airlines of Nantucket shut down.»\n",
      "[2] «DayJet | DayJet was an American commercial aviation operation that provided on-demand jet travel using Eclipse 500 very light jets. Founded by Ed Iacobucci, the former leader of the IBM-Microsoft Joint OS/2 development team IBM executive and the founder of Citrix Systems and his wife, network architect Nancy Lee Iacobucci, DayJet launched in October 2007. It was based in Delray Beach, Florida.»\n",
      "[3] «CitationAir | CitationAir by Cessna, founded in 2000 as CitationShares, is a subsidiary of Cessna Aircraft Company that provides private aviation services. It offered services in fractional jet ownership, jet card membership, corporate solutions and whole aircraft management. CitationAir was one of the four major players in the private aviation market. It is a seven-time winner of Best of the Best awards from the \"Robb Report\", most recently in 2009.»\n",
      "\n",
      "[[ ## thought_2 ## ]]\n",
      "I have not found any additional information about Rectrix Aviation's jet charter services beyond what I already know. It seems that their primary service is jet chartering along with a commuter service called Rectrix Shuttle. I will finish the task as I have enough information to answer the question.\n",
      "\n",
      "[[ ## tool_name_2 ## ]]\n",
      "finish\n",
      "\n",
      "[[ ## tool_args_2 ## ]]\n",
      "{}\n",
      "\n",
      "[[ ## observation_2 ## ]]\n",
      "Completed.\n",
      "Reasoning: Let's think step by step in order to Rectrix Aviation's jet charter business primarily involves providing jet charter services that cater to clients in New England, Florida, and the east coast. They operate from Nantucket Memorial Airport and Barnstable Municipal Airport, and they also offer a commuter service known as Rectrix Shuttle. This indicates that their main service is focused on jet chartering, along with commuter flights.\n",
      "Answer: Rectrix Aviation's jet charter business involves providing jet charter services primarily serving New England, Florida, and the east coast, along with a commuter service called Rectrix Shuttle.\n",
      "\n",
      "\n",
      "\n",
      "[[ ## basic_instruction ## ]]\n",
      "Provide an answer to the question\n",
      "\n",
      "[[ ## tip ## ]]\n",
      "The instruction should include a high stakes scenario in which the LM must solve the task!\n",
      "\n",
      "Respond with the corresponding output fields, starting with the field `[[ ## proposed_instruction ## ]]`, and then ending with the marker for `[[ ## completed ## ]]`.\n",
      "\n",
      "\n",
      "\u001b[31mResponse:\u001b[0m\n",
      "\n",
      "\u001b[32m[[ ## proposed_instruction ## ]]\n",
      "Imagine you are an expert agent tasked with answering critical questions about notable individuals and companies in a high-stakes environment where accurate information is crucial. Your goal is to provide concise and factual answers to the questions posed. You will receive a question along with a trajectory of previous thoughts and tool interactions. Utilize the available tools effectively to gather necessary information, reason through the data, and articulate a well-informed answer. Remember, your responses could influence important decisions, so ensure clarity and precision in your reasoning and conclusions.\n",
      "\n",
      "[[ ## completed ## ]]\u001b[0m\n",
      "\n",
      "\n",
      "\n",
      "\n",
      "\n",
      "PROPOSED INSTRUCTION: Imagine you are an expert agent tasked with answering critical questions about notable individuals and companies in a high-stakes environment where accurate information is crucial. Your goal is to provide concise and factual answers to the questions posed. You will receive a question along with a trajectory of previous thoughts and tool interactions. Utilize the available tools effectively to gather necessary information, reason through the data, and articulate a well-informed answer. Remember, your responses could influence important decisions, so ensure clarity and precision in your reasoning and conclusions.\n",
      "Proposed Instructions for Predictor 0:\n",
      "\n",
      "0: Provide an answer to the question\n",
      "\n",
      "You are an Agent. In each episode, you will be given the fields `question` as input. And you can see your past trajectory so far.\n",
      "Your goal is to use one or more of the supplied tools to collect any necessary information for producing `answer`.\n",
      "\n",
      "To do this, you will interleave next_thought, next_tool_name, and next_tool_args in each turn, and also when finishing the task.\n",
      "After each tool call, you receive a resulting observation, which gets appended to your trajectory.\n",
      "\n",
      "When writing next_thought, you may reason about the current situation and plan for future steps.\n",
      "When selecting the next_tool_name and its next_tool_args, the tool must be one of:\n",
      "\n",
      "(1) search_wikipedia, whose description is <desc>      This agent is used to search wikipedia. It can retrieve additional details      about a topic.      </desc>. It takes arguments {'query': {'type': 'string'}} in JSON format.\n",
      "(2) finish, whose description is <desc>Marks the task as complete. That is, signals that all infomration for producing the outputs, i.e. `answer`, are now available to be extracted.</desc>. It takes arguments {} in JSON format.\n",
      "\n",
      "1: You are a crucial agent in a high-stakes trivia competition where the accuracy of your answers can lead to significant rewards. Each round, you will receive a challenging question that requires precise and factual information. Your task is to gather relevant details using the tools at your disposal and provide a well-reasoned answer.\n",
      "\n",
      "For each question, you will be given the fields `question` and `trajectory` as inputs. Your objective is to utilize the `search_wikipedia` tool to retrieve necessary information or decide to finish the task when you have enough details to formulate your answer. \n",
      "\n",
      "Interleave your reasoning process with the selection of tools in each turn. After each tool call, append the resulting observations to your trajectory. \n",
      "\n",
      "Remember, your next steps should include:\n",
      "1. Generating a thoughtful next step based on your current knowledge and observations.\n",
      "2. Choosing the appropriate tool to gather further information or to conclude your task.\n",
      "\n",
      "Your final output should clearly present the answer to the question based on the information gathered. Good luck!\n",
      "\n",
      "2: In this task, you will act as an information-gathering agent. Given the `question`, your objective is to systematically gather relevant information to formulate a complete answer. You will leverage the `trajectory` of past thoughts and tool calls to inform your next steps. \n",
      "\n",
      "1. Start by analyzing the `question` to determine what specific information you need.\n",
      "2. Use the `search_wikipedia` tool to look up relevant details related to the question. When doing so, provide a clear and concise query in the `next_tool_args`.\n",
      "3. After receiving observations from the tool, update your `trajectory` with the new information.\n",
      "4. Based on the observations, generate a `next_thought` that reflects your reasoning about the current situation and what further information may be needed.\n",
      "5. If you have gathered enough information to answer the question, select the `finish` tool to complete the task. Otherwise, continue to interleave your reasoning and tool selections until the task is complete.\n",
      "\n",
      "Remember to be thorough in your information gathering, and ensure that each step logically follows from the previous one. Your goal is to provide a well-informed and accurate answer to the question posed.\n",
      "\n",
      "\n",
      "\n",
      "Proposed Instructions for Predictor 1:\n",
      "\n",
      "0: Provide an answer to the question\n",
      "\n",
      "1: You are an Agent tasked with answering critical questions that could influence business decisions. In each episode, you will receive a question regarding notable individuals or companies, and you will have access to a trajectory of previous thoughts and actions. Your goal is to gather accurate and concise information using the provided tools. You must reason step-by-step, utilizing the search tool to find relevant information and determining when you have enough data to formulate a final answer. Remember, the stakes are high: the accuracy of your answers could affect significant business operations. \n",
      "\n",
      "For example, if the question is about which individual's family had their own reality TV show, you must confirm facts about Robert Kardashian and Manvel Gamburyan, ensuring your final answer is precise. Use the search tool effectively and think critically about each step before concluding. \n",
      "\n",
      "Now, begin with the provided question and trajectory, and follow the structured reasoning process to deliver your answer.\n",
      "\n",
      "2: Imagine you are an expert agent tasked with answering critical questions about notable individuals and companies in a high-stakes environment where accurate information is crucial. Your goal is to provide concise and factual answers to the questions posed. You will receive a question along with a trajectory of previous thoughts and tool interactions. Utilize the available tools effectively to gather necessary information, reason through the data, and articulate a well-informed answer. Remember, your responses could influence important decisions, so ensure clarity and precision in your reasoning and conclusions.\n",
      "\n",
      "\n",
      "\n",
      "==> STEP 3: FINDING OPTIMAL PROMPT PARAMETERS <==\n",
      "We will evaluate the program over a series of trials with different combinations of instructions and few-shot examples to find the optimal combination using Bayesian Optimization.\n",
      "\n",
      "== Trial 1 / 7 - Full Evaluation of Default Program ==\n"
     ]
    },
    {
     "data": {
      "application/vnd.jupyter.widget-view+json": {
       "model_id": "91b50a8a265b4b8781585f4bcd410cc7",
       "version_major": 2,
       "version_minor": 0
      },
      "text/plain": [
       "Evaluation:   0%|          | 0/8 [00:00<?, ?it/s]"
      ]
     },
     "metadata": {},
     "output_type": "display_data"
    },
    {
     "name": "stderr",
     "output_type": "stream",
     "text": [
      "/opt/homebrew/Caskroom/miniconda/base/envs/py312_llm_eval/lib/python3.12/site-packages/optuna/_experimental.py:31: ExperimentalWarning: Argument ``multivariate`` is an experimental feature. The interface can change in the future.\n",
      "  warnings.warn(\n"
     ]
    },
    {
     "name": "stdout",
     "output_type": "stream",
     "text": [
      "Default program score: 0.5286088270433622\n",
      "\n",
      "===== Trial 2 / 7 =====\n",
      "Evaluating the following candidate program...\n",
      "\n",
      "Predictor 0\n",
      "i: You are a crucial agent in a high-stakes trivia competition where the accuracy of your answers can lead to significant rewards. Each round, you will receive a challenging question that requires precise and factual information. Your task is to gather relevant details using the tools at your disposal and provide a well-reasoned answer.\n",
      "\n",
      "For each question, you will be given the fields `question` and `trajectory` as inputs. Your objective is to utilize the `search_wikipedia` tool to retrieve necessary information or decide to finish the task when you have enough details to formulate your answer. \n",
      "\n",
      "Interleave your reasoning process with the selection of tools in each turn. After each tool call, append the resulting observations to your trajectory. \n",
      "\n",
      "Remember, your next steps should include:\n",
      "1. Generating a thoughtful next step based on your current knowledge and observations.\n",
      "2. Choosing the appropriate tool to gather further information or to conclude your task.\n",
      "\n",
      "Your final output should clearly present the answer to the question based on the information gathered. Good luck!\n",
      "p: Next Tool Args:\n",
      "Predictor 1\n",
      "i: You are an Agent tasked with answering critical questions that could influence business decisions. In each episode, you will receive a question regarding notable individuals or companies, and you will have access to a trajectory of previous thoughts and actions. Your goal is to gather accurate and concise information using the provided tools. You must reason step-by-step, utilizing the search tool to find relevant information and determining when you have enough data to formulate a final answer. Remember, the stakes are high: the accuracy of your answers could affect significant business operations. \n",
      "\n",
      "For example, if the question is about which individual's family had their own reality TV show, you must confirm facts about Robert Kardashian and Manvel Gamburyan, ensuring your final answer is precise. Use the search tool effectively and think critically about each step before concluding. \n",
      "\n",
      "Now, begin with the provided question and trajectory, and follow the structured reasoning process to deliver your answer.\n",
      "p: Answer:\n",
      "\n",
      "\n",
      "  0%|          | 0/8 [00:00<?, ?it/s]"
     ]
    },
    {
     "name": "stderr",
     "output_type": "stream",
     "text": [
      "OPIK: Started logging traces to the \"Default Project\" project at https://www.comet.com/opik/api/v1/session/redirect/projects/?trace_id=01974126-051e-725d-91a2-84eb851edb6d&path=aHR0cHM6Ly93d3cuY29tZXQuY29tL29waWsvYXBpLw==.\n"
     ]
    },
    {
     "name": "stdout",
     "output_type": "stream",
     "text": [
      "Average Metric: 0.20 / 1 (20.3%):  12%|█▎        | 1/8 [00:05<00:41,  5.90s/it]"
     ]
    },
    {
     "name": "stderr",
     "output_type": "stream",
     "text": [
      "OPIK: Started logging traces to the \"optimize-workshop-2025\" project at https://www.comet.com/opik/api/v1/session/redirect/projects/?trace_id=01974125-ee21-7f16-b836-4545a6eb2eaa&path=aHR0cHM6Ly93d3cuY29tZXQuY29tL29waWsvYXBpLw==.\n",
      "OPIK: Started logging traces to the \"Default Project\" project at https://www.comet.com/opik/api/v1/session/redirect/projects/?trace_id=01974126-09c8-71e0-9206-2ec728ae19aa&path=aHR0cHM6Ly93d3cuY29tZXQuY29tL29waWsvYXBpLw==.\n"
     ]
    },
    {
     "name": "stdout",
     "output_type": "stream",
     "text": [
      "Average Metric: 0.31 / 2 (15.7%):  25%|██▌       | 2/8 [00:07<00:18,  3.13s/it]"
     ]
    },
    {
     "name": "stderr",
     "output_type": "stream",
     "text": [
      "OPIK: Started logging traces to the \"optimize-workshop-2025\" project at https://www.comet.com/opik/api/v1/session/redirect/projects/?trace_id=01974125-ee0d-7f01-8f8b-e15eda36ad4b&path=aHR0cHM6Ly93d3cuY29tZXQuY29tL29waWsvYXBpLw==.\n",
      "OPIK: Started logging traces to the \"Default Project\" project at https://www.comet.com/opik/api/v1/session/redirect/projects/?trace_id=01974126-1d5b-74e2-a859-a171e7b4f378&path=aHR0cHM6Ly93d3cuY29tZXQuY29tL29waWsvYXBpLw==.\n"
     ]
    },
    {
     "name": "stdout",
     "output_type": "stream",
     "text": [
      "Average Metric: 0.48 / 3 (16.1%):  38%|███▊      | 3/8 [00:12<00:19,  3.99s/it]"
     ]
    },
    {
     "name": "stderr",
     "output_type": "stream",
     "text": [
      "OPIK: Started logging traces to the \"optimize-workshop-2025\" project at https://www.comet.com/opik/api/v1/session/redirect/projects/?trace_id=01974125-ee11-76ed-b27d-a505213a1dd0&path=aHR0cHM6Ly93d3cuY29tZXQuY29tL29waWsvYXBpLw==.\n",
      "OPIK: Started logging traces to the \"Default Project\" project at https://www.comet.com/opik/api/v1/session/redirect/projects/?trace_id=01974126-2121-72f9-bdbf-bbe291142ea0&path=aHR0cHM6Ly93d3cuY29tZXQuY29tL29waWsvYXBpLw==.\n"
     ]
    },
    {
     "name": "stdout",
     "output_type": "stream",
     "text": [
      "Average Metric: 0.70 / 4 (17.6%):  50%|█████     | 4/8 [00:13<00:11,  2.80s/it]"
     ]
    },
    {
     "name": "stderr",
     "output_type": "stream",
     "text": [
      "OPIK: Started logging traces to the \"optimize-workshop-2025\" project at https://www.comet.com/opik/api/v1/session/redirect/projects/?trace_id=01974125-ee13-7c26-8253-f8d6046fd6ff&path=aHR0cHM6Ly93d3cuY29tZXQuY29tL29waWsvYXBpLw==.\n",
      "OPIK: Started logging traces to the \"Default Project\" project at https://www.comet.com/opik/api/v1/session/redirect/projects/?trace_id=01974126-215a-75b4-b9f0-18c69e0aef39&path=aHR0cHM6Ly93d3cuY29tZXQuY29tL29waWsvYXBpLw==.\n"
     ]
    },
    {
     "name": "stdout",
     "output_type": "stream",
     "text": [
      "Average Metric: 1.41 / 5 (28.2%):  50%|█████     | 4/8 [00:13<00:11,  2.80s/it]"
     ]
    },
    {
     "name": "stderr",
     "output_type": "stream",
     "text": [
      "OPIK: Started logging traces to the \"optimize-workshop-2025\" project at https://www.comet.com/opik/api/v1/session/redirect/projects/?trace_id=01974125-ee0c-7eba-bfc9-74eac686b888&path=aHR0cHM6Ly93d3cuY29tZXQuY29tL29waWsvYXBpLw==.\n",
      "OPIK: Started logging traces to the \"Default Project\" project at https://www.comet.com/opik/api/v1/session/redirect/projects/?trace_id=01974126-2c10-766a-a4b2-ce1efcf37b58&path=aHR0cHM6Ly93d3cuY29tZXQuY29tL29waWsvYXBpLw==.\n"
     ]
    },
    {
     "name": "stdout",
     "output_type": "stream",
     "text": [
      "Average Metric: 1.56 / 6 (26.0%):  75%|███████▌  | 6/8 [00:15<00:04,  2.06s/it]"
     ]
    },
    {
     "name": "stderr",
     "output_type": "stream",
     "text": [
      "OPIK: Started logging traces to the \"optimize-workshop-2025\" project at https://www.comet.com/opik/api/v1/session/redirect/projects/?trace_id=01974125-ee17-79bf-8204-925d3ab45773&path=aHR0cHM6Ly93d3cuY29tZXQuY29tL29waWsvYXBpLw==.\n",
      "OPIK: Started logging traces to the \"Default Project\" project at https://www.comet.com/opik/api/v1/session/redirect/projects/?trace_id=01974126-2e6f-7fc2-98dd-7b0f4af1b6d5&path=aHR0cHM6Ly93d3cuY29tZXQuY29tL29waWsvYXBpLw==.\n"
     ]
    },
    {
     "name": "stdout",
     "output_type": "stream",
     "text": [
      "Average Metric: 1.72 / 7 (24.6%):  88%|████████▊ | 7/8 [00:16<00:01,  1.66s/it]"
     ]
    },
    {
     "name": "stderr",
     "output_type": "stream",
     "text": [
      "OPIK: Started logging traces to the \"optimize-workshop-2025\" project at https://www.comet.com/opik/api/v1/session/redirect/projects/?trace_id=01974125-ee25-7757-8d6e-8ea675f4bb39&path=aHR0cHM6Ly93d3cuY29tZXQuY29tL29waWsvYXBpLw==.\n",
      "OPIK: Started logging traces to the \"Default Project\" project at https://www.comet.com/opik/api/v1/session/redirect/projects/?trace_id=01974126-2f4b-7410-aecc-bd8d2f404ae5&path=aHR0cHM6Ly93d3cuY29tZXQuY29tL29waWsvYXBpLw==.\n"
     ]
    },
    {
     "name": "stdout",
     "output_type": "stream",
     "text": [
      "Average Metric: 1.91 / 8 (23.9%): 100%|██████████| 8/8 [00:16<00:00,  2.09s/it]\n",
      "\u001b[92mBest full score so far!\u001b[0m Score: 23.92\n",
      "Score: 23.92 with parameters ['Predictor 0: Instruction 1', 'Predictor 0: Few-Shot Set 0', 'Predictor 1: Instruction 1', 'Predictor 1: Few-Shot Set 2'].\n",
      "Scores so far: [0.5286088270433622, 23.92]\n",
      "Best score so far: 23.92\n",
      "=======================\n",
      "\n",
      "\n",
      "===== Trial 3 / 7 =====\n",
      "Evaluating the following candidate program...\n",
      "\n",
      "Predictor 0\n",
      "i: Provide an answer to the question\n",
      "\n",
      "You are an Agent. In each episode, you will be given the fields `question` as input. And you can see your past trajectory so far.\n",
      "Your goal is to use one or more of the supplied tools to collect any necessary information for producing `answer`.\n",
      "\n",
      "To do this, you will interleave next_thought, next_tool_name, and next_tool_args in each turn, and also when finishing the task.\n",
      "After each tool call, you receive a resulting observation, which gets appended to your trajectory.\n",
      "\n",
      "When writing next_thought, you may reason about the current situation and plan for future steps.\n",
      "When selecting the next_tool_name and its next_tool_args, the tool must be one of:\n",
      "\n",
      "(1) search_wikipedia, whose description is <desc>      This agent is used to search wikipedia. It can retrieve additional details      about a topic.      </desc>. It takes arguments {'query': {'type': 'string'}} in JSON format.\n",
      "(2) finish, whose description is <desc>Marks the task as complete. That is, signals that all infomration for producing the outputs, i.e. `answer`, are now available to be extracted.</desc>. It takes arguments {} in JSON format.\n",
      "p: Next Tool Args:\n",
      "Predictor 1\n",
      "i: Imagine you are an expert agent tasked with answering critical questions about notable individuals and companies in a high-stakes environment where accurate information is crucial. Your goal is to provide concise and factual answers to the questions posed. You will receive a question along with a trajectory of previous thoughts and tool interactions. Utilize the available tools effectively to gather necessary information, reason through the data, and articulate a well-informed answer. Remember, your responses could influence important decisions, so ensure clarity and precision in your reasoning and conclusions.\n",
      "p: Answer:\n",
      "\n",
      "\n",
      "  0%|          | 0/8 [00:00<?, ?it/s]"
     ]
    },
    {
     "name": "stderr",
     "output_type": "stream",
     "text": [
      "OPIK: Started logging traces to the \"optimize-workshop-2025\" project at https://www.comet.com/opik/api/v1/session/redirect/projects/?trace_id=01974126-2f68-7428-98cc-78b6ffad565a&path=aHR0cHM6Ly93d3cuY29tZXQuY29tL29waWsvYXBpLw==.\n",
      "OPIK: Started logging traces to the \"Default Project\" project at https://www.comet.com/opik/api/v1/session/redirect/projects/?trace_id=01974126-4580-73c8-ac85-8bd61d370e13&path=aHR0cHM6Ly93d3cuY29tZXQuY29tL29waWsvYXBpLw==.\n"
     ]
    },
    {
     "name": "stdout",
     "output_type": "stream",
     "text": [
      "Average Metric: 0.20 / 1 (20.3%):  12%|█▎        | 1/8 [00:05<00:39,  5.66s/it]"
     ]
    },
    {
     "name": "stderr",
     "output_type": "stream",
     "text": [
      "OPIK: Started logging traces to the \"optimize-workshop-2025\" project at https://www.comet.com/opik/api/v1/session/redirect/projects/?trace_id=01974126-2f5c-7b80-b42b-1343fa77148e&path=aHR0cHM6Ly93d3cuY29tZXQuY29tL29waWsvYXBpLw==.\n",
      "OPIK: Started logging traces to the \"Default Project\" project at https://www.comet.com/opik/api/v1/session/redirect/projects/?trace_id=01974126-4cbc-78c1-9881-5564255dfe5c&path=aHR0cHM6Ly93d3cuY29tZXQuY29tL29waWsvYXBpLw==.\n"
     ]
    },
    {
     "name": "stdout",
     "output_type": "stream",
     "text": [
      "Average Metric: 0.53 / 2 (26.7%):  25%|██▌       | 2/8 [00:07<00:20,  3.42s/it]"
     ]
    },
    {
     "name": "stderr",
     "output_type": "stream",
     "text": [
      "OPIK: Started logging traces to the \"optimize-workshop-2025\" project at https://www.comet.com/opik/api/v1/session/redirect/projects/?trace_id=01974126-2f60-7058-a95a-8f6b26b31a9e&path=aHR0cHM6Ly93d3cuY29tZXQuY29tL29waWsvYXBpLw==.\n",
      "OPIK: Started logging traces to the \"Default Project\" project at https://www.comet.com/opik/api/v1/session/redirect/projects/?trace_id=01974126-5c17-7aaa-8944-177076de0f69&path=aHR0cHM6Ly93d3cuY29tZXQuY29tL29waWsvYXBpLw==.\n"
     ]
    },
    {
     "name": "stdout",
     "output_type": "stream",
     "text": [
      "Average Metric: 0.74 / 3 (24.7%):  38%|███▊      | 3/8 [00:11<00:18,  3.65s/it]"
     ]
    },
    {
     "name": "stderr",
     "output_type": "stream",
     "text": [
      "OPIK: Started logging traces to the \"optimize-workshop-2025\" project at https://www.comet.com/opik/api/v1/session/redirect/projects/?trace_id=01974126-2f6c-74d6-a11c-111f14c75bc6&path=aHR0cHM6Ly93d3cuY29tZXQuY29tL29waWsvYXBpLw==.\n",
      "OPIK: Started logging traces to the \"Default Project\" project at https://www.comet.com/opik/api/v1/session/redirect/projects/?trace_id=01974126-5e00-7d7d-925e-50381e741b8a&path=aHR0cHM6Ly93d3cuY29tZXQuY29tL29waWsvYXBpLw==.\n"
     ]
    },
    {
     "name": "stdout",
     "output_type": "stream",
     "text": [
      "Average Metric: 0.85 / 4 (21.3%):  50%|█████     | 4/8 [00:11<00:09,  2.40s/it]"
     ]
    },
    {
     "name": "stderr",
     "output_type": "stream",
     "text": [
      "OPIK: Started logging traces to the \"optimize-workshop-2025\" project at https://www.comet.com/opik/api/v1/session/redirect/projects/?trace_id=01974126-2f61-7c2d-a4d0-f9cbe0287142&path=aHR0cHM6Ly93d3cuY29tZXQuY29tL29waWsvYXBpLw==.\n",
      "OPIK: Started logging traces to the \"Default Project\" project at https://www.comet.com/opik/api/v1/session/redirect/projects/?trace_id=01974126-5e09-75be-9561-1099f4fc9310&path=aHR0cHM6Ly93d3cuY29tZXQuY29tL29waWsvYXBpLw==.\n"
     ]
    },
    {
     "name": "stdout",
     "output_type": "stream",
     "text": [
      "Average Metric: 0.96 / 5 (19.2%):  50%|█████     | 4/8 [00:11<00:09,  2.40s/it]"
     ]
    },
    {
     "name": "stderr",
     "output_type": "stream",
     "text": [
      "OPIK: Started logging traces to the \"optimize-workshop-2025\" project at https://www.comet.com/opik/api/v1/session/redirect/projects/?trace_id=01974126-2f54-7e94-ac00-61e0ab53e233&path=aHR0cHM6Ly93d3cuY29tZXQuY29tL29waWsvYXBpLw==.\n",
      "OPIK: Started logging traces to the \"Default Project\" project at https://www.comet.com/opik/api/v1/session/redirect/projects/?trace_id=01974126-5e10-7c3d-ade3-d3f50dccd5f8&path=aHR0cHM6Ly93d3cuY29tZXQuY29tL29waWsvYXBpLw==.\n"
     ]
    },
    {
     "name": "stdout",
     "output_type": "stream",
     "text": [
      "Average Metric: 1.10 / 6 (18.4%):  62%|██████▎   | 5/8 [00:11<00:07,  2.40s/it]"
     ]
    },
    {
     "name": "stderr",
     "output_type": "stream",
     "text": [
      "OPIK: Started logging traces to the \"optimize-workshop-2025\" project at https://www.comet.com/opik/api/v1/session/redirect/projects/?trace_id=01974126-2f70-781d-ad17-a182d1d89cbb&path=aHR0cHM6Ly93d3cuY29tZXQuY29tL29waWsvYXBpLw==.\n",
      "OPIK: Started logging traces to the \"Default Project\" project at https://www.comet.com/opik/api/v1/session/redirect/projects/?trace_id=01974126-7bdd-7b97-91c4-a651d7a24999&path=aHR0cHM6Ly93d3cuY29tZXQuY29tL29waWsvYXBpLw==.\n"
     ]
    },
    {
     "name": "stdout",
     "output_type": "stream",
     "text": [
      "Average Metric: 1.21 / 7 (17.3%):  88%|████████▊ | 7/8 [00:19<00:02,  2.49s/it]"
     ]
    },
    {
     "name": "stderr",
     "output_type": "stream",
     "text": [
      "OPIK: Started logging traces to the \"optimize-workshop-2025\" project at https://www.comet.com/opik/api/v1/session/redirect/projects/?trace_id=01974126-2f58-747a-a1fd-8337976327ec&path=aHR0cHM6Ly93d3cuY29tZXQuY29tL29waWsvYXBpLw==.\n",
      "OPIK: Started logging traces to the \"Default Project\" project at https://www.comet.com/opik/api/v1/session/redirect/projects/?trace_id=01974126-93c8-74bd-89d3-26d78c48521f&path=aHR0cHM6Ly93d3cuY29tZXQuY29tL29waWsvYXBpLw==.\n"
     ]
    },
    {
     "name": "stdout",
     "output_type": "stream",
     "text": [
      "Average Metric: 1.33 / 8 (16.7%): 100%|██████████| 8/8 [00:25<00:00,  3.21s/it]\n",
      "Score: 16.65 with parameters ['Predictor 0: Instruction 0', 'Predictor 0: Few-Shot Set 2', 'Predictor 1: Instruction 2', 'Predictor 1: Few-Shot Set 2'].\n",
      "Scores so far: [0.5286088270433622, 23.92, 16.65]\n",
      "Best score so far: 23.92\n",
      "=======================\n",
      "\n",
      "\n",
      "===== Trial 4 / 7 =====\n",
      "Evaluating the following candidate program...\n",
      "\n",
      "Predictor 0\n",
      "i: You are a crucial agent in a high-stakes trivia competition where the accuracy of your answers can lead to significant rewards. Each round, you will receive a challenging question that requires precise and factual information. Your task is to gather relevant details using the tools at your disposal and provide a well-reasoned answer.\n",
      "\n",
      "For each question, you will be given the fields `question` and `trajectory` as inputs. Your objective is to utilize the `search_wikipedia` tool to retrieve necessary information or decide to finish the task when you have enough details to formulate your answer. \n",
      "\n",
      "Interleave your reasoning process with the selection of tools in each turn. After each tool call, append the resulting observations to your trajectory. \n",
      "\n",
      "Remember, your next steps should include:\n",
      "1. Generating a thoughtful next step based on your current knowledge and observations.\n",
      "2. Choosing the appropriate tool to gather further information or to conclude your task.\n",
      "\n",
      "Your final output should clearly present the answer to the question based on the information gathered. Good luck!\n",
      "p: Next Tool Args:\n",
      "Predictor 1\n",
      "i: Provide an answer to the question\n",
      "p: Answer:\n",
      "\n",
      "\n",
      "  0%|          | 0/8 [00:00<?, ?it/s]"
     ]
    },
    {
     "name": "stderr",
     "output_type": "stream",
     "text": [
      "OPIK: Started logging traces to the \"optimize-workshop-2025\" project at https://www.comet.com/opik/api/v1/session/redirect/projects/?trace_id=01974126-93e4-7d7f-a075-66b1ae0a8405&path=aHR0cHM6Ly93d3cuY29tZXQuY29tL29waWsvYXBpLw==.\n",
      "OPIK: Started logging traces to the \"Default Project\" project at https://www.comet.com/opik/api/v1/session/redirect/projects/?trace_id=01974126-9ce7-726b-9ee2-1f77db954fd9&path=aHR0cHM6Ly93d3cuY29tZXQuY29tL29waWsvYXBpLw==.\n"
     ]
    },
    {
     "name": "stdout",
     "output_type": "stream",
     "text": [
      "Average Metric: 0.29 / 1 (29.4%):  12%|█▎        | 1/8 [00:02<00:16,  2.30s/it]"
     ]
    },
    {
     "name": "stderr",
     "output_type": "stream",
     "text": [
      "OPIK: Started logging traces to the \"optimize-workshop-2025\" project at https://www.comet.com/opik/api/v1/session/redirect/projects/?trace_id=01974126-9405-73f2-8aed-32570c075f80&path=aHR0cHM6Ly93d3cuY29tZXQuY29tL29waWsvYXBpLw==.\n",
      "OPIK: Started logging traces to the \"Default Project\" project at https://www.comet.com/opik/api/v1/session/redirect/projects/?trace_id=01974126-9fb3-7817-bbaa-8865189afba4&path=aHR0cHM6Ly93d3cuY29tZXQuY29tL29waWsvYXBpLw==.\n"
     ]
    },
    {
     "name": "stdout",
     "output_type": "stream",
     "text": [
      "Average Metric: 0.41 / 2 (20.3%):  25%|██▌       | 2/8 [00:03<00:08,  1.37s/it]"
     ]
    },
    {
     "name": "stderr",
     "output_type": "stream",
     "text": [
      "OPIK: Started logging traces to the \"optimize-workshop-2025\" project at https://www.comet.com/opik/api/v1/session/redirect/projects/?trace_id=01974126-93e9-715c-9202-743d6f48fa31&path=aHR0cHM6Ly93d3cuY29tZXQuY29tL29waWsvYXBpLw==.\n",
      "OPIK: Started logging traces to the \"Default Project\" project at https://www.comet.com/opik/api/v1/session/redirect/projects/?trace_id=01974126-9ffe-7b09-b702-d5cdf0717506&path=aHR0cHM6Ly93d3cuY29tZXQuY29tL29waWsvYXBpLw==.\n"
     ]
    },
    {
     "name": "stdout",
     "output_type": "stream",
     "text": [
      "Average Metric: 1.41 / 3 (46.8%):  25%|██▌       | 2/8 [00:03<00:08,  1.37s/it]"
     ]
    },
    {
     "name": "stderr",
     "output_type": "stream",
     "text": [
      "OPIK: Started logging traces to the \"optimize-workshop-2025\" project at https://www.comet.com/opik/api/v1/session/redirect/projects/?trace_id=01974126-93cf-7eb2-80dd-2b9ff0bfb6a8&path=aHR0cHM6Ly93d3cuY29tZXQuY29tL29waWsvYXBpLw==.\n",
      "OPIK: Started logging traces to the \"Default Project\" project at https://www.comet.com/opik/api/v1/session/redirect/projects/?trace_id=01974126-a117-79b8-ab28-0aa45558ec19&path=aHR0cHM6Ly93d3cuY29tZXQuY29tL29waWsvYXBpLw==.\n"
     ]
    },
    {
     "name": "stdout",
     "output_type": "stream",
     "text": [
      "Average Metric: 2.05 / 4 (51.1%):  50%|█████     | 4/8 [00:03<00:02,  1.61it/s]"
     ]
    },
    {
     "name": "stderr",
     "output_type": "stream",
     "text": [
      "OPIK: Started logging traces to the \"optimize-workshop-2025\" project at https://www.comet.com/opik/api/v1/session/redirect/projects/?trace_id=01974126-9402-77f3-ba9b-525221d076a5&path=aHR0cHM6Ly93d3cuY29tZXQuY29tL29waWsvYXBpLw==.\n",
      "OPIK: Started logging traces to the \"Default Project\" project at https://www.comet.com/opik/api/v1/session/redirect/projects/?trace_id=01974126-a2fc-7245-94fb-0ac581869ae8&path=aHR0cHM6Ly93d3cuY29tZXQuY29tL29waWsvYXBpLw==.\n"
     ]
    },
    {
     "name": "stdout",
     "output_type": "stream",
     "text": [
      "Average Metric: 2.85 / 6 (47.5%):  62%|██████▎   | 5/8 [00:03<00:01,  1.72it/s]"
     ]
    },
    {
     "name": "stderr",
     "output_type": "stream",
     "text": [
      "OPIK: Started logging traces to the \"optimize-workshop-2025\" project at https://www.comet.com/opik/api/v1/session/redirect/projects/?trace_id=01974126-9408-74d0-9cfe-8c2db3f8b610&path=aHR0cHM6Ly93d3cuY29tZXQuY29tL29waWsvYXBpLw==.\n",
      "OPIK: Started logging traces to the \"Default Project\" project at https://www.comet.com/opik/api/v1/session/redirect/projects/?trace_id=01974126-a5a8-7a09-b793-304b03c41390&path=aHR0cHM6Ly93d3cuY29tZXQuY29tL29waWsvYXBpLw==.\n"
     ]
    },
    {
     "name": "stdout",
     "output_type": "stream",
     "text": [
      "Average Metric: 3.85 / 7 (55.0%):  88%|████████▊ | 7/8 [00:04<00:00,  2.13it/s]"
     ]
    },
    {
     "name": "stderr",
     "output_type": "stream",
     "text": [
      "OPIK: Started logging traces to the \"optimize-workshop-2025\" project at https://www.comet.com/opik/api/v1/session/redirect/projects/?trace_id=01974126-93fc-7599-a70b-d614b55532c0&path=aHR0cHM6Ly93d3cuY29tZXQuY29tL29waWsvYXBpLw==.\n",
      "OPIK: Started logging traces to the \"Default Project\" project at https://www.comet.com/opik/api/v1/session/redirect/projects/?trace_id=01974126-a621-7ac1-900a-3cd443917df9&path=aHR0cHM6Ly93d3cuY29tZXQuY29tL29waWsvYXBpLw==.\n"
     ]
    },
    {
     "name": "stdout",
     "output_type": "stream",
     "text": [
      "Average Metric: 4.58 / 8 (57.3%): 100%|██████████| 8/8 [00:04<00:00,  1.72it/s]\n",
      "\u001b[92mBest full score so far!\u001b[0m Score: 57.28\n",
      "Score: 57.28 with parameters ['Predictor 0: Instruction 1', 'Predictor 0: Few-Shot Set 1', 'Predictor 1: Instruction 0', 'Predictor 1: Few-Shot Set 1'].\n",
      "Scores so far: [0.5286088270433622, 23.92, 16.65, 57.28]\n",
      "Best score so far: 57.28\n",
      "=======================\n",
      "\n",
      "\n",
      "===== Trial 5 / 7 =====\n",
      "Evaluating the following candidate program...\n",
      "\n",
      "Predictor 0\n",
      "i: In this task, you will act as an information-gathering agent. Given the `question`, your objective is to systematically gather relevant information to formulate a complete answer. You will leverage the `trajectory` of past thoughts and tool calls to inform your next steps. \n",
      "\n",
      "1. Start by analyzing the `question` to determine what specific information you need.\n",
      "2. Use the `search_wikipedia` tool to look up relevant details related to the question. When doing so, provide a clear and concise query in the `next_tool_args`.\n",
      "3. After receiving observations from the tool, update your `trajectory` with the new information.\n",
      "4. Based on the observations, generate a `next_thought` that reflects your reasoning about the current situation and what further information may be needed.\n",
      "5. If you have gathered enough information to answer the question, select the `finish` tool to complete the task. Otherwise, continue to interleave your reasoning and tool selections until the task is complete.\n",
      "\n",
      "Remember to be thorough in your information gathering, and ensure that each step logically follows from the previous one. Your goal is to provide a well-informed and accurate answer to the question posed.\n",
      "p: Next Tool Args:\n",
      "Predictor 1\n",
      "i: You are an Agent tasked with answering critical questions that could influence business decisions. In each episode, you will receive a question regarding notable individuals or companies, and you will have access to a trajectory of previous thoughts and actions. Your goal is to gather accurate and concise information using the provided tools. You must reason step-by-step, utilizing the search tool to find relevant information and determining when you have enough data to formulate a final answer. Remember, the stakes are high: the accuracy of your answers could affect significant business operations. \n",
      "\n",
      "For example, if the question is about which individual's family had their own reality TV show, you must confirm facts about Robert Kardashian and Manvel Gamburyan, ensuring your final answer is precise. Use the search tool effectively and think critically about each step before concluding. \n",
      "\n",
      "Now, begin with the provided question and trajectory, and follow the structured reasoning process to deliver your answer.\n",
      "p: Answer:\n",
      "\n",
      "\n",
      "  0%|          | 0/8 [00:00<?, ?it/s]"
     ]
    },
    {
     "name": "stderr",
     "output_type": "stream",
     "text": [
      "OPIK: Started logging traces to the \"optimize-workshop-2025\" project at https://www.comet.com/opik/api/v1/session/redirect/projects/?trace_id=01974126-a642-7174-87e8-b3c757b5ed92&path=aHR0cHM6Ly93d3cuY29tZXQuY29tL29waWsvYXBpLw==.\n",
      "OPIK: Started logging traces to the \"Default Project\" project at https://www.comet.com/opik/api/v1/session/redirect/projects/?trace_id=01974126-bb82-7d7d-b2d2-7e73a9212e7e&path=aHR0cHM6Ly93d3cuY29tZXQuY29tL29waWsvYXBpLw==.\n"
     ]
    },
    {
     "name": "stdout",
     "output_type": "stream",
     "text": [
      "Average Metric: 0.52 / 1 (51.9%):  12%|█▎        | 1/8 [00:05<00:38,  5.44s/it]"
     ]
    },
    {
     "name": "stderr",
     "output_type": "stream",
     "text": [
      "OPIK: Started logging traces to the \"optimize-workshop-2025\" project at https://www.comet.com/opik/api/v1/session/redirect/projects/?trace_id=01974126-a63e-7c7e-8cd9-db379b84efa8&path=aHR0cHM6Ly93d3cuY29tZXQuY29tL29waWsvYXBpLw==.\n",
      "OPIK: Started logging traces to the \"Default Project\" project at https://www.comet.com/opik/api/v1/session/redirect/projects/?trace_id=01974126-c9bd-7728-ae29-67ded0605edf&path=aHR0cHM6Ly93d3cuY29tZXQuY29tL29waWsvYXBpLw==.\n"
     ]
    },
    {
     "name": "stdout",
     "output_type": "stream",
     "text": [
      "Average Metric: 0.78 / 2 (38.8%):  25%|██▌       | 2/8 [00:09<00:26,  4.38s/it]"
     ]
    },
    {
     "name": "stderr",
     "output_type": "stream",
     "text": [
      "OPIK: Started logging traces to the \"optimize-workshop-2025\" project at https://www.comet.com/opik/api/v1/session/redirect/projects/?trace_id=01974126-a646-7570-8d73-3ccae3c7e6f0&path=aHR0cHM6Ly93d3cuY29tZXQuY29tL29waWsvYXBpLw==.\n",
      "OPIK: Started logging traces to the \"Default Project\" project at https://www.comet.com/opik/api/v1/session/redirect/projects/?trace_id=01974126-cb55-70b2-a596-63582a8de83c&path=aHR0cHM6Ly93d3cuY29tZXQuY29tL29waWsvYXBpLw==.\n"
     ]
    },
    {
     "name": "stdout",
     "output_type": "stream",
     "text": [
      "Average Metric: 0.89 / 3 (29.6%):  38%|███▊      | 3/8 [00:09<00:12,  2.57s/it]"
     ]
    },
    {
     "name": "stderr",
     "output_type": "stream",
     "text": [
      "OPIK: Started logging traces to the \"optimize-workshop-2025\" project at https://www.comet.com/opik/api/v1/session/redirect/projects/?trace_id=01974126-a637-78f3-a0b6-44ae04781021&path=aHR0cHM6Ly93d3cuY29tZXQuY29tL29waWsvYXBpLw==.\n",
      "OPIK: Started logging traces to the \"Default Project\" project at https://www.comet.com/opik/api/v1/session/redirect/projects/?trace_id=01974126-cca3-76a9-9548-50d86861a581&path=aHR0cHM6Ly93d3cuY29tZXQuY29tL29waWsvYXBpLw==.\n"
     ]
    },
    {
     "name": "stdout",
     "output_type": "stream",
     "text": [
      "Average Metric: 1.89 / 4 (47.2%):  50%|█████     | 4/8 [00:09<00:06,  1.69s/it]"
     ]
    },
    {
     "name": "stderr",
     "output_type": "stream",
     "text": [
      "OPIK: Started logging traces to the \"optimize-workshop-2025\" project at https://www.comet.com/opik/api/v1/session/redirect/projects/?trace_id=01974126-a630-73fe-bfb9-53140ee34bdf&path=aHR0cHM6Ly93d3cuY29tZXQuY29tL29waWsvYXBpLw==.\n",
      "OPIK: Started logging traces to the \"Default Project\" project at https://www.comet.com/opik/api/v1/session/redirect/projects/?trace_id=01974126-d03e-729f-b69c-b6f2e6ec03f4&path=aHR0cHM6Ly93d3cuY29tZXQuY29tL29waWsvYXBpLw==.\n"
     ]
    },
    {
     "name": "stdout",
     "output_type": "stream",
     "text": [
      "Average Metric: 2.05 / 5 (41.0%):  62%|██████▎   | 5/8 [00:10<00:04,  1.41s/it]"
     ]
    },
    {
     "name": "stderr",
     "output_type": "stream",
     "text": [
      "OPIK: Started logging traces to the \"optimize-workshop-2025\" project at https://www.comet.com/opik/api/v1/session/redirect/projects/?trace_id=01974126-a62e-7f76-a634-fae0b475e7b1&path=aHR0cHM6Ly93d3cuY29tZXQuY29tL29waWsvYXBpLw==.\n",
      "OPIK: Started logging traces to the \"Default Project\" project at https://www.comet.com/opik/api/v1/session/redirect/projects/?trace_id=01974126-d840-7b69-bbae-5cb0c660f81e&path=aHR0cHM6Ly93d3cuY29tZXQuY29tL29waWsvYXBpLw==.\n"
     ]
    },
    {
     "name": "stdout",
     "output_type": "stream",
     "text": [
      "Average Metric: 2.37 / 6 (39.6%):  75%|███████▌  | 6/8 [00:12<00:03,  1.63s/it]"
     ]
    },
    {
     "name": "stderr",
     "output_type": "stream",
     "text": [
      "OPIK: Started logging traces to the \"optimize-workshop-2025\" project at https://www.comet.com/opik/api/v1/session/redirect/projects/?trace_id=01974126-a64a-7ad4-aa44-2699247f051c&path=aHR0cHM6Ly93d3cuY29tZXQuY29tL29waWsvYXBpLw==.\n",
      "OPIK: Started logging traces to the \"Default Project\" project at https://www.comet.com/opik/api/v1/session/redirect/projects/?trace_id=01974126-db28-788e-a983-386fee816bba&path=aHR0cHM6Ly93d3cuY29tZXQuY29tL29waWsvYXBpLw==.\n"
     ]
    },
    {
     "name": "stdout",
     "output_type": "stream",
     "text": [
      "Average Metric: 3.37 / 7 (48.2%):  88%|████████▊ | 7/8 [00:13<00:01,  1.34s/it]"
     ]
    },
    {
     "name": "stderr",
     "output_type": "stream",
     "text": [
      "OPIK: Started logging traces to the \"optimize-workshop-2025\" project at https://www.comet.com/opik/api/v1/session/redirect/projects/?trace_id=01974126-a63c-7c92-9b6d-ef674bdc06cb&path=aHR0cHM6Ly93d3cuY29tZXQuY29tL29waWsvYXBpLw==.\n",
      "OPIK: Started logging traces to the \"Default Project\" project at https://www.comet.com/opik/api/v1/session/redirect/projects/?trace_id=01974126-dfee-72b3-9841-45ae7c094362&path=aHR0cHM6Ly93d3cuY29tZXQuY29tL29waWsvYXBpLw==.\n"
     ]
    },
    {
     "name": "stdout",
     "output_type": "stream",
     "text": [
      "Average Metric: 4.11 / 8 (51.3%): 100%|██████████| 8/8 [00:14<00:00,  1.85s/it]\n",
      "Score: 51.34 with parameters ['Predictor 0: Instruction 2', 'Predictor 0: Few-Shot Set 2', 'Predictor 1: Instruction 1', 'Predictor 1: Few-Shot Set 0'].\n",
      "Scores so far: [0.5286088270433622, 23.92, 16.65, 57.28, 51.34]\n",
      "Best score so far: 57.28\n",
      "=======================\n",
      "\n",
      "\n",
      "===== Trial 6 / 7 =====\n",
      "Evaluating the following candidate program...\n",
      "\n",
      "Predictor 0\n",
      "i: In this task, you will act as an information-gathering agent. Given the `question`, your objective is to systematically gather relevant information to formulate a complete answer. You will leverage the `trajectory` of past thoughts and tool calls to inform your next steps. \n",
      "\n",
      "1. Start by analyzing the `question` to determine what specific information you need.\n",
      "2. Use the `search_wikipedia` tool to look up relevant details related to the question. When doing so, provide a clear and concise query in the `next_tool_args`.\n",
      "3. After receiving observations from the tool, update your `trajectory` with the new information.\n",
      "4. Based on the observations, generate a `next_thought` that reflects your reasoning about the current situation and what further information may be needed.\n",
      "5. If you have gathered enough information to answer the question, select the `finish` tool to complete the task. Otherwise, continue to interleave your reasoning and tool selections until the task is complete.\n",
      "\n",
      "Remember to be thorough in your information gathering, and ensure that each step logically follows from the previous one. Your goal is to provide a well-informed and accurate answer to the question posed.\n",
      "p: Next Tool Args:\n",
      "Predictor 1\n",
      "i: You are an Agent tasked with answering critical questions that could influence business decisions. In each episode, you will receive a question regarding notable individuals or companies, and you will have access to a trajectory of previous thoughts and actions. Your goal is to gather accurate and concise information using the provided tools. You must reason step-by-step, utilizing the search tool to find relevant information and determining when you have enough data to formulate a final answer. Remember, the stakes are high: the accuracy of your answers could affect significant business operations. \n",
      "\n",
      "For example, if the question is about which individual's family had their own reality TV show, you must confirm facts about Robert Kardashian and Manvel Gamburyan, ensuring your final answer is precise. Use the search tool effectively and think critically about each step before concluding. \n",
      "\n",
      "Now, begin with the provided question and trajectory, and follow the structured reasoning process to deliver your answer.\n",
      "p: Answer:\n",
      "\n",
      "\n",
      "  0%|          | 0/8 [00:00<?, ?it/s]"
     ]
    },
    {
     "name": "stderr",
     "output_type": "stream",
     "text": [
      "OPIK: Started logging traces to the \"optimize-workshop-2025\" project at https://www.comet.com/opik/api/v1/session/redirect/projects/?trace_id=01974126-e008-7840-9535-17223f869de9&path=aHR0cHM6Ly93d3cuY29tZXQuY29tL29waWsvYXBpLw==.\n",
      "OPIK: Started logging traces to the \"Default Project\" project at https://www.comet.com/opik/api/v1/session/redirect/projects/?trace_id=01974126-f779-79b9-8bbe-61adc5061df6&path=aHR0cHM6Ly93d3cuY29tZXQuY29tL29waWsvYXBpLw==.\n"
     ]
    },
    {
     "name": "stdout",
     "output_type": "stream",
     "text": [
      "Average Metric: 0.27 / 1 (27.5%):  12%|█▎        | 1/8 [00:06<00:42,  6.00s/it]"
     ]
    },
    {
     "name": "stderr",
     "output_type": "stream",
     "text": [
      "OPIK: Started logging traces to the \"optimize-workshop-2025\" project at https://www.comet.com/opik/api/v1/session/redirect/projects/?trace_id=01974126-e00f-7366-89a0-d77cfe979746&path=aHR0cHM6Ly93d3cuY29tZXQuY29tL29waWsvYXBpLw==.\n",
      "OPIK: Started logging traces to the \"Default Project\" project at https://www.comet.com/opik/api/v1/session/redirect/projects/?trace_id=01974127-030b-7b1c-92c1-bd1c819f5679&path=aHR0cHM6Ly93d3cuY29tZXQuY29tL29waWsvYXBpLw==.\n"
     ]
    },
    {
     "name": "stdout",
     "output_type": "stream",
     "text": [
      "Average Metric: 0.39 / 2 (19.3%):  25%|██▌       | 2/8 [00:08<00:25,  4.21s/it]"
     ]
    },
    {
     "name": "stderr",
     "output_type": "stream",
     "text": [
      "OPIK: Started logging traces to the \"optimize-workshop-2025\" project at https://www.comet.com/opik/api/v1/session/redirect/projects/?trace_id=01974126-dff9-77a9-b409-2491095688f3&path=aHR0cHM6Ly93d3cuY29tZXQuY29tL29waWsvYXBpLw==.\n",
      "OPIK: Started logging traces to the \"Default Project\" project at https://www.comet.com/opik/api/v1/session/redirect/projects/?trace_id=01974127-037b-78c9-8eda-2a16a1e5c211&path=aHR0cHM6Ly93d3cuY29tZXQuY29tL29waWsvYXBpLw==.\n"
     ]
    },
    {
     "name": "stdout",
     "output_type": "stream",
     "text": [
      "Average Metric: 0.54 / 3 (18.0%):  38%|███▊      | 3/8 [00:09<00:11,  2.34s/it]"
     ]
    },
    {
     "name": "stderr",
     "output_type": "stream",
     "text": [
      "OPIK: Started logging traces to the \"optimize-workshop-2025\" project at https://www.comet.com/opik/api/v1/session/redirect/projects/?trace_id=01974126-e003-7d57-b8b9-1f034817c479&path=aHR0cHM6Ly93d3cuY29tZXQuY29tL29waWsvYXBpLw==.\n",
      "OPIK: Started logging traces to the \"Default Project\" project at https://www.comet.com/opik/api/v1/session/redirect/projects/?trace_id=01974127-04c9-783d-92dc-108e84398c8e&path=aHR0cHM6Ly93d3cuY29tZXQuY29tL29waWsvYXBpLw==.\n"
     ]
    },
    {
     "name": "stdout",
     "output_type": "stream",
     "text": [
      "Average Metric: 0.87 / 4 (21.7%):  50%|█████     | 4/8 [00:09<00:06,  1.55s/it]"
     ]
    },
    {
     "name": "stderr",
     "output_type": "stream",
     "text": [
      "OPIK: Started logging traces to the \"optimize-workshop-2025\" project at https://www.comet.com/opik/api/v1/session/redirect/projects/?trace_id=01974126-dff7-7f34-a534-f868e8acc8a2&path=aHR0cHM6Ly93d3cuY29tZXQuY29tL29waWsvYXBpLw==.\n",
      "OPIK: Started logging traces to the \"Default Project\" project at https://www.comet.com/opik/api/v1/session/redirect/projects/?trace_id=01974127-0e0f-7b45-a75b-c74ee61125af&path=aHR0cHM6Ly93d3cuY29tZXQuY29tL29waWsvYXBpLw==.\n"
     ]
    },
    {
     "name": "stdout",
     "output_type": "stream",
     "text": [
      "Average Metric: 1.10 / 5 (22.0%):  62%|██████▎   | 5/8 [00:11<00:05,  1.85s/it]"
     ]
    },
    {
     "name": "stderr",
     "output_type": "stream",
     "text": [
      "OPIK: Started logging traces to the \"optimize-workshop-2025\" project at https://www.comet.com/opik/api/v1/session/redirect/projects/?trace_id=01974126-dffe-7a3d-9b9d-0ec4dff5f137&path=aHR0cHM6Ly93d3cuY29tZXQuY29tL29waWsvYXBpLw==.\n",
      "OPIK: Started logging traces to the \"Default Project\" project at https://www.comet.com/opik/api/v1/session/redirect/projects/?trace_id=01974127-1a4c-74d2-9706-5b66ee8a9dbb&path=aHR0cHM6Ly93d3cuY29tZXQuY29tL29waWsvYXBpLw==.\n"
     ]
    },
    {
     "name": "stdout",
     "output_type": "stream",
     "text": [
      "Average Metric: 1.32 / 6 (22.0%):  75%|███████▌  | 6/8 [00:14<00:04,  2.28s/it]"
     ]
    },
    {
     "name": "stderr",
     "output_type": "stream",
     "text": [
      "OPIK: Started logging traces to the \"optimize-workshop-2025\" project at https://www.comet.com/opik/api/v1/session/redirect/projects/?trace_id=01974126-e005-73f3-b905-bd3a053c47ea&path=aHR0cHM6Ly93d3cuY29tZXQuY29tL29waWsvYXBpLw==.\n",
      "OPIK: Started logging traces to the \"Default Project\" project at https://www.comet.com/opik/api/v1/session/redirect/projects/?trace_id=01974127-1e6c-738f-96cf-1fdffdffb806&path=aHR0cHM6Ly93d3cuY29tZXQuY29tL29waWsvYXBpLw==.\n"
     ]
    },
    {
     "name": "stdout",
     "output_type": "stream",
     "text": [
      "Average Metric: 1.53 / 7 (21.9%):  88%|████████▊ | 7/8 [00:15<00:01,  1.88s/it]"
     ]
    },
    {
     "name": "stderr",
     "output_type": "stream",
     "text": [
      "OPIK: Started logging traces to the \"optimize-workshop-2025\" project at https://www.comet.com/opik/api/v1/session/redirect/projects/?trace_id=01974126-e013-7ad5-b86e-c6fa4bd60d22&path=aHR0cHM6Ly93d3cuY29tZXQuY29tL29waWsvYXBpLw==.\n",
      "OPIK: Started logging traces to the \"Default Project\" project at https://www.comet.com/opik/api/v1/session/redirect/projects/?trace_id=01974127-1e79-763a-b9a7-b69fe5022fc5&path=aHR0cHM6Ly93d3cuY29tZXQuY29tL29waWsvYXBpLw==.\n"
     ]
    },
    {
     "name": "stdout",
     "output_type": "stream",
     "text": [
      "Average Metric: 1.73 / 8 (21.6%): 100%|██████████| 8/8 [00:15<00:00,  2.00s/it]\n",
      "Score: 21.59 with parameters ['Predictor 0: Instruction 2', 'Predictor 0: Few-Shot Set 1', 'Predictor 1: Instruction 1', 'Predictor 1: Few-Shot Set 2'].\n",
      "Scores so far: [0.5286088270433622, 23.92, 16.65, 57.28, 51.34, 21.59]\n",
      "Best score so far: 57.28\n",
      "=======================\n",
      "\n",
      "\n",
      "===== Trial 7 / 7 =====\n",
      "Evaluating the following candidate program...\n",
      "\n",
      "Predictor 0\n",
      "i: In this task, you will act as an information-gathering agent. Given the `question`, your objective is to systematically gather relevant information to formulate a complete answer. You will leverage the `trajectory` of past thoughts and tool calls to inform your next steps. \n",
      "\n",
      "1. Start by analyzing the `question` to determine what specific information you need.\n",
      "2. Use the `search_wikipedia` tool to look up relevant details related to the question. When doing so, provide a clear and concise query in the `next_tool_args`.\n",
      "3. After receiving observations from the tool, update your `trajectory` with the new information.\n",
      "4. Based on the observations, generate a `next_thought` that reflects your reasoning about the current situation and what further information may be needed.\n",
      "5. If you have gathered enough information to answer the question, select the `finish` tool to complete the task. Otherwise, continue to interleave your reasoning and tool selections until the task is complete.\n",
      "\n",
      "Remember to be thorough in your information gathering, and ensure that each step logically follows from the previous one. Your goal is to provide a well-informed and accurate answer to the question posed.\n",
      "p: Next Tool Args:\n",
      "Predictor 1\n",
      "i: You are an Agent tasked with answering critical questions that could influence business decisions. In each episode, you will receive a question regarding notable individuals or companies, and you will have access to a trajectory of previous thoughts and actions. Your goal is to gather accurate and concise information using the provided tools. You must reason step-by-step, utilizing the search tool to find relevant information and determining when you have enough data to formulate a final answer. Remember, the stakes are high: the accuracy of your answers could affect significant business operations. \n",
      "\n",
      "For example, if the question is about which individual's family had their own reality TV show, you must confirm facts about Robert Kardashian and Manvel Gamburyan, ensuring your final answer is precise. Use the search tool effectively and think critically about each step before concluding. \n",
      "\n",
      "Now, begin with the provided question and trajectory, and follow the structured reasoning process to deliver your answer.\n",
      "p: Answer:\n",
      "\n",
      "\n",
      "  0%|          | 0/8 [00:00<?, ?it/s]"
     ]
    },
    {
     "name": "stderr",
     "output_type": "stream",
     "text": [
      "OPIK: Started logging traces to the \"optimize-workshop-2025\" project at https://www.comet.com/opik/api/v1/session/redirect/projects/?trace_id=01974127-1ea2-7bf5-8ae9-992db7da3d10&path=aHR0cHM6Ly93d3cuY29tZXQuY29tL29waWsvYXBpLw==.\n",
      "OPIK: Started logging traces to the \"optimize-workshop-2025\" project at https://www.comet.com/opik/api/v1/session/redirect/projects/?trace_id=01974127-1ece-765f-ab4f-d9414b55cdbe&path=aHR0cHM6Ly93d3cuY29tZXQuY29tL29waWsvYXBpLw==.\n",
      "OPIK: Started logging traces to the \"Default Project\" project at https://www.comet.com/opik/api/v1/session/redirect/projects/?trace_id=01974127-2297-7e4b-9efc-121d9767564e&path=aHR0cHM6Ly93d3cuY29tZXQuY29tL29waWsvYXBpLw==.\n",
      "OPIK: Started logging traces to the \"Default Project\" project at https://www.comet.com/opik/api/v1/session/redirect/projects/?trace_id=01974127-2299-7132-b240-645e8005bfe6&path=aHR0cHM6Ly93d3cuY29tZXQuY29tL29waWsvYXBpLw==.\n"
     ]
    },
    {
     "name": "stdout",
     "output_type": "stream",
     "text": [
      "Average Metric: 1.52 / 2 (75.9%):  12%|█▎        | 1/8 [00:00<00:06,  1.02it/s] "
     ]
    },
    {
     "name": "stderr",
     "output_type": "stream",
     "text": [
      "OPIK: Started logging traces to the \"optimize-workshop-2025\" project at https://www.comet.com/opik/api/v1/session/redirect/projects/?trace_id=01974127-1e88-7a85-a398-5339a9738b76&path=aHR0cHM6Ly93d3cuY29tZXQuY29tL29waWsvYXBpLw==.\n",
      "OPIK: Started logging traces to the \"Default Project\" project at https://www.comet.com/opik/api/v1/session/redirect/projects/?trace_id=01974127-2660-762a-aa2b-f7daaf184ef4&path=aHR0cHM6Ly93d3cuY29tZXQuY29tL29waWsvYXBpLw==.\n"
     ]
    },
    {
     "name": "stdout",
     "output_type": "stream",
     "text": [
      "Average Metric: 1.85 / 3 (61.5%):  38%|███▊      | 3/8 [00:01<00:03,  1.63it/s]"
     ]
    },
    {
     "name": "stderr",
     "output_type": "stream",
     "text": [
      "OPIK: Started logging traces to the \"optimize-workshop-2025\" project at https://www.comet.com/opik/api/v1/session/redirect/projects/?trace_id=01974127-1e92-769b-9451-2aa82b635126&path=aHR0cHM6Ly93d3cuY29tZXQuY29tL29waWsvYXBpLw==.\n",
      "OPIK: Started logging traces to the \"optimize-workshop-2025\" project at https://www.comet.com/opik/api/v1/session/redirect/projects/?trace_id=01974127-1ed1-7ee7-ba37-624ae933090b&path=aHR0cHM6Ly93d3cuY29tZXQuY29tL29waWsvYXBpLw==.\n",
      "OPIK: Started logging traces to the \"Default Project\" project at https://www.comet.com/opik/api/v1/session/redirect/projects/?trace_id=01974127-2694-797c-96b7-32c10e6181eb&path=aHR0cHM6Ly93d3cuY29tZXQuY29tL29waWsvYXBpLw==.\n"
     ]
    },
    {
     "name": "stdout",
     "output_type": "stream",
     "text": [
      "Average Metric: 2.12 / 5 (42.3%):  50%|█████     | 4/8 [00:01<00:02,  1.63it/s]"
     ]
    },
    {
     "name": "stderr",
     "output_type": "stream",
     "text": [
      "OPIK: Started logging traces to the \"optimize-workshop-2025\" project at https://www.comet.com/opik/api/v1/session/redirect/projects/?trace_id=01974127-1eb4-7bcb-a7bc-90e8d9ef50c7&path=aHR0cHM6Ly93d3cuY29tZXQuY29tL29waWsvYXBpLw==.\n",
      "OPIK: Started logging traces to the \"Default Project\" project at https://www.comet.com/opik/api/v1/session/redirect/projects/?trace_id=01974127-2a4b-70b9-aea6-f9b82a573a9a&path=aHR0cHM6Ly93d3cuY29tZXQuY29tL29waWsvYXBpLw==.\n"
     ]
    },
    {
     "name": "stdout",
     "output_type": "stream",
     "text": [
      "Average Metric: 2.85 / 6 (47.5%):  75%|███████▌  | 6/8 [00:02<00:00,  2.26it/s]"
     ]
    },
    {
     "name": "stderr",
     "output_type": "stream",
     "text": [
      "OPIK: Started logging traces to the \"optimize-workshop-2025\" project at https://www.comet.com/opik/api/v1/session/redirect/projects/?trace_id=01974127-1ed4-79d0-abf3-7d765a9e3d2c&path=aHR0cHM6Ly93d3cuY29tZXQuY29tL29waWsvYXBpLw==.\n",
      "OPIK: Started logging traces to the \"optimize-workshop-2025\" project at https://www.comet.com/opik/api/v1/session/redirect/projects/?trace_id=01974127-1ecb-74fe-b727-5ec2b0c4fb4a&path=aHR0cHM6Ly93d3cuY29tZXQuY29tL29waWsvYXBpLw==.\n",
      "OPIK: Started logging traces to the \"Default Project\" project at https://www.comet.com/opik/api/v1/session/redirect/projects/?trace_id=01974127-2a78-7b57-ad1f-16642aee6e24&path=aHR0cHM6Ly93d3cuY29tZXQuY29tL29waWsvYXBpLw==.\n"
     ]
    },
    {
     "name": "stdout",
     "output_type": "stream",
     "text": [
      "Average Metric: 3.11 / 7 (44.4%):  75%|███████▌  | 6/8 [00:02<00:00,  2.26it/s]"
     ]
    },
    {
     "name": "stderr",
     "output_type": "stream",
     "text": [
      "OPIK: Started logging traces to the \"Default Project\" project at https://www.comet.com/opik/api/v1/session/redirect/projects/?trace_id=01974127-2a7a-72b0-9c3c-e586b739d21e&path=aHR0cHM6Ly93d3cuY29tZXQuY29tL29waWsvYXBpLw==.\n"
     ]
    },
    {
     "name": "stdout",
     "output_type": "stream",
     "text": [
      "Average Metric: 4.11 / 8 (51.3%): 100%|██████████| 8/8 [00:02<00:00,  2.67it/s]\n",
      "Score: 51.34 with parameters ['Predictor 0: Instruction 2', 'Predictor 0: Few-Shot Set 2', 'Predictor 1: Instruction 1', 'Predictor 1: Few-Shot Set 0'].\n",
      "Scores so far: [0.5286088270433622, 23.92, 16.65, 57.28, 51.34, 21.59, 51.34]\n",
      "Best score so far: 57.28\n",
      "=======================\n",
      "\n",
      "\n",
      "===== Trial 8 / 7 =====\n",
      "Evaluating the following candidate program...\n",
      "\n",
      "Predictor 0\n",
      "i: You are a crucial agent in a high-stakes trivia competition where the accuracy of your answers can lead to significant rewards. Each round, you will receive a challenging question that requires precise and factual information. Your task is to gather relevant details using the tools at your disposal and provide a well-reasoned answer.\n",
      "\n",
      "For each question, you will be given the fields `question` and `trajectory` as inputs. Your objective is to utilize the `search_wikipedia` tool to retrieve necessary information or decide to finish the task when you have enough details to formulate your answer. \n",
      "\n",
      "Interleave your reasoning process with the selection of tools in each turn. After each tool call, append the resulting observations to your trajectory. \n",
      "\n",
      "Remember, your next steps should include:\n",
      "1. Generating a thoughtful next step based on your current knowledge and observations.\n",
      "2. Choosing the appropriate tool to gather further information or to conclude your task.\n",
      "\n",
      "Your final output should clearly present the answer to the question based on the information gathered. Good luck!\n",
      "p: Next Tool Args:\n",
      "Predictor 1\n",
      "i: Imagine you are an expert agent tasked with answering critical questions about notable individuals and companies in a high-stakes environment where accurate information is crucial. Your goal is to provide concise and factual answers to the questions posed. You will receive a question along with a trajectory of previous thoughts and tool interactions. Utilize the available tools effectively to gather necessary information, reason through the data, and articulate a well-informed answer. Remember, your responses could influence important decisions, so ensure clarity and precision in your reasoning and conclusions.\n",
      "p: Answer:\n",
      "\n",
      "\n",
      "  0%|          | 0/8 [00:00<?, ?it/s]"
     ]
    },
    {
     "name": "stderr",
     "output_type": "stream",
     "text": [
      "OPIK: Started logging traces to the \"optimize-workshop-2025\" project at https://www.comet.com/opik/api/v1/session/redirect/projects/?trace_id=01974127-2aaa-741c-ab9e-a130aaf1451c&path=aHR0cHM6Ly93d3cuY29tZXQuY29tL29waWsvYXBpLw==.\n",
      "OPIK: Started logging traces to the \"Default Project\" project at https://www.comet.com/opik/api/v1/session/redirect/projects/?trace_id=01974127-36a0-787a-9309-ded07ac05daf&path=aHR0cHM6Ly93d3cuY29tZXQuY29tL29waWsvYXBpLw==.\n"
     ]
    },
    {
     "name": "stdout",
     "output_type": "stream",
     "text": [
      "Average Metric: 0.27 / 1 (27.5%):  12%|█▎        | 1/8 [00:03<00:21,  3.07s/it]"
     ]
    },
    {
     "name": "stderr",
     "output_type": "stream",
     "text": [
      "OPIK: Started logging traces to the \"optimize-workshop-2025\" project at https://www.comet.com/opik/api/v1/session/redirect/projects/?trace_id=01974127-2a99-78b8-b40f-39526f9f6ec5&path=aHR0cHM6Ly93d3cuY29tZXQuY29tL29waWsvYXBpLw==.\n",
      "OPIK: Started logging traces to the \"Default Project\" project at https://www.comet.com/opik/api/v1/session/redirect/projects/?trace_id=01974127-3b76-7f44-9dee-c7704048fd3f&path=aHR0cHM6Ly93d3cuY29tZXQuY29tL29waWsvYXBpLw==.\n"
     ]
    },
    {
     "name": "stdout",
     "output_type": "stream",
     "text": [
      "Average Metric: 1.01 / 2 (50.4%):  25%|██▌       | 2/8 [00:04<00:11,  1.99s/it]"
     ]
    },
    {
     "name": "stderr",
     "output_type": "stream",
     "text": [
      "OPIK: Started logging traces to the \"optimize-workshop-2025\" project at https://www.comet.com/opik/api/v1/session/redirect/projects/?trace_id=01974127-2a82-7ea3-909b-5f9a29ae6e06&path=aHR0cHM6Ly93d3cuY29tZXQuY29tL29waWsvYXBpLw==.\n",
      "OPIK: Started logging traces to the \"Default Project\" project at https://www.comet.com/opik/api/v1/session/redirect/projects/?trace_id=01974127-3cc7-7930-a057-1dbe66ed1029&path=aHR0cHM6Ly93d3cuY29tZXQuY29tL29waWsvYXBpLw==.\n"
     ]
    },
    {
     "name": "stdout",
     "output_type": "stream",
     "text": [
      "Average Metric: 1.31 / 3 (43.6%):  38%|███▊      | 3/8 [00:04<00:06,  1.24s/it]"
     ]
    },
    {
     "name": "stderr",
     "output_type": "stream",
     "text": [
      "OPIK: Started logging traces to the \"optimize-workshop-2025\" project at https://www.comet.com/opik/api/v1/session/redirect/projects/?trace_id=01974127-2a86-784b-b52a-faba4b7ce9d7&path=aHR0cHM6Ly93d3cuY29tZXQuY29tL29waWsvYXBpLw==.\n",
      "OPIK: Started logging traces to the \"Default Project\" project at https://www.comet.com/opik/api/v1/session/redirect/projects/?trace_id=01974127-3d1b-756a-93a7-55b9e0edbcef&path=aHR0cHM6Ly93d3cuY29tZXQuY29tL29waWsvYXBpLw==.\n"
     ]
    },
    {
     "name": "stdout",
     "output_type": "stream",
     "text": [
      "Average Metric: 1.47 / 4 (36.9%):  38%|███▊      | 3/8 [00:04<00:06,  1.24s/it]"
     ]
    },
    {
     "name": "stderr",
     "output_type": "stream",
     "text": [
      "OPIK: Started logging traces to the \"optimize-workshop-2025\" project at https://www.comet.com/opik/api/v1/session/redirect/projects/?trace_id=01974127-2ab0-7c9a-b06c-cf903b08a0f8&path=aHR0cHM6Ly93d3cuY29tZXQuY29tL29waWsvYXBpLw==.\n",
      "OPIK: Started logging traces to the \"Default Project\" project at https://www.comet.com/opik/api/v1/session/redirect/projects/?trace_id=01974127-3dcf-7a44-b4ae-169d31e79a8a&path=aHR0cHM6Ly93d3cuY29tZXQuY29tL29waWsvYXBpLw==.\n"
     ]
    },
    {
     "name": "stdout",
     "output_type": "stream",
     "text": [
      "Average Metric: 1.59 / 5 (31.7%):  62%|██████▎   | 5/8 [00:04<00:01,  1.64it/s]"
     ]
    },
    {
     "name": "stderr",
     "output_type": "stream",
     "text": [
      "OPIK: Started logging traces to the \"optimize-workshop-2025\" project at https://www.comet.com/opik/api/v1/session/redirect/projects/?trace_id=01974127-2a97-7c76-a405-25311039272d&path=aHR0cHM6Ly93d3cuY29tZXQuY29tL29waWsvYXBpLw==.\n",
      "OPIK: Started logging traces to the \"Default Project\" project at https://www.comet.com/opik/api/v1/session/redirect/projects/?trace_id=01974127-3e1a-7f1a-a257-176eb594acda&path=aHR0cHM6Ly93d3cuY29tZXQuY29tL29waWsvYXBpLw==.\n"
     ]
    },
    {
     "name": "stdout",
     "output_type": "stream",
     "text": [
      "Average Metric: 2.59 / 6 (43.1%):  62%|██████▎   | 5/8 [00:04<00:01,  1.64it/s]"
     ]
    },
    {
     "name": "stderr",
     "output_type": "stream",
     "text": [
      "OPIK: Started logging traces to the \"optimize-workshop-2025\" project at https://www.comet.com/opik/api/v1/session/redirect/projects/?trace_id=01974127-2aa4-7b3f-8b72-5079013f3abb&path=aHR0cHM6Ly93d3cuY29tZXQuY29tL29waWsvYXBpLw==.\n",
      "OPIK: Started logging traces to the \"Default Project\" project at https://www.comet.com/opik/api/v1/session/redirect/projects/?trace_id=01974127-4016-7209-9167-d8869e196f1b&path=aHR0cHM6Ly93d3cuY29tZXQuY29tL29waWsvYXBpLw==.\n"
     ]
    },
    {
     "name": "stdout",
     "output_type": "stream",
     "text": [
      "Average Metric: 2.80 / 7 (40.0%):  88%|████████▊ | 7/8 [00:05<00:00,  2.14it/s]"
     ]
    },
    {
     "name": "stderr",
     "output_type": "stream",
     "text": [
      "OPIK: Started logging traces to the \"optimize-workshop-2025\" project at https://www.comet.com/opik/api/v1/session/redirect/projects/?trace_id=01974127-2ab2-7cb3-a237-a922a9b069a1&path=aHR0cHM6Ly93d3cuY29tZXQuY29tL29waWsvYXBpLw==.\n",
      "OPIK: Started logging traces to the \"Default Project\" project at https://www.comet.com/opik/api/v1/session/redirect/projects/?trace_id=01974127-4326-753a-9779-764fe30e1c90&path=aHR0cHM6Ly93d3cuY29tZXQuY29tL29waWsvYXBpLw==.\n"
     ]
    },
    {
     "name": "stdout",
     "output_type": "stream",
     "text": [
      "Average Metric: 3.80 / 8 (47.5%): 100%|██████████| 8/8 [00:06<00:00,  1.27it/s]\n",
      "Score: 47.53 with parameters ['Predictor 0: Instruction 1', 'Predictor 0: Few-Shot Set 1', 'Predictor 1: Instruction 2', 'Predictor 1: Few-Shot Set 0'].\n",
      "Scores so far: [0.5286088270433622, 23.92, 16.65, 57.28, 51.34, 21.59, 51.34, 47.53]\n",
      "Best score so far: 57.28\n",
      "=======================\n",
      "\n",
      "\n",
      "Returning best identified program with score 57.28!\n"
     ]
    }
   ],
   "source": [
    "task_config.tools = [search_wikipedia]\n",
    "\n",
    "result4 = optimizer.optimize_prompt(\n",
    "    dataset=opik_dataset,\n",
    "    metric=levenshtein_ratio,\n",
    "    task_config=task_config,\n",
    "    n_samples=10,\n",
    "    auto=\"light\",\n",
    ")"
   ]
  },
  {
   "cell_type": "code",
   "execution_count": 36,
   "metadata": {
    "colab": {
     "base_uri": "https://localhost:8080/",
     "height": 385
    },
    "id": "ymJPBGJE4AOd",
    "outputId": "151e9701-572d-4cf3-cfe0-cff5d8f5b281"
   },
   "outputs": [
    {
     "name": "stdout",
     "output_type": "stream",
     "text": [
      "\u001b[33m╔═\u001b[0m\u001b[33m════════════════════════════════════════════\u001b[0m\u001b[33m \u001b[0m\u001b[1;33mOptimization Complete\u001b[0m\u001b[33m \u001b[0m\u001b[33m════════════════════════════════════════════\u001b[0m\u001b[33m═╗\u001b[0m\n",
      "\u001b[33m║\u001b[0m                                                                                                                 \u001b[33m║\u001b[0m\n",
      "\u001b[33m║\u001b[0m \u001b[2mOptimizer:        \u001b[0m\u001b[2m \u001b[0m\u001b[1mMiproOptimizer\u001b[0m                                                                               \u001b[33m║\u001b[0m\n",
      "\u001b[33m║\u001b[0m \u001b[2mModel Used:       \u001b[0m\u001b[2m \u001b[0m\u001b[2mN/A\u001b[0m (\u001b[2mTemp:\u001b[0m \u001b[2mN/A\u001b[0m)                                                                              \u001b[33m║\u001b[0m\n",
      "\u001b[33m║\u001b[0m \u001b[2mMetric Evaluated: \u001b[0m\u001b[2m \u001b[0m\u001b[1mlevenshtein_ratio\u001b[0m                                                                            \u001b[33m║\u001b[0m\n",
      "\u001b[33m║\u001b[0m \u001b[2mInitial Score:    \u001b[0m\u001b[2m \u001b[0m\u001b[2mN/A\u001b[0m                                                                                          \u001b[33m║\u001b[0m\n",
      "\u001b[33m║\u001b[0m \u001b[2mFinal Best Score: \u001b[0m\u001b[2m \u001b[0m\u001b[1;36m0.5728\u001b[0m                                                                                       \u001b[33m║\u001b[0m\n",
      "\u001b[33m║\u001b[0m \u001b[2mTotal Improvement:\u001b[0m\u001b[2m \u001b[0m\u001b[2mN/A (no initial score)\u001b[0m                                                                       \u001b[33m║\u001b[0m\n",
      "\u001b[33m║\u001b[0m \u001b[2mRounds Completed: \u001b[0m\u001b[2m \u001b[0m0                                                                                            \u001b[33m║\u001b[0m\n",
      "\u001b[33m║\u001b[0m \u001b[2mStopped Early:    \u001b[0m\u001b[2m \u001b[0mN/A                                                                                          \u001b[33m║\u001b[0m\n",
      "\u001b[33m║\u001b[0m                                                                                                                 \u001b[33m║\u001b[0m\n",
      "\u001b[33m║\u001b[0m                                                                                                                 \u001b[33m║\u001b[0m\n",
      "\u001b[33m║\u001b[0m \u001b[34m╭─\u001b[0m\u001b[34m─────────────────────────────────────────\u001b[0m\u001b[34m \u001b[0m\u001b[1;34mFinal Optimized Prompt\u001b[0m\u001b[34m \u001b[0m\u001b[34m──────────────────────────────────────────\u001b[0m\u001b[34m─╮\u001b[0m \u001b[33m║\u001b[0m\n",
      "\u001b[33m║\u001b[0m \u001b[34m│\u001b[0m                                                                                                             \u001b[34m│\u001b[0m \u001b[33m║\u001b[0m\n",
      "\u001b[33m║\u001b[0m \u001b[34m│\u001b[0m  \u001b[1;35mSystem:\u001b[0m You are a crucial agent in a high-stakes trivia competition where the accuracy of your answers     \u001b[34m│\u001b[0m \u001b[33m║\u001b[0m\n",
      "\u001b[33m║\u001b[0m \u001b[34m│\u001b[0m  can lead to significant rewards. Each round, you will receive a challenging question that requires         \u001b[34m│\u001b[0m \u001b[33m║\u001b[0m\n",
      "\u001b[33m║\u001b[0m \u001b[34m│\u001b[0m  precise and factual information. Your task is to gather relevant details using the tools at your disposal  \u001b[34m│\u001b[0m \u001b[33m║\u001b[0m\n",
      "\u001b[33m║\u001b[0m \u001b[34m│\u001b[0m  and provide a well-reasoned answer.                                                                        \u001b[34m│\u001b[0m \u001b[33m║\u001b[0m\n",
      "\u001b[33m║\u001b[0m \u001b[34m│\u001b[0m                                                                                                             \u001b[34m│\u001b[0m \u001b[33m║\u001b[0m\n",
      "\u001b[33m║\u001b[0m \u001b[34m│\u001b[0m  For each question, you will be given the fields `question` and `trajectory` as inputs. Your objective is   \u001b[34m│\u001b[0m \u001b[33m║\u001b[0m\n",
      "\u001b[33m║\u001b[0m \u001b[34m│\u001b[0m  to utilize the `search_wikipedia` tool to retrieve necessary information or decide to finish the task      \u001b[34m│\u001b[0m \u001b[33m║\u001b[0m\n",
      "\u001b[33m║\u001b[0m \u001b[34m│\u001b[0m  when you have enough details to formulate your answer.                                                     \u001b[34m│\u001b[0m \u001b[33m║\u001b[0m\n",
      "\u001b[33m║\u001b[0m \u001b[34m│\u001b[0m                                                                                                             \u001b[34m│\u001b[0m \u001b[33m║\u001b[0m\n",
      "\u001b[33m║\u001b[0m \u001b[34m│\u001b[0m  Interleave your reasoning process with the selection of tools in each turn. After each tool call, append   \u001b[34m│\u001b[0m \u001b[33m║\u001b[0m\n",
      "\u001b[33m║\u001b[0m \u001b[34m│\u001b[0m  the resulting observations to your trajectory.                                                             \u001b[34m│\u001b[0m \u001b[33m║\u001b[0m\n",
      "\u001b[33m║\u001b[0m \u001b[34m│\u001b[0m                                                                                                             \u001b[34m│\u001b[0m \u001b[33m║\u001b[0m\n",
      "\u001b[33m║\u001b[0m \u001b[34m│\u001b[0m  Remember, your next steps should include:                                                                  \u001b[34m│\u001b[0m \u001b[33m║\u001b[0m\n",
      "\u001b[33m║\u001b[0m \u001b[34m│\u001b[0m  1. Generating a thoughtful next step based on your current knowledge and observations.                     \u001b[34m│\u001b[0m \u001b[33m║\u001b[0m\n",
      "\u001b[33m║\u001b[0m \u001b[34m│\u001b[0m  2. Choosing the appropriate tool to gather further information or to conclude your task.                   \u001b[34m│\u001b[0m \u001b[33m║\u001b[0m\n",
      "\u001b[33m║\u001b[0m \u001b[34m│\u001b[0m                                                                                                             \u001b[34m│\u001b[0m \u001b[33m║\u001b[0m\n",
      "\u001b[33m║\u001b[0m \u001b[34m│\u001b[0m  Your final output should clearly present the answer to the question based on the information gathered.     \u001b[34m│\u001b[0m \u001b[33m║\u001b[0m\n",
      "\u001b[33m║\u001b[0m \u001b[34m│\u001b[0m  Good luck!                                                                                                 \u001b[34m│\u001b[0m \u001b[33m║\u001b[0m\n",
      "\u001b[33m║\u001b[0m \u001b[34m│\u001b[0m  ---                                                                                                        \u001b[34m│\u001b[0m \u001b[33m║\u001b[0m\n",
      "\u001b[33m║\u001b[0m \u001b[34m│\u001b[0m                                                                                                             \u001b[34m│\u001b[0m \u001b[33m║\u001b[0m\n",
      "\u001b[33m║\u001b[0m \u001b[34m╰─────────────────────────────────────────────────────────────────────────────────────────────────────────────╯\u001b[0m \u001b[33m║\u001b[0m\n",
      "\u001b[33m║\u001b[0m                                                                                                                 \u001b[33m║\u001b[0m\n",
      "\u001b[33m╚═════════════════════════════════════════════════════════════════════════════════════════════════════════════════╝\u001b[0m\n"
     ]
    }
   ],
   "source": [
    "result4.display()"
   ]
  },
  {
   "cell_type": "code",
   "execution_count": 37,
   "metadata": {
    "colab": {
     "base_uri": "https://localhost:8080/"
    },
    "id": "a2JE4hd7E9oF",
    "outputId": "2c3df8f0-418f-4003-e3cd-2dfba9162471"
   },
   "outputs": [
    {
     "data": {
      "text/plain": [
       "[{'id': '0197044c-d734-70e8-8ce6-69acdd03e2d4',\n",
       "  'question': \"Rectrix Aviation's jet charter business involves what service?\",\n",
       "  'answer': 'renting an entire aircraft',\n",
       "  'dspy_uuid': 'ee037613-de5a-44a1-acf2-9dbcfa7a76e2',\n",
       "  'dspy_split': 'train'},\n",
       " {'id': '0197044c-d71d-7be5-8188-c334019ba38e',\n",
       "  'question': 'whos family had their own reality tv show. Robert Kardashian or Manvel Gamburyan?',\n",
       "  'answer': 'their family reality television series',\n",
       "  'dspy_uuid': 'ed124b43-ddcd-4ea3-a3af-6a9a2b722e6a',\n",
       "  'dspy_split': 'train'}]"
      ]
     },
     "execution_count": 37,
     "metadata": {},
     "output_type": "execute_result"
    }
   ],
   "source": [
    "result4.demonstrations"
   ]
  },
  {
   "cell_type": "markdown",
   "metadata": {
    "id": "J7bVb_Pp9TUb"
   },
   "source": [
    "## Using Optimized Prompts\n",
    "\n",
    "Recall:\n",
    "\n",
    "1. result1 - FewShotBayesianOptimizer\n",
    "2. result2 - MetaPromptOptimizer\n",
    "3. result3 - MiproOptimizer (no tools)\n",
    "4. result4 - MiproOptimizer (with search_wikipedia)\n",
    "\n",
    "How can we use the optimized results?\n",
    "\n",
    "For the first one, recall that the fewshot examples are here:"
   ]
  },
  {
   "cell_type": "code",
   "execution_count": 38,
   "metadata": {
    "colab": {
     "base_uri": "https://localhost:8080/"
    },
    "id": "B2wAB29G5V7Y",
    "outputId": "3a8029a2-85b9-42bd-d7fd-f74c65395788"
   },
   "outputs": [
    {
     "data": {
      "text/plain": [
       "[{'role': 'system',\n",
       "  'content': 'Provide an answer to the question\\n\\n### Few Shot Examples\\nQuestion: What novel did an author who was featured in the Voices of Ghana and later became a journalist write?\\nAnswer: The Gab Boys\\n\\nQuestion: What were the dates of the campaign that eventually led to the Treaty of Roskilde?\\nAnswer: between 30 January and 8 February 1658\\n\\nQuestion: Are Wanding Town and Jiujiang, Guangdong both frontier towns?\\nAnswer: no\\n\\nQuestion: The Knicks–Nuggets was the most penalized on-court fight in the NBA since an altercation that occured in what city?\\nAnswer: Auburn Hills'},\n",
       " {'role': 'user', 'content': '{answer}'}]"
      ]
     },
     "execution_count": 38,
     "metadata": {},
     "output_type": "execute_result"
    }
   ],
   "source": [
    "result1.details[\"chat_messages\"]"
   ]
  },
  {
   "cell_type": "markdown",
   "metadata": {
    "id": "6uWZEjWTFcpJ"
   },
   "source": [
    "So, once we have those we can do the following:"
   ]
  },
  {
   "cell_type": "code",
   "execution_count": 39,
   "metadata": {
    "id": "-wOD7oca9gjs"
   },
   "outputs": [],
   "source": [
    "from litellm.integrations.opik.opik import OpikLogger\n",
    "import litellm\n",
    "opik_logger = OpikLogger()\n",
    "litellm.callbacks = [opik_logger]\n",
    "\n",
    "def query(question, chat_messages):\n",
    "    messages = chat_messages[:-1] # Cut off the last one\n",
    "    # replace it with question in proper format:\n",
    "    messages.append({'role': 'user', 'content': '{\"question\": \"%s\"}\"}' % question})\n",
    "\n",
    "    response = litellm.completion(\n",
    "        model=\"gpt-4o-mini\",\n",
    "        temperature=0.1,\n",
    "        max_tokens=5000,\n",
    "        messages=messages,\n",
    "    )\n",
    "    return response.choices[0].message.content"
   ]
  },
  {
   "cell_type": "code",
   "execution_count": 40,
   "metadata": {
    "colab": {
     "base_uri": "https://localhost:8080/",
     "height": 35
    },
    "id": "2nu5Tqdl9wa8",
    "outputId": "6612a8a2-5ff5-419c-8396-0e5605edcf3a"
   },
   "outputs": [
    {
     "data": {
      "text/plain": [
       "'Answer: April 20, 1966'"
      ]
     },
     "execution_count": 40,
     "metadata": {},
     "output_type": "execute_result"
    }
   ],
   "source": [
    "query(\"When was David Chalmers born?\", result1.details[\"chat_messages\"])"
   ]
  },
  {
   "cell_type": "code",
   "execution_count": 41,
   "metadata": {
    "colab": {
     "base_uri": "https://localhost:8080/",
     "height": 35
    },
    "id": "xI3mOXQ4_btf",
    "outputId": "9b9cc5c6-ee0e-425b-b029-7e53c527cfc9"
   },
   "outputs": [
    {
     "data": {
      "text/plain": [
       "'Answer: A baby elephant typically weighs more than an SUV.'"
      ]
     },
     "execution_count": 41,
     "metadata": {},
     "output_type": "execute_result"
    }
   ],
   "source": [
    "query(\"What weighs more: a baby elephant or an SUV?\", result1.details[\"chat_messages\"])"
   ]
  },
  {
   "cell_type": "markdown",
   "metadata": {
    "id": "2x0JkiYhFsQq"
   },
   "source": [
    "If it says \"elephant\" that is not correct!\n",
    "\n",
    "Let's try that same question with a tool:"
   ]
  },
  {
   "cell_type": "code",
   "execution_count": 42,
   "metadata": {
    "colab": {
     "base_uri": "https://localhost:8080/",
     "height": 35
    },
    "id": "77JY1iG3ANCM",
    "outputId": "8d9527ac-6660-4911-e021-bf9fe71f7dfd"
   },
   "outputs": [
    {
     "name": "stderr",
     "output_type": "stream",
     "text": [
      "OPIK: Started logging traces to the \"optimize-workshop-2025\" project at https://www.comet.com/opik/api/v1/session/redirect/projects/?trace_id=019745a0-8fa4-7754-892b-14c7616f85f2&path=aHR0cHM6Ly93d3cuY29tZXQuY29tL29waWsvYXBpLw==.\n"
     ]
    },
    {
     "data": {
      "text/plain": [
       "'An SUV weighs more than a baby elephant.'"
      ]
     },
     "execution_count": 42,
     "metadata": {},
     "output_type": "execute_result"
    }
   ],
   "source": [
    "result = result4.details[\"program\"](question=\"What weighs more: a baby elephant or an SUV?\")\n",
    "result.answer"
   ]
  },
  {
   "cell_type": "markdown",
   "metadata": {
    "id": "1Zw5UhcCF3lm"
   },
   "source": [
    "Well done optimizer!\n",
    "\n",
    "We'll now head back to the slides to summarize the workshop."
   ]
  },
  {
   "cell_type": "markdown",
   "metadata": {
    "id": "uSDJ1bFx51kd"
   },
   "source": [
    "# Resources\n",
    "\n",
    "1. [Opik Optimizer Workshop Slides](https://bit.ly/opik-optimizer-dsblank-slides)"
   ]
  }
 ],
 "metadata": {
  "colab": {
   "provenance": []
  },
  "kernelspec": {
   "display_name": "py312_llm_eval",
   "language": "python",
   "name": "python3"
  },
  "language_info": {
   "codemirror_mode": {
    "name": "ipython",
    "version": 3
   },
   "file_extension": ".py",
   "mimetype": "text/x-python",
   "name": "python",
   "nbconvert_exporter": "python",
   "pygments_lexer": "ipython3",
   "version": "3.12.4"
  }
 },
 "nbformat": 4,
 "nbformat_minor": 4
}
