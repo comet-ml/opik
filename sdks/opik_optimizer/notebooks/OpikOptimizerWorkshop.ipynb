{
 "cells": [
  {
   "cell_type": "markdown",
   "metadata": {
    "id": "NTaMBjChz7m5"
   },
   "source": [
    "# Smarter Prompting, Faster: Introducing Opik's Agent Optimizers\n",
    "\n",
    "Doug Blank, Phd\n",
    "\n",
    "* Slides are available at: [bit.ly/opik-optimizer-dsblank-slides](https://bit.ly/opik-optimizer-dsblank-slides)\n",
    "* This notebook is available at: [bit.ly/opik-optimizer-dsblank](https://bit.ly/opik-optimizer-dsblank)\n",
    "\n",
    "You will need:\n",
    "1. A Google account, for running a Colab Notebook  - [google.com](https://google.com)\n",
    "2. A Comet account, for seeing Opik visualizations (free!) - [comet.com](https://comet.com)\n",
    "3. An OpenAI account, for using an LLM\n",
    "[platform.openai.com/settings/organization/api-keys](https://platform.openai.com/settings/organization/api-keys)\n"
   ]
  },
  {
   "cell_type": "markdown",
   "metadata": {
    "id": "yM1lU0dBBnJs"
   },
   "source": [
    "## Setup\n",
    "\n",
    "This pip-install takes about a minute."
   ]
  },
  {
   "cell_type": "code",
   "execution_count": 2,
   "metadata": {
    "id": "2Tx6HwuU1rB4"
   },
   "outputs": [],
   "source": [
    "%%capture\n",
    "%pip install opik-optimizer"
   ]
  },
  {
   "cell_type": "code",
   "execution_count": 3,
   "metadata": {
    "colab": {
     "base_uri": "https://localhost:8080/",
     "height": 35
    },
    "id": "pVgkLU3v2KD8",
    "outputId": "a0b1e0ca-116b-413d-c4ad-24e42ca701a8"
   },
   "outputs": [
    {
     "data": {
      "text/plain": [
       "'0.8.1'"
      ]
     },
     "execution_count": 3,
     "metadata": {},
     "output_type": "execute_result"
    }
   ],
   "source": [
    "import opik_optimizer\n",
    "opik_optimizer.__version__"
   ]
  },
  {
   "cell_type": "code",
   "execution_count": 4,
   "metadata": {
    "colab": {
     "base_uri": "https://localhost:8080/"
    },
    "id": "H0DNm-un_0Np",
    "outputId": "f2ec2b5a-62bb-4df4-a28a-2ece4092de7e"
   },
   "outputs": [
    {
     "name": "stderr",
     "output_type": "stream",
     "text": [
      "OPIK: Opik is already configured. You can check the settings by viewing the config file at /Users/jacquesverre/.opik.config\n"
     ]
    }
   ],
   "source": [
    "import opik\n",
    "\n",
    "# Configure Opik\n",
    "opik.configure()"
   ]
  },
  {
   "cell_type": "code",
   "execution_count": 5,
   "metadata": {
    "colab": {
     "base_uri": "https://localhost:8080/"
    },
    "id": "vN72mHQy_7Ou",
    "outputId": "3771ff38-413b-4238-8622-d109eee3a496"
   },
   "outputs": [],
   "source": [
    "import os\n",
    "import getpass\n",
    "if \"OPENAI_API_KEY\" not in os.environ:\n",
    "    os.environ[\"OPENAI_API_KEY\"] = getpass.getpass(\"Enter your OpenAI API key: \")"
   ]
  },
  {
   "cell_type": "markdown",
   "metadata": {
    "id": "lPe_J8388M4K"
   },
   "source": [
    "To save time (and money) durring this demonstration, we have capture the results of a previous run of all of these LLM interactions. Our goal is to make this not cost any money. However, we of course can guarantee that. **Use at your own risk**!\n",
    "\n",
    "To capture the perviously cached results:"
   ]
  },
  {
   "cell_type": "code",
   "execution_count": 6,
   "metadata": {
    "colab": {
     "base_uri": "https://localhost:8080/"
    },
    "id": "1ru08pDwh3PI",
    "outputId": "9add88cc-0afa-4a84-b88e-44cfcc809fab"
   },
   "outputs": [
    {
     "name": "stdout",
     "output_type": "stream",
     "text": [
      "Inserted 0 record(s) in litellm cache\n"
     ]
    }
   ],
   "source": [
    "from opik_optimizer.demo.cache import get_litellm_cache\n",
    "\n",
    "get_litellm_cache(\"opik-workshop\")"
   ]
  },
  {
   "cell_type": "markdown",
   "metadata": {
    "id": "zVK_KLEXbyqu"
   },
   "source": [
    "## The Dataset\n",
    "\n",
    "In these set of experiments, we are going to use the **HotPotQA** dataset. This dataset was designed to be difficult for regular LLMs to handle. This dataset is called a \"**multi-hop**\" dataset because answering the questions involves multiple reasoning steps and multiple tool calls, where the LLM needs to infer relationships, combine information, or draw conclusions based on the combined context.\n",
    "\n",
    "Example:\n",
    "\n",
    "> \"What are the capitals of the states that border California?\"\n",
    "\n",
    "You'd need to find which states border California, and then lookup each state's capital.\n",
    "\n",
    "The dataset has about 113,000 such crowd-sourced questions that are constructed to require the introductory paragraphs of two Wikipedia articles to answer.\n",
    "\n",
    "[1] The name \"HotPot\" comes from the restaurant where the authors came up with the idea of the dataset."
   ]
  },
  {
   "cell_type": "code",
   "execution_count": 7,
   "metadata": {
    "id": "4gCj_2M3A37D"
   },
   "outputs": [],
   "source": [
    "import opik_optimizer\n",
    "\n",
    "opik_dataset = opik_optimizer.datasets.hotpot_300()"
   ]
  },
  {
   "cell_type": "markdown",
   "metadata": {
    "id": "YvqslJnA9RMQ"
   },
   "source": [
    "Let's take a look at some dataset items:"
   ]
  },
  {
   "cell_type": "code",
   "execution_count": 8,
   "metadata": {
    "colab": {
     "base_uri": "https://localhost:8080/"
    },
    "id": "KGZoscWiBInJ",
    "outputId": "5f8c0099-4475-4d2d-b5ed-3a2ca693261e"
   },
   "outputs": [
    {
     "data": {
      "text/plain": [
       "{'id': '0197044c-d782-7735-a8cf-bffd4d19838e',\n",
       " 'question': 'Are Smyrnium and Nymania both types of plant?',\n",
       " 'answer': 'yes'}"
      ]
     },
     "execution_count": 8,
     "metadata": {},
     "output_type": "execute_result"
    }
   ],
   "source": [
    "rows = opik_dataset.get_items()\n",
    "rows[0]"
   ]
  },
  {
   "cell_type": "code",
   "execution_count": 9,
   "metadata": {
    "colab": {
     "base_uri": "https://localhost:8080/"
    },
    "id": "8MQC4TllBKgT",
    "outputId": "901c178f-c9f1-4c9f-9223-ec6e90352f89"
   },
   "outputs": [
    {
     "data": {
      "text/plain": [
       "{'id': '0197044c-d781-7eb0-a717-6fd6b1415476',\n",
       " 'question': 'That Darn Cat! and Never a Dull Moment were both produced by what studio?',\n",
       " 'answer': 'Walt Disney Productions'}"
      ]
     },
     "execution_count": 9,
     "metadata": {},
     "output_type": "execute_result"
    }
   ],
   "source": [
    "rows[1]"
   ]
  },
  {
   "cell_type": "markdown",
   "metadata": {
    "id": "feVF8adydeyH"
   },
   "source": [
    "## Opik Project\n",
    "\n",
    "All LLM traces in Opik are saved in a \"project\". We'll put them all in the following project name:"
   ]
  },
  {
   "cell_type": "code",
   "execution_count": 10,
   "metadata": {
    "id": "gTTZ5apsPgUg"
   },
   "outputs": [],
   "source": [
    "project_name = \"optimize-workshop-2025\""
   ]
  },
  {
   "cell_type": "markdown",
   "metadata": {
    "id": "VEEHnyrcdjVw"
   },
   "source": [
    "## The Metric\n",
    "\n",
    "Choosing a good metric for optimization is tricky. For these examples, we'll pick one that will allow us to show improvement, and also provide a gradient of scores. In general though, this metric isn't the best for optimization runs.\n",
    "\n",
    "We'll use \"Edit Distance\" AKA \"Levenshtein Distance\":"
   ]
  },
  {
   "cell_type": "code",
   "execution_count": 11,
   "metadata": {
    "id": "T3BKOXxPOpkI"
   },
   "outputs": [],
   "source": [
    "from opik.evaluation.metrics import LevenshteinRatio\n",
    "\n",
    "metric = LevenshteinRatio(project_name=project_name)"
   ]
  },
  {
   "cell_type": "markdown",
   "metadata": {
    "id": "BF9czV9Ue02R"
   },
   "source": [
    "The metric takes two things: the output of the LLM and the reference (correct answer)."
   ]
  },
  {
   "cell_type": "code",
   "execution_count": 12,
   "metadata": {
    "colab": {
     "base_uri": "https://localhost:8080/"
    },
    "id": "_hMQuJsSexkD",
    "outputId": "34afc45b-9743-4244-9efb-6816bce499a4"
   },
   "outputs": [
    {
     "name": "stderr",
     "output_type": "stream",
     "text": [
      "OPIK: Started logging traces to the \"optimize-workshop-2025\" project at https://www.comet.com/opik/api/v1/session/redirect/projects/?trace_id=0197406b-3128-787c-8d18-1d9138daee1a&path=aHR0cHM6Ly93d3cuY29tZXQuY29tL29waWsvYXBpLw==.\n"
     ]
    },
    {
     "data": {
      "text/plain": [
       "ScoreResult(name='levenshtein_ratio_metric', value=1.0, reason=None, metadata=None, scoring_failed=False)"
      ]
     },
     "execution_count": 12,
     "metadata": {},
     "output_type": "execute_result"
    }
   ],
   "source": [
    "metric.score(\"Hello\", \"Hello\")"
   ]
  },
  {
   "cell_type": "code",
   "execution_count": 13,
   "metadata": {
    "colab": {
     "base_uri": "https://localhost:8080/"
    },
    "id": "hNleaL5ZPLaA",
    "outputId": "87cf96e5-26bc-47a6-af67-71dd0b811d67"
   },
   "outputs": [
    {
     "data": {
      "text/plain": [
       "ScoreResult(name='levenshtein_ratio_metric', value=0.9090909090909091, reason=None, metadata=None, scoring_failed=False)"
      ]
     },
     "execution_count": 13,
     "metadata": {},
     "output_type": "execute_result"
    }
   ],
   "source": [
    "metric.score(\"Hello!\", \"Hello\")"
   ]
  },
  {
   "cell_type": "markdown",
   "metadata": {
    "id": "2eI1S-Q_-SwO"
   },
   "source": [
    "The edit distance between \"Hello!\" and \"Hello\" is 1. Here is how the .91 is computed:"
   ]
  },
  {
   "cell_type": "code",
   "execution_count": 14,
   "metadata": {
    "colab": {
     "base_uri": "https://localhost:8080/"
    },
    "id": "7YEltgab4jPs",
    "outputId": "807a9d36-ab5a-446f-921e-e714a018ec4a"
   },
   "outputs": [
    {
     "data": {
      "text/plain": [
       "0.9090909090909091"
      ]
     },
     "execution_count": 14,
     "metadata": {},
     "output_type": "execute_result"
    }
   ],
   "source": [
    "edit_distance = 1\n",
    "\n",
    "1 - edit_distance / (len(\"Hello1\") + len(\"Hello\"))\n"
   ]
  },
  {
   "cell_type": "markdown",
   "metadata": {
    "id": "p3gIizQt47AP"
   },
   "source": [
    "For more information see: [Levenshtein Distance](https://en.wikipedia.org/wiki/Levenshtein_distance)"
   ]
  },
  {
   "cell_type": "markdown",
   "metadata": {
    "id": "JarFSV9jb7jD"
   },
   "source": [
    "## Configuation\n",
    "\n",
    "To create the necessary configurations for using an Opik Optimizer, you'll need two things:\n",
    "\n",
    "1. An initial prompt\n",
    "2. A metric\n",
    "\n",
    "We're going to start with a pretty bad prompt... so we can optimize it!"
   ]
  },
  {
   "cell_type": "code",
   "execution_count": 15,
   "metadata": {
    "id": "xxDUfpvgPct7"
   },
   "outputs": [],
   "source": [
    "from opik_optimizer import ChatPrompt\n",
    "\n",
    "initial_prompt = ChatPrompt(\n",
    "    messages=[\n",
    "        {\"role\": \"system\", \"content\": \"Provide an answer to the question\"},\n",
    "        {\"role\": \"user\", \"content\": \"{answer}\"}\n",
    "    ]\n",
    ")"
   ]
  },
  {
   "cell_type": "markdown",
   "metadata": {
    "id": "Oia79J_e-vSY"
   },
   "source": [
    "The the two configurations:"
   ]
  },
  {
   "cell_type": "code",
   "execution_count": 16,
   "metadata": {
    "id": "ET_umnWdPmjm"
   },
   "outputs": [],
   "source": [
    "def levenshtein_ratio(dataset_item, llm_output):\n",
    "    metric = LevenshteinRatio()\n",
    "    return metric.score(reference=dataset_item['answer'], output=llm_output)"
   ]
  },
  {
   "cell_type": "markdown",
   "metadata": {
    "id": "2aDp9vjw5hIQ"
   },
   "source": [
    "As you can see the MetricConfig is composed of our chosen metric. In addition, we need to know what the inputs will be. The inputs here are actually the outputs from the LLM.\n",
    "\n",
    "We need two inputs for the metric:\n",
    "1. The output produced by the LLM (uses a special name)\n",
    "2. The correct answer (provided by the database item \"answer\")\n",
    "\n",
    "The TaskConfig defines how to process a prompt. We need the initial prompt, and the inputs and outputs of the dataset.\n",
    "\n",
    "In this case, we will use the chat_prompt format as our result."
   ]
  },
  {
   "cell_type": "markdown",
   "metadata": {
    "id": "VBNAMIglcVIo"
   },
   "source": [
    "## FewShotBayesianOptimizer\n",
    "\n",
    "The FewShotBayesianOptimizer name indicates two things:\n",
    "\n",
    "1. It will produce Chat Prompts, or FewShot examples as described in the slides.\n",
    "2. Secondly, it describes how it searches for the best set of these FewShot examples.\n",
    "\n",
    "To use this optimizer, we import it and create an instance, passing in the project name and model parameters:"
   ]
  },
  {
   "cell_type": "code",
   "execution_count": 17,
   "metadata": {
    "id": "EbaysjG1PRNd"
   },
   "outputs": [],
   "source": [
    "from opik_optimizer import (\n",
    "    FewShotBayesianOptimizer,\n",
    ")\n",
    "\n",
    "optimizer = FewShotBayesianOptimizer(\n",
    "    project_name=project_name,\n",
    "    model=\"openai/gpt-4o-mini\",\n",
    "    temperature=0.1,\n",
    "    max_tokens=5000,\n",
    ")"
   ]
  },
  {
   "cell_type": "markdown",
   "metadata": {
    "id": "zuZkkZqGWg4C"
   },
   "source": [
    "### Baseline\n",
    "\n",
    "Before we optimize this prompt (\"Provide an answer to the question\") let's see what the bare prompt does by itself on the dataset:"
   ]
  },
  {
   "cell_type": "code",
   "execution_count": 18,
   "metadata": {
    "colab": {
     "base_uri": "https://localhost:8080/",
     "height": 226,
     "referenced_widgets": []
    },
    "collapsed": true,
    "id": "fYEhqP2WP0B_",
    "jupyter": {
     "outputs_hidden": true
    },
    "outputId": "3a93252c-4cf7-48c9-f4fb-f10ac6511078"
   },
   "outputs": [
    {
     "data": {
      "application/vnd.jupyter.widget-view+json": {
       "model_id": "bc8de002c5894604aac2001b87535a1b",
       "version_major": 2,
       "version_minor": 0
      },
      "text/plain": [
       "Evaluation:   0%|          | 0/100 [00:00<?, ?it/s]"
      ]
     },
     "metadata": {},
     "output_type": "display_data"
    },
    {
     "data": {
      "text/html": [
       "<pre style=\"white-space:pre;overflow-x:auto;line-height:normal;font-family:Menlo,'DejaVu Sans Mono',consolas,'Courier New',monospace\">╭─ hotpot_300 (100 samples) ─────────────╮\n",
       "│                                        │\n",
       "│ <span style=\"font-weight: bold\">Total time:       </span> 00:00:23            │\n",
       "│ <span style=\"font-weight: bold\">Number of samples:</span> 100                 │\n",
       "│                                        │\n",
       "│ <span style=\"color: #008000; text-decoration-color: #008000; font-weight: bold\">levenshtein_ratio_metric: 0.0551 (avg)</span> │\n",
       "│                                        │\n",
       "╰────────────────────────────────────────╯\n",
       "</pre>\n"
      ],
      "text/plain": [
       "╭─ hotpot_300 (100 samples) ─────────────╮\n",
       "│                                        │\n",
       "│ \u001b[1mTotal time:       \u001b[0m 00:00:23            │\n",
       "│ \u001b[1mNumber of samples:\u001b[0m 100                 │\n",
       "│                                        │\n",
       "│ \u001b[1;32mlevenshtein_ratio_metric: 0.0551 (avg)\u001b[0m │\n",
       "│                                        │\n",
       "╰────────────────────────────────────────╯\n"
      ]
     },
     "metadata": {},
     "output_type": "display_data"
    },
    {
     "data": {
      "text/html": [
       "<pre style=\"white-space:pre;overflow-x:auto;line-height:normal;font-family:Menlo,'DejaVu Sans Mono',consolas,'Courier New',monospace\">Uploading results to Opik <span style=\"color: #808000; text-decoration-color: #808000\">...</span> \n",
       "</pre>\n"
      ],
      "text/plain": [
       "Uploading results to Opik \u001b[33m...\u001b[0m \n"
      ]
     },
     "metadata": {},
     "output_type": "display_data"
    },
    {
     "data": {
      "text/html": [
       "<pre style=\"white-space:pre;overflow-x:auto;line-height:normal;font-family:Menlo,'DejaVu Sans Mono',consolas,'Courier New',monospace\">View the results <a href=\"https://www.comet.com/opik/api/v1/session/redirect/experiments/?experiment_id=0197406b-33db-78f3-ab35-253c037eb47a&dataset_id=0197044c-d51d-7cff-96c5-38969b6ae708&path=aHR0cHM6Ly93d3cuY29tZXQuY29tL29waWsvYXBpLw==\" target=\"_blank\">in your Opik dashboard</a>.\n",
       "</pre>\n"
      ],
      "text/plain": [
       "View the results \u001b]8;id=75578;https://www.comet.com/opik/api/v1/session/redirect/experiments/?experiment_id=0197406b-33db-78f3-ab35-253c037eb47a&dataset_id=0197044c-d51d-7cff-96c5-38969b6ae708&path=aHR0cHM6Ly93d3cuY29tZXQuY29tL29waWsvYXBpLw==\u001b\\in your Opik dashboard\u001b]8;;\u001b\\.\n"
      ]
     },
     "metadata": {},
     "output_type": "display_data"
    },
    {
     "data": {
      "text/plain": [
       "0.05511351451443435"
      ]
     },
     "execution_count": 18,
     "metadata": {},
     "output_type": "execute_result"
    }
   ],
   "source": [
    "score = optimizer.evaluate_prompt(\n",
    "    prompt=initial_prompt,\n",
    "    dataset=opik_dataset,\n",
    "    metric=levenshtein_ratio,\n",
    "    n_samples=100,\n",
    ")\n",
    "score"
   ]
  },
  {
   "cell_type": "markdown",
   "metadata": {
    "id": "UtFggdB67tmB"
   },
   "source": [
    "It scored about 16% correct. [I say \"percent correct\" but because we are using edit distance, that isn't quite accurate. But we can think of it this way.]\n",
    "\n",
    "Ok, let's optimize that prompt!"
   ]
  },
  {
   "cell_type": "code",
   "execution_count": 19,
   "metadata": {
    "colab": {
     "base_uri": "https://localhost:8080/",
     "height": 785,
     "referenced_widgets": []
    },
    "collapsed": true,
    "id": "3Q3ENgSARX2m",
    "jupyter": {
     "outputs_hidden": true
    },
    "outputId": "45b5adb4-d294-4a7c-d473-bb86aadda1f0"
   },
   "outputs": [
    {
     "data": {
      "text/html": [
       "<pre style=\"white-space:pre;overflow-x:auto;line-height:normal;font-family:Menlo,'DejaVu Sans Mono',consolas,'Courier New',monospace\">╭────────────────────────────────────────────────────────────────────╮\n",
       "│ <span style=\"color: #008000; text-decoration-color: #008000\">● </span>Running Opik Evaluation - <span style=\"color: #000080; text-decoration-color: #000080\">Few-Shot Bayesian Optimizer</span>            │\n",
       "╰────────────────────────────────────────────────────────────────────╯\n",
       "</pre>\n"
      ],
      "text/plain": [
       "╭────────────────────────────────────────────────────────────────────╮\n",
       "│ \u001b[32m● \u001b[0mRunning Opik Evaluation - \u001b[34mFew-Shot Bayesian Optimizer\u001b[0m            │\n",
       "╰────────────────────────────────────────────────────────────────────╯\n"
      ]
     },
     "metadata": {},
     "output_type": "display_data"
    },
    {
     "data": {
      "text/html": [
       "<pre style=\"white-space:pre;overflow-x:auto;line-height:normal;font-family:Menlo,'DejaVu Sans Mono',consolas,'Courier New',monospace\">\n",
       "\n",
       "</pre>\n"
      ],
      "text/plain": [
       "\n",
       "\n"
      ]
     },
     "metadata": {},
     "output_type": "display_data"
    },
    {
     "data": {
      "text/html": [
       "<pre style=\"white-space:pre;overflow-x:auto;line-height:normal;font-family:Menlo,'DejaVu Sans Mono',consolas,'Courier New',monospace\">&gt; Let's optimize the prompt:\n",
       "\n",
       "</pre>\n"
      ],
      "text/plain": [
       "> Let's optimize the prompt:\n",
       "\n"
      ]
     },
     "metadata": {},
     "output_type": "display_data"
    },
    {
     "data": {
      "text/html": [
       "<pre style=\"white-space:pre;overflow-x:auto;line-height:normal;font-family:Menlo,'DejaVu Sans Mono',consolas,'Courier New',monospace\"><span style=\"color: #7fbfbf; text-decoration-color: #7fbfbf\">[2025-06-05 15:08:01] </span><span style=\"color: #800000; text-decoration-color: #800000; font-weight: bold\">ERROR   </span> FewShotBayesian optimization failed: name         <a href=\"file:///Users/jacquesverre/Documents/code/opik/sdks/opik_optimizer/src/opik_optimizer/few_shot_bayesian_optimizer/few_shot_bayesian_optimizer.py\" target=\"_blank\"><span style=\"color: #7f7f7f; text-decoration-color: #7f7f7f\">few_shot_bayesian_optimizer.py</span></a><span style=\"color: #7f7f7f; text-decoration-color: #7f7f7f\">:</span><a href=\"file:///Users/jacquesverre/Documents/code/opik/sdks/opik_optimizer/src/opik_optimizer/few_shot_bayesian_optimizer/few_shot_bayesian_optimizer.py#484\" target=\"_blank\"><span style=\"color: #7f7f7f; text-decoration-color: #7f7f7f\">484</span></a>\n",
       "<span style=\"color: #7fbfbf; text-decoration-color: #7fbfbf\">                      </span>         <span style=\"color: #008000; text-decoration-color: #008000\">'console'</span> is not defined                          <span style=\"color: #7f7f7f; text-decoration-color: #7f7f7f\">                                  </span>\n",
       "<span style=\"color: #7fbfbf; text-decoration-color: #7fbfbf\">                      </span>         <span style=\"color: #800000; text-decoration-color: #800000\">╭────── </span><span style=\"color: #800000; text-decoration-color: #800000; font-weight: bold\">Traceback </span><span style=\"color: #bf7f7f; text-decoration-color: #bf7f7f; font-weight: bold\">(most recent call last)</span><span style=\"color: #800000; text-decoration-color: #800000\"> ──────╮</span> <span style=\"color: #7f7f7f; text-decoration-color: #7f7f7f\">                                  </span>\n",
       "<span style=\"color: #7fbfbf; text-decoration-color: #7fbfbf\">                      </span>         <span style=\"color: #800000; text-decoration-color: #800000\">│</span> <span style=\"color: #bfbf7f; text-decoration-color: #bfbf7f\">/Users/jacquesverre/Documents/code/opik/sdks/</span> <span style=\"color: #800000; text-decoration-color: #800000\">│</span> <span style=\"color: #7f7f7f; text-decoration-color: #7f7f7f\">                                  </span>\n",
       "<span style=\"color: #7fbfbf; text-decoration-color: #7fbfbf\">                      </span>         <span style=\"color: #800000; text-decoration-color: #800000\">│</span> <span style=\"color: #bfbf7f; text-decoration-color: #bfbf7f\">opik_optimizer/src/opik_optimizer/few_shot_ba</span> <span style=\"color: #800000; text-decoration-color: #800000\">│</span> <span style=\"color: #7f7f7f; text-decoration-color: #7f7f7f\">                                  </span>\n",
       "<span style=\"color: #7fbfbf; text-decoration-color: #7fbfbf\">                      </span>         <span style=\"color: #800000; text-decoration-color: #800000\">│</span> <span style=\"color: #bfbf7f; text-decoration-color: #bfbf7f\">yesian_optimizer/</span><span style=\"color: #808000; text-decoration-color: #808000; font-weight: bold\">few_shot_bayesian_optimizer.</span> <span style=\"color: #800000; text-decoration-color: #800000\">│</span> <span style=\"color: #7f7f7f; text-decoration-color: #7f7f7f\">                                  </span>\n",
       "<span style=\"color: #7fbfbf; text-decoration-color: #7fbfbf\">                      </span>         <span style=\"color: #800000; text-decoration-color: #800000\">│</span> <span style=\"color: #808000; text-decoration-color: #808000; font-weight: bold\">py</span>:<span style=\"color: #0000ff; text-decoration-color: #0000ff\">429</span> in <span style=\"color: #00ff00; text-decoration-color: #00ff00\">optimize_prompt</span>                     <span style=\"color: #800000; text-decoration-color: #800000\">│</span> <span style=\"color: #7f7f7f; text-decoration-color: #7f7f7f\">                                  </span>\n",
       "<span style=\"color: #7fbfbf; text-decoration-color: #7fbfbf\">                      </span>         <span style=\"color: #800000; text-decoration-color: #800000\">│</span>                                               <span style=\"color: #800000; text-decoration-color: #800000\">│</span> <span style=\"color: #7f7f7f; text-decoration-color: #7f7f7f\">                                  </span>\n",
       "<span style=\"color: #7fbfbf; text-decoration-color: #7fbfbf\">                      </span>         <span style=\"color: #800000; text-decoration-color: #800000\">│</span>   <span style=\"color: #7f7f7f; text-decoration-color: #7f7f7f\">426 </span><span style=\"color: #7f7f7f; text-decoration-color: #7f7f7f\">│   │   </span><span style=\"color: #0000ff; text-decoration-color: #0000ff\">try</span>:                            <span style=\"color: #800000; text-decoration-color: #800000\">│</span> <span style=\"color: #7f7f7f; text-decoration-color: #7f7f7f\">                                  </span>\n",
       "<span style=\"color: #7fbfbf; text-decoration-color: #7fbfbf\">                      </span>         <span style=\"color: #800000; text-decoration-color: #800000\">│</span>   <span style=\"color: #7f7f7f; text-decoration-color: #7f7f7f\">427 </span><span style=\"color: #7f7f7f; text-decoration-color: #7f7f7f\">│   │   │   </span><span style=\"color: #7f7f7f; text-decoration-color: #7f7f7f\"># Start experiment reportin</span> <span style=\"color: #800000; text-decoration-color: #800000\">│</span> <span style=\"color: #7f7f7f; text-decoration-color: #7f7f7f\">                                  </span>\n",
       "<span style=\"color: #7fbfbf; text-decoration-color: #7fbfbf\">                      </span>         <span style=\"color: #800000; text-decoration-color: #800000\">│</span>   <span style=\"color: #7f7f7f; text-decoration-color: #7f7f7f\">428 </span><span style=\"color: #7f7f7f; text-decoration-color: #7f7f7f\">│   │   │   </span>reporting.display_header(<span style=\"color: #808000; text-decoration-color: #808000\">\"F</span> <span style=\"color: #800000; text-decoration-color: #800000\">│</span> <span style=\"color: #7f7f7f; text-decoration-color: #7f7f7f\">                                  </span>\n",
       "<span style=\"color: #7fbfbf; text-decoration-color: #7fbfbf\">                      </span>         <span style=\"color: #800000; text-decoration-color: #800000\">│</span>       verbose=<span style=\"color: #00ffff; text-decoration-color: #00ffff\">self</span>.verbose)                   <span style=\"color: #800000; text-decoration-color: #800000\">│</span> <span style=\"color: #7f7f7f; text-decoration-color: #7f7f7f\">                                  </span>\n",
       "<span style=\"color: #7fbfbf; text-decoration-color: #7fbfbf\">                      </span>         <span style=\"color: #800000; text-decoration-color: #800000\">│</span> <span style=\"color: #800000; text-decoration-color: #800000\">❱ </span>429 <span style=\"color: #7f7f7f; text-decoration-color: #7f7f7f\">│   │   │   </span>reporting.display_configura <span style=\"color: #800000; text-decoration-color: #800000\">│</span> <span style=\"color: #7f7f7f; text-decoration-color: #7f7f7f\">                                  </span>\n",
       "<span style=\"color: #7fbfbf; text-decoration-color: #7fbfbf\">                      </span>         <span style=\"color: #800000; text-decoration-color: #800000\">│</span>   <span style=\"color: #7f7f7f; text-decoration-color: #7f7f7f\">430 </span><span style=\"color: #7f7f7f; text-decoration-color: #7f7f7f\">│   │   │   │   </span>prompt.formatted_messag <span style=\"color: #800000; text-decoration-color: #800000\">│</span> <span style=\"color: #7f7f7f; text-decoration-color: #7f7f7f\">                                  </span>\n",
       "<span style=\"color: #7fbfbf; text-decoration-color: #7fbfbf\">                      </span>         <span style=\"color: #800000; text-decoration-color: #800000\">│</span>   <span style=\"color: #7f7f7f; text-decoration-color: #7f7f7f\">431 </span><span style=\"color: #7f7f7f; text-decoration-color: #7f7f7f\">│   │   │   │   </span>optimizer_config={      <span style=\"color: #800000; text-decoration-color: #800000\">│</span> <span style=\"color: #7f7f7f; text-decoration-color: #7f7f7f\">                                  </span>\n",
       "<span style=\"color: #7fbfbf; text-decoration-color: #7fbfbf\">                      </span>         <span style=\"color: #800000; text-decoration-color: #800000\">│</span>   <span style=\"color: #7f7f7f; text-decoration-color: #7f7f7f\">432 </span><span style=\"color: #7f7f7f; text-decoration-color: #7f7f7f\">│   │   │   │   │   </span><span style=\"color: #808000; text-decoration-color: #808000\">\"optimizer\"</span>: <span style=\"color: #00ffff; text-decoration-color: #00ffff\">self</span>.<span style=\"color: #ff0000; text-decoration-color: #ff0000\">_</span> <span style=\"color: #800000; text-decoration-color: #800000\">│</span> <span style=\"color: #7f7f7f; text-decoration-color: #7f7f7f\">                                  </span>\n",
       "<span style=\"color: #7fbfbf; text-decoration-color: #7fbfbf\">                      </span>         <span style=\"color: #800000; text-decoration-color: #800000\">│</span>                                               <span style=\"color: #800000; text-decoration-color: #800000\">│</span> <span style=\"color: #7f7f7f; text-decoration-color: #7f7f7f\">                                  </span>\n",
       "<span style=\"color: #7fbfbf; text-decoration-color: #7fbfbf\">                      </span>         <span style=\"color: #800000; text-decoration-color: #800000\">│</span> <span style=\"color: #bfbf7f; text-decoration-color: #bfbf7f\">/Users/jacquesverre/Documents/code/opik/sdks/</span> <span style=\"color: #800000; text-decoration-color: #800000\">│</span> <span style=\"color: #7f7f7f; text-decoration-color: #7f7f7f\">                                  </span>\n",
       "<span style=\"color: #7fbfbf; text-decoration-color: #7fbfbf\">                      </span>         <span style=\"color: #800000; text-decoration-color: #800000\">│</span> <span style=\"color: #bfbf7f; text-decoration-color: #bfbf7f\">opik_optimizer/src/opik_optimizer/</span><span style=\"color: #808000; text-decoration-color: #808000; font-weight: bold\">reporting_u</span> <span style=\"color: #800000; text-decoration-color: #800000\">│</span> <span style=\"color: #7f7f7f; text-decoration-color: #7f7f7f\">                                  </span>\n",
       "<span style=\"color: #7fbfbf; text-decoration-color: #7fbfbf\">                      </span>         <span style=\"color: #800000; text-decoration-color: #800000\">│</span> <span style=\"color: #808000; text-decoration-color: #808000; font-weight: bold\">tils.py</span>:<span style=\"color: #0000ff; text-decoration-color: #0000ff\">160</span> in <span style=\"color: #00ff00; text-decoration-color: #00ff00\">display_configuration</span>          <span style=\"color: #800000; text-decoration-color: #800000\">│</span> <span style=\"color: #7f7f7f; text-decoration-color: #7f7f7f\">                                  </span>\n",
       "<span style=\"color: #7fbfbf; text-decoration-color: #7fbfbf\">                      </span>         <span style=\"color: #800000; text-decoration-color: #800000\">│</span>                                               <span style=\"color: #800000; text-decoration-color: #800000\">│</span> <span style=\"color: #7f7f7f; text-decoration-color: #7f7f7f\">                                  </span>\n",
       "<span style=\"color: #7fbfbf; text-decoration-color: #7fbfbf\">                      </span>         <span style=\"color: #800000; text-decoration-color: #800000\">│</span>   <span style=\"color: #7f7f7f; text-decoration-color: #7f7f7f\">157 </span><span style=\"color: #7f7f7f; text-decoration-color: #7f7f7f\">│   </span><span style=\"color: #7f7f7f; text-decoration-color: #7f7f7f\"># Panel for Optimizer configuration</span> <span style=\"color: #800000; text-decoration-color: #800000\">│</span> <span style=\"color: #7f7f7f; text-decoration-color: #7f7f7f\">                                  </span>\n",
       "<span style=\"color: #7fbfbf; text-decoration-color: #7fbfbf\">                      </span>         <span style=\"color: #800000; text-decoration-color: #800000\">│</span>   <span style=\"color: #7f7f7f; text-decoration-color: #7f7f7f\">158 </span><span style=\"color: #7f7f7f; text-decoration-color: #7f7f7f\">│   </span>rich.print(Text(<span style=\"color: #808000; text-decoration-color: #808000\">\"&gt; Let's optimize t</span> <span style=\"color: #800000; text-decoration-color: #800000\">│</span> <span style=\"color: #7f7f7f; text-decoration-color: #7f7f7f\">                                  </span>\n",
       "<span style=\"color: #7fbfbf; text-decoration-color: #7fbfbf\">                      </span>         <span style=\"color: #800000; text-decoration-color: #800000\">│</span>   <span style=\"color: #7f7f7f; text-decoration-color: #7f7f7f\">159 </span><span style=\"color: #7f7f7f; text-decoration-color: #7f7f7f\">│   </span>                                    <span style=\"color: #800000; text-decoration-color: #800000\">│</span> <span style=\"color: #7f7f7f; text-decoration-color: #7f7f7f\">                                  </span>\n",
       "<span style=\"color: #7fbfbf; text-decoration-color: #7fbfbf\">                      </span>         <span style=\"color: #800000; text-decoration-color: #800000\">│</span> <span style=\"color: #800000; text-decoration-color: #800000\">❱ </span>160 <span style=\"color: #7f7f7f; text-decoration-color: #7f7f7f\">│   </span><span style=\"font-weight: bold; text-decoration: underline\">display_messages(messages)</span>          <span style=\"color: #800000; text-decoration-color: #800000\">│</span> <span style=\"color: #7f7f7f; text-decoration-color: #7f7f7f\">                                  </span>\n",
       "<span style=\"color: #7fbfbf; text-decoration-color: #7fbfbf\">                      </span>         <span style=\"color: #800000; text-decoration-color: #800000\">│</span>   <span style=\"color: #7f7f7f; text-decoration-color: #7f7f7f\">161 </span><span style=\"color: #7f7f7f; text-decoration-color: #7f7f7f\">│   </span>                                    <span style=\"color: #800000; text-decoration-color: #800000\">│</span> <span style=\"color: #7f7f7f; text-decoration-color: #7f7f7f\">                                  </span>\n",
       "<span style=\"color: #7fbfbf; text-decoration-color: #7fbfbf\">                      </span>         <span style=\"color: #800000; text-decoration-color: #800000\">│</span>   <span style=\"color: #7f7f7f; text-decoration-color: #7f7f7f\">162 </span><span style=\"color: #7f7f7f; text-decoration-color: #7f7f7f\">│   </span><span style=\"color: #7f7f7f; text-decoration-color: #7f7f7f\"># Panel for configuration</span>           <span style=\"color: #800000; text-decoration-color: #800000\">│</span> <span style=\"color: #7f7f7f; text-decoration-color: #7f7f7f\">                                  </span>\n",
       "<span style=\"color: #7fbfbf; text-decoration-color: #7fbfbf\">                      </span>         <span style=\"color: #800000; text-decoration-color: #800000\">│</span>   <span style=\"color: #7f7f7f; text-decoration-color: #7f7f7f\">163 </span><span style=\"color: #7f7f7f; text-decoration-color: #7f7f7f\">│   </span>rich.print(Text(<span style=\"color: #808000; text-decoration-color: #808000\">f\"\\nUsing {</span>optimize <span style=\"color: #800000; text-decoration-color: #800000\">│</span> <span style=\"color: #7f7f7f; text-decoration-color: #7f7f7f\">                                  </span>\n",
       "<span style=\"color: #7fbfbf; text-decoration-color: #7fbfbf\">                      </span>         <span style=\"color: #800000; text-decoration-color: #800000\">│</span>                                               <span style=\"color: #800000; text-decoration-color: #800000\">│</span> <span style=\"color: #7f7f7f; text-decoration-color: #7f7f7f\">                                  </span>\n",
       "<span style=\"color: #7fbfbf; text-decoration-color: #7fbfbf\">                      </span>         <span style=\"color: #800000; text-decoration-color: #800000\">│</span> <span style=\"color: #bfbf7f; text-decoration-color: #bfbf7f\">/Users/jacquesverre/Documents/code/opik/sdks/</span> <span style=\"color: #800000; text-decoration-color: #800000\">│</span> <span style=\"color: #7f7f7f; text-decoration-color: #7f7f7f\">                                  </span>\n",
       "<span style=\"color: #7fbfbf; text-decoration-color: #7fbfbf\">                      </span>         <span style=\"color: #800000; text-decoration-color: #800000\">│</span> <span style=\"color: #bfbf7f; text-decoration-color: #bfbf7f\">opik_optimizer/src/opik_optimizer/</span><span style=\"color: #808000; text-decoration-color: #808000; font-weight: bold\">reporting_u</span> <span style=\"color: #800000; text-decoration-color: #800000\">│</span> <span style=\"color: #7f7f7f; text-decoration-color: #7f7f7f\">                                  </span>\n",
       "<span style=\"color: #7fbfbf; text-decoration-color: #7fbfbf\">                      </span>         <span style=\"color: #800000; text-decoration-color: #800000\">│</span> <span style=\"color: #808000; text-decoration-color: #808000; font-weight: bold\">tils.py</span>:<span style=\"color: #0000ff; text-decoration-color: #0000ff\">81</span> in <span style=\"color: #00ff00; text-decoration-color: #00ff00\">display_messages</span>                <span style=\"color: #800000; text-decoration-color: #800000\">│</span> <span style=\"color: #7f7f7f; text-decoration-color: #7f7f7f\">                                  </span>\n",
       "<span style=\"color: #7fbfbf; text-decoration-color: #7fbfbf\">                      </span>         <span style=\"color: #800000; text-decoration-color: #800000\">│</span>                                               <span style=\"color: #800000; text-decoration-color: #800000\">│</span> <span style=\"color: #7f7f7f; text-decoration-color: #7f7f7f\">                                  </span>\n",
       "<span style=\"color: #7fbfbf; text-decoration-color: #7fbfbf\">                      </span>         <span style=\"color: #800000; text-decoration-color: #800000\">│</span>   <span style=\"color: #7f7f7f; text-decoration-color: #7f7f7f\"> 78 </span><span style=\"color: #7f7f7f; text-decoration-color: #7f7f7f\">│   │   </span>)                               <span style=\"color: #800000; text-decoration-color: #800000\">│</span> <span style=\"color: #7f7f7f; text-decoration-color: #7f7f7f\">                                  </span>\n",
       "<span style=\"color: #7fbfbf; text-decoration-color: #7fbfbf\">                      </span>         <span style=\"color: #800000; text-decoration-color: #800000\">│</span>   <span style=\"color: #7f7f7f; text-decoration-color: #7f7f7f\"> 79 </span><span style=\"color: #7f7f7f; text-decoration-color: #7f7f7f\">│   │   </span>                                <span style=\"color: #800000; text-decoration-color: #800000\">│</span> <span style=\"color: #7f7f7f; text-decoration-color: #7f7f7f\">                                  </span>\n",
       "<span style=\"color: #7fbfbf; text-decoration-color: #7fbfbf\">                      </span>         <span style=\"color: #800000; text-decoration-color: #800000\">│</span>   <span style=\"color: #7f7f7f; text-decoration-color: #7f7f7f\"> 80 </span><span style=\"color: #7f7f7f; text-decoration-color: #7f7f7f\">│   │   </span><span style=\"color: #7f7f7f; text-decoration-color: #7f7f7f\"># Capture the panel as rendered</span> <span style=\"color: #800000; text-decoration-color: #800000\">│</span> <span style=\"color: #7f7f7f; text-decoration-color: #7f7f7f\">                                  </span>\n",
       "<span style=\"color: #7fbfbf; text-decoration-color: #7fbfbf\">                      </span>         <span style=\"color: #800000; text-decoration-color: #800000\">│</span> <span style=\"color: #800000; text-decoration-color: #800000\">❱ </span> 81 <span style=\"color: #7f7f7f; text-decoration-color: #7f7f7f\">│   │   </span><span style=\"color: #0000ff; text-decoration-color: #0000ff\">with</span> <span style=\"font-weight: bold; text-decoration: underline\">console</span>.capture() <span style=\"color: #0000ff; text-decoration-color: #0000ff\">as</span> captu <span style=\"color: #800000; text-decoration-color: #800000\">│</span> <span style=\"color: #7f7f7f; text-decoration-color: #7f7f7f\">                                  </span>\n",
       "<span style=\"color: #7fbfbf; text-decoration-color: #7fbfbf\">                      </span>         <span style=\"color: #800000; text-decoration-color: #800000\">│</span>   <span style=\"color: #7f7f7f; text-decoration-color: #7f7f7f\"> 82 </span><span style=\"color: #7f7f7f; text-decoration-color: #7f7f7f\">│   │   │   </span>console.print(panel)        <span style=\"color: #800000; text-decoration-color: #800000\">│</span> <span style=\"color: #7f7f7f; text-decoration-color: #7f7f7f\">                                  </span>\n",
       "<span style=\"color: #7fbfbf; text-decoration-color: #7fbfbf\">                      </span>         <span style=\"color: #800000; text-decoration-color: #800000\">│</span>   <span style=\"color: #7f7f7f; text-decoration-color: #7f7f7f\"> 83 </span><span style=\"color: #7f7f7f; text-decoration-color: #7f7f7f\">│   │   </span>                                <span style=\"color: #800000; text-decoration-color: #800000\">│</span> <span style=\"color: #7f7f7f; text-decoration-color: #7f7f7f\">                                  </span>\n",
       "<span style=\"color: #7fbfbf; text-decoration-color: #7fbfbf\">                      </span>         <span style=\"color: #800000; text-decoration-color: #800000\">│</span>   <span style=\"color: #7f7f7f; text-decoration-color: #7f7f7f\"> 84 </span><span style=\"color: #7f7f7f; text-decoration-color: #7f7f7f\">│   │   </span><span style=\"color: #7f7f7f; text-decoration-color: #7f7f7f\"># Retrieve the rendered string </span> <span style=\"color: #800000; text-decoration-color: #800000\">│</span> <span style=\"color: #7f7f7f; text-decoration-color: #7f7f7f\">                                  </span>\n",
       "<span style=\"color: #7fbfbf; text-decoration-color: #7fbfbf\">                      </span>         <span style=\"color: #800000; text-decoration-color: #800000\">╰───────────────────────────────────────────────╯</span> <span style=\"color: #7f7f7f; text-decoration-color: #7f7f7f\">                                  </span>\n",
       "<span style=\"color: #7fbfbf; text-decoration-color: #7fbfbf\">                      </span>         <span style=\"color: #ff0000; text-decoration-color: #ff0000; font-weight: bold\">NameError: </span>name <span style=\"color: #008000; text-decoration-color: #008000\">'console'</span> is not defined          <span style=\"color: #7f7f7f; text-decoration-color: #7f7f7f\">                                  </span>\n",
       "</pre>\n"
      ],
      "text/plain": [
       "\u001b[2;36m[2025-06-05 15:08:01]\u001b[0m\u001b[2;36m \u001b[0m\u001b[1;31mERROR   \u001b[0m FewShotBayesian optimization failed: name         \u001b]8;id=634378;file:///Users/jacquesverre/Documents/code/opik/sdks/opik_optimizer/src/opik_optimizer/few_shot_bayesian_optimizer/few_shot_bayesian_optimizer.py\u001b\\\u001b[2mfew_shot_bayesian_optimizer.py\u001b[0m\u001b]8;;\u001b\\\u001b[2m:\u001b[0m\u001b]8;id=719413;file:///Users/jacquesverre/Documents/code/opik/sdks/opik_optimizer/src/opik_optimizer/few_shot_bayesian_optimizer/few_shot_bayesian_optimizer.py#484\u001b\\\u001b[2m484\u001b[0m\u001b]8;;\u001b\\\n",
       "\u001b[2;36m                      \u001b[0m         \u001b[32m'console'\u001b[0m is not defined                          \u001b[2m                                  \u001b[0m\n",
       "\u001b[2;36m                      \u001b[0m         \u001b[31m╭─\u001b[0m\u001b[31m─────\u001b[0m\u001b[31m \u001b[0m\u001b[1;31mTraceback \u001b[0m\u001b[1;2;31m(most recent call last)\u001b[0m\u001b[31m \u001b[0m\u001b[31m─────\u001b[0m\u001b[31m─╮\u001b[0m \u001b[2m                                  \u001b[0m\n",
       "\u001b[2;36m                      \u001b[0m         \u001b[31m│\u001b[0m \u001b[2;33m/Users/jacquesverre/Documents/code/opik/sdks/\u001b[0m \u001b[31m│\u001b[0m \u001b[2m                                  \u001b[0m\n",
       "\u001b[2;36m                      \u001b[0m         \u001b[31m│\u001b[0m \u001b[2;33mopik_optimizer/src/opik_optimizer/few_shot_ba\u001b[0m \u001b[31m│\u001b[0m \u001b[2m                                  \u001b[0m\n",
       "\u001b[2;36m                      \u001b[0m         \u001b[31m│\u001b[0m \u001b[2;33myesian_optimizer/\u001b[0m\u001b[1;33mfew_shot_bayesian_optimizer.\u001b[0m \u001b[31m│\u001b[0m \u001b[2m                                  \u001b[0m\n",
       "\u001b[2;36m                      \u001b[0m         \u001b[31m│\u001b[0m \u001b[1;33mpy\u001b[0m:\u001b[94m429\u001b[0m in \u001b[92moptimize_prompt\u001b[0m                     \u001b[31m│\u001b[0m \u001b[2m                                  \u001b[0m\n",
       "\u001b[2;36m                      \u001b[0m         \u001b[31m│\u001b[0m                                               \u001b[31m│\u001b[0m \u001b[2m                                  \u001b[0m\n",
       "\u001b[2;36m                      \u001b[0m         \u001b[31m│\u001b[0m   \u001b[2m426 \u001b[0m\u001b[2m│   │   \u001b[0m\u001b[94mtry\u001b[0m:                            \u001b[31m│\u001b[0m \u001b[2m                                  \u001b[0m\n",
       "\u001b[2;36m                      \u001b[0m         \u001b[31m│\u001b[0m   \u001b[2m427 \u001b[0m\u001b[2m│   │   │   \u001b[0m\u001b[2m# Start experiment reportin\u001b[0m \u001b[31m│\u001b[0m \u001b[2m                                  \u001b[0m\n",
       "\u001b[2;36m                      \u001b[0m         \u001b[31m│\u001b[0m   \u001b[2m428 \u001b[0m\u001b[2m│   │   │   \u001b[0mreporting.display_header(\u001b[33m\"\u001b[0m\u001b[33mF\u001b[0m \u001b[31m│\u001b[0m \u001b[2m                                  \u001b[0m\n",
       "\u001b[2;36m                      \u001b[0m         \u001b[31m│\u001b[0m       verbose=\u001b[96mself\u001b[0m.verbose)                   \u001b[31m│\u001b[0m \u001b[2m                                  \u001b[0m\n",
       "\u001b[2;36m                      \u001b[0m         \u001b[31m│\u001b[0m \u001b[31m❱ \u001b[0m429 \u001b[2m│   │   │   \u001b[0mreporting.display_configura \u001b[31m│\u001b[0m \u001b[2m                                  \u001b[0m\n",
       "\u001b[2;36m                      \u001b[0m         \u001b[31m│\u001b[0m   \u001b[2m430 \u001b[0m\u001b[2m│   │   │   │   \u001b[0mprompt.formatted_messag \u001b[31m│\u001b[0m \u001b[2m                                  \u001b[0m\n",
       "\u001b[2;36m                      \u001b[0m         \u001b[31m│\u001b[0m   \u001b[2m431 \u001b[0m\u001b[2m│   │   │   │   \u001b[0moptimizer_config={      \u001b[31m│\u001b[0m \u001b[2m                                  \u001b[0m\n",
       "\u001b[2;36m                      \u001b[0m         \u001b[31m│\u001b[0m   \u001b[2m432 \u001b[0m\u001b[2m│   │   │   │   │   \u001b[0m\u001b[33m\"\u001b[0m\u001b[33moptimizer\u001b[0m\u001b[33m\"\u001b[0m: \u001b[96mself\u001b[0m.\u001b[91m_\u001b[0m \u001b[31m│\u001b[0m \u001b[2m                                  \u001b[0m\n",
       "\u001b[2;36m                      \u001b[0m         \u001b[31m│\u001b[0m                                               \u001b[31m│\u001b[0m \u001b[2m                                  \u001b[0m\n",
       "\u001b[2;36m                      \u001b[0m         \u001b[31m│\u001b[0m \u001b[2;33m/Users/jacquesverre/Documents/code/opik/sdks/\u001b[0m \u001b[31m│\u001b[0m \u001b[2m                                  \u001b[0m\n",
       "\u001b[2;36m                      \u001b[0m         \u001b[31m│\u001b[0m \u001b[2;33mopik_optimizer/src/opik_optimizer/\u001b[0m\u001b[1;33mreporting_u\u001b[0m \u001b[31m│\u001b[0m \u001b[2m                                  \u001b[0m\n",
       "\u001b[2;36m                      \u001b[0m         \u001b[31m│\u001b[0m \u001b[1;33mtils.py\u001b[0m:\u001b[94m160\u001b[0m in \u001b[92mdisplay_configuration\u001b[0m          \u001b[31m│\u001b[0m \u001b[2m                                  \u001b[0m\n",
       "\u001b[2;36m                      \u001b[0m         \u001b[31m│\u001b[0m                                               \u001b[31m│\u001b[0m \u001b[2m                                  \u001b[0m\n",
       "\u001b[2;36m                      \u001b[0m         \u001b[31m│\u001b[0m   \u001b[2m157 \u001b[0m\u001b[2m│   \u001b[0m\u001b[2m# Panel for Optimizer configuration\u001b[0m \u001b[31m│\u001b[0m \u001b[2m                                  \u001b[0m\n",
       "\u001b[2;36m                      \u001b[0m         \u001b[31m│\u001b[0m   \u001b[2m158 \u001b[0m\u001b[2m│   \u001b[0mrich.print(Text(\u001b[33m\"\u001b[0m\u001b[33m> Let\u001b[0m\u001b[33m'\u001b[0m\u001b[33ms optimize t\u001b[0m \u001b[31m│\u001b[0m \u001b[2m                                  \u001b[0m\n",
       "\u001b[2;36m                      \u001b[0m         \u001b[31m│\u001b[0m   \u001b[2m159 \u001b[0m\u001b[2m│   \u001b[0m                                    \u001b[31m│\u001b[0m \u001b[2m                                  \u001b[0m\n",
       "\u001b[2;36m                      \u001b[0m         \u001b[31m│\u001b[0m \u001b[31m❱ \u001b[0m160 \u001b[2m│   \u001b[0m\u001b[1;4mdisplay_messages(messages)\u001b[0m          \u001b[31m│\u001b[0m \u001b[2m                                  \u001b[0m\n",
       "\u001b[2;36m                      \u001b[0m         \u001b[31m│\u001b[0m   \u001b[2m161 \u001b[0m\u001b[2m│   \u001b[0m                                    \u001b[31m│\u001b[0m \u001b[2m                                  \u001b[0m\n",
       "\u001b[2;36m                      \u001b[0m         \u001b[31m│\u001b[0m   \u001b[2m162 \u001b[0m\u001b[2m│   \u001b[0m\u001b[2m# Panel for configuration\u001b[0m           \u001b[31m│\u001b[0m \u001b[2m                                  \u001b[0m\n",
       "\u001b[2;36m                      \u001b[0m         \u001b[31m│\u001b[0m   \u001b[2m163 \u001b[0m\u001b[2m│   \u001b[0mrich.print(Text(\u001b[33mf\u001b[0m\u001b[33m\"\u001b[0m\u001b[33m\\n\u001b[0m\u001b[33mUsing \u001b[0m\u001b[33m{\u001b[0moptimize \u001b[31m│\u001b[0m \u001b[2m                                  \u001b[0m\n",
       "\u001b[2;36m                      \u001b[0m         \u001b[31m│\u001b[0m                                               \u001b[31m│\u001b[0m \u001b[2m                                  \u001b[0m\n",
       "\u001b[2;36m                      \u001b[0m         \u001b[31m│\u001b[0m \u001b[2;33m/Users/jacquesverre/Documents/code/opik/sdks/\u001b[0m \u001b[31m│\u001b[0m \u001b[2m                                  \u001b[0m\n",
       "\u001b[2;36m                      \u001b[0m         \u001b[31m│\u001b[0m \u001b[2;33mopik_optimizer/src/opik_optimizer/\u001b[0m\u001b[1;33mreporting_u\u001b[0m \u001b[31m│\u001b[0m \u001b[2m                                  \u001b[0m\n",
       "\u001b[2;36m                      \u001b[0m         \u001b[31m│\u001b[0m \u001b[1;33mtils.py\u001b[0m:\u001b[94m81\u001b[0m in \u001b[92mdisplay_messages\u001b[0m                \u001b[31m│\u001b[0m \u001b[2m                                  \u001b[0m\n",
       "\u001b[2;36m                      \u001b[0m         \u001b[31m│\u001b[0m                                               \u001b[31m│\u001b[0m \u001b[2m                                  \u001b[0m\n",
       "\u001b[2;36m                      \u001b[0m         \u001b[31m│\u001b[0m   \u001b[2m 78 \u001b[0m\u001b[2m│   │   \u001b[0m)                               \u001b[31m│\u001b[0m \u001b[2m                                  \u001b[0m\n",
       "\u001b[2;36m                      \u001b[0m         \u001b[31m│\u001b[0m   \u001b[2m 79 \u001b[0m\u001b[2m│   │   \u001b[0m                                \u001b[31m│\u001b[0m \u001b[2m                                  \u001b[0m\n",
       "\u001b[2;36m                      \u001b[0m         \u001b[31m│\u001b[0m   \u001b[2m 80 \u001b[0m\u001b[2m│   │   \u001b[0m\u001b[2m# Capture the panel as rendered\u001b[0m \u001b[31m│\u001b[0m \u001b[2m                                  \u001b[0m\n",
       "\u001b[2;36m                      \u001b[0m         \u001b[31m│\u001b[0m \u001b[31m❱ \u001b[0m 81 \u001b[2m│   │   \u001b[0m\u001b[94mwith\u001b[0m \u001b[1;4mconsole\u001b[0m.capture() \u001b[94mas\u001b[0m captu \u001b[31m│\u001b[0m \u001b[2m                                  \u001b[0m\n",
       "\u001b[2;36m                      \u001b[0m         \u001b[31m│\u001b[0m   \u001b[2m 82 \u001b[0m\u001b[2m│   │   │   \u001b[0mconsole.print(panel)        \u001b[31m│\u001b[0m \u001b[2m                                  \u001b[0m\n",
       "\u001b[2;36m                      \u001b[0m         \u001b[31m│\u001b[0m   \u001b[2m 83 \u001b[0m\u001b[2m│   │   \u001b[0m                                \u001b[31m│\u001b[0m \u001b[2m                                  \u001b[0m\n",
       "\u001b[2;36m                      \u001b[0m         \u001b[31m│\u001b[0m   \u001b[2m 84 \u001b[0m\u001b[2m│   │   \u001b[0m\u001b[2m# Retrieve the rendered string \u001b[0m \u001b[31m│\u001b[0m \u001b[2m                                  \u001b[0m\n",
       "\u001b[2;36m                      \u001b[0m         \u001b[31m╰───────────────────────────────────────────────╯\u001b[0m \u001b[2m                                  \u001b[0m\n",
       "\u001b[2;36m                      \u001b[0m         \u001b[1;91mNameError: \u001b[0mname \u001b[32m'console'\u001b[0m is not defined          \u001b[2m                                  \u001b[0m\n"
      ]
     },
     "metadata": {},
     "output_type": "display_data"
    },
    {
     "ename": "NameError",
     "evalue": "name 'console' is not defined",
     "output_type": "error",
     "traceback": [
      "\u001b[0;31m---------------------------------------------------------------------------\u001b[0m",
      "\u001b[0;31mNameError\u001b[0m                                 Traceback (most recent call last)",
      "Cell \u001b[0;32mIn[19], line 1\u001b[0m\n\u001b[0;32m----> 1\u001b[0m result1 \u001b[38;5;241m=\u001b[39m \u001b[43moptimizer\u001b[49m\u001b[38;5;241;43m.\u001b[39;49m\u001b[43moptimize_prompt\u001b[49m\u001b[43m(\u001b[49m\n\u001b[1;32m      2\u001b[0m \u001b[43m    \u001b[49m\u001b[43mprompt\u001b[49m\u001b[38;5;241;43m=\u001b[39;49m\u001b[43minitial_prompt\u001b[49m\u001b[43m,\u001b[49m\n\u001b[1;32m      3\u001b[0m \u001b[43m    \u001b[49m\u001b[43mdataset\u001b[49m\u001b[38;5;241;43m=\u001b[39;49m\u001b[43mopik_dataset\u001b[49m\u001b[43m,\u001b[49m\n\u001b[1;32m      4\u001b[0m \u001b[43m    \u001b[49m\u001b[43mmetric\u001b[49m\u001b[38;5;241;43m=\u001b[39;49m\u001b[43mlevenshtein_ratio\u001b[49m\u001b[43m,\u001b[49m\n\u001b[1;32m      5\u001b[0m \u001b[43m    \u001b[49m\u001b[43mn_trials\u001b[49m\u001b[38;5;241;43m=\u001b[39;49m\u001b[38;5;241;43m3\u001b[39;49m\u001b[43m,\u001b[49m\n\u001b[1;32m      6\u001b[0m \u001b[43m    \u001b[49m\u001b[43mn_samples\u001b[49m\u001b[38;5;241;43m=\u001b[39;49m\u001b[38;5;241;43m50\u001b[39;49m\n\u001b[1;32m      7\u001b[0m \u001b[43m)\u001b[49m\n",
      "File \u001b[0;32m~/Documents/code/opik/sdks/opik_optimizer/src/opik_optimizer/few_shot_bayesian_optimizer/few_shot_bayesian_optimizer.py:486\u001b[0m, in \u001b[0;36mFewShotBayesianOptimizer.optimize_prompt\u001b[0;34m(self, prompt, dataset, metric, n_trials, experiment_config, n_samples)\u001b[0m\n\u001b[1;32m    484\u001b[0m logger\u001b[38;5;241m.\u001b[39merror(\u001b[38;5;124mf\u001b[39m\u001b[38;5;124m\"\u001b[39m\u001b[38;5;124mFewShotBayesian optimization failed: \u001b[39m\u001b[38;5;132;01m{\u001b[39;00me\u001b[38;5;132;01m}\u001b[39;00m\u001b[38;5;124m\"\u001b[39m, exc_info\u001b[38;5;241m=\u001b[39m\u001b[38;5;28;01mTrue\u001b[39;00m)\n\u001b[1;32m    485\u001b[0m utils\u001b[38;5;241m.\u001b[39menable_experiment_reporting()\n\u001b[0;32m--> 486\u001b[0m \u001b[38;5;28;01mraise\u001b[39;00m e\n",
      "File \u001b[0;32m~/Documents/code/opik/sdks/opik_optimizer/src/opik_optimizer/few_shot_bayesian_optimizer/few_shot_bayesian_optimizer.py:429\u001b[0m, in \u001b[0;36mFewShotBayesianOptimizer.optimize_prompt\u001b[0;34m(self, prompt, dataset, metric, n_trials, experiment_config, n_samples)\u001b[0m\n\u001b[1;32m    426\u001b[0m \u001b[38;5;28;01mtry\u001b[39;00m:\n\u001b[1;32m    427\u001b[0m     \u001b[38;5;66;03m# Start experiment reporting\u001b[39;00m\n\u001b[1;32m    428\u001b[0m     reporting\u001b[38;5;241m.\u001b[39mdisplay_header(\u001b[38;5;124m\"\u001b[39m\u001b[38;5;124mFew-Shot Bayesian Optimizer\u001b[39m\u001b[38;5;124m\"\u001b[39m, verbose\u001b[38;5;241m=\u001b[39m\u001b[38;5;28mself\u001b[39m\u001b[38;5;241m.\u001b[39mverbose)\n\u001b[0;32m--> 429\u001b[0m     \u001b[43mreporting\u001b[49m\u001b[38;5;241;43m.\u001b[39;49m\u001b[43mdisplay_configuration\u001b[49m\u001b[43m(\u001b[49m\n\u001b[1;32m    430\u001b[0m \u001b[43m        \u001b[49m\u001b[43mprompt\u001b[49m\u001b[38;5;241;43m.\u001b[39;49m\u001b[43mformatted_messages\u001b[49m\u001b[43m,\u001b[49m\n\u001b[1;32m    431\u001b[0m \u001b[43m        \u001b[49m\u001b[43moptimizer_config\u001b[49m\u001b[38;5;241;43m=\u001b[39;49m\u001b[43m{\u001b[49m\n\u001b[1;32m    432\u001b[0m \u001b[43m            \u001b[49m\u001b[38;5;124;43m\"\u001b[39;49m\u001b[38;5;124;43moptimizer\u001b[39;49m\u001b[38;5;124;43m\"\u001b[39;49m\u001b[43m:\u001b[49m\u001b[43m \u001b[49m\u001b[38;5;28;43mself\u001b[39;49m\u001b[38;5;241;43m.\u001b[39;49m\u001b[38;5;18;43m__class__\u001b[39;49m\u001b[38;5;241;43m.\u001b[39;49m\u001b[38;5;18;43m__name__\u001b[39;49m\u001b[43m,\u001b[49m\n\u001b[1;32m    433\u001b[0m \u001b[43m            \u001b[49m\u001b[38;5;124;43m\"\u001b[39;49m\u001b[38;5;124;43mmetric\u001b[39;49m\u001b[38;5;124;43m\"\u001b[39;49m\u001b[43m:\u001b[49m\u001b[43m \u001b[49m\u001b[43mmetric\u001b[49m\u001b[38;5;241;43m.\u001b[39;49m\u001b[38;5;18;43m__name__\u001b[39;49m\u001b[43m,\u001b[49m\n\u001b[1;32m    434\u001b[0m \u001b[43m            \u001b[49m\u001b[38;5;124;43m\"\u001b[39;49m\u001b[38;5;124;43mn_trials\u001b[39;49m\u001b[38;5;124;43m\"\u001b[39;49m\u001b[43m:\u001b[49m\u001b[43m \u001b[49m\u001b[43mn_trials\u001b[49m\u001b[43m,\u001b[49m\n\u001b[1;32m    435\u001b[0m \u001b[43m            \u001b[49m\u001b[38;5;124;43m\"\u001b[39;49m\u001b[38;5;124;43mn_samples\u001b[39;49m\u001b[38;5;124;43m\"\u001b[39;49m\u001b[43m:\u001b[49m\u001b[43m \u001b[49m\u001b[43mn_samples\u001b[49m\n\u001b[1;32m    436\u001b[0m \u001b[43m        \u001b[49m\u001b[43m}\u001b[49m\u001b[43m,\u001b[49m\n\u001b[1;32m    437\u001b[0m \u001b[43m        \u001b[49m\u001b[43mverbose\u001b[49m\u001b[38;5;241;43m=\u001b[39;49m\u001b[38;5;28;43mself\u001b[39;49m\u001b[38;5;241;43m.\u001b[39;49m\u001b[43mverbose\u001b[49m\n\u001b[1;32m    438\u001b[0m \u001b[43m    \u001b[49m\u001b[43m)\u001b[49m\n\u001b[1;32m    440\u001b[0m     utils\u001b[38;5;241m.\u001b[39mdisable_experiment_reporting()\n\u001b[1;32m    442\u001b[0m     \u001b[38;5;66;03m# Step 1. Compute the baseline evaluation\u001b[39;00m\n",
      "File \u001b[0;32m~/Documents/code/opik/sdks/opik_optimizer/src/opik_optimizer/reporting_utils.py:160\u001b[0m, in \u001b[0;36mdisplay_configuration\u001b[0;34m(messages, optimizer_config, verbose)\u001b[0m\n\u001b[1;32m    157\u001b[0m \u001b[38;5;66;03m# Panel for Optimizer configuration\u001b[39;00m\n\u001b[1;32m    158\u001b[0m rich\u001b[38;5;241m.\u001b[39mprint(Text(\u001b[38;5;124m\"\u001b[39m\u001b[38;5;124m> Let\u001b[39m\u001b[38;5;124m'\u001b[39m\u001b[38;5;124ms optimize the prompt:\u001b[39m\u001b[38;5;130;01m\\n\u001b[39;00m\u001b[38;5;124m\"\u001b[39m))\n\u001b[0;32m--> 160\u001b[0m \u001b[43mdisplay_messages\u001b[49m\u001b[43m(\u001b[49m\u001b[43mmessages\u001b[49m\u001b[43m)\u001b[49m\n\u001b[1;32m    162\u001b[0m \u001b[38;5;66;03m# Panel for configuration\u001b[39;00m\n\u001b[1;32m    163\u001b[0m rich\u001b[38;5;241m.\u001b[39mprint(Text(\u001b[38;5;124mf\u001b[39m\u001b[38;5;124m\"\u001b[39m\u001b[38;5;130;01m\\n\u001b[39;00m\u001b[38;5;124mUsing \u001b[39m\u001b[38;5;132;01m{\u001b[39;00moptimizer_config[\u001b[38;5;124m'\u001b[39m\u001b[38;5;124moptimizer\u001b[39m\u001b[38;5;124m'\u001b[39m]\u001b[38;5;132;01m}\u001b[39;00m\u001b[38;5;124m with the parameters: \u001b[39m\u001b[38;5;124m\"\u001b[39m))\n",
      "File \u001b[0;32m~/Documents/code/opik/sdks/opik_optimizer/src/opik_optimizer/reporting_utils.py:81\u001b[0m, in \u001b[0;36mdisplay_messages\u001b[0;34m(messages, prefix)\u001b[0m\n\u001b[1;32m     71\u001b[0m panel \u001b[38;5;241m=\u001b[39m Panel(\n\u001b[1;32m     72\u001b[0m     Text(msg\u001b[38;5;241m.\u001b[39mget(\u001b[38;5;124m'\u001b[39m\u001b[38;5;124mcontent\u001b[39m\u001b[38;5;124m'\u001b[39m, \u001b[38;5;124m'\u001b[39m\u001b[38;5;124m'\u001b[39m), overflow\u001b[38;5;241m=\u001b[39m\u001b[38;5;124m\"\u001b[39m\u001b[38;5;124mfold\u001b[39m\u001b[38;5;124m\"\u001b[39m),\n\u001b[1;32m     73\u001b[0m     title\u001b[38;5;241m=\u001b[39m\u001b[38;5;124mf\u001b[39m\u001b[38;5;124m\"\u001b[39m\u001b[38;5;132;01m{\u001b[39;00mmsg\u001b[38;5;241m.\u001b[39mget(\u001b[38;5;124m'\u001b[39m\u001b[38;5;124mrole\u001b[39m\u001b[38;5;124m'\u001b[39m,\u001b[38;5;250m \u001b[39m\u001b[38;5;124m'\u001b[39m\u001b[38;5;124mmessage\u001b[39m\u001b[38;5;124m'\u001b[39m)\u001b[38;5;132;01m}\u001b[39;00m\u001b[38;5;124m\"\u001b[39m,\n\u001b[0;32m   (...)\u001b[0m\n\u001b[1;32m     77\u001b[0m     padding\u001b[38;5;241m=\u001b[39m(\u001b[38;5;241m1\u001b[39m, \u001b[38;5;241m2\u001b[39m),\n\u001b[1;32m     78\u001b[0m )\n\u001b[1;32m     80\u001b[0m \u001b[38;5;66;03m# Capture the panel as rendered text with ANSI styles\u001b[39;00m\n\u001b[0;32m---> 81\u001b[0m \u001b[38;5;28;01mwith\u001b[39;00m \u001b[43mconsole\u001b[49m\u001b[38;5;241m.\u001b[39mcapture() \u001b[38;5;28;01mas\u001b[39;00m capture:\n\u001b[1;32m     82\u001b[0m     console\u001b[38;5;241m.\u001b[39mprint(panel)\n\u001b[1;32m     84\u001b[0m \u001b[38;5;66;03m# Retrieve the rendered string (with ANSI)\u001b[39;00m\n",
      "\u001b[0;31mNameError\u001b[0m: name 'console' is not defined"
     ]
    }
   ],
   "source": [
    "result1 = optimizer.optimize_prompt(\n",
    "    prompt=initial_prompt,\n",
    "    dataset=opik_dataset,\n",
    "    metric=levenshtein_ratio,\n",
    "    n_trials=3,\n",
    "    n_samples=50\n",
    ")"
   ]
  },
  {
   "cell_type": "code",
   "execution_count": null,
   "metadata": {
    "colab": {
     "base_uri": "https://localhost:8080/",
     "height": 1000
    },
    "id": "nJVmhi5Gcnkj",
    "outputId": "e1061b2c-8397-4047-cbf2-ae703f5fd9ce"
   },
   "outputs": [],
   "source": [
    "result1.display()"
   ]
  },
  {
   "cell_type": "markdown",
   "metadata": {
    "id": "3_ppCUe6AGH8"
   },
   "source": [
    "What did we find? The result is a series of messages:"
   ]
  },
  {
   "cell_type": "code",
   "execution_count": null,
   "metadata": {
    "colab": {
     "base_uri": "https://localhost:8080/"
    },
    "id": "o1nDwurG_2qL",
    "outputId": "e6f09261-5b80-48f8-ccb0-034370ac12cf"
   },
   "outputs": [],
   "source": [
    "result1.details[\"chat_messages\"]"
   ]
  },
  {
   "cell_type": "markdown",
   "metadata": {
    "id": "jwVDZcN1ALzU"
   },
   "source": [
    "We'll see how we can use those in a few minutes."
   ]
  },
  {
   "cell_type": "markdown",
   "metadata": {
    "id": "PjAeG6L8cdYj"
   },
   "source": [
    "## MetaPromptOptimizer\n",
    "\n",
    "The MetaPromptOptimizer uses a clever idea: have the LLM generate better prompts!\n",
    "\n",
    "Here is the internal system meta-prompt to have the LLM generate better prompts.\n",
    "\n",
    "```text\n",
    "You are an expert prompt engineer. Your task is to improve prompts for any type of task.\n",
    "\n",
    "Focus on making the prompt more effective by:\n",
    "\n",
    "1. Being clear and specific about what is expected\n",
    "2. Providing necessary context and constraints\n",
    "3. Guiding the model to produce the desired output format\n",
    "4. Removing ambiguity and unnecessary elements\n",
    "5. Maintaining conciseness while being complete\n",
    "\n",
    "Return a JSON array of prompts with the following structure:\n",
    "{\n",
    "    \"prompts\": [\n",
    "        {\n",
    "            \"prompt\": \"the improved prompt text\",\n",
    "            \"improvement_focus\": \"what aspect this prompt improves\",\n",
    "            \"reasoning\": \"why this improvement should help\"\n",
    "        }\n",
    "    ]\n",
    "}\n",
    "```\n",
    "\n",
    "This can work quite well on simpler datasets. It doesn't do so well on HotPot as we will see.\n",
    "\n",
    "The MetaPromptOptimizer will try a number of rounds to try to find the best prompt."
   ]
  },
  {
   "cell_type": "code",
   "execution_count": null,
   "metadata": {
    "id": "2brgT9EGXDRW"
   },
   "outputs": [],
   "source": [
    "from opik_optimizer import (\n",
    "    MetaPromptOptimizer,\n",
    ")\n",
    "\n",
    "optimizer = MetaPromptOptimizer(\n",
    "    project_name=project_name,\n",
    "    model=\"openai/gpt-4o-mini\",  # Using gpt-4o-mini for evaluation for speed\n",
    "    max_rounds=1,  # Number of optimization rounds\n",
    "    num_prompts_per_round=2,  # Number of prompts to generate per round\n",
    "    improvement_threshold=0.01,  # Minimum improvement required to continue\n",
    "    temperature=0.1,  # Lower temperature for more focused responses\n",
    "    max_completion_tokens=5000,  # Maximum tokens for model completion\n",
    "    num_threads=1,  # Number of threads for parallel evaluation\n",
    "    subsample_size=20,  # Fixed subsample size\n",
    ")\n"
   ]
  },
  {
   "cell_type": "markdown",
   "metadata": {
    "id": "-RwrEfDCAZng"
   },
   "source": [
    "We won't do too many rounds, as this is an impossible problem without tools."
   ]
  },
  {
   "cell_type": "code",
   "execution_count": null,
   "metadata": {
    "colab": {
     "base_uri": "https://localhost:8080/",
     "height": 1000,
     "referenced_widgets": []
    },
    "collapsed": true,
    "id": "S2JmhR9kavmn",
    "jupyter": {
     "outputs_hidden": true
    },
    "outputId": "94b9132c-6cae-4e44-cbca-432667385798"
   },
   "outputs": [],
   "source": [
    "result2 = optimizer.optimize_prompt(\n",
    "    dataset=opik_dataset,\n",
    "    metric=levenshtein_ratio,\n",
    "    auto_continue=False,\n",
    "    n_samples=20,  # Explicitly set\n",
    "    use_subsample=True,  # Force using subsample for evaluation rounds\n",
    ")"
   ]
  },
  {
   "cell_type": "code",
   "execution_count": null,
   "metadata": {
    "colab": {
     "base_uri": "https://localhost:8080/",
     "height": 321
    },
    "id": "XkHo9GlWckWR",
    "outputId": "d0b4dd0c-124f-461f-dba8-3529dbf85cdb"
   },
   "outputs": [],
   "source": [
    "result2.display()"
   ]
  },
  {
   "cell_type": "markdown",
   "metadata": {
    "id": "z9DhnkNkkY2u"
   },
   "source": [
    "## MiproOptimizer\n",
    "\n",
    "MIPRO (Multi-Iteration Prompt Optimization) is an optimizer algorithm that refines both prompts and few-shot examples in a multi-stage LLM program. It works by generating, evaluating, and refining prompts to improve language model performance. MIPRO is a more advanced method than simply \"prompt hacking,\" offering real optimization of LLM workflows.\n",
    "\n",
    "This sophisticated method optimizes both instructions and examples together. Using Bayesian optimization (like the FewShotBayesianOptimizer), it finds the best combinations of both elements. Through multiple testing rounds, it creates an optimized prompt that pairs effective instructions with relevant examples.\n",
    "\n",
    "For thi first optimization, we aren't going to give it any tools to work with. Let's see how it works:"
   ]
  },
  {
   "cell_type": "code",
   "execution_count": 22,
   "metadata": {
    "id": "P5v7cOoBS-np"
   },
   "outputs": [],
   "source": [
    "from opik_optimizer import MiproOptimizer\n",
    "\n",
    "optimizer = MiproOptimizer(\n",
    "    model=\"openai/gpt-4o-mini\",  # LiteLLM or OpenAI name\n",
    "    project_name=project_name,\n",
    "    temperature=0.1,\n",
    "    num_threads=16,\n",
    ")"
   ]
  },
  {
   "cell_type": "markdown",
   "metadata": {
    "id": "lM3HmAKaES5Q"
   },
   "source": [
    "In order to use the MiproOptimizer we will need to define a task config"
   ]
  },
  {
   "cell_type": "code",
   "execution_count": 23,
   "metadata": {
    "colab": {
     "base_uri": "https://localhost:8080/",
     "height": 35
    },
    "id": "eQw3J9jaOn4c",
    "outputId": "b4e8ec44-445a-4884-e115-a368fb35bb7b"
   },
   "outputs": [],
   "source": [
    "\n",
    "from opik_optimizer import TaskConfig\n",
    "\n",
    "system_prompt = initial_prompt.formatted_messages[0][\"content\"]\n",
    "\n",
    "task_config = TaskConfig(\n",
    "    instruction_prompt=system_prompt,\n",
    "    input_dataset_fields=[\"question\"],\n",
    "    output_dataset_field=\"answer\",\n",
    "    use_chat_prompt=True,\n",
    ")\n"
   ]
  },
  {
   "cell_type": "code",
   "execution_count": 24,
   "metadata": {
    "colab": {
     "base_uri": "https://localhost:8080/",
     "height": 1000,
     "referenced_widgets": []
    },
    "id": "-yTxOdJbUOX7",
    "outputId": "80f68c06-74bb-410c-fc6d-0d806caf6c17"
   },
   "outputs": [
    {
     "data": {
      "text/html": [
       "<pre style=\"white-space:pre;overflow-x:auto;line-height:normal;font-family:Menlo,'DejaVu Sans Mono',consolas,'Courier New',monospace\"><span style=\"color: #7fbfbf; text-decoration-color: #7fbfbf\">[2025-06-05 15:11:34] </span><span style=\"color: #808000; text-decoration-color: #808000\">WARNING </span> Opik server does not support optimizations. Please upgrade    <a href=\"file:///Users/jacquesverre/Documents/code/opik/sdks/opik_optimizer/src/opik_optimizer/mipro_optimizer/mipro_optimizer.py\" target=\"_blank\"><span style=\"color: #7f7f7f; text-decoration-color: #7f7f7f\">mipro_optimizer.py</span></a><span style=\"color: #7f7f7f; text-decoration-color: #7f7f7f\">:</span><a href=\"file:///Users/jacquesverre/Documents/code/opik/sdks/opik_optimizer/src/opik_optimizer/mipro_optimizer/mipro_optimizer.py#239\" target=\"_blank\"><span style=\"color: #7f7f7f; text-decoration-color: #7f7f7f\">239</span></a>\n",
       "<span style=\"color: #7fbfbf; text-decoration-color: #7fbfbf\">                      </span>         opik.                                                         <span style=\"color: #7f7f7f; text-decoration-color: #7f7f7f\">                      </span>\n",
       "</pre>\n"
      ],
      "text/plain": [
       "\u001b[2;36m[2025-06-05 15:11:34]\u001b[0m\u001b[2;36m \u001b[0m\u001b[33mWARNING \u001b[0m Opik server does not support optimizations. Please upgrade    \u001b]8;id=982841;file:///Users/jacquesverre/Documents/code/opik/sdks/opik_optimizer/src/opik_optimizer/mipro_optimizer/mipro_optimizer.py\u001b\\\u001b[2mmipro_optimizer.py\u001b[0m\u001b]8;;\u001b\\\u001b[2m:\u001b[0m\u001b]8;id=552438;file:///Users/jacquesverre/Documents/code/opik/sdks/opik_optimizer/src/opik_optimizer/mipro_optimizer/mipro_optimizer.py#239\u001b\\\u001b[2m239\u001b[0m\u001b]8;;\u001b\\\n",
       "\u001b[2;36m                      \u001b[0m         opik.                                                         \u001b[2m                      \u001b[0m\n"
      ]
     },
     "metadata": {},
     "output_type": "display_data"
    },
    {
     "data": {
      "text/html": [
       "<pre style=\"white-space:pre;overflow-x:auto;line-height:normal;font-family:Menlo,'DejaVu Sans Mono',consolas,'Courier New',monospace\"><span style=\"color: #7fbfbf; text-decoration-color: #7fbfbf\">                      </span><span style=\"color: #808000; text-decoration-color: #808000\">WARNING </span> Continuing without Opik optimization tracking.                <a href=\"file:///Users/jacquesverre/Documents/code/opik/sdks/opik_optimizer/src/opik_optimizer/mipro_optimizer/mipro_optimizer.py\" target=\"_blank\"><span style=\"color: #7f7f7f; text-decoration-color: #7f7f7f\">mipro_optimizer.py</span></a><span style=\"color: #7f7f7f; text-decoration-color: #7f7f7f\">:</span><a href=\"file:///Users/jacquesverre/Documents/code/opik/sdks/opik_optimizer/src/opik_optimizer/mipro_optimizer/mipro_optimizer.py#245\" target=\"_blank\"><span style=\"color: #7f7f7f; text-decoration-color: #7f7f7f\">245</span></a>\n",
       "</pre>\n"
      ],
      "text/plain": [
       "\u001b[2;36m                     \u001b[0m\u001b[2;36m \u001b[0m\u001b[33mWARNING \u001b[0m Continuing without Opik optimization tracking.                \u001b]8;id=105458;file:///Users/jacquesverre/Documents/code/opik/sdks/opik_optimizer/src/opik_optimizer/mipro_optimizer/mipro_optimizer.py\u001b\\\u001b[2mmipro_optimizer.py\u001b[0m\u001b]8;;\u001b\\\u001b[2m:\u001b[0m\u001b]8;id=484107;file:///Users/jacquesverre/Documents/code/opik/sdks/opik_optimizer/src/opik_optimizer/mipro_optimizer/mipro_optimizer.py#245\u001b\\\u001b[2m245\u001b[0m\u001b]8;;\u001b\\\n"
      ]
     },
     "metadata": {},
     "output_type": "display_data"
    },
    {
     "name": "stdout",
     "output_type": "stream",
     "text": [
      "\n",
      "RUNNING WITH THE FOLLOWING LIGHT AUTO RUN SETTINGS:\n",
      "num_trials: 7\n",
      "minibatch: False\n",
      "num_candidates: 5\n",
      "valset size: 40\n",
      "\n",
      "\n",
      "==> STEP 1: BOOTSTRAP FEWSHOT EXAMPLES <==\n",
      "These will be used as few-shot example candidates for our program and for creating instructions.\n",
      "\n",
      "Bootstrapping N=5 sets of demonstrations...\n",
      "Bootstrapping set 1/5\n",
      "Bootstrapping set 2/5\n",
      "Bootstrapping set 3/5\n"
     ]
    },
    {
     "name": "stderr",
     "output_type": "stream",
     "text": [
      "  0%|          | 0/10 [00:00<?, ?it/s]OPIK: Started logging traces to the \"Default Project\" project at https://www.comet.com/opik/api/v1/session/redirect/projects/?trace_id=0197406e-d95d-7430-a92d-2a1be9ddae0f&path=aHR0cHM6Ly93d3cuY29tZXQuY29tL29waWsvYXBpLw==.\n",
      " 10%|█         | 1/10 [00:00<00:08,  1.12it/s]OPIK: Started logging traces to the \"optimize-workshop-2025\" project at https://www.comet.com/opik/api/v1/session/redirect/projects/?trace_id=0197406e-d95f-7681-89ea-45bc8f530ecd&path=aHR0cHM6Ly93d3cuY29tZXQuY29tL29waWsvYXBpLw==.\n",
      "OPIK: Started logging traces to the \"Default Project\" project at https://www.comet.com/opik/api/v1/session/redirect/projects/?trace_id=0197406e-decc-7616-b3b1-2ead014b9653&path=aHR0cHM6Ly93d3cuY29tZXQuY29tL29waWsvYXBpLw==.\n",
      " 20%|██        | 2/10 [00:02<00:09,  1.19s/it]OPIK: Started logging traces to the \"optimize-workshop-2025\" project at https://www.comet.com/opik/api/v1/session/redirect/projects/?trace_id=0197406e-dece-7dbe-8179-69ace3e87644&path=aHR0cHM6Ly93d3cuY29tZXQuY29tL29waWsvYXBpLw==.\n",
      "OPIK: Started logging traces to the \"Default Project\" project at https://www.comet.com/opik/api/v1/session/redirect/projects/?trace_id=0197406e-e1fa-7059-84aa-a8346a0e2466&path=aHR0cHM6Ly93d3cuY29tZXQuY29tL29waWsvYXBpLw==.\n",
      " 30%|███       | 3/10 [00:03<00:07,  1.02s/it]OPIK: Started logging traces to the \"optimize-workshop-2025\" project at https://www.comet.com/opik/api/v1/session/redirect/projects/?trace_id=0197406e-e1fc-784d-94d3-3e811e125539&path=aHR0cHM6Ly93d3cuY29tZXQuY29tL29waWsvYXBpLw==.\n",
      "OPIK: Started logging traces to the \"Default Project\" project at https://www.comet.com/opik/api/v1/session/redirect/projects/?trace_id=0197406e-e456-7890-92a9-6589769968ec&path=aHR0cHM6Ly93d3cuY29tZXQuY29tL29waWsvYXBpLw==.\n",
      " 40%|████      | 4/10 [00:03<00:05,  1.08it/s]\n"
     ]
    },
    {
     "name": "stdout",
     "output_type": "stream",
     "text": [
      "Bootstrapped 4 full traces after 4 examples for up to 1 rounds, amounting to 4 attempts.\n",
      "Bootstrapping set 4/5\n"
     ]
    },
    {
     "name": "stderr",
     "output_type": "stream",
     "text": [
      "  0%|          | 0/10 [00:00<?, ?it/s]OPIK: Started logging traces to the \"optimize-workshop-2025\" project at https://www.comet.com/opik/api/v1/session/redirect/projects/?trace_id=0197406e-e45b-7794-b156-83cbed71fc23&path=aHR0cHM6Ly93d3cuY29tZXQuY29tL29waWsvYXBpLw==.\n",
      "OPIK: Started logging traces to the \"Default Project\" project at https://www.comet.com/opik/api/v1/session/redirect/projects/?trace_id=0197406e-e7fc-7f9e-98cf-84ecea279e23&path=aHR0cHM6Ly93d3cuY29tZXQuY29tL29waWsvYXBpLw==.\n",
      " 10%|█         | 1/10 [00:00<00:08,  1.07it/s]OPIK: Started logging traces to the \"optimize-workshop-2025\" project at https://www.comet.com/opik/api/v1/session/redirect/projects/?trace_id=0197406e-e7fe-7afe-9651-25c3acbe3457&path=aHR0cHM6Ly93d3cuY29tZXQuY29tL29waWsvYXBpLw==.\n",
      "OPIK: Started logging traces to the \"Default Project\" project at https://www.comet.com/opik/api/v1/session/redirect/projects/?trace_id=0197406e-eb6f-7f92-8bf7-3729718c7c28&path=aHR0cHM6Ly93d3cuY29tZXQuY29tL29waWsvYXBpLw==.\n",
      " 20%|██        | 2/10 [00:01<00:07,  1.11it/s]OPIK: Started logging traces to the \"optimize-workshop-2025\" project at https://www.comet.com/opik/api/v1/session/redirect/projects/?trace_id=0197406e-eb71-7e3b-9712-1271a666151a&path=aHR0cHM6Ly93d3cuY29tZXQuY29tL29waWsvYXBpLw==.\n",
      "OPIK: Started logging traces to the \"Default Project\" project at https://www.comet.com/opik/api/v1/session/redirect/projects/?trace_id=0197406e-ef3b-7c59-89b9-3531710fc605&path=aHR0cHM6Ly93d3cuY29tZXQuY29tL29waWsvYXBpLw==.\n",
      " 30%|███       | 3/10 [00:02<00:06,  1.08it/s]\n"
     ]
    },
    {
     "name": "stdout",
     "output_type": "stream",
     "text": [
      "Bootstrapped 3 full traces after 3 examples for up to 1 rounds, amounting to 3 attempts.\n",
      "Bootstrapping set 5/5\n"
     ]
    },
    {
     "name": "stderr",
     "output_type": "stream",
     "text": [
      "  0%|          | 0/10 [00:00<?, ?it/s]OPIK: Started logging traces to the \"optimize-workshop-2025\" project at https://www.comet.com/opik/api/v1/session/redirect/projects/?trace_id=0197406e-ef3d-7fa5-91e1-81cbebd49a93&path=aHR0cHM6Ly93d3cuY29tZXQuY29tL29waWsvYXBpLw==.\n",
      "OPIK: Started logging traces to the \"Default Project\" project at https://www.comet.com/opik/api/v1/session/redirect/projects/?trace_id=0197406e-f44f-7037-bf69-d4f7577e0c67&path=aHR0cHM6Ly93d3cuY29tZXQuY29tL29waWsvYXBpLw==.\n",
      " 10%|█         | 1/10 [00:01<00:11,  1.30s/it]OPIK: Started logging traces to the \"optimize-workshop-2025\" project at https://www.comet.com/opik/api/v1/session/redirect/projects/?trace_id=0197406e-f451-7cb5-ad40-69f85f132537&path=aHR0cHM6Ly93d3cuY29tZXQuY29tL29waWsvYXBpLw==.\n",
      "OPIK: Started logging traces to the \"Default Project\" project at https://www.comet.com/opik/api/v1/session/redirect/projects/?trace_id=0197406e-f75a-75dc-9e03-34fc87e509bd&path=aHR0cHM6Ly93d3cuY29tZXQuY29tL29waWsvYXBpLw==.\n",
      " 20%|██        | 2/10 [00:02<00:08,  1.04s/it]\n"
     ]
    },
    {
     "name": "stdout",
     "output_type": "stream",
     "text": [
      "Bootstrapped 2 full traces after 2 examples for up to 1 rounds, amounting to 2 attempts.\n",
      "\n",
      "==> STEP 2: PROPOSE INSTRUCTION CANDIDATES <==\n",
      "We will use the few-shot examples from the previous step, a generated dataset summary, a summary of the program code, and a randomly selected prompting tip to propose instructions.\n",
      "SOURCE CODE: \n",
      "\n",
      "\n"
     ]
    },
    {
     "name": "stderr",
     "output_type": "stream",
     "text": [
      "OPIK: Started logging traces to the \"optimize-workshop-2025\" project at https://www.comet.com/opik/api/v1/session/redirect/projects/?trace_id=0197406e-f75e-74f6-8985-8ce25858463e&path=aHR0cHM6Ly93d3cuY29tZXQuY29tL29waWsvYXBpLw==.\n"
     ]
    },
    {
     "name": "stdout",
     "output_type": "stream",
     "text": [
      "DATA SUMMARY: The dataset consists of trivia questions across diverse topics such as sports, music, film, geography, and dog breeds, primarily formatted in a 'who,' 'what,' or 'when' style for factual recall. It includes both specific detail-oriented questions and comparison-based inquiries, indicating its intended use for a trivia game or knowledge assessment tool. The syntax is straightforward and concise, enhancing usability and comprehension.\n",
      "\n",
      "Proposing instructions...\n",
      "\n",
      "Using a randomly generated configuration for our grounded proposer.\n",
      "Selected tip: none\n",
      "PROGRAM DESCRIPTION: The program appears to be designed to facilitate the interaction with language models to solve specific tasks. It likely includes a pipeline that takes input data, processes it through various steps, and retrieves output from a language model based on the defined task. The program might involve components such as input handling, calling the language model with the appropriate parameters, and formatting the response for user readability. However, without specific examples or details in the provided code, it is difficult to ascertain the exact nature of the tasks it is meant to solve or the specific methodologies it employs.\n",
      "task_demos No task demos provided.\n",
      "\n",
      "\n",
      "\n",
      "\n",
      "\u001b[34m[2025-06-05T15:11:55.695385]\u001b[0m\n",
      "\n",
      "\u001b[31mSystem message:\u001b[0m\n",
      "\n",
      "Your input fields are:\n",
      "1. `dataset_description` (str): A description of the dataset that we are using.\n",
      "2. `program_code` (str): Language model program designed to solve a particular task.\n",
      "3. `program_description` (str): Summary of the task the program is designed to solve, and how it goes about solving it.\n",
      "4. `module` (str): The module to create an instruction for.\n",
      "5. `module_description` (str): Description of the module to create an instruction for.\n",
      "6. `task_demos` (str): Example inputs/outputs of our module.\n",
      "7. `basic_instruction` (str): Basic instruction.\n",
      "Your output fields are:\n",
      "1. `proposed_instruction` (str): Propose an instruction that will be used to prompt a Language Model to perform this task.\n",
      "All interactions will be structured in the following way, with the appropriate values filled in.\n",
      "\n",
      "[[ ## dataset_description ## ]]\n",
      "{dataset_description}\n",
      "\n",
      "[[ ## program_code ## ]]\n",
      "{program_code}\n",
      "\n",
      "[[ ## program_description ## ]]\n",
      "{program_description}\n",
      "\n",
      "[[ ## module ## ]]\n",
      "{module}\n",
      "\n",
      "[[ ## module_description ## ]]\n",
      "{module_description}\n",
      "\n",
      "[[ ## task_demos ## ]]\n",
      "{task_demos}\n",
      "\n",
      "[[ ## basic_instruction ## ]]\n",
      "{basic_instruction}\n",
      "\n",
      "[[ ## proposed_instruction ## ]]\n",
      "{proposed_instruction}\n",
      "\n",
      "[[ ## completed ## ]]\n",
      "In adhering to this structure, your objective is: \n",
      "        Use the information below to learn about a task that we are trying to solve using calls to an LM, then generate a new instruction that will be used to prompt a Language Model to better solve the task.\n",
      "\n",
      "\n",
      "\u001b[31mUser message:\u001b[0m\n",
      "\n",
      "[[ ## dataset_description ## ]]\n",
      "The dataset consists of trivia questions across diverse topics such as sports, music, film, geography, and dog breeds, primarily formatted in a 'who,' 'what,' or 'when' style for factual recall. It includes both specific detail-oriented questions and comparison-based inquiries, indicating its intended use for a trivia game or knowledge assessment tool. The syntax is straightforward and concise, enhancing usability and comprehension.\n",
      "\n",
      "[[ ## program_code ## ]]\n",
      "\n",
      "\n",
      "\n",
      "\n",
      "[[ ## program_description ## ]]\n",
      "The program appears to be designed to facilitate the interaction with language models to solve specific tasks. It likely includes a pipeline that takes input data, processes it through various steps, and retrieves output from a language model based on the defined task. The program might involve components such as input handling, calling the language model with the appropriate parameters, and formatting the response for user readability. However, without specific examples or details in the provided code, it is difficult to ascertain the exact nature of the tasks it is meant to solve or the specific methodologies it employs.\n",
      "\n",
      "[[ ## module ## ]]\n",
      "Predict(question) -> answer\n",
      "\n",
      "[[ ## module_description ## ]]\n",
      "The `Predict(question) -> answer` module is responsible for generating responses to user queries by leveraging a language model. This module takes a question as input and processes it through the language model to produce a relevant answer. Its role is critical in the pipeline, as it directly interfaces with the language model's capabilities, translating user inquiries into actionable outputs. The effectiveness of this module determines the quality and accuracy of the answers provided, making it a central component in fulfilling the program's task of solving specific user queries.\n",
      "\n",
      "[[ ## task_demos ## ]]\n",
      "No task demos provided.\n",
      "\n",
      "[[ ## basic_instruction ## ]]\n",
      "Provide an answer to the question\n",
      "\n",
      "Respond with the corresponding output fields, starting with the field `[[ ## proposed_instruction ## ]]`, and then ending with the marker for `[[ ## completed ## ]]`.\n",
      "\n",
      "\n",
      "\u001b[31mResponse:\u001b[0m\n",
      "\n",
      "\u001b[32m[[ ## proposed_instruction ## ]]\n",
      "Given a trivia question, use the `Predict(question) -> answer` module to provide an accurate and concise answer based on the knowledge available in the dataset.\n",
      "\n",
      "[[ ## completed ## ]]\u001b[0m\n",
      "\n",
      "\n",
      "\n",
      "\n",
      "\n",
      "PROPOSED INSTRUCTION: Given a trivia question, use the `Predict(question) -> answer` module to provide an accurate and concise answer based on the knowledge available in the dataset.\n",
      "Using a randomly generated configuration for our grounded proposer.\n",
      "Selected tip: description\n",
      "PROGRAM DESCRIPTION: The program is designed to answer questions by retrieving specific information from a knowledge base or dataset. It takes user queries in the form of questions and generates accurate answers based on the context provided. The program utilizes a language model to interpret the questions and formulate responses by identifying relevant facts or details. For instance, it successfully identifies the end date of a coach's tenure, confirms the classification of musical entities, and attributes credits to artists based on the input queries.\n",
      "task_demos Question: When did the coach of the Karachi Kings finish his time as coach of the Australia national cricket team ?\n",
      "Answer: The coach of the Karachi Kings, Mickey Arthur, finished his time as coach of the Australia national cricket team in 2013.\n",
      "\n",
      "Question: Are Hüsker Dü and The Colourist both musical bands?\n",
      "Answer: Yes, both Hüsker Dü and The Colourist are musical bands.\n",
      "\n",
      "Question: What American singer born 1951 does Jim Rooney  have credits for?\n",
      "Answer: Jim Rooney has credits for the American singer-songwriter Nanci Griffith, who was born in 1951.\n",
      "\n",
      "\n",
      "\n",
      "\n",
      "\n",
      "\n",
      "\u001b[34m[2025-06-05T15:12:01.204835]\u001b[0m\n",
      "\n",
      "\u001b[31mSystem message:\u001b[0m\n",
      "\n",
      "Your input fields are:\n",
      "1. `dataset_description` (str): A description of the dataset that we are using.\n",
      "2. `program_code` (str): Language model program designed to solve a particular task.\n",
      "3. `program_description` (str): Summary of the task the program is designed to solve, and how it goes about solving it.\n",
      "4. `module` (str): The module to create an instruction for.\n",
      "5. `module_description` (str): Description of the module to create an instruction for.\n",
      "6. `task_demos` (str): Example inputs/outputs of our module.\n",
      "7. `basic_instruction` (str): Basic instruction.\n",
      "8. `tip` (str): A suggestion for how to go about generating the new instruction.\n",
      "Your output fields are:\n",
      "1. `proposed_instruction` (str): Propose an instruction that will be used to prompt a Language Model to perform this task.\n",
      "All interactions will be structured in the following way, with the appropriate values filled in.\n",
      "\n",
      "[[ ## dataset_description ## ]]\n",
      "{dataset_description}\n",
      "\n",
      "[[ ## program_code ## ]]\n",
      "{program_code}\n",
      "\n",
      "[[ ## program_description ## ]]\n",
      "{program_description}\n",
      "\n",
      "[[ ## module ## ]]\n",
      "{module}\n",
      "\n",
      "[[ ## module_description ## ]]\n",
      "{module_description}\n",
      "\n",
      "[[ ## task_demos ## ]]\n",
      "{task_demos}\n",
      "\n",
      "[[ ## basic_instruction ## ]]\n",
      "{basic_instruction}\n",
      "\n",
      "[[ ## tip ## ]]\n",
      "{tip}\n",
      "\n",
      "[[ ## proposed_instruction ## ]]\n",
      "{proposed_instruction}\n",
      "\n",
      "[[ ## completed ## ]]\n",
      "In adhering to this structure, your objective is: \n",
      "        Use the information below to learn about a task that we are trying to solve using calls to an LM, then generate a new instruction that will be used to prompt a Language Model to better solve the task.\n",
      "\n",
      "\n",
      "\u001b[31mUser message:\u001b[0m\n",
      "\n",
      "[[ ## dataset_description ## ]]\n",
      "The dataset consists of trivia questions across diverse topics such as sports, music, film, geography, and dog breeds, primarily formatted in a 'who,' 'what,' or 'when' style for factual recall. It includes both specific detail-oriented questions and comparison-based inquiries, indicating its intended use for a trivia game or knowledge assessment tool. The syntax is straightforward and concise, enhancing usability and comprehension.\n",
      "\n",
      "[[ ## program_code ## ]]\n",
      "\n",
      "\n",
      "\n",
      "\n",
      "[[ ## program_description ## ]]\n",
      "The program is designed to answer questions by retrieving specific information from a knowledge base or dataset. It takes user queries in the form of questions and generates accurate answers based on the context provided. The program utilizes a language model to interpret the questions and formulate responses by identifying relevant facts or details. For instance, it successfully identifies the end date of a coach's tenure, confirms the classification of musical entities, and attributes credits to artists based on the input queries.\n",
      "\n",
      "[[ ## module ## ]]\n",
      "Predict(question) -> answer\n",
      "\n",
      "[[ ## module_description ## ]]\n",
      "The `Predict(question) -> answer` module is responsible for processing user queries by utilizing a language model to generate responses. It interprets the input question, analyzes the context, and retrieves relevant information from the knowledge base to formulate accurate answers. This module plays a critical role in ensuring that the program can effectively understand and respond to a wide range of inquiries, thereby enhancing the overall user experience by providing informative and precise answers.\n",
      "\n",
      "[[ ## task_demos ## ]]\n",
      "Question: When did the coach of the Karachi Kings finish his time as coach of the Australia national cricket team ?\n",
      "Answer: The coach of the Karachi Kings, Mickey Arthur, finished his time as coach of the Australia national cricket team in 2013.\n",
      "\n",
      "Question: Are Hüsker Dü and The Colourist both musical bands?\n",
      "Answer: Yes, both Hüsker Dü and The Colourist are musical bands.\n",
      "\n",
      "Question: What American singer born 1951 does Jim Rooney  have credits for?\n",
      "Answer: Jim Rooney has credits for the American singer-songwriter Nanci Griffith, who was born in 1951.\n",
      "\n",
      "\n",
      "\n",
      "[[ ## basic_instruction ## ]]\n",
      "Provide an answer to the question\n",
      "\n",
      "[[ ## tip ## ]]\n",
      "Make sure your instruction is very informative and descriptive.\n",
      "\n",
      "Respond with the corresponding output fields, starting with the field `[[ ## proposed_instruction ## ]]`, and then ending with the marker for `[[ ## completed ## ]]`.\n",
      "\n",
      "\n",
      "\u001b[31mResponse:\u001b[0m\n",
      "\n",
      "\u001b[32m[[ ## proposed_instruction ## ]]\n",
      "Using the `Predict(question) -> answer` module, please provide a detailed and accurate answer to the following trivia question. Ensure that your response is based on the information retrieved from the knowledge base, and clarify any context necessary to support your answer. \n",
      "\n",
      "[[ ## completed ## ]]\u001b[0m\n",
      "\n",
      "\n",
      "\n",
      "\n",
      "\n",
      "PROPOSED INSTRUCTION: Using the `Predict(question) -> answer` module, please provide a detailed and accurate answer to the following trivia question. Ensure that your response is based on the information retrieved from the knowledge base, and clarify any context necessary to support your answer.\n",
      "Using a randomly generated configuration for our grounded proposer.\n",
      "Selected tip: simple\n",
      "PROGRAM DESCRIPTION: The program is designed to answer questions by providing relevant information based on a given query. It utilizes a language model to interpret the questions and generate accurate responses. The program takes a variety of questions, including those about historical events, music bands, and notable individuals, and produces concise answers that directly address the inquiries. By leveraging the capabilities of a language model, it aims to deliver informative and precise answers to users' questions.\n",
      "task_demos Question: When did the coach of the Karachi Kings finish his time as coach of the Australia national cricket team ?\n",
      "Answer: The coach of the Karachi Kings, Mickey Arthur, finished his time as coach of the Australia national cricket team in 2013.\n",
      "\n",
      "Question: Are Hüsker Dü and The Colourist both musical bands?\n",
      "Answer: Yes, both Hüsker Dü and The Colourist are musical bands.\n",
      "\n",
      "Question: What American singer born 1951 does Jim Rooney  have credits for?\n",
      "Answer: Jim Rooney has credits for the American singer-songwriter Nanci Griffith, who was born in 1951.\n",
      "\n",
      "\n",
      "\n",
      "\n",
      "\n",
      "\n",
      "\u001b[34m[2025-06-05T15:12:05.995983]\u001b[0m\n",
      "\n",
      "\u001b[31mSystem message:\u001b[0m\n",
      "\n",
      "Your input fields are:\n",
      "1. `dataset_description` (str): A description of the dataset that we are using.\n",
      "2. `program_code` (str): Language model program designed to solve a particular task.\n",
      "3. `program_description` (str): Summary of the task the program is designed to solve, and how it goes about solving it.\n",
      "4. `module` (str): The module to create an instruction for.\n",
      "5. `module_description` (str): Description of the module to create an instruction for.\n",
      "6. `task_demos` (str): Example inputs/outputs of our module.\n",
      "7. `basic_instruction` (str): Basic instruction.\n",
      "8. `tip` (str): A suggestion for how to go about generating the new instruction.\n",
      "Your output fields are:\n",
      "1. `proposed_instruction` (str): Propose an instruction that will be used to prompt a Language Model to perform this task.\n",
      "All interactions will be structured in the following way, with the appropriate values filled in.\n",
      "\n",
      "[[ ## dataset_description ## ]]\n",
      "{dataset_description}\n",
      "\n",
      "[[ ## program_code ## ]]\n",
      "{program_code}\n",
      "\n",
      "[[ ## program_description ## ]]\n",
      "{program_description}\n",
      "\n",
      "[[ ## module ## ]]\n",
      "{module}\n",
      "\n",
      "[[ ## module_description ## ]]\n",
      "{module_description}\n",
      "\n",
      "[[ ## task_demos ## ]]\n",
      "{task_demos}\n",
      "\n",
      "[[ ## basic_instruction ## ]]\n",
      "{basic_instruction}\n",
      "\n",
      "[[ ## tip ## ]]\n",
      "{tip}\n",
      "\n",
      "[[ ## proposed_instruction ## ]]\n",
      "{proposed_instruction}\n",
      "\n",
      "[[ ## completed ## ]]\n",
      "In adhering to this structure, your objective is: \n",
      "        Use the information below to learn about a task that we are trying to solve using calls to an LM, then generate a new instruction that will be used to prompt a Language Model to better solve the task.\n",
      "\n",
      "\n",
      "\u001b[31mUser message:\u001b[0m\n",
      "\n",
      "[[ ## dataset_description ## ]]\n",
      "The dataset consists of trivia questions across diverse topics such as sports, music, film, geography, and dog breeds, primarily formatted in a 'who,' 'what,' or 'when' style for factual recall. It includes both specific detail-oriented questions and comparison-based inquiries, indicating its intended use for a trivia game or knowledge assessment tool. The syntax is straightforward and concise, enhancing usability and comprehension.\n",
      "\n",
      "[[ ## program_code ## ]]\n",
      "\n",
      "\n",
      "\n",
      "\n",
      "[[ ## program_description ## ]]\n",
      "The program is designed to answer questions by providing relevant information based on a given query. It utilizes a language model to interpret the questions and generate accurate responses. The program takes a variety of questions, including those about historical events, music bands, and notable individuals, and produces concise answers that directly address the inquiries. By leveraging the capabilities of a language model, it aims to deliver informative and precise answers to users' questions.\n",
      "\n",
      "[[ ## module ## ]]\n",
      "Predict(question) -> answer\n",
      "\n",
      "[[ ## module_description ## ]]\n",
      "The `Predict(question) -> answer` module is responsible for interpreting the user's query and generating a relevant response. It utilizes the capabilities of the language model to analyze the input question, understand its context, and produce an accurate answer. This module plays a crucial role in the overall functionality of the program by transforming user queries into concise, informative responses, thereby enabling effective communication and knowledge sharing.\n",
      "\n",
      "[[ ## task_demos ## ]]\n",
      "Question: When did the coach of the Karachi Kings finish his time as coach of the Australia national cricket team ?\n",
      "Answer: The coach of the Karachi Kings, Mickey Arthur, finished his time as coach of the Australia national cricket team in 2013.\n",
      "\n",
      "Question: Are Hüsker Dü and The Colourist both musical bands?\n",
      "Answer: Yes, both Hüsker Dü and The Colourist are musical bands.\n",
      "\n",
      "Question: What American singer born 1951 does Jim Rooney  have credits for?\n",
      "Answer: Jim Rooney has credits for the American singer-songwriter Nanci Griffith, who was born in 1951.\n",
      "\n",
      "\n",
      "\n",
      "[[ ## basic_instruction ## ]]\n",
      "Provide an answer to the question\n",
      "\n",
      "[[ ## tip ## ]]\n",
      "Keep the instruction clear and concise.\n",
      "\n",
      "Respond with the corresponding output fields, starting with the field `[[ ## proposed_instruction ## ]]`, and then ending with the marker for `[[ ## completed ## ]]`.\n",
      "\n",
      "\n",
      "\u001b[31mResponse:\u001b[0m\n",
      "\n",
      "\u001b[32m[[ ## proposed_instruction ## ]]\n",
      "Answer the following trivia question by providing a concise and accurate response based on the information available.\n",
      "\n",
      "[[ ## completed ## ]]\u001b[0m\n",
      "\n",
      "\n",
      "\n",
      "\n",
      "\n",
      "PROPOSED INSTRUCTION: Answer the following trivia question by providing a concise and accurate response based on the information available.\n",
      "Using a randomly generated configuration for our grounded proposer.\n",
      "Selected tip: simple\n",
      "PROGRAM DESCRIPTION: The program is designed to answer questions related to music, specifically about artists, bands, and their affiliations. It processes input questions and generates informative answers by leveraging knowledge about musicians, their birth years, and band memberships. The program identifies the relevant information and provides concise and accurate responses, demonstrating its capability to understand and retrieve data about the music industry.\n",
      "task_demos Question: What American singer born 1951 does Jim Rooney  have credits for?\n",
      "Answer: Jim Rooney has credits for the American singer-songwriter Nanci Griffith, who was born in 1951.\n",
      "\n",
      "Question: Which band from East London had Steve Marriott as a band member?\n",
      "Answer: The Small Faces\n",
      "\n",
      "Question: Are Hüsker Dü and The Colourist both musical bands?\n",
      "Answer: Yes, Hüsker Dü and The Colourist are both musical bands.\n",
      "\n",
      "\n",
      "\n",
      "\n",
      "\n",
      "\n",
      "\u001b[34m[2025-06-05T15:12:10.398716]\u001b[0m\n",
      "\n",
      "\u001b[31mSystem message:\u001b[0m\n",
      "\n",
      "Your input fields are:\n",
      "1. `dataset_description` (str): A description of the dataset that we are using.\n",
      "2. `program_code` (str): Language model program designed to solve a particular task.\n",
      "3. `program_description` (str): Summary of the task the program is designed to solve, and how it goes about solving it.\n",
      "4. `module` (str): The module to create an instruction for.\n",
      "5. `module_description` (str): Description of the module to create an instruction for.\n",
      "6. `task_demos` (str): Example inputs/outputs of our module.\n",
      "7. `basic_instruction` (str): Basic instruction.\n",
      "8. `tip` (str): A suggestion for how to go about generating the new instruction.\n",
      "Your output fields are:\n",
      "1. `proposed_instruction` (str): Propose an instruction that will be used to prompt a Language Model to perform this task.\n",
      "All interactions will be structured in the following way, with the appropriate values filled in.\n",
      "\n",
      "[[ ## dataset_description ## ]]\n",
      "{dataset_description}\n",
      "\n",
      "[[ ## program_code ## ]]\n",
      "{program_code}\n",
      "\n",
      "[[ ## program_description ## ]]\n",
      "{program_description}\n",
      "\n",
      "[[ ## module ## ]]\n",
      "{module}\n",
      "\n",
      "[[ ## module_description ## ]]\n",
      "{module_description}\n",
      "\n",
      "[[ ## task_demos ## ]]\n",
      "{task_demos}\n",
      "\n",
      "[[ ## basic_instruction ## ]]\n",
      "{basic_instruction}\n",
      "\n",
      "[[ ## tip ## ]]\n",
      "{tip}\n",
      "\n",
      "[[ ## proposed_instruction ## ]]\n",
      "{proposed_instruction}\n",
      "\n",
      "[[ ## completed ## ]]\n",
      "In adhering to this structure, your objective is: \n",
      "        Use the information below to learn about a task that we are trying to solve using calls to an LM, then generate a new instruction that will be used to prompt a Language Model to better solve the task.\n",
      "\n",
      "\n",
      "\u001b[31mUser message:\u001b[0m\n",
      "\n",
      "[[ ## dataset_description ## ]]\n",
      "The dataset consists of trivia questions across diverse topics such as sports, music, film, geography, and dog breeds, primarily formatted in a 'who,' 'what,' or 'when' style for factual recall. It includes both specific detail-oriented questions and comparison-based inquiries, indicating its intended use for a trivia game or knowledge assessment tool. The syntax is straightforward and concise, enhancing usability and comprehension.\n",
      "\n",
      "[[ ## program_code ## ]]\n",
      "\n",
      "\n",
      "\n",
      "\n",
      "[[ ## program_description ## ]]\n",
      "The program is designed to answer questions related to music, specifically about artists, bands, and their affiliations. It processes input questions and generates informative answers by leveraging knowledge about musicians, their birth years, and band memberships. The program identifies the relevant information and provides concise and accurate responses, demonstrating its capability to understand and retrieve data about the music industry.\n",
      "\n",
      "[[ ## module ## ]]\n",
      "Predict(question) -> answer\n",
      "\n",
      "[[ ## module_description ## ]]\n",
      "The `Predict(question) -> answer` module is responsible for interpreting the input question and generating a relevant answer based on the program's knowledge base. It utilizes natural language processing techniques to understand the context and specific details of the question posed about music. This module plays a crucial role in the overall functionality of the program, as it transforms user inquiries into well-informed responses, effectively bridging the gap between the user's curiosity and the comprehensive information stored about music artists and bands.\n",
      "\n",
      "[[ ## task_demos ## ]]\n",
      "Question: What American singer born 1951 does Jim Rooney  have credits for?\n",
      "Answer: Jim Rooney has credits for the American singer-songwriter Nanci Griffith, who was born in 1951.\n",
      "\n",
      "Question: Which band from East London had Steve Marriott as a band member?\n",
      "Answer: The Small Faces\n",
      "\n",
      "Question: Are Hüsker Dü and The Colourist both musical bands?\n",
      "Answer: Yes, Hüsker Dü and The Colourist are both musical bands.\n",
      "\n",
      "\n",
      "\n",
      "[[ ## basic_instruction ## ]]\n",
      "Provide an answer to the question\n",
      "\n",
      "[[ ## tip ## ]]\n",
      "Keep the instruction clear and concise.\n",
      "\n",
      "Respond with the corresponding output fields, starting with the field `[[ ## proposed_instruction ## ]]`, and then ending with the marker for `[[ ## completed ## ]]`.\n",
      "\n",
      "\n",
      "\u001b[31mResponse:\u001b[0m\n",
      "\n",
      "\u001b[32m[[ ## proposed_instruction ## ]]\n",
      "Answer the following music-related question based on your knowledge of artists, bands, and their affiliations.\n",
      "\n",
      "[[ ## completed ## ]]\u001b[0m\n",
      "\n",
      "\n",
      "\n",
      "\n",
      "\n",
      "PROPOSED INSTRUCTION: Answer the following music-related question based on your knowledge of artists, bands, and their affiliations.\n",
      "Using a randomly generated configuration for our grounded proposer.\n",
      "Selected tip: simple\n",
      "PROGRAM DESCRIPTION: The program appears to be designed to answer trivia questions or provide factual information based on specific queries. It utilizes a language model to process the input questions and generate concise, accurate answers. The task is accomplished by interpreting the question, retrieving relevant information, and formulating a response that addresses the query directly. Each example showcases a question followed by a well-structured answer, indicating the program's capability to handle various topics and provide informative responses.\n",
      "task_demos Question: What American singer born 1951 does Jim Rooney  have credits for?\n",
      "Answer: Jim Rooney has credits for American singer-songwriter Nanci Griffith, born in 1951.\n",
      "\n",
      "Question: Daniel Massey starred in The Queen's Guards alongside which actor, who was once regarded as the natural successor to Laurence Olivier?\n",
      "Answer: John Gielgud\n",
      "\n",
      "Question: When did the coach of the Karachi Kings finish his time as coach of the Australia national cricket team ?\n",
      "Answer: The coach of the Karachi Kings, Mickey Arthur, finished his time as coach of the Australia national cricket team in 2013.\n",
      "\n",
      "\n",
      "\n",
      "\n",
      "\n",
      "\n",
      "\u001b[34m[2025-06-05T15:12:16.576777]\u001b[0m\n",
      "\n",
      "\u001b[31mSystem message:\u001b[0m\n",
      "\n",
      "Your input fields are:\n",
      "1. `dataset_description` (str): A description of the dataset that we are using.\n",
      "2. `program_code` (str): Language model program designed to solve a particular task.\n",
      "3. `program_description` (str): Summary of the task the program is designed to solve, and how it goes about solving it.\n",
      "4. `module` (str): The module to create an instruction for.\n",
      "5. `module_description` (str): Description of the module to create an instruction for.\n",
      "6. `task_demos` (str): Example inputs/outputs of our module.\n",
      "7. `basic_instruction` (str): Basic instruction.\n",
      "8. `tip` (str): A suggestion for how to go about generating the new instruction.\n",
      "Your output fields are:\n",
      "1. `proposed_instruction` (str): Propose an instruction that will be used to prompt a Language Model to perform this task.\n",
      "All interactions will be structured in the following way, with the appropriate values filled in.\n",
      "\n",
      "[[ ## dataset_description ## ]]\n",
      "{dataset_description}\n",
      "\n",
      "[[ ## program_code ## ]]\n",
      "{program_code}\n",
      "\n",
      "[[ ## program_description ## ]]\n",
      "{program_description}\n",
      "\n",
      "[[ ## module ## ]]\n",
      "{module}\n",
      "\n",
      "[[ ## module_description ## ]]\n",
      "{module_description}\n",
      "\n",
      "[[ ## task_demos ## ]]\n",
      "{task_demos}\n",
      "\n",
      "[[ ## basic_instruction ## ]]\n",
      "{basic_instruction}\n",
      "\n",
      "[[ ## tip ## ]]\n",
      "{tip}\n",
      "\n",
      "[[ ## proposed_instruction ## ]]\n",
      "{proposed_instruction}\n",
      "\n",
      "[[ ## completed ## ]]\n",
      "In adhering to this structure, your objective is: \n",
      "        Use the information below to learn about a task that we are trying to solve using calls to an LM, then generate a new instruction that will be used to prompt a Language Model to better solve the task.\n",
      "\n",
      "\n",
      "\u001b[31mUser message:\u001b[0m\n",
      "\n",
      "[[ ## dataset_description ## ]]\n",
      "The dataset consists of trivia questions across diverse topics such as sports, music, film, geography, and dog breeds, primarily formatted in a 'who,' 'what,' or 'when' style for factual recall. It includes both specific detail-oriented questions and comparison-based inquiries, indicating its intended use for a trivia game or knowledge assessment tool. The syntax is straightforward and concise, enhancing usability and comprehension.\n",
      "\n",
      "[[ ## program_code ## ]]\n",
      "\n",
      "\n",
      "\n",
      "\n",
      "[[ ## program_description ## ]]\n",
      "The program appears to be designed to answer trivia questions or provide factual information based on specific queries. It utilizes a language model to process the input questions and generate concise, accurate answers. The task is accomplished by interpreting the question, retrieving relevant information, and formulating a response that addresses the query directly. Each example showcases a question followed by a well-structured answer, indicating the program's capability to handle various topics and provide informative responses.\n",
      "\n",
      "[[ ## module ## ]]\n",
      "Predict(question) -> answer\n",
      "\n",
      "[[ ## module_description ## ]]\n",
      "The `Predict(question) -> answer` module is responsible for interpreting the user's input question and generating an appropriate answer based on the information available. It leverages the capabilities of the language model to analyze the semantics of the question, identify key elements, and produce a concise and accurate response. This module is crucial for the overall functionality of the program, as it directly impacts the quality and relevance of the answers provided to trivia questions or factual inquiries.\n",
      "\n",
      "[[ ## task_demos ## ]]\n",
      "Question: What American singer born 1951 does Jim Rooney  have credits for?\n",
      "Answer: Jim Rooney has credits for American singer-songwriter Nanci Griffith, born in 1951.\n",
      "\n",
      "Question: Daniel Massey starred in The Queen's Guards alongside which actor, who was once regarded as the natural successor to Laurence Olivier?\n",
      "Answer: John Gielgud\n",
      "\n",
      "Question: When did the coach of the Karachi Kings finish his time as coach of the Australia national cricket team ?\n",
      "Answer: The coach of the Karachi Kings, Mickey Arthur, finished his time as coach of the Australia national cricket team in 2013.\n",
      "\n",
      "\n",
      "\n",
      "[[ ## basic_instruction ## ]]\n",
      "Provide an answer to the question\n",
      "\n",
      "[[ ## tip ## ]]\n",
      "Keep the instruction clear and concise.\n",
      "\n",
      "Respond with the corresponding output fields, starting with the field `[[ ## proposed_instruction ## ]]`, and then ending with the marker for `[[ ## completed ## ]]`.\n",
      "\n",
      "\n",
      "\u001b[31mResponse:\u001b[0m\n",
      "\n",
      "\u001b[32m[[ ## proposed_instruction ## ]]\n",
      "Answer the following trivia question accurately and concisely.\n",
      "\n",
      "[[ ## completed ## ]]\u001b[0m\n",
      "\n",
      "\n",
      "\n",
      "\n",
      "\n",
      "PROPOSED INSTRUCTION: Answer the following trivia question accurately and concisely.\n",
      "Proposed Instructions for Predictor 0:\n",
      "\n",
      "0: Provide an answer to the question\n",
      "\n",
      "1: Using the `Predict(question) -> answer` module, please provide a detailed and accurate answer to the following trivia question. Ensure that your response is based on the information retrieved from the knowledge base, and clarify any context necessary to support your answer.\n",
      "\n",
      "2: Answer the following trivia question by providing a concise and accurate response based on the information available.\n",
      "\n",
      "3: Answer the following music-related question based on your knowledge of artists, bands, and their affiliations.\n",
      "\n",
      "4: Answer the following trivia question accurately and concisely.\n",
      "\n",
      "\n",
      "\n",
      "==> STEP 3: FINDING OPTIMAL PROMPT PARAMETERS <==\n",
      "We will evaluate the program over a series of trials with different combinations of instructions and few-shot examples to find the optimal combination using Bayesian Optimization.\n",
      "\n",
      "== Trial 1 / 7 - Full Evaluation of Default Program ==\n"
     ]
    },
    {
     "data": {
      "application/vnd.jupyter.widget-view+json": {
       "model_id": "1c0e718ea79d4eba8e375834c8bcf566",
       "version_major": 2,
       "version_minor": 0
      },
      "text/plain": [
       "Evaluation:   0%|          | 0/40 [00:00<?, ?it/s]"
      ]
     },
     "metadata": {},
     "output_type": "display_data"
    },
    {
     "data": {
      "text/html": [
       "<pre style=\"white-space:pre;overflow-x:auto;line-height:normal;font-family:Menlo,'DejaVu Sans Mono',consolas,'Courier New',monospace\">╭─ hotpot_300 (40 samples) ──────────────╮\n",
       "│                                        │\n",
       "│ <span style=\"font-weight: bold\">Total time:       </span> 00:00:05            │\n",
       "│ <span style=\"font-weight: bold\">Number of samples:</span> 40                  │\n",
       "│                                        │\n",
       "│ <span style=\"color: #008000; text-decoration-color: #008000; font-weight: bold\">levenshtein_ratio_metric: 0.2017 (avg)</span> │\n",
       "│                                        │\n",
       "╰────────────────────────────────────────╯\n",
       "</pre>\n"
      ],
      "text/plain": [
       "╭─ hotpot_300 (40 samples) ──────────────╮\n",
       "│                                        │\n",
       "│ \u001b[1mTotal time:       \u001b[0m 00:00:05            │\n",
       "│ \u001b[1mNumber of samples:\u001b[0m 40                  │\n",
       "│                                        │\n",
       "│ \u001b[1;32mlevenshtein_ratio_metric: 0.2017 (avg)\u001b[0m │\n",
       "│                                        │\n",
       "╰────────────────────────────────────────╯\n"
      ]
     },
     "metadata": {},
     "output_type": "display_data"
    },
    {
     "data": {
      "text/html": [
       "<pre style=\"white-space:pre;overflow-x:auto;line-height:normal;font-family:Menlo,'DejaVu Sans Mono',consolas,'Courier New',monospace\">Uploading results to Opik <span style=\"color: #808000; text-decoration-color: #808000\">...</span> \n",
       "</pre>\n"
      ],
      "text/plain": [
       "Uploading results to Opik \u001b[33m...\u001b[0m \n"
      ]
     },
     "metadata": {},
     "output_type": "display_data"
    },
    {
     "data": {
      "text/html": [
       "<pre style=\"white-space:pre;overflow-x:auto;line-height:normal;font-family:Menlo,'DejaVu Sans Mono',consolas,'Courier New',monospace\">View the results <a href=\"https://www.comet.com/opik/api/v1/session/redirect/experiments/?experiment_id=0197406f-7ab3-7974-b87a-3d5628d06350&dataset_id=0197044c-d51d-7cff-96c5-38969b6ae708&path=aHR0cHM6Ly93d3cuY29tZXQuY29tL29waWsvYXBpLw==\" target=\"_blank\">in your Opik dashboard</a>.\n",
       "</pre>\n"
      ],
      "text/plain": [
       "View the results \u001b]8;id=696012;https://www.comet.com/opik/api/v1/session/redirect/experiments/?experiment_id=0197406f-7ab3-7974-b87a-3d5628d06350&dataset_id=0197044c-d51d-7cff-96c5-38969b6ae708&path=aHR0cHM6Ly93d3cuY29tZXQuY29tL29waWsvYXBpLw==\u001b\\in your Opik dashboard\u001b]8;;\u001b\\.\n"
      ]
     },
     "metadata": {},
     "output_type": "display_data"
    },
    {
     "name": "stderr",
     "output_type": "stream",
     "text": [
      "/opt/homebrew/Caskroom/miniconda/base/envs/py312_llm_eval/lib/python3.12/site-packages/optuna/_experimental.py:31: ExperimentalWarning: Argument ``multivariate`` is an experimental feature. The interface can change in the future.\n",
      "  warnings.warn(\n"
     ]
    },
    {
     "name": "stdout",
     "output_type": "stream",
     "text": [
      "Default program score: 0.20173393120947108\n",
      "\n",
      "===== Trial 2 / 7 =====\n",
      "Evaluating the following candidate program...\n",
      "\n",
      "Predictor 0\n",
      "i: Using the `Predict(question) -> answer` module, please provide a detailed and accurate answer to the following trivia question. Ensure that your response is based on the information retrieved from the knowledge base, and clarify any context necessary to support your answer.\n",
      "p: Answer:\n",
      "\n",
      "\n",
      "  0%|          | 0/40 [00:00<?, ?it/s]"
     ]
    },
    {
     "name": "stderr",
     "output_type": "stream",
     "text": [
      "OPIK: Started logging traces to the \"Default Project\" project at https://www.comet.com/opik/api/v1/session/redirect/projects/?trace_id=0197406f-95e8-7847-8114-88516fdca440&path=aHR0cHM6Ly93d3cuY29tZXQuY29tL29waWsvYXBpLw==.\n"
     ]
    },
    {
     "name": "stdout",
     "output_type": "stream",
     "text": [
      "Average Metric: 0.25 / 1 (24.6%):   2%|▎         | 1/40 [00:00<00:34,  1.14it/s]"
     ]
    },
    {
     "name": "stderr",
     "output_type": "stream",
     "text": [
      "OPIK: Started logging traces to the \"optimize-workshop-2025\" project at https://www.comet.com/opik/api/v1/session/redirect/projects/?trace_id=0197406f-926d-7233-8b32-c2431ac1549d&path=aHR0cHM6Ly93d3cuY29tZXQuY29tL29waWsvYXBpLw==.\n",
      "OPIK: Started logging traces to the \"Default Project\" project at https://www.comet.com/opik/api/v1/session/redirect/projects/?trace_id=0197406f-964c-7d42-b64f-a0394df7156a&path=aHR0cHM6Ly93d3cuY29tZXQuY29tL29waWsvYXBpLw==.\n"
     ]
    },
    {
     "name": "stdout",
     "output_type": "stream",
     "text": [
      "Average Metric: 0.39 / 2 (19.7%):   2%|▎         | 1/40 [00:00<00:34,  1.14it/s]"
     ]
    },
    {
     "name": "stderr",
     "output_type": "stream",
     "text": [
      "OPIK: Started logging traces to the \"optimize-workshop-2025\" project at https://www.comet.com/opik/api/v1/session/redirect/projects/?trace_id=0197406f-9287-7e4b-8f76-7bb3f3d871aa&path=aHR0cHM6Ly93d3cuY29tZXQuY29tL29waWsvYXBpLw==.\n",
      "OPIK: Started logging traces to the \"Default Project\" project at https://www.comet.com/opik/api/v1/session/redirect/projects/?trace_id=0197406f-969c-7ede-9b0e-5380e631c9eb&path=aHR0cHM6Ly93d3cuY29tZXQuY29tL29waWsvYXBpLw==.\n"
     ]
    },
    {
     "name": "stdout",
     "output_type": "stream",
     "text": [
      "Average Metric: 0.57 / 3 (19.0%):   8%|▊         | 3/40 [00:01<00:10,  3.40it/s]"
     ]
    },
    {
     "name": "stderr",
     "output_type": "stream",
     "text": [
      "OPIK: Started logging traces to the \"optimize-workshop-2025\" project at https://www.comet.com/opik/api/v1/session/redirect/projects/?trace_id=0197406f-9274-7d2f-b78b-7e2352a025ee&path=aHR0cHM6Ly93d3cuY29tZXQuY29tL29waWsvYXBpLw==.\n",
      "OPIK: Started logging traces to the \"Default Project\" project at https://www.comet.com/opik/api/v1/session/redirect/projects/?trace_id=0197406f-9753-737f-b8b1-cf8aedd46d35&path=aHR0cHM6Ly93d3cuY29tZXQuY29tL29waWsvYXBpLw==.\n"
     ]
    },
    {
     "name": "stdout",
     "output_type": "stream",
     "text": [
      "Average Metric: 0.68 / 4 (17.0%):  10%|█         | 4/40 [00:01<00:09,  3.91it/s]"
     ]
    },
    {
     "name": "stderr",
     "output_type": "stream",
     "text": [
      "OPIK: Started logging traces to the \"optimize-workshop-2025\" project at https://www.comet.com/opik/api/v1/session/redirect/projects/?trace_id=0197406f-9270-7484-921d-d19694b91601&path=aHR0cHM6Ly93d3cuY29tZXQuY29tL29waWsvYXBpLw==.\n",
      "OPIK: Started logging traces to the \"Default Project\" project at https://www.comet.com/opik/api/v1/session/redirect/projects/?trace_id=0197406f-97ad-7cf9-af03-8997c36ca5f4&path=aHR0cHM6Ly93d3cuY29tZXQuY29tL29waWsvYXBpLw==.\n"
     ]
    },
    {
     "name": "stdout",
     "output_type": "stream",
     "text": [
      "Average Metric: 0.85 / 5 (17.1%):  10%|█         | 4/40 [00:01<00:09,  3.91it/s]"
     ]
    },
    {
     "name": "stderr",
     "output_type": "stream",
     "text": [
      "OPIK: Started logging traces to the \"optimize-workshop-2025\" project at https://www.comet.com/opik/api/v1/session/redirect/projects/?trace_id=0197406f-927f-76ca-8592-d8656c2f5f9d&path=aHR0cHM6Ly93d3cuY29tZXQuY29tL29waWsvYXBpLw==.\n",
      "OPIK: Started logging traces to the \"Default Project\" project at https://www.comet.com/opik/api/v1/session/redirect/projects/?trace_id=0197406f-9819-7c67-aa7e-8db190498c32&path=aHR0cHM6Ly93d3cuY29tZXQuY29tL29waWsvYXBpLw==.\n"
     ]
    },
    {
     "name": "stdout",
     "output_type": "stream",
     "text": [
      "Average Metric: 1.06 / 6 (17.6%):  15%|█▌        | 6/40 [00:01<00:06,  5.64it/s]"
     ]
    },
    {
     "name": "stderr",
     "output_type": "stream",
     "text": [
      "OPIK: Started logging traces to the \"optimize-workshop-2025\" project at https://www.comet.com/opik/api/v1/session/redirect/projects/?trace_id=0197406f-9283-71d7-ac9b-ece3f7f3ddef&path=aHR0cHM6Ly93d3cuY29tZXQuY29tL29waWsvYXBpLw==.\n",
      "OPIK: Started logging traces to the \"Default Project\" project at https://www.comet.com/opik/api/v1/session/redirect/projects/?trace_id=0197406f-986c-7892-93d1-f262ed389c8c&path=aHR0cHM6Ly93d3cuY29tZXQuY29tL29waWsvYXBpLw==.\n"
     ]
    },
    {
     "name": "stdout",
     "output_type": "stream",
     "text": [
      "Average Metric: 1.15 / 7 (16.4%):  15%|█▌        | 6/40 [00:01<00:06,  5.64it/s]"
     ]
    },
    {
     "name": "stderr",
     "output_type": "stream",
     "text": [
      "OPIK: Started logging traces to the \"optimize-workshop-2025\" project at https://www.comet.com/opik/api/v1/session/redirect/projects/?trace_id=0197406f-926e-767c-a47b-5d0896a7cf70&path=aHR0cHM6Ly93d3cuY29tZXQuY29tL29waWsvYXBpLw==.\n",
      "OPIK: Started logging traces to the \"Default Project\" project at https://www.comet.com/opik/api/v1/session/redirect/projects/?trace_id=0197406f-98b4-7b57-818a-fcdf61385d3f&path=aHR0cHM6Ly93d3cuY29tZXQuY29tL29waWsvYXBpLw==.\n",
      "OPIK: Started logging traces to the \"Default Project\" project at https://www.comet.com/opik/api/v1/session/redirect/projects/?trace_id=0197406f-98b6-742c-9617-996ea7e954b7&path=aHR0cHM6Ly93d3cuY29tZXQuY29tL29waWsvYXBpLw==.\n"
     ]
    },
    {
     "name": "stdout",
     "output_type": "stream",
     "text": [
      "Average Metric: 1.49 / 9 (16.5%):  20%|██        | 8/40 [00:01<00:04,  7.34it/s]"
     ]
    },
    {
     "name": "stderr",
     "output_type": "stream",
     "text": [
      "OPIK: Started logging traces to the \"optimize-workshop-2025\" project at https://www.comet.com/opik/api/v1/session/redirect/projects/?trace_id=0197406f-927b-7f14-a563-05d261a071ea&path=aHR0cHM6Ly93d3cuY29tZXQuY29tL29waWsvYXBpLw==.\n",
      "OPIK: Started logging traces to the \"Default Project\" project at https://www.comet.com/opik/api/v1/session/redirect/projects/?trace_id=0197406f-99de-7a0a-a57f-52b02f3be106&path=aHR0cHM6Ly93d3cuY29tZXQuY29tL29waWsvYXBpLw==.\n"
     ]
    },
    {
     "name": "stdout",
     "output_type": "stream",
     "text": [
      "Average Metric: 1.66 / 10 (16.6%):  25%|██▌       | 10/40 [00:01<00:04,  7.10it/s]"
     ]
    },
    {
     "name": "stderr",
     "output_type": "stream",
     "text": [
      "OPIK: Started logging traces to the \"optimize-workshop-2025\" project at https://www.comet.com/opik/api/v1/session/redirect/projects/?trace_id=0197406f-95ea-73b9-8ef7-828c96b59a23&path=aHR0cHM6Ly93d3cuY29tZXQuY29tL29waWsvYXBpLw==.\n",
      "OPIK: Started logging traces to the \"Default Project\" project at https://www.comet.com/opik/api/v1/session/redirect/projects/?trace_id=0197406f-9a1e-72e3-b232-12dd8bcd8a60&path=aHR0cHM6Ly93d3cuY29tZXQuY29tL29waWsvYXBpLw==.\n"
     ]
    },
    {
     "name": "stdout",
     "output_type": "stream",
     "text": [
      "Average Metric: 1.81 / 11 (16.5%):  25%|██▌       | 10/40 [00:01<00:04,  7.10it/s]"
     ]
    },
    {
     "name": "stderr",
     "output_type": "stream",
     "text": [
      "OPIK: Started logging traces to the \"optimize-workshop-2025\" project at https://www.comet.com/opik/api/v1/session/redirect/projects/?trace_id=0197406f-9291-7a1b-8413-5b866ae9150b&path=aHR0cHM6Ly93d3cuY29tZXQuY29tL29waWsvYXBpLw==.\n",
      "OPIK: Started logging traces to the \"Default Project\" project at https://www.comet.com/opik/api/v1/session/redirect/projects/?trace_id=0197406f-9a3b-7d0f-ba2f-c044d85a8ed8&path=aHR0cHM6Ly93d3cuY29tZXQuY29tL29waWsvYXBpLw==.\n"
     ]
    },
    {
     "name": "stdout",
     "output_type": "stream",
     "text": [
      "Average Metric: 2.12 / 12 (17.7%):  28%|██▊       | 11/40 [00:01<00:04,  7.10it/s]"
     ]
    },
    {
     "name": "stderr",
     "output_type": "stream",
     "text": [
      "OPIK: Started logging traces to the \"optimize-workshop-2025\" project at https://www.comet.com/opik/api/v1/session/redirect/projects/?trace_id=0197406f-928f-7fc0-aa44-fe3e18c74a50&path=aHR0cHM6Ly93d3cuY29tZXQuY29tL29waWsvYXBpLw==.\n",
      "OPIK: Started logging traces to the \"Default Project\" project at https://www.comet.com/opik/api/v1/session/redirect/projects/?trace_id=0197406f-9a90-74d6-baff-25c1ade86739&path=aHR0cHM6Ly93d3cuY29tZXQuY29tL29waWsvYXBpLw==.\n"
     ]
    },
    {
     "name": "stdout",
     "output_type": "stream",
     "text": [
      "Average Metric: 2.37 / 13 (18.2%):  32%|███▎      | 13/40 [00:02<00:02,  9.51it/s]"
     ]
    },
    {
     "name": "stderr",
     "output_type": "stream",
     "text": [
      "OPIK: Started logging traces to the \"optimize-workshop-2025\" project at https://www.comet.com/opik/api/v1/session/redirect/projects/?trace_id=0197406f-928d-7a0d-b0b3-626b490cb59c&path=aHR0cHM6Ly93d3cuY29tZXQuY29tL29waWsvYXBpLw==.\n",
      "OPIK: Started logging traces to the \"Default Project\" project at https://www.comet.com/opik/api/v1/session/redirect/projects/?trace_id=0197406f-9a9f-73d2-8928-631e17123f0f&path=aHR0cHM6Ly93d3cuY29tZXQuY29tL29waWsvYXBpLw==.\n"
     ]
    },
    {
     "name": "stdout",
     "output_type": "stream",
     "text": [
      "Average Metric: 2.52 / 14 (18.0%):  32%|███▎      | 13/40 [00:02<00:02,  9.51it/s]"
     ]
    },
    {
     "name": "stderr",
     "output_type": "stream",
     "text": [
      "OPIK: Started logging traces to the \"optimize-workshop-2025\" project at https://www.comet.com/opik/api/v1/session/redirect/projects/?trace_id=0197406f-928b-7f87-aa0b-4d457bf3d988&path=aHR0cHM6Ly93d3cuY29tZXQuY29tL29waWsvYXBpLw==.\n",
      "OPIK: Started logging traces to the \"Default Project\" project at https://www.comet.com/opik/api/v1/session/redirect/projects/?trace_id=0197406f-9add-7d47-99d7-30391e76d2eb&path=aHR0cHM6Ly93d3cuY29tZXQuY29tL29waWsvYXBpLw==.\n"
     ]
    },
    {
     "name": "stdout",
     "output_type": "stream",
     "text": [
      "Average Metric: 2.54 / 15 (17.0%):  35%|███▌      | 14/40 [00:02<00:02,  9.51it/s]"
     ]
    },
    {
     "name": "stderr",
     "output_type": "stream",
     "text": [
      "OPIK: Started logging traces to the \"optimize-workshop-2025\" project at https://www.comet.com/opik/api/v1/session/redirect/projects/?trace_id=0197406f-969e-7736-a48a-70c9bda9501f&path=aHR0cHM6Ly93d3cuY29tZXQuY29tL29waWsvYXBpLw==.\n",
      "OPIK: Started logging traces to the \"Default Project\" project at https://www.comet.com/opik/api/v1/session/redirect/projects/?trace_id=0197406f-9b08-7138-84d1-7ec5d9a1bd6f&path=aHR0cHM6Ly93d3cuY29tZXQuY29tL29waWsvYXBpLw==.\n"
     ]
    },
    {
     "name": "stdout",
     "output_type": "stream",
     "text": [
      "Average Metric: 2.66 / 16 (16.6%):  40%|████      | 16/40 [00:02<00:01, 12.59it/s]"
     ]
    },
    {
     "name": "stderr",
     "output_type": "stream",
     "text": [
      "OPIK: Started logging traces to the \"optimize-workshop-2025\" project at https://www.comet.com/opik/api/v1/session/redirect/projects/?trace_id=0197406f-964e-7281-b10b-2f7aacab37e8&path=aHR0cHM6Ly93d3cuY29tZXQuY29tL29waWsvYXBpLw==.\n",
      "OPIK: Started logging traces to the \"Default Project\" project at https://www.comet.com/opik/api/v1/session/redirect/projects/?trace_id=0197406f-9c2e-7be3-82ca-fc20e8be0b8c&path=aHR0cHM6Ly93d3cuY29tZXQuY29tL29waWsvYXBpLw==.\n"
     ]
    },
    {
     "name": "stdout",
     "output_type": "stream",
     "text": [
      "Average Metric: 2.74 / 17 (16.1%):  40%|████      | 16/40 [00:02<00:01, 12.59it/s]"
     ]
    },
    {
     "name": "stderr",
     "output_type": "stream",
     "text": [
      "OPIK: Started logging traces to the \"optimize-workshop-2025\" project at https://www.comet.com/opik/api/v1/session/redirect/projects/?trace_id=0197406f-9a20-7d88-b9c7-dc38ef82fd76&path=aHR0cHM6Ly93d3cuY29tZXQuY29tL29waWsvYXBpLw==.\n",
      "OPIK: Started logging traces to the \"Default Project\" project at https://www.comet.com/opik/api/v1/session/redirect/projects/?trace_id=0197406f-9d3a-7d7e-a3b8-b2437373a8a4&path=aHR0cHM6Ly93d3cuY29tZXQuY29tL29waWsvYXBpLw==.\n"
     ]
    },
    {
     "name": "stdout",
     "output_type": "stream",
     "text": [
      "Average Metric: 3.74 / 18 (20.8%):  45%|████▌     | 18/40 [00:02<00:02,  7.48it/s]"
     ]
    },
    {
     "name": "stderr",
     "output_type": "stream",
     "text": [
      "OPIK: Started logging traces to the \"optimize-workshop-2025\" project at https://www.comet.com/opik/api/v1/session/redirect/projects/?trace_id=0197406f-9293-7583-9e06-3b0bd1f84f67&path=aHR0cHM6Ly93d3cuY29tZXQuY29tL29waWsvYXBpLw==.\n",
      "OPIK: Started logging traces to the \"Default Project\" project at https://www.comet.com/opik/api/v1/session/redirect/projects/?trace_id=0197406f-9d86-740b-ab12-716725028a63&path=aHR0cHM6Ly93d3cuY29tZXQuY29tL29waWsvYXBpLw==.\n"
     ]
    },
    {
     "name": "stdout",
     "output_type": "stream",
     "text": [
      "Average Metric: 3.86 / 19 (20.3%):  45%|████▌     | 18/40 [00:02<00:02,  7.48it/s]"
     ]
    },
    {
     "name": "stderr",
     "output_type": "stream",
     "text": [
      "OPIK: Started logging traces to the \"optimize-workshop-2025\" project at https://www.comet.com/opik/api/v1/session/redirect/projects/?trace_id=0197406f-97af-78e9-9c2c-f53552f5a7f0&path=aHR0cHM6Ly93d3cuY29tZXQuY29tL29waWsvYXBpLw==.\n",
      "OPIK: Started logging traces to the \"Default Project\" project at https://www.comet.com/opik/api/v1/session/redirect/projects/?trace_id=0197406f-9e3b-7771-b0f9-91b7545399a0&path=aHR0cHM6Ly93d3cuY29tZXQuY29tL29waWsvYXBpLw==.\n"
     ]
    },
    {
     "name": "stdout",
     "output_type": "stream",
     "text": [
      "Average Metric: 4.16 / 20 (20.8%):  50%|█████     | 20/40 [00:03<00:02,  7.52it/s]"
     ]
    },
    {
     "name": "stderr",
     "output_type": "stream",
     "text": [
      "OPIK: Started logging traces to the \"optimize-workshop-2025\" project at https://www.comet.com/opik/api/v1/session/redirect/projects/?trace_id=0197406f-98ba-7aba-8768-1626e436df9f&path=aHR0cHM6Ly93d3cuY29tZXQuY29tL29waWsvYXBpLw==.\n",
      "OPIK: Started logging traces to the \"Default Project\" project at https://www.comet.com/opik/api/v1/session/redirect/projects/?trace_id=0197406f-9e71-7489-b316-2fbeee490872&path=aHR0cHM6Ly93d3cuY29tZXQuY29tL29waWsvYXBpLw==.\n"
     ]
    },
    {
     "name": "stdout",
     "output_type": "stream",
     "text": [
      "Average Metric: 4.30 / 21 (20.5%):  50%|█████     | 20/40 [00:03<00:02,  7.52it/s]"
     ]
    },
    {
     "name": "stderr",
     "output_type": "stream",
     "text": [
      "OPIK: Started logging traces to the \"optimize-workshop-2025\" project at https://www.comet.com/opik/api/v1/session/redirect/projects/?trace_id=0197406f-9295-77b2-aa63-66f9a077be4c&path=aHR0cHM6Ly93d3cuY29tZXQuY29tL29waWsvYXBpLw==.\n",
      "OPIK: Started logging traces to the \"Default Project\" project at https://www.comet.com/opik/api/v1/session/redirect/projects/?trace_id=0197406f-9ea9-7a08-9bf2-57e2e09361e0&path=aHR0cHM6Ly93d3cuY29tZXQuY29tL29waWsvYXBpLw==.\n"
     ]
    },
    {
     "name": "stdout",
     "output_type": "stream",
     "text": [
      "Average Metric: 4.38 / 22 (19.9%):  55%|█████▌    | 22/40 [00:03<00:01,  9.06it/s]"
     ]
    },
    {
     "name": "stderr",
     "output_type": "stream",
     "text": [
      "OPIK: Started logging traces to the \"optimize-workshop-2025\" project at https://www.comet.com/opik/api/v1/session/redirect/projects/?trace_id=0197406f-98b8-7448-bb68-357a22e58d50&path=aHR0cHM6Ly93d3cuY29tZXQuY29tL29waWsvYXBpLw==.\n",
      "OPIK: Started logging traces to the \"Default Project\" project at https://www.comet.com/opik/api/v1/session/redirect/projects/?trace_id=0197406f-9eb0-74b1-81c2-94b82c26b5f2&path=aHR0cHM6Ly93d3cuY29tZXQuY29tL29waWsvYXBpLw==.\n"
     ]
    },
    {
     "name": "stdout",
     "output_type": "stream",
     "text": [
      "Average Metric: 4.54 / 23 (19.7%):  55%|█████▌    | 22/40 [00:03<00:01,  9.06it/s]"
     ]
    },
    {
     "name": "stderr",
     "output_type": "stream",
     "text": [
      "OPIK: Started logging traces to the \"optimize-workshop-2025\" project at https://www.comet.com/opik/api/v1/session/redirect/projects/?trace_id=0197406f-9a3d-7ddf-a113-11ed22e4651d&path=aHR0cHM6Ly93d3cuY29tZXQuY29tL29waWsvYXBpLw==.\n",
      "OPIK: Started logging traces to the \"Default Project\" project at https://www.comet.com/opik/api/v1/session/redirect/projects/?trace_id=0197406f-9ebd-7c67-b0ce-93ce0a0934ee&path=aHR0cHM6Ly93d3cuY29tZXQuY29tL29waWsvYXBpLw==.\n"
     ]
    },
    {
     "name": "stdout",
     "output_type": "stream",
     "text": [
      "Average Metric: 4.62 / 24 (19.3%):  57%|█████▊    | 23/40 [00:03<00:01,  9.06it/s]"
     ]
    },
    {
     "name": "stderr",
     "output_type": "stream",
     "text": [
      "OPIK: Started logging traces to the \"optimize-workshop-2025\" project at https://www.comet.com/opik/api/v1/session/redirect/projects/?trace_id=0197406f-981b-71ea-b789-e597cbeda84b&path=aHR0cHM6Ly93d3cuY29tZXQuY29tL29waWsvYXBpLw==.\n",
      "OPIK: Started logging traces to the \"Default Project\" project at https://www.comet.com/opik/api/v1/session/redirect/projects/?trace_id=0197406f-9ee8-721d-9106-88c6511775a1&path=aHR0cHM6Ly93d3cuY29tZXQuY29tL29waWsvYXBpLw==.\n"
     ]
    },
    {
     "name": "stdout",
     "output_type": "stream",
     "text": [
      "Average Metric: 4.83 / 25 (19.3%):  60%|██████    | 24/40 [00:03<00:01,  9.06it/s]"
     ]
    },
    {
     "name": "stderr",
     "output_type": "stream",
     "text": [
      "OPIK: Started logging traces to the \"optimize-workshop-2025\" project at https://www.comet.com/opik/api/v1/session/redirect/projects/?trace_id=0197406f-987a-751c-b539-36a552f1257b&path=aHR0cHM6Ly93d3cuY29tZXQuY29tL29waWsvYXBpLw==.\n",
      "OPIK: Started logging traces to the \"Default Project\" project at https://www.comet.com/opik/api/v1/session/redirect/projects/?trace_id=0197406f-9f16-78b4-91f7-8adf1c1c7925&path=aHR0cHM6Ly93d3cuY29tZXQuY29tL29waWsvYXBpLw==.\n"
     ]
    },
    {
     "name": "stdout",
     "output_type": "stream",
     "text": [
      "Average Metric: 4.99 / 26 (19.2%):  65%|██████▌   | 26/40 [00:03<00:01, 13.70it/s]"
     ]
    },
    {
     "name": "stderr",
     "output_type": "stream",
     "text": [
      "OPIK: Started logging traces to the \"optimize-workshop-2025\" project at https://www.comet.com/opik/api/v1/session/redirect/projects/?trace_id=0197406f-9aa1-7257-9483-cf10dab8f028&path=aHR0cHM6Ly93d3cuY29tZXQuY29tL29waWsvYXBpLw==.\n",
      "OPIK: Started logging traces to the \"Default Project\" project at https://www.comet.com/opik/api/v1/session/redirect/projects/?trace_id=0197406f-a059-7ab1-bcc5-169d1db4966a&path=aHR0cHM6Ly93d3cuY29tZXQuY29tL29waWsvYXBpLw==.\n"
     ]
    },
    {
     "name": "stdout",
     "output_type": "stream",
     "text": [
      "Average Metric: 5.42 / 27 (20.1%):  65%|██████▌   | 26/40 [00:03<00:01, 13.70it/s]"
     ]
    },
    {
     "name": "stderr",
     "output_type": "stream",
     "text": [
      "OPIK: Started logging traces to the \"optimize-workshop-2025\" project at https://www.comet.com/opik/api/v1/session/redirect/projects/?trace_id=0197406f-9e3e-7e12-b4d7-39c272e1ec39&path=aHR0cHM6Ly93d3cuY29tZXQuY29tL29waWsvYXBpLw==.\n",
      "OPIK: Started logging traces to the \"Default Project\" project at https://www.comet.com/opik/api/v1/session/redirect/projects/?trace_id=0197406f-a0d9-70e6-abcc-00647951d3fe&path=aHR0cHM6Ly93d3cuY29tZXQuY29tL29waWsvYXBpLw==.\n"
     ]
    },
    {
     "name": "stdout",
     "output_type": "stream",
     "text": [
      "Average Metric: 5.92 / 28 (21.1%):  68%|██████▊   | 27/40 [00:03<00:00, 13.70it/s]"
     ]
    },
    {
     "name": "stderr",
     "output_type": "stream",
     "text": [
      "OPIK: Started logging traces to the \"optimize-workshop-2025\" project at https://www.comet.com/opik/api/v1/session/redirect/projects/?trace_id=0197406f-99e0-7bcd-9ae4-37a464046e2e&path=aHR0cHM6Ly93d3cuY29tZXQuY29tL29waWsvYXBpLw==.\n",
      "OPIK: Started logging traces to the \"Default Project\" project at https://www.comet.com/opik/api/v1/session/redirect/projects/?trace_id=0197406f-a160-7a5f-ab7a-733ab7b35b91&path=aHR0cHM6Ly93d3cuY29tZXQuY29tL29waWsvYXBpLw==.\n"
     ]
    },
    {
     "name": "stdout",
     "output_type": "stream",
     "text": [
      "Average Metric: 5.93 / 29 (20.5%):  72%|███████▎  | 29/40 [00:03<00:01,  8.88it/s]"
     ]
    },
    {
     "name": "stderr",
     "output_type": "stream",
     "text": [
      "OPIK: Started logging traces to the \"optimize-workshop-2025\" project at https://www.comet.com/opik/api/v1/session/redirect/projects/?trace_id=0197406f-9d88-7b5c-ba83-192a7d9ec29a&path=aHR0cHM6Ly93d3cuY29tZXQuY29tL29waWsvYXBpLw==.\n",
      "OPIK: Started logging traces to the \"Default Project\" project at https://www.comet.com/opik/api/v1/session/redirect/projects/?trace_id=0197406f-a187-71f4-9d31-d89d14e18d6d&path=aHR0cHM6Ly93d3cuY29tZXQuY29tL29waWsvYXBpLw==.\n"
     ]
    },
    {
     "name": "stdout",
     "output_type": "stream",
     "text": [
      "Average Metric: 6.02 / 30 (20.1%):  72%|███████▎  | 29/40 [00:03<00:01,  8.88it/s]"
     ]
    },
    {
     "name": "stderr",
     "output_type": "stream",
     "text": [
      "OPIK: Started logging traces to the \"optimize-workshop-2025\" project at https://www.comet.com/opik/api/v1/session/redirect/projects/?trace_id=0197406f-9d3c-7559-a870-6ec8497e50c6&path=aHR0cHM6Ly93d3cuY29tZXQuY29tL29waWsvYXBpLw==.\n",
      "OPIK: Started logging traces to the \"Default Project\" project at https://www.comet.com/opik/api/v1/session/redirect/projects/?trace_id=0197406f-a1d2-7d41-8a76-07ba48ea07fb&path=aHR0cHM6Ly93d3cuY29tZXQuY29tL29waWsvYXBpLw==.\n"
     ]
    },
    {
     "name": "stdout",
     "output_type": "stream",
     "text": [
      "Average Metric: 6.20 / 31 (20.0%):  78%|███████▊  | 31/40 [00:03<00:00, 10.05it/s]"
     ]
    },
    {
     "name": "stderr",
     "output_type": "stream",
     "text": [
      "OPIK: Started logging traces to the \"optimize-workshop-2025\" project at https://www.comet.com/opik/api/v1/session/redirect/projects/?trace_id=0197406f-9e73-76ce-9f71-3a4ab913346d&path=aHR0cHM6Ly93d3cuY29tZXQuY29tL29waWsvYXBpLw==.\n",
      "OPIK: Started logging traces to the \"Default Project\" project at https://www.comet.com/opik/api/v1/session/redirect/projects/?trace_id=0197406f-a212-7186-bda1-a4fe2741f0f8&path=aHR0cHM6Ly93d3cuY29tZXQuY29tL29waWsvYXBpLw==.\n"
     ]
    },
    {
     "name": "stdout",
     "output_type": "stream",
     "text": [
      "Average Metric: 6.39 / 32 (20.0%):  78%|███████▊  | 31/40 [00:03<00:00, 10.05it/s]"
     ]
    },
    {
     "name": "stderr",
     "output_type": "stream",
     "text": [
      "OPIK: Started logging traces to the \"optimize-workshop-2025\" project at https://www.comet.com/opik/api/v1/session/redirect/projects/?trace_id=0197406f-9755-7380-9dac-d1ac4183a89e&path=aHR0cHM6Ly93d3cuY29tZXQuY29tL29waWsvYXBpLw==.\n",
      "OPIK: Started logging traces to the \"Default Project\" project at https://www.comet.com/opik/api/v1/session/redirect/projects/?trace_id=0197406f-a278-7d86-b4d3-802163d9815d&path=aHR0cHM6Ly93d3cuY29tZXQuY29tL29waWsvYXBpLw==.\n"
     ]
    },
    {
     "name": "stdout",
     "output_type": "stream",
     "text": [
      "Average Metric: 6.53 / 33 (19.8%):  82%|████████▎ | 33/40 [00:04<00:00, 10.49it/s]"
     ]
    },
    {
     "name": "stderr",
     "output_type": "stream",
     "text": [
      "OPIK: Started logging traces to the \"optimize-workshop-2025\" project at https://www.comet.com/opik/api/v1/session/redirect/projects/?trace_id=0197406f-9eab-7acd-ad04-a23dda983c02&path=aHR0cHM6Ly93d3cuY29tZXQuY29tL29waWsvYXBpLw==.\n",
      "OPIK: Started logging traces to the \"Default Project\" project at https://www.comet.com/opik/api/v1/session/redirect/projects/?trace_id=0197406f-a2f6-744c-967a-aacdc14271e6&path=aHR0cHM6Ly93d3cuY29tZXQuY29tL29waWsvYXBpLw==.\n"
     ]
    },
    {
     "name": "stdout",
     "output_type": "stream",
     "text": [
      "Average Metric: 6.74 / 34 (19.8%):  82%|████████▎ | 33/40 [00:04<00:00, 10.49it/s]"
     ]
    },
    {
     "name": "stderr",
     "output_type": "stream",
     "text": [
      "OPIK: Started logging traces to the \"optimize-workshop-2025\" project at https://www.comet.com/opik/api/v1/session/redirect/projects/?trace_id=0197406f-9b0a-7914-b8f3-9a87d8d6ff95&path=aHR0cHM6Ly93d3cuY29tZXQuY29tL29waWsvYXBpLw==.\n",
      "OPIK: Started logging traces to the \"Default Project\" project at https://www.comet.com/opik/api/v1/session/redirect/projects/?trace_id=0197406f-a344-74af-9dc6-0fed6f6e3070&path=aHR0cHM6Ly93d3cuY29tZXQuY29tL29waWsvYXBpLw==.\n"
     ]
    },
    {
     "name": "stdout",
     "output_type": "stream",
     "text": [
      "Average Metric: 7.06 / 35 (20.2%):  88%|████████▊ | 35/40 [00:04<00:00, 10.30it/s]"
     ]
    },
    {
     "name": "stderr",
     "output_type": "stream",
     "text": [
      "OPIK: Started logging traces to the \"optimize-workshop-2025\" project at https://www.comet.com/opik/api/v1/session/redirect/projects/?trace_id=0197406f-9adf-7977-8473-4630b3d64111&path=aHR0cHM6Ly93d3cuY29tZXQuY29tL29waWsvYXBpLw==.\n",
      "OPIK: Started logging traces to the \"Default Project\" project at https://www.comet.com/opik/api/v1/session/redirect/projects/?trace_id=0197406f-a34a-76d3-9a52-d04410baed44&path=aHR0cHM6Ly93d3cuY29tZXQuY29tL29waWsvYXBpLw==.\n"
     ]
    },
    {
     "name": "stdout",
     "output_type": "stream",
     "text": [
      "Average Metric: 7.31 / 36 (20.3%):  88%|████████▊ | 35/40 [00:04<00:00, 10.30it/s]"
     ]
    },
    {
     "name": "stderr",
     "output_type": "stream",
     "text": [
      "OPIK: Started logging traces to the \"optimize-workshop-2025\" project at https://www.comet.com/opik/api/v1/session/redirect/projects/?trace_id=0197406f-9eb2-7673-8f98-448511142757&path=aHR0cHM6Ly93d3cuY29tZXQuY29tL29waWsvYXBpLw==.\n",
      "OPIK: Started logging traces to the \"Default Project\" project at https://www.comet.com/opik/api/v1/session/redirect/projects/?trace_id=0197406f-a3c9-7fc4-ba5e-7e8e7945eeb2&path=aHR0cHM6Ly93d3cuY29tZXQuY29tL29waWsvYXBpLw==.\n"
     ]
    },
    {
     "name": "stdout",
     "output_type": "stream",
     "text": [
      "Average Metric: 7.45 / 37 (20.1%):  92%|█████████▎| 37/40 [00:04<00:00, 11.28it/s]"
     ]
    },
    {
     "name": "stderr",
     "output_type": "stream",
     "text": [
      "OPIK: Started logging traces to the \"optimize-workshop-2025\" project at https://www.comet.com/opik/api/v1/session/redirect/projects/?trace_id=0197406f-9ebf-7ae5-96e2-b8d4f9ab3bcf&path=aHR0cHM6Ly93d3cuY29tZXQuY29tL29waWsvYXBpLw==.\n",
      "OPIK: Started logging traces to the \"Default Project\" project at https://www.comet.com/opik/api/v1/session/redirect/projects/?trace_id=0197406f-a52b-702f-ab88-08e311468673&path=aHR0cHM6Ly93d3cuY29tZXQuY29tL29waWsvYXBpLw==.\n"
     ]
    },
    {
     "name": "stdout",
     "output_type": "stream",
     "text": [
      "Average Metric: 7.56 / 38 (19.9%):  92%|█████████▎| 37/40 [00:04<00:00, 11.28it/s]"
     ]
    },
    {
     "name": "stderr",
     "output_type": "stream",
     "text": [
      "OPIK: Started logging traces to the \"optimize-workshop-2025\" project at https://www.comet.com/opik/api/v1/session/redirect/projects/?trace_id=0197406f-9c30-77f1-a46d-d84fee96e9a0&path=aHR0cHM6Ly93d3cuY29tZXQuY29tL29waWsvYXBpLw==.\n",
      "OPIK: Started logging traces to the \"Default Project\" project at https://www.comet.com/opik/api/v1/session/redirect/projects/?trace_id=0197406f-a613-7588-8953-6f554d01f50d&path=aHR0cHM6Ly93d3cuY29tZXQuY29tL29waWsvYXBpLw==.\n"
     ]
    },
    {
     "name": "stdout",
     "output_type": "stream",
     "text": [
      "Average Metric: 7.93 / 39 (20.3%):  98%|█████████▊| 39/40 [00:05<00:00,  6.83it/s]"
     ]
    },
    {
     "name": "stderr",
     "output_type": "stream",
     "text": [
      "OPIK: Started logging traces to the \"optimize-workshop-2025\" project at https://www.comet.com/opik/api/v1/session/redirect/projects/?trace_id=0197406f-9a92-729d-9295-8d874badc3aa&path=aHR0cHM6Ly93d3cuY29tZXQuY29tL29waWsvYXBpLw==.\n",
      "OPIK: Started logging traces to the \"Default Project\" project at https://www.comet.com/opik/api/v1/session/redirect/projects/?trace_id=0197406f-a6fb-733d-85c9-e1e0072d1779&path=aHR0cHM6Ly93d3cuY29tZXQuY29tL29waWsvYXBpLw==.\n"
     ]
    },
    {
     "name": "stdout",
     "output_type": "stream",
     "text": [
      "Average Metric: 8.08 / 40 (20.2%): 100%|██████████| 40/40 [00:05<00:00,  7.62it/s]"
     ]
    },
    {
     "name": "stderr",
     "output_type": "stream",
     "text": [
      "OPIK: Started logging traces to the \"optimize-workshop-2025\" project at https://www.comet.com/opik/api/v1/session/redirect/projects/?trace_id=0197406f-a700-7e2c-8f50-d21dfac5c199&path=aHR0cHM6Ly93d3cuY29tZXQuY29tL29waWsvYXBpLw==.\n",
      "OPIK: Started logging traces to the \"optimize-workshop-2025\" project at https://www.comet.com/opik/api/v1/session/redirect/projects/?trace_id=0197406f-a701-72bb-bb8f-7534ec7569c1&path=aHR0cHM6Ly93d3cuY29tZXQuY29tL29waWsvYXBpLw==.\n",
      "OPIK: Started logging traces to the \"optimize-workshop-2025\" project at https://www.comet.com/opik/api/v1/session/redirect/projects/?trace_id=0197406f-a705-7bf3-9591-752dad58f0e7&path=aHR0cHM6Ly93d3cuY29tZXQuY29tL29waWsvYXBpLw==.\n",
      "OPIK: Started logging traces to the \"Default Project\" project at https://www.comet.com/opik/api/v1/session/redirect/projects/?trace_id=0197406f-a70f-776e-9233-dd58f93b19f2&path=aHR0cHM6Ly93d3cuY29tZXQuY29tL29waWsvYXBpLw==.\n",
      "OPIK: Started logging traces to the \"Default Project\" project at https://www.comet.com/opik/api/v1/session/redirect/projects/?trace_id=0197406f-a710-7acf-9c34-f0c235e73278&path=aHR0cHM6Ly93d3cuY29tZXQuY29tL29waWsvYXBpLw==.\n",
      "OPIK: Started logging traces to the \"Default Project\" project at https://www.comet.com/opik/api/v1/session/redirect/projects/?trace_id=0197406f-a718-7e19-a53d-d1de97bdc8e6&path=aHR0cHM6Ly93d3cuY29tZXQuY29tL29waWsvYXBpLw==.\n",
      "OPIK: Started logging traces to the \"Default Project\" project at https://www.comet.com/opik/api/v1/session/redirect/projects/?trace_id=0197406f-a721-7038-8375-35c374d314b8&path=aHR0cHM6Ly93d3cuY29tZXQuY29tL29waWsvYXBpLw==.\n"
     ]
    },
    {
     "name": "stdout",
     "output_type": "stream",
     "text": [
      "\n",
      "\u001b[92mBest full score so far!\u001b[0m Score: 20.21\n",
      "Score: 20.21 with parameters ['Predictor 0: Instruction 1', 'Predictor 0: Few-Shot Set 2'].\n",
      "Scores so far: [0.20173393120947108, 20.21]\n",
      "Best score so far: 20.21\n",
      "=======================\n",
      "\n",
      "\n",
      "===== Trial 3 / 7 =====\n",
      "Evaluating the following candidate program...\n",
      "\n",
      "Predictor 0\n",
      "i: Using the `Predict(question) -> answer` module, please provide a detailed and accurate answer to the following trivia question. Ensure that your response is based on the information retrieved from the knowledge base, and clarify any context necessary to support your answer.\n",
      "p: Answer:\n",
      "\n",
      "\n"
     ]
    },
    {
     "name": "stderr",
     "output_type": "stream",
     "text": [
      "OPIK: Started logging traces to the \"Default Project\" project at https://www.comet.com/opik/api/v1/session/redirect/projects/?trace_id=0197406f-a723-786c-bfaa-9f2a00353992&path=aHR0cHM6Ly93d3cuY29tZXQuY29tL29waWsvYXBpLw==.\n"
     ]
    },
    {
     "name": "stdout",
     "output_type": "stream",
     "text": [
      "Average Metric: 0.21 / 1 (20.5%):   0%|          | 0/40 [00:00<?, ?it/s]"
     ]
    },
    {
     "name": "stderr",
     "output_type": "stream",
     "text": [
      "OPIK: Started logging traces to the \"Default Project\" project at https://www.comet.com/opik/api/v1/session/redirect/projects/?trace_id=0197406f-a728-75b9-94d7-4f45b35c8a92&path=aHR0cHM6Ly93d3cuY29tZXQuY29tL29waWsvYXBpLw==.\n"
     ]
    },
    {
     "name": "stdout",
     "output_type": "stream",
     "text": [
      "Average Metric: 0.29 / 2 (14.7%):   2%|▎         | 1/40 [00:00<00:00, 1061.85it/s]"
     ]
    },
    {
     "name": "stderr",
     "output_type": "stream",
     "text": [
      "OPIK: Started logging traces to the \"Default Project\" project at https://www.comet.com/opik/api/v1/session/redirect/projects/?trace_id=0197406f-a72a-7fbf-bb21-7508bdcdfb06&path=aHR0cHM6Ly93d3cuY29tZXQuY29tL29waWsvYXBpLw==.\n"
     ]
    },
    {
     "name": "stdout",
     "output_type": "stream",
     "text": [
      "Average Metric: 0.40 / 3 (13.5%):   5%|▌         | 2/40 [00:00<00:00, 783.47it/s] "
     ]
    },
    {
     "name": "stderr",
     "output_type": "stream",
     "text": [
      "OPIK: Started logging traces to the \"Default Project\" project at https://www.comet.com/opik/api/v1/session/redirect/projects/?trace_id=0197406f-a72e-7e96-a158-4891bd5da281&path=aHR0cHM6Ly93d3cuY29tZXQuY29tL29waWsvYXBpLw==.\n"
     ]
    },
    {
     "name": "stdout",
     "output_type": "stream",
     "text": [
      "Average Metric: 1.51 / 10 (15.1%):  22%|██▎       | 9/40 [00:00<00:00, 969.93it/s]"
     ]
    },
    {
     "name": "stderr",
     "output_type": "stream",
     "text": [
      "OPIK: Started logging traces to the \"optimize-workshop-2025\" project at https://www.comet.com/opik/api/v1/session/redirect/projects/?trace_id=0197406f-a745-7c2d-84cc-23efed18951d&path=aHR0cHM6Ly93d3cuY29tZXQuY29tL29waWsvYXBpLw==.\n",
      "OPIK: Started logging traces to the \"optimize-workshop-2025\" project at https://www.comet.com/opik/api/v1/session/redirect/projects/?trace_id=0197406f-a73b-71c5-89b4-da4c2e0498f2&path=aHR0cHM6Ly93d3cuY29tZXQuY29tL29waWsvYXBpLw==.\n",
      "OPIK: Started logging traces to the \"optimize-workshop-2025\" project at https://www.comet.com/opik/api/v1/session/redirect/projects/?trace_id=0197406f-a736-7f42-9552-08a7a226c2c4&path=aHR0cHM6Ly93d3cuY29tZXQuY29tL29waWsvYXBpLw==.\n",
      "OPIK: Started logging traces to the \"optimize-workshop-2025\" project at https://www.comet.com/opik/api/v1/session/redirect/projects/?trace_id=0197406f-a72c-78bd-92ee-df6a33fda7f7&path=aHR0cHM6Ly93d3cuY29tZXQuY29tL29waWsvYXBpLw==.\n",
      "OPIK: Started logging traces to the \"optimize-workshop-2025\" project at https://www.comet.com/opik/api/v1/session/redirect/projects/?trace_id=0197406f-a748-70d1-bed6-56f6222234d0&path=aHR0cHM6Ly93d3cuY29tZXQuY29tL29waWsvYXBpLw==.\n",
      "OPIK: Started logging traces to the \"optimize-workshop-2025\" project at https://www.comet.com/opik/api/v1/session/redirect/projects/?trace_id=0197406f-a73e-7b16-96eb-06a28936f4a1&path=aHR0cHM6Ly93d3cuY29tZXQuY29tL29waWsvYXBpLw==.\n",
      "OPIK: Started logging traces to the \"optimize-workshop-2025\" project at https://www.comet.com/opik/api/v1/session/redirect/projects/?trace_id=0197406f-a744-7feb-8315-909517e03214&path=aHR0cHM6Ly93d3cuY29tZXQuY29tL29waWsvYXBpLw==.\n",
      "OPIK: Started logging traces to the \"optimize-workshop-2025\" project at https://www.comet.com/opik/api/v1/session/redirect/projects/?trace_id=0197406f-a74c-75a7-88e2-bf2706b12f26&path=aHR0cHM6Ly93d3cuY29tZXQuY29tL29waWsvYXBpLw==.\n",
      "OPIK: Started logging traces to the \"optimize-workshop-2025\" project at https://www.comet.com/opik/api/v1/session/redirect/projects/?trace_id=0197406f-a73a-7114-9653-95808f94337c&path=aHR0cHM6Ly93d3cuY29tZXQuY29tL29waWsvYXBpLw==.\n",
      "OPIK: Started logging traces to the \"optimize-workshop-2025\" project at https://www.comet.com/opik/api/v1/session/redirect/projects/?trace_id=0197406f-a742-7fab-81f4-eefae1f2c694&path=aHR0cHM6Ly93d3cuY29tZXQuY29tL29waWsvYXBpLw==.\n",
      "OPIK: Started logging traces to the \"Default Project\" project at https://www.comet.com/opik/api/v1/session/redirect/projects/?trace_id=0197406f-aaf9-7a54-a0ad-28b229e2beea&path=aHR0cHM6Ly93d3cuY29tZXQuY29tL29waWsvYXBpLw==.\n"
     ]
    },
    {
     "name": "stdout",
     "output_type": "stream",
     "text": [
      "Average Metric: 1.81 / 11 (16.4%):  25%|██▌       | 10/40 [00:00<00:02, 10.03it/s]"
     ]
    },
    {
     "name": "stderr",
     "output_type": "stream",
     "text": [
      "OPIK: Started logging traces to the \"Default Project\" project at https://www.comet.com/opik/api/v1/session/redirect/projects/?trace_id=0197406f-aafb-7b7b-baa0-faa581c5c350&path=aHR0cHM6Ly93d3cuY29tZXQuY29tL29waWsvYXBpLw==.\n"
     ]
    },
    {
     "name": "stdout",
     "output_type": "stream",
     "text": [
      "Average Metric: 1.89 / 12 (15.8%):  28%|██▊       | 11/40 [00:00<00:02, 11.03it/s]"
     ]
    },
    {
     "name": "stderr",
     "output_type": "stream",
     "text": [
      "OPIK: Started logging traces to the \"Default Project\" project at https://www.comet.com/opik/api/v1/session/redirect/projects/?trace_id=0197406f-aafd-7dd7-8c27-4e9adb476167&path=aHR0cHM6Ly93d3cuY29tZXQuY29tL29waWsvYXBpLw==.\n"
     ]
    },
    {
     "name": "stdout",
     "output_type": "stream",
     "text": [
      "Average Metric: 2.20 / 13 (17.0%):  30%|███       | 12/40 [00:00<00:02, 11.03it/s]"
     ]
    },
    {
     "name": "stderr",
     "output_type": "stream",
     "text": [
      "OPIK: Started logging traces to the \"Default Project\" project at https://www.comet.com/opik/api/v1/session/redirect/projects/?trace_id=0197406f-aaff-71fc-9b60-745184221265&path=aHR0cHM6Ly93d3cuY29tZXQuY29tL29waWsvYXBpLw==.\n"
     ]
    },
    {
     "name": "stdout",
     "output_type": "stream",
     "text": [
      "Average Metric: 2.38 / 14 (17.0%):  32%|███▎      | 13/40 [00:00<00:02, 11.03it/s]"
     ]
    },
    {
     "name": "stderr",
     "output_type": "stream",
     "text": [
      "OPIK: Started logging traces to the \"Default Project\" project at https://www.comet.com/opik/api/v1/session/redirect/projects/?trace_id=0197406f-ab01-7d8a-a310-54c98fb9c336&path=aHR0cHM6Ly93d3cuY29tZXQuY29tL29waWsvYXBpLw==.\n",
      "OPIK: Started logging traces to the \"Default Project\" project at https://www.comet.com/opik/api/v1/session/redirect/projects/?trace_id=0197406f-ab03-7577-aefe-769ee7c90643&path=aHR0cHM6Ly93d3cuY29tZXQuY29tL29waWsvYXBpLw==.\n"
     ]
    },
    {
     "name": "stdout",
     "output_type": "stream",
     "text": [
      "Average Metric: 2.75 / 16 (17.2%):  38%|███▊      | 15/40 [00:01<00:02, 11.03it/s]"
     ]
    },
    {
     "name": "stderr",
     "output_type": "stream",
     "text": [
      "OPIK: Started logging traces to the \"Default Project\" project at https://www.comet.com/opik/api/v1/session/redirect/projects/?trace_id=0197406f-ab05-747d-9329-2304f1f69b0e&path=aHR0cHM6Ly93d3cuY29tZXQuY29tL29waWsvYXBpLw==.\n"
     ]
    },
    {
     "name": "stdout",
     "output_type": "stream",
     "text": [
      "Average Metric: 2.88 / 17 (17.0%):  40%|████      | 16/40 [00:01<00:02, 11.03it/s]"
     ]
    },
    {
     "name": "stderr",
     "output_type": "stream",
     "text": [
      "OPIK: Started logging traces to the \"Default Project\" project at https://www.comet.com/opik/api/v1/session/redirect/projects/?trace_id=0197406f-ab07-7d99-a456-9204a184e9c1&path=aHR0cHM6Ly93d3cuY29tZXQuY29tL29waWsvYXBpLw==.\n"
     ]
    },
    {
     "name": "stdout",
     "output_type": "stream",
     "text": [
      "Average Metric: 3.04 / 18 (16.9%):  42%|████▎     | 17/40 [00:01<00:02, 11.03it/s]"
     ]
    },
    {
     "name": "stderr",
     "output_type": "stream",
     "text": [
      "OPIK: Started logging traces to the \"Default Project\" project at https://www.comet.com/opik/api/v1/session/redirect/projects/?trace_id=0197406f-ab09-7b91-a4b7-977ad4c2e8de&path=aHR0cHM6Ly93d3cuY29tZXQuY29tL29waWsvYXBpLw==.\n"
     ]
    },
    {
     "name": "stdout",
     "output_type": "stream",
     "text": [
      "Average Metric: 3.16 / 19 (16.6%):  45%|████▌     | 18/40 [00:01<00:01, 11.03it/s]"
     ]
    },
    {
     "name": "stderr",
     "output_type": "stream",
     "text": [
      "OPIK: Started logging traces to the \"Default Project\" project at https://www.comet.com/opik/api/v1/session/redirect/projects/?trace_id=0197406f-ab0b-7b56-9fe9-f0cae8dc3968&path=aHR0cHM6Ly93d3cuY29tZXQuY29tL29waWsvYXBpLw==.\n"
     ]
    },
    {
     "name": "stdout",
     "output_type": "stream",
     "text": [
      "Average Metric: 3.27 / 20 (16.3%):  48%|████▊     | 19/40 [00:01<00:01, 11.03it/s]"
     ]
    },
    {
     "name": "stderr",
     "output_type": "stream",
     "text": [
      "OPIK: Started logging traces to the \"optimize-workshop-2025\" project at https://www.comet.com/opik/api/v1/session/redirect/projects/?trace_id=0197406f-ab19-73f2-84eb-a662aa9b4a98&path=aHR0cHM6Ly93d3cuY29tZXQuY29tL29waWsvYXBpLw==.\n",
      "OPIK: Started logging traces to the \"optimize-workshop-2025\" project at https://www.comet.com/opik/api/v1/session/redirect/projects/?trace_id=0197406f-a740-7553-bf44-e4e19ea05140&path=aHR0cHM6Ly93d3cuY29tZXQuY29tL29waWsvYXBpLw==.\n",
      "OPIK: Started logging traces to the \"optimize-workshop-2025\" project at https://www.comet.com/opik/api/v1/session/redirect/projects/?trace_id=0197406f-ab0d-7ba0-a9fd-81504718327c&path=aHR0cHM6Ly93d3cuY29tZXQuY29tL29waWsvYXBpLw==.\n",
      "OPIK: Started logging traces to the \"Default Project\" project at https://www.comet.com/opik/api/v1/session/redirect/projects/?trace_id=0197406f-aee1-7afb-9ffe-45954da75875&path=aHR0cHM6Ly93d3cuY29tZXQuY29tL29waWsvYXBpLw==.\n",
      "OPIK: Started logging traces to the \"Default Project\" project at https://www.comet.com/opik/api/v1/session/redirect/projects/?trace_id=0197406f-aee0-72d6-a7df-428126f9b077&path=aHR0cHM6Ly93d3cuY29tZXQuY29tL29waWsvYXBpLw==.\n"
     ]
    },
    {
     "name": "stdout",
     "output_type": "stream",
     "text": [
      "Average Metric: 3.43 / 21 (16.3%):  50%|█████     | 20/40 [00:01<00:01, 11.03it/s]"
     ]
    },
    {
     "name": "stderr",
     "output_type": "stream",
     "text": [
      "OPIK: Started logging traces to the \"Default Project\" project at https://www.comet.com/opik/api/v1/session/redirect/projects/?trace_id=0197406f-aee4-732f-b758-25bccb4b4b3e&path=aHR0cHM6Ly93d3cuY29tZXQuY29tL29waWsvYXBpLw==.\n",
      "OPIK: Started logging traces to the \"Default Project\" project at https://www.comet.com/opik/api/v1/session/redirect/projects/?trace_id=0197406f-aee6-7a78-8ab5-dd09a7d7c9f0&path=aHR0cHM6Ly93d3cuY29tZXQuY29tL29waWsvYXBpLw==.\n"
     ]
    },
    {
     "name": "stdout",
     "output_type": "stream",
     "text": [
      "Average Metric: 6.01 / 30 (20.0%):  72%|███████▎  | 29/40 [00:01<00:01, 10.46it/s]"
     ]
    },
    {
     "name": "stderr",
     "output_type": "stream",
     "text": [
      "OPIK: Started logging traces to the \"optimize-workshop-2025\" project at https://www.comet.com/opik/api/v1/session/redirect/projects/?trace_id=0197406f-ab13-71a7-85bb-ea3a9071f7c5&path=aHR0cHM6Ly93d3cuY29tZXQuY29tL29waWsvYXBpLw==.\n",
      "OPIK: Started logging traces to the \"Default Project\" project at https://www.comet.com/opik/api/v1/session/redirect/projects/?trace_id=0197406f-b2c8-7eeb-8013-faee9d96d02f&path=aHR0cHM6Ly93d3cuY29tZXQuY29tL29waWsvYXBpLw==.\n",
      "OPIK: Started logging traces to the \"Default Project\" project at https://www.comet.com/opik/api/v1/session/redirect/projects/?trace_id=0197406f-b2c7-7134-9ccc-b136fdb59643&path=aHR0cHM6Ly93d3cuY29tZXQuY29tL29waWsvYXBpLw==.\n"
     ]
    },
    {
     "name": "stdout",
     "output_type": "stream",
     "text": [
      "Average Metric: 6.51 / 31 (21.0%):  75%|███████▌  | 30/40 [00:02<00:00, 10.46it/s]"
     ]
    },
    {
     "name": "stderr",
     "output_type": "stream",
     "text": [
      "OPIK: Started logging traces to the \"Default Project\" project at https://www.comet.com/opik/api/v1/session/redirect/projects/?trace_id=0197406f-b2cf-7c1a-ae11-e543f3aec422&path=aHR0cHM6Ly93d3cuY29tZXQuY29tL29waWsvYXBpLw==.\n"
     ]
    },
    {
     "name": "stdout",
     "output_type": "stream",
     "text": [
      "Average Metric: 6.51 / 31 (21.0%):  78%|███████▊  | 31/40 [00:02<00:00, 10.26it/s]"
     ]
    },
    {
     "name": "stderr",
     "output_type": "stream",
     "text": [
      "OPIK: Started logging traces to the \"Default Project\" project at https://www.comet.com/opik/api/v1/session/redirect/projects/?trace_id=0197406f-b2d1-72c3-b53f-60bc32175f86&path=aHR0cHM6Ly93d3cuY29tZXQuY29tL29waWsvYXBpLw==.\n"
     ]
    },
    {
     "name": "stdout",
     "output_type": "stream",
     "text": [
      "Average Metric: 6.85 / 33 (20.8%):  80%|████████  | 32/40 [00:02<00:00, 10.26it/s]"
     ]
    },
    {
     "name": "stderr",
     "output_type": "stream",
     "text": [
      "OPIK: Started logging traces to the \"Default Project\" project at https://www.comet.com/opik/api/v1/session/redirect/projects/?trace_id=0197406f-b2d3-774d-8cc2-bf812447df4c&path=aHR0cHM6Ly93d3cuY29tZXQuY29tL29waWsvYXBpLw==.\n"
     ]
    },
    {
     "name": "stdout",
     "output_type": "stream",
     "text": [
      "Average Metric: 7.66 / 37 (20.7%):  90%|█████████ | 36/40 [00:02<00:00, 10.26it/s]"
     ]
    },
    {
     "name": "stderr",
     "output_type": "stream",
     "text": [
      "OPIK: Started logging traces to the \"optimize-workshop-2025\" project at https://www.comet.com/opik/api/v1/session/redirect/projects/?trace_id=0197406f-aef7-762a-a4ad-0db19b559fef&path=aHR0cHM6Ly93d3cuY29tZXQuY29tL29waWsvYXBpLw==.\n"
     ]
    },
    {
     "name": "stdout",
     "output_type": "stream",
     "text": [
      "Average Metric: 7.80 / 38 (20.5%):  92%|█████████▎| 37/40 [00:02<00:00, 10.26it/s]"
     ]
    },
    {
     "name": "stderr",
     "output_type": "stream",
     "text": [
      "OPIK: Started logging traces to the \"optimize-workshop-2025\" project at https://www.comet.com/opik/api/v1/session/redirect/projects/?trace_id=0197406f-ab1b-7975-91a8-a1514fc96f5b&path=aHR0cHM6Ly93d3cuY29tZXQuY29tL29waWsvYXBpLw==.\n",
      "OPIK: Started logging traces to the \"Default Project\" project at https://www.comet.com/opik/api/v1/session/redirect/projects/?trace_id=0197406f-b2dd-7ad5-acb5-fbe2df074bc2&path=aHR0cHM6Ly93d3cuY29tZXQuY29tL29waWsvYXBpLw==.\n"
     ]
    },
    {
     "name": "stdout",
     "output_type": "stream",
     "text": [
      "Average Metric: 8.08 / 40 (20.2%): 100%|██████████| 40/40 [00:02<00:00, 13.35it/s]\n",
      "Score: 20.21 with parameters ['Predictor 0: Instruction 1', 'Predictor 0: Few-Shot Set 2'].\n",
      "Scores so far: [0.20173393120947108, 20.21, 20.21]\n",
      "Best score so far: 20.21\n",
      "=======================\n",
      "\n",
      "\n",
      "===== Trial 4 / 7 =====\n",
      "Evaluating the following candidate program...\n",
      "\n",
      "Predictor 0\n",
      "i: Provide an answer to the question\n",
      "p: Answer:\n",
      "\n",
      "\n",
      "  0%|          | 0/40 [00:00<?, ?it/s]"
     ]
    },
    {
     "name": "stderr",
     "output_type": "stream",
     "text": [
      "OPIK: Started logging traces to the \"optimize-workshop-2025\" project at https://www.comet.com/opik/api/v1/session/redirect/projects/?trace_id=0197406f-b2f0-7760-aab4-ff63e49f3202&path=aHR0cHM6Ly93d3cuY29tZXQuY29tL29waWsvYXBpLw==.\n",
      "OPIK: Started logging traces to the \"optimize-workshop-2025\" project at https://www.comet.com/opik/api/v1/session/redirect/projects/?trace_id=0197406f-b2ef-701a-ae9c-edeaa32cf200&path=aHR0cHM6Ly93d3cuY29tZXQuY29tL29waWsvYXBpLw==.\n",
      "OPIK: Started logging traces to the \"optimize-workshop-2025\" project at https://www.comet.com/opik/api/v1/session/redirect/projects/?trace_id=0197406f-b2ff-7424-85af-faf54cce71bc&path=aHR0cHM6Ly93d3cuY29tZXQuY29tL29waWsvYXBpLw==.\n",
      "OPIK: Started logging traces to the \"optimize-workshop-2025\" project at https://www.comet.com/opik/api/v1/session/redirect/projects/?trace_id=0197406f-b2e6-78ea-8ab8-c89a26992895&path=aHR0cHM6Ly93d3cuY29tZXQuY29tL29waWsvYXBpLw==.\n",
      "OPIK: Started logging traces to the \"optimize-workshop-2025\" project at https://www.comet.com/opik/api/v1/session/redirect/projects/?trace_id=0197406f-b2f2-7b82-97e2-b8406e63cf3c&path=aHR0cHM6Ly93d3cuY29tZXQuY29tL29waWsvYXBpLw==.\n",
      "OPIK: Started logging traces to the \"optimize-workshop-2025\" project at https://www.comet.com/opik/api/v1/session/redirect/projects/?trace_id=0197406f-b2fd-7e3c-9a9e-15486636b76e&path=aHR0cHM6Ly93d3cuY29tZXQuY29tL29waWsvYXBpLw==.\n",
      "OPIK: Started logging traces to the \"optimize-workshop-2025\" project at https://www.comet.com/opik/api/v1/session/redirect/projects/?trace_id=0197406f-b2e8-71fe-b02a-48112059f978&path=aHR0cHM6Ly93d3cuY29tZXQuY29tL29waWsvYXBpLw==.\n",
      "OPIK: Started logging traces to the \"Default Project\" project at https://www.comet.com/opik/api/v1/session/redirect/projects/?trace_id=0197406f-b6b6-7224-acd3-b2dd58f6eb17&path=aHR0cHM6Ly93d3cuY29tZXQuY29tL29waWsvYXBpLw==.\n"
     ]
    },
    {
     "name": "stdout",
     "output_type": "stream",
     "text": [
      "Average Metric: 0.11 / 1 (11.3%):   0%|          | 0/40 [00:01<?, ?it/s]"
     ]
    },
    {
     "name": "stderr",
     "output_type": "stream",
     "text": [
      "OPIK: Started logging traces to the \"Default Project\" project at https://www.comet.com/opik/api/v1/session/redirect/projects/?trace_id=0197406f-b6b9-7592-9ffa-a900d2380863&path=aHR0cHM6Ly93d3cuY29tZXQuY29tL29waWsvYXBpLw==.\n"
     ]
    },
    {
     "name": "stdout",
     "output_type": "stream",
     "text": [
      "Average Metric: 0.11 / 1 (11.3%):   2%|▎         | 1/40 [00:01<00:39,  1.00s/it]"
     ]
    },
    {
     "name": "stderr",
     "output_type": "stream",
     "text": [
      "OPIK: Started logging traces to the \"Default Project\" project at https://www.comet.com/opik/api/v1/session/redirect/projects/?trace_id=0197406f-b6b8-7484-992e-585102b917e4&path=aHR0cHM6Ly93d3cuY29tZXQuY29tL29waWsvYXBpLw==.\n"
     ]
    },
    {
     "name": "stdout",
     "output_type": "stream",
     "text": [
      "Average Metric: 0.48 / 3 (16.1%):   5%|▌         | 2/40 [00:01<00:38,  1.00s/it]"
     ]
    },
    {
     "name": "stderr",
     "output_type": "stream",
     "text": [
      "OPIK: Started logging traces to the \"Default Project\" project at https://www.comet.com/opik/api/v1/session/redirect/projects/?trace_id=0197406f-b6bc-7d62-8972-bd1b42910341&path=aHR0cHM6Ly93d3cuY29tZXQuY29tL29waWsvYXBpLw==.\n"
     ]
    },
    {
     "name": "stdout",
     "output_type": "stream",
     "text": [
      "Average Metric: 0.73 / 4 (18.3%):   8%|▊         | 3/40 [00:01<00:37,  1.00s/it]"
     ]
    },
    {
     "name": "stderr",
     "output_type": "stream",
     "text": [
      "OPIK: Started logging traces to the \"Default Project\" project at https://www.comet.com/opik/api/v1/session/redirect/projects/?trace_id=0197406f-b6be-71f1-9a26-5f29a28e08c4&path=aHR0cHM6Ly93d3cuY29tZXQuY29tL29waWsvYXBpLw==.\n"
     ]
    },
    {
     "name": "stdout",
     "output_type": "stream",
     "text": [
      "Average Metric: 0.79 / 5 (15.8%):  10%|█         | 4/40 [00:01<00:36,  1.00s/it]"
     ]
    },
    {
     "name": "stderr",
     "output_type": "stream",
     "text": [
      "OPIK: Started logging traces to the \"Default Project\" project at https://www.comet.com/opik/api/v1/session/redirect/projects/?trace_id=0197406f-b6c2-79ca-a3ce-d8d0570cc1d8&path=aHR0cHM6Ly93d3cuY29tZXQuY29tL29waWsvYXBpLw==.\n"
     ]
    },
    {
     "name": "stdout",
     "output_type": "stream",
     "text": [
      "Average Metric: 1.07 / 7 (15.3%):  15%|█▌        | 6/40 [00:01<00:34,  1.00s/it]"
     ]
    },
    {
     "name": "stderr",
     "output_type": "stream",
     "text": [
      "OPIK: Started logging traces to the \"Default Project\" project at https://www.comet.com/opik/api/v1/session/redirect/projects/?trace_id=0197406f-b6c4-763b-aeac-5e2fa89ebeac&path=aHR0cHM6Ly93d3cuY29tZXQuY29tL29waWsvYXBpLw==.\n",
      "OPIK: Started logging traces to the \"Default Project\" project at https://www.comet.com/opik/api/v1/session/redirect/projects/?trace_id=0197406f-b6c6-7def-872e-b1a8f30ead57&path=aHR0cHM6Ly93d3cuY29tZXQuY29tL29waWsvYXBpLw==.\n"
     ]
    },
    {
     "name": "stdout",
     "output_type": "stream",
     "text": [
      "Average Metric: 1.23 / 8 (15.3%):  18%|█▊        | 7/40 [00:01<00:33,  1.00s/it]"
     ]
    },
    {
     "name": "stderr",
     "output_type": "stream",
     "text": [
      "OPIK: Started logging traces to the \"Default Project\" project at https://www.comet.com/opik/api/v1/session/redirect/projects/?trace_id=0197406f-b6c8-776e-b1ef-9a503c2795b3&path=aHR0cHM6Ly93d3cuY29tZXQuY29tL29waWsvYXBpLw==.\n"
     ]
    },
    {
     "name": "stdout",
     "output_type": "stream",
     "text": [
      "Average Metric: 1.40 / 10 (14.0%):  22%|██▎       | 9/40 [00:01<00:31,  1.00s/it]"
     ]
    },
    {
     "name": "stderr",
     "output_type": "stream",
     "text": [
      "OPIK: Started logging traces to the \"optimize-workshop-2025\" project at https://www.comet.com/opik/api/v1/session/redirect/projects/?trace_id=0197406f-b2e5-7f8b-a9ec-f991b31ae4a4&path=aHR0cHM6Ly93d3cuY29tZXQuY29tL29waWsvYXBpLw==.\n",
      "OPIK: Started logging traces to the \"optimize-workshop-2025\" project at https://www.comet.com/opik/api/v1/session/redirect/projects/?trace_id=0197406f-b6ce-7f25-a07b-8e978fa0b557&path=aHR0cHM6Ly93d3cuY29tZXQuY29tL29waWsvYXBpLw==.\n",
      "OPIK: Started logging traces to the \"optimize-workshop-2025\" project at https://www.comet.com/opik/api/v1/session/redirect/projects/?trace_id=0197406f-b6de-7933-84c8-6dfe1fdbb007&path=aHR0cHM6Ly93d3cuY29tZXQuY29tL29waWsvYXBpLw==.\n",
      "OPIK: Started logging traces to the \"optimize-workshop-2025\" project at https://www.comet.com/opik/api/v1/session/redirect/projects/?trace_id=0197406f-b2e9-7f81-8d05-aa9d29694e31&path=aHR0cHM6Ly93d3cuY29tZXQuY29tL29waWsvYXBpLw==.\n",
      "OPIK: Started logging traces to the \"optimize-workshop-2025\" project at https://www.comet.com/opik/api/v1/session/redirect/projects/?trace_id=0197406f-b2e1-74c5-9a16-20b9b71b0d48&path=aHR0cHM6Ly93d3cuY29tZXQuY29tL29waWsvYXBpLw==.\n",
      "OPIK: Started logging traces to the \"optimize-workshop-2025\" project at https://www.comet.com/opik/api/v1/session/redirect/projects/?trace_id=0197406f-b6ca-7994-82c6-ce8995902e79&path=aHR0cHM6Ly93d3cuY29tZXQuY29tL29waWsvYXBpLw==.\n",
      "OPIK: Started logging traces to the \"optimize-workshop-2025\" project at https://www.comet.com/opik/api/v1/session/redirect/projects/?trace_id=0197406f-b6d4-7e7f-aa6c-af0ecef905ae&path=aHR0cHM6Ly93d3cuY29tZXQuY29tL29waWsvYXBpLw==.\n",
      "OPIK: Started logging traces to the \"optimize-workshop-2025\" project at https://www.comet.com/opik/api/v1/session/redirect/projects/?trace_id=0197406f-b6dc-7be3-9c4e-5da1dd0d1462&path=aHR0cHM6Ly93d3cuY29tZXQuY29tL29waWsvYXBpLw==.\n",
      "OPIK: Started logging traces to the \"Default Project\" project at https://www.comet.com/opik/api/v1/session/redirect/projects/?trace_id=0197406f-baa2-78c4-bad1-823606f4a477&path=aHR0cHM6Ly93d3cuY29tZXQuY29tL29waWsvYXBpLw==.\n",
      "OPIK: Started logging traces to the \"Default Project\" project at https://www.comet.com/opik/api/v1/session/redirect/projects/?trace_id=0197406f-baa4-7291-aad6-a58a56c34542&path=aHR0cHM6Ly93d3cuY29tZXQuY29tL29waWsvYXBpLw==.\n"
     ]
    },
    {
     "name": "stdout",
     "output_type": "stream",
     "text": [
      "Average Metric: 1.58 / 11 (14.3%):  28%|██▊       | 11/40 [00:02<00:04,  6.28it/s]"
     ]
    },
    {
     "name": "stderr",
     "output_type": "stream",
     "text": [
      "OPIK: Started logging traces to the \"Default Project\" project at https://www.comet.com/opik/api/v1/session/redirect/projects/?trace_id=0197406f-baa6-7206-b214-a26b90e8fd6f&path=aHR0cHM6Ly93d3cuY29tZXQuY29tL29waWsvYXBpLw==.\n"
     ]
    },
    {
     "name": "stdout",
     "output_type": "stream",
     "text": [
      "Average Metric: 1.79 / 12 (14.9%):  28%|██▊       | 11/40 [00:02<00:04,  6.28it/s]"
     ]
    },
    {
     "name": "stderr",
     "output_type": "stream",
     "text": [
      "OPIK: Started logging traces to the \"Default Project\" project at https://www.comet.com/opik/api/v1/session/redirect/projects/?trace_id=0197406f-baa8-73f3-9dd0-b1f3cc9357d3&path=aHR0cHM6Ly93d3cuY29tZXQuY29tL29waWsvYXBpLw==.\n"
     ]
    },
    {
     "name": "stdout",
     "output_type": "stream",
     "text": [
      "Average Metric: 2.03 / 14 (14.5%):  32%|███▎      | 13/40 [00:02<00:04,  6.28it/s]"
     ]
    },
    {
     "name": "stderr",
     "output_type": "stream",
     "text": [
      "OPIK: Started logging traces to the \"Default Project\" project at https://www.comet.com/opik/api/v1/session/redirect/projects/?trace_id=0197406f-baaa-7804-8952-a759dc0c8394&path=aHR0cHM6Ly93d3cuY29tZXQuY29tL29waWsvYXBpLw==.\n"
     ]
    },
    {
     "name": "stdout",
     "output_type": "stream",
     "text": [
      "Average Metric: 2.04 / 15 (13.6%):  35%|███▌      | 14/40 [00:02<00:04,  6.28it/s]"
     ]
    },
    {
     "name": "stderr",
     "output_type": "stream",
     "text": [
      "OPIK: Started logging traces to the \"Default Project\" project at https://www.comet.com/opik/api/v1/session/redirect/projects/?trace_id=0197406f-baac-7794-83f8-35daaca9c67e&path=aHR0cHM6Ly93d3cuY29tZXQuY29tL29waWsvYXBpLw==.\n"
     ]
    },
    {
     "name": "stdout",
     "output_type": "stream",
     "text": [
      "Average Metric: 2.17 / 16 (13.6%):  38%|███▊      | 15/40 [00:02<00:03,  6.28it/s]"
     ]
    },
    {
     "name": "stderr",
     "output_type": "stream",
     "text": [
      "OPIK: Started logging traces to the \"Default Project\" project at https://www.comet.com/opik/api/v1/session/redirect/projects/?trace_id=0197406f-bab0-737c-bbec-d5f9fbe73c32&path=aHR0cHM6Ly93d3cuY29tZXQuY29tL29waWsvYXBpLw==.\n"
     ]
    },
    {
     "name": "stdout",
     "output_type": "stream",
     "text": [
      "Average Metric: 2.48 / 18 (13.8%):  42%|████▎     | 17/40 [00:02<00:03,  6.28it/s]"
     ]
    },
    {
     "name": "stderr",
     "output_type": "stream",
     "text": [
      "OPIK: Started logging traces to the \"Default Project\" project at https://www.comet.com/opik/api/v1/session/redirect/projects/?trace_id=0197406f-bab2-7939-872b-9776f594c460&path=aHR0cHM6Ly93d3cuY29tZXQuY29tL29waWsvYXBpLw==.\n"
     ]
    },
    {
     "name": "stdout",
     "output_type": "stream",
     "text": [
      "Average Metric: 3.09 / 20 (15.5%):  48%|████▊     | 19/40 [00:02<00:03,  6.28it/s]"
     ]
    },
    {
     "name": "stderr",
     "output_type": "stream",
     "text": [
      "OPIK: Started logging traces to the \"optimize-workshop-2025\" project at https://www.comet.com/opik/api/v1/session/redirect/projects/?trace_id=0197406f-bac0-7fbc-913a-049bd6333d82&path=aHR0cHM6Ly93d3cuY29tZXQuY29tL29waWsvYXBpLw==.\n",
      "OPIK: Started logging traces to the \"optimize-workshop-2025\" project at https://www.comet.com/opik/api/v1/session/redirect/projects/?trace_id=0197406f-babe-7c46-94db-a1eff5b22419&path=aHR0cHM6Ly93d3cuY29tZXQuY29tL29waWsvYXBpLw==.\n",
      "OPIK: Started logging traces to the \"optimize-workshop-2025\" project at https://www.comet.com/opik/api/v1/session/redirect/projects/?trace_id=0197406f-b6d2-7a6f-b13d-1ee42233565a&path=aHR0cHM6Ly93d3cuY29tZXQuY29tL29waWsvYXBpLw==.\n",
      "OPIK: Started logging traces to the \"Default Project\" project at https://www.comet.com/opik/api/v1/session/redirect/projects/?trace_id=0197406f-be8d-70e0-8180-1589e35a6a31&path=aHR0cHM6Ly93d3cuY29tZXQuY29tL29waWsvYXBpLw==.\n",
      "OPIK: Started logging traces to the \"Default Project\" project at https://www.comet.com/opik/api/v1/session/redirect/projects/?trace_id=0197406f-be90-72ab-a84b-0d939527ee29&path=aHR0cHM6Ly93d3cuY29tZXQuY29tL29waWsvYXBpLw==.\n"
     ]
    },
    {
     "name": "stdout",
     "output_type": "stream",
     "text": [
      "Average Metric: 3.29 / 21 (15.7%):  50%|█████     | 20/40 [00:03<00:03,  6.28it/s]"
     ]
    },
    {
     "name": "stderr",
     "output_type": "stream",
     "text": [
      "OPIK: Started logging traces to the \"Default Project\" project at https://www.comet.com/opik/api/v1/session/redirect/projects/?trace_id=0197406f-be92-75bf-8fa8-5518c72803a0&path=aHR0cHM6Ly93d3cuY29tZXQuY29tL29waWsvYXBpLw==.\n"
     ]
    },
    {
     "name": "stdout",
     "output_type": "stream",
     "text": [
      "Average Metric: 3.50 / 22 (15.9%):  52%|█████▎    | 21/40 [00:03<00:02,  7.98it/s]"
     ]
    },
    {
     "name": "stderr",
     "output_type": "stream",
     "text": [
      "OPIK: Started logging traces to the \"Default Project\" project at https://www.comet.com/opik/api/v1/session/redirect/projects/?trace_id=0197406f-be8f-7f6f-b199-30aa11f14fa2&path=aHR0cHM6Ly93d3cuY29tZXQuY29tL29waWsvYXBpLw==.\n"
     ]
    },
    {
     "name": "stdout",
     "output_type": "stream",
     "text": [
      "Average Metric: 3.68 / 23 (16.0%):  55%|█████▌    | 22/40 [00:03<00:02,  7.98it/s]"
     ]
    },
    {
     "name": "stderr",
     "output_type": "stream",
     "text": [
      "OPIK: Started logging traces to the \"Default Project\" project at https://www.comet.com/opik/api/v1/session/redirect/projects/?trace_id=0197406f-be95-7873-ba9f-39e9667ba24a&path=aHR0cHM6Ly93d3cuY29tZXQuY29tL29waWsvYXBpLw==.\n"
     ]
    },
    {
     "name": "stdout",
     "output_type": "stream",
     "text": [
      "Average Metric: 4.26 / 25 (17.0%):  60%|██████    | 24/40 [00:03<00:02,  7.98it/s]"
     ]
    },
    {
     "name": "stderr",
     "output_type": "stream",
     "text": [
      "OPIK: Started logging traces to the \"Default Project\" project at https://www.comet.com/opik/api/v1/session/redirect/projects/?trace_id=0197406f-be97-7197-bada-c00282e5552f&path=aHR0cHM6Ly93d3cuY29tZXQuY29tL29waWsvYXBpLw==.\n"
     ]
    },
    {
     "name": "stdout",
     "output_type": "stream",
     "text": [
      "Average Metric: 4.92 / 27 (18.2%):  65%|██████▌   | 26/40 [00:03<00:01,  7.98it/s]"
     ]
    },
    {
     "name": "stderr",
     "output_type": "stream",
     "text": [
      "OPIK: Started logging traces to the \"Default Project\" project at https://www.comet.com/opik/api/v1/session/redirect/projects/?trace_id=0197406f-be99-75d8-977e-565c2afecd17&path=aHR0cHM6Ly93d3cuY29tZXQuY29tL29waWsvYXBpLw==.\n"
     ]
    },
    {
     "name": "stdout",
     "output_type": "stream",
     "text": [
      "Average Metric: 5.38 / 28 (19.2%):  68%|██████▊   | 27/40 [00:03<00:01,  7.98it/s]"
     ]
    },
    {
     "name": "stderr",
     "output_type": "stream",
     "text": [
      "OPIK: Started logging traces to the \"optimize-workshop-2025\" project at https://www.comet.com/opik/api/v1/session/redirect/projects/?trace_id=0197406f-be9b-7243-90f9-2024be05c13a&path=aHR0cHM6Ly93d3cuY29tZXQuY29tL29waWsvYXBpLw==.\n",
      "OPIK: Started logging traces to the \"optimize-workshop-2025\" project at https://www.comet.com/opik/api/v1/session/redirect/projects/?trace_id=0197406f-bea1-701c-a8d3-966d60b43554&path=aHR0cHM6Ly93d3cuY29tZXQuY29tL29waWsvYXBpLw==.\n",
      "OPIK: Started logging traces to the \"Default Project\" project at https://www.comet.com/opik/api/v1/session/redirect/projects/?trace_id=0197406f-bea7-72b5-965a-ace67526431e&path=aHR0cHM6Ly93d3cuY29tZXQuY29tL29waWsvYXBpLw==.\n"
     ]
    },
    {
     "name": "stdout",
     "output_type": "stream",
     "text": [
      "Average Metric: 5.70 / 30 (19.0%):  72%|███████▎  | 29/40 [00:03<00:01,  7.98it/s]"
     ]
    },
    {
     "name": "stderr",
     "output_type": "stream",
     "text": [
      "OPIK: Started logging traces to the \"optimize-workshop-2025\" project at https://www.comet.com/opik/api/v1/session/redirect/projects/?trace_id=0197406f-bac2-7dd0-b815-d1859feb27b6&path=aHR0cHM6Ly93d3cuY29tZXQuY29tL29waWsvYXBpLw==.\n",
      "OPIK: Started logging traces to the \"optimize-workshop-2025\" project at https://www.comet.com/opik/api/v1/session/redirect/projects/?trace_id=0197406f-b6d8-73c5-a447-1216657ca26a&path=aHR0cHM6Ly93d3cuY29tZXQuY29tL29waWsvYXBpLw==.\n",
      "OPIK: Started logging traces to the \"Default Project\" project at https://www.comet.com/opik/api/v1/session/redirect/projects/?trace_id=0197406f-c272-7962-b216-c38fc796db2e&path=aHR0cHM6Ly93d3cuY29tZXQuY29tL29waWsvYXBpLw==.\n"
     ]
    },
    {
     "name": "stdout",
     "output_type": "stream",
     "text": [
      "Average Metric: 6.02 / 31 (19.4%):  75%|███████▌  | 30/40 [00:03<00:01,  7.98it/s]"
     ]
    },
    {
     "name": "stderr",
     "output_type": "stream",
     "text": [
      "OPIK: Started logging traces to the \"Default Project\" project at https://www.comet.com/opik/api/v1/session/redirect/projects/?trace_id=0197406f-c275-7202-8782-798d4a1993ab&path=aHR0cHM6Ly93d3cuY29tZXQuY29tL29waWsvYXBpLw==.\n"
     ]
    },
    {
     "name": "stdout",
     "output_type": "stream",
     "text": [
      "Average Metric: 6.19 / 32 (19.3%):  78%|███████▊  | 31/40 [00:04<00:01,  8.79it/s]"
     ]
    },
    {
     "name": "stderr",
     "output_type": "stream",
     "text": [
      "OPIK: Started logging traces to the \"optimize-workshop-2025\" project at https://www.comet.com/opik/api/v1/session/redirect/projects/?trace_id=0197406f-bea5-7bef-89e4-37080f4d005a&path=aHR0cHM6Ly93d3cuY29tZXQuY29tL29waWsvYXBpLw==.\n"
     ]
    },
    {
     "name": "stdout",
     "output_type": "stream",
     "text": [
      "Average Metric: 6.34 / 33 (19.2%):  80%|████████  | 32/40 [00:04<00:00,  8.79it/s]"
     ]
    },
    {
     "name": "stderr",
     "output_type": "stream",
     "text": [
      "OPIK: Started logging traces to the \"optimize-workshop-2025\" project at https://www.comet.com/opik/api/v1/session/redirect/projects/?trace_id=0197406f-b2e3-7d0d-9a9e-8f2095026de3&path=aHR0cHM6Ly93d3cuY29tZXQuY29tL29waWsvYXBpLw==.\n",
      "OPIK: Started logging traces to the \"optimize-workshop-2025\" project at https://www.comet.com/opik/api/v1/session/redirect/projects/?trace_id=0197406f-b6d0-7497-bda4-e8eb2f86fbed&path=aHR0cHM6Ly93d3cuY29tZXQuY29tL29waWsvYXBpLw==.\n",
      "OPIK: Started logging traces to the \"optimize-workshop-2025\" project at https://www.comet.com/opik/api/v1/session/redirect/projects/?trace_id=0197406f-bab4-770e-aedd-8796e25f900d&path=aHR0cHM6Ly93d3cuY29tZXQuY29tL29waWsvYXBpLw==.\n",
      "OPIK: Started logging traces to the \"optimize-workshop-2025\" project at https://www.comet.com/opik/api/v1/session/redirect/projects/?trace_id=0197406f-bac8-70a9-af7b-7d3909223266&path=aHR0cHM6Ly93d3cuY29tZXQuY29tL29waWsvYXBpLw==.\n",
      "OPIK: Started logging traces to the \"Default Project\" project at https://www.comet.com/opik/api/v1/session/redirect/projects/?trace_id=0197406f-c27e-7284-8618-0bd45287f433&path=aHR0cHM6Ly93d3cuY29tZXQuY29tL29waWsvYXBpLw==.\n",
      "OPIK: Started logging traces to the \"Default Project\" project at https://www.comet.com/opik/api/v1/session/redirect/projects/?trace_id=0197406f-c280-73da-9b8e-c2cd40dd109b&path=aHR0cHM6Ly93d3cuY29tZXQuY29tL29waWsvYXBpLw==.\n"
     ]
    },
    {
     "name": "stdout",
     "output_type": "stream",
     "text": [
      "Average Metric: 6.45 / 34 (19.0%):  82%|████████▎ | 33/40 [00:04<00:00,  8.79it/s]"
     ]
    },
    {
     "name": "stderr",
     "output_type": "stream",
     "text": [
      "OPIK: Started logging traces to the \"Default Project\" project at https://www.comet.com/opik/api/v1/session/redirect/projects/?trace_id=0197406f-c282-7cdc-b0b0-148195a7068e&path=aHR0cHM6Ly93d3cuY29tZXQuY29tL29waWsvYXBpLw==.\n"
     ]
    },
    {
     "name": "stdout",
     "output_type": "stream",
     "text": [
      "Average Metric: 6.74 / 36 (18.7%):  88%|████████▊ | 35/40 [00:04<00:00,  8.79it/s]"
     ]
    },
    {
     "name": "stderr",
     "output_type": "stream",
     "text": [
      "OPIK: Started logging traces to the \"Default Project\" project at https://www.comet.com/opik/api/v1/session/redirect/projects/?trace_id=0197406f-c284-748b-a8eb-c8bbf6d71e99&path=aHR0cHM6Ly93d3cuY29tZXQuY29tL29waWsvYXBpLw==.\n"
     ]
    },
    {
     "name": "stdout",
     "output_type": "stream",
     "text": [
      "Average Metric: 7.74 / 37 (20.9%):  90%|█████████ | 36/40 [00:04<00:00,  8.79it/s]"
     ]
    },
    {
     "name": "stderr",
     "output_type": "stream",
     "text": [
      "OPIK: Started logging traces to the \"Default Project\" project at https://www.comet.com/opik/api/v1/session/redirect/projects/?trace_id=0197406f-c286-707b-849a-0e41f47b48ab&path=aHR0cHM6Ly93d3cuY29tZXQuY29tL29waWsvYXBpLw==.\n"
     ]
    },
    {
     "name": "stdout",
     "output_type": "stream",
     "text": [
      "Average Metric: 7.83 / 38 (20.6%):  92%|█████████▎| 37/40 [00:04<00:00,  8.79it/s]"
     ]
    },
    {
     "name": "stderr",
     "output_type": "stream",
     "text": [
      "OPIK: Started logging traces to the \"optimize-workshop-2025\" project at https://www.comet.com/opik/api/v1/session/redirect/projects/?trace_id=0197406f-bea0-7dd3-866c-831f008a618f&path=aHR0cHM6Ly93d3cuY29tZXQuY29tL29waWsvYXBpLw==.\n",
      "OPIK: Started logging traces to the \"optimize-workshop-2025\" project at https://www.comet.com/opik/api/v1/session/redirect/projects/?trace_id=0197406f-bab8-78ec-bf6b-7f557def3baa&path=aHR0cHM6Ly93d3cuY29tZXQuY29tL29waWsvYXBpLw==.\n",
      "OPIK: Started logging traces to the \"Default Project\" project at https://www.comet.com/opik/api/v1/session/redirect/projects/?trace_id=0197406f-c28a-72ac-a2bb-a1bb2d92a53f&path=aHR0cHM6Ly93d3cuY29tZXQuY29tL29waWsvYXBpLw==.\n"
     ]
    },
    {
     "name": "stdout",
     "output_type": "stream",
     "text": [
      "Average Metric: 8.07 / 40 (20.2%): 100%|██████████| 40/40 [00:04<00:00,  9.97it/s]\n",
      "Score: 20.17 with parameters ['Predictor 0: Instruction 0', 'Predictor 0: Few-Shot Set 0'].\n",
      "Scores so far: [0.20173393120947108, 20.21, 20.21, 20.17]\n",
      "Best score so far: 20.21\n",
      "=======================\n",
      "\n",
      "\n",
      "===== Trial 5 / 7 =====\n",
      "Evaluating the following candidate program...\n",
      "\n",
      "Predictor 0\n",
      "i: Answer the following trivia question accurately and concisely.\n",
      "p: Answer:\n",
      "\n",
      "\n",
      "  0%|          | 0/40 [00:00<?, ?it/s]"
     ]
    },
    {
     "name": "stderr",
     "output_type": "stream",
     "text": [
      "OPIK: Started logging traces to the \"optimize-workshop-2025\" project at https://www.comet.com/opik/api/v1/session/redirect/projects/?trace_id=0197406f-c292-7dc6-8848-08a538493a6a&path=aHR0cHM6Ly93d3cuY29tZXQuY29tL29waWsvYXBpLw==.\n",
      "OPIK: Started logging traces to the \"Default Project\" project at https://www.comet.com/opik/api/v1/session/redirect/projects/?trace_id=0197406f-c966-749b-bbc5-8d5bd76f0c05&path=aHR0cHM6Ly93d3cuY29tZXQuY29tL29waWsvYXBpLw==.\n"
     ]
    },
    {
     "name": "stdout",
     "output_type": "stream",
     "text": [
      "Average Metric: 0.62 / 1 (62.5%):   2%|▎         | 1/40 [00:01<01:08,  1.75s/it]"
     ]
    },
    {
     "name": "stderr",
     "output_type": "stream",
     "text": [
      "OPIK: Started logging traces to the \"optimize-workshop-2025\" project at https://www.comet.com/opik/api/v1/session/redirect/projects/?trace_id=0197406f-c29a-7c16-a7b7-1a37aa6458f8&path=aHR0cHM6Ly93d3cuY29tZXQuY29tL29waWsvYXBpLw==.\n",
      "OPIK: Started logging traces to the \"Default Project\" project at https://www.comet.com/opik/api/v1/session/redirect/projects/?trace_id=0197406f-c972-76fa-ad35-71fffff1c089&path=aHR0cHM6Ly93d3cuY29tZXQuY29tL29waWsvYXBpLw==.\n"
     ]
    },
    {
     "name": "stdout",
     "output_type": "stream",
     "text": [
      "Average Metric: 0.85 / 2 (42.6%):   2%|▎         | 1/40 [00:01<01:08,  1.75s/it]"
     ]
    },
    {
     "name": "stderr",
     "output_type": "stream",
     "text": [
      "OPIK: Started logging traces to the \"optimize-workshop-2025\" project at https://www.comet.com/opik/api/v1/session/redirect/projects/?trace_id=0197406f-c296-7a43-b154-9b37a56a5ade&path=aHR0cHM6Ly93d3cuY29tZXQuY29tL29waWsvYXBpLw==.\n",
      "OPIK: Started logging traces to the \"Default Project\" project at https://www.comet.com/opik/api/v1/session/redirect/projects/?trace_id=0197406f-c994-73c7-b128-599a5bc3112e&path=aHR0cHM6Ly93d3cuY29tZXQuY29tL29waWsvYXBpLw==.\n"
     ]
    },
    {
     "name": "stdout",
     "output_type": "stream",
     "text": [
      "Average Metric: 1.09 / 3 (36.3%):   5%|▌         | 2/40 [00:01<01:06,  1.75s/it]"
     ]
    },
    {
     "name": "stderr",
     "output_type": "stream",
     "text": [
      "OPIK: Started logging traces to the \"optimize-workshop-2025\" project at https://www.comet.com/opik/api/v1/session/redirect/projects/?trace_id=0197406f-c28e-72b3-b7ed-91e9baa09ce1&path=aHR0cHM6Ly93d3cuY29tZXQuY29tL29waWsvYXBpLw==.\n",
      "OPIK: Started logging traces to the \"Default Project\" project at https://www.comet.com/opik/api/v1/session/redirect/projects/?trace_id=0197406f-ca3a-7cd9-adec-46c1bc38b124&path=aHR0cHM6Ly93d3cuY29tZXQuY29tL29waWsvYXBpLw==.\n"
     ]
    },
    {
     "name": "stdout",
     "output_type": "stream",
     "text": [
      "Average Metric: 1.26 / 4 (31.4%):  10%|█         | 4/40 [00:01<00:13,  2.58it/s]"
     ]
    },
    {
     "name": "stderr",
     "output_type": "stream",
     "text": [
      "OPIK: Started logging traces to the \"optimize-workshop-2025\" project at https://www.comet.com/opik/api/v1/session/redirect/projects/?trace_id=0197406f-c2a8-7907-8d06-254779515b77&path=aHR0cHM6Ly93d3cuY29tZXQuY29tL29waWsvYXBpLw==.\n",
      "OPIK: Started logging traces to the \"Default Project\" project at https://www.comet.com/opik/api/v1/session/redirect/projects/?trace_id=0197406f-ca5a-7838-b62a-34bf8b15b8a0&path=aHR0cHM6Ly93d3cuY29tZXQuY29tL29waWsvYXBpLw==.\n"
     ]
    },
    {
     "name": "stdout",
     "output_type": "stream",
     "text": [
      "Average Metric: 1.57 / 5 (31.4%):  10%|█         | 4/40 [00:01<00:13,  2.58it/s]"
     ]
    },
    {
     "name": "stderr",
     "output_type": "stream",
     "text": [
      "OPIK: Started logging traces to the \"optimize-workshop-2025\" project at https://www.comet.com/opik/api/v1/session/redirect/projects/?trace_id=0197406f-c2aa-7027-a8d3-7b0302c65deb&path=aHR0cHM6Ly93d3cuY29tZXQuY29tL29waWsvYXBpLw==.\n",
      "OPIK: Started logging traces to the \"Default Project\" project at https://www.comet.com/opik/api/v1/session/redirect/projects/?trace_id=0197406f-cac1-7fc1-9853-cd5b415e3318&path=aHR0cHM6Ly93d3cuY29tZXQuY29tL29waWsvYXBpLw==.\n"
     ]
    },
    {
     "name": "stdout",
     "output_type": "stream",
     "text": [
      "Average Metric: 1.83 / 6 (30.4%):  15%|█▌        | 6/40 [00:02<00:08,  4.03it/s]"
     ]
    },
    {
     "name": "stderr",
     "output_type": "stream",
     "text": [
      "OPIK: Started logging traces to the \"optimize-workshop-2025\" project at https://www.comet.com/opik/api/v1/session/redirect/projects/?trace_id=0197406f-c29e-7fd1-99de-9bf2ff1855bd&path=aHR0cHM6Ly93d3cuY29tZXQuY29tL29waWsvYXBpLw==.\n",
      "OPIK: Started logging traces to the \"Default Project\" project at https://www.comet.com/opik/api/v1/session/redirect/projects/?trace_id=0197406f-cb2c-7b78-9a81-7c1b3386864a&path=aHR0cHM6Ly93d3cuY29tZXQuY29tL29waWsvYXBpLw==.\n"
     ]
    },
    {
     "name": "stdout",
     "output_type": "stream",
     "text": [
      "Average Metric: 1.94 / 7 (27.7%):  15%|█▌        | 6/40 [00:02<00:08,  4.03it/s]"
     ]
    },
    {
     "name": "stderr",
     "output_type": "stream",
     "text": [
      "OPIK: Started logging traces to the \"optimize-workshop-2025\" project at https://www.comet.com/opik/api/v1/session/redirect/projects/?trace_id=0197406f-c294-720e-8b9e-7b39bf1469d0&path=aHR0cHM6Ly93d3cuY29tZXQuY29tL29waWsvYXBpLw==.\n",
      "OPIK: Started logging traces to the \"Default Project\" project at https://www.comet.com/opik/api/v1/session/redirect/projects/?trace_id=0197406f-cc2b-7d6e-9613-7fe4851e8ac5&path=aHR0cHM6Ly93d3cuY29tZXQuY29tL29waWsvYXBpLw==.\n"
     ]
    },
    {
     "name": "stdout",
     "output_type": "stream",
     "text": [
      "Average Metric: 2.01 / 8 (25.2%):  20%|██        | 8/40 [00:02<00:07,  4.48it/s]"
     ]
    },
    {
     "name": "stderr",
     "output_type": "stream",
     "text": [
      "OPIK: Started logging traces to the \"optimize-workshop-2025\" project at https://www.comet.com/opik/api/v1/session/redirect/projects/?trace_id=0197406f-ca5c-7f65-bf9b-ab9f58fdb052&path=aHR0cHM6Ly93d3cuY29tZXQuY29tL29waWsvYXBpLw==.\n",
      "OPIK: Started logging traces to the \"Default Project\" project at https://www.comet.com/opik/api/v1/session/redirect/projects/?trace_id=0197406f-cd08-77a1-b495-7e1e08d2ccfd&path=aHR0cHM6Ly93d3cuY29tZXQuY29tL29waWsvYXBpLw==.\n"
     ]
    },
    {
     "name": "stdout",
     "output_type": "stream",
     "text": [
      "Average Metric: 2.31 / 9 (25.7%):  22%|██▎       | 9/40 [00:02<00:06,  4.50it/s]"
     ]
    },
    {
     "name": "stderr",
     "output_type": "stream",
     "text": [
      "OPIK: Started logging traces to the \"optimize-workshop-2025\" project at https://www.comet.com/opik/api/v1/session/redirect/projects/?trace_id=0197406f-c29c-72d6-b036-3729a09a35f4&path=aHR0cHM6Ly93d3cuY29tZXQuY29tL29waWsvYXBpLw==.\n",
      "OPIK: Started logging traces to the \"Default Project\" project at https://www.comet.com/opik/api/v1/session/redirect/projects/?trace_id=0197406f-ce3b-7b3b-a6e3-e20a4542ec94&path=aHR0cHM6Ly93d3cuY29tZXQuY29tL29waWsvYXBpLw==.\n"
     ]
    },
    {
     "name": "stdout",
     "output_type": "stream",
     "text": [
      "Average Metric: 2.44 / 11 (22.2%):  25%|██▌       | 10/40 [00:02<00:07,  4.12it/s]"
     ]
    },
    {
     "name": "stderr",
     "output_type": "stream",
     "text": [
      "OPIK: Started logging traces to the \"optimize-workshop-2025\" project at https://www.comet.com/opik/api/v1/session/redirect/projects/?trace_id=0197406f-c996-7763-897e-c8e451c03f9d&path=aHR0cHM6Ly93d3cuY29tZXQuY29tL29waWsvYXBpLw==.\n",
      "OPIK: Started logging traces to the \"Default Project\" project at https://www.comet.com/opik/api/v1/session/redirect/projects/?trace_id=0197406f-ce4d-7134-bcdb-c391fa7dae68&path=aHR0cHM6Ly93d3cuY29tZXQuY29tL29waWsvYXBpLw==.\n"
     ]
    },
    {
     "name": "stdout",
     "output_type": "stream",
     "text": [
      "Average Metric: 2.56 / 12 (21.4%):  28%|██▊       | 11/40 [00:03<00:07,  4.12it/s]"
     ]
    },
    {
     "name": "stderr",
     "output_type": "stream",
     "text": [
      "OPIK: Started logging traces to the \"optimize-workshop-2025\" project at https://www.comet.com/opik/api/v1/session/redirect/projects/?trace_id=0197406f-c968-79cf-93fc-2746327170c1&path=aHR0cHM6Ly93d3cuY29tZXQuY29tL29waWsvYXBpLw==.\n",
      "OPIK: Started logging traces to the \"Default Project\" project at https://www.comet.com/opik/api/v1/session/redirect/projects/?trace_id=0197406f-ceb3-7e0b-8b90-f605139670b6&path=aHR0cHM6Ly93d3cuY29tZXQuY29tL29waWsvYXBpLw==.\n"
     ]
    },
    {
     "name": "stdout",
     "output_type": "stream",
     "text": [
      "Average Metric: 2.72 / 13 (20.9%):  32%|███▎      | 13/40 [00:03<00:03,  7.12it/s]"
     ]
    },
    {
     "name": "stderr",
     "output_type": "stream",
     "text": [
      "OPIK: Started logging traces to the \"optimize-workshop-2025\" project at https://www.comet.com/opik/api/v1/session/redirect/projects/?trace_id=0197406f-c2ac-78e5-87d9-1c1605ab9c44&path=aHR0cHM6Ly93d3cuY29tZXQuY29tL29waWsvYXBpLw==.\n",
      "OPIK: Started logging traces to the \"Default Project\" project at https://www.comet.com/opik/api/v1/session/redirect/projects/?trace_id=0197406f-cec5-72af-afbc-d22e11af42c2&path=aHR0cHM6Ly93d3cuY29tZXQuY29tL29waWsvYXBpLw==.\n"
     ]
    },
    {
     "name": "stdout",
     "output_type": "stream",
     "text": [
      "Average Metric: 2.83 / 14 (20.2%):  32%|███▎      | 13/40 [00:03<00:03,  7.12it/s]"
     ]
    },
    {
     "name": "stderr",
     "output_type": "stream",
     "text": [
      "OPIK: Started logging traces to the \"optimize-workshop-2025\" project at https://www.comet.com/opik/api/v1/session/redirect/projects/?trace_id=0197406f-ca3c-7f5a-a1fb-b2a27411b746&path=aHR0cHM6Ly93d3cuY29tZXQuY29tL29waWsvYXBpLw==.\n",
      "OPIK: Started logging traces to the \"Default Project\" project at https://www.comet.com/opik/api/v1/session/redirect/projects/?trace_id=0197406f-ceee-7520-9b18-1392853fbaa6&path=aHR0cHM6Ly93d3cuY29tZXQuY29tL29waWsvYXBpLw==.\n"
     ]
    },
    {
     "name": "stdout",
     "output_type": "stream",
     "text": [
      "Average Metric: 3.29 / 15 (21.9%):  35%|███▌      | 14/40 [00:03<00:03,  7.12it/s]"
     ]
    },
    {
     "name": "stderr",
     "output_type": "stream",
     "text": [
      "OPIK: Started logging traces to the \"optimize-workshop-2025\" project at https://www.comet.com/opik/api/v1/session/redirect/projects/?trace_id=0197406f-c298-7483-a403-50d34136fbfe&path=aHR0cHM6Ly93d3cuY29tZXQuY29tL29waWsvYXBpLw==.\n",
      "OPIK: Started logging traces to the \"Default Project\" project at https://www.comet.com/opik/api/v1/session/redirect/projects/?trace_id=0197406f-cf66-721d-a294-29752dcc6cd9&path=aHR0cHM6Ly93d3cuY29tZXQuY29tL29waWsvYXBpLw==.\n"
     ]
    },
    {
     "name": "stdout",
     "output_type": "stream",
     "text": [
      "Average Metric: 3.50 / 16 (21.9%):  40%|████      | 16/40 [00:03<00:02,  9.38it/s]"
     ]
    },
    {
     "name": "stderr",
     "output_type": "stream",
     "text": [
      "OPIK: Started logging traces to the \"optimize-workshop-2025\" project at https://www.comet.com/opik/api/v1/session/redirect/projects/?trace_id=0197406f-c974-7206-9b19-ecf60e0b2f22&path=aHR0cHM6Ly93d3cuY29tZXQuY29tL29waWsvYXBpLw==.\n",
      "OPIK: Started logging traces to the \"Default Project\" project at https://www.comet.com/opik/api/v1/session/redirect/projects/?trace_id=0197406f-d050-7d47-8c50-3450c40dba15&path=aHR0cHM6Ly93d3cuY29tZXQuY29tL29waWsvYXBpLw==.\n"
     ]
    },
    {
     "name": "stdout",
     "output_type": "stream",
     "text": [
      "Average Metric: 3.69 / 17 (21.7%):  40%|████      | 16/40 [00:03<00:02,  9.38it/s]"
     ]
    },
    {
     "name": "stderr",
     "output_type": "stream",
     "text": [
      "OPIK: Started logging traces to the \"optimize-workshop-2025\" project at https://www.comet.com/opik/api/v1/session/redirect/projects/?trace_id=0197406f-c2a0-71b7-80c5-34dfcd24f05f&path=aHR0cHM6Ly93d3cuY29tZXQuY29tL29waWsvYXBpLw==.\n",
      "OPIK: Started logging traces to the \"Default Project\" project at https://www.comet.com/opik/api/v1/session/redirect/projects/?trace_id=0197406f-d0af-7fb9-b818-c9411da8067e&path=aHR0cHM6Ly93d3cuY29tZXQuY29tL29waWsvYXBpLw==.\n"
     ]
    },
    {
     "name": "stdout",
     "output_type": "stream",
     "text": [
      "Average Metric: 3.84 / 18 (21.4%):  45%|████▌     | 18/40 [00:03<00:02,  7.88it/s]"
     ]
    },
    {
     "name": "stderr",
     "output_type": "stream",
     "text": [
      "OPIK: Started logging traces to the \"optimize-workshop-2025\" project at https://www.comet.com/opik/api/v1/session/redirect/projects/?trace_id=0197406f-cac3-7b97-b5e4-62e451b5b571&path=aHR0cHM6Ly93d3cuY29tZXQuY29tL29waWsvYXBpLw==.\n",
      "OPIK: Started logging traces to the \"Default Project\" project at https://www.comet.com/opik/api/v1/session/redirect/projects/?trace_id=0197406f-d0fa-788e-87ba-fd844d1af494&path=aHR0cHM6Ly93d3cuY29tZXQuY29tL29waWsvYXBpLw==.\n"
     ]
    },
    {
     "name": "stdout",
     "output_type": "stream",
     "text": [
      "Average Metric: 4.09 / 19 (21.5%):  45%|████▌     | 18/40 [00:03<00:02,  7.88it/s]"
     ]
    },
    {
     "name": "stderr",
     "output_type": "stream",
     "text": [
      "OPIK: Started logging traces to the \"optimize-workshop-2025\" project at https://www.comet.com/opik/api/v1/session/redirect/projects/?trace_id=0197406f-cd0a-73c1-9bbf-488e2955274a&path=aHR0cHM6Ly93d3cuY29tZXQuY29tL29waWsvYXBpLw==.\n",
      "OPIK: Started logging traces to the \"Default Project\" project at https://www.comet.com/opik/api/v1/session/redirect/projects/?trace_id=0197406f-d1c9-79f6-9154-0420b5c05393&path=aHR0cHM6Ly93d3cuY29tZXQuY29tL29waWsvYXBpLw==.\n"
     ]
    },
    {
     "name": "stdout",
     "output_type": "stream",
     "text": [
      "Average Metric: 4.22 / 20 (21.1%):  50%|█████     | 20/40 [00:03<00:02,  7.86it/s]"
     ]
    },
    {
     "name": "stderr",
     "output_type": "stream",
     "text": [
      "OPIK: Started logging traces to the \"optimize-workshop-2025\" project at https://www.comet.com/opik/api/v1/session/redirect/projects/?trace_id=0197406f-ce4f-7fee-9141-fbea5f0020f4&path=aHR0cHM6Ly93d3cuY29tZXQuY29tL29waWsvYXBpLw==.\n",
      "OPIK: Started logging traces to the \"Default Project\" project at https://www.comet.com/opik/api/v1/session/redirect/projects/?trace_id=0197406f-d250-7d0e-8d8e-3dd1986597c3&path=aHR0cHM6Ly93d3cuY29tZXQuY29tL29waWsvYXBpLw==.\n"
     ]
    },
    {
     "name": "stdout",
     "output_type": "stream",
     "text": [
      "Average Metric: 4.33 / 21 (20.6%):  50%|█████     | 20/40 [00:04<00:02,  7.86it/s]"
     ]
    },
    {
     "name": "stderr",
     "output_type": "stream",
     "text": [
      "OPIK: Started logging traces to the \"optimize-workshop-2025\" project at https://www.comet.com/opik/api/v1/session/redirect/projects/?trace_id=0197406f-c2a2-7253-9864-b2f466908d60&path=aHR0cHM6Ly93d3cuY29tZXQuY29tL29waWsvYXBpLw==.\n",
      "OPIK: Started logging traces to the \"Default Project\" project at https://www.comet.com/opik/api/v1/session/redirect/projects/?trace_id=0197406f-d29c-7631-8327-27bdf5f67dbd&path=aHR0cHM6Ly93d3cuY29tZXQuY29tL29waWsvYXBpLw==.\n"
     ]
    },
    {
     "name": "stdout",
     "output_type": "stream",
     "text": [
      "Average Metric: 4.48 / 22 (20.4%):  55%|█████▌    | 22/40 [00:04<00:02,  8.28it/s]"
     ]
    },
    {
     "name": "stderr",
     "output_type": "stream",
     "text": [
      "OPIK: Started logging traces to the \"optimize-workshop-2025\" project at https://www.comet.com/opik/api/v1/session/redirect/projects/?trace_id=0197406f-ce44-75fb-8f16-b6cbe7fca4e5&path=aHR0cHM6Ly93d3cuY29tZXQuY29tL29waWsvYXBpLw==.\n",
      "OPIK: Started logging traces to the \"Default Project\" project at https://www.comet.com/opik/api/v1/session/redirect/projects/?trace_id=0197406f-d2a1-7c26-a209-8c5a7395b2f9&path=aHR0cHM6Ly93d3cuY29tZXQuY29tL29waWsvYXBpLw==.\n"
     ]
    },
    {
     "name": "stdout",
     "output_type": "stream",
     "text": [
      "Average Metric: 5.48 / 23 (23.8%):  55%|█████▌    | 22/40 [00:04<00:02,  8.28it/s]"
     ]
    },
    {
     "name": "stderr",
     "output_type": "stream",
     "text": [
      "OPIK: Started logging traces to the \"optimize-workshop-2025\" project at https://www.comet.com/opik/api/v1/session/redirect/projects/?trace_id=0197406f-cb2e-761f-8dbf-28c852b4fc57&path=aHR0cHM6Ly93d3cuY29tZXQuY29tL29waWsvYXBpLw==.\n",
      "OPIK: Started logging traces to the \"Default Project\" project at https://www.comet.com/opik/api/v1/session/redirect/projects/?trace_id=0197406f-d2a6-7b42-b252-c44bee4ada8d&path=aHR0cHM6Ly93d3cuY29tZXQuY29tL29waWsvYXBpLw==.\n"
     ]
    },
    {
     "name": "stdout",
     "output_type": "stream",
     "text": [
      "Average Metric: 5.64 / 24 (23.5%):  57%|█████▊    | 23/40 [00:04<00:02,  8.28it/s]"
     ]
    },
    {
     "name": "stderr",
     "output_type": "stream",
     "text": [
      "OPIK: Started logging traces to the \"optimize-workshop-2025\" project at https://www.comet.com/opik/api/v1/session/redirect/projects/?trace_id=0197406f-ceb5-70ab-90d3-b0963a182e54&path=aHR0cHM6Ly93d3cuY29tZXQuY29tL29waWsvYXBpLw==.\n",
      "OPIK: Started logging traces to the \"Default Project\" project at https://www.comet.com/opik/api/v1/session/redirect/projects/?trace_id=0197406f-d309-73fa-b3be-6adc509b0fb2&path=aHR0cHM6Ly93d3cuY29tZXQuY29tL29waWsvYXBpLw==.\n"
     ]
    },
    {
     "name": "stdout",
     "output_type": "stream",
     "text": [
      "Average Metric: 5.80 / 25 (23.2%):  62%|██████▎   | 25/40 [00:04<00:01, 11.33it/s]"
     ]
    },
    {
     "name": "stderr",
     "output_type": "stream",
     "text": [
      "OPIK: Started logging traces to the \"optimize-workshop-2025\" project at https://www.comet.com/opik/api/v1/session/redirect/projects/?trace_id=0197406f-cc2d-71d3-80b7-8b61f4842498&path=aHR0cHM6Ly93d3cuY29tZXQuY29tL29waWsvYXBpLw==.\n",
      "OPIK: Started logging traces to the \"Default Project\" project at https://www.comet.com/opik/api/v1/session/redirect/projects/?trace_id=0197406f-d32d-72ed-9624-4801ed4c753e&path=aHR0cHM6Ly93d3cuY29tZXQuY29tL29waWsvYXBpLw==.\n"
     ]
    },
    {
     "name": "stdout",
     "output_type": "stream",
     "text": [
      "Average Metric: 5.95 / 26 (22.9%):  62%|██████▎   | 25/40 [00:04<00:01, 11.33it/s]"
     ]
    },
    {
     "name": "stderr",
     "output_type": "stream",
     "text": [
      "OPIK: Started logging traces to the \"optimize-workshop-2025\" project at https://www.comet.com/opik/api/v1/session/redirect/projects/?trace_id=0197406f-d1cb-79df-bcc3-ee9cb8756686&path=aHR0cHM6Ly93d3cuY29tZXQuY29tL29waWsvYXBpLw==.\n",
      "OPIK: Started logging traces to the \"Default Project\" project at https://www.comet.com/opik/api/v1/session/redirect/projects/?trace_id=0197406f-d4d4-7ce8-b414-9b5e965092e4&path=aHR0cHM6Ly93d3cuY29tZXQuY29tL29waWsvYXBpLw==.\n"
     ]
    },
    {
     "name": "stdout",
     "output_type": "stream",
     "text": [
      "Average Metric: 6.36 / 27 (23.6%):  68%|██████▊   | 27/40 [00:04<00:01,  7.91it/s]"
     ]
    },
    {
     "name": "stderr",
     "output_type": "stream",
     "text": [
      "OPIK: Started logging traces to the \"optimize-workshop-2025\" project at https://www.comet.com/opik/api/v1/session/redirect/projects/?trace_id=0197406f-d052-73bc-84eb-2d712edc77a2&path=aHR0cHM6Ly93d3cuY29tZXQuY29tL29waWsvYXBpLw==.\n",
      "OPIK: Started logging traces to the \"Default Project\" project at https://www.comet.com/opik/api/v1/session/redirect/projects/?trace_id=0197406f-d4e6-77e1-997d-b006924de1b7&path=aHR0cHM6Ly93d3cuY29tZXQuY29tL29waWsvYXBpLw==.\n"
     ]
    },
    {
     "name": "stdout",
     "output_type": "stream",
     "text": [
      "Average Metric: 6.78 / 28 (24.2%):  68%|██████▊   | 27/40 [00:04<00:01,  7.91it/s]"
     ]
    },
    {
     "name": "stderr",
     "output_type": "stream",
     "text": [
      "OPIK: Started logging traces to the \"optimize-workshop-2025\" project at https://www.comet.com/opik/api/v1/session/redirect/projects/?trace_id=0197406f-d0fc-761a-a2af-265f37f5e347&path=aHR0cHM6Ly93d3cuY29tZXQuY29tL29waWsvYXBpLw==.\n",
      "OPIK: Started logging traces to the \"Default Project\" project at https://www.comet.com/opik/api/v1/session/redirect/projects/?trace_id=0197406f-d512-75b1-8853-0c5cbd03ba87&path=aHR0cHM6Ly93d3cuY29tZXQuY29tL29waWsvYXBpLw==.\n"
     ]
    },
    {
     "name": "stdout",
     "output_type": "stream",
     "text": [
      "Average Metric: 6.87 / 29 (23.7%):  70%|███████   | 28/40 [00:04<00:01,  7.91it/s]"
     ]
    },
    {
     "name": "stderr",
     "output_type": "stream",
     "text": [
      "2025/06/05 15:12:40 WARNING dspy.adapters.json_adapter: Failed to use structured output format. Falling back to JSON mode. Error: 'type' object is not iterable\n",
      "OPIK: Started logging traces to the \"optimize-workshop-2025\" project at https://www.comet.com/opik/api/v1/session/redirect/projects/?trace_id=0197406f-cef6-7b7c-85f4-8bf9344f4d99&path=aHR0cHM6Ly93d3cuY29tZXQuY29tL29waWsvYXBpLw==.\n",
      "OPIK: Started logging traces to the \"Default Project\" project at https://www.comet.com/opik/api/v1/session/redirect/projects/?trace_id=0197406f-d533-702d-946f-313ccbce761b&path=aHR0cHM6Ly93d3cuY29tZXQuY29tL29waWsvYXBpLw==.\n"
     ]
    },
    {
     "name": "stdout",
     "output_type": "stream",
     "text": [
      "Average Metric: 7.11 / 30 (23.7%):  72%|███████▎  | 29/40 [00:04<00:01,  7.91it/s]"
     ]
    },
    {
     "name": "stderr",
     "output_type": "stream",
     "text": [
      "OPIK: Started logging traces to the \"optimize-workshop-2025\" project at https://www.comet.com/opik/api/v1/session/redirect/projects/?trace_id=0197406f-d252-7fb6-95f4-485096fa9530&path=aHR0cHM6Ly93d3cuY29tZXQuY29tL29waWsvYXBpLw==.\n",
      "OPIK: Started logging traces to the \"Default Project\" project at https://www.comet.com/opik/api/v1/session/redirect/projects/?trace_id=0197406f-d540-7cce-b181-14f7f955c7ae&path=aHR0cHM6Ly93d3cuY29tZXQuY29tL29waWsvYXBpLw==.\n"
     ]
    },
    {
     "name": "stdout",
     "output_type": "stream",
     "text": [
      "Average Metric: 7.37 / 31 (23.8%):  78%|███████▊  | 31/40 [00:04<00:00, 12.03it/s]"
     ]
    },
    {
     "name": "stderr",
     "output_type": "stream",
     "text": [
      "OPIK: Started logging traces to the \"optimize-workshop-2025\" project at https://www.comet.com/opik/api/v1/session/redirect/projects/?trace_id=0197406f-d0b3-709e-bba8-02ed6302d3c6&path=aHR0cHM6Ly93d3cuY29tZXQuY29tL29waWsvYXBpLw==.\n",
      "OPIK: Started logging traces to the \"Default Project\" project at https://www.comet.com/opik/api/v1/session/redirect/projects/?trace_id=0197406f-d589-7a0e-aa01-2b21c32e2ae0&path=aHR0cHM6Ly93d3cuY29tZXQuY29tL29waWsvYXBpLw==.\n"
     ]
    },
    {
     "name": "stdout",
     "output_type": "stream",
     "text": [
      "Average Metric: 7.53 / 32 (23.5%):  78%|███████▊  | 31/40 [00:04<00:00, 12.03it/s]"
     ]
    },
    {
     "name": "stderr",
     "output_type": "stream",
     "text": [
      "OPIK: Started logging traces to the \"optimize-workshop-2025\" project at https://www.comet.com/opik/api/v1/session/redirect/projects/?trace_id=0197406f-cec7-7cbd-b837-356afe8a7f2a&path=aHR0cHM6Ly93d3cuY29tZXQuY29tL29waWsvYXBpLw==.\n",
      "OPIK: Started logging traces to the \"Default Project\" project at https://www.comet.com/opik/api/v1/session/redirect/projects/?trace_id=0197406f-d638-7fc0-a855-97a199762e7a&path=aHR0cHM6Ly93d3cuY29tZXQuY29tL29waWsvYXBpLw==.\n"
     ]
    },
    {
     "name": "stdout",
     "output_type": "stream",
     "text": [
      "Average Metric: 8.00 / 33 (24.2%):  82%|████████▎ | 33/40 [00:05<00:00, 10.77it/s]"
     ]
    },
    {
     "name": "stderr",
     "output_type": "stream",
     "text": [
      "OPIK: Started logging traces to the \"optimize-workshop-2025\" project at https://www.comet.com/opik/api/v1/session/redirect/projects/?trace_id=0197406f-d2a8-75d3-877a-126bf46782e8&path=aHR0cHM6Ly93d3cuY29tZXQuY29tL29waWsvYXBpLw==.\n",
      "OPIK: Started logging traces to the \"Default Project\" project at https://www.comet.com/opik/api/v1/session/redirect/projects/?trace_id=0197406f-d65f-711a-a057-251befc1ae19&path=aHR0cHM6Ly93d3cuY29tZXQuY29tL29waWsvYXBpLw==.\n"
     ]
    },
    {
     "name": "stdout",
     "output_type": "stream",
     "text": [
      "Average Metric: 8.11 / 34 (23.8%):  82%|████████▎ | 33/40 [00:05<00:00, 10.77it/s]"
     ]
    },
    {
     "name": "stderr",
     "output_type": "stream",
     "text": [
      "OPIK: Started logging traces to the \"optimize-workshop-2025\" project at https://www.comet.com/opik/api/v1/session/redirect/projects/?trace_id=0197406f-cf68-7350-8d72-8a1d929d29db&path=aHR0cHM6Ly93d3cuY29tZXQuY29tL29waWsvYXBpLw==.\n",
      "OPIK: Started logging traces to the \"Default Project\" project at https://www.comet.com/opik/api/v1/session/redirect/projects/?trace_id=0197406f-d6ab-72cd-b14e-e58b065d0d5f&path=aHR0cHM6Ly93d3cuY29tZXQuY29tL29waWsvYXBpLw==.\n"
     ]
    },
    {
     "name": "stdout",
     "output_type": "stream",
     "text": [
      "Average Metric: 8.43 / 35 (24.1%):  88%|████████▊ | 35/40 [00:05<00:00, 11.89it/s]"
     ]
    },
    {
     "name": "stderr",
     "output_type": "stream",
     "text": [
      "OPIK: Started logging traces to the \"optimize-workshop-2025\" project at https://www.comet.com/opik/api/v1/session/redirect/projects/?trace_id=0197406f-ce3d-7f7c-b850-c0a55cdcc02f&path=aHR0cHM6Ly93d3cuY29tZXQuY29tL29waWsvYXBpLw==.\n",
      "OPIK: Started logging traces to the \"Default Project\" project at https://www.comet.com/opik/api/v1/session/redirect/projects/?trace_id=0197406f-d6bc-7a62-bfc2-f1014fbe62d2&path=aHR0cHM6Ly93d3cuY29tZXQuY29tL29waWsvYXBpLw==.\n"
     ]
    },
    {
     "name": "stdout",
     "output_type": "stream",
     "text": [
      "Average Metric: 8.45 / 36 (23.5%):  88%|████████▊ | 35/40 [00:05<00:00, 11.89it/s]"
     ]
    },
    {
     "name": "stderr",
     "output_type": "stream",
     "text": [
      "OPIK: Started logging traces to the \"optimize-workshop-2025\" project at https://www.comet.com/opik/api/v1/session/redirect/projects/?trace_id=0197406f-d29e-78bc-89cd-7c6a1c2b9f7d&path=aHR0cHM6Ly93d3cuY29tZXQuY29tL29waWsvYXBpLw==.\n",
      "OPIK: Started logging traces to the \"Default Project\" project at https://www.comet.com/opik/api/v1/session/redirect/projects/?trace_id=0197406f-d708-7afc-8d42-35628f43afd5&path=aHR0cHM6Ly93d3cuY29tZXQuY29tL29waWsvYXBpLw==.\n"
     ]
    },
    {
     "name": "stdout",
     "output_type": "stream",
     "text": [
      "Average Metric: 8.67 / 37 (23.4%):  90%|█████████ | 36/40 [00:05<00:00, 11.89it/s]"
     ]
    },
    {
     "name": "stderr",
     "output_type": "stream",
     "text": [
      "OPIK: Started logging traces to the \"optimize-workshop-2025\" project at https://www.comet.com/opik/api/v1/session/redirect/projects/?trace_id=0197406f-d2a3-71af-b8d5-bdbebb1b15d3&path=aHR0cHM6Ly93d3cuY29tZXQuY29tL29waWsvYXBpLw==.\n",
      "OPIK: Started logging traces to the \"Default Project\" project at https://www.comet.com/opik/api/v1/session/redirect/projects/?trace_id=0197406f-d937-7ad1-b8a9-e53322a2bcc0&path=aHR0cHM6Ly93d3cuY29tZXQuY29tL29waWsvYXBpLw==.\n"
     ]
    },
    {
     "name": "stdout",
     "output_type": "stream",
     "text": [
      "Average Metric: 8.80 / 38 (23.2%):  95%|█████████▌| 38/40 [00:05<00:00,  7.65it/s]"
     ]
    },
    {
     "name": "stderr",
     "output_type": "stream",
     "text": [
      "OPIK: Started logging traces to the \"optimize-workshop-2025\" project at https://www.comet.com/opik/api/v1/session/redirect/projects/?trace_id=0197406f-c2a5-735e-a88d-7f97992c8313&path=aHR0cHM6Ly93d3cuY29tZXQuY29tL29waWsvYXBpLw==.\n",
      "OPIK: Started logging traces to the \"Default Project\" project at https://www.comet.com/opik/api/v1/session/redirect/projects/?trace_id=0197406f-d9f8-7365-8ce4-ea3a5515c662&path=aHR0cHM6Ly93d3cuY29tZXQuY29tL29waWsvYXBpLw==.\n"
     ]
    },
    {
     "name": "stdout",
     "output_type": "stream",
     "text": [
      "Average Metric: 9.06 / 39 (23.2%):  95%|█████████▌| 38/40 [00:05<00:00,  7.65it/s]"
     ]
    },
    {
     "name": "stderr",
     "output_type": "stream",
     "text": [
      "OPIK: Started logging traces to the \"optimize-workshop-2025\" project at https://www.comet.com/opik/api/v1/session/redirect/projects/?trace_id=0197406f-c290-7aee-81e9-f624bebfa7b0&path=aHR0cHM6Ly93d3cuY29tZXQuY29tL29waWsvYXBpLw==.\n",
      "OPIK: Started logging traces to the \"Default Project\" project at https://www.comet.com/opik/api/v1/session/redirect/projects/?trace_id=0197406f-da87-75e1-9797-57651819e6d0&path=aHR0cHM6Ly93d3cuY29tZXQuY29tL29waWsvYXBpLw==.\n"
     ]
    },
    {
     "name": "stdout",
     "output_type": "stream",
     "text": [
      "Average Metric: 9.24 / 40 (23.1%): 100%|██████████| 40/40 [00:06<00:00,  6.52it/s]\n",
      "\u001b[92mBest full score so far!\u001b[0m Score: 23.09\n",
      "Score: 23.09 with parameters ['Predictor 0: Instruction 4', 'Predictor 0: Few-Shot Set 0'].\n",
      "Scores so far: [0.20173393120947108, 20.21, 20.21, 20.17, 23.09]\n",
      "Best score so far: 23.09\n",
      "=======================\n",
      "\n",
      "\n",
      "===== Trial 6 / 7 =====\n",
      "Evaluating the following candidate program...\n",
      "\n",
      "Predictor 0\n",
      "i: Answer the following music-related question based on your knowledge of artists, bands, and their affiliations.\n",
      "p: Answer:\n",
      "\n",
      "\n",
      "  0%|          | 0/40 [00:00<?, ?it/s]"
     ]
    },
    {
     "name": "stderr",
     "output_type": "stream",
     "text": [
      "OPIK: Started logging traces to the \"optimize-workshop-2025\" project at https://www.comet.com/opik/api/v1/session/redirect/projects/?trace_id=0197406f-da90-7fc1-b71a-f659a47291dd&path=aHR0cHM6Ly93d3cuY29tZXQuY29tL29waWsvYXBpLw==.\n",
      "OPIK: Started logging traces to the \"Default Project\" project at https://www.comet.com/opik/api/v1/session/redirect/projects/?trace_id=0197406f-dde9-708b-a693-fb068185b23c&path=aHR0cHM6Ly93d3cuY29tZXQuY29tL29waWsvYXBpLw==.\n"
     ]
    },
    {
     "name": "stdout",
     "output_type": "stream",
     "text": [
      "Average Metric: 0.15 / 1 (14.8%):   2%|▎         | 1/40 [00:00<00:32,  1.18it/s]"
     ]
    },
    {
     "name": "stderr",
     "output_type": "stream",
     "text": [
      "OPIK: Started logging traces to the \"optimize-workshop-2025\" project at https://www.comet.com/opik/api/v1/session/redirect/projects/?trace_id=0197406f-daab-7538-9ac3-7023ea73b758&path=aHR0cHM6Ly93d3cuY29tZXQuY29tL29waWsvYXBpLw==.\n",
      "OPIK: Started logging traces to the \"Default Project\" project at https://www.comet.com/opik/api/v1/session/redirect/projects/?trace_id=0197406f-ded9-7b8b-a403-22a4acc24d15&path=aHR0cHM6Ly93d3cuY29tZXQuY29tL29waWsvYXBpLw==.\n"
     ]
    },
    {
     "name": "stdout",
     "output_type": "stream",
     "text": [
      "Average Metric: 0.18 / 2 (8.9%):   5%|▌         | 2/40 [00:01<00:18,  2.05it/s] "
     ]
    },
    {
     "name": "stderr",
     "output_type": "stream",
     "text": [
      "OPIK: Started logging traces to the \"optimize-workshop-2025\" project at https://www.comet.com/opik/api/v1/session/redirect/projects/?trace_id=0197406f-da9a-743b-a878-c3a5a2ba256d&path=aHR0cHM6Ly93d3cuY29tZXQuY29tL29waWsvYXBpLw==.\n",
      "OPIK: Started logging traces to the \"Default Project\" project at https://www.comet.com/opik/api/v1/session/redirect/projects/?trace_id=0197406f-defd-7f89-b7ba-40278024fc02&path=aHR0cHM6Ly93d3cuY29tZXQuY29tL29waWsvYXBpLw==.\n"
     ]
    },
    {
     "name": "stdout",
     "output_type": "stream",
     "text": [
      "Average Metric: 0.39 / 3 (12.9%):   5%|▌         | 2/40 [00:01<00:18,  2.05it/s]"
     ]
    },
    {
     "name": "stderr",
     "output_type": "stream",
     "text": [
      "OPIK: Started logging traces to the \"optimize-workshop-2025\" project at https://www.comet.com/opik/api/v1/session/redirect/projects/?trace_id=0197406f-daa8-74bc-9a54-1f681e7895db&path=aHR0cHM6Ly93d3cuY29tZXQuY29tL29waWsvYXBpLw==.\n",
      "OPIK: Started logging traces to the \"Default Project\" project at https://www.comet.com/opik/api/v1/session/redirect/projects/?trace_id=0197406f-dfd6-70d7-8b4e-b0fb19d98b1e&path=aHR0cHM6Ly93d3cuY29tZXQuY29tL29waWsvYXBpLw==.\n"
     ]
    },
    {
     "name": "stdout",
     "output_type": "stream",
     "text": [
      "Average Metric: 0.48 / 4 (11.9%):  10%|█         | 4/40 [00:01<00:09,  3.81it/s]"
     ]
    },
    {
     "name": "stderr",
     "output_type": "stream",
     "text": [
      "OPIK: Started logging traces to the \"optimize-workshop-2025\" project at https://www.comet.com/opik/api/v1/session/redirect/projects/?trace_id=0197406f-da91-72a4-9896-49c1f4abd254&path=aHR0cHM6Ly93d3cuY29tZXQuY29tL29waWsvYXBpLw==.\n",
      "OPIK: Started logging traces to the \"Default Project\" project at https://www.comet.com/opik/api/v1/session/redirect/projects/?trace_id=0197406f-dfe0-706d-9208-8d6d3dcc60b5&path=aHR0cHM6Ly93d3cuY29tZXQuY29tL29waWsvYXBpLw==.\n"
     ]
    },
    {
     "name": "stdout",
     "output_type": "stream",
     "text": [
      "Average Metric: 0.63 / 5 (12.7%):  10%|█         | 4/40 [00:01<00:09,  3.81it/s]"
     ]
    },
    {
     "name": "stderr",
     "output_type": "stream",
     "text": [
      "OPIK: Started logging traces to the \"optimize-workshop-2025\" project at https://www.comet.com/opik/api/v1/session/redirect/projects/?trace_id=0197406f-da97-7d38-b182-d567c46fe819&path=aHR0cHM6Ly93d3cuY29tZXQuY29tL29waWsvYXBpLw==.\n",
      "OPIK: Started logging traces to the \"Default Project\" project at https://www.comet.com/opik/api/v1/session/redirect/projects/?trace_id=0197406f-e075-7088-8c76-c154d8a35299&path=aHR0cHM6Ly93d3cuY29tZXQuY29tL29waWsvYXBpLw==.\n"
     ]
    },
    {
     "name": "stdout",
     "output_type": "stream",
     "text": [
      "Average Metric: 0.69 / 6 (11.5%):  15%|█▌        | 6/40 [00:01<00:05,  5.71it/s]"
     ]
    },
    {
     "name": "stderr",
     "output_type": "stream",
     "text": [
      "OPIK: Started logging traces to the \"optimize-workshop-2025\" project at https://www.comet.com/opik/api/v1/session/redirect/projects/?trace_id=0197406f-da94-72bb-9310-88d64aadd251&path=aHR0cHM6Ly93d3cuY29tZXQuY29tL29waWsvYXBpLw==.\n",
      "OPIK: Started logging traces to the \"Default Project\" project at https://www.comet.com/opik/api/v1/session/redirect/projects/?trace_id=0197406f-e081-7602-bfcb-c405ab13b1f9&path=aHR0cHM6Ly93d3cuY29tZXQuY29tL29waWsvYXBpLw==.\n"
     ]
    },
    {
     "name": "stdout",
     "output_type": "stream",
     "text": [
      "Average Metric: 0.85 / 7 (12.2%):  15%|█▌        | 6/40 [00:01<00:05,  5.71it/s]"
     ]
    },
    {
     "name": "stderr",
     "output_type": "stream",
     "text": [
      "OPIK: Started logging traces to the \"optimize-workshop-2025\" project at https://www.comet.com/opik/api/v1/session/redirect/projects/?trace_id=0197406f-daa5-724b-a680-aeca308016d1&path=aHR0cHM6Ly93d3cuY29tZXQuY29tL29waWsvYXBpLw==.\n",
      "OPIK: Started logging traces to the \"Default Project\" project at https://www.comet.com/opik/api/v1/session/redirect/projects/?trace_id=0197406f-e086-76ae-ba45-ec6ab6b2397e&path=aHR0cHM6Ly93d3cuY29tZXQuY29tL29waWsvYXBpLw==.\n"
     ]
    },
    {
     "name": "stdout",
     "output_type": "stream",
     "text": [
      "Average Metric: 0.96 / 8 (12.1%):  18%|█▊        | 7/40 [00:01<00:05,  5.71it/s]"
     ]
    },
    {
     "name": "stderr",
     "output_type": "stream",
     "text": [
      "OPIK: Started logging traces to the \"optimize-workshop-2025\" project at https://www.comet.com/opik/api/v1/session/redirect/projects/?trace_id=0197406f-ddeb-7bb2-b878-d76ca24f9cff&path=aHR0cHM6Ly93d3cuY29tZXQuY29tL29waWsvYXBpLw==.\n",
      "OPIK: Started logging traces to the \"Default Project\" project at https://www.comet.com/opik/api/v1/session/redirect/projects/?trace_id=0197406f-e1bd-77a3-933c-03dd4085c655&path=aHR0cHM6Ly93d3cuY29tZXQuY29tL29waWsvYXBpLw==.\n"
     ]
    },
    {
     "name": "stdout",
     "output_type": "stream",
     "text": [
      "Average Metric: 1.09 / 9 (12.1%):  22%|██▎       | 9/40 [00:01<00:04,  7.03it/s]"
     ]
    },
    {
     "name": "stderr",
     "output_type": "stream",
     "text": [
      "OPIK: Started logging traces to the \"optimize-workshop-2025\" project at https://www.comet.com/opik/api/v1/session/redirect/projects/?trace_id=0197406f-da9d-7b8d-b6b3-34f84408a104&path=aHR0cHM6Ly93d3cuY29tZXQuY29tL29waWsvYXBpLw==.\n",
      "OPIK: Started logging traces to the \"Default Project\" project at https://www.comet.com/opik/api/v1/session/redirect/projects/?trace_id=0197406f-e1ca-7b0c-9ffd-c741944e6274&path=aHR0cHM6Ly93d3cuY29tZXQuY29tL29waWsvYXBpLw==.\n"
     ]
    },
    {
     "name": "stdout",
     "output_type": "stream",
     "text": [
      "Average Metric: 1.21 / 10 (12.1%):  22%|██▎       | 9/40 [00:01<00:04,  7.03it/s]"
     ]
    },
    {
     "name": "stderr",
     "output_type": "stream",
     "text": [
      "OPIK: Started logging traces to the \"optimize-workshop-2025\" project at https://www.comet.com/opik/api/v1/session/redirect/projects/?trace_id=0197406f-dab4-716d-bf32-69d3c775ce18&path=aHR0cHM6Ly93d3cuY29tZXQuY29tL29waWsvYXBpLw==.\n",
      "OPIK: Started logging traces to the \"Default Project\" project at https://www.comet.com/opik/api/v1/session/redirect/projects/?trace_id=0197406f-e1f3-71ab-a4a7-8faa7ce30f26&path=aHR0cHM6Ly93d3cuY29tZXQuY29tL29waWsvYXBpLw==.\n"
     ]
    },
    {
     "name": "stdout",
     "output_type": "stream",
     "text": [
      "Average Metric: 1.52 / 11 (13.8%):  25%|██▌       | 10/40 [00:01<00:04,  7.03it/s]"
     ]
    },
    {
     "name": "stderr",
     "output_type": "stream",
     "text": [
      "OPIK: Started logging traces to the \"optimize-workshop-2025\" project at https://www.comet.com/opik/api/v1/session/redirect/projects/?trace_id=0197406f-dab0-7ac2-9f68-c7e4b81ce7de&path=aHR0cHM6Ly93d3cuY29tZXQuY29tL29waWsvYXBpLw==.\n",
      "OPIK: Started logging traces to the \"Default Project\" project at https://www.comet.com/opik/api/v1/session/redirect/projects/?trace_id=0197406f-e1fd-78cf-96d3-a5e2a455a330&path=aHR0cHM6Ly93d3cuY29tZXQuY29tL29waWsvYXBpLw==.\n"
     ]
    },
    {
     "name": "stdout",
     "output_type": "stream",
     "text": [
      "Average Metric: 1.67 / 12 (13.9%):  28%|██▊       | 11/40 [00:01<00:04,  7.03it/s]"
     ]
    },
    {
     "name": "stderr",
     "output_type": "stream",
     "text": [
      "OPIK: Started logging traces to the \"optimize-workshop-2025\" project at https://www.comet.com/opik/api/v1/session/redirect/projects/?trace_id=0197406f-dab6-7049-ac20-48b21b53ce96&path=aHR0cHM6Ly93d3cuY29tZXQuY29tL29waWsvYXBpLw==.\n",
      "OPIK: Started logging traces to the \"Default Project\" project at https://www.comet.com/opik/api/v1/session/redirect/projects/?trace_id=0197406f-e283-7888-88f0-fcc17f29f5a6&path=aHR0cHM6Ly93d3cuY29tZXQuY29tL29waWsvYXBpLw==.\n"
     ]
    },
    {
     "name": "stdout",
     "output_type": "stream",
     "text": [
      "Average Metric: 1.87 / 13 (14.4%):  32%|███▎      | 13/40 [00:02<00:02, 10.36it/s]"
     ]
    },
    {
     "name": "stderr",
     "output_type": "stream",
     "text": [
      "OPIK: Started logging traces to the \"optimize-workshop-2025\" project at https://www.comet.com/opik/api/v1/session/redirect/projects/?trace_id=0197406f-deff-764d-b7d2-665c01f58d0c&path=aHR0cHM6Ly93d3cuY29tZXQuY29tL29waWsvYXBpLw==.\n",
      "OPIK: Started logging traces to the \"Default Project\" project at https://www.comet.com/opik/api/v1/session/redirect/projects/?trace_id=0197406f-e344-7e91-9a86-59073a0a41ce&path=aHR0cHM6Ly93d3cuY29tZXQuY29tL29waWsvYXBpLw==.\n"
     ]
    },
    {
     "name": "stdout",
     "output_type": "stream",
     "text": [
      "Average Metric: 1.99 / 14 (14.2%):  32%|███▎      | 13/40 [00:02<00:02, 10.36it/s]"
     ]
    },
    {
     "name": "stderr",
     "output_type": "stream",
     "text": [
      "OPIK: Started logging traces to the \"optimize-workshop-2025\" project at https://www.comet.com/opik/api/v1/session/redirect/projects/?trace_id=0197406f-dab2-707f-83dc-5eda582631c0&path=aHR0cHM6Ly93d3cuY29tZXQuY29tL29waWsvYXBpLw==.\n",
      "OPIK: Started logging traces to the \"Default Project\" project at https://www.comet.com/opik/api/v1/session/redirect/projects/?trace_id=0197406f-e35d-7ef7-a46e-40f867c94cb5&path=aHR0cHM6Ly93d3cuY29tZXQuY29tL29waWsvYXBpLw==.\n"
     ]
    },
    {
     "name": "stdout",
     "output_type": "stream",
     "text": [
      "Average Metric: 2.23 / 15 (14.8%):  38%|███▊      | 15/40 [00:02<00:02, 10.00it/s]"
     ]
    },
    {
     "name": "stderr",
     "output_type": "stream",
     "text": [
      "OPIK: Started logging traces to the \"optimize-workshop-2025\" project at https://www.comet.com/opik/api/v1/session/redirect/projects/?trace_id=0197406f-dab8-78a3-a409-d7ff72db4920&path=aHR0cHM6Ly93d3cuY29tZXQuY29tL29waWsvYXBpLw==.\n",
      "OPIK: Started logging traces to the \"Default Project\" project at https://www.comet.com/opik/api/v1/session/redirect/projects/?trace_id=0197406f-e3ca-7f57-9d7b-21128f25f3c8&path=aHR0cHM6Ly93d3cuY29tZXQuY29tL29waWsvYXBpLw==.\n"
     ]
    },
    {
     "name": "stdout",
     "output_type": "stream",
     "text": [
      "Average Metric: 2.28 / 16 (14.3%):  38%|███▊      | 15/40 [00:02<00:02, 10.00it/s]"
     ]
    },
    {
     "name": "stderr",
     "output_type": "stream",
     "text": [
      "OPIK: Started logging traces to the \"optimize-workshop-2025\" project at https://www.comet.com/opik/api/v1/session/redirect/projects/?trace_id=0197406f-daae-7c4c-ac43-d7c1f52ea602&path=aHR0cHM6Ly93d3cuY29tZXQuY29tL29waWsvYXBpLw==.\n",
      "OPIK: Started logging traces to the \"Default Project\" project at https://www.comet.com/opik/api/v1/session/redirect/projects/?trace_id=0197406f-e455-756f-80fa-550fb691f16c&path=aHR0cHM6Ly93d3cuY29tZXQuY29tL29waWsvYXBpLw==.\n"
     ]
    },
    {
     "name": "stdout",
     "output_type": "stream",
     "text": [
      "Average Metric: 2.46 / 17 (14.4%):  42%|████▎     | 17/40 [00:02<00:02,  9.40it/s]"
     ]
    },
    {
     "name": "stderr",
     "output_type": "stream",
     "text": [
      "OPIK: Started logging traces to the \"optimize-workshop-2025\" project at https://www.comet.com/opik/api/v1/session/redirect/projects/?trace_id=0197406f-dfd8-770c-9c14-1f1e32d19a2c&path=aHR0cHM6Ly93d3cuY29tZXQuY29tL29waWsvYXBpLw==.\n",
      "OPIK: Started logging traces to the \"Default Project\" project at https://www.comet.com/opik/api/v1/session/redirect/projects/?trace_id=0197406f-e47c-756c-9cc1-faca98b9ae22&path=aHR0cHM6Ly93d3cuY29tZXQuY29tL29waWsvYXBpLw==.\n"
     ]
    },
    {
     "name": "stdout",
     "output_type": "stream",
     "text": [
      "Average Metric: 2.78 / 18 (15.4%):  42%|████▎     | 17/40 [00:02<00:02,  9.40it/s]"
     ]
    },
    {
     "name": "stderr",
     "output_type": "stream",
     "text": [
      "OPIK: Started logging traces to the \"optimize-workshop-2025\" project at https://www.comet.com/opik/api/v1/session/redirect/projects/?trace_id=0197406f-e1f5-777a-b93a-60a24532f837&path=aHR0cHM6Ly93d3cuY29tZXQuY29tL29waWsvYXBpLw==.\n",
      "OPIK: Started logging traces to the \"Default Project\" project at https://www.comet.com/opik/api/v1/session/redirect/projects/?trace_id=0197406f-e4ba-724c-a998-cc18f65a99c1&path=aHR0cHM6Ly93d3cuY29tZXQuY29tL29waWsvYXBpLw==.\n"
     ]
    },
    {
     "name": "stdout",
     "output_type": "stream",
     "text": [
      "Average Metric: 3.78 / 19 (19.9%):  48%|████▊     | 19/40 [00:02<00:01, 11.02it/s]"
     ]
    },
    {
     "name": "stderr",
     "output_type": "stream",
     "text": [
      "OPIK: Started logging traces to the \"optimize-workshop-2025\" project at https://www.comet.com/opik/api/v1/session/redirect/projects/?trace_id=0197406f-e1bf-778e-9055-c51b802925e7&path=aHR0cHM6Ly93d3cuY29tZXQuY29tL29waWsvYXBpLw==.\n",
      "OPIK: Started logging traces to the \"Default Project\" project at https://www.comet.com/opik/api/v1/session/redirect/projects/?trace_id=0197406f-e676-764e-b000-1ef9767cf8cf&path=aHR0cHM6Ly93d3cuY29tZXQuY29tL29waWsvYXBpLw==.\n",
      "OPIK: Started logging traces to the \"Default Project\" project at https://www.comet.com/opik/api/v1/session/redirect/projects/?trace_id=0197406f-e678-77ed-9f77-9098f05c6c53&path=aHR0cHM6Ly93d3cuY29tZXQuY29tL29waWsvYXBpLw==.\n"
     ]
    },
    {
     "name": "stdout",
     "output_type": "stream",
     "text": [
      "Average Metric: 4.03 / 21 (19.2%):  52%|█████▎    | 21/40 [00:03<00:02,  7.78it/s]"
     ]
    },
    {
     "name": "stderr",
     "output_type": "stream",
     "text": [
      "OPIK: Started logging traces to the \"optimize-workshop-2025\" project at https://www.comet.com/opik/api/v1/session/redirect/projects/?trace_id=0197406f-e1ff-7433-8adf-79b83a23a6e3&path=aHR0cHM6Ly93d3cuY29tZXQuY29tL29waWsvYXBpLw==.\n",
      "OPIK: Started logging traces to the \"Default Project\" project at https://www.comet.com/opik/api/v1/session/redirect/projects/?trace_id=0197406f-e691-79ff-82d7-fda54de95f39&path=aHR0cHM6Ly93d3cuY29tZXQuY29tL29waWsvYXBpLw==.\n"
     ]
    },
    {
     "name": "stdout",
     "output_type": "stream",
     "text": [
      "Average Metric: 4.13 / 22 (18.8%):  52%|█████▎    | 21/40 [00:03<00:02,  7.78it/s]"
     ]
    },
    {
     "name": "stderr",
     "output_type": "stream",
     "text": [
      "OPIK: Started logging traces to the \"optimize-workshop-2025\" project at https://www.comet.com/opik/api/v1/session/redirect/projects/?trace_id=0197406f-dfe2-7b6a-baf0-27065142ea7b&path=aHR0cHM6Ly93d3cuY29tZXQuY29tL29waWsvYXBpLw==.\n",
      "OPIK: Started logging traces to the \"Default Project\" project at https://www.comet.com/opik/api/v1/session/redirect/projects/?trace_id=0197406f-e695-7a2f-8e29-9f596e4f3d02&path=aHR0cHM6Ly93d3cuY29tZXQuY29tL29waWsvYXBpLw==.\n"
     ]
    },
    {
     "name": "stdout",
     "output_type": "stream",
     "text": [
      "Average Metric: 4.43 / 23 (19.3%):  55%|█████▌    | 22/40 [00:03<00:02,  7.78it/s]"
     ]
    },
    {
     "name": "stderr",
     "output_type": "stream",
     "text": [
      "OPIK: Started logging traces to the \"optimize-workshop-2025\" project at https://www.comet.com/opik/api/v1/session/redirect/projects/?trace_id=0197406f-e088-7d0f-a31a-2b1856cb61e6&path=aHR0cHM6Ly93d3cuY29tZXQuY29tL29waWsvYXBpLw==.\n",
      "OPIK: Started logging traces to the \"Default Project\" project at https://www.comet.com/opik/api/v1/session/redirect/projects/?trace_id=0197406f-e6e4-70ad-9d69-836d2d84e046&path=aHR0cHM6Ly93d3cuY29tZXQuY29tL29waWsvYXBpLw==.\n"
     ]
    },
    {
     "name": "stdout",
     "output_type": "stream",
     "text": [
      "Average Metric: 4.59 / 24 (19.1%):  60%|██████    | 24/40 [00:03<00:01, 10.71it/s]"
     ]
    },
    {
     "name": "stderr",
     "output_type": "stream",
     "text": [
      "OPIK: Started logging traces to the \"optimize-workshop-2025\" project at https://www.comet.com/opik/api/v1/session/redirect/projects/?trace_id=0197406f-dedb-799a-91e8-5a5928e7398a&path=aHR0cHM6Ly93d3cuY29tZXQuY29tL29waWsvYXBpLw==.\n",
      "OPIK: Started logging traces to the \"Default Project\" project at https://www.comet.com/opik/api/v1/session/redirect/projects/?trace_id=0197406f-e777-76d5-82db-2272e2f9837d&path=aHR0cHM6Ly93d3cuY29tZXQuY29tL29waWsvYXBpLw==.\n",
      "OPIK: Started logging traces to the \"Default Project\" project at https://www.comet.com/opik/api/v1/session/redirect/projects/?trace_id=0197406f-e779-749f-94e9-84b39dfed44f&path=aHR0cHM6Ly93d3cuY29tZXQuY29tL29waWsvYXBpLw==.\n"
     ]
    },
    {
     "name": "stdout",
     "output_type": "stream",
     "text": [
      "Average Metric: 4.84 / 26 (18.6%):  65%|██████▌   | 26/40 [00:03<00:01, 11.34it/s]"
     ]
    },
    {
     "name": "stderr",
     "output_type": "stream",
     "text": [
      "OPIK: Started logging traces to the \"optimize-workshop-2025\" project at https://www.comet.com/opik/api/v1/session/redirect/projects/?trace_id=0197406f-daa2-7ccf-a54d-fc6512361460&path=aHR0cHM6Ly93d3cuY29tZXQuY29tL29waWsvYXBpLw==.\n",
      "OPIK: Started logging traces to the \"Default Project\" project at https://www.comet.com/opik/api/v1/session/redirect/projects/?trace_id=0197406f-e7b0-71c1-9289-c5caa41656fd&path=aHR0cHM6Ly93d3cuY29tZXQuY29tL29waWsvYXBpLw==.\n"
     ]
    },
    {
     "name": "stdout",
     "output_type": "stream",
     "text": [
      "Average Metric: 4.94 / 27 (18.3%):  65%|██████▌   | 26/40 [00:03<00:01, 11.34it/s]"
     ]
    },
    {
     "name": "stderr",
     "output_type": "stream",
     "text": [
      "OPIK: Started logging traces to the \"optimize-workshop-2025\" project at https://www.comet.com/opik/api/v1/session/redirect/projects/?trace_id=0197406f-e346-7cc8-ba73-aed0500861e9&path=aHR0cHM6Ly93d3cuY29tZXQuY29tL29waWsvYXBpLw==.\n",
      "OPIK: Started logging traces to the \"Default Project\" project at https://www.comet.com/opik/api/v1/session/redirect/projects/?trace_id=0197406f-e7e3-7dcd-ba6c-5fa315dd7763&path=aHR0cHM6Ly93d3cuY29tZXQuY29tL29waWsvYXBpLw==.\n"
     ]
    },
    {
     "name": "stdout",
     "output_type": "stream",
     "text": [
      "Average Metric: 5.41 / 28 (19.3%):  70%|███████   | 28/40 [00:03<00:00, 12.65it/s]"
     ]
    },
    {
     "name": "stderr",
     "output_type": "stream",
     "text": [
      "OPIK: Started logging traces to the \"optimize-workshop-2025\" project at https://www.comet.com/opik/api/v1/session/redirect/projects/?trace_id=0197406f-e1cc-7373-b555-fbb3ed9ad971&path=aHR0cHM6Ly93d3cuY29tZXQuY29tL29waWsvYXBpLw==.\n",
      "OPIK: Started logging traces to the \"Default Project\" project at https://www.comet.com/opik/api/v1/session/redirect/projects/?trace_id=0197406f-e938-724e-9f1c-56e632753088&path=aHR0cHM6Ly93d3cuY29tZXQuY29tL29waWsvYXBpLw==.\n"
     ]
    },
    {
     "name": "stdout",
     "output_type": "stream",
     "text": [
      "Average Metric: 5.43 / 29 (18.7%):  70%|███████   | 28/40 [00:03<00:00, 12.65it/s]"
     ]
    },
    {
     "name": "stderr",
     "output_type": "stream",
     "text": [
      "OPIK: Started logging traces to the \"optimize-workshop-2025\" project at https://www.comet.com/opik/api/v1/session/redirect/projects/?trace_id=0197406f-e67a-7fd0-9967-2a3fc3209dfb&path=aHR0cHM6Ly93d3cuY29tZXQuY29tL29waWsvYXBpLw==.\n",
      "OPIK: Started logging traces to the \"optimize-workshop-2025\" project at https://www.comet.com/opik/api/v1/session/redirect/projects/?trace_id=0197406f-e3cc-742e-b6e5-11f41517d680&path=aHR0cHM6Ly93d3cuY29tZXQuY29tL29waWsvYXBpLw==.\n",
      "OPIK: Started logging traces to the \"Default Project\" project at https://www.comet.com/opik/api/v1/session/redirect/projects/?trace_id=0197406f-e95f-790c-9849-8a661ec07f92&path=aHR0cHM6Ly93d3cuY29tZXQuY29tL29waWsvYXBpLw==.\n",
      "OPIK: Started logging traces to the \"Default Project\" project at https://www.comet.com/opik/api/v1/session/redirect/projects/?trace_id=0197406f-e961-7df6-b89a-7ecc3a14c9a9&path=aHR0cHM6Ly93d3cuY29tZXQuY29tL29waWsvYXBpLw==.\n"
     ]
    },
    {
     "name": "stdout",
     "output_type": "stream",
     "text": [
      "Average Metric: 6.26 / 31 (20.2%):  75%|███████▌  | 30/40 [00:03<00:01,  9.09it/s]"
     ]
    },
    {
     "name": "stderr",
     "output_type": "stream",
     "text": [
      "OPIK: Started logging traces to the \"optimize-workshop-2025\" project at https://www.comet.com/opik/api/v1/session/redirect/projects/?trace_id=0197406f-e4bc-72e0-bc77-c1427bb8ac11&path=aHR0cHM6Ly93d3cuY29tZXQuY29tL29waWsvYXBpLw==.\n",
      "OPIK: Started logging traces to the \"Default Project\" project at https://www.comet.com/opik/api/v1/session/redirect/projects/?trace_id=0197406f-e973-70e6-98d3-c117778f0b2b&path=aHR0cHM6Ly93d3cuY29tZXQuY29tL29waWsvYXBpLw==.\n"
     ]
    },
    {
     "name": "stdout",
     "output_type": "stream",
     "text": [
      "Average Metric: 6.35 / 32 (19.8%):  78%|███████▊  | 31/40 [00:03<00:00,  9.09it/s]"
     ]
    },
    {
     "name": "stderr",
     "output_type": "stream",
     "text": [
      "OPIK: Started logging traces to the \"optimize-workshop-2025\" project at https://www.comet.com/opik/api/v1/session/redirect/projects/?trace_id=0197406f-e457-7e72-a1b4-1f27ad578f48&path=aHR0cHM6Ly93d3cuY29tZXQuY29tL29waWsvYXBpLw==.\n",
      "OPIK: Started logging traces to the \"Default Project\" project at https://www.comet.com/opik/api/v1/session/redirect/projects/?trace_id=0197406f-e9b7-7767-9c24-c8ed0c1ef87e&path=aHR0cHM6Ly93d3cuY29tZXQuY29tL29waWsvYXBpLw==.\n"
     ]
    },
    {
     "name": "stdout",
     "output_type": "stream",
     "text": [
      "Average Metric: 6.75 / 33 (20.4%):  80%|████████  | 32/40 [00:03<00:00,  9.09it/s]"
     ]
    },
    {
     "name": "stderr",
     "output_type": "stream",
     "text": [
      "OPIK: Started logging traces to the \"optimize-workshop-2025\" project at https://www.comet.com/opik/api/v1/session/redirect/projects/?trace_id=0197406f-e67d-7082-a091-e29df96b859c&path=aHR0cHM6Ly93d3cuY29tZXQuY29tL29waWsvYXBpLw==.\n",
      "OPIK: Started logging traces to the \"Default Project\" project at https://www.comet.com/opik/api/v1/session/redirect/projects/?trace_id=0197406f-ea0b-7863-b917-c460533c277c&path=aHR0cHM6Ly93d3cuY29tZXQuY29tL29waWsvYXBpLw==.\n"
     ]
    },
    {
     "name": "stdout",
     "output_type": "stream",
     "text": [
      "Average Metric: 6.95 / 34 (20.5%):  85%|████████▌ | 34/40 [00:03<00:00, 12.48it/s]"
     ]
    },
    {
     "name": "stderr",
     "output_type": "stream",
     "text": [
      "OPIK: Started logging traces to the \"optimize-workshop-2025\" project at https://www.comet.com/opik/api/v1/session/redirect/projects/?trace_id=0197406f-e693-7945-912a-a88c7d4a47ea&path=aHR0cHM6Ly93d3cuY29tZXQuY29tL29waWsvYXBpLw==.\n",
      "OPIK: Started logging traces to the \"Default Project\" project at https://www.comet.com/opik/api/v1/session/redirect/projects/?trace_id=0197406f-eb40-77eb-988c-005c9f508ea1&path=aHR0cHM6Ly93d3cuY29tZXQuY29tL29waWsvYXBpLw==.\n"
     ]
    },
    {
     "name": "stdout",
     "output_type": "stream",
     "text": [
      "Average Metric: 7.17 / 35 (20.5%):  85%|████████▌ | 34/40 [00:04<00:00, 12.48it/s]"
     ]
    },
    {
     "name": "stderr",
     "output_type": "stream",
     "text": [
      "OPIK: Started logging traces to the \"optimize-workshop-2025\" project at https://www.comet.com/opik/api/v1/session/redirect/projects/?trace_id=0197406f-e697-7fa2-9f9c-91306592ad1d&path=aHR0cHM6Ly93d3cuY29tZXQuY29tL29waWsvYXBpLw==.\n",
      "OPIK: Started logging traces to the \"Default Project\" project at https://www.comet.com/opik/api/v1/session/redirect/projects/?trace_id=0197406f-eba6-7c52-900a-0eb120ee1404&path=aHR0cHM6Ly93d3cuY29tZXQuY29tL29waWsvYXBpLw==.\n"
     ]
    },
    {
     "name": "stdout",
     "output_type": "stream",
     "text": [
      "Average Metric: 7.28 / 36 (20.2%):  90%|█████████ | 36/40 [00:04<00:00,  9.06it/s]"
     ]
    },
    {
     "name": "stderr",
     "output_type": "stream",
     "text": [
      "OPIK: Started logging traces to the \"optimize-workshop-2025\" project at https://www.comet.com/opik/api/v1/session/redirect/projects/?trace_id=0197406f-e6e6-7573-8d27-d7a8cfb1762f&path=aHR0cHM6Ly93d3cuY29tZXQuY29tL29waWsvYXBpLw==.\n",
      "OPIK: Started logging traces to the \"Default Project\" project at https://www.comet.com/opik/api/v1/session/redirect/projects/?trace_id=0197406f-ec68-7544-b41f-34a3cf88d802&path=aHR0cHM6Ly93d3cuY29tZXQuY29tL29waWsvYXBpLw==.\n"
     ]
    },
    {
     "name": "stdout",
     "output_type": "stream",
     "text": [
      "Average Metric: 7.39 / 37 (20.0%):  90%|█████████ | 36/40 [00:04<00:00,  9.06it/s]"
     ]
    },
    {
     "name": "stderr",
     "output_type": "stream",
     "text": [
      "OPIK: Started logging traces to the \"optimize-workshop-2025\" project at https://www.comet.com/opik/api/v1/session/redirect/projects/?trace_id=0197406f-e47e-7d63-b86f-e8b7ac2dbf21&path=aHR0cHM6Ly93d3cuY29tZXQuY29tL29waWsvYXBpLw==.\n",
      "OPIK: Started logging traces to the \"Default Project\" project at https://www.comet.com/opik/api/v1/session/redirect/projects/?trace_id=0197406f-edc0-7165-9121-7ff1b5371f5d&path=aHR0cHM6Ly93d3cuY29tZXQuY29tL29waWsvYXBpLw==.\n"
     ]
    },
    {
     "name": "stdout",
     "output_type": "stream",
     "text": [
      "Average Metric: 7.53 / 38 (19.8%):  95%|█████████▌| 38/40 [00:04<00:00,  6.61it/s]"
     ]
    },
    {
     "name": "stderr",
     "output_type": "stream",
     "text": [
      "OPIK: Started logging traces to the \"optimize-workshop-2025\" project at https://www.comet.com/opik/api/v1/session/redirect/projects/?trace_id=0197406f-e35f-7eb8-ac89-8dc946c3317d&path=aHR0cHM6Ly93d3cuY29tZXQuY29tL29waWsvYXBpLw==.\n",
      "OPIK: Started logging traces to the \"Default Project\" project at https://www.comet.com/opik/api/v1/session/redirect/projects/?trace_id=0197406f-ef10-7cd8-91b2-a09f0466e665&path=aHR0cHM6Ly93d3cuY29tZXQuY29tL29waWsvYXBpLw==.\n"
     ]
    },
    {
     "name": "stdout",
     "output_type": "stream",
     "text": [
      "Average Metric: 7.72 / 39 (19.8%):  98%|█████████▊| 39/40 [00:05<00:00,  5.56it/s]"
     ]
    },
    {
     "name": "stderr",
     "output_type": "stream",
     "text": [
      "OPIK: Started logging traces to the \"optimize-workshop-2025\" project at https://www.comet.com/opik/api/v1/session/redirect/projects/?trace_id=0197406f-e077-7213-bf2a-342b0235c455&path=aHR0cHM6Ly93d3cuY29tZXQuY29tL29waWsvYXBpLw==.\n",
      "OPIK: Started logging traces to the \"Default Project\" project at https://www.comet.com/opik/api/v1/session/redirect/projects/?trace_id=0197406f-efca-79a7-87ad-9a35d8e1062e&path=aHR0cHM6Ly93d3cuY29tZXQuY29tL29waWsvYXBpLw==.\n"
     ]
    },
    {
     "name": "stdout",
     "output_type": "stream",
     "text": [
      "Average Metric: 7.94 / 40 (19.9%): 100%|██████████| 40/40 [00:05<00:00,  7.38it/s]"
     ]
    },
    {
     "name": "stderr",
     "output_type": "stream",
     "text": [
      "OPIK: Started logging traces to the \"optimize-workshop-2025\" project at https://www.comet.com/opik/api/v1/session/redirect/projects/?trace_id=0197406f-efd2-7876-9f4d-584268a79e9b&path=aHR0cHM6Ly93d3cuY29tZXQuY29tL29waWsvYXBpLw==.\n",
      "OPIK: Started logging traces to the \"optimize-workshop-2025\" project at https://www.comet.com/opik/api/v1/session/redirect/projects/?trace_id=0197406f-efd5-75e8-aca7-0b8395890eb4&path=aHR0cHM6Ly93d3cuY29tZXQuY29tL29waWsvYXBpLw==.\n"
     ]
    },
    {
     "name": "stdout",
     "output_type": "stream",
     "text": [
      "\n",
      "Score: 19.85 with parameters ['Predictor 0: Instruction 3', 'Predictor 0: Few-Shot Set 0'].\n",
      "Scores so far: [0.20173393120947108, 20.21, 20.21, 20.17, 23.09, 19.85]\n",
      "Best score so far: 23.09\n",
      "=======================\n",
      "\n",
      "\n",
      "===== Trial 7 / 7 =====\n",
      "Evaluating the following candidate program...\n",
      "\n",
      "Predictor 0\n",
      "i: Provide an answer to the question\n",
      "p: Answer:\n",
      "\n",
      "\n"
     ]
    },
    {
     "name": "stderr",
     "output_type": "stream",
     "text": [
      "OPIK: Started logging traces to the \"optimize-workshop-2025\" project at https://www.comet.com/opik/api/v1/session/redirect/projects/?trace_id=0197406f-efd8-7bf2-a78c-53cc83ac4439&path=aHR0cHM6Ly93d3cuY29tZXQuY29tL29waWsvYXBpLw==.\n",
      "OPIK: Started logging traces to the \"optimize-workshop-2025\" project at https://www.comet.com/opik/api/v1/session/redirect/projects/?trace_id=0197406f-efde-7b4e-bd60-e131d89eba56&path=aHR0cHM6Ly93d3cuY29tZXQuY29tL29waWsvYXBpLw==.\n"
     ]
    },
    {
     "name": "stdout",
     "output_type": "stream",
     "text": [
      "  0%|          | 0/40 [00:00<?, ?it/s]"
     ]
    },
    {
     "name": "stderr",
     "output_type": "stream",
     "text": [
      "OPIK: Started logging traces to the \"optimize-workshop-2025\" project at https://www.comet.com/opik/api/v1/session/redirect/projects/?trace_id=0197406f-efe2-7b6a-a78d-9a177ae05a06&path=aHR0cHM6Ly93d3cuY29tZXQuY29tL29waWsvYXBpLw==.\n",
      "OPIK: Started logging traces to the \"optimize-workshop-2025\" project at https://www.comet.com/opik/api/v1/session/redirect/projects/?trace_id=0197406f-efe5-787f-aa14-22a1723125ca&path=aHR0cHM6Ly93d3cuY29tZXQuY29tL29waWsvYXBpLw==.\n",
      "OPIK: Started logging traces to the \"optimize-workshop-2025\" project at https://www.comet.com/opik/api/v1/session/redirect/projects/?trace_id=0197406f-efdb-7138-b2fc-a9e0dc9d470c&path=aHR0cHM6Ly93d3cuY29tZXQuY29tL29waWsvYXBpLw==.\n",
      "OPIK: Started logging traces to the \"optimize-workshop-2025\" project at https://www.comet.com/opik/api/v1/session/redirect/projects/?trace_id=0197406f-efe9-70d4-b837-100b3ea30336&path=aHR0cHM6Ly93d3cuY29tZXQuY29tL29waWsvYXBpLw==.\n",
      "OPIK: Started logging traces to the \"Default Project\" project at https://www.comet.com/opik/api/v1/session/redirect/projects/?trace_id=0197406f-eff6-72d3-8ea0-b9d41ed4762e&path=aHR0cHM6Ly93d3cuY29tZXQuY29tL29waWsvYXBpLw==.\n"
     ]
    },
    {
     "name": "stdout",
     "output_type": "stream",
     "text": [
      "Average Metric: 0.15 / 1 (15.5%):   0%|          | 0/40 [00:00<?, ?it/s]"
     ]
    },
    {
     "name": "stderr",
     "output_type": "stream",
     "text": [
      "OPIK: Started logging traces to the \"Default Project\" project at https://www.comet.com/opik/api/v1/session/redirect/projects/?trace_id=0197406f-effc-7616-85bd-0e581a965293&path=aHR0cHM6Ly93d3cuY29tZXQuY29tL29waWsvYXBpLw==.\n"
     ]
    },
    {
     "name": "stdout",
     "output_type": "stream",
     "text": [
      "Average Metric: 0.30 / 2 (15.2%):   2%|▎         | 1/40 [00:00<00:00, 243.32it/s]"
     ]
    },
    {
     "name": "stderr",
     "output_type": "stream",
     "text": [
      "OPIK: Started logging traces to the \"Default Project\" project at https://www.comet.com/opik/api/v1/session/redirect/projects/?trace_id=0197406f-effe-7fde-a8b4-e533c64240f6&path=aHR0cHM6Ly93d3cuY29tZXQuY29tL29waWsvYXBpLw==.\n"
     ]
    },
    {
     "name": "stdout",
     "output_type": "stream",
     "text": [
      "Average Metric: 0.47 / 3 (15.7%):   5%|▌         | 2/40 [00:00<00:00, 419.47it/s]"
     ]
    },
    {
     "name": "stderr",
     "output_type": "stream",
     "text": [
      "OPIK: Started logging traces to the \"Default Project\" project at https://www.comet.com/opik/api/v1/session/redirect/projects/?trace_id=0197406f-f000-7346-847e-e24ca40122c2&path=aHR0cHM6Ly93d3cuY29tZXQuY29tL29waWsvYXBpLw==.\n"
     ]
    },
    {
     "name": "stdout",
     "output_type": "stream",
     "text": [
      "Average Metric: 0.58 / 4 (14.6%):   8%|▊         | 3/40 [00:00<00:00, 546.66it/s]"
     ]
    },
    {
     "name": "stderr",
     "output_type": "stream",
     "text": [
      "OPIK: Started logging traces to the \"Default Project\" project at https://www.comet.com/opik/api/v1/session/redirect/projects/?trace_id=0197406f-f004-7f68-9a14-1a6dc79555d0&path=aHR0cHM6Ly93d3cuY29tZXQuY29tL29waWsvYXBpLw==.\n"
     ]
    },
    {
     "name": "stdout",
     "output_type": "stream",
     "text": [
      "Average Metric: 0.76 / 5 (15.1%):  10%|█         | 4/40 [00:00<00:00, 662.16it/s]"
     ]
    },
    {
     "name": "stderr",
     "output_type": "stream",
     "text": [
      "OPIK: Started logging traces to the \"Default Project\" project at https://www.comet.com/opik/api/v1/session/redirect/projects/?trace_id=0197406f-f006-7262-898f-550b72675066&path=aHR0cHM6Ly93d3cuY29tZXQuY29tL29waWsvYXBpLw==.\n"
     ]
    },
    {
     "name": "stdout",
     "output_type": "stream",
     "text": [
      "Average Metric: 1.06 / 6 (17.7%):  12%|█▎        | 5/40 [00:00<00:00, 769.48it/s]"
     ]
    },
    {
     "name": "stderr",
     "output_type": "stream",
     "text": [
      "OPIK: Started logging traces to the \"Default Project\" project at https://www.comet.com/opik/api/v1/session/redirect/projects/?trace_id=0197406f-f008-7d50-be87-983abee57522&path=aHR0cHM6Ly93d3cuY29tZXQuY29tL29waWsvYXBpLw==.\n",
      "OPIK: Started logging traces to the \"Default Project\" project at https://www.comet.com/opik/api/v1/session/redirect/projects/?trace_id=0197406f-f00a-7bf1-80df-db495490e8aa&path=aHR0cHM6Ly93d3cuY29tZXQuY29tL29waWsvYXBpLw==.\n"
     ]
    },
    {
     "name": "stdout",
     "output_type": "stream",
     "text": [
      "Average Metric: 1.32 / 8 (16.4%):  18%|█▊        | 7/40 [00:00<00:00, 930.00it/s]"
     ]
    },
    {
     "name": "stderr",
     "output_type": "stream",
     "text": [
      "OPIK: Started logging traces to the \"Default Project\" project at https://www.comet.com/opik/api/v1/session/redirect/projects/?trace_id=0197406f-f00c-7fd2-a64f-0abc48fa528a&path=aHR0cHM6Ly93d3cuY29tZXQuY29tL29waWsvYXBpLw==.\n"
     ]
    },
    {
     "name": "stdout",
     "output_type": "stream",
     "text": [
      "Average Metric: 1.39 / 9 (15.5%):  20%|██        | 8/40 [00:00<00:00, 936.33it/s]"
     ]
    },
    {
     "name": "stderr",
     "output_type": "stream",
     "text": [
      "OPIK: Started logging traces to the \"Default Project\" project at https://www.comet.com/opik/api/v1/session/redirect/projects/?trace_id=0197406f-f00e-7a9e-8fe8-2caebe735037&path=aHR0cHM6Ly93d3cuY29tZXQuY29tL29waWsvYXBpLw==.\n"
     ]
    },
    {
     "name": "stdout",
     "output_type": "stream",
     "text": [
      "Average Metric: 1.42 / 10 (14.2%):  22%|██▎       | 9/40 [00:00<00:00, 978.91it/s]"
     ]
    },
    {
     "name": "stderr",
     "output_type": "stream",
     "text": [
      "OPIK: Started logging traces to the \"optimize-workshop-2025\" project at https://www.comet.com/opik/api/v1/session/redirect/projects/?trace_id=0197406f-efe1-7eca-a62f-bf8e07263de9&path=aHR0cHM6Ly93d3cuY29tZXQuY29tL29waWsvYXBpLw==.\n",
      "OPIK: Started logging traces to the \"optimize-workshop-2025\" project at https://www.comet.com/opik/api/v1/session/redirect/projects/?trace_id=0197406f-eff8-7056-9382-a2ff4fa0e63b&path=aHR0cHM6Ly93d3cuY29tZXQuY29tL29waWsvYXBpLw==.\n",
      "OPIK: Started logging traces to the \"optimize-workshop-2025\" project at https://www.comet.com/opik/api/v1/session/redirect/projects/?trace_id=0197406f-f010-70cc-b4d2-fd1c2a16ab84&path=aHR0cHM6Ly93d3cuY29tZXQuY29tL29waWsvYXBpLw==.\n",
      "OPIK: Started logging traces to the \"Default Project\" project at https://www.comet.com/opik/api/v1/session/redirect/projects/?trace_id=0197406f-f3c5-7237-afd9-c441c3f8d7c0&path=aHR0cHM6Ly93d3cuY29tZXQuY29tL29waWsvYXBpLw==.\n"
     ]
    },
    {
     "name": "stdout",
     "output_type": "stream",
     "text": [
      "Average Metric: 1.57 / 11 (14.3%):  25%|██▌       | 10/40 [00:01<00:03,  9.93it/s]"
     ]
    },
    {
     "name": "stderr",
     "output_type": "stream",
     "text": [
      "OPIK: Started logging traces to the \"Default Project\" project at https://www.comet.com/opik/api/v1/session/redirect/projects/?trace_id=0197406f-f3c9-73c8-a54f-6cafec72e17b&path=aHR0cHM6Ly93d3cuY29tZXQuY29tL29waWsvYXBpLw==.\n"
     ]
    },
    {
     "name": "stdout",
     "output_type": "stream",
     "text": [
      "Average Metric: 1.57 / 11 (14.3%):  28%|██▊       | 11/40 [00:01<00:02, 10.92it/s]"
     ]
    },
    {
     "name": "stderr",
     "output_type": "stream",
     "text": [
      "OPIK: Started logging traces to the \"Default Project\" project at https://www.comet.com/opik/api/v1/session/redirect/projects/?trace_id=0197406f-f3cb-7e7d-bfc8-a53f4f69a8db&path=aHR0cHM6Ly93d3cuY29tZXQuY29tL29waWsvYXBpLw==.\n"
     ]
    },
    {
     "name": "stdout",
     "output_type": "stream",
     "text": [
      "Average Metric: 1.58 / 12 (13.2%):  28%|██▊       | 11/40 [00:01<00:02, 10.92it/s]"
     ]
    },
    {
     "name": "stderr",
     "output_type": "stream",
     "text": [
      "OPIK: Started logging traces to the \"Default Project\" project at https://www.comet.com/opik/api/v1/session/redirect/projects/?trace_id=0197406f-f3cd-7d21-abef-4f307f37a602&path=aHR0cHM6Ly93d3cuY29tZXQuY29tL29waWsvYXBpLw==.\n"
     ]
    },
    {
     "name": "stdout",
     "output_type": "stream",
     "text": [
      "Average Metric: 1.92 / 14 (13.7%):  32%|███▎      | 13/40 [00:01<00:02, 10.92it/s]"
     ]
    },
    {
     "name": "stderr",
     "output_type": "stream",
     "text": [
      "OPIK: Started logging traces to the \"Default Project\" project at https://www.comet.com/opik/api/v1/session/redirect/projects/?trace_id=0197406f-f3cf-7d4d-b112-f3d732d32bcc&path=aHR0cHM6Ly93d3cuY29tZXQuY29tL29waWsvYXBpLw==.\n"
     ]
    },
    {
     "name": "stdout",
     "output_type": "stream",
     "text": [
      "Average Metric: 2.09 / 15 (13.9%):  35%|███▌      | 14/40 [00:01<00:02, 10.92it/s]"
     ]
    },
    {
     "name": "stderr",
     "output_type": "stream",
     "text": [
      "OPIK: Started logging traces to the \"Default Project\" project at https://www.comet.com/opik/api/v1/session/redirect/projects/?trace_id=0197406f-f3d1-7c6b-bf92-bf753f0fc25d&path=aHR0cHM6Ly93d3cuY29tZXQuY29tL29waWsvYXBpLw==.\n"
     ]
    },
    {
     "name": "stdout",
     "output_type": "stream",
     "text": [
      "Average Metric: 2.29 / 16 (14.3%):  38%|███▊      | 15/40 [00:01<00:02, 10.92it/s]"
     ]
    },
    {
     "name": "stderr",
     "output_type": "stream",
     "text": [
      "OPIK: Started logging traces to the \"Default Project\" project at https://www.comet.com/opik/api/v1/session/redirect/projects/?trace_id=0197406f-f3d3-767e-8894-e1715a7b6280&path=aHR0cHM6Ly93d3cuY29tZXQuY29tL29waWsvYXBpLw==.\n"
     ]
    },
    {
     "name": "stdout",
     "output_type": "stream",
     "text": [
      "Average Metric: 2.51 / 17 (14.7%):  40%|████      | 16/40 [00:01<00:02, 10.92it/s]"
     ]
    },
    {
     "name": "stderr",
     "output_type": "stream",
     "text": [
      "OPIK: Started logging traces to the \"Default Project\" project at https://www.comet.com/opik/api/v1/session/redirect/projects/?trace_id=0197406f-f3d5-78e8-967d-77258061966a&path=aHR0cHM6Ly93d3cuY29tZXQuY29tL29waWsvYXBpLw==.\n"
     ]
    },
    {
     "name": "stdout",
     "output_type": "stream",
     "text": [
      "Average Metric: 2.63 / 18 (14.6%):  42%|████▎     | 17/40 [00:01<00:02, 10.92it/s]"
     ]
    },
    {
     "name": "stderr",
     "output_type": "stream",
     "text": [
      "OPIK: Started logging traces to the \"Default Project\" project at https://www.comet.com/opik/api/v1/session/redirect/projects/?trace_id=0197406f-f3d7-7b01-8c41-927a2c02c123&path=aHR0cHM6Ly93d3cuY29tZXQuY29tL29waWsvYXBpLw==.\n"
     ]
    },
    {
     "name": "stdout",
     "output_type": "stream",
     "text": [
      "Average Metric: 2.73 / 19 (14.4%):  45%|████▌     | 18/40 [00:01<00:02, 10.92it/s]"
     ]
    },
    {
     "name": "stderr",
     "output_type": "stream",
     "text": [
      "OPIK: Started logging traces to the \"Default Project\" project at https://www.comet.com/opik/api/v1/session/redirect/projects/?trace_id=0197406f-f3d9-7d01-b2c3-408eee87becc&path=aHR0cHM6Ly93d3cuY29tZXQuY29tL29waWsvYXBpLw==.\n"
     ]
    },
    {
     "name": "stdout",
     "output_type": "stream",
     "text": [
      "Average Metric: 2.89 / 20 (14.5%):  48%|████▊     | 19/40 [00:01<00:01, 10.92it/s]"
     ]
    },
    {
     "name": "stderr",
     "output_type": "stream",
     "text": [
      "OPIK: Started logging traces to the \"optimize-workshop-2025\" project at https://www.comet.com/opik/api/v1/session/redirect/projects/?trace_id=0197406f-f3e1-72c6-ac3d-e590367289b9&path=aHR0cHM6Ly93d3cuY29tZXQuY29tL29waWsvYXBpLw==.\n",
      "OPIK: Started logging traces to the \"optimize-workshop-2025\" project at https://www.comet.com/opik/api/v1/session/redirect/projects/?trace_id=0197406f-f3e3-7c1d-b22d-c1be00685723&path=aHR0cHM6Ly93d3cuY29tZXQuY29tL29waWsvYXBpLw==.\n",
      "OPIK: Started logging traces to the \"Default Project\" project at https://www.comet.com/opik/api/v1/session/redirect/projects/?trace_id=0197406f-f7ae-7ba4-96b9-c114f1e8dd37&path=aHR0cHM6Ly93d3cuY29tZXQuY29tL29waWsvYXBpLw==.\n",
      "OPIK: Started logging traces to the \"Default Project\" project at https://www.comet.com/opik/api/v1/session/redirect/projects/?trace_id=0197406f-f7b3-71f6-9961-25c1f27d3533&path=aHR0cHM6Ly93d3cuY29tZXQuY29tL29waWsvYXBpLw==.\n"
     ]
    },
    {
     "name": "stdout",
     "output_type": "stream",
     "text": [
      "Average Metric: 3.22 / 21 (15.3%):  52%|█████▎    | 21/40 [00:02<00:01, 10.37it/s]"
     ]
    },
    {
     "name": "stderr",
     "output_type": "stream",
     "text": [
      "OPIK: Started logging traces to the \"Default Project\" project at https://www.comet.com/opik/api/v1/session/redirect/projects/?trace_id=0197406f-f7b5-7cd4-8e55-59b3bce06b91&path=aHR0cHM6Ly93d3cuY29tZXQuY29tL29waWsvYXBpLw==.\n"
     ]
    },
    {
     "name": "stdout",
     "output_type": "stream",
     "text": [
      "Average Metric: 3.39 / 22 (15.4%):  52%|█████▎    | 21/40 [00:02<00:01, 10.37it/s]"
     ]
    },
    {
     "name": "stderr",
     "output_type": "stream",
     "text": [
      "OPIK: Started logging traces to the \"Default Project\" project at https://www.comet.com/opik/api/v1/session/redirect/projects/?trace_id=0197406f-f7b7-7082-84c3-3ad2c72c4751&path=aHR0cHM6Ly93d3cuY29tZXQuY29tL29waWsvYXBpLw==.\n"
     ]
    },
    {
     "name": "stdout",
     "output_type": "stream",
     "text": [
      "Average Metric: 4.05 / 24 (16.9%):  57%|█████▊    | 23/40 [00:02<00:01, 10.37it/s]"
     ]
    },
    {
     "name": "stderr",
     "output_type": "stream",
     "text": [
      "OPIK: Started logging traces to the \"Default Project\" project at https://www.comet.com/opik/api/v1/session/redirect/projects/?trace_id=0197406f-f7b9-7aa2-a99d-92026aeb41ad&path=aHR0cHM6Ly93d3cuY29tZXQuY29tL29waWsvYXBpLw==.\n"
     ]
    },
    {
     "name": "stdout",
     "output_type": "stream",
     "text": [
      "Average Metric: 4.51 / 26 (17.3%):  62%|██████▎   | 25/40 [00:02<00:01, 10.37it/s]"
     ]
    },
    {
     "name": "stderr",
     "output_type": "stream",
     "text": [
      "OPIK: Started logging traces to the \"Default Project\" project at https://www.comet.com/opik/api/v1/session/redirect/projects/?trace_id=0197406f-f7bb-7f0a-ba8e-92ca98d87914&path=aHR0cHM6Ly93d3cuY29tZXQuY29tL29waWsvYXBpLw==.\n"
     ]
    },
    {
     "name": "stdout",
     "output_type": "stream",
     "text": [
      "Average Metric: 4.88 / 28 (17.4%):  68%|██████▊   | 27/40 [00:02<00:01, 10.37it/s]"
     ]
    },
    {
     "name": "stderr",
     "output_type": "stream",
     "text": [
      "OPIK: Started logging traces to the \"Default Project\" project at https://www.comet.com/opik/api/v1/session/redirect/projects/?trace_id=0197406f-f7bd-7e4f-b727-a5220e9af664&path=aHR0cHM6Ly93d3cuY29tZXQuY29tL29waWsvYXBpLw==.\n",
      "OPIK: Started logging traces to the \"Default Project\" project at https://www.comet.com/opik/api/v1/session/redirect/projects/?trace_id=0197406f-f7bf-7cf5-8b65-f06e19aa99b4&path=aHR0cHM6Ly93d3cuY29tZXQuY29tL29waWsvYXBpLw==.\n"
     ]
    },
    {
     "name": "stdout",
     "output_type": "stream",
     "text": [
      "Average Metric: 5.18 / 30 (17.3%):  72%|███████▎  | 29/40 [00:02<00:01, 10.37it/s]"
     ]
    },
    {
     "name": "stderr",
     "output_type": "stream",
     "text": [
      "OPIK: Started logging traces to the \"optimize-workshop-2025\" project at https://www.comet.com/opik/api/v1/session/redirect/projects/?trace_id=0197406f-f018-7988-884a-d459ea34f505&path=aHR0cHM6Ly93d3cuY29tZXQuY29tL29waWsvYXBpLw==.\n",
      "OPIK: Started logging traces to the \"optimize-workshop-2025\" project at https://www.comet.com/opik/api/v1/session/redirect/projects/?trace_id=0197406f-f3db-7fa4-b95e-ee72bbbd5d8e&path=aHR0cHM6Ly93d3cuY29tZXQuY29tL29waWsvYXBpLw==.\n",
      "OPIK: Started logging traces to the \"Default Project\" project at https://www.comet.com/opik/api/v1/session/redirect/projects/?trace_id=0197406f-fb93-78a6-a058-abb7b910638e&path=aHR0cHM6Ly93d3cuY29tZXQuY29tL29waWsvYXBpLw==.\n"
     ]
    },
    {
     "name": "stdout",
     "output_type": "stream",
     "text": [
      "Average Metric: 5.48 / 31 (17.7%):  75%|███████▌  | 30/40 [00:03<00:00, 10.37it/s]"
     ]
    },
    {
     "name": "stderr",
     "output_type": "stream",
     "text": [
      "OPIK: Started logging traces to the \"Default Project\" project at https://www.comet.com/opik/api/v1/session/redirect/projects/?trace_id=0197406f-fb96-7993-9f7e-199b584ae268&path=aHR0cHM6Ly93d3cuY29tZXQuY29tL29waWsvYXBpLw==.\n"
     ]
    },
    {
     "name": "stdout",
     "output_type": "stream",
     "text": [
      "Average Metric: 5.98 / 32 (18.7%):  78%|███████▊  | 31/40 [00:03<00:00, 10.21it/s]"
     ]
    },
    {
     "name": "stderr",
     "output_type": "stream",
     "text": [
      "OPIK: Started logging traces to the \"optimize-workshop-2025\" project at https://www.comet.com/opik/api/v1/session/redirect/projects/?trace_id=0197406f-eff4-71fd-991a-0bb290955667&path=aHR0cHM6Ly93d3cuY29tZXQuY29tL29waWsvYXBpLw==.\n"
     ]
    },
    {
     "name": "stdout",
     "output_type": "stream",
     "text": [
      "Average Metric: 6.98 / 33 (21.1%):  80%|████████  | 32/40 [00:03<00:00, 10.21it/s]"
     ]
    },
    {
     "name": "stderr",
     "output_type": "stream",
     "text": [
      "OPIK: Started logging traces to the \"optimize-workshop-2025\" project at https://www.comet.com/opik/api/v1/session/redirect/projects/?trace_id=0197406f-f7c9-711b-8d7a-62707bd8ab29&path=aHR0cHM6Ly93d3cuY29tZXQuY29tL29waWsvYXBpLw==.\n"
     ]
    },
    {
     "name": "stdout",
     "output_type": "stream",
     "text": [
      "Average Metric: 7.08 / 34 (20.8%):  82%|████████▎ | 33/40 [00:03<00:00, 10.21it/s]"
     ]
    },
    {
     "name": "stderr",
     "output_type": "stream",
     "text": [
      "OPIK: Started logging traces to the \"optimize-workshop-2025\" project at https://www.comet.com/opik/api/v1/session/redirect/projects/?trace_id=0197406f-f7c1-7714-b9ee-1c5d66f1af08&path=aHR0cHM6Ly93d3cuY29tZXQuY29tL29waWsvYXBpLw==.\n",
      "OPIK: Started logging traces to the \"optimize-workshop-2025\" project at https://www.comet.com/opik/api/v1/session/redirect/projects/?trace_id=0197406f-f01e-744c-9836-9e15ec9bd999&path=aHR0cHM6Ly93d3cuY29tZXQuY29tL29waWsvYXBpLw==.\n",
      "OPIK: Started logging traces to the \"optimize-workshop-2025\" project at https://www.comet.com/opik/api/v1/session/redirect/projects/?trace_id=0197406f-f3eb-719e-91a3-69aa8839b1db&path=aHR0cHM6Ly93d3cuY29tZXQuY29tL29waWsvYXBpLw==.\n",
      "OPIK: Started logging traces to the \"optimize-workshop-2025\" project at https://www.comet.com/opik/api/v1/session/redirect/projects/?trace_id=0197406f-f7c5-7dfe-9009-9a12e12c9936&path=aHR0cHM6Ly93d3cuY29tZXQuY29tL29waWsvYXBpLw==.\n",
      "OPIK: Started logging traces to the \"Default Project\" project at https://www.comet.com/opik/api/v1/session/redirect/projects/?trace_id=0197406f-fba3-7ee2-b789-9c3c61b28dcb&path=aHR0cHM6Ly93d3cuY29tZXQuY29tL29waWsvYXBpLw==.\n",
      "OPIK: Started logging traces to the \"Default Project\" project at https://www.comet.com/opik/api/v1/session/redirect/projects/?trace_id=0197406f-fba5-707f-bbc1-926e1fd6158e&path=aHR0cHM6Ly93d3cuY29tZXQuY29tL29waWsvYXBpLw==.\n"
     ]
    },
    {
     "name": "stdout",
     "output_type": "stream",
     "text": [
      "Average Metric: 7.60 / 37 (20.5%):  90%|█████████ | 36/40 [00:03<00:00, 10.21it/s]"
     ]
    },
    {
     "name": "stderr",
     "output_type": "stream",
     "text": [
      "OPIK: Started logging traces to the \"Default Project\" project at https://www.comet.com/opik/api/v1/session/redirect/projects/?trace_id=0197406f-fba7-7039-9092-6b3e4d7f95ea&path=aHR0cHM6Ly93d3cuY29tZXQuY29tL29waWsvYXBpLw==.\n"
     ]
    },
    {
     "name": "stdout",
     "output_type": "stream",
     "text": [
      "Average Metric: 7.92 / 39 (20.3%):  95%|█████████▌| 38/40 [00:03<00:00, 10.21it/s]"
     ]
    },
    {
     "name": "stderr",
     "output_type": "stream",
     "text": [
      "OPIK: Started logging traces to the \"Default Project\" project at https://www.comet.com/opik/api/v1/session/redirect/projects/?trace_id=0197406f-fba9-72bc-94ae-710bbaff571b&path=aHR0cHM6Ly93d3cuY29tZXQuY29tL29waWsvYXBpLw==.\n"
     ]
    },
    {
     "name": "stdout",
     "output_type": "stream",
     "text": [
      "Average Metric: 8.07 / 40 (20.2%): 100%|██████████| 40/40 [00:03<00:00, 13.26it/s]\n",
      "Score: 20.17 with parameters ['Predictor 0: Instruction 0', 'Predictor 0: Few-Shot Set 0'].\n",
      "Scores so far: [0.20173393120947108, 20.21, 20.21, 20.17, 23.09, 19.85, 20.17]\n",
      "Best score so far: 23.09\n",
      "=======================\n",
      "\n",
      "\n",
      "===== Trial 8 / 7 =====\n",
      "Evaluating the following candidate program...\n",
      "\n",
      "Predictor 0\n",
      "i: Answer the following trivia question by providing a concise and accurate response based on the information available.\n",
      "p: Answer:\n",
      "\n",
      "\n",
      "  0%|          | 0/40 [00:00<?, ?it/s]"
     ]
    },
    {
     "name": "stderr",
     "output_type": "stream",
     "text": [
      "OPIK: Started logging traces to the \"optimize-workshop-2025\" project at https://www.comet.com/opik/api/v1/session/redirect/projects/?trace_id=0197406f-fbc3-7ff0-a486-b4cadba27e09&path=aHR0cHM6Ly93d3cuY29tZXQuY29tL29waWsvYXBpLw==.\n",
      "OPIK: Started logging traces to the \"Default Project\" project at https://www.comet.com/opik/api/v1/session/redirect/projects/?trace_id=01974070-0292-70ef-8bb0-8027b6d6a3d9&path=aHR0cHM6Ly93d3cuY29tZXQuY29tL29waWsvYXBpLw==.\n"
     ]
    },
    {
     "name": "stdout",
     "output_type": "stream",
     "text": [
      "Average Metric: 0.20 / 1 (20.0%):   2%|▎         | 1/40 [00:01<01:08,  1.76s/it]"
     ]
    },
    {
     "name": "stderr",
     "output_type": "stream",
     "text": [
      "OPIK: Started logging traces to the \"optimize-workshop-2025\" project at https://www.comet.com/opik/api/v1/session/redirect/projects/?trace_id=0197406f-fbcd-7faf-9f2d-00628373084d&path=aHR0cHM6Ly93d3cuY29tZXQuY29tL29waWsvYXBpLw==.\n",
      "OPIK: Started logging traces to the \"Default Project\" project at https://www.comet.com/opik/api/v1/session/redirect/projects/?trace_id=01974070-02bb-779b-9425-4f4baaacbdc9&path=aHR0cHM6Ly93d3cuY29tZXQuY29tL29waWsvYXBpLw==.\n"
     ]
    },
    {
     "name": "stdout",
     "output_type": "stream",
     "text": [
      "Average Metric: 0.54 / 2 (27.0%):   2%|▎         | 1/40 [00:01<01:08,  1.76s/it]"
     ]
    },
    {
     "name": "stderr",
     "output_type": "stream",
     "text": [
      "OPIK: Started logging traces to the \"optimize-workshop-2025\" project at https://www.comet.com/opik/api/v1/session/redirect/projects/?trace_id=0197406f-fbcb-7e2e-aac3-e2c7011e7855&path=aHR0cHM6Ly93d3cuY29tZXQuY29tL29waWsvYXBpLw==.\n",
      "OPIK: Started logging traces to the \"Default Project\" project at https://www.comet.com/opik/api/v1/session/redirect/projects/?trace_id=01974070-02dd-702e-857d-99848634f960&path=aHR0cHM6Ly93d3cuY29tZXQuY29tL29waWsvYXBpLw==.\n"
     ]
    },
    {
     "name": "stdout",
     "output_type": "stream",
     "text": [
      "Average Metric: 1.42 / 3 (47.3%):   5%|▌         | 2/40 [00:01<01:06,  1.76s/it]"
     ]
    },
    {
     "name": "stderr",
     "output_type": "stream",
     "text": [
      "OPIK: Started logging traces to the \"optimize-workshop-2025\" project at https://www.comet.com/opik/api/v1/session/redirect/projects/?trace_id=0197406f-fbb5-7576-b8f5-2764788b11c4&path=aHR0cHM6Ly93d3cuY29tZXQuY29tL29waWsvYXBpLw==.\n",
      "OPIK: Started logging traces to the \"Default Project\" project at https://www.comet.com/opik/api/v1/session/redirect/projects/?trace_id=01974070-02e9-7773-8733-c6cd5fcd422c&path=aHR0cHM6Ly93d3cuY29tZXQuY29tL29waWsvYXBpLw==.\n"
     ]
    },
    {
     "name": "stdout",
     "output_type": "stream",
     "text": [
      "Average Metric: 1.94 / 4 (48.5%):   8%|▊         | 3/40 [00:01<01:05,  1.76s/it]"
     ]
    },
    {
     "name": "stderr",
     "output_type": "stream",
     "text": [
      "OPIK: Started logging traces to the \"optimize-workshop-2025\" project at https://www.comet.com/opik/api/v1/session/redirect/projects/?trace_id=0197406f-fbba-70ac-b37b-52f975cd9329&path=aHR0cHM6Ly93d3cuY29tZXQuY29tL29waWsvYXBpLw==.\n",
      "OPIK: Started logging traces to the \"Default Project\" project at https://www.comet.com/opik/api/v1/session/redirect/projects/?trace_id=01974070-0300-7efd-baba-6d979ab7fc20&path=aHR0cHM6Ly93d3cuY29tZXQuY29tL29waWsvYXBpLw==.\n"
     ]
    },
    {
     "name": "stdout",
     "output_type": "stream",
     "text": [
      "Average Metric: 2.19 / 5 (43.9%):  12%|█▎        | 5/40 [00:01<00:09,  3.50it/s]"
     ]
    },
    {
     "name": "stderr",
     "output_type": "stream",
     "text": [
      "OPIK: Started logging traces to the \"optimize-workshop-2025\" project at https://www.comet.com/opik/api/v1/session/redirect/projects/?trace_id=0197406f-fbaf-77fe-86e9-284dbefacf2b&path=aHR0cHM6Ly93d3cuY29tZXQuY29tL29waWsvYXBpLw==.\n",
      "OPIK: Started logging traces to the \"Default Project\" project at https://www.comet.com/opik/api/v1/session/redirect/projects/?trace_id=01974070-0347-7f4c-9fff-b55d770c6899&path=aHR0cHM6Ly93d3cuY29tZXQuY29tL29waWsvYXBpLw==.\n"
     ]
    },
    {
     "name": "stdout",
     "output_type": "stream",
     "text": [
      "Average Metric: 2.36 / 6 (39.3%):  12%|█▎        | 5/40 [00:01<00:09,  3.50it/s]"
     ]
    },
    {
     "name": "stderr",
     "output_type": "stream",
     "text": [
      "OPIK: Started logging traces to the \"optimize-workshop-2025\" project at https://www.comet.com/opik/api/v1/session/redirect/projects/?trace_id=0197406f-fbc9-75b4-bafa-4791eb9c3d9e&path=aHR0cHM6Ly93d3cuY29tZXQuY29tL29waWsvYXBpLw==.\n",
      "OPIK: Started logging traces to the \"Default Project\" project at https://www.comet.com/opik/api/v1/session/redirect/projects/?trace_id=01974070-03a3-7295-b1ff-477db81c34dd&path=aHR0cHM6Ly93d3cuY29tZXQuY29tL29waWsvYXBpLw==.\n"
     ]
    },
    {
     "name": "stdout",
     "output_type": "stream",
     "text": [
      "Average Metric: 2.67 / 7 (38.2%):  15%|█▌        | 6/40 [00:02<00:09,  3.50it/s]"
     ]
    },
    {
     "name": "stderr",
     "output_type": "stream",
     "text": [
      "OPIK: Started logging traces to the \"optimize-workshop-2025\" project at https://www.comet.com/opik/api/v1/session/redirect/projects/?trace_id=0197406f-fbb0-7d2e-ba0e-a5422e9aca33&path=aHR0cHM6Ly93d3cuY29tZXQuY29tL29waWsvYXBpLw==.\n",
      "OPIK: Started logging traces to the \"Default Project\" project at https://www.comet.com/opik/api/v1/session/redirect/projects/?trace_id=01974070-03d3-7a9a-afa5-9237130e9c78&path=aHR0cHM6Ly93d3cuY29tZXQuY29tL29waWsvYXBpLw==.\n"
     ]
    },
    {
     "name": "stdout",
     "output_type": "stream",
     "text": [
      "Average Metric: 2.97 / 8 (37.1%):  20%|██        | 8/40 [00:02<00:05,  5.47it/s]"
     ]
    },
    {
     "name": "stderr",
     "output_type": "stream",
     "text": [
      "OPIK: Started logging traces to the \"optimize-workshop-2025\" project at https://www.comet.com/opik/api/v1/session/redirect/projects/?trace_id=0197406f-fbbe-71c8-a1e6-c492322b79ba&path=aHR0cHM6Ly93d3cuY29tZXQuY29tL29waWsvYXBpLw==.\n",
      "OPIK: Started logging traces to the \"Default Project\" project at https://www.comet.com/opik/api/v1/session/redirect/projects/?trace_id=01974070-048b-7f0f-a6c6-5a2e43d3ffc5&path=aHR0cHM6Ly93d3cuY29tZXQuY29tL29waWsvYXBpLw==.\n"
     ]
    },
    {
     "name": "stdout",
     "output_type": "stream",
     "text": [
      "Average Metric: 3.24 / 9 (36.0%):  20%|██        | 8/40 [00:02<00:05,  5.47it/s]"
     ]
    },
    {
     "name": "stderr",
     "output_type": "stream",
     "text": [
      "OPIK: Started logging traces to the \"optimize-workshop-2025\" project at https://www.comet.com/opik/api/v1/session/redirect/projects/?trace_id=0197406f-fbc7-7540-abec-298d5ba4c3ae&path=aHR0cHM6Ly93d3cuY29tZXQuY29tL29waWsvYXBpLw==.\n",
      "OPIK: Started logging traces to the \"Default Project\" project at https://www.comet.com/opik/api/v1/session/redirect/projects/?trace_id=01974070-04b3-7ae3-a0fb-0a0e4bf9954d&path=aHR0cHM6Ly93d3cuY29tZXQuY29tL29waWsvYXBpLw==.\n"
     ]
    },
    {
     "name": "stdout",
     "output_type": "stream",
     "text": [
      "Average Metric: 3.50 / 10 (35.0%):  25%|██▌       | 10/40 [00:02<00:04,  6.22it/s]"
     ]
    },
    {
     "name": "stderr",
     "output_type": "stream",
     "text": [
      "OPIK: Started logging traces to the \"optimize-workshop-2025\" project at https://www.comet.com/opik/api/v1/session/redirect/projects/?trace_id=01974070-02df-7f1f-9d7c-2c931b996d06&path=aHR0cHM6Ly93d3cuY29tZXQuY29tL29waWsvYXBpLw==.\n",
      "OPIK: Started logging traces to the \"Default Project\" project at https://www.comet.com/opik/api/v1/session/redirect/projects/?trace_id=01974070-05a5-7883-bc57-1b5e2b3aaf46&path=aHR0cHM6Ly93d3cuY29tZXQuY29tL29waWsvYXBpLw==.\n"
     ]
    },
    {
     "name": "stdout",
     "output_type": "stream",
     "text": [
      "Average Metric: 4.09 / 11 (37.2%):  25%|██▌       | 10/40 [00:02<00:04,  6.22it/s]"
     ]
    },
    {
     "name": "stderr",
     "output_type": "stream",
     "text": [
      "OPIK: Started logging traces to the \"optimize-workshop-2025\" project at https://www.comet.com/opik/api/v1/session/redirect/projects/?trace_id=01974070-0349-7021-bebd-d4dc5c6a139d&path=aHR0cHM6Ly93d3cuY29tZXQuY29tL29waWsvYXBpLw==.\n",
      "OPIK: Started logging traces to the \"Default Project\" project at https://www.comet.com/opik/api/v1/session/redirect/projects/?trace_id=01974070-06c0-7b73-ada4-ad52d6b5a8f1&path=aHR0cHM6Ly93d3cuY29tZXQuY29tL29waWsvYXBpLw==.\n"
     ]
    },
    {
     "name": "stdout",
     "output_type": "stream",
     "text": [
      "Average Metric: 4.33 / 12 (36.1%):  30%|███       | 12/40 [00:02<00:05,  5.20it/s]"
     ]
    },
    {
     "name": "stderr",
     "output_type": "stream",
     "text": [
      "OPIK: Started logging traces to the \"optimize-workshop-2025\" project at https://www.comet.com/opik/api/v1/session/redirect/projects/?trace_id=0197406f-fbc1-703e-b1b4-bde606920fd7&path=aHR0cHM6Ly93d3cuY29tZXQuY29tL29waWsvYXBpLw==.\n",
      "OPIK: Started logging traces to the \"Default Project\" project at https://www.comet.com/opik/api/v1/session/redirect/projects/?trace_id=01974070-0705-76e4-b541-801a5072274a&path=aHR0cHM6Ly93d3cuY29tZXQuY29tL29waWsvYXBpLw==.\n"
     ]
    },
    {
     "name": "stdout",
     "output_type": "stream",
     "text": [
      "Average Metric: 4.38 / 13 (33.7%):  30%|███       | 12/40 [00:02<00:05,  5.20it/s]"
     ]
    },
    {
     "name": "stderr",
     "output_type": "stream",
     "text": [
      "OPIK: Started logging traces to the \"optimize-workshop-2025\" project at https://www.comet.com/opik/api/v1/session/redirect/projects/?trace_id=01974070-0302-73c4-8181-7d90924624a4&path=aHR0cHM6Ly93d3cuY29tZXQuY29tL29waWsvYXBpLw==.\n",
      "OPIK: Started logging traces to the \"Default Project\" project at https://www.comet.com/opik/api/v1/session/redirect/projects/?trace_id=01974070-071e-7ff5-85bd-19b3e5ff8ddb&path=aHR0cHM6Ly93d3cuY29tZXQuY29tL29waWsvYXBpLw==.\n"
     ]
    },
    {
     "name": "stdout",
     "output_type": "stream",
     "text": [
      "Average Metric: 5.38 / 14 (38.5%):  32%|███▎      | 13/40 [00:02<00:05,  5.20it/s]"
     ]
    },
    {
     "name": "stderr",
     "output_type": "stream",
     "text": [
      "OPIK: Started logging traces to the \"optimize-workshop-2025\" project at https://www.comet.com/opik/api/v1/session/redirect/projects/?trace_id=0197406f-fbbc-72ba-8627-94ab4d44e5fe&path=aHR0cHM6Ly93d3cuY29tZXQuY29tL29waWsvYXBpLw==.\n",
      "OPIK: Started logging traces to the \"Default Project\" project at https://www.comet.com/opik/api/v1/session/redirect/projects/?trace_id=01974070-0735-7acf-8016-ac2102d3ac0a&path=aHR0cHM6Ly93d3cuY29tZXQuY29tL29waWsvYXBpLw==.\n"
     ]
    },
    {
     "name": "stdout",
     "output_type": "stream",
     "text": [
      "Average Metric: 5.50 / 15 (36.6%):  38%|███▊      | 15/40 [00:02<00:03,  7.59it/s]"
     ]
    },
    {
     "name": "stderr",
     "output_type": "stream",
     "text": [
      "OPIK: Started logging traces to the \"optimize-workshop-2025\" project at https://www.comet.com/opik/api/v1/session/redirect/projects/?trace_id=01974070-02eb-7c91-a183-0817bdb1f78f&path=aHR0cHM6Ly93d3cuY29tZXQuY29tL29waWsvYXBpLw==.\n",
      "OPIK: Started logging traces to the \"Default Project\" project at https://www.comet.com/opik/api/v1/session/redirect/projects/?trace_id=01974070-0790-758e-acdf-f1df45ae3f46&path=aHR0cHM6Ly93d3cuY29tZXQuY29tL29waWsvYXBpLw==.\n"
     ]
    },
    {
     "name": "stdout",
     "output_type": "stream",
     "text": [
      "Average Metric: 5.87 / 16 (36.7%):  38%|███▊      | 15/40 [00:03<00:03,  7.59it/s]"
     ]
    },
    {
     "name": "stderr",
     "output_type": "stream",
     "text": [
      "OPIK: Started logging traces to the \"optimize-workshop-2025\" project at https://www.comet.com/opik/api/v1/session/redirect/projects/?trace_id=01974070-02bd-7858-bbb0-58809471c792&path=aHR0cHM6Ly93d3cuY29tZXQuY29tL29waWsvYXBpLw==.\n",
      "OPIK: Started logging traces to the \"Default Project\" project at https://www.comet.com/opik/api/v1/session/redirect/projects/?trace_id=01974070-07d3-7497-ab78-98747030c83c&path=aHR0cHM6Ly93d3cuY29tZXQuY29tL29waWsvYXBpLw==.\n"
     ]
    },
    {
     "name": "stdout",
     "output_type": "stream",
     "text": [
      "Average Metric: 6.05 / 17 (35.6%):  42%|████▎     | 17/40 [00:03<00:02,  8.58it/s]"
     ]
    },
    {
     "name": "stderr",
     "output_type": "stream",
     "text": [
      "OPIK: Started logging traces to the \"optimize-workshop-2025\" project at https://www.comet.com/opik/api/v1/session/redirect/projects/?trace_id=0197406f-fbb9-708c-82ea-810a0d38225d&path=aHR0cHM6Ly93d3cuY29tZXQuY29tL29waWsvYXBpLw==.\n",
      "OPIK: Started logging traces to the \"Default Project\" project at https://www.comet.com/opik/api/v1/session/redirect/projects/?trace_id=01974070-07e5-7f68-be45-74e50a8e0cbc&path=aHR0cHM6Ly93d3cuY29tZXQuY29tL29waWsvYXBpLw==.\n"
     ]
    },
    {
     "name": "stdout",
     "output_type": "stream",
     "text": [
      "Average Metric: 6.28 / 18 (34.9%):  42%|████▎     | 17/40 [00:03<00:02,  8.58it/s]"
     ]
    },
    {
     "name": "stderr",
     "output_type": "stream",
     "text": [
      "OPIK: Started logging traces to the \"optimize-workshop-2025\" project at https://www.comet.com/opik/api/v1/session/redirect/projects/?trace_id=01974070-0294-769b-bcb9-28e977913797&path=aHR0cHM6Ly93d3cuY29tZXQuY29tL29waWsvYXBpLw==.\n",
      "OPIK: Started logging traces to the \"Default Project\" project at https://www.comet.com/opik/api/v1/session/redirect/projects/?trace_id=01974070-08ba-7a20-956e-83f71b2938b5&path=aHR0cHM6Ly93d3cuY29tZXQuY29tL29waWsvYXBpLw==.\n"
     ]
    },
    {
     "name": "stdout",
     "output_type": "stream",
     "text": [
      "Average Metric: 6.41 / 19 (33.8%):  48%|████▊     | 19/40 [00:03<00:02,  8.59it/s]"
     ]
    },
    {
     "name": "stderr",
     "output_type": "stream",
     "text": [
      "OPIK: Started logging traces to the \"optimize-workshop-2025\" project at https://www.comet.com/opik/api/v1/session/redirect/projects/?trace_id=0197406f-fbb6-7d53-a2f0-f0ed6d868fb4&path=aHR0cHM6Ly93d3cuY29tZXQuY29tL29waWsvYXBpLw==.\n",
      "OPIK: Started logging traces to the \"Default Project\" project at https://www.comet.com/opik/api/v1/session/redirect/projects/?trace_id=01974070-0917-7fe3-a531-184a2cdcf75e&path=aHR0cHM6Ly93d3cuY29tZXQuY29tL29waWsvYXBpLw==.\n"
     ]
    },
    {
     "name": "stdout",
     "output_type": "stream",
     "text": [
      "Average Metric: 6.67 / 20 (33.3%):  48%|████▊     | 19/40 [00:03<00:02,  8.59it/s]"
     ]
    },
    {
     "name": "stderr",
     "output_type": "stream",
     "text": [
      "OPIK: Started logging traces to the \"optimize-workshop-2025\" project at https://www.comet.com/opik/api/v1/session/redirect/projects/?trace_id=0197406f-fbb3-7c8b-b9e6-b1a269fe9973&path=aHR0cHM6Ly93d3cuY29tZXQuY29tL29waWsvYXBpLw==.\n",
      "OPIK: Started logging traces to the \"Default Project\" project at https://www.comet.com/opik/api/v1/session/redirect/projects/?trace_id=01974070-09ef-740c-9c69-ba0a080b3380&path=aHR0cHM6Ly93d3cuY29tZXQuY29tL29waWsvYXBpLw==.\n"
     ]
    },
    {
     "name": "stdout",
     "output_type": "stream",
     "text": [
      "Average Metric: 7.29 / 21 (34.7%):  52%|█████▎    | 21/40 [00:03<00:02,  7.84it/s]"
     ]
    },
    {
     "name": "stderr",
     "output_type": "stream",
     "text": [
      "OPIK: Started logging traces to the \"optimize-workshop-2025\" project at https://www.comet.com/opik/api/v1/session/redirect/projects/?trace_id=01974070-0737-7ff2-ba0d-48bd03f63801&path=aHR0cHM6Ly93d3cuY29tZXQuY29tL29waWsvYXBpLw==.\n",
      "OPIK: Started logging traces to the \"Default Project\" project at https://www.comet.com/opik/api/v1/session/redirect/projects/?trace_id=01974070-0a16-74d2-b018-059eb22a6085&path=aHR0cHM6Ly93d3cuY29tZXQuY29tL29waWsvYXBpLw==.\n"
     ]
    },
    {
     "name": "stdout",
     "output_type": "stream",
     "text": [
      "Average Metric: 8.23 / 22 (37.4%):  52%|█████▎    | 21/40 [00:03<00:02,  7.84it/s]"
     ]
    },
    {
     "name": "stderr",
     "output_type": "stream",
     "text": [
      "OPIK: Started logging traces to the \"optimize-workshop-2025\" project at https://www.comet.com/opik/api/v1/session/redirect/projects/?trace_id=01974070-05a7-7981-a454-e2c04ee8167c&path=aHR0cHM6Ly93d3cuY29tZXQuY29tL29waWsvYXBpLw==.\n",
      "OPIK: Started logging traces to the \"Default Project\" project at https://www.comet.com/opik/api/v1/session/redirect/projects/?trace_id=01974070-0a91-7251-9a91-ac534e021b9f&path=aHR0cHM6Ly93d3cuY29tZXQuY29tL29waWsvYXBpLw==.\n",
      "OPIK: Started logging traces to the \"Default Project\" project at https://www.comet.com/opik/api/v1/session/redirect/projects/?trace_id=01974070-0a93-79f9-b8be-bc2c57b0d39b&path=aHR0cHM6Ly93d3cuY29tZXQuY29tL29waWsvYXBpLw==.\n"
     ]
    },
    {
     "name": "stdout",
     "output_type": "stream",
     "text": [
      "Average Metric: 9.64 / 25 (38.6%):  60%|██████    | 24/40 [00:03<00:01,  8.78it/s]"
     ]
    },
    {
     "name": "stderr",
     "output_type": "stream",
     "text": [
      "OPIK: Started logging traces to the \"optimize-workshop-2025\" project at https://www.comet.com/opik/api/v1/session/redirect/projects/?trace_id=01974070-06c2-745d-a343-dad53618fc1b&path=aHR0cHM6Ly93d3cuY29tZXQuY29tL29waWsvYXBpLw==.\n",
      "OPIK: Started logging traces to the \"Default Project\" project at https://www.comet.com/opik/api/v1/session/redirect/projects/?trace_id=01974070-0acc-73bb-821c-333fd80c418c&path=aHR0cHM6Ly93d3cuY29tZXQuY29tL29waWsvYXBpLw==.\n"
     ]
    },
    {
     "name": "stdout",
     "output_type": "stream",
     "text": [
      "Average Metric: 9.77 / 26 (37.6%):  62%|██████▎   | 25/40 [00:03<00:01,  8.78it/s]"
     ]
    },
    {
     "name": "stderr",
     "output_type": "stream",
     "text": [
      "OPIK: Started logging traces to the \"optimize-workshop-2025\" project at https://www.comet.com/opik/api/v1/session/redirect/projects/?trace_id=01974070-048d-7fcf-acb1-c279e772cc60&path=aHR0cHM6Ly93d3cuY29tZXQuY29tL29waWsvYXBpLw==.\n",
      "OPIK: Started logging traces to the \"Default Project\" project at https://www.comet.com/opik/api/v1/session/redirect/projects/?trace_id=01974070-0b26-7cfe-b28e-3dbbf392234a&path=aHR0cHM6Ly93d3cuY29tZXQuY29tL29waWsvYXBpLw==.\n"
     ]
    },
    {
     "name": "stdout",
     "output_type": "stream",
     "text": [
      "Average Metric: 9.91 / 27 (36.7%):  68%|██████▊   | 27/40 [00:03<00:01, 12.63it/s]"
     ]
    },
    {
     "name": "stderr",
     "output_type": "stream",
     "text": [
      "OPIK: Started logging traces to the \"optimize-workshop-2025\" project at https://www.comet.com/opik/api/v1/session/redirect/projects/?trace_id=01974070-03a5-7180-a2c3-74285be0d154&path=aHR0cHM6Ly93d3cuY29tZXQuY29tL29waWsvYXBpLw==.\n",
      "OPIK: Started logging traces to the \"Default Project\" project at https://www.comet.com/opik/api/v1/session/redirect/projects/?trace_id=01974070-0bb4-78b1-808e-a6227eb48689&path=aHR0cHM6Ly93d3cuY29tZXQuY29tL29waWsvYXBpLw==.\n"
     ]
    },
    {
     "name": "stdout",
     "output_type": "stream",
     "text": [
      "Average Metric: 10.10 / 28 (36.1%):  68%|██████▊   | 27/40 [00:04<00:01, 12.63it/s]"
     ]
    },
    {
     "name": "stderr",
     "output_type": "stream",
     "text": [
      "OPIK: Started logging traces to the \"optimize-workshop-2025\" project at https://www.comet.com/opik/api/v1/session/redirect/projects/?trace_id=0197406f-fbc4-7d08-9f32-160a9a603992&path=aHR0cHM6Ly93d3cuY29tZXQuY29tL29waWsvYXBpLw==.\n",
      "OPIK: Started logging traces to the \"Default Project\" project at https://www.comet.com/opik/api/v1/session/redirect/projects/?trace_id=01974070-0d78-7cfc-ad2f-3d95b6882324&path=aHR0cHM6Ly93d3cuY29tZXQuY29tL29waWsvYXBpLw==.\n"
     ]
    },
    {
     "name": "stdout",
     "output_type": "stream",
     "text": [
      "Average Metric: 10.27 / 29 (35.4%):  72%|███████▎  | 29/40 [00:04<00:01,  7.56it/s]"
     ]
    },
    {
     "name": "stderr",
     "output_type": "stream",
     "text": [
      "OPIK: Started logging traces to the \"optimize-workshop-2025\" project at https://www.comet.com/opik/api/v1/session/redirect/projects/?trace_id=01974070-03d5-79e1-b52e-a5508a7f022e&path=aHR0cHM6Ly93d3cuY29tZXQuY29tL29waWsvYXBpLw==.\n",
      "OPIK: Started logging traces to the \"Default Project\" project at https://www.comet.com/opik/api/v1/session/redirect/projects/?trace_id=01974070-0dca-7a26-bc01-157d1a1cf769&path=aHR0cHM6Ly93d3cuY29tZXQuY29tL29waWsvYXBpLw==.\n"
     ]
    },
    {
     "name": "stdout",
     "output_type": "stream",
     "text": [
      "Average Metric: 11.27 / 30 (37.6%):  72%|███████▎  | 29/40 [00:04<00:01,  7.56it/s]"
     ]
    },
    {
     "name": "stderr",
     "output_type": "stream",
     "text": [
      "OPIK: Started logging traces to the \"optimize-workshop-2025\" project at https://www.comet.com/opik/api/v1/session/redirect/projects/?trace_id=01974070-07d5-7a5b-aae8-e519072ad4a6&path=aHR0cHM6Ly93d3cuY29tZXQuY29tL29waWsvYXBpLw==.\n",
      "OPIK: Started logging traces to the \"Default Project\" project at https://www.comet.com/opik/api/v1/session/redirect/projects/?trace_id=01974070-0e0c-7d91-9ccc-17b12a6061c4&path=aHR0cHM6Ly93d3cuY29tZXQuY29tL29waWsvYXBpLw==.\n"
     ]
    },
    {
     "name": "stdout",
     "output_type": "stream",
     "text": [
      "Average Metric: 11.99 / 31 (38.7%):  78%|███████▊  | 31/40 [00:04<00:01,  8.54it/s]"
     ]
    },
    {
     "name": "stderr",
     "output_type": "stream",
     "text": [
      "OPIK: Started logging traces to the \"optimize-workshop-2025\" project at https://www.comet.com/opik/api/v1/session/redirect/projects/?trace_id=01974070-0919-7031-83b1-832f9b547325&path=aHR0cHM6Ly93d3cuY29tZXQuY29tL29waWsvYXBpLw==.\n",
      "OPIK: Started logging traces to the \"Default Project\" project at https://www.comet.com/opik/api/v1/session/redirect/projects/?trace_id=01974070-0e2e-7301-9c00-a6658bee67cc&path=aHR0cHM6Ly93d3cuY29tZXQuY29tL29waWsvYXBpLw==.\n"
     ]
    },
    {
     "name": "stdout",
     "output_type": "stream",
     "text": [
      "Average Metric: 12.86 / 32 (40.2%):  78%|███████▊  | 31/40 [00:04<00:01,  8.54it/s]"
     ]
    },
    {
     "name": "stderr",
     "output_type": "stream",
     "text": [
      "OPIK: Started logging traces to the \"optimize-workshop-2025\" project at https://www.comet.com/opik/api/v1/session/redirect/projects/?trace_id=01974070-08bc-790a-a164-ccc2cd18ad87&path=aHR0cHM6Ly93d3cuY29tZXQuY29tL29waWsvYXBpLw==.\n",
      "OPIK: Started logging traces to the \"Default Project\" project at https://www.comet.com/opik/api/v1/session/redirect/projects/?trace_id=01974070-0e45-7446-8987-3dbe71219671&path=aHR0cHM6Ly93d3cuY29tZXQuY29tL29waWsvYXBpLw==.\n"
     ]
    },
    {
     "name": "stdout",
     "output_type": "stream",
     "text": [
      "Average Metric: 12.96 / 33 (39.3%):  80%|████████  | 32/40 [00:04<00:00,  8.54it/s]"
     ]
    },
    {
     "name": "stderr",
     "output_type": "stream",
     "text": [
      "OPIK: Started logging traces to the \"optimize-workshop-2025\" project at https://www.comet.com/opik/api/v1/session/redirect/projects/?trace_id=01974070-09f1-7de0-9535-04b9bef67161&path=aHR0cHM6Ly93d3cuY29tZXQuY29tL29waWsvYXBpLw==.\n",
      "OPIK: Started logging traces to the \"Default Project\" project at https://www.comet.com/opik/api/v1/session/redirect/projects/?trace_id=01974070-0e62-7262-8e0c-edbdf8a6b366&path=aHR0cHM6Ly93d3cuY29tZXQuY29tL29waWsvYXBpLw==.\n"
     ]
    },
    {
     "name": "stdout",
     "output_type": "stream",
     "text": [
      "Average Metric: 13.31 / 34 (39.1%):  82%|████████▎ | 33/40 [00:04<00:00,  8.54it/s]"
     ]
    },
    {
     "name": "stderr",
     "output_type": "stream",
     "text": [
      "OPIK: Started logging traces to the \"optimize-workshop-2025\" project at https://www.comet.com/opik/api/v1/session/redirect/projects/?trace_id=01974070-07e7-7200-976a-11dd9e157c60&path=aHR0cHM6Ly93d3cuY29tZXQuY29tL29waWsvYXBpLw==.\n",
      "OPIK: Started logging traces to the \"Default Project\" project at https://www.comet.com/opik/api/v1/session/redirect/projects/?trace_id=01974070-0eaa-7edf-9601-72ee6dec2948&path=aHR0cHM6Ly93d3cuY29tZXQuY29tL29waWsvYXBpLw==.\n"
     ]
    },
    {
     "name": "stdout",
     "output_type": "stream",
     "text": [
      "Average Metric: 13.48 / 35 (38.5%):  88%|████████▊ | 35/40 [00:04<00:00, 11.89it/s]"
     ]
    },
    {
     "name": "stderr",
     "output_type": "stream",
     "text": [
      "OPIK: Started logging traces to the \"optimize-workshop-2025\" project at https://www.comet.com/opik/api/v1/session/redirect/projects/?trace_id=01974070-0a99-76e0-83e2-3b9fae95440d&path=aHR0cHM6Ly93d3cuY29tZXQuY29tL29waWsvYXBpLw==.\n",
      "OPIK: Started logging traces to the \"Default Project\" project at https://www.comet.com/opik/api/v1/session/redirect/projects/?trace_id=01974070-0ee2-7f7b-bbed-0a97c1a1f521&path=aHR0cHM6Ly93d3cuY29tZXQuY29tL29waWsvYXBpLw==.\n"
     ]
    },
    {
     "name": "stdout",
     "output_type": "stream",
     "text": [
      "Average Metric: 13.59 / 36 (37.7%):  88%|████████▊ | 35/40 [00:04<00:00, 11.89it/s]"
     ]
    },
    {
     "name": "stderr",
     "output_type": "stream",
     "text": [
      "OPIK: Started logging traces to the \"optimize-workshop-2025\" project at https://www.comet.com/opik/api/v1/session/redirect/projects/?trace_id=01974070-0a95-71e1-b3d0-a83c869a50d0&path=aHR0cHM6Ly93d3cuY29tZXQuY29tL29waWsvYXBpLw==.\n",
      "OPIK: Started logging traces to the \"Default Project\" project at https://www.comet.com/opik/api/v1/session/redirect/projects/?trace_id=01974070-0fa4-7937-985a-f629dd16cede&path=aHR0cHM6Ly93d3cuY29tZXQuY29tL29waWsvYXBpLw==.\n"
     ]
    },
    {
     "name": "stdout",
     "output_type": "stream",
     "text": [
      "Average Metric: 13.72 / 37 (37.1%):  92%|█████████▎| 37/40 [00:05<00:00, 10.67it/s]"
     ]
    },
    {
     "name": "stderr",
     "output_type": "stream",
     "text": [
      "OPIK: Started logging traces to the \"optimize-workshop-2025\" project at https://www.comet.com/opik/api/v1/session/redirect/projects/?trace_id=01974070-0792-75bf-8629-5709dfcea085&path=aHR0cHM6Ly93d3cuY29tZXQuY29tL29waWsvYXBpLw==.\n",
      "OPIK: Started logging traces to the \"Default Project\" project at https://www.comet.com/opik/api/v1/session/redirect/projects/?trace_id=01974070-10cd-7471-80b8-8a739e74cbcf&path=aHR0cHM6Ly93d3cuY29tZXQuY29tL29waWsvYXBpLw==.\n"
     ]
    },
    {
     "name": "stdout",
     "output_type": "stream",
     "text": [
      "Average Metric: 14.05 / 38 (37.0%):  92%|█████████▎| 37/40 [00:05<00:00, 10.67it/s]"
     ]
    },
    {
     "name": "stderr",
     "output_type": "stream",
     "text": [
      "OPIK: Started logging traces to the \"optimize-workshop-2025\" project at https://www.comet.com/opik/api/v1/session/redirect/projects/?trace_id=01974070-0720-7193-bb4d-f0bb106ebe07&path=aHR0cHM6Ly93d3cuY29tZXQuY29tL29waWsvYXBpLw==.\n",
      "OPIK: Started logging traces to the \"Default Project\" project at https://www.comet.com/opik/api/v1/session/redirect/projects/?trace_id=01974070-123a-7a7b-b2a4-2789bcefac45&path=aHR0cHM6Ly93d3cuY29tZXQuY29tL29waWsvYXBpLw==.\n"
     ]
    },
    {
     "name": "stdout",
     "output_type": "stream",
     "text": [
      "Average Metric: 14.48 / 39 (37.1%):  98%|█████████▊| 39/40 [00:05<00:00,  6.53it/s]"
     ]
    },
    {
     "name": "stderr",
     "output_type": "stream",
     "text": [
      "OPIK: Started logging traces to the \"optimize-workshop-2025\" project at https://www.comet.com/opik/api/v1/session/redirect/projects/?trace_id=01974070-0a18-7d3c-a7b3-cceb50992114&path=aHR0cHM6Ly93d3cuY29tZXQuY29tL29waWsvYXBpLw==.\n",
      "OPIK: Started logging traces to the \"Default Project\" project at https://www.comet.com/opik/api/v1/session/redirect/projects/?trace_id=01974070-12a9-7724-ab8b-e70df792bc34&path=aHR0cHM6Ly93d3cuY29tZXQuY29tL29waWsvYXBpLw==.\n"
     ]
    },
    {
     "name": "stdout",
     "output_type": "stream",
     "text": [
      "Average Metric: 15.12 / 40 (37.8%): 100%|██████████| 40/40 [00:05<00:00,  6.80it/s]\n",
      "\u001b[92mBest full score so far!\u001b[0m Score: 37.8\n",
      "Score: 37.8 with parameters ['Predictor 0: Instruction 2', 'Predictor 0: Few-Shot Set 4'].\n",
      "Scores so far: [0.20173393120947108, 20.21, 20.21, 20.17, 23.09, 19.85, 20.17, 37.8]\n",
      "Best score so far: 37.8\n",
      "=======================\n",
      "\n",
      "\n",
      "Returning best identified program with score 37.8!\n"
     ]
    },
    {
     "data": {
      "text/html": [
       "<pre style=\"white-space:pre;overflow-x:auto;line-height:normal;font-family:Menlo,'DejaVu Sans Mono',consolas,'Courier New',monospace\"><span style=\"color: #7fbfbf; text-decoration-color: #7fbfbf\">[2025-06-05 15:12:56] </span><span style=\"color: #800000; text-decoration-color: #800000; font-weight: bold\">ERROR   </span> Mipro optimization failed: <span style=\"color: #008000; text-decoration-color: #008000\">'function'</span> object has no attribute <a href=\"file:///Users/jacquesverre/Documents/code/opik/sdks/opik_optimizer/src/opik_optimizer/mipro_optimizer/mipro_optimizer.py\" target=\"_blank\"><span style=\"color: #7f7f7f; text-decoration-color: #7f7f7f\">mipro_optimizer.py</span></a><span style=\"color: #7f7f7f; text-decoration-color: #7f7f7f\">:</span><a href=\"file:///Users/jacquesverre/Documents/code/opik/sdks/opik_optimizer/src/opik_optimizer/mipro_optimizer/mipro_optimizer.py#264\" target=\"_blank\"><span style=\"color: #7f7f7f; text-decoration-color: #7f7f7f\">264</span></a>\n",
       "<span style=\"color: #7fbfbf; text-decoration-color: #7fbfbf\">                      </span>         <span style=\"color: #008000; text-decoration-color: #008000\">'name'</span>                                                        <span style=\"color: #7f7f7f; text-decoration-color: #7f7f7f\">                      </span>\n",
       "<span style=\"color: #7fbfbf; text-decoration-color: #7fbfbf\">                      </span>         <span style=\"color: #800000; text-decoration-color: #800000\">╭──────────── </span><span style=\"color: #800000; text-decoration-color: #800000; font-weight: bold\">Traceback </span><span style=\"color: #bf7f7f; text-decoration-color: #bf7f7f; font-weight: bold\">(most recent call last)</span><span style=\"color: #800000; text-decoration-color: #800000\"> ────────────╮</span> <span style=\"color: #7f7f7f; text-decoration-color: #7f7f7f\">                      </span>\n",
       "<span style=\"color: #7fbfbf; text-decoration-color: #7fbfbf\">                      </span>         <span style=\"color: #800000; text-decoration-color: #800000\">│</span> <span style=\"color: #bfbf7f; text-decoration-color: #bfbf7f\">/Users/jacquesverre/Documents/code/opik/sdks/opik_optimiz</span> <span style=\"color: #800000; text-decoration-color: #800000\">│</span> <span style=\"color: #7f7f7f; text-decoration-color: #7f7f7f\">                      </span>\n",
       "<span style=\"color: #7fbfbf; text-decoration-color: #7fbfbf\">                      </span>         <span style=\"color: #800000; text-decoration-color: #800000\">│</span> <span style=\"color: #bfbf7f; text-decoration-color: #bfbf7f\">er/src/opik_optimizer/mipro_optimizer/</span><span style=\"color: #808000; text-decoration-color: #808000; font-weight: bold\">mipro_optimizer.py</span>: <span style=\"color: #800000; text-decoration-color: #800000\">│</span> <span style=\"color: #7f7f7f; text-decoration-color: #7f7f7f\">                      </span>\n",
       "<span style=\"color: #7fbfbf; text-decoration-color: #7fbfbf\">                      </span>         <span style=\"color: #800000; text-decoration-color: #800000\">│</span> <span style=\"color: #0000ff; text-decoration-color: #0000ff\">248</span> in <span style=\"color: #00ff00; text-decoration-color: #00ff00\">optimize_prompt</span>                                    <span style=\"color: #800000; text-decoration-color: #800000\">│</span> <span style=\"color: #7f7f7f; text-decoration-color: #7f7f7f\">                      </span>\n",
       "<span style=\"color: #7fbfbf; text-decoration-color: #7fbfbf\">                      </span>         <span style=\"color: #800000; text-decoration-color: #800000\">│</span>                                                           <span style=\"color: #800000; text-decoration-color: #800000\">│</span> <span style=\"color: #7f7f7f; text-decoration-color: #7f7f7f\">                      </span>\n",
       "<span style=\"color: #7fbfbf; text-decoration-color: #7fbfbf\">                      </span>         <span style=\"color: #800000; text-decoration-color: #800000\">│</span>   <span style=\"color: #7f7f7f; text-decoration-color: #7f7f7f\">245 </span><span style=\"color: #7f7f7f; text-decoration-color: #7f7f7f\">│   │   │   </span>logger.warning(<span style=\"color: #808000; text-decoration-color: #808000\">\"Continuing without Opik</span> <span style=\"color: #800000; text-decoration-color: #800000\">│</span> <span style=\"color: #7f7f7f; text-decoration-color: #7f7f7f\">                      </span>\n",
       "<span style=\"color: #7fbfbf; text-decoration-color: #7fbfbf\">                      </span>         <span style=\"color: #800000; text-decoration-color: #800000\">│</span>   <span style=\"color: #7f7f7f; text-decoration-color: #7f7f7f\">246 </span><span style=\"color: #7f7f7f; text-decoration-color: #7f7f7f\">│   │   </span>                                            <span style=\"color: #800000; text-decoration-color: #800000\">│</span> <span style=\"color: #7f7f7f; text-decoration-color: #7f7f7f\">                      </span>\n",
       "<span style=\"color: #7fbfbf; text-decoration-color: #7fbfbf\">                      </span>         <span style=\"color: #800000; text-decoration-color: #800000\">│</span>   <span style=\"color: #7f7f7f; text-decoration-color: #7f7f7f\">247 </span><span style=\"color: #7f7f7f; text-decoration-color: #7f7f7f\">│   │   </span><span style=\"color: #0000ff; text-decoration-color: #0000ff\">try</span>:                                        <span style=\"color: #800000; text-decoration-color: #800000\">│</span> <span style=\"color: #7f7f7f; text-decoration-color: #7f7f7f\">                      </span>\n",
       "<span style=\"color: #7fbfbf; text-decoration-color: #7fbfbf\">                      </span>         <span style=\"color: #800000; text-decoration-color: #800000\">│</span> <span style=\"color: #800000; text-decoration-color: #800000\">❱ </span>248 <span style=\"color: #7f7f7f; text-decoration-color: #7f7f7f\">│   │   │   </span>result = <span style=\"color: #00ffff; text-decoration-color: #00ffff\">self</span>._optimize_prompt(         <span style=\"color: #800000; text-decoration-color: #800000\">│</span> <span style=\"color: #7f7f7f; text-decoration-color: #7f7f7f\">                      </span>\n",
       "<span style=\"color: #7fbfbf; text-decoration-color: #7fbfbf\">                      </span>         <span style=\"color: #800000; text-decoration-color: #800000\">│</span>   <span style=\"color: #7f7f7f; text-decoration-color: #7f7f7f\">249 </span><span style=\"color: #7f7f7f; text-decoration-color: #7f7f7f\">│   │   │   │   </span>dataset=dataset,                    <span style=\"color: #800000; text-decoration-color: #800000\">│</span> <span style=\"color: #7f7f7f; text-decoration-color: #7f7f7f\">                      </span>\n",
       "<span style=\"color: #7fbfbf; text-decoration-color: #7fbfbf\">                      </span>         <span style=\"color: #800000; text-decoration-color: #800000\">│</span>   <span style=\"color: #7f7f7f; text-decoration-color: #7f7f7f\">250 </span><span style=\"color: #7f7f7f; text-decoration-color: #7f7f7f\">│   │   │   │   </span>metric=metric,                      <span style=\"color: #800000; text-decoration-color: #800000\">│</span> <span style=\"color: #7f7f7f; text-decoration-color: #7f7f7f\">                      </span>\n",
       "<span style=\"color: #7fbfbf; text-decoration-color: #7fbfbf\">                      </span>         <span style=\"color: #800000; text-decoration-color: #800000\">│</span>   <span style=\"color: #7f7f7f; text-decoration-color: #7f7f7f\">251 </span><span style=\"color: #7f7f7f; text-decoration-color: #7f7f7f\">│   │   │   │   </span>task_config=task_config,            <span style=\"color: #800000; text-decoration-color: #800000\">│</span> <span style=\"color: #7f7f7f; text-decoration-color: #7f7f7f\">                      </span>\n",
       "<span style=\"color: #7fbfbf; text-decoration-color: #7fbfbf\">                      </span>         <span style=\"color: #800000; text-decoration-color: #800000\">│</span>                                                           <span style=\"color: #800000; text-decoration-color: #800000\">│</span> <span style=\"color: #7f7f7f; text-decoration-color: #7f7f7f\">                      </span>\n",
       "<span style=\"color: #7fbfbf; text-decoration-color: #7fbfbf\">                      </span>         <span style=\"color: #800000; text-decoration-color: #800000\">│</span> <span style=\"color: #bfbf7f; text-decoration-color: #bfbf7f\">/Users/jacquesverre/Documents/code/opik/sdks/opik_optimiz</span> <span style=\"color: #800000; text-decoration-color: #800000\">│</span> <span style=\"color: #7f7f7f; text-decoration-color: #7f7f7f\">                      </span>\n",
       "<span style=\"color: #7fbfbf; text-decoration-color: #7fbfbf\">                      </span>         <span style=\"color: #800000; text-decoration-color: #800000\">│</span> <span style=\"color: #bfbf7f; text-decoration-color: #bfbf7f\">er/src/opik_optimizer/mipro_optimizer/</span><span style=\"color: #808000; text-decoration-color: #808000; font-weight: bold\">mipro_optimizer.py</span>: <span style=\"color: #800000; text-decoration-color: #800000\">│</span> <span style=\"color: #7f7f7f; text-decoration-color: #7f7f7f\">                      </span>\n",
       "<span style=\"color: #7fbfbf; text-decoration-color: #7fbfbf\">                      </span>         <span style=\"color: #800000; text-decoration-color: #800000\">│</span> <span style=\"color: #0000ff; text-decoration-color: #0000ff\">296</span> in <span style=\"color: #00ff00; text-decoration-color: #00ff00\">_optimize_prompt</span>                                   <span style=\"color: #800000; text-decoration-color: #800000\">│</span> <span style=\"color: #7f7f7f; text-decoration-color: #7f7f7f\">                      </span>\n",
       "<span style=\"color: #7fbfbf; text-decoration-color: #7fbfbf\">                      </span>         <span style=\"color: #800000; text-decoration-color: #800000\">│</span>                                                           <span style=\"color: #800000; text-decoration-color: #800000\">│</span> <span style=\"color: #7f7f7f; text-decoration-color: #7f7f7f\">                      </span>\n",
       "<span style=\"color: #7fbfbf; text-decoration-color: #7fbfbf\">                      </span>         <span style=\"color: #800000; text-decoration-color: #800000\">│</span>   <span style=\"color: #7f7f7f; text-decoration-color: #7f7f7f\">293 </span><span style=\"color: #7f7f7f; text-decoration-color: #7f7f7f\">│   │   │   </span>**kwargs,                               <span style=\"color: #800000; text-decoration-color: #800000\">│</span> <span style=\"color: #7f7f7f; text-decoration-color: #7f7f7f\">                      </span>\n",
       "<span style=\"color: #7fbfbf; text-decoration-color: #7fbfbf\">                      </span>         <span style=\"color: #800000; text-decoration-color: #800000\">│</span>   <span style=\"color: #7f7f7f; text-decoration-color: #7f7f7f\">294 </span><span style=\"color: #7f7f7f; text-decoration-color: #7f7f7f\">│   │   </span>)                                           <span style=\"color: #800000; text-decoration-color: #800000\">│</span> <span style=\"color: #7f7f7f; text-decoration-color: #7f7f7f\">                      </span>\n",
       "<span style=\"color: #7fbfbf; text-decoration-color: #7fbfbf\">                      </span>         <span style=\"color: #800000; text-decoration-color: #800000\">│</span>   <span style=\"color: #7f7f7f; text-decoration-color: #7f7f7f\">295 </span><span style=\"color: #7f7f7f; text-decoration-color: #7f7f7f\">│   │   </span>logger.info(<span style=\"color: #808000; text-decoration-color: #808000\">\"Starting MIPRO compilation...\"</span> <span style=\"color: #800000; text-decoration-color: #800000\">│</span> <span style=\"color: #7f7f7f; text-decoration-color: #7f7f7f\">                      </span>\n",
       "<span style=\"color: #7fbfbf; text-decoration-color: #7fbfbf\">                      </span>         <span style=\"color: #800000; text-decoration-color: #800000\">│</span> <span style=\"color: #800000; text-decoration-color: #800000\">❱ </span>296 <span style=\"color: #7f7f7f; text-decoration-color: #7f7f7f\">│   │   </span>result = <span style=\"color: #00ffff; text-decoration-color: #00ffff; font-weight: bold; text-decoration: underline\">self</span><span style=\"font-weight: bold; text-decoration: underline\">.continue_optimize_prompt()</span>    <span style=\"color: #800000; text-decoration-color: #800000\">│</span> <span style=\"color: #7f7f7f; text-decoration-color: #7f7f7f\">                      </span>\n",
       "<span style=\"color: #7fbfbf; text-decoration-color: #7fbfbf\">                      </span>         <span style=\"color: #800000; text-decoration-color: #800000\">│</span>   <span style=\"color: #7f7f7f; text-decoration-color: #7f7f7f\">297 </span><span style=\"color: #7f7f7f; text-decoration-color: #7f7f7f\">│   │   </span>logger.info(<span style=\"color: #808000; text-decoration-color: #808000\">\"MIPRO optimization complete.\"</span>) <span style=\"color: #800000; text-decoration-color: #800000\">│</span> <span style=\"color: #7f7f7f; text-decoration-color: #7f7f7f\">                      </span>\n",
       "<span style=\"color: #7fbfbf; text-decoration-color: #7fbfbf\">                      </span>         <span style=\"color: #800000; text-decoration-color: #800000\">│</span>   <span style=\"color: #7f7f7f; text-decoration-color: #7f7f7f\">298 </span><span style=\"color: #7f7f7f; text-decoration-color: #7f7f7f\">│   │   </span><span style=\"color: #0000ff; text-decoration-color: #0000ff\">return</span> result                               <span style=\"color: #800000; text-decoration-color: #800000\">│</span> <span style=\"color: #7f7f7f; text-decoration-color: #7f7f7f\">                      </span>\n",
       "<span style=\"color: #7fbfbf; text-decoration-color: #7fbfbf\">                      </span>         <span style=\"color: #800000; text-decoration-color: #800000\">│</span>   <span style=\"color: #7f7f7f; text-decoration-color: #7f7f7f\">299 </span>                                                    <span style=\"color: #800000; text-decoration-color: #800000\">│</span> <span style=\"color: #7f7f7f; text-decoration-color: #7f7f7f\">                      </span>\n",
       "<span style=\"color: #7fbfbf; text-decoration-color: #7fbfbf\">                      </span>         <span style=\"color: #800000; text-decoration-color: #800000\">│</span>                                                           <span style=\"color: #800000; text-decoration-color: #800000\">│</span> <span style=\"color: #7f7f7f; text-decoration-color: #7f7f7f\">                      </span>\n",
       "<span style=\"color: #7fbfbf; text-decoration-color: #7fbfbf\">                      </span>         <span style=\"color: #800000; text-decoration-color: #800000\">│</span> <span style=\"color: #bfbf7f; text-decoration-color: #bfbf7f\">/Users/jacquesverre/Documents/code/opik/sdks/opik_optimiz</span> <span style=\"color: #800000; text-decoration-color: #800000\">│</span> <span style=\"color: #7f7f7f; text-decoration-color: #7f7f7f\">                      </span>\n",
       "<span style=\"color: #7fbfbf; text-decoration-color: #7fbfbf\">                      </span>         <span style=\"color: #800000; text-decoration-color: #800000\">│</span> <span style=\"color: #bfbf7f; text-decoration-color: #bfbf7f\">er/src/opik_optimizer/mipro_optimizer/</span><span style=\"color: #808000; text-decoration-color: #808000; font-weight: bold\">mipro_optimizer.py</span>: <span style=\"color: #800000; text-decoration-color: #800000\">│</span> <span style=\"color: #7f7f7f; text-decoration-color: #7f7f7f\">                      </span>\n",
       "<span style=\"color: #7fbfbf; text-decoration-color: #7fbfbf\">                      </span>         <span style=\"color: #800000; text-decoration-color: #800000\">│</span> <span style=\"color: #0000ff; text-decoration-color: #0000ff\">455</span> in <span style=\"color: #00ff00; text-decoration-color: #00ff00\">continue_optimize_prompt</span>                           <span style=\"color: #800000; text-decoration-color: #800000\">│</span> <span style=\"color: #7f7f7f; text-decoration-color: #7f7f7f\">                      </span>\n",
       "<span style=\"color: #7fbfbf; text-decoration-color: #7fbfbf\">                      </span>         <span style=\"color: #800000; text-decoration-color: #800000\">│</span>                                                           <span style=\"color: #800000; text-decoration-color: #800000\">│</span> <span style=\"color: #7f7f7f; text-decoration-color: #7f7f7f\">                      </span>\n",
       "<span style=\"color: #7fbfbf; text-decoration-color: #7fbfbf\">                      </span>         <span style=\"color: #800000; text-decoration-color: #800000\">│</span>   <span style=\"color: #7f7f7f; text-decoration-color: #7f7f7f\">452 </span><span style=\"color: #7f7f7f; text-decoration-color: #7f7f7f\">│   │   │   </span>}                                       <span style=\"color: #800000; text-decoration-color: #800000\">│</span> <span style=\"color: #7f7f7f; text-decoration-color: #7f7f7f\">                      </span>\n",
       "<span style=\"color: #7fbfbf; text-decoration-color: #7fbfbf\">                      </span>         <span style=\"color: #800000; text-decoration-color: #800000\">│</span>   <span style=\"color: #7f7f7f; text-decoration-color: #7f7f7f\">453 </span><span style=\"color: #7f7f7f; text-decoration-color: #7f7f7f\">│   │   │   </span>                                        <span style=\"color: #800000; text-decoration-color: #800000\">│</span> <span style=\"color: #7f7f7f; text-decoration-color: #7f7f7f\">                      </span>\n",
       "<span style=\"color: #7fbfbf; text-decoration-color: #7fbfbf\">                      </span>         <span style=\"color: #800000; text-decoration-color: #800000\">│</span>   <span style=\"color: #7f7f7f; text-decoration-color: #7f7f7f\">454 </span><span style=\"color: #7f7f7f; text-decoration-color: #7f7f7f\">│   │   │   </span>current_score = candidate_data.get(<span style=\"color: #808000; text-decoration-color: #808000\">\"sco</span> <span style=\"color: #800000; text-decoration-color: #800000\">│</span> <span style=\"color: #7f7f7f; text-decoration-color: #7f7f7f\">                      </span>\n",
       "<span style=\"color: #7fbfbf; text-decoration-color: #7fbfbf\">                      </span>         <span style=\"color: #800000; text-decoration-color: #800000\">│</span> <span style=\"color: #800000; text-decoration-color: #800000\">❱ </span>455 <span style=\"color: #7f7f7f; text-decoration-color: #7f7f7f\">│   │   │   </span>metric_name_for_history = <span style=\"color: #00ffff; text-decoration-color: #00ffff; font-weight: bold; text-decoration: underline\">self</span><span style=\"font-weight: bold; text-decoration: underline\">.opik_met</span> <span style=\"color: #800000; text-decoration-color: #800000\">│</span> <span style=\"color: #7f7f7f; text-decoration-color: #7f7f7f\">                      </span>\n",
       "<span style=\"color: #7fbfbf; text-decoration-color: #7fbfbf\">                      </span>         <span style=\"color: #800000; text-decoration-color: #800000\">│</span>       <span style=\"color: #808000; text-decoration-color: #808000\">'opik_metric'</span>) <span style=\"color: #ff00ff; text-decoration-color: #ff00ff\">and</span> <span style=\"color: #00ffff; text-decoration-color: #00ffff\">self</span>.opik_metric <span style=\"color: #0000ff; text-decoration-color: #0000ff\">else</span> <span style=\"color: #808000; text-decoration-color: #808000\">\"unknown_m</span> <span style=\"color: #800000; text-decoration-color: #800000\">│</span> <span style=\"color: #7f7f7f; text-decoration-color: #7f7f7f\">                      </span>\n",
       "<span style=\"color: #7fbfbf; text-decoration-color: #7fbfbf\">                      </span>         <span style=\"color: #800000; text-decoration-color: #800000\">│</span>   <span style=\"color: #7f7f7f; text-decoration-color: #7f7f7f\">456 </span><span style=\"color: #7f7f7f; text-decoration-color: #7f7f7f\">│   │   │   </span>                                        <span style=\"color: #800000; text-decoration-color: #800000\">│</span> <span style=\"color: #7f7f7f; text-decoration-color: #7f7f7f\">                      </span>\n",
       "<span style=\"color: #7fbfbf; text-decoration-color: #7fbfbf\">                      </span>         <span style=\"color: #800000; text-decoration-color: #800000\">│</span>   <span style=\"color: #7f7f7f; text-decoration-color: #7f7f7f\">457 </span><span style=\"color: #7f7f7f; text-decoration-color: #7f7f7f\">│   │   │   </span><span style=\"color: #7f7f7f; text-decoration-color: #7f7f7f\"># Unscale if it's a known 0-1 metric th</span> <span style=\"color: #800000; text-decoration-color: #800000\">│</span> <span style=\"color: #7f7f7f; text-decoration-color: #7f7f7f\">                      </span>\n",
       "<span style=\"color: #7fbfbf; text-decoration-color: #7fbfbf\">                      </span>         <span style=\"color: #800000; text-decoration-color: #800000\">│</span>   <span style=\"color: #7f7f7f; text-decoration-color: #7f7f7f\">458 </span><span style=\"color: #7f7f7f; text-decoration-color: #7f7f7f\">│   │   │   </span><span style=\"color: #7f7f7f; text-decoration-color: #7f7f7f\"># For now, specifically targeting Leven</span> <span style=\"color: #800000; text-decoration-color: #800000\">│</span> <span style=\"color: #7f7f7f; text-decoration-color: #7f7f7f\">                      </span>\n",
       "<span style=\"color: #7fbfbf; text-decoration-color: #7fbfbf\">                      </span>         <span style=\"color: #800000; text-decoration-color: #800000\">╰───────────────────────────────────────────────────────────╯</span> <span style=\"color: #7f7f7f; text-decoration-color: #7f7f7f\">                      </span>\n",
       "<span style=\"color: #7fbfbf; text-decoration-color: #7fbfbf\">                      </span>         <span style=\"color: #ff0000; text-decoration-color: #ff0000; font-weight: bold\">AttributeError: </span><span style=\"color: #008000; text-decoration-color: #008000\">'function'</span> object has no attribute <span style=\"color: #008000; text-decoration-color: #008000\">'name'</span>     <span style=\"color: #7f7f7f; text-decoration-color: #7f7f7f\">                      </span>\n",
       "</pre>\n"
      ],
      "text/plain": [
       "\u001b[2;36m[2025-06-05 15:12:56]\u001b[0m\u001b[2;36m \u001b[0m\u001b[1;31mERROR   \u001b[0m Mipro optimization failed: \u001b[32m'function'\u001b[0m object has no attribute \u001b]8;id=8859;file:///Users/jacquesverre/Documents/code/opik/sdks/opik_optimizer/src/opik_optimizer/mipro_optimizer/mipro_optimizer.py\u001b\\\u001b[2mmipro_optimizer.py\u001b[0m\u001b]8;;\u001b\\\u001b[2m:\u001b[0m\u001b]8;id=598371;file:///Users/jacquesverre/Documents/code/opik/sdks/opik_optimizer/src/opik_optimizer/mipro_optimizer/mipro_optimizer.py#264\u001b\\\u001b[2m264\u001b[0m\u001b]8;;\u001b\\\n",
       "\u001b[2;36m                      \u001b[0m         \u001b[32m'name'\u001b[0m                                                        \u001b[2m                      \u001b[0m\n",
       "\u001b[2;36m                      \u001b[0m         \u001b[31m╭─\u001b[0m\u001b[31m───────────\u001b[0m\u001b[31m \u001b[0m\u001b[1;31mTraceback \u001b[0m\u001b[1;2;31m(most recent call last)\u001b[0m\u001b[31m \u001b[0m\u001b[31m───────────\u001b[0m\u001b[31m─╮\u001b[0m \u001b[2m                      \u001b[0m\n",
       "\u001b[2;36m                      \u001b[0m         \u001b[31m│\u001b[0m \u001b[2;33m/Users/jacquesverre/Documents/code/opik/sdks/opik_optimiz\u001b[0m \u001b[31m│\u001b[0m \u001b[2m                      \u001b[0m\n",
       "\u001b[2;36m                      \u001b[0m         \u001b[31m│\u001b[0m \u001b[2;33mer/src/opik_optimizer/mipro_optimizer/\u001b[0m\u001b[1;33mmipro_optimizer.py\u001b[0m: \u001b[31m│\u001b[0m \u001b[2m                      \u001b[0m\n",
       "\u001b[2;36m                      \u001b[0m         \u001b[31m│\u001b[0m \u001b[94m248\u001b[0m in \u001b[92moptimize_prompt\u001b[0m                                    \u001b[31m│\u001b[0m \u001b[2m                      \u001b[0m\n",
       "\u001b[2;36m                      \u001b[0m         \u001b[31m│\u001b[0m                                                           \u001b[31m│\u001b[0m \u001b[2m                      \u001b[0m\n",
       "\u001b[2;36m                      \u001b[0m         \u001b[31m│\u001b[0m   \u001b[2m245 \u001b[0m\u001b[2m│   │   │   \u001b[0mlogger.warning(\u001b[33m\"\u001b[0m\u001b[33mContinuing without Opik\u001b[0m \u001b[31m│\u001b[0m \u001b[2m                      \u001b[0m\n",
       "\u001b[2;36m                      \u001b[0m         \u001b[31m│\u001b[0m   \u001b[2m246 \u001b[0m\u001b[2m│   │   \u001b[0m                                            \u001b[31m│\u001b[0m \u001b[2m                      \u001b[0m\n",
       "\u001b[2;36m                      \u001b[0m         \u001b[31m│\u001b[0m   \u001b[2m247 \u001b[0m\u001b[2m│   │   \u001b[0m\u001b[94mtry\u001b[0m:                                        \u001b[31m│\u001b[0m \u001b[2m                      \u001b[0m\n",
       "\u001b[2;36m                      \u001b[0m         \u001b[31m│\u001b[0m \u001b[31m❱ \u001b[0m248 \u001b[2m│   │   │   \u001b[0mresult = \u001b[96mself\u001b[0m._optimize_prompt(         \u001b[31m│\u001b[0m \u001b[2m                      \u001b[0m\n",
       "\u001b[2;36m                      \u001b[0m         \u001b[31m│\u001b[0m   \u001b[2m249 \u001b[0m\u001b[2m│   │   │   │   \u001b[0mdataset=dataset,                    \u001b[31m│\u001b[0m \u001b[2m                      \u001b[0m\n",
       "\u001b[2;36m                      \u001b[0m         \u001b[31m│\u001b[0m   \u001b[2m250 \u001b[0m\u001b[2m│   │   │   │   \u001b[0mmetric=metric,                      \u001b[31m│\u001b[0m \u001b[2m                      \u001b[0m\n",
       "\u001b[2;36m                      \u001b[0m         \u001b[31m│\u001b[0m   \u001b[2m251 \u001b[0m\u001b[2m│   │   │   │   \u001b[0mtask_config=task_config,            \u001b[31m│\u001b[0m \u001b[2m                      \u001b[0m\n",
       "\u001b[2;36m                      \u001b[0m         \u001b[31m│\u001b[0m                                                           \u001b[31m│\u001b[0m \u001b[2m                      \u001b[0m\n",
       "\u001b[2;36m                      \u001b[0m         \u001b[31m│\u001b[0m \u001b[2;33m/Users/jacquesverre/Documents/code/opik/sdks/opik_optimiz\u001b[0m \u001b[31m│\u001b[0m \u001b[2m                      \u001b[0m\n",
       "\u001b[2;36m                      \u001b[0m         \u001b[31m│\u001b[0m \u001b[2;33mer/src/opik_optimizer/mipro_optimizer/\u001b[0m\u001b[1;33mmipro_optimizer.py\u001b[0m: \u001b[31m│\u001b[0m \u001b[2m                      \u001b[0m\n",
       "\u001b[2;36m                      \u001b[0m         \u001b[31m│\u001b[0m \u001b[94m296\u001b[0m in \u001b[92m_optimize_prompt\u001b[0m                                   \u001b[31m│\u001b[0m \u001b[2m                      \u001b[0m\n",
       "\u001b[2;36m                      \u001b[0m         \u001b[31m│\u001b[0m                                                           \u001b[31m│\u001b[0m \u001b[2m                      \u001b[0m\n",
       "\u001b[2;36m                      \u001b[0m         \u001b[31m│\u001b[0m   \u001b[2m293 \u001b[0m\u001b[2m│   │   │   \u001b[0m**kwargs,                               \u001b[31m│\u001b[0m \u001b[2m                      \u001b[0m\n",
       "\u001b[2;36m                      \u001b[0m         \u001b[31m│\u001b[0m   \u001b[2m294 \u001b[0m\u001b[2m│   │   \u001b[0m)                                           \u001b[31m│\u001b[0m \u001b[2m                      \u001b[0m\n",
       "\u001b[2;36m                      \u001b[0m         \u001b[31m│\u001b[0m   \u001b[2m295 \u001b[0m\u001b[2m│   │   \u001b[0mlogger.info(\u001b[33m\"\u001b[0m\u001b[33mStarting MIPRO compilation...\u001b[0m\u001b[33m\"\u001b[0m \u001b[31m│\u001b[0m \u001b[2m                      \u001b[0m\n",
       "\u001b[2;36m                      \u001b[0m         \u001b[31m│\u001b[0m \u001b[31m❱ \u001b[0m296 \u001b[2m│   │   \u001b[0mresult = \u001b[1;4;96mself\u001b[0m\u001b[1;4m.continue_optimize_prompt()\u001b[0m    \u001b[31m│\u001b[0m \u001b[2m                      \u001b[0m\n",
       "\u001b[2;36m                      \u001b[0m         \u001b[31m│\u001b[0m   \u001b[2m297 \u001b[0m\u001b[2m│   │   \u001b[0mlogger.info(\u001b[33m\"\u001b[0m\u001b[33mMIPRO optimization complete.\u001b[0m\u001b[33m\"\u001b[0m) \u001b[31m│\u001b[0m \u001b[2m                      \u001b[0m\n",
       "\u001b[2;36m                      \u001b[0m         \u001b[31m│\u001b[0m   \u001b[2m298 \u001b[0m\u001b[2m│   │   \u001b[0m\u001b[94mreturn\u001b[0m result                               \u001b[31m│\u001b[0m \u001b[2m                      \u001b[0m\n",
       "\u001b[2;36m                      \u001b[0m         \u001b[31m│\u001b[0m   \u001b[2m299 \u001b[0m                                                    \u001b[31m│\u001b[0m \u001b[2m                      \u001b[0m\n",
       "\u001b[2;36m                      \u001b[0m         \u001b[31m│\u001b[0m                                                           \u001b[31m│\u001b[0m \u001b[2m                      \u001b[0m\n",
       "\u001b[2;36m                      \u001b[0m         \u001b[31m│\u001b[0m \u001b[2;33m/Users/jacquesverre/Documents/code/opik/sdks/opik_optimiz\u001b[0m \u001b[31m│\u001b[0m \u001b[2m                      \u001b[0m\n",
       "\u001b[2;36m                      \u001b[0m         \u001b[31m│\u001b[0m \u001b[2;33mer/src/opik_optimizer/mipro_optimizer/\u001b[0m\u001b[1;33mmipro_optimizer.py\u001b[0m: \u001b[31m│\u001b[0m \u001b[2m                      \u001b[0m\n",
       "\u001b[2;36m                      \u001b[0m         \u001b[31m│\u001b[0m \u001b[94m455\u001b[0m in \u001b[92mcontinue_optimize_prompt\u001b[0m                           \u001b[31m│\u001b[0m \u001b[2m                      \u001b[0m\n",
       "\u001b[2;36m                      \u001b[0m         \u001b[31m│\u001b[0m                                                           \u001b[31m│\u001b[0m \u001b[2m                      \u001b[0m\n",
       "\u001b[2;36m                      \u001b[0m         \u001b[31m│\u001b[0m   \u001b[2m452 \u001b[0m\u001b[2m│   │   │   \u001b[0m}                                       \u001b[31m│\u001b[0m \u001b[2m                      \u001b[0m\n",
       "\u001b[2;36m                      \u001b[0m         \u001b[31m│\u001b[0m   \u001b[2m453 \u001b[0m\u001b[2m│   │   │   \u001b[0m                                        \u001b[31m│\u001b[0m \u001b[2m                      \u001b[0m\n",
       "\u001b[2;36m                      \u001b[0m         \u001b[31m│\u001b[0m   \u001b[2m454 \u001b[0m\u001b[2m│   │   │   \u001b[0mcurrent_score = candidate_data.get(\u001b[33m\"\u001b[0m\u001b[33msco\u001b[0m \u001b[31m│\u001b[0m \u001b[2m                      \u001b[0m\n",
       "\u001b[2;36m                      \u001b[0m         \u001b[31m│\u001b[0m \u001b[31m❱ \u001b[0m455 \u001b[2m│   │   │   \u001b[0mmetric_name_for_history = \u001b[1;4;96mself\u001b[0m\u001b[1;4m.opik_met\u001b[0m \u001b[31m│\u001b[0m \u001b[2m                      \u001b[0m\n",
       "\u001b[2;36m                      \u001b[0m         \u001b[31m│\u001b[0m       \u001b[33m'\u001b[0m\u001b[33mopik_metric\u001b[0m\u001b[33m'\u001b[0m) \u001b[95mand\u001b[0m \u001b[96mself\u001b[0m.opik_metric \u001b[94melse\u001b[0m \u001b[33m\"\u001b[0m\u001b[33munknown_m\u001b[0m \u001b[31m│\u001b[0m \u001b[2m                      \u001b[0m\n",
       "\u001b[2;36m                      \u001b[0m         \u001b[31m│\u001b[0m   \u001b[2m456 \u001b[0m\u001b[2m│   │   │   \u001b[0m                                        \u001b[31m│\u001b[0m \u001b[2m                      \u001b[0m\n",
       "\u001b[2;36m                      \u001b[0m         \u001b[31m│\u001b[0m   \u001b[2m457 \u001b[0m\u001b[2m│   │   │   \u001b[0m\u001b[2m# Unscale if it's a known 0-1 metric th\u001b[0m \u001b[31m│\u001b[0m \u001b[2m                      \u001b[0m\n",
       "\u001b[2;36m                      \u001b[0m         \u001b[31m│\u001b[0m   \u001b[2m458 \u001b[0m\u001b[2m│   │   │   \u001b[0m\u001b[2m# For now, specifically targeting Leven\u001b[0m \u001b[31m│\u001b[0m \u001b[2m                      \u001b[0m\n",
       "\u001b[2;36m                      \u001b[0m         \u001b[31m╰───────────────────────────────────────────────────────────╯\u001b[0m \u001b[2m                      \u001b[0m\n",
       "\u001b[2;36m                      \u001b[0m         \u001b[1;91mAttributeError: \u001b[0m\u001b[32m'function'\u001b[0m object has no attribute \u001b[32m'name'\u001b[0m     \u001b[2m                      \u001b[0m\n"
      ]
     },
     "metadata": {},
     "output_type": "display_data"
    },
    {
     "ename": "AttributeError",
     "evalue": "'function' object has no attribute 'name'",
     "output_type": "error",
     "traceback": [
      "\u001b[0;31m---------------------------------------------------------------------------\u001b[0m",
      "\u001b[0;31mAttributeError\u001b[0m                            Traceback (most recent call last)",
      "Cell \u001b[0;32mIn[24], line 1\u001b[0m\n\u001b[0;32m----> 1\u001b[0m result3 \u001b[38;5;241m=\u001b[39m \u001b[43moptimizer\u001b[49m\u001b[38;5;241;43m.\u001b[39;49m\u001b[43moptimize_prompt\u001b[49m\u001b[43m(\u001b[49m\n\u001b[1;32m      2\u001b[0m \u001b[43m    \u001b[49m\u001b[43mdataset\u001b[49m\u001b[38;5;241;43m=\u001b[39;49m\u001b[43mopik_dataset\u001b[49m\u001b[43m,\u001b[49m\n\u001b[1;32m      3\u001b[0m \u001b[43m    \u001b[49m\u001b[43mmetric\u001b[49m\u001b[38;5;241;43m=\u001b[39;49m\u001b[43mlevenshtein_ratio\u001b[49m\u001b[43m,\u001b[49m\n\u001b[1;32m      4\u001b[0m \u001b[43m    \u001b[49m\u001b[43mtask_config\u001b[49m\u001b[38;5;241;43m=\u001b[39;49m\u001b[43mtask_config\u001b[49m\u001b[43m,\u001b[49m\n\u001b[1;32m      5\u001b[0m \u001b[43m    \u001b[49m\u001b[43mn_samples\u001b[49m\u001b[38;5;241;43m=\u001b[39;49m\u001b[38;5;241;43m50\u001b[39;49m\u001b[43m,\u001b[49m\n\u001b[1;32m      6\u001b[0m \u001b[43m    \u001b[49m\u001b[43mauto\u001b[49m\u001b[38;5;241;43m=\u001b[39;49m\u001b[38;5;124;43m\"\u001b[39;49m\u001b[38;5;124;43mlight\u001b[39;49m\u001b[38;5;124;43m\"\u001b[39;49m\u001b[43m,\u001b[49m\n\u001b[1;32m      7\u001b[0m \u001b[43m)\u001b[49m\n",
      "File \u001b[0;32m~/Documents/code/opik/sdks/opik_optimizer/src/opik_optimizer/mipro_optimizer/mipro_optimizer.py:267\u001b[0m, in \u001b[0;36mMiproOptimizer.optimize_prompt\u001b[0;34m(self, dataset, metric, task_config, num_candidates, experiment_config, num_trials, n_samples, auto, **kwargs)\u001b[0m\n\u001b[1;32m    265\u001b[0m \u001b[38;5;28;01mif\u001b[39;00m optimization:\n\u001b[1;32m    266\u001b[0m     \u001b[38;5;28mself\u001b[39m\u001b[38;5;241m.\u001b[39mupdate_optimization(optimization, status\u001b[38;5;241m=\u001b[39m\u001b[38;5;124m\"\u001b[39m\u001b[38;5;124mcancelled\u001b[39m\u001b[38;5;124m\"\u001b[39m)\n\u001b[0;32m--> 267\u001b[0m \u001b[38;5;28;01mraise\u001b[39;00m e\n",
      "File \u001b[0;32m~/Documents/code/opik/sdks/opik_optimizer/src/opik_optimizer/mipro_optimizer/mipro_optimizer.py:248\u001b[0m, in \u001b[0;36mMiproOptimizer.optimize_prompt\u001b[0;34m(self, dataset, metric, task_config, num_candidates, experiment_config, num_trials, n_samples, auto, **kwargs)\u001b[0m\n\u001b[1;32m    245\u001b[0m     logger\u001b[38;5;241m.\u001b[39mwarning(\u001b[38;5;124m\"\u001b[39m\u001b[38;5;124mContinuing without Opik optimization tracking.\u001b[39m\u001b[38;5;124m\"\u001b[39m)\n\u001b[1;32m    247\u001b[0m \u001b[38;5;28;01mtry\u001b[39;00m:\n\u001b[0;32m--> 248\u001b[0m     result \u001b[38;5;241m=\u001b[39m \u001b[38;5;28;43mself\u001b[39;49m\u001b[38;5;241;43m.\u001b[39;49m\u001b[43m_optimize_prompt\u001b[49m\u001b[43m(\u001b[49m\n\u001b[1;32m    249\u001b[0m \u001b[43m        \u001b[49m\u001b[43mdataset\u001b[49m\u001b[38;5;241;43m=\u001b[39;49m\u001b[43mdataset\u001b[49m\u001b[43m,\u001b[49m\n\u001b[1;32m    250\u001b[0m \u001b[43m        \u001b[49m\u001b[43mmetric\u001b[49m\u001b[38;5;241;43m=\u001b[39;49m\u001b[43mmetric\u001b[49m\u001b[43m,\u001b[49m\n\u001b[1;32m    251\u001b[0m \u001b[43m        \u001b[49m\u001b[43mtask_config\u001b[49m\u001b[38;5;241;43m=\u001b[39;49m\u001b[43mtask_config\u001b[49m\u001b[43m,\u001b[49m\n\u001b[1;32m    252\u001b[0m \u001b[43m        \u001b[49m\u001b[43mnum_candidates\u001b[49m\u001b[38;5;241;43m=\u001b[39;49m\u001b[43mnum_candidates\u001b[49m\u001b[43m,\u001b[49m\n\u001b[1;32m    253\u001b[0m \u001b[43m        \u001b[49m\u001b[43mexperiment_config\u001b[49m\u001b[38;5;241;43m=\u001b[39;49m\u001b[43mexperiment_config\u001b[49m\u001b[43m,\u001b[49m\n\u001b[1;32m    254\u001b[0m \u001b[43m        \u001b[49m\u001b[43moptimization_id\u001b[49m\u001b[38;5;241;43m=\u001b[39;49m\u001b[43moptimization\u001b[49m\u001b[38;5;241;43m.\u001b[39;49m\u001b[43mid\u001b[49m\u001b[43m \u001b[49m\u001b[38;5;28;43;01mif\u001b[39;49;00m\u001b[43m \u001b[49m\u001b[43moptimization\u001b[49m\u001b[43m \u001b[49m\u001b[38;5;129;43;01mis\u001b[39;49;00m\u001b[43m \u001b[49m\u001b[38;5;129;43;01mnot\u001b[39;49;00m\u001b[43m \u001b[49m\u001b[38;5;28;43;01mNone\u001b[39;49;00m\u001b[43m \u001b[49m\u001b[38;5;28;43;01melse\u001b[39;49;00m\u001b[43m \u001b[49m\u001b[38;5;28;43;01mNone\u001b[39;49;00m\u001b[43m,\u001b[49m\n\u001b[1;32m    255\u001b[0m \u001b[43m        \u001b[49m\u001b[43mnum_trials\u001b[49m\u001b[38;5;241;43m=\u001b[39;49m\u001b[43mnum_trials\u001b[49m\u001b[43m,\u001b[49m\n\u001b[1;32m    256\u001b[0m \u001b[43m        \u001b[49m\u001b[43mn_samples\u001b[49m\u001b[38;5;241;43m=\u001b[39;49m\u001b[43mn_samples\u001b[49m\u001b[43m,\u001b[49m\n\u001b[1;32m    257\u001b[0m \u001b[43m        \u001b[49m\u001b[43mauto\u001b[49m\u001b[38;5;241;43m=\u001b[39;49m\u001b[43mauto\u001b[49m\u001b[43m,\u001b[49m\n\u001b[1;32m    258\u001b[0m \u001b[43m        \u001b[49m\u001b[38;5;241;43m*\u001b[39;49m\u001b[38;5;241;43m*\u001b[39;49m\u001b[43mkwargs\u001b[49m\u001b[43m,\u001b[49m\n\u001b[1;32m    259\u001b[0m \u001b[43m    \u001b[49m\u001b[43m)\u001b[49m\n\u001b[1;32m    260\u001b[0m     \u001b[38;5;28;01mif\u001b[39;00m optimization:\n\u001b[1;32m    261\u001b[0m         \u001b[38;5;28mself\u001b[39m\u001b[38;5;241m.\u001b[39mupdate_optimization(optimization, status\u001b[38;5;241m=\u001b[39m\u001b[38;5;124m\"\u001b[39m\u001b[38;5;124mcompleted\u001b[39m\u001b[38;5;124m\"\u001b[39m)\n",
      "File \u001b[0;32m~/Documents/code/opik/sdks/opik_optimizer/src/opik_optimizer/mipro_optimizer/mipro_optimizer.py:296\u001b[0m, in \u001b[0;36mMiproOptimizer._optimize_prompt\u001b[0;34m(self, dataset, metric, task_config, num_candidates, experiment_config, optimization_id, num_trials, n_samples, auto, **kwargs)\u001b[0m\n\u001b[1;32m    283\u001b[0m \u001b[38;5;28mself\u001b[39m\u001b[38;5;241m.\u001b[39mprepare_optimize_prompt(\n\u001b[1;32m    284\u001b[0m     dataset\u001b[38;5;241m=\u001b[39mdataset,\n\u001b[1;32m    285\u001b[0m     metric\u001b[38;5;241m=\u001b[39mmetric,\n\u001b[0;32m   (...)\u001b[0m\n\u001b[1;32m    293\u001b[0m     \u001b[38;5;241m*\u001b[39m\u001b[38;5;241m*\u001b[39mkwargs,\n\u001b[1;32m    294\u001b[0m )\n\u001b[1;32m    295\u001b[0m logger\u001b[38;5;241m.\u001b[39minfo(\u001b[38;5;124m\"\u001b[39m\u001b[38;5;124mStarting MIPRO compilation...\u001b[39m\u001b[38;5;124m\"\u001b[39m)\n\u001b[0;32m--> 296\u001b[0m result \u001b[38;5;241m=\u001b[39m \u001b[38;5;28;43mself\u001b[39;49m\u001b[38;5;241;43m.\u001b[39;49m\u001b[43mcontinue_optimize_prompt\u001b[49m\u001b[43m(\u001b[49m\u001b[43m)\u001b[49m\n\u001b[1;32m    297\u001b[0m logger\u001b[38;5;241m.\u001b[39minfo(\u001b[38;5;124m\"\u001b[39m\u001b[38;5;124mMIPRO optimization complete.\u001b[39m\u001b[38;5;124m\"\u001b[39m)\n\u001b[1;32m    298\u001b[0m \u001b[38;5;28;01mreturn\u001b[39;00m result\n",
      "File \u001b[0;32m~/Documents/code/opik/sdks/opik_optimizer/src/opik_optimizer/mipro_optimizer/mipro_optimizer.py:455\u001b[0m, in \u001b[0;36mMiproOptimizer.continue_optimize_prompt\u001b[0;34m(self)\u001b[0m\n\u001b[1;32m    439\u001b[0m iter_detail \u001b[38;5;241m=\u001b[39m {\n\u001b[1;32m    440\u001b[0m     \u001b[38;5;124m\"\u001b[39m\u001b[38;5;124miteration\u001b[39m\u001b[38;5;124m\"\u001b[39m: i \u001b[38;5;241m+\u001b[39m \u001b[38;5;241m1\u001b[39m,\n\u001b[1;32m    441\u001b[0m     \u001b[38;5;66;03m# \"round_number\": current_round_number, # Remove round_number\u001b[39;00m\n\u001b[0;32m   (...)\u001b[0m\n\u001b[1;32m    451\u001b[0m     \u001b[38;5;124m\"\u001b[39m\u001b[38;5;124mduration_seconds\u001b[39m\u001b[38;5;124m\"\u001b[39m: \u001b[38;5;28;01mNone\u001b[39;00m, \u001b[38;5;66;03m# TODO: add duration_seconds\u001b[39;00m\n\u001b[1;32m    452\u001b[0m }\n\u001b[1;32m    454\u001b[0m current_score \u001b[38;5;241m=\u001b[39m candidate_data\u001b[38;5;241m.\u001b[39mget(\u001b[38;5;124m\"\u001b[39m\u001b[38;5;124mscore\u001b[39m\u001b[38;5;124m\"\u001b[39m)\n\u001b[0;32m--> 455\u001b[0m metric_name_for_history \u001b[38;5;241m=\u001b[39m \u001b[38;5;28;43mself\u001b[39;49m\u001b[38;5;241;43m.\u001b[39;49m\u001b[43mopik_metric\u001b[49m\u001b[38;5;241;43m.\u001b[39;49m\u001b[43mname\u001b[49m \u001b[38;5;28;01mif\u001b[39;00m \u001b[38;5;28mhasattr\u001b[39m(\u001b[38;5;28mself\u001b[39m, \u001b[38;5;124m'\u001b[39m\u001b[38;5;124mopik_metric\u001b[39m\u001b[38;5;124m'\u001b[39m) \u001b[38;5;129;01mand\u001b[39;00m \u001b[38;5;28mself\u001b[39m\u001b[38;5;241m.\u001b[39mopik_metric \u001b[38;5;28;01melse\u001b[39;00m \u001b[38;5;124m\"\u001b[39m\u001b[38;5;124munknown_metric\u001b[39m\u001b[38;5;124m\"\u001b[39m\n\u001b[1;32m    457\u001b[0m \u001b[38;5;66;03m# Unscale if it's a known 0-1 metric that MIPRO might scale to 0-100\u001b[39;00m\n\u001b[1;32m    458\u001b[0m \u001b[38;5;66;03m# For now, specifically targeting Levenshtein-like metrics\u001b[39;00m\n\u001b[1;32m    459\u001b[0m \u001b[38;5;28;01mif\u001b[39;00m \u001b[38;5;28misinstance\u001b[39m(current_score, (\u001b[38;5;28mfloat\u001b[39m, \u001b[38;5;28mint\u001b[39m)) \u001b[38;5;129;01mand\u001b[39;00m \\\n\u001b[1;32m    460\u001b[0m    (\u001b[38;5;124m\"\u001b[39m\u001b[38;5;124mlevenshtein\u001b[39m\u001b[38;5;124m\"\u001b[39m \u001b[38;5;129;01min\u001b[39;00m metric_name_for_history\u001b[38;5;241m.\u001b[39mlower() \u001b[38;5;129;01mor\u001b[39;00m \u001b[38;5;124m\"\u001b[39m\u001b[38;5;124msimilarity\u001b[39m\u001b[38;5;124m\"\u001b[39m \u001b[38;5;129;01min\u001b[39;00m metric_name_for_history\u001b[38;5;241m.\u001b[39mlower()):\n\u001b[1;32m    461\u001b[0m     \u001b[38;5;66;03m# Assuming scores like 32.4 are 0-1 scores scaled by 100\u001b[39;00m\n",
      "\u001b[0;31mAttributeError\u001b[0m: 'function' object has no attribute 'name'"
     ]
    }
   ],
   "source": [
    "result3 = optimizer.optimize_prompt(\n",
    "    dataset=opik_dataset,\n",
    "    metric=levenshtein_ratio,\n",
    "    task_config=task_config,\n",
    "    n_samples=50,\n",
    "    auto=\"light\",\n",
    ")"
   ]
  },
  {
   "cell_type": "code",
   "execution_count": null,
   "metadata": {
    "colab": {
     "base_uri": "https://localhost:8080/",
     "height": 321
    },
    "id": "qB57A11JkSAS",
    "outputId": "26287708-9a48-4d84-c279-01265d4950ff"
   },
   "outputs": [],
   "source": [
    "result3.display()"
   ]
  },
  {
   "cell_type": "code",
   "execution_count": null,
   "metadata": {
    "colab": {
     "base_uri": "https://localhost:8080/"
    },
    "id": "MlUMj1syDYEz",
    "outputId": "4cadfbef-5c77-49d1-9744-7e87d721f6ac"
   },
   "outputs": [],
   "source": [
    "result3.demonstrations"
   ]
  },
  {
   "cell_type": "markdown",
   "metadata": {
    "id": "1finqE4pmOND"
   },
   "source": [
    "### Agent with Tools\n",
    "\n",
    "Now we'll try with tools. This will allow multi-prompt optimization."
   ]
  },
  {
   "cell_type": "markdown",
   "metadata": {
    "id": "pnojJsGMEocF"
   },
   "source": [
    "First, we need a tool. We'll use this one from DSPy:"
   ]
  },
  {
   "cell_type": "code",
   "execution_count": null,
   "metadata": {
    "id": "0JoJKDAITusm"
   },
   "outputs": [],
   "source": [
    "# Tools:\n",
    "import dspy\n",
    "\n",
    "def search_wikipedia(query: str) -> list[str]:\n",
    "    \"\"\"\n",
    "    This agent is used to search wikipedia. It can retrieve additional details\n",
    "    about a topic.\n",
    "    \"\"\"\n",
    "    results = dspy.ColBERTv2(url=\"http://20.102.90.50:2017/wiki17_abstracts\")(\n",
    "        query, k=3\n",
    "    )\n",
    "    return [x[\"text\"] for x in results]"
   ]
  },
  {
   "cell_type": "markdown",
   "metadata": {
    "id": "u5v4pbcJEvEe"
   },
   "source": [
    "Let's test it out on a subject:"
   ]
  },
  {
   "cell_type": "code",
   "execution_count": null,
   "metadata": {
    "colab": {
     "base_uri": "https://localhost:8080/"
    },
    "id": "kfuWKvEbT1BW",
    "outputId": "14d8deaf-408d-4a2e-dd8a-fc0f71fba092"
   },
   "outputs": [],
   "source": [
    "search_wikipedia(\"Developmental Robotics\")"
   ]
  },
  {
   "cell_type": "markdown",
   "metadata": {
    "id": "RYuUA68JEzd8"
   },
   "source": [
    "And it is easy to add the tools to the config. Let's go!"
   ]
  },
  {
   "cell_type": "code",
   "execution_count": null,
   "metadata": {
    "colab": {
     "base_uri": "https://localhost:8080/",
     "height": 1000,
     "referenced_widgets": []
    },
    "id": "puUovlhHkFOi",
    "outputId": "d46b2268-d468-4953-ba2b-62a7130925cf"
   },
   "outputs": [],
   "source": [
    "task_config.tools = [search_wikipedia]\n",
    "\n",
    "result4 = optimizer.optimize_prompt(\n",
    "    dataset=opik_dataset,\n",
    "    metric=levenshtein_ratio,\n",
    "    task_config=task_config,\n",
    "    n_samples=50,\n",
    "    auto=\"light\",\n",
    ")"
   ]
  },
  {
   "cell_type": "code",
   "execution_count": null,
   "metadata": {
    "colab": {
     "base_uri": "https://localhost:8080/",
     "height": 385
    },
    "id": "ymJPBGJE4AOd",
    "outputId": "151e9701-572d-4cf3-cfe0-cff5d8f5b281"
   },
   "outputs": [],
   "source": [
    "result4.display()"
   ]
  },
  {
   "cell_type": "code",
   "execution_count": null,
   "metadata": {
    "colab": {
     "base_uri": "https://localhost:8080/"
    },
    "id": "a2JE4hd7E9oF",
    "outputId": "2c3df8f0-418f-4003-e3cd-2dfba9162471"
   },
   "outputs": [],
   "source": [
    "result4.demonstrations"
   ]
  },
  {
   "cell_type": "markdown",
   "metadata": {
    "id": "J7bVb_Pp9TUb"
   },
   "source": [
    "## Using Optimized Prompts\n",
    "\n",
    "Recall:\n",
    "\n",
    "1. result1 - FewShotBayesianOptimizer\n",
    "2. result2 - MetaPromptOptimizer\n",
    "3. result3 - MiproOptimizer (no tools)\n",
    "4. result4 - MiproOptimizer (with search_wikipedia)\n",
    "\n",
    "How can we use the optimized results?\n",
    "\n",
    "For the first one, recall that the fewshot examples are here:"
   ]
  },
  {
   "cell_type": "code",
   "execution_count": null,
   "metadata": {
    "colab": {
     "base_uri": "https://localhost:8080/"
    },
    "id": "B2wAB29G5V7Y",
    "outputId": "3a8029a2-85b9-42bd-d7fd-f74c65395788"
   },
   "outputs": [],
   "source": [
    "result1.details[\"chat_messages\"]"
   ]
  },
  {
   "cell_type": "markdown",
   "metadata": {
    "id": "6uWZEjWTFcpJ"
   },
   "source": [
    "So, once we have those we can do the following:"
   ]
  },
  {
   "cell_type": "code",
   "execution_count": null,
   "metadata": {
    "id": "-wOD7oca9gjs"
   },
   "outputs": [],
   "source": [
    "from litellm.integrations.opik.opik import OpikLogger\n",
    "import litellm\n",
    "opik_logger = OpikLogger()\n",
    "litellm.callbacks = [opik_logger]\n",
    "\n",
    "def query(question, chat_messages):\n",
    "    messages = chat_messages[:-1] # Cut off the last one\n",
    "    # replace it with question in proper format:\n",
    "    messages.append({'role': 'user', 'content': '{\"question\": \"%s\"}\"}' % question})\n",
    "\n",
    "    response = litellm.completion(\n",
    "        model=\"gpt-4o-mini\",\n",
    "        temperature=0.1,\n",
    "        max_tokens=5000,\n",
    "        messages=messages,\n",
    "    )\n",
    "    return response.choices[0].message.content"
   ]
  },
  {
   "cell_type": "code",
   "execution_count": null,
   "metadata": {
    "colab": {
     "base_uri": "https://localhost:8080/",
     "height": 35
    },
    "id": "2nu5Tqdl9wa8",
    "outputId": "6612a8a2-5ff5-419c-8396-0e5605edcf3a"
   },
   "outputs": [],
   "source": [
    "query(\"When was David Chalmers born?\", result1.details[\"chat_messages\"])"
   ]
  },
  {
   "cell_type": "code",
   "execution_count": null,
   "metadata": {
    "colab": {
     "base_uri": "https://localhost:8080/",
     "height": 35
    },
    "id": "xI3mOXQ4_btf",
    "outputId": "9b9cc5c6-ee0e-425b-b029-7e53c527cfc9"
   },
   "outputs": [],
   "source": [
    "query(\"What weighs more: a baby elephant or an SUV?\", result1.details[\"chat_messages\"])"
   ]
  },
  {
   "cell_type": "markdown",
   "metadata": {
    "id": "2x0JkiYhFsQq"
   },
   "source": [
    "If it says \"elephant\" that is not correct!\n",
    "\n",
    "Let's try that same question with a tool:"
   ]
  },
  {
   "cell_type": "code",
   "execution_count": null,
   "metadata": {
    "colab": {
     "base_uri": "https://localhost:8080/",
     "height": 35
    },
    "id": "77JY1iG3ANCM",
    "outputId": "8d9527ac-6660-4911-e021-bf9fe71f7dfd"
   },
   "outputs": [],
   "source": [
    "result = result4.details[\"program\"](question=\"What weighs more: a baby elephant or an SUV?\")\n",
    "result.answer"
   ]
  },
  {
   "cell_type": "markdown",
   "metadata": {
    "id": "1Zw5UhcCF3lm"
   },
   "source": [
    "Well done optimizer!\n",
    "\n",
    "We'll now head back to the slides to summarize the workshop."
   ]
  },
  {
   "cell_type": "markdown",
   "metadata": {
    "id": "uSDJ1bFx51kd"
   },
   "source": [
    "# Resources\n",
    "\n",
    "1. [Opik Optimizer Workshop Slides](https://bit.ly/opik-optimizer-dsblank-slides)"
   ]
  }
 ],
 "metadata": {
  "colab": {
   "provenance": []
  },
  "kernelspec": {
   "display_name": "py312_llm_eval",
   "language": "python",
   "name": "python3"
  },
  "language_info": {
   "codemirror_mode": {
    "name": "ipython",
    "version": 3
   },
   "file_extension": ".py",
   "mimetype": "text/x-python",
   "name": "python",
   "nbconvert_exporter": "python",
   "pygments_lexer": "ipython3",
   "version": "3.12.4"
  }
 },
 "nbformat": 4,
 "nbformat_minor": 4
}
