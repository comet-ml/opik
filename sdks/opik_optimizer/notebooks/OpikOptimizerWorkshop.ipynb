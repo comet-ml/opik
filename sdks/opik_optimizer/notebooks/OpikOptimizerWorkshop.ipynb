{
 "cells": [
  {
   "cell_type": "markdown",
   "metadata": {
    "id": "NTaMBjChz7m5"
   },
   "source": [
    "# Smarter Prompting, Faster: Introducing Opik's Agent Optimizers\n",
    "\n",
    "Doug Blank, Phd\n",
    "\n",
    "* Slides are available at: [bit.ly/opik-optimizer-dsblank-slides](https://bit.ly/opik-optimizer-dsblank-slides)\n",
    "* This notebook is available at: [bit.ly/opik-optimizer-dsblank](https://bit.ly/opik-optimizer-dsblank)\n",
    "\n",
    "You will need:\n",
    "1. A Google account, for running a Colab Notebook  - [google.com](https://google.com)\n",
    "2. A Comet account, for seeing Opik visualizations (free!) - [comet.com](https://comet.com)\n",
    "3. An OpenAI account, for using an LLM\n",
    "[platform.openai.com/settings/organization/api-keys](https://platform.openai.com/settings/organization/api-keys)\n"
   ]
  },
  {
   "cell_type": "markdown",
   "metadata": {
    "id": "yM1lU0dBBnJs"
   },
   "source": [
    "## Setup\n",
    "\n",
    "This pip-install takes about a minute."
   ]
  },
  {
   "cell_type": "code",
   "execution_count": 1,
   "metadata": {
    "id": "2Tx6HwuU1rB4"
   },
   "outputs": [],
   "source": [
    "%%capture\n",
    "%pip install opik-optimizer"
   ]
  },
  {
   "cell_type": "code",
   "execution_count": 2,
   "metadata": {
    "colab": {
     "base_uri": "https://localhost:8080/",
     "height": 35
    },
    "id": "pVgkLU3v2KD8",
    "outputId": "a0b1e0ca-116b-413d-c4ad-24e42ca701a8"
   },
   "outputs": [
    {
     "data": {
      "application/vnd.google.colaboratory.intrinsic+json": {
       "type": "string"
      },
      "text/plain": [
       "'0.7.8'"
      ]
     },
     "execution_count": 2,
     "metadata": {},
     "output_type": "execute_result"
    }
   ],
   "source": [
    "import opik_optimizer\n",
    "opik_optimizer.__version__"
   ]
  },
  {
   "cell_type": "code",
   "execution_count": 3,
   "metadata": {
    "colab": {
     "base_uri": "https://localhost:8080/"
    },
    "id": "H0DNm-un_0Np",
    "outputId": "f2ec2b5a-62bb-4df4-a28a-2ece4092de7e"
   },
   "outputs": [
    {
     "name": "stderr",
     "output_type": "stream",
     "text": [
      "OPIK: Your Opik API key is available in your account settings, can be found at https://www.comet.com/api/my/settings/ for Opik cloud\n"
     ]
    },
    {
     "name": "stdout",
     "output_type": "stream",
     "text": [
      "Please enter your Opik API key:··········\n",
      "Do you want to use \"dsblank\" workspace? (Y/n)y\n"
     ]
    },
    {
     "name": "stderr",
     "output_type": "stream",
     "text": [
      "OPIK: Configuration saved to file: /root/.opik.config\n"
     ]
    }
   ],
   "source": [
    "import opik\n",
    "\n",
    "# Configure Opik\n",
    "opik.configure()"
   ]
  },
  {
   "cell_type": "code",
   "execution_count": 4,
   "metadata": {
    "colab": {
     "base_uri": "https://localhost:8080/"
    },
    "id": "vN72mHQy_7Ou",
    "outputId": "3771ff38-413b-4238-8622-d109eee3a496"
   },
   "outputs": [
    {
     "name": "stdout",
     "output_type": "stream",
     "text": [
      "Enter your OpenAI API key: ··········\n"
     ]
    }
   ],
   "source": [
    "import os\n",
    "import getpass\n",
    "if \"OPENAI_API_KEY\" not in os.environ:\n",
    "    os.environ[\"OPENAI_API_KEY\"] = getpass.getpass(\"Enter your OpenAI API key: \")"
   ]
  },
  {
   "cell_type": "markdown",
   "metadata": {
    "id": "lPe_J8388M4K"
   },
   "source": [
    "To save time (and money) durring this demonstration, we have capture the results of a previous run of all of these LLM interactions. Our goal is to make this not cost any money. However, we of course can guarantee that. **Use at your own risk**!\n",
    "\n",
    "To capture the perviously cached results:"
   ]
  },
  {
   "cell_type": "code",
   "execution_count": 5,
   "metadata": {
    "colab": {
     "base_uri": "https://localhost:8080/"
    },
    "id": "1ru08pDwh3PI",
    "outputId": "9add88cc-0afa-4a84-b88e-44cfcc809fab"
   },
   "outputs": [
    {
     "name": "stdout",
     "output_type": "stream",
     "text": [
      "Inserted 2865 record(s) in litellm cache\n"
     ]
    }
   ],
   "source": [
    "from opik_optimizer.demo.cache import get_litellm_cache\n",
    "\n",
    "get_litellm_cache(\"opik-workshop\")"
   ]
  },
  {
   "cell_type": "markdown",
   "metadata": {
    "id": "zVK_KLEXbyqu"
   },
   "source": [
    "## The Dataset\n",
    "\n",
    "In these set of experiments, we are going to use the **HotPotQA** dataset. This dataset was designed to be difficult for regular LLMs to handle. This dataset is called a \"**multi-hop**\" dataset because answering the questions involves multiple reasoning steps and multiple tool calls, where the LLM needs to infer relationships, combine information, or draw conclusions based on the combined context.\n",
    "\n",
    "Example:\n",
    "\n",
    "> \"What are the capitals of the states that border California?\"\n",
    "\n",
    "You'd need to find which states border California, and then lookup each state's capital.\n",
    "\n",
    "The dataset has about 113,000 such crowd-sourced questions that are constructed to require the introductory paragraphs of two Wikipedia articles to answer.\n",
    "\n",
    "[1] The name \"HotPot\" comes from the restaurant where the authors came up with the idea of the dataset."
   ]
  },
  {
   "cell_type": "code",
   "execution_count": 6,
   "metadata": {
    "id": "4gCj_2M3A37D"
   },
   "outputs": [],
   "source": [
    "from opik_optimizer.demo import get_or_create_dataset\n",
    "\n",
    "opik_dataset = get_or_create_dataset(\"hotpot-300\")"
   ]
  },
  {
   "cell_type": "markdown",
   "metadata": {
    "id": "YvqslJnA9RMQ"
   },
   "source": [
    "Let's take a look at some dataset items:"
   ]
  },
  {
   "cell_type": "code",
   "execution_count": 7,
   "metadata": {
    "colab": {
     "base_uri": "https://localhost:8080/"
    },
    "id": "KGZoscWiBInJ",
    "outputId": "5f8c0099-4475-4d2d-b5ed-3a2ca693261e"
   },
   "outputs": [
    {
     "data": {
      "text/plain": [
       "{'id': '0196e38c-07c8-79ef-a5aa-f5692df31914',\n",
       " 'question': 'On what date was the Precision Medicine Initiative announced?',\n",
       " 'answer': 'January 20, 2015'}"
      ]
     },
     "execution_count": 7,
     "metadata": {},
     "output_type": "execute_result"
    }
   ],
   "source": [
    "rows = opik_dataset.get_items()\n",
    "rows[0]"
   ]
  },
  {
   "cell_type": "code",
   "execution_count": 8,
   "metadata": {
    "colab": {
     "base_uri": "https://localhost:8080/"
    },
    "id": "8MQC4TllBKgT",
    "outputId": "901c178f-c9f1-4c9f-9223-ec6e90352f89"
   },
   "outputs": [
    {
     "data": {
      "text/plain": [
       "{'id': '0196e38c-07c7-7b6c-92e4-b2fcfe43ffb5',\n",
       " 'question': 'In addition to Cloud Atlas and the 2016 war drama directed by Vincent Perez, what other film did Stefan Arndt produce?',\n",
       " 'answer': 'Frantz'}"
      ]
     },
     "execution_count": 8,
     "metadata": {},
     "output_type": "execute_result"
    }
   ],
   "source": [
    "rows[1]"
   ]
  },
  {
   "cell_type": "markdown",
   "metadata": {
    "id": "feVF8adydeyH"
   },
   "source": [
    "## Opik Project\n",
    "\n",
    "All LLM traces in Opik are saved in a \"project\". We'll put them all in the following project name:"
   ]
  },
  {
   "cell_type": "code",
   "execution_count": 9,
   "metadata": {
    "id": "gTTZ5apsPgUg"
   },
   "outputs": [],
   "source": [
    "project_name = \"optimize-workshop-2025\""
   ]
  },
  {
   "cell_type": "markdown",
   "metadata": {
    "id": "VEEHnyrcdjVw"
   },
   "source": [
    "## The Metric\n",
    "\n",
    "Choosing a good metric for optimization is tricky. For these examples, we'll pick one that will allow us to show improvement, and also provide a gradient of scores. In general though, this metric isn't the best for optimization runs.\n",
    "\n",
    "We'll use \"Edit Distance\" AKA \"Levenshtein Distance\":"
   ]
  },
  {
   "cell_type": "code",
   "execution_count": 10,
   "metadata": {
    "id": "T3BKOXxPOpkI"
   },
   "outputs": [],
   "source": [
    "from opik.evaluation.metrics import LevenshteinRatio\n",
    "metric = LevenshteinRatio(project_name=project_name)"
   ]
  },
  {
   "cell_type": "markdown",
   "metadata": {
    "id": "BF9czV9Ue02R"
   },
   "source": [
    "The metric takes two things: the output of the LLM and the reference (correct answer)."
   ]
  },
  {
   "cell_type": "code",
   "execution_count": 11,
   "metadata": {
    "colab": {
     "base_uri": "https://localhost:8080/"
    },
    "id": "_hMQuJsSexkD",
    "outputId": "34afc45b-9743-4244-9efb-6816bce499a4"
   },
   "outputs": [
    {
     "name": "stderr",
     "output_type": "stream",
     "text": [
      "OPIK: Started logging traces to the \"optimize-workshop-2025\" project at https://www.comet.com/opik/api/v1/session/redirect/projects/?trace_id=0196f28d-6043-7a76-becc-1952a662f7a5&path=aHR0cHM6Ly93d3cuY29tZXQuY29tL29waWsvYXBpLw==.\n"
     ]
    },
    {
     "data": {
      "text/plain": [
       "ScoreResult(name='levenshtein_ratio_metric', value=1.0, reason=None, metadata=None, scoring_failed=False)"
      ]
     },
     "execution_count": 11,
     "metadata": {},
     "output_type": "execute_result"
    }
   ],
   "source": [
    "metric.score(\"Hello\", \"Hello\")"
   ]
  },
  {
   "cell_type": "code",
   "execution_count": 12,
   "metadata": {
    "colab": {
     "base_uri": "https://localhost:8080/"
    },
    "id": "hNleaL5ZPLaA",
    "outputId": "87cf96e5-26bc-47a6-af67-71dd0b811d67"
   },
   "outputs": [
    {
     "data": {
      "text/plain": [
       "ScoreResult(name='levenshtein_ratio_metric', value=0.9090909090909091, reason=None, metadata=None, scoring_failed=False)"
      ]
     },
     "execution_count": 12,
     "metadata": {},
     "output_type": "execute_result"
    }
   ],
   "source": [
    "metric.score(\"Hello!\", \"Hello\")"
   ]
  },
  {
   "cell_type": "markdown",
   "metadata": {
    "id": "2eI1S-Q_-SwO"
   },
   "source": [
    "The edit distance between \"Hello!\" and \"Hello\" is 1. Here is how the .91 is computed:"
   ]
  },
  {
   "cell_type": "code",
   "execution_count": 13,
   "metadata": {
    "colab": {
     "base_uri": "https://localhost:8080/"
    },
    "id": "7YEltgab4jPs",
    "outputId": "807a9d36-ab5a-446f-921e-e714a018ec4a"
   },
   "outputs": [
    {
     "data": {
      "text/plain": [
       "0.9090909090909091"
      ]
     },
     "execution_count": 13,
     "metadata": {},
     "output_type": "execute_result"
    }
   ],
   "source": [
    "edit_distance = 1\n",
    "\n",
    "1 - edit_distance / (len(\"Hello1\") + len(\"Hello\"))\n"
   ]
  },
  {
   "cell_type": "markdown",
   "metadata": {
    "id": "p3gIizQt47AP"
   },
   "source": [
    "For more information see: [Levenshtein Distance](https://en.wikipedia.org/wiki/Levenshtein_distance)"
   ]
  },
  {
   "cell_type": "markdown",
   "metadata": {
    "id": "JarFSV9jb7jD"
   },
   "source": [
    "## Configuation\n",
    "\n",
    "To create the necesary configurations for using an Opik Optimizer, you'll need three things:\n",
    "\n",
    "1. An initial prompt\n",
    "2. A MetricConfig\n",
    "3. A TaskConfig\n",
    "\n",
    "We're going to start with a pretty bad prompt... so we can optimize it!"
   ]
  },
  {
   "cell_type": "code",
   "execution_count": 14,
   "metadata": {
    "id": "xxDUfpvgPct7"
   },
   "outputs": [],
   "source": [
    "initial_prompt = \"Provide an answer to the question\""
   ]
  },
  {
   "cell_type": "markdown",
   "metadata": {
    "id": "Oia79J_e-vSY"
   },
   "source": [
    "The the two configurations:"
   ]
  },
  {
   "cell_type": "code",
   "execution_count": 15,
   "metadata": {
    "id": "ET_umnWdPmjm"
   },
   "outputs": [],
   "source": [
    "from opik_optimizer import (\n",
    "    MetricConfig,\n",
    "    TaskConfig,\n",
    "    from_llm_response_text,\n",
    "    from_dataset_field,\n",
    ")\n",
    "\n",
    "metric_config = MetricConfig(\n",
    "    metric=LevenshteinRatio(project_name=project_name),\n",
    "    inputs={\n",
    "        \"output\": from_llm_response_text(),\n",
    "        \"reference\": from_dataset_field(name=\"answer\"),\n",
    "    },\n",
    ")\n",
    "\n",
    "task_config = TaskConfig(\n",
    "    instruction_prompt=initial_prompt,\n",
    "    input_dataset_fields=[\"question\"],\n",
    "    output_dataset_field=\"answer\",\n",
    "    use_chat_prompt=True,\n",
    ")"
   ]
  },
  {
   "cell_type": "markdown",
   "metadata": {
    "id": "2aDp9vjw5hIQ"
   },
   "source": [
    "As you can see the MetricConfig is composed of our chosen metric. In addition, we need to know what the inputs will be. The inputs here are actually the outputs from the LLM.\n",
    "\n",
    "We need two inputs for the metric:\n",
    "1. The output produced by the LLM (uses a special name)\n",
    "2. The correct answer (provided by the database item \"answer\")\n",
    "\n",
    "The TaskConfig defines how to process a prompt. We need the initial prompt, and the inputs and outputs of the dataset.\n",
    "\n",
    "In this case, we will use the chat_prompt format as our result."
   ]
  },
  {
   "cell_type": "markdown",
   "metadata": {
    "id": "VBNAMIglcVIo"
   },
   "source": [
    "## FewShotBayesianOptimizer\n",
    "\n",
    "The FewShotBayesianOptimizer name indicates two things:\n",
    "\n",
    "1. It will produce Chat Prompts, or FewShot examples as described in the slides.\n",
    "2. Secondly, it describes how it searches for the best set of these FewShot examples.\n",
    "\n",
    "To use this optimizer, we import it and create an instance, passing in the project name and model parameters:"
   ]
  },
  {
   "cell_type": "code",
   "execution_count": 16,
   "metadata": {
    "id": "EbaysjG1PRNd"
   },
   "outputs": [],
   "source": [
    "from opik_optimizer import (\n",
    "    FewShotBayesianOptimizer,\n",
    ")\n",
    "\n",
    "optimizer = FewShotBayesianOptimizer(\n",
    "    project_name=project_name,\n",
    "    model=\"openai/gpt-4o-mini\",\n",
    "    temperature=0.1,\n",
    "    max_tokens=5000,\n",
    ")"
   ]
  },
  {
   "cell_type": "markdown",
   "metadata": {
    "id": "zuZkkZqGWg4C"
   },
   "source": [
    "### Baseline\n",
    "\n",
    "Before we optimize this prompt (\"Provide an answer to the question\") let's see what the bare prompt does by itself on the dataset:"
   ]
  },
  {
   "cell_type": "code",
   "execution_count": 17,
   "metadata": {
    "colab": {
     "base_uri": "https://localhost:8080/",
     "height": 226,
     "referenced_widgets": [
     ]
    },
    "collapsed": true,
    "id": "fYEhqP2WP0B_",
    "jupyter": {
     "outputs_hidden": true
    },
    "outputId": "3a93252c-4cf7-48c9-f4fb-f10ac6511078"
   },
   "outputs": [
    {
     "data": {
      "application/vnd.jupyter.widget-view+json": {
       "model_id": "1670068a22844578a266dfd2e0aac123",
       "version_major": 2,
       "version_minor": 0
      },
      "text/plain": [
       "Evaluation:   0%|          | 0/100 [00:00<?, ?it/s]"
      ]
     },
     "metadata": {},
     "output_type": "display_data"
    },
    {
     "data": {
      "text/html": [
       "<pre style=\"white-space:pre;overflow-x:auto;line-height:normal;font-family:Menlo,'DejaVu Sans Mono',consolas,'Courier New',monospace\">╭─ hotpot-300 (100 samples) ─────────────╮\n",
       "│                                        │\n",
       "│ <span style=\"font-weight: bold\">Total time:       </span> 00:00:18            │\n",
       "│ <span style=\"font-weight: bold\">Number of samples:</span> 100                 │\n",
       "│                                        │\n",
       "│ <span style=\"color: #008000; text-decoration-color: #008000; font-weight: bold\">levenshtein_ratio_metric: 0.1501 (avg)</span> │\n",
       "│                                        │\n",
       "╰────────────────────────────────────────╯\n",
       "</pre>\n"
      ],
      "text/plain": [
       "╭─ hotpot-300 (100 samples) ─────────────╮\n",
       "│                                        │\n",
       "│ \u001b[1mTotal time:       \u001b[0m 00:00:18            │\n",
       "│ \u001b[1mNumber of samples:\u001b[0m 100                 │\n",
       "│                                        │\n",
       "│ \u001b[1;32mlevenshtein_ratio_metric: 0.1501 (avg)\u001b[0m │\n",
       "│                                        │\n",
       "╰────────────────────────────────────────╯\n"
      ]
     },
     "metadata": {},
     "output_type": "display_data"
    },
    {
     "data": {
      "text/html": [
       "<pre style=\"white-space:pre;overflow-x:auto;line-height:normal;font-family:Menlo,'DejaVu Sans Mono',consolas,'Courier New',monospace\">Uploading results to Opik <span style=\"color: #808000; text-decoration-color: #808000\">...</span> \n",
       "</pre>\n"
      ],
      "text/plain": [
       "Uploading results to Opik \u001b[33m...\u001b[0m \n"
      ]
     },
     "metadata": {},
     "output_type": "display_data"
    },
    {
     "data": {
      "text/html": [
       "<pre style=\"white-space:pre;overflow-x:auto;line-height:normal;font-family:Menlo,'DejaVu Sans Mono',consolas,'Courier New',monospace\">View the results <a href=\"https://www.comet.com/opik/api/v1/session/redirect/experiments/?experiment_id=0196f28d-8e19-7fc5-83f3-9ec458408fd7&dataset_id=0196e38c-066d-7e62-b8f6-ed97eb63387e&path=aHR0cHM6Ly93d3cuY29tZXQuY29tL29waWsvYXBpLw==\" target=\"_blank\">in your Opik dashboard</a>.\n",
       "</pre>\n"
      ],
      "text/plain": [
       "View the results \u001b]8;id=356108;https://www.comet.com/opik/api/v1/session/redirect/experiments/?experiment_id=0196f28d-8e19-7fc5-83f3-9ec458408fd7&dataset_id=0196e38c-066d-7e62-b8f6-ed97eb63387e&path=aHR0cHM6Ly93d3cuY29tZXQuY29tL29waWsvYXBpLw==\u001b\\in your Opik dashboard\u001b]8;;\u001b\\.\n"
      ]
     },
     "metadata": {},
     "output_type": "display_data"
    },
    {
     "data": {
      "text/plain": [
       "0.15014510084605998"
      ]
     },
     "execution_count": 17,
     "metadata": {},
     "output_type": "execute_result"
    }
   ],
   "source": [
    "score = optimizer.evaluate_prompt(\n",
    "    dataset=opik_dataset,\n",
    "    metric_config=metric_config,\n",
    "    task_config=task_config,\n",
    "    prompt=initial_prompt,\n",
    "    n_samples=100,\n",
    ")\n",
    "score"
   ]
  },
  {
   "cell_type": "markdown",
   "metadata": {
    "id": "UtFggdB67tmB"
   },
   "source": [
    "It scored about 16% correct. [I say \"percent correct\" but because we are using edit distance, that isn't quite accurate. But we can think of it this way.]\n",
    "\n",
    "Ok, let's optimize that prompt!"
   ]
  },
  {
   "cell_type": "code",
   "execution_count": 18,
   "metadata": {
    "colab": {
     "base_uri": "https://localhost:8080/",
     "height": 785,
     "referenced_widgets": [
     ]
    },
    "collapsed": true,
    "id": "3Q3ENgSARX2m",
    "jupyter": {
     "outputs_hidden": true
    },
    "outputId": "45b5adb4-d294-4a7c-d473-bb86aadda1f0"
   },
   "outputs": [
    {
     "data": {
      "application/vnd.jupyter.widget-view+json": {
       "model_id": "0858c8cb52354bbf83aa8ac4722a4e97",
       "version_major": 2,
       "version_minor": 0
      },
      "text/plain": [
       "Evaluation:   0%|          | 0/50 [00:00<?, ?it/s]"
      ]
     },
     "metadata": {},
     "output_type": "display_data"
    },
    {
     "data": {
      "text/html": [
       "<pre style=\"white-space:pre;overflow-x:auto;line-height:normal;font-family:Menlo,'DejaVu Sans Mono',consolas,'Courier New',monospace\">╭─ hotpot-300 (50 samples) ──────────────╮\n",
       "│                                        │\n",
       "│ <span style=\"font-weight: bold\">Total time:       </span> 00:00:07            │\n",
       "│ <span style=\"font-weight: bold\">Number of samples:</span> 50                  │\n",
       "│                                        │\n",
       "│ <span style=\"color: #008000; text-decoration-color: #008000; font-weight: bold\">levenshtein_ratio_metric: 0.1603 (avg)</span> │\n",
       "│                                        │\n",
       "╰────────────────────────────────────────╯\n",
       "</pre>\n"
      ],
      "text/plain": [
       "╭─ hotpot-300 (50 samples) ──────────────╮\n",
       "│                                        │\n",
       "│ \u001b[1mTotal time:       \u001b[0m 00:00:07            │\n",
       "│ \u001b[1mNumber of samples:\u001b[0m 50                  │\n",
       "│                                        │\n",
       "│ \u001b[1;32mlevenshtein_ratio_metric: 0.1603 (avg)\u001b[0m │\n",
       "│                                        │\n",
       "╰────────────────────────────────────────╯\n"
      ]
     },
     "metadata": {},
     "output_type": "display_data"
    },
    {
     "data": {
      "text/html": [
       "<pre style=\"white-space:pre;overflow-x:auto;line-height:normal;font-family:Menlo,'DejaVu Sans Mono',consolas,'Courier New',monospace\">Uploading results to Opik <span style=\"color: #808000; text-decoration-color: #808000\">...</span> \n",
       "</pre>\n"
      ],
      "text/plain": [
       "Uploading results to Opik \u001b[33m...\u001b[0m \n"
      ]
     },
     "metadata": {},
     "output_type": "display_data"
    },
    {
     "data": {
      "text/html": [
       "<pre style=\"white-space:pre;overflow-x:auto;line-height:normal;font-family:Menlo,'DejaVu Sans Mono',consolas,'Courier New',monospace\">View the results <a href=\"https://www.comet.com/opik/api/v1/session/redirect/experiments/?experiment_id=0196f28e-c675-7937-8687-f4aa9ee684e3&dataset_id=0196e38c-066d-7e62-b8f6-ed97eb63387e&path=aHR0cHM6Ly93d3cuY29tZXQuY29tL29waWsvYXBpLw==\" target=\"_blank\">in your Opik dashboard</a>.\n",
       "</pre>\n"
      ],
      "text/plain": [
       "View the results \u001b]8;id=475435;https://www.comet.com/opik/api/v1/session/redirect/experiments/?experiment_id=0196f28e-c675-7937-8687-f4aa9ee684e3&dataset_id=0196e38c-066d-7e62-b8f6-ed97eb63387e&path=aHR0cHM6Ly93d3cuY29tZXQuY29tL29waWsvYXBpLw==\u001b\\in your Opik dashboard\u001b]8;;\u001b\\.\n"
      ]
     },
     "metadata": {},
     "output_type": "display_data"
    },
    {
     "data": {
      "application/vnd.jupyter.widget-view+json": {
       "model_id": "7053171d736148929a45c5f5d0f92233",
       "version_major": 2,
       "version_minor": 0
      },
      "text/plain": [
       "Evaluation:   0%|          | 0/50 [00:00<?, ?it/s]"
      ]
     },
     "metadata": {},
     "output_type": "display_data"
    },
    {
     "data": {
      "text/html": [
       "<pre style=\"white-space:pre;overflow-x:auto;line-height:normal;font-family:Menlo,'DejaVu Sans Mono',consolas,'Courier New',monospace\">╭─ hotpot-300 (50 samples) ──────────────╮\n",
       "│                                        │\n",
       "│ <span style=\"font-weight: bold\">Total time:       </span> 00:00:05            │\n",
       "│ <span style=\"font-weight: bold\">Number of samples:</span> 50                  │\n",
       "│                                        │\n",
       "│ <span style=\"color: #008000; text-decoration-color: #008000; font-weight: bold\">levenshtein_ratio_metric: 0.4252 (avg)</span> │\n",
       "│                                        │\n",
       "╰────────────────────────────────────────╯\n",
       "</pre>\n"
      ],
      "text/plain": [
       "╭─ hotpot-300 (50 samples) ──────────────╮\n",
       "│                                        │\n",
       "│ \u001b[1mTotal time:       \u001b[0m 00:00:05            │\n",
       "│ \u001b[1mNumber of samples:\u001b[0m 50                  │\n",
       "│                                        │\n",
       "│ \u001b[1;32mlevenshtein_ratio_metric: 0.4252 (avg)\u001b[0m │\n",
       "│                                        │\n",
       "╰────────────────────────────────────────╯\n"
      ]
     },
     "metadata": {},
     "output_type": "display_data"
    },
    {
     "data": {
      "text/html": [
       "<pre style=\"white-space:pre;overflow-x:auto;line-height:normal;font-family:Menlo,'DejaVu Sans Mono',consolas,'Courier New',monospace\">Uploading results to Opik <span style=\"color: #808000; text-decoration-color: #808000\">...</span> \n",
       "</pre>\n"
      ],
      "text/plain": [
       "Uploading results to Opik \u001b[33m...\u001b[0m \n"
      ]
     },
     "metadata": {},
     "output_type": "display_data"
    },
    {
     "data": {
      "text/html": [
       "<pre style=\"white-space:pre;overflow-x:auto;line-height:normal;font-family:Menlo,'DejaVu Sans Mono',consolas,'Courier New',monospace\">View the results <a href=\"https://www.comet.com/opik/api/v1/session/redirect/experiments/?experiment_id=0196f28e-e567-7cc0-9a09-766857a5a32c&dataset_id=0196e38c-066d-7e62-b8f6-ed97eb63387e&path=aHR0cHM6Ly93d3cuY29tZXQuY29tL29waWsvYXBpLw==\" target=\"_blank\">in your Opik dashboard</a>.\n",
       "</pre>\n"
      ],
      "text/plain": [
       "View the results \u001b]8;id=382554;https://www.comet.com/opik/api/v1/session/redirect/experiments/?experiment_id=0196f28e-e567-7cc0-9a09-766857a5a32c&dataset_id=0196e38c-066d-7e62-b8f6-ed97eb63387e&path=aHR0cHM6Ly93d3cuY29tZXQuY29tL29waWsvYXBpLw==\u001b\\in your Opik dashboard\u001b]8;;\u001b\\.\n"
      ]
     },
     "metadata": {},
     "output_type": "display_data"
    },
    {
     "data": {
      "application/vnd.jupyter.widget-view+json": {
       "model_id": "418ff1d839f04733b1dd9270b5111403",
       "version_major": 2,
       "version_minor": 0
      },
      "text/plain": [
       "Evaluation:   0%|          | 0/50 [00:00<?, ?it/s]"
      ]
     },
     "metadata": {},
     "output_type": "display_data"
    },
    {
     "data": {
      "text/html": [
       "<pre style=\"white-space:pre;overflow-x:auto;line-height:normal;font-family:Menlo,'DejaVu Sans Mono',consolas,'Courier New',monospace\">╭─ hotpot-300 (50 samples) ──────────────╮\n",
       "│                                        │\n",
       "│ <span style=\"font-weight: bold\">Total time:       </span> 00:00:05            │\n",
       "│ <span style=\"font-weight: bold\">Number of samples:</span> 50                  │\n",
       "│                                        │\n",
       "│ <span style=\"color: #008000; text-decoration-color: #008000; font-weight: bold\">levenshtein_ratio_metric: 0.4067 (avg)</span> │\n",
       "│                                        │\n",
       "╰────────────────────────────────────────╯\n",
       "</pre>\n"
      ],
      "text/plain": [
       "╭─ hotpot-300 (50 samples) ──────────────╮\n",
       "│                                        │\n",
       "│ \u001b[1mTotal time:       \u001b[0m 00:00:05            │\n",
       "│ \u001b[1mNumber of samples:\u001b[0m 50                  │\n",
       "│                                        │\n",
       "│ \u001b[1;32mlevenshtein_ratio_metric: 0.4067 (avg)\u001b[0m │\n",
       "│                                        │\n",
       "╰────────────────────────────────────────╯\n"
      ]
     },
     "metadata": {},
     "output_type": "display_data"
    },
    {
     "data": {
      "text/html": [
       "<pre style=\"white-space:pre;overflow-x:auto;line-height:normal;font-family:Menlo,'DejaVu Sans Mono',consolas,'Courier New',monospace\">Uploading results to Opik <span style=\"color: #808000; text-decoration-color: #808000\">...</span> \n",
       "</pre>\n"
      ],
      "text/plain": [
       "Uploading results to Opik \u001b[33m...\u001b[0m \n"
      ]
     },
     "metadata": {},
     "output_type": "display_data"
    },
    {
     "data": {
      "text/html": [
       "<pre style=\"white-space:pre;overflow-x:auto;line-height:normal;font-family:Menlo,'DejaVu Sans Mono',consolas,'Courier New',monospace\">View the results <a href=\"https://www.comet.com/opik/api/v1/session/redirect/experiments/?experiment_id=0196f28e-fd4c-7aa7-b1ae-72ce7fedee19&dataset_id=0196e38c-066d-7e62-b8f6-ed97eb63387e&path=aHR0cHM6Ly93d3cuY29tZXQuY29tL29waWsvYXBpLw==\" target=\"_blank\">in your Opik dashboard</a>.\n",
       "</pre>\n"
      ],
      "text/plain": [
       "View the results \u001b]8;id=372528;https://www.comet.com/opik/api/v1/session/redirect/experiments/?experiment_id=0196f28e-fd4c-7aa7-b1ae-72ce7fedee19&dataset_id=0196e38c-066d-7e62-b8f6-ed97eb63387e&path=aHR0cHM6Ly93d3cuY29tZXQuY29tL29waWsvYXBpLw==\u001b\\in your Opik dashboard\u001b]8;;\u001b\\.\n"
      ]
     },
     "metadata": {},
     "output_type": "display_data"
    },
    {
     "data": {
      "application/vnd.jupyter.widget-view+json": {
       "model_id": "ec4576a3cd29479390b94273fcd0a356",
       "version_major": 2,
       "version_minor": 0
      },
      "text/plain": [
       "Evaluation:   0%|          | 0/50 [00:00<?, ?it/s]"
      ]
     },
     "metadata": {},
     "output_type": "display_data"
    },
    {
     "data": {
      "text/html": [
       "<pre style=\"white-space:pre;overflow-x:auto;line-height:normal;font-family:Menlo,'DejaVu Sans Mono',consolas,'Courier New',monospace\">╭─ hotpot-300 (50 samples) ──────────────╮\n",
       "│                                        │\n",
       "│ <span style=\"font-weight: bold\">Total time:       </span> 00:00:05            │\n",
       "│ <span style=\"font-weight: bold\">Number of samples:</span> 50                  │\n",
       "│                                        │\n",
       "│ <span style=\"color: #008000; text-decoration-color: #008000; font-weight: bold\">levenshtein_ratio_metric: 0.4474 (avg)</span> │\n",
       "│                                        │\n",
       "╰────────────────────────────────────────╯\n",
       "</pre>\n"
      ],
      "text/plain": [
       "╭─ hotpot-300 (50 samples) ──────────────╮\n",
       "│                                        │\n",
       "│ \u001b[1mTotal time:       \u001b[0m 00:00:05            │\n",
       "│ \u001b[1mNumber of samples:\u001b[0m 50                  │\n",
       "│                                        │\n",
       "│ \u001b[1;32mlevenshtein_ratio_metric: 0.4474 (avg)\u001b[0m │\n",
       "│                                        │\n",
       "╰────────────────────────────────────────╯\n"
      ]
     },
     "metadata": {},
     "output_type": "display_data"
    },
    {
     "data": {
      "text/html": [
       "<pre style=\"white-space:pre;overflow-x:auto;line-height:normal;font-family:Menlo,'DejaVu Sans Mono',consolas,'Courier New',monospace\">Uploading results to Opik <span style=\"color: #808000; text-decoration-color: #808000\">...</span> \n",
       "</pre>\n"
      ],
      "text/plain": [
       "Uploading results to Opik \u001b[33m...\u001b[0m \n"
      ]
     },
     "metadata": {},
     "output_type": "display_data"
    },
    {
     "data": {
      "text/html": [
       "<pre style=\"white-space:pre;overflow-x:auto;line-height:normal;font-family:Menlo,'DejaVu Sans Mono',consolas,'Courier New',monospace\">View the results <a href=\"https://www.comet.com/opik/api/v1/session/redirect/experiments/?experiment_id=0196f28f-1447-7045-886e-584c16b35c68&dataset_id=0196e38c-066d-7e62-b8f6-ed97eb63387e&path=aHR0cHM6Ly93d3cuY29tZXQuY29tL29waWsvYXBpLw==\" target=\"_blank\">in your Opik dashboard</a>.\n",
       "</pre>\n"
      ],
      "text/plain": [
       "View the results \u001b]8;id=279946;https://www.comet.com/opik/api/v1/session/redirect/experiments/?experiment_id=0196f28f-1447-7045-886e-584c16b35c68&dataset_id=0196e38c-066d-7e62-b8f6-ed97eb63387e&path=aHR0cHM6Ly93d3cuY29tZXQuY29tL29waWsvYXBpLw==\u001b\\in your Opik dashboard\u001b]8;;\u001b\\.\n"
      ]
     },
     "metadata": {},
     "output_type": "display_data"
    }
   ],
   "source": [
    "result1 = optimizer.optimize_prompt(\n",
    "    opik_dataset,\n",
    "    metric_config,\n",
    "    task_config,\n",
    "    n_trials=3,\n",
    "    n_samples=50\n",
    ")"
   ]
  },
  {
   "cell_type": "code",
   "execution_count": 19,
   "metadata": {
    "colab": {
     "base_uri": "https://localhost:8080/",
     "height": 1000
    },
    "id": "nJVmhi5Gcnkj",
    "outputId": "e1061b2c-8397-4047-cbf2-ae703f5fd9ce"
   },
   "outputs": [
    {
     "data": {
      "text/html": [
       "<pre style=\"white-space:pre;overflow-x:auto;line-height:normal;font-family:Menlo,'DejaVu Sans Mono',consolas,'Courier New',monospace\"><span style=\"color: #808000; text-decoration-color: #808000\">╔═════════════════════════════════════════════ </span><span style=\"color: #808000; text-decoration-color: #808000; font-weight: bold\">Optimization Complete</span><span style=\"color: #808000; text-decoration-color: #808000\"> ═════════════════════════════════════════════╗</span>\n",
       "<span style=\"color: #808000; text-decoration-color: #808000\">║</span>                                                                                                                 <span style=\"color: #808000; text-decoration-color: #808000\">║</span>\n",
       "<span style=\"color: #808000; text-decoration-color: #808000\">║</span> <span style=\"color: #7f7f7f; text-decoration-color: #7f7f7f\">Optimizer:         </span><span style=\"font-weight: bold\">FewShotBayesianOptimizer</span>                                                                     <span style=\"color: #808000; text-decoration-color: #808000\">║</span>\n",
       "<span style=\"color: #808000; text-decoration-color: #808000\">║</span> <span style=\"color: #7f7f7f; text-decoration-color: #7f7f7f\">Model Used:        </span>openai/gpt-4o-mini (<span style=\"color: #7f7f7f; text-decoration-color: #7f7f7f\">Temp:</span> 0.1)                                                               <span style=\"color: #808000; text-decoration-color: #808000\">║</span>\n",
       "<span style=\"color: #808000; text-decoration-color: #808000\">║</span> <span style=\"color: #7f7f7f; text-decoration-color: #7f7f7f\">Metric Evaluated:  </span><span style=\"font-weight: bold\">levenshtein_ratio_metric</span>                                                                     <span style=\"color: #808000; text-decoration-color: #808000\">║</span>\n",
       "<span style=\"color: #808000; text-decoration-color: #808000\">║</span> <span style=\"color: #7f7f7f; text-decoration-color: #7f7f7f\">Initial Score:     </span>0.1603                                                                                       <span style=\"color: #808000; text-decoration-color: #808000\">║</span>\n",
       "<span style=\"color: #808000; text-decoration-color: #808000\">║</span> <span style=\"color: #7f7f7f; text-decoration-color: #7f7f7f\">Final Best Score:  </span><span style=\"color: #008080; text-decoration-color: #008080; font-weight: bold\">0.4474</span>                                                                                       <span style=\"color: #808000; text-decoration-color: #808000\">║</span>\n",
       "<span style=\"color: #808000; text-decoration-color: #808000\">║</span> <span style=\"color: #7f7f7f; text-decoration-color: #7f7f7f\">Total Improvement: </span><span style=\"color: #008000; text-decoration-color: #008000; font-weight: bold\">179.12%</span>                                                                                      <span style=\"color: #808000; text-decoration-color: #808000\">║</span>\n",
       "<span style=\"color: #808000; text-decoration-color: #808000\">║</span> <span style=\"color: #7f7f7f; text-decoration-color: #7f7f7f\">Rounds Completed:  </span>0                                                                                            <span style=\"color: #808000; text-decoration-color: #808000\">║</span>\n",
       "<span style=\"color: #808000; text-decoration-color: #808000\">║</span> <span style=\"color: #7f7f7f; text-decoration-color: #7f7f7f\">Stopped Early:     </span>False                                                                                        <span style=\"color: #808000; text-decoration-color: #808000\">║</span>\n",
       "<span style=\"color: #808000; text-decoration-color: #808000\">║</span>                                                                                                                 <span style=\"color: #808000; text-decoration-color: #808000\">║</span>\n",
       "<span style=\"color: #808000; text-decoration-color: #808000\">║</span>                                                                                                                 <span style=\"color: #808000; text-decoration-color: #808000\">║</span>\n",
       "<span style=\"color: #808000; text-decoration-color: #808000\">║</span> <span style=\"color: #000080; text-decoration-color: #000080\">╭────────────────────────────────── </span><span style=\"color: #000080; text-decoration-color: #000080; font-weight: bold\">Final Optimized Prompt (Chat Structure)</span><span style=\"color: #000080; text-decoration-color: #000080\"> ──────────────────────────────────╮</span> <span style=\"color: #808000; text-decoration-color: #808000\">║</span>\n",
       "<span style=\"color: #808000; text-decoration-color: #808000\">║</span> <span style=\"color: #000080; text-decoration-color: #000080\">│</span>                                                                                                             <span style=\"color: #000080; text-decoration-color: #000080\">│</span> <span style=\"color: #808000; text-decoration-color: #808000\">║</span>\n",
       "<span style=\"color: #808000; text-decoration-color: #808000\">║</span> <span style=\"color: #000080; text-decoration-color: #000080\">│</span>  <span style=\"color: #7f7f7f; text-decoration-color: #7f7f7f\">Instruction:</span> <span style=\"font-style: italic\">Provide an answer to the question</span>                                                             <span style=\"color: #000080; text-decoration-color: #000080\">│</span> <span style=\"color: #808000; text-decoration-color: #808000\">║</span>\n",
       "<span style=\"color: #808000; text-decoration-color: #808000\">║</span> <span style=\"color: #000080; text-decoration-color: #000080\">│</span>  ---                                                                                                        <span style=\"color: #000080; text-decoration-color: #000080\">│</span> <span style=\"color: #808000; text-decoration-color: #808000\">║</span>\n",
       "<span style=\"color: #808000; text-decoration-color: #808000\">║</span> <span style=\"color: #000080; text-decoration-color: #000080\">│</span>  <span style=\"color: #800080; text-decoration-color: #800080; font-weight: bold\">System:</span> Provide an answer to the question                                                                  <span style=\"color: #000080; text-decoration-color: #000080\">│</span> <span style=\"color: #808000; text-decoration-color: #808000\">║</span>\n",
       "<span style=\"color: #808000; text-decoration-color: #808000\">║</span> <span style=\"color: #000080; text-decoration-color: #000080\">│</span>                                                                                                             <span style=\"color: #000080; text-decoration-color: #000080\">│</span> <span style=\"color: #808000; text-decoration-color: #808000\">║</span>\n",
       "<span style=\"color: #808000; text-decoration-color: #808000\">║</span> <span style=\"color: #000080; text-decoration-color: #000080\">│</span>  You are an intelligent assistant that learns from few-shot examples provided earlier in the conversation.  <span style=\"color: #000080; text-decoration-color: #000080\">│</span> <span style=\"color: #808000; text-decoration-color: #808000\">║</span>\n",
       "<span style=\"color: #808000; text-decoration-color: #808000\">║</span> <span style=\"color: #000080; text-decoration-color: #000080\">│</span>  Whenever you respond, carefully follow the structure, tone, and format of previous assistant replies,      <span style=\"color: #000080; text-decoration-color: #000080\">│</span> <span style=\"color: #808000; text-decoration-color: #808000\">║</span>\n",
       "<span style=\"color: #808000; text-decoration-color: #808000\">║</span> <span style=\"color: #000080; text-decoration-color: #000080\">│</span>  using them as a guide                                                                                      <span style=\"color: #000080; text-decoration-color: #000080\">│</span> <span style=\"color: #808000; text-decoration-color: #808000\">║</span>\n",
       "<span style=\"color: #808000; text-decoration-color: #808000\">║</span> <span style=\"color: #000080; text-decoration-color: #000080\">│</span>  ---                                                                                                        <span style=\"color: #000080; text-decoration-color: #000080\">│</span> <span style=\"color: #808000; text-decoration-color: #808000\">║</span>\n",
       "<span style=\"color: #808000; text-decoration-color: #808000\">║</span> <span style=\"color: #000080; text-decoration-color: #000080\">│</span>  <span style=\"color: #008000; text-decoration-color: #008000; font-weight: bold\">User:</span>                                                                                                      <span style=\"color: #000080; text-decoration-color: #000080\">│</span> <span style=\"color: #808000; text-decoration-color: #808000\">║</span>\n",
       "<span style=\"color: #808000; text-decoration-color: #808000\">║</span> <span style=\"color: #000080; text-decoration-color: #000080\">│</span>  {                                                                                                          <span style=\"color: #000080; text-decoration-color: #000080\">│</span> <span style=\"color: #808000; text-decoration-color: #808000\">║</span>\n",
       "<span style=\"color: #808000; text-decoration-color: #808000\">║</span> <span style=\"color: #000080; text-decoration-color: #000080\">│</span>    \"question\": \"Which person has a country of origin in Persia, Al-Khazini or Mohamed Hassanein Heikal?\"    <span style=\"color: #000080; text-decoration-color: #000080\">│</span> <span style=\"color: #808000; text-decoration-color: #808000\">║</span>\n",
       "<span style=\"color: #808000; text-decoration-color: #808000\">║</span> <span style=\"color: #000080; text-decoration-color: #000080\">│</span>  }                                                                                                          <span style=\"color: #000080; text-decoration-color: #000080\">│</span> <span style=\"color: #808000; text-decoration-color: #808000\">║</span>\n",
       "<span style=\"color: #808000; text-decoration-color: #808000\">║</span> <span style=\"color: #000080; text-decoration-color: #000080\">│</span>                                                                                                             <span style=\"color: #000080; text-decoration-color: #000080\">│</span> <span style=\"color: #808000; text-decoration-color: #808000\">║</span>\n",
       "<span style=\"color: #808000; text-decoration-color: #808000\">║</span> <span style=\"color: #000080; text-decoration-color: #000080\">│</span>  ---                                                                                                        <span style=\"color: #000080; text-decoration-color: #000080\">│</span> <span style=\"color: #808000; text-decoration-color: #808000\">║</span>\n",
       "<span style=\"color: #808000; text-decoration-color: #808000\">║</span> <span style=\"color: #000080; text-decoration-color: #000080\">│</span>  <span style=\"color: #000080; text-decoration-color: #000080; font-weight: bold\">Assistant:</span> Abu al-Fath Khāzini                                                                             <span style=\"color: #000080; text-decoration-color: #000080\">│</span> <span style=\"color: #808000; text-decoration-color: #808000\">║</span>\n",
       "<span style=\"color: #808000; text-decoration-color: #808000\">║</span> <span style=\"color: #000080; text-decoration-color: #000080\">│</span>  ---                                                                                                        <span style=\"color: #000080; text-decoration-color: #000080\">│</span> <span style=\"color: #808000; text-decoration-color: #808000\">║</span>\n",
       "<span style=\"color: #808000; text-decoration-color: #808000\">║</span> <span style=\"color: #000080; text-decoration-color: #000080\">│</span>  <span style=\"color: #008000; text-decoration-color: #008000; font-weight: bold\">User:</span>                                                                                                      <span style=\"color: #000080; text-decoration-color: #000080\">│</span> <span style=\"color: #808000; text-decoration-color: #808000\">║</span>\n",
       "<span style=\"color: #808000; text-decoration-color: #808000\">║</span> <span style=\"color: #000080; text-decoration-color: #000080\">│</span>  {                                                                                                          <span style=\"color: #000080; text-decoration-color: #000080\">│</span> <span style=\"color: #808000; text-decoration-color: #808000\">║</span>\n",
       "<span style=\"color: #808000; text-decoration-color: #808000\">║</span> <span style=\"color: #000080; text-decoration-color: #000080\">│</span>    \"question\": \"What was the score of the National Football League (NFL)'s champion Green Bay Packers       <span style=\"color: #000080; text-decoration-color: #000080\">│</span> <span style=\"color: #808000; text-decoration-color: #808000\">║</span>\n",
       "<span style=\"color: #808000; text-decoration-color: #808000\">║</span> <span style=\"color: #000080; text-decoration-color: #000080\">│</span>  first overall Super Bowl victory since the Orange Bowl?\"                                                   <span style=\"color: #000080; text-decoration-color: #000080\">│</span> <span style=\"color: #808000; text-decoration-color: #808000\">║</span>\n",
       "<span style=\"color: #808000; text-decoration-color: #808000\">║</span> <span style=\"color: #000080; text-decoration-color: #000080\">│</span>  }                                                                                                          <span style=\"color: #000080; text-decoration-color: #000080\">│</span> <span style=\"color: #808000; text-decoration-color: #808000\">║</span>\n",
       "<span style=\"color: #808000; text-decoration-color: #808000\">║</span> <span style=\"color: #000080; text-decoration-color: #000080\">│</span>                                                                                                             <span style=\"color: #000080; text-decoration-color: #000080\">│</span> <span style=\"color: #808000; text-decoration-color: #808000\">║</span>\n",
       "<span style=\"color: #808000; text-decoration-color: #808000\">║</span> <span style=\"color: #000080; text-decoration-color: #000080\">│</span>  ---                                                                                                        <span style=\"color: #000080; text-decoration-color: #000080\">│</span> <span style=\"color: #808000; text-decoration-color: #808000\">║</span>\n",
       "<span style=\"color: #808000; text-decoration-color: #808000\">║</span> <span style=\"color: #000080; text-decoration-color: #000080\">│</span>  <span style=\"color: #000080; text-decoration-color: #000080; font-weight: bold\">Assistant:</span> 35–21                                                                                           <span style=\"color: #000080; text-decoration-color: #000080\">│</span> <span style=\"color: #808000; text-decoration-color: #808000\">║</span>\n",
       "<span style=\"color: #808000; text-decoration-color: #808000\">║</span> <span style=\"color: #000080; text-decoration-color: #000080\">│</span>  ---                                                                                                        <span style=\"color: #000080; text-decoration-color: #000080\">│</span> <span style=\"color: #808000; text-decoration-color: #808000\">║</span>\n",
       "<span style=\"color: #808000; text-decoration-color: #808000\">║</span> <span style=\"color: #000080; text-decoration-color: #000080\">│</span>  <span style=\"color: #008000; text-decoration-color: #008000; font-weight: bold\">User:</span>                                                                                                      <span style=\"color: #000080; text-decoration-color: #000080\">│</span> <span style=\"color: #808000; text-decoration-color: #808000\">║</span>\n",
       "<span style=\"color: #808000; text-decoration-color: #808000\">║</span> <span style=\"color: #000080; text-decoration-color: #000080\">│</span>  {                                                                                                          <span style=\"color: #000080; text-decoration-color: #000080\">│</span> <span style=\"color: #808000; text-decoration-color: #808000\">║</span>\n",
       "<span style=\"color: #808000; text-decoration-color: #808000\">║</span> <span style=\"color: #000080; text-decoration-color: #000080\">│</span>    \"question\": \" Willis W. Harman worked to foster research through an American non-profit research         <span style=\"color: #000080; text-decoration-color: #000080\">│</span> <span style=\"color: #808000; text-decoration-color: #808000\">║</span>\n",
       "<span style=\"color: #808000; text-decoration-color: #808000\">║</span> <span style=\"color: #000080; text-decoration-color: #000080\">│</span>  institute co-founded by what former astronaut?\"                                                            <span style=\"color: #000080; text-decoration-color: #000080\">│</span> <span style=\"color: #808000; text-decoration-color: #808000\">║</span>\n",
       "<span style=\"color: #808000; text-decoration-color: #808000\">║</span> <span style=\"color: #000080; text-decoration-color: #000080\">│</span>  }                                                                                                          <span style=\"color: #000080; text-decoration-color: #000080\">│</span> <span style=\"color: #808000; text-decoration-color: #808000\">║</span>\n",
       "<span style=\"color: #808000; text-decoration-color: #808000\">║</span> <span style=\"color: #000080; text-decoration-color: #000080\">│</span>                                                                                                             <span style=\"color: #000080; text-decoration-color: #000080\">│</span> <span style=\"color: #808000; text-decoration-color: #808000\">║</span>\n",
       "<span style=\"color: #808000; text-decoration-color: #808000\">║</span> <span style=\"color: #000080; text-decoration-color: #000080\">│</span>  ---                                                                                                        <span style=\"color: #000080; text-decoration-color: #000080\">│</span> <span style=\"color: #808000; text-decoration-color: #808000\">║</span>\n",
       "<span style=\"color: #808000; text-decoration-color: #808000\">║</span> <span style=\"color: #000080; text-decoration-color: #000080\">│</span>  <span style=\"color: #000080; text-decoration-color: #000080; font-weight: bold\">Assistant:</span> Edgar Mitchell                                                                                  <span style=\"color: #000080; text-decoration-color: #000080\">│</span> <span style=\"color: #808000; text-decoration-color: #808000\">║</span>\n",
       "<span style=\"color: #808000; text-decoration-color: #808000\">║</span> <span style=\"color: #000080; text-decoration-color: #000080\">│</span>  ---                                                                                                        <span style=\"color: #000080; text-decoration-color: #000080\">│</span> <span style=\"color: #808000; text-decoration-color: #808000\">║</span>\n",
       "<span style=\"color: #808000; text-decoration-color: #808000\">║</span> <span style=\"color: #000080; text-decoration-color: #000080\">│</span>  <span style=\"color: #008000; text-decoration-color: #008000; font-weight: bold\">User:</span>                                                                                                      <span style=\"color: #000080; text-decoration-color: #000080\">│</span> <span style=\"color: #808000; text-decoration-color: #808000\">║</span>\n",
       "<span style=\"color: #808000; text-decoration-color: #808000\">║</span> <span style=\"color: #000080; text-decoration-color: #000080\">│</span>  {                                                                                                          <span style=\"color: #000080; text-decoration-color: #000080\">│</span> <span style=\"color: #808000; text-decoration-color: #808000\">║</span>\n",
       "<span style=\"color: #808000; text-decoration-color: #808000\">║</span> <span style=\"color: #000080; text-decoration-color: #000080\">│</span>    \"question\": \"How densely populated is this state, where one of the last actions, Battle of Point         <span style=\"color: #000080; text-decoration-color: #000080\">│</span> <span style=\"color: #808000; text-decoration-color: #808000\">║</span>\n",
       "<span style=\"color: #808000; text-decoration-color: #808000\">║</span> <span style=\"color: #000080; text-decoration-color: #000080\">│</span>  Judith, took place, compared to other U.S. states?\"                                                        <span style=\"color: #000080; text-decoration-color: #000080\">│</span> <span style=\"color: #808000; text-decoration-color: #808000\">║</span>\n",
       "<span style=\"color: #808000; text-decoration-color: #808000\">║</span> <span style=\"color: #000080; text-decoration-color: #000080\">│</span>  }                                                                                                          <span style=\"color: #000080; text-decoration-color: #000080\">│</span> <span style=\"color: #808000; text-decoration-color: #808000\">║</span>\n",
       "<span style=\"color: #808000; text-decoration-color: #808000\">║</span> <span style=\"color: #000080; text-decoration-color: #000080\">│</span>                                                                                                             <span style=\"color: #000080; text-decoration-color: #000080\">│</span> <span style=\"color: #808000; text-decoration-color: #808000\">║</span>\n",
       "<span style=\"color: #808000; text-decoration-color: #808000\">║</span> <span style=\"color: #000080; text-decoration-color: #000080\">│</span>  ---                                                                                                        <span style=\"color: #000080; text-decoration-color: #000080\">│</span> <span style=\"color: #808000; text-decoration-color: #808000\">║</span>\n",
       "<span style=\"color: #808000; text-decoration-color: #808000\">║</span> <span style=\"color: #000080; text-decoration-color: #000080\">│</span>  <span style=\"color: #000080; text-decoration-color: #000080; font-weight: bold\">Assistant:</span> second most densely populated                                                                   <span style=\"color: #000080; text-decoration-color: #000080\">│</span> <span style=\"color: #808000; text-decoration-color: #808000\">║</span>\n",
       "<span style=\"color: #808000; text-decoration-color: #808000\">║</span> <span style=\"color: #000080; text-decoration-color: #000080\">│</span>  ---                                                                                                        <span style=\"color: #000080; text-decoration-color: #000080\">│</span> <span style=\"color: #808000; text-decoration-color: #808000\">║</span>\n",
       "<span style=\"color: #808000; text-decoration-color: #808000\">║</span> <span style=\"color: #000080; text-decoration-color: #000080\">│</span>  <span style=\"color: #008000; text-decoration-color: #008000; font-weight: bold\">User:</span> {\"question\": \"{{question}}\"}                                                                         <span style=\"color: #000080; text-decoration-color: #000080\">│</span> <span style=\"color: #808000; text-decoration-color: #808000\">║</span>\n",
       "<span style=\"color: #808000; text-decoration-color: #808000\">║</span> <span style=\"color: #000080; text-decoration-color: #000080\">│</span>  ---                                                                                                        <span style=\"color: #000080; text-decoration-color: #000080\">│</span> <span style=\"color: #808000; text-decoration-color: #808000\">║</span>\n",
       "<span style=\"color: #808000; text-decoration-color: #808000\">║</span> <span style=\"color: #000080; text-decoration-color: #000080\">│</span>                                                                                                             <span style=\"color: #000080; text-decoration-color: #000080\">│</span> <span style=\"color: #808000; text-decoration-color: #808000\">║</span>\n",
       "<span style=\"color: #808000; text-decoration-color: #808000\">║</span> <span style=\"color: #000080; text-decoration-color: #000080\">╰─────────────────────────────────────────────────────────────────────────────────────────────────────────────╯</span> <span style=\"color: #808000; text-decoration-color: #808000\">║</span>\n",
       "<span style=\"color: #808000; text-decoration-color: #808000\">║</span>                                                                                                                 <span style=\"color: #808000; text-decoration-color: #808000\">║</span>\n",
       "<span style=\"color: #808000; text-decoration-color: #808000\">╚═════════════════════════════════════════════════════════════════════════════════════════════════════════════════╝</span>\n",
       "</pre>\n"
      ],
      "text/plain": [
       "\u001b[33m╔═\u001b[0m\u001b[33m════════════════════════════════════════════\u001b[0m\u001b[33m \u001b[0m\u001b[1;33mOptimization Complete\u001b[0m\u001b[33m \u001b[0m\u001b[33m════════════════════════════════════════════\u001b[0m\u001b[33m═╗\u001b[0m\n",
       "\u001b[33m║\u001b[0m                                                                                                                 \u001b[33m║\u001b[0m\n",
       "\u001b[33m║\u001b[0m \u001b[2mOptimizer:        \u001b[0m\u001b[2m \u001b[0m\u001b[1mFewShotBayesianOptimizer\u001b[0m                                                                     \u001b[33m║\u001b[0m\n",
       "\u001b[33m║\u001b[0m \u001b[2mModel Used:       \u001b[0m\u001b[2m \u001b[0mopenai/gpt-4o-mini (\u001b[2mTemp:\u001b[0m 0.1)                                                               \u001b[33m║\u001b[0m\n",
       "\u001b[33m║\u001b[0m \u001b[2mMetric Evaluated: \u001b[0m\u001b[2m \u001b[0m\u001b[1mlevenshtein_ratio_metric\u001b[0m                                                                     \u001b[33m║\u001b[0m\n",
       "\u001b[33m║\u001b[0m \u001b[2mInitial Score:    \u001b[0m\u001b[2m \u001b[0m0.1603                                                                                       \u001b[33m║\u001b[0m\n",
       "\u001b[33m║\u001b[0m \u001b[2mFinal Best Score: \u001b[0m\u001b[2m \u001b[0m\u001b[1;36m0.4474\u001b[0m                                                                                       \u001b[33m║\u001b[0m\n",
       "\u001b[33m║\u001b[0m \u001b[2mTotal Improvement:\u001b[0m\u001b[2m \u001b[0m\u001b[1;32m179.12%\u001b[0m                                                                                      \u001b[33m║\u001b[0m\n",
       "\u001b[33m║\u001b[0m \u001b[2mRounds Completed: \u001b[0m\u001b[2m \u001b[0m0                                                                                            \u001b[33m║\u001b[0m\n",
       "\u001b[33m║\u001b[0m \u001b[2mStopped Early:    \u001b[0m\u001b[2m \u001b[0mFalse                                                                                        \u001b[33m║\u001b[0m\n",
       "\u001b[33m║\u001b[0m                                                                                                                 \u001b[33m║\u001b[0m\n",
       "\u001b[33m║\u001b[0m                                                                                                                 \u001b[33m║\u001b[0m\n",
       "\u001b[33m║\u001b[0m \u001b[34m╭─\u001b[0m\u001b[34m─────────────────────────────────\u001b[0m\u001b[34m \u001b[0m\u001b[1;34mFinal Optimized Prompt (Chat Structure)\u001b[0m\u001b[34m \u001b[0m\u001b[34m─────────────────────────────────\u001b[0m\u001b[34m─╮\u001b[0m \u001b[33m║\u001b[0m\n",
       "\u001b[33m║\u001b[0m \u001b[34m│\u001b[0m                                                                                                             \u001b[34m│\u001b[0m \u001b[33m║\u001b[0m\n",
       "\u001b[33m║\u001b[0m \u001b[34m│\u001b[0m  \u001b[2mInstruction:\u001b[0m \u001b[3mProvide an answer to the question\u001b[0m                                                             \u001b[34m│\u001b[0m \u001b[33m║\u001b[0m\n",
       "\u001b[33m║\u001b[0m \u001b[34m│\u001b[0m  ---                                                                                                        \u001b[34m│\u001b[0m \u001b[33m║\u001b[0m\n",
       "\u001b[33m║\u001b[0m \u001b[34m│\u001b[0m  \u001b[1;35mSystem:\u001b[0m Provide an answer to the question                                                                  \u001b[34m│\u001b[0m \u001b[33m║\u001b[0m\n",
       "\u001b[33m║\u001b[0m \u001b[34m│\u001b[0m                                                                                                             \u001b[34m│\u001b[0m \u001b[33m║\u001b[0m\n",
       "\u001b[33m║\u001b[0m \u001b[34m│\u001b[0m  You are an intelligent assistant that learns from few-shot examples provided earlier in the conversation.  \u001b[34m│\u001b[0m \u001b[33m║\u001b[0m\n",
       "\u001b[33m║\u001b[0m \u001b[34m│\u001b[0m  Whenever you respond, carefully follow the structure, tone, and format of previous assistant replies,      \u001b[34m│\u001b[0m \u001b[33m║\u001b[0m\n",
       "\u001b[33m║\u001b[0m \u001b[34m│\u001b[0m  using them as a guide                                                                                      \u001b[34m│\u001b[0m \u001b[33m║\u001b[0m\n",
       "\u001b[33m║\u001b[0m \u001b[34m│\u001b[0m  ---                                                                                                        \u001b[34m│\u001b[0m \u001b[33m║\u001b[0m\n",
       "\u001b[33m║\u001b[0m \u001b[34m│\u001b[0m  \u001b[1;32mUser:\u001b[0m                                                                                                      \u001b[34m│\u001b[0m \u001b[33m║\u001b[0m\n",
       "\u001b[33m║\u001b[0m \u001b[34m│\u001b[0m  {                                                                                                          \u001b[34m│\u001b[0m \u001b[33m║\u001b[0m\n",
       "\u001b[33m║\u001b[0m \u001b[34m│\u001b[0m    \"question\": \"Which person has a country of origin in Persia, Al-Khazini or Mohamed Hassanein Heikal?\"    \u001b[34m│\u001b[0m \u001b[33m║\u001b[0m\n",
       "\u001b[33m║\u001b[0m \u001b[34m│\u001b[0m  }                                                                                                          \u001b[34m│\u001b[0m \u001b[33m║\u001b[0m\n",
       "\u001b[33m║\u001b[0m \u001b[34m│\u001b[0m                                                                                                             \u001b[34m│\u001b[0m \u001b[33m║\u001b[0m\n",
       "\u001b[33m║\u001b[0m \u001b[34m│\u001b[0m  ---                                                                                                        \u001b[34m│\u001b[0m \u001b[33m║\u001b[0m\n",
       "\u001b[33m║\u001b[0m \u001b[34m│\u001b[0m  \u001b[1;34mAssistant:\u001b[0m Abu al-Fath Khāzini                                                                             \u001b[34m│\u001b[0m \u001b[33m║\u001b[0m\n",
       "\u001b[33m║\u001b[0m \u001b[34m│\u001b[0m  ---                                                                                                        \u001b[34m│\u001b[0m \u001b[33m║\u001b[0m\n",
       "\u001b[33m║\u001b[0m \u001b[34m│\u001b[0m  \u001b[1;32mUser:\u001b[0m                                                                                                      \u001b[34m│\u001b[0m \u001b[33m║\u001b[0m\n",
       "\u001b[33m║\u001b[0m \u001b[34m│\u001b[0m  {                                                                                                          \u001b[34m│\u001b[0m \u001b[33m║\u001b[0m\n",
       "\u001b[33m║\u001b[0m \u001b[34m│\u001b[0m    \"question\": \"What was the score of the National Football League (NFL)'s champion Green Bay Packers       \u001b[34m│\u001b[0m \u001b[33m║\u001b[0m\n",
       "\u001b[33m║\u001b[0m \u001b[34m│\u001b[0m  first overall Super Bowl victory since the Orange Bowl?\"                                                   \u001b[34m│\u001b[0m \u001b[33m║\u001b[0m\n",
       "\u001b[33m║\u001b[0m \u001b[34m│\u001b[0m  }                                                                                                          \u001b[34m│\u001b[0m \u001b[33m║\u001b[0m\n",
       "\u001b[33m║\u001b[0m \u001b[34m│\u001b[0m                                                                                                             \u001b[34m│\u001b[0m \u001b[33m║\u001b[0m\n",
       "\u001b[33m║\u001b[0m \u001b[34m│\u001b[0m  ---                                                                                                        \u001b[34m│\u001b[0m \u001b[33m║\u001b[0m\n",
       "\u001b[33m║\u001b[0m \u001b[34m│\u001b[0m  \u001b[1;34mAssistant:\u001b[0m 35–21                                                                                           \u001b[34m│\u001b[0m \u001b[33m║\u001b[0m\n",
       "\u001b[33m║\u001b[0m \u001b[34m│\u001b[0m  ---                                                                                                        \u001b[34m│\u001b[0m \u001b[33m║\u001b[0m\n",
       "\u001b[33m║\u001b[0m \u001b[34m│\u001b[0m  \u001b[1;32mUser:\u001b[0m                                                                                                      \u001b[34m│\u001b[0m \u001b[33m║\u001b[0m\n",
       "\u001b[33m║\u001b[0m \u001b[34m│\u001b[0m  {                                                                                                          \u001b[34m│\u001b[0m \u001b[33m║\u001b[0m\n",
       "\u001b[33m║\u001b[0m \u001b[34m│\u001b[0m    \"question\": \" Willis W. Harman worked to foster research through an American non-profit research         \u001b[34m│\u001b[0m \u001b[33m║\u001b[0m\n",
       "\u001b[33m║\u001b[0m \u001b[34m│\u001b[0m  institute co-founded by what former astronaut?\"                                                            \u001b[34m│\u001b[0m \u001b[33m║\u001b[0m\n",
       "\u001b[33m║\u001b[0m \u001b[34m│\u001b[0m  }                                                                                                          \u001b[34m│\u001b[0m \u001b[33m║\u001b[0m\n",
       "\u001b[33m║\u001b[0m \u001b[34m│\u001b[0m                                                                                                             \u001b[34m│\u001b[0m \u001b[33m║\u001b[0m\n",
       "\u001b[33m║\u001b[0m \u001b[34m│\u001b[0m  ---                                                                                                        \u001b[34m│\u001b[0m \u001b[33m║\u001b[0m\n",
       "\u001b[33m║\u001b[0m \u001b[34m│\u001b[0m  \u001b[1;34mAssistant:\u001b[0m Edgar Mitchell                                                                                  \u001b[34m│\u001b[0m \u001b[33m║\u001b[0m\n",
       "\u001b[33m║\u001b[0m \u001b[34m│\u001b[0m  ---                                                                                                        \u001b[34m│\u001b[0m \u001b[33m║\u001b[0m\n",
       "\u001b[33m║\u001b[0m \u001b[34m│\u001b[0m  \u001b[1;32mUser:\u001b[0m                                                                                                      \u001b[34m│\u001b[0m \u001b[33m║\u001b[0m\n",
       "\u001b[33m║\u001b[0m \u001b[34m│\u001b[0m  {                                                                                                          \u001b[34m│\u001b[0m \u001b[33m║\u001b[0m\n",
       "\u001b[33m║\u001b[0m \u001b[34m│\u001b[0m    \"question\": \"How densely populated is this state, where one of the last actions, Battle of Point         \u001b[34m│\u001b[0m \u001b[33m║\u001b[0m\n",
       "\u001b[33m║\u001b[0m \u001b[34m│\u001b[0m  Judith, took place, compared to other U.S. states?\"                                                        \u001b[34m│\u001b[0m \u001b[33m║\u001b[0m\n",
       "\u001b[33m║\u001b[0m \u001b[34m│\u001b[0m  }                                                                                                          \u001b[34m│\u001b[0m \u001b[33m║\u001b[0m\n",
       "\u001b[33m║\u001b[0m \u001b[34m│\u001b[0m                                                                                                             \u001b[34m│\u001b[0m \u001b[33m║\u001b[0m\n",
       "\u001b[33m║\u001b[0m \u001b[34m│\u001b[0m  ---                                                                                                        \u001b[34m│\u001b[0m \u001b[33m║\u001b[0m\n",
       "\u001b[33m║\u001b[0m \u001b[34m│\u001b[0m  \u001b[1;34mAssistant:\u001b[0m second most densely populated                                                                   \u001b[34m│\u001b[0m \u001b[33m║\u001b[0m\n",
       "\u001b[33m║\u001b[0m \u001b[34m│\u001b[0m  ---                                                                                                        \u001b[34m│\u001b[0m \u001b[33m║\u001b[0m\n",
       "\u001b[33m║\u001b[0m \u001b[34m│\u001b[0m  \u001b[1;32mUser:\u001b[0m {\"question\": \"{{question}}\"}                                                                         \u001b[34m│\u001b[0m \u001b[33m║\u001b[0m\n",
       "\u001b[33m║\u001b[0m \u001b[34m│\u001b[0m  ---                                                                                                        \u001b[34m│\u001b[0m \u001b[33m║\u001b[0m\n",
       "\u001b[33m║\u001b[0m \u001b[34m│\u001b[0m                                                                                                             \u001b[34m│\u001b[0m \u001b[33m║\u001b[0m\n",
       "\u001b[33m║\u001b[0m \u001b[34m╰─────────────────────────────────────────────────────────────────────────────────────────────────────────────╯\u001b[0m \u001b[33m║\u001b[0m\n",
       "\u001b[33m║\u001b[0m                                                                                                                 \u001b[33m║\u001b[0m\n",
       "\u001b[33m╚═════════════════════════════════════════════════════════════════════════════════════════════════════════════════╝\u001b[0m\n"
      ]
     },
     "metadata": {},
     "output_type": "display_data"
    }
   ],
   "source": [
    "result1.display()"
   ]
  },
  {
   "cell_type": "markdown",
   "metadata": {
    "id": "3_ppCUe6AGH8"
   },
   "source": [
    "What did we find? The result is a series of messages:"
   ]
  },
  {
   "cell_type": "code",
   "execution_count": 21,
   "metadata": {
    "colab": {
     "base_uri": "https://localhost:8080/"
    },
    "id": "o1nDwurG_2qL",
    "outputId": "e6f09261-5b80-48f8-ccb0-034370ac12cf"
   },
   "outputs": [
    {
     "data": {
      "text/plain": [
       "[{'role': 'system',\n",
       "  'content': 'Provide an answer to the question\\n\\nYou are an intelligent assistant that learns from few-shot examples provided earlier in the conversation. Whenever you respond, carefully follow the structure, tone, and format of previous assistant replies, using them as a guide'},\n",
       " {'role': 'user',\n",
       "  'content': '\\n{\\n  \"question\": \"Did Lewis Mumford and Truman Capote share the same nationality?\"\\n}\\n'},\n",
       " {'role': 'assistant', 'content': 'yes'},\n",
       " {'role': 'user',\n",
       "  'content': '\\n{\\n  \"question\": \" The Greenskeeper is a 2002 horror film starring a former Major League Baseball relief pitcher born in which year ?\"\\n}\\n'},\n",
       " {'role': 'assistant', 'content': '1974'},\n",
       " {'role': 'user',\n",
       "  'content': '\\n{\\n  \"question\": \"Which magazine ran longer Women\\'s Physique World or Ainslee\\'s Magazine?\"\\n}\\n'},\n",
       " {'role': 'assistant', 'content': \"Ainslee's Magazine\"},\n",
       " {'role': 'user',\n",
       "  'content': '\\n{\\n  \"question\": \"Who is Israeli illusionist, magician, television personality, and self-proclaimed psychic that appeared in the NBC TV show Phenomenon along side Criss Angel and hosted by Tim Vincent ?\"\\n}\\n'},\n",
       " {'role': 'assistant', 'content': 'Uri Geller'},\n",
       " {'role': 'user', 'content': '{\"question\": \"{{question}}\"}'}]"
      ]
     },
     "execution_count": 21,
     "metadata": {},
     "output_type": "execute_result"
    }
   ],
   "source": [
    "result1.details[\"chat_messages\"]"
   ]
  },
  {
   "cell_type": "markdown",
   "metadata": {
    "id": "jwVDZcN1ALzU"
   },
   "source": [
    "We'll see how we can use those in a few minutes."
   ]
  },
  {
   "cell_type": "markdown",
   "metadata": {
    "id": "PjAeG6L8cdYj"
   },
   "source": [
    "## MetaPromptOptimizer\n",
    "\n",
    "The MetaPromptOptimizer uses a clever idea: have the LLM generate better prompts!\n",
    "\n",
    "Here is the internal system meta-prompt to have the LLM generate better prompts.\n",
    "\n",
    "```text\n",
    "You are an expert prompt engineer. Your task is to improve prompts for any type of task.\n",
    "\n",
    "Focus on making the prompt more effective by:\n",
    "\n",
    "1. Being clear and specific about what is expected\n",
    "2. Providing necessary context and constraints\n",
    "3. Guiding the model to produce the desired output format\n",
    "4. Removing ambiguity and unnecessary elements\n",
    "5. Maintaining conciseness while being complete\n",
    "\n",
    "Return a JSON array of prompts with the following structure:\n",
    "{\n",
    "    \"prompts\": [\n",
    "        {\n",
    "            \"prompt\": \"the improved prompt text\",\n",
    "            \"improvement_focus\": \"what aspect this prompt improves\",\n",
    "            \"reasoning\": \"why this improvement should help\"\n",
    "        }\n",
    "    ]\n",
    "}\n",
    "```\n",
    "\n",
    "This can work quite well on simpler datasets. It doesn't do so well on HotPot as we will see.\n",
    "\n",
    "The MetaPromptOptimizer will try a number of rounds to try to find the best prompt."
   ]
  },
  {
   "cell_type": "code",
   "execution_count": 20,
   "metadata": {
    "id": "2brgT9EGXDRW"
   },
   "outputs": [],
   "source": [
    "from opik_optimizer import (\n",
    "    MetaPromptOptimizer,\n",
    ")\n",
    "\n",
    "optimizer = MetaPromptOptimizer(\n",
    "    project_name=project_name,\n",
    "    model=\"openai/gpt-4o-mini\",  # Using gpt-4o-mini for evaluation for speed\n",
    "    max_rounds=1,  # Number of optimization rounds\n",
    "    num_prompts_per_round=2,  # Number of prompts to generate per round\n",
    "    improvement_threshold=0.01,  # Minimum improvement required to continue\n",
    "    temperature=0.1,  # Lower temperature for more focused responses\n",
    "    max_completion_tokens=5000,  # Maximum tokens for model completion\n",
    "    num_threads=1,  # Number of threads for parallel evaluation\n",
    "    subsample_size=20,  # Fixed subsample size\n",
    ")\n"
   ]
  },
  {
   "cell_type": "markdown",
   "metadata": {
    "id": "-RwrEfDCAZng"
   },
   "source": [
    "We won't do too many rounds, as this is an impossible problem without tools."
   ]
  },
  {
   "cell_type": "code",
   "execution_count": 21,
   "metadata": {
    "colab": {
     "base_uri": "https://localhost:8080/",
     "height": 1000,
     "referenced_widgets": [
     ]
    },
    "collapsed": true,
    "id": "S2JmhR9kavmn",
    "jupyter": {
     "outputs_hidden": true
    },
    "outputId": "94b9132c-6cae-4e44-cbca-432667385798"
   },
   "outputs": [
    {
     "data": {
      "application/vnd.jupyter.widget-view+json": {
       "model_id": "958a22e445a64a8c96248249c2b08877",
       "version_major": 2,
       "version_minor": 0
      },
      "text/plain": [
       "Evaluation:   0%|          | 0/20 [00:00<?, ?it/s]"
      ]
     },
     "metadata": {},
     "output_type": "display_data"
    },
    {
     "data": {
      "text/html": [
       "<pre style=\"white-space:pre;overflow-x:auto;line-height:normal;font-family:Menlo,'DejaVu Sans Mono',consolas,'Courier New',monospace\">╭─ hotpot-300 (20 samples) ──────────────╮\n",
       "│                                        │\n",
       "│ <span style=\"font-weight: bold\">Total time:       </span> 00:00:01            │\n",
       "│ <span style=\"font-weight: bold\">Number of samples:</span> 20                  │\n",
       "│                                        │\n",
       "│ <span style=\"color: #008000; text-decoration-color: #008000; font-weight: bold\">levenshtein_ratio_metric: 0.2049 (avg)</span> │\n",
       "│                                        │\n",
       "╰────────────────────────────────────────╯\n",
       "</pre>\n"
      ],
      "text/plain": [
       "╭─ hotpot-300 (20 samples) ──────────────╮\n",
       "│                                        │\n",
       "│ \u001b[1mTotal time:       \u001b[0m 00:00:01            │\n",
       "│ \u001b[1mNumber of samples:\u001b[0m 20                  │\n",
       "│                                        │\n",
       "│ \u001b[1;32mlevenshtein_ratio_metric: 0.2049 (avg)\u001b[0m │\n",
       "│                                        │\n",
       "╰────────────────────────────────────────╯\n"
      ]
     },
     "metadata": {},
     "output_type": "display_data"
    },
    {
     "data": {
      "text/html": [
       "<pre style=\"white-space:pre;overflow-x:auto;line-height:normal;font-family:Menlo,'DejaVu Sans Mono',consolas,'Courier New',monospace\">Uploading results to Opik <span style=\"color: #808000; text-decoration-color: #808000\">...</span> \n",
       "</pre>\n"
      ],
      "text/plain": [
       "Uploading results to Opik \u001b[33m...\u001b[0m \n"
      ]
     },
     "metadata": {},
     "output_type": "display_data"
    },
    {
     "data": {
      "text/html": [
       "<pre style=\"white-space:pre;overflow-x:auto;line-height:normal;font-family:Menlo,'DejaVu Sans Mono',consolas,'Courier New',monospace\">View the results <a href=\"https://www.comet.com/opik/api/v1/session/redirect/experiments/?experiment_id=0196f28f-c6b0-7807-8248-58417e9a3ed7&dataset_id=0196e38c-066d-7e62-b8f6-ed97eb63387e&path=aHR0cHM6Ly93d3cuY29tZXQuY29tL29waWsvYXBpLw==\" target=\"_blank\">in your Opik dashboard</a>.\n",
       "</pre>\n"
      ],
      "text/plain": [
       "View the results \u001b]8;id=716751;https://www.comet.com/opik/api/v1/session/redirect/experiments/?experiment_id=0196f28f-c6b0-7807-8248-58417e9a3ed7&dataset_id=0196e38c-066d-7e62-b8f6-ed97eb63387e&path=aHR0cHM6Ly93d3cuY29tZXQuY29tL29waWsvYXBpLw==\u001b\\in your Opik dashboard\u001b]8;;\u001b\\.\n"
      ]
     },
     "metadata": {},
     "output_type": "display_data"
    },
    {
     "data": {
      "application/vnd.jupyter.widget-view+json": {
       "model_id": "b3f311051f9142e49533ea21f09f8423",
       "version_major": 2,
       "version_minor": 0
      },
      "text/plain": [
       "Optimizing Prompt:   0%|                    | 0/1 [00:00<?, ?round/s, best_score=0.2049, llm_calls=0] | 0/1 [0…"
      ]
     },
     "metadata": {},
     "output_type": "display_data"
    },
    {
     "data": {
      "application/vnd.jupyter.widget-view+json": {
       "model_id": "9e2bef4bed5f41e0808204a8729a2e52",
       "version_major": 2,
       "version_minor": 0
      },
      "text/plain": [
       "Evaluation:   0%|          | 0/20 [00:00<?, ?it/s]"
      ]
     },
     "metadata": {},
     "output_type": "display_data"
    },
    {
     "data": {
      "text/html": [
       "<pre style=\"white-space:pre;overflow-x:auto;line-height:normal;font-family:Menlo,'DejaVu Sans Mono',consolas,'Courier New',monospace\">╭─ hotpot-300 (20 samples) ──────────────╮\n",
       "│                                        │\n",
       "│ <span style=\"font-weight: bold\">Total time:       </span> 00:00:02            │\n",
       "│ <span style=\"font-weight: bold\">Number of samples:</span> 20                  │\n",
       "│                                        │\n",
       "│ <span style=\"color: #008000; text-decoration-color: #008000; font-weight: bold\">levenshtein_ratio_metric: 0.1953 (avg)</span> │\n",
       "│                                        │\n",
       "╰────────────────────────────────────────╯\n",
       "</pre>\n"
      ],
      "text/plain": [
       "╭─ hotpot-300 (20 samples) ──────────────╮\n",
       "│                                        │\n",
       "│ \u001b[1mTotal time:       \u001b[0m 00:00:02            │\n",
       "│ \u001b[1mNumber of samples:\u001b[0m 20                  │\n",
       "│                                        │\n",
       "│ \u001b[1;32mlevenshtein_ratio_metric: 0.1953 (avg)\u001b[0m │\n",
       "│                                        │\n",
       "╰────────────────────────────────────────╯\n"
      ]
     },
     "metadata": {},
     "output_type": "display_data"
    },
    {
     "data": {
      "text/html": [
       "<pre style=\"white-space:pre;overflow-x:auto;line-height:normal;font-family:Menlo,'DejaVu Sans Mono',consolas,'Courier New',monospace\">Uploading results to Opik <span style=\"color: #808000; text-decoration-color: #808000\">...</span> \n",
       "</pre>\n"
      ],
      "text/plain": [
       "Uploading results to Opik \u001b[33m...\u001b[0m \n"
      ]
     },
     "metadata": {},
     "output_type": "display_data"
    },
    {
     "data": {
      "text/html": [
       "<pre style=\"white-space:pre;overflow-x:auto;line-height:normal;font-family:Menlo,'DejaVu Sans Mono',consolas,'Courier New',monospace\">View the results <a href=\"https://www.comet.com/opik/api/v1/session/redirect/experiments/?experiment_id=0196f28f-eae5-7fa6-9a59-23ea30dc027c&dataset_id=0196e38c-066d-7e62-b8f6-ed97eb63387e&path=aHR0cHM6Ly93d3cuY29tZXQuY29tL29waWsvYXBpLw==\" target=\"_blank\">in your Opik dashboard</a>.\n",
       "</pre>\n"
      ],
      "text/plain": [
       "View the results \u001b]8;id=638720;https://www.comet.com/opik/api/v1/session/redirect/experiments/?experiment_id=0196f28f-eae5-7fa6-9a59-23ea30dc027c&dataset_id=0196e38c-066d-7e62-b8f6-ed97eb63387e&path=aHR0cHM6Ly93d3cuY29tZXQuY29tL29waWsvYXBpLw==\u001b\\in your Opik dashboard\u001b]8;;\u001b\\.\n"
      ]
     },
     "metadata": {},
     "output_type": "display_data"
    },
    {
     "data": {
      "application/vnd.jupyter.widget-view+json": {
       "model_id": "36cb84b4f38d480a8ec2e288bcb0ed6d",
       "version_major": 2,
       "version_minor": 0
      },
      "text/plain": [
       "Evaluation:   0%|          | 0/20 [00:00<?, ?it/s]"
      ]
     },
     "metadata": {},
     "output_type": "display_data"
    },
    {
     "data": {
      "text/html": [
       "<pre style=\"white-space:pre;overflow-x:auto;line-height:normal;font-family:Menlo,'DejaVu Sans Mono',consolas,'Courier New',monospace\">╭─ hotpot-300 (20 samples) ──────────────╮\n",
       "│                                        │\n",
       "│ <span style=\"font-weight: bold\">Total time:       </span> 00:00:01            │\n",
       "│ <span style=\"font-weight: bold\">Number of samples:</span> 20                  │\n",
       "│                                        │\n",
       "│ <span style=\"color: #008000; text-decoration-color: #008000; font-weight: bold\">levenshtein_ratio_metric: 0.1953 (avg)</span> │\n",
       "│                                        │\n",
       "╰────────────────────────────────────────╯\n",
       "</pre>\n"
      ],
      "text/plain": [
       "╭─ hotpot-300 (20 samples) ──────────────╮\n",
       "│                                        │\n",
       "│ \u001b[1mTotal time:       \u001b[0m 00:00:01            │\n",
       "│ \u001b[1mNumber of samples:\u001b[0m 20                  │\n",
       "│                                        │\n",
       "│ \u001b[1;32mlevenshtein_ratio_metric: 0.1953 (avg)\u001b[0m │\n",
       "│                                        │\n",
       "╰────────────────────────────────────────╯\n"
      ]
     },
     "metadata": {},
     "output_type": "display_data"
    },
    {
     "data": {
      "text/html": [
       "<pre style=\"white-space:pre;overflow-x:auto;line-height:normal;font-family:Menlo,'DejaVu Sans Mono',consolas,'Courier New',monospace\">Uploading results to Opik <span style=\"color: #808000; text-decoration-color: #808000\">...</span> \n",
       "</pre>\n"
      ],
      "text/plain": [
       "Uploading results to Opik \u001b[33m...\u001b[0m \n"
      ]
     },
     "metadata": {},
     "output_type": "display_data"
    },
    {
     "data": {
      "text/html": [
       "<pre style=\"white-space:pre;overflow-x:auto;line-height:normal;font-family:Menlo,'DejaVu Sans Mono',consolas,'Courier New',monospace\">View the results <a href=\"https://www.comet.com/opik/api/v1/session/redirect/experiments/?experiment_id=0196f28f-f84c-777e-898f-3df1b6ce480f&dataset_id=0196e38c-066d-7e62-b8f6-ed97eb63387e&path=aHR0cHM6Ly93d3cuY29tZXQuY29tL29waWsvYXBpLw==\" target=\"_blank\">in your Opik dashboard</a>.\n",
       "</pre>\n"
      ],
      "text/plain": [
       "View the results \u001b]8;id=560086;https://www.comet.com/opik/api/v1/session/redirect/experiments/?experiment_id=0196f28f-f84c-777e-898f-3df1b6ce480f&dataset_id=0196e38c-066d-7e62-b8f6-ed97eb63387e&path=aHR0cHM6Ly93d3cuY29tZXQuY29tL29waWsvYXBpLw==\u001b\\in your Opik dashboard\u001b]8;;\u001b\\.\n"
      ]
     },
     "metadata": {},
     "output_type": "display_data"
    },
    {
     "data": {
      "application/vnd.jupyter.widget-view+json": {
       "model_id": "1cab31005f734eecb87f6d6c74b17e7d",
       "version_major": 2,
       "version_minor": 0
      },
      "text/plain": [
       "Evaluation:   0%|          | 0/20 [00:00<?, ?it/s]"
      ]
     },
     "metadata": {},
     "output_type": "display_data"
    },
    {
     "data": {
      "text/html": [
       "<pre style=\"white-space:pre;overflow-x:auto;line-height:normal;font-family:Menlo,'DejaVu Sans Mono',consolas,'Courier New',monospace\">╭─ hotpot-300 (20 samples) ──────────────╮\n",
       "│                                        │\n",
       "│ <span style=\"font-weight: bold\">Total time:       </span> 00:00:01            │\n",
       "│ <span style=\"font-weight: bold\">Number of samples:</span> 20                  │\n",
       "│                                        │\n",
       "│ <span style=\"color: #008000; text-decoration-color: #008000; font-weight: bold\">levenshtein_ratio_metric: 0.1953 (avg)</span> │\n",
       "│                                        │\n",
       "╰────────────────────────────────────────╯\n",
       "</pre>\n"
      ],
      "text/plain": [
       "╭─ hotpot-300 (20 samples) ──────────────╮\n",
       "│                                        │\n",
       "│ \u001b[1mTotal time:       \u001b[0m 00:00:01            │\n",
       "│ \u001b[1mNumber of samples:\u001b[0m 20                  │\n",
       "│                                        │\n",
       "│ \u001b[1;32mlevenshtein_ratio_metric: 0.1953 (avg)\u001b[0m │\n",
       "│                                        │\n",
       "╰────────────────────────────────────────╯\n"
      ]
     },
     "metadata": {},
     "output_type": "display_data"
    },
    {
     "data": {
      "text/html": [
       "<pre style=\"white-space:pre;overflow-x:auto;line-height:normal;font-family:Menlo,'DejaVu Sans Mono',consolas,'Courier New',monospace\">Uploading results to Opik <span style=\"color: #808000; text-decoration-color: #808000\">...</span> \n",
       "</pre>\n"
      ],
      "text/plain": [
       "Uploading results to Opik \u001b[33m...\u001b[0m \n"
      ]
     },
     "metadata": {},
     "output_type": "display_data"
    },
    {
     "data": {
      "text/html": [
       "<pre style=\"white-space:pre;overflow-x:auto;line-height:normal;font-family:Menlo,'DejaVu Sans Mono',consolas,'Courier New',monospace\">View the results <a href=\"https://www.comet.com/opik/api/v1/session/redirect/experiments/?experiment_id=0196f290-03b5-7156-b669-bccacd113170&dataset_id=0196e38c-066d-7e62-b8f6-ed97eb63387e&path=aHR0cHM6Ly93d3cuY29tZXQuY29tL29waWsvYXBpLw==\" target=\"_blank\">in your Opik dashboard</a>.\n",
       "</pre>\n"
      ],
      "text/plain": [
       "View the results \u001b]8;id=171339;https://www.comet.com/opik/api/v1/session/redirect/experiments/?experiment_id=0196f290-03b5-7156-b669-bccacd113170&dataset_id=0196e38c-066d-7e62-b8f6-ed97eb63387e&path=aHR0cHM6Ly93d3cuY29tZXQuY29tL29waWsvYXBpLw==\u001b\\in your Opik dashboard\u001b]8;;\u001b\\.\n"
      ]
     },
     "metadata": {},
     "output_type": "display_data"
    },
    {
     "data": {
      "application/vnd.jupyter.widget-view+json": {
       "model_id": "af044d69f95e43d8bd2041a5c5b91c58",
       "version_major": 2,
       "version_minor": 0
      },
      "text/plain": [
       "Evaluation:   0%|          | 0/20 [00:00<?, ?it/s]"
      ]
     },
     "metadata": {},
     "output_type": "display_data"
    },
    {
     "data": {
      "text/html": [
       "<pre style=\"white-space:pre;overflow-x:auto;line-height:normal;font-family:Menlo,'DejaVu Sans Mono',consolas,'Courier New',monospace\">╭─ hotpot-300 (20 samples) ──────────────╮\n",
       "│                                        │\n",
       "│ <span style=\"font-weight: bold\">Total time:       </span> 00:00:01            │\n",
       "│ <span style=\"font-weight: bold\">Number of samples:</span> 20                  │\n",
       "│                                        │\n",
       "│ <span style=\"color: #008000; text-decoration-color: #008000; font-weight: bold\">levenshtein_ratio_metric: 0.1953 (avg)</span> │\n",
       "│                                        │\n",
       "╰────────────────────────────────────────╯\n",
       "</pre>\n"
      ],
      "text/plain": [
       "╭─ hotpot-300 (20 samples) ──────────────╮\n",
       "│                                        │\n",
       "│ \u001b[1mTotal time:       \u001b[0m 00:00:01            │\n",
       "│ \u001b[1mNumber of samples:\u001b[0m 20                  │\n",
       "│                                        │\n",
       "│ \u001b[1;32mlevenshtein_ratio_metric: 0.1953 (avg)\u001b[0m │\n",
       "│                                        │\n",
       "╰────────────────────────────────────────╯\n"
      ]
     },
     "metadata": {},
     "output_type": "display_data"
    },
    {
     "data": {
      "text/html": [
       "<pre style=\"white-space:pre;overflow-x:auto;line-height:normal;font-family:Menlo,'DejaVu Sans Mono',consolas,'Courier New',monospace\">Uploading results to Opik <span style=\"color: #808000; text-decoration-color: #808000\">...</span> \n",
       "</pre>\n"
      ],
      "text/plain": [
       "Uploading results to Opik \u001b[33m...\u001b[0m \n"
      ]
     },
     "metadata": {},
     "output_type": "display_data"
    },
    {
     "data": {
      "text/html": [
       "<pre style=\"white-space:pre;overflow-x:auto;line-height:normal;font-family:Menlo,'DejaVu Sans Mono',consolas,'Courier New',monospace\">View the results <a href=\"https://www.comet.com/opik/api/v1/session/redirect/experiments/?experiment_id=0196f290-0f68-7b82-8377-baf4760a44d0&dataset_id=0196e38c-066d-7e62-b8f6-ed97eb63387e&path=aHR0cHM6Ly93d3cuY29tZXQuY29tL29waWsvYXBpLw==\" target=\"_blank\">in your Opik dashboard</a>.\n",
       "</pre>\n"
      ],
      "text/plain": [
       "View the results \u001b]8;id=283060;https://www.comet.com/opik/api/v1/session/redirect/experiments/?experiment_id=0196f290-0f68-7b82-8377-baf4760a44d0&dataset_id=0196e38c-066d-7e62-b8f6-ed97eb63387e&path=aHR0cHM6Ly93d3cuY29tZXQuY29tL29waWsvYXBpLw==\u001b\\in your Opik dashboard\u001b]8;;\u001b\\.\n"
      ]
     },
     "metadata": {},
     "output_type": "display_data"
    },
    {
     "data": {
      "application/vnd.jupyter.widget-view+json": {
       "model_id": "c24f317b6aea4ff5882fd54a927515f3",
       "version_major": 2,
       "version_minor": 0
      },
      "text/plain": [
       "Evaluation:   0%|          | 0/20 [00:00<?, ?it/s]"
      ]
     },
     "metadata": {},
     "output_type": "display_data"
    },
    {
     "data": {
      "text/html": [
       "<pre style=\"white-space:pre;overflow-x:auto;line-height:normal;font-family:Menlo,'DejaVu Sans Mono',consolas,'Courier New',monospace\">╭─ hotpot-300 (20 samples) ──────────────╮\n",
       "│                                        │\n",
       "│ <span style=\"font-weight: bold\">Total time:       </span> 00:00:01            │\n",
       "│ <span style=\"font-weight: bold\">Number of samples:</span> 20                  │\n",
       "│                                        │\n",
       "│ <span style=\"color: #008000; text-decoration-color: #008000; font-weight: bold\">levenshtein_ratio_metric: 0.1953 (avg)</span> │\n",
       "│                                        │\n",
       "╰────────────────────────────────────────╯\n",
       "</pre>\n"
      ],
      "text/plain": [
       "╭─ hotpot-300 (20 samples) ──────────────╮\n",
       "│                                        │\n",
       "│ \u001b[1mTotal time:       \u001b[0m 00:00:01            │\n",
       "│ \u001b[1mNumber of samples:\u001b[0m 20                  │\n",
       "│                                        │\n",
       "│ \u001b[1;32mlevenshtein_ratio_metric: 0.1953 (avg)\u001b[0m │\n",
       "│                                        │\n",
       "╰────────────────────────────────────────╯\n"
      ]
     },
     "metadata": {},
     "output_type": "display_data"
    },
    {
     "data": {
      "text/html": [
       "<pre style=\"white-space:pre;overflow-x:auto;line-height:normal;font-family:Menlo,'DejaVu Sans Mono',consolas,'Courier New',monospace\">Uploading results to Opik <span style=\"color: #808000; text-decoration-color: #808000\">...</span> \n",
       "</pre>\n"
      ],
      "text/plain": [
       "Uploading results to Opik \u001b[33m...\u001b[0m \n"
      ]
     },
     "metadata": {},
     "output_type": "display_data"
    },
    {
     "data": {
      "text/html": [
       "<pre style=\"white-space:pre;overflow-x:auto;line-height:normal;font-family:Menlo,'DejaVu Sans Mono',consolas,'Courier New',monospace\">View the results <a href=\"https://www.comet.com/opik/api/v1/session/redirect/experiments/?experiment_id=0196f290-1b15-7f30-96f5-9495a87dfbdf&dataset_id=0196e38c-066d-7e62-b8f6-ed97eb63387e&path=aHR0cHM6Ly93d3cuY29tZXQuY29tL29waWsvYXBpLw==\" target=\"_blank\">in your Opik dashboard</a>.\n",
       "</pre>\n"
      ],
      "text/plain": [
       "View the results \u001b]8;id=721590;https://www.comet.com/opik/api/v1/session/redirect/experiments/?experiment_id=0196f290-1b15-7f30-96f5-9495a87dfbdf&dataset_id=0196e38c-066d-7e62-b8f6-ed97eb63387e&path=aHR0cHM6Ly93d3cuY29tZXQuY29tL29waWsvYXBpLw==\u001b\\in your Opik dashboard\u001b]8;;\u001b\\.\n"
      ]
     },
     "metadata": {},
     "output_type": "display_data"
    },
    {
     "data": {
      "application/vnd.jupyter.widget-view+json": {
       "model_id": "52a73e944ec94c8cb7a65897868ac90c",
       "version_major": 2,
       "version_minor": 0
      },
      "text/plain": [
       "Evaluation:   0%|          | 0/20 [00:00<?, ?it/s]"
      ]
     },
     "metadata": {},
     "output_type": "display_data"
    },
    {
     "data": {
      "text/html": [
       "<pre style=\"white-space:pre;overflow-x:auto;line-height:normal;font-family:Menlo,'DejaVu Sans Mono',consolas,'Courier New',monospace\">╭─ hotpot-300 (20 samples) ──────────────╮\n",
       "│                                        │\n",
       "│ <span style=\"font-weight: bold\">Total time:       </span> 00:00:01            │\n",
       "│ <span style=\"font-weight: bold\">Number of samples:</span> 20                  │\n",
       "│                                        │\n",
       "│ <span style=\"color: #008000; text-decoration-color: #008000; font-weight: bold\">levenshtein_ratio_metric: 0.1953 (avg)</span> │\n",
       "│                                        │\n",
       "╰────────────────────────────────────────╯\n",
       "</pre>\n"
      ],
      "text/plain": [
       "╭─ hotpot-300 (20 samples) ──────────────╮\n",
       "│                                        │\n",
       "│ \u001b[1mTotal time:       \u001b[0m 00:00:01            │\n",
       "│ \u001b[1mNumber of samples:\u001b[0m 20                  │\n",
       "│                                        │\n",
       "│ \u001b[1;32mlevenshtein_ratio_metric: 0.1953 (avg)\u001b[0m │\n",
       "│                                        │\n",
       "╰────────────────────────────────────────╯\n"
      ]
     },
     "metadata": {},
     "output_type": "display_data"
    },
    {
     "data": {
      "text/html": [
       "<pre style=\"white-space:pre;overflow-x:auto;line-height:normal;font-family:Menlo,'DejaVu Sans Mono',consolas,'Courier New',monospace\">Uploading results to Opik <span style=\"color: #808000; text-decoration-color: #808000\">...</span> \n",
       "</pre>\n"
      ],
      "text/plain": [
       "Uploading results to Opik \u001b[33m...\u001b[0m \n"
      ]
     },
     "metadata": {},
     "output_type": "display_data"
    },
    {
     "data": {
      "text/html": [
       "<pre style=\"white-space:pre;overflow-x:auto;line-height:normal;font-family:Menlo,'DejaVu Sans Mono',consolas,'Courier New',monospace\">View the results <a href=\"https://www.comet.com/opik/api/v1/session/redirect/experiments/?experiment_id=0196f290-265a-77c7-bbe2-eb1f5ac80d0f&dataset_id=0196e38c-066d-7e62-b8f6-ed97eb63387e&path=aHR0cHM6Ly93d3cuY29tZXQuY29tL29waWsvYXBpLw==\" target=\"_blank\">in your Opik dashboard</a>.\n",
       "</pre>\n"
      ],
      "text/plain": [
       "View the results \u001b]8;id=717870;https://www.comet.com/opik/api/v1/session/redirect/experiments/?experiment_id=0196f290-265a-77c7-bbe2-eb1f5ac80d0f&dataset_id=0196e38c-066d-7e62-b8f6-ed97eb63387e&path=aHR0cHM6Ly93d3cuY29tZXQuY29tL29waWsvYXBpLw==\u001b\\in your Opik dashboard\u001b]8;;\u001b\\.\n"
      ]
     },
     "metadata": {},
     "output_type": "display_data"
    },
    {
     "data": {
      "application/vnd.jupyter.widget-view+json": {
       "model_id": "5ed95f2d6513476e933d91441f28fb9f",
       "version_major": 2,
       "version_minor": 0
      },
      "text/plain": [
       "Evaluation:   0%|          | 0/20 [00:00<?, ?it/s]"
      ]
     },
     "metadata": {},
     "output_type": "display_data"
    },
    {
     "data": {
      "text/html": [
       "<pre style=\"white-space:pre;overflow-x:auto;line-height:normal;font-family:Menlo,'DejaVu Sans Mono',consolas,'Courier New',monospace\">╭─ hotpot-300 (20 samples) ──────────────╮\n",
       "│                                        │\n",
       "│ <span style=\"font-weight: bold\">Total time:       </span> 00:00:02            │\n",
       "│ <span style=\"font-weight: bold\">Number of samples:</span> 20                  │\n",
       "│                                        │\n",
       "│ <span style=\"color: #008000; text-decoration-color: #008000; font-weight: bold\">levenshtein_ratio_metric: 0.1984 (avg)</span> │\n",
       "│                                        │\n",
       "╰────────────────────────────────────────╯\n",
       "</pre>\n"
      ],
      "text/plain": [
       "╭─ hotpot-300 (20 samples) ──────────────╮\n",
       "│                                        │\n",
       "│ \u001b[1mTotal time:       \u001b[0m 00:00:02            │\n",
       "│ \u001b[1mNumber of samples:\u001b[0m 20                  │\n",
       "│                                        │\n",
       "│ \u001b[1;32mlevenshtein_ratio_metric: 0.1984 (avg)\u001b[0m │\n",
       "│                                        │\n",
       "╰────────────────────────────────────────╯\n"
      ]
     },
     "metadata": {},
     "output_type": "display_data"
    },
    {
     "data": {
      "text/html": [
       "<pre style=\"white-space:pre;overflow-x:auto;line-height:normal;font-family:Menlo,'DejaVu Sans Mono',consolas,'Courier New',monospace\">Uploading results to Opik <span style=\"color: #808000; text-decoration-color: #808000\">...</span> \n",
       "</pre>\n"
      ],
      "text/plain": [
       "Uploading results to Opik \u001b[33m...\u001b[0m \n"
      ]
     },
     "metadata": {},
     "output_type": "display_data"
    },
    {
     "data": {
      "text/html": [
       "<pre style=\"white-space:pre;overflow-x:auto;line-height:normal;font-family:Menlo,'DejaVu Sans Mono',consolas,'Courier New',monospace\">View the results <a href=\"https://www.comet.com/opik/api/v1/session/redirect/experiments/?experiment_id=0196f290-31f5-7aae-a424-469c6c52f84b&dataset_id=0196e38c-066d-7e62-b8f6-ed97eb63387e&path=aHR0cHM6Ly93d3cuY29tZXQuY29tL29waWsvYXBpLw==\" target=\"_blank\">in your Opik dashboard</a>.\n",
       "</pre>\n"
      ],
      "text/plain": [
       "View the results \u001b]8;id=805635;https://www.comet.com/opik/api/v1/session/redirect/experiments/?experiment_id=0196f290-31f5-7aae-a424-469c6c52f84b&dataset_id=0196e38c-066d-7e62-b8f6-ed97eb63387e&path=aHR0cHM6Ly93d3cuY29tZXQuY29tL29waWsvYXBpLw==\u001b\\in your Opik dashboard\u001b]8;;\u001b\\.\n"
      ]
     },
     "metadata": {},
     "output_type": "display_data"
    },
    {
     "data": {
      "application/vnd.jupyter.widget-view+json": {
       "model_id": "53c2cc74ec7841fd8c67de0c6575fee7",
       "version_major": 2,
       "version_minor": 0
      },
      "text/plain": [
       "Evaluation:   0%|          | 0/20 [00:00<?, ?it/s]"
      ]
     },
     "metadata": {},
     "output_type": "display_data"
    },
    {
     "data": {
      "text/html": [
       "<pre style=\"white-space:pre;overflow-x:auto;line-height:normal;font-family:Menlo,'DejaVu Sans Mono',consolas,'Courier New',monospace\">╭─ hotpot-300 (20 samples) ──────────────╮\n",
       "│                                        │\n",
       "│ <span style=\"font-weight: bold\">Total time:       </span> 00:00:02            │\n",
       "│ <span style=\"font-weight: bold\">Number of samples:</span> 20                  │\n",
       "│                                        │\n",
       "│ <span style=\"color: #008000; text-decoration-color: #008000; font-weight: bold\">levenshtein_ratio_metric: 0.1984 (avg)</span> │\n",
       "│                                        │\n",
       "╰────────────────────────────────────────╯\n",
       "</pre>\n"
      ],
      "text/plain": [
       "╭─ hotpot-300 (20 samples) ──────────────╮\n",
       "│                                        │\n",
       "│ \u001b[1mTotal time:       \u001b[0m 00:00:02            │\n",
       "│ \u001b[1mNumber of samples:\u001b[0m 20                  │\n",
       "│                                        │\n",
       "│ \u001b[1;32mlevenshtein_ratio_metric: 0.1984 (avg)\u001b[0m │\n",
       "│                                        │\n",
       "╰────────────────────────────────────────╯\n"
      ]
     },
     "metadata": {},
     "output_type": "display_data"
    },
    {
     "data": {
      "text/html": [
       "<pre style=\"white-space:pre;overflow-x:auto;line-height:normal;font-family:Menlo,'DejaVu Sans Mono',consolas,'Courier New',monospace\">Uploading results to Opik <span style=\"color: #808000; text-decoration-color: #808000\">...</span> \n",
       "</pre>\n"
      ],
      "text/plain": [
       "Uploading results to Opik \u001b[33m...\u001b[0m \n"
      ]
     },
     "metadata": {},
     "output_type": "display_data"
    },
    {
     "data": {
      "text/html": [
       "<pre style=\"white-space:pre;overflow-x:auto;line-height:normal;font-family:Menlo,'DejaVu Sans Mono',consolas,'Courier New',monospace\">View the results <a href=\"https://www.comet.com/opik/api/v1/session/redirect/experiments/?experiment_id=0196f290-3fde-7dca-9104-40fcfbf5bc69&dataset_id=0196e38c-066d-7e62-b8f6-ed97eb63387e&path=aHR0cHM6Ly93d3cuY29tZXQuY29tL29waWsvYXBpLw==\" target=\"_blank\">in your Opik dashboard</a>.\n",
       "</pre>\n"
      ],
      "text/plain": [
       "View the results \u001b]8;id=240174;https://www.comet.com/opik/api/v1/session/redirect/experiments/?experiment_id=0196f290-3fde-7dca-9104-40fcfbf5bc69&dataset_id=0196e38c-066d-7e62-b8f6-ed97eb63387e&path=aHR0cHM6Ly93d3cuY29tZXQuY29tL29waWsvYXBpLw==\u001b\\in your Opik dashboard\u001b]8;;\u001b\\.\n"
      ]
     },
     "metadata": {},
     "output_type": "display_data"
    },
    {
     "data": {
      "application/vnd.jupyter.widget-view+json": {
       "model_id": "77b66fb5f77c42c3bc163ba6c4fae1d8",
       "version_major": 2,
       "version_minor": 0
      },
      "text/plain": [
       "Evaluation:   0%|          | 0/20 [00:00<?, ?it/s]"
      ]
     },
     "metadata": {},
     "output_type": "display_data"
    },
    {
     "data": {
      "text/html": [
       "<pre style=\"white-space:pre;overflow-x:auto;line-height:normal;font-family:Menlo,'DejaVu Sans Mono',consolas,'Courier New',monospace\">╭─ hotpot-300 (20 samples) ──────────────╮\n",
       "│                                        │\n",
       "│ <span style=\"font-weight: bold\">Total time:       </span> 00:00:02            │\n",
       "│ <span style=\"font-weight: bold\">Number of samples:</span> 20                  │\n",
       "│                                        │\n",
       "│ <span style=\"color: #008000; text-decoration-color: #008000; font-weight: bold\">levenshtein_ratio_metric: 0.1984 (avg)</span> │\n",
       "│                                        │\n",
       "╰────────────────────────────────────────╯\n",
       "</pre>\n"
      ],
      "text/plain": [
       "╭─ hotpot-300 (20 samples) ──────────────╮\n",
       "│                                        │\n",
       "│ \u001b[1mTotal time:       \u001b[0m 00:00:02            │\n",
       "│ \u001b[1mNumber of samples:\u001b[0m 20                  │\n",
       "│                                        │\n",
       "│ \u001b[1;32mlevenshtein_ratio_metric: 0.1984 (avg)\u001b[0m │\n",
       "│                                        │\n",
       "╰────────────────────────────────────────╯\n"
      ]
     },
     "metadata": {},
     "output_type": "display_data"
    },
    {
     "data": {
      "text/html": [
       "<pre style=\"white-space:pre;overflow-x:auto;line-height:normal;font-family:Menlo,'DejaVu Sans Mono',consolas,'Courier New',monospace\">Uploading results to Opik <span style=\"color: #808000; text-decoration-color: #808000\">...</span> \n",
       "</pre>\n"
      ],
      "text/plain": [
       "Uploading results to Opik \u001b[33m...\u001b[0m \n"
      ]
     },
     "metadata": {},
     "output_type": "display_data"
    },
    {
     "data": {
      "text/html": [
       "<pre style=\"white-space:pre;overflow-x:auto;line-height:normal;font-family:Menlo,'DejaVu Sans Mono',consolas,'Courier New',monospace\">View the results <a href=\"https://www.comet.com/opik/api/v1/session/redirect/experiments/?experiment_id=0196f290-4b96-7844-b4c8-8c01bb151711&dataset_id=0196e38c-066d-7e62-b8f6-ed97eb63387e&path=aHR0cHM6Ly93d3cuY29tZXQuY29tL29waWsvYXBpLw==\" target=\"_blank\">in your Opik dashboard</a>.\n",
       "</pre>\n"
      ],
      "text/plain": [
       "View the results \u001b]8;id=844151;https://www.comet.com/opik/api/v1/session/redirect/experiments/?experiment_id=0196f290-4b96-7844-b4c8-8c01bb151711&dataset_id=0196e38c-066d-7e62-b8f6-ed97eb63387e&path=aHR0cHM6Ly93d3cuY29tZXQuY29tL29waWsvYXBpLw==\u001b\\in your Opik dashboard\u001b]8;;\u001b\\.\n"
      ]
     },
     "metadata": {},
     "output_type": "display_data"
    },
    {
     "data": {
      "application/vnd.jupyter.widget-view+json": {
       "model_id": "e9811226e48e4d0cacf909e7f7f9fe78",
       "version_major": 2,
       "version_minor": 0
      },
      "text/plain": [
       "Evaluation:   0%|          | 0/20 [00:00<?, ?it/s]"
      ]
     },
     "metadata": {},
     "output_type": "display_data"
    },
    {
     "data": {
      "text/html": [
       "<pre style=\"white-space:pre;overflow-x:auto;line-height:normal;font-family:Menlo,'DejaVu Sans Mono',consolas,'Courier New',monospace\">╭─ hotpot-300 (20 samples) ──────────────╮\n",
       "│                                        │\n",
       "│ <span style=\"font-weight: bold\">Total time:       </span> 00:00:01            │\n",
       "│ <span style=\"font-weight: bold\">Number of samples:</span> 20                  │\n",
       "│                                        │\n",
       "│ <span style=\"color: #008000; text-decoration-color: #008000; font-weight: bold\">levenshtein_ratio_metric: 0.1984 (avg)</span> │\n",
       "│                                        │\n",
       "╰────────────────────────────────────────╯\n",
       "</pre>\n"
      ],
      "text/plain": [
       "╭─ hotpot-300 (20 samples) ──────────────╮\n",
       "│                                        │\n",
       "│ \u001b[1mTotal time:       \u001b[0m 00:00:01            │\n",
       "│ \u001b[1mNumber of samples:\u001b[0m 20                  │\n",
       "│                                        │\n",
       "│ \u001b[1;32mlevenshtein_ratio_metric: 0.1984 (avg)\u001b[0m │\n",
       "│                                        │\n",
       "╰────────────────────────────────────────╯\n"
      ]
     },
     "metadata": {},
     "output_type": "display_data"
    },
    {
     "data": {
      "text/html": [
       "<pre style=\"white-space:pre;overflow-x:auto;line-height:normal;font-family:Menlo,'DejaVu Sans Mono',consolas,'Courier New',monospace\">Uploading results to Opik <span style=\"color: #808000; text-decoration-color: #808000\">...</span> \n",
       "</pre>\n"
      ],
      "text/plain": [
       "Uploading results to Opik \u001b[33m...\u001b[0m \n"
      ]
     },
     "metadata": {},
     "output_type": "display_data"
    },
    {
     "data": {
      "text/html": [
       "<pre style=\"white-space:pre;overflow-x:auto;line-height:normal;font-family:Menlo,'DejaVu Sans Mono',consolas,'Courier New',monospace\">View the results <a href=\"https://www.comet.com/opik/api/v1/session/redirect/experiments/?experiment_id=0196f290-579a-77f1-8c91-5a2f693b8ae5&dataset_id=0196e38c-066d-7e62-b8f6-ed97eb63387e&path=aHR0cHM6Ly93d3cuY29tZXQuY29tL29waWsvYXBpLw==\" target=\"_blank\">in your Opik dashboard</a>.\n",
       "</pre>\n"
      ],
      "text/plain": [
       "View the results \u001b]8;id=280746;https://www.comet.com/opik/api/v1/session/redirect/experiments/?experiment_id=0196f290-579a-77f1-8c91-5a2f693b8ae5&dataset_id=0196e38c-066d-7e62-b8f6-ed97eb63387e&path=aHR0cHM6Ly93d3cuY29tZXQuY29tL29waWsvYXBpLw==\u001b\\in your Opik dashboard\u001b]8;;\u001b\\.\n"
      ]
     },
     "metadata": {},
     "output_type": "display_data"
    },
    {
     "data": {
      "application/vnd.jupyter.widget-view+json": {
       "model_id": "b2059488d2ca497fa4b28960c7854a06",
       "version_major": 2,
       "version_minor": 0
      },
      "text/plain": [
       "Evaluation:   0%|          | 0/20 [00:00<?, ?it/s]"
      ]
     },
     "metadata": {},
     "output_type": "display_data"
    },
    {
     "data": {
      "text/html": [
       "<pre style=\"white-space:pre;overflow-x:auto;line-height:normal;font-family:Menlo,'DejaVu Sans Mono',consolas,'Courier New',monospace\">╭─ hotpot-300 (20 samples) ──────────────╮\n",
       "│                                        │\n",
       "│ <span style=\"font-weight: bold\">Total time:       </span> 00:00:02            │\n",
       "│ <span style=\"font-weight: bold\">Number of samples:</span> 20                  │\n",
       "│                                        │\n",
       "│ <span style=\"color: #008000; text-decoration-color: #008000; font-weight: bold\">levenshtein_ratio_metric: 0.1984 (avg)</span> │\n",
       "│                                        │\n",
       "╰────────────────────────────────────────╯\n",
       "</pre>\n"
      ],
      "text/plain": [
       "╭─ hotpot-300 (20 samples) ──────────────╮\n",
       "│                                        │\n",
       "│ \u001b[1mTotal time:       \u001b[0m 00:00:02            │\n",
       "│ \u001b[1mNumber of samples:\u001b[0m 20                  │\n",
       "│                                        │\n",
       "│ \u001b[1;32mlevenshtein_ratio_metric: 0.1984 (avg)\u001b[0m │\n",
       "│                                        │\n",
       "╰────────────────────────────────────────╯\n"
      ]
     },
     "metadata": {},
     "output_type": "display_data"
    },
    {
     "data": {
      "text/html": [
       "<pre style=\"white-space:pre;overflow-x:auto;line-height:normal;font-family:Menlo,'DejaVu Sans Mono',consolas,'Courier New',monospace\">Uploading results to Opik <span style=\"color: #808000; text-decoration-color: #808000\">...</span> \n",
       "</pre>\n"
      ],
      "text/plain": [
       "Uploading results to Opik \u001b[33m...\u001b[0m \n"
      ]
     },
     "metadata": {},
     "output_type": "display_data"
    },
    {
     "data": {
      "text/html": [
       "<pre style=\"white-space:pre;overflow-x:auto;line-height:normal;font-family:Menlo,'DejaVu Sans Mono',consolas,'Courier New',monospace\">View the results <a href=\"https://www.comet.com/opik/api/v1/session/redirect/experiments/?experiment_id=0196f290-6357-7379-a87e-28e857457ebb&dataset_id=0196e38c-066d-7e62-b8f6-ed97eb63387e&path=aHR0cHM6Ly93d3cuY29tZXQuY29tL29waWsvYXBpLw==\" target=\"_blank\">in your Opik dashboard</a>.\n",
       "</pre>\n"
      ],
      "text/plain": [
       "View the results \u001b]8;id=957492;https://www.comet.com/opik/api/v1/session/redirect/experiments/?experiment_id=0196f290-6357-7379-a87e-28e857457ebb&dataset_id=0196e38c-066d-7e62-b8f6-ed97eb63387e&path=aHR0cHM6Ly93d3cuY29tZXQuY29tL29waWsvYXBpLw==\u001b\\in your Opik dashboard\u001b]8;;\u001b\\.\n"
      ]
     },
     "metadata": {},
     "output_type": "display_data"
    },
    {
     "data": {
      "application/vnd.jupyter.widget-view+json": {
       "model_id": "2765eb296d4647c8b56a338804b8654f",
       "version_major": 2,
       "version_minor": 0
      },
      "text/plain": [
       "Evaluation:   0%|          | 0/20 [00:00<?, ?it/s]"
      ]
     },
     "metadata": {},
     "output_type": "display_data"
    },
    {
     "data": {
      "text/html": [
       "<pre style=\"white-space:pre;overflow-x:auto;line-height:normal;font-family:Menlo,'DejaVu Sans Mono',consolas,'Courier New',monospace\">╭─ hotpot-300 (20 samples) ──────────────╮\n",
       "│                                        │\n",
       "│ <span style=\"font-weight: bold\">Total time:       </span> 00:00:02            │\n",
       "│ <span style=\"font-weight: bold\">Number of samples:</span> 20                  │\n",
       "│                                        │\n",
       "│ <span style=\"color: #008000; text-decoration-color: #008000; font-weight: bold\">levenshtein_ratio_metric: 0.1984 (avg)</span> │\n",
       "│                                        │\n",
       "╰────────────────────────────────────────╯\n",
       "</pre>\n"
      ],
      "text/plain": [
       "╭─ hotpot-300 (20 samples) ──────────────╮\n",
       "│                                        │\n",
       "│ \u001b[1mTotal time:       \u001b[0m 00:00:02            │\n",
       "│ \u001b[1mNumber of samples:\u001b[0m 20                  │\n",
       "│                                        │\n",
       "│ \u001b[1;32mlevenshtein_ratio_metric: 0.1984 (avg)\u001b[0m │\n",
       "│                                        │\n",
       "╰────────────────────────────────────────╯\n"
      ]
     },
     "metadata": {},
     "output_type": "display_data"
    },
    {
     "data": {
      "text/html": [
       "<pre style=\"white-space:pre;overflow-x:auto;line-height:normal;font-family:Menlo,'DejaVu Sans Mono',consolas,'Courier New',monospace\">Uploading results to Opik <span style=\"color: #808000; text-decoration-color: #808000\">...</span> \n",
       "</pre>\n"
      ],
      "text/plain": [
       "Uploading results to Opik \u001b[33m...\u001b[0m \n"
      ]
     },
     "metadata": {},
     "output_type": "display_data"
    },
    {
     "data": {
      "text/html": [
       "<pre style=\"white-space:pre;overflow-x:auto;line-height:normal;font-family:Menlo,'DejaVu Sans Mono',consolas,'Courier New',monospace\">View the results <a href=\"https://www.comet.com/opik/api/v1/session/redirect/experiments/?experiment_id=0196f290-6f43-759f-9e75-d8b6dfcdc8cf&dataset_id=0196e38c-066d-7e62-b8f6-ed97eb63387e&path=aHR0cHM6Ly93d3cuY29tZXQuY29tL29waWsvYXBpLw==\" target=\"_blank\">in your Opik dashboard</a>.\n",
       "</pre>\n"
      ],
      "text/plain": [
       "View the results \u001b]8;id=918938;https://www.comet.com/opik/api/v1/session/redirect/experiments/?experiment_id=0196f290-6f43-759f-9e75-d8b6dfcdc8cf&dataset_id=0196e38c-066d-7e62-b8f6-ed97eb63387e&path=aHR0cHM6Ly93d3cuY29tZXQuY29tL29waWsvYXBpLw==\u001b\\in your Opik dashboard\u001b]8;;\u001b\\.\n"
      ]
     },
     "metadata": {},
     "output_type": "display_data"
    }
   ],
   "source": [
    "result2 = optimizer.optimize_prompt(\n",
    "    dataset=opik_dataset,\n",
    "    metric_config=metric_config,\n",
    "    task_config=task_config,\n",
    "    auto_continue=False,\n",
    "    n_samples=20,  # Explicitly set\n",
    "    use_subsample=True,  # Force using subsample for evaluation rounds\n",
    ")"
   ]
  },
  {
   "cell_type": "code",
   "execution_count": 22,
   "metadata": {
    "colab": {
     "base_uri": "https://localhost:8080/",
     "height": 321
    },
    "id": "XkHo9GlWckWR",
    "outputId": "d0b4dd0c-124f-461f-dba8-3529dbf85cdb"
   },
   "outputs": [
    {
     "data": {
      "text/html": [
       "<pre style=\"white-space:pre;overflow-x:auto;line-height:normal;font-family:Menlo,'DejaVu Sans Mono',consolas,'Courier New',monospace\"><span style=\"color: #808000; text-decoration-color: #808000\">╔═════════════════════════════════════════════ </span><span style=\"color: #808000; text-decoration-color: #808000; font-weight: bold\">Optimization Complete</span><span style=\"color: #808000; text-decoration-color: #808000\"> ═════════════════════════════════════════════╗</span>\n",
       "<span style=\"color: #808000; text-decoration-color: #808000\">║</span>                                                                                                                 <span style=\"color: #808000; text-decoration-color: #808000\">║</span>\n",
       "<span style=\"color: #808000; text-decoration-color: #808000\">║</span> <span style=\"color: #7f7f7f; text-decoration-color: #7f7f7f\">Optimizer:         </span><span style=\"font-weight: bold\">MetaPromptOptimizer</span>                                                                          <span style=\"color: #808000; text-decoration-color: #808000\">║</span>\n",
       "<span style=\"color: #808000; text-decoration-color: #808000\">║</span> <span style=\"color: #7f7f7f; text-decoration-color: #7f7f7f\">Model Used:        </span>openai/gpt-4o-mini (<span style=\"color: #7f7f7f; text-decoration-color: #7f7f7f\">Temp:</span> 0.1)                                                               <span style=\"color: #808000; text-decoration-color: #808000\">║</span>\n",
       "<span style=\"color: #808000; text-decoration-color: #808000\">║</span> <span style=\"color: #7f7f7f; text-decoration-color: #7f7f7f\">Metric Evaluated:  </span><span style=\"font-weight: bold\">levenshtein_ratio_metric</span>                                                                     <span style=\"color: #808000; text-decoration-color: #808000\">║</span>\n",
       "<span style=\"color: #808000; text-decoration-color: #808000\">║</span> <span style=\"color: #7f7f7f; text-decoration-color: #7f7f7f\">Initial Score:     </span>0.2049                                                                                       <span style=\"color: #808000; text-decoration-color: #808000\">║</span>\n",
       "<span style=\"color: #808000; text-decoration-color: #808000\">║</span> <span style=\"color: #7f7f7f; text-decoration-color: #7f7f7f\">Final Best Score:  </span><span style=\"color: #008080; text-decoration-color: #008080; font-weight: bold\">0.2049</span>                                                                                       <span style=\"color: #808000; text-decoration-color: #808000\">║</span>\n",
       "<span style=\"color: #808000; text-decoration-color: #808000\">║</span> <span style=\"color: #7f7f7f; text-decoration-color: #7f7f7f\">Total Improvement: </span>0.00%                                                                                        <span style=\"color: #808000; text-decoration-color: #808000\">║</span>\n",
       "<span style=\"color: #808000; text-decoration-color: #808000\">║</span> <span style=\"color: #7f7f7f; text-decoration-color: #7f7f7f\">Rounds Completed:  </span>1                                                                                            <span style=\"color: #808000; text-decoration-color: #808000\">║</span>\n",
       "<span style=\"color: #808000; text-decoration-color: #808000\">║</span> <span style=\"color: #7f7f7f; text-decoration-color: #7f7f7f\">Stopped Early:     </span>False                                                                                        <span style=\"color: #808000; text-decoration-color: #808000\">║</span>\n",
       "<span style=\"color: #808000; text-decoration-color: #808000\">║</span>                                                                                                                 <span style=\"color: #808000; text-decoration-color: #808000\">║</span>\n",
       "<span style=\"color: #808000; text-decoration-color: #808000\">║</span>                                                                                                                 <span style=\"color: #808000; text-decoration-color: #808000\">║</span>\n",
       "<span style=\"color: #808000; text-decoration-color: #808000\">║</span> <span style=\"color: #000080; text-decoration-color: #000080\">╭─────────────────────────────────── </span><span style=\"color: #000080; text-decoration-color: #000080; font-weight: bold\">Final Optimized Prompt (Instruction)</span><span style=\"color: #000080; text-decoration-color: #000080\"> ────────────────────────────────────╮</span> <span style=\"color: #808000; text-decoration-color: #808000\">║</span>\n",
       "<span style=\"color: #808000; text-decoration-color: #808000\">║</span> <span style=\"color: #000080; text-decoration-color: #000080\">│</span>                                                                                                             <span style=\"color: #000080; text-decoration-color: #000080\">│</span> <span style=\"color: #808000; text-decoration-color: #808000\">║</span>\n",
       "<span style=\"color: #808000; text-decoration-color: #808000\">║</span> <span style=\"color: #000080; text-decoration-color: #000080\">│</span>  Provide an answer to the question                                                                          <span style=\"color: #000080; text-decoration-color: #000080\">│</span> <span style=\"color: #808000; text-decoration-color: #808000\">║</span>\n",
       "<span style=\"color: #808000; text-decoration-color: #808000\">║</span> <span style=\"color: #000080; text-decoration-color: #000080\">│</span>                                                                                                             <span style=\"color: #000080; text-decoration-color: #000080\">│</span> <span style=\"color: #808000; text-decoration-color: #808000\">║</span>\n",
       "<span style=\"color: #808000; text-decoration-color: #808000\">║</span> <span style=\"color: #000080; text-decoration-color: #000080\">╰─────────────────────────────────────────────────────────────────────────────────────────────────────────────╯</span> <span style=\"color: #808000; text-decoration-color: #808000\">║</span>\n",
       "<span style=\"color: #808000; text-decoration-color: #808000\">║</span>                                                                                                                 <span style=\"color: #808000; text-decoration-color: #808000\">║</span>\n",
       "<span style=\"color: #808000; text-decoration-color: #808000\">╚═════════════════════════════════════════════════════════════════════════════════════════════════════════════════╝</span>\n",
       "</pre>\n"
      ],
      "text/plain": [
       "\u001b[33m╔═\u001b[0m\u001b[33m════════════════════════════════════════════\u001b[0m\u001b[33m \u001b[0m\u001b[1;33mOptimization Complete\u001b[0m\u001b[33m \u001b[0m\u001b[33m════════════════════════════════════════════\u001b[0m\u001b[33m═╗\u001b[0m\n",
       "\u001b[33m║\u001b[0m                                                                                                                 \u001b[33m║\u001b[0m\n",
       "\u001b[33m║\u001b[0m \u001b[2mOptimizer:        \u001b[0m\u001b[2m \u001b[0m\u001b[1mMetaPromptOptimizer\u001b[0m                                                                          \u001b[33m║\u001b[0m\n",
       "\u001b[33m║\u001b[0m \u001b[2mModel Used:       \u001b[0m\u001b[2m \u001b[0mopenai/gpt-4o-mini (\u001b[2mTemp:\u001b[0m 0.1)                                                               \u001b[33m║\u001b[0m\n",
       "\u001b[33m║\u001b[0m \u001b[2mMetric Evaluated: \u001b[0m\u001b[2m \u001b[0m\u001b[1mlevenshtein_ratio_metric\u001b[0m                                                                     \u001b[33m║\u001b[0m\n",
       "\u001b[33m║\u001b[0m \u001b[2mInitial Score:    \u001b[0m\u001b[2m \u001b[0m0.2049                                                                                       \u001b[33m║\u001b[0m\n",
       "\u001b[33m║\u001b[0m \u001b[2mFinal Best Score: \u001b[0m\u001b[2m \u001b[0m\u001b[1;36m0.2049\u001b[0m                                                                                       \u001b[33m║\u001b[0m\n",
       "\u001b[33m║\u001b[0m \u001b[2mTotal Improvement:\u001b[0m\u001b[2m \u001b[0m0.00%                                                                                        \u001b[33m║\u001b[0m\n",
       "\u001b[33m║\u001b[0m \u001b[2mRounds Completed: \u001b[0m\u001b[2m \u001b[0m1                                                                                            \u001b[33m║\u001b[0m\n",
       "\u001b[33m║\u001b[0m \u001b[2mStopped Early:    \u001b[0m\u001b[2m \u001b[0mFalse                                                                                        \u001b[33m║\u001b[0m\n",
       "\u001b[33m║\u001b[0m                                                                                                                 \u001b[33m║\u001b[0m\n",
       "\u001b[33m║\u001b[0m                                                                                                                 \u001b[33m║\u001b[0m\n",
       "\u001b[33m║\u001b[0m \u001b[34m╭─\u001b[0m\u001b[34m──────────────────────────────────\u001b[0m\u001b[34m \u001b[0m\u001b[1;34mFinal Optimized Prompt (Instruction)\u001b[0m\u001b[34m \u001b[0m\u001b[34m───────────────────────────────────\u001b[0m\u001b[34m─╮\u001b[0m \u001b[33m║\u001b[0m\n",
       "\u001b[33m║\u001b[0m \u001b[34m│\u001b[0m                                                                                                             \u001b[34m│\u001b[0m \u001b[33m║\u001b[0m\n",
       "\u001b[33m║\u001b[0m \u001b[34m│\u001b[0m  Provide an answer to the question                                                                          \u001b[34m│\u001b[0m \u001b[33m║\u001b[0m\n",
       "\u001b[33m║\u001b[0m \u001b[34m│\u001b[0m                                                                                                             \u001b[34m│\u001b[0m \u001b[33m║\u001b[0m\n",
       "\u001b[33m║\u001b[0m \u001b[34m╰─────────────────────────────────────────────────────────────────────────────────────────────────────────────╯\u001b[0m \u001b[33m║\u001b[0m\n",
       "\u001b[33m║\u001b[0m                                                                                                                 \u001b[33m║\u001b[0m\n",
       "\u001b[33m╚═════════════════════════════════════════════════════════════════════════════════════════════════════════════════╝\u001b[0m\n"
      ]
     },
     "metadata": {},
     "output_type": "display_data"
    }
   ],
   "source": [
    "result2.display()"
   ]
  },
  {
   "cell_type": "markdown",
   "metadata": {
    "id": "z9DhnkNkkY2u"
   },
   "source": [
    "## MiproOptimizer\n",
    "\n",
    "MIPRO (Multi-Iteration Prompt Optimization) is an optimizer algorithm that refines both prompts and few-shot examples in a multi-stage LLM program. It works by generating, evaluating, and refining prompts to improve language model performance. MIPRO is a more advanced method than simply \"prompt hacking,\" offering real optimization of LLM workflows.\n",
    "\n",
    "This sophisticated method optimizes both instructions and examples together. Using Bayesian optimization (like the FewShotBayesianOptimizer), it finds the best combinations of both elements. Through multiple testing rounds, it creates an optimized prompt that pairs effective instructions with relevant examples.\n",
    "\n",
    "For thi first optimization, we aren't going to give it any tools to work with. Let's see how it works:"
   ]
  },
  {
   "cell_type": "code",
   "execution_count": 23,
   "metadata": {
    "id": "P5v7cOoBS-np"
   },
   "outputs": [],
   "source": [
    "from opik_optimizer import MiproOptimizer\n",
    "\n",
    "optimizer = MiproOptimizer(\n",
    "    model=\"openai/gpt-4o-mini\",  # LiteLLM or OpenAI name\n",
    "    project_name=project_name,\n",
    "    temperature=0.1,\n",
    "    num_threads=16,\n",
    ")"
   ]
  },
  {
   "cell_type": "markdown",
   "metadata": {
    "id": "lM3HmAKaES5Q"
   },
   "source": [
    "Remember that we are still starting with the initial prompt:"
   ]
  },
  {
   "cell_type": "code",
   "execution_count": 24,
   "metadata": {
    "colab": {
     "base_uri": "https://localhost:8080/",
     "height": 35
    },
    "id": "eQw3J9jaOn4c",
    "outputId": "b4e8ec44-445a-4884-e115-a368fb35bb7b"
   },
   "outputs": [
    {
     "data": {
      "application/vnd.google.colaboratory.intrinsic+json": {
       "type": "string"
      },
      "text/plain": [
       "'Provide an answer to the question'"
      ]
     },
     "execution_count": 24,
     "metadata": {},
     "output_type": "execute_result"
    }
   ],
   "source": [
    "initial_prompt"
   ]
  },
  {
   "cell_type": "code",
   "execution_count": 25,
   "metadata": {
    "colab": {
     "base_uri": "https://localhost:8080/",
     "height": 1000,
     "referenced_widgets": [
     ]
    },
    "id": "-yTxOdJbUOX7",
    "outputId": "80f68c06-74bb-410c-fc6d-0d806caf6c17"
   },
   "outputs": [
    {
     "name": "stdout",
     "output_type": "stream",
     "text": [
      "\n",
      "RUNNING WITH THE FOLLOWING LIGHT AUTO RUN SETTINGS:\n",
      "num_trials: 7\n",
      "minibatch: False\n",
      "num_candidates: 5\n",
      "valset size: 40\n",
      "\n",
      "\n",
      "==> STEP 1: BOOTSTRAP FEWSHOT EXAMPLES <==\n",
      "These will be used as few-shot example candidates for our program and for creating instructions.\n",
      "\n",
      "Bootstrapping N=5 sets of demonstrations...\n",
      "Bootstrapping set 1/5\n",
      "Bootstrapping set 2/5\n",
      "Bootstrapping set 3/5\n"
     ]
    },
    {
     "name": "stderr",
     "output_type": "stream",
     "text": [
      " 40%|████      | 4/10 [00:04<00:06,  1.08s/it]\n"
     ]
    },
    {
     "name": "stdout",
     "output_type": "stream",
     "text": [
      "Bootstrapped 4 full traces after 4 examples for up to 1 rounds, amounting to 4 attempts.\n",
      "Bootstrapping set 4/5\n"
     ]
    },
    {
     "name": "stderr",
     "output_type": "stream",
     "text": [
      " 40%|████      | 4/10 [00:03<00:05,  1.04it/s]\n"
     ]
    },
    {
     "name": "stdout",
     "output_type": "stream",
     "text": [
      "Bootstrapped 4 full traces after 4 examples for up to 1 rounds, amounting to 4 attempts.\n",
      "Bootstrapping set 5/5\n"
     ]
    },
    {
     "name": "stderr",
     "output_type": "stream",
     "text": [
      " 20%|██        | 2/10 [00:01<00:04,  1.75it/s]\n"
     ]
    },
    {
     "name": "stdout",
     "output_type": "stream",
     "text": [
      "Bootstrapped 2 full traces after 2 examples for up to 1 rounds, amounting to 2 attempts.\n",
      "\n",
      "==> STEP 2: PROPOSE INSTRUCTION CANDIDATES <==\n",
      "We will use the few-shot examples from the previous step, a generated dataset summary, a summary of the program code, and a randomly selected prompting tip to propose instructions.\n",
      "\n",
      "Proposing instructions...\n",
      "\n",
      "Proposed Instructions for Predictor 0:\n",
      "\n",
      "0: Provide an answer to the question\n",
      "\n",
      "1: Please analyze the following question and provide a clear, concise, and accurate answer based on your knowledge:\n",
      "\n",
      "2: Please provide a concise and informative answer to the following question based on the dataset:\n",
      "\n",
      "3: In a high-stakes quiz competition, where every second counts, you are tasked with providing accurate answers to a series of challenging questions from diverse topics like food, music, and politics. Your goal is to quickly and correctly respond to each question posed, utilizing the knowledge you've acquired. For example, if asked, \"Who wrote the memoir from which the 2014 British biographical romantic drama starring English actor Vincenzo Leonardo 'Enzo' Cilenti was adapted?\", respond promptly with the correct answer. Remember, the accuracy of your answers could determine the outcome of the competition, so focus on clarity and relevance in your responses.\n",
      "\n",
      "4: Transform the user's trivia question into a clear and concise answer by leveraging the knowledge encoded in the language model. Ensure that your response is accurate, relevant, and directly addresses the query while incorporating any necessary context or details to enhance understanding.\n",
      "\n",
      "\n",
      "\n",
      "==> STEP 3: FINDING OPTIMAL PROMPT PARAMETERS <==\n",
      "We will evaluate the program over a series of trials with different combinations of instructions and few-shot examples to find the optimal combination using Bayesian Optimization.\n",
      "\n",
      "== Trial 1 / 7 - Full Evaluation of Default Program ==\n"
     ]
    },
    {
     "data": {
      "application/vnd.jupyter.widget-view+json": {
       "model_id": "10f88a1669af465f8f191ce47283bbd9",
       "version_major": 2,
       "version_minor": 0
      },
      "text/plain": [
       "Evaluation:   0%|          | 0/40 [00:00<?, ?it/s]"
      ]
     },
     "metadata": {},
     "output_type": "display_data"
    },
    {
     "data": {
      "text/html": [
       "<pre style=\"white-space:pre;overflow-x:auto;line-height:normal;font-family:Menlo,'DejaVu Sans Mono',consolas,'Courier New',monospace\">╭─ hotpot-300 (40 samples) ──────────────╮\n",
       "│                                        │\n",
       "│ <span style=\"font-weight: bold\">Total time:       </span> 00:00:05            │\n",
       "│ <span style=\"font-weight: bold\">Number of samples:</span> 40                  │\n",
       "│                                        │\n",
       "│ <span style=\"color: #008000; text-decoration-color: #008000; font-weight: bold\">levenshtein_ratio_metric: 0.1817 (avg)</span> │\n",
       "│                                        │\n",
       "╰────────────────────────────────────────╯\n",
       "</pre>\n"
      ],
      "text/plain": [
       "╭─ hotpot-300 (40 samples) ──────────────╮\n",
       "│                                        │\n",
       "│ \u001b[1mTotal time:       \u001b[0m 00:00:05            │\n",
       "│ \u001b[1mNumber of samples:\u001b[0m 40                  │\n",
       "│                                        │\n",
       "│ \u001b[1;32mlevenshtein_ratio_metric: 0.1817 (avg)\u001b[0m │\n",
       "│                                        │\n",
       "╰────────────────────────────────────────╯\n"
      ]
     },
     "metadata": {},
     "output_type": "display_data"
    },
    {
     "data": {
      "text/html": [
       "<pre style=\"white-space:pre;overflow-x:auto;line-height:normal;font-family:Menlo,'DejaVu Sans Mono',consolas,'Courier New',monospace\">Uploading results to Opik <span style=\"color: #808000; text-decoration-color: #808000\">...</span> \n",
       "</pre>\n"
      ],
      "text/plain": [
       "Uploading results to Opik \u001b[33m...\u001b[0m \n"
      ]
     },
     "metadata": {},
     "output_type": "display_data"
    },
    {
     "data": {
      "text/html": [
       "<pre style=\"white-space:pre;overflow-x:auto;line-height:normal;font-family:Menlo,'DejaVu Sans Mono',consolas,'Courier New',monospace\">View the results <a href=\"https://www.comet.com/opik/api/v1/session/redirect/experiments/?experiment_id=0196f291-90a7-70b3-84b4-82752740d2c3&dataset_id=0196e38c-066d-7e62-b8f6-ed97eb63387e&path=aHR0cHM6Ly93d3cuY29tZXQuY29tL29waWsvYXBpLw==\" target=\"_blank\">in your Opik dashboard</a>.\n",
       "</pre>\n"
      ],
      "text/plain": [
       "View the results \u001b]8;id=855662;https://www.comet.com/opik/api/v1/session/redirect/experiments/?experiment_id=0196f291-90a7-70b3-84b4-82752740d2c3&dataset_id=0196e38c-066d-7e62-b8f6-ed97eb63387e&path=aHR0cHM6Ly93d3cuY29tZXQuY29tL29waWsvYXBpLw==\u001b\\in your Opik dashboard\u001b]8;;\u001b\\.\n"
      ]
     },
     "metadata": {},
     "output_type": "display_data"
    },
    {
     "name": "stderr",
     "output_type": "stream",
     "text": [
      "/usr/local/lib/python3.11/dist-packages/optuna/_experimental.py:31: ExperimentalWarning: Argument ``multivariate`` is an experimental feature. The interface can change in the future.\n",
      "  warnings.warn(\n"
     ]
    },
    {
     "name": "stdout",
     "output_type": "stream",
     "text": [
      "Default program score: 0.18171699527603824\n",
      "\n",
      "===== Trial 2 / 7 =====\n",
      "Average Metric: 16.46 / 40 (41.2%): 100%|██████████| 40/40 [00:04<00:00,  8.21it/s]"
     ]
    },
    {
     "name": "stderr",
     "output_type": "stream",
     "text": [
      "2025/05/21 11:19:19 INFO dspy.evaluate.evaluate: Average Metric: 16.46102389893207 / 40 (41.2%)\n"
     ]
    },
    {
     "name": "stdout",
     "output_type": "stream",
     "text": [
      "\n",
      "\u001b[92mBest full score so far!\u001b[0m Score: 41.15\n",
      "Score: 41.15 with parameters ['Predictor 0: Instruction 1', 'Predictor 0: Few-Shot Set 1'].\n",
      "Scores so far: [0.18171699527603824, 41.15]\n",
      "Best score so far: 41.15\n",
      "=======================\n",
      "\n",
      "\n",
      "===== Trial 3 / 7 =====\n",
      "Average Metric: 18.58 / 40 (46.4%): 100%|██████████| 40/40 [00:03<00:00, 10.33it/s]"
     ]
    },
    {
     "name": "stderr",
     "output_type": "stream",
     "text": [
      "2025/05/21 11:19:23 INFO dspy.evaluate.evaluate: Average Metric: 18.575322945728395 / 40 (46.4%)\n"
     ]
    },
    {
     "name": "stdout",
     "output_type": "stream",
     "text": [
      "\n",
      "\u001b[92mBest full score so far!\u001b[0m Score: 46.44\n",
      "Score: 46.44 with parameters ['Predictor 0: Instruction 2', 'Predictor 0: Few-Shot Set 1'].\n",
      "Scores so far: [0.18171699527603824, 41.15, 46.44]\n",
      "Best score so far: 46.44\n",
      "=======================\n",
      "\n",
      "\n",
      "===== Trial 4 / 7 =====\n",
      "Average Metric: 15.97 / 40 (39.9%): 100%|██████████| 40/40 [00:04<00:00,  8.43it/s]"
     ]
    },
    {
     "name": "stderr",
     "output_type": "stream",
     "text": [
      "2025/05/21 11:19:28 INFO dspy.evaluate.evaluate: Average Metric: 15.973919635863194 / 40 (39.9%)\n"
     ]
    },
    {
     "name": "stdout",
     "output_type": "stream",
     "text": [
      "\n",
      "Score: 39.93 with parameters ['Predictor 0: Instruction 4', 'Predictor 0: Few-Shot Set 1'].\n",
      "Scores so far: [0.18171699527603824, 41.15, 46.44, 39.93]\n",
      "Best score so far: 46.44\n",
      "=======================\n",
      "\n",
      "\n",
      "===== Trial 5 / 7 =====\n",
      "Average Metric: 18.58 / 40 (46.4%): 100%|██████████| 40/40 [00:02<00:00, 13.46it/s]"
     ]
    },
    {
     "name": "stderr",
     "output_type": "stream",
     "text": [
      "2025/05/21 11:19:31 INFO dspy.evaluate.evaluate: Average Metric: 18.575322945728395 / 40 (46.4%)\n"
     ]
    },
    {
     "name": "stdout",
     "output_type": "stream",
     "text": [
      "\n",
      "Score: 46.44 with parameters ['Predictor 0: Instruction 2', 'Predictor 0: Few-Shot Set 1'].\n",
      "Scores so far: [0.18171699527603824, 41.15, 46.44, 39.93, 46.44]\n",
      "Best score so far: 46.44\n",
      "=======================\n",
      "\n",
      "\n",
      "===== Trial 6 / 7 =====\n",
      "Average Metric: 13.58 / 40 (34.0%): 100%|██████████| 40/40 [00:05<00:00,  7.16it/s]"
     ]
    },
    {
     "name": "stderr",
     "output_type": "stream",
     "text": [
      "2025/05/21 11:19:37 INFO dspy.evaluate.evaluate: Average Metric: 13.581850027896825 / 40 (34.0%)\n"
     ]
    },
    {
     "name": "stdout",
     "output_type": "stream",
     "text": [
      "\n",
      "Score: 33.95 with parameters ['Predictor 0: Instruction 4', 'Predictor 0: Few-Shot Set 3'].\n",
      "Scores so far: [0.18171699527603824, 41.15, 46.44, 39.93, 46.44, 33.95]\n",
      "Best score so far: 46.44\n",
      "=======================\n",
      "\n",
      "\n",
      "===== Trial 7 / 7 =====\n",
      "Average Metric: 17.88 / 40 (44.7%): 100%|██████████| 40/40 [00:04<00:00,  9.74it/s]"
     ]
    },
    {
     "name": "stderr",
     "output_type": "stream",
     "text": [
      "2025/05/21 11:19:41 INFO dspy.evaluate.evaluate: Average Metric: 17.881227593903542 / 40 (44.7%)\n"
     ]
    },
    {
     "name": "stdout",
     "output_type": "stream",
     "text": [
      "\n",
      "Score: 44.7 with parameters ['Predictor 0: Instruction 0', 'Predictor 0: Few-Shot Set 1'].\n",
      "Scores so far: [0.18171699527603824, 41.15, 46.44, 39.93, 46.44, 33.95, 44.7]\n",
      "Best score so far: 46.44\n",
      "=======================\n",
      "\n",
      "\n",
      "===== Trial 8 / 7 =====\n",
      "Average Metric: 15.50 / 40 (38.8%): 100%|██████████| 40/40 [00:04<00:00,  8.18it/s]"
     ]
    },
    {
     "name": "stderr",
     "output_type": "stream",
     "text": [
      "2025/05/21 11:19:46 INFO dspy.evaluate.evaluate: Average Metric: 15.504488205943364 / 40 (38.8%)\n"
     ]
    },
    {
     "name": "stdout",
     "output_type": "stream",
     "text": [
      "\n",
      "Score: 38.76 with parameters ['Predictor 0: Instruction 4', 'Predictor 0: Few-Shot Set 4'].\n",
      "Scores so far: [0.18171699527603824, 41.15, 46.44, 39.93, 46.44, 33.95, 44.7, 38.76]\n",
      "Best score so far: 46.44\n",
      "=======================\n",
      "\n",
      "\n",
      "Returning best identified program with score 46.44!\n"
     ]
    }
   ],
   "source": [
    "result3 = optimizer.optimize_prompt(\n",
    "    dataset=opik_dataset,\n",
    "    metric_config=metric_config,\n",
    "    task_config=task_config,\n",
    "    n_samples=50,\n",
    "    auto=\"light\",\n",
    ")"
   ]
  },
  {
   "cell_type": "code",
   "execution_count": 26,
   "metadata": {
    "colab": {
     "base_uri": "https://localhost:8080/",
     "height": 321
    },
    "id": "qB57A11JkSAS",
    "outputId": "26287708-9a48-4d84-c279-01265d4950ff"
   },
   "outputs": [
    {
     "data": {
      "text/html": [
       "<pre style=\"white-space:pre;overflow-x:auto;line-height:normal;font-family:Menlo,'DejaVu Sans Mono',consolas,'Courier New',monospace\"><span style=\"color: #808000; text-decoration-color: #808000\">╔═════════════════════════════════════════════ </span><span style=\"color: #808000; text-decoration-color: #808000; font-weight: bold\">Optimization Complete</span><span style=\"color: #808000; text-decoration-color: #808000\"> ═════════════════════════════════════════════╗</span>\n",
       "<span style=\"color: #808000; text-decoration-color: #808000\">║</span>                                                                                                                 <span style=\"color: #808000; text-decoration-color: #808000\">║</span>\n",
       "<span style=\"color: #808000; text-decoration-color: #808000\">║</span> <span style=\"color: #7f7f7f; text-decoration-color: #7f7f7f\">Optimizer:         </span><span style=\"font-weight: bold\">MiproOptimizer</span>                                                                               <span style=\"color: #808000; text-decoration-color: #808000\">║</span>\n",
       "<span style=\"color: #808000; text-decoration-color: #808000\">║</span> <span style=\"color: #7f7f7f; text-decoration-color: #7f7f7f\">Model Used:        N/A</span> (<span style=\"color: #7f7f7f; text-decoration-color: #7f7f7f\">Temp:</span> <span style=\"color: #7f7f7f; text-decoration-color: #7f7f7f\">N/A</span>)                                                                              <span style=\"color: #808000; text-decoration-color: #808000\">║</span>\n",
       "<span style=\"color: #808000; text-decoration-color: #808000\">║</span> <span style=\"color: #7f7f7f; text-decoration-color: #7f7f7f\">Metric Evaluated:  </span><span style=\"font-weight: bold\">levenshtein_ratio_metric</span>                                                                     <span style=\"color: #808000; text-decoration-color: #808000\">║</span>\n",
       "<span style=\"color: #808000; text-decoration-color: #808000\">║</span> <span style=\"color: #7f7f7f; text-decoration-color: #7f7f7f\">Initial Score:     N/A</span>                                                                                          <span style=\"color: #808000; text-decoration-color: #808000\">║</span>\n",
       "<span style=\"color: #808000; text-decoration-color: #808000\">║</span> <span style=\"color: #7f7f7f; text-decoration-color: #7f7f7f\">Final Best Score:  </span><span style=\"color: #008080; text-decoration-color: #008080; font-weight: bold\">46.4400</span>                                                                                      <span style=\"color: #808000; text-decoration-color: #808000\">║</span>\n",
       "<span style=\"color: #808000; text-decoration-color: #808000\">║</span> <span style=\"color: #7f7f7f; text-decoration-color: #7f7f7f\">Total Improvement: N/A (no initial score)</span>                                                                       <span style=\"color: #808000; text-decoration-color: #808000\">║</span>\n",
       "<span style=\"color: #808000; text-decoration-color: #808000\">║</span> <span style=\"color: #7f7f7f; text-decoration-color: #7f7f7f\">Rounds Completed:  </span>0                                                                                            <span style=\"color: #808000; text-decoration-color: #808000\">║</span>\n",
       "<span style=\"color: #808000; text-decoration-color: #808000\">║</span> <span style=\"color: #7f7f7f; text-decoration-color: #7f7f7f\">Stopped Early:     </span>N/A                                                                                          <span style=\"color: #808000; text-decoration-color: #808000\">║</span>\n",
       "<span style=\"color: #808000; text-decoration-color: #808000\">║</span>                                                                                                                 <span style=\"color: #808000; text-decoration-color: #808000\">║</span>\n",
       "<span style=\"color: #808000; text-decoration-color: #808000\">║</span>                                                                                                                 <span style=\"color: #808000; text-decoration-color: #808000\">║</span>\n",
       "<span style=\"color: #808000; text-decoration-color: #808000\">║</span> <span style=\"color: #000080; text-decoration-color: #000080\">╭─────────────────────────────────── </span><span style=\"color: #000080; text-decoration-color: #000080; font-weight: bold\">Final Optimized Prompt (Instruction)</span><span style=\"color: #000080; text-decoration-color: #000080\"> ────────────────────────────────────╮</span> <span style=\"color: #808000; text-decoration-color: #808000\">║</span>\n",
       "<span style=\"color: #808000; text-decoration-color: #808000\">║</span> <span style=\"color: #000080; text-decoration-color: #000080\">│</span>                                                                                                             <span style=\"color: #000080; text-decoration-color: #000080\">│</span> <span style=\"color: #808000; text-decoration-color: #808000\">║</span>\n",
       "<span style=\"color: #808000; text-decoration-color: #808000\">║</span> <span style=\"color: #000080; text-decoration-color: #000080\">│</span>  Please provide a concise and informative answer to the following question based on the dataset:            <span style=\"color: #000080; text-decoration-color: #000080\">│</span> <span style=\"color: #808000; text-decoration-color: #808000\">║</span>\n",
       "<span style=\"color: #808000; text-decoration-color: #808000\">║</span> <span style=\"color: #000080; text-decoration-color: #000080\">│</span>                                                                                                             <span style=\"color: #000080; text-decoration-color: #000080\">│</span> <span style=\"color: #808000; text-decoration-color: #808000\">║</span>\n",
       "<span style=\"color: #808000; text-decoration-color: #808000\">║</span> <span style=\"color: #000080; text-decoration-color: #000080\">╰─────────────────────────────────────────────────────────────────────────────────────────────────────────────╯</span> <span style=\"color: #808000; text-decoration-color: #808000\">║</span>\n",
       "<span style=\"color: #808000; text-decoration-color: #808000\">║</span>                                                                                                                 <span style=\"color: #808000; text-decoration-color: #808000\">║</span>\n",
       "<span style=\"color: #808000; text-decoration-color: #808000\">╚═════════════════════════════════════════════════════════════════════════════════════════════════════════════════╝</span>\n",
       "</pre>\n"
      ],
      "text/plain": [
       "\u001b[33m╔═\u001b[0m\u001b[33m════════════════════════════════════════════\u001b[0m\u001b[33m \u001b[0m\u001b[1;33mOptimization Complete\u001b[0m\u001b[33m \u001b[0m\u001b[33m════════════════════════════════════════════\u001b[0m\u001b[33m═╗\u001b[0m\n",
       "\u001b[33m║\u001b[0m                                                                                                                 \u001b[33m║\u001b[0m\n",
       "\u001b[33m║\u001b[0m \u001b[2mOptimizer:        \u001b[0m\u001b[2m \u001b[0m\u001b[1mMiproOptimizer\u001b[0m                                                                               \u001b[33m║\u001b[0m\n",
       "\u001b[33m║\u001b[0m \u001b[2mModel Used:       \u001b[0m\u001b[2m \u001b[0m\u001b[2mN/A\u001b[0m (\u001b[2mTemp:\u001b[0m \u001b[2mN/A\u001b[0m)                                                                              \u001b[33m║\u001b[0m\n",
       "\u001b[33m║\u001b[0m \u001b[2mMetric Evaluated: \u001b[0m\u001b[2m \u001b[0m\u001b[1mlevenshtein_ratio_metric\u001b[0m                                                                     \u001b[33m║\u001b[0m\n",
       "\u001b[33m║\u001b[0m \u001b[2mInitial Score:    \u001b[0m\u001b[2m \u001b[0m\u001b[2mN/A\u001b[0m                                                                                          \u001b[33m║\u001b[0m\n",
       "\u001b[33m║\u001b[0m \u001b[2mFinal Best Score: \u001b[0m\u001b[2m \u001b[0m\u001b[1;36m46.4400\u001b[0m                                                                                      \u001b[33m║\u001b[0m\n",
       "\u001b[33m║\u001b[0m \u001b[2mTotal Improvement:\u001b[0m\u001b[2m \u001b[0m\u001b[2mN/A (no initial score)\u001b[0m                                                                       \u001b[33m║\u001b[0m\n",
       "\u001b[33m║\u001b[0m \u001b[2mRounds Completed: \u001b[0m\u001b[2m \u001b[0m0                                                                                            \u001b[33m║\u001b[0m\n",
       "\u001b[33m║\u001b[0m \u001b[2mStopped Early:    \u001b[0m\u001b[2m \u001b[0mN/A                                                                                          \u001b[33m║\u001b[0m\n",
       "\u001b[33m║\u001b[0m                                                                                                                 \u001b[33m║\u001b[0m\n",
       "\u001b[33m║\u001b[0m                                                                                                                 \u001b[33m║\u001b[0m\n",
       "\u001b[33m║\u001b[0m \u001b[34m╭─\u001b[0m\u001b[34m──────────────────────────────────\u001b[0m\u001b[34m \u001b[0m\u001b[1;34mFinal Optimized Prompt (Instruction)\u001b[0m\u001b[34m \u001b[0m\u001b[34m───────────────────────────────────\u001b[0m\u001b[34m─╮\u001b[0m \u001b[33m║\u001b[0m\n",
       "\u001b[33m║\u001b[0m \u001b[34m│\u001b[0m                                                                                                             \u001b[34m│\u001b[0m \u001b[33m║\u001b[0m\n",
       "\u001b[33m║\u001b[0m \u001b[34m│\u001b[0m  Please provide a concise and informative answer to the following question based on the dataset:            \u001b[34m│\u001b[0m \u001b[33m║\u001b[0m\n",
       "\u001b[33m║\u001b[0m \u001b[34m│\u001b[0m                                                                                                             \u001b[34m│\u001b[0m \u001b[33m║\u001b[0m\n",
       "\u001b[33m║\u001b[0m \u001b[34m╰─────────────────────────────────────────────────────────────────────────────────────────────────────────────╯\u001b[0m \u001b[33m║\u001b[0m\n",
       "\u001b[33m║\u001b[0m                                                                                                                 \u001b[33m║\u001b[0m\n",
       "\u001b[33m╚═════════════════════════════════════════════════════════════════════════════════════════════════════════════════╝\u001b[0m\n"
      ]
     },
     "metadata": {},
     "output_type": "display_data"
    }
   ],
   "source": [
    "result3.display()"
   ]
  },
  {
   "cell_type": "code",
   "execution_count": 27,
   "metadata": {
    "colab": {
     "base_uri": "https://localhost:8080/"
    },
    "id": "MlUMj1syDYEz",
    "outputId": "4cadfbef-5c77-49d1-9744-7e87d721f6ac"
   },
   "outputs": [
    {
     "data": {
      "text/plain": [
       "[{'id': '0196e38c-0741-7f35-aa01-535dd7ea5412',\n",
       "  'question': 'What is the middle name of the player acquired by the Phoenix Suns from the from the New Jersey Nets during the offseason in 2001-02?',\n",
       "  'answer': 'Xavier',\n",
       "  'dspy_uuid': '1d41d06e-edbd-40bc-a6da-1a9374e2a1b4',\n",
       "  'dspy_split': 'train'},\n",
       " {'id': '0196e38c-06a9-7254-aa0c-db3abd0bf3a4',\n",
       "  'question': 'What caused the plane crash that killed Annette Snell?',\n",
       "  'answer': 'hail damage and losing thrust on both engines',\n",
       "  'dspy_uuid': 'a35dc8c5-cff7-4a93-b61e-3b92ec6d4b7a',\n",
       "  'dspy_split': 'train'},\n",
       " {'id': '0196e38c-0727-79de-91af-4cb15f7e00fc',\n",
       "  'question': 'How are Angostura bitters and Smoking Bishop similar?',\n",
       "  'answer': 'alcoholic mixture',\n",
       "  'dspy_uuid': '8c070d54-4da7-474e-9ab9-18c913a13558',\n",
       "  'dspy_split': 'train'},\n",
       " {'id': '0196e38c-06c9-71fe-a883-810bdddd0a2b',\n",
       "  'question': 'Who wrote the memoir from which the 2014 British biographical romantic drama starring English actor  Vincenzo Leonardo \"Enzo\" Cilenti was adapted?',\n",
       "  'answer': 'Jane Wilde Hawking',\n",
       "  'dspy_uuid': 'b423e7f2-3d8f-402b-95ef-bc00075ec4b7',\n",
       "  'dspy_split': 'train'}]"
      ]
     },
     "execution_count": 27,
     "metadata": {},
     "output_type": "execute_result"
    }
   ],
   "source": [
    "result3.demonstrations"
   ]
  },
  {
   "cell_type": "markdown",
   "metadata": {
    "id": "1finqE4pmOND"
   },
   "source": [
    "### Agent with Tools\n",
    "\n",
    "Now we'll try with tools. This will allow multi-prompt optimization."
   ]
  },
  {
   "cell_type": "markdown",
   "metadata": {
    "id": "pnojJsGMEocF"
   },
   "source": [
    "First, we need a tool. We'll use this one from DSPy:"
   ]
  },
  {
   "cell_type": "code",
   "execution_count": 28,
   "metadata": {
    "id": "0JoJKDAITusm"
   },
   "outputs": [],
   "source": [
    "# Tools:\n",
    "import dspy\n",
    "\n",
    "def search_wikipedia(query: str) -> list[str]:\n",
    "    \"\"\"\n",
    "    This agent is used to search wikipedia. It can retrieve additional details\n",
    "    about a topic.\n",
    "    \"\"\"\n",
    "    results = dspy.ColBERTv2(url=\"http://20.102.90.50:2017/wiki17_abstracts\")(\n",
    "        query, k=3\n",
    "    )\n",
    "    return [x[\"text\"] for x in results]"
   ]
  },
  {
   "cell_type": "markdown",
   "metadata": {
    "id": "u5v4pbcJEvEe"
   },
   "source": [
    "Let's test it out on a subject:"
   ]
  },
  {
   "cell_type": "code",
   "execution_count": 29,
   "metadata": {
    "colab": {
     "base_uri": "https://localhost:8080/"
    },
    "id": "kfuWKvEbT1BW",
    "outputId": "14d8deaf-408d-4a2e-dd8a-fc0f71fba092"
   },
   "outputs": [
    {
     "data": {
      "text/plain": [
       "['Developmental robotics | Developmental robotics (DevRob), sometimes called epigenetic robotics, is a scientific field which aims at studying the developmental mechanisms, architectures and constraints that allow lifelong and open-ended learning of new skills and new knowledge in embodied machines. As in human children, learning is expected to be cumulative and of progressively increasing complexity, and to result from self-exploration of the world in combination with social interaction. The typical methodological approach consists in starting from theories of human and animal development elaborated in fields such as developmental psychology, neuroscience, developmental and evolutionary biology, and linguistics, then to formalize and implement them in robots, sometimes exploring extensions or variants of them. The experimentation of those models in robots allows researchers to confront them with reality, and as a consequence developmental robotics also provides feedback and novel hypotheses on theories of human and animal development.',\n",
       " 'Evolutionary developmental robotics | Evolutionary developmental robotics (evo-devo-robo for short) refers to methodologies that systematically integrate evolutionary robotics, epigenetic robotics and morphogenetic robotics to study the evolution, physical and mental development and learning of natural intelligent systems in robotic systems. The field was formally suggested and fully discussed in a published paper and further discussed in a published dialogue.',\n",
       " 'Paladyn | Paladyn, \"Journal of Behavioral Robotics\", is a peer-reviewed scientific journal focussing on approaches to robotics that draw on analogies between autonomous robotics and embodied cognition, cognitive development, and the emergence of cognition and communication from social behavior. It is an electronic-only journal that publishes research on topics broadly related to neuronally and psychologically inspired robots and other behaving autonomous systems, including cognitive robotics, developmental robotics, evolutionary robotics, artificial embodied agents, self-organizing robot swarms, robot learning and adaptation, human–robot interaction, and neurally-inspired robot vision. It is published by Versita and the editor-in-chief is Gregor Schöner (Ruhr University Bochum).']"
      ]
     },
     "execution_count": 29,
     "metadata": {},
     "output_type": "execute_result"
    }
   ],
   "source": [
    "search_wikipedia(\"Developmental Robotics\")"
   ]
  },
  {
   "cell_type": "markdown",
   "metadata": {
    "id": "RYuUA68JEzd8"
   },
   "source": [
    "And it is easy to add the tools to the config. Let's go!"
   ]
  },
  {
   "cell_type": "code",
   "execution_count": 30,
   "metadata": {
    "colab": {
     "base_uri": "https://localhost:8080/",
     "height": 1000,
     "referenced_widgets": [
     ]
    },
    "id": "puUovlhHkFOi",
    "outputId": "d46b2268-d468-4953-ba2b-62a7130925cf"
   },
   "outputs": [
    {
     "name": "stdout",
     "output_type": "stream",
     "text": [
      "\n",
      "RUNNING WITH THE FOLLOWING LIGHT AUTO RUN SETTINGS:\n",
      "num_trials: 7\n",
      "minibatch: False\n",
      "num_candidates: 3\n",
      "valset size: 40\n",
      "\n",
      "\n",
      "==> STEP 1: BOOTSTRAP FEWSHOT EXAMPLES <==\n",
      "These will be used as few-shot example candidates for our program and for creating instructions.\n",
      "\n",
      "Bootstrapping N=3 sets of demonstrations...\n",
      "Bootstrapping set 1/3\n",
      "Bootstrapping set 2/3\n",
      "Bootstrapping set 3/3\n"
     ]
    },
    {
     "name": "stderr",
     "output_type": "stream",
     "text": [
      " 40%|████      | 4/10 [00:35<00:53,  8.85s/it]\n"
     ]
    },
    {
     "name": "stdout",
     "output_type": "stream",
     "text": [
      "Bootstrapped 4 full traces after 4 examples for up to 1 rounds, amounting to 4 attempts.\n",
      "\n",
      "==> STEP 2: PROPOSE INSTRUCTION CANDIDATES <==\n",
      "We will use the few-shot examples from the previous step, a generated dataset summary, a summary of the program code, and a randomly selected prompting tip to propose instructions.\n",
      "\n",
      "Proposing instructions...\n",
      "\n",
      "Proposed Instructions for Predictor 0:\n",
      "\n",
      "0: Provide an answer to the question\n",
      "\n",
      "You are an Agent. In each episode, you will be given the fields `question` as input. And you can see your past trajectory so far.\n",
      "Your goal is to use one or more of the supplied tools to collect any necessary information for producing `answer`.\n",
      "\n",
      "To do this, you will interleave next_thought, next_tool_name, and next_tool_args in each turn, and also when finishing the task.\n",
      "After each tool call, you receive a resulting observation, which gets appended to your trajectory.\n",
      "\n",
      "When writing next_thought, you may reason about the current situation and plan for future steps.\n",
      "When selecting the next_tool_name and its next_tool_args, the tool must be one of:\n",
      "\n",
      "(1) search_wikipedia, whose description is <desc>      This agent is used to search wikipedia. It can retrieve additional details      about a topic.      </desc>. It takes arguments {'query': {'type': 'string'}} in JSON format.\n",
      "(2) finish, whose description is <desc>Marks the task as complete. That is, signals that all information for producing the outputs, i.e. `answer`, are now available to be extracted.</desc>. It takes arguments {} in JSON format.\n",
      "\n",
      "1: As an agent, your task is to provide a detailed answer to the given question based on the trajectory of your previous reasoning and actions. Begin by analyzing the question and determining what additional information you need. Use the `search_wikipedia` tool to gather relevant data, and ensure to document each step of your thought process as you navigate through the task. When you believe you have sufficient information, use the `finish` tool to conclude the task and prepare your final answer.\n",
      "\n",
      "2: As an Agent, your task is to answer the question provided in the `question` field by utilizing the `trajectory` of past actions. You will do this by generating a `next_thought` that outlines your reasoning and planning. Then, select the appropriate tool to gather additional information, specifying the `next_tool_name` (either `search_wikipedia` or `finish`) and the necessary `next_tool_args`. Continue this iterative process until you have enough information to provide a definitive answer, at which point you will signal completion with the `finish` tool.\n",
      "\n",
      "\n",
      "\n",
      "Proposed Instructions for Predictor 1:\n",
      "\n",
      "0: Provide an answer to the question\n",
      "\n",
      "1: As an Agent, your task is to provide a detailed answer to the given question based on the inputs provided. You will receive a `question` and a `trajectory`, which is a record of previous thoughts and actions relevant to the task. Your approach should involve step-by-step reasoning to gather necessary information using the designated tools, such as searching Wikipedia. After processing the information, you will determine if you have enough data to conclude the task. If so, indicate that you are ready to finish and provide the final answer. Ensure that your reasoning is clear, logical, and directly addresses the question asked.\n",
      "\n",
      "2: Utilize the `Predict` module to synthesize reasoning and generate a clear answer to the provided question based on the trajectory of thoughts and observations gathered during the information retrieval process. Ensure that the final output is coherent and reflects the insights derived from previous interactions, effectively addressing the user's query.\n",
      "\n",
      "\n",
      "\n",
      "==> STEP 3: FINDING OPTIMAL PROMPT PARAMETERS <==\n",
      "We will evaluate the program over a series of trials with different combinations of instructions and few-shot examples to find the optimal combination using Bayesian Optimization.\n",
      "\n",
      "== Trial 1 / 7 - Full Evaluation of Default Program ==\n"
     ]
    },
    {
     "data": {
      "application/vnd.jupyter.widget-view+json": {
       "model_id": "fe0b0e2f5cc5484da12ba8cc093b0f26",
       "version_major": 2,
       "version_minor": 0
      },
      "text/plain": [
       "Evaluation:   0%|          | 0/40 [00:00<?, ?it/s]"
      ]
     },
     "metadata": {},
     "output_type": "display_data"
    },
    {
     "data": {
      "text/html": [
       "<pre style=\"white-space:pre;overflow-x:auto;line-height:normal;font-family:Menlo,'DejaVu Sans Mono',consolas,'Courier New',monospace\">╭─ hotpot-300 (40 samples) ──────────────╮\n",
       "│                                        │\n",
       "│ <span style=\"font-weight: bold\">Total time:       </span> 00:00:30            │\n",
       "│ <span style=\"font-weight: bold\">Number of samples:</span> 40                  │\n",
       "│                                        │\n",
       "│ <span style=\"color: #008000; text-decoration-color: #008000; font-weight: bold\">levenshtein_ratio_metric: 0.4786 (avg)</span> │\n",
       "│                                        │\n",
       "╰────────────────────────────────────────╯\n",
       "</pre>\n"
      ],
      "text/plain": [
       "╭─ hotpot-300 (40 samples) ──────────────╮\n",
       "│                                        │\n",
       "│ \u001b[1mTotal time:       \u001b[0m 00:00:30            │\n",
       "│ \u001b[1mNumber of samples:\u001b[0m 40                  │\n",
       "│                                        │\n",
       "│ \u001b[1;32mlevenshtein_ratio_metric: 0.4786 (avg)\u001b[0m │\n",
       "│                                        │\n",
       "╰────────────────────────────────────────╯\n"
      ]
     },
     "metadata": {},
     "output_type": "display_data"
    },
    {
     "data": {
      "text/html": [
       "<pre style=\"white-space:pre;overflow-x:auto;line-height:normal;font-family:Menlo,'DejaVu Sans Mono',consolas,'Courier New',monospace\">Uploading results to Opik <span style=\"color: #808000; text-decoration-color: #808000\">...</span> \n",
       "</pre>\n"
      ],
      "text/plain": [
       "Uploading results to Opik \u001b[33m...\u001b[0m \n"
      ]
     },
     "metadata": {},
     "output_type": "display_data"
    },
    {
     "data": {
      "text/html": [
       "<pre style=\"white-space:pre;overflow-x:auto;line-height:normal;font-family:Menlo,'DejaVu Sans Mono',consolas,'Courier New',monospace\">View the results <a href=\"https://www.comet.com/opik/api/v1/session/redirect/experiments/?experiment_id=0196f294-5d47-7f8a-a24f-c19638de00ac&dataset_id=0196e38c-066d-7e62-b8f6-ed97eb63387e&path=aHR0cHM6Ly93d3cuY29tZXQuY29tL29waWsvYXBpLw==\" target=\"_blank\">in your Opik dashboard</a>.\n",
       "</pre>\n"
      ],
      "text/plain": [
       "View the results \u001b]8;id=790170;https://www.comet.com/opik/api/v1/session/redirect/experiments/?experiment_id=0196f294-5d47-7f8a-a24f-c19638de00ac&dataset_id=0196e38c-066d-7e62-b8f6-ed97eb63387e&path=aHR0cHM6Ly93d3cuY29tZXQuY29tL29waWsvYXBpLw==\u001b\\in your Opik dashboard\u001b]8;;\u001b\\.\n"
      ]
     },
     "metadata": {},
     "output_type": "display_data"
    },
    {
     "name": "stdout",
     "output_type": "stream",
     "text": [
      "Default program score: 0.4785990375253764\n",
      "\n",
      "===== Trial 2 / 7 =====\n",
      "Average Metric: 28.51 / 40 (71.3%): 100%|██████████| 40/40 [00:28<00:00,  1.40it/s]"
     ]
    },
    {
     "name": "stderr",
     "output_type": "stream",
     "text": [
      "2025/05/21 11:23:12 INFO dspy.evaluate.evaluate: Average Metric: 28.50597392213681 / 40 (71.3%)\n"
     ]
    },
    {
     "name": "stdout",
     "output_type": "stream",
     "text": [
      "\n",
      "\u001b[92mBest full score so far!\u001b[0m Score: 71.26\n",
      "Score: 71.26 with parameters ['Predictor 0: Instruction 1', 'Predictor 0: Few-Shot Set 2', 'Predictor 1: Instruction 0', 'Predictor 1: Few-Shot Set 2'].\n",
      "Scores so far: [0.4785990375253764, 71.26]\n",
      "Best score so far: 71.26\n",
      "=======================\n",
      "\n",
      "\n",
      "===== Trial 3 / 7 =====\n",
      "Average Metric: 24.36 / 40 (60.9%): 100%|██████████| 40/40 [00:18<00:00,  2.17it/s]"
     ]
    },
    {
     "name": "stderr",
     "output_type": "stream",
     "text": [
      "2025/05/21 11:23:30 INFO dspy.evaluate.evaluate: Average Metric: 24.36136385007554 / 40 (60.9%)\n"
     ]
    },
    {
     "name": "stdout",
     "output_type": "stream",
     "text": [
      "\n",
      "Score: 60.9 with parameters ['Predictor 0: Instruction 0', 'Predictor 0: Few-Shot Set 1', 'Predictor 1: Instruction 1', 'Predictor 1: Few-Shot Set 1'].\n",
      "Scores so far: [0.4785990375253764, 71.26, 60.9]\n",
      "Best score so far: 71.26\n",
      "=======================\n",
      "\n",
      "\n",
      "===== Trial 4 / 7 =====\n",
      "Average Metric: 27.99 / 40 (70.0%): 100%|██████████| 40/40 [00:26<00:00,  1.49it/s]"
     ]
    },
    {
     "name": "stderr",
     "output_type": "stream",
     "text": [
      "2025/05/21 11:23:57 INFO dspy.evaluate.evaluate: Average Metric: 27.98605855619604 / 40 (70.0%)\n"
     ]
    },
    {
     "name": "stdout",
     "output_type": "stream",
     "text": [
      "\n",
      "Score: 69.97 with parameters ['Predictor 0: Instruction 2', 'Predictor 0: Few-Shot Set 2', 'Predictor 1: Instruction 2', 'Predictor 1: Few-Shot Set 2'].\n",
      "Scores so far: [0.4785990375253764, 71.26, 60.9, 69.97]\n",
      "Best score so far: 71.26\n",
      "=======================\n",
      "\n",
      "\n",
      "===== Trial 5 / 7 =====\n",
      "Average Metric: 27.22 / 40 (68.1%): 100%|██████████| 40/40 [00:19<00:00,  2.10it/s]"
     ]
    },
    {
     "name": "stderr",
     "output_type": "stream",
     "text": [
      "2025/05/21 11:24:16 INFO dspy.evaluate.evaluate: Average Metric: 27.220601250656543 / 40 (68.1%)\n"
     ]
    },
    {
     "name": "stdout",
     "output_type": "stream",
     "text": [
      "\n",
      "Score: 68.05 with parameters ['Predictor 0: Instruction 0', 'Predictor 0: Few-Shot Set 1', 'Predictor 1: Instruction 2', 'Predictor 1: Few-Shot Set 2'].\n",
      "Scores so far: [0.4785990375253764, 71.26, 60.9, 69.97, 68.05]\n",
      "Best score so far: 71.26\n",
      "=======================\n",
      "\n",
      "\n",
      "===== Trial 6 / 7 =====\n",
      "Average Metric: 27.22 / 40 (68.1%): 100%|██████████| 40/40 [00:15<00:00,  2.50it/s]"
     ]
    },
    {
     "name": "stderr",
     "output_type": "stream",
     "text": [
      "2025/05/21 11:24:32 INFO dspy.evaluate.evaluate: Average Metric: 27.220601250656543 / 40 (68.1%)\n"
     ]
    },
    {
     "name": "stdout",
     "output_type": "stream",
     "text": [
      "\n",
      "Score: 68.05 with parameters ['Predictor 0: Instruction 0', 'Predictor 0: Few-Shot Set 0', 'Predictor 1: Instruction 2', 'Predictor 1: Few-Shot Set 2'].\n",
      "Scores so far: [0.4785990375253764, 71.26, 60.9, 69.97, 68.05, 68.05]\n",
      "Best score so far: 71.26\n",
      "=======================\n",
      "\n",
      "\n",
      "===== Trial 7 / 7 =====\n",
      "Average Metric: 28.31 / 40 (70.8%): 100%|██████████| 40/40 [00:33<00:00,  1.19it/s]"
     ]
    },
    {
     "name": "stderr",
     "output_type": "stream",
     "text": [
      "2025/05/21 11:25:06 INFO dspy.evaluate.evaluate: Average Metric: 28.311463605257856 / 40 (70.8%)\n"
     ]
    },
    {
     "name": "stdout",
     "output_type": "stream",
     "text": [
      "\n",
      "Score: 70.78 with parameters ['Predictor 0: Instruction 2', 'Predictor 0: Few-Shot Set 1', 'Predictor 1: Instruction 0', 'Predictor 1: Few-Shot Set 1'].\n",
      "Scores so far: [0.4785990375253764, 71.26, 60.9, 69.97, 68.05, 68.05, 70.78]\n",
      "Best score so far: 71.26\n",
      "=======================\n",
      "\n",
      "\n",
      "===== Trial 8 / 7 =====\n",
      "Average Metric: 27.47 / 40 (68.7%): 100%|██████████| 40/40 [00:20<00:00,  1.91it/s]"
     ]
    },
    {
     "name": "stderr",
     "output_type": "stream",
     "text": [
      "2025/05/21 11:25:27 INFO dspy.evaluate.evaluate: Average Metric: 27.467889654492318 / 40 (68.7%)\n"
     ]
    },
    {
     "name": "stdout",
     "output_type": "stream",
     "text": [
      "\n",
      "Score: 68.67 with parameters ['Predictor 0: Instruction 2', 'Predictor 0: Few-Shot Set 0', 'Predictor 1: Instruction 2', 'Predictor 1: Few-Shot Set 2'].\n",
      "Scores so far: [0.4785990375253764, 71.26, 60.9, 69.97, 68.05, 68.05, 70.78, 68.67]\n",
      "Best score so far: 71.26\n",
      "=======================\n",
      "\n",
      "\n",
      "Returning best identified program with score 71.26!\n"
     ]
    }
   ],
   "source": [
    "task_config.tools = [search_wikipedia]\n",
    "\n",
    "result4 = optimizer.optimize_prompt(\n",
    "    dataset=opik_dataset,\n",
    "    metric_config=metric_config,\n",
    "    task_config=task_config,\n",
    "    n_samples=50,\n",
    "    auto=\"light\",\n",
    ")"
   ]
  },
  {
   "cell_type": "code",
   "execution_count": 31,
   "metadata": {
    "colab": {
     "base_uri": "https://localhost:8080/",
     "height": 385
    },
    "id": "ymJPBGJE4AOd",
    "outputId": "151e9701-572d-4cf3-cfe0-cff5d8f5b281"
   },
   "outputs": [
    {
     "data": {
      "text/html": [
       "<pre style=\"white-space:pre;overflow-x:auto;line-height:normal;font-family:Menlo,'DejaVu Sans Mono',consolas,'Courier New',monospace\"><span style=\"color: #808000; text-decoration-color: #808000\">╔═════════════════════════════════════════════ </span><span style=\"color: #808000; text-decoration-color: #808000; font-weight: bold\">Optimization Complete</span><span style=\"color: #808000; text-decoration-color: #808000\"> ═════════════════════════════════════════════╗</span>\n",
       "<span style=\"color: #808000; text-decoration-color: #808000\">║</span>                                                                                                                 <span style=\"color: #808000; text-decoration-color: #808000\">║</span>\n",
       "<span style=\"color: #808000; text-decoration-color: #808000\">║</span> <span style=\"color: #7f7f7f; text-decoration-color: #7f7f7f\">Optimizer:         </span><span style=\"font-weight: bold\">MiproOptimizer</span>                                                                               <span style=\"color: #808000; text-decoration-color: #808000\">║</span>\n",
       "<span style=\"color: #808000; text-decoration-color: #808000\">║</span> <span style=\"color: #7f7f7f; text-decoration-color: #7f7f7f\">Model Used:        N/A</span> (<span style=\"color: #7f7f7f; text-decoration-color: #7f7f7f\">Temp:</span> <span style=\"color: #7f7f7f; text-decoration-color: #7f7f7f\">N/A</span>)                                                                              <span style=\"color: #808000; text-decoration-color: #808000\">║</span>\n",
       "<span style=\"color: #808000; text-decoration-color: #808000\">║</span> <span style=\"color: #7f7f7f; text-decoration-color: #7f7f7f\">Metric Evaluated:  </span><span style=\"font-weight: bold\">levenshtein_ratio_metric</span>                                                                     <span style=\"color: #808000; text-decoration-color: #808000\">║</span>\n",
       "<span style=\"color: #808000; text-decoration-color: #808000\">║</span> <span style=\"color: #7f7f7f; text-decoration-color: #7f7f7f\">Initial Score:     N/A</span>                                                                                          <span style=\"color: #808000; text-decoration-color: #808000\">║</span>\n",
       "<span style=\"color: #808000; text-decoration-color: #808000\">║</span> <span style=\"color: #7f7f7f; text-decoration-color: #7f7f7f\">Final Best Score:  </span><span style=\"color: #008080; text-decoration-color: #008080; font-weight: bold\">71.2600</span>                                                                                      <span style=\"color: #808000; text-decoration-color: #808000\">║</span>\n",
       "<span style=\"color: #808000; text-decoration-color: #808000\">║</span> <span style=\"color: #7f7f7f; text-decoration-color: #7f7f7f\">Total Improvement: N/A (no initial score)</span>                                                                       <span style=\"color: #808000; text-decoration-color: #808000\">║</span>\n",
       "<span style=\"color: #808000; text-decoration-color: #808000\">║</span> <span style=\"color: #7f7f7f; text-decoration-color: #7f7f7f\">Rounds Completed:  </span>0                                                                                            <span style=\"color: #808000; text-decoration-color: #808000\">║</span>\n",
       "<span style=\"color: #808000; text-decoration-color: #808000\">║</span> <span style=\"color: #7f7f7f; text-decoration-color: #7f7f7f\">Stopped Early:     </span>N/A                                                                                          <span style=\"color: #808000; text-decoration-color: #808000\">║</span>\n",
       "<span style=\"color: #808000; text-decoration-color: #808000\">║</span>                                                                                                                 <span style=\"color: #808000; text-decoration-color: #808000\">║</span>\n",
       "<span style=\"color: #808000; text-decoration-color: #808000\">║</span>                                                                                                                 <span style=\"color: #808000; text-decoration-color: #808000\">║</span>\n",
       "<span style=\"color: #808000; text-decoration-color: #808000\">║</span> <span style=\"color: #000080; text-decoration-color: #000080\">╭─────────────────────────────────── </span><span style=\"color: #000080; text-decoration-color: #000080; font-weight: bold\">Final Optimized Prompt (Instruction)</span><span style=\"color: #000080; text-decoration-color: #000080\"> ────────────────────────────────────╮</span> <span style=\"color: #808000; text-decoration-color: #808000\">║</span>\n",
       "<span style=\"color: #808000; text-decoration-color: #808000\">║</span> <span style=\"color: #000080; text-decoration-color: #000080\">│</span>                                                                                                             <span style=\"color: #000080; text-decoration-color: #000080\">│</span> <span style=\"color: #808000; text-decoration-color: #808000\">║</span>\n",
       "<span style=\"color: #808000; text-decoration-color: #808000\">║</span> <span style=\"color: #000080; text-decoration-color: #000080\">│</span>  As an agent, your task is to provide a detailed answer to the given question based on the trajectory of    <span style=\"color: #000080; text-decoration-color: #000080\">│</span> <span style=\"color: #808000; text-decoration-color: #808000\">║</span>\n",
       "<span style=\"color: #808000; text-decoration-color: #808000\">║</span> <span style=\"color: #000080; text-decoration-color: #000080\">│</span>  your previous reasoning and actions. Begin by analyzing the question and determining what additional       <span style=\"color: #000080; text-decoration-color: #000080\">│</span> <span style=\"color: #808000; text-decoration-color: #808000\">║</span>\n",
       "<span style=\"color: #808000; text-decoration-color: #808000\">║</span> <span style=\"color: #000080; text-decoration-color: #000080\">│</span>  information you need. Use the `search_wikipedia` tool to gather relevant data, and ensure to document      <span style=\"color: #000080; text-decoration-color: #000080\">│</span> <span style=\"color: #808000; text-decoration-color: #808000\">║</span>\n",
       "<span style=\"color: #808000; text-decoration-color: #808000\">║</span> <span style=\"color: #000080; text-decoration-color: #000080\">│</span>  each step of your thought process as you navigate through the task. When you believe you have sufficient   <span style=\"color: #000080; text-decoration-color: #000080\">│</span> <span style=\"color: #808000; text-decoration-color: #808000\">║</span>\n",
       "<span style=\"color: #808000; text-decoration-color: #808000\">║</span> <span style=\"color: #000080; text-decoration-color: #000080\">│</span>  information, use the `finish` tool to conclude the task and prepare your final answer.                     <span style=\"color: #000080; text-decoration-color: #000080\">│</span> <span style=\"color: #808000; text-decoration-color: #808000\">║</span>\n",
       "<span style=\"color: #808000; text-decoration-color: #808000\">║</span> <span style=\"color: #000080; text-decoration-color: #000080\">│</span>                                                                                                             <span style=\"color: #000080; text-decoration-color: #000080\">│</span> <span style=\"color: #808000; text-decoration-color: #808000\">║</span>\n",
       "<span style=\"color: #808000; text-decoration-color: #808000\">║</span> <span style=\"color: #000080; text-decoration-color: #000080\">╰─────────────────────────────────────────────────────────────────────────────────────────────────────────────╯</span> <span style=\"color: #808000; text-decoration-color: #808000\">║</span>\n",
       "<span style=\"color: #808000; text-decoration-color: #808000\">║</span>                                                                                                                 <span style=\"color: #808000; text-decoration-color: #808000\">║</span>\n",
       "<span style=\"color: #808000; text-decoration-color: #808000\">╚═════════════════════════════════════════════════════════════════════════════════════════════════════════════════╝</span>\n",
       "</pre>\n"
      ],
      "text/plain": [
       "\u001b[33m╔═\u001b[0m\u001b[33m════════════════════════════════════════════\u001b[0m\u001b[33m \u001b[0m\u001b[1;33mOptimization Complete\u001b[0m\u001b[33m \u001b[0m\u001b[33m════════════════════════════════════════════\u001b[0m\u001b[33m═╗\u001b[0m\n",
       "\u001b[33m║\u001b[0m                                                                                                                 \u001b[33m║\u001b[0m\n",
       "\u001b[33m║\u001b[0m \u001b[2mOptimizer:        \u001b[0m\u001b[2m \u001b[0m\u001b[1mMiproOptimizer\u001b[0m                                                                               \u001b[33m║\u001b[0m\n",
       "\u001b[33m║\u001b[0m \u001b[2mModel Used:       \u001b[0m\u001b[2m \u001b[0m\u001b[2mN/A\u001b[0m (\u001b[2mTemp:\u001b[0m \u001b[2mN/A\u001b[0m)                                                                              \u001b[33m║\u001b[0m\n",
       "\u001b[33m║\u001b[0m \u001b[2mMetric Evaluated: \u001b[0m\u001b[2m \u001b[0m\u001b[1mlevenshtein_ratio_metric\u001b[0m                                                                     \u001b[33m║\u001b[0m\n",
       "\u001b[33m║\u001b[0m \u001b[2mInitial Score:    \u001b[0m\u001b[2m \u001b[0m\u001b[2mN/A\u001b[0m                                                                                          \u001b[33m║\u001b[0m\n",
       "\u001b[33m║\u001b[0m \u001b[2mFinal Best Score: \u001b[0m\u001b[2m \u001b[0m\u001b[1;36m71.2600\u001b[0m                                                                                      \u001b[33m║\u001b[0m\n",
       "\u001b[33m║\u001b[0m \u001b[2mTotal Improvement:\u001b[0m\u001b[2m \u001b[0m\u001b[2mN/A (no initial score)\u001b[0m                                                                       \u001b[33m║\u001b[0m\n",
       "\u001b[33m║\u001b[0m \u001b[2mRounds Completed: \u001b[0m\u001b[2m \u001b[0m0                                                                                            \u001b[33m║\u001b[0m\n",
       "\u001b[33m║\u001b[0m \u001b[2mStopped Early:    \u001b[0m\u001b[2m \u001b[0mN/A                                                                                          \u001b[33m║\u001b[0m\n",
       "\u001b[33m║\u001b[0m                                                                                                                 \u001b[33m║\u001b[0m\n",
       "\u001b[33m║\u001b[0m                                                                                                                 \u001b[33m║\u001b[0m\n",
       "\u001b[33m║\u001b[0m \u001b[34m╭─\u001b[0m\u001b[34m──────────────────────────────────\u001b[0m\u001b[34m \u001b[0m\u001b[1;34mFinal Optimized Prompt (Instruction)\u001b[0m\u001b[34m \u001b[0m\u001b[34m───────────────────────────────────\u001b[0m\u001b[34m─╮\u001b[0m \u001b[33m║\u001b[0m\n",
       "\u001b[33m║\u001b[0m \u001b[34m│\u001b[0m                                                                                                             \u001b[34m│\u001b[0m \u001b[33m║\u001b[0m\n",
       "\u001b[33m║\u001b[0m \u001b[34m│\u001b[0m  As an agent, your task is to provide a detailed answer to the given question based on the trajectory of    \u001b[34m│\u001b[0m \u001b[33m║\u001b[0m\n",
       "\u001b[33m║\u001b[0m \u001b[34m│\u001b[0m  your previous reasoning and actions. Begin by analyzing the question and determining what additional       \u001b[34m│\u001b[0m \u001b[33m║\u001b[0m\n",
       "\u001b[33m║\u001b[0m \u001b[34m│\u001b[0m  information you need. Use the `search_wikipedia` tool to gather relevant data, and ensure to document      \u001b[34m│\u001b[0m \u001b[33m║\u001b[0m\n",
       "\u001b[33m║\u001b[0m \u001b[34m│\u001b[0m  each step of your thought process as you navigate through the task. When you believe you have sufficient   \u001b[34m│\u001b[0m \u001b[33m║\u001b[0m\n",
       "\u001b[33m║\u001b[0m \u001b[34m│\u001b[0m  information, use the `finish` tool to conclude the task and prepare your final answer.                     \u001b[34m│\u001b[0m \u001b[33m║\u001b[0m\n",
       "\u001b[33m║\u001b[0m \u001b[34m│\u001b[0m                                                                                                             \u001b[34m│\u001b[0m \u001b[33m║\u001b[0m\n",
       "\u001b[33m║\u001b[0m \u001b[34m╰─────────────────────────────────────────────────────────────────────────────────────────────────────────────╯\u001b[0m \u001b[33m║\u001b[0m\n",
       "\u001b[33m║\u001b[0m                                                                                                                 \u001b[33m║\u001b[0m\n",
       "\u001b[33m╚═════════════════════════════════════════════════════════════════════════════════════════════════════════════════╝\u001b[0m\n"
      ]
     },
     "metadata": {},
     "output_type": "display_data"
    }
   ],
   "source": [
    "result4.display()"
   ]
  },
  {
   "cell_type": "code",
   "execution_count": 32,
   "metadata": {
    "colab": {
     "base_uri": "https://localhost:8080/"
    },
    "id": "a2JE4hd7E9oF",
    "outputId": "2c3df8f0-418f-4003-e3cd-2dfba9162471"
   },
   "outputs": [
    {
     "data": {
      "text/plain": [
       "[{'augmented': True,\n",
       "  'question': 'Silvano Martina works for a reitred professional footballer who was part of what national team from 2002 to 2011?',\n",
       "  'trajectory': '',\n",
       "  'next_thought': 'I need to find out which national football team a retired professional footballer worked for from 2002 to 2011. This likely involves searching for information about Silvano Martina and the footballers he has worked with during that time period.',\n",
       "  'next_tool_name': 'search_wikipedia',\n",
       "  'next_tool_args': {'query': 'Silvano Martina retired professional footballer national team 2002 to 2011'}},\n",
       " {'augmented': True,\n",
       "  'question': 'In which island the  RCC Broadcasting Company broadcasts?',\n",
       "  'trajectory': '[[ ## thought_0 ## ]]\\nI need to find out where the RCC Broadcasting Company broadcasts. This information might be available on Wikipedia, so I will search for it there.\\n\\n[[ ## tool_name_0 ## ]]\\nsearch_wikipedia\\n\\n[[ ## tool_args_0 ## ]]\\n{\"query\": \"RCC Broadcasting Company\"}\\n\\n[[ ## observation_0 ## ]]\\n[1] «RCC Broadcasting | RCC Broadcasting Company (株式会社中国放送 \"Kabushiki Gaisha Chugoku Hoso\"; later name: RCC) is a Japanese broadcaster which serves the Hiroshima region.»\\n[2] «Radio Corporation of Singapore | Radio Corporation of Singapore (Abbreviation: RCS; Singapore Mandarin: 新加坡廣播電台機構 (Abbreviation: 新廣電); Malaysian: Perbadanan Radio Singapura; Indonesian: Perusahaan Radio Singapura) was a radio broadcasting service in the then-monopolised media industry. RCS existing from 1 October 1994 to 11 February 2001; predecessor of MediaCorp Radio successor of the radio broadcasting arm of the Singapore Broadcasting Corporation (SBC) was privatised on 1 October 1994 in Singapore into three individual companies, one of which was Television Corporation of Singapore (TCS) and Singapore Television Twelve (STV12). RCS subsequently underwent a group restructuring of subsidiaries by Singapore International Media (SIM Group of Companies) on 12 February 2001 to becoming MediaCorp Radio.»\\n[3] «RTCG | Radio and Television of Montenegro (Montenegrin: \"Radio i televizija Crne Gore\", Радио и телевизија Црне Горе - or RTCG, РТЦГ) is the public service broadcaster of Montenegro. A state-owned company with its headquarters in Podgorica, it is made up of Radio Montenegro (RCG - \"Radio Crne Gore\") and Montenegro Television (TVCG - \"Televizija Crne Gore\"). In July 2001, RTCG became a joint member of the European Broadcasting Union (EBU), and became a full member of the EBU upon the declaration of Montenegrin independence in 2006.»',\n",
       "  'next_thought': 'The search results indicate that the RCC Broadcasting Company serves the Hiroshima region, which suggests it broadcasts from an island in Japan. However, I need to confirm if it specifically broadcasts from an island or just the region. I will search for more detailed information about the RCC Broadcasting Company to clarify this.',\n",
       "  'next_tool_name': 'search_wikipedia',\n",
       "  'next_tool_args': {'query': 'RCC Broadcasting Company Hiroshima'}},\n",
       " {'augmented': True,\n",
       "  'question': 'What protagonist in the thirteenth season of \"South Park\" has an oft-muffled and indiscernible speech?',\n",
       "  'trajectory': '[[ ## thought_0 ## ]]\\nI need to find out which protagonist in the thirteenth season of \"South Park\" is known for having muffled and indiscernible speech. This might be a specific character that is well-known for this trait. I will search for information on the thirteenth season of \"South Park\" to identify the character.\\n\\n[[ ## tool_name_0 ## ]]\\nsearch_wikipedia\\n\\n[[ ## tool_args_0 ## ]]\\n{\"query\": \"South Park season 13 characters\"}\\n\\n[[ ## observation_0 ## ]]\\n[1] «South Park (season 13) | The thirteenth season of \"South Park\", an American animated television comedy series, originally aired in the United States on Comedy Central between March 11 and November 18, 2009. The season was headed by the series creators Trey Parker and Matt Stone, who served as executive producers along with Anne Garefino. The season continued to focus on the exploits of protagonists Stan, Kyle, Cartman, Kenny and Butters in the fictional Colorado mountain town of South Park.»\\n[2] «South Park (season 14) | The fourteenth season of the American animated television series \"South Park\" began airing in the United States on Comedy Central between March 17, 2010 and November 17, 2010. The season was headed by the series creators Trey Parker and Matt Stone, who served as executive producers along with Anne Garefino. The season continued to focus on the exploits of protagonists Stan, Kyle, Cartman and Kenny in the fictional Colorado mountain town of South Park.»\\n[3] «Randy and Sharon Marsh | Randy Marsh and Sharon Marsh (née Kimble) are fictional characters in the animated television series \"South Park\". They are the most prominent set of parents on the show and a middle-class married couple who raise their 10-year-old son Stan and 13-year-old daughter Shelly in the fictional town of South Park, Colorado. Their first names are derived from the first names of series co-creator Trey Parker\\'s parents, and Parker describes Randy as \"the biggest dingbat in the entire show\". According to the season 16 episode \"Reverse Cowgirl\", the Marsh home address is 260 Avenidas de los Mexicanos.»\\n\\n[[ ## thought_1 ## ]]\\nThe search results mention the main protagonists of \"South Park,\" but they do not specify which character has muffled and indiscernible speech. I know that Kenny McCormick is known for his speech being muffled due to his hood. I will confirm this by searching specifically for Kenny\\'s character traits in \"South Park.\"\\n\\n[[ ## tool_name_1 ## ]]\\nsearch_wikipedia\\n\\n[[ ## tool_args_1 ## ]]\\n{\"query\": \"Kenny McCormick character traits South Park\"}\\n\\n[[ ## observation_1 ## ]]\\n[1] «Kenny McCormick | Kenneth \"Kenny\" McCormick is a main character in the animated adult television series \"South Park\", along with his friends Stan Marsh, Kyle Broflovski, and Eric Cartman. His oft-muffled and indiscernible speech—the result of his parka hood covering his mouth—is provided by co-creator Matt Stone. He debuted on television when \"South Park\" first aired on August 13, 1997, after having first appeared in \"The Spirit of Christmas\" shorts created by Stone and long-time collaborator Trey Parker in 1992 (\"Jesus vs. Frosty\") and 1995 (\"Jesus vs. Santa\").»\\n[2] «List of South Park characters | \"South Park\" is an American animated television series created by Trey Parker and Matt Stone for the Comedy Central television network. The ongoing narrative revolves around four children, Stan Marsh, Kyle Broflovski, Eric Cartman and Kenny McCormick, and their bizarre adventures in and around the fictional and eponymous Colorado town. The town is also home to an assortment of characters who make frequent appearances in the show such as students and their family members, elementary school staff, and recurring characters.»\\n[3] «South Park | South Park is an American adult animated sitcom created by Trey Parker and Matt Stone and developed by Brian Graden for the Comedy Central television network. The show revolves around four boys—Stan Marsh, Kyle Broflovski, Eric Cartman, and Kenny McCormick—and their bizarre adventures in and around the titular Colorado town. Much like \"The Simpsons\", \"South Park\" uses a very large ensemble cast of recurring characters and became infamous for its profanity and dark, surreal humor that satirizes a wide range of topics towards a mature audience.»',\n",
       "  'next_thought': 'I have confirmed that Kenny McCormick is the protagonist in the thirteenth season of \"South Park\" known for his oft-muffled and indiscernible speech due to his parka hood. I can now provide the answer to the question.',\n",
       "  'next_tool_name': 'finish',\n",
       "  'next_tool_args': {}},\n",
       " {'augmented': True,\n",
       "  'question': 'When was the German heavy metal singer-songwriter born who  first two solo albums are contained in Earth Shaker Rock?',\n",
       "  'trajectory': '[[ ## thought_0 ## ]]\\nI need to find out the name of the German heavy metal singer-songwriter whose first two solo albums are included in \"Earth Shaker Rock.\" Once I have the name, I can look up their birth date.\\n\\n[[ ## tool_name_0 ## ]]\\nsearch_wikipedia\\n\\n[[ ## tool_args_0 ## ]]\\n{\"query\": \"Earth Shaker Rock German heavy metal singer-songwriter\"}\\n\\n[[ ## observation_0 ## ]]\\n[1] «Earth Shaker Rock | Earth Shaker Rock is a compilation album, containing songs of the German heavy metal band Warlock and songs coming from Warlock singer Doro Pesch\\'s first two solo albums. It is the last album issued under the Warlock moniker and was released on CD in 1999 by the British label Connoisseur Collection, specialized in compilation albums of various recording artists.»\\n[2] «The Day the Earth Shook – The Absolute Power | The Day the Earth Shook – The Absolute Power is a DVD from American Heavy metal band Manowar. They recorded their live performance at the Earthshaker Fest 2005 in Germany on July 23, 2005. The band played a selection of songs in accompaniment with the 50 member Bohuslav Martinů Philharmonic Orchestra. During the concert the band was joined on-stage by former Manowar members Ross \"The Boss\" Friedman, David Shankle, Donnie Hamzik and Kenny Earl \"Rhino\" Edwards.»\\n[3] «Earthshaker (band) | Earthshaker (アースシェイカー , a-susheikā ) is a Japanese heavy metal band that was formed in 1978 in Osaka. Their earlier music was very similar in style to countrymen Loudness and Anthem, but the band steered toward a poppier sound on later albums and dropped from worldwide view, preferring to record and tour in their home country. After a successful run, they broke up in 1994, but returned five years later and are still going strong today.»\\n\\n[[ ## thought_1 ## ]]\\nThe search results indicate that \"Earth Shaker Rock\" is a compilation album featuring songs from the German heavy metal band Warlock and its singer Doro Pesch\\'s first two solo albums. I need to find out more about Doro Pesch to determine her birth date.\\n\\n[[ ## tool_name_1 ## ]]\\nsearch_wikipedia\\n\\n[[ ## tool_args_1 ## ]]\\n{\"query\": \"Doro Pesch biography\"}\\n\\n[[ ## observation_1 ## ]]\\n[1] «Doro (musician) | Dorothee Pesch (born 3 June 1964), popularly known as Doro Pesch or Doro, is a German heavy metal singer-songwriter, formerly front-woman of the heavy metal band Warlock. The name Doro has also been associated with the touring band accompanying the singer, whose members have continuously changed in more than twenty years of uninterrupted activity, the most stable presences being those of bassist Nick Douglas and drummer Johnny Dee.»\\n[2] «Doro Pesch discography | Doro Pesch is a German hard rock singer that started her career in native Düsseldorf in the early 80s with the underground bands Snakebite and Beast. In 1982, she joined the German heavy metal band Warlock, which got its first contract with the Belgian independent label Mausoleum Records to record the album \"Burning the Witches\". The new band quickly entered the circuit of the most sought-after support bands in the European boiling panorama of metal live shows of the 80s, receiving enthusiastic reviews and gaining a solid fan base. Warlock soon stepped up to main attraction on European tours and their albums, issued under the Vertigo label, sold well in Germany and caught the attention of US promoters, who organized a tour in the United States. Their fourth album \"Triumph and Agony\" was produced in the US and entered the \"Billboard\" 200 chart, thanks also to the videos of the songs \"All We Are\" and \"Für Immer\" on rotation on MTV. By 1988, all German members of the band, except Doro, were replaced by American musicians and Warlock ceased to exist, because of legal problems about the rights on the name and logo.»\\n[3] «Doro (album) | Doro is the second solo album of the German female hard rock singer Doro Pesch. The album was released on 25 September 1990.»',\n",
       "  'next_thought': 'I have found that Doro Pesch, born on June 3, 1964, is the German heavy metal singer-songwriter associated with the compilation album \"Earth Shaker Rock.\" I now have enough information to answer the question.',\n",
       "  'next_tool_name': 'finish',\n",
       "  'next_tool_args': {}}]"
      ]
     },
     "execution_count": 32,
     "metadata": {},
     "output_type": "execute_result"
    }
   ],
   "source": [
    "result4.demonstrations"
   ]
  },
  {
   "cell_type": "markdown",
   "metadata": {
    "id": "J7bVb_Pp9TUb"
   },
   "source": [
    "## Using Optimized Prompts\n",
    "\n",
    "Recall:\n",
    "\n",
    "1. result1 - FewShotBayesianOptimizer\n",
    "2. result2 - MetaPromptOptimizer\n",
    "3. result3 - MiproOptimizer (no tools)\n",
    "4. result4 - MiproOptimizer (with search_wikipedia)\n",
    "\n",
    "How can we use the optimized results?\n",
    "\n",
    "For the first one, recall that the fewshot examples are here:"
   ]
  },
  {
   "cell_type": "code",
   "execution_count": 33,
   "metadata": {
    "colab": {
     "base_uri": "https://localhost:8080/"
    },
    "id": "B2wAB29G5V7Y",
    "outputId": "3a8029a2-85b9-42bd-d7fd-f74c65395788"
   },
   "outputs": [
    {
     "data": {
      "text/plain": [
       "[{'role': 'system',\n",
       "  'content': 'Provide an answer to the question\\n\\nYou are an intelligent assistant that learns from few-shot examples provided earlier in the conversation. Whenever you respond, carefully follow the structure, tone, and format of previous assistant replies, using them as a guide'},\n",
       " {'role': 'user',\n",
       "  'content': '\\n{\\n  \"question\": \"Which person has a country of origin in Persia, Al-Khazini or Mohamed Hassanein Heikal?\"\\n}\\n'},\n",
       " {'role': 'assistant', 'content': 'Abu al-Fath Khāzini'},\n",
       " {'role': 'user',\n",
       "  'content': '\\n{\\n  \"question\": \"What was the score of the National Football League (NFL)\\'s champion Green Bay Packers first overall Super Bowl victory since the Orange Bowl?\"\\n}\\n'},\n",
       " {'role': 'assistant', 'content': '35–21'},\n",
       " {'role': 'user',\n",
       "  'content': '\\n{\\n  \"question\": \" Willis W. Harman worked to foster research through an American non-profit research institute co-founded by what former astronaut?\"\\n}\\n'},\n",
       " {'role': 'assistant', 'content': 'Edgar Mitchell'},\n",
       " {'role': 'user',\n",
       "  'content': '\\n{\\n  \"question\": \"How densely populated is this state, where one of the last actions, Battle of Point Judith, took place, compared to other U.S. states?\"\\n}\\n'},\n",
       " {'role': 'assistant', 'content': 'second most densely populated'},\n",
       " {'role': 'user', 'content': '{\"question\": \"{{question}}\"}'}]"
      ]
     },
     "execution_count": 33,
     "metadata": {},
     "output_type": "execute_result"
    }
   ],
   "source": [
    "result1.details[\"chat_messages\"]"
   ]
  },
  {
   "cell_type": "markdown",
   "metadata": {
    "id": "6uWZEjWTFcpJ"
   },
   "source": [
    "So, once we have those we can do the following:"
   ]
  },
  {
   "cell_type": "code",
   "execution_count": 34,
   "metadata": {
    "id": "-wOD7oca9gjs"
   },
   "outputs": [],
   "source": [
    "from litellm.integrations.opik.opik import OpikLogger\n",
    "import litellm\n",
    "opik_logger = OpikLogger()\n",
    "litellm.callbacks = [opik_logger]\n",
    "\n",
    "def query(question, chat_messages):\n",
    "    messages = chat_messages[:-1] # Cut off the last one\n",
    "    # replace it with question in proper format:\n",
    "    messages.append({'role': 'user', 'content': '{\"question\": \"%s\"}\"}' % question})\n",
    "\n",
    "    response = litellm.completion(\n",
    "        model=\"gpt-4o-mini\",\n",
    "        temperature=0.1,\n",
    "        max_tokens=5000,\n",
    "        messages=messages,\n",
    "    )\n",
    "    return response.choices[0].message.content"
   ]
  },
  {
   "cell_type": "code",
   "execution_count": 35,
   "metadata": {
    "colab": {
     "base_uri": "https://localhost:8080/",
     "height": 35
    },
    "id": "2nu5Tqdl9wa8",
    "outputId": "6612a8a2-5ff5-419c-8396-0e5605edcf3a"
   },
   "outputs": [
    {
     "data": {
      "application/vnd.google.colaboratory.intrinsic+json": {
       "type": "string"
      },
      "text/plain": [
       "'April 20, 1966'"
      ]
     },
     "execution_count": 35,
     "metadata": {},
     "output_type": "execute_result"
    }
   ],
   "source": [
    "query(\"When was David Chalmers born?\", result1.details[\"chat_messages\"])"
   ]
  },
  {
   "cell_type": "code",
   "execution_count": 36,
   "metadata": {
    "colab": {
     "base_uri": "https://localhost:8080/",
     "height": 35
    },
    "id": "xI3mOXQ4_btf",
    "outputId": "9b9cc5c6-ee0e-425b-b029-7e53c527cfc9"
   },
   "outputs": [
    {
     "data": {
      "application/vnd.google.colaboratory.intrinsic+json": {
       "type": "string"
      },
      "text/plain": [
       "'A baby elephant typically weighs more than an SUV.'"
      ]
     },
     "execution_count": 36,
     "metadata": {},
     "output_type": "execute_result"
    }
   ],
   "source": [
    "query(\"What weighs more: a baby elephant or an SUV?\", result1.details[\"chat_messages\"])"
   ]
  },
  {
   "cell_type": "markdown",
   "metadata": {
    "id": "2x0JkiYhFsQq"
   },
   "source": [
    "If it says \"elephant\" that is not correct!\n",
    "\n",
    "Let's try that same question with a tool:"
   ]
  },
  {
   "cell_type": "code",
   "execution_count": 37,
   "metadata": {
    "colab": {
     "base_uri": "https://localhost:8080/",
     "height": 35
    },
    "id": "77JY1iG3ANCM",
    "outputId": "8d9527ac-6660-4911-e021-bf9fe71f7dfd"
   },
   "outputs": [
    {
     "data": {
      "application/vnd.google.colaboratory.intrinsic+json": {
       "type": "string"
      },
      "text/plain": [
       "'An SUV weighs more than a baby elephant.'"
      ]
     },
     "execution_count": 37,
     "metadata": {},
     "output_type": "execute_result"
    }
   ],
   "source": [
    "result = result4.details[\"program\"](question=\"What weighs more: a baby elephant or an SUV?\")\n",
    "result.answer"
   ]
  },
  {
   "cell_type": "markdown",
   "metadata": {
    "id": "1Zw5UhcCF3lm"
   },
   "source": [
    "Well done optimizer!\n",
    "\n",
    "We'll now head back to the slides to summarize the workshop."
   ]
  },
  {
   "cell_type": "markdown",
   "metadata": {
    "id": "uSDJ1bFx51kd"
   },
   "source": [
    "# Resources\n",
    "\n",
    "1. [Opik Optimizer Workshop Slides](https://bit.ly/opik-optimizer-dsblank-slides)"
   ]
  }
 ],
 "metadata": {
  "colab": {
   "provenance": []
  },
  "kernelspec": {
   "display_name": "Python 3 (ipykernel)",
   "language": "python",
   "name": "python3"
  },
  "language_info": {
   "codemirror_mode": {
    "name": "ipython",
    "version": 3
   },
   "file_extension": ".py",
   "mimetype": "text/x-python",
   "name": "python",
   "nbconvert_exporter": "python",
   "pygments_lexer": "ipython3",
   "version": "3.12.2"
  }
 },
 "nbformat": 4,
 "nbformat_minor": 4
}
